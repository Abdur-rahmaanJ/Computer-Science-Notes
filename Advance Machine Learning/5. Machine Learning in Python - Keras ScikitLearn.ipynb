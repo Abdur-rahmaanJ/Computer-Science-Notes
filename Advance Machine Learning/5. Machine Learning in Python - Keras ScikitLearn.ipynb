{
 "cells": [
  {
   "cell_type": "markdown",
   "metadata": {},
   "source": [
    "# Machine Learning in Python - Keras & Scikit-Learn"
   ]
  },
  {
   "cell_type": "code",
   "execution_count": null,
   "metadata": {
    "scrolled": true
   },
   "outputs": [],
   "source": [
    "import pandas as pd\n",
    "import numpy as np\n",
    "\n",
    "from IPython.display import display, HTML, Image\n",
    "from IPython.display import SVG\n",
    "\n",
    "import matplotlib.pyplot as plt\n",
    "%matplotlib inline\n",
    "plt.style.use('fivethirtyeight')\n",
    "\n",
    "from TAS_Python_Utilities import data_viz\n",
    "from TAS_Python_Utilities import visualize_tree\n",
    "\n",
    "from sklearn.tree import export_graphviz\n",
    "from sklearn import metrics\n",
    "from sklearn.model_selection import GridSearchCV\n",
    "from sklearn.model_selection import cross_val_score\n",
    "from sklearn.model_selection import train_test_split\n",
    "from sklearn import preprocessing \n",
    "\n",
    "from keras.models import Sequential\n",
    "from keras.layers import Dense, Activation, Merge, Dropout\n",
    "from keras.utils.np_utils import to_categorical\n",
    "from keras.utils.vis_utils import model_to_dot\n",
    "from keras.wrappers.scikit_learn import KerasClassifier\n",
    " "
   ]
  },
  {
   "cell_type": "markdown",
   "metadata": {},
   "source": [
    "## Dataset Pre-processing"
   ]
  },
  {
   "cell_type": "markdown",
   "metadata": {},
   "source": [
    "Read in a dataset"
   ]
  },
  {
   "cell_type": "code",
   "execution_count": null,
   "metadata": {
    "collapsed": true,
    "scrolled": false
   },
   "outputs": [],
   "source": [
    "abt = pd.read_csv(\"mnist_train_small.csv\", encoding = \"ISO-8859-1\")\n",
    "\n",
    "# Put all but the target variable into the descriptive features array\n",
    "X = abt[abt.columns.difference([\"value\"])]\n",
    "Y = abt[\"value\"]\n",
    "\n",
    "# Use a range scaling to scale all variables to between 0 and 1\n",
    "min_max_scaler = preprocessing.MinMaxScaler()\n",
    "cols = X.columns\n",
    "X = pd.DataFrame(min_max_scaler.fit_transform(X), columns = cols) # Watch out for putting back in columns here\n",
    "\n",
    "X_train_plus_valid, X_test, y_train_plus_valid, y_test = train_test_split(X, Y, random_state=0, test_size = 0.30, train_size = 0.7)\n",
    "X_train, X_valid, y_train, y_valid = train_test_split(X_train_plus_valid, y_train_plus_valid, random_state=0, test_size = 0.199/0.7, train_size = 0.5/0.7)\n",
    "\n",
    "# Convert the singl column label into a dummy coded label\n",
    "y_train_wide = to_categorical(np.asarray(y_train))\n",
    "y_train_plus_valid_wide = to_categorical(np.asarray(y_train_plus_valid))\n",
    "y_valid_wide = to_categorical(np.asarray(y_valid))"
   ]
  },
  {
   "cell_type": "markdown",
   "metadata": {},
   "source": [
    "## Model Tuning"
   ]
  },
  {
   "cell_type": "markdown",
   "metadata": {
    "collapsed": true
   },
   "source": [
    "Specfiy the structure of the neural network model and training parameters in a function"
   ]
  },
  {
   "cell_type": "code",
   "execution_count": null,
   "metadata": {
    "collapsed": true,
    "scrolled": false
   },
   "outputs": [],
   "source": [
    "# Function to create model, required for KerasClassifier\n",
    "def create_model(optimiser = \"rmsprop\", hidden_units = 512):\n",
    "    # create model\n",
    "    model = Sequential()\n",
    "    model.add(Dense(input_dim=784, units=hidden_units))\n",
    "    model.add(Activation(\"sigmoid\"))\n",
    "    model.add(Dense(units=10))\n",
    "    model.add(Activation(\"softmax\"))\n",
    "    # Compile model\n",
    "    model.compile(optimizer=optimiser,\n",
    "              loss='categorical_crossentropy',\n",
    "              metrics=['accuracy'])\n",
    "    return model\n"
   ]
  },
  {
   "cell_type": "markdown",
   "metadata": {},
   "source": [
    "Perform a grid search"
   ]
  },
  {
   "cell_type": "code",
   "execution_count": null,
   "metadata": {
    "scrolled": true
   },
   "outputs": [],
   "source": [
    "param_grid ={'optimiser': ['rmsprop', 'adam'], \\\n",
    "             'hidden_units':[100, 200, 300],\n",
    "#            'epochs': [20, 50, 100, 150], \\\n",
    "              'epochs': [4, 8], \\\n",
    "#             'batch_size': [8, 16, 32, 64]}\n",
    "             'batch_size': [8, 16]}\n",
    " \n",
    "model = KerasClassifier(build_fn=create_model, verbose=0)\n",
    "my_tuned_model = GridSearchCV(estimator=model, param_grid=param_grid, verbose = 2, cv = 2)\n",
    "my_tuned_model.fit(np.asfarray(X_train_plus_valid), np.asfarray(y_train_plus_valid))\n",
    "\n",
    "# summarize results\n",
    "print(\"Best: %f using %s\" % (my_tuned_model.best_score_, my_tuned_model.best_params_))\n",
    "means = my_tuned_model.cv_results_['mean_test_score']\n",
    "stds = my_tuned_model.cv_results_['std_test_score']\n",
    "params = my_tuned_model.cv_results_['params']\n",
    "for mean, stdev, param in zip(means, stds, params):\n",
    "    print(\"%f (%f) with: %r\" % (mean, stdev, param))\n",
    "    "
   ]
  },
  {
   "cell_type": "markdown",
   "metadata": {},
   "source": [
    "Draw the model"
   ]
  },
  {
   "cell_type": "code",
   "execution_count": null,
   "metadata": {
    "scrolled": false
   },
   "outputs": [],
   "source": [
    "SVG(model_to_dot(my_tuned_model).create(prog='dot', format='svg'))"
   ]
  },
  {
   "cell_type": "markdown",
   "metadata": {},
   "source": [
    "Evaluate the model on a test dataset"
   ]
  },
  {
   "cell_type": "code",
   "execution_count": null,
   "metadata": {
    "collapsed": true,
    "scrolled": true
   },
   "outputs": [],
   "source": [
    "print(\"****** Test Data ********\")\n",
    "\n",
    "# Make a set of predictions for the validation data\n",
    "y_pred = my_tuned_model.predict(np.asfarray(X_test))\n",
    "\n",
    "# Print performance details\n",
    "print(metrics.classification_report(y_test, y_pred))\n",
    "\n",
    "# Print confusion matrix\n",
    "print(\"Confusion Matrix\")\n",
    "display(pd.crosstab(y_test, y_pred, rownames=['True'], colnames=['Predicted'], margins=True))"
   ]
  }
 ],
 "metadata": {
  "kernelspec": {
   "display_name": "Python 3",
   "language": "python",
   "name": "python3"
  },
  "language_info": {
   "codemirror_mode": {
    "name": "ipython",
    "version": 3
   },
   "file_extension": ".py",
   "mimetype": "text/x-python",
   "name": "python",
   "nbconvert_exporter": "python",
   "pygments_lexer": "ipython3",
   "version": "3.6.0"
  }
 },
 "nbformat": 4,
 "nbformat_minor": 1
}
