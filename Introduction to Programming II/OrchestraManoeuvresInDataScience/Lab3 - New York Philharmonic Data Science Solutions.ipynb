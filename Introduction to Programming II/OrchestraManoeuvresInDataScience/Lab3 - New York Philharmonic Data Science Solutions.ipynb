{
 "cells": [
  {
   "cell_type": "markdown",
   "metadata": {},
   "source": [
    "# COMP 10020 Introduction to Programming 2\n",
    "## Lab 4 (10th April, 2017)\n",
    "## New York Philharmonic Data Analysis"
   ]
  },
  {
   "cell_type": "markdown",
   "metadata": {},
   "source": [
    "The rise of popularrity of **data science** has led to data science techniques being applied in some unexpected places, and to the release of some very interesting datasets. There are very few areas in which data science techiques are not making a difference.\n",
    "\n",
    "One organisation that has released some very interesting datasets is the **New York Philharmonic Orchestra**. The Open Data at the New York Philharmonic project (http://archives.nyphil.org/index.php/open-data) makes data about performances and subscriptions at the New York Philharmonic stretching all the way back to its first performance in 1842. \n",
    "\n",
    "The goal of this assignment is to use data from the Philharmonic to answer questions about it's performances in recent years. \n",
    "\n",
    "<img src = \"files/NYPhil.jpg\" width = \"500\">"
   ]
  },
  {
   "cell_type": "markdown",
   "metadata": {},
   "source": [
    "### Question 1: Load Datasets"
   ]
  },
  {
   "cell_type": "markdown",
   "metadata": {},
   "source": [
    "Details of the performances by the New York Philharmonic orchestra are contained in the files **concerts.csv**, **works.csv**, and **soloists.csv**. Each row within **concerts.csv** describes a performance, using the followiung fields:\n",
    "\n",
    "* **ID**: The ID of the performance\n",
    "* **Event_Type**: The type of the performance\n",
    "* **Location**: The location of the performance\n",
    "* **Country**: The country where the performance was held\n",
    "* **Venue**: The venue of the performance\n",
    "* **Date**: The date of the performance, given as dd/mm/yyyy (e.g. 24/07/2014, 02/03/2012)\n",
    "* **Start_Time**: The time that the performance started given as hh:mm (e.g. 17:30, 11:00)\n",
    "* **End_Time**: The time that the performance ended given as hh:mm (e.g. 17:30, 11:00)\n",
    "* **Duration**: The duration of the concert\n",
    "\n",
    "Each row within **works.csv** contains details of the works performed in a particular performance, using the following fields:\n",
    "\n",
    "* **ID**: The ID of the performance (links to the data in the concerts.csv file)\n",
    "* **Orchestra**: The name of the orchestra that performed\n",
    "* **ComposerName**: The name of the composer(s) whose work was performed\n",
    "* **ConductorName**: The name of the conductor\n",
    "\n",
    "Each row within **soloists.csv** contains details of the soloist(s) that performed in a particular performance, using the following fields:\n",
    "\n",
    "* **ID**: The ID of the performance (links to the data in the concerts.csv file)\n",
    "* **Soloist_Rank**: The rank of the solist within in the perfomrance (e.g. 1st, 2nd, 3rd, ...)\n",
    "* **Soloist_Name**: The name of the soloist\n",
    "* **Soloist_Instrument**: The instrument the soloist played\n",
    "\n",
    "Load the three datasets (**concerts.csv**, **works.csv**, and **soloists.csv**) into pandas data frames: **concerts**, **works**, and **soloists**. Display the first five rows from each."
   ]
  },
  {
   "cell_type": "code",
   "execution_count": 86,
   "metadata": {},
   "outputs": [],
   "source": [
    "# Import useful packages for data science\n",
    "from IPython.display import display, HTML\n",
    "import pandas as pd\n",
    "import numpy as np\n",
    "import scipy\n",
    "import matplotlib.pyplot as plt\n",
    "%matplotlib inline  "
   ]
  },
  {
   "cell_type": "code",
   "execution_count": 106,
   "metadata": {},
   "outputs": [
    {
     "data": {
      "text/html": [
       "<div>\n",
       "<style scoped>\n",
       "    .dataframe tbody tr th:only-of-type {\n",
       "        vertical-align: middle;\n",
       "    }\n",
       "\n",
       "    .dataframe tbody tr th {\n",
       "        vertical-align: top;\n",
       "    }\n",
       "\n",
       "    .dataframe thead th {\n",
       "        text-align: right;\n",
       "    }\n",
       "</style>\n",
       "<table border=\"1\" class=\"dataframe\">\n",
       "  <thead>\n",
       "    <tr style=\"text-align: right;\">\n",
       "      <th></th>\n",
       "      <th>ID</th>\n",
       "      <th>Event_Type</th>\n",
       "      <th>Location</th>\n",
       "      <th>Country</th>\n",
       "      <th>Venue</th>\n",
       "      <th>Date</th>\n",
       "      <th>Start_Time</th>\n",
       "      <th>End_Time</th>\n",
       "      <th>Duration</th>\n",
       "    </tr>\n",
       "  </thead>\n",
       "  <tbody>\n",
       "    <tr>\n",
       "      <th>0</th>\n",
       "      <td>1</td>\n",
       "      <td>Non-Subscription</td>\n",
       "      <td>Manhattan</td>\n",
       "      <td>USA</td>\n",
       "      <td>Avery Fisher Hall</td>\n",
       "      <td>07/09/2011</td>\n",
       "      <td>19:30</td>\n",
       "      <td>23:05</td>\n",
       "      <td>215</td>\n",
       "    </tr>\n",
       "    <tr>\n",
       "      <th>1</th>\n",
       "      <td>2</td>\n",
       "      <td>Non-Subscription</td>\n",
       "      <td>Manhattan</td>\n",
       "      <td>USA</td>\n",
       "      <td>Avery Fisher Hall</td>\n",
       "      <td>08/09/2011</td>\n",
       "      <td>19:30</td>\n",
       "      <td>22:50</td>\n",
       "      <td>200</td>\n",
       "    </tr>\n",
       "    <tr>\n",
       "      <th>2</th>\n",
       "      <td>3</td>\n",
       "      <td>Insight Series</td>\n",
       "      <td>Manhattan</td>\n",
       "      <td>USA</td>\n",
       "      <td>The Stanley H. Kaplan Penthouse</td>\n",
       "      <td>09/09/2011</td>\n",
       "      <td>18:30</td>\n",
       "      <td>21:00</td>\n",
       "      <td>150</td>\n",
       "    </tr>\n",
       "    <tr>\n",
       "      <th>3</th>\n",
       "      <td>4</td>\n",
       "      <td>Special</td>\n",
       "      <td>Manhattan</td>\n",
       "      <td>USA</td>\n",
       "      <td>Avery Fisher Hall</td>\n",
       "      <td>10/09/2011</td>\n",
       "      <td>19:30</td>\n",
       "      <td>22:44</td>\n",
       "      <td>194</td>\n",
       "    </tr>\n",
       "    <tr>\n",
       "      <th>4</th>\n",
       "      <td>5</td>\n",
       "      <td>Parks</td>\n",
       "      <td>Manhattan</td>\n",
       "      <td>USA</td>\n",
       "      <td>Great Lawn</td>\n",
       "      <td>15/09/2011</td>\n",
       "      <td>20:00</td>\n",
       "      <td>23:47</td>\n",
       "      <td>227</td>\n",
       "    </tr>\n",
       "  </tbody>\n",
       "</table>\n",
       "</div>"
      ],
      "text/plain": [
       "   ID        Event_Type   Location Country                            Venue  \\\n",
       "0   1  Non-Subscription  Manhattan     USA                Avery Fisher Hall   \n",
       "1   2  Non-Subscription  Manhattan     USA                Avery Fisher Hall   \n",
       "2   3    Insight Series  Manhattan     USA  The Stanley H. Kaplan Penthouse   \n",
       "3   4           Special  Manhattan     USA                Avery Fisher Hall   \n",
       "4   5             Parks  Manhattan     USA                       Great Lawn   \n",
       "\n",
       "         Date Start_Time End_Time  Duration  \n",
       "0  07/09/2011      19:30    23:05       215  \n",
       "1  08/09/2011      19:30    22:50       200  \n",
       "2  09/09/2011      18:30    21:00       150  \n",
       "3  10/09/2011      19:30    22:44       194  \n",
       "4  15/09/2011      20:00    23:47       227  "
      ]
     },
     "metadata": {},
     "output_type": "display_data"
    },
    {
     "data": {
      "text/html": [
       "<div>\n",
       "<style scoped>\n",
       "    .dataframe tbody tr th:only-of-type {\n",
       "        vertical-align: middle;\n",
       "    }\n",
       "\n",
       "    .dataframe tbody tr th {\n",
       "        vertical-align: top;\n",
       "    }\n",
       "\n",
       "    .dataframe thead th {\n",
       "        text-align: right;\n",
       "    }\n",
       "</style>\n",
       "<table border=\"1\" class=\"dataframe\">\n",
       "  <thead>\n",
       "    <tr style=\"text-align: right;\">\n",
       "      <th></th>\n",
       "      <th>ID</th>\n",
       "      <th>Event_Type</th>\n",
       "      <th>Location</th>\n",
       "      <th>Country</th>\n",
       "      <th>Venue</th>\n",
       "      <th>Date</th>\n",
       "      <th>Start_Time</th>\n",
       "      <th>End_Time</th>\n",
       "      <th>Duration</th>\n",
       "    </tr>\n",
       "  </thead>\n",
       "  <tbody>\n",
       "    <tr>\n",
       "      <th>1007</th>\n",
       "      <td>1008</td>\n",
       "      <td>Off the Grid</td>\n",
       "      <td>Manhattan</td>\n",
       "      <td>USA</td>\n",
       "      <td>Angel Orensanz Foundation</td>\n",
       "      <td>15/03/2016</td>\n",
       "      <td>20:00</td>\n",
       "      <td>23:18</td>\n",
       "      <td>198</td>\n",
       "    </tr>\n",
       "    <tr>\n",
       "      <th>1008</th>\n",
       "      <td>1009</td>\n",
       "      <td>Subscription Season</td>\n",
       "      <td>Manhattan</td>\n",
       "      <td>USA</td>\n",
       "      <td>David Geffen Hall</td>\n",
       "      <td>17/03/2016</td>\n",
       "      <td>19:30</td>\n",
       "      <td>21:52</td>\n",
       "      <td>142</td>\n",
       "    </tr>\n",
       "    <tr>\n",
       "      <th>1009</th>\n",
       "      <td>1010</td>\n",
       "      <td>Subscription Season</td>\n",
       "      <td>Manhattan</td>\n",
       "      <td>USA</td>\n",
       "      <td>David Geffen Hall</td>\n",
       "      <td>18/03/2016</td>\n",
       "      <td>20:00</td>\n",
       "      <td>21:47</td>\n",
       "      <td>107</td>\n",
       "    </tr>\n",
       "    <tr>\n",
       "      <th>1010</th>\n",
       "      <td>1011</td>\n",
       "      <td>Subscription Season</td>\n",
       "      <td>Manhattan</td>\n",
       "      <td>USA</td>\n",
       "      <td>David Geffen Hall</td>\n",
       "      <td>19/03/2016</td>\n",
       "      <td>20:00</td>\n",
       "      <td>22:36</td>\n",
       "      <td>156</td>\n",
       "    </tr>\n",
       "    <tr>\n",
       "      <th>1011</th>\n",
       "      <td>1012</td>\n",
       "      <td>Young People's Concert</td>\n",
       "      <td>Manhattan</td>\n",
       "      <td>USA</td>\n",
       "      <td>David Geffen Hall</td>\n",
       "      <td>19/03/2016</td>\n",
       "      <td>14:00</td>\n",
       "      <td>16:49</td>\n",
       "      <td>169</td>\n",
       "    </tr>\n",
       "  </tbody>\n",
       "</table>\n",
       "</div>"
      ],
      "text/plain": [
       "        ID              Event_Type   Location Country  \\\n",
       "1007  1008            Off the Grid  Manhattan     USA   \n",
       "1008  1009     Subscription Season  Manhattan     USA   \n",
       "1009  1010     Subscription Season  Manhattan     USA   \n",
       "1010  1011     Subscription Season  Manhattan     USA   \n",
       "1011  1012  Young People's Concert  Manhattan     USA   \n",
       "\n",
       "                          Venue        Date Start_Time End_Time  Duration  \n",
       "1007  Angel Orensanz Foundation  15/03/2016      20:00    23:18       198  \n",
       "1008          David Geffen Hall  17/03/2016      19:30    21:52       142  \n",
       "1009          David Geffen Hall  18/03/2016      20:00    21:47       107  \n",
       "1010          David Geffen Hall  19/03/2016      20:00    22:36       156  \n",
       "1011          David Geffen Hall  19/03/2016      14:00    16:49       169  "
      ]
     },
     "metadata": {},
     "output_type": "display_data"
    }
   ],
   "source": [
    "# Load concerts.csv\n",
    "concerts = pd.read_csv('concerts.csv')\n",
    "display(concerts.head())\n",
    "display(concerts.tail())"
   ]
  },
  {
   "cell_type": "code",
   "execution_count": 107,
   "metadata": {},
   "outputs": [
    {
     "data": {
      "text/html": [
       "<div>\n",
       "<style scoped>\n",
       "    .dataframe tbody tr th:only-of-type {\n",
       "        vertical-align: middle;\n",
       "    }\n",
       "\n",
       "    .dataframe tbody tr th {\n",
       "        vertical-align: top;\n",
       "    }\n",
       "\n",
       "    .dataframe thead th {\n",
       "        text-align: right;\n",
       "    }\n",
       "</style>\n",
       "<table border=\"1\" class=\"dataframe\">\n",
       "  <thead>\n",
       "    <tr style=\"text-align: right;\">\n",
       "      <th></th>\n",
       "      <th>ID</th>\n",
       "      <th>Orchestra</th>\n",
       "      <th>ComposerName</th>\n",
       "      <th>ConductorName</th>\n",
       "    </tr>\n",
       "  </thead>\n",
       "  <tbody>\n",
       "    <tr>\n",
       "      <th>0</th>\n",
       "      <td>396</td>\n",
       "      <td>New York Philharmonic</td>\n",
       "      <td>Salonen, Esa-Pekka</td>\n",
       "      <td>Gilbert, Alan</td>\n",
       "    </tr>\n",
       "    <tr>\n",
       "      <th>1</th>\n",
       "      <td>295</td>\n",
       "      <td>New York Philharmonic</td>\n",
       "      <td>Sibelius, Jean</td>\n",
       "      <td>Gersen, Joshua</td>\n",
       "    </tr>\n",
       "    <tr>\n",
       "      <th>2</th>\n",
       "      <td>122</td>\n",
       "      <td>New York Philharmonic</td>\n",
       "      <td>Brahms, Johannes</td>\n",
       "      <td>Dohnanyi, Christoph von</td>\n",
       "    </tr>\n",
       "    <tr>\n",
       "      <th>3</th>\n",
       "      <td>874</td>\n",
       "      <td>New York Philharmonic</td>\n",
       "      <td>Debussy, Claude</td>\n",
       "      <td>Gilbert, Alan</td>\n",
       "    </tr>\n",
       "    <tr>\n",
       "      <th>4</th>\n",
       "      <td>755</td>\n",
       "      <td>New York Philharmonic</td>\n",
       "      <td>Ravel, Maurice</td>\n",
       "      <td>Gilbert, Alan</td>\n",
       "    </tr>\n",
       "  </tbody>\n",
       "</table>\n",
       "</div>"
      ],
      "text/plain": [
       "    ID              Orchestra        ComposerName            ConductorName\n",
       "0  396  New York Philharmonic  Salonen, Esa-Pekka            Gilbert, Alan\n",
       "1  295  New York Philharmonic      Sibelius, Jean           Gersen, Joshua\n",
       "2  122  New York Philharmonic    Brahms, Johannes  Dohnanyi, Christoph von\n",
       "3  874  New York Philharmonic     Debussy, Claude            Gilbert, Alan\n",
       "4  755  New York Philharmonic      Ravel, Maurice            Gilbert, Alan"
      ]
     },
     "execution_count": 107,
     "metadata": {},
     "output_type": "execute_result"
    }
   ],
   "source": [
    "# Load works.csv\n",
    "works = pd.read_csv('works.csv')\n",
    "works.head()"
   ]
  },
  {
   "cell_type": "code",
   "execution_count": 108,
   "metadata": {
    "scrolled": true
   },
   "outputs": [
    {
     "data": {
      "text/html": [
       "<div>\n",
       "<style scoped>\n",
       "    .dataframe tbody tr th:only-of-type {\n",
       "        vertical-align: middle;\n",
       "    }\n",
       "\n",
       "    .dataframe tbody tr th {\n",
       "        vertical-align: top;\n",
       "    }\n",
       "\n",
       "    .dataframe thead th {\n",
       "        text-align: right;\n",
       "    }\n",
       "</style>\n",
       "<table border=\"1\" class=\"dataframe\">\n",
       "  <thead>\n",
       "    <tr style=\"text-align: right;\">\n",
       "      <th></th>\n",
       "      <th>ID</th>\n",
       "      <th>Soloist_Rank</th>\n",
       "      <th>Soloist_Name</th>\n",
       "      <th>Soloist_Instrument</th>\n",
       "    </tr>\n",
       "  </thead>\n",
       "  <tbody>\n",
       "    <tr>\n",
       "      <th>0</th>\n",
       "      <td>921</td>\n",
       "      <td>2</td>\n",
       "      <td>Ward-Bergeman, Michael</td>\n",
       "      <td>Accordion</td>\n",
       "    </tr>\n",
       "    <tr>\n",
       "      <th>1</th>\n",
       "      <td>461</td>\n",
       "      <td>3</td>\n",
       "      <td>Jennings, John</td>\n",
       "      <td>Accoustic Bass</td>\n",
       "    </tr>\n",
       "    <tr>\n",
       "      <th>2</th>\n",
       "      <td>479</td>\n",
       "      <td>3</td>\n",
       "      <td>Jennings, John</td>\n",
       "      <td>Accoustic Bass</td>\n",
       "    </tr>\n",
       "    <tr>\n",
       "      <th>3</th>\n",
       "      <td>496</td>\n",
       "      <td>3</td>\n",
       "      <td>Jennings, John</td>\n",
       "      <td>Accoustic Bass</td>\n",
       "    </tr>\n",
       "    <tr>\n",
       "      <th>4</th>\n",
       "      <td>517</td>\n",
       "      <td>3</td>\n",
       "      <td>Jennings, John</td>\n",
       "      <td>Accoustic Bass</td>\n",
       "    </tr>\n",
       "  </tbody>\n",
       "</table>\n",
       "</div>"
      ],
      "text/plain": [
       "    ID  Soloist_Rank            Soloist_Name Soloist_Instrument\n",
       "0  921             2  Ward-Bergeman, Michael          Accordion\n",
       "1  461             3          Jennings, John     Accoustic Bass\n",
       "2  479             3          Jennings, John     Accoustic Bass\n",
       "3  496             3          Jennings, John     Accoustic Bass\n",
       "4  517             3          Jennings, John     Accoustic Bass"
      ]
     },
     "execution_count": 108,
     "metadata": {},
     "output_type": "execute_result"
    }
   ],
   "source": [
    "# Load soloists.csv\n",
    "soloists = pd.read_csv('soloists.csv')\n",
    "soloists.head()"
   ]
  },
  {
   "cell_type": "markdown",
   "metadata": {},
   "source": [
    "### Question 2: Simple Analysis\n",
    "\n",
    "Use simple data analysis to answer the following questions. "
   ]
  },
  {
   "cell_type": "markdown",
   "metadata": {},
   "source": [
    "**a)** Generate and print a table showing many times have works been performed by each composer in the dataset?"
   ]
  },
  {
   "cell_type": "code",
   "execution_count": 109,
   "metadata": {},
   "outputs": [
    {
     "name": "stdout",
     "output_type": "stream",
     "text": [
      "Tchaikovsky, Pyotr Ilyich                                 57\n",
      "Beethoven, Ludwig van                                     46\n",
      "Mozart, Wolfgang Amadeus                                  42\n",
      "Prokofiev, Sergei                                         41\n",
      "Ravel, Maurice                                            36\n",
      "Bernstein, Leonard                                        36\n",
      "Strauss, Richard                                          33\n",
      "Sibelius, Jean                                            25\n",
      "Dvorak, AntonÌ_n                                          24\n",
      "Stravinsky, Igor                                          23\n",
      "Gershwin, George                                          21\n",
      "Berlioz, Hector                                           19\n",
      "Respighi, Ottorino                                        19\n",
      "Brahms, Johannes                                          18\n",
      "Anthem,                                                   15\n",
      "Nielsen, Carl                                             14\n",
      "Bartok [BartÌ_k], BÌ©la                                   14\n",
      "Mahler, Gustav                                            13\n",
      "Sousa, John Philip                                        13\n",
      "Hamlisch, Marvin                                          12\n",
      "Musorgsky, Modest                                         11\n",
      "Salonen, Esa-Pekka                                        11\n",
      "Debussy, Claude                                           11\n",
      "Saint-Saens [Saint-SaÌÇns], Camille                       11\n",
      "Rota, Nino                                                11\n",
      "Shostakovich, Dmitri                                      11\n",
      "Barber, Samuel                                            11\n",
      "Lindberg, Magnus                                          11\n",
      "Copland, Aaron                                            11\n",
      "Schubert, Franz                                           10\n",
      "Rodgers, Richard                                           9\n",
      "Morricone, Ennio                                           9\n",
      "Stalling, Carl W.                                          8\n",
      "Grieg, Edvard                                              7\n",
      "Chabrier, Emmanuel                                         7\n",
      "Bruckner, Anton                                            7\n",
      "Strauss, Johann, II                                        7\n",
      "Rachmaninoff, Sergei                                       7\n",
      "Ligeti, GyÌ¦rgy                                            6\n",
      "Rouse, Christopher                                         6\n",
      "Traditional,                                               6\n",
      "Anderson, Leroy                                            6\n",
      "Offenbach, Jacques                                         6\n",
      "Britten, Benjamin                                          6\n",
      "Puccini, Giacomo                                           6\n",
      "Mostel, Raphael                                            5\n",
      "Sondheim, Stephen                                          5\n",
      "Franklyn, Milt                                             5\n",
      "Mendelssohn, Felix                                         4\n",
      "Carey, Mariah                                              4\n",
      "Stein, Andy                                                4\n",
      "Haydn, Franz Joseph                                        4\n",
      "Elgar, Sir Edward                                          4\n",
      "Ades [AdÌ¬s], Thomas                                       4\n",
      "Verdi, Giuseppe                                            4\n",
      "Rimsky-Korsakov, Nikolai                                   4\n",
      "Rankin, Rimari                                             3\n",
      "Bach, Johann Sebastian                                     3\n",
      "Marsalis, Wynton                                           3\n",
      "Harris, Gavin                                              3\n",
      "Bacalov, Luis Enrique                                      3\n",
      "Bizet, Georges                                             3\n",
      "Lalo, Edouard                                              3\n",
      "Kern, Jerome                                               3\n",
      "Chaplin, Charles                                           3\n",
      "Gruber, HK                                                 3\n",
      "Yanov-Yanovsky, Dmitri                                     3\n",
      "Paunio, Pyry                                               3\n",
      "Bloch, Ernest                                              3\n",
      "Villegas, Mondriana                                        3\n",
      "Schnittke, Alfred                                          2\n",
      "Lunsqui, Alexandre                                         2\n",
      "Neikrug, Marc                                              2\n",
      "Piovani, Nicola                                            2\n",
      "Falla, Manuel de                                           2\n",
      "Bliss, Philip                                              2\n",
      "Garcia, Jerry                                              2\n",
      "Vivaldi, Antonio                                           2\n",
      "Tobias, Charles                                            2\n",
      "VARIOUS,                                                   2\n",
      "Liu, Tianhua                                               2\n",
      "Rodine, Saevar                                             2\n",
      "Cipriani, Stelvio                                          2\n",
      "Glinka, Mikhail                                            2\n",
      "Franck, CÌ©sar                                             2\n",
      "Porter, Cole                                               2\n",
      "Igudesman, Aleksey                                         2\n",
      "Liszt, Franz                                               2\n",
      "Juarez, Demicis                                            2\n",
      "Egan, Elizabeth                                            2\n",
      "Faure [FaurÌ©], Gabriel-Urbain                             2\n",
      "Djawadi, Ramin                                             2\n",
      "Anderson, Julian                                           2\n",
      "Eotvos [EÌ¦tvÌ¦s], Peter                                   2\n",
      "Adolphe, Julia                                             2\n",
      "Wagner, Richard                                            2\n",
      "Menotti, Gian Carlo                                        2\n",
      "Khachaturian, Aram                                         2\n",
      "Dix, Brian                                                 2\n",
      "Van Heusen, Jimmy                                          2\n",
      "Kodaly [KodÌÁly], ZoltÌÁn                                  1\n",
      "Trovajoli, Armando                                         1\n",
      "Torch, Sidney                                              1\n",
      "Mingus, Charles                                            1\n",
      "Williams, John                                             1\n",
      "Carrick, Richard                                           1\n",
      "Dutilleux, Henri                                           1\n",
      "Arlen, Harold                                              1\n",
      "Honegger, Arthur                                           1\n",
      "Speaks, Oley                                               1\n",
      "Igudesman & Joo, Aleksey & Huyng-ki                        1\n",
      "Massenet, Jules                                            1\n",
      "MacMillan, James                                           1\n",
      "Giordano, Umberto                                          1\n",
      "Fagin, Gary                                                1\n",
      "LeFrak, Karen                                              1\n",
      "Orff, Carl                                                 1\n",
      "Green, Joe                                                 1\n",
      "Poulenc, Francis                                           1\n",
      "Simons, Moises                                             1\n",
      "Conti, Bill                                                1\n",
      "Zemlinsky, Alexander                                       1\n",
      "Kreisler, Fritz                                            1\n",
      "Robin, Yann                                                1\n",
      "Berg, Alban                                                1\n",
      "Berio, Luciano                                             1\n",
      "Peace, A. L.                                               1\n",
      "Taslima, Farah                                             1\n",
      "Ray, Don                                                   1\n",
      "Chin, Unsuk                                                1\n",
      "Coleman, Cy                                                1\n",
      "Penderecki, Krzysztof                                      1\n",
      "Greenwood, Lee                                             1\n",
      "Mercer, Johnny                                             1\n",
      "Joo, Hyung-ki                                              1\n",
      "Bloom, Rube                                                1\n",
      "Felsenfeld, Daniel                                         1\n",
      "Ortolani, Riziero Riz\"\"                                    1\n",
      "Aho, Kalevi                                                1\n",
      "Rodrigo, JoaquÌ_n                                          1\n",
      "Ozone, Makato                                              1\n",
      "Darris, Samantha                                           1\n",
      "Strayhorn, Billy                                           1\n",
      "Wang, Lu                                                   1\n",
      "Donatoni, Franco                                           1\n",
      "Dukas, Paul                                                1\n",
      "Lyadov, Anatoli                                            1\n",
      "Reznicek, Emil Nikolaus von                                1\n",
      "Lennertz, Christopher                                      1\n",
      "Tilzer, Albert Von                                         1\n",
      "Brock, Timothy                                             1\n",
      "Newman, Randy                                              1\n",
      "Rossini, Gioachino                                         1\n",
      "Bruch, Max                                                 1\n",
      "Bernstein, Elmer                                           1\n",
      "Louiguy, Louis                                             1\n",
      "Elbel, Louis                                               1\n",
      "Perren, Fekaris, and Gaynor, Freddie, Dino, and Gloria     1\n",
      "Sarasate, Pablo de                                         1\n",
      "Korngold, Erich                                            1\n",
      "Jones, Jesse                                               1\n",
      "Denza, Luigi                                               1\n",
      "Livingston, Alan                                           1\n",
      "Bulla, Stephen                                             1\n",
      "Silvers, Dolores Vicki                                     1\n",
      "Norman, Monty                                              1\n",
      "Choi, Elli                                                 1\n",
      "Liao, Shuwen                                               1\n",
      "Mendoza y CortÌ©s, Quirino                                 1\n",
      "Schoenberg, Arnold                                         1\n",
      "Schumann, Robert                                           1\n",
      "Sager, Carol Bayer, Foster, David                          1\n",
      "Keillor/Dworsky/Stein, Garrison/Rich/Andy                  1\n",
      "Fusco, Giovanni                                            1\n",
      "Mann, David                                                1\n",
      "Schuman, William                                           1\n",
      "Wallace, David                                             1\n",
      "Haggart, Bob                                               1\n",
      "Glanert, Detlev                                            1\n",
      "Steiner, Max                                               1\n",
      "Altman, Arthur                                             1\n",
      "Adams, John                                                1\n",
      "Hanson, Graydon                                            1\n",
      "Scriabin, Alexander                                        1\n",
      "Galesi, Julian                                             1\n",
      "O'Brien, Jake                                              1\n",
      "Shea, Michael J.                                           1\n",
      "Fernandez [FernÌ¢ndez], Oscar Lorenzo                      1\n",
      "Smetana, Bedrich                                           1\n",
      "Corigliano, John, Jr.                                      1\n",
      "Escaich, Thierry                                           1\n",
      "Grafe, Max                                                 1\n",
      "Walton, William                                            1\n",
      "Norman, Andrew                                             1\n",
      "Reineke, Steven                                            1\n",
      "Isham, Mark                                                1\n",
      "Chopin, FrÌ©dÌ©ric                                         1\n",
      "Henze, Hans Werner                                         1\n",
      "Golijov, Osvaldo                                           1\n",
      "Robinson and White, William Smokey\" and Ronald\"            1\n",
      "McHugh, Jimmy                                              1\n",
      "Norgard [NÌürgÌ´rd], Per                                   1\n",
      "Tcherepnin, Nikolai                                        1\n",
      "Poniewozik, Milo                                           1\n"
     ]
    }
   ],
   "source": [
    "print(works[\"ComposerName\"].value_counts().to_string())"
   ]
  },
  {
   "cell_type": "markdown",
   "metadata": {},
   "source": [
    "**b)** In how many different locations have there been concerts?"
   ]
  },
  {
   "cell_type": "code",
   "execution_count": 129,
   "metadata": {},
   "outputs": [
    {
     "data": {
      "text/plain": [
       "47"
      ]
     },
     "execution_count": 129,
     "metadata": {},
     "output_type": "execute_result"
    }
   ],
   "source": [
    "# Count the number of times each location has appeared in the concerts dataset, and print the number of locations\n",
    "len(set(concerts[\"Location\"]))"
   ]
  },
  {
   "cell_type": "markdown",
   "metadata": {},
   "source": [
    "**c)** How many times has there been a concert in Dublin in Ireland?"
   ]
  },
  {
   "cell_type": "code",
   "execution_count": 130,
   "metadata": {
    "scrolled": true
   },
   "outputs": [
    {
     "data": {
      "text/plain": [
       "1"
      ]
     },
     "execution_count": 130,
     "metadata": {},
     "output_type": "execute_result"
    }
   ],
   "source": [
    "# Count the number of times each location has appeared in the concerts dataset, and print the number of times Cologne, GERMANY has appeared\n",
    "set(concerts[\"Location\"])\n",
    "len(concerts[concerts[\"Location\"]=='Dublin'])"
   ]
  },
  {
   "cell_type": "markdown",
   "metadata": {},
   "source": [
    "**d)** How many times has the Harp been a soloist instrument?"
   ]
  },
  {
   "cell_type": "code",
   "execution_count": 131,
   "metadata": {},
   "outputs": [
    {
     "data": {
      "text/plain": [
       "9"
      ]
     },
     "execution_count": 131,
     "metadata": {},
     "output_type": "execute_result"
    }
   ],
   "source": [
    "# Count the number of times each instrument has appeared in the soloists dataset, and print the number of times Bassoon appeared\n",
    "set(soloists[\"Soloist_Instrument\"])\n",
    "len(soloists[soloists[\"Soloist_Instrument\"]=='Harp'])"
   ]
  },
  {
   "cell_type": "markdown",
   "metadata": {},
   "source": [
    "**e)** Who are the three most popular composers?\n",
    "\n",
    "**Bonus:** Print composers' names as first name followed by last name."
   ]
  },
  {
   "cell_type": "code",
   "execution_count": 132,
   "metadata": {},
   "outputs": [
    {
     "name": "stdout",
     "output_type": "stream",
     "text": [
      "Top three composers: \n",
      " Pyotr Ilyich Tchaikovsky\n",
      " Ludwig van Beethoven\n",
      " Wolfgang Amadeus Mozart\n"
     ]
    }
   ],
   "source": [
    "# Count the number of times each composer has appeared in the works dataset\n",
    "concert_conductor_counts = works[\"ComposerName\"].value_counts()\n",
    "\n",
    "# Iterate through the top three composers\n",
    "print(\"Top three composers: \")\n",
    "for i in range(0, 3):\n",
    "    # Isolate the parts of the composers name and rearrange it\n",
    "    conductor = concert_conductor_counts.keys()[i]\n",
    "    conductorLast = conductor.split(\",\")[0]\n",
    "    conductorFirst = conductor.split(\",\")[1]\n",
    "    print(conductorFirst, conductorLast)\n"
   ]
  },
  {
   "cell_type": "markdown",
   "metadata": {
    "collapsed": true
   },
   "source": [
    "### Question 3: Deeper Analysis\n",
    "\n",
    "Use slightly more advanced data analysis to answer the following questions."
   ]
  },
  {
   "cell_type": "markdown",
   "metadata": {},
   "source": [
    "**a)** Draw an appropriate data visualsiation that shows the number of concerts played in each location outside of the United Statess of America?"
   ]
  },
  {
   "cell_type": "code",
   "execution_count": 133,
   "metadata": {},
   "outputs": [
    {
     "data": {
      "text/plain": [
       "<matplotlib.axes._subplots.AxesSubplot at 0x131968a20>"
      ]
     },
     "execution_count": 133,
     "metadata": {},
     "output_type": "execute_result"
    },
    {
     "data": {
      "image/png": "[encoded data removed]",
      "text/plain": [
       "<Figure size 720x1440 with 1 Axes>"
      ]
     },
     "metadata": {
      "needs_background": "light"
     },
     "output_type": "display_data"
    }
   ],
   "source": [
    "# Make a  histogram of durations\n",
    "foreign_concerts = concerts[concerts[\"Country\"] != \"USA\"]\n",
    "concert_loc_counts = foreign_concerts[\"Location\"].value_counts()\n",
    "concert_loc_counts.plot(kind = \"barh\", figsize = (10,20))"
   ]
  },
  {
   "cell_type": "markdown",
   "metadata": {},
   "source": [
    "**b)** How many times has there been a concert anywhere in Germany?\n",
    "\n",
    "**Hint:** Experiment with the *str.contains* method from *pandas.Series*."
   ]
  },
  {
   "cell_type": "code",
   "execution_count": 137,
   "metadata": {},
   "outputs": [
    {
     "name": "stdout",
     "output_type": "stream",
     "text": [
      "Number of concerts in Germany: 15\n"
     ]
    }
   ],
   "source": [
    "german_concerts = concerts[concerts[\"Country\"]== \"GERMANY\"]\n",
    "print(\"Number of concerts in Germany:\", len(german_concerts))"
   ]
  },
  {
   "cell_type": "markdown",
   "metadata": {},
   "source": [
    "**c)** What is the average duration of a concert (in minutes)?"
   ]
  },
  {
   "cell_type": "code",
   "execution_count": 138,
   "metadata": {},
   "outputs": [
    {
     "name": "stdout",
     "output_type": "stream",
     "text": [
      "Average concert duration 178.31422924901185 minutes\n"
     ]
    }
   ],
   "source": [
    "# Calculate the difference between the start and end times\n",
    "print(\"Average concert duration \" + str(concerts[\"Duration\"].mean()) + \" minutes\")"
   ]
  },
  {
   "cell_type": "markdown",
   "metadata": {},
   "source": [
    "**d)** Are performances of works by Beethoven of longer duration, on average, than performances of works by Mozart? \n",
    "\n",
    "**Bonus:** Can you plot a data visualisation to support this conclusion?"
   ]
  },
  {
   "cell_type": "code",
   "execution_count": 139,
   "metadata": {},
   "outputs": [
    {
     "data": {
      "text/plain": [
       "(986, 4)"
      ]
     },
     "execution_count": 139,
     "metadata": {},
     "output_type": "execute_result"
    }
   ],
   "source": [
    "import pandas as pd\n",
    "\n",
    "# Join the works and concerts tables\n",
    "concerts_with_works = pd.merge(concerts, works, on=\"ID\", how = 'outer')\n",
    "concerts_with_works.head()\n",
    "works.shape"
   ]
  },
  {
   "cell_type": "code",
   "execution_count": 140,
   "metadata": {},
   "outputs": [
    {
     "name": "stdout",
     "output_type": "stream",
     "text": [
      "Mozart average duration:  172.07142857142858\n"
     ]
    }
   ],
   "source": [
    "# Extract concerts by Mozart and calculate their mean duration\n",
    "\n",
    "concerts_with_works_mozart = concerts_with_works[concerts_with_works[\"ComposerName\"] == \"Mozart, Wolfgang Amadeus\"]\n",
    "print(\"Mozart average duration: \", concerts_with_works_mozart[\"Duration\"].mean())\n"
   ]
  },
  {
   "cell_type": "code",
   "execution_count": 141,
   "metadata": {},
   "outputs": [
    {
     "name": "stdout",
     "output_type": "stream",
     "text": [
      "Beethoven average duration:  172.8695652173913\n"
     ]
    }
   ],
   "source": [
    "# Extract concerts by Beethoven and calculate their mean duration\n",
    "concerts_with_works_beethoven = concerts_with_works[concerts_with_works[\"ComposerName\"] == \"Beethoven, Ludwig van\"]\n",
    "print(\"Beethoven average duration: \", concerts_with_works_beethoven[\"Duration\"].mean())"
   ]
  },
  {
   "cell_type": "code",
   "execution_count": 142,
   "metadata": {},
   "outputs": [
    {
     "data": {
      "image/png": "[encoded data removed]",
      "text/plain": [
       "<Figure size 432x288 with 1 Axes>"
      ]
     },
     "metadata": {
      "needs_background": "light"
     },
     "output_type": "display_data"
    },
    {
     "data": {
      "image/png": "[encoded data removed]",
      "text/plain": [
       "<Figure size 432x288 with 1 Axes>"
      ]
     },
     "metadata": {
      "needs_background": "light"
     },
     "output_type": "display_data"
    },
    {
     "name": "stdout",
     "output_type": "stream",
     "text": [
      "T-test p value:  0.9144950911612901\n"
     ]
    }
   ],
   "source": [
    "# Draw histrograms of Mozart and Beethoven performance durations\n",
    "concerts_with_works_mozart[\"Duration\"].plot(kind=\"hist\", xlim = (0, 300), ylim = (0, 15), title=\"Mozart Performance Durations\")\n",
    "plt.xlabel(\"Duration (minutes)\")\n",
    "plt.show()\n",
    "concerts_with_works_beethoven[\"Duration\"].plot(kind=\"hist\", xlim = (0, 300), ylim = (0, 15), title=\"Beethoven Performance Durations\")\n",
    "plt.xlabel(\"Duration (minutes)\")\n",
    "plt.show()\n",
    "\n",
    "# Perform a t-test\n",
    "import scipy.stats\n",
    "t, p = scipy.stats.ttest_ind(concerts_with_works_mozart[\"Duration\"], concerts_with_works_beethoven[\"Duration\"], equal_var=False)\n",
    "print(\"T-test p value: \", p)"
   ]
  },
  {
   "cell_type": "markdown",
   "metadata": {},
   "source": [
    "**e)** Determine the most popular composer for year in the dataset? "
   ]
  },
  {
   "cell_type": "code",
   "execution_count": 122,
   "metadata": {},
   "outputs": [],
   "source": [
    "concerts_with_works['Year'] = concerts_with_works['Date'].str[-4:]"
   ]
  },
  {
   "cell_type": "code",
   "execution_count": 127,
   "metadata": {},
   "outputs": [
    {
     "name": "stdout",
     "output_type": "stream",
     "text": [
      "2011  Carl W. Stalling\n",
      "2012  Sergei Prokofiev\n",
      "2013  Ludwig van Beethoven\n",
      "2014  Pyotr Ilyich Tchaikovsky\n",
      "2015  Richard Strauss\n",
      "2016  Sergei Prokofiev\n"
     ]
    }
   ],
   "source": [
    "for year in concerts_with_works['Year'].unique():\n",
    "    events = concerts_with_works[concerts_with_works['Year'] == year]\n",
    "    # Count the number of times each composer has appeared in the works dataset\n",
    "    composer_counts = events[\"ComposerName\"].value_counts()\n",
    "    composer = composer_counts.keys()[0]\n",
    "    last = composer.split(\",\")[0]\n",
    "    first = composer.split(\",\")[1]\n",
    "    print(year, first, last)\n",
    "    "
   ]
  },
  {
   "cell_type": "code",
   "execution_count": null,
   "metadata": {},
   "outputs": [],
   "source": [
    "\n"
   ]
  }
 ],
 "metadata": {
  "kernelspec": {
   "display_name": "Python 3",
   "language": "python",
   "name": "python3"
  },
  "language_info": {
   "codemirror_mode": {
    "name": "ipython",
    "version": 3
   },
   "file_extension": ".py",
   "mimetype": "text/x-python",
   "name": "python",
   "nbconvert_exporter": "python",
   "pygments_lexer": "ipython3",
   "version": "3.6.7"
  }
 },
 "nbformat": 4,
 "nbformat_minor": 1
}
