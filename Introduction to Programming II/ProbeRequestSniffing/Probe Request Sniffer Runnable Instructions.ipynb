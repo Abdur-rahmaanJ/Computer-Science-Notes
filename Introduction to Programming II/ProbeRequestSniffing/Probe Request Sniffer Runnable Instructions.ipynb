{
 "cells": [
  {
   "cell_type": "markdown",
   "metadata": {},
   "source": [
    "# Full Runnable System"
   ]
  },
  {
   "cell_type": "markdown",
   "metadata": {},
   "source": [
    "## Wifi Sniffing on a Mac Book"
   ]
  },
  {
   "cell_type": "markdown",
   "metadata": {},
   "source": [
    "It is possibleto do the sniffing piece through Python code using the **scapy** package, but I have found that the easiest way is to do it is to use the Mac book's internal network hardware. You need a network card that supports *monitor mode* and not all routers do - luckily the internal Mac Book network card does. \n",
    "\n",
    "To put the card into monitor mode and start capturing wifi packets you need to right click on the wifi icon with the **alt** key held done. This shows an advanced menu from which you can \"*Open Wireless Diagnostics*\". \n",
    "\n",
    "![Screenshot 1](./wifiSniffingScreen1.png)\n",
    "\n",
    "Once the Wireless Diagnostics application has stared the **Window** menu allows you to open up the *Sniffer* application - this does the sniffing!\n",
    "\n",
    "![Screenshot 2](./wifiSniffingScreen2.png)\n",
    "\n",
    "I don't know as much about Wifi channels as I should. The sniffer application just uses whichever channel you are connected to. If doing the sniffing through code you can set up channel hopping, or high end sniffers (yikes!) will use multiple network cards to sniff on multiple channel simultaneously. If have found, however, that using whatever channel pops up here gives grand results for demonstrations.\n",
    "\n",
    "\n",
    "![Screenshot 4](./wifiSniffingScreen4.png)\n",
    "\n",
    "Click start and sniffing will begin. You'll notice that the wifi icon changes to show that your hardware is in monitor mode. \n",
    "\n",
    "![Screenshot 4](./wifiSniffingScreen5.png)\n",
    "\n",
    "I usually leave this run for about 10 minutes and then press stop. It dumps out all of the packets sniffed into a **.wcap** file on your desktop named using a date time stamp, e.g. 2016.03.13_16-53-28-GMT+1.wcap. Watch out, if you leave the sniffer run for too long this file gets very big.\n",
    "\n",
    "You can open this file and look at its contents using Wireshark (https://www.wireshark.org/). To find mobile phones, laptops, tablets etc (any wireless access point) you need to find **Probe Requests** which are a specific type of packet that is part of the 802.11 management protocol. In the the 802.11 a management packet has a type of 0 and a probe request has a subtype of 4. \n",
    "\n",
    "The Python code below opens up the wcap file and processes it to find the probe requests and display them. There are a couple of other neat things you can do. Probe requests include the MAC address for the device. Some manufacturers have blocks of MAC addresses associated with them, so you can match MAC addresses to devices by looking this up. Also, as part of a the probe rewuest protocol some OSs broadcast the names of the networks to which they frequently/recently connect (I am not sure about the exact rules governing this) which we can extract. Due to people doing **wardriving** (https://en.wikipedia.org/wiki/Wardriving) there are large databases of the locations of wifi networks so you can geolocate these networks and display them on a map - which is a neat trick. Wigle.net (https://wigle.net/) is a service that allows look up of a database of wifi network locations collected by people and is used in the code below."
   ]
  },
  {
   "cell_type": "markdown",
   "metadata": {},
   "source": [
    "## Setup"
   ]
  },
  {
   "cell_type": "markdown",
   "metadata": {},
   "source": [
    "Import various packages used in the code below"
   ]
  },
  {
   "cell_type": "code",
   "execution_count": 4,
   "metadata": {
    "collapsed": false
   },
   "outputs": [],
   "source": [
    "from scapy.all import * # for .wcap file handling\n",
    "import glob, os # for file handling\n",
    "import csv # for handling csv files\n",
    "import time # for messing around with time formats\n",
    "from datetime import datetime  # for generating datetimes and formatting them\n",
    "import json # for parsing json files\n",
    "import webbrowser # allows HTML pages to be opened in the default webbrowser"
   ]
  },
  {
   "cell_type": "markdown",
   "metadata": {},
   "source": [
    "Load up the details of manufacturers into a Python dictioanry so we can look this up easily."
   ]
  },
  {
   "cell_type": "code",
   "execution_count": 5,
   "metadata": {
    "collapsed": false
   },
   "outputs": [],
   "source": [
    "MAC_manufacturers = dict()\n",
    "for line in open(\"manufOriginal.txt\"):\n",
    "    words1 = line.split(\"\\t\")\n",
    "    if(len(words1) > 1):\n",
    "        words2 = words1[1].split(\"#\")\n",
    "        MAC_manufacturers[words1[0]] = words2[0].strip()"
   ]
  },
  {
   "cell_type": "markdown",
   "metadata": {},
   "source": [
    "## Open & Process The .wcap File"
   ]
  },
  {
   "cell_type": "markdown",
   "metadata": {},
   "source": [
    "Open the latest .wcap file on the dekstop."
   ]
  },
  {
   "cell_type": "code",
   "execution_count": 6,
   "metadata": {
    "collapsed": false
   },
   "outputs": [
    {
     "name": "stderr",
     "output_type": "stream",
     "text": [
      "WARNING: Malformed TCP option (announced length is 1)\n",
      "WARNING:scapy.runtime:Malformed TCP option (announced length is 1)\n"
     ]
    },
    {
     "name": "stdout",
     "output_type": "stream",
     "text": [
      "10674\n"
     ]
    }
   ],
   "source": [
    "oldFolder = os.getcwd()\n",
    "# Fix this path!!!\n",
    "os.chdir(\"/Users/bmacnamee/Desktop/\")\n",
    "wcapFiles = glob.glob(\"*.wcap\")\n",
    "wcapFiles.sort()\n",
    "wcapFiles.reverse()\n",
    "pkts = rdpcap(wcapFiles[0])\n",
    "print(len(pkts))\n",
    "os.chdir(oldFolder)"
   ]
  },
  {
   "cell_type": "markdown",
   "metadata": {},
   "source": [
    "Process packets list to find probe requests"
   ]
  },
  {
   "cell_type": "code",
   "execution_count": 7,
   "metadata": {
    "collapsed": false,
    "scrolled": false
   },
   "outputs": [
    {
     "name": "stdout",
     "output_type": "stream",
     "text": [
      "33 found\n"
     ]
    }
   ],
   "source": [
    "devices = dict()\n",
    "\n",
    "counter = 0\n",
    "\n",
    "# Loop through the packets in the file and take a look at them\n",
    "for pkt in pkts:\n",
    "\n",
    "    if pkt.haslayer(Dot11) :\n",
    "        # Type = 0 is a management frame\n",
    "        # Subtype 8 is a beacon frame\n",
    "        # Subtype 4 is a probe request frame\n",
    "        # Subtype 5 is a probe response frame\n",
    "        if pkt.type == 0 and pkt.subtype == 4 :\n",
    "\n",
    "            counter += 1\n",
    "           \n",
    "            if not pkt.addr2 in devices:\n",
    "                \n",
    "                # Isolate the manufacturers code\n",
    "                manuCode = pkt.addr2[0:8]\n",
    "                if manuCode in MAC_manufacturers:\n",
    "                    manu = MAC_manufacturers[manuCode]\n",
    "                else:\n",
    "                    manu = \"\"\n",
    "                    \n",
    "                devices[pkt.addr2] = {\"freq\":1, \"last_seen\":pkt.time, \"manu\":manu, \"ssids\":set()}\n",
    "\n",
    "                # If there is an SSID listed (in info attribute) record it\n",
    "                if hasattr(pkt, 'info'):\n",
    "                    ssid = pkt.info\n",
    "                    ssid = ssid.strip()\n",
    "                    ssid = ssid.replace(\"&\", \" \")\n",
    "                    #ssid = ''.join(filter(lambda x:x in string.printable, ssid))\n",
    "                    \n",
    "                    # Not very good, but simple error handling - ssids of more than 32 charcters probably indicate malformed packets.\n",
    "                    #if(len(ssid) <= 32 and ssid.find(\"\\x00\") == -1):\n",
    "                    if(all(c in string.printable for c in ssid) and (len(ssid) > 5)):\n",
    "                        devices[pkt.addr2][\"ssids\"].add(ssid)\n",
    "\n",
    "            else:\n",
    "                # Increment appearance frequency\n",
    "                devices[pkt.addr2][\"freq\"] += 1\n",
    "\n",
    "                # If this occurrence is more recent that thae recorded one update last_seen\n",
    "                if devices[pkt.addr2][\"last_seen\"] < pkt.time:\n",
    "                    devices[pkt.addr2][\"last_seen\"] = pkt.time\n",
    "\n",
    "                # If there is an SSID listed (in info attribute) record it\n",
    "                if hasattr(pkt, 'info'):\n",
    "                    ssid = pkt.info\n",
    "                    ssid = ssid.strip()\n",
    "                    #ssid = ''.join(filter(lambda x:x in string.printable, ssid))\n",
    "                    # Not very good, but simple error handling - ssids of more than 32 charcters probably indicate malformed packets.\n",
    "                    #if(len(ssid) <= 32 and ssid.find(\"\\x00\") == -1):\n",
    "                    if(all(c in string.printable for c in ssid) and (len(ssid) > 5)):\n",
    "                        devices[pkt.addr2][\"ssids\"].add(ssid)\n",
    "                        \n",
    "\n",
    "print(str(len(devices)) + \" found\")\n"
   ]
  },
  {
   "cell_type": "markdown",
   "metadata": {},
   "source": [
    "Write out the devices read in into a nice csv format"
   ]
  },
  {
   "cell_type": "code",
   "execution_count": 8,
   "metadata": {
    "collapsed": false
   },
   "outputs": [],
   "source": [
    "with open('devices' +  str(time.time()) + '.csv', 'wb') as csvfile:\n",
    "    writer = csv.writer(csvfile, delimiter=',',\n",
    "                            quotechar='|', quoting=csv.QUOTE_MINIMAL)\n",
    "    writer.writerow(['ID', 'freq', 'manu', 'ssids', 'last_seen'])\n",
    "    \n",
    "    for d in devices:\n",
    "        ssidString = \" | \".join(str(e) for e in devices[d]['ssids'])\n",
    "        writer.writerow([d, devices[d]['freq'] , devices[d]['manu'], ssidString, devices[d]['last_seen']])                      "
   ]
  },
  {
   "cell_type": "markdown",
   "metadata": {},
   "source": [
    "Generate a list of the ssids found"
   ]
  },
  {
   "cell_type": "code",
   "execution_count": 9,
   "metadata": {
    "collapsed": false
   },
   "outputs": [
    {
     "name": "stdout",
     "output_type": "stream",
     "text": [
      "9\n",
      "['Kleinova_AP', 'Cafe_Viena', 'wifi-guest', 'wifi-cheval-blanc', 'SFR WiFi FON', 'orange-4361', 'Kelner', 'ALBATROS_300', 'WIFI-ANTARES']\n"
     ]
    }
   ],
   "source": [
    "ssidsFound = []\n",
    "\n",
    "# Iterate through the devices list\n",
    "for d in devices:\n",
    "    \n",
    "    # get the list of ssids saved from a device\n",
    "    ssids = devices[d][\"ssids\"]\n",
    "    \n",
    "    # loop through the SSIDs\n",
    "    for ssid in ssids:\n",
    "\n",
    "        ssidsFound.append(ssid)\n",
    "\n",
    "ssidsFound = list(set(ssidsFound))\n",
    "print(len(ssidsFound))\n",
    "print(ssidsFound)"
   ]
  },
  {
   "cell_type": "markdown",
   "metadata": {},
   "source": [
    "## Generate HTML Page"
   ]
  },
  {
   "cell_type": "markdown",
   "metadata": {},
   "source": [
    "Apologies for awful approach to generating a HTML file - I'm sure there is a much better way!!"
   ]
  },
  {
   "cell_type": "code",
   "execution_count": 10,
   "metadata": {
    "collapsed": false
   },
   "outputs": [],
   "source": [
    "devicesPerRow = 3\n",
    "numDevicesFound = len(devices)\n",
    "\n",
    "deviceCount = 0\n",
    "\n",
    "with open('devicesFound.html', 'w') as htmlfile:\n",
    "    \n",
    "    # Write the HTML header\n",
    "    htmlfile.write(\"<!DOCTYPE html>\\n\")\n",
    "    htmlfile.write(\"<html lang=\\\"en\\\">\\n\")\n",
    "    htmlfile.write(\"<head>\\n\")\n",
    "    htmlfile.write(\"<title>Devices Found</title>\\n\")\n",
    "    htmlfile.write(\"<meta charset=\\\"utf-8\\\">\\n\")\n",
    "    htmlfile.write(\"<meta name=\\\"viewport\\\" content=\\\"width=device-width, initial-scale=1\\\">\\n\")\n",
    "    htmlfile.write(\"<link rel=\\\"stylesheet\\\" href=\\\"http://maxcdn.bootstrapcdn.com/bootstrap/3.3.6/css/bootstrap.min.css\\\">\\n\")\n",
    "    htmlfile.write(\"<script src=\\\"https://ajax.googleapis.com/ajax/libs/jquery/1.12.0/jquery.min.js\\\"></script>\\n\")\n",
    "    htmlfile.write(\"<script src=\\\"http://maxcdn.bootstrapcdn.com/bootstrap/3.3.6/js/bootstrap.min.js\\\"></script>\\n\")\n",
    "    htmlfile.write(\"<style type=\\\"text/css\\\"> h1.panel-title {color:#ffffff; font-size:32px}  </style>\")\n",
    "    htmlfile.write(\"<style type=\\\"text/css\\\"> p {font-size:24px}  </style>\")\n",
    "        \n",
    "    htmlfile.write(\"</head>\\n\")\n",
    "    htmlfile.write(\"<body>\\n\")\n",
    "    \n",
    "    htmlfile.write(\"<p>&nbsp;</p>\\n\")\n",
    "    \n",
    "    htmlfile.write(\"<h2>&nbsp;&nbsp; Found \" + str(len(devices)) + \" devices nearby.</h2>\\n\")\n",
    "    \n",
    "    htmlfile.write(\"<p>&nbsp;</p>\\n\")\n",
    "    \n",
    "    # Start the devices block\n",
    "    htmlfile.write(\"<div class=\\\"container-fluid\\\">\\n\")\n",
    "    \n",
    "    # Loop through each device\n",
    "    for d in devices:\n",
    "    #for d in sorted(devices, key=devices.get, reverse=True):\n",
    "        \n",
    "        # If we need to start a new row start one\n",
    "        if (deviceCount % devicesPerRow == 0):\n",
    "            htmlfile.write(\"\\t<div class=\\\"row\\\">\\n\")\n",
    "        \n",
    "        # Write our the details of a device\n",
    "        #htmlfile.write(\"\\t\\t<div class=\\\"col-sm-3\\\" style=\\\"border:solid 2px black;background-color:grey;\\\" >\\n\")\n",
    "        htmlfile.write(\"\\t\\t<div class=\\\"col-sm-4\\\">\\n\")\n",
    "        htmlfile.write(\"<div class = \\\"panel panel-default\\\">\\n\")\n",
    "        htmlfile.write(\"<div class = \\\"panel-heading\\\" style = \\\"background-color:#0033cc;\\\">\\n\")\n",
    "\n",
    "        htmlfile.write(\"<h1 class = \\\"panel-title\\\">\" + d + \"</h1>\\n\")\n",
    "        htmlfile.write(\"</div>\\n\")\n",
    "   \n",
    "        htmlfile.write(\"<div class = \\\"panel-body\\\">\\n\")\n",
    "\n",
    "        if(devices[d]['freq'] <= 5):\n",
    "            htmlfile.write(\"\\t\\t\\t<img src = \\\"./WiFi-Signal-Strength-Low.jpg\\\" width = \\\"60\\\"/>\\n\")\n",
    "        elif(devices[d]['freq'] <= 10):\n",
    "            htmlfile.write(\"\\t\\t\\t<img src = \\\"./WiFi-Signal-Strength-Lowish.jpg\\\" width = \\\"60\\\" />\\n\")\n",
    "        elif(devices[d]['freq'] <= 50):\n",
    "            htmlfile.write(\"\\t\\t\\t<img src = \\\"./WiFi-Signal-Strength-Med.jpg\\\" width = \\\"60\\\" />\\n\")\n",
    "        else:\n",
    "            htmlfile.write(\"\\t\\t\\t<img src = \\\"./WiFi-Signal-Strength-High.jpg\\\" width = \\\"60\\\" />\\n\")\n",
    "            \n",
    "        if devices[d]['manu'].find(\"Apple\") >= 0:\n",
    "            htmlfile.write(\"\\t\\t\\t<img src = \\\"./Apple.png\\\" width = \\\"40\\\"/>\\n\")\n",
    "        elif devices[d]['manu'].startswith(\"Htc\"):\n",
    "            htmlfile.write(\"\\t\\t\\t<img src = \\\"./HTC.jpg\\\" height = \\\"30\\\" />\\n\")\n",
    "        elif devices[d]['manu'].find(\"Samsung\") >= 0:\n",
    "            htmlfile.write(\"\\t\\t\\t<img src = \\\"./samsung.png\\\" height = \\\"50\\\"/>\\n\")\n",
    "        elif devices[d]['manu'].find(\"Sony\") >= 0:\n",
    "            htmlfile.write(\"\\t\\t\\t<img src = \\\"./sony.jpg\\\" height = \\\"40\\\"/>\\n\")\n",
    "\n",
    "        htmlfile.write(\"\\t\\t\\t<span style=\\\"font-size:20px;\\\" >\" + datetime.fromtimestamp(devices[d]['last_seen']).strftime('%Y-%m-$d %H:%M:%S').split(' ')[1] + \"</span>\\n\")\n",
    "  \n",
    "        #htmlfile.write(\"\\t\\t\\t<h3>Strength: \" + str(devices[d]['freq']) + \"</h3>\\n\")\n",
    "\n",
    "        #htmlfile.write(\"\\t\\t\\t<h3>\" + datetime.fromtimestamp(devices[d]['last_seen']).strftime('%Y-%m-$d %H:%M:%S').split(' ')[1] + \"</h3>\\n\")\n",
    "        htmlfile.write(\"\\t\\t\\t<br />\\n\")\n",
    "        htmlfile.write(\"\\t\\t\\t<br />\\n\")\n",
    "        \n",
    "        ssidString = \", \".join(str(e) for e in devices[d]['ssids'])\n",
    "        htmlfile.write(\"\\t\\t\\t<p>\" + ssidString + \"</p>\\n\")\n",
    "        htmlfile.write(\"</div>\\n\")\n",
    "        htmlfile.write(\"</div>\\n\")\n",
    "\n",
    "        #htmlfile.write(\"\\t\\t\\t<h1>\" + d + \"</h1>\\n\")\n",
    "        #htmlfile.write(\"\\t\\t\\t<h2>Handset: \" + devices[d]['manu'] + \" </h2>\\n\")\n",
    "        #htmlfile.write(\"\\t\\t\\t<h2>Strength: \" + str(devices[d]['freq']) + \"</h2>\\n\")\n",
    "        #htmlfile.write(\"\\t\\t\\t<h2>\" + str(devices[d]['last_seen']) + \"</h2>\\n\")\n",
    "        #ssidString = \", \".join(str(e) for e in devices[d]['ssids'])\n",
    "        #htmlfile.write(\"\\t\\t\\t<p>\" + ssidString + \"</p>\\n\")\n",
    "        htmlfile.write(\"\\t\\t</div>\\n\")\n",
    "        \n",
    "\n",
    "        deviceCount += 1\n",
    "        \n",
    "        # If we need to end a row end one\n",
    "        if (deviceCount % devicesPerRow == 0):\n",
    "            htmlfile.write(\"\\t</div>\\n\")\n",
    "    \n",
    "    # If we didn't just end a row, end one\n",
    "    if (deviceCount % devicesPerRow != 0):\n",
    "        htmlfile.write(\"\\t</div>\\n\")\n",
    "    \n",
    "    # End the block with a </div>\n",
    "    htmlfile.write(\"</div>\\n\")\n",
    "    \n",
    "\n",
    "    htmlfile.write(\"</body>\\n\")\n",
    "    htmlfile.write(\"</html>\\n\")"
   ]
  },
  {
   "cell_type": "markdown",
   "metadata": {},
   "source": [
    "## Generate Wigle Map"
   ]
  },
  {
   "cell_type": "markdown",
   "metadata": {},
   "source": [
    "I have downloaded a big collection of lat/long pairs for Irish wifi networks from Wigle to a json file. Due to rate limiting of the Wigle API, however, I have gotten them all. so we read the lats/longs avialble from the wigle dump and average out lats/longs where ssid show up multiple times."
   ]
  },
  {
   "cell_type": "code",
   "execution_count": 11,
   "metadata": {
    "collapsed": false
   },
   "outputs": [
    {
     "name": "stdout",
     "output_type": "stream",
     "text": [
      "6968\n"
     ]
    }
   ],
   "source": [
    "# Import the Wigle dump\n",
    "ssidList = json.loads(open('wigleFullDump2.json').read())\n",
    "\n",
    "# Start an empty dictionary\n",
    "ssidLatLong = dict()\n",
    "\n",
    "# Loop through each ssid json object and add it to the dictionary\n",
    "for ssidObj in ssidList:\n",
    "\n",
    "    # Extract the important details from the ssid json object\n",
    "    ssidName = ssidObj[\"ssid\"] \n",
    "    ssidLat = ssidObj[\"trilat\"]\n",
    "    ssidLong = ssidObj[\"trilong\"]\n",
    "    \n",
    "    # if the ssid is not in the dictionary yet add it\n",
    "    if not ssidName in ssidLatLong:\n",
    "        \n",
    "        ssidLatLong[ssidName] = {\"lat\":ssidLat, \"long\":ssidLong, \"count\":1}\n",
    "\n",
    "    # if the ssid is already in the ditionary then average out this new entry\n",
    "    else:\n",
    "        \n",
    "        ssidLatLong[ssidName][\"lat\"] = (ssidLatLong[ssidName][\"lat\"]*ssidLatLong[ssidName][\"count\"] + ssidLat)/(ssidLatLong[ssidName][\"count\"] + 1)\n",
    "        ssidLatLong[ssidName][\"long\"] = (ssidLatLong[ssidName][\"long\"]*ssidLatLong[ssidName][\"count\"] + ssidLong)/(ssidLatLong[ssidName][\"count\"] + 1)\n",
    "        ssidLatLong[ssidName][\"count\"] += 1\n",
    "        \n",
    "# Manually fix UCD Wireless\n",
    "ssidLatLong[\"UCD Wireless\"][\"lat\"] = 53.306688\n",
    "ssidLatLong[\"UCD Wireless\"][\"long\"] = -6.220993\n",
    "ssidLatLong[\"UCD Wireless\"][\"count\"] = 100\n",
    "\n",
    "print(len(ssidLatLong))\n",
    "\n"
   ]
  },
  {
   "cell_type": "markdown",
   "metadata": {},
   "source": [
    "Write out an XML file containing lat/longs of ssids spotted. Apologies for awful approach to generating an XML file - I'm sure there is a much better way!!"
   ]
  },
  {
   "cell_type": "code",
   "execution_count": 12,
   "metadata": {
    "collapsed": false
   },
   "outputs": [
    {
     "name": "stdout",
     "output_type": "stream",
     "text": [
      "Kleinova_AP\n",
      "Cafe_Viena\n",
      "wifi-guest\n",
      "wifi-cheval-blanc\n",
      "SFR WiFi FON\n",
      "orange-4361\n",
      "Kelner\n",
      "ALBATROS_300\n",
      "WIFI-ANTARES\n"
     ]
    }
   ],
   "source": [
    "# Horrible manual writing of an XML file!!!!\n",
    "with open('ssidsFound.xml', 'w') as xmlfile:\n",
    "        \n",
    "    xmlfile.write(\"<?xml version=\\\"1.0\\\"?>\\n\")\n",
    "    xmlfile.write(\"<markers>\\n\")\n",
    "    \n",
    "    for ssid in ssidsFound:    \n",
    "        if ssid in ssidLatLong and ssid != None:\n",
    "            xmlfile.write(\"\\t<marker>\\n\")\n",
    "            xmlfile.write(\"\\t\\t<name>\" + ssid + \"</name>\\n\")\n",
    "            xmlfile.write(\"\\t\\t<lat>\" + str(ssidLatLong[ssid][\"lat\"]) + \"</lat>\\n\")\n",
    "            xmlfile.write(\"\\t\\t<lng>\" + str(ssidLatLong[ssid][\"long\"]) + \"</lng>\\n\")\n",
    "            if ssid.startswith(\"UPC\") or ssid.startswith(\"eircom\") or ssid.startswith(\"vodafone\") or ssid.startswith(\"BTHub\"):\n",
    "                xmlfile.write(\"\\t\\t<colour>green</colour>\\n\")\n",
    "            else:\n",
    "                xmlfile.write(\"\\t\\t<colour>red</colour>\\n\")\n",
    "            xmlfile.write(\"\\t</marker>\\n\")\n",
    "        else:\n",
    "            print(ssid)\n",
    "    xmlfile.write(\"</markers>\\n\")\n"
   ]
  },
  {
   "cell_type": "markdown",
   "metadata": {},
   "source": [
    "Print out the details of the devices found."
   ]
  },
  {
   "cell_type": "code",
   "execution_count": 13,
   "metadata": {
    "collapsed": false
   },
   "outputs": [
    {
     "name": "stdout",
     "output_type": "stream",
     "text": [
      "c8:b5:b7:0d:b8:35 6  wifi-guest 1457884462.29\n",
      "78:f7:be:53:91:ef 11  SFR WiFi FON 1457884481.39\n",
      "4a:48:60:73:70:a2 2   1457884422.36\n",
      "e4:32:cb:40:af:a7 6   1457884469.46\n",
      "fe:d0:6f:aa:58:58 1   1457884453.3\n",
      "3a:ef:e4:c4:86:1c 4   1457884439.91\n",
      "e8:50:8b:fb:b4:3e 13  wifi-guest 1457884477.82\n",
      "04:c2:3e:2c:ff:9a 1   1457884412.89\n",
      "d4:8f:33:a1:c5:65 4   1457884474.53\n",
      "10:30:47:43:f9:66 9 SamsungE  1457884475.14\n",
      "9c:f3:87:29:70:43 2  wifi-guest 1457884424.07\n",
      "80:6a:b0:10:43:59 1   1457884432.02\n",
      "48:86:e8:26:2a:50 2   1457884430.55\n",
      "e0:66:78:66:63:8c 1   1457884411.94\n",
      "b2:ea:22:4a:18:c3 1   1457884442.41\n",
      "d8:9e:3f:c7:46:f2 11  Kleinova_AP | Cafe_Viena | orange-4361 | Kelner | ALBATROS_300 | WIFI-ANTARES 1457884461.27\n",
      "ac:61:ea:f2:d8:5d 6  wifi-guest 1457884486.22\n",
      "00:ee:bd:ae:54:63 26  wifi-guest 1457884481.06\n",
      "38:ca:da:3b:4a:52 27  wifi-guest 1457884486.37\n",
      "ac:cf:5c:87:f9:20 6  wifi-guest 1457884484.68\n",
      "42:11:1a:47:fe:ea 1   1457884416.95\n",
      "42:0c:c5:b7:32:26 1   1457884435.41\n",
      "48:74:6e:97:47:2f 1  wifi-cheval-blanc 1457884479.3\n",
      "60:03:08:14:b4:d1 1 Apple  1457884448.34\n",
      "4c:34:88:87:36:24 16   1457884467.39\n",
      "9c:04:eb:14:f9:c6 4   1457884461.31\n",
      "ec:1f:72:69:09:b5 9  wifi-guest 1457884445.03\n",
      "2e:34:7a:8f:c4:4e 1   1457884445.25\n",
      "b4:ce:f6:69:5d:11 2   1457884430.25\n",
      "e4:58:e7:3f:d5:ee 7  wifi-guest 1457884450.21\n",
      "18:62:2c:aa:27:a3 1   1457884448.03\n",
      "80:01:84:28:a0:44 3 HtcCorpo  1457884437.26\n",
      "c8:85:50:95:a2:e0 7  wifi-guest 1457884421.82\n"
     ]
    }
   ],
   "source": [
    "for d in devices:\n",
    "    ssidString = \" | \".join(str(e) for e in devices[d]['ssids'])\n",
    "    print(d + \" \" + str(devices[d]['freq']) + \" \" + devices[d]['manu'] + \" \" + ssidString + \" \" + str(devices[d]['last_seen']))"
   ]
  },
  {
   "cell_type": "markdown",
   "metadata": {},
   "source": [
    "## Open Display Pages"
   ]
  },
  {
   "cell_type": "markdown",
   "metadata": {},
   "source": [
    "The code above should have generated two HTML files, open them. The hardocded paths here is a bit flakey!"
   ]
  },
  {
   "cell_type": "code",
   "execution_count": 14,
   "metadata": {
    "collapsed": false
   },
   "outputs": [
    {
     "data": {
      "text/plain": [
       "True"
      ]
     },
     "execution_count": 14,
     "metadata": {},
     "output_type": "execute_result"
    }
   ],
   "source": [
    "# Fix path!!!\n",
    "url2 = 'file:///Users/bmacnamee/Dropbox/Research/Projects/WifiSniffing/markers.html'\n",
    "webbrowser.open(url2)\n",
    "\n",
    "# Fix path!!!\n",
    "url1 = 'file:///Users/bmacnamee/Dropbox/Research/Projects/WifiSniffing/devicesFound.html'\n",
    "webbrowser.open(url1)"
   ]
  },
  {
   "cell_type": "code",
   "execution_count": null,
   "metadata": {
    "collapsed": true
   },
   "outputs": [],
   "source": []
  }
 ],
 "metadata": {
  "kernelspec": {
   "display_name": "Python 2",
   "language": "python",
   "name": "python2"
  },
  "language_info": {
   "codemirror_mode": {
    "name": "ipython",
    "version": 2
   },
   "file_extension": ".py",
   "mimetype": "text/x-python",
   "name": "python",
   "nbconvert_exporter": "python",
   "pygments_lexer": "ipython2",
   "version": "2.7.11"
  }
 },
 "nbformat": 4,
 "nbformat_minor": 0
}
