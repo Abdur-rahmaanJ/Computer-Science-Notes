{
 "cells": [
  {
   "cell_type": "markdown",
   "metadata": {},
   "source": [
    "# COMP20230 Lab 1: Complexity Analysis\n",
    "\n",
    "In order to express the complexity of an algorithm, we can count the number of machine instructions or basic operations that will execute as a function of the input parameters. Counting the operations can give us the running time $T(n)$. This can be simplfied to give us the complexity, $\\mathcal{O}$ or big-Oh, by removing constants from the equation that would have a small impact on the overall complexity for very large values of $n$.\n",
    "\n"
   ]
  },
  {
   "cell_type": "markdown",
   "metadata": {},
   "source": [
    "## 1. Complexity in Python\n",
    "\n",
    "The complexity of an algorithm depends on the number of basic operations it contains. In this first exercise you will evaluate the complexity of simple Python functions - instead of algorithms. The idea is the same as algorithm analysis: identify the operations, count them. Take particular care of the loops.\n",
    "Here is an example:"
   ]
  },
  {
   "cell_type": "code",
   "execution_count": 1,
   "metadata": {},
   "outputs": [],
   "source": [
    "def function_a (n) :\n",
    "    print(\"hello\")\n",
    "    for i in range(n):\n",
    "        print(\"n = \", n, \"; i=\", i) \n",
    "    print (\" bye \")"
   ]
  },
  {
   "cell_type": "code",
   "execution_count": 2,
   "metadata": {},
   "outputs": [
    {
     "name": "stdout",
     "output_type": "stream",
     "text": [
      "hello\n",
      "n =  4 ; i= 0\n",
      "n =  4 ; i= 1\n",
      "n =  4 ; i= 2\n",
      "n =  4 ; i= 3\n",
      " bye \n"
     ]
    }
   ],
   "source": [
    "function_a(4)"
   ]
  },
  {
   "cell_type": "markdown",
   "metadata": {},
   "source": [
    "The program enters n times in the loop \\-  checking the loop condition takes 1 operation (incrementing *i*). The program does only 1 operation every time it enters the loop \\- we have 1 * n operations here. Outside the loop there are 2 simple instructions (one before and one after) which do only 1 operation each."
   ]
  },
  {
   "cell_type": "code",
   "execution_count": 3,
   "metadata": {},
   "outputs": [],
   "source": [
    "def function_a(n):\n",
    "    print(\"hello\")          #1 operation\n",
    "    for i in range(n):      #2 operation (assignment) per loop, N loops\n",
    "        print(\"n = \", n)    #1 operation per loop, N operations\n",
    "    print(\"bye\")            #1 operation "
   ]
  },
  {
   "cell_type": "markdown",
   "metadata": {},
   "source": [
    "The running time of this algorithm is computed as follows: every operation with a \"per loop\" gives a factor of n: here 2 operations, so *3n*; every operation without a \"per loop\" gives you a value without an _n_: here 2. So in total, T(n)=3n + 2 meaning it is $\\mathcal{O}$(n).\n",
    "\n",
    "In the cell below we have a _magic_ command. These are notebook and not python commands. %%time will request that the OS times the execution of the cell for us and returns it in the cells output."
   ]
  },
  {
   "cell_type": "code",
   "execution_count": 4,
   "metadata": {},
   "outputs": [
    {
     "name": "stdout",
     "output_type": "stream",
     "text": [
      "starting for 3000 loops\n",
      "max n= 3000\n",
      "CPU times: user 323 ms, sys: 5.42 ms, total: 328 ms\n",
      "Wall time: 326 ms\n"
     ]
    }
   ],
   "source": [
    "%%time\n",
    "\n",
    "def function_b(n):\n",
    "    print(\"starting for\",n, \"loops\")          #1 operation\n",
    "    for i in range(n):                        #2 operation (assignment) per loop, N loops\n",
    "        for j in range(n):                        #2 operation (assignment) per loop, N loops\n",
    "            max=n                             #1 operation per loop, N operations\n",
    "    print(\"max n=\",n)                         #1 operation \n",
    "\n",
    "a=3000\n",
    "function_b(a)"
   ]
  },
  {
   "cell_type": "markdown",
   "metadata": {},
   "source": [
    "We can run the cell repeatedly, changing the value for a. I have done 7 example tests below and recoded the times. I then used the matplotlib (which intalls by default as part of anaconda) to plot $n$ against $t$."
   ]
  },
  {
   "cell_type": "code",
   "execution_count": 5,
   "metadata": {},
   "outputs": [
    {
     "data": {
      "text/plain": [
       "<Figure size 640x480 with 1 Axes>"
      ]
     },
     "metadata": {},
     "output_type": "display_data"
    }
   ],
   "source": [
    "n=[10,100,1000,3000,5000,8000, 10000]\n",
    "\n",
    "t=[444e-6,619e-6,37.3e-3,340e-3,907e-3,2.45,3.72]\n",
    "\n",
    "import matplotlib.pyplot as plt\n",
    "plt.plot(n,t)\n",
    "plt.show()"
   ]
  },
  {
   "cell_type": "markdown",
   "metadata": {},
   "source": [
    "Now do the same for the following 5 programs, labelling the operations and running for various values of $n$ and $m$ to validate the big-$\\mathcal{O}$ experimentally. Watch out for the loop definitions."
   ]
  },
  {
   "cell_type": "code",
   "execution_count": 6,
   "metadata": {},
   "outputs": [],
   "source": [
    "def function_1(n):\n",
    "    for i in range(11):\n",
    "        print(i*n)"
   ]
  },
  {
   "cell_type": "code",
   "execution_count": 7,
   "metadata": {},
   "outputs": [],
   "source": [
    "def function_2(n):\n",
    "    s=1\n",
    "    for i in range(n):\n",
    "        s=s+i**2\n",
    "    return s"
   ]
  },
  {
   "cell_type": "code",
   "execution_count": 8,
   "metadata": {},
   "outputs": [],
   "source": [
    "def function_3(n):\n",
    "    s=1\n",
    "    for i in range(n):\n",
    "        for j in range(n):\n",
    "            s=s+i*j\n",
    "    return s"
   ]
  },
  {
   "cell_type": "code",
   "execution_count": 9,
   "metadata": {},
   "outputs": [],
   "source": [
    "def function_4(n,m):\n",
    "    i=1;j=1\n",
    "    opcount=2\n",
    "    while i<=n and j<=m:\n",
    "        i=i+1\n",
    "        j=j+1\n",
    "        opcount+=2\n",
    "    return opcount"
   ]
  },
  {
   "cell_type": "code",
   "execution_count": 10,
   "metadata": {},
   "outputs": [],
   "source": [
    "def function_5(n,m):\n",
    "    i=1;j=1;s=1\n",
    "    while i<=n:\n",
    "        if j<=m:\n",
    "            s=s*j\n",
    "            j=j+1\n",
    "    else:\n",
    "            s=s+i\n",
    "            i=i+1\n",
    "    return s"
   ]
  },
  {
   "cell_type": "markdown",
   "metadata": {},
   "source": [
    "Run these programs with different values of the $n$ and $m$ parameters. Pick one and experiment on plotting the times. Does the graph match the big-$\\mathcal{O}$ you expected?"
   ]
  },
  {
   "cell_type": "markdown",
   "metadata": {},
   "source": [
    "## 2. Poison Puzzle\n",
    "\n",
    "An evil king has n bottles of wine, and a spy has just poisoned one of them. Unfortunately, they do not know which one it is. The poison is very deadly; just one drop diluted even a billion to one will still kill. Even so, it takes a full month for the poison to take effect. Design a scheme for determining exactly which one of the wine bottles was poisoned in just one month’s time while expending $\\mathcal{O}(log(n))$ taste testers. Can you write code to prove the scheme?"
   ]
  },
  {
   "cell_type": "markdown",
   "metadata": {},
   "source": [
    "## Hint \n",
    "Number each bottle and think about the binary expansion of each bottle’s number.\n",
    "\n",
    "## Solution \n",
    "Number each bottle from 1 to n. Select $log(n)$ tasters and map each taster to a bit. On the first day of the month, a taster samples a wine if, in the binary representation of the wine’s number, his bit is 1. For example, if taster A is assigned to the lowest order bit and there are 5 bottles, he will sample bottles 1, 3, and 5. If taster B is assigned to the highest order bit, he will sample bottles 4 and 5.\n",
    "\n",
    "After the month is over, the number of the poisoned bottle can be determined. If a taster dies, then the bit they mapped to is a 1 in the poisoned bottle’s number. Otherwise, the bit is a 0."
   ]
  },
  {
   "cell_type": "code",
   "execution_count": 14,
   "metadata": {},
   "outputs": [
    {
     "name": "stdout",
     "output_type": "stream",
     "text": [
      "Bottles 🍾:\n",
      "0 :  0000\n",
      "1 :  0001\n",
      "2 :  0010\n",
      "3 :  0011\n",
      "4 :  0100\n",
      "5 :  0101\n",
      "6 :  0110\n",
      "7 :  0111\n",
      "8 :  1000\n",
      "Yellow are assigned Bottles 🍾 to Tasters 💀:\n"
     ]
    },
    {
     "data": {
      "image/png": "[encoded data removed]",
      "text/plain": [
       "<Figure size 432x288 with 1 Axes>"
      ]
     },
     "metadata": {
      "needs_background": "light"
     },
     "output_type": "display_data"
    }
   ],
   "source": [
    "import math, random\n",
    "\n",
    "nbottles = 9                                # let's assume there are 9 bottles to test with, this should scale for any number\n",
    "ntasters= math.ceil(math.log2(nbottles))    # we are constrained to a max of log_2(n) tasters\n",
    "tasters = list(range(ntasters))             # a list of tasters numbered 0,1,2,...,ntasters\n",
    "bottles = list(range(nbottles))             # a list of bottles numbered 0 to nbottles\n",
    "\n",
    "\n",
    "print(\"Bottles 🍾:\")    \n",
    "for bottle in bottles:\n",
    "    binbottle=bin(bottle)                                           # assign a binary code corresponding to each bottle\n",
    "    print(bottle, \": \", \"{0:b}\".format(bottle).zfill(ntasters))     # print it, format is just to get zero padding \n",
    "\n",
    "print(\"Yellow are assigned Bottles 🍾 to Tasters 💀:\")  \n",
    "bottlematrix=[]\n",
    "for bottle in bottles:\n",
    "    bottlematrix.append([int(d) for d in \"{0:b}\".format(bottle).zfill(ntasters)])\n",
    "    \n",
    "import matplotlib.pyplot as plt\n",
    "plt.imshow(bottlematrix)\n",
    "plt.xlabel('taster')\n",
    "plt.ylabel('bottle')\n",
    "plt.show()              "
   ]
  },
  {
   "cell_type": "markdown",
   "metadata": {},
   "source": [
    "So once I have assigned the bottles, a taster just reads their column and goes off and tastes those bottles marked. Then they wait a month!\n",
    "\n",
    "How can I find the bottle that matches a give set of dead tasters? Well I just list the tasters who are dead, e.g. if tasters 1,2,3 are dead then it is [0,1,1,1]. I can then write a function for search for that list of tasters.\n"
   ]
  },
  {
   "cell_type": "code",
   "execution_count": 12,
   "metadata": {},
   "outputs": [],
   "source": [
    "import math\n",
    "\n",
    "def binarysearch(myarray, elem):\n",
    "\n",
    "    low = 0\n",
    "    high = len(myarray) - 1\n",
    "    while (low <= high):\n",
    "        mid=math.ceil((low+high)/2) #ceil function rounds up to whole integer index\n",
    "        if myarray[mid] > elem:\n",
    "            high = mid - 1\n",
    "        else:\n",
    "            if myarray[mid] < elem:\n",
    "                low = mid + 1 \n",
    "            else:\n",
    "                return mid\n",
    "\n",
    "    return len(myarray) + 1 #to show the elem is not in the array"
   ]
  },
  {
   "cell_type": "code",
   "execution_count": 13,
   "metadata": {},
   "outputs": [
    {
     "name": "stdout",
     "output_type": "stream",
     "text": [
      "The poisoned bottle 🍾 is index: 7\n"
     ]
    }
   ],
   "source": [
    "def poisonedbottle(listofdeadtasters):\n",
    "    bottle=int(''.join(map(str, listofdeadtasters)),2)\n",
    "    poisonedbottle=binarysearch(bottles, bottle)\n",
    "    return poisonedbottle\n",
    "    \n",
    "listofdeadtasters=[0,1,1,1]    \n",
    "print('The poisoned bottle 🍾 is index:', poisonedbottle(listofdeadtasters))"
   ]
  },
  {
   "cell_type": "code",
   "execution_count": null,
   "metadata": {},
   "outputs": [],
   "source": []
  }
 ],
 "metadata": {
  "kernelspec": {
   "display_name": "Python 3",
   "language": "python",
   "name": "python3"
  },
  "language_info": {
   "codemirror_mode": {
    "name": "ipython",
    "version": 3
   },
   "file_extension": ".py",
   "mimetype": "text/x-python",
   "name": "python",
   "nbconvert_exporter": "python",
   "pygments_lexer": "ipython3",
   "version": "3.6.7"
  }
 },
 "nbformat": 4,
 "nbformat_minor": 2
}
