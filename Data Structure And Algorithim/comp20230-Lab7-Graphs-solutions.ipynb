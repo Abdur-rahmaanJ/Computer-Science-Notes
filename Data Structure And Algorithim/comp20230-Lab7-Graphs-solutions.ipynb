{
 "cells": [
  {
   "cell_type": "markdown",
   "metadata": {},
   "source": [
    "# COMP20230 Tutorial/Lab: Graphs\n",
    "\n",
    "## Graphs in Python\n",
    "\n",
    "Included in the anaconda distribution is a package called `networkx` that allows you to create graphs and provides impelemntations of `dfs`, `bfs`, `dijkstra` etc. It even provides implementations to plot and visualise your graphs. Be warned the documentation and examples can be tricky to follow.\n",
    "\n",
    "To begin with, we will use the `networkx` package (https://networkx.github.io/documentation/) to create a graph, $G$, and add vertices (nodes) $a$ through $j$ with edges corresponding to the example in the lecture slides."
   ]
  },
  {
   "cell_type": "code",
   "execution_count": 8,
   "metadata": {},
   "outputs": [
    {
     "name": "stdout",
     "output_type": "stream",
     "text": [
      "Name: \n",
      "Type: Graph\n",
      "Number of nodes: 10\n",
      "Number of edges: 15\n",
      "Average degree:   3.0000\n"
     ]
    }
   ],
   "source": [
    "import math\n",
    "import networkx as nx\n",
    "import matplotlib.pyplot as plt\n",
    "import sys\n",
    "G = nx.Graph()\n",
    "G.add_node('a')\n",
    "G.add_node('b')\n",
    "G.add_node('c')\n",
    "G.add_node('d')\n",
    "G.add_node('e')\n",
    "G.add_node('f')\n",
    "G.add_node('g')\n",
    "G.add_node('h')\n",
    "G.add_node('i')\n",
    "G.add_node('j')\n",
    "\n",
    "G.add_edge('a', 'b')\n",
    "G.add_edge('a', 'c')\n",
    "G.add_edge('a', 'd')\n",
    "G.add_edge('a', 'e')\n",
    "G.add_edge('a', 'j')\n",
    "G.add_edge('b', 'e')\n",
    "G.add_edge('b', 'f')\n",
    "G.add_edge('c', 'd')\n",
    "G.add_edge('d', 'j')\n",
    "G.add_edge('e', 'f')\n",
    "G.add_edge('e', 'h')\n",
    "G.add_edge('f', 'g')\n",
    "G.add_edge('g', 'i')\n",
    "G.add_edge('h', 'i')\n",
    "G.add_edge('i', 'j')\n",
    "\n",
    "print(nx.info(G))"
   ]
  },
  {
   "cell_type": "markdown",
   "metadata": {},
   "source": [
    "Now, we will use the networkx plotting functionality (that uses `matplotlib` under the covers) to plot the graph. The layout could be visualised in any way as the origin and the lengths of the edges are arbitrary.\n",
    "\n",
    "There is a method `nx.spring_layout(G)` which will compute a random layout for you. I have specified the x and y co-ordinates in a dictionary so that the layout is close to that in in the slides.\n",
    "\n",
    "The rest of the code below just sets the parameters for colours, size, font etc."
   ]
  },
  {
   "cell_type": "code",
   "execution_count": 18,
   "metadata": {},
   "outputs": [
    {
     "data": {
      "image/png": "[encoded data removed]",
      "text/plain": [
       "<Figure size 432x288 with 1 Axes>"
      ]
     },
     "metadata": {
      "needs_background": "light"
     },
     "output_type": "display_data"
    }
   ],
   "source": [
    "# pos = nx.spring_layout(G) # for a random layout\n",
    "pos= {'a': [-.2, .7], 'b': [-.3,  -.8], 'c': [0,-.8], 'd': [0.4, -0.8], 'e': [-.7, -2.2], 'f': [-.1, -2.2], 'g': [.2,-2.2], 'h': [ -.4, -3.6], 'i': [ .7, -2.4], 'j': [.8, .7]}\n",
    "nx.draw_networkx_nodes(G, pos, node_size=1500, alpha=.9, node_color='#0000ac')\n",
    "nx.draw_networkx_edges(G, pos,\n",
    "                           width=2, alpha=0.5, edge_color='k', style='dashed')\n",
    "nx.draw_networkx_labels(G, pos, font_size=24, font_family='sans-serif', font_color='white')\n",
    "plt.ylim([-4.5,1.3])\n",
    "limits=plt.axis('off') # turn of axis"
   ]
  },
  {
   "cell_type": "markdown",
   "metadata": {},
   "source": [
    "## Depth First Search (DFS) and Breadth First Search (BFS)\n",
    "\n",
    "`networkx` will compute a `dfs` or `bfs` for a given start vertex and returns the the search route as tuple pairs.\n",
    "\n",
    "It will also compute Dijkstra and a shortest path between two vertices. Check the documentation for how to do this."
   ]
  },
  {
   "cell_type": "code",
   "execution_count": 10,
   "metadata": {},
   "outputs": [
    {
     "name": "stdout",
     "output_type": "stream",
     "text": [
      "[('c', 'a'), ('a', 'b'), ('b', 'e'), ('e', 'f'), ('f', 'g'), ('g', 'i'), ('i', 'h'), ('i', 'j'), ('j', 'd')]\n"
     ]
    }
   ],
   "source": [
    "print(list(nx.dfs_edges(G, 'c')))"
   ]
  },
  {
   "cell_type": "code",
   "execution_count": 11,
   "metadata": {},
   "outputs": [
    {
     "name": "stdout",
     "output_type": "stream",
     "text": [
      "[('c', 'a'), ('c', 'd'), ('a', 'b'), ('a', 'e'), ('a', 'j'), ('b', 'f'), ('e', 'h'), ('j', 'i'), ('f', 'g')]\n"
     ]
    }
   ],
   "source": [
    "print(list(nx.bfs_edges(G, 'c')))"
   ]
  },
  {
   "cell_type": "markdown",
   "metadata": {},
   "source": [
    "## Implementing a Graph algorithm\n",
    "\n",
    "The code below to implements a Graph ADT for an undirected, unweighted graph in Python. It is a simple implementation without error checking.\n",
    "\n",
    "In addition, to the graph structure, it also keeps a list that tells you for each index in the graph what is the content of the node (i.e. allow us to, for instance, assign a number value to each vertex similar to the example graphs in the lecture).\n",
    "\n",
    "We implement three key operations:\n",
    "\n",
    "* `add_vertex(G, x)`\n",
    "* `add_edge(G, x, y)`\n",
    "* `neighbours(G, x)`\n",
    "\n",
    "There is also a method to allow us to print the graph: `print_str(self)`"
   ]
  },
  {
   "cell_type": "code",
   "execution_count": 12,
   "metadata": {},
   "outputs": [],
   "source": [
    "class Graph:\n",
    "    \n",
    "    def __init__(self):\n",
    "        self.__my_adjacency_list = []\n",
    "        self.__vertex_content = []\n",
    "\n",
    "    def add_vertex(self, x):\n",
    "        self.__my_adjacency_list.append([])\n",
    "        self.__vertex_content.append(x)\n",
    "        \n",
    "    def add_edge(self, x, y):\n",
    "        if y not in self.__my_adjacency_list[x]:\n",
    "            self.__my_adjacency_list[x].append(y)\n",
    "            self.__my_adjacency_list[y].append(x)\n",
    "        \n",
    "    def neighbours(self, x):\n",
    "        return self.__my_adjacency_list[x]\n",
    "        \n",
    "    def print_str(self):\n",
    "        for i in range(0, len(self.__my_adjacency_list)):\n",
    "            print(\"node \", i, \"(\" , self.__vertex_content[i] , \") = \", self.__my_adjacency_list[i])\n",
    "        "
   ]
  },
  {
   "cell_type": "markdown",
   "metadata": {},
   "source": [
    "## Questions/Exercises\n",
    "\n",
    "1. Implement a graph with nodes labelled $3,100,50$ with edges between 3 and 100 and 100 and 50 and print out the results.\n",
    "2. The code uses an adjacency list. Consider how you might use a matrix instead. What change would you make to the constructor?\n"
   ]
  },
  {
   "cell_type": "markdown",
   "metadata": {},
   "source": [
    "# Solution"
   ]
  },
  {
   "cell_type": "code",
   "execution_count": 13,
   "metadata": {},
   "outputs": [
    {
     "name": "stdout",
     "output_type": "stream",
     "text": [
      "node  0 ( 3 ) =  [1]\n",
      "node  1 ( 100 ) =  [0, 2]\n",
      "node  2 ( 50 ) =  [1]\n",
      "neighbours of 1 =  [0, 2]\n"
     ]
    }
   ],
   "source": [
    "g = Graph()\n",
    "g.add_vertex(3)\n",
    "g.add_vertex(100)\n",
    "g.add_vertex(50)\n",
    "g.add_edge(0, 1)\n",
    "g.add_edge(1, 2)\n",
    "\n",
    "g.print_str()\n",
    "print(\"neighbours of 1 = \", g.neighbours(1))\n",
    "\n",
    "# for a matrix, the constructor would need:\n",
    "#     def __init__(self):\n",
    "#         self.__my_matrix = [[]]\n",
    "#         self.__vertex_content = []"
   ]
  },
  {
   "cell_type": "markdown",
   "metadata": {},
   "source": [
    "## Weighted Graph\n",
    "\n",
    "The example below shows a weighted, undirected graph. It makes use of a `defaultdict`. This is a special kind of dictionary. Look it up in the python documentation."
   ]
  },
  {
   "cell_type": "code",
   "execution_count": 14,
   "metadata": {},
   "outputs": [],
   "source": [
    "import collections\n",
    "import math\n",
    " \n",
    "class Graph:\n",
    "    def __init__(self):\n",
    "        self.vertices = set()\n",
    "        # makes the default value for all vertices an empty list\n",
    "        self.edges = collections.defaultdict(list)\n",
    "        self.weights = {}\n",
    " \n",
    "    def add_vertex(self, value):\n",
    "        self.vertices.add(value)\n",
    " \n",
    "    def add_edge(self, from_vertex, to_vertex, distance):\n",
    "        if from_vertex == to_vertex: pass  # no cycles allowed\n",
    "        self.edges[from_vertex].append(to_vertex)\n",
    "        self.edges[to_vertex].append(from_vertex) \n",
    "        self.weights[(from_vertex, to_vertex)] = distance\n",
    "        self.weights[(to_vertex, from_vertex)] = distance \n",
    " \n",
    "    def __str__(self):\n",
    "        string = \"Vertices: \" + str(self.vertices) + \"\\n\"\n",
    "        string += \"Edges: \" + str(self.edges) + \"\\n\"\n",
    "        string += \"Weights: \" + str(self.weights)\n",
    "        return string"
   ]
  },
  {
   "cell_type": "markdown",
   "metadata": {},
   "source": [
    "## Questions/Exercises\n",
    "\n",
    "3. How would you adapt the code to make this a directed weighted graph?"
   ]
  },
  {
   "cell_type": "markdown",
   "metadata": {},
   "source": [
    "# Solution"
   ]
  },
  {
   "cell_type": "code",
   "execution_count": 15,
   "metadata": {},
   "outputs": [],
   "source": [
    "import collections\n",
    "import math\n",
    " \n",
    "class Graph:\n",
    "    def __init__(self):\n",
    "        self.vertices = set()\n",
    "        # makes the default value for all vertices an empty list\n",
    "        self.edges = collections.defaultdict(list)\n",
    "        self.weights = {}\n",
    " \n",
    "    def add_vertex(self, value):\n",
    "        self.vertices.add(value)\n",
    " \n",
    "    def add_edge(self, from_vertex, to_vertex, distance):\n",
    "        if from_vertex == to_vertex: pass  # no cycles allowed\n",
    "        self.edges[from_vertex].append(to_vertex)\n",
    "        #self.edges[to_vertex].append(from_vertex) # just comment out to change from undirected graph to directed\n",
    "        self.weights[(from_vertex, to_vertex)] = distance\n",
    "        #self.weights[(to_vertex, from_vertex)] = distance # just comment out to change from undirected graph to directed\n",
    " \n",
    "    def __str__(self):\n",
    "        string = \"Vertices: \" + str(self.vertices) + \"\\n\"\n",
    "        string += \"Edges: \" + str(self.edges) + \"\\n\"\n",
    "        string += \"Weights: \" + str(self.weights)\n",
    "        return string"
   ]
  },
  {
   "cell_type": "markdown",
   "metadata": {},
   "source": [
    "## Finding the Shortest Path via Dijkstra\n",
    "\n",
    "Implement Dijkstra's algorithm to find the shortest path in a graph. Run for starting at node $C$ and node $H$.\n",
    "\n",
    "The sample code contains functions for `dijkstra(graph, start)` and `shortest_path(graph, start, end)`. \n"
   ]
  },
  {
   "cell_type": "code",
   "execution_count": 16,
   "metadata": {},
   "outputs": [],
   "source": [
    "\n",
    "def dijkstra(graph, start):\n",
    "    # initializations\n",
    "    S = set()\n",
    "\n",
    "    # delta represents the length shortest distance paths from start -> v, for v in delta.\n",
    "    # We initialize it so that every vertex has a path of infinity (this line will break if you run python 2)\n",
    "    delta = dict.fromkeys(list(graph.vertices), math.inf)\n",
    "    previous = dict.fromkeys(list(graph.vertices), None)\n",
    "\n",
    "    # then we set the path length of the start vertex to 0\n",
    "    delta[start] = 0\n",
    "\n",
    "    # while there exists a vertex v not in S\n",
    "    while S != graph.vertices:\n",
    "        # let v be the closest vertex that has not been visited...it will begin at 'start'\n",
    "        v = min((set(delta.keys()) - S), key=delta.get)\n",
    "\n",
    "        # for each neighbor of v not in S\n",
    "        for neighbor in set(graph.edges[v]) - S:\n",
    "            new_path = delta[v] + graph.weights[v,neighbor]\n",
    "\n",
    "            # is the new path from neighbor through\n",
    "            if new_path < delta[neighbor]:\n",
    "                # since it's optimal, update the shortest path for neighbor\n",
    "                delta[neighbor] = new_path\n",
    "\n",
    "                # set the previous vertex of neighbor to v\n",
    "                previous[neighbor] = v\n",
    "        S.add(v)\n",
    "\n",
    "    return (delta, previous)\n",
    " \n",
    " \n",
    " \n",
    "def shortest_path(graph, start, end):\n",
    "    '''Uses dijkstra function in order to output the shortest path from start to end\n",
    "    '''\n",
    "    delta, previous = dijkstra(graph, start)\n",
    "\n",
    "    path = []\n",
    "    vertex = end\n",
    "\n",
    "    while vertex is not None:\n",
    "        path.append(vertex)\n",
    "        vertex = previous[vertex]\n",
    "\n",
    "    path.reverse()\n",
    "    return path\n"
   ]
  },
  {
   "cell_type": "code",
   "execution_count": 17,
   "metadata": {},
   "outputs": [
    {
     "name": "stdout",
     "output_type": "stream",
     "text": [
      "graph:  Vertices: {'a', 'e', 'f', 'b', 'c', 'g', 'h', 'i', 'd', 'j'}\n",
      "Edges: defaultdict(<class 'list'>, {'a': ['b', 'c', 'd', 'e', 'j'], 'b': ['e', 'f'], 'c': ['d'], 'd': ['j'], 'e': ['f', 'h'], 'f': ['g'], 'g': ['i'], 'h': ['i'], 'i': ['j']})\n",
      "Weights: {('a', 'b'): 4, ('a', 'c'): 6, ('a', 'd'): 7, ('a', 'e'): 5, ('a', 'j'): 1, ('b', 'e'): 9, ('b', 'f'): 8, ('c', 'd'): 2, ('d', 'j'): 3, ('e', 'f'): 4, ('e', 'h'): 3, ('f', 'g'): 7, ('g', 'i'): 15, ('h', 'i'): 12, ('i', 'j'): 9}\n",
      "({'a': inf, 'e': inf, 'f': inf, 'b': inf, 'c': 0, 'g': inf, 'h': inf, 'i': inf, 'd': 2, 'j': 5}, {'a': None, 'e': None, 'f': None, 'b': None, 'c': None, 'g': None, 'h': None, 'i': None, 'd': 'c', 'j': 'd'})\n",
      "['g']\n"
     ]
    }
   ],
   "source": [
    "g = Graph()\n",
    "vertices = ['a', 'b', 'c', 'd', 'e', 'f', 'g', 'h', 'i', 'j']\n",
    "for v in vertices:\n",
    "    g.add_vertex(v)\n",
    "\n",
    "# vertex a adjacency list\n",
    "g.add_edge('a', 'b', 4)\n",
    "g.add_edge('a', 'c', 6)\n",
    "g.add_edge('a', 'd', 7)\n",
    "g.add_edge('a', 'e', 5)\n",
    "g.add_edge('a', 'j', 1)\n",
    "# vertex b adjacency list\n",
    "g.add_edge('b', 'e', 9)\n",
    "g.add_edge('b', 'f', 8)\n",
    "\n",
    "g.add_edge('c', 'd', 2)\n",
    "\n",
    "g.add_edge('d', 'j', 3)\n",
    "\n",
    "g.add_edge('e', 'f', 4)\n",
    "g.add_edge('e', 'h', 3)\n",
    "\n",
    "g.add_edge('f', 'g', 7)\n",
    "\n",
    "g.add_edge('g', 'i', 15)\n",
    "\n",
    "g.add_edge('h', 'i', 12)\n",
    "g.add_edge('i', 'j', 9)\n",
    "print(\"graph: \", g)\n",
    "print(dijkstra(g, 'c'))\n",
    "\n",
    "print(shortest_path(g, 'c', 'g'))"
   ]
  }
 ],
 "metadata": {
  "kernelspec": {
   "display_name": "Python 3",
   "language": "python",
   "name": "python3"
  },
  "language_info": {
   "codemirror_mode": {
    "name": "ipython",
    "version": 3
   },
   "file_extension": ".py",
   "mimetype": "text/x-python",
   "name": "python",
   "nbconvert_exporter": "python",
   "pygments_lexer": "ipython3",
   "version": "3.6.7"
  }
 },
 "nbformat": 4,
 "nbformat_minor": 2
}
