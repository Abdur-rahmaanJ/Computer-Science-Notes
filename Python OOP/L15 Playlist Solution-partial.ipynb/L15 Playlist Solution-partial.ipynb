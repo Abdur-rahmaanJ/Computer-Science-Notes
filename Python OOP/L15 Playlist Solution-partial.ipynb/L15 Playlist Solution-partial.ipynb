{
 "cells": [
  {
   "cell_type": "markdown",
   "metadata": {},
   "source": [
    "## Playlist Exercise"
   ]
  },
  {
   "cell_type": "code",
   "execution_count": null,
   "metadata": {},
   "outputs": [],
   "source": [
    "from L15Time import TimeMS"
   ]
  },
  {
   "cell_type": "code",
   "execution_count": null,
   "metadata": {},
   "outputs": [],
   "source": [
    "t1 = TimeMS('10:30')"
   ]
  },
  {
   "cell_type": "code",
   "execution_count": null,
   "metadata": {},
   "outputs": [],
   "source": [
    "t1.get_time()"
   ]
  },
  {
   "cell_type": "code",
   "execution_count": null,
   "metadata": {},
   "outputs": [],
   "source": [
    "print(t1)"
   ]
  },
  {
   "cell_type": "code",
   "execution_count": null,
   "metadata": {},
   "outputs": [],
   "source": [
    "t1.inc((1,15))\n",
    "print(t1)"
   ]
  },
  {
   "cell_type": "code",
   "execution_count": null,
   "metadata": {},
   "outputs": [],
   "source": [
    "t1.inc((0,30))\n",
    "print(t1)"
   ]
  },
  {
   "cell_type": "code",
   "execution_count": null,
   "metadata": {
    "scrolled": true
   },
   "outputs": [],
   "source": [
    "t1.reset()\n",
    "print(t1)"
   ]
  },
  {
   "cell_type": "markdown",
   "metadata": {},
   "source": [
    "## Shuffle"
   ]
  },
  {
   "cell_type": "code",
   "execution_count": null,
   "metadata": {},
   "outputs": [],
   "source": [
    "from random import shuffle\n",
    "from random import randint"
   ]
  },
  {
   "cell_type": "code",
   "execution_count": null,
   "metadata": {},
   "outputs": [],
   "source": [
    "a = [1,2,3,4,4,4,4,5,6]"
   ]
  },
  {
   "cell_type": "code",
   "execution_count": null,
   "metadata": {},
   "outputs": [],
   "source": [
    "shuffle(a)"
   ]
  },
  {
   "cell_type": "code",
   "execution_count": null,
   "metadata": {},
   "outputs": [],
   "source": [
    "a"
   ]
  },
  {
   "cell_type": "code",
   "execution_count": null,
   "metadata": {},
   "outputs": [],
   "source": [
    "def basic_fy_shuffle(slist):\n",
    "    # produce a copy of the original list \n",
    "    # that we can pull apart.\n",
    "    tlist = slist.copy()\n",
    "    rlist = [] # target list\n",
    "    for i in range(len(tlist),0,-1):\n",
    "        print(i,\":\",tlist)\n",
    "        sel = tlist[randint(0,i-1)]\n",
    "        rlist.append(sel)\n",
    "        tlist.remove(sel)\n",
    "    return rlist"
   ]
  },
  {
   "cell_type": "code",
   "execution_count": null,
   "metadata": {
    "scrolled": true
   },
   "outputs": [],
   "source": [
    "basic_fy_shuffle(a)"
   ]
  },
  {
   "cell_type": "code",
   "execution_count": null,
   "metadata": {},
   "outputs": [],
   "source": [
    "basic_fy_shuffle(['Hello','Bye'])"
   ]
  },
  {
   "cell_type": "code",
   "execution_count": null,
   "metadata": {},
   "outputs": [],
   "source": [
    "def modern_fy_shuffle(slist):\n",
    "        n = len(slist)\n",
    "        for i in range(n-1,0,-1):\n",
    "            j = randint(0,i)\n",
    "            slist[i],slist[j]=slist[j],slist[i]"
   ]
  },
  {
   "cell_type": "code",
   "execution_count": null,
   "metadata": {},
   "outputs": [],
   "source": [
    "modern_fy_shuffle(a)\n",
    "a"
   ]
  },
  {
   "cell_type": "markdown",
   "metadata": {},
   "source": [
    "   ## Load csv"
   ]
  },
  {
   "cell_type": "code",
   "execution_count": null,
   "metadata": {},
   "outputs": [],
   "source": [
    "import csv\n",
    "\n",
    "def load_csv(file_name):\n",
    "    with open(file_name, newline='') as csvfile:\n",
    "        musicreader = csv.reader(csvfile, delimiter=',')\n",
    "        for row in musicreader:\n",
    "            print(row)"
   ]
  },
  {
   "cell_type": "code",
   "execution_count": null,
   "metadata": {},
   "outputs": [],
   "source": [
    "load_csv('music.csv')"
   ]
  },
  {
   "cell_type": "markdown",
   "metadata": {},
   "source": [
    "### The Track class"
   ]
  },
  {
   "cell_type": "code",
   "execution_count": null,
   "metadata": {},
   "outputs": [],
   "source": [
    "class Track():\n",
    "    def __init__(self,id,artist,title,time):\n",
    "        self.id = id\n",
    "        self.artist = artist\n",
    "        self.title = title \n",
    "        self.time = TimeMS(time)\n",
    "    def __str__(self):\n",
    "        return \"  %s\\t%s: %s\" % (self.id, self.artist,self.title)\n",
    "    def __eq__(self, other):\n",
    "        return self.artist == other.artist and self.title == other.title\n",
    "    def __lt__(self, other):\n",
    "        return (self.artist, self.title) < (other.artist, other.title)"
   ]
  },
  {
   "cell_type": "code",
   "execution_count": null,
   "metadata": {},
   "outputs": [],
   "source": [
    "lg1 = Track(45,'Lady Gaga','La Vie en Rose','3:00')\n",
    "lg2 = Track(47,'Lady Gaga','Hair Body Face','3:23')\n",
    "\n",
    "print(lg1)"
   ]
  },
  {
   "cell_type": "code",
   "execution_count": null,
   "metadata": {},
   "outputs": [],
   "source": [
    "lg = [lg1,lg2]\n",
    "for t in lg: print(t)"
   ]
  },
  {
   "cell_type": "code",
   "execution_count": null,
   "metadata": {},
   "outputs": [],
   "source": [
    "lg.sort()\n",
    "for t in lg: print(t)"
   ]
  },
  {
   "cell_type": "code",
   "execution_count": null,
   "metadata": {},
   "outputs": [],
   "source": [
    "import csv\n",
    "\n",
    "class FullTrackList():\n",
    "    def __init__(self,file_name='music.csv'):\n",
    "        self.file_name = file_name\n",
    "        self.tracks = []        # track objects\n",
    "        self.tracks_dict ={}    # track ids : track objects\n",
    "        self.load_csv(self.file_name)\n",
    "    def load_csv(self,file_name):\n",
    "        with open(file_name, newline='') as csvfile:\n",
    "            musicreader = csv.reader(csvfile, delimiter=',')\n",
    "            for row in musicreader:\n",
    "                this_track = Track(row[0],row[1],row[2],row[3])\n",
    "                self.tracks_dict[this_track.id]=this_track\n",
    "                self.tracks.append(this_track)\n",
    "    def list_tracks(self):\n",
    "        for t in self.tracks:\n",
    "            print(t)"
   ]
  },
  {
   "cell_type": "code",
   "execution_count": null,
   "metadata": {},
   "outputs": [],
   "source": [
    "tlist = FullTrackList(file_name='music.csv')\n",
    "print(tlist.tracks_dict['4'])"
   ]
  },
  {
   "cell_type": "code",
   "execution_count": null,
   "metadata": {},
   "outputs": [],
   "source": [
    "tlist.list_tracks()"
   ]
  },
  {
   "cell_type": "code",
   "execution_count": null,
   "metadata": {},
   "outputs": [],
   "source": [
    "from random import randint\n",
    "\n",
    "class Playlist():\n",
    "    # Constructor arguments:\n",
    "    #  initial track ids and the track master list\n",
    "    def __init__(self,track_ids,tracklist): \n",
    "        pass\n",
    "    def setup_list(self, tids):\n",
    "        pass\n",
    "\n",
    "    def show_playlist(self):\n",
    "        pass\n",
    "\n",
    "    def add_track(self,tsid):\n",
    "        pass\n",
    "\n",
    "    def remove_track(self,tsid):\n",
    "        pass\n",
    "    \n",
    "    def sort_playlist(self):\n",
    "        pass\n",
    "    \n",
    "    def shuffle_playlist(self):\n",
    "        pass\n",
    "    \n",
    "    def calculate_time(self):\n",
    "        pass\n",
    "            "
   ]
  },
  {
   "cell_type": "code",
   "execution_count": null,
   "metadata": {},
   "outputs": [],
   "source": [
    "pl = Playlist(['1','2','3'],tlist)\n",
    "pl.show_playlist()"
   ]
  },
  {
   "cell_type": "code",
   "execution_count": null,
   "metadata": {},
   "outputs": [],
   "source": [
    "pl.track_ids"
   ]
  },
  {
   "cell_type": "code",
   "execution_count": null,
   "metadata": {},
   "outputs": [],
   "source": [
    "pl.add_track('7')\n",
    "pl.add_track('12')\n",
    "pl.add_track('8')\n",
    "pl.show_playlist()"
   ]
  },
  {
   "cell_type": "code",
   "execution_count": null,
   "metadata": {},
   "outputs": [],
   "source": [
    "pl.add_track(13)\n",
    "pl.remove_track(1)\n",
    "pl.shuffle_playlist()\n",
    "pl.show_playlist()"
   ]
  },
  {
   "cell_type": "code",
   "execution_count": null,
   "metadata": {},
   "outputs": [],
   "source": [
    "pl.sort_playlist()\n",
    "pl.show_playlist()"
   ]
  },
  {
   "cell_type": "code",
   "execution_count": null,
   "metadata": {},
   "outputs": [],
   "source": [
    "pl.add_track('10')\n",
    "pl.show_playlist()"
   ]
  },
  {
   "cell_type": "code",
   "execution_count": null,
   "metadata": {},
   "outputs": [],
   "source": []
  }
 ],
 "metadata": {
  "kernelspec": {
   "display_name": "Python 3",
   "language": "python",
   "name": "python3"
  },
  "language_info": {
   "codemirror_mode": {
    "name": "ipython",
    "version": 3
   },
   "file_extension": ".py",
   "mimetype": "text/x-python",
   "name": "python",
   "nbconvert_exporter": "python",
   "pygments_lexer": "ipython3",
   "version": "3.6.3"
  }
 },
 "nbformat": 4,
 "nbformat_minor": 2
}
