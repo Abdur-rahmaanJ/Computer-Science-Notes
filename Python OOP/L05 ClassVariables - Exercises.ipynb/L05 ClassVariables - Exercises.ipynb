{
 "cells": [
  {
   "cell_type": "markdown",
   "metadata": {
    "deletable": true,
    "editable": true
   },
   "source": [
    "## Class Variables and Instance Variables"
   ]
  },
  {
   "cell_type": "markdown",
   "metadata": {},
   "source": [
    "## Exercise\n",
    "Create a Class Student and sub-classes `FT_Student` and `PT_Student`\n",
    "* Each should have an Class variable credits\n",
    "    - For `FT_Student`: `credits = 60`\n",
    "    - For `PT_Student`: `credits = 30`\n",
    "* Create instances \n",
    "    - `FT_Student`: `Joe ` & ` Mary`\n",
    "    - `PT_Student: Ann ` & ` Fred`\n",
    "* Change the value of credits for `PT_Student` to 20  \n",
    "Does this change for `Ann ` & ` Fred`?"
   ]
  },
  {
   "cell_type": "code",
   "execution_count": null,
   "metadata": {
    "collapsed": true
   },
   "outputs": [],
   "source": [
    "class Student:\n",
    "    pass \n",
    "\n",
    "class FT_Student(Student):\n",
    "    credits = 60\n",
    "\n",
    "class PT_Student(Student):\n",
    "    credits = 30"
   ]
  },
  {
   "cell_type": "code",
   "execution_count": null,
   "metadata": {
    "collapsed": true
   },
   "outputs": [],
   "source": [
    "Joe = FT_Student\n",
    "Mary = FT_Student\n",
    "Ann = PT_Student\n",
    "Fred = PT_Student"
   ]
  },
  {
   "cell_type": "code",
   "execution_count": null,
   "metadata": {
    "collapsed": false
   },
   "outputs": [],
   "source": [
    "Fred.credits"
   ]
  },
  {
   "cell_type": "code",
   "execution_count": null,
   "metadata": {
    "collapsed": true
   },
   "outputs": [],
   "source": [
    "PT_Student.credits = 20"
   ]
  },
  {
   "cell_type": "code",
   "execution_count": null,
   "metadata": {
    "collapsed": false,
    "deletable": true,
    "editable": true
   },
   "outputs": [],
   "source": [
    "Fred.credits"
   ]
  },
  {
   "cell_type": "markdown",
   "metadata": {
    "deletable": true,
    "editable": true
   },
   "source": [
    "### Exercise\n",
    "**1** Create a new class called Cat with:\n",
    " - Instance variables\n",
    "  - name\n",
    "  - fav_food\n",
    "  - staff\n",
    " - Class variables\n",
    "  - disposition =  ‘Not as nice as dogs’\n",
    "  - cat_count = 0\n",
    " - Methods\n",
    "   - \\_\\_init\\_\\_\n",
    "   - add_staff\n",
    "\n",
    "**2** Fix add\\_staff so that if won't add someone who is already staff  \n",
    "**3** Fix \\_\\_init\\_\\_ so that it updates cat_count each time a cat is created"
   ]
  },
  {
   "cell_type": "code",
   "execution_count": null,
   "metadata": {
    "collapsed": true,
    "deletable": true,
    "editable": true
   },
   "outputs": [],
   "source": [
    "class Cat:\n",
    "    disposition = 'Not as nice as dogs'    \n",
    "    cat_count = 0\n",
    "    \n",
    "    def __init__(self, name, food):\n",
    "        self.name = name    \n",
    "        self.fav_food = food  \n",
    "        self.staff = []\n",
    "    \n",
    "    def add_staff(self, s):\n",
    "        self.staff.append(s)"
   ]
  },
  {
   "cell_type": "code",
   "execution_count": null,
   "metadata": {
    "collapsed": true,
    "deletable": true,
    "editable": true
   },
   "outputs": [],
   "source": [
    "g = Cat('Garfield','Lasagna')"
   ]
  },
  {
   "cell_type": "code",
   "execution_count": null,
   "metadata": {
    "collapsed": false,
    "deletable": true,
    "editable": true
   },
   "outputs": [],
   "source": [
    "g.__dict__"
   ]
  },
  {
   "cell_type": "code",
   "execution_count": null,
   "metadata": {
    "collapsed": true,
    "deletable": true,
    "editable": true
   },
   "outputs": [],
   "source": [
    "g.add_staff('Jon')\n",
    "g.add_staff('Liz')"
   ]
  },
  {
   "cell_type": "code",
   "execution_count": null,
   "metadata": {
    "collapsed": false,
    "deletable": true,
    "editable": true
   },
   "outputs": [],
   "source": [
    "g.staff"
   ]
  },
  {
   "cell_type": "markdown",
   "metadata": {
    "deletable": true,
    "editable": true
   },
   "source": [
    "**Q2**  \n",
    "Fix add_staff so that if won't add someone who is already staff"
   ]
  },
  {
   "cell_type": "code",
   "execution_count": null,
   "metadata": {
    "collapsed": false,
    "deletable": true,
    "editable": true
   },
   "outputs": [],
   "source": [
    "class Cat:\n",
    "    disposition = 'Not as nice as dogs'    \n",
    "    cat_count = 0\n",
    "    \n",
    "    def __init__(self, name, food):\n",
    "        self.name = name    \n",
    "        self.fav_food = food  \n",
    "        self.staff = []\n",
    "    \n",
    "    def add_staff(self, s):\n",
    "        if not s in self.staff:\n",
    "            self.staff.append(s)"
   ]
  },
  {
   "cell_type": "code",
   "execution_count": null,
   "metadata": {
    "collapsed": true,
    "deletable": true,
    "editable": true
   },
   "outputs": [],
   "source": [
    "g = Cat('Garfield','Lasagna')"
   ]
  },
  {
   "cell_type": "code",
   "execution_count": null,
   "metadata": {
    "collapsed": false,
    "deletable": true,
    "editable": true
   },
   "outputs": [],
   "source": [
    "g.add_staff('Jon')"
   ]
  },
  {
   "cell_type": "code",
   "execution_count": null,
   "metadata": {
    "collapsed": false,
    "deletable": true,
    "editable": true
   },
   "outputs": [],
   "source": [
    "g.staff"
   ]
  },
  {
   "cell_type": "code",
   "execution_count": null,
   "metadata": {
    "collapsed": true,
    "deletable": true,
    "editable": true
   },
   "outputs": [],
   "source": [
    "g.add_staff('Jon')\n",
    "g.add_staff('Liz')"
   ]
  },
  {
   "cell_type": "code",
   "execution_count": null,
   "metadata": {
    "collapsed": false,
    "deletable": true,
    "editable": true
   },
   "outputs": [],
   "source": [
    "g.staff"
   ]
  },
  {
   "cell_type": "markdown",
   "metadata": {
    "deletable": true,
    "editable": true
   },
   "source": [
    "**Q3**  \n",
    "Fix \\_\\_init\\_\\_ so that it updates cat_count each time a cat is created"
   ]
  },
  {
   "cell_type": "code",
   "execution_count": null,
   "metadata": {
    "collapsed": true,
    "deletable": true,
    "editable": true
   },
   "outputs": [],
   "source": [
    "class Cat:\n",
    "    disposition = 'Not as nice as dogs'    \n",
    "    cat_count = 0\n",
    "    \n",
    "    def __init__(self, name, food):\n",
    "        self.name = name    \n",
    "        self.fav_food = food  \n",
    "        self.staff = []\n",
    "        Cat.cat_count += 1\n",
    "    \n",
    "    def add_staff(self, s):\n",
    "        if not s in self.staff:\n",
    "            self.staff.append(s)"
   ]
  },
  {
   "cell_type": "code",
   "execution_count": null,
   "metadata": {
    "collapsed": true,
    "deletable": true,
    "editable": true
   },
   "outputs": [],
   "source": [
    "g = Cat('Garfield','Lasagna')"
   ]
  },
  {
   "cell_type": "code",
   "execution_count": null,
   "metadata": {
    "collapsed": false,
    "deletable": true,
    "editable": true
   },
   "outputs": [],
   "source": [
    "g.cat_count"
   ]
  },
  {
   "cell_type": "code",
   "execution_count": null,
   "metadata": {
    "collapsed": false,
    "deletable": true,
    "editable": true
   },
   "outputs": [],
   "source": [
    "Cat.cat_count"
   ]
  },
  {
   "cell_type": "code",
   "execution_count": null,
   "metadata": {
    "collapsed": true,
    "deletable": true,
    "editable": true
   },
   "outputs": [],
   "source": [
    "c = Cat('Catsy Cline','Little Birds')"
   ]
  },
  {
   "cell_type": "code",
   "execution_count": null,
   "metadata": {
    "collapsed": false,
    "deletable": true,
    "editable": true
   },
   "outputs": [],
   "source": [
    "g.cat_count"
   ]
  },
  {
   "cell_type": "code",
   "execution_count": null,
   "metadata": {
    "collapsed": false,
    "deletable": true,
    "editable": true
   },
   "outputs": [],
   "source": [
    "Cat.cat_count"
   ]
  },
  {
   "cell_type": "code",
   "execution_count": null,
   "metadata": {
    "collapsed": false,
    "deletable": true,
    "editable": true
   },
   "outputs": [],
   "source": [
    "s = Cat('Santa Claws','Mince Pies')"
   ]
  },
  {
   "cell_type": "code",
   "execution_count": null,
   "metadata": {
    "collapsed": false,
    "deletable": true,
    "editable": true
   },
   "outputs": [],
   "source": [
    "Cat.cat_count"
   ]
  },
  {
   "cell_type": "code",
   "execution_count": null,
   "metadata": {
    "collapsed": true,
    "deletable": true,
    "editable": true
   },
   "outputs": [],
   "source": []
  }
 ],
 "metadata": {
  "kernelspec": {
   "display_name": "Python 3",
   "language": "python",
   "name": "python3"
  },
  "language_info": {
   "codemirror_mode": {
    "name": "ipython",
    "version": 3
   },
   "file_extension": ".py",
   "mimetype": "text/x-python",
   "name": "python",
   "nbconvert_exporter": "python",
   "pygments_lexer": "ipython3",
   "version": "3.5.4"
  }
 },
 "nbformat": 4,
 "nbformat_minor": 2
}
