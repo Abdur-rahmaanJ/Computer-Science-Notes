{
 "cells": [
  {
   "cell_type": "markdown",
   "metadata": {},
   "source": [
    "# MyDate\n",
    "Julian Day \n",
    "https://en.wikipedia.org/wiki/Julian_day  \n",
    "Day of the week - Zeller algorithm\n",
    "https://en.wikipedia.org/wiki/Determination_of_the_day_of_the_week \n",
    "\n",
    "`MyDate`: A simple date class with the day stored internally as `__day,__month,__year`  \n",
    "\n",
    "- A constructor that takes arguments; `d,m,y`.\n",
    "- `JulianDay` which returns the Julian Day number for the date. The Julian Day number is a unique integer that can be assigned to each day since 1st Jan 4713 BC. https://en.wikipedia.org/wiki/Julian_day \n",
    "- `diff` which takes another MyDate object as argument and returns the difference in days.\n",
    "- `weekday` which returns the weekday (Monday, Tuesday, etc.) for the date.\n",
    "- `print` which prints the day in yyyy/mm/dd format. "
   ]
  },
  {
   "cell_type": "code",
   "execution_count": null,
   "metadata": {},
   "outputs": [],
   "source": [
    "class myDate:\n",
    "    __dayArr= ['Saturday','Sunday','Monday','Tuedsay',\n",
    "                 'Wednesday','Thursday','Friday']\n",
    "       \n",
    "    def __init__(self, d,m,y):\n",
    "        self.__day = d\n",
    "        self.__month = m\n",
    "        self.__year = y\n",
    "        \n",
    "    def print(self):\n",
    "        print('%d/%d/%d' % (self.__year,self.__month,self.__day))\n",
    "    \n",
    "    def JulianDay(self):\n",
    "        m = self.__month\n",
    "        d = self.__day\n",
    "        y = self.__year\n",
    "        \n",
    "        return 367*y -(7*(y+(m+9)//12)//4) +(275*m)//9 + d + 1721013\n",
    "     \n",
    "    def diff(self,other_day):\n",
    "        diff_days = other_day.JulianDay() -self.JulianDay()\n",
    "        return diff_days\n",
    "    \n",
    "    # Sunday is 1, Saturday is 0\n",
    "    def weekday(self): \n",
    "        year = self.__year\n",
    "        if self.__month < 3: year = year -1\n",
    "        c = year // 100\n",
    "        y = year - c*100\n",
    "        d = self.__day\n",
    "        m = (self.__month + 9) % 12 + 3\n",
    "        #print(c,y,m,d)\n",
    "\n",
    "        w = (d + (13*(m+1))//5 + y + y//4 +c//4 -2*c) % 7\n",
    "        return myDate.__dayArr[w]"
   ]
  },
  {
   "cell_type": "code",
   "execution_count": null,
   "metadata": {},
   "outputs": [],
   "source": [
    "d1 = myDate(13,5,2000)\n",
    "d2 = myDate(13,4,2001)\n",
    "d3 = myDate(15,5,2000)\n",
    "d4 = myDate(13,5,2001)\n",
    "dbd = myDate(13,5,1962)\n",
    "today = myDate(3,11,2018)"
   ]
  },
  {
   "cell_type": "code",
   "execution_count": null,
   "metadata": {
    "scrolled": true
   },
   "outputs": [],
   "source": [
    "nyd = myDate(1,1,2000)\n",
    "nyd.weekday()"
   ]
  },
  {
   "cell_type": "code",
   "execution_count": null,
   "metadata": {},
   "outputs": [],
   "source": [
    "d1.weekday()"
   ]
  },
  {
   "cell_type": "code",
   "execution_count": null,
   "metadata": {},
   "outputs": [],
   "source": [
    "today.JulianDay()"
   ]
  },
  {
   "cell_type": "code",
   "execution_count": null,
   "metadata": {},
   "outputs": [],
   "source": [
    "d1._myDate__day"
   ]
  },
  {
   "cell_type": "code",
   "execution_count": null,
   "metadata": {},
   "outputs": [],
   "source": [
    "print (d1.JulianDay())\n",
    "print (d2.JulianDay())"
   ]
  },
  {
   "cell_type": "code",
   "execution_count": null,
   "metadata": {},
   "outputs": [],
   "source": [
    "d1.diff(d4)"
   ]
  },
  {
   "cell_type": "code",
   "execution_count": null,
   "metadata": {},
   "outputs": [],
   "source": [
    "d4.diff(d1)"
   ]
  },
  {
   "cell_type": "code",
   "execution_count": null,
   "metadata": {},
   "outputs": [],
   "source": [
    "d2.diff(d4)"
   ]
  },
  {
   "cell_type": "markdown",
   "metadata": {
    "collapsed": true
   },
   "source": [
    "## myDateJ \n",
    "A second implementation of myDate.  \n",
    "In this version the date is stored internally as a Julian number"
   ]
  },
  {
   "cell_type": "code",
   "execution_count": null,
   "metadata": {},
   "outputs": [],
   "source": [
    "class myDateJ:\n",
    "    __dayArr= ['Saturday','Sunday','Monday','Tuedsay',\n",
    "                 'Wednesday','Thursday','Friday']\n",
    "       \n",
    "    def __init__(self, d,m,y):\n",
    "        self.__jDay = 367*y -(7*(y+(m+9)//12)//4) +(275*m)//9 + d + 1721013\n",
    "        \n",
    "    def print(self):\n",
    "        J = self.JulianDay() + 1\n",
    "        f = J + 1401 + ((((4 *J+274277)//146097)*3)//4) - 38\n",
    "        e = 4 * f + 3\n",
    "        g = (e % 1461) // 4\n",
    "        h = 5 * g +2\n",
    "        D = (h % 153)//5 + 1\n",
    "        M = (((h//153) + 2) % 12) + 1\n",
    "        Y = (e//1461) - 4716 +(12+2 -M)//12\n",
    "        print('%d/%d/%d' % (Y,M,D))\n",
    "    \n",
    "    def JulianDay(self):\n",
    "        return self.__jDay\n",
    "       \n",
    "    def diff(self,other_day):\n",
    "        diff_days = other_day.JulianDay() -self.JulianDay()\n",
    "        return diff_days\n",
    "    \n",
    "    # Sunday is 1, Saturday is 0\n",
    "    def weekday(self): \n",
    "        i = (self.__jDay + 3) % 7\n",
    "        return myDateJ.__dayArr[i]\n"
   ]
  },
  {
   "cell_type": "code",
   "execution_count": null,
   "metadata": {},
   "outputs": [],
   "source": [
    "td = myDateJ(2,11,2018)\n",
    "td.JulianDay()"
   ]
  },
  {
   "cell_type": "code",
   "execution_count": null,
   "metadata": {},
   "outputs": [],
   "source": [
    "bd = myDateJ(13,5,1962)"
   ]
  },
  {
   "cell_type": "code",
   "execution_count": null,
   "metadata": {},
   "outputs": [],
   "source": [
    "bd.JulianDay()"
   ]
  },
  {
   "cell_type": "code",
   "execution_count": null,
   "metadata": {},
   "outputs": [],
   "source": [
    "bd.weekday()"
   ]
  },
  {
   "cell_type": "code",
   "execution_count": null,
   "metadata": {},
   "outputs": [],
   "source": [
    "yd = myDateJ(31,7,2018)\n",
    "td = myDateJ(1,8,2018)\n",
    "td.weekday()"
   ]
  },
  {
   "cell_type": "code",
   "execution_count": null,
   "metadata": {},
   "outputs": [],
   "source": [
    "testDay = myDateJ(29,2,2000)"
   ]
  },
  {
   "cell_type": "code",
   "execution_count": null,
   "metadata": {},
   "outputs": [],
   "source": [
    "testDay.print()"
   ]
  },
  {
   "cell_type": "code",
   "execution_count": null,
   "metadata": {},
   "outputs": [],
   "source": [
    "yd.diff(td)"
   ]
  },
  {
   "cell_type": "markdown",
   "metadata": {
    "collapsed": true
   },
   "source": [
    "## Testing\n",
    "Test the two classes against each other."
   ]
  },
  {
   "cell_type": "code",
   "execution_count": null,
   "metadata": {},
   "outputs": [],
   "source": [
    "testDates = [(29,2,2000),(13,5,2000),(13,4,2001),(15,5,2000),(13,5,2001),(13,5,1962),(3,11,2018)]"
   ]
  },
  {
   "cell_type": "code",
   "execution_count": null,
   "metadata": {},
   "outputs": [],
   "source": [
    "for dtuple in testDates:\n",
    "    td = myDate(dtuple[0],dtuple[1],dtuple[2])    \n",
    "    tdJ = myDateJ(dtuple[0],dtuple[1],dtuple[2])\n",
    "    print(td.JulianDay(),tdJ.JulianDay(),td.JulianDay() == tdJ.JulianDay())\n",
    "    print(td.weekday(),tdJ.weekday(),td.weekday() == tdJ.weekday())"
   ]
  },
  {
   "cell_type": "code",
   "execution_count": null,
   "metadata": {},
   "outputs": [],
   "source": []
  },
  {
   "cell_type": "code",
   "execution_count": null,
   "metadata": {},
   "outputs": [],
   "source": []
  }
 ],
 "metadata": {
  "kernelspec": {
   "display_name": "Python 3",
   "language": "python",
   "name": "python3"
  },
  "language_info": {
   "codemirror_mode": {
    "name": "ipython",
    "version": 3
   },
   "file_extension": ".py",
   "mimetype": "text/x-python",
   "name": "python",
   "nbconvert_exporter": "python",
   "pygments_lexer": "ipython3",
   "version": "3.6.5"
  }
 },
 "nbformat": 4,
 "nbformat_minor": 2
}
