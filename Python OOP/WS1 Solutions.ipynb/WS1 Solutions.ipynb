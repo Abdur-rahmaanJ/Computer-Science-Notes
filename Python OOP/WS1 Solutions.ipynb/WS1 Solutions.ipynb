{
 "cells": [
  {
   "cell_type": "markdown",
   "metadata": {},
   "source": [
    "# WS4 Tuples & Dictionaries \n",
    "\n",
    "**Q1**  \n",
    "\n",
    "Heart Rate Zones based on Heart Rate Reserve (HRR)  \n",
    "Max Heart Rate (MHR)  \n",
    "Resting Heart Rate (RHR)  \n",
    "Age  \n",
    "```\n",
    "def HRR_Zones_calc(rhr,mhr):\n",
    "    hrr = mhr - rhr\n",
    "    print ('Zone 1: %d bps to %d bps' % (rhr + hrr * 0.5, rhr + hrr * 0.6))\n",
    "    print ('Zone 2: %d bps to %d bps' % (rhr + hrr * 0.6, rhr + hrr * 0.7))\n",
    "    print ('Zone 3: %d bps to %d bps' % (rhr + hrr * 0.7, rhr + hrr * 0.8))\n",
    "    print ('Zone 4: %d bps to %d bps' % (rhr + hrr * 0.8, rhr + hrr * 0.9))\n",
    "    print ('Zone 5: %d bps to %d bps' % (rhr + hrr * 0.9, rhr + hrr * 1.0))\n",
    "```\n",
    "Write a wrapper function for this that will take Age as a required argument and will accept RHR and MHR as keyword arguments.  If these are not provided they can be estimated as follows.\n",
    "\n",
    "MHR = 207 - 0.7 * Age  or it can be provided by the User  \n",
    "RHR = 65  or can be provided by the User  \n",
    "HRR = MHR - RHR  \n",
    "\n",
    "Zone 1 = 50% to 60%  \n",
    "Zone 2 = 60% to 70%  \n",
    "Zone 3 = 70% to 80%  \n",
    "Zone 4 = 80% to 90%  \n",
    "Zone 5 = 90% to 100%  \n"
   ]
  },
  {
   "cell_type": "code",
   "execution_count": null,
   "metadata": {
    "collapsed": true
   },
   "outputs": [],
   "source": [
    "def HRR_Zones(age,**kwargs):   # **kwargs MHR, RHR\n",
    "    # Determine RHR\n",
    "    if 'MHR' in kwargs:\n",
    "        MHR = kwargs['MHR']\n",
    "    else:\n",
    "        MHR = 207 - 0.7 * age\n",
    "    print('MHR = %f' % MHR)\n",
    "    # Determine RHR\n",
    "    if 'RHR' in kwargs:\n",
    "        RHR = kwargs['RHR']\n",
    "    else:\n",
    "        RHR = 65\n",
    "    print('RHR = %f' % RHR)\n",
    "    HRR_Zones_calc(RHR, MHR)\n",
    "    \n",
    "def HRR_Zones_calc(rhr,mhr):\n",
    "    hrr = mhr - rhr\n",
    "    print ('Zone 1: %d bps to %d bps' % (rhr + hrr * 0.5, rhr + hrr * 0.6))\n",
    "    print ('Zone 2: %d bps to %d bps' % (rhr + hrr * 0.6, rhr + hrr * 0.7))\n",
    "    print ('Zone 3: %d bps to %d bps' % (rhr + hrr * 0.7, rhr + hrr * 0.8))\n",
    "    print ('Zone 4: %d bps to %d bps' % (rhr + hrr * 0.8, rhr + hrr * 0.9))\n",
    "    print ('Zone 5: %d bps to %d bps' % (rhr + hrr * 0.9, rhr + hrr * 1.0))"
   ]
  },
  {
   "cell_type": "code",
   "execution_count": null,
   "metadata": {
    "collapsed": true
   },
   "outputs": [],
   "source": [
    "def HRR_ZonesV2(age,**kwargs):   # **kwargs MHR, RHR\n",
    "    # Determine RHR\n",
    "    if 'MHR' in kwargs:\n",
    "        MHR = kwargs['MHR']\n",
    "    else:\n",
    "        MHR = 207 - 0.7 * age\n",
    "    print('MHR = %f' % MHR)\n",
    "    # Determine RHR\n",
    "    if 'RHR' in kwargs:\n",
    "        RHR = kwargs['RHR']\n",
    "    else:\n",
    "        RHR = 65\n",
    "    print('RHR = %f' % RHR)\n",
    "    HRR_Zones_calcV2(RHR, MHR)\n",
    "    \n",
    "def HRR_Zones_calcV2(rhr,mhr):\n",
    "    hrr = mhr - rhr\n",
    "    rangeStarts = [0.5,0.6,0.7,0.8,0.9]\n",
    "    for (z,rs) in zip(range(1,6),rangeStarts):\n",
    "        print('Zone %d: %d bps to %d bps' % \n",
    "              (z, rhr + hrr * rs,  rhr + hrr * (rs + 0.1)))"
   ]
  },
  {
   "cell_type": "code",
   "execution_count": null,
   "metadata": {},
   "outputs": [],
   "source": [
    "HRR_ZonesV2(55)"
   ]
  },
  {
   "cell_type": "code",
   "execution_count": null,
   "metadata": {},
   "outputs": [],
   "source": [
    "HRR_ZonesV2(55,MHR = 183)"
   ]
  },
  {
   "cell_type": "code",
   "execution_count": null,
   "metadata": {},
   "outputs": [],
   "source": [
    "HRR_Zones(55,RHR = 60,MHR = 183)"
   ]
  },
  {
   "cell_type": "code",
   "execution_count": null,
   "metadata": {},
   "outputs": [],
   "source": [
    "HRR_Zones(55,RHR = 60)"
   ]
  },
  {
   "cell_type": "markdown",
   "metadata": {},
   "source": [
    "**Q2**  \n",
    "The Monty Hall Problem. This is a famous counter-intuitive probability problem (https://en.wikipedia.org/wiki/Monty_Hall_problem).\n",
    "\n",
    "*\"Suppose you're on a game show, and you're given the choice of three doors: Behind one door is a car; behind the others, goats. You pick a door, say Door 1, and the host, who knows what's behind the doors, opens another door, say Door 3, which has a goat. He then says to you, \"Do you want to pick Door 2?\" Is it to your advantage to switch your choice?\"*\n",
    "\n",
    "The code in the Monty Hall notebook implements the scenario where the contestant (you) always switches their choice once the first goat is revealed. \n",
    "\n",
    "* Evaluate this function with different numbers of trials. \n",
    "* Be sure you understand how the *args argument on the MontyHall function can switch off the verbose output. \n",
    "* Write an alternative  MontyHall function that implements the strategy where the contestant sticks with their original choice. Evaluate this function to demonstrate that the win probability is different. \n",
    "* Modify the MultiMontyHall function so that it will take a function name (MontyHallStick or MontyHallSwitch) as an additional argument and print out the name of the function being evaluated.\n",
    "\n"
   ]
  },
  {
   "cell_type": "code",
   "execution_count": null,
   "metadata": {
    "collapsed": true
   },
   "outputs": [],
   "source": [
    "from random import random\n",
    "from random import choice"
   ]
  },
  {
   "cell_type": "markdown",
   "metadata": {},
   "source": [
    "This code models the scenario where you do change your choice. "
   ]
  },
  {
   "cell_type": "code",
   "execution_count": null,
   "metadata": {
    "collapsed": true
   },
   "outputs": [],
   "source": [
    "Doors =['Door 1','Door 2','Door 3']\n",
    "def MontyHallSwitch(*args):       # args is a optional argument to turn off print statements\n",
    "    notChosen = list(Doors) # list() creates a copy of Doors\n",
    "    car = choice(Doors)     # The car is behind this door\n",
    "    yourGuess = choice(Doors)\n",
    "    if not args:\n",
    "        print(\"Initially you guess %s\" % yourGuess)\n",
    "    # This is where the host reveals the goat behind a door you have not chosen\n",
    "    notChosen.remove(yourGuess)\n",
    "    if notChosen[0] == car: # If the first of the not chosen doors has the car the host reveals the other one. \n",
    "        if not args:\n",
    "            print(\"Goat revealed on %s\" % notChosen[1])\n",
    "        yourGuess = notChosen[0]  # You switch your choice.\n",
    "    else:\n",
    "        if not args:\n",
    "            print(\"Goat revealed on %s\" % notChosen[0]) \n",
    "        yourGuess = notChosen[1]  # You switch your choice.\n",
    "    # The big reveal\n",
    "    if not args:\n",
    "        print(\"Your guess is now %s\" % yourGuess) \n",
    "    if yourGuess == car:\n",
    "        return 'Car!'\n",
    "    return 'Goat!'"
   ]
  },
  {
   "cell_type": "code",
   "execution_count": null,
   "metadata": {},
   "outputs": [],
   "source": [
    "y = MontyHallSwitch()\n",
    "y"
   ]
  },
  {
   "cell_type": "markdown",
   "metadata": {},
   "source": [
    "## Evaluation  \n",
    "<code>MultiMontyHall</code> is an evaluation function that will call <code>MontyHall</code> multiple times to empirically test how often the chosen policy achieves a win."
   ]
  },
  {
   "cell_type": "code",
   "execution_count": null,
   "metadata": {
    "collapsed": true
   },
   "outputs": [],
   "source": [
    "def MultiMontyHall(tries):\n",
    "    count = 0\n",
    "    for i in range(tries):\n",
    "        # MontyHall call with \"Quiet\" supresses print statements\n",
    "        if MontyHallSwitch(\"Quiet\") == 'Car!': count += 1\n",
    "    return int(count/tries*100)"
   ]
  },
  {
   "cell_type": "code",
   "execution_count": null,
   "metadata": {},
   "outputs": [],
   "source": [
    "MultiMontyHall(1000)"
   ]
  },
  {
   "cell_type": "markdown",
   "metadata": {},
   "source": [
    "## Evaluation  Part 2\n",
    "Evaluate the scenario when the player can stick with their original choice.  \n"
   ]
  },
  {
   "cell_type": "code",
   "execution_count": null,
   "metadata": {
    "collapsed": true
   },
   "outputs": [],
   "source": [
    "Doors =['Door 1','Door 2','Door 3']\n",
    "def MontyHallStick(*args):       # args is a optional argument to turn off print statements\n",
    "    notChosen = list(Doors) # list() creates a copy of Doors\n",
    "    car = choice(Doors)     # The car is behind this door\n",
    "    yourGuess = choice(Doors)\n",
    "    if not args:\n",
    "        print(\"Initially you guess %s\" % yourGuess)\n",
    "    # This is where the host reveals the goat behind a door you have not chosen\n",
    "    notChosen.remove(yourGuess)\n",
    "    if notChosen[0] == car: # If the first of the not chosen doors has the car the host reveals the other one. \n",
    "        if not args:\n",
    "            print(\"Goat revealed on %s\" % notChosen[1])\n",
    "        yourGuess = yourGuess  # You don't switch.\n",
    "    else:\n",
    "        if not args:\n",
    "            print(\"Goat revealed on %s\" % notChosen[0]) \n",
    "        yourGuess = yourGuess  # You don't switch.\n",
    "    # The big reveal\n",
    "    if not args:\n",
    "        print(\"Your guess is now %s\" % yourGuess) \n",
    "    if yourGuess == car:\n",
    "        return 'Car!'\n",
    "    return 'Goat!'"
   ]
  },
  {
   "cell_type": "code",
   "execution_count": null,
   "metadata": {
    "collapsed": true
   },
   "outputs": [],
   "source": [
    "def MultiMontyHallV2(MHfunc,tries):\n",
    "    print(\"Testing\",MHfunc.__name__)\n",
    "    count = 0\n",
    "    for i in range(tries):\n",
    "        # MontyHall call with \"Quiet\" supresses print statements\n",
    "        if MHfunc(\"Quiet\") == 'Car!': count += 1\n",
    "    return int(count/tries*100+0.5)"
   ]
  },
  {
   "cell_type": "code",
   "execution_count": null,
   "metadata": {},
   "outputs": [],
   "source": [
    "MultiMontyHallV2(MontyHallSwitch,10000)"
   ]
  },
  {
   "cell_type": "code",
   "execution_count": null,
   "metadata": {},
   "outputs": [],
   "source": [
    "MultiMontyHallV2(MontyHallStick,10000)"
   ]
  },
  {
   "cell_type": "code",
   "execution_count": null,
   "metadata": {
    "collapsed": true
   },
   "outputs": [],
   "source": []
  }
 ],
 "metadata": {
  "kernelspec": {
   "display_name": "Python 3",
   "language": "python",
   "name": "python3"
  },
  "language_info": {
   "codemirror_mode": {
    "name": "ipython",
    "version": 3
   },
   "file_extension": ".py",
   "mimetype": "text/x-python",
   "name": "python",
   "nbconvert_exporter": "python",
   "pygments_lexer": "ipython3",
   "version": "3.6.3"
  }
 },
 "nbformat": 4,
 "nbformat_minor": 1
}
