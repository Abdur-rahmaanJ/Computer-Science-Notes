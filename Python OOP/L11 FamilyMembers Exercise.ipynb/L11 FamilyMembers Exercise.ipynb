{
 "cells": [
  {
   "cell_type": "markdown",
   "metadata": {},
   "source": [
    "## Family Members Exercise"
   ]
  },
  {
   "cell_type": "code",
   "execution_count": null,
   "metadata": {},
   "outputs": [],
   "source": [
    "class Person():\n",
    "    def __init__(self, name, surname,dob):\n",
    "        self.name = name\n",
    "        self.surname = surname\n",
    "        self.dob = dob\n",
    "    \n",
    "    def show(self):\n",
    "        print(self.name + ' ' + self.surname + \"  DOB: \" + self.dob)\n",
    "\n",
    "class Parent(Person):\n",
    "    def __init__(self,name,surname,dob):\n",
    "        Person.__init__(self,name,surname,dob)\n",
    "        self.children = []\n",
    "\n",
    "class Child(Person):\n",
    "    def __init__(self,name,surname,dob,parents):\n",
    "        self.parents = []\n",
    "        Person.__init__(self,name,surname,dob)\n",
    "        for p in parents:\n",
    "            if isinstance(p,Parent):\n",
    "                self.parents.append(p)\n",
    "            elif isinstance(p,Person):\n",
    "                print(p.name,p.surname, 'is not a parent.')\n",
    "            else:\n",
    "                print(p,\"isn't even a person\")\n",
    "        \n",
    "    def show(self):\n",
    "        Person.show(self)\n",
    "        print(\"Parents\")\n",
    "        for p in self.parents:\n",
    "            p.show()\n",
    "    "
   ]
  },
  {
   "cell_type": "code",
   "execution_count": null,
   "metadata": {},
   "outputs": [],
   "source": [
    "pat = Person('Pat','Malone','18/03/2001')\n",
    "joe = Parent('Joe','Bloggs','23/Dec/1982')\n",
    "mary = Parent('Mary','Maher','19/Nov/1981')\n",
    "lucy = Child('Lucy','Malone','11/Feb/2006',[])\n",
    "joeJunior = Child('Joe Junior', 'Bloggs','14/Nov/2009',[joe,mary])\n",
    "luckyLaura = Child('Laura', 'White','14/May/2006',[joe,mary,lucy])\n",
    "luke = Child('Luke','Smyth','19/Apr/2008',[\"Fido\",\"Vlad\"])"
   ]
  },
  {
   "cell_type": "code",
   "execution_count": null,
   "metadata": {},
   "outputs": [],
   "source": [
    "pat.show()"
   ]
  },
  {
   "cell_type": "code",
   "execution_count": null,
   "metadata": {},
   "outputs": [],
   "source": [
    "joe.show()"
   ]
  },
  {
   "cell_type": "code",
   "execution_count": null,
   "metadata": {},
   "outputs": [],
   "source": [
    "joeJunior.show()"
   ]
  },
  {
   "cell_type": "code",
   "execution_count": null,
   "metadata": {},
   "outputs": [],
   "source": [
    "isinstance(joe, Person)"
   ]
  },
  {
   "cell_type": "code",
   "execution_count": null,
   "metadata": {},
   "outputs": [],
   "source": [
    "joe.__class__ == Parent"
   ]
  },
  {
   "cell_type": "code",
   "execution_count": null,
   "metadata": {},
   "outputs": [],
   "source": []
  }
 ],
 "metadata": {
  "kernelspec": {
   "display_name": "Python 3",
   "language": "python",
   "name": "python3"
  },
  "language_info": {
   "codemirror_mode": {
    "name": "ipython",
    "version": 3
   },
   "file_extension": ".py",
   "mimetype": "text/x-python",
   "name": "python",
   "nbconvert_exporter": "python",
   "pygments_lexer": "ipython3",
   "version": "3.6.5"
  }
 },
 "nbformat": 4,
 "nbformat_minor": 2
}
