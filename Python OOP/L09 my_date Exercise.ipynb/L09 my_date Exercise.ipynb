{
 "cells": [
  {
   "cell_type": "markdown",
   "metadata": {},
   "source": [
    "# L09 `my_date` Exercise"
   ]
  },
  {
   "cell_type": "code",
   "execution_count": 11,
   "metadata": {},
   "outputs": [],
   "source": [
    "class my_date():\n",
    "    def __init__(self, d, m, y):\n",
    "        self.day = d\n",
    "        self.month = m\n",
    "        self.year = y\n",
    "    def show(self):\n",
    "        print(self.day,'/',self.month,'/',self.year)"
   ]
  },
  {
   "cell_type": "code",
   "execution_count": 12,
   "metadata": {},
   "outputs": [],
   "source": [
    "td = my_date(22,8,2018)"
   ]
  },
  {
   "cell_type": "code",
   "execution_count": 13,
   "metadata": {},
   "outputs": [
    {
     "name": "stdout",
     "output_type": "stream",
     "text": [
      "22 / 8 / 2018\n"
     ]
    }
   ],
   "source": [
    "td.show()"
   ]
  },
  {
   "cell_type": "markdown",
   "metadata": {},
   "source": [
    "**Q** Change the month attribute so that it is a property.  \n",
    "Code the setter function so that it produces a message if the month is not an integer between 1 and 12."
   ]
  },
  {
   "cell_type": "code",
   "execution_count": 15,
   "metadata": {},
   "outputs": [],
   "source": [
    "class my_date():\n",
    "    def __init__(self, d, m, y):\n",
    "        self.day = d\n",
    "        self.month = m\n",
    "        self.year = y\n",
    "    def show(self):\n",
    "        print(self.day,'/',self.month,'/',self.year)\n",
    "    @property\n",
    "    def month(self):\n",
    "        return self._month\n",
    "    @month.setter\n",
    "    def month(self, m):\n",
    "        if m <= 12 and m >= 1:\n",
    "            self._month = m\n",
    "        else:\n",
    "            print(\"Month must be between 1 and 12.\")"
   ]
  },
  {
   "cell_type": "code",
   "execution_count": 16,
   "metadata": {},
   "outputs": [],
   "source": [
    "td = my_date(22,8,2018)"
   ]
  },
  {
   "cell_type": "code",
   "execution_count": 17,
   "metadata": {},
   "outputs": [
    {
     "name": "stdout",
     "output_type": "stream",
     "text": [
      "22 / 8 / 2018\n"
     ]
    }
   ],
   "source": [
    "td.show()"
   ]
  },
  {
   "cell_type": "code",
   "execution_count": 18,
   "metadata": {},
   "outputs": [
    {
     "name": "stdout",
     "output_type": "stream",
     "text": [
      "Month must be between 1 and 12.\n"
     ]
    }
   ],
   "source": [
    "td.month = 0"
   ]
  },
  {
   "cell_type": "code",
   "execution_count": null,
   "metadata": {},
   "outputs": [],
   "source": []
  }
 ],
 "metadata": {
  "kernelspec": {
   "display_name": "Python 3",
   "language": "python",
   "name": "python3"
  },
  "language_info": {
   "codemirror_mode": {
    "name": "ipython",
    "version": 3
   },
   "file_extension": ".py",
   "mimetype": "text/x-python",
   "name": "python",
   "nbconvert_exporter": "python",
   "pygments_lexer": "ipython3",
   "version": "3.6.5"
  }
 },
 "nbformat": 4,
 "nbformat_minor": 2
}
