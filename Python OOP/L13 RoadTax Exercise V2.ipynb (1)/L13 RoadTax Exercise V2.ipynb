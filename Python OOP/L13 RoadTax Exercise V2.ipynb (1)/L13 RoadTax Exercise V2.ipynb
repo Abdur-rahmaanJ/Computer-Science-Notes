{
 "cells": [
  {
   "cell_type": "markdown",
   "metadata": {},
   "source": [
    "## Road Tax Exercise\n",
    "In Ireland, the price you pay for road tax is based on two different assessments; engine size if your car was manufactured before July 2008, or Co2 emissions output if your car was manufactured after July 2008.\n",
    "\n",
    "Here is a subset of both price models\n",
    "\n",
    "\n",
    "### CO2 Model\n",
    "**Price** `      ` **CO2**  \n",
    "`€120   0 -   1  `  \n",
    "`€170   2 -  80 `  \n",
    "`€180  81 - 100  `  \n",
    "`€190 101 - 110  `  \n",
    "`€200 111 - 120  `  \n",
    "\n",
    "### Engine CC\n",
    "**Price** `      ` **CC**  \n",
    "`€199    0 - 1000`  \n",
    "`€299 1001 - 1100`\t\t  \n",
    "`€330 1101 - 1200`\t\t  \n",
    "`€358 1201 - 1300`\t\t  \n",
    "`€385 1301 - 1400`\t\t\n",
    "\n",
    "**1** Create classes `Car`, and subclasses `PreJul2008` and `PostJul2008`.  \n",
    "The subclasses have a method `get_tax_rate`.  \n",
    "`PreJul2008` has an attribute `CC`  \n",
    "`PostJul2008` has an attribute `CO2` \n",
    "\n",
    "**2** Write a function `total_tax` that will take a list of car objects as argument and return the total tax bill for these cars. Test it on a fleet with two pre July 2008 cars (1250CC and 1400CC) and a post July 2008 car with an emission level of 110.\n"
   ]
  },
  {
   "cell_type": "code",
   "execution_count": null,
   "metadata": {},
   "outputs": [],
   "source": [
    "def load_dict_file(d,file):\n",
    "    with open(file, 'r') as co2_file:\n",
    "        for line in co2_file.readlines():\n",
    "            line = line.strip()\n",
    "            # This next line is a bit complicated, \n",
    "            # it might be clearer to use intermediate variables \n",
    "            # to store the result of the split. \n",
    "            a, d[a] = list(map (int, line.split(',')))\n",
    "            print(a,d[a])"
   ]
  },
  {
   "cell_type": "code",
   "execution_count": null,
   "metadata": {
    "scrolled": true
   },
   "outputs": [],
   "source": [
    "co2d = dict()\n",
    "ccd = dict()\n",
    "load_dict_file(co2d,'co2_limits.dat')\n",
    "load_dict_file(ccd,'CC_limits.dat')"
   ]
  },
  {
   "cell_type": "code",
   "execution_count": null,
   "metadata": {},
   "outputs": [],
   "source": [
    "for i in co2d:\n",
    "    print(i)"
   ]
  },
  {
   "cell_type": "code",
   "execution_count": null,
   "metadata": {},
   "outputs": [],
   "source": [
    "from sys import maxsize\n",
    "class Car():\n",
    "    pass\n",
    "\n",
    "class PreJul2008(Car):\n",
    "    Table = ccd\n",
    "    def __init__(self, CC):\n",
    "        self.CC = CC\n",
    "    def get_tax_rate(self):\n",
    "        lim = maxsize\n",
    "        for i in sorted(PreJul2008.Table):\n",
    "            if i >= self.CC and i <= lim:\n",
    "                lim = i\n",
    "        return PreJul2008.Table[lim]\n",
    "        \n",
    "class PostJul2008(Car):\n",
    "    Table = co2d\n",
    "    def __init__(self, co2):\n",
    "        self.co2 = co2\n",
    "    def get_tax_rate(self):\n",
    "        lim = maxsize\n",
    "        for i in sorted(PostJul2008.Table):\n",
    "            if i >= self.co2 and i < lim:\n",
    "                lim = i\n",
    "        return PostJul2008.Table[lim]"
   ]
  },
  {
   "cell_type": "code",
   "execution_count": null,
   "metadata": {},
   "outputs": [],
   "source": [
    "my_wreck = PreJul2008(1250)\n",
    "my_wheels = PostJul2008(110)\n",
    "my_first_car = PreJul2008(1400)\n",
    "\n",
    "my_fleet = [my_wreck, my_wheels, my_first_car]"
   ]
  },
  {
   "cell_type": "code",
   "execution_count": null,
   "metadata": {},
   "outputs": [],
   "source": [
    "my_wheels.get_tax_rate()"
   ]
  },
  {
   "cell_type": "code",
   "execution_count": null,
   "metadata": {
    "scrolled": true
   },
   "outputs": [],
   "source": [
    "my_wreck.get_tax_rate()"
   ]
  },
  {
   "cell_type": "code",
   "execution_count": null,
   "metadata": {},
   "outputs": [],
   "source": [
    "my_first_car.get_tax_rate()"
   ]
  },
  {
   "cell_type": "code",
   "execution_count": null,
   "metadata": {},
   "outputs": [],
   "source": [
    "def total_tax(fleet):\n",
    "    tax = 0\n",
    "    for car in my_fleet:\n",
    "        tax += car.get_tax_rate()\n",
    "    return tax"
   ]
  },
  {
   "cell_type": "code",
   "execution_count": null,
   "metadata": {},
   "outputs": [],
   "source": [
    "total_tax(my_fleet)"
   ]
  },
  {
   "cell_type": "code",
   "execution_count": null,
   "metadata": {},
   "outputs": [],
   "source": []
  }
 ],
 "metadata": {
  "kernelspec": {
   "display_name": "Python 3",
   "language": "python",
   "name": "python3"
  },
  "language_info": {
   "codemirror_mode": {
    "name": "ipython",
    "version": 3
   },
   "file_extension": ".py",
   "mimetype": "text/x-python",
   "name": "python",
   "nbconvert_exporter": "python",
   "pygments_lexer": "ipython3",
   "version": "3.6.5"
  }
 },
 "nbformat": 4,
 "nbformat_minor": 2
}
