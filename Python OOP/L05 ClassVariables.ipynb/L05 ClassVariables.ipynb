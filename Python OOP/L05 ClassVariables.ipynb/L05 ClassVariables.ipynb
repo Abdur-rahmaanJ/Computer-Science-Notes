{
 "cells": [
  {
   "cell_type": "markdown",
   "metadata": {
    "deletable": true,
    "editable": true
   },
   "source": [
    "## Class Variables and Instance Variables\n",
    "### Car class\n",
    " - Class variable wheels\n",
    " - Instance variables make and reg"
   ]
  },
  {
   "cell_type": "code",
   "execution_count": null,
   "metadata": {
    "collapsed": false,
    "deletable": true,
    "editable": true
   },
   "outputs": [],
   "source": [
    "class Car(object):\n",
    "    wheels = 4\n",
    "\n",
    "    def __init__(self, make, reg):\n",
    "        self.make = make\n",
    "        self.reg = reg\n",
    "\n",
    "nl = Car(\"Nissan Leaf\",\"11D4324\")\n",
    "print (\"My new car is a %s\" % nl.make)\n",
    "print (\"The reg is\", nl.reg)\n",
    "print (\"My car, like all cars, has %d wheels\" % Car.wheels)\n",
    "print (\"My car has %d wheels\" % nl.wheels)\n"
   ]
  },
  {
   "cell_type": "code",
   "execution_count": null,
   "metadata": {
    "collapsed": false,
    "deletable": true,
    "editable": true
   },
   "outputs": [],
   "source": [
    "nl.wheels = 3\n",
    "print (\"My car has %d wheels\" % nl.wheels)"
   ]
  },
  {
   "cell_type": "code",
   "execution_count": null,
   "metadata": {
    "collapsed": false,
    "deletable": true,
    "editable": true
   },
   "outputs": [],
   "source": [
    "Car.wheels"
   ]
  },
  {
   "cell_type": "markdown",
   "metadata": {
    "deletable": true,
    "editable": true
   },
   "source": [
    "## Exercise\n",
    "Create a Class Student and sub-classes `FT_Student` and `PT_Student`\n",
    "* Each should have an Class variable credits\n",
    "    - For `FT_Student`: `credits = 60`\n",
    "    - For `PT_Student`: `credits = 30`\n",
    "* Create instances \n",
    "    - `FT_Student`: `Joe ` & ` Mary`\n",
    "    - `PT_Student: Ann ` & ` Fred`\n",
    "* Change the value of credits for `PT_Student` to 20  \n",
    "Does this change for `Ann ` & ` Fred`?"
   ]
  },
  {
   "cell_type": "markdown",
   "metadata": {
    "deletable": true,
    "editable": true
   },
   "source": [
    "## Dogs\n",
    "- One class Dog\n",
    "- Two instances f and l\n",
    "- species is a class variable\n",
    "- name and tricks ad instance variables (vary with each instance)"
   ]
  },
  {
   "cell_type": "code",
   "execution_count": null,
   "metadata": {
    "collapsed": true,
    "deletable": true,
    "editable": true
   },
   "outputs": [],
   "source": [
    "class Dog:\n",
    "    species = 'Canidae'     # class variable shared by all instances\n",
    "    \n",
    "    def __init__(self, name):\n",
    "        self.name = name    # instance variable unique to each instance\n",
    "        self.tricks = []    # creates a new empty list for each dog\n",
    "\n",
    "    \n",
    "    def add_trick(self, trick):\n",
    "        self.tricks.append(trick)"
   ]
  },
  {
   "cell_type": "code",
   "execution_count": null,
   "metadata": {
    "collapsed": true,
    "deletable": true,
    "editable": true
   },
   "outputs": [],
   "source": [
    "f = Dog('Fido')\n",
    "l = Dog('Lassie')"
   ]
  },
  {
   "cell_type": "code",
   "execution_count": null,
   "metadata": {
    "collapsed": false,
    "deletable": true,
    "editable": true
   },
   "outputs": [],
   "source": [
    "f.name, l.name"
   ]
  },
  {
   "cell_type": "code",
   "execution_count": null,
   "metadata": {
    "collapsed": true,
    "deletable": true,
    "editable": true
   },
   "outputs": [],
   "source": [
    "f.add_trick(\"Play Dead\")\n",
    "f.add_trick('Fetch')"
   ]
  },
  {
   "cell_type": "code",
   "execution_count": null,
   "metadata": {
    "collapsed": false,
    "deletable": true,
    "editable": true
   },
   "outputs": [],
   "source": [
    "print(f.tricks)\n",
    "print(l.tricks)"
   ]
  },
  {
   "cell_type": "code",
   "execution_count": null,
   "metadata": {
    "collapsed": false,
    "deletable": true,
    "editable": true,
    "scrolled": true
   },
   "outputs": [],
   "source": [
    "print(f.species)\n",
    "print(l.species)"
   ]
  },
  {
   "cell_type": "code",
   "execution_count": null,
   "metadata": {
    "collapsed": false,
    "deletable": true,
    "editable": true
   },
   "outputs": [],
   "source": [
    "f.__dict__"
   ]
  },
  {
   "cell_type": "code",
   "execution_count": null,
   "metadata": {
    "collapsed": false,
    "deletable": true,
    "editable": true
   },
   "outputs": [],
   "source": [
    "f.species"
   ]
  },
  {
   "cell_type": "code",
   "execution_count": null,
   "metadata": {
    "collapsed": true,
    "deletable": true,
    "editable": true
   },
   "outputs": [],
   "source": [
    "Dog.species = 'Dog-like'"
   ]
  },
  {
   "cell_type": "code",
   "execution_count": null,
   "metadata": {
    "collapsed": false,
    "deletable": true,
    "editable": true
   },
   "outputs": [],
   "source": [
    "l.species"
   ]
  },
  {
   "cell_type": "code",
   "execution_count": null,
   "metadata": {
    "collapsed": false,
    "deletable": true,
    "editable": true
   },
   "outputs": [],
   "source": [
    "l.__dict__"
   ]
  },
  {
   "cell_type": "code",
   "execution_count": null,
   "metadata": {
    "collapsed": true,
    "deletable": true,
    "editable": true
   },
   "outputs": [],
   "source": [
    "l.species = 'All dogs'"
   ]
  },
  {
   "cell_type": "code",
   "execution_count": null,
   "metadata": {
    "collapsed": false,
    "deletable": true,
    "editable": true
   },
   "outputs": [],
   "source": [
    "l.__dict__"
   ]
  },
  {
   "cell_type": "markdown",
   "metadata": {
    "deletable": true,
    "editable": true
   },
   "source": [
    "### Exercise\n",
    "**1** Create a new class called Cat with:\n",
    " - Instance variables\n",
    "  - name\n",
    "  - fav_food\n",
    "  - staff\n",
    " - Class variables\n",
    "  - disposition =  ‘Not as nice as dogs’\n",
    "  - cat_count = 0\n",
    " - Methods\n",
    "   - \\_\\_init\\_\\_\n",
    "   - add_staff\n",
    "\n",
    "**2** Fix add\\_staff so that if won't add someone who is already staff  \n",
    "**3** Fix \\_\\_init\\_\\_ so that it updates cat_count each time a cat is created"
   ]
  },
  {
   "cell_type": "code",
   "execution_count": null,
   "metadata": {
    "collapsed": true,
    "deletable": true,
    "editable": true
   },
   "outputs": [],
   "source": []
  },
  {
   "cell_type": "code",
   "execution_count": null,
   "metadata": {
    "collapsed": true,
    "deletable": true,
    "editable": true
   },
   "outputs": [],
   "source": []
  }
 ],
 "metadata": {
  "kernelspec": {
   "display_name": "Python 3",
   "language": "python",
   "name": "python3"
  },
  "language_info": {
   "codemirror_mode": {
    "name": "ipython",
    "version": 3
   },
   "file_extension": ".py",
   "mimetype": "text/x-python",
   "name": "python",
   "nbconvert_exporter": "python",
   "pygments_lexer": "ipython3",
   "version": "3.5.4"
  }
 },
 "nbformat": 4,
 "nbformat_minor": 2
}
