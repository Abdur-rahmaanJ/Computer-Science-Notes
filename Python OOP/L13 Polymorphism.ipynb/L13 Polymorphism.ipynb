{
 "cells": [
  {
   "cell_type": "markdown",
   "metadata": {},
   "source": [
    "# Polymorphism"
   ]
  },
  {
   "cell_type": "markdown",
   "metadata": {},
   "source": [
    "### Example from Lecture 04"
   ]
  },
  {
   "cell_type": "code",
   "execution_count": null,
   "metadata": {
    "collapsed": true
   },
   "outputs": [],
   "source": [
    "class Employee():\n",
    "    def __init__(self, name):\n",
    "        self.name = name\n",
    "\n",
    "class HourlyPaidEmployee(Employee):\n",
    "    \n",
    "    def __init__(self, name):       \n",
    "        Employee.__init__(self, name)\n",
    "        self.hours = 0\n",
    "        self.rate = 0\n",
    "        \n",
    "    def set_hours(self, hours):\n",
    "        self.hours = hours\n",
    "        \n",
    "    def set_rate(self, r):\n",
    "        self.rate = r\n",
    "        \n",
    "    def get_pay(self):\n",
    "        return self.rate * self.hours\n",
    "\n",
    "class SalariedEmployee(Employee):\n",
    "    \n",
    "    def set_salary(self, sal):\n",
    "        self.salary = sal   \n",
    "    \n",
    "    def get_pay(self):\n",
    "        return self.salary / 12"
   ]
  },
  {
   "cell_type": "code",
   "execution_count": null,
   "metadata": {
    "collapsed": true
   },
   "outputs": [],
   "source": [
    "JB = HourlyPaidEmployee(\"Joe Bloggs\")\n",
    "MM = SalariedEmployee(\"Marvelous Mary\")\n",
    "SB = SalariedEmployee(\"Sally Bloggs\")\n",
    "JB.set_hours(121)\n",
    "JB.set_rate(10.50)\n",
    "MM.set_salary(45000)\n",
    "SB.set_salary(54000)"
   ]
  },
  {
   "cell_type": "code",
   "execution_count": null,
   "metadata": {},
   "outputs": [],
   "source": [
    "gang = (SB,MM,JB)\n",
    "for member in gang:\n",
    "    print(member.name, \"gets\", member.get_pay(), \"per month.\")"
   ]
  },
  {
   "cell_type": "markdown",
   "metadata": {},
   "source": [
    "## Shape Example  \n",
    "From https://overiq.com/python/3.4/inheritance-and-polymorphism-in-python/ "
   ]
  },
  {
   "cell_type": "code",
   "execution_count": null,
   "metadata": {
    "collapsed": true
   },
   "outputs": [],
   "source": [
    "import math\n",
    "\n",
    "class Shape:\n",
    "    def __init__(self, name='none', color='black', filled=False):\n",
    "        self.color = color\n",
    "        self.filled = filled\n",
    "        self.name = name\n",
    "  \n",
    "    @property\n",
    "    def name(self):\n",
    "         return self.__name\n",
    "\n",
    "    @name.setter\n",
    "    def name(self, name):\n",
    "        self.__name = name\n",
    "\n",
    "    @property\n",
    "    def color(self):\n",
    "         return self.__color\n",
    "\n",
    "    @color.setter\n",
    "    def color(self, color):\n",
    "        print(\"In colour setter\")\n",
    "        self.__color = color\n",
    "\n",
    "    @property\n",
    "    def filled(self):\n",
    "        return self.__filled\n",
    "    \n",
    "    @filled.setter\n",
    "    def filled(self, filled):\n",
    "        self.__filled = filled\n",
    "\n",
    "\n",
    "class Rectangle(Shape):\n",
    "    def __init__(self, name, length, breadth):\n",
    "        Shape.__init__(self, name)\n",
    "        self.breadth = breadth\n",
    "        self.len = length\n",
    "\n",
    "    @property\n",
    "    def len(self):\n",
    "        return self.__len\n",
    "\n",
    "    @len.setter\n",
    "    def len(self, length):\n",
    "        self.__len = length\n",
    "\n",
    "    @property\n",
    "    def breadth(self):\n",
    "        return self.__breadth\n",
    "    \n",
    "    @breadth.setter\n",
    "    def breadth(self, breadth):\n",
    "        self.__breadth = breadth\n",
    "\n",
    "    def get_area(self):\n",
    "        return self.len * self.breadth\n",
    "\n",
    "    def get_perimeter(self):\n",
    "        return 2 * (self.len + self.breadth)\n",
    "\n",
    "class Circle(Shape):\n",
    "    def __init__(self, name, radius):\n",
    "        Shape.__init__(self, name)\n",
    "        self.radius = radius\n",
    "\n",
    "    @property\n",
    "    def radius(self):\n",
    "        return self.__radius\n",
    "\n",
    "    @radius.setter\n",
    "    def radius(self, radius):\n",
    "        self.__radius = radius\n",
    "\n",
    "    def get_area(self):\n",
    "        return math.pi * self.radius ** 2\n",
    "\n",
    "    def get_perimeter(self):\n",
    "        return 2 * math.pi * self.radius\n",
    "\n",
    "class Triangle(Shape):\n",
    "    def __init__(self, name, base, height):\n",
    "        Shape.__init__(self, name)\n",
    "        self.base = base\n",
    "        self.height = height \n",
    "    \n",
    "    @property\n",
    "    def base(self):\n",
    "        return self.__base\n",
    "\n",
    "    @base.setter\n",
    "    def base(self, base):\n",
    "        self.__base = base\n",
    "\n",
    "    @property\n",
    "    def height(self):\n",
    "        return self.__height\n",
    "\n",
    "    @height.setter\n",
    "    def height(self, height):\n",
    "        self.__height = height\n",
    "    \n",
    "    def get_area(self):\n",
    "        return self.base * self.height / 2\n",
    "    \n",
    "    def get_perimiter(self):\n",
    "        return \"Unknown\""
   ]
  },
  {
   "cell_type": "code",
   "execution_count": null,
   "metadata": {},
   "outputs": [],
   "source": [
    "r1 = Rectangle('R1', 10, 2)\n",
    "r2 = Rectangle('R2', 10, 5)\n",
    "r1.filled = True\n",
    "r1.color = \"orange\"\n",
    "\n",
    "c1 = Circle('C1', 12)\n",
    "c2 = Circle('C2', 10)\n",
    "c1.filled = True\n",
    "c1.color = \"blue\"\n",
    "\n",
    "t1 = Triangle('T1', 10, 5)\n",
    "t2 = Triangle('T2', 10, 8)\n",
    "\n",
    "shapes = [r1,c1,t1,r2,c2,t2]"
   ]
  },
  {
   "cell_type": "code",
   "execution_count": null,
   "metadata": {},
   "outputs": [],
   "source": [
    "for s in shapes:\n",
    "    print(s.__class__.__name__, s.name, 'has area %4.1f' % (s.get_area()))"
   ]
  },
  {
   "cell_type": "code",
   "execution_count": null,
   "metadata": {},
   "outputs": [],
   "source": []
  },
  {
   "cell_type": "code",
   "execution_count": null,
   "metadata": {
    "collapsed": true
   },
   "outputs": [],
   "source": []
  }
 ],
 "metadata": {
  "kernelspec": {
   "display_name": "Python 3",
   "language": "python",
   "name": "python3"
  },
  "language_info": {
   "codemirror_mode": {
    "name": "ipython",
    "version": 3
   },
   "file_extension": ".py",
   "mimetype": "text/x-python",
   "name": "python",
   "nbconvert_exporter": "python",
   "pygments_lexer": "ipython3",
   "version": "3.6.3"
  }
 },
 "nbformat": 4,
 "nbformat_minor": 2
}
