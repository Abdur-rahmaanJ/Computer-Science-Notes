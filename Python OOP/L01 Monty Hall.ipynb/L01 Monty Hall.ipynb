{
 "cells": [
  {
   "cell_type": "markdown",
   "metadata": {},
   "source": [
    "# Monty Hall Problem  \n",
    "Suppose you're on a game show, and you're given the choice of three doors: Behind one door is a car; behind the others, goats. You pick a door, say Door 1, and the host, who knows what's behind the doors, opens another door, say Door 3, which has a goat. He then says to you, \"Do you want to pick Door 2?\" Is it to your advantage to switch your choice?"
   ]
  },
  {
   "cell_type": "code",
   "execution_count": null,
   "metadata": {
    "collapsed": true
   },
   "outputs": [],
   "source": [
    "from random import random\n",
    "from random import choice"
   ]
  },
  {
   "cell_type": "markdown",
   "metadata": {},
   "source": [
    "This code models the scenario where you do change your choice. "
   ]
  },
  {
   "cell_type": "code",
   "execution_count": null,
   "metadata": {
    "collapsed": true
   },
   "outputs": [],
   "source": [
    "Doors =['Door 1','Door 2','Door 3']\n",
    "def MontyHall(*args):       # args is a optional argument to turn off print statements\n",
    "    notChosen = list(Doors) # list() creates a copy of Doors\n",
    "    car = choice(Doors)     # The car is behind this door\n",
    "    yourGuess = choice(Doors)\n",
    "    if not args:\n",
    "        print(\"Initially you guess %s\" % yourGuess)\n",
    "    # This is where the host reveals the goat behind a door you have not chosen\n",
    "    notChosen.remove(yourGuess)\n",
    "    if notChosen[0] == car: # If the first of the not chosen doors has the car the host reveals the other one. \n",
    "        if not args:\n",
    "            print(\"Goat revealed on %s\" % notChosen[1])\n",
    "        yourGuess = notChosen[0]  # You switch your choice.\n",
    "    else:\n",
    "        if not args:\n",
    "            print(\"Goat revealed on %s\" % notChosen[0]) \n",
    "        yourGuess = notChosen[1]  # You switch your choice.\n",
    "    # The big reveal\n",
    "    if not args:\n",
    "        print(\"Your guess is now %s\" % yourGuess) \n",
    "    if yourGuess == car:\n",
    "        return 'Car!'\n",
    "    return 'Goat!'"
   ]
  },
  {
   "cell_type": "code",
   "execution_count": null,
   "metadata": {},
   "outputs": [],
   "source": [
    "y = MontyHall()\n",
    "y"
   ]
  },
  {
   "cell_type": "markdown",
   "metadata": {},
   "source": [
    "## Evaluation  \n",
    "<code>MultiMontyHall</code> is an evaluation function that will call <code>MontyHall</code> multiple times to empirically test how often the chosen policy achieves a win."
   ]
  },
  {
   "cell_type": "code",
   "execution_count": null,
   "metadata": {
    "collapsed": true
   },
   "outputs": [],
   "source": [
    "def MultiMontyHall(tries):\n",
    "    count = 0\n",
    "    for i in range(tries):\n",
    "        # MontyHall call with \"Quiet\" supresses print statements\n",
    "        if MontyHall(\"Quiet\") == 'Car!': count += 1\n",
    "    return int(count*100/tries+0.5)"
   ]
  },
  {
   "cell_type": "code",
   "execution_count": null,
   "metadata": {},
   "outputs": [],
   "source": [
    "MultiMontyHall(1000)"
   ]
  },
  {
   "cell_type": "code",
   "execution_count": null,
   "metadata": {
    "collapsed": true
   },
   "outputs": [],
   "source": []
  },
  {
   "cell_type": "code",
   "execution_count": null,
   "metadata": {
    "collapsed": true
   },
   "outputs": [],
   "source": []
  }
 ],
 "metadata": {
  "kernelspec": {
   "display_name": "Python 3",
   "language": "python",
   "name": "python3"
  },
  "language_info": {
   "codemirror_mode": {
    "name": "ipython",
    "version": 3
   },
   "file_extension": ".py",
   "mimetype": "text/x-python",
   "name": "python",
   "nbconvert_exporter": "python",
   "pygments_lexer": "ipython3",
   "version": "3.6.3"
  }
 },
 "nbformat": 4,
 "nbformat_minor": 2
}
