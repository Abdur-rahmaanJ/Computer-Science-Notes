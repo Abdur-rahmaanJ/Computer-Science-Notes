{
 "cells": [
  {
   "cell_type": "markdown",
   "metadata": {},
   "source": [
    "# Dobble Generator\n",
    "## aka SpotIt\n",
    "Algorithm from here: https://math.stackexchange.com/questions/1303497/what-is-the-algorithm-to-generate-the-cards-in-the-game-dobble-known-as-spo\n",
    "\n",
    "### Print Dobble identifiers\n",
    "This code will print valid image ids for Dobble card decks of different sizes.  \n",
    "The number of images on a card must be a prime number + 1. "
   ]
  },
  {
   "cell_type": "code",
   "execution_count": null,
   "metadata": {},
   "outputs": [],
   "source": [
    "# nIm - 1 must be prime\n",
    "# Cards must have 3, 4, 6 or 8 images\n",
    "\n",
    "nIm = 4\n",
    "n = nIm - 1\n",
    "r = range(n)\n",
    "rp1 = range(n+1)\n",
    "c = 0\n",
    "\n",
    "# First card\n",
    "c += 1\n",
    "print('Card %2d: ' % c, end='');\n",
    "for i in rp1:\n",
    "    print(i+1, end=' ')\n",
    "print()\n",
    "\n",
    "# n following cards\n",
    "for j in r:\n",
    "    c = c+1\n",
    "    print('Card %2d: ' % c, end='');\n",
    "    print(1,end=' ')\n",
    "    for k in r:\n",
    "        print(n+2 + n*j +k, end=' ')\n",
    "    print()\n",
    "\n",
    "# n x n following cards\n",
    "for i in r:\n",
    "    for j in r:\n",
    "        c = c+1\n",
    "        print('Card %2d: ' % c, end='');\n",
    "        print(i+2,end=' ')\n",
    "        for k in r:\n",
    "            print ((n+1 +n*k + (i*k+j) % n)+1, end=' ')\n",
    "        print()"
   ]
  },
  {
   "cell_type": "markdown",
   "metadata": {},
   "source": [
    "### Import the images"
   ]
  },
  {
   "cell_type": "code",
   "execution_count": null,
   "metadata": {},
   "outputs": [],
   "source": [
    "import emoji\n",
    "imageDict = dict()\n",
    "fin = open('emoji_names.txt',\"r\")\n",
    "lines = fin.readlines()\n",
    "for i, el in enumerate(lines):\n",
    "    imageDict[i+1] = emoji.emojize(el.strip())\n",
    "    print(i+1,imageDict[i+1],end=' ')"
   ]
  },
  {
   "cell_type": "code",
   "execution_count": null,
   "metadata": {},
   "outputs": [],
   "source": []
  }
 ],
 "metadata": {
  "kernelspec": {
   "display_name": "Python 3",
   "language": "python",
   "name": "python3"
  },
  "language_info": {
   "codemirror_mode": {
    "name": "ipython",
    "version": 3
   },
   "file_extension": ".py",
   "mimetype": "text/x-python",
   "name": "python",
   "nbconvert_exporter": "python",
   "pygments_lexer": "ipython3",
   "version": "3.6.5"
  }
 },
 "nbformat": 4,
 "nbformat_minor": 1
}
