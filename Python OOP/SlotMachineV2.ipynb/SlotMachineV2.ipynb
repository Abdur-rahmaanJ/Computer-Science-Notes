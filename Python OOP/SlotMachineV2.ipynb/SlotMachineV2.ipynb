{
 "cells": [
  {
   "cell_type": "markdown",
   "metadata": {},
   "source": [
    "# Slot Machine Exercise"
   ]
  },
  {
   "cell_type": "code",
   "execution_count": null,
   "metadata": {},
   "outputs": [],
   "source": [
    "from random import choice\n",
    "\n",
    "import emoji\n",
    "from random import choice\n",
    "faces = [emoji.emojize(':red_apple:'),\n",
    "         emoji.emojize(':pear:'),\n",
    "         emoji.emojize(':tangerine:')\n",
    "        ]\n",
    "faces"
   ]
  },
  {
   "cell_type": "code",
   "execution_count": null,
   "metadata": {},
   "outputs": [],
   "source": [
    "choice(faces)"
   ]
  },
  {
   "cell_type": "markdown",
   "metadata": {},
   "source": [
    "## Slot Machine Classes\n",
    "Three classes:\n",
    "* A Purse class for managing the player's winnings.\n",
    "* A Column class to manage the individual fruit image\n",
    "* The Slot class manages the overall slot machine logic - apart from the betting. "
   ]
  },
  {
   "cell_type": "code",
   "execution_count": null,
   "metadata": {
    "collapsed": true
   },
   "outputs": [],
   "source": [
    "class Purse:\n",
    "    def __init__(self,balance):\n",
    "        self.balance = balance\n",
    "    \n",
    "    def debit(self,amt):\n",
    "        self.balance -= amt\n",
    "    \n",
    "    def credit(self,amt):\n",
    "        self.balance += amt\n",
    "    \n",
    "    def get_bal(self):\n",
    "        return self.balance\n",
    "        \n",
    "class Column:\n",
    "    def __init__(self, face):\n",
    "        self.face = face\n",
    "    \n",
    "    def change_face(self):\n",
    "        self.face = choice(faces)\n",
    "\n",
    "class Slot:\n",
    "    def __init__(self):\n",
    "        self.col1 = Column('APPLE')\n",
    "        self.col2 = Column('PEAR')\n",
    "        self.col3 = Column('ORANGE')\n",
    "    \n",
    "    def pull_handle(self):\n",
    "        self.col1.change_face()\n",
    "        self.col2.change_face()\n",
    "        self.col3.change_face()\n",
    "    \n",
    "    def show(self):\n",
    "        print(self.col1.face, self.col2.face, self.col3.face)\n",
    "    \n",
    "    def take_bet(self,bet):\n",
    "        self.bet = bet\n",
    "        \n",
    "    def score_slot(self):\n",
    "        score = 0\n",
    "        for f in faces:\n",
    "            # For each fact count the number of times it repeats.\n",
    "            c = (self.col1.face, self.col2.face, self.col3.face).count(f)\n",
    "            if c > score: score = c\n",
    "        if score == 3:\n",
    "            mult = 2\n",
    "        elif score == 2:\n",
    "            mult = 1.5\n",
    "        else:\n",
    "            mult = 0\n",
    "        print(\"You Score\", mult * self.bet,\"-\", end = \" \")\n",
    "        return mult * self.bet\n",
    "        "
   ]
  },
  {
   "cell_type": "code",
   "execution_count": null,
   "metadata": {
    "collapsed": true
   },
   "outputs": [],
   "source": [
    "def run_slot_machine():\n",
    "    start_credit = 10\n",
    "    mySlot = Slot()\n",
    "    myPurse = Purse(start_credit)\n",
    "    print(\"==========  SLOT MACHINE  =========\")\n",
    "    print(\"Minimum bet is 2. Type 'N' to exit. \")\n",
    " \n",
    "    # The main play loop. Two ways to exit:\n",
    "    # - player runs out of cash\n",
    "    # - get_bet function returns an end message (break)\n",
    "    while myPurse.get_bal() >= 1:\n",
    "        print(\"you have %.2f \\n\"  % (myPurse.get_bal()))\n",
    "        b = get_bet(myPurse)\n",
    "        if b == 'end':\n",
    "            break\n",
    "        myPurse.debit(b)\n",
    "        mySlot.take_bet(b)\n",
    "        mySlot.pull_handle()\n",
    "        mySlot.show()\n",
    "        ret = mySlot.score_slot()\n",
    "        myPurse.credit(ret)\n",
    "    print(\"Thank you for playing. You are leaving with %.2f.\" % (myPurse.get_bal()))\n",
    "\n",
    "# get_bet function gets the bet and does some error handling. \n",
    "def get_bet(purse): \n",
    "    bal = purse.get_bal()\n",
    "    valid = False\n",
    "    while not valid:\n",
    "        inp = input(\"How much do you bet: \")\n",
    "        if inp in {'N','n'}:\n",
    "            return 'end'\n",
    "        if not inp.isdigit():\n",
    "            continue\n",
    "        bet = int(inp)\n",
    "        if bet > 1 and bet <= bal:\n",
    "            valid = True\n",
    "    return bet"
   ]
  },
  {
   "cell_type": "code",
   "execution_count": null,
   "metadata": {
    "scrolled": true
   },
   "outputs": [],
   "source": [
    "run_slot_machine()"
   ]
  }
 ],
 "metadata": {
  "kernelspec": {
   "display_name": "Python 3",
   "language": "python",
   "name": "python3"
  },
  "language_info": {
   "codemirror_mode": {
    "name": "ipython",
    "version": 3
   },
   "file_extension": ".py",
   "mimetype": "text/x-python",
   "name": "python",
   "nbconvert_exporter": "python",
   "pygments_lexer": "ipython3",
   "version": "3.6.3"
  }
 },
 "nbformat": 4,
 "nbformat_minor": 2
}
