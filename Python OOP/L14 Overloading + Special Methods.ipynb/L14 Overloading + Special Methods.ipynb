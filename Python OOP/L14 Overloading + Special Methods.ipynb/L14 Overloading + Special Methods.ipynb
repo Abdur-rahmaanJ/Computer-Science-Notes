{
 "cells": [
  {
   "cell_type": "markdown",
   "metadata": {},
   "source": [
    "# Method Overloading & Special Methods\n",
    "## Overloading constructors\n",
    "Because Python is dynamically typed it is not possible to have  \n",
    "multiple versions of a method with different argument list (as in Java). \n",
    "\n",
    "This is not a problem as the required flexibility can be provided\n",
    "within a single method. "
   ]
  },
  {
   "cell_type": "code",
   "execution_count": null,
   "metadata": {
    "collapsed": true
   },
   "outputs": [],
   "source": [
    "# dynamic typing\n",
    "var = 7\n",
    "var = 'seven'\n",
    "var"
   ]
  },
  {
   "cell_type": "markdown",
   "metadata": {},
   "source": [
    "A version of the Celsius class (sigh!) that has an 'overloaded' constructor.  \n",
    "The argument to the constructor can be a string, an int or no argument."
   ]
  },
  {
   "cell_type": "code",
   "execution_count": null,
   "metadata": {
    "collapsed": true
   },
   "outputs": [],
   "source": [
    "class Celsius:\n",
    "    def __init__(self, s = None):\n",
    "        if s is None:\n",
    "            t = 0\n",
    "        elif type(s) is str: \n",
    "            t = int(s)\n",
    "        else:\n",
    "            t = s\n",
    "        self.temperature = t\n",
    "\n",
    "    def to_fahrenheit(self):\n",
    "        return (self.temperature * 1.8) + 32\n",
    "\n",
    "    @property\n",
    "    def temperature(self):\n",
    "        #print(\"Getting value\")\n",
    "        return self._temperature\n",
    "\n",
    "    @temperature.setter\n",
    "    def temperature(self, value):\n",
    "        if value < -273:\n",
    "            raise ValueError(\"Temperature below -273 is not possible\")\n",
    "        #print(\"Setting value\")\n",
    "        self._temperature = value"
   ]
  },
  {
   "cell_type": "code",
   "execution_count": null,
   "metadata": {
    "collapsed": true
   },
   "outputs": [],
   "source": [
    "t3 = Celsius(3)\n",
    "t3.temperature"
   ]
  },
  {
   "cell_type": "code",
   "execution_count": null,
   "metadata": {
    "collapsed": true
   },
   "outputs": [],
   "source": [
    "t4 = Celsius('4')\n",
    "t4.temperature"
   ]
  },
  {
   "cell_type": "code",
   "execution_count": null,
   "metadata": {
    "collapsed": true
   },
   "outputs": [],
   "source": [
    "t5 = Celsius()\n",
    "t5.temperature"
   ]
  },
  {
   "cell_type": "markdown",
   "metadata": {},
   "source": [
    "## Special Methods"
   ]
  },
  {
   "cell_type": "code",
   "execution_count": null,
   "metadata": {
    "collapsed": true
   },
   "outputs": [],
   "source": [
    "'Pure ' + 'Cat'"
   ]
  },
  {
   "cell_type": "code",
   "execution_count": null,
   "metadata": {
    "collapsed": true
   },
   "outputs": [],
   "source": [
    "7 + 4"
   ]
  },
  {
   "cell_type": "code",
   "execution_count": null,
   "metadata": {},
   "outputs": [],
   "source": [
    "'cat' > 'dog'"
   ]
  },
  {
   "cell_type": "code",
   "execution_count": null,
   "metadata": {
    "collapsed": true
   },
   "outputs": [],
   "source": [
    "len([3,5,9,6])"
   ]
  },
  {
   "cell_type": "code",
   "execution_count": null,
   "metadata": {
    "collapsed": true
   },
   "outputs": [],
   "source": [
    "len((4,5))"
   ]
  },
  {
   "cell_type": "markdown",
   "metadata": {},
   "source": [
    "### Example with len and +"
   ]
  },
  {
   "cell_type": "code",
   "execution_count": null,
   "metadata": {
    "collapsed": true
   },
   "outputs": [],
   "source": [
    "class Transactions():\n",
    "    def __init__(self):\n",
    "        self.chain = []\n",
    "    def add_trans(self,i):\n",
    "        self.chain.append(i)\n",
    "    def __len__(self):\n",
    "        return len(self.chain)\n",
    "    def __add__(self,other):\n",
    "        return self.chain + other.chain"
   ]
  },
  {
   "cell_type": "code",
   "execution_count": null,
   "metadata": {
    "collapsed": true
   },
   "outputs": [],
   "source": [
    "t1 = Transactions()\n",
    "t1.add_trans(45)\n",
    "t1.add_trans(-34)\n",
    "len(t1)"
   ]
  },
  {
   "cell_type": "code",
   "execution_count": null,
   "metadata": {
    "collapsed": true,
    "scrolled": true
   },
   "outputs": [],
   "source": [
    "t1.add_trans(-12)\n",
    "print(len(t1), \":\", t1.chain)"
   ]
  },
  {
   "cell_type": "code",
   "execution_count": null,
   "metadata": {
    "collapsed": true
   },
   "outputs": [],
   "source": [
    "t2 = Transactions()\n",
    "t2.add_trans(56)\n",
    "t2.add_trans(-23)"
   ]
  },
  {
   "cell_type": "code",
   "execution_count": null,
   "metadata": {
    "collapsed": true
   },
   "outputs": [],
   "source": [
    "t + t2"
   ]
  },
  {
   "cell_type": "markdown",
   "metadata": {},
   "source": [
    "## Example with < and str"
   ]
  },
  {
   "cell_type": "code",
   "execution_count": null,
   "metadata": {
    "collapsed": true
   },
   "outputs": [],
   "source": [
    "suits = ['Spades','Hearts','Diamonds','Clubs']\n",
    "rank = ['Ace','King','Queen','Jack',10,9,8,7,6,5,4,3,2]\n",
    "\n",
    "class PlayingCard():\n",
    "    rank_num = {'Ace':14,'King':13,'Queen':12,'Jack':11,10:10,\n",
    "            9:9,8:8,7:7,6:6,5:5,4:4,3:3,2:2}\n",
    "\n",
    "    def __init__(self,r,s):\n",
    "        self.suit = s\n",
    "        self.rank = r\n",
    "    \n",
    "    def __lt__(self,other):  # Only useful for sorting\n",
    "        return (self.suit, self.rank_num[self.rank]) \\\n",
    "                < (other.suit, self.rank_num[other.rank])\n",
    "    \n",
    "    def __str__(self):\n",
    "        return str(self.rank) + \" \" + self.suit\n",
    "    \n",
    "    def show(self):\n",
    "        print(self.rank, self.suit)"
   ]
  },
  {
   "cell_type": "code",
   "execution_count": null,
   "metadata": {
    "collapsed": true
   },
   "outputs": [],
   "source": [
    "cas = PlayingCard('Ace','Spades')\n",
    "cah = PlayingCard('Ace','Hearts')\n",
    "c10s = PlayingCard(10,'Spades')\n",
    "c10h = PlayingCard(10,'Hearts')\n",
    "c8h = PlayingCard(8, 'Hearts')\n",
    "c5c = PlayingCard(5, 'Clubs')\n",
    "c7s = PlayingCard(7, 'Spades')"
   ]
  },
  {
   "cell_type": "code",
   "execution_count": null,
   "metadata": {
    "collapsed": true
   },
   "outputs": [],
   "source": [
    "c8h < c10h"
   ]
  },
  {
   "cell_type": "code",
   "execution_count": null,
   "metadata": {
    "collapsed": true
   },
   "outputs": [],
   "source": [
    "c10s < c10h"
   ]
  },
  {
   "cell_type": "code",
   "execution_count": null,
   "metadata": {
    "collapsed": true
   },
   "outputs": [],
   "source": [
    "hand = [cas,cah,c10s,c10h,c8h,c5c,c7s]"
   ]
  },
  {
   "cell_type": "code",
   "execution_count": null,
   "metadata": {
    "collapsed": true
   },
   "outputs": [],
   "source": [
    "hand.sort(reverse=True)\n",
    "for c in hand:\n",
    "    print(c)"
   ]
  },
  {
   "cell_type": "code",
   "execution_count": null,
   "metadata": {
    "collapsed": true
   },
   "outputs": [],
   "source": [
    "print(cas)"
   ]
  },
  {
   "cell_type": "markdown",
   "metadata": {},
   "source": []
  },
  {
   "cell_type": "markdown",
   "metadata": {},
   "source": [
    "## lambda functions\n",
    "Remember mapping from Lecture 02. "
   ]
  },
  {
   "cell_type": "code",
   "execution_count": null,
   "metadata": {
    "collapsed": true
   },
   "outputs": [],
   "source": [
    "# Map: apply (map) a function to all elements in the list.\n",
    "def square(e):\n",
    "    return e*e\n",
    "\n",
    "# Passing a function name in as a parameter.\n",
    "# I know, it's mad. \n",
    "def myMapper(ls, funct):\n",
    "    r =[]\n",
    "    for e in ls:\n",
    "        r.append(funct(e))\n",
    "    return r"
   ]
  },
  {
   "cell_type": "code",
   "execution_count": null,
   "metadata": {
    "collapsed": true
   },
   "outputs": [],
   "source": [
    "myMapper(t,square)"
   ]
  },
  {
   "cell_type": "code",
   "execution_count": null,
   "metadata": {
    "collapsed": true
   },
   "outputs": [],
   "source": [
    "# There is a built-in map function\n",
    "map(square,t)"
   ]
  },
  {
   "cell_type": "code",
   "execution_count": null,
   "metadata": {
    "collapsed": true
   },
   "outputs": [],
   "source": [
    "list(map(square,t))"
   ]
  },
  {
   "cell_type": "code",
   "execution_count": null,
   "metadata": {
    "collapsed": true,
    "scrolled": false
   },
   "outputs": [],
   "source": [
    "# lambda functions can have only one expression\n",
    "myMapper(t,lambda x:x*x)"
   ]
  },
  {
   "cell_type": "code",
   "execution_count": null,
   "metadata": {
    "collapsed": true
   },
   "outputs": [],
   "source": [
    "map(lambda x:x*x,t)"
   ]
  },
  {
   "cell_type": "code",
   "execution_count": null,
   "metadata": {
    "collapsed": true
   },
   "outputs": [],
   "source": [
    "list(map(lambda x:x*x,t))"
   ]
  },
  {
   "cell_type": "code",
   "execution_count": null,
   "metadata": {
    "collapsed": true
   },
   "outputs": [],
   "source": [
    "C = [39.2, 36.5, 37.3, 38, 37.9] \n",
    "F = list(map(lambda x: (float(9)/5)*x + 32, C))\n",
    "F"
   ]
  },
  {
   "cell_type": "code",
   "execution_count": null,
   "metadata": {
    "collapsed": true
   },
   "outputs": [],
   "source": [
    "# Filter: remove elements from a list based on a test.\n",
    "def evenTest(e):\n",
    "    if e % 2 == 0:\n",
    "        return True\n",
    "    return False \n",
    "\n",
    "# filter function is passed in as argument\n",
    "def myFilter(ls,filter):\n",
    "    r =[]\n",
    "    for e in ls:\n",
    "        if filter(e): \n",
    "            r.append(e)\n",
    "    return r"
   ]
  },
  {
   "cell_type": "code",
   "execution_count": null,
   "metadata": {
    "collapsed": true
   },
   "outputs": [],
   "source": [
    "myFilter(t,evenTest)"
   ]
  },
  {
   "cell_type": "code",
   "execution_count": null,
   "metadata": {
    "collapsed": true,
    "scrolled": true
   },
   "outputs": [],
   "source": [
    "filter(evenTest,t)"
   ]
  },
  {
   "cell_type": "code",
   "execution_count": null,
   "metadata": {
    "collapsed": true
   },
   "outputs": [],
   "source": [
    "list(filter(evenTest,t))"
   ]
  },
  {
   "cell_type": "code",
   "execution_count": null,
   "metadata": {
    "collapsed": true
   },
   "outputs": [],
   "source": [
    "fibonacci = [0,1,1,2,3,5,8,13,21,34,55]\n",
    "odd_numbers = list(filter(lambda x: x % 2, fibonacci))\n",
    "print(odd_numbers)"
   ]
  },
  {
   "cell_type": "code",
   "execution_count": null,
   "metadata": {
    "collapsed": true
   },
   "outputs": [],
   "source": [
    "even_numbers = list(filter(lambda x: x % 2 == 0, fibonacci))\n",
    "print(even_numbers)"
   ]
  },
  {
   "cell_type": "markdown",
   "metadata": {},
   "source": [
    "## Sorting using keys"
   ]
  },
  {
   "cell_type": "code",
   "execution_count": null,
   "metadata": {
    "collapsed": true
   },
   "outputs": [],
   "source": [
    "class Person():\n",
    "    def __init__(self, name, age, weight):\n",
    "        self.name = name\n",
    "        self.age = age\n",
    "        self.weight = weight\n",
    "    \n",
    "    def __str__(self):\n",
    "        return self.name +\" \"+ \"Age:\" \\\n",
    "            + str(self.age) + \" Weight:\" \\\n",
    "            + str(self.weight)\n",
    "    "
   ]
  },
  {
   "cell_type": "code",
   "execution_count": null,
   "metadata": {
    "collapsed": true
   },
   "outputs": [],
   "source": [
    "b = Person(\"Betty\", 45, 68)\n",
    "j = Person(\"Jane\", 34, 70)\n",
    "m = Person(\"Mark\", 23, 80)\n",
    "s = Person(\"Sam\", 25, 85)"
   ]
  },
  {
   "cell_type": "code",
   "execution_count": null,
   "metadata": {
    "collapsed": true
   },
   "outputs": [],
   "source": [
    "gang = [m,j,s,b]"
   ]
  },
  {
   "cell_type": "code",
   "execution_count": null,
   "metadata": {},
   "outputs": [],
   "source": [
    "gang.sort(key=lambda x:x.weight, \n",
    "          reverse = True)\n",
    "for i in gang:\n",
    "    print(i)"
   ]
  },
  {
   "cell_type": "code",
   "execution_count": null,
   "metadata": {},
   "outputs": [],
   "source": [
    "print(m)"
   ]
  }
 ],
 "metadata": {
  "kernelspec": {
   "display_name": "Python 3",
   "language": "python",
   "name": "python3"
  },
  "language_info": {
   "codemirror_mode": {
    "name": "ipython",
    "version": 3
   },
   "file_extension": ".py",
   "mimetype": "text/x-python",
   "name": "python",
   "nbconvert_exporter": "python",
   "pygments_lexer": "ipython3",
   "version": "3.6.3"
  }
 },
 "nbformat": 4,
 "nbformat_minor": 2
}
