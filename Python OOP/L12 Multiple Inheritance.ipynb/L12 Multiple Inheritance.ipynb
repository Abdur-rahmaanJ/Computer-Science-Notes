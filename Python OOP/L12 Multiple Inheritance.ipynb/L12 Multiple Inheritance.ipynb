{
 "cells": [
  {
   "cell_type": "markdown",
   "metadata": {},
   "source": [
    "# Multiple Inheritance"
   ]
  },
  {
   "cell_type": "markdown",
   "metadata": {},
   "source": [
    "## Deadly Diamond of Death"
   ]
  },
  {
   "cell_type": "code",
   "execution_count": null,
   "metadata": {},
   "outputs": [],
   "source": [
    "class BaseClass():\n",
    "    def m1(self):\n",
    "        print(\"This is m1 from BaseClass\")\n",
    "\n",
    "class SubLeft(BaseClass):\n",
    "    def m1(self):\n",
    "        print(\"This is m1 from SubLeft\")\n",
    "\n",
    "class SubRight(BaseClass):\n",
    "    def m1(self):\n",
    "        print(\"This is m1 from SubRight\")\n",
    "\n",
    "\n",
    "class BottomClass(SubLeft,SubRight):\n",
    "    pass\n",
    "\n",
    "class OtherBottomClass(SubRight,SubLeft):\n",
    "    pass"
   ]
  },
  {
   "cell_type": "code",
   "execution_count": null,
   "metadata": {},
   "outputs": [],
   "source": [
    "x = BottomClass()\n",
    "x.m1()"
   ]
  },
  {
   "cell_type": "code",
   "execution_count": null,
   "metadata": {},
   "outputs": [],
   "source": [
    "y = OtherBottomClass()\n",
    "y.m1()"
   ]
  },
  {
   "cell_type": "code",
   "execution_count": null,
   "metadata": {},
   "outputs": [],
   "source": [
    "OtherBottomClass.mro()"
   ]
  },
  {
   "cell_type": "code",
   "execution_count": null,
   "metadata": {},
   "outputs": [],
   "source": [
    "BottomClass.mro()"
   ]
  },
  {
   "cell_type": "markdown",
   "metadata": {},
   "source": [
    "## Contacts Example\n",
    "Multiple Inheritance"
   ]
  },
  {
   "cell_type": "code",
   "execution_count": null,
   "metadata": {},
   "outputs": [],
   "source": [
    "class Address():\n",
    "    def __init__(self, street, city):\n",
    "        self.street = str(street)\n",
    "        self.city = str(city)\n",
    "    def show(self):\n",
    "        print(self.street)\n",
    "        print(self.city)\n",
    "\n",
    "class Person():\n",
    "    def __init__(self, name, email):\n",
    "        self.name = str(name)\n",
    "        self.email= str(email)\n",
    "    def show(self):\n",
    "        print(self.name + ' ' + self.email)\n",
    "\n",
    "class Contact(Person, Address):\n",
    "    def __init__(self, name, email, street, city):\n",
    "        Person.__init__(self, name, email)\n",
    "        Address.__init__(self, street, city)\n",
    "    def show(self):\n",
    "        Person.show(self)\n",
    "        Address.show(self)\n",
    "        print()\n",
    "\n",
    "class Notebook():\n",
    "    def __init__(self):\n",
    "        self.people = dict()\n",
    "    def add(self, name, email, street, city):\n",
    "        self.people[name] = Contact(name, email, street, city)\n",
    "    def show(self, name):\n",
    "        if name in self.people:\n",
    "            self.people[name].show()\n",
    "        else:\n",
    "            print('Unknown', name)\n"
   ]
  },
  {
   "cell_type": "code",
   "execution_count": null,
   "metadata": {},
   "outputs": [],
   "source": [
    "notes = Notebook()\n",
    "notes.add('Alice', 'alice@gmail.com', 'Cross St', 'Dublin')\n",
    "notes.add('Brian', 'brian.c@tcd.ie', 'New St', 'Cork')\n",
    "\n",
    "notes.show('Alice')\n",
    "notes.show('Carol')"
   ]
  },
  {
   "cell_type": "code",
   "execution_count": null,
   "metadata": {},
   "outputs": [],
   "source": [
    "m = Contact(\"Mollie\",'mollie@ucd','High St.','Dublin')"
   ]
  },
  {
   "cell_type": "markdown",
   "metadata": {},
   "source": [
    "## Posessions Example"
   ]
  },
  {
   "cell_type": "code",
   "execution_count": null,
   "metadata": {},
   "outputs": [],
   "source": [
    "class Animal():\n",
    "    def __init__(self,name):\n",
    "        self.name = name\n",
    "\n",
    "class Mammal(Animal):\n",
    "    pass\n",
    "\n",
    "class Posession():\n",
    "    def __init__(self,value=0):\n",
    "        self.value = value\n",
    "    def get_value(self):\n",
    "        return self.value\n",
    "\n",
    "class Pet(Mammal,Posession):\n",
    "    def __init__(self, name, value):\n",
    "        Mammal.__init__(self, name)\n",
    "        Posession.__init__(self, value)\n",
    "\n",
    "class Dog(Pet):\n",
    "    def __init__(self, name, value, chipNo):\n",
    "        self.chipNo = chipNo\n",
    "        Pet.__init__(self, name, value)\n",
    "\n",
    "class Cat(Pet):\n",
    "    pass"
   ]
  },
  {
   "cell_type": "code",
   "execution_count": null,
   "metadata": {},
   "outputs": [],
   "source": [
    "katyPurry = Cat(\"Katy Purry\",5)\n",
    "katyPurry.value, katyPurry.name"
   ]
  },
  {
   "cell_type": "code",
   "execution_count": null,
   "metadata": {},
   "outputs": [],
   "source": [
    "winnie = Dog('Winnie the Poodle',500,991199)"
   ]
  },
  {
   "cell_type": "code",
   "execution_count": null,
   "metadata": {},
   "outputs": [],
   "source": [
    "winnie.__dict__"
   ]
  },
  {
   "cell_type": "code",
   "execution_count": null,
   "metadata": {},
   "outputs": [],
   "source": [
    "Dog.mro()"
   ]
  },
  {
   "cell_type": "code",
   "execution_count": null,
   "metadata": {},
   "outputs": [],
   "source": [
    "# Help shows the method resolution order\n",
    "help(Dog)"
   ]
  },
  {
   "cell_type": "code",
   "execution_count": null,
   "metadata": {},
   "outputs": [],
   "source": []
  }
 ],
 "metadata": {
  "kernelspec": {
   "display_name": "Python 3",
   "language": "python",
   "name": "python3"
  },
  "language_info": {
   "codemirror_mode": {
    "name": "ipython",
    "version": 3
   },
   "file_extension": ".py",
   "mimetype": "text/x-python",
   "name": "python",
   "nbconvert_exporter": "python",
   "pygments_lexer": "ipython3",
   "version": "3.6.5"
  }
 },
 "nbformat": 4,
 "nbformat_minor": 2
}
