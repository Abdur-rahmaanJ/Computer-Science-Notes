{
 "cells": [
  {
   "cell_type": "markdown",
   "metadata": {},
   "source": [
    "## Cards Example\n",
    "We have two implementations of the MySet class, one in MySetV1 and MySetV2.  \n",
    "Because the implementations details are encapsulated in the class  \n",
    "the code in this notebook will run if we import either implementation. "
   ]
  },
  {
   "cell_type": "code",
   "execution_count": null,
   "metadata": {},
   "outputs": [],
   "source": [
    "#Import this one\n",
    "from MySetV2 import MySet\n",
    "from random import choice"
   ]
  },
  {
   "cell_type": "code",
   "execution_count": null,
   "metadata": {},
   "outputs": [],
   "source": [
    "#Or this one\n",
    "from MySetV1 import MySet\n",
    "from random import choice"
   ]
  },
  {
   "cell_type": "code",
   "execution_count": null,
   "metadata": {},
   "outputs": [],
   "source": [
    "suits = ['Clubs','Diamonds','Hearts','Spades']\n",
    "rank = ['Ace','King','Queen','Jack',10,9,8,7,6,5,4,3,2]"
   ]
  },
  {
   "cell_type": "code",
   "execution_count": null,
   "metadata": {},
   "outputs": [],
   "source": [
    "deck = MySet([])\n",
    "for s in suits:\n",
    "    for r in rank:\n",
    "        deck.add((r,s))"
   ]
  },
  {
   "cell_type": "code",
   "execution_count": null,
   "metadata": {},
   "outputs": [],
   "source": [
    "def deal(dk,n):\n",
    "    hand = MySet([])\n",
    "    for i in range(n):\n",
    "        card = choice(dk.mem_list())\n",
    "        hand.add(card)\n",
    "        dk.remove(card)\n",
    "    return hand"
   ]
  },
  {
   "cell_type": "code",
   "execution_count": null,
   "metadata": {},
   "outputs": [],
   "source": [
    "h1 = deal(deck,5)\n",
    "h2 = deal(deck,5)\n",
    "h2.print()\n",
    "h1.print()\n",
    "print()\n",
    "deck.print()"
   ]
  },
  {
   "cell_type": "code",
   "execution_count": null,
   "metadata": {},
   "outputs": [],
   "source": [
    "for c in h1.mem_list():\n",
    "    print(c, deck.member(c))\n",
    "    \n",
    "print()\n",
    "\n",
    "for c in h2.mem_list():\n",
    "    print(c, deck.member(c))"
   ]
  },
  {
   "cell_type": "code",
   "execution_count": null,
   "metadata": {},
   "outputs": [],
   "source": []
  }
 ],
 "metadata": {
  "kernelspec": {
   "display_name": "Python 3",
   "language": "python",
   "name": "python3"
  },
  "language_info": {
   "codemirror_mode": {
    "name": "ipython",
    "version": 3
   },
   "file_extension": ".py",
   "mimetype": "text/x-python",
   "name": "python",
   "nbconvert_exporter": "python",
   "pygments_lexer": "ipython3",
   "version": "3.6.5"
  }
 },
 "nbformat": 4,
 "nbformat_minor": 2
}
