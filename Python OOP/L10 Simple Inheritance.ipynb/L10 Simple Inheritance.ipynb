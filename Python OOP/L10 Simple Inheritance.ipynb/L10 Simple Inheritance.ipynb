{
 "cells": [
  {
   "cell_type": "markdown",
   "metadata": {},
   "source": [
    "# Simple Inheritance"
   ]
  },
  {
   "cell_type": "code",
   "execution_count": null,
   "metadata": {},
   "outputs": [],
   "source": [
    "class SuperC():\n",
    "    def M1(self):\n",
    "        print(\"M1 Running\")\n",
    "\n",
    "class SubC1(SuperC):\n",
    "    def M2(self):\n",
    "        print(\"M2 Running\")\n",
    "        \n",
    "class SubC2(SuperC):\n",
    "    def M3(self):\n",
    "        print(\"M3 Running\")"
   ]
  },
  {
   "cell_type": "code",
   "execution_count": null,
   "metadata": {},
   "outputs": [],
   "source": [
    "ISubC1 = SubC1()\n",
    "ISubC1.M2()"
   ]
  },
  {
   "cell_type": "markdown",
   "metadata": {},
   "source": [
    "### Overiding"
   ]
  },
  {
   "cell_type": "code",
   "execution_count": null,
   "metadata": {},
   "outputs": [],
   "source": [
    "class SuperC():\n",
    "    def M1(self):\n",
    "        print(\"M1 Running\")\n",
    "\n",
    "class SubC1(SuperC):\n",
    "    def M2(self):\n",
    "        print(\"M2 Running\")\n",
    "    def M1(self):\n",
    "        print(\"SubC1 version of M1 Running\")\n",
    "        \n",
    "class SubC2(SuperC):\n",
    "    def M3(self):\n",
    "        print(\"M3 Running\")"
   ]
  },
  {
   "cell_type": "code",
   "execution_count": null,
   "metadata": {},
   "outputs": [],
   "source": [
    "ISubC1 = SubC1()\n",
    "ISubC1.M1()"
   ]
  },
  {
   "cell_type": "code",
   "execution_count": null,
   "metadata": {},
   "outputs": [],
   "source": [
    "ISubC2 = SubC2()"
   ]
  },
  {
   "cell_type": "code",
   "execution_count": null,
   "metadata": {},
   "outputs": [],
   "source": [
    "ISubC2.M1()"
   ]
  },
  {
   "cell_type": "markdown",
   "metadata": {},
   "source": [
    "## Remember the Dog Class\n",
    "\n",
    "- One class Dog\n",
    "- Two instances f and l\n",
    "- species is a class variable\n",
    "- name and tricks ad instance variables (vary with each instance)"
   ]
  },
  {
   "cell_type": "code",
   "execution_count": null,
   "metadata": {},
   "outputs": [],
   "source": [
    "class Dog:\n",
    "    species = 'Canidae'     # class variable shared by all instances\n",
    "    \n",
    "    def __init__(self, name):\n",
    "        self.name = name    # instance variable unique to each instance\n",
    "        self.tricks = []    # creates a new empty list for each dog\n",
    "\n",
    "    def add_trick(self, trick):\n",
    "        self.tricks.append(trick)"
   ]
  },
  {
   "cell_type": "code",
   "execution_count": null,
   "metadata": {},
   "outputs": [],
   "source": [
    "f = Dog('Fido')\n",
    "l = Dog('Lassie')"
   ]
  },
  {
   "cell_type": "code",
   "execution_count": null,
   "metadata": {},
   "outputs": [],
   "source": [
    "l.__dict__"
   ]
  },
  {
   "cell_type": "markdown",
   "metadata": {},
   "source": [
    "### Add a subclass\n",
    "- GermanSheperd is a subclass of Dog\n",
    "- Introduces colours as a new class variable\n",
    "- No new instance variables\n",
    "- GermanShepherd inherits species as a class variable from Dog"
   ]
  },
  {
   "cell_type": "code",
   "execution_count": null,
   "metadata": {},
   "outputs": [],
   "source": [
    "# Repeating the Dog class def here for readability\n",
    "class Dog:\n",
    "    species = 'Canidae'     # class variable shared by all instances\n",
    "    \n",
    "    def __init__(self, name):\n",
    "        self.name = name    # instance variable unique to each instance\n",
    "        self.tricks = []    # creates a new empty list for each dog\n",
    "\n",
    "    def add_trick(self, trick):\n",
    "        self.tricks.append(trick)\n",
    "        \n",
    "class GermanShepherd(Dog):\n",
    "    colours = ['Tan','Black']"
   ]
  },
  {
   "cell_type": "code",
   "execution_count": null,
   "metadata": {},
   "outputs": [],
   "source": [
    "j = GermanShepherd(\"Jane\")\n",
    "j.add_trick(\"Catch Frisbee\")"
   ]
  },
  {
   "cell_type": "code",
   "execution_count": null,
   "metadata": {},
   "outputs": [],
   "source": [
    "j.__dict__"
   ]
  },
  {
   "cell_type": "code",
   "execution_count": null,
   "metadata": {},
   "outputs": [],
   "source": [
    "print (j.name)\n",
    "print (j.species)\n",
    "print (j.colours)"
   ]
  },
  {
   "cell_type": "markdown",
   "metadata": {},
   "source": [
    "## Constructors & Inheritance"
   ]
  },
  {
   "cell_type": "code",
   "execution_count": null,
   "metadata": {},
   "outputs": [],
   "source": [
    "class TopClass():\n",
    "    def __init__(self,name):\n",
    "        print(\"In TopClass Const\",name, self)\n",
    "        self.name = name\n",
    "\n",
    "class FirstSub(TopClass):\n",
    "    def __init__(self,name, speed):\n",
    "        print(\"In FirstSub Const\",name, self)\n",
    "        self.speed = speed\n",
    "        TopClass.__init__(self,name)\n",
    "        \n",
    "class SecondSub(TopClass):\n",
    "    def __init__(self,name, power):\n",
    "        print(\"In SecondSub Const\",name, self)\n",
    "        self.power = power\n",
    "        TopClass.__init__(self,name)\n",
    "    "
   ]
  },
  {
   "cell_type": "code",
   "execution_count": null,
   "metadata": {},
   "outputs": [],
   "source": [
    "f = FirstSub(\"Fred\",\"Fast\")\n",
    "p = SecondSub(\"Paula\",\"Powerful\")"
   ]
  },
  {
   "cell_type": "code",
   "execution_count": null,
   "metadata": {},
   "outputs": [],
   "source": [
    "f.name"
   ]
  },
  {
   "cell_type": "code",
   "execution_count": null,
   "metadata": {},
   "outputs": [],
   "source": [
    "f.__dict__"
   ]
  },
  {
   "cell_type": "code",
   "execution_count": null,
   "metadata": {},
   "outputs": [],
   "source": [
    "f.__class__"
   ]
  },
  {
   "cell_type": "code",
   "execution_count": null,
   "metadata": {},
   "outputs": [],
   "source": [
    "p.__dict__"
   ]
  },
  {
   "cell_type": "code",
   "execution_count": null,
   "metadata": {},
   "outputs": [],
   "source": [
    "p.__class__"
   ]
  },
  {
   "cell_type": "markdown",
   "metadata": {},
   "source": [
    "## Friends Example"
   ]
  },
  {
   "cell_type": "code",
   "execution_count": null,
   "metadata": {},
   "outputs": [],
   "source": [
    "class Person():\n",
    "    def __init__(self,name,email):\n",
    "        print(\"Making Person\")\n",
    "        self.name = str(name)\n",
    "        self.email= str(email)\n",
    "    def show(self):\n",
    "        print(self.name + ' ' + self.email)\n",
    "\n",
    "class Friend(Person):\n",
    "    def __init__(self, name,email,phone):\n",
    "        print(\"Making Friend\")\n",
    "        self.phone = phone\n",
    "        Person.__init__(self,name,email)"
   ]
  },
  {
   "cell_type": "code",
   "execution_count": null,
   "metadata": {},
   "outputs": [],
   "source": [
    "f = Friend(\"Fred the Friend\",\"fred@gmail.com\",\"(083)432 1243\")\n",
    "f.__dict__"
   ]
  },
  {
   "cell_type": "code",
   "execution_count": null,
   "metadata": {},
   "outputs": [],
   "source": [
    "print(f.phone)\n",
    "print(f.email)"
   ]
  },
  {
   "cell_type": "code",
   "execution_count": null,
   "metadata": {},
   "outputs": [],
   "source": [
    "p = Person(\"Peter\",'eml')\n",
    "p.show()"
   ]
  },
  {
   "cell_type": "markdown",
   "metadata": {},
   "source": [
    "## Extending built-in classes"
   ]
  },
  {
   "cell_type": "code",
   "execution_count": null,
   "metadata": {},
   "outputs": [],
   "source": [
    "class intString(str):\n",
    "     def to_int( self ):\n",
    "             return int(self)"
   ]
  },
  {
   "cell_type": "code",
   "execution_count": null,
   "metadata": {},
   "outputs": [],
   "source": [
    "is1 = intString(34)"
   ]
  },
  {
   "cell_type": "code",
   "execution_count": null,
   "metadata": {},
   "outputs": [],
   "source": [
    "iss = '55'\n",
    "iss.isdigit()"
   ]
  },
  {
   "cell_type": "code",
   "execution_count": null,
   "metadata": {},
   "outputs": [],
   "source": [
    "is1.to_int()"
   ]
  },
  {
   "cell_type": "markdown",
   "metadata": {},
   "source": [
    "### Managing the init process"
   ]
  },
  {
   "cell_type": "code",
   "execution_count": null,
   "metadata": {},
   "outputs": [],
   "source": [
    "class intString(str):\n",
    "    def __init__(self,val):\n",
    "        if (type(val) == int):\n",
    "            str.__init__(val)\n",
    "        else:\n",
    "            print(\"Not a valid input\")\n",
    "    def to_int( self ):\n",
    "            return int(self)"
   ]
  },
  {
   "cell_type": "code",
   "execution_count": null,
   "metadata": {},
   "outputs": [],
   "source": [
    "is2 = intString(34)"
   ]
  },
  {
   "cell_type": "code",
   "execution_count": null,
   "metadata": {},
   "outputs": [],
   "source": [
    "is3 = intString('sd')"
   ]
  },
  {
   "cell_type": "code",
   "execution_count": null,
   "metadata": {},
   "outputs": [],
   "source": [
    "is2.isdigit()"
   ]
  },
  {
   "cell_type": "markdown",
   "metadata": {},
   "source": [
    "### Exercise: Colleague, a subclass of Person\n",
    "1. Extend Person with a Colleague subclass\n",
    "    - The constructor should accept an additional 'office_location' parameter.\n",
    "2. How would we deal with someone who is both a Colleague and a Friend?"
   ]
  },
  {
   "cell_type": "code",
   "execution_count": null,
   "metadata": {},
   "outputs": [],
   "source": []
  }
 ],
 "metadata": {
  "kernelspec": {
   "display_name": "Python 3",
   "language": "python",
   "name": "python3"
  },
  "language_info": {
   "codemirror_mode": {
    "name": "ipython",
    "version": 3
   },
   "file_extension": ".py",
   "mimetype": "text/x-python",
   "name": "python",
   "nbconvert_exporter": "python",
   "pygments_lexer": "ipython3",
   "version": "3.6.5"
  }
 },
 "nbformat": 4,
 "nbformat_minor": 2
}
