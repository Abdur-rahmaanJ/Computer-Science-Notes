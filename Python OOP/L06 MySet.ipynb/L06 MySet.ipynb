{
 "cells": [
  {
   "cell_type": "markdown",
   "metadata": {},
   "source": [
    "## MySet \n",
    "Implementing a homemade set class using Python Objects\n",
    "### Python Set class\n",
    "First, what does the built-in Python set type offer?"
   ]
  },
  {
   "cell_type": "code",
   "execution_count": null,
   "metadata": {},
   "outputs": [],
   "source": [
    "s1 = set([2,3,7,4,3])\n",
    "s2 = set([3,4,5])"
   ]
  },
  {
   "cell_type": "code",
   "execution_count": null,
   "metadata": {},
   "outputs": [],
   "source": [
    "print(s1)\n",
    "type(s1)"
   ]
  },
  {
   "cell_type": "code",
   "execution_count": null,
   "metadata": {},
   "outputs": [],
   "source": [
    "s1.intersection(s2)"
   ]
  },
  {
   "cell_type": "code",
   "execution_count": null,
   "metadata": {},
   "outputs": [],
   "source": [
    "# Use tab completion to see methods\n",
    "s1."
   ]
  },
  {
   "cell_type": "code",
   "execution_count": null,
   "metadata": {
    "scrolled": true
   },
   "outputs": [],
   "source": [
    "dir(s1)"
   ]
  },
  {
   "cell_type": "markdown",
   "metadata": {},
   "source": [
    "## MySet class\n",
    "### Methods:  \n",
    "- constructor \n",
    "- clear\n",
    "- add  \n",
    "- member\n",
    "- remove  \n",
    "- union  \n",
    "- intersection  \n",
    "- print\n",
    "- mem_list"
   ]
  },
  {
   "cell_type": "code",
   "execution_count": null,
   "metadata": {},
   "outputs": [],
   "source": [
    "class MySet:\n",
    "    def __init__(self, members):\n",
    "        self._members = []\n",
    "        for cand in members:\n",
    "            self.add(cand)\n",
    "  \n",
    "    def clear(self):\n",
    "        self._members = []\n",
    "    \n",
    "    def add(self,cand):\n",
    "        if not cand in self._members:\n",
    "                self._members.append(cand)\n",
    "    \n",
    "    def member(self, mem):\n",
    "        for el in self._members:\n",
    "            if el == mem: return True\n",
    "        return False \n",
    "\n",
    "    def remove(self,mem):\n",
    "        self._members.remove(mem)\n",
    "    \n",
    "    def union(self,s):\n",
    "        su = MySet(self._members)\n",
    "        for el in s._members:\n",
    "            su.add(el)\n",
    "        return su\n",
    "    \n",
    "    def intersection(self,s):\n",
    "        si = MySet([])\n",
    "        for el in self._members:\n",
    "            if el in s._members: \n",
    "                si.add(el)\n",
    "        return si\n",
    "    \n",
    "    def print(self):\n",
    "        mems = self._members\n",
    "        print('V1{',end='')\n",
    "        for i in range(len(mems)):\n",
    "            print(mems[i],end='')\n",
    "            if i != len(mems)-1:    #don't print a comma after final element\n",
    "                print(', ',end='')\n",
    "        print('}')\n",
    "        \n",
    "    def mem_list(self):    \n",
    "        return self._members"
   ]
  },
  {
   "cell_type": "code",
   "execution_count": null,
   "metadata": {},
   "outputs": [],
   "source": [
    "s4 = MySet([1,2,3,3,2,4])\n",
    "s4.print()"
   ]
  },
  {
   "cell_type": "code",
   "execution_count": null,
   "metadata": {},
   "outputs": [],
   "source": [
    "s4.add"
   ]
  },
  {
   "cell_type": "code",
   "execution_count": null,
   "metadata": {},
   "outputs": [],
   "source": [
    "print(s4.member(4))\n",
    "print(s4.member(7))"
   ]
  },
  {
   "cell_type": "code",
   "execution_count": null,
   "metadata": {},
   "outputs": [],
   "source": [
    "s4.clear()\n",
    "s4.print()"
   ]
  },
  {
   "cell_type": "code",
   "execution_count": null,
   "metadata": {},
   "outputs": [],
   "source": [
    "s4.add(9)\n",
    "s4.add(8)\n",
    "s4.print()"
   ]
  },
  {
   "cell_type": "code",
   "execution_count": null,
   "metadata": {},
   "outputs": [],
   "source": [
    "s1 = MySet(['a','b','c','d'])\n",
    "s2 = MySet(['x','c','y','b'])\n",
    "s1us2 = s1.union(s2)\n",
    "s1is2 = s1.intersection(s2)"
   ]
  },
  {
   "cell_type": "code",
   "execution_count": null,
   "metadata": {},
   "outputs": [],
   "source": [
    "s1.print()\n",
    "s2.print()\n",
    "s1us2.print()\n",
    "s1is2.print()"
   ]
  },
  {
   "cell_type": "markdown",
   "metadata": {},
   "source": [
    "### MySet Version 2\n",
    "A new version of MySet using a dictionary"
   ]
  },
  {
   "cell_type": "code",
   "execution_count": null,
   "metadata": {},
   "outputs": [],
   "source": [
    "#constructor\n",
    "#clear\n",
    "#add\n",
    "#member\n",
    "#remove\n",
    "#union\n",
    "#intersection\n",
    "#print\n",
    "#mem_list\n",
    "\n",
    "class MySet:\n",
    "    def __init__(self, members):\n",
    "        self._members = {}\n",
    "        for cand in members:\n",
    "            self.add(cand)\n",
    "    \n",
    "    def clear(self):\n",
    "        self._members = {}\n",
    "    \n",
    "    def add(self,cand):\n",
    "        if not cand in self._members:\n",
    "                self._members[cand]=\"DVal\"\n",
    "    \n",
    "    def member(self, mem):\n",
    "        if mem in self._members: return True\n",
    "        return False \n",
    "    \n",
    "    def remove(self,mem):\n",
    "        del self._members[mem]\n",
    "    \n",
    "    def union(self,s):\n",
    "        su = MySet(self._members.keys())\n",
    "        for el in s._members.keys():\n",
    "            su.add(el)\n",
    "        return su\n",
    "    \n",
    "    def intersection(self,s):\n",
    "        si = MySet([])\n",
    "        for el in self._members.keys():\n",
    "            if el in s._members.keys(): \n",
    "                si.add(el)\n",
    "        return si\n",
    "\n",
    "    def print(self):\n",
    "        mems = self._members\n",
    "        print('V2{',end='')\n",
    "        i = 0\n",
    "        for el in mems.keys():\n",
    "            print(el,end='')\n",
    "            if i != len(mems)-1:    #don't print a comma after final element\n",
    "                print(', ',end='')\n",
    "            i += 1\n",
    "        print('}')\n",
    "    \n",
    "    def mem_list(self):    \n",
    "        mems = self._members\n",
    "        return list(mems.keys())\n",
    " "
   ]
  },
  {
   "cell_type": "code",
   "execution_count": null,
   "metadata": {},
   "outputs": [],
   "source": [
    "sd1 = MySet([1,2,3,4,2,7])\n",
    "sd1.print()"
   ]
  },
  {
   "cell_type": "code",
   "execution_count": null,
   "metadata": {},
   "outputs": [],
   "source": [
    "sd1.mem_list()"
   ]
  },
  {
   "cell_type": "code",
   "execution_count": null,
   "metadata": {},
   "outputs": [],
   "source": [
    "sd1.print()\n",
    "sd1.clear()\n",
    "sd1.print()"
   ]
  },
  {
   "cell_type": "code",
   "execution_count": null,
   "metadata": {},
   "outputs": [],
   "source": [
    "sd1.add(9)\n",
    "sd1.print()"
   ]
  },
  {
   "cell_type": "code",
   "execution_count": null,
   "metadata": {},
   "outputs": [],
   "source": [
    "sd1.mem_list()"
   ]
  },
  {
   "cell_type": "code",
   "execution_count": null,
   "metadata": {},
   "outputs": [],
   "source": [
    "sd1.member(3)"
   ]
  },
  {
   "cell_type": "code",
   "execution_count": null,
   "metadata": {},
   "outputs": [],
   "source": [
    "sd1.member(6)"
   ]
  },
  {
   "cell_type": "code",
   "execution_count": null,
   "metadata": {},
   "outputs": [],
   "source": [
    "sd1.add(7)\n",
    "sd1.print()\n",
    "sd1.remove(7)\n",
    "sd1.print()"
   ]
  },
  {
   "cell_type": "code",
   "execution_count": null,
   "metadata": {},
   "outputs": [],
   "source": [
    "sd1._members"
   ]
  },
  {
   "cell_type": "code",
   "execution_count": null,
   "metadata": {},
   "outputs": [],
   "source": [
    "s1 = MySet(['a','b','c','d'])\n",
    "s2 = MySet(['x','c','y','b'])\n",
    "s1us2 = s1.union(s2)\n",
    "s1is2 = s1.intersection(s2)"
   ]
  },
  {
   "cell_type": "code",
   "execution_count": null,
   "metadata": {},
   "outputs": [],
   "source": [
    "s1.print()\n",
    "s2.print()\n",
    "s1us2.print()\n",
    "s1is2.print()"
   ]
  },
  {
   "cell_type": "code",
   "execution_count": null,
   "metadata": {},
   "outputs": [],
   "source": [
    "sd1.__dict__"
   ]
  },
  {
   "cell_type": "code",
   "execution_count": null,
   "metadata": {},
   "outputs": [],
   "source": []
  }
 ],
 "metadata": {
  "kernelspec": {
   "display_name": "Python 3",
   "language": "python",
   "name": "python3"
  },
  "language_info": {
   "codemirror_mode": {
    "name": "ipython",
    "version": 3
   },
   "file_extension": ".py",
   "mimetype": "text/x-python",
   "name": "python",
   "nbconvert_exporter": "python",
   "pygments_lexer": "ipython3",
   "version": "3.6.5"
  }
 },
 "nbformat": 4,
 "nbformat_minor": 2
}
