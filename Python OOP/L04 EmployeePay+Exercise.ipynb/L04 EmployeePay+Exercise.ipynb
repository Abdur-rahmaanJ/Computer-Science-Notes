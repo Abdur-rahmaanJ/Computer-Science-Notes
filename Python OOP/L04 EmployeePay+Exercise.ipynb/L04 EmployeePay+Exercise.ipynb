{
 "cells": [
  {
   "cell_type": "markdown",
   "metadata": {},
   "source": [
    "## Employee Payroll Classes\n",
    "Three simple classes showing, Encapsulation, Inheritance, Polymorphism & Instantiation"
   ]
  },
  {
   "cell_type": "code",
   "execution_count": null,
   "metadata": {
    "collapsed": true
   },
   "outputs": [],
   "source": [
    "class Employee():\n",
    "    def __init__(self, name):\n",
    "        self.name = name\n",
    "\n",
    "class HourlyPaidEmployee(Employee):\n",
    "    \n",
    "    def __init__(self, name):         # This init function overrides the init in the super class \n",
    "        Employee.__init__(self, name) # Explicitly call the superclass init\n",
    "        self.hours = 0\n",
    "        self.rate = 0\n",
    "        \n",
    "    def set_hours(self, hours):\n",
    "        self.hours = hours\n",
    "        \n",
    "    def set_rate(self, r):\n",
    "        self.rate = r\n",
    "        \n",
    "    def get_pay(self):\n",
    "        return self.rate * self.hours\n",
    "\n",
    "class SalariedEmployee(Employee):\n",
    "    \n",
    "    # No init function here so init function from superclass is used\n",
    "    def set_salary(self, sal):\n",
    "        self.salary = sal    #.salary is an instance variable (not created in init)\n",
    "    \n",
    "    def get_pay(self):\n",
    "        return self.salary / 12"
   ]
  },
  {
   "cell_type": "code",
   "execution_count": null,
   "metadata": {
    "collapsed": true
   },
   "outputs": [],
   "source": [
    "JB = HourlyPaidEmployee(\"Joe Bloggs\")\n",
    "MM = SalariedEmployee(\"Marvelous Mary\")\n",
    "JB.set_hours(121)\n",
    "JB.set_rate(10.50)\n",
    "MM.set_salary(45000)"
   ]
  },
  {
   "cell_type": "code",
   "execution_count": null,
   "metadata": {},
   "outputs": [],
   "source": [
    "JB.name"
   ]
  },
  {
   "cell_type": "code",
   "execution_count": null,
   "metadata": {},
   "outputs": [],
   "source": [
    "MM.name"
   ]
  },
  {
   "cell_type": "code",
   "execution_count": null,
   "metadata": {
    "scrolled": true
   },
   "outputs": [],
   "source": [
    "help(MM)"
   ]
  },
  {
   "cell_type": "code",
   "execution_count": null,
   "metadata": {},
   "outputs": [],
   "source": [
    "p1 = JB.get_pay()\n",
    "p2 = MM.get_pay()\n",
    "p1,p2"
   ]
  },
  {
   "cell_type": "markdown",
   "metadata": {},
   "source": [
    "### Exercises\n",
    "1. Assuming the minumum wage is €9.25, set that as the default rate in the HourlyPaidEmployee class. Create a new hourly paid employee to show that this works. "
   ]
  },
  {
   "cell_type": "code",
   "execution_count": null,
   "metadata": {
    "collapsed": true
   },
   "outputs": [],
   "source": [
    "class HourlyPaidEmployee(Employee):\n",
    "    \n",
    "    def __init__(self, name):         # This init function overrides the init in the super class \n",
    "        Employee.__init__(self, name) # Explicitly call the superclass init\n",
    "        self.hours = 0\n",
    "        self.rate = 9.25\n",
    "        \n",
    "    def set_hours(self, hours):\n",
    "        self.hours = hours\n",
    "        \n",
    "    def set_rate(self, r):\n",
    "        self.rate = r\n",
    "        \n",
    "    def get_pay(self):\n",
    "        return self.rate * self.hours\n"
   ]
  },
  {
   "cell_type": "code",
   "execution_count": null,
   "metadata": {
    "collapsed": true
   },
   "outputs": [],
   "source": [
    "MB = HourlyPaidEmployee(\"Mary Bloggs\")"
   ]
  },
  {
   "cell_type": "code",
   "execution_count": null,
   "metadata": {},
   "outputs": [],
   "source": [
    "MB.rate"
   ]
  },
  {
   "cell_type": "markdown",
   "metadata": {},
   "source": [
    "2. Update the SalariedEmployee class to cover the concept of a part-time worker, i.e. a salaried employee working three days a week would be paid 60% of the full salary.   \n",
    "**Hint:** SalariedEmployee should probably have an $__init__$ function now. Use the one from HourlyPaidEmployee as a template."
   ]
  },
  {
   "cell_type": "code",
   "execution_count": null,
   "metadata": {
    "collapsed": true
   },
   "outputs": [],
   "source": [
    "class SalariedEmployee(Employee):\n",
    "    \n",
    "    def __init__(self, name):         # This init function overrides the init in the super class \n",
    "        Employee.__init__(self, name) # Explicitly call the superclass init\n",
    "        self.timePercent = 100\n",
    "\n",
    "    def set_salary(self, sal):\n",
    "        self.salary = sal    #.salary is an instance variable (not created in init)\n",
    "    \n",
    "    def set_timePercent(self,pct):\n",
    "        self.timePercent = pct\n",
    "    \n",
    "    def get_pay(self):\n",
    "        return self.salary * self.timePercent / 100 / 12"
   ]
  },
  {
   "cell_type": "code",
   "execution_count": null,
   "metadata": {},
   "outputs": [],
   "source": [
    "HJ = SalariedEmployee(\"Happy Joe\")\n",
    "HJ.set_salary(60000)\n",
    "HJ.timePercent"
   ]
  },
  {
   "cell_type": "code",
   "execution_count": null,
   "metadata": {},
   "outputs": [],
   "source": [
    "HJ.get_pay()"
   ]
  },
  {
   "cell_type": "code",
   "execution_count": null,
   "metadata": {},
   "outputs": [],
   "source": [
    "HJ.set_timePercent(60)\n",
    "HJ.get_pay()"
   ]
  },
  {
   "cell_type": "code",
   "execution_count": null,
   "metadata": {
    "collapsed": true
   },
   "outputs": [],
   "source": []
  }
 ],
 "metadata": {
  "kernelspec": {
   "display_name": "Python 3",
   "language": "python",
   "name": "python3"
  },
  "language_info": {
   "codemirror_mode": {
    "name": "ipython",
    "version": 3
   },
   "file_extension": ".py",
   "mimetype": "text/x-python",
   "name": "python",
   "nbconvert_exporter": "python",
   "pygments_lexer": "ipython3",
   "version": "3.5.2"
  }
 },
 "nbformat": 4,
 "nbformat_minor": 2
}
