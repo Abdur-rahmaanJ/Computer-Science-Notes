{
 "cells": [
  {
   "cell_type": "markdown",
   "metadata": {},
   "source": [
    "# Composition\n",
    "One object is contained as an attribute in another.  \n",
    "The *contained* object can be a built-in.  \n",
    "Often a better idea than *extending* the built-in."
   ]
  },
  {
   "cell_type": "code",
   "execution_count": null,
   "metadata": {},
   "outputs": [],
   "source": [
    "class intString():\n",
    "    \n",
    "    def __init__(self, s):\n",
    "        if (type(s) == int):\n",
    "            self.s = str(s)\n",
    "        else:\n",
    "            print(\"Not a valid input\")\n",
    "        \n",
    "    \n",
    "    def to_int(self):\n",
    "             return int(self.s)"
   ]
  },
  {
   "cell_type": "code",
   "execution_count": null,
   "metadata": {},
   "outputs": [],
   "source": [
    "i = intString(34)"
   ]
  },
  {
   "cell_type": "code",
   "execution_count": null,
   "metadata": {},
   "outputs": [],
   "source": [
    "i.to_int()"
   ]
  },
  {
   "cell_type": "code",
   "execution_count": null,
   "metadata": {},
   "outputs": [],
   "source": [
    "# We can indirectly access the string methods. \n",
    "i.s.isalpha()"
   ]
  },
  {
   "cell_type": "markdown",
   "metadata": {},
   "source": [
    "## `__getattr__()` and `getattr()`\n",
    "Python offers a special method that will be called (if it has been defined) if an attribute access fails, e.g. if we called `i.isalpha()` above.   \n",
    "Here we use `__getattr__()` to give direct access to the string methods. This function is called when an attribute access on an intString object fails. \n",
    "We need to use a special `getattr()` function to make to pass the attribute access to the str class.  \n",
    "The syntax:\n",
    "`getattr(object, name)`   \n",
    "is equivalent to:  \n",
    "`object.name`  \n",
    " \n",
    " First exaplain how 'getattr()' works."
   ]
  },
  {
   "cell_type": "code",
   "execution_count": null,
   "metadata": {},
   "outputs": [],
   "source": [
    "class attsClass():\n",
    "    def __init__(self,aw,ax,ay,az):\n",
    "        self.aw = aw\n",
    "        self.ax = ax\n",
    "        self.ay = ay\n",
    "        self.az = az"
   ]
  },
  {
   "cell_type": "code",
   "execution_count": null,
   "metadata": {},
   "outputs": [],
   "source": [
    "ac = attsClass('W','X','Y','Z')"
   ]
  },
  {
   "cell_type": "code",
   "execution_count": null,
   "metadata": {},
   "outputs": [],
   "source": [
    "ac.ax"
   ]
  },
  {
   "cell_type": "code",
   "execution_count": null,
   "metadata": {},
   "outputs": [],
   "source": [
    "getattr(ac,'ax')"
   ]
  },
  {
   "cell_type": "code",
   "execution_count": null,
   "metadata": {},
   "outputs": [],
   "source": [
    "for att in ['X','Y','Z']:\n",
    "    print(att)"
   ]
  },
  {
   "cell_type": "code",
   "execution_count": null,
   "metadata": {},
   "outputs": [],
   "source": [
    "class intString():\n",
    "    \n",
    "    def __init__(self, val):\n",
    "        if (type(val) == int):\n",
    "            self.s = str(val)\n",
    "        else:\n",
    "            print(\"Not a valid input\")\n",
    "        \n",
    "    \n",
    "    def to_int(self):\n",
    "             return int(self.s)\n",
    "            \n",
    "    def __getattr__(self, attr):\n",
    "        return getattr(self.s, attr)"
   ]
  },
  {
   "cell_type": "code",
   "execution_count": null,
   "metadata": {},
   "outputs": [],
   "source": [
    "i = intString(45)"
   ]
  },
  {
   "cell_type": "code",
   "execution_count": null,
   "metadata": {},
   "outputs": [],
   "source": [
    "i.to_int()"
   ]
  },
  {
   "cell_type": "code",
   "execution_count": null,
   "metadata": {},
   "outputs": [],
   "source": [
    "i.isalpha()"
   ]
  },
  {
   "cell_type": "code",
   "execution_count": null,
   "metadata": {},
   "outputs": [],
   "source": [
    "'34'.isalpha()"
   ]
  },
  {
   "cell_type": "code",
   "execution_count": null,
   "metadata": {},
   "outputs": [],
   "source": []
  }
 ],
 "metadata": {
  "kernelspec": {
   "display_name": "Python 3",
   "language": "python",
   "name": "python3"
  },
  "language_info": {
   "codemirror_mode": {
    "name": "ipython",
    "version": 3
   },
   "file_extension": ".py",
   "mimetype": "text/x-python",
   "name": "python",
   "nbconvert_exporter": "python",
   "pygments_lexer": "ipython3",
   "version": "3.6.5"
  }
 },
 "nbformat": 4,
 "nbformat_minor": 2
}
