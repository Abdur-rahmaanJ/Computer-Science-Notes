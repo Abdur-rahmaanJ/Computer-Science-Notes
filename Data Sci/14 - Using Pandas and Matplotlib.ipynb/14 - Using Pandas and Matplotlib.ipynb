{
 "cells": [
  {
   "cell_type": "markdown",
   "metadata": {},
   "source": [
    "## Using Pandas and Matplotlib"
   ]
  },
  {
   "cell_type": "markdown",
   "metadata": {},
   "source": [
    "Pandas also provides us with a simple interface to Matplotlib, so that we can plot data stored as a Series or Data frame. "
   ]
  },
  {
   "cell_type": "code",
   "execution_count": null,
   "metadata": {},
   "outputs": [],
   "source": [
    "import pandas as pd\n",
    "import matplotlib\n",
    "# still need to tell IPython to display plots within the notebook\n",
    "%matplotlib inline"
   ]
  },
  {
   "cell_type": "markdown",
   "metadata": {},
   "source": [
    "### Line Plots"
   ]
  },
  {
   "cell_type": "markdown",
   "metadata": {},
   "source": [
    "We can generate a simple line plot directly from a Pandas Series. First we will load the data:"
   ]
  },
  {
   "cell_type": "code",
   "execution_count": null,
   "metadata": {},
   "outputs": [],
   "source": [
    "salesdata = pd.read_csv(\"sales-years.csv\",index_col=\"Month\")\n",
    "salesdata"
   ]
  },
  {
   "cell_type": "markdown",
   "metadata": {},
   "source": [
    "First, we can create a single line chart for the Series corresponding to the column with the index *2014* by calling the *plot()* function on that Series:"
   ]
  },
  {
   "cell_type": "code",
   "execution_count": null,
   "metadata": {},
   "outputs": [],
   "source": [
    "# Line plot, include a title\n",
    "p = salesdata[\"2014\"].plot(title=\"Sales 2014\",figsize=(8,5))"
   ]
  },
  {
   "cell_type": "code",
   "execution_count": null,
   "metadata": {},
   "outputs": [],
   "source": [
    "type(p)"
   ]
  },
  {
   "cell_type": "markdown",
   "metadata": {},
   "source": [
    "We can also plot all years (columns) as lines on the same chart by calling the *plot()* function on the Data Frame. A legend will be automatically included."
   ]
  },
  {
   "cell_type": "code",
   "execution_count": null,
   "metadata": {},
   "outputs": [],
   "source": [
    "p = salesdata.plot(title=\"Sales 2014 to 2016\",figsize=(8,5))"
   ]
  },
  {
   "cell_type": "markdown",
   "metadata": {},
   "source": [
    "We can display each series on a separate subplot (i.e. **small multiples**) by setting *subplots=True*. We ensure that the y-axes all have the same range using *sharey=True*, so that we can easily make visual comparisons."
   ]
  },
  {
   "cell_type": "code",
   "execution_count": null,
   "metadata": {},
   "outputs": [],
   "source": [
    "p = salesdata.plot(subplots=True,figsize=(10, 7), sharey=True)"
   ]
  },
  {
   "cell_type": "markdown",
   "metadata": {},
   "source": [
    "### Bar Plots"
   ]
  },
  {
   "cell_type": "markdown",
   "metadata": {},
   "source": [
    "Create a sample DataFrame with results for 4 assignments submitted by 6 students:"
   ]
  },
  {
   "cell_type": "code",
   "execution_count": null,
   "metadata": {},
   "outputs": [],
   "source": [
    "scores = {'first_name': ['John', 'Molly', 'Amy', 'Mary', 'Paul', 'Alice'],\n",
    "        'assignment1': [15, 10, 23, 16, 9, 11],\n",
    "        'assignment2': [21, 13, 25, 18, 19, 13],\n",
    "        'assignment3': [23, 16, 17, 19, 17, 22],\n",
    "        'assignment4': [18, 18, 19, 19, 18, 20], }\n",
    "df = pd.DataFrame(scores, columns = ['first_name', 'assignment1', 'assignment2', 'assignment3','assignment4'])\n",
    "df = df.set_index(\"first_name\")\n",
    "df"
   ]
  },
  {
   "cell_type": "markdown",
   "metadata": {},
   "source": [
    "Create a simple bar chart for a single assignment:"
   ]
  },
  {
   "cell_type": "code",
   "execution_count": null,
   "metadata": {},
   "outputs": [],
   "source": [
    "p = df[\"assignment1\"].plot.bar(figsize=(8, 4))\n",
    "# customize the axes and title\n",
    "p.set_ylim((0,25))\n",
    "p.set_xlabel(\"Student\")\n",
    "p.set_ylabel(\"Mark %\")\n",
    "p.set_title(\"Assignment 1 Results\")"
   ]
  },
  {
   "cell_type": "markdown",
   "metadata": {},
   "source": [
    "We can also generate bar charts for all assignments (i.e. all columns in the DataFrame):"
   ]
  },
  {
   "cell_type": "code",
   "execution_count": null,
   "metadata": {},
   "outputs": [],
   "source": [
    "p = df.plot.bar(figsize=(15, 4))\n",
    "# customize the axes and title\n",
    "p.set_ylim((0,25))\n",
    "p.set_xlabel(\"Student\")\n",
    "p.set_ylabel(\"Mark %\")\n",
    "p.set_title(\"Module Results\")\n",
    "# move the legend to outside the plot\n",
    "p.legend(loc='center left', bbox_to_anchor=(1.0, 0.5))"
   ]
  },
  {
   "cell_type": "markdown",
   "metadata": {},
   "source": [
    "Or we can generate a stacked bar chart, which shows the cumulative total:"
   ]
  },
  {
   "cell_type": "code",
   "execution_count": null,
   "metadata": {},
   "outputs": [],
   "source": [
    "p = df.plot.bar(stacked=True,figsize=(15, 5))\n",
    "# customize the axes and title\n",
    "p.set_ylim((0,100))\n",
    "p.set_xlabel(\"Student\")\n",
    "p.set_ylabel(\"Mark %\")\n",
    "p.set_title(\"Module Results\")\n",
    "# move the legend to outside the plot\n",
    "p.legend(loc='center left', bbox_to_anchor=(1.0, 0.5))"
   ]
  },
  {
   "cell_type": "markdown",
   "metadata": {},
   "source": [
    "### Plotting Examples - Iris Dataset"
   ]
  },
  {
   "cell_type": "markdown",
   "metadata": {},
   "source": [
    "Each row in the dataset below represents a flower sample, which is categorised by species. We can look at how many flowers are categorised into each species."
   ]
  },
  {
   "cell_type": "code",
   "execution_count": null,
   "metadata": {},
   "outputs": [],
   "source": [
    "data = pd.read_csv(\"iris.csv\")\n",
    "data.head()"
   ]
  },
  {
   "cell_type": "code",
   "execution_count": null,
   "metadata": {},
   "outputs": [],
   "source": [
    "species_counts = data[\"species\"].value_counts()\n",
    "species_counts"
   ]
  },
  {
   "cell_type": "code",
   "execution_count": null,
   "metadata": {},
   "outputs": [],
   "source": [
    "type(species_counts)"
   ]
  },
  {
   "cell_type": "markdown",
   "metadata": {},
   "source": [
    "The first way we can plot things is using the .plot extension from Pandas dataframes, which uses Matplotlib underneath. We could show the distribution of species visually as a *bar chart*:"
   ]
  },
  {
   "cell_type": "code",
   "execution_count": null,
   "metadata": {},
   "outputs": [],
   "source": [
    "my_plot = species_counts.plot(kind=\"bar\")\n",
    "my_plot.set_xlabel(\"Category\")\n",
    "my_plot.set_ylabel(\"Count\")"
   ]
  },
  {
   "cell_type": "markdown",
   "metadata": {},
   "source": [
    "We could also represent the information above using a *pie chart*:"
   ]
  },
  {
   "cell_type": "code",
   "execution_count": null,
   "metadata": {},
   "outputs": [],
   "source": [
    "p = species_counts.plot(kind=\"pie\", figsize=(6, 6))"
   ]
  },
  {
   "cell_type": "markdown",
   "metadata": {},
   "source": [
    "To inspect the relationships between values for different features, we can create a 2D scatterplot of pairs of features in the Iris dataset."
   ]
  },
  {
   "cell_type": "code",
   "execution_count": null,
   "metadata": {},
   "outputs": [],
   "source": [
    "data.shape"
   ]
  },
  {
   "cell_type": "code",
   "execution_count": null,
   "metadata": {},
   "outputs": [],
   "source": [
    "data.plot(kind=\"scatter\", x=\"sepal_length\", y=\"sepal_width\")"
   ]
  },
  {
   "cell_type": "markdown",
   "metadata": {},
   "source": [
    "We can also customise the appearance and size of the plot."
   ]
  },
  {
   "cell_type": "code",
   "execution_count": null,
   "metadata": {},
   "outputs": [],
   "source": [
    "data.plot(kind=\"scatter\", x=\"sepal_length\", y=\"petal_width\",marker='x',color='red',figsize=(7, 5))"
   ]
  },
  {
   "cell_type": "markdown",
   "metadata": {},
   "source": [
    "To get a view of the distribution of values for a given feature, we can plot a *histogram* with the specified number of \"bins\":"
   ]
  },
  {
   "cell_type": "code",
   "execution_count": null,
   "metadata": {},
   "outputs": [],
   "source": [
    "data[\"sepal_width\"].plot(kind=\"hist\",bins=10)"
   ]
  },
  {
   "cell_type": "markdown",
   "metadata": {},
   "source": [
    "To get an overview of all the dataset, showing the relationship between all pairs of features and all feature histograms, we can create a *scatter matrix*:"
   ]
  },
  {
   "cell_type": "code",
   "execution_count": null,
   "metadata": {},
   "outputs": [],
   "source": [
    "from pandas.plotting import scatter_matrix\n",
    "s = scatter_matrix(data, alpha=0.2, figsize=(8, 8))"
   ]
  },
  {
   "cell_type": "markdown",
   "metadata": {},
   "source": [
    "Another visualization technique provided by Pandas is *parallel coordinates*. This involves plotting each feature on a separate column and then draws lines connecting the features for each data sample. In the example below, the lines are coloured based on each flower's species values."
   ]
  },
  {
   "cell_type": "code",
   "execution_count": null,
   "metadata": {},
   "outputs": [],
   "source": [
    "from pandas.plotting import parallel_coordinates\n",
    "pc = parallel_coordinates(data, \"species\")"
   ]
  },
  {
   "cell_type": "markdown",
   "metadata": {},
   "source": [
    "Let’s say we really like this plot and want to save it as a PNG image for a presentation."
   ]
  },
  {
   "cell_type": "code",
   "execution_count": null,
   "metadata": {},
   "outputs": [],
   "source": [
    "fig = p.get_figure()\n",
    "fig.savefig(\"species-plot.png\")"
   ]
  },
  {
   "cell_type": "code",
   "execution_count": null,
   "metadata": {},
   "outputs": [],
   "source": []
  }
 ],
 "metadata": {
  "kernelspec": {
   "display_name": "Python 3",
   "language": "python",
   "name": "python3"
  },
  "language_info": {
   "codemirror_mode": {
    "name": "ipython",
    "version": 3
   },
   "file_extension": ".py",
   "mimetype": "text/x-python",
   "name": "python",
   "nbconvert_exporter": "python",
   "pygments_lexer": "ipython3",
   "version": "3.7.2"
  }
 },
 "nbformat": 4,
 "nbformat_minor": 1
}
