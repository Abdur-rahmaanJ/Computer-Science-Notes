{
 "cells": [
  {
   "cell_type": "markdown",
   "metadata": {},
   "source": [
    "### Lab 2 Tasks - Solutions"
   ]
  },
  {
   "cell_type": "markdown",
   "metadata": {
    "collapsed": true
   },
   "source": [
    "The code below creates two lists, one list with English words, and a corresponding list with French words."
   ]
  },
  {
   "cell_type": "code",
   "execution_count": 1,
   "metadata": {},
   "outputs": [],
   "source": [
    "english = [\"hello\", \"cat\", \"dog\", \"yes\", \"tomorrow\", \"yesterday\", \n",
    "          \"difficult\", \"easy\", \"bad\", \"no\", \"tuesday\", \"january\"]"
   ]
  },
  {
   "cell_type": "code",
   "execution_count": 2,
   "metadata": {},
   "outputs": [],
   "source": [
    "french = [\"bonjour\", \"chat\", \"chien\", \"oui\", \"demain\", \"hier\", \n",
    "          \"difficile\", \"facile\", \"mauvais\", \"non\", \"mardi\", \"janvier\"]"
   ]
  },
  {
   "cell_type": "markdown",
   "metadata": {},
   "source": [
    "Step 1: Confirm that both lists contain an equal number of values."
   ]
  },
  {
   "cell_type": "code",
   "execution_count": 3,
   "metadata": {},
   "outputs": [
    {
     "data": {
      "text/plain": [
       "True"
      ]
     },
     "execution_count": 3,
     "metadata": {},
     "output_type": "execute_result"
    }
   ],
   "source": [
    "len(english) == len(french)"
   ]
  },
  {
   "cell_type": "markdown",
   "metadata": {},
   "source": [
    "Step 2: Create a Python dictionary, which maps English words to French words, using the lists above. "
   ]
  },
  {
   "cell_type": "code",
   "execution_count": 4,
   "metadata": {},
   "outputs": [],
   "source": [
    "translator = {}\n",
    "for i in range( len(english) ):\n",
    "    translator[ english[i] ] = french[i]"
   ]
  },
  {
   "cell_type": "code",
   "execution_count": 5,
   "metadata": {},
   "outputs": [
    {
     "data": {
      "text/plain": [
       "{'hello': 'bonjour',\n",
       " 'cat': 'chat',\n",
       " 'dog': 'chien',\n",
       " 'yes': 'oui',\n",
       " 'tomorrow': 'demain',\n",
       " 'yesterday': 'hier',\n",
       " 'difficult': 'difficile',\n",
       " 'easy': 'facile',\n",
       " 'bad': 'mauvais',\n",
       " 'no': 'non',\n",
       " 'tuesday': 'mardi',\n",
       " 'january': 'janvier'}"
      ]
     },
     "execution_count": 5,
     "metadata": {},
     "output_type": "execute_result"
    }
   ],
   "source": [
    "translator"
   ]
  },
  {
   "cell_type": "code",
   "execution_count": 6,
   "metadata": {},
   "outputs": [
    {
     "data": {
      "text/plain": [
       "'bonjour'"
      ]
     },
     "execution_count": 6,
     "metadata": {},
     "output_type": "execute_result"
    }
   ],
   "source": [
    "translator[\"hello\"]"
   ]
  },
  {
   "cell_type": "code",
   "execution_count": 7,
   "metadata": {},
   "outputs": [
    {
     "data": {
      "text/plain": [
       "'mardi'"
      ]
     },
     "execution_count": 7,
     "metadata": {},
     "output_type": "execute_result"
    }
   ],
   "source": [
    "translator[\"tuesday\"]"
   ]
  },
  {
   "cell_type": "markdown",
   "metadata": {},
   "source": [
    "Step 3: Remove all key-value pairs from the dictionary above, where the keys (i.e. the English words) contain less than 4 characters."
   ]
  },
  {
   "cell_type": "code",
   "execution_count": 8,
   "metadata": {},
   "outputs": [],
   "source": [
    "for word in english:\n",
    "    if len(word) < 4:\n",
    "        del translator[word]"
   ]
  },
  {
   "cell_type": "code",
   "execution_count": 9,
   "metadata": {},
   "outputs": [
    {
     "data": {
      "text/plain": [
       "{'hello': 'bonjour',\n",
       " 'tomorrow': 'demain',\n",
       " 'yesterday': 'hier',\n",
       " 'difficult': 'difficile',\n",
       " 'easy': 'facile',\n",
       " 'tuesday': 'mardi',\n",
       " 'january': 'janvier'}"
      ]
     },
     "execution_count": 9,
     "metadata": {},
     "output_type": "execute_result"
    }
   ],
   "source": [
    "translator"
   ]
  },
  {
   "cell_type": "markdown",
   "metadata": {},
   "source": [
    "Step 4: Write a function *translate()* which accepts 3 parameters: a translation dictionary, a word to translate, and a default word. If the word is in the dictionary, the function should return the translated word. Otherwise, it should return the default word."
   ]
  },
  {
   "cell_type": "code",
   "execution_count": 10,
   "metadata": {},
   "outputs": [],
   "source": [
    "def translate( td, word, default_translation ):\n",
    "    if word in td:\n",
    "        return td[word]\n",
    "    return default_translation"
   ]
  },
  {
   "cell_type": "code",
   "execution_count": 11,
   "metadata": {},
   "outputs": [
    {
     "data": {
      "text/plain": [
       "'bonjour'"
      ]
     },
     "execution_count": 11,
     "metadata": {},
     "output_type": "execute_result"
    }
   ],
   "source": [
    "translate( translator, \"hello\", \"unknown\" )"
   ]
  },
  {
   "cell_type": "code",
   "execution_count": 12,
   "metadata": {},
   "outputs": [
    {
     "data": {
      "text/plain": [
       "'unknown'"
      ]
     },
     "execution_count": 12,
     "metadata": {},
     "output_type": "execute_result"
    }
   ],
   "source": [
    "translate( translator, \"december\", \"unknown\" )"
   ]
  }
 ],
 "metadata": {
  "kernelspec": {
   "display_name": "Python 3",
   "language": "python",
   "name": "python3"
  },
  "language_info": {
   "codemirror_mode": {
    "name": "ipython",
    "version": 3
   },
   "file_extension": ".py",
   "mimetype": "text/x-python",
   "name": "python",
   "nbconvert_exporter": "python",
   "pygments_lexer": "ipython3",
   "version": "3.6.6"
  }
 },
 "nbformat": 4,
 "nbformat_minor": 1
}
