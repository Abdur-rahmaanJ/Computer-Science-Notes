{
 "cells": [
  {
   "cell_type": "markdown",
   "metadata": {},
   "source": [
    "## Lab 3 Tasks"
   ]
  },
  {
   "cell_type": "markdown",
   "metadata": {},
   "source": [
    "Task 1. \n",
    "\n",
    "Download the comma-separated file *scores.csv* from the module Moodle page and save it to the same directory as your notebooks. \n",
    "\n",
    "Write a function *display_numbers()* which takes one parameter - a file path. The function should read floating point numbers from each line in the specified file, and compute the total for the values on each line. Print each total to 2 decimal places. Use exception handling to deal with the potential case where the input file does not exist.\n",
    "\n",
    "Apply the function *display_numbers()* to *scores.csv*."
   ]
  },
  {
   "cell_type": "code",
   "execution_count": null,
   "metadata": {},
   "outputs": [],
   "source": []
  },
  {
   "cell_type": "markdown",
   "metadata": {
    "collapsed": true
   },
   "source": [
    "Task 2.\n",
    "\n",
    "Write a function *reverse_numbers()* which takes two parameters - an input file path and an output file path. The function should read floating point numbers from each line in the specified input file. The order of the values from in line should then be reversed, and these lines should be written to the specifed output file. Include exception handling code.\n",
    "\n",
    "Apply the function *reverse_numbers()* to *scores.csv* to create a new file *reversed.csv*."
   ]
  },
  {
   "cell_type": "code",
   "execution_count": null,
   "metadata": {},
   "outputs": [],
   "source": []
  }
 ],
 "metadata": {
  "kernelspec": {
   "display_name": "Python 3",
   "language": "python",
   "name": "python3"
  },
  "language_info": {
   "codemirror_mode": {
    "name": "ipython",
    "version": 3
   },
   "file_extension": ".py",
   "mimetype": "text/x-python",
   "name": "python",
   "nbconvert_exporter": "python",
   "pygments_lexer": "ipython3",
   "version": "3.6.5"
  }
 },
 "nbformat": 4,
 "nbformat_minor": 1
}
