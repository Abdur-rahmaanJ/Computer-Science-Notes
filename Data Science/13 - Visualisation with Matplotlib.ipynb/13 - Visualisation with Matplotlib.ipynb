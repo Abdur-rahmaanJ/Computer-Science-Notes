{
 "cells": [
  {
   "cell_type": "markdown",
   "metadata": {},
   "source": [
    "## Visualisation With Matplotlib"
   ]
  },
  {
   "cell_type": "markdown",
   "metadata": {},
   "source": [
    "Matplotlib is the standard Python plotting library. It provides a variety of plots and visualisations. To use it in an IPython notebook, we firstly set up our notebook as follows:"
   ]
  },
  {
   "cell_type": "code",
   "execution_count": null,
   "metadata": {},
   "outputs": [],
   "source": [
    "import matplotlib\n",
    "import matplotlib.pyplot as plt\n",
    "# Important! Need to tell IPython to display plots within the notebook\n",
    "%matplotlib inline"
   ]
  },
  {
   "cell_type": "markdown",
   "metadata": {},
   "source": [
    "### Matplotlib Basics\n",
    "Matplotlib visualisations consists of a figure, which contains one or more plots. A simple plot can be used to show the values in a standard Python list. Here the values are plotted on the y-axis. Matplotlib assumes this is a sequence and automatically assigns indices to the x-axis."
   ]
  },
  {
   "cell_type": "code",
   "execution_count": null,
   "metadata": {},
   "outputs": [],
   "source": [
    "# this is the data that we want to plot\n",
    "bitcoin_data = [ 7875.1,  7908.7, 7665.3,  7386.4,  6137.5,  6383.5, 6310.1]"
   ]
  },
  {
   "cell_type": "code",
   "execution_count": null,
   "metadata": {},
   "outputs": [],
   "source": [
    "# create a new figure\n",
    "plt.figure()\n",
    "# set up the plot\n",
    "plt.plot(bitcoin_data)\n",
    "plt.show()"
   ]
  },
  {
   "cell_type": "markdown",
   "metadata": {},
   "source": [
    "We can customise this plot by changing its dimensions, changing the line colour, adding a title, and adding text labels to the axes:"
   ]
  },
  {
   "cell_type": "code",
   "execution_count": null,
   "metadata": {},
   "outputs": [],
   "source": [
    "# create a new figure, setting the dimensions of the plot\n",
    "plt.figure(figsize=(8,5))\n",
    "# set the line colour to red\n",
    "p = plt.plot(bitcoin_data,color=\"red\")\n",
    "# set the plot title, with the specified font size\n",
    "plt.title('Value of Bitcoin', fontsize=16)\n",
    "# set the axis labels, with the specified font size\n",
    "plt.xlabel('Day', fontsize=16)\n",
    "plt.ylabel('Value', fontsize=16)\n",
    "plt.show()"
   ]
  },
  {
   "cell_type": "markdown",
   "metadata": {},
   "source": [
    "###  Scatter Plots\n",
    "Next let's create a scatter plot, using two Python lists of identical size for the X and Y values."
   ]
  },
  {
   "cell_type": "code",
   "execution_count": null,
   "metadata": {},
   "outputs": [],
   "source": [
    "# this is our data\n",
    "x = [ 1, 5, 8, 3, 7 ]\n",
    "y = [ 0.4, 0.25, 0.65, 0.7, 0.2 ]\n",
    "# create the figure\n",
    "plt.figure()\n",
    "# create a scatter plot\n",
    "plt.scatter(x,y)\n",
    "# customise the range of the axes: values are [xmin xmax ymin ymax]\n",
    "plt.axis([0,10,0,1])\n",
    "# add labels to the axes\n",
    "plt.xlabel(\"X Numbers\")\n",
    "plt.ylabel(\"Y Numbers\")"
   ]
  },
  {
   "cell_type": "markdown",
   "metadata": {},
   "source": [
    "Let's try another scatter plot, based on randomly values"
   ]
  },
  {
   "cell_type": "code",
   "execution_count": null,
   "metadata": {},
   "outputs": [],
   "source": [
    "# Generate the random values\n",
    "import random    \n",
    "r_x_data = []\n",
    "r_y_data = []\n",
    "for i in range(10):    \n",
    "    # generate a random x value between 0 and 1\n",
    "    r_x_data.append( random.random() )\n",
    "    # generate a random y value, between 0 and 10\n",
    "    r_y_data.append( random.random() * 10 )"
   ]
  },
  {
   "cell_type": "code",
   "execution_count": null,
   "metadata": {},
   "outputs": [],
   "source": [
    "r_x_data"
   ]
  },
  {
   "cell_type": "code",
   "execution_count": null,
   "metadata": {},
   "outputs": [],
   "source": [
    "r_y_data"
   ]
  },
  {
   "cell_type": "markdown",
   "metadata": {},
   "source": [
    "We create a new figure, then pass the X and Y values to the function *plt.scatter()*:"
   ]
  },
  {
   "cell_type": "code",
   "execution_count": null,
   "metadata": {},
   "outputs": [],
   "source": [
    "# set up the new figure\n",
    "plt.figure()\n",
    "# set up the scatter plot\n",
    "p = plt.scatter(r_x_data, r_y_data)"
   ]
  },
  {
   "cell_type": "markdown",
   "metadata": {},
   "source": [
    "Let's regenerate the plot, this time cutomising the appearance of the scatter plot:"
   ]
  },
  {
   "cell_type": "code",
   "execution_count": null,
   "metadata": {},
   "outputs": [],
   "source": [
    "# change the size of the figure\n",
    "plt.figure(figsize=(8,5))\n",
    "# we will change the colour, shape, and size for each point\n",
    "p = plt.scatter(r_x_data, r_y_data, c=\"green\", s=150, marker=\"x\")\n",
    "# set the axis labels\n",
    "plt.xlabel('X Scores', fontsize=18)\n",
    "plt.ylabel('Y Scores', fontsize=18)"
   ]
  },
  {
   "cell_type": "markdown",
   "metadata": {},
   "source": [
    "### Bar Charts\n",
    "Next let's create a NumPy array, and a corresponding set of labels."
   ]
  },
  {
   "cell_type": "code",
   "execution_count": null,
   "metadata": {},
   "outputs": [],
   "source": [
    "values = [ 5, 11, 14, 6 ]\n",
    "names = [ \"Alice\", \"Paul\", \"Susan\", \"Bob\" ]"
   ]
  },
  {
   "cell_type": "code",
   "execution_count": null,
   "metadata": {},
   "outputs": [],
   "source": [
    "# these are the corresponding positions on the y-axis, for plotting purposes\n",
    "y_pos = range(len(names))\n",
    "y_pos"
   ]
  },
  {
   "cell_type": "markdown",
   "metadata": {},
   "source": [
    "Now we can display this as a bar chart:"
   ]
  },
  {
   "cell_type": "code",
   "execution_count": null,
   "metadata": {},
   "outputs": [],
   "source": [
    "# create a new figure\n",
    "plt.figure(figsize=(8,5))\n",
    "# set up the bar chart\n",
    "plt.barh(y_pos, values, align='center')\n",
    "plt.yticks(y_pos, names)\n",
    "plt.xlabel(\"Number of Purchases\")\n",
    "plt.title(\"Customers\")"
   ]
  },
  {
   "cell_type": "markdown",
   "metadata": {},
   "source": [
    "We can show multiple plots on the same figure:"
   ]
  },
  {
   "cell_type": "code",
   "execution_count": null,
   "metadata": {},
   "outputs": [],
   "source": [
    "# set up the new figure\n",
    "plt.figure( figsize=(6,5) )\n",
    "# generate and plot 4 groups of points\n",
    "for color in [\"red\",\"green\",\"blue\",\"orange\"]:\n",
    "    # generate 8 random points\n",
    "    x = []\n",
    "    y = []\n",
    "    for i in range(8):\n",
    "        x.append( random.random() )\n",
    "        y.append( random.random() )\n",
    "    # show the plot for this data, using a different colour each time\n",
    "    plt.scatter(x, y, c=color, s=50, label=color)"
   ]
  },
  {
   "cell_type": "markdown",
   "metadata": {},
   "source": [
    "### Pie Charts\n",
    "Matplotlib can also produce pie charts."
   ]
  },
  {
   "cell_type": "code",
   "execution_count": null,
   "metadata": {},
   "outputs": [],
   "source": [
    "# some sample data\n",
    "counts = [18, 23, 7]\n",
    "parties = [\"Republicans\", \"Democrats\", \"Others\"]"
   ]
  },
  {
   "cell_type": "code",
   "execution_count": null,
   "metadata": {},
   "outputs": [],
   "source": [
    "# set up the new figure, specifying the size of the figure\n",
    "plt.figure(figsize=(5, 5))\n",
    "# create the pie chart on the sample data\n",
    "p = plt.pie(counts, labels=parties, colors=[\"red\",\"blue\",\"grey\"], autopct=\"%.1f%%\")"
   ]
  },
  {
   "cell_type": "markdown",
   "metadata": {},
   "source": [
    "We can also generate a plot, and save it to a file after display it:"
   ]
  },
  {
   "cell_type": "code",
   "execution_count": null,
   "metadata": {},
   "outputs": [],
   "source": [
    "# set up the new figure, specifying the size of the figure\n",
    "plt.figure(figsize=(5, 5))\n",
    "# create the pie chart on the sample data\n",
    "p = plt.pie(counts, labels=parties, colors=[\"red\",\"blue\",\"grey\"], autopct=\"%.1f%%\")\n",
    "# save as a PNG image file\n",
    "matplotlib.pyplot.savefig(\"politics-pie-chart.png\")"
   ]
  },
  {
   "cell_type": "code",
   "execution_count": null,
   "metadata": {},
   "outputs": [],
   "source": []
  },
  {
   "cell_type": "code",
   "execution_count": null,
   "metadata": {},
   "outputs": [],
   "source": []
  }
 ],
 "metadata": {
  "kernelspec": {
   "display_name": "Python 3",
   "language": "python",
   "name": "python3"
  },
  "language_info": {
   "codemirror_mode": {
    "name": "ipython",
    "version": 3
   },
   "file_extension": ".py",
   "mimetype": "text/x-python",
   "name": "python",
   "nbconvert_exporter": "python",
   "pygments_lexer": "ipython3",
   "version": "3.7.2"
  }
 },
 "nbformat": 4,
 "nbformat_minor": 1
}
