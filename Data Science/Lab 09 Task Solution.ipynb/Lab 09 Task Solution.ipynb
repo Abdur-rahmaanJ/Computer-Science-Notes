{
 "cells": [
  {
   "cell_type": "markdown",
   "metadata": {},
   "source": [
    "## Lab 9 Tasks - Solution"
   ]
  },
  {
   "cell_type": "markdown",
   "metadata": {},
   "source": [
    "Step 1. Download the *Diabetes* dataset from the link below, and load the data into a Pandas Data Frame.\n",
    "\n",
    "http://mlg.ucd.ie/modules/COMP41680/diabetes.csv\n",
    "\n",
    "The goal of the classification tasks for this dataset is to predict whether a patient will test 'positve' or 'negative' for diabetes, based on 8 numeric features."
   ]
  },
  {
   "cell_type": "code",
   "execution_count": null,
   "metadata": {},
   "outputs": [],
   "source": [
    "import pandas as pd\n",
    "df = pd.read_csv(\"http://mlg.ucd.ie/modules/COMP41680/diabetes.csv\")\n",
    "df.head(5)"
   ]
  },
  {
   "cell_type": "markdown",
   "metadata": {},
   "source": [
    "Step 2. Separate the numeric features from the target classs labels."
   ]
  },
  {
   "cell_type": "code",
   "execution_count": null,
   "metadata": {},
   "outputs": [],
   "source": [
    "data = df.iloc[:,0:8]\n",
    "data.head(5)"
   ]
  },
  {
   "cell_type": "code",
   "execution_count": null,
   "metadata": {},
   "outputs": [],
   "source": [
    "target = df[\"class\"]\n",
    "target.head(5)"
   ]
  },
  {
   "cell_type": "markdown",
   "metadata": {},
   "source": [
    "Step 3. Generate a 60/40 random training and test split of the data. Based on this split, evaluate the accuracy achieved by a KNN classifier on the *Diabetes* dataset for: K=1, K=3, K=5"
   ]
  },
  {
   "cell_type": "code",
   "execution_count": null,
   "metadata": {},
   "outputs": [],
   "source": [
    "from sklearn.model_selection import train_test_split\n",
    "data_train, data_test, target_train, target_test = train_test_split(data, target, test_size=0.4)"
   ]
  },
  {
   "cell_type": "code",
   "execution_count": null,
   "metadata": {},
   "outputs": [],
   "source": [
    "from sklearn.neighbors import KNeighborsClassifier\n",
    "from sklearn.metrics import accuracy_score\n",
    "for k in [1,3,5]:\n",
    "    model = KNeighborsClassifier(n_neighbors=k)\n",
    "    model.fit(data_train, target_train)\n",
    "    print(model)\n",
    "    predicted = model.predict(data_test)\n",
    "    acc = accuracy_score(target_test, predicted)\n",
    "    print(\"K=%d - Accuracy = %.3f\" % (k,acc) )"
   ]
  },
  {
   "cell_type": "markdown",
   "metadata": {},
   "source": [
    "Step 4. Use 5-fold cross-validation to evaluate the accuracy achieved by a KNN classifier on the *Diabetes* dataset for: K=1, K=3, K=5"
   ]
  },
  {
   "cell_type": "code",
   "execution_count": null,
   "metadata": {},
   "outputs": [],
   "source": [
    "from sklearn.model_selection import cross_val_score\n",
    "import numpy as np\n",
    "for k in [1,3,5]:\n",
    "    # create a single classifier\n",
    "    model = KNeighborsClassifier(n_neighbors=k)\n",
    "    # apply 5-fold cross-validation, measuring accuracy each time\n",
    "    acc_scores = cross_val_score(model, data, target, cv=5, scoring=\"accuracy\")\n",
    "    # get the mean accuracy across 5 folds\n",
    "    mean_acc = acc_scores.mean()\n",
    "    print(\"K=%d - Mean accuracy=%.3f\" % (k,mean_acc) )"
   ]
  },
  {
   "cell_type": "markdown",
   "metadata": {},
   "source": [
    "Step 5. Using the best performing number of nearest neighbours from Step 4, build a KNN model on the entire Diabetes dataset.\n",
    "\n",
    "Use the model to make positive or negative predictions for the new unseen input data from the link below.\n",
    "\n",
    "http://mlg.ucd.ie/modules/COMP41680/diabetes-unseen.csv"
   ]
  },
  {
   "cell_type": "code",
   "execution_count": null,
   "metadata": {},
   "outputs": [],
   "source": [
    "# create a single classifier on the entire dataset\n",
    "model = KNeighborsClassifier(n_neighbors=3)\n",
    "model.fit(data, target)"
   ]
  },
  {
   "cell_type": "code",
   "execution_count": null,
   "metadata": {},
   "outputs": [],
   "source": [
    "unseen = pd.read_csv(\"http://mlg.ucd.ie/modules/COMP41680/diabetes-unseen.csv\")\n",
    "unseen"
   ]
  },
  {
   "cell_type": "code",
   "execution_count": null,
   "metadata": {},
   "outputs": [],
   "source": [
    "predicted = model.predict(unseen)\n",
    "predicted"
   ]
  }
 ],
 "metadata": {
  "kernelspec": {
   "display_name": "Python 3",
   "language": "python",
   "name": "python3"
  },
  "language_info": {
   "codemirror_mode": {
    "name": "ipython",
    "version": 3
   },
   "file_extension": ".py",
   "mimetype": "text/x-python",
   "name": "python",
   "nbconvert_exporter": "python",
   "pygments_lexer": "ipython3",
   "version": "3.7.2"
  }
 },
 "nbformat": 4,
 "nbformat_minor": 1
}
