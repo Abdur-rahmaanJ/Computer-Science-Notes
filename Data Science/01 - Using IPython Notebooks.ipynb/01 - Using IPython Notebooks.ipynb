{
 "cells": [
  {
   "cell_type": "markdown",
   "metadata": {},
   "source": [
    "## Using IPython Notebooks "
   ]
  },
  {
   "cell_type": "markdown",
   "metadata": {},
   "source": [
    "IPython Notebooks provide an interactive web-based environment for writing and running Python code. We will use IPython notebooks for many of the labs and assignments in COMP41680."
   ]
  },
  {
   "cell_type": "markdown",
   "metadata": {},
   "source": [
    "IPython Notebooks have two fundamental types of cells:\n",
    "1. *Markdown cells*: contain text content for explaining our notebook.\n",
    "2. *Code cells*: allow us to type and run Python code. "
   ]
  },
  {
   "cell_type": "markdown",
   "metadata": {},
   "source": [
    "### Code Cells"
   ]
  },
  {
   "cell_type": "markdown",
   "metadata": {},
   "source": [
    "To get started, review the lectures notes on how to start the IPython Notebook Server and create a new notebook in your web browser."
   ]
  },
  {
   "cell_type": "markdown",
   "metadata": {},
   "source": [
    "You can then run Python code in a code cell by hitting Shift-Enter or by pressing the ‘Play‘ button in the toolbar. You can modify and re-run code cells multiple times in any order."
   ]
  },
  {
   "cell_type": "markdown",
   "metadata": {},
   "source": [
    "When a code cell is executed, the code that it contains is sent to the ‘kernel‘ associated with the notebook (i.e. the Python engine running in the background). The results that are returned from this computation are then displayed in the notebook as the cell’s output. Note that some code will not have an output."
   ]
  },
  {
   "cell_type": "code",
   "execution_count": null,
   "metadata": {
    "collapsed": false
   },
   "outputs": [],
   "source": [
    "1 + 2   # output is the result"
   ]
  },
  {
   "cell_type": "code",
   "execution_count": null,
   "metadata": {
    "collapsed": true
   },
   "outputs": [],
   "source": [
    "x = 25  # no output here"
   ]
  },
  {
   "cell_type": "code",
   "execution_count": null,
   "metadata": {
    "collapsed": false
   },
   "outputs": [],
   "source": [
    "print(x)  # output is produce by the print function"
   ]
  },
  {
   "cell_type": "markdown",
   "metadata": {
    "collapsed": true
   },
   "source": [
    "### Markdown Cells"
   ]
  },
  {
   "cell_type": "markdown",
   "metadata": {},
   "source": [
    "It can often be helpful to provide explanatory text in notebooks. [Markdown](http://daringfireball.net/projects/markdown/) is a lightweight type of markup language with plain text formatting syntax which can be rendered as HTML. While there is no formal definition of the Markdown language, IPython  supports a set of commands which are commonly used elsewhere (e.g. Github, Reddit)."
   ]
  },
  {
   "cell_type": "markdown",
   "metadata": {},
   "source": [
    "To enter a IPython Markdown cell, choose the cell dropdown list in the toolbar and set the type to ‘Markdown’."
   ]
  },
  {
   "cell_type": "markdown",
   "metadata": {},
   "source": [
    "**Paragraphs**: Paragraphs in Markdown are just one or more lines of consecutive text followed by one or more blank lines."
   ]
  },
  {
   "cell_type": "markdown",
   "metadata": {},
   "source": [
    "This is a paragraph of text."
   ]
  },
  {
   "cell_type": "markdown",
   "metadata": {},
   "source": [
    "**Styling Text**: We can create a heading by adding one or more `#` symbols before the heading text. The number of `#`'s used will determine the size of the font."
   ]
  },
  {
   "cell_type": "markdown",
   "metadata": {},
   "source": [
    "# Heading 1\n",
    "## Heading 2\n",
    "### Heading 3\n",
    "#### Heading 4"
   ]
  },
  {
   "cell_type": "markdown",
   "metadata": {},
   "source": [
    "You can format text as *italic* or **bold** using one or two `*`'s respectively."
   ]
  },
  {
   "cell_type": "markdown",
   "metadata": {},
   "source": [
    "This is normal text\n",
    "*This text will be in italics*\n",
    "**And this text will be in bold**"
   ]
  },
  {
   "cell_type": "markdown",
   "metadata": {},
   "source": [
    "**Unordered lists**: We can make an unordered (bulleted) list by prefixing lines with either the `*` or `-` character."
   ]
  },
  {
   "cell_type": "markdown",
   "metadata": {},
   "source": [
    "* My item\n",
    "* Another item\n",
    "* Yet another item"
   ]
  },
  {
   "cell_type": "markdown",
   "metadata": {},
   "source": [
    "- My item\n",
    "- Another item\n",
    "- Yet another item"
   ]
  },
  {
   "cell_type": "markdown",
   "metadata": {},
   "source": [
    "**Ordered lists**: We can make an ordered (numbered) list by prefixing lines with a number."
   ]
  },
  {
   "cell_type": "markdown",
   "metadata": {},
   "source": [
    "1. My first item\n",
    "2. Next item\n",
    "3. Final item"
   ]
  },
  {
   "cell_type": "markdown",
   "metadata": {},
   "source": [
    "We can create a hyperlink by wrapping text in square brackets (`[ ]`) and then wrapping the link in parentheses (`( )`)."
   ]
  },
  {
   "cell_type": "markdown",
   "metadata": {},
   "source": [
    "Go to [the UCD homepage](http://www.ucd.ie)"
   ]
  },
  {
   "cell_type": "markdown",
   "metadata": {},
   "source": [
    "### More Resources"
   ]
  },
  {
   "cell_type": "markdown",
   "metadata": {},
   "source": [
    "IPython Resources\n",
    "* [IPython Official Documentation](http://ipython.readthedocs.org/en/stable/overview.html)\n",
    "\n",
    "Markdown Resources\n",
    "* [Guide to Markdown Basics](https://help.github.com/articles/markdown-basics/) from Github\n",
    "* [Original Markdown Syntax Specification](http://daringfireball.net/projects/markdown/syntax/) from John Gruber\n",
    "* [Markdown Cheat Sheet](http://nestacms.com/docs/creating-content/markdown-cheat-sheet) from Nesta CMS"
   ]
  }
 ],
 "metadata": {
  "kernelspec": {
   "display_name": "Python 3",
   "language": "python",
   "name": "python3"
  },
  "language_info": {
   "codemirror_mode": {
    "name": "ipython",
    "version": 3
   },
   "file_extension": ".py",
   "mimetype": "text/x-python",
   "name": "python",
   "nbconvert_exporter": "python",
   "pygments_lexer": "ipython3",
   "version": "3.5.1"
  }
 },
 "nbformat": 4,
 "nbformat_minor": 0
}
