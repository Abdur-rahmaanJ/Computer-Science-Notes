{
 "cells": [
  {
   "cell_type": "markdown",
   "metadata": {},
   "source": [
    "# COMP 10020 Introduction to Programming 2 \n",
    "## Lab 2 - OO Rugby Tournaments"
   ]
  },
  {
   "cell_type": "markdown",
   "metadata": {},
   "source": [
    "## SOLUTIONS!!!!"
   ]
  },
  {
   "cell_type": "markdown",
   "metadata": {},
   "source": [
    "In this lab you will be tasked with exercising your key Python programming skills. The **Pick & Go Test Match Results Database** (http://www.lassen.co.nz/pickandgo.php) contains the results of every international rugby match played since 1875. The following code block reads data from a data file (*'RugbyResultsData.csv'*) scraped from Pick & Go and stores  this in a list of dictionary objects, each of which contains the detaisl of a match. The details stored about each match are stored in a dictionary object with the following keys:\n",
    "\n",
    "* **Date**: The date on which the match was played \n",
    "* **Day**: The day of the week on which the match was played \n",
    "* **Year**: The year in which the match was played\n",
    "* **Team_1**: The home team (three letter country code, e.g. IRL = Ireland, NZL = New Zealand)\n",
    "* **Team_2**: The away team (three letter country code, e.g. IRL = Ireland, NZL = New Zealand)\n",
    "* **Team_1_Score**: The score achieved by the home team.\t\n",
    "* **Team_2_Score**: The score achieved by the away team.\t\n",
    "* **Team_1_Tries**: The number of tries scored by the home team.\n",
    "* **Team_2_Tries**: The number of tries scored by the away team.\n",
    "* **Neutral**: Was the match played at a neutral venue?"
   ]
  },
  {
   "cell_type": "markdown",
   "metadata": {},
   "source": [
    "### Question 1"
   ]
  },
  {
   "cell_type": "markdown",
   "metadata": {},
   "source": [
    "Can you write a Python class, called **Match**, to store the details of a rugby game? "
   ]
  },
  {
   "cell_type": "code",
   "execution_count": 1,
   "metadata": {},
   "outputs": [],
   "source": [
    "# Write code here\n",
    "class Match:\n",
    "    \n",
    "    # A constructor called when an object of the class is instantiated.\n",
    "    def __init__(self, date, day, year, team_1, team_2, team_1_score, team_2_score, team_1_tries, team_2_tries, neutral_venue):\n",
    "        \n",
    "        self.date = date\n",
    "        self.day = day\n",
    "        self.year = year\n",
    "\n",
    "        self.team_1 = team_1\n",
    "        self.team_2 = team_2\n",
    "\n",
    "        self.team_1_score = team_1_score\n",
    "        self.team_2_score = team_2_score\n",
    "        self.team_1_tries = team_1_tries\n",
    "        self.team_2_tries = team_2_tries\n",
    "        \n",
    "    def show(self):\n",
    "        print(self.date + \": \" + self.team_1 + \" \" + str(self.team_1_score) + \" - \" + str(self.team_2_score)  + \" \" + self.team_2)"
   ]
  },
  {
   "cell_type": "markdown",
   "metadata": {},
   "source": [
    "### Question 2"
   ]
  },
  {
   "cell_type": "markdown",
   "metadata": {},
   "source": [
    "Can you adjust the code given below to read the data from *'RugbyResultsData.csv'* into a list of **Match** objects?"
   ]
  },
  {
   "cell_type": "code",
   "execution_count": 2,
   "metadata": {},
   "outputs": [
    {
     "name": "stdout",
     "output_type": "stream",
     "text": [
      "3331 matches loaded\n"
     ]
    }
   ],
   "source": [
    "# Adjust this code to create a list of Match objects\n",
    "\n",
    "matches = list()\n",
    "count = 0\n",
    "with open('RugbyResultsData.csv') as f:\n",
    "    for line in f:\n",
    "        words = line.split(',')\n",
    "        \n",
    "        match = Match(words[0],words[1],words[2],words[3],words[4],int(words[5]),int(words[6]),int(words[7]),int(words[8]),words[9][0])\n",
    "        matches.append(match)\n",
    "        count = count + 1\n",
    "    \n",
    "print(str(count) + \" matches loaded\")"
   ]
  },
  {
   "cell_type": "markdown",
   "metadata": {},
   "source": [
    "### Question 3"
   ]
  },
  {
   "cell_type": "markdown",
   "metadata": {},
   "source": [
    "Add a *print* method to your **Match** class to print the details of a match (make it look nice!). Iterate through the list of matchs and print the details of each."
   ]
  },
  {
   "cell_type": "code",
   "execution_count": 3,
   "metadata": {},
   "outputs": [
    {
     "name": "stdout",
     "output_type": "stream",
     "text": [
      "25-Nov-17: ENG 48 - 14 SAM\n",
      "25-Nov-17: NAM 34 - 39 URU\n",
      "25-Nov-17: WAL 18 - 33 NZL\n",
      "25-Nov-17: IRE 28 - 19 ARG\n",
      "25-Nov-17: GEO 21 - 20 USA\n",
      "25-Nov-17: FRA 23 - 23 JAP\n",
      "02-Dec-17: WAL 24 - 22 SAF\n",
      "03-Feb-18: WAL 34 - 7 SCO\n",
      "03-Feb-18: FRA 13 - 15 IRE\n"
     ]
    }
   ],
   "source": [
    "# Write to iterate through the list of match objects and print the details of each\n",
    "for m in matches[-10:-1]:\n",
    "    m.show()"
   ]
  },
  {
   "cell_type": "markdown",
   "metadata": {},
   "source": [
    "### Question 4"
   ]
  },
  {
   "cell_type": "markdown",
   "metadata": {},
   "source": [
    "Can you write a **Tournament** class to represent the 6 nations rugby tournament. This class should be able to do three things:\n",
    "\n",
    "* Store the details of all the matchs in the tournament\n",
    "* Add a match to the tournament\n",
    "* Calculate the points achieved by each team in the tournament\n",
    "    * Teams score 2 points for a win, 1 point for a draw and no points for a loss.\n",
    "* Print a table showing the standings for each team after the games in the tournament. To calculate the points each team receives 3 points for a win, 1 point for a draw, and no points for a loss."
   ]
  },
  {
   "cell_type": "code",
   "execution_count": 4,
   "metadata": {},
   "outputs": [],
   "source": [
    "class TeamStanding:\n",
    "    \n",
    "    def __init__(self, team):\n",
    "        self.team = team\n",
    "        self.points = 0\n",
    "        self.won = 0\n",
    "        self.lost = 0\n",
    "        self.drawn = 0\n",
    "        self.points_for = 0\n",
    "        self.points_against = 0\n",
    "        self.points_diff = 0\n",
    "        self.tries_for = 0\n",
    "        self.tries_against = 0\n",
    "        self.tries_diff = 0\n",
    "\n",
    "    def addMatch(self, match, points, result):\n",
    "        \n",
    "        if self.team != match.team_1 and self.team != match.team_2:\n",
    "            return\n",
    "        \n",
    "        self.points += points\n",
    "        \n",
    "        if result == \"win\":\n",
    "            self.won += 1\n",
    "        elif result == \"loss\":\n",
    "            self.lost += 1\n",
    "        elif result == \"draw\":\n",
    "            self.drawn += 1\n",
    "            \n",
    "        if self.team == match.team_1:\n",
    "            \n",
    "            self.points_for += match.team_1_score\n",
    "            self.points_against += match.team_2_score\n",
    "\n",
    "            self.tries_for += match.team_1_tries\n",
    "            self.tries_against += match.team_2_tries\n",
    "            \n",
    "        elif self.team == match.team_2:\n",
    "            \n",
    "            self.points_for += match.team_2_score\n",
    "            self.points_against += match.team_1_score\n",
    "\n",
    "            self.tries_for += match.team_2_tries\n",
    "            self.tries_against += match.team_1_tries\n",
    "        \n",
    "        self.points_diff = self.points_for - self.points_against\n",
    "        self.tries_diff = self.tries_for - self.tries_against\n",
    "\n",
    "\n",
    "    def show(self):\n",
    "        print(self.team  + \"\\t\" + str(self.points)  + \"\\t\" + str(self.won)  + \"\\t\" + str(self.lost)  + \"\\t\" + str(self.drawn)  + \"\\t\" + str(self.points_diff)  + \"\\t\" + str(self.tries_diff))\n"
   ]
  },
  {
   "cell_type": "code",
   "execution_count": 5,
   "metadata": {},
   "outputs": [],
   "source": [
    "class Tournament:\n",
    "    \n",
    "    def __init__(self):\n",
    "        self.matches = list()\n",
    "        self.standings = dict()\n",
    "\n",
    "    def addMatch(self, match):\n",
    "        \n",
    "        self.matches.append(match)\n",
    "        \n",
    "        if match.team_1_score > match.team_2_score:\n",
    "            team_1_result = \"win\"\n",
    "            team_2_result = \"loss\"\n",
    "            team_1_points = 2\n",
    "            team_2_points = 0\n",
    "        elif match.team_2_score > match.team_1_score:\n",
    "            team_1_result = \"loss\"\n",
    "            team_2_result = \"win\"\n",
    "            team_1_points = 0\n",
    "            team_2_points = 2\n",
    "        else:\n",
    "            team_1_result = \"draw\"\n",
    "            team_2_result = \"draw\"\n",
    "            team_1_points = 1\n",
    "            team_2_points = 1\n",
    "        \n",
    "        if match.team_1 not in self.standings:\n",
    "            self.standings[match.team_1] = TeamStanding(match.team_1)\n",
    "        \n",
    "        self.standings[match.team_1].addMatch(match, team_1_points, team_1_result)\n",
    "        \n",
    "        if match.team_2 not in self.standings:\n",
    "            self.standings[match.team_2] = TeamStanding(match.team_2)\n",
    "    \n",
    "        self.standings[match.team_2].addMatch(match, team_2_points, team_2_result)\n",
    "        \n",
    "    def show(self):\n",
    "        print(\"Team\"  + \"\\t\" + \"PTS\"  + \"\\t\" + \"W\"  + \"\\t\" + \"L\"  + \"\\t\" + \"D\"  + \"\\t\" + \"DIFF\"  + \"\\t\" + \"TDIFF\")\n",
    "        for s in self.standings:\n",
    "            self.standings[s].show()\n",
    "        "
   ]
  },
  {
   "cell_type": "markdown",
   "metadata": {},
   "source": [
    "### Question 5"
   ]
  },
  {
   "cell_type": "markdown",
   "metadata": {},
   "source": [
    "The file *2016_6Nations_Results.csv* contains the results of each match from the 2016 Rugby 6 Nations tournament. Load the data from this file, create a **Tournament** object that stores all of the matches. "
   ]
  },
  {
   "cell_type": "code",
   "execution_count": 6,
   "metadata": {},
   "outputs": [
    {
     "name": "stdout",
     "output_type": "stream",
     "text": [
      "15 matches loaded\n"
     ]
    }
   ],
   "source": [
    "\n",
    "six_nations = Tournament()\n",
    "\n",
    "count = 0\n",
    "with open('2016_6Nations_Results.csv') as f:\n",
    "    for line in f:        \n",
    "        words = line.split(',')\n",
    "        \n",
    "        match = Match(words[0],words[1],words[2],words[3],words[4],int(words[5]),int(words[6]),int(words[7]),int(words[8]),words[9][0])\n",
    "        \n",
    "        six_nations.addMatch(match)\n",
    "        \n",
    "        count = count + 1\n",
    "    \n",
    "print(str(count) + \" matches loaded\")"
   ]
  },
  {
   "cell_type": "markdown",
   "metadata": {},
   "source": [
    "### Question 6"
   ]
  },
  {
   "cell_type": "markdown",
   "metadata": {},
   "source": [
    "Print the final standings table for the tournament."
   ]
  },
  {
   "cell_type": "code",
   "execution_count": 7,
   "metadata": {},
   "outputs": [
    {
     "name": "stdout",
     "output_type": "stream",
     "text": [
      "Team\tPTS\tW\tL\tD\tDIFF\tTDIFF\n",
      "FRA\t4\t2\t3\t0\t-27\t-2\n",
      "ITA\t0\t0\t5\t0\t-145\t-21\n",
      "SCO\t4\t2\t3\t0\t7\t-2\n",
      "ENG\t10\t5\t0\t0\t62\t9\n",
      "IRE\t5\t2\t2\t1\t41\t6\n",
      "WAL\t7\t3\t1\t1\t62\t10\n"
     ]
    }
   ],
   "source": [
    "# Write code here\n",
    "six_nations.show()"
   ]
  },
  {
   "cell_type": "code",
   "execution_count": null,
   "metadata": {
    "collapsed": true
   },
   "outputs": [],
   "source": []
  }
 ],
 "metadata": {
  "anaconda-cloud": {},
  "kernelspec": {
   "display_name": "Python 3",
   "language": "python",
   "name": "python3"
  },
  "language_info": {
   "codemirror_mode": {
    "name": "ipython",
    "version": 3
   },
   "file_extension": ".py",
   "mimetype": "text/x-python",
   "name": "python",
   "nbconvert_exporter": "python",
   "pygments_lexer": "ipython3",
   "version": "3.6.7"
  }
 },
 "nbformat": 4,
 "nbformat_minor": 1
}
