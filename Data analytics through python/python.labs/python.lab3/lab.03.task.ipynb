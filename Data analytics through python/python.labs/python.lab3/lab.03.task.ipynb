{
 "cells": [
  {
   "cell_type": "markdown",
   "metadata": {},
   "source": [
    "## Lab 3 Tasks"
   ]
  },
  {
   "cell_type": "markdown",
   "metadata": {},
   "source": [
    "Task 1. \n",
    "\n",
    "Download the comma-separated file *scores.csv* from the module Moodle page and save it to the same directory as your notebooks. \n",
    "\n",
    "Write a function *display_numbers()* which takes one parameter - a file path. The function should read floating point numbers from each line in the specified file, and compute the total for the values on each line. Print each total to 2 decimal places. Use exception handling to deal with the potential case where the input file does not exist.\n",
    "\n",
    "Apply the function *display_numbers()* to *scores.csv*."
   ]
  },
  {
   "cell_type": "code",
   "execution_count": 45,
   "metadata": {},
   "outputs": [
    {
     "name": "stdout",
     "output_type": "stream",
     "text": [
      "        This is a 1\n",
      "        Here is a 2.84\n",
      "        \n",
      "        This is a 2\n",
      "        Here is a 3.57\n",
      "        \n",
      "        This is a 3\n",
      "        Here is a 1.57\n",
      "        \n",
      "        This is a 4\n",
      "        Here is a 2.41\n",
      "        \n",
      "        This is a 5\n",
      "        Here is a 2.47\n",
      "        \n",
      "        This is a 6\n",
      "        Here is a 3.02\n",
      "        \n",
      "0\n"
     ]
    }
   ],
   "source": [
    "#Setting global variable for practice\n",
    "#How to get 2 decimal places: \"{:1.2f}\".format(x)\n",
    "total = 0;\n",
    "\n",
    "#Function which takes in csv file path and sums up each row\n",
    "def getTotal(file_path):   \n",
    "    \n",
    "    try:\n",
    "        f = open(file_path, \"r\")\n",
    "        lines = f.readlines();\n",
    "        f.close();\n",
    "    except IOError:\n",
    "         print(\"Unable to read from file\", file_path);\n",
    "    #file path is correct\n",
    "    lineCounter = 1;\n",
    "    for line in lines:\n",
    "        #Using global variable in this scope\n",
    "        global total;\n",
    "        line = line.strip();\n",
    "        #line is the whole line \n",
    "        #parts is a list of strings, need to convert each\n",
    "        parts = line.split(\",\");\n",
    "        parts = (list(map(float, parts)));\n",
    "        \n",
    "        total += sum(parts);\n",
    "        response = '''\\\n",
    "        This is a {lineCounter}\n",
    "        Here is a {total}\n",
    "        '''.format(lineCounter=lineCounter, total=\"{:1.2f}\".format(total));\n",
    "        print(response)\n",
    "        lineCounter += 1;\n",
    "        total = 0;\n",
    "        #end of for loop\n",
    "    return total;\n",
    "\n",
    "\n",
    "print(getTotal(\"scores.csv\"));\n",
    "    "
   ]
  },
  {
   "cell_type": "markdown",
   "metadata": {},
   "source": [
    "### Code for multi-line String with interpolated variables"
   ]
  },
  {
   "cell_type": "code",
   "execution_count": 22,
   "metadata": {},
   "outputs": [
    {
     "name": "stdout",
     "output_type": "stream",
     "text": [
      "This is a multi-line example.\n",
      "Here is a second line.\n"
     ]
    }
   ],
   "source": [
    "s = '''\\\n",
    "... This is a {length} example.\n",
    "... Here is a {ordinal} line.\\\n",
    "... '''.format(length='multi-line', ordinal='second')\n",
    ">>> print(s)"
   ]
  },
  {
   "cell_type": "markdown",
   "metadata": {
    "collapsed": true
   },
   "source": [
    "Task 2.\n",
    "\n",
    "Write a function *reverse_numbers()* which takes two parameters - an input file path and an output file path. The function should read floating point numbers from each line in the specified input file. The order of the values from in line should then be reversed, and these lines should be written to the specifed output file. Include exception handling code.\n",
    "\n",
    "Apply the function *reverse_numbers()* to *scores.csv* to create a new file *reversed.csv*."
   ]
  },
  {
   "cell_type": "code",
   "execution_count": 84,
   "metadata": {},
   "outputs": [],
   "source": [
    "def reverse_numbers(input_file_path, output_file_path):\n",
    "    try:\n",
    "        fin = open(input_file_path,\"r\")\n",
    "        fout = open(output_file_path,\"w\")\n",
    "        lineCounter = 1\n",
    "        for line in fin.readlines():\n",
    "            fout.write(\"Line Number \")\n",
    "            fout.write(str(lineCounter))\n",
    "            fout.write(\"\\n\")\n",
    "            parts = line.split(\",\")\n",
    "            parts = (list(map(float, parts)))\n",
    "            #Returns None, but acts on the original list parts\n",
    "            parts.reverse()\n",
    "            #parts is now in reverse order\n",
    "            fout.write(str(parts))\n",
    "            fout.write(\"\\n\")\n",
    "            lineCounter += 1\n",
    "        #Close connections\n",
    "        fin.close()\n",
    "        fout.close()\n",
    "    except IOError:\n",
    "         print(\"Unable to read from files given\", input_file_path, \" \", output_file_path)\n",
    "#end of function\n",
    "reverse_numbers(\"scores.csv\", \"reverse_numbers.csv\");"
   ]
  },
  {
   "cell_type": "raw",
   "metadata": {},
   "source": []
  }
 ],
 "metadata": {
  "kernelspec": {
   "display_name": "Python 3",
   "language": "python",
   "name": "python3"
  },
  "language_info": {
   "codemirror_mode": {
    "name": "ipython",
    "version": 3
   },
   "file_extension": ".py",
   "mimetype": "text/x-python",
   "name": "python",
   "nbconvert_exporter": "python",
   "pygments_lexer": "ipython3",
   "version": "3.7.1"
  }
 },
 "nbformat": 4,
 "nbformat_minor": 1
}
