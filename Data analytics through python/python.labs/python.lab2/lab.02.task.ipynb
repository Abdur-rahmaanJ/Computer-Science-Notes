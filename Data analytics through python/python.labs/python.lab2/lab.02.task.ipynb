{
 "cells": [
  {
   "cell_type": "markdown",
   "metadata": {},
   "source": [
    "### Lab 2 Tasks"
   ]
  },
  {
   "cell_type": "markdown",
   "metadata": {
    "collapsed": true
   },
   "source": [
    "The code below creates two lists, one list with English words, and a corresponding list with French words."
   ]
  },
  {
   "cell_type": "code",
   "execution_count": null,
   "metadata": {},
   "outputs": [],
   "source": [
    "english = [\"hello\", \"cat\", \"dog\", \"yes\", \"tomorrow\", \"yesterday\", \n",
    "          \"difficult\", \"easy\", \"bad\", \"no\", \"tuesday\", \"january\"]"
   ]
  },
  {
   "cell_type": "code",
   "execution_count": null,
   "metadata": {},
   "outputs": [],
   "source": [
    "french = [\"bonjour\", \"chat\", \"chien\", \"oui\", \"demain\", \"hier\", \n",
    "          \"difficile\", \"facile\", \"mauvais\", \"non\", \"mardi\", \"janvier\"]"
   ]
  },
  {
   "cell_type": "markdown",
   "metadata": {},
   "source": [
    "Step 1: Confirm that both lists contain an equal number of values."
   ]
  },
  {
   "cell_type": "markdown",
   "metadata": {},
   "source": [
    "### Using 'and' operator to check of both lists are true\n",
    "1. Set up both lists\n",
    "2. Check if both are even using modulo\n",
    "3. Print result"
   ]
  },
  {
   "cell_type": "code",
   "execution_count": 16,
   "metadata": {},
   "outputs": [
    {
     "name": "stdout",
     "output_type": "stream",
     "text": [
      "They are both even\n"
     ]
    }
   ],
   "source": [
    "english = [\"hello\", \"cat\", \"dog\", \"yes\", \"tomorrow\", \"yesterday\", \n",
    "          \"difficult\", \"easy\", \"bad\", \"no\", \"tuesday\", \"january\"]\n",
    "\n",
    "french = [\"bonjour\", \"chat\", \"chien\", \"oui\", \"demain\", \"hier\", \n",
    "          \"difficile\", \"facile\", \"mauvais\", \"non\", \"mardi\", \"janvier\"]\n",
    "\n",
    "if(len(english) % 2 == 0 and len(french) % 2 == 0):\n",
    "    print(\"They are both even\");\n",
    "else:\n",
    "    print(\"Lists are not both even\");\n"
   ]
  },
  {
   "cell_type": "markdown",
   "metadata": {},
   "source": [
    "Step 2: Create a Python dictionary, which maps English words to French words, using the lists above. "
   ]
  },
  {
   "cell_type": "code",
   "execution_count": 35,
   "metadata": {},
   "outputs": [
    {
     "name": "stdout",
     "output_type": "stream",
     "text": [
      "{'hello': 'bonjour', 'cat': 'chat', 'dog': 'chien', 'yes': 'oui', 'tomorrow': 'demain', 'yesterday': 'hier', 'difficult': 'difficile', 'easy': 'facile', 'bad': 'mauvais', 'no': 'non', 'tuesday': 'mardi', 'january': 'janvier'}\n"
     ]
    }
   ],
   "source": [
    "english = [\"hello\", \"cat\", \"dog\", \"yes\", \"tomorrow\", \"yesterday\", \n",
    "          \"difficult\", \"easy\", \"bad\", \"no\", \"tuesday\", \"january\"]\n",
    "\n",
    "french = [\"bonjour\", \"chat\", \"chien\", \"oui\", \"demain\", \"hier\", \n",
    "          \"difficile\", \"facile\", \"mauvais\", \"non\", \"mardi\", \"janvier\"]\n",
    "\n",
    "\n",
    "#Creating the Dictionary\n",
    "english_and_french = {};\n",
    "#They are both same length so can run loop for length of either one\n",
    "for counter in range(len(english)):\n",
    "    english_and_french[english[counter]] = french[counter];\n",
    "print(english_and_french)"
   ]
  },
  {
   "cell_type": "markdown",
   "metadata": {},
   "source": [
    "Step 3: Remove all key-value pairs from the dictionary above, where the keys (i.e. the English words) contain less than 4 characters."
   ]
  },
  {
   "cell_type": "markdown",
   "metadata": {},
   "source": [
    "### Filter items accessing key and then using that key to get the value in the Dictionary\n",
    "<u>Setting dictionary to hold new value of itself so two dictionaries to not exist</u>\n"
   ]
  },
  {
   "cell_type": "code",
   "execution_count": 43,
   "metadata": {},
   "outputs": [
    {
     "name": "stdout",
     "output_type": "stream",
     "text": [
      "{'hello': 'bonjour', 'dog': 'chien', 'tomorrow': 'demain', 'difficult': 'difficile', 'easy': 'facile', 'bad': 'mauvais', 'tuesday': 'mardi', 'january': 'janvier'}\n"
     ]
    }
   ],
   "source": [
    "english_french = {k: v for k, v in english_and_french.items() if(len(v) > 4)}\n",
    "print(english_french);\n"
   ]
  },
  {
   "cell_type": "markdown",
   "metadata": {},
   "source": [
    "Step 4: Write a function *translate()* which accepts 3 parameters: a translation dictionary, a word to translate, and a default word. If the word is in the dictionary, the function should return the translated word. Otherwise, it should return the default word."
   ]
  },
  {
   "cell_type": "code",
   "execution_count": 44,
   "metadata": {},
   "outputs": [
    {
     "name": "stdout",
     "output_type": "stream",
     "text": [
      "{'hello': 'bonjour', 'dog': 'chien', 'tomorrow': 'demain', 'difficult': 'difficile', 'easy': 'facile', 'bad': 'mauvais', 'tuesday': 'mardi', 'january': 'janvier'}\n"
     ]
    }
   ],
   "source": [
    "print(english_french);"
   ]
  },
  {
   "cell_type": "markdown",
   "metadata": {},
   "source": [
    "# Using english_french Dictionary from last question"
   ]
  },
  {
   "cell_type": "code",
   "execution_count": 59,
   "metadata": {},
   "outputs": [
    {
     "name": "stdout",
     "output_type": "stream",
     "text": [
      "Word found, translating...\n",
      "chien\n",
      "Completed\n",
      "Response is:  chien\n"
     ]
    }
   ],
   "source": [
    "def translate(dictionary, word_to_translate, default_word):\n",
    "    if(word_to_translate in dictionary.keys()):\n",
    "        print(\"Word found, translating...\")\n",
    "        print(dictionary[word_to_translate]);\n",
    "        print(\"Completed\");\n",
    "        return dictionary[word_to_translate];\n",
    "    else:\n",
    "        print(\"Not found\");\n",
    "        return default_word;\n",
    "#End of the function\n",
    "\n",
    "response = translate(english_french, \"dog\", \"Not in the dictionary\");\n",
    "print(\"Response is: \", response);"
   ]
  }
 ],
 "metadata": {
  "kernelspec": {
   "display_name": "Python 3",
   "language": "python",
   "name": "python3"
  },
  "language_info": {
   "codemirror_mode": {
    "name": "ipython",
    "version": 3
   },
   "file_extension": ".py",
   "mimetype": "text/x-python",
   "name": "python",
   "nbconvert_exporter": "python",
   "pygments_lexer": "ipython3",
   "version": "3.7.1"
  }
 },
 "nbformat": 4,
 "nbformat_minor": 1
}
