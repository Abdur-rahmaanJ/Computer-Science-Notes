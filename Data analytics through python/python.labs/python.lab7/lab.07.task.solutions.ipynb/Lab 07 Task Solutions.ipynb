{
 "cells": [
  {
   "cell_type": "markdown",
   "metadata": {},
   "source": [
    "## Lab 7 Tasks - Solutions"
   ]
  },
  {
   "cell_type": "code",
   "execution_count": 1,
   "metadata": {},
   "outputs": [],
   "source": [
    "import pandas as pd\n",
    "%matplotlib inline"
   ]
  },
  {
   "cell_type": "markdown",
   "metadata": {},
   "source": [
    "Step 1. \n",
    "Load the book catalogue dataset *book-catalogue.csv* into a Pandas DataFrame, and set the row index of the DataFrame to be the title of the books."
   ]
  },
  {
   "cell_type": "code",
   "execution_count": 2,
   "metadata": {},
   "outputs": [
    {
     "data": {
      "text/html": [
       "<div>\n",
       "<style scoped>\n",
       "    .dataframe tbody tr th:only-of-type {\n",
       "        vertical-align: middle;\n",
       "    }\n",
       "\n",
       "    .dataframe tbody tr th {\n",
       "        vertical-align: top;\n",
       "    }\n",
       "\n",
       "    .dataframe thead th {\n",
       "        text-align: right;\n",
       "    }\n",
       "</style>\n",
       "<table border=\"1\" class=\"dataframe\">\n",
       "  <thead>\n",
       "    <tr style=\"text-align: right;\">\n",
       "      <th></th>\n",
       "      <th>author</th>\n",
       "      <th>author_gender</th>\n",
       "      <th>author_nationality</th>\n",
       "      <th>year</th>\n",
       "      <th>num_chapters</th>\n",
       "      <th>num_characters</th>\n",
       "      <th>num_words</th>\n",
       "    </tr>\n",
       "    <tr>\n",
       "      <th>title</th>\n",
       "      <th></th>\n",
       "      <th></th>\n",
       "      <th></th>\n",
       "      <th></th>\n",
       "      <th></th>\n",
       "      <th></th>\n",
       "      <th></th>\n",
       "    </tr>\n",
       "  </thead>\n",
       "  <tbody>\n",
       "    <tr>\n",
       "      <th>Belinda</th>\n",
       "      <td>Maria Edgeworth</td>\n",
       "      <td>Female</td>\n",
       "      <td>Irish</td>\n",
       "      <td>1800</td>\n",
       "      <td>31</td>\n",
       "      <td>182</td>\n",
       "      <td>173195</td>\n",
       "    </tr>\n",
       "    <tr>\n",
       "      <th>Castle Rackrent</th>\n",
       "      <td>Maria Edgeworth</td>\n",
       "      <td>Female</td>\n",
       "      <td>Irish</td>\n",
       "      <td>1800</td>\n",
       "      <td>9</td>\n",
       "      <td>78</td>\n",
       "      <td>27678</td>\n",
       "    </tr>\n",
       "    <tr>\n",
       "      <th>Ennui</th>\n",
       "      <td>Maria Edgeworth</td>\n",
       "      <td>Female</td>\n",
       "      <td>Irish</td>\n",
       "      <td>1809</td>\n",
       "      <td>22</td>\n",
       "      <td>289</td>\n",
       "      <td>74454</td>\n",
       "    </tr>\n",
       "    <tr>\n",
       "      <th>Sense and Sensibility</th>\n",
       "      <td>Jane Austen</td>\n",
       "      <td>Female</td>\n",
       "      <td>British</td>\n",
       "      <td>1811</td>\n",
       "      <td>50</td>\n",
       "      <td>158</td>\n",
       "      <td>123774</td>\n",
       "    </tr>\n",
       "    <tr>\n",
       "      <th>The Absentee</th>\n",
       "      <td>Maria Edgeworth</td>\n",
       "      <td>Female</td>\n",
       "      <td>Irish</td>\n",
       "      <td>1812</td>\n",
       "      <td>17</td>\n",
       "      <td>275</td>\n",
       "      <td>99608</td>\n",
       "    </tr>\n",
       "  </tbody>\n",
       "</table>\n",
       "</div>"
      ],
      "text/plain": [
       "                                author author_gender author_nationality  year  \\\n",
       "title                                                                           \n",
       "Belinda                Maria Edgeworth        Female              Irish  1800   \n",
       "Castle Rackrent        Maria Edgeworth        Female              Irish  1800   \n",
       "Ennui                  Maria Edgeworth        Female              Irish  1809   \n",
       "Sense and Sensibility      Jane Austen        Female            British  1811   \n",
       "The Absentee           Maria Edgeworth        Female              Irish  1812   \n",
       "\n",
       "                       num_chapters  num_characters  num_words  \n",
       "title                                                           \n",
       "Belinda                          31             182     173195  \n",
       "Castle Rackrent                   9              78      27678  \n",
       "Ennui                            22             289      74454  \n",
       "Sense and Sensibility            50             158     123774  \n",
       "The Absentee                     17             275      99608  "
      ]
     },
     "execution_count": 2,
     "metadata": {},
     "output_type": "execute_result"
    }
   ],
   "source": [
    "df = pd.read_csv(\"book-catalogue.csv\")\n",
    "df = df.set_index(\"title\")\n",
    "df.head()"
   ]
  },
  {
   "cell_type": "markdown",
   "metadata": {},
   "source": [
    "Step 2. Plot (i) the number of chapters against the number of characters; (ii) the number of chapters against the number of words. \n",
    "\n",
    "Do the plots suggest a correlation in either case?"
   ]
  },
  {
   "cell_type": "code",
   "execution_count": 3,
   "metadata": {},
   "outputs": [
    {
     "data": {
      "text/plain": [
       "Text(0,0.5,'Number of Characters')"
      ]
     },
     "execution_count": 3,
     "metadata": {},
     "output_type": "execute_result"
    },
    {
     "data": {
      "image/png": "[encoded data removed]",
      "text/plain": [
       "<Figure size 576x432 with 1 Axes>"
      ]
     },
     "metadata": {},
     "output_type": "display_data"
    }
   ],
   "source": [
    "p1 = df.plot(kind=\"scatter\",x=\"num_chapters\", y=\"num_characters\",figsize=(8,6))\n",
    "p1.set_xlabel(\"Number of Chapters\")\n",
    "p1.set_ylabel(\"Number of Characters\")"
   ]
  },
  {
   "cell_type": "code",
   "execution_count": 4,
   "metadata": {},
   "outputs": [
    {
     "data": {
      "text/plain": [
       "Text(0,0.5,'Number of Words')"
      ]
     },
     "execution_count": 4,
     "metadata": {},
     "output_type": "execute_result"
    },
    {
     "data": {
      "image/png": "[encoded data removed]",
      "text/plain": [
       "<Figure size 576x432 with 1 Axes>"
      ]
     },
     "metadata": {},
     "output_type": "display_data"
    }
   ],
   "source": [
    "p2 = df.plot(kind=\"scatter\",x=\"num_chapters\", y=\"num_words\",figsize=(8,6))\n",
    "p2.set_xlabel(\"Number of Chapters\")\n",
    "p2.set_ylabel(\"Number of Words\")"
   ]
  },
  {
   "cell_type": "markdown",
   "metadata": {},
   "source": [
    "Step 3. Plot (i) the proportion of male and female authors; (ii) the proportion of Irish and British authors."
   ]
  },
  {
   "cell_type": "code",
   "execution_count": 5,
   "metadata": {},
   "outputs": [
    {
     "data": {
      "text/plain": [
       "Text(0,0.5,'')"
      ]
     },
     "execution_count": 5,
     "metadata": {},
     "output_type": "execute_result"
    },
    {
     "data": {
      "image/png": "[encoded data removed]",
      "text/plain": [
       "<Figure size 432x432 with 1 Axes>"
      ]
     },
     "metadata": {},
     "output_type": "display_data"
    }
   ],
   "source": [
    "# get the counts for the gender values\n",
    "gender_counts = df[\"author_gender\"].value_counts()\n",
    "# create pie chart of the counts\n",
    "p3 = gender_counts.plot(kind=\"pie\", autopct=\"%.1f%%\", fontsize=14, figsize=(6,6))\n",
    "p3.set_title(\"Gender Balance\")\n",
    "p3.set_ylabel(\"\")"
   ]
  },
  {
   "cell_type": "code",
   "execution_count": 6,
   "metadata": {},
   "outputs": [
    {
     "data": {
      "text/plain": [
       "Text(0,0.5,'')"
      ]
     },
     "execution_count": 6,
     "metadata": {},
     "output_type": "execute_result"
    },
    {
     "data": {
      "image/png": "[encoded data removed]",
      "text/plain": [
       "<Figure size 432x432 with 1 Axes>"
      ]
     },
     "metadata": {},
     "output_type": "display_data"
    }
   ],
   "source": [
    "# get the counts of the nationality values\n",
    "nation_counts = df[\"author_nationality\"].value_counts()\n",
    "# display as a pie chart\n",
    "p3 = nation_counts.plot(kind=\"pie\", autopct=\"%.1f%%\", fontsize=14, figsize=(6,6))\n",
    "p3.set_title(\"Nationality Balance\")\n",
    "p3.set_ylabel(\"\")"
   ]
  },
  {
   "cell_type": "markdown",
   "metadata": {},
   "source": [
    "Step 4. Plot the number of books per decade in the catalogue. Save this plot to a PNG file."
   ]
  },
  {
   "cell_type": "code",
   "execution_count": 7,
   "metadata": {},
   "outputs": [],
   "source": [
    "# Work out the decade for each book\n",
    "decades = []\n",
    "for i, row in df.iterrows():\n",
    "    syear = str(row[\"year\"])\n",
    "    decades.append( syear[0:3] +\"0s\" )"
   ]
  },
  {
   "cell_type": "code",
   "execution_count": 8,
   "metadata": {},
   "outputs": [
    {
     "data": {
      "text/html": [
       "<div>\n",
       "<style scoped>\n",
       "    .dataframe tbody tr th:only-of-type {\n",
       "        vertical-align: middle;\n",
       "    }\n",
       "\n",
       "    .dataframe tbody tr th {\n",
       "        vertical-align: top;\n",
       "    }\n",
       "\n",
       "    .dataframe thead th {\n",
       "        text-align: right;\n",
       "    }\n",
       "</style>\n",
       "<table border=\"1\" class=\"dataframe\">\n",
       "  <thead>\n",
       "    <tr style=\"text-align: right;\">\n",
       "      <th></th>\n",
       "      <th>author</th>\n",
       "      <th>author_gender</th>\n",
       "      <th>author_nationality</th>\n",
       "      <th>year</th>\n",
       "      <th>num_chapters</th>\n",
       "      <th>num_characters</th>\n",
       "      <th>num_words</th>\n",
       "      <th>decade</th>\n",
       "    </tr>\n",
       "    <tr>\n",
       "      <th>title</th>\n",
       "      <th></th>\n",
       "      <th></th>\n",
       "      <th></th>\n",
       "      <th></th>\n",
       "      <th></th>\n",
       "      <th></th>\n",
       "      <th></th>\n",
       "      <th></th>\n",
       "    </tr>\n",
       "  </thead>\n",
       "  <tbody>\n",
       "    <tr>\n",
       "      <th>Belinda</th>\n",
       "      <td>Maria Edgeworth</td>\n",
       "      <td>Female</td>\n",
       "      <td>Irish</td>\n",
       "      <td>1800</td>\n",
       "      <td>31</td>\n",
       "      <td>182</td>\n",
       "      <td>173195</td>\n",
       "      <td>1800s</td>\n",
       "    </tr>\n",
       "    <tr>\n",
       "      <th>Castle Rackrent</th>\n",
       "      <td>Maria Edgeworth</td>\n",
       "      <td>Female</td>\n",
       "      <td>Irish</td>\n",
       "      <td>1800</td>\n",
       "      <td>9</td>\n",
       "      <td>78</td>\n",
       "      <td>27678</td>\n",
       "      <td>1800s</td>\n",
       "    </tr>\n",
       "    <tr>\n",
       "      <th>Ennui</th>\n",
       "      <td>Maria Edgeworth</td>\n",
       "      <td>Female</td>\n",
       "      <td>Irish</td>\n",
       "      <td>1809</td>\n",
       "      <td>22</td>\n",
       "      <td>289</td>\n",
       "      <td>74454</td>\n",
       "      <td>1800s</td>\n",
       "    </tr>\n",
       "    <tr>\n",
       "      <th>Sense and Sensibility</th>\n",
       "      <td>Jane Austen</td>\n",
       "      <td>Female</td>\n",
       "      <td>British</td>\n",
       "      <td>1811</td>\n",
       "      <td>50</td>\n",
       "      <td>158</td>\n",
       "      <td>123774</td>\n",
       "      <td>1810s</td>\n",
       "    </tr>\n",
       "    <tr>\n",
       "      <th>The Absentee</th>\n",
       "      <td>Maria Edgeworth</td>\n",
       "      <td>Female</td>\n",
       "      <td>Irish</td>\n",
       "      <td>1812</td>\n",
       "      <td>17</td>\n",
       "      <td>275</td>\n",
       "      <td>99608</td>\n",
       "      <td>1810s</td>\n",
       "    </tr>\n",
       "  </tbody>\n",
       "</table>\n",
       "</div>"
      ],
      "text/plain": [
       "                                author author_gender author_nationality  year  \\\n",
       "title                                                                           \n",
       "Belinda                Maria Edgeworth        Female              Irish  1800   \n",
       "Castle Rackrent        Maria Edgeworth        Female              Irish  1800   \n",
       "Ennui                  Maria Edgeworth        Female              Irish  1809   \n",
       "Sense and Sensibility      Jane Austen        Female            British  1811   \n",
       "The Absentee           Maria Edgeworth        Female              Irish  1812   \n",
       "\n",
       "                       num_chapters  num_characters  num_words decade  \n",
       "title                                                                  \n",
       "Belinda                          31             182     173195  1800s  \n",
       "Castle Rackrent                   9              78      27678  1800s  \n",
       "Ennui                            22             289      74454  1800s  \n",
       "Sense and Sensibility            50             158     123774  1810s  \n",
       "The Absentee                     17             275      99608  1810s  "
      ]
     },
     "execution_count": 8,
     "metadata": {},
     "output_type": "execute_result"
    }
   ],
   "source": [
    "# Add it as a new column\n",
    "df[\"decade\"] = decades\n",
    "df.head()"
   ]
  },
  {
   "cell_type": "code",
   "execution_count": 9,
   "metadata": {},
   "outputs": [],
   "source": [
    "# Calculate the counts for each decade\n",
    "decade_counts = df[\"decade\"].value_counts()\n",
    "# Sort them by decade\n",
    "sorted_decade_counts = decade_counts.sort_index()"
   ]
  },
  {
   "cell_type": "code",
   "execution_count": 10,
   "metadata": {},
   "outputs": [
    {
     "data": {
      "text/plain": [
       "Text(0,0.5,'Number of Books')"
      ]
     },
     "execution_count": 10,
     "metadata": {},
     "output_type": "execute_result"
    },
    {
     "data": {
      "image/png": "[encoded data removed]",
      "text/plain": [
       "<Figure size 792x360 with 1 Axes>"
      ]
     },
     "metadata": {},
     "output_type": "display_data"
    }
   ],
   "source": [
    "# Produce the bar chart\n",
    "p4 = sorted_decade_counts.plot(kind=\"bar\", fontsize=14, figsize=(11,5))\n",
    "p4.set_xlabel(\"Decade\")\n",
    "p4.set_ylabel(\"Number of Books\")"
   ]
  },
  {
   "cell_type": "code",
   "execution_count": 11,
   "metadata": {},
   "outputs": [],
   "source": [
    "fig = p4.get_figure()\n",
    "# A fix to make sure the figure does not get cropped\n",
    "fig.tight_layout()\n",
    "# Save the figure\n",
    "fig.savefig(\"decades.png\")"
   ]
  }
 ],
 "metadata": {
  "kernelspec": {
   "display_name": "Python 3",
   "language": "python",
   "name": "python3"
  },
  "language_info": {
   "codemirror_mode": {
    "name": "ipython",
    "version": 3
   },
   "file_extension": ".py",
   "mimetype": "text/x-python",
   "name": "python",
   "nbconvert_exporter": "python",
   "pygments_lexer": "ipython3",
   "version": "3.6.6"
  }
 },
 "nbformat": 4,
 "nbformat_minor": 1
}
