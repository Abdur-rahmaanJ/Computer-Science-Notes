{
 "cells": [
  {
   "cell_type": "markdown",
   "metadata": {},
   "source": [
    "## Exception Handling"
   ]
  },
  {
   "cell_type": "markdown",
   "metadata": {},
   "source": [
    "If Python finds an error in your code, it raises an exception. By default, an exception will terminate a script or notebook. \n",
    "We can handle errors in a structured way by \"catching\" exceptions. In other words, we can plan in advance for errors that might occur in our code."
   ]
  },
  {
   "cell_type": "markdown",
   "metadata": {},
   "source": [
    "Here is an example where we try to open a file that may not exist, without dealing with that case. If the file does not exist, we will get an exception of type *FileNotFoundError* when we call the function *open()*. As a result, the subsequent lines of code will never get executed."
   ]
  },
  {
   "cell_type": "code",
   "execution_count": null,
   "metadata": {
    "collapsed": false
   },
   "outputs": [],
   "source": [
    "f = open(\"missing.txt\",\"r\")\n",
    "content = f.read()\n",
    "f.close()\n",
    "print(\"Finished\")"
   ]
  },
  {
   "cell_type": "markdown",
   "metadata": {},
   "source": [
    "To deal with this case, we wrap the same code in a block surrounded by *try...except** statements. In this case, if an error occurs, we print a warning message and continue on with the rest of the program."
   ]
  },
  {
   "cell_type": "code",
   "execution_count": null,
   "metadata": {
    "collapsed": false
   },
   "outputs": [],
   "source": [
    "try:\n",
    "    f = open(\"missing.txt\",\"r\")\n",
    "    content = f.read()\n",
    "    f.close()\n",
    "except FileNotFoundError:\n",
    "    print(\"Warning: File not found\")\n",
    "print(\"Finished\")"
   ]
  },
  {
   "cell_type": "markdown",
   "metadata": {},
   "source": [
    "Python contains many different types of built-in exception types. For instance, if we try to divide a number by zero, we get a *ZeroDivisionError*."
   ]
  },
  {
   "cell_type": "code",
   "execution_count": null,
   "metadata": {
    "collapsed": false
   },
   "outputs": [],
   "source": [
    "x = 3\n",
    "x / 0"
   ]
  },
  {
   "cell_type": "markdown",
   "metadata": {},
   "source": [
    "In the code below, we write a function that calculations the value of an equation, which handles the case of zero division."
   ]
  },
  {
   "cell_type": "code",
   "execution_count": null,
   "metadata": {
    "collapsed": true
   },
   "outputs": [],
   "source": [
    "def calc_score( x, y ):\n",
    "    try:\n",
    "        return (x*x)/(y*y)\n",
    "    except ZeroDivisionError:\n",
    "        print(\"You must have specified 0 for the value of y\")\n",
    "        return 0"
   ]
  },
  {
   "cell_type": "code",
   "execution_count": null,
   "metadata": {
    "collapsed": false
   },
   "outputs": [],
   "source": [
    "# Here is a case which does not raise an exception\n",
    "calc_score( 3, 2 )"
   ]
  },
  {
   "cell_type": "code",
   "execution_count": null,
   "metadata": {
    "collapsed": false
   },
   "outputs": [],
   "source": [
    "# Here is a case which does raise an exception\n",
    "calc_score( 3, 0 )"
   ]
  },
  {
   "cell_type": "markdown",
   "metadata": {},
   "source": [
    "Python can provide us with details about the specific cause of the exception - i.e. the error message. So we can rewrite the function above."
   ]
  },
  {
   "cell_type": "code",
   "execution_count": null,
   "metadata": {
    "collapsed": false
   },
   "outputs": [],
   "source": [
    "def calc_score( x, y ):\n",
    "    try:\n",
    "        return (x*x)/(y*y)\n",
    "    except ZeroDivisionError as e:\n",
    "        print(\"Error message is: \", e)\n",
    "        return 0"
   ]
  },
  {
   "cell_type": "code",
   "execution_count": null,
   "metadata": {
    "collapsed": false
   },
   "outputs": [],
   "source": [
    "calc_score( 3, 0 )"
   ]
  },
  {
   "cell_type": "markdown",
   "metadata": {},
   "source": [
    "Exception handling can involve multiple *except* clauses, so A *try* statement can check for several different exception types in sequence. In the example below, we check for two exception types: a *ZeroDivisionError* and a *ValueError*."
   ]
  },
  {
   "cell_type": "code",
   "execution_count": null,
   "metadata": {
    "collapsed": false
   },
   "outputs": [],
   "source": [
    "def calc_score( x, y ):\n",
    "    try:\n",
    "        return (x*x)/(y*y)\n",
    "    except ZeroDivisionError as e:\n",
    "        print(\"You must have specified 0 for the value of y:\", e)\n",
    "        return 0\n",
    "    except TypeError as e:\n",
    "        print(\"Bad parameter value:\", e)\n",
    "        return 0        "
   ]
  },
  {
   "cell_type": "code",
   "execution_count": null,
   "metadata": {
    "collapsed": false
   },
   "outputs": [],
   "source": [
    "# Here is a case which does not raise an exception\n",
    "calc_score( 5, 2 )"
   ]
  },
  {
   "cell_type": "code",
   "execution_count": null,
   "metadata": {
    "collapsed": false
   },
   "outputs": [],
   "source": [
    "# This should cause a divide by zero to be attempted\n",
    "calc_score( 5, 0 )"
   ]
  },
  {
   "cell_type": "code",
   "execution_count": null,
   "metadata": {
    "collapsed": false
   },
   "outputs": [],
   "source": [
    "# Here we are passing in a value of the wrong type\n",
    "calc_score( \"UCD\", 4 )"
   ]
  },
  {
   "cell_type": "markdown",
   "metadata": {},
   "source": [
    "### Lab Task"
   ]
  },
  {
   "cell_type": "markdown",
   "metadata": {},
   "source": [
    "Download the comma-separated file *scores.csv* from the module Moodle page and save it to the same directory as your notebooks. Write code in the cell below which will read floating point values from each line in the file, and compute the total for the values on each line. Print each total to 2 decimal places. Use exception handling to deal with the potential case where the input file does not exist.\n",
    "<br><br><font color='green'>Sample output:</font>\n",
    "2.84\n",
    "3.57\n",
    "1.57\n",
    "2.41\n",
    "2.47\n",
    "3.02"
   ]
  },
  {
   "cell_type": "code",
   "execution_count": null,
   "metadata": {
    "collapsed": true
   },
   "outputs": [],
   "source": []
  }
 ],
 "metadata": {
  "kernelspec": {
   "display_name": "Python 3",
   "language": "python",
   "name": "python3"
  },
  "language_info": {
   "codemirror_mode": {
    "name": "ipython",
    "version": 3
   },
   "file_extension": ".py",
   "mimetype": "text/x-python",
   "name": "python",
   "nbconvert_exporter": "python",
   "pygments_lexer": "ipython3",
   "version": "3.5.1"
  }
 },
 "nbformat": 4,
 "nbformat_minor": 0
}
