{
 "cells": [
  {
   "cell_type": "markdown",
   "metadata": {},
   "source": [
    "# COMP20230 Tutorial/Lab: Sorting and Selection\n",
    "\n",
    "## Sorting\n",
    "In the lectures we looked as sorting of numbers into ascending order using a variety of algorithms (bubble, insertion, selection, merge, quick). We saw that the data can have a significant impact on the performance of the algorithm and that as a result of the data, the expected and worst-case big-$\\mathcal{O}$ were important.\n",
    "\n",
    "\n",
    "## Selection\n",
    "Aside from sorting there are other times we may want to consider a total order relation for a list such as rank statistics like the minimum and maximum or median elements. More generally this can be viewed as a selection problem, to select any arbitrary $k^{th}$ element. Sorting can help with this: sort the list and then indexing into at $k=0$  for min, $k=n-1$ for max, $k=[n/2]$ for median.\n",
    "\n",
    "\n"
   ]
  },
  {
   "cell_type": "markdown",
   "metadata": {},
   "source": [
    "## Sorting Algorithm Implementations"
   ]
  },
  {
   "cell_type": "code",
   "execution_count": 10,
   "metadata": {},
   "outputs": [],
   "source": [
    "def bubble_sort(arr):\n",
    "    arr_size = len(arr)\n",
    "    for i in range(arr_size):\n",
    "        for j in range(i, arr_size):\n",
    "            if arr[i] > arr[j]:\n",
    "                arr[i], arr[j] = arr[j], arr[i]\n",
    "    return arr\n",
    "\n",
    "\n",
    "def insertion_sort(arr):\n",
    "    arr_size = len(arr)\n",
    "    for i in range(1, arr_size):\n",
    "        key = arr[i]\n",
    "        j = i-1\n",
    "        while j >= 0 and key < arr[j]:\n",
    "            arr[j+1] = arr[j]\n",
    "            j -= 1\n",
    "        arr[j+1] = key\n",
    "    return arr\n",
    "\n",
    "\n",
    "def selection_sort(arr):\n",
    "    arr_size = len(arr)\n",
    "    for i in range(arr_size):\n",
    "        min_index = i\n",
    "        for j in range(i, arr_size):\n",
    "            if arr[j] < arr[min_index]:\n",
    "                min_index = j\n",
    "        arr[i], arr[min_index] = arr[min_index], arr[i]\n",
    "    return arr"
   ]
  },
  {
   "cell_type": "code",
   "execution_count": 11,
   "metadata": {},
   "outputs": [],
   "source": [
    "# Python implementation of Quicksort.\n",
    "\n",
    "def partition(arr, low, high):\n",
    "    \"\"\"Return a pivot element for Quicksort.\"\"\"\n",
    "    key = arr[high]\n",
    "    pivot = low\n",
    "    for i in range(low, high):\n",
    "        if arr[i] <= key:\n",
    "            arr[i], arr[pivot] = arr[pivot], arr[i]\n",
    "            pivot += 1\n",
    "\n",
    "    arr[pivot], arr[high] = arr[high], arr[pivot]\n",
    "    return pivot\n",
    "\n",
    "\n",
    "def quicksort(arr, low=0, high=None):\n",
    "    if high is None:\n",
    "        high = len(arr)-1\n",
    "    \n",
    "    if high < low:\n",
    "        return\n",
    "    else:\n",
    "        pivot = partition(arr, low, high)\n",
    "        quicksort(arr, low, pivot-1)\n",
    "        quicksort(arr, pivot+1, high)\n",
    "\n",
    "\n",
    "def quick_sort_simple(data):\n",
    "    if len(data) > 1:\n",
    "        less = []\n",
    "        equal = []\n",
    "        greater = []\n",
    "        pivot = data[0]\n",
    "\n",
    "        for x in data:\n",
    "            if x < pivot:\n",
    "                less.append(x)\n",
    "            elif x == pivot:\n",
    "                equal.append(x)\n",
    "            else:\n",
    "                greater.append(x)\n",
    "\n",
    "        return quick_sort_simple(less) + equal + quick_sort_simple(greater)\n",
    "\n",
    "    else:\n",
    "        return data"
   ]
  },
  {
   "cell_type": "code",
   "execution_count": 12,
   "metadata": {},
   "outputs": [],
   "source": [
    "# Merge sort implemented in Python\n",
    "\n",
    "def merge(left, right):\n",
    "    result = []\n",
    "    left_idx, right_idx = 0, 0\n",
    "    while left_idx < len(left) and right_idx < len(right):\n",
    "        if left[left_idx] <= right[right_idx]:\n",
    "            result.append(left[left_idx])\n",
    "            left_idx += 1\n",
    "        else:\n",
    "            result.append(right[right_idx])\n",
    "            right_idx += 1\n",
    " \n",
    "    if left:\n",
    "        result.extend(left[left_idx:])\n",
    "    if right:\n",
    "        result.extend(right[right_idx:])\n",
    "    return result\n",
    "\n",
    "\n",
    "def mergesort(arr):\n",
    "    if len(arr) <= 1:\n",
    "        return arr\n",
    " \n",
    "    mid = len(arr) // 2\n",
    "    left = arr[:mid]\n",
    "    right = arr[mid:]\n",
    " \n",
    "    left = mergesort(left)\n",
    "    right = mergesort(right)\n",
    "    return list(merge(left, right))"
   ]
  },
  {
   "cell_type": "markdown",
   "metadata": {},
   "source": [
    "## Unit Tests\n",
    "\n",
    "For unit tests, we will create unsorted lists and then use assertEqual to compare the output of each sorting algorithm to the python ``sorted`` function"
   ]
  },
  {
   "cell_type": "code",
   "execution_count": 21,
   "metadata": {},
   "outputs": [
    {
     "name": "stderr",
     "output_type": "stream",
     "text": [
      "test_bubble_sort (__main__.SortingTest)\n",
      "Test bubble sort. ... ok\n",
      "test_insertion_sort (__main__.SortingTest) ... ok\n",
      "test_merge_sort (__main__.SortingTest) ... ok\n",
      "test_merge_text_sort (__main__.SortingTest) ... ok\n",
      "test_quick_sort_inplace (__main__.SortingTest) ... ok\n",
      "test_selection_sort (__main__.SortingTest) ... "
     ]
    },
    {
     "name": "stdout",
     "output_type": "stream",
     "text": [
      "['aardvark', 'bird', 'cat', 'dog']\n",
      "['Cork', 'berlin', 'dublin']\n"
     ]
    },
    {
     "name": "stderr",
     "output_type": "stream",
     "text": [
      "ok\n",
      "\n",
      "----------------------------------------------------------------------\n",
      "Ran 6 tests in 0.005s\n",
      "\n",
      "OK\n"
     ]
    }
   ],
   "source": [
    "import unittest\n",
    "\n",
    "class SortingTest(unittest.TestCase):\n",
    "    def __init__(self, *args, **kwargs):\n",
    "        super(SortingTest, self).__init__(*args, **kwargs)\n",
    "        self.test_arr = [[1], [1, 2], [2, 1], [5, 2, 7, 1, 8], [1, 2, 5, 7, 8],\n",
    "                [10, 272, 100, -98, 876, 877754, 98124, 0, 1000000, -100]]\n",
    "        self.test_text_arr = [['cat','dog','bird','aardvark'],['dublin','berlin','Cork']]\n",
    "\n",
    "    def test_bubble_sort(self):\n",
    "        \"\"\"Test bubble sort.\"\"\"\n",
    "        for arr in self.test_arr:\n",
    "            self.assertEqual(sorted(arr), bubble_sort(arr))\n",
    "\n",
    "    def test_selection_sort(self):\n",
    "        for arr in self.test_arr:\n",
    "            self.assertEqual(selection_sort(arr), sorted(arr))\n",
    "\n",
    "    def test_insertion_sort(self):\n",
    "        for arr in self.test_arr:\n",
    "            self.assertEqual(insertion_sort(arr), sorted(arr))\n",
    "\n",
    "    def test_quick_sort_inplace(self):\n",
    "        for arr in self.test_arr:\n",
    "            quicksort(arr)\n",
    "            self.assertEqual(arr, sorted(arr))\n",
    "            \n",
    "    def test_merge_sort(self):\n",
    "        for arr in self.test_arr:\n",
    "            self.assertEqual(mergesort(arr), sorted(arr))\n",
    "\n",
    "    def test_merge_text_sort(self):\n",
    "        for arr in self.test_text_arr:\n",
    "            print(mergesort(arr))\n",
    "            self.assertEqual(mergesort(arr), sorted(arr))\n",
    "\n",
    "                              \n",
    "                              \n",
    "            \n",
    "if __name__ == '__main__':\n",
    "    unittest.main(argv=['ignored', '-v'], exit=False)"
   ]
  },
  {
   "cell_type": "markdown",
   "metadata": {},
   "source": [
    "## Questions\n",
    "\n",
    "1) Add the improvements to bubblesort that we saw in the lecture notes to limit comparisons of previously sorted elements.\n",
    "\n",
    "2) Bob has a set $A$ of $n$ nuts and a set $B$ of $n$ bolts, such that each nut in $A$ has a unique matching bolt in $B$. Unfortunately, the nuts in $A$ all look the same, and the bolts in $B$ all look the same as well. The only kind of a comparison that Bob can make is to take a nut-bolt pair $(a, b)$, such that $a$ is in $A$ and $b$ is in $B$, and test it to see if the threads of a are larger, smaller, or a perfect match with the threads of $b$. Describe and analyze an efficient algorithm for Bob to match up all of his nuts and bolts.\n",
    "\n",
    "3) Why did the animals get sorted but the cities did not? How do we fix this?\n",
    "\n",
    "4) Read the Python documentation for how the python ``sorted`` function handles text sorting. (https://docs.python.org/3/library/functions.html#sorted)\n",
    "\n",
    "5) Adapt one of the functions above to handle sorting strings and reversing the order of sort in a similar manner to the python ``sorted`` function.\n",
    "\n",
    "6) Suppose we are given an $n$-element sequence $S$ such that each element in $S$ represents a different vote for president, where each vote is given as an integer representing a particular candidate, yet the integers may be arbitrarily large (even if the number of candidates is not). Design an $\\mathcal{O}(n log n)$- time algorithm to see who wins the election $S$ represents, assuming the candidate with the most votes wins."
   ]
  },
  {
   "cell_type": "markdown",
   "metadata": {},
   "source": [
    "## Solutions \n",
    "\n",
    "1) Use pseudo code from lecture notes\n",
    "\n",
    "2) This problem can be solved using a divide-and-conquer approach. First, we choose a random bolt and partition the remaining nuts around it. Then we take the nut that matches the chosen bolt and partition the remaining bolts around it. We can continue doing this until all the nuts and bolts are matched up. In essence, we are doing the randomized quick- sort algorithm. Thus, we have an average running time of $\\mathcal{O}(n log n)$.\n",
    "\n",
    "3)  UTF8 or ASCII have a numeric order. Can perform comparisons based on their order. Capitalisation matters so pre-process all to one or the other if we don’t want it to matter: ``str.upper()``/``str.lower()``\n",
    "\n",
    "4) Note the ``key=str.lower`` parameter.\n",
    "\n",
    "6) First sort the sequence S by the candidate’s ID. Then walk through the sorted sequence, storing the current max count and the count of the current candidate ID as you go. When you move on to a new ID, check it against the current max and replace the max if necessary.\n",
    "\n",
    "\n"
   ]
  },
  {
   "cell_type": "code",
   "execution_count": null,
   "metadata": {},
   "outputs": [],
   "source": []
  }
 ],
 "metadata": {
  "kernelspec": {
   "display_name": "Python 3",
   "language": "python",
   "name": "python3"
  },
  "language_info": {
   "codemirror_mode": {
    "name": "ipython",
    "version": 3
   },
   "file_extension": ".py",
   "mimetype": "text/x-python",
   "name": "python",
   "nbconvert_exporter": "python",
   "pygments_lexer": "ipython3",
   "version": "3.6.7"
  }
 },
 "nbformat": 4,
 "nbformat_minor": 2
}
