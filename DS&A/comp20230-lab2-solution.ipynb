{
 "cells": [
  {
   "cell_type": "markdown",
   "metadata": {},
   "source": [
    "# COMP20230 Lab 2: Recursion\n",
    "\n",
    "6th Febuary 2019"
   ]
  },
  {
   "cell_type": "markdown",
   "metadata": {},
   "source": [
    "## Review: Running time and big-$\\mathcal{O}$: Recursive Algorithms for Computing Powers\n",
    "\n",
    "As example of the use of linear recursion, we consider the problem of raising a number $x$ to an arbitrary nonnegative integer, $n$. That is, we wish to compute the power function, defined as $power(x,n) = xn$. (We use the name “power” for this discussion, to differentiate from the built-in Python function _pow_ that provides such functionality.) We will consider two different recursive formulations for the problem that lead to algorithms with very different performance.\n",
    "A trivial recursive definition follows from the fact that $x^n = x \\cdot x^{n−1}$ for $n > 0$.\n",
    "\n",
    "\n",
    "\\begin{equation}\n",
    "power(x,n) ==\\left\\{\n",
    "                \\begin{array}{ll}\n",
    "                        1 \\ if \\ n = 0\\\\\n",
    "                        x \\ power(x, n − 1) \\ otherwise.\n",
    "                \\end{array}\n",
    "              \\right.\n",
    "\\end{equation}\n",
    "\n",
    "This definition leads to a recursive algorithm shown below:"
   ]
  },
  {
   "cell_type": "code",
   "execution_count": 1,
   "metadata": {},
   "outputs": [],
   "source": [
    "def basicpower(x, n):\n",
    "    '''Compute the value x**n for integer n.''' \n",
    "    if n == 0:\n",
    "        return 1 \n",
    "    else:\n",
    "        return x  * power(x, n-1)"
   ]
  },
  {
   "cell_type": "markdown",
   "metadata": {},
   "source": [
    "A recursive call to this version of power(x,n) runs in $\\mathcal{O}(n)$ time."
   ]
  },
  {
   "cell_type": "code",
   "execution_count": 2,
   "metadata": {},
   "outputs": [],
   "source": [
    "def power(x, n):\n",
    "    '''Compute the value x**n for integer n.''' \n",
    "    if n == 0:\n",
    "        return 1 \n",
    "    else:\n",
    "        partial = power(x, n // 2) \n",
    "        result = partial * partial\n",
    "    if n % 2 == 1:\n",
    "        result *= x \n",
    "    return result"
   ]
  },
  {
   "cell_type": "markdown",
   "metadata": {},
   "source": [
    "To analyze the running time of the revised algorithm, we observe that the exponent in each recursive call of function power(x,n) is at most half of the preceding exponent. As we saw with the analysis of binary search, the number of times that we can divide $n$ in half before getting to one or less is $\\mathcal{O}(log n)$. Therefore, our new formulation of the power function results in $\\mathcal{O}(logn)$ recursive calls. Each individual activation of the function uses $\\mathcal{O}(1)$ operations (excluding the recursive calls), and so the total number of operations for computing power(x,n) is O(logn). This is a significant improvement over the original $\\mathcal{O}(n)$-time algorithm.\n",
    "\n",
    "**Exercise:** Test the two functions with a timer and see the difference. Identify the base case and stopping conditions."
   ]
  },
  {
   "cell_type": "markdown",
   "metadata": {},
   "source": [
    "# Exercise: Fibonacci\n",
    "\n",
    "The sequence, in which each number is the sum of the two preceding numbers is known as the Fibonacci sequence: $1, 1, 2, 3, 5, 8, 13, 21, 34, 55, 89, 144, 233, 377, 610, 987, 1597, 2584, 4181, \\cdots$ (each number is the sum of the previous two, e.g., $144=55 + 89$).\n",
    "\n",
    "As you covered Fibonacci in Semester 1, this should be familiar. The twist is we are going to look at a variety of ways of implementing it and the complexity of execution for each.\n",
    "\n",
    "A direct implementation of the description above would lead to pseudo code like this:"
   ]
  },
  {
   "cell_type": "raw",
   "metadata": {},
   "source": [
    "function: fibonacci(n)\n",
    "---------------------\n",
    "INPUT n, a natural number\n",
    "OUTPUT the n'th Fibonacci number \n",
    "\n",
    "   if n <= 1 then\n",
    "        return n\n",
    "   else\n",
    "        fibonacci(n-1) + fibonacci(n-2)\n",
    "   endif\n"
   ]
  },
  {
   "cell_type": "markdown",
   "metadata": {},
   "source": [
    "Two recursive solutions for a Fibonacci function are coded in Python below. The pseudo code version is given a function name bad_fibonacci.\n",
    "\n",
    "1. Run the two solutions with timers. Which one has a faster running time and why is one considered bad and the other good? What is the big-$\\mathcal{O}$ complexity for bad_fibonacci?\n",
    "2. Is good_fibonacci tail recursive? Explain your answer. What is the big-$\\mathcal{O}$ complexity?\n",
    "3. Implement a tail recursive solution. **Hint:** use two \"accumulators\", one (say, **acc2**) for the previous value in the sequence ($n-1$ if you're computing the $n$-th number) and one (say, **acc1**) for the value before that in the sequence ($n-2$ if you're computing the $n$-th element of the sequence). Thus the function becomes **fibo_tail(n,acc1,acc2)** and in the algorithm you have a recursive call to **fibo_tail(n-1,acc2,acc2+acc1)**?: you decrease $n$ until the stopping condition ($n=1$) and accumulate in the two other parameters. **Hint 2:** If you follow this, the initial call will be **fibo_tail(n,1,1)**?. \n",
    "4. Implement an iterative version of fibonacci using a for or while loop. What is the big-$\\mathcal{O}$ complexity?\n",
    "5. Write another iterative version of Fibonacci using the concept we (briefly) introduced in the lecture under \"dynamic programming\": use an array $my\\_array$ of size $n$ starting with $my\\_array[0]=1$ and $my\\_array[1]=1$ and for each $i>1$  set $my\\_array[i]=my\\_array[i-1]+my\\_array[i-2]$. \n"
   ]
  },
  {
   "cell_type": "code",
   "execution_count": 3,
   "metadata": {},
   "outputs": [],
   "source": [
    "def bad_fibonacci(n):\n",
    "  \"\"\"Return the nth Fibonacci number.\"\"\"\n",
    "  if n <= 1:\n",
    "    return n\n",
    "  else:\n",
    "    return bad_fibonacci(n-2) + bad_fibonacci(n-1)\n",
    "\n",
    "def good_fibonacci(n):\n",
    "  \"\"\"Return pair of Fibonacci numbers, F(n) and F(n-1).\"\"\"\n",
    "  if n <= 1:\n",
    "    return (n,0)\n",
    "  else:\n",
    "    (a, b) = good_fibonacci(n-1)\n",
    "    return (a+b, a)"
   ]
  },
  {
   "cell_type": "markdown",
   "metadata": {},
   "source": [
    "## Fibonacci Solutions\n",
    "\n",
    "1. timing"
   ]
  },
  {
   "cell_type": "code",
   "execution_count": 4,
   "metadata": {},
   "outputs": [
    {
     "name": "stdout",
     "output_type": "stream",
     "text": [
      "CPU times: user 4.48 ms, sys: 442 µs, total: 4.92 ms\n",
      "Wall time: 4.54 ms\n"
     ]
    },
    {
     "data": {
      "text/plain": [
       "6765"
      ]
     },
     "execution_count": 4,
     "metadata": {},
     "output_type": "execute_result"
    }
   ],
   "source": [
    "%%time\n",
    "\n",
    "bad_fibonacci(20)"
   ]
  },
  {
   "cell_type": "code",
   "execution_count": 5,
   "metadata": {},
   "outputs": [
    {
     "name": "stdout",
     "output_type": "stream",
     "text": [
      "CPU times: user 17 µs, sys: 6 µs, total: 23 µs\n",
      "Wall time: 29.1 µs\n"
     ]
    },
    {
     "data": {
      "text/plain": [
       "(6765, 4181)"
      ]
     },
     "execution_count": 5,
     "metadata": {},
     "output_type": "execute_result"
    }
   ],
   "source": [
    "%%time\n",
    "\n",
    "good_fibonacci(20)"
   ]
  },
  {
   "cell_type": "markdown",
   "metadata": {},
   "source": [
    "2. It is not tail recursive becuase there is something to do after returning the values (adding them together). We can use 2 accumulators to avoid this."
   ]
  },
  {
   "cell_type": "code",
   "execution_count": 8,
   "metadata": {},
   "outputs": [],
   "source": [
    "def fibo_tail(n, acc2, acc1):\n",
    "    # Base case\n",
    "    if n ==1:\n",
    "        # Return accumulator\n",
    "        return acc2\n",
    "    else:\n",
    "        # Accumulators are updated at each recursive call. \n",
    "        return fibo_tail(n-1, acc1, acc2+acc1)"
   ]
  },
  {
   "cell_type": "code",
   "execution_count": 9,
   "metadata": {},
   "outputs": [
    {
     "name": "stdout",
     "output_type": "stream",
     "text": [
      "CPU times: user 13 µs, sys: 1 µs, total: 14 µs\n",
      "Wall time: 20 µs\n"
     ]
    },
    {
     "data": {
      "text/plain": [
       "6765"
      ]
     },
     "execution_count": 9,
     "metadata": {},
     "output_type": "execute_result"
    }
   ],
   "source": [
    "%%time\n",
    "\n",
    "fibo_tail(20,1,1)"
   ]
  },
  {
   "cell_type": "markdown",
   "metadata": {},
   "source": [
    "Example using a helper to hide the accumulator parameters."
   ]
  },
  {
   "cell_type": "code",
   "execution_count": 10,
   "metadata": {},
   "outputs": [],
   "source": [
    "def fib_rectail(n):\n",
    "    def fib_helper(n, acc2, acc1):\n",
    "        return fib_helper(n-1, acc1, acc2+acc1) if n > 0 else acc1\n",
    "    return fib_helper(n-1, 0, 1)        "
   ]
  },
  {
   "cell_type": "code",
   "execution_count": 11,
   "metadata": {},
   "outputs": [
    {
     "data": {
      "text/plain": [
       "6765"
      ]
     },
     "execution_count": 11,
     "metadata": {},
     "output_type": "execute_result"
    }
   ],
   "source": [
    "fib_rectail(20)"
   ]
  },
  {
   "cell_type": "markdown",
   "metadata": {},
   "source": [
    "In each non-base case we make two recursive calls to the fibonacci function! Computing the $n^{th}$ Fibonacci number in this way requires an exponential number of calls to the function.\n",
    "\n",
    "Why?\n",
    "\n",
    "Let $c_n$ denote the number of calls performed in the execution of bad_fibonacci(n). How will the sequence progress for $c_0$ to $c_8$?\n",
    "\n",
    "$\n",
    "\\begin{align}\n",
    "c_0 & = 1 \\\\\n",
    "c_1 & = 1 \\\\\n",
    "c_2 & = 1+c_0+c_1=1+1+1=3 \\\\\n",
    "c_3 & = 1+c_1+c_2=1+1+3=5 \\\\\n",
    "c_4 & = 1+c_2+c_3=1+3+5=9 \\\\\n",
    "c_5 & = 1+c_3 +c_4 = 1+5+9 = 15 \\\\\n",
    "c_6 & = 1+c_4 +c_5 = 1+9+15 = 25\\\\\n",
    "c_7 & = 1+c_5 +c_6 = 1+15+25 = 41\\\\\n",
    "c_8 & = 1+c_6 +c_7 = 1+25+41 = 67\n",
    "\\end{align}\n",
    "$\n",
    " \n",
    "Examining this sequence we see by induction that the number of calls more than doubles for each two consecutive indices. Thus, $c_n > 2^{n/2}$, which is $\\mathcal{O}(2^n)$ or $\\mathcal{O}(c^n)$.\n",
    "\n",
    "The good_fibonacci(n) is $\\mathcal{O}(n)$ because other than the recursive call the function runs in constant time."
   ]
  },
  {
   "cell_type": "code",
   "execution_count": 12,
   "metadata": {},
   "outputs": [],
   "source": [
    "# With for loop\n",
    "def fibonacci_for(n):\n",
    "    fib = 1\n",
    "    fib1, fib2 = 1, 1\n",
    "    if n > 2:\n",
    "        for i in range(2, n):\n",
    "            fib = fib1 + fib2\n",
    "            fib1, fib2 = fib2, fib\n",
    "    return fib\n",
    "\n",
    "# With while loop\n",
    "def fibonacci_while(n):\n",
    "    fib = 1\n",
    "    fib1, fib2 = 1, 1\n",
    "    i = 2\n",
    "    while i < n:\n",
    "        fib = fib1 + fib2\n",
    "        fib1, fib2 = fib2, fib\n",
    "        i+=1\n",
    "    return fib"
   ]
  },
  {
   "cell_type": "markdown",
   "metadata": {},
   "source": [
    "We can see here that in both iterative solutions, the loops will run $n-2$ times. Not taking into account constants, we can see that the Big-$\\mathcal{O}$ complexity will be $\\mathcal{O}(n)$."
   ]
  },
  {
   "cell_type": "code",
   "execution_count": 13,
   "metadata": {},
   "outputs": [],
   "source": [
    "def dynamic_fibonacci(n):\n",
    "    # First two elements of series are placed in index 0 and 1 of our array.\n",
    "    my_array = [1, 1]\n",
    "    # We add the elements at the previous two indexes to get the element of the next index.\n",
    "    for i in range(2, n):\n",
    "        my_array.append(my_array[i-1] + my_array[i-2])\n",
    "    return my_array[n-1]"
   ]
  },
  {
   "cell_type": "code",
   "execution_count": 14,
   "metadata": {},
   "outputs": [
    {
     "name": "stdout",
     "output_type": "stream",
     "text": [
      "CPU times: user 16 µs, sys: 1 µs, total: 17 µs\n",
      "Wall time: 23.1 µs\n"
     ]
    },
    {
     "data": {
      "text/plain": [
       "6765"
      ]
     },
     "execution_count": 14,
     "metadata": {},
     "output_type": "execute_result"
    }
   ],
   "source": [
    "%%time\n",
    "dynamic_fibonacci(20)"
   ]
  },
  {
   "cell_type": "markdown",
   "metadata": {},
   "source": [
    "# Example: An English Imperial Ruler \n",
    "\n",
    "Graduations on a twelve inch imperial scale ruler. This is an example to show you that there is more to recursion than Fibonacci!"
   ]
  },
  {
   "cell_type": "code",
   "execution_count": 15,
   "metadata": {},
   "outputs": [
    {
     "name": "stdout",
     "output_type": "stream",
     "text": [
      "---- 0\n",
      "-\n",
      "--\n",
      "-\n",
      "---\n",
      "-\n",
      "--\n",
      "-\n",
      "---- 1\n",
      "-\n",
      "--\n",
      "-\n",
      "---\n",
      "-\n",
      "--\n",
      "-\n",
      "---- 2\n",
      "-\n",
      "--\n",
      "-\n",
      "---\n",
      "-\n",
      "--\n",
      "-\n",
      "---- 3\n"
     ]
    }
   ],
   "source": [
    "def draw_line(tick_length, tick_label=''):\n",
    "  \"\"\"Draw one line with given tick length (followed by optional label).\"\"\"\n",
    "  line = '-' * tick_length\n",
    "  if tick_label:\n",
    "    line += ' ' + tick_label\n",
    "  print(line)\n",
    "\n",
    "def draw_interval(center_length):\n",
    "  \"\"\"Draw tick interval based upon a central tick length.\"\"\"\n",
    "  if center_length > 0:                   # stop when length drops to 0\n",
    "    draw_interval(center_length - 1)      # recursively draw top ticks\n",
    "    draw_line(center_length)              # draw center tick\n",
    "    draw_interval(center_length - 1)      # recursively draw bottom ticks\n",
    "\n",
    "def draw_ruler(num_inches, major_length):\n",
    "  \"\"\"Draw English ruler with given number of inches and major tick length.\"\"\"\n",
    "  draw_line(major_length, '0')            # draw inch 0 line\n",
    "  for j in range(1, 1 + num_inches):\n",
    "    draw_interval(major_length - 1)       # draw interior ticks for inch\n",
    "    draw_line(major_length, str(j))       # draw inch j line and label\n",
    "    \n",
    "    \n",
    "draw_ruler(3,4)"
   ]
  },
  {
   "cell_type": "markdown",
   "metadata": {},
   "source": [
    "# Example: Binary Search\n"
   ]
  },
  {
   "cell_type": "markdown",
   "metadata": {},
   "source": [
    "Binary search is a classic recursive algorithm to find a target value within a sorted sequence. This is among the most important of computer algorithms, and it is the reason that we so often store data in sorted order.\n",
    "\n",
    "e.g. For the sorted sequence below stored in a Python list with indexes above:\n",
    "\n",
    "<table>\n",
    "<tr><th>0</th><th>1</th><th> 2</th><th>3</th><th>4</th><th> 5</th><th>6</th><th>7</th><th> 8</th><th>9</th><th>10</th><th> 11</th> </tr>\n",
    "<tr><td>2</td><td>4</td><td> 5</td><td>6</td><td>8</td><td> 9</td><td>15</td><td>16</td><td> 17</td><td>22</td><td>30</td><td> 31</td> </tr>\n",
    "</table>\n",
    "\n",
    "If the sequence was unsorted a simple solution is a _sequential search algorithm_: use a loop to examine every element. You either reach the end of the list or find the target.\n",
    "\n",
    "It is linear complexity, running in $\\mathcal{O}(n)$ time as worst case it inspects every element in the sequence.\n",
    "\n",
    "A sorted sequence allows a much faster approach. Think about how you would accomplish this task by hand: divide in two, and choose the middle digit as a candidate to compare to the target. Everything to the left of the candidate is lower than it and everything to the right is higher. Compare the target to the candidate and discard the left if the candidate is lower and the right if it is higher. Then repeat your _binary search_ algorithm. This is much more efficient, running in $\\mathcal{O}($log$n$) time.\n",
    "\n",
    "Review the iterative and recursive binary search algorithm implementations below."
   ]
  },
  {
   "cell_type": "code",
   "execution_count": 16,
   "metadata": {},
   "outputs": [],
   "source": [
    "def binary_search_iterative(data, target):\n",
    "  \"\"\"Return True if target is found in the given Python list.\"\"\"\n",
    "  low = 0\n",
    "  high = len(data)-1\n",
    "  while low <= high:\n",
    "    mid = (low + high) // 2\n",
    "    if target == data[mid]:         # found a match\n",
    "      return True\n",
    "    elif target < data[mid]:\n",
    "      high = mid - 1                # only consider values left of mid\n",
    "    else:\n",
    "      low = mid + 1                 # only consider values right of mid\n",
    "  return False                      # loop ended without success"
   ]
  },
  {
   "cell_type": "code",
   "execution_count": 17,
   "metadata": {},
   "outputs": [],
   "source": [
    "def binary_search(data, target, low, high):\n",
    "  \"\"\"Return True if target is found in indicated portion of a Python list.\n",
    "\n",
    "  The search only considers the portion from data[low] to data[high] inclusive.\n",
    "  \"\"\"\n",
    "  if low > high:\n",
    "    return False                    # interval is empty; no match\n",
    "  else:\n",
    "    mid = (low + high) // 2\n",
    "    if target == data[mid]:         # found a match\n",
    "      return True\n",
    "    elif target < data[mid]:\n",
    "      # recur on the portion left of the middle\n",
    "      return binary_search(data, target, low, mid - 1)\n",
    "    else:\n",
    "      # recur on the portion right of the middle\n",
    "      return binary_search(data, target, mid + 1, high)"
   ]
  },
  {
   "cell_type": "markdown",
   "metadata": {},
   "source": [
    "When a function makes two recursive calls, we say that it uses binary recursion. Clearly the binary_search above is a binary recursion. Drawing the English ruler and the bad fibonacci function are also examples of binary recursion."
   ]
  },
  {
   "cell_type": "code",
   "execution_count": 18,
   "metadata": {},
   "outputs": [
    {
     "name": "stdout",
     "output_type": "stream",
     "text": [
      "True False\n"
     ]
    }
   ],
   "source": [
    "data=[2,4,5,6,8,9,15,16,17,22,30,31]\n",
    "\n",
    "rec_ans = binary_search(data,5,0,len(data))\n",
    "iter_ans = binary_search_iterative(data,100)\n",
    "\n",
    "print(rec_ans,iter_ans)"
   ]
  },
  {
   "cell_type": "markdown",
   "metadata": {},
   "source": [
    "# Example: Directory Size\n",
    "File system traversal is a classic example of using recursion to navigate a data structure (the file system). We will look at an example of finding the total file size of the current directory and any sub-directories. Remember that directories can be nested arbitrarily deeply within other directories and you can have 0 or more sub-directories in a directory. Python allows us to use the **os** module to write code that will execute on any OS.  Run it on your machine and compare it to other students running a diffent OS at your table."
   ]
  },
  {
   "cell_type": "code",
   "execution_count": null,
   "metadata": {},
   "outputs": [],
   "source": [
    "import os\n",
    "\n",
    "def disk_usage(path):\n",
    "  \"\"\"Return the number of bytes used by a file/folder and any descendents.\"\"\"\n",
    "  total = os.path.getsize(path)                  # account for direct usage\n",
    "  if os.path.isdir(path):                        # if this is a directory,\n",
    "    for filename in os.listdir(path):            # then for each child:\n",
    "      childpath = os.path.join(path, filename)   # compose full path to child\n",
    "      total += disk_usage(childpath)             # add child's usage to total\n",
    "\n",
    "  print ('{0:<7}'.format(total), path)           # descriptive output (optional)\n",
    "  return total  \n",
    "\n",
    "disk_usage('.')"
   ]
  },
  {
   "cell_type": "code",
   "execution_count": null,
   "metadata": {},
   "outputs": [],
   "source": []
  },
  {
   "cell_type": "code",
   "execution_count": null,
   "metadata": {},
   "outputs": [],
   "source": []
  },
  {
   "cell_type": "code",
   "execution_count": null,
   "metadata": {},
   "outputs": [],
   "source": []
  }
 ],
 "metadata": {
  "kernelspec": {
   "display_name": "Python 3",
   "language": "python",
   "name": "python3"
  },
  "language_info": {
   "codemirror_mode": {
    "name": "ipython",
    "version": 3
   },
   "file_extension": ".py",
   "mimetype": "text/x-python",
   "name": "python",
   "nbconvert_exporter": "python",
   "pygments_lexer": "ipython3",
   "version": "3.6.7"
  }
 },
 "nbformat": 4,
 "nbformat_minor": 2
}
