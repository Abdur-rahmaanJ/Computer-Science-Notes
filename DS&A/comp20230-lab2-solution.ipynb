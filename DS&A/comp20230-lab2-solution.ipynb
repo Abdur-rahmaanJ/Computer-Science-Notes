{
 "cells": [
  {
   "cell_type": "markdown",
   "metadata": {},
   "source": [
    "# COMP20230 Lab 2: Recursion\n",
    "\n",
    "6th Febuary 2019"
   ]
  },
  {
   "cell_type": "markdown",
   "metadata": {},
   "source": [
    "## Review: Running time and big-$\\mathcal{O}$: Recursive Algorithms for Computing Powers\n",
    "\n",
    "As example of the use of linear recursion, we consider the problem of raising a number $x$ to an arbitrary nonnegative integer, $n$. That is, we wish to compute the power function, defined as $power(x,n) = xn$. (We use the name “power” for this discussion, to differentiate from the built-in Python function _pow_ that provides such functionality.) We will consider two different recursive formulations for the problem that lead to algorithms with very different performance.\n",
    "A trivial recursive definition follows from the fact that $x^n = x \\cdot x^{n−1}$ for $n > 0$.\n",
    "\n",
    "\n",
    "\\begin{equation}\n",
    "power(x,n) ==\\left\\{\n",
    "                \\begin{array}{ll}\n",
    "                        1 \\ if \\ n = 0\\\\\n",
    "                        x \\ power(x, n − 1) \\ otherwise.\n",
    "                \\end{array}\n",
    "              \\right.\n",
    "\\end{equation}\n",
    "\n",
    "This definition leads to a recursive algorithm shown below:"
   ]
  },
  {
   "cell_type": "code",
   "execution_count": 1,
   "metadata": {},
   "outputs": [],
   "source": [
    "def basicpower(x, n):\n",
    "    '''Compute the value x**n for integer n.''' \n",
    "    if n == 0:\n",
    "        return 1 \n",
    "    else:\n",
    "        return x  * power(x, n-1)"
   ]
  },
  {
   "cell_type": "markdown",
   "metadata": {},
   "source": [
    "A recursive call to this version of power(x,n) runs in $\\mathcal{O}(n)$ time."
   ]
  },
  {
   "cell_type": "code",
   "execution_count": 2,
   "metadata": {},
   "outputs": [],
   "source": [
    "def power(x, n):\n",
    "    '''Compute the value x**n for integer n.''' \n",
    "    if n == 0:\n",
    "        return 1 \n",
    "    else:\n",
    "        partial = power(x, n // 2) \n",
    "        result = partial * partial\n",
    "    if n % 2 == 1:\n",
    "        result *= x \n",
    "    return result"
   ]
  },
  {
   "cell_type": "markdown",
   "metadata": {},
   "source": [
    "To analyze the running time of the revised algorithm, we observe that the exponent in each recursive call of function power(x,n) is at most half of the preceding exponent. As we saw with the analysis of binary search, the number of times that we can divide $n$ in half before getting to one or less is $\\mathcal{O}(log n)$. Therefore, our new formulation of the power function results in $\\mathcal{O}(logn)$ recursive calls. Each individual activation of the function uses $\\mathcal{O}(1)$ operations (excluding the recursive calls), and so the total number of operations for computing power(x,n) is O(logn). This is a significant improvement over the original $\\mathcal{O}(n)$-time algorithm.\n",
    "\n",
    "**Exercise:** Test the two functions with a timer and see the difference. Identify the base case and stopping conditions."
   ]
  },
  {
   "cell_type": "markdown",
   "metadata": {},
   "source": [
    "# Exercise: Fibonacci\n",
    "\n",
    "The sequence, in which each number is the sum of the two preceding numbers is known as the Fibonacci sequence: $1, 1, 2, 3, 5, 8, 13, 21, 34, 55, 89, 144, 233, 377, 610, 987, 1597, 2584, 4181, \\cdots$ (each number is the sum of the previous two, e.g., $144=55 + 89$).\n",
    "\n",
    "As you covered Fibonacci in Semester 1, this should be familiar. The twist is we are going to look at a variety of ways of implementing it and the complexity of execution for each.\n",
    "\n",
    "A direct implementation of the description above would lead to pseudo code like this:"
   ]
  },
  {
   "cell_type": "raw",
   "metadata": {},
   "source": [
    "function: fibonacci(n)\n",
    "---------------------\n",
    "INPUT n, a natural number\n",
    "OUTPUT the n'th Fibonacci number \n",
    "\n",
    "   if n <= 1 then\n",
    "        return n\n",
    "   else\n",
    "        fibonacci(n-1) + fibonacci(n-2)\n",
    "   endif\n"
   ]
  },
  {
   "cell_type": "markdown",
   "metadata": {},
   "source": [
    "Two recursive solutions for a Fibonacci function are coded in Python below. The pseudo code version is given a function name bad_fibonacci.\n",
    "\n",
    "1. Run the two solutions with timers. Which one has a faster running time and why is one considered bad and the other good? What is the big-$\\mathcal{O}$ complexity for bad_fibonacci?\n",
    "2. Is good_fibonacci tail recursive? Explain your answer. What is the big-$\\mathcal{O}$ complexity?\n",
    "3. Implement a tail recursive solution. **Hint:** use two \"accumulators\", one (say, **acc2**) for the previous value in the sequence ($n-1$ if you're computing the $n$-th number) and one (say, **acc1**) for the value before that in the sequence ($n-2$ if you're computing the $n$-th element of the sequence). Thus the function becomes **fibo_tail(n,acc1,acc2)** and in the algorithm you have a recursive call to **fibo_tail(n-1,acc2,acc2+acc1)**?: you decrease $n$ until the stopping condition ($n=1$) and accumulate in the two other parameters. **Hint 2:** If you follow this, the initial call will be **fibo_tail(n,1,1)**?. \n",
    "4. Implement an iterative version of fibonacci using a for or while loop. What is the big-$\\mathcal{O}$ complexity?\n",
    "5. Write another iterative version of Fibonacci using the concept we (briefly) introduced in the lecture under \"dynamic programming\": use an array $my\\_array$ of size $n$ starting with $my\\_array[0]=1$ and $my\\_array[1]=1$ and for each $i>1$  set $my\\_array[i]=my\\_array[i-1]+my\\_array[i-2]$. \n"
   ]
  },
  {
   "cell_type": "code",
   "execution_count": 3,
   "metadata": {},
   "outputs": [],
   "source": [
    "def bad_fibonacci(n):\n",
    "  \"\"\"Return the nth Fibonacci number.\"\"\"\n",
    "  if n <= 1:\n",
    "    return n\n",
    "  else:\n",
    "    return bad_fibonacci(n-2) + bad_fibonacci(n-1)\n",
    "\n",
    "def good_fibonacci(n):\n",
    "  \"\"\"Return pair of Fibonacci numbers, F(n) and F(n-1).\"\"\"\n",
    "  if n <= 1:\n",
    "    return (n,0)\n",
    "  else:\n",
    "    (a, b) = good_fibonacci(n-1)\n",
    "    return (a+b, a)"
   ]
  },
  {
   "cell_type": "markdown",
   "metadata": {},
   "source": [
    "## Fibonacci Solutions\n",
    "\n",
    "1. timing"
   ]
  },
  {
   "cell_type": "code",
   "execution_count": 4,
   "metadata": {},
   "outputs": [
    {
     "name": "stdout",
     "output_type": "stream",
     "text": [
      "Wall time: 0 ns\n"
     ]
    },
    {
     "data": {
      "text/plain": [
       "6765"
      ]
     },
     "execution_count": 4,
     "metadata": {},
     "output_type": "execute_result"
    }
   ],
   "source": [
    "%%time\n",
    "\n",
    "bad_fibonacci(20)"
   ]
  },
  {
   "cell_type": "code",
   "execution_count": 5,
   "metadata": {},
   "outputs": [
    {
     "name": "stdout",
     "output_type": "stream",
     "text": [
      "Wall time: 0 ns\n"
     ]
    },
    {
     "data": {
      "text/plain": [
       "(6765, 4181)"
      ]
     },
     "execution_count": 5,
     "metadata": {},
     "output_type": "execute_result"
    }
   ],
   "source": [
    "%%time\n",
    "\n",
    "good_fibonacci(20)"
   ]
  },
  {
   "cell_type": "markdown",
   "metadata": {},
   "source": [
    "2. It is not tail recursive becuase there is something to do after returning the values (adding them together). We can use 2 accumulators to avoid this."
   ]
  },
  {
   "cell_type": "code",
   "execution_count": 6,
   "metadata": {},
   "outputs": [],
   "source": [
    "def fibo_tail(n, acc2, acc1):\n",
    "    # Base case\n",
    "    if n ==1:\n",
    "        # Return accumulator\n",
    "        return acc2\n",
    "    else:\n",
    "        # Accumulators are updated at each recursive call. \n",
    "        return fibo_tail(n-1, acc1, acc2+acc1)"
   ]
  },
  {
   "cell_type": "code",
   "execution_count": 7,
   "metadata": {},
   "outputs": [
    {
     "name": "stdout",
     "output_type": "stream",
     "text": [
      "Wall time: 0 ns\n"
     ]
    },
    {
     "data": {
      "text/plain": [
       "6765"
      ]
     },
     "execution_count": 7,
     "metadata": {},
     "output_type": "execute_result"
    }
   ],
   "source": [
    "%%time\n",
    "\n",
    "fibo_tail(20,1,1)"
   ]
  },
  {
   "cell_type": "markdown",
   "metadata": {},
   "source": [
    "Example using a helper to hide the accumulator parameters."
   ]
  },
  {
   "cell_type": "code",
   "execution_count": 8,
   "metadata": {},
   "outputs": [],
   "source": [
    "def fib_rectail(n):\n",
    "    def fib_helper(n, acc2, acc1):\n",
    "        return fib_helper(n-1, acc1, acc2+acc1) if n > 0 else acc1\n",
    "    return fib_helper(n-1, 0, 1)        "
   ]
  },
  {
   "cell_type": "code",
   "execution_count": 9,
   "metadata": {},
   "outputs": [
    {
     "data": {
      "text/plain": [
       "6765"
      ]
     },
     "execution_count": 9,
     "metadata": {},
     "output_type": "execute_result"
    }
   ],
   "source": [
    "fib_rectail(20)"
   ]
  },
  {
   "cell_type": "markdown",
   "metadata": {},
   "source": [
    "In each non-base case we make two recursive calls to the fibonacci function! Computing the $n^{th}$ Fibonacci number in this way requires an exponential number of calls to the function.\n",
    "\n",
    "Why?\n",
    "\n",
    "Let $c_n$ denote the number of calls performed in the execution of bad_fibonacci(n). How will the sequence progress for $c_0$ to $c_8$?\n",
    "\n",
    "$\n",
    "\\begin{align}\n",
    "c_0 & = 1 \\\\\n",
    "c_1 & = 1 \\\\\n",
    "c_2 & = 1+c_0+c_1=1+1+1=3 \\\\\n",
    "c_3 & = 1+c_1+c_2=1+1+3=5 \\\\\n",
    "c_4 & = 1+c_2+c_3=1+3+5=9 \\\\\n",
    "c_5 & = 1+c_3 +c_4 = 1+5+9 = 15 \\\\\n",
    "c_6 & = 1+c_4 +c_5 = 1+9+15 = 25\\\\\n",
    "c_7 & = 1+c_5 +c_6 = 1+15+25 = 41\\\\\n",
    "c_8 & = 1+c_6 +c_7 = 1+25+41 = 67\n",
    "\\end{align}\n",
    "$\n",
    " \n",
    "Examining this sequence we see by induction that the number of calls more than doubles for each two consecutive indices. Thus, $c_n > 2^{n/2}$, which is $\\mathcal{O}(2^n)$ or $\\mathcal{O}(c^n)$.\n",
    "\n",
    "The good_fibonacci(n) is $\\mathcal{O}(n)$ because other than the recursive call the function runs in constant time."
   ]
  },
  {
   "cell_type": "code",
   "execution_count": 10,
   "metadata": {},
   "outputs": [],
   "source": [
    "# With for loop\n",
    "def fibonacci_for(n):\n",
    "    fib = 1\n",
    "    fib1, fib2 = 1, 1\n",
    "    if n > 2:\n",
    "        for i in range(2, n):\n",
    "            fib = fib1 + fib2\n",
    "            fib1, fib2 = fib2, fib\n",
    "    return fib\n",
    "\n",
    "# With while loop\n",
    "def fibonacci_while(n):\n",
    "    fib = 1\n",
    "    fib1, fib2 = 1, 1\n",
    "    i = 2\n",
    "    while i < n:\n",
    "        fib = fib1 + fib2\n",
    "        fib1, fib2 = fib2, fib\n",
    "        i+=1\n",
    "    return fib"
   ]
  },
  {
   "cell_type": "markdown",
   "metadata": {},
   "source": [
    "We can see here that in both iterative solutions, the loops will run $n-2$ times. Not taking into account constants, we can see that the Big-$\\mathcal{O}$ complexity will be $\\mathcal{O}(n)$."
   ]
  },
  {
   "cell_type": "code",
   "execution_count": 11,
   "metadata": {},
   "outputs": [],
   "source": [
    "def dynamic_fibonacci(n):\n",
    "    # First two elements of series are placed in index 0 and 1 of our array.\n",
    "    my_array = [1, 1]\n",
    "    # We add the elements at the previous two indexes to get the element of the next index.\n",
    "    for i in range(2, n):\n",
    "        my_array.append(my_array[i-1] + my_array[i-2])\n",
    "    return my_array[n-1]"
   ]
  },
  {
   "cell_type": "code",
   "execution_count": 12,
   "metadata": {},
   "outputs": [
    {
     "name": "stdout",
     "output_type": "stream",
     "text": [
      "Wall time: 0 ns\n"
     ]
    },
    {
     "data": {
      "text/plain": [
       "6765"
      ]
     },
     "execution_count": 12,
     "metadata": {},
     "output_type": "execute_result"
    }
   ],
   "source": [
    "%%time\n",
    "dynamic_fibonacci(20)"
   ]
  },
  {
   "cell_type": "markdown",
   "metadata": {},
   "source": [
    "# Example: An English Imperial Ruler \n",
    "\n",
    "Graduations on a twelve inch imperial scale ruler. This is an example to show you that there is more to recursion than Fibonacci!"
   ]
  },
  {
   "cell_type": "code",
   "execution_count": 13,
   "metadata": {},
   "outputs": [
    {
     "name": "stdout",
     "output_type": "stream",
     "text": [
      "---- 0\n",
      "-\n",
      "--\n",
      "-\n",
      "---\n",
      "-\n",
      "--\n",
      "-\n",
      "---- 1\n",
      "-\n",
      "--\n",
      "-\n",
      "---\n",
      "-\n",
      "--\n",
      "-\n",
      "---- 2\n",
      "-\n",
      "--\n",
      "-\n",
      "---\n",
      "-\n",
      "--\n",
      "-\n",
      "---- 3\n"
     ]
    }
   ],
   "source": [
    "def draw_line(tick_length, tick_label=''):\n",
    "  \"\"\"Draw one line with given tick length (followed by optional label).\"\"\"\n",
    "  line = '-' * tick_length\n",
    "  if tick_label:\n",
    "    line += ' ' + tick_label\n",
    "  print(line)\n",
    "\n",
    "def draw_interval(center_length):\n",
    "  \"\"\"Draw tick interval based upon a central tick length.\"\"\"\n",
    "  if center_length > 0:                   # stop when length drops to 0\n",
    "    draw_interval(center_length - 1)      # recursively draw top ticks\n",
    "    draw_line(center_length)              # draw center tick\n",
    "    draw_interval(center_length - 1)      # recursively draw bottom ticks\n",
    "\n",
    "def draw_ruler(num_inches, major_length):\n",
    "  \"\"\"Draw English ruler with given number of inches and major tick length.\"\"\"\n",
    "  draw_line(major_length, '0')            # draw inch 0 line\n",
    "  for j in range(1, 1 + num_inches):\n",
    "    draw_interval(major_length - 1)       # draw interior ticks for inch\n",
    "    draw_line(major_length, str(j))       # draw inch j line and label\n",
    "    \n",
    "    \n",
    "draw_ruler(3,4)"
   ]
  },
  {
   "cell_type": "markdown",
   "metadata": {},
   "source": [
    "# Example: Binary Search\n"
   ]
  },
  {
   "cell_type": "markdown",
   "metadata": {},
   "source": [
    "Binary search is a classic recursive algorithm to find a target value within a sorted sequence. This is among the most important of computer algorithms, and it is the reason that we so often store data in sorted order.\n",
    "\n",
    "e.g. For the sorted sequence below stored in a Python list with indexes above:\n",
    "\n",
    "<table>\n",
    "<tr><th>0</th><th>1</th><th> 2</th><th>3</th><th>4</th><th> 5</th><th>6</th><th>7</th><th> 8</th><th>9</th><th>10</th><th> 11</th> </tr>\n",
    "<tr><td>2</td><td>4</td><td> 5</td><td>6</td><td>8</td><td> 9</td><td>15</td><td>16</td><td> 17</td><td>22</td><td>30</td><td> 31</td> </tr>\n",
    "</table>\n",
    "\n",
    "If the sequence was unsorted a simple solution is a _sequential search algorithm_: use a loop to examine every element. You either reach the end of the list or find the target.\n",
    "\n",
    "It is linear complexity, running in $\\mathcal{O}(n)$ time as worst case it inspects every element in the sequence.\n",
    "\n",
    "A sorted sequence allows a much faster approach. Think about how you would accomplish this task by hand: divide in two, and choose the middle digit as a candidate to compare to the target. Everything to the left of the candidate is lower than it and everything to the right is higher. Compare the target to the candidate and discard the left if the candidate is lower and the right if it is higher. Then repeat your _binary search_ algorithm. This is much more efficient, running in $\\mathcal{O}($log$n$) time.\n",
    "\n",
    "Review the iterative and recursive binary search algorithm implementations below."
   ]
  },
  {
   "cell_type": "code",
   "execution_count": 14,
   "metadata": {},
   "outputs": [],
   "source": [
    "def binary_search_iterative(data, target):\n",
    "  \"\"\"Return True if target is found in the given Python list.\"\"\"\n",
    "  low = 0\n",
    "  high = len(data)-1\n",
    "  while low <= high:\n",
    "    mid = (low + high) // 2\n",
    "    if target == data[mid]:         # found a match\n",
    "      return True\n",
    "    elif target < data[mid]:\n",
    "      high = mid - 1                # only consider values left of mid\n",
    "    else:\n",
    "      low = mid + 1                 # only consider values right of mid\n",
    "  return False                      # loop ended without success"
   ]
  },
  {
   "cell_type": "code",
   "execution_count": 15,
   "metadata": {},
   "outputs": [],
   "source": [
    "def binary_search(data, target, low, high):\n",
    "  \"\"\"Return True if target is found in indicated portion of a Python list.\n",
    "\n",
    "  The search only considers the portion from data[low] to data[high] inclusive.\n",
    "  \"\"\"\n",
    "  if low > high:\n",
    "    return False                    # interval is empty; no match\n",
    "  else:\n",
    "    mid = (low + high) // 2\n",
    "    if target == data[mid]:         # found a match\n",
    "      return True\n",
    "    elif target < data[mid]:\n",
    "      # recur on the portion left of the middle\n",
    "      return binary_search(data, target, low, mid - 1)\n",
    "    else:\n",
    "      # recur on the portion right of the middle\n",
    "      return binary_search(data, target, mid + 1, high)"
   ]
  },
  {
   "cell_type": "markdown",
   "metadata": {},
   "source": [
    "When a function makes two recursive calls, we say that it uses binary recursion. Clearly the binary_search above is a binary recursion. Drawing the English ruler and the bad fibonacci function are also examples of binary recursion."
   ]
  },
  {
   "cell_type": "code",
   "execution_count": 16,
   "metadata": {},
   "outputs": [
    {
     "name": "stdout",
     "output_type": "stream",
     "text": [
      "True False\n"
     ]
    }
   ],
   "source": [
    "data=[2,4,5,6,8,9,15,16,17,22,30,31]\n",
    "\n",
    "rec_ans = binary_search(data,5,0,len(data))\n",
    "iter_ans = binary_search_iterative(data,100)\n",
    "\n",
    "print(rec_ans,iter_ans)"
   ]
  },
  {
   "cell_type": "markdown",
   "metadata": {},
   "source": [
    "# Example: Directory Size\n",
    "File system traversal is a classic example of using recursion to navigate a data structure (the file system). We will look at an example of finding the total file size of the current directory and any sub-directories. Remember that directories can be nested arbitrarily deeply within other directories and you can have 0 or more sub-directories in a directory. Python allows us to use the **os** module to write code that will execute on any OS.  Run it on your machine and compare it to other students running a diffent OS at your table."
   ]
  },
  {
   "cell_type": "code",
   "execution_count": 17,
   "metadata": {},
   "outputs": [
    {
     "name": "stdout",
     "output_type": "stream",
     "text": [
      "8608    .\\.ipynb_checkpoints\\comp20230-lab1-checkpoint.ipynb\n",
      "16862   .\\.ipynb_checkpoints\\comp20230-lab1-solution-checkpoint.ipynb\n",
      "18160   .\\.ipynb_checkpoints\\comp20230-lab2-checkpoint.ipynb\n",
      "21156   .\\.ipynb_checkpoints\\comp20230-lab2-solution-checkpoint.ipynb\n",
      "18209   .\\.ipynb_checkpoints\\comp20230-lab3-checkpoint.ipynb\n",
      "22334   .\\.ipynb_checkpoints\\comp20230-lab3-solution-checkpoint.ipynb\n",
      "24624   .\\.ipynb_checkpoints\\comp20230-lab4-checkpoint.ipynb\n",
      "40250   .\\.ipynb_checkpoints\\comp20230-lab4-solution-checkpoint.ipynb\n",
      "14147   .\\.ipynb_checkpoints\\comp20230-lab5-checkpoint.ipynb\n",
      "16799   .\\.ipynb_checkpoints\\comp20230-lab5-solution-checkpoint.ipynb\n",
      "10412   .\\.ipynb_checkpoints\\comp20230-Lab6-Sorting-checkpoint.ipynb\n",
      "11443   .\\.ipynb_checkpoints\\comp20230-Lab6-Sorting-solutions-checkpoint.ipynb\n",
      "37295   .\\.ipynb_checkpoints\\comp20230-Lab9-Graphs-checkpoint.ipynb\n",
      "4531    .\\.ipynb_checkpoints\\Linked-List(Queue)-checkpoint.ipynb\n",
      "268926  .\\.ipynb_checkpoints\n",
      "2753940 .\\AlgorithmsNotesForProfessionals.pdf\n",
      "8192    .\\bikedb.db\n",
      "16799   .\\comp20230-lab1-solution.ipynb\n",
      "21222   .\\comp20230-lab2-solution.ipynb\n",
      "22334   .\\comp20230-lab3-solution.ipynb\n",
      "40250   .\\comp20230-lab4-solution.ipynb\n",
      "16799   .\\comp20230-lab5-solution.ipynb\n",
      "11443   .\\comp20230-Lab6-Sorting-solutions.ipynb\n",
      "39044   .\\comp20230-Lab7-Graphs-solutions.ipynb.txt\n",
      "8454231 .\\Computer-Networks---A-Tanenbaum---5th-edition.pdf\n",
      "58674280 .\\Data_Communication_and_Networking_by_Behrouz.A.Forouzan_4th.edition.pdf\n",
      "6503984 .\\Dependencies\\Installers\\2013_vcredist_x86.exe\n",
      "915128  .\\Dependencies\\Installers\\WinPcap_4_1_3.exe\n",
      "7419112 .\\Dependencies\\Installers\n",
      "7419112 .\\Dependencies\n",
      "282     .\\desktop.ini\n",
      "161578655 .\\Digital Circuit by Anand Kumar.pdf\n",
      "1686    .\\JAVAP\\.classpath\n",
      "153     .\\JAVAP\\.idea\\codeStyles\\codeStyleConfig.xml\n",
      "153     .\\JAVAP\\.idea\\codeStyles\n",
      "138     .\\JAVAP\\.idea\\encodings.xml\n",
      "261     .\\JAVAP\\.idea\\misc.xml\n",
      "257     .\\JAVAP\\.idea\\modules.xml\n",
      "7537    .\\JAVAP\\.idea\\workspace.xml\n",
      "12442   .\\JAVAP\\.idea\n",
      "381     .\\JAVAP\\.project\n",
      "6148    .\\JAVAP\\bin\\case_study\\.DS_Store\n",
      "1459    .\\JAVAP\\bin\\case_study\\TestArrayList1.class\n",
      "1526    .\\JAVAP\\bin\\case_study\\TestArrayList2.class\n",
      "1875    .\\JAVAP\\bin\\case_study\\TestHashSet.class\n",
      "15104   .\\JAVAP\\bin\\case_study\n",
      "1836    .\\JAVAP\\bin\\chapter11_examples\\Circle.class\n",
      "1495    .\\JAVAP\\bin\\chapter11_examples\\GeometricObject.class\n",
      "1252    .\\JAVAP\\bin\\chapter11_examples\\PolymorphismAndCastingDemo1.class\n",
      "1834    .\\JAVAP\\bin\\chapter11_examples\\PolymorphismAndCastingDemo2.class\n",
      "1281    .\\JAVAP\\bin\\chapter11_examples\\Rectangle.class\n",
      "2412    .\\JAVAP\\bin\\chapter11_examples\\TestCircleRectangle.class\n",
      "14206   .\\JAVAP\\bin\\chapter11_examples\n",
      "1850    .\\JAVAP\\bin\\chapter12_examples_1\\Circle.class\n",
      "890     .\\JAVAP\\bin\\chapter12_examples_1\\Divide1.class\n",
      "1219    .\\JAVAP\\bin\\chapter12_examples_1\\Divide2.class\n",
      "1202    .\\JAVAP\\bin\\chapter12_examples_1\\Divide3.class\n",
      "1534    .\\JAVAP\\bin\\chapter12_examples_1\\GeometricObject.class\n",
      "1339    .\\JAVAP\\bin\\chapter12_examples_1\\ReadNumber1.class\n",
      "1273    .\\JAVAP\\bin\\chapter12_examples_1\\ReadNumber2.class\n",
      "1382    .\\JAVAP\\bin\\chapter12_examples_1\\TestCircle1.class\n",
      "1682    .\\JAVAP\\bin\\chapter12_examples_1\\TestCircle2.class\n",
      "16467   .\\JAVAP\\bin\\chapter12_examples_1\n",
      "1246    .\\JAVAP\\bin\\chapter12_examples_2\\ReadData.class\n",
      "1754    .\\JAVAP\\bin\\chapter12_examples_2\\TestFile.class\n",
      "1248    .\\JAVAP\\bin\\chapter12_examples_2\\WriteData.class\n",
      "8344    .\\JAVAP\\bin\\chapter12_examples_2\n",
      "1485    .\\JAVAP\\bin\\chapter13_examples_1\\Circle.class\n",
      "1534    .\\JAVAP\\bin\\chapter13_examples_1\\GeometricObject.class\n",
      "1664    .\\JAVAP\\bin\\chapter13_examples_1\\Rectangle.class\n",
      "1546    .\\JAVAP\\bin\\chapter13_examples_1\\TestGeometricObject.class\n",
      "10325   .\\JAVAP\\bin\\chapter13_examples_1\n",
      "1124    .\\JAVAP\\bin\\chapter13_examples_2\\ComparableRectangle.class\n",
      "1534    .\\JAVAP\\bin\\chapter13_examples_2\\GeometricObject.class\n",
      "1664    .\\JAVAP\\bin\\chapter13_examples_2\\Rectangle.class\n",
      "1293    .\\JAVAP\\bin\\chapter13_examples_2\\SortRectangles.class\n",
      "9711    .\\JAVAP\\bin\\chapter13_examples_2\n",
      "347     .\\JAVAP\\bin\\chapter13_examples_4\\Animal.class\n",
      "515     .\\JAVAP\\bin\\chapter13_examples_4\\Chicken.class\n",
      "906     .\\JAVAP\\bin\\chapter13_examples_4\\TestAnimal.class\n",
      "500     .\\JAVAP\\bin\\chapter13_examples_4\\Tiger.class\n",
      "6364    .\\JAVAP\\bin\\chapter13_examples_4\n",
      "328     .\\JAVAP\\bin\\chapter13_examples_5\\Animal.class\n",
      "419     .\\JAVAP\\bin\\chapter13_examples_5\\Apple.class\n",
      "550     .\\JAVAP\\bin\\chapter13_examples_5\\Chicken.class\n",
      "160     .\\JAVAP\\bin\\chapter13_examples_5\\Edible.class\n",
      "322     .\\JAVAP\\bin\\chapter13_examples_5\\Fruit.class\n",
      "423     .\\JAVAP\\bin\\chapter13_examples_5\\Orange.class\n",
      "1059    .\\JAVAP\\bin\\chapter13_examples_5\\TestEdible.class\n",
      "409     .\\JAVAP\\bin\\chapter13_examples_5\\Tiger.class\n",
      "7766    .\\JAVAP\\bin\\chapter13_examples_5\n",
      "940     .\\JAVAP\\bin\\chapter2_examples\\ComputeArea.class\n",
      "1182    .\\JAVAP\\bin\\chapter2_examples\\ComputeAverage.class\n",
      "2122    .\\JAVAP\\bin\\chapter2_examples\n",
      "1166    .\\JAVAP\\bin\\chapter3_examples\\ComputeArea.class\n",
      "1167    .\\JAVAP\\bin\\chapter3_examples\\LeapYear.class\n",
      "1290    .\\JAVAP\\bin\\chapter3_examples\\SubtractionTest.class\n",
      "1470    .\\JAVAP\\bin\\chapter3_examples\\TestBooleanOperators.class\n",
      "9189    .\\JAVAP\\bin\\chapter3_examples\n",
      "1491    .\\JAVAP\\bin\\chapter4_examples\\HexDigit2Dec.class\n",
      "1386    .\\JAVAP\\bin\\chapter4_examples\\OrderTwoCities.class\n",
      "2877    .\\JAVAP\\bin\\chapter4_examples\n",
      "1220    .\\JAVAP\\bin\\chapter5_examples\\DisplayPattern.class\n",
      "1391    .\\JAVAP\\bin\\chapter5_examples\\RepeatAdditionQuiz1.class\n",
      "1392    .\\JAVAP\\bin\\chapter5_examples\\RepeatAdditionQuiz2.class\n",
      "1330    .\\JAVAP\\bin\\chapter5_examples\\RepeatAdditionQuiz3.class\n",
      "1645    .\\JAVAP\\bin\\chapter5_examples\\ReplaceLetters.class\n",
      "1130    .\\JAVAP\\bin\\chapter5_examples\\SentinelValue.class\n",
      "12204   .\\JAVAP\\bin\\chapter5_examples\n",
      "812     .\\JAVAP\\bin\\chapter6_examples\\MyMath.class\n",
      "963     .\\JAVAP\\bin\\chapter6_examples\\TestMax.class\n",
      "1123    .\\JAVAP\\bin\\chapter6_examples\\TestMyMath.class\n",
      "1004    .\\JAVAP\\bin\\chapter6_examples\\TestPassByValue.class\n",
      "1870    .\\JAVAP\\bin\\chapter6_examples\\ValidateCCStubs.class\n",
      "9868    .\\JAVAP\\bin\\chapter6_examples\n",
      "1275    .\\JAVAP\\bin\\chapter7_examples\\ArrayReferenceTest.class\n",
      "1895    .\\JAVAP\\bin\\chapter7_examples\\CountLettersInArray.class\n",
      "1522    .\\JAVAP\\bin\\chapter7_examples\\LottoTickets.class\n",
      "1038    .\\JAVAP\\bin\\chapter7_examples\\TestPassArray1.class\n",
      "1046    .\\JAVAP\\bin\\chapter7_examples\\TestPassArray2.class\n",
      "1098    .\\JAVAP\\bin\\chapter7_examples\\TestPassPrimitive.class\n",
      "11970   .\\JAVAP\\bin\\chapter7_examples\n",
      "1798    .\\JAVAP\\bin\\chapter8_examples\\PassTwoDimensionalArray.class\n",
      "1798    .\\JAVAP\\bin\\chapter8_examples\n",
      "1111    .\\JAVAP\\bin\\chapter9_examples\\Circle.class\n",
      "775     .\\JAVAP\\bin\\chapter9_examples\\CircleWithStaticMembers.class\n",
      "816     .\\JAVAP\\bin\\chapter9_examples\\MyMath.class\n",
      "1280    .\\JAVAP\\bin\\chapter9_examples\\TestCircle.class\n",
      "1341    .\\JAVAP\\bin\\chapter9_examples\\TestCircleWithStaticMembers.class\n",
      "1123    .\\JAVAP\\bin\\chapter9_examples\\TestMyMath.class\n",
      "1407    .\\JAVAP\\bin\\chapter9_examples\\TestPassObject1.class\n",
      "1389    .\\JAVAP\\bin\\chapter9_examples\\TestPassObject2.class\n",
      "1221    .\\JAVAP\\bin\\chapter9_examples\\TestTV.class\n",
      "1513    .\\JAVAP\\bin\\chapter9_examples\\TotalArea.class\n",
      "1320    .\\JAVAP\\bin\\chapter9_examples\\TV.class\n",
      "17392   .\\JAVAP\\bin\\chapter9_examples\n",
      "1192    .\\JAVAP\\bin\\practical1\\Q1.class\n",
      "1307    .\\JAVAP\\bin\\practical1\\Q2.class\n",
      "1205    .\\JAVAP\\bin\\practical1\\Q3.class\n",
      "1311    .\\JAVAP\\bin\\practical1\\Q4.class\n",
      "1161    .\\JAVAP\\bin\\practical1\\Q5.class\n",
      "1252    .\\JAVAP\\bin\\practical1\\Q6.class\n",
      "11524   .\\JAVAP\\bin\\practical1\n",
      "1234    .\\JAVAP\\bin\\practical2\\Q1.class\n",
      "1300    .\\JAVAP\\bin\\practical2\\Q2.class\n",
      "1316    .\\JAVAP\\bin\\practical2\\Q3.class\n",
      "1335    .\\JAVAP\\bin\\practical2\\Q4.class\n",
      "1504    .\\JAVAP\\bin\\practical2\\Q5.class\n",
      "2031    .\\JAVAP\\bin\\practical2\\Q6a.class\n",
      "1834    .\\JAVAP\\bin\\practical2\\Q6b.class\n",
      "14650   .\\JAVAP\\bin\\practical2\n",
      "6148    .\\JAVAP\\bin\\practical3\\.DS_Store\n",
      "1501    .\\JAVAP\\bin\\practical3\\Q1.class\n",
      "1336    .\\JAVAP\\bin\\practical3\\Q2.class\n",
      "1500    .\\JAVAP\\bin\\practical3\\Q3.class\n",
      "1536    .\\JAVAP\\bin\\practical3\\Q4.class\n",
      "1173    .\\JAVAP\\bin\\practical3\\Q5a.class\n",
      "1177    .\\JAVAP\\bin\\practical3\\Q5b.class\n",
      "1221    .\\JAVAP\\bin\\practical3\\Q5c.class\n",
      "1225    .\\JAVAP\\bin\\practical3\\Q5d.class\n",
      "20913   .\\JAVAP\\bin\\practical3\n",
      "6148    .\\JAVAP\\bin\\practical4\\.DS_Store\n"
     ]
    },
    {
     "name": "stdout",
     "output_type": "stream",
     "text": [
      "798     .\\JAVAP\\bin\\practical4\\Q1.class\n",
      "845     .\\JAVAP\\bin\\practical4\\Q2.class\n",
      "1409    .\\JAVAP\\bin\\practical4\\Q3.class\n",
      "2360    .\\JAVAP\\bin\\practical4\\ValidateCC.class\n",
      "15656   .\\JAVAP\\bin\\practical4\n",
      "6148    .\\JAVAP\\bin\\practical5\\.DS_Store\n",
      "1896    .\\JAVAP\\bin\\practical5\\Q1.class\n",
      "1410    .\\JAVAP\\bin\\practical5\\Q2.class\n",
      "2336    .\\JAVAP\\bin\\practical5\\Q3.class\n",
      "2606    .\\JAVAP\\bin\\practical5\\Q4.class\n",
      "18492   .\\JAVAP\\bin\\practical5\n",
      "6148    .\\JAVAP\\bin\\practical6\\.DS_Store\n",
      "2007    .\\JAVAP\\bin\\practical6\\Account.class\n",
      "1865    .\\JAVAP\\bin\\practical6\\CheckingAccount.class\n",
      "1888    .\\JAVAP\\bin\\practical6\\Circle.class\n",
      "3989    .\\JAVAP\\bin\\practical6\\Q2_Solution.class\n",
      "2032    .\\JAVAP\\bin\\practical6\\RegularPolygon.class\n",
      "1054    .\\JAVAP\\bin\\practical6\\SavingsAccount.class\n",
      "1393    .\\JAVAP\\bin\\practical6\\TestAccount.class\n",
      "1374    .\\JAVAP\\bin\\practical6\\TestCircle.class\n",
      "2109    .\\JAVAP\\bin\\practical6\\TestRegularPolygon.class\n",
      "2192    .\\JAVAP\\bin\\practical6\\TestRegularPolygon2.class\n",
      "30147   .\\JAVAP\\bin\\practical6\n",
      "6148    .\\JAVAP\\bin\\practical8_solutions\\.DS_Store\n",
      "1618    .\\JAVAP\\bin\\practical8_solutions\\Circle.class\n",
      "2030    .\\JAVAP\\bin\\practical8_solutions\\GeometricObject.class\n",
      "1962    .\\JAVAP\\bin\\practical8_solutions\\Rectangle.class\n",
      "143     .\\JAVAP\\bin\\practical8_solutions\\Rotatable.class\n",
      "141     .\\JAVAP\\bin\\practical8_solutions\\Scalable.class\n",
      "2137    .\\JAVAP\\bin\\practical8_solutions\\Test.class\n",
      "18275   .\\JAVAP\\bin\\practical8_solutions\n",
      "776     .\\JAVAP\\bin\\test_examples\\Q1.class\n",
      "1312    .\\JAVAP\\bin\\test_examples\\Q1_Solution.class\n",
      "1110    .\\JAVAP\\bin\\test_examples\\Q2.class\n",
      "1672    .\\JAVAP\\bin\\test_examples\\Q2_Solution.class\n",
      "8966    .\\JAVAP\\bin\\test_examples\n",
      "1201    .\\JAVAP\\bin\\test_solutions\\Q1.class\n",
      "1296    .\\JAVAP\\bin\\test_solutions\\Q2.class\n",
      "1038    .\\JAVAP\\bin\\test_solutions\\Q3.class\n",
      "7631    .\\JAVAP\\bin\\test_solutions\n",
      "120     .\\JAVAP\\bin\\__MACOSX\\case_study\\._.DS_Store\n",
      "120     .\\JAVAP\\bin\\__MACOSX\\case_study\n",
      "120     .\\JAVAP\\bin\\__MACOSX\\practical3\\._.DS_Store\n",
      "120     .\\JAVAP\\bin\\__MACOSX\\practical3\n",
      "120     .\\JAVAP\\bin\\__MACOSX\\practical4\\._.DS_Store\n",
      "120     .\\JAVAP\\bin\\__MACOSX\\practical4\n",
      "120     .\\JAVAP\\bin\\__MACOSX\\practical5\\._.DS_Store\n",
      "120     .\\JAVAP\\bin\\__MACOSX\\practical5\n",
      "120     .\\JAVAP\\bin\\__MACOSX\\practical6\\._.DS_Store\n",
      "120     .\\JAVAP\\bin\\__MACOSX\\practical6\n",
      "120     .\\JAVAP\\bin\\__MACOSX\\practical8_solutions\\._.DS_Store\n",
      "120     .\\JAVAP\\bin\\__MACOSX\\practical8_solutions\n",
      "4816    .\\JAVAP\\bin\\__MACOSX\n",
      "314969  .\\JAVAP\\bin\n",
      "6148    .\\JAVAP\\case_study\\case_study\\.DS_Store\n",
      "1031    .\\JAVAP\\case_study\\case_study\\TestArrayList1.java\n",
      "566     .\\JAVAP\\case_study\\case_study\\TestArrayList2.java\n",
      "977     .\\JAVAP\\case_study\\case_study\\TestHashSet.java\n",
      "12818   .\\JAVAP\\case_study\\case_study\n",
      "120     .\\JAVAP\\case_study\\__MACOSX\\case_study\\._.DS_Store\n",
      "120     .\\JAVAP\\case_study\\__MACOSX\\case_study\n",
      "120     .\\JAVAP\\case_study\\__MACOSX\n",
      "12938   .\\JAVAP\\case_study\n",
      "1206    .\\JAVAP\\chapter11_examples\\chapter11_examples\\Circle.java\n",
      "1224    .\\JAVAP\\chapter11_examples\\chapter11_examples\\GeometricObject.java\n",
      "892     .\\JAVAP\\chapter11_examples\\chapter11_examples\\PolymorphismAndCastingDemo1.java\n",
      "1169    .\\JAVAP\\chapter11_examples\\chapter11_examples\\PolymorphismAndCastingDemo2.java\n",
      "1224    .\\JAVAP\\chapter11_examples\\chapter11_examples\\Rectangle.java\n",
      "1536    .\\JAVAP\\chapter11_examples\\chapter11_examples\\TestCircleRectangle.java\n",
      "11347   .\\JAVAP\\chapter11_examples\\chapter11_examples\n",
      "11347   .\\JAVAP\\chapter11_examples\n",
      "1516    .\\JAVAP\\chapter12_examples_1\\chapter12_examples_1\\Circle.java\n",
      "284     .\\JAVAP\\chapter12_examples_1\\chapter12_examples_1\\Divide1.java\n",
      "565     .\\JAVAP\\chapter12_examples_1\\chapter12_examples_1\\Divide2.java\n",
      "528     .\\JAVAP\\chapter12_examples_1\\chapter12_examples_1\\Divide3.java\n",
      "1330    .\\JAVAP\\chapter12_examples_1\\chapter12_examples_1\\GeometricObject.java\n",
      "934     .\\JAVAP\\chapter12_examples_1\\chapter12_examples_1\\ReadNumber1.java\n",
      "818     .\\JAVAP\\chapter12_examples_1\\chapter12_examples_1\\ReadNumber2.java\n",
      "661     .\\JAVAP\\chapter12_examples_1\\chapter12_examples_1\\TestCircle1.java\n",
      "1054    .\\JAVAP\\chapter12_examples_1\\chapter12_examples_1\\TestCircle2.java\n",
      "11786   .\\JAVAP\\chapter12_examples_1\\chapter12_examples_1\n",
      "11786   .\\JAVAP\\chapter12_examples_1\n",
      "807     .\\JAVAP\\chapter12_examples_2\\chapter12_examples_2\\ReadData.java\n",
      "880     .\\JAVAP\\chapter12_examples_2\\chapter12_examples_2\\TestFile.java\n",
      "837     .\\JAVAP\\chapter12_examples_2\\chapter12_examples_2\\WriteData.java\n",
      "6620    .\\JAVAP\\chapter12_examples_2\\chapter12_examples_2\n",
      "6620    .\\JAVAP\\chapter12_examples_2\n",
      "1152    .\\JAVAP\\chapter13_examples_1\\chapter13_examples_1\\Circle.java\n",
      "1330    .\\JAVAP\\chapter13_examples_1\\chapter13_examples_1\\GeometricObject.java\n",
      "1416    .\\JAVAP\\chapter13_examples_1\\chapter13_examples_1\\Rectangle.java\n",
      "890     .\\JAVAP\\chapter13_examples_1\\chapter13_examples_1\\TestGeometricObject.java\n",
      "8884    .\\JAVAP\\chapter13_examples_1\\chapter13_examples_1\n",
      "8884    .\\JAVAP\\chapter13_examples_1\n",
      "894     .\\JAVAP\\chapter13_examples_2\\chapter13_examples_2\\ComparableRectangle.java\n",
      "1330    .\\JAVAP\\chapter13_examples_2\\chapter13_examples_2\\GeometricObject.java\n",
      "1416    .\\JAVAP\\chapter13_examples_2\\chapter13_examples_2\\Rectangle.java\n",
      "602     .\\JAVAP\\chapter13_examples_2\\chapter13_examples_2\\SortRectangles.java\n",
      "8338    .\\JAVAP\\chapter13_examples_2\\chapter13_examples_2\n",
      "8338    .\\JAVAP\\chapter13_examples_2\n",
      "930     .\\JAVAP\\chapter13_examples_4\\chapter13_examples_4\\TestAnimal.java\n",
      "930     .\\JAVAP\\chapter13_examples_4\\chapter13_examples_4\n",
      "930     .\\JAVAP\\chapter13_examples_4\n",
      "1533    .\\JAVAP\\chapter13_examples_5\\chapter13_examples_5\\TestEdible.java\n",
      "1533    .\\JAVAP\\chapter13_examples_5\\chapter13_examples_5\n",
      "1533    .\\JAVAP\\chapter13_examples_5\n",
      "424     .\\JAVAP\\chapter2_examples\\chapter2_examples\\ComputeArea.java\n",
      "732     .\\JAVAP\\chapter2_examples\\chapter2_examples\\ComputeAverage.java\n",
      "1156    .\\JAVAP\\chapter2_examples\\chapter2_examples\n",
      "1156    .\\JAVAP\\chapter2_examples\n",
      "911     .\\JAVAP\\chapter3_examples\\chapter3_examples\\ComputeArea.java\n",
      "762     .\\JAVAP\\chapter3_examples\\chapter3_examples\\LeapYear.java\n",
      "1106    .\\JAVAP\\chapter3_examples\\chapter3_examples\\SubtractionTest.java\n",
      "1083    .\\JAVAP\\chapter3_examples\\chapter3_examples\\TestBooleanOperators.java\n",
      "7958    .\\JAVAP\\chapter3_examples\\chapter3_examples\n",
      "7958    .\\JAVAP\\chapter3_examples\n",
      "933     .\\JAVAP\\chapter4_examples\\chapter4_examples\\HexDigit2Dec.java\n",
      "849     .\\JAVAP\\chapter4_examples\\chapter4_examples\\OrderTwoCities.java\n",
      "1782    .\\JAVAP\\chapter4_examples\\chapter4_examples\n",
      "1782    .\\JAVAP\\chapter4_examples\n",
      "855     .\\JAVAP\\chapter5_examples\\chapter5_examples\\DisplayPattern.java\n",
      "1067    .\\JAVAP\\chapter5_examples\\chapter5_examples\\RepeatAdditionQuiz1.java\n",
      "985     .\\JAVAP\\chapter5_examples\\chapter5_examples\\RepeatAdditionQuiz2.java\n",
      "966     .\\JAVAP\\chapter5_examples\\chapter5_examples\\RepeatAdditionQuiz3.java\n",
      "962     .\\JAVAP\\chapter5_examples\\chapter5_examples\\ReplaceLetters.java\n",
      "854     .\\JAVAP\\chapter5_examples\\chapter5_examples\\SentinelValue.java\n",
      "9785    .\\JAVAP\\chapter5_examples\\chapter5_examples\n",
      "9785    .\\JAVAP\\chapter5_examples\n",
      "782     .\\JAVAP\\chapter6_examples\\chapter6_examples\\MyMath.java\n",
      "552     .\\JAVAP\\chapter6_examples\\chapter6_examples\\TestMax.java\n",
      "728     .\\JAVAP\\chapter6_examples\\chapter6_examples\\TestMyMath.java\n",
      "534     .\\JAVAP\\chapter6_examples\\chapter6_examples\\TestPassByValue.java\n",
      "1590    .\\JAVAP\\chapter6_examples\\chapter6_examples\\ValidateCCStubs.java\n",
      "8282    .\\JAVAP\\chapter6_examples\\chapter6_examples\n",
      "8282    .\\JAVAP\\chapter6_examples\n",
      "626     .\\JAVAP\\chapter7_examples\\chapter7_examples\\ArrayReferenceTest.java\n",
      "2015    .\\JAVAP\\chapter7_examples\\chapter7_examples\\CountLettersInArray.java\n",
      "2579    .\\JAVAP\\chapter7_examples\\chapter7_examples\\LottoTickets.java\n",
      "640     .\\JAVAP\\chapter7_examples\\chapter7_examples\\TestPassArray1.java\n",
      "689     .\\JAVAP\\chapter7_examples\\chapter7_examples\\TestPassArray2.java\n",
      "546     .\\JAVAP\\chapter7_examples\\chapter7_examples\\TestPassPrimitive.java\n",
      "11191   .\\JAVAP\\chapter7_examples\\chapter7_examples\n",
      "11191   .\\JAVAP\\chapter7_examples\n",
      "1553    .\\JAVAP\\chapter8_examples\\chapter8_examples\\PassTwoDimensionalArray.java\n",
      "1553    .\\JAVAP\\chapter8_examples\\chapter8_examples\n",
      "1553    .\\JAVAP\\chapter8_examples\n",
      "828     .\\JAVAP\\chapter9_examples\\chapter9_examples\\Circle.java\n",
      "619     .\\JAVAP\\chapter9_examples\\chapter9_examples\\CircleWithStaticMembers.java\n",
      "878     .\\JAVAP\\chapter9_examples\\chapter9_examples\\MyMath.java\n",
      "722     .\\JAVAP\\chapter9_examples\\chapter9_examples\\TestCircle.java\n",
      "840     .\\JAVAP\\chapter9_examples\\chapter9_examples\\TestCircleWithStaticMembers.java\n",
      "831     .\\JAVAP\\chapter9_examples\\chapter9_examples\\TestMyMath.java\n",
      "774     .\\JAVAP\\chapter9_examples\\chapter9_examples\\TestPassObject1.java\n",
      "778     .\\JAVAP\\chapter9_examples\\chapter9_examples\\TestPassObject2.java\n",
      "540     .\\JAVAP\\chapter9_examples\\chapter9_examples\\TestTV.java\n",
      "1301    .\\JAVAP\\chapter9_examples\\chapter9_examples\\TotalArea.java\n",
      "1209    .\\JAVAP\\chapter9_examples\\chapter9_examples\\TV.java\n",
      "13416   .\\JAVAP\\chapter9_examples\\chapter9_examples\n",
      "13416   .\\JAVAP\\chapter9_examples\n",
      "565     .\\JAVAP\\practical1\\practical1\\Q1.java\n",
      "708     .\\JAVAP\\practical1\\practical1\\Q2.java\n",
      "671     .\\JAVAP\\practical1\\practical1\\Q3.java\n",
      "772     .\\JAVAP\\practical1\\practical1\\Q4.java\n",
      "685     .\\JAVAP\\practical1\\practical1\\Q5.java\n",
      "700     .\\JAVAP\\practical1\\practical1\\Q6.java\n",
      "8197    .\\JAVAP\\practical1\\practical1\n",
      "8197    .\\JAVAP\\practical1\n",
      "645     .\\JAVAP\\practical2\\practical2\\Q1.java\n"
     ]
    },
    {
     "name": "stdout",
     "output_type": "stream",
     "text": [
      "631     .\\JAVAP\\practical2\\practical2\\Q2.java\n",
      "599     .\\JAVAP\\practical2\\practical2\\Q3.java\n",
      "691     .\\JAVAP\\practical2\\practical2\\Q4.java\n",
      "841     .\\JAVAP\\practical2\\practical2\\Q5.java\n",
      "1050    .\\JAVAP\\practical2\\practical2\\Q6a.java\n",
      "1166    .\\JAVAP\\practical2\\practical2\\Q6b.java\n",
      "9719    .\\JAVAP\\practical2\\practical2\n",
      "9719    .\\JAVAP\\practical2\n",
      "6148    .\\JAVAP\\practical3\\practical3\\.DS_Store\n",
      "991     .\\JAVAP\\practical3\\practical3\\Q1.java\n",
      "587     .\\JAVAP\\practical3\\practical3\\Q2.java\n",
      "931     .\\JAVAP\\practical3\\practical3\\Q3.java\n",
      "869     .\\JAVAP\\practical3\\practical3\\Q4.java\n",
      "469     .\\JAVAP\\practical3\\practical3\\Q5a.java\n",
      "477     .\\JAVAP\\practical3\\practical3\\Q5b.java\n",
      "485     .\\JAVAP\\practical3\\practical3\\Q5c.java\n",
      "494     .\\JAVAP\\practical3\\practical3\\Q5d.java\n",
      "15547   .\\JAVAP\\practical3\\practical3\n",
      "120     .\\JAVAP\\practical3\\__MACOSX\\practical3\\._.DS_Store\n",
      "120     .\\JAVAP\\practical3\\__MACOSX\\practical3\n",
      "120     .\\JAVAP\\practical3\\__MACOSX\n",
      "15667   .\\JAVAP\\practical3\n",
      "6148    .\\JAVAP\\practical4\\practical4\\.DS_Store\n",
      "859     .\\JAVAP\\practical4\\practical4\\Q1.java\n",
      "956     .\\JAVAP\\practical4\\practical4\\Q2.java\n",
      "775     .\\JAVAP\\practical4\\practical4\\Q3.java\n",
      "2616    .\\JAVAP\\practical4\\practical4\\ValidateCC.java\n",
      "15450   .\\JAVAP\\practical4\\practical4\n",
      "120     .\\JAVAP\\practical4\\__MACOSX\\practical4\\._.DS_Store\n",
      "120     .\\JAVAP\\practical4\\__MACOSX\\practical4\n",
      "120     .\\JAVAP\\practical4\\__MACOSX\n",
      "15570   .\\JAVAP\\practical4\n",
      "6148    .\\JAVAP\\practical5\\practical5\\.DS_Store\n",
      "1353    .\\JAVAP\\practical5\\practical5\\Q1.java\n",
      "1900    .\\JAVAP\\practical5\\practical5\\Q2.java\n",
      "1978    .\\JAVAP\\practical5\\practical5\\Q3.java\n",
      "2879    .\\JAVAP\\practical5\\practical5\\Q4.java\n",
      "18354   .\\JAVAP\\practical5\\practical5\n",
      "120     .\\JAVAP\\practical5\\__MACOSX\\practical5\\._.DS_Store\n",
      "120     .\\JAVAP\\practical5\\__MACOSX\\practical5\n",
      "120     .\\JAVAP\\practical5\\__MACOSX\n",
      "18474   .\\JAVAP\\practical5\n",
      "6148    .\\JAVAP\\practical6\\practical6\\.DS_Store\n",
      "1746    .\\JAVAP\\practical6\\practical6\\Account.java\n",
      "1371    .\\JAVAP\\practical6\\practical6\\CheckingAccount.java\n",
      "1675    .\\JAVAP\\practical6\\practical6\\Circle.java\n",
      "3806    .\\JAVAP\\practical6\\practical6\\Q2_Solution.java\n",
      "1834    .\\JAVAP\\practical6\\practical6\\RegularPolygon.java\n",
      "652     .\\JAVAP\\practical6\\practical6\\SavingsAccount.java\n",
      "676     .\\JAVAP\\practical6\\practical6\\TestAccount.java\n",
      "957     .\\JAVAP\\practical6\\practical6\\TestCircle.java\n",
      "1621    .\\JAVAP\\practical6\\practical6\\TestRegularPolygon.java\n",
      "1722    .\\JAVAP\\practical6\\practical6\\TestRegularPolygon2.java\n",
      "26304   .\\JAVAP\\practical6\\practical6\n",
      "120     .\\JAVAP\\practical6\\__MACOSX\\practical6\\._.DS_Store\n",
      "120     .\\JAVAP\\practical6\\__MACOSX\\practical6\n",
      "120     .\\JAVAP\\practical6\\__MACOSX\n",
      "26424   .\\JAVAP\\practical6\n",
      "6148    .\\JAVAP\\practical8_solutions\\practical8_solutions\\.DS_Store\n",
      "1302    .\\JAVAP\\practical8_solutions\\practical8_solutions\\Circle.java\n",
      "1623    .\\JAVAP\\practical8_solutions\\practical8_solutions\\GeometricObject.java\n",
      "1773    .\\JAVAP\\practical8_solutions\\practical8_solutions\\Rectangle.java\n",
      "94      .\\JAVAP\\practical8_solutions\\practical8_solutions\\Rotatable.java\n",
      "105     .\\JAVAP\\practical8_solutions\\practical8_solutions\\Scalable.java\n",
      "1485    .\\JAVAP\\practical8_solutions\\practical8_solutions\\Test.java\n",
      "16626   .\\JAVAP\\practical8_solutions\\practical8_solutions\n",
      "120     .\\JAVAP\\practical8_solutions\\__MACOSX\\practical8_solutions\\._.DS_Store\n",
      "120     .\\JAVAP\\practical8_solutions\\__MACOSX\\practical8_solutions\n",
      "120     .\\JAVAP\\practical8_solutions\\__MACOSX\n",
      "16746   .\\JAVAP\\practical8_solutions\n",
      "444     .\\JAVAP\\test_examples\\test_examples\\Q1.java\n",
      "632     .\\JAVAP\\test_examples\\test_examples\\Q1_Solution.java\n",
      "804     .\\JAVAP\\test_examples\\test_examples\\Q2.java\n",
      "1728    .\\JAVAP\\test_examples\\test_examples\\Q2_Solution.java\n",
      "7704    .\\JAVAP\\test_examples\\test_examples\n",
      "7704    .\\JAVAP\\test_examples\n",
      "557     .\\JAVAP\\test_solutions\\test_solutions\\Q1.java\n",
      "728     .\\JAVAP\\test_solutions\\test_solutions\\Q2.java\n",
      "786     .\\JAVAP\\test_solutions\\test_solutions\\Q3.java\n",
      "6167    .\\JAVAP\\test_solutions\\test_solutions\n",
      "6167    .\\JAVAP\\test_solutions\n",
      "579837  .\\JAVAP\n",
      "404     .\\keyboard_teleop_stage.launch\n",
      "71440   .\\lib\\CommandLine.dll\n",
      "414480  .\\lib\\EulaModule.dll\n",
      "283408  .\\lib\\log4net.dll\n",
      "38160   .\\lib\\PcapDotNet.Base.dll\n",
      "98064   .\\lib\\PcapDotNet.Core.dll\n",
      "25360   .\\lib\\PcapDotNet.Core.Extensions.dll\n",
      "508176  .\\lib\\PcapDotNet.Packets.dll\n",
      "61200   .\\lib\\POC.Common.dll\n",
      "53008   .\\lib\\SolarWinds.Logging.dll\n",
      "256272  .\\lib\\SolarWinds.NetPath.Agent.Probe.dll\n",
      "32528   .\\lib\\SolarWinds.NetPath.Client.Utility.dll\n",
      "72976   .\\lib\\SolarWinds.NetPath.Common.dll\n",
      "102672  .\\lib\\SolarWinds.NetPath.Data.dll\n",
      "124176  .\\lib\\SolarWinds.NetPath.Data.Repository.dll\n",
      "86288   .\\lib\\SolarWinds.NetPath.Data.Storage.dll\n",
      "113936  .\\lib\\SolarWinds.NetPath.Integration.dll\n",
      "26384   .\\lib\\SolarWinds.NetPath.IpAddress.dll\n",
      "30480   .\\lib\\SolarWinds.NetPath.Pollers.dll\n",
      "50448   .\\lib\\SolarWinds.NetPath.Probe.Contract.dll\n",
      "44816   .\\lib\\SolarWinds.NetPath.Probing.Common.dll\n",
      "25360   .\\lib\\SolarWinds.NetPath.RouteIdentities.dll\n",
      "45840   .\\lib\\SolarWinds.NetPath.Utility.dll\n",
      "35600   .\\lib\\SolarWinds.Orion.NetPath.Logging.dll\n",
      "487696  .\\lib\\SolarWinds.Serialization.dll\n",
      "3096960 .\\lib\n",
      "14983232 .\\MIT.Fundamentals.of.Machine.Learning.for.Predictive.Data.Analytics.0262029448.pdf\n",
      "12764   .\\OracleCloudEstimate (1).pdf\n",
      "14604   .\\Personal Learning Journal_18200143.docx\n",
      "245220999 .\\Photos\\BwC S2E1 - Yuvraj Singh _ Yuvi burns down the kitchen! (Part 1)_Full-HD.mp4\n",
      "244089231 .\\Photos\\BwC S2E2 - Yuvraj Singh _ Yuvi vs. Hazel Keech! (Part 2)_Full-HD.mp4\n",
      "217078821 .\\Photos\\BwC S3E2 - Sunil Gavaskar _ Sunny's greatest cricketing memories!_Full-HD.mp4\n",
      "328491407 .\\Photos\\BwC S3E3 - Matthew Hayden _ Masala chai with a secret powder_Full-HD.mp4\n",
      "180450542 .\\Photos\\BwC S3E7 - Ashish Nehra _ De taali Nehraji!_Full-HD.mp4\n",
      "227573185 .\\Photos\\BwC S4E4 - Suresh Raina _ Raina hai mere dil mein_Full-HD.mp4\n",
      "262368158 .\\Photos\\BwC S4E8 - Rohit Sharma _ The Hitman (Part 1)_Full-HD.mp4\n",
      "202045585 .\\Photos\\BwC S4E9 - Rohit Sharma _ The Hitman (Part 2)_Full-HD.mp4\n",
      "246004603 .\\Photos\\BwC S5E1 -  Sachin Tendulkar - Part 1_Full-HD.mp4\n",
      "202082210 .\\Photos\\BwC S5E13 - Sourav Ganguly - Part 1_Full-HD.mp4\n",
      "221628329 .\\Photos\\BwC S5E14 - Sourav Ganguly - Part 2_Full-HD.mp4\n",
      "189850154 .\\Photos\\BwC S5E2 -  Sachin Tendulkar - Part 2_Full-HD.mp4\n",
      "164335668 .\\Photos\\BwC S5E9 - Ravi Shastri_Full-HD.mp4\n",
      "203068037 .\\Photos\\Bwc.mp4\n",
      "3134295121 .\\Photos\n",
      "10500071 .\\primes1\\primes1.txt\n",
      "10500071 .\\primes1\n",
      "6268528 .\\psiphon3.exe\n",
      "6127216 .\\psiphon3.exe.orig\n",
      "44544   .\\resume.doc\n",
      "512     .\\rufus_files\\syslinux-6.03\\20171017\\ldlinux.bss\n",
      "68599   .\\rufus_files\\syslinux-6.03\\20171017\\ldlinux.sys\n",
      "69111   .\\rufus_files\\syslinux-6.03\\20171017\n",
      "512     .\\rufus_files\\syslinux-6.03\\ldlinux.bss\n",
      "68599   .\\rufus_files\\syslinux-6.03\\ldlinux.sys\n",
      "138222  .\\rufus_files\\syslinux-6.03\n",
      "512     .\\rufus_files\\syslinux-6.04\\20180818\\ldlinux.bss\n",
      "68121   .\\rufus_files\\syslinux-6.04\\20180818\\ldlinux.sys\n",
      "68633   .\\rufus_files\\syslinux-6.04\\20180818\n",
      "512     .\\rufus_files\\syslinux-6.04\\ldlinux.bss\n",
      "68121   .\\rufus_files\\syslinux-6.04\\ldlinux.sys\n",
      "137266  .\\rufus_files\\syslinux-6.04\n",
      "275488  .\\rufus_files\n",
      "1696    .\\Ubuntu.pem\n",
      "153     .\\untitled\\.idea\\codeStyles\\codeStyleConfig.xml\n",
      "153     .\\untitled\\.idea\\codeStyles\n",
      "138     .\\untitled\\.idea\\encodings.xml\n",
      "276     .\\untitled\\.idea\\misc.xml\n",
      "263     .\\untitled\\.idea\\modules.xml\n",
      "4796    .\\untitled\\.idea\\workspace.xml\n",
      "9722    .\\untitled\\.idea\n",
      "0       .\\untitled\\src\n",
      "433     .\\untitled\\untitled.iml\n",
      "14251   .\\untitled\n",
      "3415589377 .\n"
     ]
    },
    {
     "data": {
      "text/plain": [
       "3415589377"
      ]
     },
     "execution_count": 17,
     "metadata": {},
     "output_type": "execute_result"
    }
   ],
   "source": [
    "import os\n",
    "\n",
    "def disk_usage(path):\n",
    "  \"\"\"Return the number of bytes used by a file/folder and any descendents.\"\"\"\n",
    "  total = os.path.getsize(path)                  # account for direct usage\n",
    "  if os.path.isdir(path):                        # if this is a directory,\n",
    "    for filename in os.listdir(path):            # then for each child:\n",
    "      childpath = os.path.join(path, filename)   # compose full path to child\n",
    "      total += disk_usage(childpath)             # add child's usage to total\n",
    "\n",
    "  print ('{0:<7}'.format(total), path)           # descriptive output (optional)\n",
    "  return total  \n",
    "\n",
    "disk_usage('.')"
   ]
  },
  {
   "cell_type": "code",
   "execution_count": null,
   "metadata": {},
   "outputs": [],
   "source": []
  },
  {
   "cell_type": "code",
   "execution_count": null,
   "metadata": {},
   "outputs": [],
   "source": []
  },
  {
   "cell_type": "code",
   "execution_count": null,
   "metadata": {},
   "outputs": [],
   "source": []
  }
 ],
 "metadata": {
  "kernelspec": {
   "display_name": "Python 3",
   "language": "python",
   "name": "python3"
  },
  "language_info": {
   "codemirror_mode": {
    "name": "ipython",
    "version": 3
   },
   "file_extension": ".py",
   "mimetype": "text/x-python",
   "name": "python",
   "nbconvert_exporter": "python",
   "pygments_lexer": "ipython3",
   "version": "3.7.1"
  }
 },
 "nbformat": 4,
 "nbformat_minor": 2
}
