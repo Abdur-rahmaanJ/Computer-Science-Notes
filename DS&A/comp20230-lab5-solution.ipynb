{
 "cells": [
  {
   "cell_type": "markdown",
   "metadata": {},
   "source": [
    "# COMP20230 Lab 5: Circular Arrays and Hash Tables\n",
    "\n",
    "26th Febuary 2019"
   ]
  },
  {
   "cell_type": "markdown",
   "metadata": {},
   "source": [
    "# Queue ADT using a Circular Array\n",
    "\n",
    "We looked at a circular array as a way of implementing a queue. We saw that we could loop around a fixed size array reusing empty elements from the beginning as they were dequeued. \n",
    "\n",
    "Here is an example implmentation. Note the way we computed the index for the head and tail:\n",
    "\n",
    "$$h = (h + 1) \\mod arraysize$$\n",
    "\n",
    "can be seen in the queue and dequeue methods."
   ]
  },
  {
   "cell_type": "code",
   "execution_count": 22,
   "metadata": {},
   "outputs": [
    {
     "name": "stdout",
     "output_type": "stream",
     "text": [
      "1\n",
      "The circular buffer is full.\n",
      "dequeue first element:  1\n"
     ]
    }
   ],
   "source": [
    "class CircularQueue:\n",
    "    def __init__(self, capacity):\n",
    "        self.buffer = [0] * capacity\n",
    "        self.size = 0\n",
    "        self.capacity = capacity\n",
    "        self.head_index = 0\n",
    "        self.tail_index = 0\n",
    "\n",
    "    def enqueue(self, value):\n",
    "        if self.size == self.capacity:\n",
    "            raise Exception('The circular buffer is full.')\n",
    "        self.buffer[self.tail_index] = value\n",
    "        self.tail_index = (self.tail_index + 1) % self.capacity\n",
    "        self.size += 1\n",
    "\n",
    "    def dequeue(self):\n",
    "        if self.size == 0:\n",
    "            raise Exception('Popping from an empty circular buffer.')\n",
    "        ret = self.buffer[self.head_index]\n",
    "        self.head_index = (self.head_index + 1) % self.capacity\n",
    "        self.size -= 1\n",
    "        return ret\n",
    "\n",
    "    def head(self):\n",
    "        if self.size == 0:\n",
    "            raise Exception('Peeking into an empty circular buffer.')\n",
    "        return self.buffer[self.head_index]\n",
    "    \n",
    "q=CircularQueue(5)\n",
    "q.enqueue(1);q.enqueue(2);q.enqueue(3);q.enqueue(4);q.enqueue(5);\n",
    "print(q.head())\n",
    "\n",
    "try:\n",
    "    q.enqueue(6);        # it is full so this should fail and raise an exception\n",
    "except Exception as e:\n",
    "    print(e)\n",
    "print(\"dequeue first element: \", q.dequeue())\n",
    "try:\n",
    "    q.enqueue(6);        # it is not full so this should succeed this time\n",
    "except Exception as e:\n",
    "    print(e)\n",
    "\n"
   ]
  },
  {
   "cell_type": "markdown",
   "metadata": {},
   "source": [
    "# Exercise \n",
    "\n",
    "1. Write a Queue class implementation that uses a fixed length array and resizes it when it fills.\n",
    "2. Consider how might you write a unit test to compare the performance of the two queues with an automated test?"
   ]
  },
  {
   "cell_type": "markdown",
   "metadata": {},
   "source": [
    "# Hash tables using linear probing and chaining\n",
    "\n",
    "How can we finding data if our keys are not integers in the range from 0 to N – 1? We can use a hash function to map general keys to corresponding indices in a table. A **hash function** $h$ maps keys of a given type to integers in a fixed interval [0, N - 1].\n",
    "\n",
    "Example: $$(x) = x \\mod N$$ is a hash function for integer keys\n",
    "The integer $h(x)$ is called the hash value of key. \n",
    "\n",
    "A hash table for a given key type consists of:\n",
    "* Hash function h\n",
    "* Array (called table) of size $N$\n",
    "\n",
    "When implementing a hash table, the goal is to store item $(k, o)$ at index $i = h(k)$\n",
    "\n",
    "\n",
    "## Collision Handling\n",
    "\n",
    "Collisions occur when different elements are mapped to the same cell.\n",
    "\n",
    "**Separate Chaining:** we let each cell in the table point to a linked list of entries that map there. Separate chaining is simple, but requires additional memory outside the table.\n",
    "\n",
    "### Operations for Hash Table ADT\n",
    "Operations to a list-based map at each cell,"
   ]
  },
  {
   "cell_type": "raw",
   "metadata": {},
   "source": [
    "function get(k):\n",
    "INPUT key k\n",
    "OUTPUT value\n",
    "return A[h(k)].get(k)\n",
    "\n",
    "function put(k,v):\n",
    "INPUT key k, value v\n",
    "OUTPUT none\n",
    "t = A[h(k)].put(k,v) \n",
    "if null then  # k is a new key\n",
    "    n = n + 1\n",
    "\n",
    "function remove(k):\n",
    "INPUT key k\n",
    "OUTPUT none\n",
    "t = A[h(k)].remove(k)\n",
    "if not null then # k was found\n",
    "    n = n - 1\n"
   ]
  },
  {
   "cell_type": "markdown",
   "metadata": {},
   "source": [
    "## Linear Probing\n",
    "\n",
    "Open addressing means the colliding item is placed in a different cell of the table. Linear probing handles collisions by placing the colliding item in the next (circularly) available table cell. Each table cell inspected is referred to as a \"probe\". Colliding items lump together, causing future collisions to cause a longer sequence of probes.\n",
    "\n",
    "### Search Operation with Linear Probing\n",
    "\n",
    "Consider a hash table $A$ that uses linear probing. To find an element we need to a get operation that will use the hash value $h(k)$ to begin the search for the given key $k$.\n",
    "\n",
    "get(k):\n",
    "* We start at cell $h(k)$ \n",
    "* We probe consecutive locations until one of the following occurs\n",
    "* An item with key $k$ is found, or\n",
    "* An empty cell is found, or\n",
    "* $N$ cells have been unsuccessfully probed \n"
   ]
  },
  {
   "cell_type": "code",
   "execution_count": null,
   "metadata": {},
   "outputs": [],
   "source": [
    "Algorithm get(k):\n",
    "INPUT key k\n",
    "OUTPUT none\n",
    "    i <- h(k)\n",
    "    p <- 0\n",
    "    repeat\n",
    "        c <- A[i]\n",
    "        if c = Null/None\n",
    "            return null\n",
    "        else if c.getKey () = k\n",
    "            return c.getValue()\n",
    "        else\n",
    "            i <- (i + 1) mod N\n",
    "        p <- p + 1\n",
    "    until p = N\n",
    "    return null"
   ]
  },
  {
   "cell_type": "markdown",
   "metadata": {},
   "source": [
    "### Updates with Linear Probing\n",
    "\n",
    "To handle insertions and deletions, we introduce a special object, called $AVAILABLE$, which replaces deleted elements\n",
    "\n",
    "remove(k):\n",
    "\n",
    "* We search for an entry with key $k$ \n",
    "* If such an entry $(k, o)$ is found, we replace it with the special item $AVAILABLE$ and we return element $o$\n",
    "* Else, we return null\n",
    "\n",
    "put(k, o):\n",
    "\n",
    "* We throw an exception if the table is full\n",
    "* We start at cell $h(k)$\n",
    "* We probe consecutive cells until one of the following occurs\n",
    "* A cell $i$ is found that is either empty or stores $AVAILABLE$, or\n",
    "* $N$ cells have been unsuccessfully probed\n",
    "* We store $(k, o)$ in cell $i$\n"
   ]
  },
  {
   "cell_type": "markdown",
   "metadata": {},
   "source": [
    "# Exercise: Computing the storage locations for a hash table\n",
    "\n",
    "We want to take a set of keys, $k$, and compute the hash values $h(k)$ using chaining and linear probing and insert the value in their appropriate locations.\n",
    "\n",
    "For the keys we will use integers:"
   ]
  },
  {
   "cell_type": "code",
   "execution_count": 12,
   "metadata": {},
   "outputs": [],
   "source": [
    "k=[6, 66, 14, 8, 90, 10, 99, 20, 16, 1 , 13]"
   ]
  },
  {
   "cell_type": "markdown",
   "metadata": {},
   "source": [
    "We will declare an empty list for the hashing function to populate and we will use a simple hash of $$h(i)=2i+6 \\mod 11$$\n",
    "\n",
    "it is mod 11 as the circular array is 11 elements, i.e. len(k)."
   ]
  },
  {
   "cell_type": "code",
   "execution_count": 11,
   "metadata": {},
   "outputs": [
    {
     "name": "stdout",
     "output_type": "stream",
     "text": [
      "index:\t [0, 1, 2, 3, 4, 5, 6, 7, 8, 9, 10]\n",
      "h: \t [7, 6, 1, 0, 10, 4, 6, 2, 5, 8, 10]\n"
     ]
    }
   ],
   "source": [
    "h = []\n",
    "\n",
    "for i,idx in enumerate(k):    \n",
    "\n",
    "    h.append((2*idx+6) % 11) # h(i)=2i+6 mod 11\n",
    "\n",
    "print(\"index:\\t\",list(range(0,len(k))))\n",
    "print(\"h: \\t\",h)"
   ]
  },
  {
   "cell_type": "markdown",
   "metadata": {},
   "source": [
    "1. Write a function to fill a table $t$ with the elements of $k$ using linear probing. Print the resulting table contents after each insertion. The output should look something like this:"
   ]
  },
  {
   "cell_type": "raw",
   "metadata": {},
   "source": [
    "[None, None, None, None, None, None, None, 6, None, None, None]\n",
    "[None, None, None, None, None, None, 66, 6, None, None, None]\n",
    "[None, 14, None, None, None, None, 66, 6, None, None, None]\n",
    "[8, 14, None, None, None, None, 66, 6, None, None, None]\n",
    "[8, 14, None, None, None, None, 66, 6, None, None, 90]\n",
    "[8, 14, None, None, 10, None, 66, 6, None, None, 90]\n",
    "[8, 14, None, None, 10, None, 66, 6, 99, None, 90]\n",
    "[8, 14, 20, None, 10, None, 66, 6, 99, None, 90]\n",
    "[8, 14, 20, None, 10, 16, 66, 6, 99, None, 90]\n",
    "[8, 14, 20, None, 10, 16, 66, 6, 99, 1, 90]\n",
    "[8, 14, 20, 13, 10, 16, 66, 6, 99, 1, 90]\n",
    "[8, 14, 20, 13, 10, 16, 66, 6, 99, 1, 90]"
   ]
  },
  {
   "cell_type": "markdown",
   "metadata": {},
   "source": [
    "2. Write a function to fill a table $t$ with the elements of $k$ using chaining. Use a list of lists to store the elements chained. Print the resulting output. The output should look something like this:"
   ]
  },
  {
   "cell_type": "raw",
   "metadata": {},
   "source": [
    "[[8], [14], [20], [], [10], [16], [66, 99], [6], [1], [], [90, 13]]"
   ]
  },
  {
   "cell_type": "markdown",
   "metadata": {},
   "source": [
    "or this:\n",
    "<table>\n",
    "<tbody>\n",
    "<tr><td style=\"text-align: right;\">8</td><td style=\"text-align: right;\">14</td><td style=\"text-align: right;\">20</td><td></td><td style=\"text-align: right;\">10</td><td style=\"text-align: right;\">16</td><td style=\"text-align: right;\">66</td><td style=\"text-align: right;\">6</td><td style=\"text-align: right;\">1</td><td></td><td style=\"text-align: right;\">90</td></tr>\n",
    "<tr><td style=\"text-align: right;\"> </td><td style=\"text-align: right;\">  </td><td style=\"text-align: right;\">  </td><td></td><td style=\"text-align: right;\">  </td><td style=\"text-align: right;\">  </td><td style=\"text-align: right;\">99</td><td style=\"text-align: right;\"> </td><td style=\"text-align: right;\"> </td><td></td><td style=\"text-align: right;\">13</td></tr>\n",
    "</tbody>\n",
    "</table>"
   ]
  },
  {
   "cell_type": "markdown",
   "metadata": {},
   "source": [
    "# Solutions"
   ]
  },
  {
   "cell_type": "code",
   "execution_count": 3,
   "metadata": {},
   "outputs": [],
   "source": [
    "def linearprobe(k, h):\n",
    "    table= [None] * len(k)\n",
    "    for i,kn in enumerate(k):\n",
    "        if table[h[i]] is None:\n",
    "            table[h[i]] = k[i]\n",
    "        else:\n",
    "            p = h[i]\n",
    "            for j in enumerate(k):\n",
    "                p = (p + 1) % len(k)  # keep looking (cyclically)\n",
    "                if table[p] is None:\n",
    "                    table[p] = k[i]\n",
    "                    break\n",
    "        print(table)\n",
    "    return table"
   ]
  },
  {
   "cell_type": "code",
   "execution_count": 4,
   "metadata": {},
   "outputs": [
    {
     "name": "stdout",
     "output_type": "stream",
     "text": [
      "[None, None, None, None, None, None, None, 6, None, None, None]\n",
      "[None, None, None, None, None, None, 66, 6, None, None, None]\n",
      "[None, 14, None, None, None, None, 66, 6, None, None, None]\n",
      "[8, 14, None, None, None, None, 66, 6, None, None, None]\n",
      "[8, 14, None, None, None, None, 66, 6, None, None, 90]\n",
      "[8, 14, None, None, 10, None, 66, 6, None, None, 90]\n",
      "[8, 14, None, None, 10, None, 66, 6, 99, None, 90]\n",
      "[8, 14, 20, None, 10, None, 66, 6, 99, None, 90]\n",
      "[8, 14, 20, None, 10, 16, 66, 6, 99, None, 90]\n",
      "[8, 14, 20, None, 10, 16, 66, 6, 99, 1, 90]\n",
      "[8, 14, 20, 13, 10, 16, 66, 6, 99, 1, 90]\n",
      "[8, 14, 20, 13, 10, 16, 66, 6, 99, 1, 90]\n"
     ]
    }
   ],
   "source": [
    "t=linearprobe(k, h)\n",
    "print(t)"
   ]
  },
  {
   "cell_type": "code",
   "execution_count": 5,
   "metadata": {},
   "outputs": [],
   "source": [
    "def chaining(k,h):\n",
    "    table=[]\n",
    "    for i in range(len(k)):\n",
    "        table.append([])\n",
    "    for i,kn in enumerate(k):\n",
    "        table[h[i]].append(kn) \n",
    "    return table"
   ]
  },
  {
   "cell_type": "code",
   "execution_count": 6,
   "metadata": {},
   "outputs": [
    {
     "name": "stdout",
     "output_type": "stream",
     "text": [
      "[[8], [14], [20], [], [10], [16], [66, 99], [6], [1], [], [90, 13]]\n"
     ]
    }
   ],
   "source": [
    "c=chaining(k, h)\n",
    "print(c)"
   ]
  },
  {
   "cell_type": "code",
   "execution_count": 24,
   "metadata": {},
   "outputs": [
    {
     "data": {
      "text/html": [
       "<table>\n",
       "<tbody>\n",
       "<tr><td style=\"text-align: right;\">8</td><td style=\"text-align: right;\">14</td><td style=\"text-align: right;\">20</td><td></td><td style=\"text-align: right;\">10</td><td style=\"text-align: right;\">16</td><td style=\"text-align: right;\">66</td><td style=\"text-align: right;\">6</td><td style=\"text-align: right;\">1</td><td></td><td style=\"text-align: right;\">90</td></tr>\n",
       "<tr><td style=\"text-align: right;\"> </td><td style=\"text-align: right;\">  </td><td style=\"text-align: right;\">  </td><td></td><td style=\"text-align: right;\">  </td><td style=\"text-align: right;\">  </td><td style=\"text-align: right;\">99</td><td style=\"text-align: right;\"> </td><td style=\"text-align: right;\"> </td><td></td><td style=\"text-align: right;\">13</td></tr>\n",
       "</tbody>\n",
       "</table>"
      ],
      "text/plain": [
       "<IPython.core.display.HTML object>"
      ]
     },
     "metadata": {},
     "output_type": "display_data"
    },
    {
     "name": "stdout",
     "output_type": "stream",
     "text": [
      "<table>\n",
      "<tbody>\n",
      "<tr><td style=\"text-align: right;\">8</td><td style=\"text-align: right;\">14</td><td style=\"text-align: right;\">20</td><td></td><td style=\"text-align: right;\">10</td><td style=\"text-align: right;\">16</td><td style=\"text-align: right;\">66</td><td style=\"text-align: right;\">6</td><td style=\"text-align: right;\">1</td><td></td><td style=\"text-align: right;\">90</td></tr>\n",
      "<tr><td style=\"text-align: right;\"> </td><td style=\"text-align: right;\">  </td><td style=\"text-align: right;\">  </td><td></td><td style=\"text-align: right;\">  </td><td style=\"text-align: right;\">  </td><td style=\"text-align: right;\">99</td><td style=\"text-align: right;\"> </td><td style=\"text-align: right;\"> </td><td></td><td style=\"text-align: right;\">13</td></tr>\n",
      "</tbody>\n",
      "</table>\n"
     ]
    }
   ],
   "source": [
    "def printresult(atable,theformat):\n",
    "    '''pass in a 2D list to print\n",
    "    atable 2D list of lists- will be transposed\n",
    "    theformat is 'html' or 'latex' '''\n",
    "    import itertools\n",
    "    atable_transpose=list(map(list, itertools.zip_longest(*atable)))\n",
    "    import tabulate # pip install tabulate\n",
    "    from IPython.display import HTML, display\n",
    "    display(HTML(tabulate.tabulate(atable_transpose, tablefmt=theformat)))\n",
    "    return HTML(tabulate.tabulate(atable_transpose, tablefmt=theformat))\n",
    "\n",
    "text=printresult(c,'html')\n",
    "print(text.data)"
   ]
  },
  {
   "cell_type": "code",
   "execution_count": null,
   "metadata": {},
   "outputs": [],
   "source": []
  }
 ],
 "metadata": {
  "kernelspec": {
   "display_name": "Python 3",
   "language": "python",
   "name": "python3"
  },
  "language_info": {
   "codemirror_mode": {
    "name": "ipython",
    "version": 3
   },
   "file_extension": ".py",
   "mimetype": "text/x-python",
   "name": "python",
   "nbconvert_exporter": "python",
   "pygments_lexer": "ipython3",
   "version": "3.6.7"
  }
 },
 "nbformat": 4,
 "nbformat_minor": 2
}
