{
 "cells": [
  {
   "cell_type": "code",
   "execution_count": 1,
   "metadata": {},
   "outputs": [],
   "source": [
    "# THIS IS THE SCRAPING OF THE DATA FROM THE WEBSITE\n",
    "import requests\n",
    "from bs4 import BeautifulSoup as bs4\n"
   ]
  },
  {
   "cell_type": "code",
   "execution_count": 2,
   "metadata": {},
   "outputs": [],
   "source": [
    "base_url  = 'http://mlg.ucd.ie/modules/yalp'\n",
    "result  = requests.get(base_url)\n",
    "parsed_result = bs4(result.text)\n",
    "#print(parsed_result)"
   ]
  },
  {
   "cell_type": "code",
   "execution_count": 4,
   "metadata": {},
   "outputs": [
    {
     "name": "stdout",
     "output_type": "stream",
     "text": [
      "[{'Category': 'Automotive', 'business_list_url': 'http://mlg.ucd.ie/modules/yalp/automotive_list.html'}, {'Category': 'Bars', 'business_list_url': 'http://mlg.ucd.ie/modules/yalp/bars_list.html'}, {'Category': 'Health and medical', 'business_list_url': 'http://mlg.ucd.ie/modules/yalp/health_medical_list.html'}, {'Category': 'Hotels and travel', 'business_list_url': 'http://mlg.ucd.ie/modules/yalp/hotels_travel_list.html'}, {'Category': 'Restaurants', 'business_list_url': 'http://mlg.ucd.ie/modules/yalp/restaurants_list.html'}]\n"
     ]
    }
   ],
   "source": [
    "# Make a list of dictionaries to have a recrod for each category\n",
    "# Making dictionaries to support json format for easy processing\n",
    "# next url endpoint is made adding endpoint to base url\n",
    "category_data = [ { 'Category' : link.text.split(': ')[1], 'business_list_url' : '/'.join([base_url,link['href']])} for link in parsed_result.find_all('a')]\n",
    "\n",
    "# print(category_data)"
   ]
  },
  {
   "cell_type": "code",
   "execution_count": 5,
   "metadata": {},
   "outputs": [],
   "source": [
    "# get Data for next page - business list page : add this data to category data\n",
    "# checking all pages one by one \n",
    "for record in category_data:\n",
    "    business_data = []\n",
    "    raw_data = requests.get(record.get('business_list_url'))\n",
    "    bs4_obj = bs4(raw_data.text)\n",
    "    for link in bs4_obj.find_all('a'):\n",
    "        business_data.append({'reviews_url' : '/'.join([base_url, link.get('href')]),'business_name' :link.text })\n",
    "    record['business_data'] = business_data\n"
   ]
  },
  {
   "cell_type": "code",
   "execution_count": 6,
   "metadata": {},
   "outputs": [],
   "source": [
    "# this one going to the LAST page where we have the reviews - where reviews are present for a categlory \n",
    "import re\n",
    "# get to next level i.e. reviews page for each business\n",
    "for category_record in category_data:\n",
    "    for business in category_record.get('business_data'):\n",
    "        reviews_data = []\n",
    "        reviews_url  = business.get('reviews_url')\n",
    "        raw_data = requests.get(reviews_url)\n",
    "        bs4_obj =  bs4(raw_data.text)\n",
    "        for review in bs4_obj.find_all( \"div\", { \"class\" : \"review\"}):\n",
    "            #details = review.find(\"p\")\n",
    "            #bs4_review_obj = bs4(review.text)\n",
    "            review_details = {}\n",
    "            for paragraph in review.find_all(\"p\"):\n",
    "                attribute = paragraph.get('class')[0]\n",
    "                if attribute == 'review-top':\n",
    "                    date = re.search('\\d{4}-\\d{2}-\\d{2}',paragraph.text).group()\n",
    "                    reviewer = paragraph.text.split('by ')[1]\n",
    "                    review_details['date'] = date\n",
    "                    review_details['reviewer'] = reviewer\n",
    "                elif attribute == 'text':\n",
    "                    review_details['text'] = paragraph.text\n",
    "                elif attribute =='stars':\n",
    "                    stars = paragraph.img.get('alt')\n",
    "                    review_details['stars'] = stars\n",
    "            reviews_data.append(review_details)\n",
    "        #add review data to business for mapping\n",
    "        business['reviews_data'] = reviews_data"
   ]
  },
  {
   "cell_type": "code",
   "execution_count": 12,
   "metadata": {},
   "outputs": [
    {
     "name": "stdout",
     "output_type": "stream",
     "text": [
      "written file for - Automotive\n",
      "written file for - Bars\n",
      "written file for - Health and medical\n",
      "written file for - Hotels and travel\n",
      "written file for - Restaurants\n"
     ]
    }
   ],
   "source": [
    "# write all data in json file\n",
    "\n",
    "import json\n",
    "for data in category_data:\n",
    "    category_name = data.get('Category')\n",
    "    business_data = data.get('business_data')\n",
    "    with open(f\"./categories_reviews/{category_name}_reviews.json\", 'w') as category_file:\n",
    "        for business in business_data:\n",
    "            for review in business.get(\"reviews_data\"):\n",
    "                category_file.write(json.dumps(review) + ',')\n",
    "        print(f\"written file for - {category_name}\")"
   ]
  }
 ],
 "metadata": {
  "kernelspec": {
   "display_name": "Python 3",
   "language": "python",
   "name": "python3"
  },
  "language_info": {
   "codemirror_mode": {
    "name": "ipython",
    "version": 3
   },
   "file_extension": ".py",
   "mimetype": "text/x-python",
   "name": "python",
   "nbconvert_exporter": "python",
   "pygments_lexer": "ipython3",
   "version": "3.7.3"
  }
 },
 "nbformat": 4,
 "nbformat_minor": 2
}
