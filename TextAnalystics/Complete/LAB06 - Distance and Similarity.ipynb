{
 "cells": [
  {
   "cell_type": "markdown",
   "metadata": {
    "ExecuteTime": {
     "end_time": "2018-10-12T09:00:48.678207Z",
     "start_time": "2018-10-12T09:00:48.673223Z"
    }
   },
   "source": [
    "# COMP30810 - INTRO TO TEXT ANALYTICS\n",
    "> LECTURER: BINH THANH LE"
   ]
  },
  {
   "cell_type": "markdown",
   "metadata": {
    "toc": true
   },
   "source": [
    "<h1>Table of Contents<span class=\"tocSkip\"></span></h1>\n",
    "<div class=\"toc\"><ul class=\"toc-item\"><li><span><a href=\"#Understand-Distance-and-Similarity\" data-toc-modified-id=\"Understand-Distance-and-Similarity-1\"><span class=\"toc-item-num\">1&nbsp;&nbsp;</span>Understand Distance and Similarity</a></span><ul class=\"toc-item\"><li><span><a href=\"#Euclidean-Distance\" data-toc-modified-id=\"Euclidean-Distance-1.1\"><span class=\"toc-item-num\">1.1&nbsp;&nbsp;</span>Euclidean Distance</a></span></li><li><span><a href=\"#Manhattan-Distance\" data-toc-modified-id=\"Manhattan-Distance-1.2\"><span class=\"toc-item-num\">1.2&nbsp;&nbsp;</span>Manhattan Distance</a></span></li><li><span><a href=\"#Minkowski-Distance\" data-toc-modified-id=\"Minkowski-Distance-1.3\"><span class=\"toc-item-num\">1.3&nbsp;&nbsp;</span>Minkowski Distance</a></span></li><li><span><a href=\"#Cosine-Similarity\" data-toc-modified-id=\"Cosine-Similarity-1.4\"><span class=\"toc-item-num\">1.4&nbsp;&nbsp;</span>Cosine Similarity</a></span></li><li><span><a href=\"#Jaccard-Similarity\" data-toc-modified-id=\"Jaccard-Similarity-1.5\"><span class=\"toc-item-num\">1.5&nbsp;&nbsp;</span>Jaccard Similarity</a></span></li><li><span><a href=\"#Combine-into-One-Package\" data-toc-modified-id=\"Combine-into-One-Package-1.6\"><span class=\"toc-item-num\">1.6&nbsp;&nbsp;</span>Combine into One Package</a></span></li><li><span><a href=\"#Compare-to-Some-Libraries\" data-toc-modified-id=\"Compare-to-Some-Libraries-1.7\"><span class=\"toc-item-num\">1.7&nbsp;&nbsp;</span>Compare to Some Libraries</a></span><ul class=\"toc-item\"><li><span><a href=\"#SKLEARN\" data-toc-modified-id=\"SKLEARN-1.7.1\"><span class=\"toc-item-num\">1.7.1&nbsp;&nbsp;</span>SKLEARN</a></span></li><li><span><a href=\"#SCIPY\" data-toc-modified-id=\"SCIPY-1.7.2\"><span class=\"toc-item-num\">1.7.2&nbsp;&nbsp;</span>SCIPY</a></span></li></ul></li></ul></li><li><span><a href=\"#Apply-Similarity-Measurement-to-Text-Analytics\" data-toc-modified-id=\"Apply-Similarity-Measurement-to-Text-Analytics-2\"><span class=\"toc-item-num\">2&nbsp;&nbsp;</span>Apply Similarity Measurement to Text Analytics</a></span><ul class=\"toc-item\"><li><span><a href=\"#WORDNET---Distance-from-Word-to-Word\" data-toc-modified-id=\"WORDNET---Distance-from-Word-to-Word-2.1\"><span class=\"toc-item-num\">2.1&nbsp;&nbsp;</span>WORDNET - Distance from Word to Word</a></span></li><li><span><a href=\"#Find-the-Best-Similarity-for-Wordnet-Synsets\" data-toc-modified-id=\"Find-the-Best-Similarity-for-Wordnet-Synsets-2.2\"><span class=\"toc-item-num\">2.2&nbsp;&nbsp;</span>Find the Best Similarity for Wordnet Synsets</a></span></li><li><span><a href=\"#Deletions,-Insertions,-or-Substitutions:-The-Levenshtein-Distance\" data-toc-modified-id=\"Deletions,-Insertions,-or-Substitutions:-The-Levenshtein-Distance-2.3\"><span class=\"toc-item-num\">2.3&nbsp;&nbsp;</span>Deletions, Insertions, or Substitutions: The Levenshtein Distance</a></span></li><li><span><a href=\"#Distance-from-Vector-to-Vector\" data-toc-modified-id=\"Distance-from-Vector-to-Vector-2.4\"><span class=\"toc-item-num\">2.4&nbsp;&nbsp;</span>Distance from Vector to Vector</a></span><ul class=\"toc-item\"><li><span><a href=\"#Examples-with-4-Sentences\" data-toc-modified-id=\"Examples-with-4-Sentences-2.4.1\"><span class=\"toc-item-num\">2.4.1&nbsp;&nbsp;</span>Examples with 4 Sentences</a></span></li><li><span><a href=\"#Use-Our-Distance-Package\" data-toc-modified-id=\"Use-Our-Distance-Package-2.4.2\"><span class=\"toc-item-num\">2.4.2&nbsp;&nbsp;</span>Use Our Distance Package</a></span></li><li><span><a href=\"#Use-the-Sklearn-Package\" data-toc-modified-id=\"Use-the-Sklearn-Package-2.4.3\"><span class=\"toc-item-num\">2.4.3&nbsp;&nbsp;</span>Use the Sklearn Package</a></span></li></ul></li></ul></li><li><span><a href=\"#Working-with-Real-Data\" data-toc-modified-id=\"Working-with-Real-Data-3\"><span class=\"toc-item-num\">3&nbsp;&nbsp;</span>Working with Real Data</a></span><ul class=\"toc-item\"><li><span><a href=\"#LOAD-DATA\" data-toc-modified-id=\"LOAD-DATA-3.1\"><span class=\"toc-item-num\">3.1&nbsp;&nbsp;</span>LOAD DATA</a></span></li><li><span><a href=\"#Convert-data-from-RAW-to-Tokens\" data-toc-modified-id=\"Convert-data-from-RAW-to-Tokens-3.2\"><span class=\"toc-item-num\">3.2&nbsp;&nbsp;</span>Convert data from RAW to Tokens</a></span></li><li><span><a href=\"#Calculate-TF-IDF\" data-toc-modified-id=\"Calculate-TF-IDF-3.3\"><span class=\"toc-item-num\">3.3&nbsp;&nbsp;</span>Calculate TF-IDF</a></span></li><li><span><a href=\"#Cosine-Similarity-Matrix\" data-toc-modified-id=\"Cosine-Similarity-Matrix-3.4\"><span class=\"toc-item-num\">3.4&nbsp;&nbsp;</span>Cosine Similarity Matrix</a></span></li><li><span><a href=\"#Scatter-TF-IDF-Points-after-Using-Dimensional-Reduction-Techinques\" data-toc-modified-id=\"Scatter-TF-IDF-Points-after-Using-Dimensional-Reduction-Techinques-3.5\"><span class=\"toc-item-num\">3.5&nbsp;&nbsp;</span>Scatter TF-IDF Points after Using Dimensional Reduction Techinques</a></span></li></ul></li></ul></div>"
   ]
  },
  {
   "cell_type": "markdown",
   "metadata": {},
   "source": [
    "## Understand Distance and Similarity "
   ]
  },
  {
   "cell_type": "markdown",
   "metadata": {},
   "source": [
    "### Euclidean Distance"
   ]
  },
  {
   "cell_type": "markdown",
   "metadata": {},
   "source": [
    "In Cartesian coordinates, if p = (p1, p2,..., pn) and q = (q1, q2,..., qn) are two points in Euclidean n-space, then the distance (d) from p to q, or from q to p is given by the Pythagorean formula:\n",
    "\n",
    "<img src=\"Euclidean.svg\">"
   ]
  },
  {
   "cell_type": "code",
   "execution_count": 909,
   "metadata": {
    "ExecuteTime": {
     "end_time": "2018-10-13T11:13:57.317611Z",
     "start_time": "2018-10-13T11:13:57.309401Z"
    },
    "code_folding": []
   },
   "outputs": [],
   "source": [
    "from math import *\n",
    "def euclidean_distance(x,y):\n",
    "    return sqrt(sum(pow(a-b,2) for a, b in zip(x, y)))"
   ]
  },
  {
   "cell_type": "code",
   "execution_count": 910,
   "metadata": {
    "ExecuteTime": {
     "end_time": "2018-10-13T11:13:57.344437Z",
     "start_time": "2018-10-13T11:13:57.324682Z"
    }
   },
   "outputs": [
    {
     "data": {
      "text/plain": [
       "4.69041575982343"
      ]
     },
     "execution_count": 910,
     "metadata": {},
     "output_type": "execute_result"
    }
   ],
   "source": [
    "V1 = [1,5,0,0,5]\n",
    "V2 = [3,6,1,0,1]\n",
    "\n",
    "euclidean_distance(V1,V2)"
   ]
  },
  {
   "cell_type": "markdown",
   "metadata": {},
   "source": [
    "### Manhattan Distance"
   ]
  },
  {
   "cell_type": "markdown",
   "metadata": {},
   "source": [
    "The distance between two points measured along axes at right angles. In a plane with $p = (p_1, p_2)$ and $q = (q_1, q_2)$, it is $|p_1 - q_1| + |p_1 - q_2|$.\n",
    "\n",
    "<img src=\"Manhattan.svg\">"
   ]
  },
  {
   "cell_type": "code",
   "execution_count": 911,
   "metadata": {
    "ExecuteTime": {
     "end_time": "2018-10-13T11:13:57.738019Z",
     "start_time": "2018-10-13T11:13:57.724824Z"
    }
   },
   "outputs": [],
   "source": [
    "from math import*\n",
    " \n",
    "def manhattan_distance(x,y):\n",
    "    return sum(abs(a-b) for a,b in zip(x,y))"
   ]
  },
  {
   "cell_type": "code",
   "execution_count": 912,
   "metadata": {
    "ExecuteTime": {
     "end_time": "2018-10-13T11:13:57.768023Z",
     "start_time": "2018-10-13T11:13:57.747098Z"
    }
   },
   "outputs": [
    {
     "data": {
      "text/plain": [
       "8"
      ]
     },
     "execution_count": 912,
     "metadata": {},
     "output_type": "execute_result"
    }
   ],
   "source": [
    "manhattan_distance(V1,V2)"
   ]
  },
  {
   "cell_type": "markdown",
   "metadata": {},
   "source": [
    "### Minkowski Distance\n",
    "\n",
    "The Minkowski distance is a metric in a normed vector space which can be considered as a generalization of both the Euclidean distance and the Manhattan distance.\n",
    "\n",
    "The Minkowski distance of order $p$ between two points $X= (x_1,x_2,...,x_n)$ and $Y = (y_1,y_2,..., y_n)$ $\\in R^n$ is defined as:\n",
    "\n",
    "<img src=\"Minkowski.svg\">\n",
    "\n",
    "If $p=1$ : Manhattan distance\n",
    "\n",
    "If $p=2$ : Euclidean distance\n",
    "\n",
    "If $p \\to Inf$: Chebyshev distance"
   ]
  },
  {
   "cell_type": "code",
   "execution_count": 913,
   "metadata": {
    "ExecuteTime": {
     "end_time": "2018-10-13T11:13:57.788143Z",
     "start_time": "2018-10-13T11:13:57.772364Z"
    }
   },
   "outputs": [],
   "source": [
    "from math import *\n",
    "from decimal import Decimal\n",
    " \n",
    "def nth_root(value, n_root):\n",
    "    root_value = 1/float(n_root)\n",
    "    return round (Decimal(value) ** Decimal(root_value),3)\n",
    " \n",
    "def minkowski_distance(x,y,p_value):\n",
    "    return nth_root(sum(pow(abs(a-b),p_value) for a,b in zip(x, y)),p_value)\n"
   ]
  },
  {
   "cell_type": "code",
   "execution_count": 914,
   "metadata": {
    "ExecuteTime": {
     "end_time": "2018-10-13T11:13:57.817480Z",
     "start_time": "2018-10-13T11:13:57.801764Z"
    }
   },
   "outputs": [
    {
     "name": "stdout",
     "output_type": "stream",
     "text": [
      "8.000\n",
      "4.690\n",
      "4.198\n"
     ]
    }
   ],
   "source": [
    "print(minkowski_distance(V1,V2,1))  # Manhattan\n",
    "print(minkowski_distance(V1,V2,2))  # Euclidean\n",
    "print(minkowski_distance(V1,V2,3))  # "
   ]
  },
  {
   "cell_type": "markdown",
   "metadata": {},
   "source": [
    "### Cosine Similarity\n",
    "\n",
    "Cosine similarity is a measure of similarity between two non-zero vectors of an inner product space that measures the cosine of the angle between them.\n",
    "\n",
    "<img src=\"Cosine.svg\">"
   ]
  },
  {
   "cell_type": "code",
   "execution_count": 915,
   "metadata": {
    "ExecuteTime": {
     "end_time": "2018-10-13T11:13:57.834431Z",
     "start_time": "2018-10-13T11:13:57.822702Z"
    }
   },
   "outputs": [],
   "source": [
    "from math import *\n",
    " \n",
    "def square_rooted(x):\n",
    "    return round(sqrt(sum([a*a for a in x])),3)\n",
    " \n",
    "def cosine_similarity(x,y):\n",
    "    numerator = sum(a*b for a,b in zip(x,y))\n",
    "    denominator = square_rooted(x)*square_rooted(y)\n",
    "    return round(numerator/float(denominator),3)\n",
    " "
   ]
  },
  {
   "cell_type": "code",
   "execution_count": 916,
   "metadata": {
    "ExecuteTime": {
     "end_time": "2018-10-13T11:13:57.853946Z",
     "start_time": "2018-10-13T11:13:57.841000Z"
    }
   },
   "outputs": [
    {
     "data": {
      "text/plain": [
       "0.776"
      ]
     },
     "execution_count": 916,
     "metadata": {},
     "output_type": "execute_result"
    }
   ],
   "source": [
    "cosine_similarity(V1,V2)"
   ]
  },
  {
   "cell_type": "markdown",
   "metadata": {},
   "source": [
    "### Jaccard Similarity\n",
    "\n",
    "The Jaccard index, also known as Intersection over Union and the Jaccard similarity coefficient (originally coined coefficient de communauté by Paul Jaccard), is a statistic used for comparing the similarity and diversity of sample sets. The Jaccard coefficient measures similarity between finite sample sets, and is defined as the size of the intersection divided by the size of the union of the sample sets:\n",
    "\n",
    "<img src=\"Jaccard.svg\">\n",
    "\n",
    "<img src=https://upload.wikimedia.org/wikipedia/commons/1/1f/Intersection_of_sets_A_and_B.svg>\n",
    "<img src=https://upload.wikimedia.org/wikipedia/commons/e/ee/Union_of_sets_A_and_B.svg>"
   ]
  },
  {
   "cell_type": "code",
   "execution_count": 917,
   "metadata": {
    "ExecuteTime": {
     "end_time": "2018-10-13T11:13:57.872782Z",
     "start_time": "2018-10-13T11:13:57.859611Z"
    }
   },
   "outputs": [],
   "source": [
    "from math import *\n",
    " \n",
    "def jaccard_similarity(x,y): \n",
    "    intersection_cardinality = len(set.intersection(*[set(x), set(y)]))\n",
    "    union_cardinality = len(set.union(*[set(x), set(y)]))\n",
    "    return intersection_cardinality/float(union_cardinality)\n"
   ]
  },
  {
   "cell_type": "code",
   "execution_count": 918,
   "metadata": {
    "ExecuteTime": {
     "end_time": "2018-10-13T11:13:57.896532Z",
     "start_time": "2018-10-13T11:13:57.880870Z"
    }
   },
   "outputs": [
    {
     "data": {
      "text/plain": [
       "0.4"
      ]
     },
     "execution_count": 918,
     "metadata": {},
     "output_type": "execute_result"
    }
   ],
   "source": [
    "jaccard_similarity(V1,V2)"
   ]
  },
  {
   "cell_type": "markdown",
   "metadata": {},
   "source": [
    "### Combine into One Package"
   ]
  },
  {
   "cell_type": "code",
   "execution_count": 919,
   "metadata": {
    "ExecuteTime": {
     "end_time": "2018-10-13T11:13:57.936102Z",
     "start_time": "2018-10-13T11:13:57.904008Z"
    }
   },
   "outputs": [],
   "source": [
    "from math import*\n",
    "from decimal import Decimal\n",
    " \n",
    "class Similarity():\n",
    "    \"\"\" Five similarity measures function \"\"\"\n",
    "    def euclidean_distance(self,x,y):\n",
    "        \"\"\" return euclidean distance between two lists \"\"\"\n",
    "        return sqrt(sum(pow(a-b,2) for a, b in zip(x, y)))\n",
    "    def manhattan_distance(self,x,y):\n",
    "        \"\"\" return manhattan distance between two lists \"\"\"\n",
    "        return sum(abs(a-b) for a,b in zip(x,y))\n",
    " \n",
    "    def minkowski_distance(self,x,y,p_value):\n",
    "        \"\"\" return minkowski distance between two lists \"\"\"\n",
    "        return self.nth_root(sum(pow(abs(a-b),p_value) for a,b in zip(x, y)),\n",
    "           p_value)\n",
    " \n",
    "    def nth_root(self,value, n_root):\n",
    "        \"\"\" returns the n_root of an value \"\"\"\n",
    "        root_value = 1/float(n_root)\n",
    "        return round (Decimal(value) ** Decimal(root_value),3)\n",
    " \n",
    "    def cosine_similarity(self,x,y):\n",
    "        \"\"\" return cosine similarity between two lists \"\"\"\n",
    "        numerator = sum(a*b for a,b in zip(x,y))\n",
    "        denominator = self.square_rooted(x)*self.square_rooted(y)\n",
    "        return round(numerator/float(denominator),3)\n",
    " \n",
    "    def square_rooted(self,x):\n",
    "        \"\"\" return 3 rounded square rooted value \"\"\"\n",
    "        return round(sqrt(sum([a*a for a in x])),3)\n",
    " \n",
    "    def jaccard_similarity(self,x,y):\n",
    "        \"\"\" returns the jaccard similarity between two lists \"\"\"\n",
    "        intersection_cardinality = len(set.intersection(*[set(x), set(y)]))\n",
    "        union_cardinality = len(set.union(*[set(x), set(y)]))\n",
    "        return intersection_cardinality/float(union_cardinality)"
   ]
  },
  {
   "cell_type": "code",
   "execution_count": 920,
   "metadata": {
    "ExecuteTime": {
     "end_time": "2018-10-13T11:13:57.959684Z",
     "start_time": "2018-10-13T11:13:57.941377Z"
    }
   },
   "outputs": [
    {
     "name": "stdout",
     "output_type": "stream",
     "text": [
      "Euclidean distance = 4.69041575982343\n",
      "Cosine similarity = 0.776\n"
     ]
    }
   ],
   "source": [
    "measures = Similarity()\n",
    "\n",
    "print('Euclidean distance = ' + str(measures.euclidean_distance(V1,V2)))\n",
    "print('Cosine similarity = ' + str(measures.cosine_similarity(V1,V2)))\n",
    " "
   ]
  },
  {
   "cell_type": "markdown",
   "metadata": {},
   "source": [
    "### Compare to Some Libraries"
   ]
  },
  {
   "cell_type": "markdown",
   "metadata": {},
   "source": [
    "#### SKLEARN"
   ]
  },
  {
   "cell_type": "code",
   "execution_count": 921,
   "metadata": {},
   "outputs": [
    {
     "name": "stdout",
     "output_type": "stream",
     "text": [
      "Cosine Distance:0.22384299830461651\n",
      "Cosine Similarity= 0.7761570016953835\n",
      "Cosine Similarity MATRIX:\n",
      "[[1.       0.776157]\n",
      " [0.776157 1.      ]]\n"
     ]
    }
   ],
   "source": [
    "from sklearn.metrics.pairwise import cosine_distances, euclidean_distances\n",
    "cos_dist =  cosine_distances([V1],[V2])\n",
    "print('Cosine Distance:' + str(float(cos_dist)))\n",
    "cos_sim = 1 - float(cos_dist)\n",
    "print('Cosine Similarity= ' + str(cos_sim))\n",
    "\n",
    "## OR\n",
    "from sklearn.metrics.pairwise import cosine_similarity, euclidean_distances\n",
    "cos_sim =  cosine_similarity([V1,V2])\n",
    "print('Cosine Similarity MATRIX:')\n",
    "print(cos_sim)"
   ]
  },
  {
   "cell_type": "markdown",
   "metadata": {},
   "source": [
    "#### SCIPY"
   ]
  },
  {
   "cell_type": "code",
   "execution_count": 922,
   "metadata": {},
   "outputs": [
    {
     "name": "stdout",
     "output_type": "stream",
     "text": [
      "Cosine Distance:0.2238429983046164\n",
      "Cosine Similarity:0.7761570016953836\n"
     ]
    }
   ],
   "source": [
    "from scipy.spatial import distance\n",
    "print('Cosine Distance:' + str(distance.cosine(V1,V2)))\n",
    "print('Cosine Similarity:' + str(1 - distance.cosine(V1,V2)))"
   ]
  },
  {
   "cell_type": "markdown",
   "metadata": {},
   "source": [
    "## Apply Similarity Measurement to Text Analytics"
   ]
  },
  {
   "cell_type": "markdown",
   "metadata": {},
   "source": [
    "### WORDNET - Distance from Word to Word "
   ]
  },
  {
   "cell_type": "markdown",
   "metadata": {},
   "source": [
    "As of November 2012 WordNet's latest Online-version is 3.1. The database contains 155,327 words organized in 175,979 synsets for a total of 207,016 word-sense pairs; in compressed form, it is about 12 megabytes in size.\n",
    "\n",
    "WordNet® is a large lexical database of English. Nouns, verbs, adjectives and adverbs are grouped into sets of cognitive synonyms (synsets), each expressing a distinct concept. Synsets are interlinked by means of conceptual-semantic and lexical relations."
   ]
  },
  {
   "cell_type": "code",
   "execution_count": 923,
   "metadata": {},
   "outputs": [
    {
     "name": "stdout",
     "output_type": "stream",
     "text": [
      "Dog vs Cat  : 0.2\n",
      "Dog vs Puppy: 0.5\n",
      "Cat vs Puppy: 0.16666666666666666\n",
      "Cat vs Kitty: 0.043478260869565216\n"
     ]
    }
   ],
   "source": [
    "from nltk.corpus import wordnet as wn\n",
    "Dog = wn.synset('Dog.n.1')\n",
    "Cat = wn.synset('Cat.n.1')\n",
    "Puppy = wn.synset('Puppy.n.1')\n",
    "Kitty = wn.synset('Kitty.n.1')\n",
    "\n",
    "print('Dog vs Cat  : '+ str(Dog.path_similarity(cat)))\n",
    "print('Dog vs Puppy: ' + str(Dog.path_similarity(Puppy)))\n",
    "print('Cat vs Puppy: '+ str(Cat.path_similarity(Puppy)))\n",
    "print('Cat vs Kitty: '+ str(Cat.path_similarity(Kitty)))"
   ]
  },
  {
   "cell_type": "markdown",
   "metadata": {},
   "source": [
    "> Question: Why \"Kitty\" and \"Cat\" is the lowest similarity?\n",
    "\n",
    "We can check the tree of word in wordnet by using: http://wordnetweb.princeton.edu/perl/webwn\n",
    "\n",
    "Let's look at the 'cat' synset tree. Here, for POS = noun, NN=1, then 'cat' is"
   ]
  },
  {
   "cell_type": "code",
   "execution_count": 924,
   "metadata": {},
   "outputs": [
    {
     "name": "stdout",
     "output_type": "stream",
     "text": [
      "feline mammal usually having thick soft fur and no ability to roar: domestic cats; wildcats\n"
     ]
    }
   ],
   "source": [
    "print(wn.synset('Cat.n.01').definition())"
   ]
  },
  {
   "cell_type": "markdown",
   "metadata": {},
   "source": [
    "<img src=\"cat_wordnet.png\">"
   ]
  },
  {
   "cell_type": "markdown",
   "metadata": {},
   "source": [
    "But the 'Kitty' for POS=noun, NN=1, the definition is different."
   ]
  },
  {
   "cell_type": "code",
   "execution_count": 925,
   "metadata": {},
   "outputs": [
    {
     "name": "stdout",
     "output_type": "stream",
     "text": [
      "the combined stakes of the betters\n"
     ]
    }
   ],
   "source": [
    "print(wn.synset('Kitty.n.01').definition())"
   ]
  },
  {
   "cell_type": "markdown",
   "metadata": {},
   "source": [
    "<img src=\"kitty_wordnet.png\">"
   ]
  },
  {
   "cell_type": "markdown",
   "metadata": {},
   "source": [
    "So, for that case, we need to change the 'kitty' to 'kitty.n.4'"
   ]
  },
  {
   "cell_type": "code",
   "execution_count": 926,
   "metadata": {},
   "outputs": [
    {
     "name": "stdout",
     "output_type": "stream",
     "text": [
      "Dog vs Cat  : 0.2\n",
      "Dog vs Puppy: 0.5\n",
      "Cat vs Puppy: 0.16666666666666666\n",
      "Cat vs Kitty: 0.3333333333333333\n"
     ]
    }
   ],
   "source": [
    "from nltk.corpus import wordnet as wn\n",
    "Dog = wn.synset('Dog.n.1')\n",
    "Cat = wn.synset('Cat.n.1')\n",
    "Puppy = wn.synset('Puppy.n.1')\n",
    "\n",
    "print('Dog vs Cat  : '+ str(Dog.path_similarity(cat)))\n",
    "print('Dog vs Puppy: ' + str(Dog.path_similarity(Puppy)))\n",
    "print('Cat vs Puppy: '+ str(Cat.path_similarity(Puppy)))\n",
    "\n",
    "Kitty = wn.synset('Kitty.n.4')\n",
    "print('Cat vs Kitty: '+ str(Cat.path_similarity(Kitty)))"
   ]
  },
  {
   "cell_type": "markdown",
   "metadata": {},
   "source": [
    "### Find the Best Similarity for Wordnet Synsets"
   ]
  },
  {
   "cell_type": "code",
   "execution_count": 927,
   "metadata": {},
   "outputs": [],
   "source": [
    "def find_distance_wordnet(word1,word2):\n",
    "    from nltk.corpus import wordnet as wn\n",
    "    _similarity = 0\n",
    "    for eachsyn in wn.synsets(word1):\n",
    "        for eachsyn2 in wn.synsets(word2):\n",
    "            path_simi = (wn.path_similarity(eachsyn,eachsyn2))\n",
    "            if (path_simi != None):\n",
    "                if (_similarity < path_simi):\n",
    "                    _similarity = path_simi\n",
    "    return _similarity   "
   ]
  },
  {
   "cell_type": "code",
   "execution_count": 928,
   "metadata": {},
   "outputs": [
    {
     "name": "stdout",
     "output_type": "stream",
     "text": [
      "Dog vs Cat  : 0.2\n",
      "Dog vs Puppy: 0.5\n",
      "Cat vs Puppy: 0.16666666666666666\n",
      "Cat vs Kitty: 0.3333333333333333\n"
     ]
    }
   ],
   "source": [
    "print('Dog vs Cat  : '+ str(find_distance_wordnet('Dog','Cat')))\n",
    "print('Dog vs Puppy: ' + str(find_distance_wordnet('Dog','Puppy')))\n",
    "print('Cat vs Puppy: '+ str(find_distance_wordnet('Cat','Puppy')))\n",
    "print('Cat vs Kitty: '+ str(find_distance_wordnet('Cat','Kitty')))"
   ]
  },
  {
   "cell_type": "markdown",
   "metadata": {},
   "source": [
    "### Deletions, Insertions, or Substitutions: The Levenshtein Distance\n",
    "\n",
    "I will not cover this. "
   ]
  },
  {
   "cell_type": "code",
   "execution_count": 1119,
   "metadata": {},
   "outputs": [],
   "source": [
    "import numpy as np\n",
    "\n",
    "def levenshtein(seq1, seq2):  \n",
    "    size_x = len(seq1) + 1\n",
    "    size_y = len(seq2) + 1\n",
    "    matrix = np.zeros ((size_x, size_y))\n",
    "    for x in range(size_x):\n",
    "        matrix [x, 0] = x\n",
    "    for y in range(size_y):\n",
    "        matrix [0, y] = y\n",
    "\n",
    "    for x in range(1, size_x):\n",
    "        for y in range(1, size_y):\n",
    "            if seq1[x-1] == seq2[y-1]:\n",
    "                matrix [x,y] = min(\n",
    "                    matrix[x-1, y] + 1,\n",
    "                    matrix[x-1, y-1],\n",
    "                    matrix[x, y-1] + 1\n",
    "                )\n",
    "            else:\n",
    "                matrix [x,y] = min(\n",
    "                    matrix[x-1,y] + 1,\n",
    "                    matrix[x-1,y-1] + 1,\n",
    "                    matrix[x,y-1] + 1\n",
    "                )\n",
    "#     print (matrix)\n",
    "    return (matrix[size_x - 1, size_y - 1])"
   ]
  },
  {
   "cell_type": "code",
   "execution_count": 1125,
   "metadata": {},
   "outputs": [
    {
     "name": "stdout",
     "output_type": "stream",
     "text": [
      "Use our function: 7.0\n",
      "Use nltk: 7\n"
     ]
    }
   ],
   "source": [
    "print('Use our function: ' + str(levenshtein('Hello', 'Goodbye')))\n",
    "\n",
    "import nltk\n",
    "print('Use nltk: '+ str(nltk.edit_distance('Hello', 'Goodbye')))"
   ]
  },
  {
   "cell_type": "markdown",
   "metadata": {},
   "source": [
    "### Distance from Vector to Vector"
   ]
  },
  {
   "cell_type": "markdown",
   "metadata": {},
   "source": [
    "For vectors, we should use the tf-idf to transfer 'Tokens' list to numerical vector. Then, we can compute the cosine distance (or similarity) from vector to vector."
   ]
  },
  {
   "cell_type": "markdown",
   "metadata": {},
   "source": [
    "#### Examples with 4 Sentences"
   ]
  },
  {
   "cell_type": "code",
   "execution_count": 929,
   "metadata": {},
   "outputs": [],
   "source": [
    "Sent1 = 'Our coffee is too hot'\n",
    "Sent2 = 'The sun is bright today'\n",
    "Sent3 = 'The sun in the sky is bright'\n",
    "Sent4 = 'We can enjoy the coffee now'"
   ]
  },
  {
   "cell_type": "code",
   "execution_count": 930,
   "metadata": {},
   "outputs": [
    {
     "data": {
      "text/html": [
       "<div>\n",
       "<style scoped>\n",
       "    .dataframe tbody tr th:only-of-type {\n",
       "        vertical-align: middle;\n",
       "    }\n",
       "\n",
       "    .dataframe tbody tr th {\n",
       "        vertical-align: top;\n",
       "    }\n",
       "\n",
       "    .dataframe thead tr th {\n",
       "        text-align: left;\n",
       "    }\n",
       "</style>\n",
       "<table border=\"1\" class=\"dataframe\">\n",
       "  <thead>\n",
       "    <tr>\n",
       "      <th></th>\n",
       "      <th>bright</th>\n",
       "      <th>can</th>\n",
       "      <th>coffee</th>\n",
       "      <th>enjoy</th>\n",
       "      <th>hot</th>\n",
       "      <th>in</th>\n",
       "      <th>is</th>\n",
       "      <th>now</th>\n",
       "      <th>our</th>\n",
       "      <th>sky</th>\n",
       "      <th>sun</th>\n",
       "      <th>the</th>\n",
       "      <th>today</th>\n",
       "      <th>too</th>\n",
       "      <th>we</th>\n",
       "    </tr>\n",
       "  </thead>\n",
       "  <tbody>\n",
       "    <tr>\n",
       "      <th>s1</th>\n",
       "      <td>0.000000</td>\n",
       "      <td>0.000000</td>\n",
       "      <td>1.510826</td>\n",
       "      <td>0.000000</td>\n",
       "      <td>1.916291</td>\n",
       "      <td>0.000000</td>\n",
       "      <td>1.223144</td>\n",
       "      <td>0.000000</td>\n",
       "      <td>1.916291</td>\n",
       "      <td>0.000000</td>\n",
       "      <td>0.000000</td>\n",
       "      <td>0.000000</td>\n",
       "      <td>0.000000</td>\n",
       "      <td>1.916291</td>\n",
       "      <td>0.000000</td>\n",
       "    </tr>\n",
       "    <tr>\n",
       "      <th>s2</th>\n",
       "      <td>1.510826</td>\n",
       "      <td>0.000000</td>\n",
       "      <td>0.000000</td>\n",
       "      <td>0.000000</td>\n",
       "      <td>0.000000</td>\n",
       "      <td>0.000000</td>\n",
       "      <td>1.223144</td>\n",
       "      <td>0.000000</td>\n",
       "      <td>0.000000</td>\n",
       "      <td>0.000000</td>\n",
       "      <td>1.510826</td>\n",
       "      <td>1.223144</td>\n",
       "      <td>1.916291</td>\n",
       "      <td>0.000000</td>\n",
       "      <td>0.000000</td>\n",
       "    </tr>\n",
       "    <tr>\n",
       "      <th>s3</th>\n",
       "      <td>1.510826</td>\n",
       "      <td>0.000000</td>\n",
       "      <td>0.000000</td>\n",
       "      <td>0.000000</td>\n",
       "      <td>0.000000</td>\n",
       "      <td>1.916291</td>\n",
       "      <td>1.223144</td>\n",
       "      <td>0.000000</td>\n",
       "      <td>0.000000</td>\n",
       "      <td>1.916291</td>\n",
       "      <td>1.510826</td>\n",
       "      <td>2.446287</td>\n",
       "      <td>0.000000</td>\n",
       "      <td>0.000000</td>\n",
       "      <td>0.000000</td>\n",
       "    </tr>\n",
       "    <tr>\n",
       "      <th>s4</th>\n",
       "      <td>0.000000</td>\n",
       "      <td>1.916291</td>\n",
       "      <td>1.510826</td>\n",
       "      <td>1.916291</td>\n",
       "      <td>0.000000</td>\n",
       "      <td>0.000000</td>\n",
       "      <td>0.000000</td>\n",
       "      <td>1.916291</td>\n",
       "      <td>0.000000</td>\n",
       "      <td>0.000000</td>\n",
       "      <td>0.000000</td>\n",
       "      <td>1.223144</td>\n",
       "      <td>0.000000</td>\n",
       "      <td>0.000000</td>\n",
       "      <td>1.916291</td>\n",
       "    </tr>\n",
       "  </tbody>\n",
       "</table>\n",
       "</div>"
      ],
      "text/plain": [
       "      bright       can    coffee     enjoy       hot        in        is  \\\n",
       "s1  0.000000  0.000000  1.510826  0.000000  1.916291  0.000000  1.223144   \n",
       "s2  1.510826  0.000000  0.000000  0.000000  0.000000  0.000000  1.223144   \n",
       "s3  1.510826  0.000000  0.000000  0.000000  0.000000  1.916291  1.223144   \n",
       "s4  0.000000  1.916291  1.510826  1.916291  0.000000  0.000000  0.000000   \n",
       "\n",
       "         now       our       sky       sun       the     today       too  \\\n",
       "s1  0.000000  1.916291  0.000000  0.000000  0.000000  0.000000  1.916291   \n",
       "s2  0.000000  0.000000  0.000000  1.510826  1.223144  1.916291  0.000000   \n",
       "s3  0.000000  0.000000  1.916291  1.510826  2.446287  0.000000  0.000000   \n",
       "s4  1.916291  0.000000  0.000000  0.000000  1.223144  0.000000  0.000000   \n",
       "\n",
       "          we  \n",
       "s1  0.000000  \n",
       "s2  0.000000  \n",
       "s3  0.000000  \n",
       "s4  1.916291  "
      ]
     },
     "execution_count": 930,
     "metadata": {},
     "output_type": "execute_result"
    }
   ],
   "source": [
    "from sklearn.feature_extraction.text import TfidfVectorizer\n",
    "tfidf_vectorizer = TfidfVectorizer(norm=None)  \n",
    "# tfidf_vectorizer = TfidfVectorizer(ngram_range=[1,2])  ## use unigram and bigram\n",
    "tfidf_matrix = tfidf_vectorizer.fit_transform([Sent1,Sent2,Sent3,Sent4])\n",
    "df_tfidf = pd.DataFrame(tfidf_matrix.toarray(),columns=[tfidf_vectorizer.get_feature_names()],index=['s1','s2','s3','s4'])\n",
    "df_tfidf"
   ]
  },
  {
   "cell_type": "code",
   "execution_count": 931,
   "metadata": {},
   "outputs": [
    {
     "data": {
      "text/html": [
       "<div>\n",
       "<style scoped>\n",
       "    .dataframe tbody tr th:only-of-type {\n",
       "        vertical-align: middle;\n",
       "    }\n",
       "\n",
       "    .dataframe tbody tr th {\n",
       "        vertical-align: top;\n",
       "    }\n",
       "\n",
       "    .dataframe thead tr th {\n",
       "        text-align: left;\n",
       "    }\n",
       "</style>\n",
       "<table border=\"1\" class=\"dataframe\">\n",
       "  <thead>\n",
       "    <tr>\n",
       "      <th></th>\n",
       "      <th>bright</th>\n",
       "      <th>can</th>\n",
       "      <th>coffee</th>\n",
       "      <th>enjoy</th>\n",
       "      <th>hot</th>\n",
       "      <th>in</th>\n",
       "      <th>is</th>\n",
       "      <th>now</th>\n",
       "      <th>our</th>\n",
       "      <th>sky</th>\n",
       "      <th>sun</th>\n",
       "      <th>the</th>\n",
       "      <th>today</th>\n",
       "      <th>too</th>\n",
       "      <th>we</th>\n",
       "    </tr>\n",
       "  </thead>\n",
       "  <tbody>\n",
       "    <tr>\n",
       "      <th>s1</th>\n",
       "      <td>0.000000</td>\n",
       "      <td>0.000000</td>\n",
       "      <td>0.392784</td>\n",
       "      <td>0.000000</td>\n",
       "      <td>0.498197</td>\n",
       "      <td>0.000000</td>\n",
       "      <td>0.317993</td>\n",
       "      <td>0.000000</td>\n",
       "      <td>0.498197</td>\n",
       "      <td>0.000000</td>\n",
       "      <td>0.000000</td>\n",
       "      <td>0.000000</td>\n",
       "      <td>0.000000</td>\n",
       "      <td>0.498197</td>\n",
       "      <td>0.000000</td>\n",
       "    </tr>\n",
       "    <tr>\n",
       "      <th>s2</th>\n",
       "      <td>0.450852</td>\n",
       "      <td>0.000000</td>\n",
       "      <td>0.000000</td>\n",
       "      <td>0.000000</td>\n",
       "      <td>0.000000</td>\n",
       "      <td>0.000000</td>\n",
       "      <td>0.365003</td>\n",
       "      <td>0.000000</td>\n",
       "      <td>0.000000</td>\n",
       "      <td>0.000000</td>\n",
       "      <td>0.450852</td>\n",
       "      <td>0.365003</td>\n",
       "      <td>0.571848</td>\n",
       "      <td>0.000000</td>\n",
       "      <td>0.000000</td>\n",
       "    </tr>\n",
       "    <tr>\n",
       "      <th>s3</th>\n",
       "      <td>0.343104</td>\n",
       "      <td>0.000000</td>\n",
       "      <td>0.000000</td>\n",
       "      <td>0.000000</td>\n",
       "      <td>0.000000</td>\n",
       "      <td>0.435184</td>\n",
       "      <td>0.277773</td>\n",
       "      <td>0.000000</td>\n",
       "      <td>0.000000</td>\n",
       "      <td>0.435184</td>\n",
       "      <td>0.343104</td>\n",
       "      <td>0.555545</td>\n",
       "      <td>0.000000</td>\n",
       "      <td>0.000000</td>\n",
       "      <td>0.000000</td>\n",
       "    </tr>\n",
       "    <tr>\n",
       "      <th>s4</th>\n",
       "      <td>0.000000</td>\n",
       "      <td>0.445922</td>\n",
       "      <td>0.351570</td>\n",
       "      <td>0.445922</td>\n",
       "      <td>0.000000</td>\n",
       "      <td>0.000000</td>\n",
       "      <td>0.000000</td>\n",
       "      <td>0.445922</td>\n",
       "      <td>0.000000</td>\n",
       "      <td>0.000000</td>\n",
       "      <td>0.000000</td>\n",
       "      <td>0.284626</td>\n",
       "      <td>0.000000</td>\n",
       "      <td>0.000000</td>\n",
       "      <td>0.445922</td>\n",
       "    </tr>\n",
       "  </tbody>\n",
       "</table>\n",
       "</div>"
      ],
      "text/plain": [
       "      bright       can    coffee     enjoy       hot        in        is  \\\n",
       "s1  0.000000  0.000000  0.392784  0.000000  0.498197  0.000000  0.317993   \n",
       "s2  0.450852  0.000000  0.000000  0.000000  0.000000  0.000000  0.365003   \n",
       "s3  0.343104  0.000000  0.000000  0.000000  0.000000  0.435184  0.277773   \n",
       "s4  0.000000  0.445922  0.351570  0.445922  0.000000  0.000000  0.000000   \n",
       "\n",
       "         now       our       sky       sun       the     today       too  \\\n",
       "s1  0.000000  0.498197  0.000000  0.000000  0.000000  0.000000  0.498197   \n",
       "s2  0.000000  0.000000  0.000000  0.450852  0.365003  0.571848  0.000000   \n",
       "s3  0.000000  0.000000  0.435184  0.343104  0.555545  0.000000  0.000000   \n",
       "s4  0.445922  0.000000  0.000000  0.000000  0.284626  0.000000  0.000000   \n",
       "\n",
       "          we  \n",
       "s1  0.000000  \n",
       "s2  0.000000  \n",
       "s3  0.000000  \n",
       "s4  0.445922  "
      ]
     },
     "execution_count": 931,
     "metadata": {},
     "output_type": "execute_result"
    }
   ],
   "source": [
    "from sklearn.feature_extraction.text import TfidfVectorizer\n",
    "tfidf_vectorizer = TfidfVectorizer(norm='l2')  ## Normalize the legth of document\n",
    "# tfidf_vectorizer = TfidfVectorizer(ngram_range=[1,2])  ## use unigram and bigram\n",
    "tfidf_matrix = tfidf_vectorizer.fit_transform([Sent1,Sent2,Sent3,Sent4])\n",
    "df_tfidf = pd.DataFrame(tfidf_matrix.toarray(),columns=[tfidf_vectorizer.get_feature_names()],index=['s1','s2','s3','s4'])\n",
    "df_tfidf"
   ]
  },
  {
   "cell_type": "code",
   "execution_count": 932,
   "metadata": {
    "ExecuteTime": {
     "end_time": "2018-10-13T11:13:57.365153Z",
     "start_time": "2018-10-13T11:13:57.349911Z"
    }
   },
   "outputs": [],
   "source": [
    "def plotlabel(ax,n,v):\n",
    "    ax.axhline(linewidth=4, color='k')\n",
    "    ax.axvline(linewidth=4, color='k')\n",
    "    for label, x, y in zip(n, v[:,0], v[:, 1]):\n",
    "        plt.annotate(\n",
    "            label,\n",
    "            xy=(x, y), xytext=(-20, 10),\n",
    "            textcoords='offset points', ha='right', va='bottom',\n",
    "            bbox=dict(boxstyle='round,pad=0.5', fc='yellow', alpha=1),\n",
    "            arrowprops=dict(arrowstyle = '->', connectionstyle='arc3,rad=0'))"
   ]
  },
  {
   "cell_type": "code",
   "execution_count": 933,
   "metadata": {
    "ExecuteTime": {
     "end_time": "2018-10-13T11:13:57.720438Z",
     "start_time": "2018-10-13T11:13:57.384978Z"
    }
   },
   "outputs": [
    {
     "data": {
      "image/png": "[encoded data removed]",
      "text/plain": [
       "<Figure size 432x288 with 1 Axes>"
      ]
     },
     "metadata": {},
     "output_type": "display_data"
    }
   ],
   "source": [
    "from sklearn.decomposition import PCA\n",
    "pca = PCA(n_components=2)\n",
    "\n",
    "V1 = df_tfidf.iloc[0].values\n",
    "V2 = df_tfidf.iloc[1].values\n",
    "V3 = df_tfidf.iloc[2].values\n",
    "V4 = df_tfidf.iloc[3].values\n",
    "\n",
    "X = np.array([V1,V2,V3,V4])\n",
    "X_ = pca.fit_transform(X)  ## 2D points\n",
    "n = ['V1','V2','V3','V4']\n",
    "import matplotlib.pyplot as plt\n",
    "fig, ax = plt.subplots()\n",
    "ax.scatter(X_[:,0],X_[:,1])\n",
    "\n",
    "plotlabel(ax,n,X_)\n",
    "# set axes range\n",
    "plt.grid()\n",
    "plt.show()"
   ]
  },
  {
   "cell_type": "markdown",
   "metadata": {},
   "source": [
    "#### Use Our Distance Package"
   ]
  },
  {
   "cell_type": "code",
   "execution_count": 934,
   "metadata": {},
   "outputs": [
    {
     "name": "stdout",
     "output_type": "stream",
     "text": [
      "*** Euclidean ***\n",
      "Euclidean distance v1,v2 = 1.3296101489351655\n",
      "Euclidean distance v1,v3 = 1.3503113280302808\n",
      "Euclidean distance v2,v3 = 0.8791562518040301\n",
      "Euclidean distance v2,v4 = 1.3387385341115507\n",
      "Euclidean distance v3,v4 = 1.2975956506875075\n",
      "*** Jaccard ***\n",
      "Jaccard similarity v1,v2 = 0.14285714285714285\n",
      "Jaccard similarity v1,v3 = 0.125\n",
      "Jaccard similarity v2,v3 = 0.125\n",
      "Jaccard similarity v2,v4 = 0.14285714285714285\n",
      "Jaccard similarity v3,v4 = 0.125\n",
      "*** Cosine ***\n",
      "Cosine similarity v1,v2 = 0.116\n",
      "Cosine similarity v1,v3 = 0.088\n",
      "Cosine similarity v2,v3 = 0.614\n",
      "Cosine similarity v2,v4 = 0.104\n",
      "Cosine similarity v3,v4 = 0.158\n"
     ]
    }
   ],
   "source": [
    "V1 = df_tfidf.iloc[0].values\n",
    "V2 = df_tfidf.iloc[1].values\n",
    "V3 = df_tfidf.iloc[2].values\n",
    "V4 = df_tfidf.iloc[3].values\n",
    "\n",
    "print('*** Euclidean ***')\n",
    "print('Euclidean distance v1,v2 = ' + str(measures.euclidean_distance(V1,V2)))\n",
    "print('Euclidean distance v1,v3 = ' + str(measures.euclidean_distance(V1,V3)))\n",
    "print('Euclidean distance v2,v3 = ' + str(measures.euclidean_distance(V2,V3)))\n",
    "print('Euclidean distance v2,v4 = ' + str(measures.euclidean_distance(V2,V4)))\n",
    "print('Euclidean distance v3,v4 = ' + str(measures.euclidean_distance(V3,V4)))\n",
    "\n",
    "print('*** Jaccard ***')\n",
    "print('Jaccard similarity v1,v2 = ' + str(measures.jaccard_similarity(V1,V2)))\n",
    "print('Jaccard similarity v1,v3 = ' + str(measures.jaccard_similarity(V1,V3)))\n",
    "print('Jaccard similarity v2,v3 = ' + str(measures.jaccard_similarity(V2,V3)))\n",
    "print('Jaccard similarity v2,v4 = ' + str(measures.jaccard_similarity(V2,V4)))\n",
    "print('Jaccard similarity v3,v4 = ' + str(measures.jaccard_similarity(V3,V4)))\n",
    "\n",
    "print('*** Cosine ***')\n",
    "print('Cosine similarity v1,v2 = ' + str(measures.cosine_similarity(V1,V2)))\n",
    "print('Cosine similarity v1,v3 = ' + str(measures.cosine_similarity(V1,V3)))\n",
    "print('Cosine similarity v2,v3 = ' + str(measures.cosine_similarity(V2,V3)))\n",
    "print('Cosine similarity v2,v4 = ' + str(measures.cosine_similarity(V2,V4)))\n",
    "print('Cosine similarity v3,v4 = ' + str(measures.cosine_similarity(V3,V4)))"
   ]
  },
  {
   "cell_type": "markdown",
   "metadata": {},
   "source": [
    "#### Use the Sklearn Package"
   ]
  },
  {
   "cell_type": "code",
   "execution_count": 935,
   "metadata": {},
   "outputs": [
    {
     "data": {
      "text/html": [
       "<div>\n",
       "<style scoped>\n",
       "    .dataframe tbody tr th:only-of-type {\n",
       "        vertical-align: middle;\n",
       "    }\n",
       "\n",
       "    .dataframe tbody tr th {\n",
       "        vertical-align: top;\n",
       "    }\n",
       "\n",
       "    .dataframe thead th {\n",
       "        text-align: right;\n",
       "    }\n",
       "</style>\n",
       "<table border=\"1\" class=\"dataframe\">\n",
       "  <thead>\n",
       "    <tr style=\"text-align: right;\">\n",
       "      <th></th>\n",
       "      <th>0</th>\n",
       "      <th>1</th>\n",
       "      <th>2</th>\n",
       "      <th>3</th>\n",
       "    </tr>\n",
       "  </thead>\n",
       "  <tbody>\n",
       "    <tr>\n",
       "      <th>0</th>\n",
       "      <td>1.000000</td>\n",
       "      <td>0.116068</td>\n",
       "      <td>0.088330</td>\n",
       "      <td>0.138091</td>\n",
       "    </tr>\n",
       "    <tr>\n",
       "      <th>1</th>\n",
       "      <td>0.116068</td>\n",
       "      <td>1.000000</td>\n",
       "      <td>0.613542</td>\n",
       "      <td>0.103890</td>\n",
       "    </tr>\n",
       "    <tr>\n",
       "      <th>2</th>\n",
       "      <td>0.088330</td>\n",
       "      <td>0.613542</td>\n",
       "      <td>1.000000</td>\n",
       "      <td>0.158123</td>\n",
       "    </tr>\n",
       "    <tr>\n",
       "      <th>3</th>\n",
       "      <td>0.138091</td>\n",
       "      <td>0.103890</td>\n",
       "      <td>0.158123</td>\n",
       "      <td>1.000000</td>\n",
       "    </tr>\n",
       "  </tbody>\n",
       "</table>\n",
       "</div>"
      ],
      "text/plain": [
       "          0         1         2         3\n",
       "0  1.000000  0.116068  0.088330  0.138091\n",
       "1  0.116068  1.000000  0.613542  0.103890\n",
       "2  0.088330  0.613542  1.000000  0.158123\n",
       "3  0.138091  0.103890  0.158123  1.000000"
      ]
     },
     "execution_count": 935,
     "metadata": {},
     "output_type": "execute_result"
    }
   ],
   "source": [
    "from sklearn.metrics.pairwise import cosine_similarity, euclidean_distances\n",
    "cosine_matrix =  cosine_similarity(df_tfidf)\n",
    "df_cosine = pd.DataFrame(cosine_matrix,index=range(4),columns=range(4))\n",
    "df_cosine"
   ]
  },
  {
   "cell_type": "markdown",
   "metadata": {},
   "source": [
    "## Working with Real Data"
   ]
  },
  {
   "cell_type": "code",
   "execution_count": 936,
   "metadata": {
    "ExecuteTime": {
     "end_time": "2018-10-13T11:13:32.926844Z",
     "start_time": "2018-10-13T11:13:30.183737Z"
    }
   },
   "outputs": [],
   "source": [
    "import pandas as pd\n",
    "import nltk\n",
    "import os, io\n",
    "import numpy as np\n",
    "import matplotlib.pyplot as plt\n",
    "import re\n",
    "import warnings\n",
    "warnings.filterwarnings('ignore')\n",
    "%matplotlib inline  "
   ]
  },
  {
   "cell_type": "markdown",
   "metadata": {},
   "source": [
    "### LOAD DATA"
   ]
  },
  {
   "cell_type": "code",
   "execution_count": 937,
   "metadata": {
    "ExecuteTime": {
     "end_time": "2018-10-13T11:13:33.370201Z",
     "start_time": "2018-10-13T11:13:32.930192Z"
    }
   },
   "outputs": [
    {
     "data": {
      "text/html": [
       "<div>\n",
       "<style scoped>\n",
       "    .dataframe tbody tr th:only-of-type {\n",
       "        vertical-align: middle;\n",
       "    }\n",
       "\n",
       "    .dataframe tbody tr th {\n",
       "        vertical-align: top;\n",
       "    }\n",
       "\n",
       "    .dataframe thead th {\n",
       "        text-align: right;\n",
       "    }\n",
       "</style>\n",
       "<table border=\"1\" class=\"dataframe\">\n",
       "  <thead>\n",
       "    <tr style=\"text-align: right;\">\n",
       "      <th></th>\n",
       "      <th>Filename</th>\n",
       "      <th>Content</th>\n",
       "      <th>Category</th>\n",
       "    </tr>\n",
       "  </thead>\n",
       "  <tbody>\n",
       "    <tr>\n",
       "      <th>0</th>\n",
       "      <td>31_1</td>\n",
       "      <td>This is the biggest insult to TMNT ever. Fortu...</td>\n",
       "      <td>Neg</td>\n",
       "    </tr>\n",
       "    <tr>\n",
       "      <th>1</th>\n",
       "      <td>33_3</td>\n",
       "      <td>This is the worst thing the TMNT franchise has...</td>\n",
       "      <td>Neg</td>\n",
       "    </tr>\n",
       "    <tr>\n",
       "      <th>2</th>\n",
       "      <td>15_1</td>\n",
       "      <td>This is it. This is the one. This is the worst...</td>\n",
       "      <td>Neg</td>\n",
       "    </tr>\n",
       "    <tr>\n",
       "      <th>3</th>\n",
       "      <td>17_3</td>\n",
       "      <td>Nine minutes of psychedelic, pulsating, often ...</td>\n",
       "      <td>Neg</td>\n",
       "    </tr>\n",
       "    <tr>\n",
       "      <th>4</th>\n",
       "      <td>9_1</td>\n",
       "      <td>This is one of the dumbest films, I've ever se...</td>\n",
       "      <td>Neg</td>\n",
       "    </tr>\n",
       "    <tr>\n",
       "      <th>5</th>\n",
       "      <td>28_2</td>\n",
       "      <td>This film is terrible. You don't really need t...</td>\n",
       "      <td>Neg</td>\n",
       "    </tr>\n",
       "    <tr>\n",
       "      <th>6</th>\n",
       "      <td>35_3</td>\n",
       "      <td>Sexo Cannibal, or Devil Hunter as it's more co...</td>\n",
       "      <td>Neg</td>\n",
       "    </tr>\n",
       "    <tr>\n",
       "      <th>7</th>\n",
       "      <td>11_3</td>\n",
       "      <td>If you look at Corey Large's information here ...</td>\n",
       "      <td>Neg</td>\n",
       "    </tr>\n",
       "    <tr>\n",
       "      <th>8</th>\n",
       "      <td>49_4</td>\n",
       "      <td>A very cheesy and dull road movie, with the in...</td>\n",
       "      <td>Neg</td>\n",
       "    </tr>\n",
       "    <tr>\n",
       "      <th>9</th>\n",
       "      <td>37_3</td>\n",
       "      <td>Devil Hunter gained notoriety for the fact tha...</td>\n",
       "      <td>Neg</td>\n",
       "    </tr>\n",
       "  </tbody>\n",
       "</table>\n",
       "</div>"
      ],
      "text/plain": [
       "  Filename                                            Content Category\n",
       "0     31_1  This is the biggest insult to TMNT ever. Fortu...      Neg\n",
       "1     33_3  This is the worst thing the TMNT franchise has...      Neg\n",
       "2     15_1  This is it. This is the one. This is the worst...      Neg\n",
       "3     17_3  Nine minutes of psychedelic, pulsating, often ...      Neg\n",
       "4      9_1  This is one of the dumbest films, I've ever se...      Neg\n",
       "5     28_2  This film is terrible. You don't really need t...      Neg\n",
       "6     35_3  Sexo Cannibal, or Devil Hunter as it's more co...      Neg\n",
       "7     11_3  If you look at Corey Large's information here ...      Neg\n",
       "8     49_4  A very cheesy and dull road movie, with the in...      Neg\n",
       "9     37_3  Devil Hunter gained notoriety for the fact tha...      Neg"
      ]
     },
     "execution_count": 937,
     "metadata": {},
     "output_type": "execute_result"
    }
   ],
   "source": [
    "data_path = r'./Data/'\n",
    "df_raw = pd.DataFrame([],columns=['Filename','Content','Category'])\n",
    "\n",
    "for root, directories, files in os.walk(data_path):\n",
    "    for filename in files:\n",
    "        classname = (os.path.basename(root))\n",
    "        if (classname in ['Neg', 'Pos']):\n",
    "            _name = os.path.splitext(filename)[0]\n",
    "            filepath = os.path.join(root, filename)\n",
    "            f = open(filepath,\"r\",encoding='latin-1') \n",
    "            content = f.read()\n",
    "            content = \" \".join(str(content).split())\n",
    "#             content = str(content).replace(\"\\n\",\" \")\n",
    "            pieces = {'Filename': _name, 'Content': (content), 'Category':classname}\n",
    "            df_raw = df_raw.append(pieces,ignore_index=True)\n",
    "df_raw.head(10)"
   ]
  },
  {
   "cell_type": "markdown",
   "metadata": {
    "ExecuteTime": {
     "end_time": "2018-10-12T09:07:29.042817Z",
     "start_time": "2018-10-12T09:07:29.039815Z"
    }
   },
   "source": [
    "### Convert data from RAW to Tokens"
   ]
  },
  {
   "cell_type": "code",
   "execution_count": 938,
   "metadata": {
    "ExecuteTime": {
     "end_time": "2018-10-13T11:13:33.799950Z",
     "start_time": "2018-10-13T11:13:33.380747Z"
    }
   },
   "outputs": [],
   "source": [
    "## Define the Function to convert raw text to tokens\n",
    "def convert_tokens(rawtext, verbose):\n",
    "    # First: Tokenization\n",
    "    from nltk.tokenize import RegexpTokenizer\n",
    "    pattern = r'\\w+'\n",
    "    tokenizer = RegexpTokenizer(pattern)\n",
    "    token_words = tokenizer.tokenize(rawtext)\n",
    "    if (verbose):\n",
    "        print('Tokens:' + str(token_words[0:10]))\n",
    "    \n",
    "#     # Second: Decapitalization (if needed)\n",
    "#     decap_token_words = [word.lower() for word in token_words]\n",
    "#     if (verbose):\n",
    "#         print('Decapitalized Tokens:' + str(decap_token_words[0:10]))\n",
    "    \n",
    "    # Third: Remove stop words\n",
    "    from nltk.corpus import stopwords\n",
    "    stopwords_json = {\"af\":[\"'n\",\"aan\",\"af\",\"al\",\"as\",\"baie\",\"by\",\"daar\",\"dag\",\"dat\",\"die\",\"dit\",\"een\",\"ek\",\"en\",\"gaan\",\"gesê\",\"haar\",\"het\",\"hom\",\"hulle\",\"hy\",\"in\",\"is\",\"jou\",\"jy\",\"kan\",\"kom\",\"ma\",\"maar\",\"met\",\"my\",\"na\",\"nie\",\"om\",\"ons\",\"op\",\"saam\",\"sal\",\"se\",\"sien\",\"so\",\"sy\",\"te\",\"toe\",\"uit\",\"van\",\"vir\",\"was\",\"wat\",\"ŉ\"],\"ha\":[\"a\",\"amma\",\"ba\",\"ban\",\"ce\",\"cikin\",\"da\",\"don\",\"ga\",\"in\",\"ina\",\"ita\",\"ji\",\"ka\",\"ko\",\"kuma\",\"lokacin\",\"ma\",\"mai\",\"na\",\"ne\",\"ni\",\"sai\",\"shi\",\"su\",\"suka\",\"sun\",\"ta\",\"tafi\",\"take\",\"tana\",\"wani\",\"wannan\",\"wata\",\"ya\",\"yake\",\"yana\",\"yi\",\"za\"],\"so\":[\"aad\",\"albaabkii\",\"atabo\",\"ay\",\"ayaa\",\"ayee\",\"ayuu\",\"dhan\",\"hadana\",\"in\",\"inuu\",\"isku\",\"jiray\",\"jirtay\",\"ka\",\"kale\",\"kasoo\",\"ku\",\"kuu\",\"lakin\",\"markii\",\"oo\",\"si\",\"soo\",\"uga\",\"ugu\",\"uu\",\"waa\",\"waxa\",\"waxuu\"],\"st\":[\"a\",\"ba\",\"bane\",\"bona\",\"e\",\"ea\",\"eaba\",\"empa\",\"ena\",\"ha\",\"hae\",\"hape\",\"ho\",\"hore\",\"ka\",\"ke\",\"la\",\"le\",\"li\",\"me\",\"mo\",\"moo\",\"ne\",\"o\",\"oa\",\"re\",\"sa\",\"se\",\"tloha\",\"tsa\",\"tse\"],\"sw\":[\"akasema\",\"alikuwa\",\"alisema\",\"baada\",\"basi\",\"bila\",\"cha\",\"chini\",\"hadi\",\"hapo\",\"hata\",\"hivyo\",\"hiyo\",\"huku\",\"huo\",\"ili\",\"ilikuwa\",\"juu\",\"kama\",\"karibu\",\"katika\",\"kila\",\"kima\",\"kisha\",\"kubwa\",\"kutoka\",\"kuwa\",\"kwa\",\"kwamba\",\"kwenda\",\"kwenye\",\"la\",\"lakini\",\"mara\",\"mdogo\",\"mimi\",\"mkubwa\",\"mmoja\",\"moja\",\"muda\",\"mwenye\",\"na\",\"naye\",\"ndani\",\"ng\",\"ni\",\"nini\",\"nonkungu\",\"pamoja\",\"pia\",\"sana\",\"sasa\",\"sauti\",\"tafadhali\",\"tena\",\"tu\",\"vile\",\"wa\",\"wakati\",\"wake\",\"walikuwa\",\"wao\",\"watu\",\"wengine\",\"wote\",\"ya\",\"yake\",\"yangu\",\"yao\",\"yeye\",\"yule\",\"za\",\"zaidi\",\"zake\"],\"yo\":[\"a\",\"an\",\"bá\",\"bí\",\"bẹ̀rẹ̀\",\"fún\",\"fẹ́\",\"gbogbo\",\"inú\",\"jù\",\"jẹ\",\"jẹ́\",\"kan\",\"kì\",\"kí\",\"kò\",\"láti\",\"lè\",\"lọ\",\"mi\",\"mo\",\"máa\",\"mọ̀\",\"ni\",\"náà\",\"ní\",\"nígbà\",\"nítorí\",\"nǹkan\",\"o\",\"padà\",\"pé\",\"púpọ̀\",\"pẹ̀lú\",\"rẹ̀\",\"sì\",\"sí\",\"sínú\",\"ṣ\",\"ti\",\"tí\",\"wà\",\"wá\",\"wọn\",\"wọ́n\",\"yìí\",\"àti\",\"àwọn\",\"é\",\"í\",\"òun\",\"ó\",\"ń\",\"ńlá\",\"ṣe\",\"ṣé\",\"ṣùgbọ́n\",\"ẹmọ́\",\"ọjọ́\",\"ọ̀pọ̀lọpọ̀\"],\"zu\":[\"futhi\",\"kahle\",\"kakhulu\",\"kanye\",\"khona\",\"kodwa\",\"kungani\",\"kusho\",\"la\",\"lakhe\",\"lapho\",\"mina\",\"ngesikhathi\",\"nje\",\"phansi\",\"phezulu\",\"u\",\"ukuba\",\"ukuthi\",\"ukuze\",\"uma\",\"wahamba\",\"wakhe\",\"wami\",\"wase\",\"wathi\",\"yakhe\",\"zakhe\",\"zonke\"],\"da\":[\"af\",\"alle\",\"andet\",\"andre\",\"at\",\"begge\",\"da\",\"de\",\"den\",\"denne\",\"der\",\"deres\",\"det\",\"dette\",\"dig\",\"din\",\"dog\",\"du\",\"ej\",\"eller\",\"en\",\"end\",\"ene\",\"eneste\",\"enhver\",\"et\",\"fem\",\"fire\",\"flere\",\"fleste\",\"for\",\"fordi\",\"forrige\",\"fra\",\"få\",\"før\",\"god\",\"han\",\"hans\",\"har\",\"hendes\",\"her\",\"hun\",\"hvad\",\"hvem\",\"hver\",\"hvilken\",\"hvis\",\"hvor\",\"hvordan\",\"hvorfor\",\"hvornår\",\"i\",\"ikke\",\"ind\",\"ingen\",\"intet\",\"jeg\",\"jeres\",\"kan\",\"kom\",\"kommer\",\"lav\",\"lidt\",\"lille\",\"man\",\"mand\",\"mange\",\"med\",\"meget\",\"men\",\"mens\",\"mere\",\"mig\",\"ned\",\"ni\",\"nogen\",\"noget\",\"ny\",\"nyt\",\"nær\",\"næste\",\"næsten\",\"og\",\"op\",\"otte\",\"over\",\"på\",\"se\",\"seks\",\"ses\",\"som\",\"stor\",\"store\",\"syv\",\"ti\",\"til\",\"to\",\"tre\",\"ud\",\"var\"],\"de\":[\"Ernst\",\"Ordnung\",\"Schluss\",\"a\",\"ab\",\"aber\",\"ach\",\"acht\",\"achte\",\"achten\",\"achter\",\"achtes\",\"ag\",\"alle\",\"allein\",\"allem\",\"allen\",\"aller\",\"allerdings\",\"alles\",\"allgemeinen\",\"als\",\"also\",\"am\",\"an\",\"andere\",\"anderen\",\"andern\",\"anders\",\"au\",\"auch\",\"auf\",\"aus\",\"ausser\",\"ausserdem\",\"außer\",\"außerdem\",\"b\",\"bald\",\"bei\",\"beide\",\"beiden\",\"beim\",\"beispiel\",\"bekannt\",\"bereits\",\"besonders\",\"besser\",\"besten\",\"bin\",\"bis\",\"bisher\",\"bist\",\"c\",\"d\",\"d.h\",\"da\",\"dabei\",\"dadurch\",\"dafür\",\"dagegen\",\"daher\",\"dahin\",\"dahinter\",\"damals\",\"damit\",\"danach\",\"daneben\",\"dank\",\"dann\",\"daran\",\"darauf\",\"daraus\",\"darf\",\"darfst\",\"darin\",\"darum\",\"darunter\",\"darüber\",\"das\",\"dasein\",\"daselbst\",\"dass\",\"dasselbe\",\"davon\",\"davor\",\"dazu\",\"dazwischen\",\"daß\",\"dein\",\"deine\",\"deinem\",\"deiner\",\"dem\",\"dementsprechend\",\"demgegenüber\",\"demgemäss\",\"demgemäß\",\"demselben\",\"demzufolge\",\"den\",\"denen\",\"denn\",\"denselben\",\"der\",\"deren\",\"derjenige\",\"derjenigen\",\"dermassen\",\"dermaßen\",\"derselbe\",\"derselben\",\"des\",\"deshalb\",\"desselben\",\"dessen\",\"deswegen\",\"dich\",\"die\",\"diejenige\",\"diejenigen\",\"dies\",\"diese\",\"dieselbe\",\"dieselben\",\"diesem\",\"diesen\",\"dieser\",\"dieses\",\"dir\",\"doch\",\"dort\",\"drei\",\"drin\",\"dritte\",\"dritten\",\"dritter\",\"drittes\",\"du\",\"durch\",\"durchaus\",\"durfte\",\"durften\",\"dürfen\",\"dürft\",\"e\",\"eben\",\"ebenso\",\"ehrlich\",\"ei\",\"ei,\",\"eigen\",\"eigene\",\"eigenen\",\"eigener\",\"eigenes\",\"ein\",\"einander\",\"eine\",\"einem\",\"einen\",\"einer\",\"eines\",\"einige\",\"einigen\",\"einiger\",\"einiges\",\"einmal\",\"eins\",\"elf\",\"en\",\"ende\",\"endlich\",\"entweder\",\"er\",\"erst\",\"erste\",\"ersten\",\"erster\",\"erstes\",\"es\",\"etwa\",\"etwas\",\"euch\",\"euer\",\"eure\",\"f\",\"folgende\",\"früher\",\"fünf\",\"fünfte\",\"fünften\",\"fünfter\",\"fünftes\",\"für\",\"g\",\"gab\",\"ganz\",\"ganze\",\"ganzen\",\"ganzer\",\"ganzes\",\"gar\",\"gedurft\",\"gegen\",\"gegenüber\",\"gehabt\",\"gehen\",\"geht\",\"gekannt\",\"gekonnt\",\"gemacht\",\"gemocht\",\"gemusst\",\"genug\",\"gerade\",\"gern\",\"gesagt\",\"geschweige\",\"gewesen\",\"gewollt\",\"geworden\",\"gibt\",\"ging\",\"gleich\",\"gott\",\"gross\",\"grosse\",\"grossen\",\"grosser\",\"grosses\",\"groß\",\"große\",\"großen\",\"großer\",\"großes\",\"gut\",\"gute\",\"guter\",\"gutes\",\"h\",\"habe\",\"haben\",\"habt\",\"hast\",\"hat\",\"hatte\",\"hatten\",\"hattest\",\"hattet\",\"heisst\",\"her\",\"heute\",\"hier\",\"hin\",\"hinter\",\"hoch\",\"hätte\",\"hätten\",\"i\",\"ich\",\"ihm\",\"ihn\",\"ihnen\",\"ihr\",\"ihre\",\"ihrem\",\"ihren\",\"ihrer\",\"ihres\",\"im\",\"immer\",\"in\",\"indem\",\"infolgedessen\",\"ins\",\"irgend\",\"ist\",\"j\",\"ja\",\"jahr\",\"jahre\",\"jahren\",\"je\",\"jede\",\"jedem\",\"jeden\",\"jeder\",\"jedermann\",\"jedermanns\",\"jedes\",\"jedoch\",\"jemand\",\"jemandem\",\"jemanden\",\"jene\",\"jenem\",\"jenen\",\"jener\",\"jenes\",\"jetzt\",\"k\",\"kam\",\"kann\",\"kannst\",\"kaum\",\"kein\",\"keine\",\"keinem\",\"keinen\",\"keiner\",\"kleine\",\"kleinen\",\"kleiner\",\"kleines\",\"kommen\",\"kommt\",\"konnte\",\"konnten\",\"kurz\",\"können\",\"könnt\",\"könnte\",\"l\",\"lang\",\"lange\",\"leicht\",\"leide\",\"lieber\",\"los\",\"m\",\"machen\",\"macht\",\"machte\",\"mag\",\"magst\",\"mahn\",\"mal\",\"man\",\"manche\",\"manchem\",\"manchen\",\"mancher\",\"manches\",\"mann\",\"mehr\",\"mein\",\"meine\",\"meinem\",\"meinen\",\"meiner\",\"meines\",\"mensch\",\"menschen\",\"mich\",\"mir\",\"mit\",\"mittel\",\"mochte\",\"mochten\",\"morgen\",\"muss\",\"musst\",\"musste\",\"mussten\",\"muß\",\"mußt\",\"möchte\",\"mögen\",\"möglich\",\"mögt\",\"müssen\",\"müsst\",\"müßt\",\"n\",\"na\",\"nach\",\"nachdem\",\"nahm\",\"natürlich\",\"neben\",\"nein\",\"neue\",\"neuen\",\"neun\",\"neunte\",\"neunten\",\"neunter\",\"neuntes\",\"nicht\",\"nichts\",\"nie\",\"niemand\",\"niemandem\",\"niemanden\",\"noch\",\"nun\",\"nur\",\"o\",\"ob\",\"oben\",\"oder\",\"offen\",\"oft\",\"ohne\",\"p\",\"q\",\"r\",\"recht\",\"rechte\",\"rechten\",\"rechter\",\"rechtes\",\"richtig\",\"rund\",\"s\",\"sa\",\"sache\",\"sagt\",\"sagte\",\"sah\",\"satt\",\"schlecht\",\"schon\",\"sechs\",\"sechste\",\"sechsten\",\"sechster\",\"sechstes\",\"sehr\",\"sei\",\"seid\",\"seien\",\"sein\",\"seine\",\"seinem\",\"seinen\",\"seiner\",\"seines\",\"seit\",\"seitdem\",\"selbst\",\"sich\",\"sie\",\"sieben\",\"siebente\",\"siebenten\",\"siebenter\",\"siebentes\",\"sind\",\"so\",\"solang\",\"solche\",\"solchem\",\"solchen\",\"solcher\",\"solches\",\"soll\",\"sollen\",\"sollst\",\"sollt\",\"sollte\",\"sollten\",\"sondern\",\"sonst\",\"soweit\",\"sowie\",\"später\",\"startseite\",\"statt\",\"steht\",\"suche\",\"t\",\"tag\",\"tage\",\"tagen\",\"tat\",\"teil\",\"tel\",\"tritt\",\"trotzdem\",\"tun\",\"u\",\"uhr\",\"um\",\"und\",\"und?\",\"uns\",\"unser\",\"unsere\",\"unserer\",\"unter\",\"v\",\"vergangenen\",\"viel\",\"viele\",\"vielem\",\"vielen\",\"vielleicht\",\"vier\",\"vierte\",\"vierten\",\"vierter\",\"viertes\",\"vom\",\"von\",\"vor\",\"w\",\"wahr?\",\"wann\",\"war\",\"waren\",\"wart\",\"warum\",\"was\",\"wegen\",\"weil\",\"weit\",\"weiter\",\"weitere\",\"weiteren\",\"weiteres\",\"welche\",\"welchem\",\"welchen\",\"welcher\",\"welches\",\"wem\",\"wen\",\"wenig\",\"wenige\",\"weniger\",\"weniges\",\"wenigstens\",\"wenn\",\"wer\",\"werde\",\"werden\",\"werdet\",\"weshalb\",\"wessen\",\"wie\",\"wieder\",\"wieso\",\"will\",\"willst\",\"wir\",\"wird\",\"wirklich\",\"wirst\",\"wissen\",\"wo\",\"wohl\",\"wollen\",\"wollt\",\"wollte\",\"wollten\",\"worden\",\"wurde\",\"wurden\",\"während\",\"währenddem\",\"währenddessen\",\"wäre\",\"würde\",\"würden\",\"x\",\"y\",\"z\",\"z.b\",\"zehn\",\"zehnte\",\"zehnten\",\"zehnter\",\"zehntes\",\"zeit\",\"zu\",\"zuerst\",\"zugleich\",\"zum\",\"zunächst\",\"zur\",\"zurück\",\"zusammen\",\"zwanzig\",\"zwar\",\"zwei\",\"zweite\",\"zweiten\",\"zweiter\",\"zweites\",\"zwischen\",\"zwölf\",\"über\",\"überhaupt\",\"übrigens\"],\"es\":[\"a\",\"actualmente\",\"acuerdo\",\"adelante\",\"ademas\",\"además\",\"adrede\",\"afirmó\",\"agregó\",\"ahi\",\"ahora\",\"ahí\",\"al\",\"algo\",\"alguna\",\"algunas\",\"alguno\",\"algunos\",\"algún\",\"alli\",\"allí\",\"alrededor\",\"ambos\",\"ampleamos\",\"antano\",\"antaño\",\"ante\",\"anterior\",\"antes\",\"apenas\",\"aproximadamente\",\"aquel\",\"aquella\",\"aquellas\",\"aquello\",\"aquellos\",\"aqui\",\"aquél\",\"aquélla\",\"aquéllas\",\"aquéllos\",\"aquí\",\"arriba\",\"arribaabajo\",\"aseguró\",\"asi\",\"así\",\"atras\",\"aun\",\"aunque\",\"ayer\",\"añadió\",\"aún\",\"b\",\"bajo\",\"bastante\",\"bien\",\"breve\",\"buen\",\"buena\",\"buenas\",\"bueno\",\"buenos\",\"c\",\"cada\",\"casi\",\"cerca\",\"cierta\",\"ciertas\",\"cierto\",\"ciertos\",\"cinco\",\"claro\",\"comentó\",\"como\",\"con\",\"conmigo\",\"conocer\",\"conseguimos\",\"conseguir\",\"considera\",\"consideró\",\"consigo\",\"consigue\",\"consiguen\",\"consigues\",\"contigo\",\"contra\",\"cosas\",\"creo\",\"cual\",\"cuales\",\"cualquier\",\"cuando\",\"cuanta\",\"cuantas\",\"cuanto\",\"cuantos\",\"cuatro\",\"cuenta\",\"cuál\",\"cuáles\",\"cuándo\",\"cuánta\",\"cuántas\",\"cuánto\",\"cuántos\",\"cómo\",\"d\",\"da\",\"dado\",\"dan\",\"dar\",\"de\",\"debajo\",\"debe\",\"deben\",\"debido\",\"decir\",\"dejó\",\"del\",\"delante\",\"demasiado\",\"demás\",\"dentro\",\"deprisa\",\"desde\",\"despacio\",\"despues\",\"después\",\"detras\",\"detrás\",\"dia\",\"dias\",\"dice\",\"dicen\",\"dicho\",\"dieron\",\"diferente\",\"diferentes\",\"dijeron\",\"dijo\",\"dio\",\"donde\",\"dos\",\"durante\",\"día\",\"días\",\"dónde\",\"e\",\"ejemplo\",\"el\",\"ella\",\"ellas\",\"ello\",\"ellos\",\"embargo\",\"empleais\",\"emplean\",\"emplear\",\"empleas\",\"empleo\",\"en\",\"encima\",\"encuentra\",\"enfrente\",\"enseguida\",\"entonces\",\"entre\",\"era\",\"eramos\",\"eran\",\"eras\",\"eres\",\"es\",\"esa\",\"esas\",\"ese\",\"eso\",\"esos\",\"esta\",\"estaba\",\"estaban\",\"estado\",\"estados\",\"estais\",\"estamos\",\"estan\",\"estar\",\"estará\",\"estas\",\"este\",\"esto\",\"estos\",\"estoy\",\"estuvo\",\"está\",\"están\",\"ex\",\"excepto\",\"existe\",\"existen\",\"explicó\",\"expresó\",\"f\",\"fin\",\"final\",\"fue\",\"fuera\",\"fueron\",\"fui\",\"fuimos\",\"g\",\"general\",\"gran\",\"grandes\",\"gueno\",\"h\",\"ha\",\"haber\",\"habia\",\"habla\",\"hablan\",\"habrá\",\"había\",\"habían\",\"hace\",\"haceis\",\"hacemos\",\"hacen\",\"hacer\",\"hacerlo\",\"haces\",\"hacia\",\"haciendo\",\"hago\",\"han\",\"hasta\",\"hay\",\"haya\",\"he\",\"hecho\",\"hemos\",\"hicieron\",\"hizo\",\"horas\",\"hoy\",\"hubo\",\"i\",\"igual\",\"incluso\",\"indicó\",\"informo\",\"informó\",\"intenta\",\"intentais\",\"intentamos\",\"intentan\",\"intentar\",\"intentas\",\"intento\",\"ir\",\"j\",\"junto\",\"k\",\"l\",\"la\",\"lado\",\"largo\",\"las\",\"le\",\"lejos\",\"les\",\"llegó\",\"lleva\",\"llevar\",\"lo\",\"los\",\"luego\",\"lugar\",\"m\",\"mal\",\"manera\",\"manifestó\",\"mas\",\"mayor\",\"me\",\"mediante\",\"medio\",\"mejor\",\"mencionó\",\"menos\",\"menudo\",\"mi\",\"mia\",\"mias\",\"mientras\",\"mio\",\"mios\",\"mis\",\"misma\",\"mismas\",\"mismo\",\"mismos\",\"modo\",\"momento\",\"mucha\",\"muchas\",\"mucho\",\"muchos\",\"muy\",\"más\",\"mí\",\"mía\",\"mías\",\"mío\",\"míos\",\"n\",\"nada\",\"nadie\",\"ni\",\"ninguna\",\"ningunas\",\"ninguno\",\"ningunos\",\"ningún\",\"no\",\"nos\",\"nosotras\",\"nosotros\",\"nuestra\",\"nuestras\",\"nuestro\",\"nuestros\",\"nueva\",\"nuevas\",\"nuevo\",\"nuevos\",\"nunca\",\"o\",\"ocho\",\"os\",\"otra\",\"otras\",\"otro\",\"otros\",\"p\",\"pais\",\"para\",\"parece\",\"parte\",\"partir\",\"pasada\",\"pasado\",\"paìs\",\"peor\",\"pero\",\"pesar\",\"poca\",\"pocas\",\"poco\",\"pocos\",\"podeis\",\"podemos\",\"poder\",\"podria\",\"podriais\",\"podriamos\",\"podrian\",\"podrias\",\"podrá\",\"podrán\",\"podría\",\"podrían\",\"poner\",\"por\",\"porque\",\"posible\",\"primer\",\"primera\",\"primero\",\"primeros\",\"principalmente\",\"pronto\",\"propia\",\"propias\",\"propio\",\"propios\",\"proximo\",\"próximo\",\"próximos\",\"pudo\",\"pueda\",\"puede\",\"pueden\",\"puedo\",\"pues\",\"q\",\"qeu\",\"que\",\"quedó\",\"queremos\",\"quien\",\"quienes\",\"quiere\",\"quiza\",\"quizas\",\"quizá\",\"quizás\",\"quién\",\"quiénes\",\"qué\",\"r\",\"raras\",\"realizado\",\"realizar\",\"realizó\",\"repente\",\"respecto\",\"s\",\"sabe\",\"sabeis\",\"sabemos\",\"saben\",\"saber\",\"sabes\",\"salvo\",\"se\",\"sea\",\"sean\",\"segun\",\"segunda\",\"segundo\",\"según\",\"seis\",\"ser\",\"sera\",\"será\",\"serán\",\"sería\",\"señaló\",\"si\",\"sido\",\"siempre\",\"siendo\",\"siete\",\"sigue\",\"siguiente\",\"sin\",\"sino\",\"sobre\",\"sois\",\"sola\",\"solamente\",\"solas\",\"solo\",\"solos\",\"somos\",\"son\",\"soy\",\"soyos\",\"su\",\"supuesto\",\"sus\",\"suya\",\"suyas\",\"suyo\",\"sé\",\"sí\",\"sólo\",\"t\",\"tal\",\"tambien\",\"también\",\"tampoco\",\"tan\",\"tanto\",\"tarde\",\"te\",\"temprano\",\"tendrá\",\"tendrán\",\"teneis\",\"tenemos\",\"tener\",\"tenga\",\"tengo\",\"tenido\",\"tenía\",\"tercera\",\"ti\",\"tiempo\",\"tiene\",\"tienen\",\"toda\",\"todas\",\"todavia\",\"todavía\",\"todo\",\"todos\",\"total\",\"trabaja\",\"trabajais\",\"trabajamos\",\"trabajan\",\"trabajar\",\"trabajas\",\"trabajo\",\"tras\",\"trata\",\"través\",\"tres\",\"tu\",\"tus\",\"tuvo\",\"tuya\",\"tuyas\",\"tuyo\",\"tuyos\",\"tú\",\"u\",\"ultimo\",\"un\",\"una\",\"unas\",\"uno\",\"unos\",\"usa\",\"usais\",\"usamos\",\"usan\",\"usar\",\"usas\",\"uso\",\"usted\",\"ustedes\",\"v\",\"va\",\"vais\",\"valor\",\"vamos\",\"van\",\"varias\",\"varios\",\"vaya\",\"veces\",\"ver\",\"verdad\",\"verdadera\",\"verdadero\",\"vez\",\"vosotras\",\"vosotros\",\"voy\",\"vuestra\",\"vuestras\",\"vuestro\",\"vuestros\",\"w\",\"x\",\"y\",\"ya\",\"yo\",\"z\",\"él\",\"ésa\",\"ésas\",\"ése\",\"ésos\",\"ésta\",\"éstas\",\"éste\",\"éstos\",\"última\",\"últimas\",\"último\",\"últimos\"],\"et\":[\"aga\",\"ei\",\"et\",\"ja\",\"jah\",\"kas\",\"kui\",\"kõik\",\"ma\",\"me\",\"mida\",\"midagi\",\"mind\",\"minu\",\"mis\",\"mu\",\"mul\",\"mulle\",\"nad\",\"nii\",\"oled\",\"olen\",\"oli\",\"oma\",\"on\",\"pole\",\"sa\",\"seda\",\"see\",\"selle\",\"siin\",\"siis\",\"ta\",\"te\",\"ära\"],\"fi\":[\"aiemmin\",\"aika\",\"aikaa\",\"aikaan\",\"aikaisemmin\",\"aikaisin\",\"aikajen\",\"aikana\",\"aikoina\",\"aikoo\",\"aikovat\",\"aina\",\"ainakaan\",\"ainakin\",\"ainoa\",\"ainoat\",\"aiomme\",\"aion\",\"aiotte\",\"aist\",\"aivan\",\"ajan\",\"alas\",\"alemmas\",\"alkuisin\",\"alkuun\",\"alla\",\"alle\",\"aloitamme\",\"aloitan\",\"aloitat\",\"aloitatte\",\"aloitattivat\",\"aloitettava\",\"aloitettevaksi\",\"aloitettu\",\"aloitimme\",\"aloitin\",\"aloitit\",\"aloititte\",\"aloittaa\",\"aloittamatta\",\"aloitti\",\"aloittivat\",\"alta\",\"aluksi\",\"alussa\",\"alusta\",\"annettavaksi\",\"annetteva\",\"annettu\",\"ansiosta\",\"antaa\",\"antamatta\",\"antoi\",\"aoua\",\"apu\",\"asia\",\"asiaa\",\"asian\",\"asiasta\",\"asiat\",\"asioiden\",\"asioihin\",\"asioita\",\"asti\",\"avuksi\",\"avulla\",\"avun\",\"avutta\",\"edelle\",\"edelleen\",\"edellä\",\"edeltä\",\"edemmäs\",\"edes\",\"edessä\",\"edestä\",\"ehkä\",\"ei\",\"eikä\",\"eilen\",\"eivät\",\"eli\",\"ellei\",\"elleivät\",\"ellemme\",\"ellen\",\"ellet\",\"ellette\",\"emme\",\"en\",\"enemmän\",\"eniten\",\"ennen\",\"ensi\",\"ensimmäinen\",\"ensimmäiseksi\",\"ensimmäisen\",\"ensimmäisenä\",\"ensimmäiset\",\"ensimmäisiksi\",\"ensimmäisinä\",\"ensimmäisiä\",\"ensimmäistä\",\"ensin\",\"entinen\",\"entisen\",\"entisiä\",\"entisten\",\"entistä\",\"enää\",\"eri\",\"erittäin\",\"erityisesti\",\"eräiden\",\"eräs\",\"eräät\",\"esi\",\"esiin\",\"esillä\",\"esimerkiksi\",\"et\",\"eteen\",\"etenkin\",\"etessa\",\"ette\",\"ettei\",\"että\",\"haikki\",\"halua\",\"haluaa\",\"haluamatta\",\"haluamme\",\"haluan\",\"haluat\",\"haluatte\",\"haluavat\",\"halunnut\",\"halusi\",\"halusimme\",\"halusin\",\"halusit\",\"halusitte\",\"halusivat\",\"halutessa\",\"haluton\",\"he\",\"hei\",\"heidän\",\"heihin\",\"heille\",\"heiltä\",\"heissä\",\"heistä\",\"heitä\",\"helposti\",\"heti\",\"hetkellä\",\"hieman\",\"hitaasti\",\"hoikein\",\"huolimatta\",\"huomenna\",\"hyvien\",\"hyviin\",\"hyviksi\",\"hyville\",\"hyviltä\",\"hyvin\",\"hyvinä\",\"hyvissä\",\"hyvistä\",\"hyviä\",\"hyvä\",\"hyvät\",\"hyvää\",\"hän\",\"häneen\",\"hänelle\",\"hänellä\",\"häneltä\",\"hänen\",\"hänessä\",\"hänestä\",\"hänet\",\"ihan\",\"ilman\",\"ilmeisesti\",\"itse\",\"itsensä\",\"itseään\",\"ja\",\"jo\",\"johon\",\"joiden\",\"joihin\",\"joiksi\",\"joilla\",\"joille\",\"joilta\",\"joissa\",\"joista\",\"joita\",\"joka\",\"jokainen\",\"jokin\",\"joko\",\"joku\",\"jolla\",\"jolle\",\"jolloin\",\"jolta\",\"jompikumpi\",\"jonka\",\"jonkin\",\"jonne\",\"joo\",\"jopa\",\"jos\",\"joskus\",\"jossa\",\"josta\",\"jota\",\"jotain\",\"joten\",\"jotenkin\",\"jotenkuten\",\"jotka\",\"jotta\",\"jouduimme\",\"jouduin\",\"jouduit\",\"jouduitte\",\"joudumme\",\"joudun\",\"joudutte\",\"joukkoon\",\"joukossa\",\"joukosta\",\"joutua\",\"joutui\",\"joutuivat\",\"joutumaan\",\"joutuu\",\"joutuvat\",\"juuri\",\"jälkeen\",\"jälleen\",\"jää\",\"kahdeksan\",\"kahdeksannen\",\"kahdella\",\"kahdelle\",\"kahdelta\",\"kahden\",\"kahdessa\",\"kahdesta\",\"kahta\",\"kahteen\",\"kai\",\"kaiken\",\"kaikille\",\"kaikilta\",\"kaikkea\",\"kaikki\",\"kaikkia\",\"kaikkiaan\",\"kaikkialla\",\"kaikkialle\",\"kaikkialta\",\"kaikkien\",\"kaikkin\",\"kaksi\",\"kannalta\",\"kannattaa\",\"kanssa\",\"kanssaan\",\"kanssamme\",\"kanssani\",\"kanssanne\",\"kanssasi\",\"kauan\",\"kauemmas\",\"kaukana\",\"kautta\",\"kehen\",\"keiden\",\"keihin\",\"keiksi\",\"keille\",\"keillä\",\"keiltä\",\"keinä\",\"keissä\",\"keistä\",\"keitten\",\"keittä\",\"keitä\",\"keneen\",\"keneksi\",\"kenelle\",\"kenellä\",\"keneltä\",\"kenen\",\"kenenä\",\"kenessä\",\"kenestä\",\"kenet\",\"kenettä\",\"kennessästä\",\"kenties\",\"kerran\",\"kerta\",\"kertaa\",\"keskellä\",\"kesken\",\"keskimäärin\",\"ketkä\",\"ketä\",\"kiitos\",\"kohti\",\"koko\",\"kokonaan\",\"kolmas\",\"kolme\",\"kolmen\",\"kolmesti\",\"koska\",\"koskaan\",\"kovin\",\"kuin\",\"kuinka\",\"kuinkan\",\"kuitenkaan\",\"kuitenkin\",\"kuka\",\"kukaan\",\"kukin\",\"kukka\",\"kumpainen\",\"kumpainenkaan\",\"kumpi\",\"kumpikaan\",\"kumpikin\",\"kun\",\"kuten\",\"kuuden\",\"kuusi\",\"kuutta\",\"kylliksi\",\"kyllä\",\"kymmenen\",\"kyse\",\"liian\",\"liki\",\"lisäksi\",\"lisää\",\"lla\",\"luo\",\"luona\",\"lähekkäin\",\"lähelle\",\"lähellä\",\"läheltä\",\"lähemmäs\",\"lähes\",\"lähinnä\",\"lähtien\",\"läpi\",\"mahdollisimman\",\"mahdollista\",\"me\",\"meidän\",\"meille\",\"meillä\",\"melkein\",\"melko\",\"menee\",\"meneet\",\"menemme\",\"menen\",\"menet\",\"menette\",\"menevät\",\"meni\",\"menimme\",\"menin\",\"menit\",\"menivät\",\"mennessä\",\"mennyt\",\"menossa\",\"mihin\",\"mikin\",\"miksi\",\"mikä\",\"mikäli\",\"mikään\",\"milloin\",\"milloinkan\",\"minne\",\"minun\",\"minut\",\"minä\",\"missä\",\"mistä\",\"miten\",\"mitä\",\"mitään\",\"moi\",\"molemmat\",\"mones\",\"monesti\",\"monet\",\"moni\",\"moniaalla\",\"moniaalle\",\"moniaalta\",\"monta\",\"muassa\",\"muiden\",\"muita\",\"muka\",\"mukaan\",\"mukaansa\",\"mukana\",\"mutta\",\"muu\",\"muualla\",\"muualle\",\"muualta\",\"muuanne\",\"muulloin\",\"muun\",\"muut\",\"muuta\",\"muutama\",\"muutaman\",\"muuten\",\"myöhemmin\",\"myös\",\"myöskin\",\"myöskään\",\"myötä\",\"ne\",\"neljä\",\"neljän\",\"neljää\",\"niiden\",\"niin\",\"niistä\",\"niitä\",\"noin\",\"nopeammin\",\"nopeasti\",\"nopeiten\",\"nro\",\"nuo\",\"nyt\",\"näiden\",\"näin\",\"näissä\",\"näissähin\",\"näissälle\",\"näissältä\",\"näissästä\",\"näitä\",\"nämä\",\"ohi\",\"oikea\",\"oikealla\",\"oikein\",\"ole\",\"olemme\",\"olen\",\"olet\",\"olette\",\"oleva\",\"olevan\",\"olevat\",\"oli\",\"olimme\",\"olin\",\"olisi\",\"olisimme\",\"olisin\",\"olisit\",\"olisitte\",\"olisivat\",\"olit\",\"olitte\",\"olivat\",\"olla\",\"olleet\",\"olli\",\"ollut\",\"oma\",\"omaa\",\"omaan\",\"omaksi\",\"omalle\",\"omalta\",\"oman\",\"omassa\",\"omat\",\"omia\",\"omien\",\"omiin\",\"omiksi\",\"omille\",\"omilta\",\"omissa\",\"omista\",\"on\",\"onkin\",\"onko\",\"ovat\",\"paikoittain\",\"paitsi\",\"pakosti\",\"paljon\",\"paremmin\",\"parempi\",\"parhaillaan\",\"parhaiten\",\"perusteella\",\"peräti\",\"pian\",\"pieneen\",\"pieneksi\",\"pienelle\",\"pienellä\",\"pieneltä\",\"pienempi\",\"pienestä\",\"pieni\",\"pienin\",\"puolesta\",\"puolestaan\",\"päälle\",\"runsaasti\",\"saakka\",\"sadam\",\"sama\",\"samaa\",\"samaan\",\"samalla\",\"samallalta\",\"samallassa\",\"samallasta\",\"saman\",\"samat\",\"samoin\",\"sata\",\"sataa\",\"satojen\",\"se\",\"seitsemän\",\"sekä\",\"sen\",\"seuraavat\",\"siellä\",\"sieltä\",\"siihen\",\"siinä\",\"siis\",\"siitä\",\"sijaan\",\"siksi\",\"silloin\",\"sillä\",\"silti\",\"sinne\",\"sinua\",\"sinulle\",\"sinulta\",\"sinun\",\"sinussa\",\"sinusta\",\"sinut\",\"sinä\",\"sisäkkäin\",\"sisällä\",\"siten\",\"sitten\",\"sitä\",\"ssa\",\"sta\",\"suoraan\",\"suuntaan\",\"suuren\",\"suuret\",\"suuri\",\"suuria\",\"suurin\",\"suurten\",\"taa\",\"taas\",\"taemmas\",\"tahansa\",\"tai\",\"takaa\",\"takaisin\",\"takana\",\"takia\",\"tapauksessa\",\"tarpeeksi\",\"tavalla\",\"tavoitteena\",\"te\",\"tietysti\",\"todella\",\"toinen\",\"toisaalla\",\"toisaalle\",\"toisaalta\",\"toiseen\",\"toiseksi\",\"toisella\",\"toiselle\",\"toiselta\",\"toisemme\",\"toisen\",\"toisensa\",\"toisessa\",\"toisesta\",\"toista\",\"toistaiseksi\",\"toki\",\"tosin\",\"tuhannen\",\"tuhat\",\"tule\",\"tulee\",\"tulemme\",\"tulen\",\"tulet\",\"tulette\",\"tulevat\",\"tulimme\",\"tulin\",\"tulisi\",\"tulisimme\",\"tulisin\",\"tulisit\",\"tulisitte\",\"tulisivat\",\"tulit\",\"tulitte\",\"tulivat\",\"tulla\",\"tulleet\",\"tullut\",\"tuntuu\",\"tuo\",\"tuolla\",\"tuolloin\",\"tuolta\",\"tuonne\",\"tuskin\",\"tykö\",\"tähän\",\"tällä\",\"tällöin\",\"tämä\",\"tämän\",\"tänne\",\"tänä\",\"tänään\",\"tässä\",\"tästä\",\"täten\",\"tätä\",\"täysin\",\"täytyvät\",\"täytyy\",\"täällä\",\"täältä\",\"ulkopuolella\",\"usea\",\"useasti\",\"useimmiten\",\"usein\",\"useita\",\"uudeksi\",\"uudelleen\",\"uuden\",\"uudet\",\"uusi\",\"uusia\",\"uusien\",\"uusinta\",\"uuteen\",\"uutta\",\"vaan\",\"vahemmän\",\"vai\",\"vaiheessa\",\"vaikea\",\"vaikean\",\"vaikeat\",\"vaikeilla\",\"vaikeille\",\"vaikeilta\",\"vaikeissa\",\"vaikeista\",\"vaikka\",\"vain\",\"varmasti\",\"varsin\",\"varsinkin\",\"varten\",\"vasen\",\"vasenmalla\",\"vasta\",\"vastaan\",\"vastakkain\",\"vastan\",\"verran\",\"vielä\",\"vierekkäin\",\"vieressä\",\"vieri\",\"viiden\",\"viime\",\"viimeinen\",\"viimeisen\",\"viimeksi\",\"viisi\",\"voi\",\"voidaan\",\"voimme\",\"voin\",\"voisi\",\"voit\",\"voitte\",\"voivat\",\"vuoden\",\"vuoksi\",\"vuosi\",\"vuosien\",\"vuosina\",\"vuotta\",\"vähemmän\",\"vähintään\",\"vähiten\",\"vähän\",\"välillä\",\"yhdeksän\",\"yhden\",\"yhdessä\",\"yhteen\",\"yhteensä\",\"yhteydessä\",\"yhteyteen\",\"yhtä\",\"yhtäälle\",\"yhtäällä\",\"yhtäältä\",\"yhtään\",\"yhä\",\"yksi\",\"yksin\",\"yksittäin\",\"yleensä\",\"ylemmäs\",\"yli\",\"ylös\",\"ympäri\",\"älköön\",\"älä\"],\"fr\":[\"a\",\"abord\",\"absolument\",\"afin\",\"ah\",\"ai\",\"aie\",\"ailleurs\",\"ainsi\",\"ait\",\"allaient\",\"allo\",\"allons\",\"allô\",\"alors\",\"anterieur\",\"anterieure\",\"anterieures\",\"apres\",\"après\",\"as\",\"assez\",\"attendu\",\"au\",\"aucun\",\"aucune\",\"aujourd\",\"aujourd'hui\",\"aupres\",\"auquel\",\"aura\",\"auraient\",\"aurait\",\"auront\",\"aussi\",\"autre\",\"autrefois\",\"autrement\",\"autres\",\"autrui\",\"aux\",\"auxquelles\",\"auxquels\",\"avaient\",\"avais\",\"avait\",\"avant\",\"avec\",\"avoir\",\"avons\",\"ayant\",\"b\",\"bah\",\"bas\",\"basee\",\"bat\",\"beau\",\"beaucoup\",\"bien\",\"bigre\",\"boum\",\"bravo\",\"brrr\",\"c\",\"car\",\"ce\",\"ceci\",\"cela\",\"celle\",\"celle-ci\",\"celle-là\",\"celles\",\"celles-ci\",\"celles-là\",\"celui\",\"celui-ci\",\"celui-là\",\"cent\",\"cependant\",\"certain\",\"certaine\",\"certaines\",\"certains\",\"certes\",\"ces\",\"cet\",\"cette\",\"ceux\",\"ceux-ci\",\"ceux-là\",\"chacun\",\"chacune\",\"chaque\",\"cher\",\"chers\",\"chez\",\"chiche\",\"chut\",\"chère\",\"chères\",\"ci\",\"cinq\",\"cinquantaine\",\"cinquante\",\"cinquantième\",\"cinquième\",\"clac\",\"clic\",\"combien\",\"comme\",\"comment\",\"comparable\",\"comparables\",\"compris\",\"concernant\",\"contre\",\"couic\",\"crac\",\"d\",\"da\",\"dans\",\"de\",\"debout\",\"dedans\",\"dehors\",\"deja\",\"delà\",\"depuis\",\"dernier\",\"derniere\",\"derriere\",\"derrière\",\"des\",\"desormais\",\"desquelles\",\"desquels\",\"dessous\",\"dessus\",\"deux\",\"deuxième\",\"deuxièmement\",\"devant\",\"devers\",\"devra\",\"different\",\"differentes\",\"differents\",\"différent\",\"différente\",\"différentes\",\"différents\",\"dire\",\"directe\",\"directement\",\"dit\",\"dite\",\"dits\",\"divers\",\"diverse\",\"diverses\",\"dix\",\"dix-huit\",\"dix-neuf\",\"dix-sept\",\"dixième\",\"doit\",\"doivent\",\"donc\",\"dont\",\"douze\",\"douzième\",\"dring\",\"du\",\"duquel\",\"durant\",\"dès\",\"désormais\",\"e\",\"effet\",\"egale\",\"egalement\",\"egales\",\"eh\",\"elle\",\"elle-même\",\"elles\",\"elles-mêmes\",\"en\",\"encore\",\"enfin\",\"entre\",\"envers\",\"environ\",\"es\",\"est\",\"et\",\"etant\",\"etc\",\"etre\",\"eu\",\"euh\",\"eux\",\"eux-mêmes\",\"exactement\",\"excepté\",\"extenso\",\"exterieur\",\"f\",\"fais\",\"faisaient\",\"faisant\",\"fait\",\"façon\",\"feront\",\"fi\",\"flac\",\"floc\",\"font\",\"g\",\"gens\",\"h\",\"ha\",\"hein\",\"hem\",\"hep\",\"hi\",\"ho\",\"holà\",\"hop\",\"hormis\",\"hors\",\"hou\",\"houp\",\"hue\",\"hui\",\"huit\",\"huitième\",\"hum\",\"hurrah\",\"hé\",\"hélas\",\"i\",\"il\",\"ils\",\"importe\",\"j\",\"je\",\"jusqu\",\"jusque\",\"juste\",\"k\",\"l\",\"la\",\"laisser\",\"laquelle\",\"las\",\"le\",\"lequel\",\"les\",\"lesquelles\",\"lesquels\",\"leur\",\"leurs\",\"longtemps\",\"lors\",\"lorsque\",\"lui\",\"lui-meme\",\"lui-même\",\"là\",\"lès\",\"m\",\"ma\",\"maint\",\"maintenant\",\"mais\",\"malgre\",\"malgré\",\"maximale\",\"me\",\"meme\",\"memes\",\"merci\",\"mes\",\"mien\",\"mienne\",\"miennes\",\"miens\",\"mille\",\"mince\",\"minimale\",\"moi\",\"moi-meme\",\"moi-même\",\"moindres\",\"moins\",\"mon\",\"moyennant\",\"multiple\",\"multiples\",\"même\",\"mêmes\",\"n\",\"na\",\"naturel\",\"naturelle\",\"naturelles\",\"ne\",\"neanmoins\",\"necessaire\",\"necessairement\",\"neuf\",\"neuvième\",\"ni\",\"nombreuses\",\"nombreux\",\"non\",\"nos\",\"notamment\",\"notre\",\"nous\",\"nous-mêmes\",\"nouveau\",\"nul\",\"néanmoins\",\"nôtre\",\"nôtres\",\"o\",\"oh\",\"ohé\",\"ollé\",\"olé\",\"on\",\"ont\",\"onze\",\"onzième\",\"ore\",\"ou\",\"ouf\",\"ouias\",\"oust\",\"ouste\",\"outre\",\"ouvert\",\"ouverte\",\"ouverts\",\"o|\",\"où\",\"p\",\"paf\",\"pan\",\"par\",\"parce\",\"parfois\",\"parle\",\"parlent\",\"parler\",\"parmi\",\"parseme\",\"partant\",\"particulier\",\"particulière\",\"particulièrement\",\"pas\",\"passé\",\"pendant\",\"pense\",\"permet\",\"personne\",\"peu\",\"peut\",\"peuvent\",\"peux\",\"pff\",\"pfft\",\"pfut\",\"pif\",\"pire\",\"plein\",\"plouf\",\"plus\",\"plusieurs\",\"plutôt\",\"possessif\",\"possessifs\",\"possible\",\"possibles\",\"pouah\",\"pour\",\"pourquoi\",\"pourrais\",\"pourrait\",\"pouvait\",\"prealable\",\"precisement\",\"premier\",\"première\",\"premièrement\",\"pres\",\"probable\",\"probante\",\"procedant\",\"proche\",\"près\",\"psitt\",\"pu\",\"puis\",\"puisque\",\"pur\",\"pure\",\"q\",\"qu\",\"quand\",\"quant\",\"quant-à-soi\",\"quanta\",\"quarante\",\"quatorze\",\"quatre\",\"quatre-vingt\",\"quatrième\",\"quatrièmement\",\"que\",\"quel\",\"quelconque\",\"quelle\",\"quelles\",\"quelqu'un\",\"quelque\",\"quelques\",\"quels\",\"qui\",\"quiconque\",\"quinze\",\"quoi\",\"quoique\",\"r\",\"rare\",\"rarement\",\"rares\",\"relative\",\"relativement\",\"remarquable\",\"rend\",\"rendre\",\"restant\",\"reste\",\"restent\",\"restrictif\",\"retour\",\"revoici\",\"revoilà\",\"rien\",\"s\",\"sa\",\"sacrebleu\",\"sait\",\"sans\",\"sapristi\",\"sauf\",\"se\",\"sein\",\"seize\",\"selon\",\"semblable\",\"semblaient\",\"semble\",\"semblent\",\"sent\",\"sept\",\"septième\",\"sera\",\"seraient\",\"serait\",\"seront\",\"ses\",\"seul\",\"seule\",\"seulement\",\"si\",\"sien\",\"sienne\",\"siennes\",\"siens\",\"sinon\",\"six\",\"sixième\",\"soi\",\"soi-même\",\"soit\",\"soixante\",\"son\",\"sont\",\"sous\",\"souvent\",\"specifique\",\"specifiques\",\"speculatif\",\"stop\",\"strictement\",\"subtiles\",\"suffisant\",\"suffisante\",\"suffit\",\"suis\",\"suit\",\"suivant\",\"suivante\",\"suivantes\",\"suivants\",\"suivre\",\"superpose\",\"sur\",\"surtout\",\"t\",\"ta\",\"tac\",\"tant\",\"tardive\",\"te\",\"tel\",\"telle\",\"tellement\",\"telles\",\"tels\",\"tenant\",\"tend\",\"tenir\",\"tente\",\"tes\",\"tic\",\"tien\",\"tienne\",\"tiennes\",\"tiens\",\"toc\",\"toi\",\"toi-même\",\"ton\",\"touchant\",\"toujours\",\"tous\",\"tout\",\"toute\",\"toutefois\",\"toutes\",\"treize\",\"trente\",\"tres\",\"trois\",\"troisième\",\"troisièmement\",\"trop\",\"très\",\"tsoin\",\"tsouin\",\"tu\",\"té\",\"u\",\"un\",\"une\",\"unes\",\"uniformement\",\"unique\",\"uniques\",\"uns\",\"v\",\"va\",\"vais\",\"vas\",\"vers\",\"via\",\"vif\",\"vifs\",\"vingt\",\"vivat\",\"vive\",\"vives\",\"vlan\",\"voici\",\"voilà\",\"vont\",\"vos\",\"votre\",\"vous\",\"vous-mêmes\",\"vu\",\"vé\",\"vôtre\",\"vôtres\",\"w\",\"x\",\"y\",\"z\",\"zut\",\"à\",\"â\",\"ça\",\"ès\",\"étaient\",\"étais\",\"était\",\"étant\",\"été\",\"être\",\"ô\"],\"hr\":[\"a\",\"ako\",\"ali\",\"bi\",\"bih\",\"bila\",\"bili\",\"bilo\",\"bio\",\"bismo\",\"biste\",\"biti\",\"bumo\",\"da\",\"do\",\"duž\",\"ga\",\"hoće\",\"hoćemo\",\"hoćete\",\"hoćeš\",\"hoću\",\"i\",\"iako\",\"ih\",\"ili\",\"iz\",\"ja\",\"je\",\"jedna\",\"jedne\",\"jedno\",\"jer\",\"jesam\",\"jesi\",\"jesmo\",\"jest\",\"jeste\",\"jesu\",\"jim\",\"joj\",\"još\",\"ju\",\"kada\",\"kako\",\"kao\",\"koja\",\"koje\",\"koji\",\"kojima\",\"koju\",\"kroz\",\"li\",\"me\",\"mene\",\"meni\",\"mi\",\"mimo\",\"moj\",\"moja\",\"moje\",\"mu\",\"na\",\"nad\",\"nakon\",\"nam\",\"nama\",\"nas\",\"naš\",\"naša\",\"naše\",\"našeg\",\"ne\",\"nego\",\"neka\",\"neki\",\"nekog\",\"neku\",\"nema\",\"netko\",\"neće\",\"nećemo\",\"nećete\",\"nećeš\",\"neću\",\"nešto\",\"ni\",\"nije\",\"nikoga\",\"nikoje\",\"nikoju\",\"nisam\",\"nisi\",\"nismo\",\"niste\",\"nisu\",\"njega\",\"njegov\",\"njegova\",\"njegovo\",\"njemu\",\"njezin\",\"njezina\",\"njezino\",\"njih\",\"njihov\",\"njihova\",\"njihovo\",\"njim\",\"njima\",\"njoj\",\"nju\",\"no\",\"o\",\"od\",\"odmah\",\"on\",\"ona\",\"oni\",\"ono\",\"ova\",\"pa\",\"pak\",\"po\",\"pod\",\"pored\",\"prije\",\"s\",\"sa\",\"sam\",\"samo\",\"se\",\"sebe\",\"sebi\",\"si\",\"smo\",\"ste\",\"su\",\"sve\",\"svi\",\"svog\",\"svoj\",\"svoja\",\"svoje\",\"svom\",\"ta\",\"tada\",\"taj\",\"tako\",\"te\",\"tebe\",\"tebi\",\"ti\",\"to\",\"toj\",\"tome\",\"tu\",\"tvoj\",\"tvoja\",\"tvoje\",\"u\",\"uz\",\"vam\",\"vama\",\"vas\",\"vaš\",\"vaša\",\"vaše\",\"već\",\"vi\",\"vrlo\",\"za\",\"zar\",\"će\",\"ćemo\",\"ćete\",\"ćeš\",\"ću\",\"što\"],\"hu\":[\"a\",\"abba\",\"abban\",\"abból\",\"addig\",\"ahhoz\",\"ahogy\",\"ahol\",\"aki\",\"akik\",\"akkor\",\"akár\",\"alapján\",\"alatt\",\"alatta\",\"alattad\",\"alattam\",\"alattatok\",\"alattuk\",\"alattunk\",\"alá\",\"alád\",\"alájuk\",\"alám\",\"alánk\",\"alátok\",\"alól\",\"alóla\",\"alólad\",\"alólam\",\"alólatok\",\"alóluk\",\"alólunk\",\"amely\",\"amelybol\",\"amelyek\",\"amelyekben\",\"amelyeket\",\"amelyet\",\"amelyik\",\"amelynek\",\"ami\",\"amikor\",\"amit\",\"amolyan\",\"amott\",\"amíg\",\"annak\",\"annál\",\"arra\",\"arról\",\"attól\",\"az\",\"aznap\",\"azok\",\"azokat\",\"azokba\",\"azokban\",\"azokból\",\"azokhoz\",\"azokig\",\"azokkal\",\"azokká\",\"azoknak\",\"azoknál\",\"azokon\",\"azokra\",\"azokról\",\"azoktól\",\"azokért\",\"azon\",\"azonban\",\"azonnal\",\"azt\",\"aztán\",\"azután\",\"azzal\",\"azzá\",\"azért\",\"bal\",\"balra\",\"ban\",\"be\",\"belé\",\"beléd\",\"beléjük\",\"belém\",\"belénk\",\"belétek\",\"belül\",\"belőle\",\"belőled\",\"belőlem\",\"belőletek\",\"belőlük\",\"belőlünk\",\"ben\",\"benne\",\"benned\",\"bennem\",\"bennetek\",\"bennük\",\"bennünk\",\"bár\",\"bárcsak\",\"bármilyen\",\"búcsú\",\"cikk\",\"cikkek\",\"cikkeket\",\"csak\",\"csakhogy\",\"csupán\",\"de\",\"dehogy\",\"e\",\"ebbe\",\"ebben\",\"ebből\",\"eddig\",\"egy\",\"egyebek\",\"egyebet\",\"egyedül\",\"egyelőre\",\"egyes\",\"egyet\",\"egyetlen\",\"egyik\",\"egymás\",\"egyre\",\"egyszerre\",\"egyéb\",\"együtt\",\"egész\",\"egészen\",\"ehhez\",\"ekkor\",\"el\",\"eleinte\",\"ellen\",\"ellenes\",\"elleni\",\"ellenére\",\"elmondta\",\"első\",\"elsők\",\"elsősorban\",\"elsőt\",\"elé\",\"eléd\",\"elég\",\"eléjük\",\"elém\",\"elénk\",\"elétek\",\"elő\",\"előbb\",\"elől\",\"előle\",\"előled\",\"előlem\",\"előletek\",\"előlük\",\"előlünk\",\"először\",\"előtt\",\"előtte\",\"előtted\",\"előttem\",\"előttetek\",\"előttük\",\"előttünk\",\"előző\",\"emilyen\",\"engem\",\"ennek\",\"ennyi\",\"ennél\",\"enyém\",\"erre\",\"erről\",\"esetben\",\"ettől\",\"ez\",\"ezek\",\"ezekbe\",\"ezekben\",\"ezekből\",\"ezeken\",\"ezeket\",\"ezekhez\",\"ezekig\",\"ezekkel\",\"ezekké\",\"ezeknek\",\"ezeknél\",\"ezekre\",\"ezekről\",\"ezektől\",\"ezekért\",\"ezen\",\"ezentúl\",\"ezer\",\"ezret\",\"ezt\",\"ezután\",\"ezzel\",\"ezzé\",\"ezért\",\"fel\",\"fele\",\"felek\",\"felet\",\"felett\",\"felé\",\"fent\",\"fenti\",\"fél\",\"fölé\",\"gyakran\",\"ha\",\"halló\",\"hamar\",\"hanem\",\"harmadik\",\"harmadikat\",\"harminc\",\"hat\",\"hatodik\",\"hatodikat\",\"hatot\",\"hatvan\",\"helyett\",\"hetedik\",\"hetediket\",\"hetet\",\"hetven\",\"hirtelen\",\"hiszen\",\"hiába\",\"hogy\",\"hogyan\",\"hol\",\"holnap\",\"holnapot\",\"honnan\",\"hova\",\"hozzá\",\"hozzád\",\"hozzájuk\",\"hozzám\",\"hozzánk\",\"hozzátok\",\"hurrá\",\"huszadik\",\"hány\",\"hányszor\",\"hármat\",\"három\",\"hát\",\"hátha\",\"hátulsó\",\"hét\",\"húsz\",\"ide\",\"ide-оda\",\"idén\",\"igazán\",\"igen\",\"ill\",\"illetve\",\"ilyen\",\"ilyenkor\",\"immár\",\"inkább\",\"is\",\"ismét\",\"ison\",\"itt\",\"jelenleg\",\"jobban\",\"jobbra\",\"jó\",\"jól\",\"jólesik\",\"jóval\",\"jövőre\",\"kell\",\"kellene\",\"kellett\",\"kelljen\",\"keressünk\",\"keresztül\",\"ketten\",\"kettő\",\"kettőt\",\"kevés\",\"ki\",\"kiben\",\"kiből\",\"kicsit\",\"kicsoda\",\"kihez\",\"kik\",\"kikbe\",\"kikben\",\"kikből\",\"kiken\",\"kiket\",\"kikhez\",\"kikkel\",\"kikké\",\"kiknek\",\"kiknél\",\"kikre\",\"kikről\",\"kiktől\",\"kikért\",\"kilenc\",\"kilencedik\",\"kilencediket\",\"kilencet\",\"kilencven\",\"kin\",\"kinek\",\"kinél\",\"kire\",\"kiről\",\"kit\",\"kitől\",\"kivel\",\"kivé\",\"kié\",\"kiért\",\"korábban\",\"képest\",\"kérem\",\"kérlek\",\"kész\",\"késő\",\"később\",\"későn\",\"két\",\"kétszer\",\"kívül\",\"körül\",\"köszönhetően\",\"köszönöm\",\"közben\",\"közel\",\"közepesen\",\"közepén\",\"közé\",\"között\",\"közül\",\"külön\",\"különben\",\"különböző\",\"különbözőbb\",\"különbözőek\",\"lassan\",\"le\",\"legalább\",\"legyen\",\"lehet\",\"lehetetlen\",\"lehetett\",\"lehetőleg\",\"lehetőség\",\"lenne\",\"lenni\",\"lennék\",\"lennének\",\"lesz\",\"leszek\",\"lesznek\",\"leszünk\",\"lett\",\"lettek\",\"lettem\",\"lettünk\",\"lévő\",\"ma\",\"maga\",\"magad\",\"magam\",\"magatokat\",\"magukat\",\"magunkat\",\"magát\",\"mai\",\"majd\",\"majdnem\",\"manapság\",\"meg\",\"megcsinál\",\"megcsinálnak\",\"megint\",\"megvan\",\"mellett\",\"mellette\",\"melletted\",\"mellettem\",\"mellettetek\",\"mellettük\",\"mellettünk\",\"mellé\",\"melléd\",\"melléjük\",\"mellém\",\"mellénk\",\"mellétek\",\"mellől\",\"mellőle\",\"mellőled\",\"mellőlem\",\"mellőletek\",\"mellőlük\",\"mellőlünk\",\"mely\",\"melyek\",\"melyik\",\"mennyi\",\"mert\",\"mi\",\"miatt\",\"miatta\",\"miattad\",\"miattam\",\"miattatok\",\"miattuk\",\"miattunk\",\"mibe\",\"miben\",\"miből\",\"mihez\",\"mik\",\"mikbe\",\"mikben\",\"mikből\",\"miken\",\"miket\",\"mikhez\",\"mikkel\",\"mikké\",\"miknek\",\"miknél\",\"mikor\",\"mikre\",\"mikről\",\"miktől\",\"mikért\",\"milyen\",\"min\",\"mind\",\"mindegyik\",\"mindegyiket\",\"minden\",\"mindenesetre\",\"mindenki\",\"mindent\",\"mindenütt\",\"mindig\",\"mindketten\",\"minek\",\"minket\",\"mint\",\"mintha\",\"minél\",\"mire\",\"miről\",\"mit\",\"mitől\",\"mivel\",\"mivé\",\"miért\",\"mondta\",\"most\",\"mostanáig\",\"már\",\"más\",\"másik\",\"másikat\",\"másnap\",\"második\",\"másodszor\",\"mások\",\"másokat\",\"mást\",\"még\",\"mégis\",\"míg\",\"mögé\",\"mögéd\",\"mögéjük\",\"mögém\",\"mögénk\",\"mögétek\",\"mögött\",\"mögötte\",\"mögötted\",\"mögöttem\",\"mögöttetek\",\"mögöttük\",\"mögöttünk\",\"mögül\",\"mögüle\",\"mögüled\",\"mögülem\",\"mögületek\",\"mögülük\",\"mögülünk\",\"múltkor\",\"múlva\",\"na\",\"nagy\",\"nagyobb\",\"nagyon\",\"naponta\",\"napot\",\"ne\",\"negyedik\",\"negyediket\",\"negyven\",\"neked\",\"nekem\",\"neki\",\"nekik\",\"nektek\",\"nekünk\",\"nem\",\"nemcsak\",\"nemrég\",\"nincs\",\"nyolc\",\"nyolcadik\",\"nyolcadikat\",\"nyolcat\",\"nyolcvan\",\"nála\",\"nálad\",\"nálam\",\"nálatok\",\"náluk\",\"nálunk\",\"négy\",\"négyet\",\"néha\",\"néhány\",\"nélkül\",\"o\",\"oda\",\"ok\",\"olyan\",\"onnan\",\"ott\",\"pedig\",\"persze\",\"pár\",\"például\",\"rajta\",\"rajtad\",\"rajtam\",\"rajtatok\",\"rajtuk\",\"rajtunk\",\"rendben\",\"rosszul\",\"rá\",\"rád\",\"rájuk\",\"rám\",\"ránk\",\"rátok\",\"régen\",\"régóta\",\"részére\",\"róla\",\"rólad\",\"rólam\",\"rólatok\",\"róluk\",\"rólunk\",\"rögtön\",\"s\",\"saját\",\"se\",\"sem\",\"semmi\",\"semmilyen\",\"semmiség\",\"senki\",\"soha\",\"sok\",\"sokan\",\"sokat\",\"sokkal\",\"sokszor\",\"sokáig\",\"során\",\"stb.\",\"szemben\",\"szerbusz\",\"szerint\",\"szerinte\",\"szerinted\",\"szerintem\",\"szerintetek\",\"szerintük\",\"szerintünk\",\"szervusz\",\"szinte\",\"számára\",\"száz\",\"századik\",\"százat\",\"szépen\",\"szét\",\"szíves\",\"szívesen\",\"szíveskedjék\",\"sőt\",\"talán\",\"tavaly\",\"te\",\"tegnap\",\"tegnapelőtt\",\"tehát\",\"tele\",\"teljes\",\"tessék\",\"ti\",\"tied\",\"titeket\",\"tizedik\",\"tizediket\",\"tizenegy\",\"tizenegyedik\",\"tizenhat\",\"tizenhárom\",\"tizenhét\",\"tizenkettedik\",\"tizenkettő\",\"tizenkilenc\",\"tizenkét\",\"tizennyolc\",\"tizennégy\",\"tizenöt\",\"tizet\",\"tovább\",\"további\",\"továbbá\",\"távol\",\"téged\",\"tényleg\",\"tíz\",\"több\",\"többi\",\"többször\",\"túl\",\"tőle\",\"tőled\",\"tőlem\",\"tőletek\",\"tőlük\",\"tőlünk\",\"ugyanakkor\",\"ugyanez\",\"ugyanis\",\"ugye\",\"urak\",\"uram\",\"urat\",\"utoljára\",\"utolsó\",\"után\",\"utána\",\"vagy\",\"vagyis\",\"vagyok\",\"vagytok\",\"vagyunk\",\"vajon\",\"valahol\",\"valaki\",\"valakit\",\"valamelyik\",\"valami\",\"valamint\",\"való\",\"van\",\"vannak\",\"vele\",\"veled\",\"velem\",\"veletek\",\"velük\",\"velünk\",\"vissza\",\"viszlát\",\"viszont\",\"viszontlátásra\",\"volna\",\"volnának\",\"volnék\",\"volt\",\"voltak\",\"voltam\",\"voltunk\",\"végre\",\"végén\",\"végül\",\"által\",\"általában\",\"ám\",\"át\",\"éljen\",\"én\",\"éppen\",\"érte\",\"érted\",\"értem\",\"értetek\",\"értük\",\"értünk\",\"és\",\"év\",\"évben\",\"éve\",\"évek\",\"éves\",\"évi\",\"évvel\",\"így\",\"óta\",\"ön\",\"önbe\",\"önben\",\"önből\",\"önhöz\",\"önnek\",\"önnel\",\"önnél\",\"önre\",\"önről\",\"önt\",\"öntől\",\"önért\",\"önök\",\"önökbe\",\"önökben\",\"önökből\",\"önöket\",\"önökhöz\",\"önökkel\",\"önöknek\",\"önöknél\",\"önökre\",\"önökről\",\"önöktől\",\"önökért\",\"önökön\",\"önön\",\"össze\",\"öt\",\"ötven\",\"ötödik\",\"ötödiket\",\"ötöt\",\"úgy\",\"úgyis\",\"úgynevezett\",\"új\",\"újabb\",\"újra\",\"úr\",\"ő\",\"ők\",\"őket\",\"őt\"],\"it\":[\"IE\",\"a\",\"abbastanza\",\"abbia\",\"abbiamo\",\"abbiano\",\"abbiate\",\"accidenti\",\"ad\",\"adesso\",\"affinche\",\"agl\",\"agli\",\"ahime\",\"ahimè\",\"ai\",\"al\",\"alcuna\",\"alcuni\",\"alcuno\",\"all\",\"alla\",\"alle\",\"allo\",\"allora\",\"altri\",\"altrimenti\",\"altro\",\"altrove\",\"altrui\",\"anche\",\"ancora\",\"anni\",\"anno\",\"ansa\",\"anticipo\",\"assai\",\"attesa\",\"attraverso\",\"avanti\",\"avemmo\",\"avendo\",\"avente\",\"aver\",\"avere\",\"averlo\",\"avesse\",\"avessero\",\"avessi\",\"avessimo\",\"aveste\",\"avesti\",\"avete\",\"aveva\",\"avevamo\",\"avevano\",\"avevate\",\"avevi\",\"avevo\",\"avrai\",\"avranno\",\"avrebbe\",\"avrebbero\",\"avrei\",\"avremmo\",\"avremo\",\"avreste\",\"avresti\",\"avrete\",\"avrà\",\"avrò\",\"avuta\",\"avute\",\"avuti\",\"avuto\",\"basta\",\"bene\",\"benissimo\",\"berlusconi\",\"brava\",\"bravo\",\"c\",\"casa\",\"caso\",\"cento\",\"certa\",\"certe\",\"certi\",\"certo\",\"che\",\"chi\",\"chicchessia\",\"chiunque\",\"ci\",\"ciascuna\",\"ciascuno\",\"cima\",\"cio\",\"cioe\",\"cioè\",\"circa\",\"citta\",\"città\",\"ciò\",\"co\",\"codesta\",\"codesti\",\"codesto\",\"cogli\",\"coi\",\"col\",\"colei\",\"coll\",\"coloro\",\"colui\",\"come\",\"cominci\",\"comunque\",\"con\",\"concernente\",\"conciliarsi\",\"conclusione\",\"consiglio\",\"contro\",\"cortesia\",\"cos\",\"cosa\",\"cosi\",\"così\",\"cui\",\"d\",\"da\",\"dagl\",\"dagli\",\"dai\",\"dal\",\"dall\",\"dalla\",\"dalle\",\"dallo\",\"dappertutto\",\"davanti\",\"degl\",\"degli\",\"dei\",\"del\",\"dell\",\"della\",\"delle\",\"dello\",\"dentro\",\"detto\",\"deve\",\"di\",\"dice\",\"dietro\",\"dire\",\"dirimpetto\",\"diventa\",\"diventare\",\"diventato\",\"dopo\",\"dov\",\"dove\",\"dovra\",\"dovrà\",\"dovunque\",\"due\",\"dunque\",\"durante\",\"e\",\"ebbe\",\"ebbero\",\"ebbi\",\"ecc\",\"ecco\",\"ed\",\"effettivamente\",\"egli\",\"ella\",\"entrambi\",\"eppure\",\"era\",\"erano\",\"eravamo\",\"eravate\",\"eri\",\"ero\",\"esempio\",\"esse\",\"essendo\",\"esser\",\"essere\",\"essi\",\"ex\",\"fa\",\"faccia\",\"facciamo\",\"facciano\",\"facciate\",\"faccio\",\"facemmo\",\"facendo\",\"facesse\",\"facessero\",\"facessi\",\"facessimo\",\"faceste\",\"facesti\",\"faceva\",\"facevamo\",\"facevano\",\"facevate\",\"facevi\",\"facevo\",\"fai\",\"fanno\",\"farai\",\"faranno\",\"fare\",\"farebbe\",\"farebbero\",\"farei\",\"faremmo\",\"faremo\",\"fareste\",\"faresti\",\"farete\",\"farà\",\"farò\",\"fatto\",\"favore\",\"fece\",\"fecero\",\"feci\",\"fin\",\"finalmente\",\"finche\",\"fine\",\"fino\",\"forse\",\"forza\",\"fosse\",\"fossero\",\"fossi\",\"fossimo\",\"foste\",\"fosti\",\"fra\",\"frattempo\",\"fu\",\"fui\",\"fummo\",\"fuori\",\"furono\",\"futuro\",\"generale\",\"gia\",\"giacche\",\"giorni\",\"giorno\",\"già\",\"gli\",\"gliela\",\"gliele\",\"glieli\",\"glielo\",\"gliene\",\"governo\",\"grande\",\"grazie\",\"gruppo\",\"ha\",\"haha\",\"hai\",\"hanno\",\"ho\",\"i\",\"ieri\",\"il\",\"improvviso\",\"in\",\"inc\",\"infatti\",\"inoltre\",\"insieme\",\"intanto\",\"intorno\",\"invece\",\"io\",\"l\",\"la\",\"lasciato\",\"lato\",\"lavoro\",\"le\",\"lei\",\"li\",\"lo\",\"lontano\",\"loro\",\"lui\",\"lungo\",\"luogo\",\"là\",\"ma\",\"macche\",\"magari\",\"maggior\",\"mai\",\"male\",\"malgrado\",\"malissimo\",\"mancanza\",\"marche\",\"me\",\"medesimo\",\"mediante\",\"meglio\",\"meno\",\"mentre\",\"mesi\",\"mezzo\",\"mi\",\"mia\",\"mie\",\"miei\",\"mila\",\"miliardi\",\"milioni\",\"minimi\",\"ministro\",\"mio\",\"modo\",\"molti\",\"moltissimo\",\"molto\",\"momento\",\"mondo\",\"mosto\",\"nazionale\",\"ne\",\"negl\",\"negli\",\"nei\",\"nel\",\"nell\",\"nella\",\"nelle\",\"nello\",\"nemmeno\",\"neppure\",\"nessun\",\"nessuna\",\"nessuno\",\"niente\",\"no\",\"noi\",\"non\",\"nondimeno\",\"nonostante\",\"nonsia\",\"nostra\",\"nostre\",\"nostri\",\"nostro\",\"novanta\",\"nove\",\"nulla\",\"nuovo\",\"o\",\"od\",\"oggi\",\"ogni\",\"ognuna\",\"ognuno\",\"oltre\",\"oppure\",\"ora\",\"ore\",\"osi\",\"ossia\",\"ottanta\",\"otto\",\"paese\",\"parecchi\",\"parecchie\",\"parecchio\",\"parte\",\"partendo\",\"peccato\",\"peggio\",\"per\",\"perche\",\"perchè\",\"perché\",\"percio\",\"perciò\",\"perfino\",\"pero\",\"persino\",\"persone\",\"però\",\"piedi\",\"pieno\",\"piglia\",\"piu\",\"piuttosto\",\"più\",\"po\",\"pochissimo\",\"poco\",\"poi\",\"poiche\",\"possa\",\"possedere\",\"posteriore\",\"posto\",\"potrebbe\",\"preferibilmente\",\"presa\",\"press\",\"prima\",\"primo\",\"principalmente\",\"probabilmente\",\"proprio\",\"puo\",\"pure\",\"purtroppo\",\"può\",\"qualche\",\"qualcosa\",\"qualcuna\",\"qualcuno\",\"quale\",\"quali\",\"qualunque\",\"quando\",\"quanta\",\"quante\",\"quanti\",\"quanto\",\"quantunque\",\"quasi\",\"quattro\",\"quel\",\"quella\",\"quelle\",\"quelli\",\"quello\",\"quest\",\"questa\",\"queste\",\"questi\",\"questo\",\"qui\",\"quindi\",\"realmente\",\"recente\",\"recentemente\",\"registrazione\",\"relativo\",\"riecco\",\"salvo\",\"sara\",\"sarai\",\"saranno\",\"sarebbe\",\"sarebbero\",\"sarei\",\"saremmo\",\"saremo\",\"sareste\",\"saresti\",\"sarete\",\"sarà\",\"sarò\",\"scola\",\"scopo\",\"scorso\",\"se\",\"secondo\",\"seguente\",\"seguito\",\"sei\",\"sembra\",\"sembrare\",\"sembrato\",\"sembri\",\"sempre\",\"senza\",\"sette\",\"si\",\"sia\",\"siamo\",\"siano\",\"siate\",\"siete\",\"sig\",\"solito\",\"solo\",\"soltanto\",\"sono\",\"sopra\",\"sotto\",\"spesso\",\"srl\",\"sta\",\"stai\",\"stando\",\"stanno\",\"starai\",\"staranno\",\"starebbe\",\"starebbero\",\"starei\",\"staremmo\",\"staremo\",\"stareste\",\"staresti\",\"starete\",\"starà\",\"starò\",\"stata\",\"state\",\"stati\",\"stato\",\"stava\",\"stavamo\",\"stavano\",\"stavate\",\"stavi\",\"stavo\",\"stemmo\",\"stessa\",\"stesse\",\"stessero\",\"stessi\",\"stessimo\",\"stesso\",\"steste\",\"stesti\",\"stette\",\"stettero\",\"stetti\",\"stia\",\"stiamo\",\"stiano\",\"stiate\",\"sto\",\"su\",\"sua\",\"subito\",\"successivamente\",\"successivo\",\"sue\",\"sugl\",\"sugli\",\"sui\",\"sul\",\"sull\",\"sulla\",\"sulle\",\"sullo\",\"suo\",\"suoi\",\"tale\",\"tali\",\"talvolta\",\"tanto\",\"te\",\"tempo\",\"ti\",\"titolo\",\"torino\",\"tra\",\"tranne\",\"tre\",\"trenta\",\"troppo\",\"trovato\",\"tu\",\"tua\",\"tue\",\"tuo\",\"tuoi\",\"tutta\",\"tuttavia\",\"tutte\",\"tutti\",\"tutto\",\"uguali\",\"ulteriore\",\"ultimo\",\"un\",\"una\",\"uno\",\"uomo\",\"va\",\"vale\",\"vari\",\"varia\",\"varie\",\"vario\",\"verso\",\"vi\",\"via\",\"vicino\",\"visto\",\"vita\",\"voi\",\"volta\",\"volte\",\"vostra\",\"vostre\",\"vostri\",\"vostro\",\"è\"],\"ko\":[\"!\",\"\\\"\",\"$\",\"%\",\"&\",\"'\",\"(\",\")\",\"*\",\"+\",\",\",\"-\",\".\",\"...\",\"0\",\"1\",\"2\",\"3\",\"4\",\"5\",\"6\",\"7\",\"8\",\"9\",\";\",\"<\",\"=\",\">\",\"?\",\"@\",\"\\\\\",\"^\",\"_\",\"`\",\"|\",\"~\",\"·\",\"—\",\"——\",\"‘\",\"’\",\"“\",\"”\",\"…\",\"、\",\"。\",\"〈\",\"〉\",\"《\",\"》\",\"가\",\"가까스로\",\"가령\",\"각\",\"각각\",\"각자\",\"각종\",\"갖고말하자면\",\"같다\",\"같이\",\"개의치않고\",\"거니와\",\"거바\",\"거의\",\"것\",\"것과 같이\",\"것들\",\"게다가\",\"게우다\",\"겨우\",\"견지에서\",\"결과에 이르다\",\"결국\",\"결론을 낼 수 있다\",\"겸사겸사\",\"고려하면\",\"고로\",\"곧\",\"공동으로\",\"과\",\"과연\",\"관계가 있다\",\"관계없이\",\"관련이 있다\",\"관하여\",\"관한\",\"관해서는\",\"구\",\"구체적으로\",\"구토하다\",\"그\",\"그들\",\"그때\",\"그래\",\"그래도\",\"그래서\",\"그러나\",\"그러니\",\"그러니까\",\"그러면\",\"그러므로\",\"그러한즉\",\"그런 까닭에\",\"그런데\",\"그런즉\",\"그럼\",\"그럼에도 불구하고\",\"그렇게 함으로써\",\"그렇지\",\"그렇지 않다면\",\"그렇지 않으면\",\"그렇지만\",\"그렇지않으면\",\"그리고\",\"그리하여\",\"그만이다\",\"그에 따르는\",\"그위에\",\"그저\",\"그중에서\",\"그치지 않다\",\"근거로\",\"근거하여\",\"기대여\",\"기점으로\",\"기준으로\",\"기타\",\"까닭으로\",\"까악\",\"까지\",\"까지 미치다\",\"까지도\",\"꽈당\",\"끙끙\",\"끼익\",\"나\",\"나머지는\",\"남들\",\"남짓\",\"너\",\"너희\",\"너희들\",\"네\",\"넷\",\"년\",\"논하지 않다\",\"놀라다\",\"누가 알겠는가\",\"누구\",\"다른\",\"다른 방면으로\",\"다만\",\"다섯\",\"다소\",\"다수\",\"다시 말하자면\",\"다시말하면\",\"다음\",\"다음에\",\"다음으로\",\"단지\",\"답다\",\"당신\",\"당장\",\"대로 하다\",\"대하면\",\"대하여\",\"대해 말하자면\",\"대해서\",\"댕그\",\"더구나\",\"더군다나\",\"더라도\",\"더불어\",\"더욱더\",\"더욱이는\",\"도달하다\",\"도착하다\",\"동시에\",\"동안\",\"된바에야\",\"된이상\",\"두번째로\",\"둘\",\"둥둥\",\"뒤따라\",\"뒤이어\",\"든간에\",\"들\",\"등\",\"등등\",\"딩동\",\"따라\",\"따라서\",\"따위\",\"따지지 않다\",\"딱\",\"때\",\"때가 되어\",\"때문에\",\"또\",\"또한\",\"뚝뚝\",\"라 해도\",\"령\",\"로\",\"로 인하여\",\"로부터\",\"로써\",\"륙\",\"를\",\"마음대로\",\"마저\",\"마저도\",\"마치\",\"막론하고\",\"만 못하다\",\"만약\",\"만약에\",\"만은 아니다\",\"만이 아니다\",\"만일\",\"만큼\",\"말하자면\",\"말할것도 없고\",\"매\",\"매번\",\"메쓰겁다\",\"몇\",\"모\",\"모두\",\"무렵\",\"무릎쓰고\",\"무슨\",\"무엇\",\"무엇때문에\",\"물론\",\"및\",\"바꾸어말하면\",\"바꾸어말하자면\",\"바꾸어서 말하면\",\"바꾸어서 한다면\",\"바꿔 말하면\",\"바로\",\"바와같이\",\"밖에 안된다\",\"반대로\",\"반대로 말하자면\",\"반드시\",\"버금\",\"보는데서\",\"보다더\",\"보드득\",\"본대로\",\"봐\",\"봐라\",\"부류의 사람들\",\"부터\",\"불구하고\",\"불문하고\",\"붕붕\",\"비걱거리다\",\"비교적\",\"비길수 없다\",\"비로소\",\"비록\",\"비슷하다\",\"비추어 보아\",\"비하면\",\"뿐만 아니라\",\"뿐만아니라\",\"뿐이다\",\"삐걱\",\"삐걱거리다\",\"사\",\"삼\",\"상대적으로 말하자면\",\"생각한대로\",\"설령\",\"설마\",\"설사\",\"셋\",\"소생\",\"소인\",\"솨\",\"쉿\",\"습니까\",\"습니다\",\"시각\",\"시간\",\"시작하여\",\"시초에\",\"시키다\",\"실로\",\"심지어\",\"아\",\"아니\",\"아니나다를가\",\"아니라면\",\"아니면\",\"아니었다면\",\"아래윗\",\"아무거나\",\"아무도\",\"아야\",\"아울러\",\"아이\",\"아이고\",\"아이구\",\"아이야\",\"아이쿠\",\"아하\",\"아홉\",\"안 그러면\",\"않기 위하여\",\"않기 위해서\",\"알 수 있다\",\"알았어\",\"앗\",\"앞에서\",\"앞의것\",\"야\",\"약간\",\"양자\",\"어\",\"어기여차\",\"어느\",\"어느 년도\",\"어느것\",\"어느곳\",\"어느때\",\"어느쪽\",\"어느해\",\"어디\",\"어때\",\"어떠한\",\"어떤\",\"어떤것\",\"어떤것들\",\"어떻게\",\"어떻해\",\"어이\",\"어째서\",\"어쨋든\",\"어쩔수 없다\",\"어찌\",\"어찌됏든\",\"어찌됏어\",\"어찌하든지\",\"어찌하여\",\"언제\",\"언젠가\",\"얼마\",\"얼마 안 되는 것\",\"얼마간\",\"얼마나\",\"얼마든지\",\"얼마만큼\",\"얼마큼\",\"엉엉\",\"에\",\"에 가서\",\"에 달려 있다\",\"에 대해\",\"에 있다\",\"에 한하다\",\"에게\",\"에서\",\"여\",\"여기\",\"여덟\",\"여러분\",\"여보시오\",\"여부\",\"여섯\",\"여전히\",\"여차\",\"연관되다\",\"연이서\",\"영\",\"영차\",\"옆사람\",\"예\",\"예를 들면\",\"예를 들자면\",\"예컨대\",\"예하면\",\"오\",\"오로지\",\"오르다\",\"오자마자\",\"오직\",\"오호\",\"오히려\",\"와\",\"와 같은 사람들\",\"와르르\",\"와아\",\"왜\",\"왜냐하면\",\"외에도\",\"요만큼\",\"요만한 것\",\"요만한걸\",\"요컨대\",\"우르르\",\"우리\",\"우리들\",\"우선\",\"우에 종합한것과같이\",\"운운\",\"월\",\"위에서 서술한바와같이\",\"위하여\",\"위해서\",\"윙윙\",\"육\",\"으로\",\"으로 인하여\",\"으로서\",\"으로써\",\"을\",\"응\",\"응당\",\"의\",\"의거하여\",\"의지하여\",\"의해\",\"의해되다\",\"의해서\",\"이\",\"이 되다\",\"이 때문에\",\"이 밖에\",\"이 외에\",\"이 정도의\",\"이것\",\"이곳\",\"이때\",\"이라면\",\"이래\",\"이러이러하다\",\"이러한\",\"이런\",\"이럴정도로\",\"이렇게 많은 것\",\"이렇게되면\",\"이렇게말하자면\",\"이렇구나\",\"이로 인하여\",\"이르기까지\",\"이리하여\",\"이만큼\",\"이번\",\"이봐\",\"이상\",\"이어서\",\"이었다\",\"이와 같다\",\"이와 같은\",\"이와 반대로\",\"이와같다면\",\"이외에도\",\"이용하여\",\"이유만으로\",\"이젠\",\"이지만\",\"이쪽\",\"이천구\",\"이천육\",\"이천칠\",\"이천팔\",\"인 듯하다\",\"인젠\",\"일\",\"일것이다\",\"일곱\",\"일단\",\"일때\",\"일반적으로\",\"일지라도\",\"임에 틀림없다\",\"입각하여\",\"입장에서\",\"잇따라\",\"있다\",\"자\",\"자기\",\"자기집\",\"자마자\",\"자신\",\"잠깐\",\"잠시\",\"저\",\"저것\",\"저것만큼\",\"저기\",\"저쪽\",\"저희\",\"전부\",\"전자\",\"전후\",\"점에서 보아\",\"정도에 이르다\",\"제\",\"제각기\",\"제외하고\",\"조금\",\"조차\",\"조차도\",\"졸졸\",\"좀\",\"좋아\",\"좍좍\",\"주룩주룩\",\"주저하지 않고\",\"줄은 몰랏다\",\"줄은모른다\",\"중에서\",\"중의하나\",\"즈음하여\",\"즉\",\"즉시\",\"지든지\",\"지만\",\"지말고\",\"진짜로\",\"쪽으로\",\"차라리\",\"참\",\"참나\",\"첫번째로\",\"쳇\",\"총적으로\",\"총적으로 말하면\",\"총적으로 보면\",\"칠\",\"콸콸\",\"쾅쾅\",\"쿵\",\"타다\",\"타인\",\"탕탕\",\"토하다\",\"통하여\",\"툭\",\"퉤\",\"틈타\",\"팍\",\"팔\",\"퍽\",\"펄렁\",\"하\",\"하게될것이다\",\"하게하다\",\"하겠는가\",\"하고 있다\",\"하고있었다\",\"하곤하였다\",\"하구나\",\"하기 때문에\",\"하기 위하여\",\"하기는한데\",\"하기만 하면\",\"하기보다는\",\"하기에\",\"하나\",\"하느니\",\"하는 김에\",\"하는 편이 낫다\",\"하는것도\",\"하는것만 못하다\",\"하는것이 낫다\",\"하는바\",\"하더라도\",\"하도다\",\"하도록시키다\",\"하도록하다\",\"하든지\",\"하려고하다\",\"하마터면\",\"하면 할수록\",\"하면된다\",\"하면서\",\"하물며\",\"하여금\",\"하여야\",\"하자마자\",\"하지 않는다면\",\"하지 않도록\",\"하지마\",\"하지마라\",\"하지만\",\"하하\",\"한 까닭에\",\"한 이유는\",\"한 후\",\"한다면\",\"한다면 몰라도\",\"한데\",\"한마디\",\"한적이있다\",\"한켠으로는\",\"한항목\",\"할 따름이다\",\"할 생각이다\",\"할 줄 안다\",\"할 지경이다\",\"할 힘이 있다\",\"할때\",\"할만하다\",\"할망정\",\"할뿐\",\"할수있다\",\"할수있어\",\"할줄알다\",\"할지라도\",\"할지언정\",\"함께\",\"해도된다\",\"해도좋다\",\"해봐요\",\"해서는 안된다\",\"해야한다\",\"해요\",\"했어요\",\"향하다\",\"향하여\",\"향해서\",\"허\",\"허걱\",\"허허\",\"헉\",\"헉헉\",\"헐떡헐떡\",\"형식으로 쓰여\",\"혹시\",\"혹은\",\"혼자\",\"훨씬\",\"휘익\",\"휴\",\"흐흐\",\"흥\",\"힘입어\",\"︿\",\"！\",\"＃\",\"＄\",\"％\",\"＆\",\"（\",\"）\",\"＊\",\"＋\",\"，\",\"０\",\"１\",\"２\",\"３\",\"４\",\"５\",\"６\",\"７\",\"８\",\"９\",\"：\",\"；\",\"＜\",\"＞\",\"？\",\"＠\",\"［\",\"］\",\"｛\",\"｜\",\"｝\",\"～\",\"￥\"],\"nl\":[\"aan\",\"achte\",\"achter\",\"af\",\"al\",\"alle\",\"alleen\",\"alles\",\"als\",\"ander\",\"anders\",\"beetje\",\"behalve\",\"beide\",\"beiden\",\"ben\",\"beneden\",\"bent\",\"bij\",\"bijna\",\"bijv\",\"blijkbaar\",\"blijken\",\"boven\",\"bv\",\"daar\",\"daardoor\",\"daarin\",\"daarna\",\"daarom\",\"daaruit\",\"dan\",\"dat\",\"de\",\"deden\",\"deed\",\"derde\",\"derhalve\",\"dertig\",\"deze\",\"dhr\",\"die\",\"dit\",\"doe\",\"doen\",\"doet\",\"door\",\"drie\",\"duizend\",\"echter\",\"een\",\"eens\",\"eerst\",\"eerste\",\"eigen\",\"eigenlijk\",\"elk\",\"elke\",\"en\",\"enige\",\"er\",\"erg\",\"ergens\",\"etc\",\"etcetera\",\"even\",\"geen\",\"genoeg\",\"geweest\",\"haar\",\"haarzelf\",\"had\",\"hadden\",\"heb\",\"hebben\",\"hebt\",\"hedden\",\"heeft\",\"heel\",\"hem\",\"hemzelf\",\"hen\",\"het\",\"hetzelfde\",\"hier\",\"hierin\",\"hierna\",\"hierom\",\"hij\",\"hijzelf\",\"hoe\",\"honderd\",\"hun\",\"ieder\",\"iedere\",\"iedereen\",\"iemand\",\"iets\",\"ik\",\"in\",\"inderdaad\",\"intussen\",\"is\",\"ja\",\"je\",\"jij\",\"jijzelf\",\"jou\",\"jouw\",\"jullie\",\"kan\",\"kon\",\"konden\",\"kun\",\"kunnen\",\"kunt\",\"laatst\",\"later\",\"lijken\",\"lijkt\",\"maak\",\"maakt\",\"maakte\",\"maakten\",\"maar\",\"mag\",\"maken\",\"me\",\"meer\",\"meest\",\"meestal\",\"men\",\"met\",\"mevr\",\"mij\",\"mijn\",\"minder\",\"miss\",\"misschien\",\"missen\",\"mits\",\"mocht\",\"mochten\",\"moest\",\"moesten\",\"moet\",\"moeten\",\"mogen\",\"mr\",\"mrs\",\"mw\",\"na\",\"naar\",\"nam\",\"namelijk\",\"nee\",\"neem\",\"negen\",\"nemen\",\"nergens\",\"niemand\",\"niet\",\"niets\",\"niks\",\"noch\",\"nochtans\",\"nog\",\"nooit\",\"nu\",\"nv\",\"of\",\"om\",\"omdat\",\"ondanks\",\"onder\",\"ondertussen\",\"ons\",\"onze\",\"onzeker\",\"ooit\",\"ook\",\"op\",\"over\",\"overal\",\"overige\",\"paar\",\"per\",\"recent\",\"redelijk\",\"samen\",\"sinds\",\"steeds\",\"te\",\"tegen\",\"tegenover\",\"thans\",\"tien\",\"tiende\",\"tijdens\",\"tja\",\"toch\",\"toe\",\"tot\",\"totdat\",\"tussen\",\"twee\",\"tweede\",\"u\",\"uit\",\"uw\",\"vaak\",\"van\",\"vanaf\",\"veel\",\"veertig\",\"verder\",\"verscheidene\",\"verschillende\",\"via\",\"vier\",\"vierde\",\"vijf\",\"vijfde\",\"vijftig\",\"volgend\",\"volgens\",\"voor\",\"voordat\",\"voorts\",\"waar\",\"waarom\",\"waarschijnlijk\",\"wanneer\",\"waren\",\"was\",\"wat\",\"we\",\"wederom\",\"weer\",\"weinig\",\"wel\",\"welk\",\"welke\",\"werd\",\"werden\",\"werder\",\"whatever\",\"wie\",\"wij\",\"wijzelf\",\"wil\",\"wilden\",\"willen\",\"word\",\"worden\",\"wordt\",\"zal\",\"ze\",\"zei\",\"zeker\",\"zelf\",\"zelfde\",\"zes\",\"zeven\",\"zich\",\"zij\",\"zijn\",\"zijzelf\",\"zo\",\"zoals\",\"zodat\",\"zou\",\"zouden\",\"zulk\",\"zullen\"],\"no\":[\"alle\",\"at\",\"av\",\"bare\",\"begge\",\"ble\",\"blei\",\"bli\",\"blir\",\"blitt\",\"både\",\"båe\",\"da\",\"de\",\"deg\",\"dei\",\"deim\",\"deira\",\"deires\",\"dem\",\"den\",\"denne\",\"der\",\"dere\",\"deres\",\"det\",\"dette\",\"di\",\"din\",\"disse\",\"ditt\",\"du\",\"dykk\",\"dykkar\",\"då\",\"eg\",\"ein\",\"eit\",\"eitt\",\"eller\",\"elles\",\"en\",\"enn\",\"er\",\"et\",\"ett\",\"etter\",\"for\",\"fordi\",\"fra\",\"før\",\"ha\",\"hadde\",\"han\",\"hans\",\"har\",\"hennar\",\"henne\",\"hennes\",\"her\",\"hjå\",\"ho\",\"hoe\",\"honom\",\"hoss\",\"hossen\",\"hun\",\"hva\",\"hvem\",\"hver\",\"hvilke\",\"hvilken\",\"hvis\",\"hvor\",\"hvordan\",\"hvorfor\",\"i\",\"ikke\",\"ikkje\",\"ingen\",\"ingi\",\"inkje\",\"inn\",\"inni\",\"ja\",\"jeg\",\"kan\",\"kom\",\"korleis\",\"korso\",\"kun\",\"kunne\",\"kva\",\"kvar\",\"kvarhelst\",\"kven\",\"kvi\",\"kvifor\",\"man\",\"mange\",\"me\",\"med\",\"medan\",\"meg\",\"meget\",\"mellom\",\"men\",\"mi\",\"min\",\"mine\",\"mitt\",\"mot\",\"mykje\",\"ned\",\"no\",\"noe\",\"noen\",\"noka\",\"noko\",\"nokon\",\"nokor\",\"nokre\",\"nå\",\"når\",\"og\",\"også\",\"om\",\"opp\",\"oss\",\"over\",\"på\",\"samme\",\"seg\",\"selv\",\"si\",\"sia\",\"sidan\",\"siden\",\"sin\",\"sine\",\"sitt\",\"sjøl\",\"skal\",\"skulle\",\"slik\",\"so\",\"som\",\"somme\",\"somt\",\"så\",\"sånn\",\"til\",\"um\",\"upp\",\"ut\",\"uten\",\"var\",\"vart\",\"varte\",\"ved\",\"vere\",\"verte\",\"vi\",\"vil\",\"ville\",\"vore\",\"vors\",\"vort\",\"vår\",\"være\",\"vært\",\"å\"],\"pl\":[\"aby\",\"ach\",\"aj\",\"albo\",\"ale\",\"ani\",\"aż\",\"bardzo\",\"bez\",\"bo\",\"bowiem\",\"by\",\"byli\",\"bym\",\"być\",\"był\",\"była\",\"było\",\"były\",\"będzie\",\"będą\",\"chce\",\"choć\",\"ci\",\"ciebie\",\"cię\",\"co\",\"coraz\",\"coś\",\"czy\",\"czyli\",\"często\",\"daleko\",\"dla\",\"dlaczego\",\"dlatego\",\"do\",\"dobrze\",\"dokąd\",\"dość\",\"dr\",\"dużo\",\"dwa\",\"dwaj\",\"dwie\",\"dwoje\",\"dzisiaj\",\"dziś\",\"gdy\",\"gdyby\",\"gdyż\",\"gdzie\",\"go\",\"godz\",\"hab\",\"i\",\"ich\",\"ii\",\"iii\",\"ile\",\"im\",\"inne\",\"inny\",\"inż\",\"iv\",\"ix\",\"iż\",\"ja\",\"jak\",\"jakby\",\"jaki\",\"jakie\",\"jako\",\"je\",\"jeden\",\"jedna\",\"jednak\",\"jedno\",\"jednym\",\"jedynie\",\"jego\",\"jej\",\"jemu\",\"jest\",\"jestem\",\"jeszcze\",\"jeśli\",\"jeżeli\",\"już\",\"ją\",\"każdy\",\"kiedy\",\"kierunku\",\"kilku\",\"kto\",\"która\",\"które\",\"którego\",\"której\",\"który\",\"których\",\"którym\",\"którzy\",\"ku\",\"lat\",\"lecz\",\"lub\",\"ma\",\"mają\",\"mam\",\"mamy\",\"mgr\",\"mi\",\"miał\",\"mimo\",\"mnie\",\"mną\",\"mogą\",\"moi\",\"moja\",\"moje\",\"może\",\"można\",\"mu\",\"musi\",\"my\",\"mój\",\"na\",\"nad\",\"nam\",\"nami\",\"nas\",\"nasi\",\"nasz\",\"nasza\",\"nasze\",\"natychmiast\",\"nawet\",\"nic\",\"nich\",\"nie\",\"niego\",\"niej\",\"niemu\",\"nigdy\",\"nim\",\"nimi\",\"nią\",\"niż\",\"no\",\"nowe\",\"np\",\"nr\",\"o\",\"o.o.\",\"obok\",\"od\",\"ok\",\"około\",\"on\",\"ona\",\"one\",\"oni\",\"ono\",\"oraz\",\"owszem\",\"pan\",\"pl\",\"po\",\"pod\",\"ponad\",\"ponieważ\",\"poza\",\"prof\",\"przed\",\"przede\",\"przedtem\",\"przez\",\"przy\",\"raz\",\"razie\",\"roku\",\"również\",\"sam\",\"sama\",\"się\",\"skąd\",\"sobie\",\"sposób\",\"swoje\",\"są\",\"ta\",\"tak\",\"taki\",\"takich\",\"takie\",\"także\",\"tam\",\"te\",\"tego\",\"tej\",\"tel\",\"temu\",\"ten\",\"teraz\",\"też\",\"to\",\"tobie\",\"tobą\",\"trzeba\",\"tu\",\"tutaj\",\"twoi\",\"twoja\",\"twoje\",\"twój\",\"ty\",\"tych\",\"tylko\",\"tym\",\"tys\",\"tzw\",\"tę\",\"u\",\"ul\",\"vi\",\"vii\",\"viii\",\"vol\",\"w\",\"wam\",\"wami\",\"was\",\"wasi\",\"wasz\",\"wasza\",\"wasze\",\"we\",\"wie\",\"więc\",\"wszystko\",\"wtedy\",\"www\",\"wy\",\"właśnie\",\"wśród\",\"xi\",\"xii\",\"xiii\",\"xiv\",\"xv\",\"z\",\"za\",\"zawsze\",\"zaś\",\"ze\",\"zł\",\"żaden\",\"że\",\"żeby\"],\"pt\":[\"a\",\"acerca\",\"adeus\",\"agora\",\"ainda\",\"algmas\",\"algo\",\"algumas\",\"alguns\",\"ali\",\"além\",\"ambos\",\"ano\",\"anos\",\"antes\",\"ao\",\"aos\",\"apenas\",\"apoio\",\"apontar\",\"após\",\"aquela\",\"aquelas\",\"aquele\",\"aqueles\",\"aqui\",\"aquilo\",\"as\",\"assim\",\"através\",\"atrás\",\"até\",\"aí\",\"baixo\",\"bastante\",\"bem\",\"bom\",\"breve\",\"cada\",\"caminho\",\"catorze\",\"cedo\",\"cento\",\"certamente\",\"certeza\",\"cima\",\"cinco\",\"coisa\",\"com\",\"como\",\"comprido\",\"conhecido\",\"conselho\",\"contra\",\"corrente\",\"custa\",\"cá\",\"da\",\"daquela\",\"daquele\",\"dar\",\"das\",\"de\",\"debaixo\",\"demais\",\"dentro\",\"depois\",\"desde\",\"desligado\",\"dessa\",\"desse\",\"desta\",\"deste\",\"deve\",\"devem\",\"deverá\",\"dez\",\"dezanove\",\"dezasseis\",\"dezassete\",\"dezoito\",\"dia\",\"diante\",\"direita\",\"diz\",\"dizem\",\"dizer\",\"do\",\"dois\",\"dos\",\"doze\",\"duas\",\"dá\",\"dão\",\"dúvida\",\"e\",\"ela\",\"elas\",\"ele\",\"eles\",\"em\",\"embora\",\"enquanto\",\"entre\",\"então\",\"era\",\"essa\",\"essas\",\"esse\",\"esses\",\"esta\",\"estado\",\"estar\",\"estará\",\"estas\",\"estava\",\"este\",\"estes\",\"esteve\",\"estive\",\"estivemos\",\"estiveram\",\"estiveste\",\"estivestes\",\"estou\",\"está\",\"estás\",\"estão\",\"eu\",\"exemplo\",\"falta\",\"fará\",\"favor\",\"faz\",\"fazeis\",\"fazem\",\"fazemos\",\"fazer\",\"fazes\",\"fazia\",\"faço\",\"fez\",\"fim\",\"final\",\"foi\",\"fomos\",\"for\",\"fora\",\"foram\",\"forma\",\"foste\",\"fostes\",\"fui\",\"geral\",\"grande\",\"grandes\",\"grupo\",\"hoje\",\"horas\",\"há\",\"iniciar\",\"inicio\",\"ir\",\"irá\",\"isso\",\"ista\",\"iste\",\"isto\",\"já\",\"lado\",\"ligado\",\"local\",\"logo\",\"longe\",\"lugar\",\"lá\",\"maior\",\"maioria\",\"maiorias\",\"mais\",\"mal\",\"mas\",\"me\",\"meio\",\"menor\",\"menos\",\"meses\",\"mesmo\",\"meu\",\"meus\",\"mil\",\"minha\",\"minhas\",\"momento\",\"muito\",\"muitos\",\"máximo\",\"mês\",\"na\",\"nada\",\"naquela\",\"naquele\",\"nas\",\"nem\",\"nenhuma\",\"nessa\",\"nesse\",\"nesta\",\"neste\",\"no\",\"noite\",\"nome\",\"nos\",\"nossa\",\"nossas\",\"nosso\",\"nossos\",\"nova\",\"nove\",\"novo\",\"novos\",\"num\",\"numa\",\"nunca\",\"não\",\"nível\",\"nós\",\"número\",\"o\",\"obra\",\"obrigada\",\"obrigado\",\"oitava\",\"oitavo\",\"oito\",\"onde\",\"ontem\",\"onze\",\"os\",\"ou\",\"outra\",\"outras\",\"outro\",\"outros\",\"para\",\"parece\",\"parte\",\"partir\",\"pegar\",\"pela\",\"pelas\",\"pelo\",\"pelos\",\"perto\",\"pessoas\",\"pode\",\"podem\",\"poder\",\"poderá\",\"podia\",\"ponto\",\"pontos\",\"por\",\"porque\",\"porquê\",\"posição\",\"possivelmente\",\"posso\",\"possível\",\"pouca\",\"pouco\",\"povo\",\"primeira\",\"primeiro\",\"promeiro\",\"próprio\",\"próximo\",\"puderam\",\"pôde\",\"põe\",\"põem\",\"qual\",\"qualquer\",\"quando\",\"quanto\",\"quarta\",\"quarto\",\"quatro\",\"que\",\"quem\",\"quer\",\"quero\",\"questão\",\"quieto\",\"quinta\",\"quinto\",\"quinze\",\"quê\",\"relação\",\"sabe\",\"saber\",\"se\",\"segunda\",\"segundo\",\"sei\",\"seis\",\"sem\",\"sempre\",\"ser\",\"seria\",\"sete\",\"seu\",\"seus\",\"sexta\",\"sexto\",\"sim\",\"sistema\",\"sob\",\"sobre\",\"sois\",\"somente\",\"somos\",\"sou\",\"sua\",\"suas\",\"são\",\"sétima\",\"sétimo\",\"tal\",\"talvez\",\"também\",\"tanto\",\"tarde\",\"te\",\"tem\",\"temos\",\"tempo\",\"tendes\",\"tenho\",\"tens\",\"tentar\",\"tentaram\",\"tente\",\"tentei\",\"ter\",\"terceira\",\"terceiro\",\"teu\",\"teus\",\"teve\",\"tipo\",\"tive\",\"tivemos\",\"tiveram\",\"tiveste\",\"tivestes\",\"toda\",\"todas\",\"todo\",\"todos\",\"trabalhar\",\"trabalho\",\"treze\",\"três\",\"tu\",\"tua\",\"tuas\",\"tudo\",\"tão\",\"têm\",\"um\",\"uma\",\"umas\",\"uns\",\"usa\",\"usar\",\"vai\",\"vais\",\"valor\",\"veja\",\"vem\",\"vens\",\"ver\",\"verdade\",\"verdadeiro\",\"vez\",\"vezes\",\"viagem\",\"vindo\",\"vinte\",\"você\",\"vocês\",\"vos\",\"vossa\",\"vossas\",\"vosso\",\"vossos\",\"vários\",\"vão\",\"vêm\",\"vós\",\"zero\",\"à\",\"às\",\"área\",\"é\",\"és\",\"último\"],\"ru\":[\"а\",\"алло\",\"без\",\"белый\",\"близко\",\"более\",\"больше\",\"большой\",\"будем\",\"будет\",\"будете\",\"будешь\",\"будто\",\"буду\",\"будут\",\"будь\",\"бы\",\"бывает\",\"бывь\",\"был\",\"была\",\"были\",\"было\",\"быть\",\"в\",\"важная\",\"важное\",\"важные\",\"важный\",\"вам\",\"вами\",\"вас\",\"ваш\",\"ваша\",\"ваше\",\"ваши\",\"вверх\",\"вдали\",\"вдруг\",\"ведь\",\"везде\",\"вернуться\",\"весь\",\"вечер\",\"взгляд\",\"взять\",\"вид\",\"видеть\",\"вместе\",\"вниз\",\"внизу\",\"во\",\"вода\",\"война\",\"вокруг\",\"вон\",\"вообще\",\"вопрос\",\"восемнадцатый\",\"восемнадцать\",\"восемь\",\"восьмой\",\"вот\",\"впрочем\",\"времени\",\"время\",\"все\",\"всегда\",\"всего\",\"всем\",\"всеми\",\"всему\",\"всех\",\"всею\",\"всю\",\"всюду\",\"вся\",\"всё\",\"второй\",\"вы\",\"выйти\",\"г\",\"где\",\"главный\",\"глаз\",\"говорил\",\"говорит\",\"говорить\",\"год\",\"года\",\"году\",\"голова\",\"голос\",\"город\",\"да\",\"давать\",\"давно\",\"даже\",\"далекий\",\"далеко\",\"дальше\",\"даром\",\"дать\",\"два\",\"двадцатый\",\"двадцать\",\"две\",\"двенадцатый\",\"двенадцать\",\"дверь\",\"двух\",\"девятнадцатый\",\"девятнадцать\",\"девятый\",\"девять\",\"действительно\",\"дел\",\"делать\",\"дело\",\"день\",\"деньги\",\"десятый\",\"десять\",\"для\",\"до\",\"довольно\",\"долго\",\"должно\",\"должный\",\"дом\",\"дорога\",\"друг\",\"другая\",\"другие\",\"других\",\"друго\",\"другое\",\"другой\",\"думать\",\"душа\",\"е\",\"его\",\"ее\",\"ей\",\"ему\",\"если\",\"есть\",\"еще\",\"ещё\",\"ею\",\"её\",\"ж\",\"ждать\",\"же\",\"жена\",\"женщина\",\"жизнь\",\"жить\",\"за\",\"занят\",\"занята\",\"занято\",\"заняты\",\"затем\",\"зато\",\"зачем\",\"здесь\",\"земля\",\"знать\",\"значит\",\"значить\",\"и\",\"идти\",\"из\",\"или\",\"им\",\"именно\",\"иметь\",\"ими\",\"имя\",\"иногда\",\"их\",\"к\",\"каждая\",\"каждое\",\"каждые\",\"каждый\",\"кажется\",\"казаться\",\"как\",\"какая\",\"какой\",\"кем\",\"книга\",\"когда\",\"кого\",\"ком\",\"комната\",\"кому\",\"конец\",\"конечно\",\"которая\",\"которого\",\"которой\",\"которые\",\"который\",\"которых\",\"кроме\",\"кругом\",\"кто\",\"куда\",\"лежать\",\"лет\",\"ли\",\"лицо\",\"лишь\",\"лучше\",\"любить\",\"люди\",\"м\",\"маленький\",\"мало\",\"мать\",\"машина\",\"между\",\"меля\",\"менее\",\"меньше\",\"меня\",\"место\",\"миллионов\",\"мимо\",\"минута\",\"мир\",\"мира\",\"мне\",\"много\",\"многочисленная\",\"многочисленное\",\"многочисленные\",\"многочисленный\",\"мной\",\"мною\",\"мог\",\"могут\",\"мож\",\"может\",\"можно\",\"можхо\",\"мои\",\"мой\",\"мор\",\"москва\",\"мочь\",\"моя\",\"моё\",\"мы\",\"на\",\"наверху\",\"над\",\"надо\",\"назад\",\"наиболее\",\"найти\",\"наконец\",\"нам\",\"нами\",\"народ\",\"нас\",\"начала\",\"начать\",\"наш\",\"наша\",\"наше\",\"наши\",\"не\",\"него\",\"недавно\",\"недалеко\",\"нее\",\"ней\",\"некоторый\",\"нельзя\",\"нем\",\"немного\",\"нему\",\"непрерывно\",\"нередко\",\"несколько\",\"нет\",\"нею\",\"неё\",\"ни\",\"нибудь\",\"ниже\",\"низко\",\"никакой\",\"никогда\",\"никто\",\"никуда\",\"ними\",\"них\",\"ничего\",\"ничто\",\"но\",\"новый\",\"нога\",\"ночь\",\"ну\",\"нужно\",\"нужный\",\"нх\",\"о\",\"об\",\"оба\",\"обычно\",\"один\",\"одиннадцатый\",\"одиннадцать\",\"однажды\",\"однако\",\"одного\",\"одной\",\"оказаться\",\"окно\",\"около\",\"он\",\"она\",\"они\",\"оно\",\"опять\",\"особенно\",\"остаться\",\"от\",\"ответить\",\"отец\",\"отовсюду\",\"отсюда\",\"очень\",\"первый\",\"перед\",\"писать\",\"плечо\",\"по\",\"под\",\"подумать\",\"пожалуйста\",\"позже\",\"пойти\",\"пока\",\"пол\",\"получить\",\"помнить\",\"понимать\",\"понять\",\"пор\",\"пора\",\"после\",\"последний\",\"посмотреть\",\"посреди\",\"потом\",\"потому\",\"почему\",\"почти\",\"правда\",\"прекрасно\",\"при\",\"про\",\"просто\",\"против\",\"процентов\",\"пятнадцатый\",\"пятнадцать\",\"пятый\",\"пять\",\"работа\",\"работать\",\"раз\",\"разве\",\"рано\",\"раньше\",\"ребенок\",\"решить\",\"россия\",\"рука\",\"русский\",\"ряд\",\"рядом\",\"с\",\"сам\",\"сама\",\"сами\",\"самим\",\"самими\",\"самих\",\"само\",\"самого\",\"самой\",\"самом\",\"самому\",\"саму\",\"самый\",\"свет\",\"свое\",\"своего\",\"своей\",\"свои\",\"своих\",\"свой\",\"свою\",\"сделать\",\"сеаой\",\"себе\",\"себя\",\"сегодня\",\"седьмой\",\"сейчас\",\"семнадцатый\",\"семнадцать\",\"семь\",\"сидеть\",\"сила\",\"сих\",\"сказал\",\"сказала\",\"сказать\",\"сколько\",\"слишком\",\"слово\",\"случай\",\"смотреть\",\"сначала\",\"снова\",\"со\",\"собой\",\"собою\",\"советский\",\"совсем\",\"спасибо\",\"спросить\",\"сразу\",\"стал\",\"старый\",\"стать\",\"стол\",\"сторона\",\"стоять\",\"страна\",\"суть\",\"считать\",\"т\",\"та\",\"так\",\"такая\",\"также\",\"таки\",\"такие\",\"такое\",\"такой\",\"там\",\"твой\",\"твоя\",\"твоё\",\"те\",\"тебе\",\"тебя\",\"тем\",\"теми\",\"теперь\",\"тех\",\"то\",\"тобой\",\"тобою\",\"товарищ\",\"тогда\",\"того\",\"тоже\",\"только\",\"том\",\"тому\",\"тот\",\"тою\",\"третий\",\"три\",\"тринадцатый\",\"тринадцать\",\"ту\",\"туда\",\"тут\",\"ты\",\"тысяч\",\"у\",\"увидеть\",\"уж\",\"уже\",\"улица\",\"уметь\",\"утро\",\"хороший\",\"хорошо\",\"хотеть\",\"хоть\",\"хотя\",\"хочешь\",\"час\",\"часто\",\"часть\",\"чаще\",\"чего\",\"человек\",\"чем\",\"чему\",\"через\",\"четвертый\",\"четыре\",\"четырнадцатый\",\"четырнадцать\",\"что\",\"чтоб\",\"чтобы\",\"чуть\",\"шестнадцатый\",\"шестнадцать\",\"шестой\",\"шесть\",\"эта\",\"эти\",\"этим\",\"этими\",\"этих\",\"это\",\"этого\",\"этой\",\"этом\",\"этому\",\"этот\",\"эту\",\"я\"],\"sv\":[\"aderton\",\"adertonde\",\"adjö\",\"aldrig\",\"alla\",\"allas\",\"allt\",\"alltid\",\"alltså\",\"andra\",\"andras\",\"annan\",\"annat\",\"artonde\",\"artonn\",\"att\",\"av\",\"bakom\",\"bara\",\"behöva\",\"behövas\",\"behövde\",\"behövt\",\"beslut\",\"beslutat\",\"beslutit\",\"bland\",\"blev\",\"bli\",\"blir\",\"blivit\",\"bort\",\"borta\",\"bra\",\"bäst\",\"bättre\",\"båda\",\"bådas\",\"dag\",\"dagar\",\"dagarna\",\"dagen\",\"de\",\"del\",\"delen\",\"dem\",\"den\",\"denna\",\"deras\",\"dess\",\"dessa\",\"det\",\"detta\",\"dig\",\"din\",\"dina\",\"dit\",\"ditt\",\"dock\",\"du\",\"där\",\"därför\",\"då\",\"efter\",\"eftersom\",\"ej\",\"elfte\",\"eller\",\"elva\",\"en\",\"enkel\",\"enkelt\",\"enkla\",\"enligt\",\"er\",\"era\",\"ert\",\"ett\",\"ettusen\",\"fanns\",\"fem\",\"femte\",\"femtio\",\"femtionde\",\"femton\",\"femtonde\",\"fick\",\"fin\",\"finnas\",\"finns\",\"fjorton\",\"fjortonde\",\"fjärde\",\"fler\",\"flera\",\"flesta\",\"fram\",\"framför\",\"från\",\"fyra\",\"fyrtio\",\"fyrtionde\",\"få\",\"får\",\"fått\",\"följande\",\"för\",\"före\",\"förlåt\",\"förra\",\"första\",\"genast\",\"genom\",\"gick\",\"gjorde\",\"gjort\",\"god\",\"goda\",\"godare\",\"godast\",\"gott\",\"gälla\",\"gäller\",\"gällt\",\"gärna\",\"gå\",\"går\",\"gått\",\"gör\",\"göra\",\"ha\",\"hade\",\"haft\",\"han\",\"hans\",\"har\",\"heller\",\"hellre\",\"helst\",\"helt\",\"henne\",\"hennes\",\"hit\",\"hon\",\"honom\",\"hundra\",\"hundraen\",\"hundraett\",\"hur\",\"här\",\"hög\",\"höger\",\"högre\",\"högst\",\"i\",\"ibland\",\"icke\",\"idag\",\"igen\",\"igår\",\"imorgon\",\"in\",\"inför\",\"inga\",\"ingen\",\"ingenting\",\"inget\",\"innan\",\"inne\",\"inom\",\"inte\",\"inuti\",\"ja\",\"jag\",\"ju\",\"jämfört\",\"kan\",\"kanske\",\"knappast\",\"kom\",\"komma\",\"kommer\",\"kommit\",\"kr\",\"kunde\",\"kunna\",\"kunnat\",\"kvar\",\"legat\",\"ligga\",\"ligger\",\"lika\",\"likställd\",\"likställda\",\"lilla\",\"lite\",\"liten\",\"litet\",\"länge\",\"längre\",\"längst\",\"lätt\",\"lättare\",\"lättast\",\"långsam\",\"långsammare\",\"långsammast\",\"långsamt\",\"långt\",\"man\",\"med\",\"mellan\",\"men\",\"mer\",\"mera\",\"mest\",\"mig\",\"min\",\"mina\",\"mindre\",\"minst\",\"mitt\",\"mittemot\",\"mot\",\"mycket\",\"många\",\"måste\",\"möjlig\",\"möjligen\",\"möjligt\",\"möjligtvis\",\"ned\",\"nederst\",\"nedersta\",\"nedre\",\"nej\",\"ner\",\"ni\",\"nio\",\"nionde\",\"nittio\",\"nittionde\",\"nitton\",\"nittonde\",\"nog\",\"noll\",\"nr\",\"nu\",\"nummer\",\"när\",\"nästa\",\"någon\",\"någonting\",\"något\",\"några\",\"nödvändig\",\"nödvändiga\",\"nödvändigt\",\"nödvändigtvis\",\"och\",\"också\",\"ofta\",\"oftast\",\"olika\",\"olikt\",\"om\",\"oss\",\"på\",\"rakt\",\"redan\",\"rätt\",\"sade\",\"sagt\",\"samma\",\"sedan\",\"senare\",\"senast\",\"sent\",\"sex\",\"sextio\",\"sextionde\",\"sexton\",\"sextonde\",\"sig\",\"sin\",\"sina\",\"sist\",\"sista\",\"siste\",\"sitt\",\"sitta\",\"sju\",\"sjunde\",\"sjuttio\",\"sjuttionde\",\"sjutton\",\"sjuttonde\",\"själv\",\"sjätte\",\"ska\",\"skall\",\"skulle\",\"slutligen\",\"små\",\"smått\",\"snart\",\"som\",\"stor\",\"stora\",\"stort\",\"större\",\"störst\",\"säga\",\"säger\",\"sämre\",\"sämst\",\"så\",\"sådan\",\"sådana\",\"sådant\",\"tack\",\"tidig\",\"tidigare\",\"tidigast\",\"tidigt\",\"till\",\"tills\",\"tillsammans\",\"tio\",\"tionde\",\"tjugo\",\"tjugoen\",\"tjugoett\",\"tjugonde\",\"tjugotre\",\"tjugotvå\",\"tjungo\",\"tolfte\",\"tolv\",\"tre\",\"tredje\",\"trettio\",\"trettionde\",\"tretton\",\"trettonde\",\"två\",\"tvåhundra\",\"under\",\"upp\",\"ur\",\"ursäkt\",\"ut\",\"utan\",\"utanför\",\"ute\",\"vad\",\"var\",\"vara\",\"varför\",\"varifrån\",\"varit\",\"varje\",\"varken\",\"vars\",\"varsågod\",\"vart\",\"vem\",\"vems\",\"verkligen\",\"vi\",\"vid\",\"vidare\",\"viktig\",\"viktigare\",\"viktigast\",\"viktigt\",\"vilka\",\"vilkas\",\"vilken\",\"vilket\",\"vill\",\"vänster\",\"vänstra\",\"värre\",\"vår\",\"våra\",\"vårt\",\"än\",\"ännu\",\"är\",\"även\",\"åt\",\"åtminstone\",\"åtta\",\"åttio\",\"åttionde\",\"åttonde\",\"över\",\"övermorgon\",\"överst\",\"övre\"],\"tr\":[\"acaba\",\"acep\",\"adeta\",\"altmýþ\",\"altmış\",\"altý\",\"altı\",\"ama\",\"ancak\",\"arada\",\"artýk\",\"aslında\",\"aynen\",\"ayrıca\",\"az\",\"bana\",\"bari\",\"bazen\",\"bazý\",\"bazı\",\"baţka\",\"belki\",\"ben\",\"benden\",\"beni\",\"benim\",\"beri\",\"beþ\",\"beş\",\"beţ\",\"bile\",\"bin\",\"bir\",\"biraz\",\"biri\",\"birkaç\",\"birkez\",\"birçok\",\"birþey\",\"birþeyi\",\"birşey\",\"birşeyi\",\"birţey\",\"biz\",\"bizden\",\"bize\",\"bizi\",\"bizim\",\"bu\",\"buna\",\"bunda\",\"bundan\",\"bunlar\",\"bunları\",\"bunların\",\"bunu\",\"bunun\",\"burada\",\"böyle\",\"böylece\",\"bütün\",\"da\",\"daha\",\"dahi\",\"dahil\",\"daima\",\"dair\",\"dayanarak\",\"de\",\"defa\",\"deđil\",\"değil\",\"diye\",\"diđer\",\"diğer\",\"doksan\",\"dokuz\",\"dolayı\",\"dolayısıyla\",\"dört\",\"edecek\",\"eden\",\"ederek\",\"edilecek\",\"ediliyor\",\"edilmesi\",\"ediyor\",\"elli\",\"en\",\"etmesi\",\"etti\",\"ettiği\",\"ettiğini\",\"eđer\",\"eğer\",\"fakat\",\"gibi\",\"göre\",\"halbuki\",\"halen\",\"hangi\",\"hani\",\"hariç\",\"hatta\",\"hele\",\"hem\",\"henüz\",\"hep\",\"hepsi\",\"her\",\"herhangi\",\"herkes\",\"herkesin\",\"hiç\",\"hiçbir\",\"iken\",\"iki\",\"ila\",\"ile\",\"ilgili\",\"ilk\",\"illa\",\"ise\",\"itibaren\",\"itibariyle\",\"iyi\",\"iyice\",\"için\",\"işte\",\"iţte\",\"kadar\",\"kanýmca\",\"karşın\",\"katrilyon\",\"kendi\",\"kendilerine\",\"kendini\",\"kendisi\",\"kendisine\",\"kendisini\",\"kere\",\"kez\",\"keţke\",\"ki\",\"kim\",\"kimden\",\"kime\",\"kimi\",\"kimse\",\"kýrk\",\"kýsaca\",\"kırk\",\"lakin\",\"madem\",\"međer\",\"milyar\",\"milyon\",\"mu\",\"mü\",\"mý\",\"mı\",\"nasýl\",\"nasıl\",\"ne\",\"neden\",\"nedenle\",\"nerde\",\"nere\",\"nerede\",\"nereye\",\"nitekim\",\"niye\",\"niçin\",\"o\",\"olan\",\"olarak\",\"oldu\",\"olduklarını\",\"olduğu\",\"olduğunu\",\"olmadı\",\"olmadığı\",\"olmak\",\"olması\",\"olmayan\",\"olmaz\",\"olsa\",\"olsun\",\"olup\",\"olur\",\"olursa\",\"oluyor\",\"on\",\"ona\",\"ondan\",\"onlar\",\"onlardan\",\"onlari\",\"onlarýn\",\"onları\",\"onların\",\"onu\",\"onun\",\"otuz\",\"oysa\",\"pek\",\"rağmen\",\"sadece\",\"sanki\",\"sekiz\",\"seksen\",\"sen\",\"senden\",\"seni\",\"senin\",\"siz\",\"sizden\",\"sizi\",\"sizin\",\"sonra\",\"tarafından\",\"trilyon\",\"tüm\",\"var\",\"vardı\",\"ve\",\"veya\",\"veyahut\",\"ya\",\"yahut\",\"yani\",\"yapacak\",\"yapmak\",\"yaptı\",\"yaptıkları\",\"yaptığı\",\"yaptığını\",\"yapılan\",\"yapılması\",\"yapıyor\",\"yedi\",\"yerine\",\"yetmiþ\",\"yetmiş\",\"yetmiţ\",\"yine\",\"yirmi\",\"yoksa\",\"yüz\",\"zaten\",\"çok\",\"çünkü\",\"öyle\",\"üzere\",\"üç\",\"þey\",\"þeyden\",\"þeyi\",\"þeyler\",\"þu\",\"þuna\",\"þunda\",\"þundan\",\"þunu\",\"şey\",\"şeyden\",\"şeyi\",\"şeyler\",\"şu\",\"şuna\",\"şunda\",\"şundan\",\"şunları\",\"şunu\",\"şöyle\",\"ţayet\",\"ţimdi\",\"ţu\",\"ţöyle\"],\"zh\":[\"、\",\"。\",\"〈\",\"〉\",\"《\",\"》\",\"一\",\"一切\",\"一则\",\"一方面\",\"一旦\",\"一来\",\"一样\",\"一般\",\"七\",\"万一\",\"三\",\"上下\",\"不仅\",\"不但\",\"不光\",\"不单\",\"不只\",\"不如\",\"不怕\",\"不惟\",\"不成\",\"不拘\",\"不比\",\"不然\",\"不特\",\"不独\",\"不管\",\"不论\",\"不过\",\"不问\",\"与\",\"与其\",\"与否\",\"与此同时\",\"且\",\"两者\",\"个\",\"临\",\"为\",\"为了\",\"为什么\",\"为何\",\"为着\",\"乃\",\"乃至\",\"么\",\"之\",\"之一\",\"之所以\",\"之类\",\"乌乎\",\"乎\",\"乘\",\"九\",\"也\",\"也好\",\"也罢\",\"了\",\"二\",\"于\",\"于是\",\"于是乎\",\"云云\",\"五\",\"人家\",\"什么\",\"什么样\",\"从\",\"从而\",\"他\",\"他人\",\"他们\",\"以\",\"以便\",\"以免\",\"以及\",\"以至\",\"以至于\",\"以致\",\"们\",\"任\",\"任何\",\"任凭\",\"似的\",\"但\",\"但是\",\"何\",\"何况\",\"何处\",\"何时\",\"作为\",\"你\",\"你们\",\"使得\",\"例如\",\"依\",\"依照\",\"俺\",\"俺们\",\"倘\",\"倘使\",\"倘或\",\"倘然\",\"倘若\",\"借\",\"假使\",\"假如\",\"假若\",\"像\",\"八\",\"六\",\"兮\",\"关于\",\"其\",\"其一\",\"其中\",\"其二\",\"其他\",\"其余\",\"其它\",\"其次\",\"具体地说\",\"具体说来\",\"再者\",\"再说\",\"冒\",\"冲\",\"况且\",\"几\",\"几时\",\"凭\",\"凭借\",\"则\",\"别\",\"别的\",\"别说\",\"到\",\"前后\",\"前者\",\"加之\",\"即\",\"即令\",\"即使\",\"即便\",\"即或\",\"即若\",\"又\",\"及\",\"及其\",\"及至\",\"反之\",\"反过来\",\"反过来说\",\"另\",\"另一方面\",\"另外\",\"只是\",\"只有\",\"只要\",\"只限\",\"叫\",\"叮咚\",\"可\",\"可以\",\"可是\",\"可见\",\"各\",\"各个\",\"各位\",\"各种\",\"各自\",\"同\",\"同时\",\"向\",\"向着\",\"吓\",\"吗\",\"否则\",\"吧\",\"吧哒\",\"吱\",\"呀\",\"呃\",\"呕\",\"呗\",\"呜\",\"呜呼\",\"呢\",\"呵\",\"呸\",\"呼哧\",\"咋\",\"和\",\"咚\",\"咦\",\"咱\",\"咱们\",\"咳\",\"哇\",\"哈\",\"哈哈\",\"哉\",\"哎\",\"哎呀\",\"哎哟\",\"哗\",\"哟\",\"哦\",\"哩\",\"哪\",\"哪个\",\"哪些\",\"哪儿\",\"哪天\",\"哪年\",\"哪怕\",\"哪样\",\"哪边\",\"哪里\",\"哼\",\"哼唷\",\"唉\",\"啊\",\"啐\",\"啥\",\"啦\",\"啪达\",\"喂\",\"喏\",\"喔唷\",\"嗡嗡\",\"嗬\",\"嗯\",\"嗳\",\"嘎\",\"嘎登\",\"嘘\",\"嘛\",\"嘻\",\"嘿\",\"四\",\"因\",\"因为\",\"因此\",\"因而\",\"固然\",\"在\",\"在下\",\"地\",\"多\",\"多少\",\"她\",\"她们\",\"如\",\"如上所述\",\"如何\",\"如其\",\"如果\",\"如此\",\"如若\",\"宁\",\"宁可\",\"宁愿\",\"宁肯\",\"它\",\"它们\",\"对\",\"对于\",\"将\",\"尔后\",\"尚且\",\"就\",\"就是\",\"就是说\",\"尽\",\"尽管\",\"岂但\",\"己\",\"并\",\"并且\",\"开外\",\"开始\",\"归\",\"当\",\"当着\",\"彼\",\"彼此\",\"往\",\"待\",\"得\",\"怎\",\"怎么\",\"怎么办\",\"怎么样\",\"怎样\",\"总之\",\"总的来看\",\"总的来说\",\"总的说来\",\"总而言之\",\"恰恰相反\",\"您\",\"慢说\",\"我\",\"我们\",\"或\",\"或是\",\"或者\",\"所\",\"所以\",\"打\",\"把\",\"抑或\",\"拿\",\"按\",\"按照\",\"换句话说\",\"换言之\",\"据\",\"接着\",\"故\",\"故此\",\"旁人\",\"无宁\",\"无论\",\"既\",\"既是\",\"既然\",\"时候\",\"是\",\"是的\",\"替\",\"有\",\"有些\",\"有关\",\"有的\",\"望\",\"朝\",\"朝着\",\"本\",\"本着\",\"来\",\"来着\",\"极了\",\"果然\",\"果真\",\"某\",\"某个\",\"某些\",\"根据\",\"正如\",\"此\",\"此外\",\"此间\",\"毋宁\",\"每\",\"每当\",\"比\",\"比如\",\"比方\",\"沿\",\"沿着\",\"漫说\",\"焉\",\"然则\",\"然后\",\"然而\",\"照\",\"照着\",\"甚么\",\"甚而\",\"甚至\",\"用\",\"由\",\"由于\",\"由此可见\",\"的\",\"的话\",\"相对而言\",\"省得\",\"着\",\"着呢\",\"矣\",\"离\",\"第\",\"等\",\"等等\",\"管\",\"紧接着\",\"纵\",\"纵令\",\"纵使\",\"纵然\",\"经\",\"经过\",\"结果\",\"给\",\"继而\",\"综上所述\",\"罢了\",\"者\",\"而\",\"而且\",\"而况\",\"而外\",\"而已\",\"而是\",\"而言\",\"能\",\"腾\",\"自\",\"自个儿\",\"自从\",\"自各儿\",\"自家\",\"自己\",\"自身\",\"至\",\"至于\",\"若\",\"若是\",\"若非\",\"莫若\",\"虽\",\"虽则\",\"虽然\",\"虽说\",\"被\",\"要\",\"要不\",\"要不是\",\"要不然\",\"要么\",\"要是\",\"让\",\"论\",\"设使\",\"设若\",\"该\",\"诸位\",\"谁\",\"谁知\",\"赶\",\"起\",\"起见\",\"趁\",\"趁着\",\"越是\",\"跟\",\"较\",\"较之\",\"边\",\"过\",\"还是\",\"还有\",\"这\",\"这个\",\"这么\",\"这么些\",\"这么样\",\"这么点儿\",\"这些\",\"这会儿\",\"这儿\",\"这就是说\",\"这时\",\"这样\",\"这边\",\"这里\",\"进而\",\"连\",\"连同\",\"通过\",\"遵照\",\"那\",\"那个\",\"那么\",\"那么些\",\"那么样\",\"那些\",\"那会儿\",\"那儿\",\"那时\",\"那样\",\"那边\",\"那里\",\"鄙人\",\"鉴于\",\"阿\",\"除\",\"除了\",\"除此之外\",\"除非\",\"随\",\"随着\",\"零\",\"非但\",\"非徒\",\"靠\",\"顺\",\"顺着\",\"首先\",\"︿\",\"！\",\"＃\",\"＄\",\"％\",\"＆\",\"（\",\"）\",\"＊\",\"＋\",\"，\",\"０\",\"１\",\"２\",\"３\",\"４\",\"５\",\"６\",\"７\",\"８\",\"９\",\"：\",\"；\",\"＜\",\"＞\",\"？\",\"＠\",\"［\",\"］\",\"｛\",\"｜\",\"｝\",\"～\",\"￥\"],\"eo\":[\"adiaŭ\",\"ajn\",\"al\",\"ankoraŭ\",\"antaŭ\",\"aŭ\",\"bonan\",\"bonvole\",\"bonvolu\",\"bv\",\"ci\",\"cia\",\"cian\",\"cin\",\"d-ro\",\"da\",\"de\",\"dek\",\"deka\",\"do\",\"doktor'\",\"doktoro\",\"du\",\"dua\",\"dum\",\"eble\",\"ekz\",\"ekzemple\",\"en\",\"estas\",\"estis\",\"estos\",\"estu\",\"estus\",\"eĉ\",\"f-no\",\"feliĉan\",\"for\",\"fraŭlino\",\"ha\",\"havas\",\"havis\",\"havos\",\"havu\",\"havus\",\"he\",\"ho\",\"hu\",\"ili\",\"ilia\",\"ilian\",\"ilin\",\"inter\",\"io\",\"ion\",\"iu\",\"iujn\",\"iun\",\"ja\",\"jam\",\"je\",\"jes\",\"k\",\"kaj\",\"ke\",\"kio\",\"kion\",\"kiu\",\"kiujn\",\"kiun\",\"kvankam\",\"kvar\",\"kvara\",\"kvazaŭ\",\"kvin\",\"kvina\",\"la\",\"li\",\"lia\",\"lian\",\"lin\",\"malantaŭ\",\"male\",\"malgraŭ\",\"mem\",\"mi\",\"mia\",\"mian\",\"min\",\"minus\",\"naŭ\",\"naŭa\",\"ne\",\"nek\",\"nenio\",\"nenion\",\"neniu\",\"neniun\",\"nepre\",\"ni\",\"nia\",\"nian\",\"nin\",\"nu\",\"nun\",\"nur\",\"ok\",\"oka\",\"oni\",\"onia\",\"onian\",\"onin\",\"plej\",\"pli\",\"plu\",\"plus\",\"por\",\"post\",\"preter\",\"s-no\",\"s-ro\",\"se\",\"sed\",\"sep\",\"sepa\",\"ses\",\"sesa\",\"si\",\"sia\",\"sian\",\"sin\",\"sinjor'\",\"sinjorino\",\"sinjoro\",\"sub\",\"super\",\"supren\",\"sur\",\"tamen\",\"tio\",\"tion\",\"tiu\",\"tiujn\",\"tiun\",\"tra\",\"tri\",\"tria\",\"tuj\",\"tute\",\"unu\",\"unua\",\"ve\",\"verŝajne\",\"vi\",\"via\",\"vian\",\"vin\",\"ĉi\",\"ĉio\",\"ĉion\",\"ĉiu\",\"ĉiujn\",\"ĉiun\",\"ĉu\",\"ĝi\",\"ĝia\",\"ĝian\",\"ĝin\",\"ĝis\",\"ĵus\",\"ŝi\",\"ŝia\",\"ŝin\"],\"he\":[\"אבל\",\"או\",\"אולי\",\"אותה\",\"אותו\",\"אותי\",\"אותך\",\"אותם\",\"אותן\",\"אותנו\",\"אז\",\"אחר\",\"אחרות\",\"אחרי\",\"אחריכן\",\"אחרים\",\"אחרת\",\"אי\",\"איזה\",\"איך\",\"אין\",\"איפה\",\"איתה\",\"איתו\",\"איתי\",\"איתך\",\"איתכם\",\"איתכן\",\"איתם\",\"איתן\",\"איתנו\",\"אך\",\"אל\",\"אלה\",\"אלו\",\"אם\",\"אנחנו\",\"אני\",\"אס\",\"אף\",\"אצל\",\"אשר\",\"את\",\"אתה\",\"אתכם\",\"אתכן\",\"אתם\",\"אתן\",\"באיזומידה\",\"באמצע\",\"באמצעות\",\"בגלל\",\"בין\",\"בלי\",\"במידה\",\"במקוםשבו\",\"ברם\",\"בשביל\",\"בשעהש\",\"בתוך\",\"גם\",\"דרך\",\"הוא\",\"היא\",\"היה\",\"היכן\",\"היתה\",\"היתי\",\"הם\",\"הן\",\"הנה\",\"הסיבהשבגללה\",\"הרי\",\"ואילו\",\"ואת\",\"זאת\",\"זה\",\"זות\",\"יהיה\",\"יוכל\",\"יוכלו\",\"יותרמדי\",\"יכול\",\"יכולה\",\"יכולות\",\"יכולים\",\"יכל\",\"יכלה\",\"יכלו\",\"יש\",\"כאן\",\"כאשר\",\"כולם\",\"כולן\",\"כזה\",\"כי\",\"כיצד\",\"כך\",\"ככה\",\"כל\",\"כלל\",\"כמו\",\"כן\",\"כפי\",\"כש\",\"לא\",\"לאו\",\"לאיזותכלית\",\"לאן\",\"לבין\",\"לה\",\"להיות\",\"להם\",\"להן\",\"לו\",\"לי\",\"לכם\",\"לכן\",\"למה\",\"למטה\",\"למעלה\",\"למקוםשבו\",\"למרות\",\"לנו\",\"לעבר\",\"לעיכן\",\"לפיכך\",\"לפני\",\"מאד\",\"מאחורי\",\"מאיזוסיבה\",\"מאין\",\"מאיפה\",\"מבלי\",\"מבעד\",\"מדוע\",\"מה\",\"מהיכן\",\"מול\",\"מחוץ\",\"מי\",\"מכאן\",\"מכיוון\",\"מלבד\",\"מן\",\"מנין\",\"מסוגל\",\"מעט\",\"מעטים\",\"מעל\",\"מצד\",\"מקוםבו\",\"מתחת\",\"מתי\",\"נגד\",\"נגר\",\"נו\",\"עד\",\"עז\",\"על\",\"עלי\",\"עליה\",\"עליהם\",\"עליהן\",\"עליו\",\"עליך\",\"עליכם\",\"עלינו\",\"עם\",\"עצמה\",\"עצמהם\",\"עצמהן\",\"עצמו\",\"עצמי\",\"עצמם\",\"עצמן\",\"עצמנו\",\"פה\",\"רק\",\"שוב\",\"של\",\"שלה\",\"שלהם\",\"שלהן\",\"שלו\",\"שלי\",\"שלך\",\"שלכה\",\"שלכם\",\"שלכן\",\"שלנו\",\"שם\",\"תהיה\",\"תחת\"],\"la\":[\"a\",\"ab\",\"ac\",\"ad\",\"at\",\"atque\",\"aut\",\"autem\",\"cum\",\"de\",\"dum\",\"e\",\"erant\",\"erat\",\"est\",\"et\",\"etiam\",\"ex\",\"haec\",\"hic\",\"hoc\",\"in\",\"ita\",\"me\",\"nec\",\"neque\",\"non\",\"per\",\"qua\",\"quae\",\"quam\",\"qui\",\"quibus\",\"quidem\",\"quo\",\"quod\",\"re\",\"rebus\",\"rem\",\"res\",\"sed\",\"si\",\"sic\",\"sunt\",\"tamen\",\"tandem\",\"te\",\"ut\",\"vel\"],\"sk\":[\"a\",\"aby\",\"aj\",\"ako\",\"aký\",\"ale\",\"alebo\",\"ani\",\"avšak\",\"ba\",\"bez\",\"buï\",\"cez\",\"do\",\"ho\",\"hoci\",\"i\",\"ich\",\"im\",\"ja\",\"jeho\",\"jej\",\"jemu\",\"ju\",\"k\",\"kam\",\"kde\",\"kedže\",\"keï\",\"kto\",\"ktorý\",\"ku\",\"lebo\",\"ma\",\"mi\",\"mne\",\"mnou\",\"mu\",\"my\",\"mòa\",\"môj\",\"na\",\"nad\",\"nami\",\"neho\",\"nej\",\"nemu\",\"nich\",\"nielen\",\"nim\",\"no\",\"nám\",\"nás\",\"náš\",\"ním\",\"o\",\"od\",\"on\",\"ona\",\"oni\",\"ono\",\"ony\",\"po\",\"pod\",\"pre\",\"pred\",\"pri\",\"s\",\"sa\",\"seba\",\"sem\",\"so\",\"svoj\",\"taký\",\"tam\",\"teba\",\"tebe\",\"tebou\",\"tej\",\"ten\",\"ti\",\"tie\",\"to\",\"toho\",\"tomu\",\"tou\",\"tvoj\",\"ty\",\"tá\",\"tým\",\"v\",\"vami\",\"veï\",\"vo\",\"vy\",\"vám\",\"vás\",\"váš\",\"však\",\"z\",\"za\",\"zo\",\"a\",\"èi\",\"èo\",\"èí\",\"òom\",\"òou\",\"òu\",\"že\"],\"sl\":[\"a\",\"ali\",\"april\",\"avgust\",\"b\",\"bi\",\"bil\",\"bila\",\"bile\",\"bili\",\"bilo\",\"biti\",\"blizu\",\"bo\",\"bodo\",\"bojo\",\"bolj\",\"bom\",\"bomo\",\"boste\",\"bova\",\"boš\",\"brez\",\"c\",\"cel\",\"cela\",\"celi\",\"celo\",\"d\",\"da\",\"daleč\",\"dan\",\"danes\",\"datum\",\"december\",\"deset\",\"deseta\",\"deseti\",\"deseto\",\"devet\",\"deveta\",\"deveti\",\"deveto\",\"do\",\"dober\",\"dobra\",\"dobri\",\"dobro\",\"dokler\",\"dol\",\"dolg\",\"dolga\",\"dolgi\",\"dovolj\",\"drug\",\"druga\",\"drugi\",\"drugo\",\"dva\",\"dve\",\"e\",\"eden\",\"en\",\"ena\",\"ene\",\"eni\",\"enkrat\",\"eno\",\"etc.\",\"f\",\"februar\",\"g\",\"g.\",\"ga\",\"ga.\",\"gor\",\"gospa\",\"gospod\",\"h\",\"halo\",\"i\",\"idr.\",\"ii\",\"iii\",\"in\",\"iv\",\"ix\",\"iz\",\"j\",\"januar\",\"jaz\",\"je\",\"ji\",\"jih\",\"jim\",\"jo\",\"julij\",\"junij\",\"jutri\",\"k\",\"kadarkoli\",\"kaj\",\"kajti\",\"kako\",\"kakor\",\"kamor\",\"kamorkoli\",\"kar\",\"karkoli\",\"katerikoli\",\"kdaj\",\"kdo\",\"kdorkoli\",\"ker\",\"ki\",\"kje\",\"kjer\",\"kjerkoli\",\"ko\",\"koder\",\"koderkoli\",\"koga\",\"komu\",\"kot\",\"kratek\",\"kratka\",\"kratke\",\"kratki\",\"l\",\"lahka\",\"lahke\",\"lahki\",\"lahko\",\"le\",\"lep\",\"lepa\",\"lepe\",\"lepi\",\"lepo\",\"leto\",\"m\",\"maj\",\"majhen\",\"majhna\",\"majhni\",\"malce\",\"malo\",\"manj\",\"marec\",\"me\",\"med\",\"medtem\",\"mene\",\"mesec\",\"mi\",\"midva\",\"midve\",\"mnogo\",\"moj\",\"moja\",\"moje\",\"mora\",\"morajo\",\"moram\",\"moramo\",\"morate\",\"moraš\",\"morem\",\"mu\",\"n\",\"na\",\"nad\",\"naj\",\"najina\",\"najino\",\"najmanj\",\"naju\",\"največ\",\"nam\",\"narobe\",\"nas\",\"nato\",\"nazaj\",\"naš\",\"naša\",\"naše\",\"ne\",\"nedavno\",\"nedelja\",\"nek\",\"neka\",\"nekaj\",\"nekatere\",\"nekateri\",\"nekatero\",\"nekdo\",\"neke\",\"nekega\",\"neki\",\"nekje\",\"neko\",\"nekoga\",\"nekoč\",\"ni\",\"nikamor\",\"nikdar\",\"nikjer\",\"nikoli\",\"nič\",\"nje\",\"njega\",\"njegov\",\"njegova\",\"njegovo\",\"njej\",\"njemu\",\"njen\",\"njena\",\"njeno\",\"nji\",\"njih\",\"njihov\",\"njihova\",\"njihovo\",\"njiju\",\"njim\",\"njo\",\"njun\",\"njuna\",\"njuno\",\"no\",\"nocoj\",\"november\",\"npr.\",\"o\",\"ob\",\"oba\",\"obe\",\"oboje\",\"od\",\"odprt\",\"odprta\",\"odprti\",\"okoli\",\"oktober\",\"on\",\"onadva\",\"one\",\"oni\",\"onidve\",\"osem\",\"osma\",\"osmi\",\"osmo\",\"oz.\",\"p\",\"pa\",\"pet\",\"peta\",\"petek\",\"peti\",\"peto\",\"po\",\"pod\",\"pogosto\",\"poleg\",\"poln\",\"polna\",\"polni\",\"polno\",\"ponavadi\",\"ponedeljek\",\"ponovno\",\"potem\",\"povsod\",\"pozdravljen\",\"pozdravljeni\",\"prav\",\"prava\",\"prave\",\"pravi\",\"pravo\",\"prazen\",\"prazna\",\"prazno\",\"prbl.\",\"precej\",\"pred\",\"prej\",\"preko\",\"pri\",\"pribl.\",\"približno\",\"primer\",\"pripravljen\",\"pripravljena\",\"pripravljeni\",\"proti\",\"prva\",\"prvi\",\"prvo\",\"r\",\"ravno\",\"redko\",\"res\",\"reč\",\"s\",\"saj\",\"sam\",\"sama\",\"same\",\"sami\",\"samo\",\"se\",\"sebe\",\"sebi\",\"sedaj\",\"sedem\",\"sedma\",\"sedmi\",\"sedmo\",\"sem\",\"september\",\"seveda\",\"si\",\"sicer\",\"skoraj\",\"skozi\",\"slab\",\"smo\",\"so\",\"sobota\",\"spet\",\"sreda\",\"srednja\",\"srednji\",\"sta\",\"ste\",\"stran\",\"stvar\",\"sva\",\"t\",\"ta\",\"tak\",\"taka\",\"take\",\"taki\",\"tako\",\"takoj\",\"tam\",\"te\",\"tebe\",\"tebi\",\"tega\",\"težak\",\"težka\",\"težki\",\"težko\",\"ti\",\"tista\",\"tiste\",\"tisti\",\"tisto\",\"tj.\",\"tja\",\"to\",\"toda\",\"torek\",\"tretja\",\"tretje\",\"tretji\",\"tri\",\"tu\",\"tudi\",\"tukaj\",\"tvoj\",\"tvoja\",\"tvoje\",\"u\",\"v\",\"vaju\",\"vam\",\"vas\",\"vaš\",\"vaša\",\"vaše\",\"ve\",\"vedno\",\"velik\",\"velika\",\"veliki\",\"veliko\",\"vendar\",\"ves\",\"več\",\"vi\",\"vidva\",\"vii\",\"viii\",\"visok\",\"visoka\",\"visoke\",\"visoki\",\"vsa\",\"vsaj\",\"vsak\",\"vsaka\",\"vsakdo\",\"vsake\",\"vsaki\",\"vsakomur\",\"vse\",\"vsega\",\"vsi\",\"vso\",\"včasih\",\"včeraj\",\"x\",\"z\",\"za\",\"zadaj\",\"zadnji\",\"zakaj\",\"zaprta\",\"zaprti\",\"zaprto\",\"zdaj\",\"zelo\",\"zunaj\",\"č\",\"če\",\"često\",\"četrta\",\"četrtek\",\"četrti\",\"četrto\",\"čez\",\"čigav\",\"š\",\"šest\",\"šesta\",\"šesti\",\"šesto\",\"štiri\",\"ž\",\"že\"],\"br\":[\"a\",\"ainda\",\"alem\",\"ambas\",\"ambos\",\"antes\",\"ao\",\"aonde\",\"aos\",\"apos\",\"aquele\",\"aqueles\",\"as\",\"assim\",\"com\",\"como\",\"contra\",\"contudo\",\"cuja\",\"cujas\",\"cujo\",\"cujos\",\"da\",\"das\",\"de\",\"dela\",\"dele\",\"deles\",\"demais\",\"depois\",\"desde\",\"desta\",\"deste\",\"dispoe\",\"dispoem\",\"diversa\",\"diversas\",\"diversos\",\"do\",\"dos\",\"durante\",\"e\",\"ela\",\"elas\",\"ele\",\"eles\",\"em\",\"entao\",\"entre\",\"essa\",\"essas\",\"esse\",\"esses\",\"esta\",\"estas\",\"este\",\"estes\",\"ha\",\"isso\",\"isto\",\"logo\",\"mais\",\"mas\",\"mediante\",\"menos\",\"mesma\",\"mesmas\",\"mesmo\",\"mesmos\",\"na\",\"nao\",\"nas\",\"nem\",\"nesse\",\"neste\",\"nos\",\"o\",\"os\",\"ou\",\"outra\",\"outras\",\"outro\",\"outros\",\"pelas\",\"pelo\",\"pelos\",\"perante\",\"pois\",\"por\",\"porque\",\"portanto\",\"propios\",\"proprio\",\"quais\",\"qual\",\"qualquer\",\"quando\",\"quanto\",\"que\",\"quem\",\"quer\",\"se\",\"seja\",\"sem\",\"sendo\",\"seu\",\"seus\",\"sob\",\"sobre\",\"sua\",\"suas\",\"tal\",\"tambem\",\"teu\",\"teus\",\"toda\",\"todas\",\"todo\",\"todos\",\"tua\",\"tuas\",\"tudo\",\"um\",\"uma\",\"umas\",\"uns\"],\"ca\":[\"a\",\"abans\",\"ací\",\"ah\",\"així\",\"això\",\"al\",\"aleshores\",\"algun\",\"alguna\",\"algunes\",\"alguns\",\"alhora\",\"allà\",\"allí\",\"allò\",\"als\",\"altra\",\"altre\",\"altres\",\"amb\",\"ambdues\",\"ambdós\",\"apa\",\"aquell\",\"aquella\",\"aquelles\",\"aquells\",\"aquest\",\"aquesta\",\"aquestes\",\"aquests\",\"aquí\",\"baix\",\"cada\",\"cadascuna\",\"cadascunes\",\"cadascuns\",\"cadascú\",\"com\",\"contra\",\"d'un\",\"d'una\",\"d'unes\",\"d'uns\",\"dalt\",\"de\",\"del\",\"dels\",\"des\",\"després\",\"dins\",\"dintre\",\"donat\",\"doncs\",\"durant\",\"e\",\"eh\",\"el\",\"els\",\"em\",\"en\",\"encara\",\"ens\",\"entre\",\"eren\",\"es\",\"esta\",\"estaven\",\"esteu\",\"està\",\"estàvem\",\"estàveu\",\"et\",\"etc\",\"ets\",\"fins\",\"fora\",\"gairebé\",\"ha\",\"han\",\"has\",\"havia\",\"he\",\"hem\",\"heu\",\"hi\",\"ho\",\"i\",\"igual\",\"iguals\",\"ja\",\"l'hi\",\"la\",\"les\",\"li\",\"li'n\",\"llavors\",\"m'he\",\"ma\",\"mal\",\"malgrat\",\"mateix\",\"mateixa\",\"mateixes\",\"mateixos\",\"me\",\"mentre\",\"meu\",\"meus\",\"meva\",\"meves\",\"molt\",\"molta\",\"moltes\",\"molts\",\"mon\",\"mons\",\"més\",\"n'he\",\"n'hi\",\"ne\",\"ni\",\"no\",\"nogensmenys\",\"només\",\"nosaltres\",\"nostra\",\"nostre\",\"nostres\",\"o\",\"oh\",\"oi\",\"on\",\"pas\",\"pel\",\"pels\",\"per\",\"perquè\",\"però\",\"poc\",\"poca\",\"pocs\",\"poques\",\"potser\",\"propi\",\"qual\",\"quals\",\"quan\",\"quant\",\"que\",\"quelcom\",\"qui\",\"quin\",\"quina\",\"quines\",\"quins\",\"què\",\"s'ha\",\"s'han\",\"sa\",\"semblant\",\"semblants\",\"ses\",\"seu\",\"seus\",\"seva\",\"seves\",\"si\",\"sobre\",\"sobretot\",\"solament\",\"sols\",\"son\",\"sons\",\"sota\",\"sou\",\"sóc\",\"són\",\"t'ha\",\"t'han\",\"t'he\",\"ta\",\"tal\",\"també\",\"tampoc\",\"tan\",\"tant\",\"tanta\",\"tantes\",\"teu\",\"teus\",\"teva\",\"teves\",\"ton\",\"tons\",\"tot\",\"tota\",\"totes\",\"tots\",\"un\",\"una\",\"unes\",\"uns\",\"us\",\"va\",\"vaig\",\"vam\",\"van\",\"vas\",\"veu\",\"vosaltres\",\"vostra\",\"vostre\",\"vostres\",\"érem\",\"éreu\",\"és\"],\"cs\":[\"a\",\"aby\",\"ahoj\",\"aj\",\"ale\",\"anebo\",\"ani\",\"ano\",\"asi\",\"aspoň\",\"atd\",\"atp\",\"ačkoli\",\"až\",\"bez\",\"beze\",\"blízko\",\"bohužel\",\"brzo\",\"bude\",\"budem\",\"budeme\",\"budete\",\"budeš\",\"budou\",\"budu\",\"by\",\"byl\",\"byla\",\"byli\",\"bylo\",\"byly\",\"bys\",\"být\",\"během\",\"chce\",\"chceme\",\"chcete\",\"chceš\",\"chci\",\"chtít\",\"chtějí\",\"chut'\",\"chuti\",\"co\",\"což\",\"cz\",\"daleko\",\"další\",\"den\",\"deset\",\"devatenáct\",\"devět\",\"dnes\",\"do\",\"dobrý\",\"docela\",\"dva\",\"dvacet\",\"dvanáct\",\"dvě\",\"dál\",\"dále\",\"děkovat\",\"děkujeme\",\"děkuji\",\"ho\",\"hodně\",\"i\",\"jak\",\"jakmile\",\"jako\",\"jakož\",\"jde\",\"je\",\"jeden\",\"jedenáct\",\"jedna\",\"jedno\",\"jednou\",\"jedou\",\"jeho\",\"jehož\",\"jej\",\"jejich\",\"její\",\"jelikož\",\"jemu\",\"jen\",\"jenom\",\"jestli\",\"jestliže\",\"ještě\",\"jež\",\"ji\",\"jich\",\"jimi\",\"jinak\",\"jiné\",\"již\",\"jsem\",\"jseš\",\"jsi\",\"jsme\",\"jsou\",\"jste\",\"já\",\"jí\",\"jím\",\"jíž\",\"k\",\"kam\",\"kde\",\"kdo\",\"kdy\",\"když\",\"ke\",\"kolik\",\"kromě\",\"kterou\",\"která\",\"které\",\"který\",\"kteří\",\"kvůli\",\"mají\",\"mezi\",\"mi\",\"mne\",\"mnou\",\"mně\",\"moc\",\"mohl\",\"mohou\",\"moje\",\"moji\",\"možná\",\"musí\",\"my\",\"má\",\"málo\",\"mám\",\"máme\",\"máte\",\"máš\",\"mé\",\"mí\",\"mít\",\"mě\",\"můj\",\"může\",\"na\",\"nad\",\"nade\",\"napište\",\"naproti\",\"načež\",\"naše\",\"naši\",\"ne\",\"nebo\",\"nebyl\",\"nebyla\",\"nebyli\",\"nebyly\",\"nedělají\",\"nedělá\",\"nedělám\",\"neděláme\",\"neděláte\",\"neděláš\",\"neg\",\"nejsi\",\"nejsou\",\"nemají\",\"nemáme\",\"nemáte\",\"neměl\",\"není\",\"nestačí\",\"nevadí\",\"než\",\"nic\",\"nich\",\"nimi\",\"nové\",\"nový\",\"nula\",\"nám\",\"námi\",\"nás\",\"náš\",\"ním\",\"ně\",\"něco\",\"nějak\",\"někde\",\"někdo\",\"němu\",\"němuž\",\"o\",\"od\",\"ode\",\"on\",\"ona\",\"oni\",\"ono\",\"ony\",\"osm\",\"osmnáct\",\"pak\",\"patnáct\",\"po\",\"pod\",\"podle\",\"pokud\",\"potom\",\"pouze\",\"pozdě\",\"pořád\",\"pravé\",\"pro\",\"prostě\",\"prosím\",\"proti\",\"proto\",\"protože\",\"proč\",\"první\",\"pta\",\"pět\",\"před\",\"přes\",\"přese\",\"při\",\"přičemž\",\"re\",\"rovně\",\"s\",\"se\",\"sedm\",\"sedmnáct\",\"si\",\"skoro\",\"smí\",\"smějí\",\"snad\",\"spolu\",\"sta\",\"sto\",\"strana\",\"sté\",\"své\",\"svých\",\"svým\",\"svými\",\"ta\",\"tady\",\"tak\",\"takhle\",\"taky\",\"také\",\"takže\",\"tam\",\"tamhle\",\"tamhleto\",\"tamto\",\"tato\",\"tebe\",\"tebou\",\"ted'\",\"tedy\",\"ten\",\"tento\",\"teto\",\"ti\",\"tipy\",\"tisíc\",\"tisíce\",\"to\",\"tobě\",\"tohle\",\"toho\",\"tohoto\",\"tom\",\"tomto\",\"tomu\",\"tomuto\",\"toto\",\"trošku\",\"tu\",\"tuto\",\"tvoje\",\"tvá\",\"tvé\",\"tvůj\",\"ty\",\"tyto\",\"téma\",\"tím\",\"tímto\",\"tě\",\"těm\",\"těmu\",\"třeba\",\"tři\",\"třináct\",\"u\",\"určitě\",\"už\",\"v\",\"vaše\",\"vaši\",\"ve\",\"vedle\",\"večer\",\"vlastně\",\"vy\",\"vám\",\"vámi\",\"vás\",\"váš\",\"více\",\"však\",\"všechno\",\"všichni\",\"vůbec\",\"vždy\",\"z\",\"za\",\"zatímco\",\"zač\",\"zda\",\"zde\",\"ze\",\"zprávy\",\"zpět\",\"čau\",\"či\",\"článku\",\"články\",\"čtrnáct\",\"čtyři\",\"šest\",\"šestnáct\",\"že\"],\"el\":[\"αλλα\",\"αν\",\"αντι\",\"απο\",\"αυτα\",\"αυτεσ\",\"αυτη\",\"αυτο\",\"αυτοι\",\"αυτοσ\",\"αυτουσ\",\"αυτων\",\"για\",\"δε\",\"δεν\",\"εαν\",\"ειμαι\",\"ειμαστε\",\"ειναι\",\"εισαι\",\"ειστε\",\"εκεινα\",\"εκεινεσ\",\"εκεινη\",\"εκεινο\",\"εκεινοι\",\"εκεινοσ\",\"εκεινουσ\",\"εκεινων\",\"ενω\",\"επι\",\"η\",\"θα\",\"ισωσ\",\"κ\",\"και\",\"κατα\",\"κι\",\"μα\",\"με\",\"μετα\",\"μη\",\"μην\",\"να\",\"ο\",\"οι\",\"ομωσ\",\"οπωσ\",\"οσο\",\"οτι\",\"παρα\",\"ποια\",\"ποιεσ\",\"ποιο\",\"ποιοι\",\"ποιοσ\",\"ποιουσ\",\"ποιων\",\"που\",\"προσ\",\"πωσ\",\"σε\",\"στη\",\"στην\",\"στο\",\"στον\",\"τα\",\"την\",\"τησ\",\"το\",\"τον\",\"τοτε\",\"του\",\"των\",\"ωσ\"],\"eu\":[\"al\",\"anitz\",\"arabera\",\"asko\",\"baina\",\"bat\",\"batean\",\"batek\",\"bati\",\"batzuei\",\"batzuek\",\"batzuetan\",\"batzuk\",\"bera\",\"beraiek\",\"berau\",\"berauek\",\"bere\",\"berori\",\"beroriek\",\"beste\",\"bezala\",\"da\",\"dago\",\"dira\",\"ditu\",\"du\",\"dute\",\"edo\",\"egin\",\"ere\",\"eta\",\"eurak\",\"ez\",\"gainera\",\"gu\",\"gutxi\",\"guzti\",\"haiei\",\"haiek\",\"haietan\",\"hainbeste\",\"hala\",\"han\",\"handik\",\"hango\",\"hara\",\"hari\",\"hark\",\"hartan\",\"hau\",\"hauei\",\"hauek\",\"hauetan\",\"hemen\",\"hemendik\",\"hemengo\",\"hi\",\"hona\",\"honek\",\"honela\",\"honetan\",\"honi\",\"hor\",\"hori\",\"horiei\",\"horiek\",\"horietan\",\"horko\",\"horra\",\"horrek\",\"horrela\",\"horretan\",\"horri\",\"hortik\",\"hura\",\"izan\",\"ni\",\"noiz\",\"nola\",\"non\",\"nondik\",\"nongo\",\"nor\",\"nora\",\"ze\",\"zein\",\"zen\",\"zenbait\",\"zenbat\",\"zer\",\"zergatik\",\"ziren\",\"zituen\",\"zu\",\"zuek\",\"zuen\",\"zuten\"],\"ga\":[\"a\",\"ach\",\"ag\",\"agus\",\"an\",\"aon\",\"ar\",\"arna\",\"as\",\"b'\",\"ba\",\"beirt\",\"bhúr\",\"caoga\",\"ceathair\",\"ceathrar\",\"chomh\",\"chtó\",\"chuig\",\"chun\",\"cois\",\"céad\",\"cúig\",\"cúigear\",\"d'\",\"daichead\",\"dar\",\"de\",\"deich\",\"deichniúr\",\"den\",\"dhá\",\"do\",\"don\",\"dtí\",\"dá\",\"dár\",\"dó\",\"faoi\",\"faoin\",\"faoina\",\"faoinár\",\"fara\",\"fiche\",\"gach\",\"gan\",\"go\",\"gur\",\"haon\",\"hocht\",\"i\",\"iad\",\"idir\",\"in\",\"ina\",\"ins\",\"inár\",\"is\",\"le\",\"leis\",\"lena\",\"lenár\",\"m'\",\"mar\",\"mo\",\"mé\",\"na\",\"nach\",\"naoi\",\"naonúr\",\"ná\",\"ní\",\"níor\",\"nó\",\"nócha\",\"ocht\",\"ochtar\",\"os\",\"roimh\",\"sa\",\"seacht\",\"seachtar\",\"seachtó\",\"seasca\",\"seisear\",\"siad\",\"sibh\",\"sinn\",\"sna\",\"sé\",\"sí\",\"tar\",\"thar\",\"thú\",\"triúr\",\"trí\",\"trína\",\"trínár\",\"tríocha\",\"tú\",\"um\",\"ár\",\"é\",\"éis\",\"í\",\"ó\",\"ón\",\"óna\",\"ónár\"],\"gl\":[\"a\",\"alí\",\"ao\",\"aos\",\"aquel\",\"aquela\",\"aquelas\",\"aqueles\",\"aquilo\",\"aquí\",\"as\",\"así\",\"aínda\",\"ben\",\"cando\",\"che\",\"co\",\"coa\",\"coas\",\"comigo\",\"con\",\"connosco\",\"contigo\",\"convosco\",\"cos\",\"cun\",\"cunha\",\"cunhas\",\"cuns\",\"da\",\"dalgunha\",\"dalgunhas\",\"dalgún\",\"dalgúns\",\"das\",\"de\",\"del\",\"dela\",\"delas\",\"deles\",\"desde\",\"deste\",\"do\",\"dos\",\"dun\",\"dunha\",\"dunhas\",\"duns\",\"e\",\"el\",\"ela\",\"elas\",\"eles\",\"en\",\"era\",\"eran\",\"esa\",\"esas\",\"ese\",\"eses\",\"esta\",\"estaba\",\"estar\",\"este\",\"estes\",\"estiven\",\"estou\",\"está\",\"están\",\"eu\",\"facer\",\"foi\",\"foron\",\"fun\",\"había\",\"hai\",\"iso\",\"isto\",\"la\",\"las\",\"lle\",\"lles\",\"lo\",\"los\",\"mais\",\"me\",\"meu\",\"meus\",\"min\",\"miña\",\"miñas\",\"moi\",\"na\",\"nas\",\"neste\",\"nin\",\"no\",\"non\",\"nos\",\"nosa\",\"nosas\",\"noso\",\"nosos\",\"nun\",\"nunha\",\"nunhas\",\"nuns\",\"nós\",\"o\",\"os\",\"ou\",\"para\",\"pero\",\"pode\",\"pois\",\"pola\",\"polas\",\"polo\",\"polos\",\"por\",\"que\",\"se\",\"senón\",\"ser\",\"seu\",\"seus\",\"sexa\",\"sido\",\"sobre\",\"súa\",\"súas\",\"tamén\",\"tan\",\"te\",\"ten\",\"ter\",\"teu\",\"teus\",\"teñen\",\"teño\",\"ti\",\"tido\",\"tiven\",\"tiña\",\"túa\",\"túas\",\"un\",\"unha\",\"unhas\",\"uns\",\"vos\",\"vosa\",\"vosas\",\"voso\",\"vosos\",\"vós\",\"á\",\"é\",\"ó\",\"ós\"],\"hy\":[\"այդ\",\"այլ\",\"այն\",\"այս\",\"դու\",\"դուք\",\"եմ\",\"են\",\"ենք\",\"ես\",\"եք\",\"է\",\"էի\",\"էին\",\"էինք\",\"էիր\",\"էիք\",\"էր\",\"ըստ\",\"թ\",\"ի\",\"ին\",\"իսկ\",\"իր\",\"կամ\",\"համար\",\"հետ\",\"հետո\",\"մենք\",\"մեջ\",\"մի\",\"ն\",\"նա\",\"նաև\",\"նրա\",\"նրանք\",\"որ\",\"որը\",\"որոնք\",\"որպես\",\"ու\",\"ում\",\"պիտի\",\"վրա\",\"և\"],\"id\":[\"ada\",\"adalah\",\"adanya\",\"adapun\",\"agak\",\"agaknya\",\"agar\",\"akan\",\"akankah\",\"akhirnya\",\"aku\",\"akulah\",\"amat\",\"amatlah\",\"anda\",\"andalah\",\"antar\",\"antara\",\"antaranya\",\"apa\",\"apaan\",\"apabila\",\"apakah\",\"apalagi\",\"apatah\",\"atau\",\"ataukah\",\"ataupun\",\"bagai\",\"bagaikan\",\"bagaimana\",\"bagaimanakah\",\"bagaimanapun\",\"bagi\",\"bahkan\",\"bahwa\",\"bahwasanya\",\"banyak\",\"beberapa\",\"begini\",\"beginian\",\"beginikah\",\"beginilah\",\"begitu\",\"begitukah\",\"begitulah\",\"begitupun\",\"belum\",\"belumlah\",\"berapa\",\"berapakah\",\"berapalah\",\"berapapun\",\"bermacam\",\"bersama\",\"betulkah\",\"biasa\",\"biasanya\",\"bila\",\"bilakah\",\"bisa\",\"bisakah\",\"boleh\",\"bolehkah\",\"bolehlah\",\"buat\",\"bukan\",\"bukankah\",\"bukanlah\",\"bukannya\",\"cuma\",\"dahulu\",\"dalam\",\"dan\",\"dapat\",\"dari\",\"daripada\",\"dekat\",\"demi\",\"demikian\",\"demikianlah\",\"dengan\",\"depan\",\"di\",\"dia\",\"dialah\",\"diantara\",\"diantaranya\",\"dikarenakan\",\"dini\",\"diri\",\"dirinya\",\"disini\",\"disinilah\",\"dong\",\"dulu\",\"enggak\",\"enggaknya\",\"entah\",\"entahlah\",\"hal\",\"hampir\",\"hanya\",\"hanyalah\",\"harus\",\"haruslah\",\"harusnya\",\"hendak\",\"hendaklah\",\"hendaknya\",\"hingga\",\"ia\",\"ialah\",\"ibarat\",\"ingin\",\"inginkah\",\"inginkan\",\"ini\",\"inikah\",\"inilah\",\"itu\",\"itukah\",\"itulah\",\"jangan\",\"jangankan\",\"janganlah\",\"jika\",\"jikalau\",\"juga\",\"justru\",\"kala\",\"kalau\",\"kalaulah\",\"kalaupun\",\"kalian\",\"kami\",\"kamilah\",\"kamu\",\"kamulah\",\"kan\",\"kapan\",\"kapankah\",\"kapanpun\",\"karena\",\"karenanya\",\"ke\",\"kecil\",\"kemudian\",\"kenapa\",\"kepada\",\"kepadanya\",\"ketika\",\"khususnya\",\"kini\",\"kinilah\",\"kiranya\",\"kita\",\"kitalah\",\"kok\",\"lagi\",\"lagian\",\"lah\",\"lain\",\"lainnya\",\"lalu\",\"lama\",\"lamanya\",\"lebih\",\"macam\",\"maka\",\"makanya\",\"makin\",\"malah\",\"malahan\",\"mampu\",\"mampukah\",\"mana\",\"manakala\",\"manalagi\",\"masih\",\"masihkah\",\"masing\",\"mau\",\"maupun\",\"melainkan\",\"melalui\",\"memang\",\"mengapa\",\"mereka\",\"merekalah\",\"merupakan\",\"meski\",\"meskipun\",\"mungkin\",\"mungkinkah\",\"nah\",\"namun\",\"nanti\",\"nantinya\",\"nyaris\",\"oleh\",\"olehnya\",\"pada\",\"padahal\",\"padanya\",\"paling\",\"pantas\",\"para\",\"pasti\",\"pastilah\",\"per\",\"percuma\",\"pernah\",\"pula\",\"pun\",\"rupanya\",\"saat\",\"saatnya\",\"saja\",\"sajalah\",\"saling\",\"sama\",\"sambil\",\"sampai\",\"sana\",\"sangat\",\"sangatlah\",\"saya\",\"sayalah\",\"se\",\"sebab\",\"sebabnya\",\"sebagai\",\"sebagaimana\",\"sebagainya\",\"sebaliknya\",\"sebanyak\",\"sebegini\",\"sebegitu\",\"sebelum\",\"sebelumnya\",\"sebenarnya\",\"seberapa\",\"sebetulnya\",\"sebisanya\",\"sebuah\",\"sedang\",\"sedangkan\",\"sedemikian\",\"sedikit\",\"sedikitnya\",\"segala\",\"segalanya\",\"segera\",\"seharusnya\",\"sehingga\",\"sejak\",\"sejenak\",\"sekali\",\"sekalian\",\"sekaligus\",\"sekalipun\",\"sekarang\",\"seketika\",\"sekiranya\",\"sekitar\",\"sekitarnya\",\"sela\",\"selagi\",\"selain\",\"selaku\",\"selalu\",\"selama\",\"selamanya\",\"seluruh\",\"seluruhnya\",\"semacam\",\"semakin\",\"semasih\",\"semaunya\",\"sementara\",\"sempat\",\"semua\",\"semuanya\",\"semula\",\"sendiri\",\"sendirinya\",\"seolah\",\"seorang\",\"sepanjang\",\"sepantasnya\",\"sepantasnyalah\",\"seperti\",\"sepertinya\",\"sering\",\"seringnya\",\"serta\",\"serupa\",\"sesaat\",\"sesama\",\"sesegera\",\"sesekali\",\"seseorang\",\"sesuatu\",\"sesuatunya\",\"sesudah\",\"sesudahnya\",\"setelah\",\"seterusnya\",\"setiap\",\"setidaknya\",\"sewaktu\",\"siapa\",\"siapakah\",\"siapapun\",\"sini\",\"sinilah\",\"suatu\",\"sudah\",\"sudahkah\",\"sudahlah\",\"supaya\",\"tadi\",\"tadinya\",\"tak\",\"tanpa\",\"tapi\",\"telah\",\"tentang\",\"tentu\",\"tentulah\",\"tentunya\",\"terdiri\",\"terhadap\",\"terhadapnya\",\"terlalu\",\"terlebih\",\"tersebut\",\"tersebutlah\",\"tertentu\",\"tetapi\",\"tiap\",\"tidak\",\"tidakkah\",\"tidaklah\",\"toh\",\"waduh\",\"wah\",\"wahai\",\"walau\",\"walaupun\",\"wong\",\"yaitu\",\"yakni\",\"yang\"],\"ja\":[\"あっ\",\"あり\",\"ある\",\"い\",\"いう\",\"いる\",\"う\",\"うち\",\"お\",\"および\",\"おり\",\"か\",\"かつて\",\"から\",\"が\",\"き\",\"ここ\",\"こと\",\"この\",\"これ\",\"これら\",\"さ\",\"さらに\",\"し\",\"しかし\",\"する\",\"ず\",\"せ\",\"せる\",\"そして\",\"その\",\"その他\",\"その後\",\"それ\",\"それぞれ\",\"た\",\"ただし\",\"たち\",\"ため\",\"たり\",\"だ\",\"だっ\",\"つ\",\"て\",\"で\",\"でき\",\"できる\",\"です\",\"では\",\"でも\",\"と\",\"という\",\"といった\",\"とき\",\"ところ\",\"として\",\"とともに\",\"とも\",\"と共に\",\"な\",\"ない\",\"なお\",\"なかっ\",\"ながら\",\"なく\",\"なっ\",\"など\",\"なら\",\"なり\",\"なる\",\"に\",\"において\",\"における\",\"について\",\"にて\",\"によって\",\"により\",\"による\",\"に対して\",\"に対する\",\"に関する\",\"の\",\"ので\",\"のみ\",\"は\",\"ば\",\"へ\",\"ほか\",\"ほとんど\",\"ほど\",\"ます\",\"また\",\"または\",\"まで\",\"も\",\"もの\",\"ものの\",\"や\",\"よう\",\"より\",\"ら\",\"られ\",\"られる\",\"れ\",\"れる\",\"を\",\"ん\",\"及び\",\"特に\"],\"lv\":[\"aiz\",\"ap\",\"apakš\",\"apakšpus\",\"ar\",\"arī\",\"augšpus\",\"bet\",\"bez\",\"bija\",\"biji\",\"biju\",\"bijām\",\"bijāt\",\"būs\",\"būsi\",\"būsiet\",\"būsim\",\"būt\",\"būšu\",\"caur\",\"diemžēl\",\"diezin\",\"droši\",\"dēļ\",\"esam\",\"esat\",\"esi\",\"esmu\",\"gan\",\"gar\",\"iekam\",\"iekams\",\"iekām\",\"iekāms\",\"iekš\",\"iekšpus\",\"ik\",\"ir\",\"it\",\"itin\",\"iz\",\"ja\",\"jau\",\"jeb\",\"jebšu\",\"jel\",\"jo\",\"jā\",\"ka\",\"kamēr\",\"kaut\",\"kolīdz\",\"kopš\",\"kā\",\"kļuva\",\"kļuvi\",\"kļuvu\",\"kļuvām\",\"kļuvāt\",\"kļūs\",\"kļūsi\",\"kļūsiet\",\"kļūsim\",\"kļūst\",\"kļūstam\",\"kļūstat\",\"kļūsti\",\"kļūstu\",\"kļūt\",\"kļūšu\",\"labad\",\"lai\",\"lejpus\",\"līdz\",\"līdzko\",\"ne\",\"nebūt\",\"nedz\",\"nekā\",\"nevis\",\"nezin\",\"no\",\"nu\",\"nē\",\"otrpus\",\"pa\",\"par\",\"pat\",\"pie\",\"pirms\",\"pret\",\"priekš\",\"pār\",\"pēc\",\"starp\",\"tad\",\"tak\",\"tapi\",\"taps\",\"tapsi\",\"tapsiet\",\"tapsim\",\"tapt\",\"tapāt\",\"tapšu\",\"taču\",\"te\",\"tiec\",\"tiek\",\"tiekam\",\"tiekat\",\"tieku\",\"tik\",\"tika\",\"tikai\",\"tiki\",\"tikko\",\"tiklab\",\"tiklīdz\",\"tiks\",\"tiksiet\",\"tiksim\",\"tikt\",\"tiku\",\"tikvien\",\"tikām\",\"tikāt\",\"tikšu\",\"tomēr\",\"topat\",\"turpretim\",\"turpretī\",\"tā\",\"tādēļ\",\"tālab\",\"tāpēc\",\"un\",\"uz\",\"vai\",\"var\",\"varat\",\"varēja\",\"varēji\",\"varēju\",\"varējām\",\"varējāt\",\"varēs\",\"varēsi\",\"varēsiet\",\"varēsim\",\"varēt\",\"varēšu\",\"vien\",\"virs\",\"virspus\",\"vis\",\"viņpus\",\"zem\",\"ārpus\",\"šaipus\"],\"th\":[\"กล่าว\",\"กว่า\",\"กัน\",\"กับ\",\"การ\",\"ก็\",\"ก่อน\",\"ขณะ\",\"ขอ\",\"ของ\",\"ขึ้น\",\"คง\",\"ครั้ง\",\"ความ\",\"คือ\",\"จะ\",\"จัด\",\"จาก\",\"จึง\",\"ช่วง\",\"ซึ่ง\",\"ดัง\",\"ด้วย\",\"ด้าน\",\"ตั้ง\",\"ตั้งแต่\",\"ตาม\",\"ต่อ\",\"ต่าง\",\"ต่างๆ\",\"ต้อง\",\"ถึง\",\"ถูก\",\"ถ้า\",\"ทั้ง\",\"ทั้งนี้\",\"ทาง\",\"ที่\",\"ที่สุด\",\"ทุก\",\"ทํา\",\"ทําให้\",\"นอกจาก\",\"นัก\",\"นั้น\",\"นี้\",\"น่า\",\"นํา\",\"บาง\",\"ผล\",\"ผ่าน\",\"พบ\",\"พร้อม\",\"มา\",\"มาก\",\"มี\",\"ยัง\",\"รวม\",\"ระหว่าง\",\"รับ\",\"ราย\",\"ร่วม\",\"ลง\",\"วัน\",\"ว่า\",\"สุด\",\"ส่ง\",\"ส่วน\",\"สําหรับ\",\"หนึ่ง\",\"หรือ\",\"หลัง\",\"หลังจาก\",\"หลาย\",\"หาก\",\"อยาก\",\"อยู่\",\"อย่าง\",\"ออก\",\"อะไร\",\"อาจ\",\"อีก\",\"เขา\",\"เข้า\",\"เคย\",\"เฉพาะ\",\"เช่น\",\"เดียว\",\"เดียวกัน\",\"เนื่องจาก\",\"เปิด\",\"เปิดเผย\",\"เป็น\",\"เป็นการ\",\"เพราะ\",\"เพื่อ\",\"เมื่อ\",\"เรา\",\"เริ่ม\",\"เลย\",\"เห็น\",\"เอง\",\"แต่\",\"แบบ\",\"แรก\",\"และ\",\"แล้ว\",\"แห่ง\",\"โดย\",\"ใน\",\"ให้\",\"ได้\",\"ไป\",\"ไม่\",\"ไว้\"],\"ar\":[\"،\",\"أ\",\"ا\",\"اثر\",\"اجل\",\"احد\",\"اخرى\",\"اذا\",\"اربعة\",\"اطار\",\"اعادة\",\"اعلنت\",\"اف\",\"اكثر\",\"اكد\",\"الا\",\"الاخيرة\",\"الان\",\"الاول\",\"الاولى\",\"التى\",\"التي\",\"الثاني\",\"الثانية\",\"الذاتي\",\"الذى\",\"الذي\",\"الذين\",\"السابق\",\"الف\",\"الماضي\",\"المقبل\",\"الوقت\",\"الى\",\"اليوم\",\"اما\",\"امام\",\"امس\",\"ان\",\"انه\",\"انها\",\"او\",\"اول\",\"اي\",\"ايار\",\"ايام\",\"ايضا\",\"ب\",\"باسم\",\"بان\",\"برس\",\"بسبب\",\"بشكل\",\"بعد\",\"بعض\",\"بن\",\"به\",\"بها\",\"بين\",\"تم\",\"ثلاثة\",\"ثم\",\"جميع\",\"حاليا\",\"حتى\",\"حوالى\",\"حول\",\"حيث\",\"حين\",\"خلال\",\"دون\",\"ذلك\",\"زيارة\",\"سنة\",\"سنوات\",\"شخصا\",\"صباح\",\"صفر\",\"ضد\",\"ضمن\",\"عام\",\"عاما\",\"عدة\",\"عدد\",\"عدم\",\"عشر\",\"عشرة\",\"على\",\"عليه\",\"عليها\",\"عن\",\"عند\",\"عندما\",\"غدا\",\"غير\",\"ـ\",\"ف\",\"فان\",\"فى\",\"في\",\"فيه\",\"فيها\",\"قال\",\"قبل\",\"قد\",\"قوة\",\"كان\",\"كانت\",\"كل\",\"كلم\",\"كما\",\"لا\",\"لدى\",\"لقاء\",\"لكن\",\"للامم\",\"لم\",\"لن\",\"له\",\"لها\",\"لوكالة\",\"ما\",\"مايو\",\"مساء\",\"مع\",\"مقابل\",\"مليار\",\"مليون\",\"من\",\"منذ\",\"منها\",\"نحو\",\"نفسه\",\"نهاية\",\"هذا\",\"هذه\",\"هناك\",\"هو\",\"هي\",\"و\",\"و6\",\"واحد\",\"واضاف\",\"واضافت\",\"واكد\",\"وان\",\"واوضح\",\"وفي\",\"وقال\",\"وقالت\",\"وقد\",\"وقف\",\"وكان\",\"وكانت\",\"ولا\",\"ولم\",\"ومن\",\"وهو\",\"وهي\",\"يكون\",\"يمكن\",\"يوم\"],\"bg\":[\"а\",\"автентичен\",\"аз\",\"ако\",\"ала\",\"бе\",\"без\",\"беше\",\"би\",\"бивш\",\"бивша\",\"бившо\",\"бил\",\"била\",\"били\",\"било\",\"благодаря\",\"близо\",\"бъдат\",\"бъде\",\"бяха\",\"в\",\"вас\",\"ваш\",\"ваша\",\"вероятно\",\"вече\",\"взема\",\"ви\",\"вие\",\"винаги\",\"внимава\",\"време\",\"все\",\"всеки\",\"всички\",\"всичко\",\"всяка\",\"във\",\"въпреки\",\"върху\",\"г\",\"ги\",\"главен\",\"главна\",\"главно\",\"глас\",\"го\",\"година\",\"години\",\"годишен\",\"д\",\"да\",\"дали\",\"два\",\"двама\",\"двамата\",\"две\",\"двете\",\"ден\",\"днес\",\"дни\",\"до\",\"добра\",\"добре\",\"добро\",\"добър\",\"докато\",\"докога\",\"дори\",\"досега\",\"доста\",\"друг\",\"друга\",\"други\",\"е\",\"евтин\",\"едва\",\"един\",\"една\",\"еднаква\",\"еднакви\",\"еднакъв\",\"едно\",\"екип\",\"ето\",\"живот\",\"за\",\"забавям\",\"зад\",\"заедно\",\"заради\",\"засега\",\"заспал\",\"затова\",\"защо\",\"защото\",\"и\",\"из\",\"или\",\"им\",\"има\",\"имат\",\"иска\",\"й\",\"каза\",\"как\",\"каква\",\"какво\",\"както\",\"какъв\",\"като\",\"кога\",\"когато\",\"което\",\"които\",\"кой\",\"който\",\"колко\",\"която\",\"къде\",\"където\",\"към\",\"лесен\",\"лесно\",\"ли\",\"лош\",\"м\",\"май\",\"малко\",\"ме\",\"между\",\"мек\",\"мен\",\"месец\",\"ми\",\"много\",\"мнозина\",\"мога\",\"могат\",\"може\",\"мокър\",\"моля\",\"момента\",\"му\",\"н\",\"на\",\"над\",\"назад\",\"най\",\"направи\",\"напред\",\"например\",\"нас\",\"не\",\"него\",\"нещо\",\"нея\",\"ни\",\"ние\",\"никой\",\"нито\",\"нищо\",\"но\",\"нов\",\"нова\",\"нови\",\"новина\",\"някои\",\"някой\",\"няколко\",\"няма\",\"обаче\",\"около\",\"освен\",\"особено\",\"от\",\"отгоре\",\"отново\",\"още\",\"пак\",\"по\",\"повече\",\"повечето\",\"под\",\"поне\",\"поради\",\"после\",\"почти\",\"прави\",\"пред\",\"преди\",\"през\",\"при\",\"пък\",\"първата\",\"първи\",\"първо\",\"пъти\",\"равен\",\"равна\",\"с\",\"са\",\"сам\",\"само\",\"се\",\"сега\",\"си\",\"син\",\"скоро\",\"след\",\"следващ\",\"сме\",\"смях\",\"според\",\"сред\",\"срещу\",\"сте\",\"съм\",\"със\",\"също\",\"т\",\"т.н.\",\"тази\",\"така\",\"такива\",\"такъв\",\"там\",\"твой\",\"те\",\"тези\",\"ти\",\"то\",\"това\",\"тогава\",\"този\",\"той\",\"толкова\",\"точно\",\"три\",\"трябва\",\"тук\",\"тъй\",\"тя\",\"тях\",\"у\",\"утре\",\"харесва\",\"хиляди\",\"ч\",\"часа\",\"че\",\"често\",\"чрез\",\"ще\",\"щом\",\"юмрук\",\"я\",\"як\"],\"bn\":[\"অনেক\",\"অন্য\",\"অবশ্য\",\"আগে\",\"আছে\",\"আজ\",\"আবার\",\"আমরা\",\"আমাদের\",\"আর\",\"ই\",\"উত্তর\",\"উপর\",\"উপরে\",\"এ\",\"এই\",\"এক্\",\"এখন\",\"এত\",\"এব\",\"এমন\",\"এমনি\",\"এর\",\"এস\",\"এসে\",\"ও\",\"ওই\",\"কমনে\",\"করা\",\"করে\",\"কাছে\",\"কাজ\",\"কাজে\",\"কারণ\",\"কি\",\"কিছু\",\"কে\",\"কেউ\",\"কেখা\",\"কেন\",\"কোটি\",\"কোনো\",\"কয়েক\",\"খুব\",\"গিয়ে\",\"গেল\",\"চার\",\"চালু\",\"চেষ্টা\",\"ছিল\",\"জানা\",\"জ্নজন\",\"টি\",\"তখন\",\"তবে\",\"তা\",\"তাই\",\"তো\",\"থাকা\",\"থেকে\",\"দিন\",\"দু\",\"দুই\",\"দেওয়া\",\"ধামার\",\"নতুন\",\"না\",\"নাগাদ\",\"নিয়ে\",\"নেওয়া\",\"নয়\",\"পর\",\"পরে\",\"পাচ\",\"পি\",\"পেয়্র্\",\"প্রতি\",\"প্রথম\",\"প্রযন্ত\",\"প্রাথমিক\",\"প্রায়\",\"বক্তব্য\",\"বন\",\"বলা\",\"বলে\",\"বলেন\",\"বহু\",\"বা\",\"বি\",\"বিভিন্ন\",\"বেশ\",\"বেশি\",\"মতো\",\"মধ্যে\",\"মনে\",\"যখন\",\"যদি\",\"যা\",\"যাওয়া\",\"যে\",\"র\",\"রকম\",\"লক্ষ\",\"শুধু\",\"শুরু\",\"সঙ্গে\",\"সব\",\"সহ\",\"সাধারণ\",\"সামনে\",\"সি\",\"সে\",\"সেই\",\"হতে\",\"হাজার\",\"হয়\"],\"fa\":[\"آباد\",\"آره\",\"آری\",\"آمد\",\"آمده\",\"آن\",\"آنان\",\"آنجا\",\"آنكه\",\"آنها\",\"آنچه\",\"آورد\",\"آورده\",\"آيد\",\"آیا\",\"اثرِ\",\"از\",\"است\",\"استفاده\",\"اش\",\"اكنون\",\"البته\",\"البتّه\",\"ام\",\"اما\",\"امروز\",\"امسال\",\"اند\",\"انکه\",\"او\",\"اول\",\"اي\",\"ايشان\",\"ايم\",\"اين\",\"اينكه\",\"اگر\",\"با\",\"بار\",\"بارة\",\"باره\",\"باشد\",\"باشند\",\"باشيم\",\"بالا\",\"بالایِ\",\"بايد\",\"بدون\",\"بر\",\"برابرِ\",\"براساس\",\"براي\",\"برایِ\",\"برخوردار\",\"برخي\",\"برداري\",\"بروز\",\"بسيار\",\"بسياري\",\"بعد\",\"بعری\",\"بعضي\",\"بلكه\",\"بله\",\"بلکه\",\"بلی\",\"بنابراين\",\"بندي\",\"به\",\"بهترين\",\"بود\",\"بودن\",\"بودند\",\"بوده\",\"بي\",\"بيست\",\"بيش\",\"بيشتر\",\"بيشتري\",\"بين\",\"بی\",\"بیرونِ\",\"تا\",\"تازه\",\"تاكنون\",\"تان\",\"تحت\",\"تر\",\"ترين\",\"تمام\",\"تمامي\",\"تنها\",\"تواند\",\"توانند\",\"توسط\",\"تولِ\",\"تویِ\",\"جا\",\"جاي\",\"جايي\",\"جدا\",\"جديد\",\"جريان\",\"جز\",\"جلوگيري\",\"جلویِ\",\"حتي\",\"حدودِ\",\"حق\",\"خارجِ\",\"خدمات\",\"خواست\",\"خواهد\",\"خواهند\",\"خواهيم\",\"خود\",\"خويش\",\"خیاه\",\"داد\",\"دادن\",\"دادند\",\"داده\",\"دارد\",\"دارند\",\"داريم\",\"داشت\",\"داشتن\",\"داشتند\",\"داشته\",\"دانست\",\"دانند\",\"در\",\"درباره\",\"دنبالِ\",\"ده\",\"دهد\",\"دهند\",\"دو\",\"دوم\",\"ديده\",\"ديروز\",\"ديگر\",\"ديگران\",\"ديگري\",\"دیگر\",\"را\",\"راه\",\"رفت\",\"رفته\",\"روب\",\"روزهاي\",\"روي\",\"رویِ\",\"ريزي\",\"زياد\",\"زير\",\"زيرا\",\"زیرِ\",\"سابق\",\"ساخته\",\"سازي\",\"سراسر\",\"سریِ\",\"سعي\",\"سمتِ\",\"سوم\",\"سوي\",\"سویِ\",\"سپس\",\"شان\",\"شايد\",\"شد\",\"شدن\",\"شدند\",\"شده\",\"شش\",\"شما\",\"شناسي\",\"شود\",\"شوند\",\"صورت\",\"ضدِّ\",\"ضمن\",\"طبقِ\",\"طريق\",\"طور\",\"طي\",\"عقبِ\",\"علّتِ\",\"عنوانِ\",\"غير\",\"فقط\",\"فكر\",\"فوق\",\"قابل\",\"قبل\",\"قصدِ\",\"كرد\",\"كردم\",\"كردن\",\"كردند\",\"كرده\",\"كسي\",\"كل\",\"كمتر\",\"كند\",\"كنم\",\"كنند\",\"كنيد\",\"كنيم\",\"كه\",\"لطفاً\",\"ما\",\"مان\",\"مانند\",\"مانندِ\",\"مثل\",\"مثلِ\",\"مختلف\",\"مدّتی\",\"مردم\",\"مرسی\",\"مقابل\",\"من\",\"مورد\",\"مي\",\"ميليارد\",\"ميليون\",\"مگر\",\"ناشي\",\"نام\",\"نبايد\",\"نبود\",\"نخست\",\"نخستين\",\"نخواهد\",\"ندارد\",\"ندارند\",\"نداشته\",\"نزديك\",\"نزدِ\",\"نزدیکِ\",\"نشان\",\"نشده\",\"نظير\",\"نكرده\",\"نمايد\",\"نمي\",\"نه\",\"نوعي\",\"نيز\",\"نيست\",\"ها\",\"هاي\",\"هايي\",\"هر\",\"هرگز\",\"هزار\",\"هست\",\"هستند\",\"هستيم\",\"هفت\",\"هم\",\"همان\",\"همه\",\"همواره\",\"همين\",\"همچنان\",\"همچنين\",\"همچون\",\"همین\",\"هنوز\",\"هنگام\",\"هنگامِ\",\"هنگامی\",\"هيچ\",\"هیچ\",\"و\",\"وسطِ\",\"وقتي\",\"وقتیکه\",\"ولی\",\"وي\",\"وگو\",\"يا\",\"يابد\",\"يك\",\"يكديگر\",\"يكي\",\"ّه\",\"پاعینِ\",\"پس\",\"پنج\",\"پيش\",\"پیش\",\"پیشِ\",\"چرا\",\"چطور\",\"چند\",\"چندین\",\"چنين\",\"چه\",\"چهار\",\"چون\",\"چيزي\",\"چگونه\",\"چیز\",\"چیزی\",\"چیست\",\"کجا\",\"کجاست\",\"کدام\",\"کس\",\"کسی\",\"کنارِ\",\"که\",\"کَی\",\"کی\",\"گذاري\",\"گذاشته\",\"گردد\",\"گرفت\",\"گرفته\",\"گروهي\",\"گفت\",\"گفته\",\"گويد\",\"گويند\",\"گيرد\",\"گيري\",\"یا\",\"یک\"],\"hi\":[\"अंदर\",\"अत\",\"अदि\",\"अप\",\"अपना\",\"अपनि\",\"अपनी\",\"अपने\",\"अभि\",\"अभी\",\"आदि\",\"आप\",\"इंहिं\",\"इंहें\",\"इंहों\",\"इतयादि\",\"इत्यादि\",\"इन\",\"इनका\",\"इन्हीं\",\"इन्हें\",\"इन्हों\",\"इस\",\"इसका\",\"इसकि\",\"इसकी\",\"इसके\",\"इसमें\",\"इसि\",\"इसी\",\"इसे\",\"उंहिं\",\"उंहें\",\"उंहों\",\"उन\",\"उनका\",\"उनकि\",\"उनकी\",\"उनके\",\"उनको\",\"उन्हीं\",\"उन्हें\",\"उन्हों\",\"उस\",\"उसके\",\"उसि\",\"उसी\",\"उसे\",\"एक\",\"एवं\",\"एस\",\"एसे\",\"ऐसे\",\"ओर\",\"और\",\"कइ\",\"कई\",\"कर\",\"करता\",\"करते\",\"करना\",\"करने\",\"करें\",\"कहते\",\"कहा\",\"का\",\"काफि\",\"काफ़ी\",\"कि\",\"किंहें\",\"किंहों\",\"कितना\",\"किन्हें\",\"किन्हों\",\"किया\",\"किर\",\"किस\",\"किसि\",\"किसी\",\"किसे\",\"की\",\"कुछ\",\"कुल\",\"के\",\"को\",\"कोइ\",\"कोई\",\"कोन\",\"कोनसा\",\"कौन\",\"कौनसा\",\"गया\",\"घर\",\"जब\",\"जहाँ\",\"जहां\",\"जा\",\"जिंहें\",\"जिंहों\",\"जितना\",\"जिधर\",\"जिन\",\"जिन्हें\",\"जिन्हों\",\"जिस\",\"जिसे\",\"जीधर\",\"जेसा\",\"जेसे\",\"जैसा\",\"जैसे\",\"जो\",\"तक\",\"तब\",\"तरह\",\"तिंहें\",\"तिंहों\",\"तिन\",\"तिन्हें\",\"तिन्हों\",\"तिस\",\"तिसे\",\"तो\",\"था\",\"थि\",\"थी\",\"थे\",\"दबारा\",\"दवारा\",\"दिया\",\"दुसरा\",\"दुसरे\",\"दूसरे\",\"दो\",\"द्वारा\",\"न\",\"नहिं\",\"नहीं\",\"ना\",\"निचे\",\"निहायत\",\"नीचे\",\"ने\",\"पर\",\"पहले\",\"पुरा\",\"पूरा\",\"पे\",\"फिर\",\"बनि\",\"बनी\",\"बहि\",\"बही\",\"बहुत\",\"बाद\",\"बाला\",\"बिलकुल\",\"भि\",\"भितर\",\"भी\",\"भीतर\",\"मगर\",\"मानो\",\"मे\",\"में\",\"यदि\",\"यह\",\"यहाँ\",\"यहां\",\"यहि\",\"यही\",\"या\",\"यिह\",\"ये\",\"रखें\",\"रवासा\",\"रहा\",\"रहे\",\"ऱ्वासा\",\"लिए\",\"लिये\",\"लेकिन\",\"व\",\"वगेरह\",\"वरग\",\"वर्ग\",\"वह\",\"वहाँ\",\"वहां\",\"वहिं\",\"वहीं\",\"वाले\",\"वुह\",\"वे\",\"वग़ैरह\",\"संग\",\"सकता\",\"सकते\",\"सबसे\",\"सभि\",\"सभी\",\"साथ\",\"साबुत\",\"साभ\",\"सारा\",\"से\",\"सो\",\"हि\",\"ही\",\"हुअ\",\"हुआ\",\"हुइ\",\"हुई\",\"हुए\",\"हे\",\"हें\",\"है\",\"हैं\",\"हो\",\"होता\",\"होति\",\"होती\",\"होते\",\"होना\",\"होने\"],\"mr\":[\"अधिक\",\"अनेक\",\"अशी\",\"असलयाचे\",\"असलेल्या\",\"असा\",\"असून\",\"असे\",\"आज\",\"आणि\",\"आता\",\"आपल्या\",\"आला\",\"आली\",\"आले\",\"आहे\",\"आहेत\",\"एक\",\"एका\",\"कमी\",\"करणयात\",\"करून\",\"का\",\"काम\",\"काय\",\"काही\",\"किवा\",\"की\",\"केला\",\"केली\",\"केले\",\"कोटी\",\"गेल्या\",\"घेऊन\",\"जात\",\"झाला\",\"झाली\",\"झाले\",\"झालेल्या\",\"टा\",\"डॉ\",\"तर\",\"तरी\",\"तसेच\",\"ता\",\"ती\",\"तीन\",\"ते\",\"तो\",\"त्या\",\"त्याचा\",\"त्याची\",\"त्याच्या\",\"त्याना\",\"त्यानी\",\"त्यामुळे\",\"त्री\",\"दिली\",\"दोन\",\"न\",\"नाही\",\"निर्ण्य\",\"पण\",\"पम\",\"परयतन\",\"पाटील\",\"म\",\"मात्र\",\"माहिती\",\"मी\",\"मुबी\",\"म्हणजे\",\"म्हणाले\",\"म्हणून\",\"या\",\"याचा\",\"याची\",\"याच्या\",\"याना\",\"यानी\",\"येणार\",\"येत\",\"येथील\",\"येथे\",\"लाख\",\"व\",\"व्यकत\",\"सर्व\",\"सागित्ले\",\"सुरू\",\"हजार\",\"हा\",\"ही\",\"हे\",\"होणार\",\"होत\",\"होता\",\"होती\",\"होते\"],\"ro\":[\"acea\",\"aceasta\",\"această\",\"aceea\",\"acei\",\"aceia\",\"acel\",\"acela\",\"acele\",\"acelea\",\"acest\",\"acesta\",\"aceste\",\"acestea\",\"aceşti\",\"aceştia\",\"acolo\",\"acord\",\"acum\",\"ai\",\"aia\",\"aibă\",\"aici\",\"al\",\"ale\",\"alea\",\"altceva\",\"altcineva\",\"am\",\"ar\",\"are\",\"asemenea\",\"asta\",\"astea\",\"astăzi\",\"asupra\",\"au\",\"avea\",\"avem\",\"aveţi\",\"azi\",\"aş\",\"aşadar\",\"aţi\",\"bine\",\"bucur\",\"bună\",\"ca\",\"care\",\"caut\",\"ce\",\"cel\",\"ceva\",\"chiar\",\"cinci\",\"cine\",\"cineva\",\"contra\",\"cu\",\"cum\",\"cumva\",\"curând\",\"curînd\",\"când\",\"cât\",\"câte\",\"câtva\",\"câţi\",\"cînd\",\"cît\",\"cîte\",\"cîtva\",\"cîţi\",\"că\",\"căci\",\"cărei\",\"căror\",\"cărui\",\"către\",\"da\",\"dacă\",\"dar\",\"datorită\",\"dată\",\"dau\",\"de\",\"deci\",\"deja\",\"deoarece\",\"departe\",\"deşi\",\"din\",\"dinaintea\",\"dintr-\",\"dintre\",\"doi\",\"doilea\",\"două\",\"drept\",\"după\",\"dă\",\"ea\",\"ei\",\"el\",\"ele\",\"eram\",\"este\",\"eu\",\"eşti\",\"face\",\"fata\",\"fi\",\"fie\",\"fiecare\",\"fii\",\"fim\",\"fiu\",\"fiţi\",\"frumos\",\"fără\",\"graţie\",\"halbă\",\"iar\",\"ieri\",\"la\",\"le\",\"li\",\"lor\",\"lui\",\"lângă\",\"lîngă\",\"mai\",\"mea\",\"mei\",\"mele\",\"mereu\",\"meu\",\"mi\",\"mie\",\"mine\",\"mult\",\"multă\",\"mulţi\",\"mulţumesc\",\"mâine\",\"mîine\",\"mă\",\"ne\",\"nevoie\",\"nici\",\"nicăieri\",\"nimeni\",\"nimeri\",\"nimic\",\"nişte\",\"noastre\",\"noastră\",\"noi\",\"noroc\",\"nostru\",\"nouă\",\"noştri\",\"nu\",\"opt\",\"ori\",\"oricare\",\"orice\",\"oricine\",\"oricum\",\"oricând\",\"oricât\",\"oricînd\",\"oricît\",\"oriunde\",\"patra\",\"patru\",\"patrulea\",\"pe\",\"pentru\",\"peste\",\"pic\",\"poate\",\"pot\",\"prea\",\"prima\",\"primul\",\"prin\",\"printr-\",\"puţin\",\"puţina\",\"puţină\",\"până\",\"pînă\",\"rog\",\"sa\",\"sale\",\"sau\",\"se\",\"spate\",\"spre\",\"sub\",\"sunt\",\"suntem\",\"sunteţi\",\"sută\",\"sînt\",\"sîntem\",\"sînteţi\",\"să\",\"săi\",\"său\",\"ta\",\"tale\",\"te\",\"timp\",\"tine\",\"toate\",\"toată\",\"tot\",\"totuşi\",\"toţi\",\"trei\",\"treia\",\"treilea\",\"tu\",\"tăi\",\"tău\",\"un\",\"una\",\"unde\",\"undeva\",\"unei\",\"uneia\",\"unele\",\"uneori\",\"unii\",\"unor\",\"unora\",\"unu\",\"unui\",\"unuia\",\"unul\",\"vi\",\"voastre\",\"voastră\",\"voi\",\"vostru\",\"vouă\",\"voştri\",\"vreme\",\"vreo\",\"vreun\",\"vă\",\"zece\",\"zero\",\"zi\",\"zice\",\"îi\",\"îl\",\"îmi\",\"împotriva\",\"în\",\"înainte\",\"înaintea\",\"încotro\",\"încât\",\"încît\",\"între\",\"întrucât\",\"întrucît\",\"îţi\",\"ăla\",\"ălea\",\"ăsta\",\"ăstea\",\"ăştia\",\"şapte\",\"şase\",\"şi\",\"ştiu\",\"ţi\",\"ţie\"],\"en\":[\"a\",\"a's\",\"able\",\"about\",\"above\",\"according\",\"accordingly\",\"across\",\"actually\",\"after\",\"afterwards\",\"again\",\"against\",\"ain't\",\"all\",\"allow\",\"allows\",\"almost\",\"alone\",\"along\",\"already\",\"also\",\"although\",\"always\",\"am\",\"among\",\"amongst\",\"an\",\"and\",\"another\",\"any\",\"anybody\",\"anyhow\",\"anyone\",\"anything\",\"anyway\",\"anyways\",\"anywhere\",\"apart\",\"appear\",\"appreciate\",\"appropriate\",\"are\",\"aren't\",\"around\",\"as\",\"aside\",\"ask\",\"asking\",\"associated\",\"at\",\"available\",\"away\",\"awfully\",\"b\",\"be\",\"became\",\"because\",\"become\",\"becomes\",\"becoming\",\"been\",\"before\",\"beforehand\",\"behind\",\"being\",\"believe\",\"below\",\"beside\",\"besides\",\"best\",\"better\",\"between\",\"beyond\",\"both\",\"brief\",\"but\",\"by\",\"c\",\"c'mon\",\"c's\",\"came\",\"can\",\"can't\",\"cannot\",\"cant\",\"cause\",\"causes\",\"certain\",\"certainly\",\"changes\",\"clearly\",\"co\",\"com\",\"come\",\"comes\",\"concerning\",\"consequently\",\"consider\",\"considering\",\"contain\",\"containing\",\"contains\",\"corresponding\",\"could\",\"couldn't\",\"course\",\"currently\",\"d\",\"definitely\",\"described\",\"despite\",\"did\",\"didn't\",\"different\",\"do\",\"does\",\"doesn't\",\"doing\",\"don't\",\"done\",\"down\",\"downwards\",\"during\",\"e\",\"each\",\"edu\",\"eg\",\"eight\",\"either\",\"else\",\"elsewhere\",\"enough\",\"entirely\",\"especially\",\"et\",\"etc\",\"even\",\"ever\",\"every\",\"everybody\",\"everyone\",\"everything\",\"everywhere\",\"ex\",\"exactly\",\"example\",\"except\",\"f\",\"far\",\"few\",\"fifth\",\"first\",\"five\",\"followed\",\"following\",\"follows\",\"for\",\"former\",\"formerly\",\"forth\",\"four\",\"from\",\"further\",\"furthermore\",\"g\",\"get\",\"gets\",\"getting\",\"given\",\"gives\",\"go\",\"goes\",\"going\",\"gone\",\"got\",\"gotten\",\"greetings\",\"h\",\"had\",\"hadn't\",\"happens\",\"hardly\",\"has\",\"hasn't\",\"have\",\"haven't\",\"having\",\"he\",\"he's\",\"hello\",\"help\",\"hence\",\"her\",\"here\",\"here's\",\"hereafter\",\"hereby\",\"herein\",\"hereupon\",\"hers\",\"herself\",\"hi\",\"him\",\"himself\",\"his\",\"hither\",\"hopefully\",\"how\",\"howbeit\",\"however\",\"i\",\"i'd\",\"i'll\",\"i'm\",\"i've\",\"ie\",\"if\",\"ignored\",\"immediate\",\"in\",\"inasmuch\",\"inc\",\"indeed\",\"indicate\",\"indicated\",\"indicates\",\"inner\",\"insofar\",\"instead\",\"into\",\"inward\",\"is\",\"isn't\",\"it\",\"it'd\",\"it'll\",\"it's\",\"its\",\"itself\",\"j\",\"just\",\"k\",\"keep\",\"keeps\",\"kept\",\"know\",\"known\",\"knows\",\"l\",\"last\",\"lately\",\"later\",\"latter\",\"latterly\",\"least\",\"less\",\"lest\",\"let\",\"let's\",\"like\",\"liked\",\"likely\",\"little\",\"look\",\"looking\",\"looks\",\"ltd\",\"m\",\"mainly\",\"many\",\"may\",\"maybe\",\"me\",\"mean\",\"meanwhile\",\"merely\",\"might\",\"more\",\"moreover\",\"most\",\"mostly\",\"much\",\"must\",\"my\",\"myself\",\"n\",\"name\",\"namely\",\"nd\",\"near\",\"nearly\",\"necessary\",\"need\",\"needs\",\"neither\",\"never\",\"nevertheless\",\"new\",\"next\",\"nine\",\"no\",\"nobody\",\"non\",\"none\",\"noone\",\"nor\",\"normally\",\"not\",\"nothing\",\"novel\",\"now\",\"nowhere\",\"o\",\"obviously\",\"of\",\"off\",\"often\",\"oh\",\"ok\",\"okay\",\"old\",\"on\",\"once\",\"one\",\"ones\",\"only\",\"onto\",\"or\",\"other\",\"others\",\"otherwise\",\"ought\",\"our\",\"ours\",\"ourselves\",\"out\",\"outside\",\"over\",\"overall\",\"own\",\"p\",\"particular\",\"particularly\",\"per\",\"perhaps\",\"placed\",\"please\",\"plus\",\"possible\",\"presumably\",\"probably\",\"provides\",\"q\",\"que\",\"quite\",\"qv\",\"r\",\"rather\",\"rd\",\"re\",\"really\",\"reasonably\",\"regarding\",\"regardless\",\"regards\",\"relatively\",\"respectively\",\"right\",\"s\",\"said\",\"same\",\"saw\",\"say\",\"saying\",\"says\",\"second\",\"secondly\",\"see\",\"seeing\",\"seem\",\"seemed\",\"seeming\",\"seems\",\"seen\",\"self\",\"selves\",\"sensible\",\"sent\",\"serious\",\"seriously\",\"seven\",\"several\",\"shall\",\"she\",\"should\",\"shouldn't\",\"since\",\"six\",\"so\",\"some\",\"somebody\",\"somehow\",\"someone\",\"something\",\"sometime\",\"sometimes\",\"somewhat\",\"somewhere\",\"soon\",\"sorry\",\"specified\",\"specify\",\"specifying\",\"still\",\"sub\",\"such\",\"sup\",\"sure\",\"t\",\"t's\",\"take\",\"taken\",\"tell\",\"tends\",\"th\",\"than\",\"thank\",\"thanks\",\"thanx\",\"that\",\"that's\",\"thats\",\"the\",\"their\",\"theirs\",\"them\",\"themselves\",\"then\",\"thence\",\"there\",\"there's\",\"thereafter\",\"thereby\",\"therefore\",\"therein\",\"theres\",\"thereupon\",\"these\",\"they\",\"they'd\",\"they'll\",\"they're\",\"they've\",\"think\",\"third\",\"this\",\"thorough\",\"thoroughly\",\"those\",\"though\",\"three\",\"through\",\"throughout\",\"thru\",\"thus\",\"to\",\"together\",\"too\",\"took\",\"toward\",\"towards\",\"tried\",\"tries\",\"truly\",\"try\",\"trying\",\"twice\",\"two\",\"u\",\"un\",\"under\",\"unfortunately\",\"unless\",\"unlikely\",\"until\",\"unto\",\"up\",\"upon\",\"us\",\"use\",\"used\",\"useful\",\"uses\",\"using\",\"usually\",\"uucp\",\"v\",\"value\",\"various\",\"very\",\"via\",\"viz\",\"vs\",\"w\",\"want\",\"wants\",\"was\",\"wasn't\",\"way\",\"we\",\"we'd\",\"we'll\",\"we're\",\"we've\",\"welcome\",\"well\",\"went\",\"were\",\"weren't\",\"what\",\"what's\",\"whatever\",\"when\",\"whence\",\"whenever\",\"where\",\"where's\",\"whereafter\",\"whereas\",\"whereby\",\"wherein\",\"whereupon\",\"wherever\",\"whether\",\"which\",\"while\",\"whither\",\"who\",\"who's\",\"whoever\",\"whole\",\"whom\",\"whose\",\"why\",\"will\",\"willing\",\"wish\",\"with\",\"within\",\"without\",\"won't\",\"wonder\",\"would\",\"wouldn't\",\"x\",\"y\",\"yes\",\"yet\",\"you\",\"you'd\",\"you'll\",\"you're\",\"you've\",\"your\",\"yours\",\"yourself\",\"yourselves\",\"z\",\"zero\"]}\n",
    "    stopwords_json_en = set(stopwords_json['en'])\n",
    "    stopwords_nltk_en = set(stopwords.words('english'))\n",
    "    # Combine the stopwords. Its a lot longer so I'm not printing it out...\n",
    "    stoplist_combined = set.union(stopwords_json_en, stopwords_nltk_en)\n",
    "\n",
    "    rmsw_token_words = ([word for word in token_words if word.lower() not in stoplist_combined])\n",
    "    if (verbose):\n",
    "        print('Stopwords removed:' + str(rmsw_token_words[0:20]))\n",
    "    \n",
    "    ## Fouth: remove CAP words\n",
    "#     rmcap_token_words =[]\n",
    "#     for word in rmsw_token_words:\n",
    "#         if word.isupper():\n",
    "#             rmcap_token_words.append(word.title())\n",
    "#         else:\n",
    "#             rmcap_token_words.append(word)\n",
    "#     if (verbose):\n",
    "#         print('CAPITALIZED removed:' + str(rmcap_token_words[0:20]))\n",
    "        \n",
    "     ## Fifth : Remove salutation\n",
    "    salutation = ['mr','mrs','mss','dr','phd','prof','rev']\n",
    "    rmsalu_token_words = ([word for word in rmsw_token_words if word.lower() not in salutation])\n",
    "    if (verbose):\n",
    "        print('Salutation removed:' + str(rmsalu_token_words[0:20]))\n",
    "        \n",
    "\n",
    "    ## define transfer tag function:\n",
    "    def transfer_tag(treebank_tag):\n",
    "        if treebank_tag.startswith('j' or 'J'):\n",
    "            return 'a'\n",
    "        elif treebank_tag.startswith('v' or 'V'):\n",
    "            return 'v'\n",
    "        elif treebank_tag.startswith('n' or 'N'):\n",
    "            return 'n'\n",
    "        elif treebank_tag.startswith('r' or 'R'):\n",
    "            return 'r'\n",
    "        else:\n",
    "            # As default pos in lemmatization is Noun\n",
    "            return 'n'\n",
    "    \n",
    "    ## Seventh: Lemmatization\n",
    "    from nltk import pos_tag\n",
    "    from nltk.stem import WordNetLemmatizer\n",
    "    wnl = WordNetLemmatizer()\n",
    "\n",
    "    lemma_words = []\n",
    "    for word, tag in nltk.pos_tag(rmsalu_token_words):\n",
    "        firstletter = tag[0].lower() # -> get the first letter of tag and put them decapitalized form\n",
    "        wtag = transfer_tag(firstletter) # -> extract the word's tag (noun, verb, adverb, adjective)\n",
    "        if not wtag:\n",
    "            lemma_words.extend([word])\n",
    "        else:\n",
    "            lemma_words.extend([wnl.lemmatize(word, wtag)]) # -> get lemma for word with tag\n",
    "    if (verbose):\n",
    "        print('Lemmas : ' + str(lemma_words[0:10]))\n",
    "        \n",
    "    \n",
    "    ## Eigth: English words\n",
    "    from nltk.corpus import wordnet as wn\n",
    "    eng_words = [word for word in lemma_words if len(wn.synsets(word.lower())) > 1]\n",
    "    \n",
    "    ## Sixth: Remove Numbers\n",
    "    rmnb_token_words = ([word for word in eng_words if not word.isdigit()])\n",
    "    if (verbose):\n",
    "        print('Number removed: ' + str(rmnb_token_words[0:20]))\n",
    "        \n",
    "    \n",
    "    ## RETURN\n",
    "    return rmnb_token_words"
   ]
  },
  {
   "cell_type": "code",
   "execution_count": 939,
   "metadata": {
    "ExecuteTime": {
     "end_time": "2018-10-13T11:13:44.818185Z",
     "start_time": "2018-10-13T11:13:33.803820Z"
    },
    "scrolled": true
   },
   "outputs": [
    {
     "data": {
      "text/html": [
       "<div>\n",
       "<style scoped>\n",
       "    .dataframe tbody tr th:only-of-type {\n",
       "        vertical-align: middle;\n",
       "    }\n",
       "\n",
       "    .dataframe tbody tr th {\n",
       "        vertical-align: top;\n",
       "    }\n",
       "\n",
       "    .dataframe thead th {\n",
       "        text-align: right;\n",
       "    }\n",
       "</style>\n",
       "<table border=\"1\" class=\"dataframe\">\n",
       "  <thead>\n",
       "    <tr style=\"text-align: right;\">\n",
       "      <th></th>\n",
       "      <th>Filename</th>\n",
       "      <th>Content</th>\n",
       "      <th>Category</th>\n",
       "      <th>Tokens</th>\n",
       "    </tr>\n",
       "  </thead>\n",
       "  <tbody>\n",
       "    <tr>\n",
       "      <th>0</th>\n",
       "      <td>31_1</td>\n",
       "      <td>This is the biggest insult to TMNT ever. Fortu...</td>\n",
       "      <td>Neg</td>\n",
       "      <td>[big, insult, officially, Venus, exist, canon,...</td>\n",
       "    </tr>\n",
       "    <tr>\n",
       "      <th>1</th>\n",
       "      <td>33_3</td>\n",
       "      <td>This is the worst thing the TMNT franchise has...</td>\n",
       "      <td>Neg</td>\n",
       "      <td>[bad, thing, franchise, spawn, kid, think, deu...</td>\n",
       "    </tr>\n",
       "    <tr>\n",
       "      <th>2</th>\n",
       "      <td>15_1</td>\n",
       "      <td>This is it. This is the one. This is the worst...</td>\n",
       "      <td>Neg</td>\n",
       "      <td>[bad, make, beat, bad, Retire, trophy, give, p...</td>\n",
       "    </tr>\n",
       "    <tr>\n",
       "      <th>3</th>\n",
       "      <td>17_3</td>\n",
       "      <td>Nine minutes of psychedelic, pulsating, often ...</td>\n",
       "      <td>Neg</td>\n",
       "      <td>[minute, psychedelic, pulsate, abstract, image...</td>\n",
       "    </tr>\n",
       "    <tr>\n",
       "      <th>4</th>\n",
       "      <td>9_1</td>\n",
       "      <td>This is one of the dumbest films, I've ever se...</td>\n",
       "      <td>Neg</td>\n",
       "      <td>[dumb, film, rip, type, manages, make, mess, b...</td>\n",
       "    </tr>\n",
       "    <tr>\n",
       "      <th>5</th>\n",
       "      <td>28_2</td>\n",
       "      <td>This film is terrible. You don't really need t...</td>\n",
       "      <td>Neg</td>\n",
       "      <td>[film, terrible, read, review, plan, watch, st...</td>\n",
       "    </tr>\n",
       "    <tr>\n",
       "      <th>6</th>\n",
       "      <td>35_3</td>\n",
       "      <td>Sexo Cannibal, or Devil Hunter as it's more co...</td>\n",
       "      <td>Neg</td>\n",
       "      <td>[Devil, Hunter, English, speaking, audience, s...</td>\n",
       "    </tr>\n",
       "    <tr>\n",
       "      <th>7</th>\n",
       "      <td>11_3</td>\n",
       "      <td>If you look at Corey Large's information here ...</td>\n",
       "      <td>Neg</td>\n",
       "      <td>[Large, information, apparently, call, Reload,...</td>\n",
       "    </tr>\n",
       "    <tr>\n",
       "      <th>8</th>\n",
       "      <td>49_4</td>\n",
       "      <td>A very cheesy and dull road movie, with the in...</td>\n",
       "      <td>Neg</td>\n",
       "      <td>[dull, road, intention, hip, modern, show, edi...</td>\n",
       "    </tr>\n",
       "    <tr>\n",
       "      <th>9</th>\n",
       "      <td>37_3</td>\n",
       "      <td>Devil Hunter gained notoriety for the fact tha...</td>\n",
       "      <td>Neg</td>\n",
       "      <td>[Devil, Hunter, gain, fact, Video, Nasty, list...</td>\n",
       "    </tr>\n",
       "  </tbody>\n",
       "</table>\n",
       "</div>"
      ],
      "text/plain": [
       "  Filename                                            Content Category  \\\n",
       "0     31_1  This is the biggest insult to TMNT ever. Fortu...      Neg   \n",
       "1     33_3  This is the worst thing the TMNT franchise has...      Neg   \n",
       "2     15_1  This is it. This is the one. This is the worst...      Neg   \n",
       "3     17_3  Nine minutes of psychedelic, pulsating, often ...      Neg   \n",
       "4      9_1  This is one of the dumbest films, I've ever se...      Neg   \n",
       "5     28_2  This film is terrible. You don't really need t...      Neg   \n",
       "6     35_3  Sexo Cannibal, or Devil Hunter as it's more co...      Neg   \n",
       "7     11_3  If you look at Corey Large's information here ...      Neg   \n",
       "8     49_4  A very cheesy and dull road movie, with the in...      Neg   \n",
       "9     37_3  Devil Hunter gained notoriety for the fact tha...      Neg   \n",
       "\n",
       "                                              Tokens  \n",
       "0  [big, insult, officially, Venus, exist, canon,...  \n",
       "1  [bad, thing, franchise, spawn, kid, think, deu...  \n",
       "2  [bad, make, beat, bad, Retire, trophy, give, p...  \n",
       "3  [minute, psychedelic, pulsate, abstract, image...  \n",
       "4  [dumb, film, rip, type, manages, make, mess, b...  \n",
       "5  [film, terrible, read, review, plan, watch, st...  \n",
       "6  [Devil, Hunter, English, speaking, audience, s...  \n",
       "7  [Large, information, apparently, call, Reload,...  \n",
       "8  [dull, road, intention, hip, modern, show, edi...  \n",
       "9  [Devil, Hunter, gain, fact, Video, Nasty, list...  "
      ]
     },
     "execution_count": 939,
     "metadata": {},
     "output_type": "execute_result"
    }
   ],
   "source": [
    "df_handle = df_raw.copy()\n",
    "[n,d] = df_handle.shape\n",
    "df_handle['Tokens'] = ['']*n\n",
    "\n",
    "for index, row in df_handle.iterrows():\n",
    "    df_handle['Tokens'].iloc[index] = convert_tokens(row['Content'],0)\n",
    "    \n",
    "df_handle.head(10)"
   ]
  },
  {
   "cell_type": "code",
   "execution_count": 940,
   "metadata": {},
   "outputs": [
    {
     "data": {
      "text/plain": [
       "\"This is the biggest insult to TMNT ever. Fortunantely, officially Venus does not exist in canon TMNT. There will never be a female turtle, this took away from the tragic tale of 4 male unique mutants who will never have a family of their own, once gone no more. The biggest mistake was crossing over Power Rangers to TMNT with a horrible episode; the turtle's voices were WRONG and they all acted out of character. They could have done such a better job, better designs and animatronics and NO VENUS. <br /><br />don't bother with this people...it's cringe worthy material. the lip flap was slow and unnatural looking. they totally disrespected shredder. the main baddie, some dragonlord dude was corny. the turtles looked corny with things hanging off their bodies, what's with the thing around raph's thigh? the silly looking sculpted plastrons!? <br /><br />If they looked normal, acted in character and got rid of Venus, got rid of the stupid kiddie cartoon sounds...and better writing it could have been good.\""
      ]
     },
     "execution_count": 940,
     "metadata": {},
     "output_type": "execute_result"
    }
   ],
   "source": [
    "df_handle.Content.iloc[0]"
   ]
  },
  {
   "cell_type": "code",
   "execution_count": 941,
   "metadata": {},
   "outputs": [
    {
     "name": "stdout",
     "output_type": "stream",
     "text": [
      "['big', 'insult', 'officially', 'Venus', 'exist', 'canon', 'female', 'turtle', 'tragic', 'tale', 'male', 'unique', 'mutant', 'family', 'big', 'mistake', 'cross', 'Power', 'Rangers', 'episode', 'turtle', 'voice', 'WRONG', 'act', 'character', 'job', 'design', 'VENUS', 'br', 'br', 'bother', 'people', 'cringe', 'worthy', 'material', 'lip', 'flap', 'slow', 'unnatural', 'disrespected', 'main', 'dude', 'turtle', 'look', 'thing', 'hang', 'body', 'thing', 'thigh', 'silly', 'sculpt', 'plastron', 'br', 'br', 'look', 'normal', 'acted', 'character', 'Venus', 'stupid', 'cartoon', 'sound', 'write', 'good']\n"
     ]
    }
   ],
   "source": [
    "print(df_handle.Tokens.iloc[0])"
   ]
  },
  {
   "cell_type": "markdown",
   "metadata": {},
   "source": [
    "### Calculate TF-IDF"
   ]
  },
  {
   "cell_type": "code",
   "execution_count": 960,
   "metadata": {},
   "outputs": [
    {
     "data": {
      "text/html": [
       "<div>\n",
       "<style scoped>\n",
       "    .dataframe tbody tr th:only-of-type {\n",
       "        vertical-align: middle;\n",
       "    }\n",
       "\n",
       "    .dataframe tbody tr th {\n",
       "        vertical-align: top;\n",
       "    }\n",
       "\n",
       "    .dataframe thead tr th {\n",
       "        text-align: left;\n",
       "    }\n",
       "</style>\n",
       "<table border=\"1\" class=\"dataframe\">\n",
       "  <thead>\n",
       "    <tr>\n",
       "      <th></th>\n",
       "      <th>abandon</th>\n",
       "      <th>abduct</th>\n",
       "      <th>ability</th>\n",
       "      <th>abroad</th>\n",
       "      <th>absence</th>\n",
       "      <th>absolute</th>\n",
       "      <th>absolutely</th>\n",
       "      <th>abstract</th>\n",
       "      <th>absurd</th>\n",
       "      <th>abuse</th>\n",
       "      <th>...</th>\n",
       "      <th>write</th>\n",
       "      <th>writer</th>\n",
       "      <th>writing</th>\n",
       "      <th>wrong</th>\n",
       "      <th>yale</th>\n",
       "      <th>year</th>\n",
       "      <th>yell</th>\n",
       "      <th>young</th>\n",
       "      <th>zombie</th>\n",
       "      <th>zoom</th>\n",
       "    </tr>\n",
       "  </thead>\n",
       "  <tbody>\n",
       "    <tr>\n",
       "      <th>0</th>\n",
       "      <td>0.0</td>\n",
       "      <td>0.0</td>\n",
       "      <td>0.0</td>\n",
       "      <td>0.000000</td>\n",
       "      <td>0.0</td>\n",
       "      <td>0.0</td>\n",
       "      <td>0.000000</td>\n",
       "      <td>0.000000</td>\n",
       "      <td>0.0</td>\n",
       "      <td>0.0</td>\n",
       "      <td>...</td>\n",
       "      <td>2.724749</td>\n",
       "      <td>0.00000</td>\n",
       "      <td>0.000000</td>\n",
       "      <td>3.66921</td>\n",
       "      <td>0.0</td>\n",
       "      <td>0.0</td>\n",
       "      <td>0.0</td>\n",
       "      <td>0.000000</td>\n",
       "      <td>0.0</td>\n",
       "      <td>0.0</td>\n",
       "    </tr>\n",
       "    <tr>\n",
       "      <th>1</th>\n",
       "      <td>0.0</td>\n",
       "      <td>0.0</td>\n",
       "      <td>0.0</td>\n",
       "      <td>0.000000</td>\n",
       "      <td>0.0</td>\n",
       "      <td>0.0</td>\n",
       "      <td>0.000000</td>\n",
       "      <td>0.000000</td>\n",
       "      <td>0.0</td>\n",
       "      <td>0.0</td>\n",
       "      <td>...</td>\n",
       "      <td>0.000000</td>\n",
       "      <td>0.00000</td>\n",
       "      <td>0.000000</td>\n",
       "      <td>0.00000</td>\n",
       "      <td>0.0</td>\n",
       "      <td>0.0</td>\n",
       "      <td>0.0</td>\n",
       "      <td>0.000000</td>\n",
       "      <td>0.0</td>\n",
       "      <td>0.0</td>\n",
       "    </tr>\n",
       "    <tr>\n",
       "      <th>2</th>\n",
       "      <td>0.0</td>\n",
       "      <td>0.0</td>\n",
       "      <td>0.0</td>\n",
       "      <td>4.516508</td>\n",
       "      <td>0.0</td>\n",
       "      <td>0.0</td>\n",
       "      <td>0.000000</td>\n",
       "      <td>0.000000</td>\n",
       "      <td>0.0</td>\n",
       "      <td>0.0</td>\n",
       "      <td>...</td>\n",
       "      <td>0.000000</td>\n",
       "      <td>3.66921</td>\n",
       "      <td>0.000000</td>\n",
       "      <td>0.00000</td>\n",
       "      <td>0.0</td>\n",
       "      <td>0.0</td>\n",
       "      <td>0.0</td>\n",
       "      <td>0.000000</td>\n",
       "      <td>0.0</td>\n",
       "      <td>0.0</td>\n",
       "    </tr>\n",
       "    <tr>\n",
       "      <th>3</th>\n",
       "      <td>0.0</td>\n",
       "      <td>0.0</td>\n",
       "      <td>0.0</td>\n",
       "      <td>0.000000</td>\n",
       "      <td>0.0</td>\n",
       "      <td>0.0</td>\n",
       "      <td>0.000000</td>\n",
       "      <td>4.921973</td>\n",
       "      <td>0.0</td>\n",
       "      <td>0.0</td>\n",
       "      <td>...</td>\n",
       "      <td>0.000000</td>\n",
       "      <td>0.00000</td>\n",
       "      <td>0.000000</td>\n",
       "      <td>0.00000</td>\n",
       "      <td>0.0</td>\n",
       "      <td>0.0</td>\n",
       "      <td>0.0</td>\n",
       "      <td>0.000000</td>\n",
       "      <td>0.0</td>\n",
       "      <td>0.0</td>\n",
       "    </tr>\n",
       "    <tr>\n",
       "      <th>4</th>\n",
       "      <td>0.0</td>\n",
       "      <td>0.0</td>\n",
       "      <td>0.0</td>\n",
       "      <td>0.000000</td>\n",
       "      <td>0.0</td>\n",
       "      <td>0.0</td>\n",
       "      <td>0.000000</td>\n",
       "      <td>0.000000</td>\n",
       "      <td>0.0</td>\n",
       "      <td>0.0</td>\n",
       "      <td>...</td>\n",
       "      <td>0.000000</td>\n",
       "      <td>0.00000</td>\n",
       "      <td>0.000000</td>\n",
       "      <td>0.00000</td>\n",
       "      <td>0.0</td>\n",
       "      <td>0.0</td>\n",
       "      <td>0.0</td>\n",
       "      <td>0.000000</td>\n",
       "      <td>0.0</td>\n",
       "      <td>0.0</td>\n",
       "    </tr>\n",
       "    <tr>\n",
       "      <th>5</th>\n",
       "      <td>0.0</td>\n",
       "      <td>0.0</td>\n",
       "      <td>0.0</td>\n",
       "      <td>0.000000</td>\n",
       "      <td>0.0</td>\n",
       "      <td>0.0</td>\n",
       "      <td>0.000000</td>\n",
       "      <td>0.000000</td>\n",
       "      <td>0.0</td>\n",
       "      <td>0.0</td>\n",
       "      <td>...</td>\n",
       "      <td>0.000000</td>\n",
       "      <td>0.00000</td>\n",
       "      <td>0.000000</td>\n",
       "      <td>0.00000</td>\n",
       "      <td>0.0</td>\n",
       "      <td>0.0</td>\n",
       "      <td>0.0</td>\n",
       "      <td>0.000000</td>\n",
       "      <td>0.0</td>\n",
       "      <td>0.0</td>\n",
       "    </tr>\n",
       "    <tr>\n",
       "      <th>6</th>\n",
       "      <td>0.0</td>\n",
       "      <td>0.0</td>\n",
       "      <td>0.0</td>\n",
       "      <td>0.000000</td>\n",
       "      <td>0.0</td>\n",
       "      <td>0.0</td>\n",
       "      <td>0.000000</td>\n",
       "      <td>0.000000</td>\n",
       "      <td>0.0</td>\n",
       "      <td>0.0</td>\n",
       "      <td>...</td>\n",
       "      <td>2.724749</td>\n",
       "      <td>0.00000</td>\n",
       "      <td>0.000000</td>\n",
       "      <td>0.00000</td>\n",
       "      <td>0.0</td>\n",
       "      <td>0.0</td>\n",
       "      <td>0.0</td>\n",
       "      <td>2.976063</td>\n",
       "      <td>0.0</td>\n",
       "      <td>0.0</td>\n",
       "    </tr>\n",
       "    <tr>\n",
       "      <th>7</th>\n",
       "      <td>0.0</td>\n",
       "      <td>0.0</td>\n",
       "      <td>0.0</td>\n",
       "      <td>0.000000</td>\n",
       "      <td>0.0</td>\n",
       "      <td>0.0</td>\n",
       "      <td>0.000000</td>\n",
       "      <td>0.000000</td>\n",
       "      <td>0.0</td>\n",
       "      <td>0.0</td>\n",
       "      <td>...</td>\n",
       "      <td>0.000000</td>\n",
       "      <td>0.00000</td>\n",
       "      <td>0.000000</td>\n",
       "      <td>0.00000</td>\n",
       "      <td>0.0</td>\n",
       "      <td>0.0</td>\n",
       "      <td>0.0</td>\n",
       "      <td>0.000000</td>\n",
       "      <td>0.0</td>\n",
       "      <td>0.0</td>\n",
       "    </tr>\n",
       "    <tr>\n",
       "      <th>8</th>\n",
       "      <td>0.0</td>\n",
       "      <td>0.0</td>\n",
       "      <td>0.0</td>\n",
       "      <td>0.000000</td>\n",
       "      <td>0.0</td>\n",
       "      <td>0.0</td>\n",
       "      <td>4.228826</td>\n",
       "      <td>0.000000</td>\n",
       "      <td>0.0</td>\n",
       "      <td>0.0</td>\n",
       "      <td>...</td>\n",
       "      <td>0.000000</td>\n",
       "      <td>0.00000</td>\n",
       "      <td>4.921973</td>\n",
       "      <td>0.00000</td>\n",
       "      <td>0.0</td>\n",
       "      <td>0.0</td>\n",
       "      <td>0.0</td>\n",
       "      <td>0.000000</td>\n",
       "      <td>0.0</td>\n",
       "      <td>0.0</td>\n",
       "    </tr>\n",
       "    <tr>\n",
       "      <th>9</th>\n",
       "      <td>0.0</td>\n",
       "      <td>0.0</td>\n",
       "      <td>0.0</td>\n",
       "      <td>0.000000</td>\n",
       "      <td>0.0</td>\n",
       "      <td>0.0</td>\n",
       "      <td>0.000000</td>\n",
       "      <td>0.000000</td>\n",
       "      <td>0.0</td>\n",
       "      <td>0.0</td>\n",
       "      <td>...</td>\n",
       "      <td>0.000000</td>\n",
       "      <td>0.00000</td>\n",
       "      <td>0.000000</td>\n",
       "      <td>0.00000</td>\n",
       "      <td>0.0</td>\n",
       "      <td>0.0</td>\n",
       "      <td>0.0</td>\n",
       "      <td>0.000000</td>\n",
       "      <td>0.0</td>\n",
       "      <td>0.0</td>\n",
       "    </tr>\n",
       "  </tbody>\n",
       "</table>\n",
       "<p>10 rows × 2310 columns</p>\n",
       "</div>"
      ],
      "text/plain": [
       "  abandon abduct ability    abroad absence absolute absolutely  abstract  \\\n",
       "0     0.0    0.0     0.0  0.000000     0.0      0.0   0.000000  0.000000   \n",
       "1     0.0    0.0     0.0  0.000000     0.0      0.0   0.000000  0.000000   \n",
       "2     0.0    0.0     0.0  4.516508     0.0      0.0   0.000000  0.000000   \n",
       "3     0.0    0.0     0.0  0.000000     0.0      0.0   0.000000  4.921973   \n",
       "4     0.0    0.0     0.0  0.000000     0.0      0.0   0.000000  0.000000   \n",
       "5     0.0    0.0     0.0  0.000000     0.0      0.0   0.000000  0.000000   \n",
       "6     0.0    0.0     0.0  0.000000     0.0      0.0   0.000000  0.000000   \n",
       "7     0.0    0.0     0.0  0.000000     0.0      0.0   0.000000  0.000000   \n",
       "8     0.0    0.0     0.0  0.000000     0.0      0.0   4.228826  0.000000   \n",
       "9     0.0    0.0     0.0  0.000000     0.0      0.0   0.000000  0.000000   \n",
       "\n",
       "  absurd abuse ...      write   writer   writing    wrong yale year yell  \\\n",
       "0    0.0   0.0 ...   2.724749  0.00000  0.000000  3.66921  0.0  0.0  0.0   \n",
       "1    0.0   0.0 ...   0.000000  0.00000  0.000000  0.00000  0.0  0.0  0.0   \n",
       "2    0.0   0.0 ...   0.000000  3.66921  0.000000  0.00000  0.0  0.0  0.0   \n",
       "3    0.0   0.0 ...   0.000000  0.00000  0.000000  0.00000  0.0  0.0  0.0   \n",
       "4    0.0   0.0 ...   0.000000  0.00000  0.000000  0.00000  0.0  0.0  0.0   \n",
       "5    0.0   0.0 ...   0.000000  0.00000  0.000000  0.00000  0.0  0.0  0.0   \n",
       "6    0.0   0.0 ...   2.724749  0.00000  0.000000  0.00000  0.0  0.0  0.0   \n",
       "7    0.0   0.0 ...   0.000000  0.00000  0.000000  0.00000  0.0  0.0  0.0   \n",
       "8    0.0   0.0 ...   0.000000  0.00000  4.921973  0.00000  0.0  0.0  0.0   \n",
       "9    0.0   0.0 ...   0.000000  0.00000  0.000000  0.00000  0.0  0.0  0.0   \n",
       "\n",
       "      young zombie zoom  \n",
       "0  0.000000    0.0  0.0  \n",
       "1  0.000000    0.0  0.0  \n",
       "2  0.000000    0.0  0.0  \n",
       "3  0.000000    0.0  0.0  \n",
       "4  0.000000    0.0  0.0  \n",
       "5  0.000000    0.0  0.0  \n",
       "6  2.976063    0.0  0.0  \n",
       "7  0.000000    0.0  0.0  \n",
       "8  0.000000    0.0  0.0  \n",
       "9  0.000000    0.0  0.0  \n",
       "\n",
       "[10 rows x 2310 columns]"
      ]
     },
     "execution_count": 960,
     "metadata": {},
     "output_type": "execute_result"
    }
   ],
   "source": [
    "from sklearn.feature_extraction.text import TfidfVectorizer\n",
    "tfidf_vectorizer = TfidfVectorizer(norm=None)  \n",
    "list_contents =[]\n",
    "for index, row in df_handle.iterrows():\n",
    "    list_contents.append(' '.join(row.Tokens))\n",
    "    \n",
    "# list_contents = df_handle.Content.values\n",
    "\n",
    "tfidf_matrix = tfidf_vectorizer.fit_transform(list_contents)\n",
    "df_tfidf = pd.DataFrame(tfidf_matrix.toarray(),columns=[tfidf_vectorizer.get_feature_names()])\n",
    "df_tfidf.head(10)"
   ]
  },
  {
   "cell_type": "markdown",
   "metadata": {},
   "source": [
    "### Cosine Similarity Matrix"
   ]
  },
  {
   "cell_type": "code",
   "execution_count": 961,
   "metadata": {
    "ExecuteTime": {
     "end_time": "2018-10-13T11:13:56.301680Z",
     "start_time": "2018-10-13T11:13:45.895505Z"
    },
    "scrolled": true
   },
   "outputs": [
    {
     "data": {
      "text/html": [
       "<div>\n",
       "<style scoped>\n",
       "    .dataframe tbody tr th:only-of-type {\n",
       "        vertical-align: middle;\n",
       "    }\n",
       "\n",
       "    .dataframe tbody tr th {\n",
       "        vertical-align: top;\n",
       "    }\n",
       "\n",
       "    .dataframe thead th {\n",
       "        text-align: right;\n",
       "    }\n",
       "</style>\n",
       "<table border=\"1\" class=\"dataframe\">\n",
       "  <thead>\n",
       "    <tr style=\"text-align: right;\">\n",
       "      <th></th>\n",
       "      <th>0</th>\n",
       "      <th>1</th>\n",
       "      <th>2</th>\n",
       "      <th>3</th>\n",
       "      <th>4</th>\n",
       "      <th>5</th>\n",
       "      <th>6</th>\n",
       "      <th>7</th>\n",
       "      <th>8</th>\n",
       "      <th>9</th>\n",
       "      <th>...</th>\n",
       "      <th>90</th>\n",
       "      <th>91</th>\n",
       "      <th>92</th>\n",
       "      <th>93</th>\n",
       "      <th>94</th>\n",
       "      <th>95</th>\n",
       "      <th>96</th>\n",
       "      <th>97</th>\n",
       "      <th>98</th>\n",
       "      <th>99</th>\n",
       "    </tr>\n",
       "  </thead>\n",
       "  <tbody>\n",
       "    <tr>\n",
       "      <th>0</th>\n",
       "      <td>1.000000</td>\n",
       "      <td>0.166868</td>\n",
       "      <td>0.082904</td>\n",
       "      <td>0.000000</td>\n",
       "      <td>0.048301</td>\n",
       "      <td>0.079745</td>\n",
       "      <td>0.111885</td>\n",
       "      <td>0.051764</td>\n",
       "      <td>0.060564</td>\n",
       "      <td>0.052793</td>\n",
       "      <td>...</td>\n",
       "      <td>0.051512</td>\n",
       "      <td>0.028980</td>\n",
       "      <td>0.024933</td>\n",
       "      <td>0.024706</td>\n",
       "      <td>0.086637</td>\n",
       "      <td>0.058420</td>\n",
       "      <td>0.027242</td>\n",
       "      <td>0.033321</td>\n",
       "      <td>0.005677</td>\n",
       "      <td>0.029618</td>\n",
       "    </tr>\n",
       "    <tr>\n",
       "      <th>1</th>\n",
       "      <td>0.166868</td>\n",
       "      <td>1.000000</td>\n",
       "      <td>0.142174</td>\n",
       "      <td>0.000000</td>\n",
       "      <td>0.043764</td>\n",
       "      <td>0.137907</td>\n",
       "      <td>0.112371</td>\n",
       "      <td>0.086628</td>\n",
       "      <td>0.107285</td>\n",
       "      <td>0.032135</td>\n",
       "      <td>...</td>\n",
       "      <td>0.056323</td>\n",
       "      <td>0.048314</td>\n",
       "      <td>0.022864</td>\n",
       "      <td>0.012185</td>\n",
       "      <td>0.055517</td>\n",
       "      <td>0.042832</td>\n",
       "      <td>0.023330</td>\n",
       "      <td>0.000000</td>\n",
       "      <td>0.034121</td>\n",
       "      <td>0.026714</td>\n",
       "    </tr>\n",
       "    <tr>\n",
       "      <th>2</th>\n",
       "      <td>0.082904</td>\n",
       "      <td>0.142174</td>\n",
       "      <td>1.000000</td>\n",
       "      <td>0.012258</td>\n",
       "      <td>0.158478</td>\n",
       "      <td>0.210149</td>\n",
       "      <td>0.155343</td>\n",
       "      <td>0.127489</td>\n",
       "      <td>0.164251</td>\n",
       "      <td>0.045140</td>\n",
       "      <td>...</td>\n",
       "      <td>0.116426</td>\n",
       "      <td>0.067190</td>\n",
       "      <td>0.035444</td>\n",
       "      <td>0.124575</td>\n",
       "      <td>0.133377</td>\n",
       "      <td>0.092472</td>\n",
       "      <td>0.021909</td>\n",
       "      <td>0.017475</td>\n",
       "      <td>0.024770</td>\n",
       "      <td>0.034218</td>\n",
       "    </tr>\n",
       "    <tr>\n",
       "      <th>3</th>\n",
       "      <td>0.000000</td>\n",
       "      <td>0.000000</td>\n",
       "      <td>0.012258</td>\n",
       "      <td>1.000000</td>\n",
       "      <td>0.000000</td>\n",
       "      <td>0.000000</td>\n",
       "      <td>0.051034</td>\n",
       "      <td>0.000000</td>\n",
       "      <td>0.000000</td>\n",
       "      <td>0.019187</td>\n",
       "      <td>...</td>\n",
       "      <td>0.023034</td>\n",
       "      <td>0.034181</td>\n",
       "      <td>0.000000</td>\n",
       "      <td>0.000000</td>\n",
       "      <td>0.000000</td>\n",
       "      <td>0.000000</td>\n",
       "      <td>0.000000</td>\n",
       "      <td>0.000000</td>\n",
       "      <td>0.009897</td>\n",
       "      <td>0.000000</td>\n",
       "    </tr>\n",
       "    <tr>\n",
       "      <th>4</th>\n",
       "      <td>0.048301</td>\n",
       "      <td>0.043764</td>\n",
       "      <td>0.158478</td>\n",
       "      <td>0.000000</td>\n",
       "      <td>1.000000</td>\n",
       "      <td>0.106161</td>\n",
       "      <td>0.063432</td>\n",
       "      <td>0.071634</td>\n",
       "      <td>0.041448</td>\n",
       "      <td>0.103356</td>\n",
       "      <td>...</td>\n",
       "      <td>0.052242</td>\n",
       "      <td>0.049567</td>\n",
       "      <td>0.078795</td>\n",
       "      <td>0.055024</td>\n",
       "      <td>0.083102</td>\n",
       "      <td>0.050774</td>\n",
       "      <td>0.031710</td>\n",
       "      <td>0.055550</td>\n",
       "      <td>0.061256</td>\n",
       "      <td>0.034743</td>\n",
       "    </tr>\n",
       "    <tr>\n",
       "      <th>5</th>\n",
       "      <td>0.079745</td>\n",
       "      <td>0.137907</td>\n",
       "      <td>0.210149</td>\n",
       "      <td>0.000000</td>\n",
       "      <td>0.106161</td>\n",
       "      <td>1.000000</td>\n",
       "      <td>0.135031</td>\n",
       "      <td>0.175851</td>\n",
       "      <td>0.135186</td>\n",
       "      <td>0.083519</td>\n",
       "      <td>...</td>\n",
       "      <td>0.115398</td>\n",
       "      <td>0.073297</td>\n",
       "      <td>0.055869</td>\n",
       "      <td>0.084212</td>\n",
       "      <td>0.114201</td>\n",
       "      <td>0.066402</td>\n",
       "      <td>0.033022</td>\n",
       "      <td>0.021201</td>\n",
       "      <td>0.014040</td>\n",
       "      <td>0.027746</td>\n",
       "    </tr>\n",
       "    <tr>\n",
       "      <th>6</th>\n",
       "      <td>0.111885</td>\n",
       "      <td>0.112371</td>\n",
       "      <td>0.155343</td>\n",
       "      <td>0.051034</td>\n",
       "      <td>0.063432</td>\n",
       "      <td>0.135031</td>\n",
       "      <td>1.000000</td>\n",
       "      <td>0.104634</td>\n",
       "      <td>0.097443</td>\n",
       "      <td>0.159794</td>\n",
       "      <td>...</td>\n",
       "      <td>0.086375</td>\n",
       "      <td>0.107091</td>\n",
       "      <td>0.087400</td>\n",
       "      <td>0.058206</td>\n",
       "      <td>0.107357</td>\n",
       "      <td>0.097845</td>\n",
       "      <td>0.012138</td>\n",
       "      <td>0.003143</td>\n",
       "      <td>0.063971</td>\n",
       "      <td>0.043117</td>\n",
       "    </tr>\n",
       "    <tr>\n",
       "      <th>7</th>\n",
       "      <td>0.051764</td>\n",
       "      <td>0.086628</td>\n",
       "      <td>0.127489</td>\n",
       "      <td>0.000000</td>\n",
       "      <td>0.071634</td>\n",
       "      <td>0.175851</td>\n",
       "      <td>0.104634</td>\n",
       "      <td>1.000000</td>\n",
       "      <td>0.078167</td>\n",
       "      <td>0.047604</td>\n",
       "      <td>...</td>\n",
       "      <td>0.100357</td>\n",
       "      <td>0.085336</td>\n",
       "      <td>0.061989</td>\n",
       "      <td>0.027399</td>\n",
       "      <td>0.068172</td>\n",
       "      <td>0.069842</td>\n",
       "      <td>0.012533</td>\n",
       "      <td>0.000000</td>\n",
       "      <td>0.024338</td>\n",
       "      <td>0.029819</td>\n",
       "    </tr>\n",
       "    <tr>\n",
       "      <th>8</th>\n",
       "      <td>0.060564</td>\n",
       "      <td>0.107285</td>\n",
       "      <td>0.164251</td>\n",
       "      <td>0.000000</td>\n",
       "      <td>0.041448</td>\n",
       "      <td>0.135186</td>\n",
       "      <td>0.097443</td>\n",
       "      <td>0.078167</td>\n",
       "      <td>1.000000</td>\n",
       "      <td>0.000000</td>\n",
       "      <td>...</td>\n",
       "      <td>0.050140</td>\n",
       "      <td>0.051747</td>\n",
       "      <td>0.000000</td>\n",
       "      <td>0.017056</td>\n",
       "      <td>0.066588</td>\n",
       "      <td>0.025789</td>\n",
       "      <td>0.010657</td>\n",
       "      <td>0.027452</td>\n",
       "      <td>0.021273</td>\n",
       "      <td>0.007683</td>\n",
       "    </tr>\n",
       "    <tr>\n",
       "      <th>9</th>\n",
       "      <td>0.052793</td>\n",
       "      <td>0.032135</td>\n",
       "      <td>0.045140</td>\n",
       "      <td>0.019187</td>\n",
       "      <td>0.103356</td>\n",
       "      <td>0.083519</td>\n",
       "      <td>0.159794</td>\n",
       "      <td>0.047604</td>\n",
       "      <td>0.000000</td>\n",
       "      <td>1.000000</td>\n",
       "      <td>...</td>\n",
       "      <td>0.025651</td>\n",
       "      <td>0.091685</td>\n",
       "      <td>0.065821</td>\n",
       "      <td>0.062370</td>\n",
       "      <td>0.049885</td>\n",
       "      <td>0.020544</td>\n",
       "      <td>0.010045</td>\n",
       "      <td>0.006449</td>\n",
       "      <td>0.093032</td>\n",
       "      <td>0.020403</td>\n",
       "    </tr>\n",
       "  </tbody>\n",
       "</table>\n",
       "<p>10 rows × 100 columns</p>\n",
       "</div>"
      ],
      "text/plain": [
       "         0         1         2         3         4         5         6   \\\n",
       "0  1.000000  0.166868  0.082904  0.000000  0.048301  0.079745  0.111885   \n",
       "1  0.166868  1.000000  0.142174  0.000000  0.043764  0.137907  0.112371   \n",
       "2  0.082904  0.142174  1.000000  0.012258  0.158478  0.210149  0.155343   \n",
       "3  0.000000  0.000000  0.012258  1.000000  0.000000  0.000000  0.051034   \n",
       "4  0.048301  0.043764  0.158478  0.000000  1.000000  0.106161  0.063432   \n",
       "5  0.079745  0.137907  0.210149  0.000000  0.106161  1.000000  0.135031   \n",
       "6  0.111885  0.112371  0.155343  0.051034  0.063432  0.135031  1.000000   \n",
       "7  0.051764  0.086628  0.127489  0.000000  0.071634  0.175851  0.104634   \n",
       "8  0.060564  0.107285  0.164251  0.000000  0.041448  0.135186  0.097443   \n",
       "9  0.052793  0.032135  0.045140  0.019187  0.103356  0.083519  0.159794   \n",
       "\n",
       "         7         8         9     ...           90        91        92  \\\n",
       "0  0.051764  0.060564  0.052793    ...     0.051512  0.028980  0.024933   \n",
       "1  0.086628  0.107285  0.032135    ...     0.056323  0.048314  0.022864   \n",
       "2  0.127489  0.164251  0.045140    ...     0.116426  0.067190  0.035444   \n",
       "3  0.000000  0.000000  0.019187    ...     0.023034  0.034181  0.000000   \n",
       "4  0.071634  0.041448  0.103356    ...     0.052242  0.049567  0.078795   \n",
       "5  0.175851  0.135186  0.083519    ...     0.115398  0.073297  0.055869   \n",
       "6  0.104634  0.097443  0.159794    ...     0.086375  0.107091  0.087400   \n",
       "7  1.000000  0.078167  0.047604    ...     0.100357  0.085336  0.061989   \n",
       "8  0.078167  1.000000  0.000000    ...     0.050140  0.051747  0.000000   \n",
       "9  0.047604  0.000000  1.000000    ...     0.025651  0.091685  0.065821   \n",
       "\n",
       "         93        94        95        96        97        98        99  \n",
       "0  0.024706  0.086637  0.058420  0.027242  0.033321  0.005677  0.029618  \n",
       "1  0.012185  0.055517  0.042832  0.023330  0.000000  0.034121  0.026714  \n",
       "2  0.124575  0.133377  0.092472  0.021909  0.017475  0.024770  0.034218  \n",
       "3  0.000000  0.000000  0.000000  0.000000  0.000000  0.009897  0.000000  \n",
       "4  0.055024  0.083102  0.050774  0.031710  0.055550  0.061256  0.034743  \n",
       "5  0.084212  0.114201  0.066402  0.033022  0.021201  0.014040  0.027746  \n",
       "6  0.058206  0.107357  0.097845  0.012138  0.003143  0.063971  0.043117  \n",
       "7  0.027399  0.068172  0.069842  0.012533  0.000000  0.024338  0.029819  \n",
       "8  0.017056  0.066588  0.025789  0.010657  0.027452  0.021273  0.007683  \n",
       "9  0.062370  0.049885  0.020544  0.010045  0.006449  0.093032  0.020403  \n",
       "\n",
       "[10 rows x 100 columns]"
      ]
     },
     "execution_count": 961,
     "metadata": {},
     "output_type": "execute_result"
    }
   ],
   "source": [
    "from sklearn.metrics.pairwise import cosine_similarity, euclidean_distances\n",
    "cosine_matrix =  cosine_similarity(df_tfidf.values)\n",
    "df_cosine = pd.DataFrame(cosine_matrix,index=range(100),columns=range(100))\n",
    "df_cosine.head(10)"
   ]
  },
  {
   "cell_type": "code",
   "execution_count": 962,
   "metadata": {},
   "outputs": [
    {
     "data": {
      "image/png": "[encoded data removed]",
      "text/plain": [
       "<Figure size 1080x1080 with 2 Axes>"
      ]
     },
     "metadata": {},
     "output_type": "display_data"
    }
   ],
   "source": [
    "### Plot the heatmap of cosine matrix\n",
    "import seaborn as sns\n",
    "%matplotlib inline\n",
    "plt.figure(figsize=(15,15))\n",
    "sns.heatmap(df_cosine, annot=False,robust=True, fmt=\"f\", cmap='RdBu_r')\n",
    "plt.show()"
   ]
  },
  {
   "cell_type": "markdown",
   "metadata": {},
   "source": [
    "### Scatter TF-IDF Points after Using Dimensional Reduction Techinques"
   ]
  },
  {
   "cell_type": "code",
   "execution_count": 1083,
   "metadata": {
    "ExecuteTime": {
     "end_time": "2018-10-13T11:13:57.301489Z",
     "start_time": "2018-10-13T11:13:56.307510Z"
    }
   },
   "outputs": [
    {
     "name": "stdout",
     "output_type": "stream",
     "text": [
      "Using PCA\n"
     ]
    },
    {
     "data": {
      "image/png": "[encoded data removed]",
      "text/plain": [
       "<Figure size 720x720 with 1 Axes>"
      ]
     },
     "metadata": {},
     "output_type": "display_data"
    }
   ],
   "source": [
    "######################################\n",
    "print(\"Using PCA\")\n",
    "from sklearn.decomposition import PCA\n",
    "pca = PCA(n_components=2)\n",
    "X = np.array(df_tfidf.iloc[0:50].values)\n",
    "v1 = pca.fit_transform(X)\n",
    "import matplotlib.pyplot as plt\n",
    "fig = plt.figure(figsize=(10, 10))\n",
    "ax = fig.add_subplot(111)\n",
    "\n",
    "ax.scatter(v1[:,0],v1[:,1],marker='^', c='r')\n",
    "\n",
    "\n",
    "X = np.array(df_tfidf.iloc[50:].values)\n",
    "v2 = pca.fit_transform(X)\n",
    "import matplotlib.pyplot as plt\n",
    "ax.scatter(v2[:,0],v2[:,1],marker='o', c='b')\n",
    "\n",
    "# plotlabel(ax,n,v)\n",
    "# set axes range\n",
    "plt.grid()\n",
    "plt.show()"
   ]
  },
  {
   "cell_type": "code",
   "execution_count": 1103,
   "metadata": {},
   "outputs": [
    {
     "name": "stdout",
     "output_type": "stream",
     "text": [
      "Using MiniBatchSparsePCA\n"
     ]
    },
    {
     "data": {
      "image/png": "[encoded data removed]",
      "text/plain": [
       "<Figure size 720x720 with 1 Axes>"
      ]
     },
     "metadata": {},
     "output_type": "display_data"
    }
   ],
   "source": [
    "######################################\n",
    "print(\"Using MiniBatchSparsePCA\")\n",
    "\n",
    "from sklearn.decomposition import MiniBatchSparsePCA\n",
    "spca = MiniBatchSparsePCA(n_components=2)\n",
    "X = np.array(df_tfidf.iloc[0:50].values)\n",
    "v1 = spca.fit_transform(X)\n",
    "import matplotlib.pyplot as plt\n",
    "fig = plt.figure(figsize=(10, 10))\n",
    "ax = fig.add_subplot(111)\n",
    "\n",
    "ax.scatter(v1[:,0],v1[:,1],marker='^', c='r')\n",
    "\n",
    "\n",
    "X = np.array(df_tfidf.iloc[50:].values)\n",
    "v2 = spca.fit_transform(X)\n",
    "import matplotlib.pyplot as plt\n",
    "ax.scatter(v2[:,0],v2[:,1],marker='o', c='b')\n",
    "\n",
    "# plotlabel(ax,n,v)\n",
    "# set axes range\n",
    "plt.grid()\n",
    "plt.show()"
   ]
  },
  {
   "cell_type": "code",
   "execution_count": null,
   "metadata": {},
   "outputs": [],
   "source": []
  },
  {
   "cell_type": "code",
   "execution_count": null,
   "metadata": {},
   "outputs": [],
   "source": []
  }
 ],
 "metadata": {
  "kernelspec": {
   "display_name": "Python 3",
   "language": "python",
   "name": "python3"
  },
  "language_info": {
   "codemirror_mode": {
    "name": "ipython",
    "version": 3
   },
   "file_extension": ".py",
   "mimetype": "text/x-python",
   "name": "python",
   "nbconvert_exporter": "python",
   "pygments_lexer": "ipython3",
   "version": "3.7.4"
  },
  "latex_envs": {
   "LaTeX_envs_menu_present": true,
   "autoclose": false,
   "autocomplete": true,
   "bibliofile": "biblio.bib",
   "cite_by": "apalike",
   "current_citInitial": 1,
   "eqLabelWithNumbers": true,
   "eqNumInitial": 1,
   "hotkeys": {
    "equation": "Ctrl-E",
    "itemize": "Ctrl-I"
   },
   "labels_anchors": false,
   "latex_user_defs": false,
   "report_style_numbering": false,
   "user_envs_cfg": false
  },
  "toc": {
   "base_numbering": 1,
   "nav_menu": {},
   "number_sections": true,
   "sideBar": true,
   "skip_h1_title": true,
   "title_cell": "Table of Contents",
   "title_sidebar": "Contents",
   "toc_cell": true,
   "toc_position": {
    "height": "calc(100% - 180px)",
    "left": "10px",
    "top": "150px",
    "width": "315px"
   },
   "toc_section_display": true,
   "toc_window_display": true
  },
  "varInspector": {
   "cols": {
    "lenName": 16,
    "lenType": 16,
    "lenVar": 40
   },
   "kernels_config": {
    "python": {
     "delete_cmd_postfix": "",
     "delete_cmd_prefix": "del ",
     "library": "var_list.py",
     "varRefreshCmd": "print(var_dic_list())"
    },
    "r": {
     "delete_cmd_postfix": ") ",
     "delete_cmd_prefix": "rm(",
     "library": "var_list.r",
     "varRefreshCmd": "cat(var_dic_list()) "
    }
   },
   "types_to_exclude": [
    "module",
    "function",
    "builtin_function_or_method",
    "instance",
    "_Feature"
   ],
   "window_display": false
  }
 },
 "nbformat": 4,
 "nbformat_minor": 4
}
