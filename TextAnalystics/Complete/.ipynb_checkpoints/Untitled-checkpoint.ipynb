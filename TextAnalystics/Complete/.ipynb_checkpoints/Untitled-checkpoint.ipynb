{
 "cells": [
  {
   "cell_type": "markdown",
   "metadata": {},
   "source": [
    "## Getting Data\n",
    "This notebook showcases how to download data available on the Internet. We cover most formats the data is typically available in, and learn/practice via example Python code or utilities for getting data.\n",
    "\n",
    "    TOPIC1: Getting data from a Web URL, RSSFeed, PDF\n",
    "\n",
    "    TOPIC2: Crawling/Scraping data from the Web (entire websites).\n",
    "\n",
    "    TOPIC3: Getting data via APIs (JSON format)."
   ]
  },
  {
   "cell_type": "markdown",
   "metadata": {},
   "source": [
    "### Getting data from a Web URL, RSSFeed, PDF"
   ]
  },
  {
   "cell_type": "code",
   "execution_count": 1,
   "metadata": {},
   "outputs": [
    {
     "name": "stdout",
     "output_type": "stream",
     "text": [
      "PACKAGE STRUCTURE: \n",
      " ['ConnectTimeout', 'ConnectionError', 'DependencyWarning', 'FileModeWarning', 'HTTPError', 'NullHandler', 'PreparedRequest', 'ReadTimeout', 'Request', 'RequestException', 'RequestsDependencyWarning', 'Response', 'Session', 'Timeout', 'TooManyRedirects', 'URLRequired', '__author__', '__author_email__', '__build__', '__builtins__', '__cached__', '__cake__', '__copyright__', '__description__', '__doc__', '__file__', '__license__', '__loader__', '__name__', '__package__', '__path__', '__spec__', '__title__', '__url__', '__version__', '_check_cryptography', '_internal_utils', 'adapters', 'api', 'auth', 'certs', 'chardet', 'check_compatibility', 'codes', 'compat', 'cookies', 'cryptography_version', 'delete', 'exceptions', 'get', 'head', 'hooks', 'logging', 'models', 'options', 'packages', 'patch', 'post', 'put', 'pyopenssl', 'request', 'session', 'sessions', 'status_codes', 'structures', 'urllib3', 'utils', 'warnings']\n",
      "----------------------------------------------------------------------------------------------------\n",
      "PRINT THE HELP OF FUNCTION\n",
      "Help on function get in module requests.api:\n",
      "\n",
      "get(url, params=None, **kwargs)\n",
      "    Sends a GET request.\n",
      "    \n",
      "    :param url: URL for the new :class:`Request` object.\n",
      "    :param params: (optional) Dictionary, list of tuples or bytes to send\n",
      "        in the query string for the :class:`Request`.\n",
      "    :param \\*\\*kwargs: Optional arguments that ``request`` takes.\n",
      "    :return: :class:`Response <Response>` object\n",
      "    :rtype: requests.Response\n",
      "\n"
     ]
    }
   ],
   "source": [
    "#Import package 'requests'for URL scrapping\n",
    "import requests\n",
    "\n",
    "#Look at the package structure\n",
    "print('PACKAGE STRUCTURE: \\n' , dir(requests))\n",
    "print('-'*100)\n",
    "\n",
    "#Look at individual functions\n",
    "print('PRINT THE HELP OF FUNCTION')\n",
    "help(requests.get)\n",
    "#Same as help() but opens a new window\n",
    "# ?requests.get"
   ]
  },
  {
   "cell_type": "code",
   "execution_count": 2,
   "metadata": {
    "ExecuteTime": {
     "end_time": "2018-09-16T12:47:29.432024Z",
     "start_time": "2018-09-16T12:47:28.923524Z"
    }
   },
   "outputs": [
    {
     "name": "stdout",
     "output_type": "stream",
     "text": [
      "                                                                                                                                                                                                                                                                                                                                                                                                                                                                                                                                                                                                                                                                                                                                                                                                                                                                                                                                                                        <!doctype html>\n",
      "<html class=\"no-js\" lang=\"en\" prefix=\"og:http://ogp.me/ns# fb:http://www.facebook.com/2008/fbml rNews:http://www.iptc.org/ns/1.0 irishtimes:http://www.irishtimes.com/\" version=\"HTML+RDFa 1.1\">\n",
      "<head>\n",
      "  <script>\n",
      " dataLayer = [{\n",
      " 'Page_Type': 'metered_article',\n",
      " 'Topic': 'news,science,student-hub,holmes-chapel,john-monahan,josh-mitchell,kevin-o-sullivan,mari-cahalane,michael-d-higgins,simon-meehan,tony-fagan,cern,eu,european-commission,european-space-agency,european-union-contest-for-young-scientists,ballincollig,africa'\n",
      " }];\n",
      " </script>\n",
      " <script>(function (w, d, s, l, i) {\n",
      " w[l] = w[l] || [];\n",
      " w[l].push({'gtm.start': new Date().getTime(), event: 'gtm.js'});\n",
      " var f = d.getElementsByTagName(s)[0], j = d.createElement(s), dl = l != 'dataLayer' ? '&l=' + l : '';\n",
      " j.async = true;\n",
      " j.src = '//www.googletagmanager.com/gtm.js?id=' + i + dl;\n",
      " f.parentNode.insertBefore(j, f);\n",
      " })(window, document, 'script', 'dataLayer', 'GTM-M9Q373');</script>\n",
      "   <style>.async-hide { opacity: 0 !important }</style>\n",
      " <script>(function(a,s,y,n,c,h,i,d,e){s.className+=' '+y;h.start=1*new Date;\n",
      " h.end=i=function(){s.className=s.className.replace(RegExp(' ?'+y),'')};\n",
      " (a[n]=a[n]||[]).hide=h;setTimeout(function(){i();h.end=null},c);h.timeout=c;\n",
      " })(window, document.documentElement, 'async-hide', 'dataLayer', 4000, {'GTM-M9Q373': true});</script>\n",
      "       <script>var _it_page_revision_id = '201303211700'; </script>\n",
      " <title>Young Scientists lauded for ethical focus on climate change</title>\n",
      "  <link rel=\"canonical\" href=\"https://www.irishtimes.com/news/science/young-scientists-lauded-for-ethical-focus-on-climate-change-1.3630771\"/>\n",
      "    <link rel=\"amphtml\" href=\"https://www.irishtimes.com/news/science/young-scientists-lauded-for-ethical-focus-on-climate-change-1.3630771?mode=amp\">\n",
      "    <link rel=\"alternate\" href=\"https://www.irishtimes.com/news/science/young-scientists-lauded-for-ethical-focus-on-climate-change-1.3630771?mode=amp\">\n",
      "<link rel=\"shortcut icon\" href=\"/assets/images/favicons/favicon.ico\"/>\n",
      "<link rel=\"apple-touch-icon-precomposed\" href=\"/assets/images/favicons/apple-touch-icon-precomposed.png\"/>\n",
      "<link rel=\"apple-touch-icon-precomposed\" sizes=\"72x72\" href=\"/assets/images/favicons/apple-touch-icon-72x72-precomposed.png\"/>\n",
      "<link rel=\"apple-touch-icon-precomposed\" sizes=\"114x114\" href=\"/assets/images/favicons/apple-touch-icon-114x114-precomposed.png\"/>\n",
      "<link rel=\"apple-touch-icon-precomposed\" sizes=\"144x144\" href=\"/assets/images/favicons/apple-touch-icon-144x144-precomposed.png\"/>\n",
      "    <link rel=\"alternate\" type=\"application/rss+xml\" title=\"Test RSS Feed\" href=\"/rss/test-rss-feed-1.4094403\">\n",
      "    <link rel=\"alternate\" type=\"application/rss+xml\" title=\"Irish Times Top 10 Stories \" href=\"/rss/irish-times-top-10-stories-1.4019566\">\n",
      "    <link rel=\"alternate\" type=\"application/rss+xml\" title=\"ActiveCampaign Business Today Digest More From Business\" href=\"/rss/activecampaign-business-today-digest-more-from-business-1.3180340\">\n",
      "    <link rel=\"alternate\" type=\"application/rss+xml\" title=\"ActiveCampaign Business Today Top Stories\" href=\"/rss/activecampaign-business-today-top-stories-1.3180275\">\n",
      "    <link rel=\"alternate\" type=\"application/rss+xml\" title=\"ActiveCampaign Business Today Editors Note \" href=\"/rss/activecampaign-business-today-editors-note-1.3175762\">\n",
      "    <link rel=\"alternate\" type=\"application/rss+xml\" title=\"ActiveCampaign Business Today Todays Columnist\" href=\"/rss/activecampaign-business-today-todays-columnist-1.3175583\">\n",
      "    <link rel=\"alternate\" type=\"application/rss+xml\" title=\"NOA RSS\" href=\"/rss/noa-rss-1.3093339\">\n",
      "    <link rel=\"alternate\" type=\"application/rss+xml\" title=\"Construction RSS\" href=\"/rss/construction-rss-1.3020527\">\n",
      "    <link rel=\"alternate\" type=\"application/rss+xml\" title=\"Commercial Property RSS\" href=\"/rss/commercial-property-rss-1.3020524\">\n",
      "    <link rel=\"alternate\" type=\"application/rss+xml\" title=\"facebook instant articles\" href=\"/rss/facebook-instant-articles-1.2675736\">\n",
      "    <link rel=\"alternate\" type=\"application/rss+xml\" title=\"work rss\" href=\"/rss/work-rss-1.2458565\">\n",
      "    <\n",
      "Writing 'html_page' (str) to file 'irishTest01.txt'.\n"
     ]
    }
   ],
   "source": [
    "#Get an HTML file.\n",
    "#Get news article from IrishTimes website.\n",
    "\n",
    "#If not imported already, import requests\n",
    "#import requests\n",
    "\n",
    "#Give the URL for the file to be downloaded\n",
    "\n",
    "url  = 'https://www.irishtimes.com/news/science/young-scientists-lauded-for-ethical-focus-on-climate-change-1.3630771'\n",
    "\n",
    "#Get the content from the downloaded html file\n",
    "html_page = requests.get(url).text\n",
    "\n",
    "#Look at the format of the html file\n",
    "print(html_page[:5000])\n",
    "\n",
    "## Use the IPython magic function \"store\" to save into file\n",
    "%store html_page >> irishTest01.txt\n",
    "\n",
    "## You can have a viewing of html tags by using: https://codebeautify.org/htmlviewer/\n"
   ]
  },
  {
   "cell_type": "markdown",
   "metadata": {},
   "source": [
    "#### Use package 'beautifulsoup' to extract the content of HTML fields \n",
    "\n",
    "    Need to know the HTML structure and the tags containing the information we need\n",
    "\n",
    "    To look at the HTML file open it in a text editor, look for the tags that contain headline, subheadline, article body \n",
    "\n",
    "    If you don't have beautifulsoup4 installed, run in shell: conda install beautifulsoup4 \n",
    "    \n",
    "#### Structure of IrishTimes:\n",
    "\n",
    "    1) The headline and subheadline will be in the section:\n",
    "\n",
    "   <img src=\"./supportDocs/irishtime_01.png\">\n",
    "\n",
    "    2) The content will stored in the tags:\n",
    "\n",
    "   <img src=\"./supportDocs/irishtime_02.png\">"
   ]
  },
  {
   "cell_type": "code",
   "execution_count": 3,
   "metadata": {
    "ExecuteTime": {
     "end_time": "2018-09-16T12:47:53.126724Z",
     "start_time": "2018-09-16T12:47:53.105727Z"
    }
   },
   "outputs": [],
   "source": [
    "from bs4 import BeautifulSoup\n",
    "\n",
    "# Method to parse the structure of an html page using package beautifulsoup.\n",
    "# The code looks for specific tags in the html structure and extracts the content\n",
    "def getArticleDetailsByUrl(url):\n",
    "    page = requests.get(url)\n",
    "    soup = BeautifulSoup(page.text,\"html.parser\")\n",
    "    #soup.prettify()\n",
    "    \n",
    "    headline = soup.title.string\n",
    "    subheadline = soup.head.find(\"meta\",attrs={\"name\":\"description\"}).get('content')\n",
    "\n",
    "    doc_body = ''\n",
    "    if \"The Irish Times\" in soup.text:\n",
    "        for body_p_tag in soup.article.find_all(\"p\", attrs={\"class\": \"no_name\"}):\n",
    "            doc_body += body_p_tag.get_text() + \" \"\n",
    "\n",
    "    source = \"Other\"\n",
    "    try:\n",
    "        if \"irishtimes\" in url:\n",
    "            source = \"IrishTimes\"\n",
    "            body_p_tag = soup.article.find(\"div\", attrs={\"class\": \"last_updated\"}).find(\"p\")\n",
    "    except:\n",
    "        pass\n",
    "\n",
    "    first_sentence = doc_body.split(\".\")[0]\n",
    "\n",
    "    return [headline, subheadline, first_sentence, doc_body, source]\n",
    "\n"
   ]
  },
  {
   "cell_type": "code",
   "execution_count": 4,
   "metadata": {
    "ExecuteTime": {
     "end_time": "2018-09-16T12:47:55.891054Z",
     "start_time": "2018-09-16T12:47:55.714823Z"
    }
   },
   "outputs": [
    {
     "name": "stdout",
     "output_type": "stream",
     "text": [
      "\n",
      "Field by field:\n",
      "\n",
      "Headline:\n",
      " Young Scientists lauded for ethical focus on climate change \n",
      "\n",
      "Subheadline:\n",
      " Contributions critical to advancing Paris Agreement, Higgins tells EU contest in RDS \n",
      "\n",
      "First sentence:\n",
      " President Michael D Higgins has saluted young scientists for their “independence of thought, critical turn of mind and questioning of the status quo” \n",
      "\n",
      "Article body:\n",
      " President Michael D Higgins has saluted young scientists for their “independence of thought, critical turn of mind and questioning of the status quo”. Speaking at the opening of the European Union Contest for Young Scientists (EUCYS) at the RDS in Dublin on Saturday, Mr Higgins said such qualities were often combined with an ethical concern for “the community and the planet”. They were essential to meeting the challenges facing the world today, especially from climate change. “Some of you have sought to push barriers in the field of mathematics; to investigate causes of and solutions to a variety of social problems, or to pose and answer questions of startling originality,” he added. A total of 134 students from 38 countries are competing for the EU Young Scientist of the Year 2018 title. The President said he was particularly pleased some contestants were focused on the great challenge of climate change “and its threat to our environment and natural habitats”. The contributions of young scientists were critical to putting actions on the words of the 2015 Paris Agreement on climate change, he believed. Within Europe, the absence of borders in exchanging ideas, science and technology was essential, he said, as it would enable quicker identification of solutions in the best interests of the planet. More than any other place in the world, the continent of Africa “is now the crucible for the global challenges that we confront”, Mr Higgins said. Africa could in future decades be seen as a great opportunity, or a problem. “Its only problem is we neglect issues of climate change and sustainability,” he said. “An equitable sharing of global technological advances and their application in raising the welfare of communities across the globe” was also necessary, Mr Higgins said. The President paid tribute to the competition “which is at the pinnacle of scientific achievement and discovery amongst young people worldwide”. It was also one of the great success stories of Europe. “If in the past science was incorporated into a push to consume, I think science is even more important now as it enables us to recover...in the service of sustainability,” Mr Higgins said. He noted a new “young philosopher of the year award” had been introduced in Ireland recently. He looked forward in years ahead to what would emerge from a meeting of the young philosophers of the year with young scientists of the year. The President met contestants including Simon Meehan from Ballincollig, Co Cork, current BT Young Scientist & Technologist of the Year awardholder, who is representing Ireland, and Josh Mitchell (18), from Holmes Chapel near Manchester, who has developed a cheap, easy-to-build 3D printer, which he hopes will become widely available to ordinary consumers and come “flat-packed in a container the size of a pizza box”. He has developed eight prototypes since the age of 13. An initiative of the European Commission under the Science and Society programme, EUCYS is the annual showcase of the best of European student scientific achievement, but it is also open to other countries. A total of 88 projects is on display in the RDS, covering a wide range of topics – from the representation of gangsterism and scientific progress in comic books (Luxembourg) to a smart weather system simulator (Tunisia). Categories range across biology, physics, chemistry, computing, social sciences, environment, mathematics, materials, engineering and medicine. A judging panel headed by Prof Tony Fagan of UCD interviews contestants and evaluates projects in a five-stage process. First place winners of EUCYS will be awarded €7,000 as well as a trip to the Cern research facility in Switzerland and the European Space Agency. The EU Young Scientist for 2018 will be announced on Tuesday at an awards ceremony in the Printworks, Dublin Castle. To mark the 30th EUCYS and the history of the BT Young Scientist & Technology Exhibition, many of Ireland’s past winners, including the very first winner of BTYSTE in 1965, John Monahan, returned to the RDS on Saturday “to support Ireland’s current entry and to celebrate their collective journeys since their participation”. “We also want to take this moment to acknowledge Ireland’s past achievements at EUCYS and welcome back former participants who competed for their country down the years. This is a special moment for them and for all involved in EUCYS and the national qualifying competition, the BTYSTE,” said Mari Cahalane, head of EUCYS 2018. The contest is open to the public in the RDS daily from 10am to 4pm, from Saturday to Monday next. More information on tickets and science shows being staged at the RDS to coincide with EUCYS 2018 is available at https://eucys2018.com \n"
     ]
    }
   ],
   "source": [
    "# Main code that calls our parsing method getArticleDetailsByUrl(url) for specific html pages.\n",
    "article_url = 'https://www.irishtimes.com/news/science/young-scientists-lauded-for-ethical-focus-on-climate-change-1.3630771'\n",
    "#print(getArticleDetailsByUrl(article_url))\n",
    "\n",
    "print(\"\\nField by field:\\n\")\n",
    "[headline, subheadline, first_sentence, doc_body, source] = getArticleDetailsByUrl(article_url)\n",
    "print(\"Headline:\\n\", headline, \"\\n\")\n",
    "print(\"Subheadline:\\n\", subheadline, \"\\n\")\n",
    "print(\"First sentence:\\n\", first_sentence, \"\\n\")\n",
    "print(\"Article body:\\n\", doc_body)"
   ]
  },
  {
   "cell_type": "markdown",
   "metadata": {},
   "source": [
    "### Get the data from RSSFeed (XML file)\n",
    "Get an XML file.\n",
    "\n",
    "Get the whole RSS feed for the Irish Times news articles.\n",
    "\n",
    "This is an XML file listing the URLs of individual news articles published online.\n",
    "\n",
    "Need to know the structure of the XML to be able to extract text from specific tags"
   ]
  },
  {
   "cell_type": "code",
   "execution_count": 5,
   "metadata": {
    "ExecuteTime": {
     "end_time": "2018-09-16T12:42:21.683908Z",
     "start_time": "2018-09-16T12:42:21.674878Z"
    }
   },
   "outputs": [],
   "source": [
    "import requests\n",
    "#Feedparser is a library to parse RSS/XML feeds, these are files with a specific XML structure\n",
    "#If you don't have it, install using conda or pip, e.g.,: pip install feedparser\n",
    "import feedparser\n",
    "#help(feedparser)\n",
    "\n",
    "#Parse the XML file to retrieve the URLs for individual news articles.\n",
    "#Parse each article's HTML page\n",
    "def scrapRSSFeed(rss_feed):\n",
    "    d = feedparser.parse(rss_feed)\n",
    "    #print(d)\n",
    "    #print(d['entries'], \"\\n\")\n",
    "        \n",
    "    for item in d['entries']:\n",
    "        #Extract an article URL\n",
    "        article_url = item['link']\n",
    "        [headline, subheadline, first_sentence, doc_body, source] = getArticleDetailsByUrl(article_url) \n",
    "        print(\"Article:\", headline, \"\\n\")"
   ]
  },
  {
   "cell_type": "code",
   "execution_count": 6,
   "metadata": {
    "ExecuteTime": {
     "end_time": "2018-09-16T12:42:41.743768Z",
     "start_time": "2018-09-16T12:42:37.282766Z"
    }
   },
   "outputs": [
    {
     "name": "stdout",
     "output_type": "stream",
     "text": [
      "The XML content: \n",
      " <?xml version=\"1.0\"?>\n",
      "<rss version=\"2.0\">\n",
      "  <channel>\n",
      "    <title><![CDATA[The Irish Times - News]]></title>\n",
      "    <link>/cmlink/the-irish-times-news-1.1319192</link>\n",
      "    <description>\n",
      "                    \n",
      "          </description>\n",
      "    <lastBuildDate>Tue, 17 Dec 2019 07:07:38 +0000</lastBuildDate>\n",
      "    \n",
      "                  <language></language>\n",
      "              \n",
      "          <item>\n",
      "        <title><![CDATA[Man and woman die in road crash in Dublin]]></title>\n",
      "        <link>https://www.irishtimes.com/news/ireland/irish-news/man-and-woman-die-in-road-crash-in-dublin-1.4117854</link>\n",
      "        <description><![CDATA[Incident referred to Garda Ombudsman Commission for examination]]></description>\n",
      "        <guid isPermaLink=\"false\">1.4117854</guid>\n",
      "        <pubDate>Tue, 17 Dec 2019 07:07:38 +0000</pubDate>\n",
      "      </item>\n",
      "          <item>\n",
      "        <title><![CDATA[Two men charged in relation to Wayne Whelan death]]></title>\n",
      "        <link>https://www.irishtimes.com/news/crime-and-law/two-men-charged-in-relation-to\n",
      "----------------------------------------------------------------------------------------------------\n",
      "Just print the Headline of articles: \n",
      "\n",
      "Article: Man and woman die in road crash in Dublin \n",
      "\n",
      "Article: Two men charged in relation to Wayne Whelan death \n",
      "\n",
      "Article: Prison inspection regime ‘not fit for purpose’ \n",
      "\n",
      "Article: Not meaning to crib but . . . timing of most nativity scenes is off \n",
      "\n",
      "Article: Family of Sophie Toscan du Plantier welcome arrest of Ian Bailey \n",
      "\n",
      "Article: Minister trying to blame doctors for trolley crisis, say Limerick consultants \n",
      "\n",
      "Article: Aer Lingus says reusable cups cannot be used during cabin service \n",
      "\n",
      "Article: In-hospital death risk from heart attack, stroke, pneumonia falls \n",
      "\n",
      "Article: Better drugs and technology leading to fewer deaths in hospitals \n",
      "\n",
      "Article: Ask Brian: My son is struggling with primary school maths. How can I help? \n",
      "\n",
      "Article: Teaching sacraments at school: ‘I was a hypocrite through need’ \n",
      "\n",
      "Article: Is Ireland ready for a ‘total inclusion’ approach for special education? \n",
      "\n",
      "Article: Irish burns specialist help victims of volcano in New Zealand \n",
      "\n",
      "Article: A policy for a mid-priced car climbed €200 in recent years - after shopping around \n",
      "\n",
      "Article: Two families appeal for information on unsolved murders \n",
      "\n",
      "Article: Life online: ‘I found no joy in what I was doing’ \n",
      "\n",
      "Article: Man who came at gardaí with large knife is sentenced \n",
      "\n",
      "Article: Initiative to treat diabetes patients at GPs rather than hospitals is launched \n",
      "\n",
      "Article: Child whose fingers were crushed in door awarded €45,000 damages \n",
      "\n",
      "Article: Man whose rape conviction quashed has all charges dropped \n",
      "\n"
     ]
    }
   ],
   "source": [
    "#The URL of the XML file\n",
    "url='http://www.irishtimes.com/cmlink/news-1.1319192'\n",
    "xml_page = requests.get(url).text\n",
    "\n",
    "#Look at the structure of the XML file\n",
    "#To have a proper look, open the XML file with a text editor\n",
    "\n",
    "print('The XML content: \\n',xml_page[:1000])\n",
    "print('-'*100)\n",
    "\n",
    "\n",
    "# Call the method that parses a given XML file\n",
    "print('Just print the Headline of articles: \\n')\n",
    "scrapRSSFeed(url)"
   ]
  },
  {
   "cell_type": "markdown",
   "metadata": {
    "ExecuteTime": {
     "end_time": "2018-09-16T10:50:10.220877Z",
     "start_time": "2018-09-16T10:50:10.074693Z"
    }
   },
   "source": [
    "###  Get the data from PDF"
   ]
  },
  {
   "cell_type": "code",
   "execution_count": 7,
   "metadata": {
    "ExecuteTime": {
     "end_time": "2018-09-16T12:49:57.572575Z",
     "start_time": "2018-09-16T12:49:56.641866Z"
    }
   },
   "outputs": [
    {
     "name": "stdout",
     "output_type": "stream",
     "text": [
      "b'%PDF-1.5\\n%\\xd0\\xd4\\xc5\\xd8\\n2 0 obj <<\\n/Type /ObjStm\\n/N 100\\n/First 804\\n/Length 1113      \\n/Filter /FlateDecode\\n>>\\nstream\\nx\\xda\\x9dV\\xdbn\\x9cH\\x10}\\x9f\\xaf\\xa8\\xc7d\\xb5\\x8a\\xe9\\x0b\\xdd\\xb0\\x8a\\x12E\\x9b8\\xca\\xc3*Vl%\\xcf\\x1d\\xe8\\x19\\xa30\\x80\\x1a\\xb0=\\xfb\\xf5{\\x8a\\x8b\\xed\\xec\\xa5\\x07\\xed\\x83M\\x0f\\xd49UuNu\\x83\\xa0\\x84RR\\x82\\x0ciA9YA\"\\xa1\\xdc\\x90P$dFB\\x930\\x92\\x84%\\x91c\\x99\\x91\\x14)\\xfeHj\\xbb\\x93\\x92\\xa4\\xc1\\x1d\\xe0\\x93\\x04KR\\xe0\\x919)\\xa3p\\x87T\\x86\\x8b\\x02-\\x9ek\\xd2\\xd2\\x92\\xb2\\xa4S<\\xcfH\\xdb\\x84\\xf3\\xa5\\x89\\xdciI)\\xb2\\xe8\\x94R\\x8d\\x8b\\xa14\\xc3%\\'#\\xb0L\\xc8(<Pd\\x8c\\xc5s26\\xa7\\xd4\\xa2J`3\\xb2\\xa00\\x82\\xacU;\\xd4h\\xf3\\x8cLJ\\x19R\\x1bC\\x19\\x12\\x99\\x9c\\xb2\\x1c\\xcf\\xd1\\x10\\xaa\\xb3\\x8a\\xf2\\tDy\\x96\\x00\\x84F\\x05P\\xe81Q\\x922n\\xdc\\xe8]\\x86f\\x13\\x0b\\x9a\\x94\\x84H2\\xca \\x85\\x90\\t\\x88pE!y\\x82\\xab\\x01\\x07\\xf4\\x11\\xb9%VE&9a)\\xa4\\xc2\\x15|2e2\\xc1\\x02\\xaa\\x9dH\\xc0\\xc8\\x02\\x89\\x04\\x94J1?\\xcbk\\xf8\\x0eHU.9\\x13\\x94\\xe6_,\\xbbF[\\x82\\x85\\xd7)\\x17\\x01b\\x9d\\xe1\\x1f\\xc4\\x17)\\x07B~\\x91j\\xb9\\x130@\\xa4h\\x19\\t\\xb1\\x98*\\x00\\xb3a\\x04l@\\x95L\\x0f\\x80\\xb1\\x9c\\x10\\xcc\\x16\\r\\t\\x98!\\xac\\xe6Z\\x10g\\xb9\\x7f\\x18\"l\\x8e;\\x9c8\\x93\\xd9N\\xc0\\x14\\x91\\x19\\xb6\\x1fwsn\\x05\\xc6\\x88\\x9cK`\\xd2\\x9c\\x1b\\x849\\x10\\x00\\xacPE&\\xdc\\x13\\x0c\\x92\\xc9T\\xa6\\xc5b\\x8a\\xc1x$<'\n"
     ]
    }
   ],
   "source": [
    "#Get a PDF file, save it to disk.\n",
    "#import requests\n",
    "\n",
    "# Give url of the PDF file\n",
    "url='http://www.greenteapress.com/thinkpython/thinkpython.pdf'\n",
    "# Download the pdf file into request_object\n",
    "request_object = requests.get(url)\n",
    "\n",
    "#PDF is a binary format. Use request.content instead of request.text\n",
    "#Write binary content on your machine's disk in a file named 'thinkpython.pdf'\n",
    "with open(\"thinkpython.pdf\", \"wb\") as pdffile:\n",
    "    # Look at the conent of the file\n",
    "    print(request_object.content[:500])\n",
    "    \n",
    "    #Print the content of the request_object to a file named \"thinkpython.pdf\"\n",
    "    pdffile.write(request_object.content)\n",
    "\n",
    "#Check that it downloaded the file to the current directory.\n",
    "#%ls"
   ]
  },
  {
   "cell_type": "markdown",
   "metadata": {
    "ExecuteTime": {
     "end_time": "2018-09-16T12:51:31.967525Z",
     "start_time": "2018-09-16T12:51:31.963530Z"
    }
   },
   "source": [
    "## Topic2: Crawling data from the Web."
   ]
  },
  {
   "cell_type": "markdown",
   "metadata": {},
   "source": [
    "As an alternative to using the Python package requests, you can use the wget utility to download an HTML page from given URL or an entire website. If you don't have wget on your computer, first install it for your platform."
   ]
  },
  {
   "cell_type": "markdown",
   "metadata": {},
   "source": [
    "For MAC:\n",
    "\n",
    "        1) First install BREW as: https://brew.sh\n",
    "        \n",
    "        2) Install wget by: brew install wget \n",
    "For Windows:\n",
    "\n",
    "        1) Check the installation here: http://gnuwin32.sourceforge.net/packages/wget.htm\n",
    "        \n",
    "For Linux: \n",
    "\n",
    "        1) Try: sudo apt install wget (https://www.cyberciti.biz/faq/how-to-install-wget-togetrid-of-error-bash-wget-command-not-found/)"
   ]
  },
  {
   "cell_type": "code",
   "execution_count": 8,
   "metadata": {
    "ExecuteTime": {
     "end_time": "2018-09-16T13:43:25.338658Z",
     "start_time": "2018-09-16T13:43:24.906613Z"
    }
   },
   "outputs": [
    {
     "name": "stderr",
     "output_type": "stream",
     "text": [
      "'wget' is not recognized as an internal or external command,\n",
      "operable program or batch file.\n"
     ]
    }
   ],
   "source": [
    "!wget http://dmoz-odp.org/Computers/Programming/Languages/Python/Books/ -O dmoz_pythonbooks.html"
   ]
  },
  {
   "cell_type": "markdown",
   "metadata": {},
   "source": [
    "The wget tool is great for crawling entire or parts of websites. It recursively follows URLs up to given depth. The example below downloads a part of the website locally, in a folder named www.dmoz.org. The parameter -l tells wget to what depth it should follow URLs from the original URL. The parameter --no-parent tells wget to not download anything other than given path. See http://linuxreviews.org/quicktips/wget/ for more details."
   ]
  },
  {
   "cell_type": "code",
   "execution_count": 9,
   "metadata": {
    "ExecuteTime": {
     "start_time": "2018-09-16T13:43:49.449Z"
    }
   },
   "outputs": [
    {
     "name": "stderr",
     "output_type": "stream",
     "text": [
      "'wget' is not recognized as an internal or external command,\n",
      "operable program or batch file.\n"
     ]
    }
   ],
   "source": [
    "! wget http://dmoz-odp.org/Computers/Programming/Languages/Python/ -r -l 1 --no-parent"
   ]
  },
  {
   "cell_type": "code",
   "execution_count": 10,
   "metadata": {
    "ExecuteTime": {
     "end_time": "2018-09-16T13:47:36.394946Z",
     "start_time": "2018-09-16T13:47:36.379960Z"
    }
   },
   "outputs": [
    {
     "name": "stdout",
     "output_type": "stream",
     "text": [
      " Volume in drive C has no label.\n",
      " Volume Serial Number is 8091-4859\n",
      "\n",
      " Directory of C:\\Users\\Abhishek Sinha\\Desktop\n",
      "\n"
     ]
    },
    {
     "name": "stderr",
     "output_type": "stream",
     "text": [
      "File Not Found\n"
     ]
    }
   ],
   "source": [
    "#Data is downloaded to root folder named \"dmoz-odp.org\"\n",
    "%ls dmoz-odp.org"
   ]
  },
  {
   "cell_type": "code",
   "execution_count": 11,
   "metadata": {
    "ExecuteTime": {
     "end_time": "2018-09-16T13:05:01.591765Z",
     "start_time": "2018-09-16T13:04:57.010033Z"
    },
    "scrolled": true
   },
   "outputs": [
    {
     "name": "stderr",
     "output_type": "stream",
     "text": [
      "'wget' is not recognized as an internal or external command,\n",
      "operable program or batch file.\n"
     ]
    }
   ],
   "source": [
    "#Need to stop crawling after a short while, otherwise it will fill hard disk or we will get banned by the website\n",
    "! wget http://www.irishtimes.com/ -r -l 1 --no-parent"
   ]
  },
  {
   "cell_type": "markdown",
   "metadata": {},
   "source": [
    "## Getting data via APIs"
   ]
  },
  {
   "cell_type": "markdown",
   "metadata": {},
   "source": [
    "### JSON format: \n",
    "JavaScript Object Notation - a text format used widely for web-based resource sharing. Many APIs return data in JSON."
   ]
  },
  {
   "cell_type": "markdown",
   "metadata": {},
   "source": [
    "Create a file named example.json using the Python code below to write a given string to a file."
   ]
  },
  {
   "cell_type": "code",
   "execution_count": 12,
   "metadata": {
    "ExecuteTime": {
     "end_time": "2018-09-16T13:33:38.472984Z",
     "start_time": "2018-09-16T13:33:38.463819Z"
    }
   },
   "outputs": [],
   "source": [
    "json_string = \"\"\"\n",
    "{\n",
    "    \"glossary\": {\n",
    "        \"title\": \"example glossary\",\n",
    "\t\t\"GlossDiv\": {\n",
    "            \"title\": \"S\",\n",
    "\t\t\t\"GlossList\": {\n",
    "                \"GlossEntry\": {\n",
    "                    \"ID\": \"SGML\",\n",
    "\t\t\t\t\t\"SortAs\": \"SGML\",\n",
    "\t\t\t\t\t\"GlossTerm\": \"Standard Generalized Markup Language\",\n",
    "\t\t\t\t\t\"Acronym\": \"SGML\",\n",
    "\t\t\t\t\t\"Abbrev\": \"ISO 8879:1986\",\n",
    "\t\t\t\t\t\"GlossDef\": {\n",
    "                        \"para\": \"A meta-markup language, used to create markup languages such as DocBook.\",\n",
    "\t\t\t\t\t\t\"GlossSeeAlso\": [\"GML\", \"XML\"]\n",
    "                    },\n",
    "\t\t\t\t\t\"GlossSee\": \"markup\"\n",
    "                }\n",
    "            }\n",
    "        }\n",
    "    }\n",
    "}\"\"\"\n",
    "with open(\"example.json\", \"w\") as file:\n",
    "    file.write(json_string)    "
   ]
  },
  {
   "cell_type": "code",
   "execution_count": 13,
   "metadata": {
    "ExecuteTime": {
     "end_time": "2018-09-16T13:35:17.989991Z",
     "start_time": "2018-09-16T13:35:17.987029Z"
    }
   },
   "outputs": [
    {
     "name": "stderr",
     "output_type": "stream",
     "text": [
      "'cat' is not recognized as an internal or external command,\n",
      "operable program or batch file.\n"
     ]
    }
   ],
   "source": [
    "# Run shell command \"cat\" (\"type\" for Windows) to look at the file\n",
    "# The sign ! tells Jupyter Notebook that the following command is a shell command.\n",
    "# !type  example.json\n",
    "!cat  example.json"
   ]
  },
  {
   "cell_type": "code",
   "execution_count": 14,
   "metadata": {
    "ExecuteTime": {
     "end_time": "2018-09-16T13:35:22.807853Z",
     "start_time": "2018-09-16T13:35:22.802829Z"
    }
   },
   "outputs": [
    {
     "name": "stdout",
     "output_type": "stream",
     "text": [
      "{'glossary': {'title': 'example glossary', 'GlossDiv': {'title': 'S', 'GlossList': {'GlossEntry': {'ID': 'SGML', 'SortAs': 'SGML', 'GlossTerm': 'Standard Generalized Markup Language', 'Acronym': 'SGML', 'Abbrev': 'ISO 8879:1986', 'GlossDef': {'para': 'A meta-markup language, used to create markup languages such as DocBook.', 'GlossSeeAlso': ['GML', 'XML']}, 'GlossSee': 'markup'}}}}}\n"
     ]
    }
   ],
   "source": [
    "#Library to parse json objects\n",
    "import json\n",
    "json_data = json.load(open('example.json'))\n",
    "#json_data looks like a nested Python dictionary\n",
    "print(json_data)"
   ]
  },
  {
   "cell_type": "code",
   "execution_count": 15,
   "metadata": {
    "ExecuteTime": {
     "end_time": "2018-09-16T13:35:27.663472Z",
     "start_time": "2018-09-16T13:35:27.658479Z"
    }
   },
   "outputs": [
    {
     "name": "stdout",
     "output_type": "stream",
     "text": [
      "example glossary\n",
      "S\n",
      "SGML\n"
     ]
    }
   ],
   "source": [
    "#We can refer to different fields of the json object\n",
    "print(json_data['glossary']['title'])\n",
    "print(json_data['glossary']['GlossDiv']['title'])\n",
    "print(json_data['glossary']['GlossDiv']['GlossList']['GlossEntry']['ID'])"
   ]
  },
  {
   "cell_type": "markdown",
   "metadata": {},
   "source": [
    "> In the example below we use an URL called an API endpoint and the requests package to get a json file, as we have seen above in getting data from an URL."
   ]
  },
  {
   "cell_type": "code",
   "execution_count": 16,
   "metadata": {
    "ExecuteTime": {
     "end_time": "2018-09-16T13:37:06.878772Z",
     "start_time": "2018-09-16T13:37:06.164205Z"
    }
   },
   "outputs": [
    {
     "name": "stdout",
     "output_type": "stream",
     "text": [
      "Size of json file: 643367 \n",
      "\n",
      "----------------------------------------------------------------------------------------------------\n",
      "Look at the first 500 characters of the json list\n",
      "[{\"entityid\":\"18861217679\",\"entityname\":\"DENVER UNION CORPROATION, Dissolved January 17, 1983\",\"principaladdress1\":\"1512 LARIMER STREET #760\",\"principalcity\":\"Denver\",\"principalstate\":\"CO\",\"principalzipcode\":\"80202\",\"entitystatus\":\"Voluntarily Dissolved\",\"jurisdictonofformation\":\"CO\",\"entitytype\":\"Corporation\",\"agentfirstname\":\"JOHN\",\"agentmiddlename\":\"F.\",\"agentlastname\":\"O'DEA\",\"agentprincipaladdress1\":\"1512 LARIMER STREET #760\",\"agentprincipalcity\":\"DENVER\",\"agentprincipalstate\":\"CO\",\"agentpr\n"
     ]
    }
   ],
   "source": [
    "import requests\n",
    "url='https://data.colorado.gov/resource/4ykn-tg5h.json'\n",
    "json_dataset = requests.get(url).text\n",
    "print('Size of json file:',len(json_dataset),'\\n')\n",
    "print('-'*100)\n",
    "print('Look at the first 500 characters of the json list')\n",
    "print(json_dataset[:500])\n",
    "\n",
    "with open(\"data_colorado_gov.json\", \"w\") as file:\n",
    "    file.write(json_dataset)\n"
   ]
  },
  {
   "cell_type": "markdown",
   "metadata": {
    "toc": true
   },
   "source": [
    "<h1>Table of Contents<span class=\"tocSkip\"></span></h1>\n",
    "<div class=\"toc\"><ul class=\"toc-item\"><li><span><a href=\"#Read-data-from-CSV\" data-toc-modified-id=\"Read-data-from-CSV-1\"><span class=\"toc-item-num\">1&nbsp;&nbsp;</span>Read data from CSV</a></span></li><li><span><a href=\"#Read-data-from-XMLs\" data-toc-modified-id=\"Read-data-from-XMLs-2\"><span class=\"toc-item-num\">2&nbsp;&nbsp;</span>Read data from XMLs</a></span><ul class=\"toc-item\"><li><span><a href=\"#Read-one-XML-file:\" data-toc-modified-id=\"Read-one-XML-file:-2.1\"><span class=\"toc-item-num\">2.1&nbsp;&nbsp;</span>Read one XML file:</a></span></li><li><span><a href=\"#Read-from-folder\" data-toc-modified-id=\"Read-from-folder-2.2\"><span class=\"toc-item-num\">2.2&nbsp;&nbsp;</span>Read from folder</a></span></li></ul></li><li><span><a href=\"#Read-data-from-Text-files\" data-toc-modified-id=\"Read-data-from-Text-files-3\"><span class=\"toc-item-num\">3&nbsp;&nbsp;</span>Read data from Text files</a></span></li></ul></div>"
   ]
  },
  {
   "cell_type": "markdown",
   "metadata": {},
   "source": [
    "# TASKS:\n",
    "    1 ) Read data from all csv file -> Dataframe \n",
    "    2 ) Read data from XMLs --> Dataframe\n",
    "    3 ) Read data from texts --> Dataframe "
   ]
  },
  {
   "cell_type": "code",
   "execution_count": 17,
   "metadata": {
    "ExecuteTime": {
     "end_time": "2018-09-23T16:47:50.817561Z",
     "start_time": "2018-09-23T16:47:50.813177Z"
    }
   },
   "outputs": [],
   "source": [
    "import pandas as pd\n",
    "from bs4 import BeautifulSoup as bs\n",
    "import xml.etree.ElementTree as ET\n",
    "import os"
   ]
  },
  {
   "cell_type": "markdown",
   "metadata": {},
   "source": [
    "## Read data from CSV\n",
    "The data folder is: \"./Data/CSV\"\n"
   ]
  },
  {
   "cell_type": "code",
   "execution_count": 18,
   "metadata": {
    "ExecuteTime": {
     "end_time": "2018-09-23T16:47:50.973833Z",
     "start_time": "2018-09-23T16:47:50.824467Z"
    },
    "scrolled": true
   },
   "outputs": [
    {
     "data": {
      "text/html": [
       "<div>\n",
       "<style scoped>\n",
       "    .dataframe tbody tr th:only-of-type {\n",
       "        vertical-align: middle;\n",
       "    }\n",
       "\n",
       "    .dataframe tbody tr th {\n",
       "        vertical-align: top;\n",
       "    }\n",
       "\n",
       "    .dataframe thead th {\n",
       "        text-align: right;\n",
       "    }\n",
       "</style>\n",
       "<table border=\"1\" class=\"dataframe\">\n",
       "  <thead>\n",
       "    <tr style=\"text-align: right;\">\n",
       "      <th></th>\n",
       "      <th>RespondentID</th>\n",
       "      <th>StartDate</th>\n",
       "      <th>EndDate</th>\n",
       "      <th>Country</th>\n",
       "      <th>AgeBeginCoding</th>\n",
       "      <th>Age</th>\n",
       "      <th>Gender</th>\n",
       "      <th>Education</th>\n",
       "      <th>DegreeFocus</th>\n",
       "      <th>LearnCodeUni</th>\n",
       "      <th>LearnCodeSelfTaught</th>\n",
       "      <th>LearnCodeAccelTrain</th>\n",
       "      <th>ProgrammingLang</th>\n",
       "      <th>CurrentRole</th>\n",
       "      <th>Industry</th>\n",
       "    </tr>\n",
       "  </thead>\n",
       "  <tbody>\n",
       "    <tr>\n",
       "      <td>0</td>\n",
       "      <td>6464453728</td>\n",
       "      <td>10/19/17 11:51</td>\n",
       "      <td>10/20/17 12:05</td>\n",
       "      <td>South Korea</td>\n",
       "      <td>16 - 20 years old</td>\n",
       "      <td>18 - 24 years old</td>\n",
       "      <td>Female</td>\n",
       "      <td>Some college</td>\n",
       "      <td>Computer Science</td>\n",
       "      <td>School or university</td>\n",
       "      <td>Self-taught (i.e. books, online)</td>\n",
       "      <td>NaN</td>\n",
       "      <td>C</td>\n",
       "      <td>Student</td>\n",
       "      <td>NaN</td>\n",
       "    </tr>\n",
       "    <tr>\n",
       "      <td>1</td>\n",
       "      <td>6478031510</td>\n",
       "      <td>10/26/17 6:18</td>\n",
       "      <td>10/26/17 7:49</td>\n",
       "      <td>Ukraine</td>\n",
       "      <td>16 - 20 years old</td>\n",
       "      <td>25 - 34 years old</td>\n",
       "      <td>Male</td>\n",
       "      <td>Post graduate degree (Masters, PhD)</td>\n",
       "      <td>Other STEM (science, technology, engineering, ...</td>\n",
       "      <td>School or university</td>\n",
       "      <td>Self-taught (i.e. books, online)</td>\n",
       "      <td>NaN</td>\n",
       "      <td>C</td>\n",
       "      <td>Software Test Engineer</td>\n",
       "      <td>Financial Services</td>\n",
       "    </tr>\n",
       "    <tr>\n",
       "      <td>2</td>\n",
       "      <td>6464392829</td>\n",
       "      <td>10/19/17 10:44</td>\n",
       "      <td>10/19/17 10:56</td>\n",
       "      <td>Malaysia</td>\n",
       "      <td>11 - 15 years old</td>\n",
       "      <td>12 - 18 years old</td>\n",
       "      <td>Female</td>\n",
       "      <td>Some college</td>\n",
       "      <td>Other STEM (science, technology, engineering, ...</td>\n",
       "      <td>School or university</td>\n",
       "      <td>NaN</td>\n",
       "      <td>Accelerated training (i.e. bootcamp)</td>\n",
       "      <td>C</td>\n",
       "      <td>Student</td>\n",
       "      <td>Education</td>\n",
       "    </tr>\n",
       "    <tr>\n",
       "      <td>3</td>\n",
       "      <td>6481629912</td>\n",
       "      <td>10/27/17 1:51</td>\n",
       "      <td>10/27/17 2:05</td>\n",
       "      <td>Curaçao</td>\n",
       "      <td>11 - 15 years old</td>\n",
       "      <td>12 - 18 years old</td>\n",
       "      <td>Male</td>\n",
       "      <td>College graduate</td>\n",
       "      <td>Computer Science</td>\n",
       "      <td>NaN</td>\n",
       "      <td>Self-taught (i.e. books, online)</td>\n",
       "      <td>NaN</td>\n",
       "      <td>C</td>\n",
       "      <td>Student</td>\n",
       "      <td>NaN</td>\n",
       "    </tr>\n",
       "    <tr>\n",
       "      <td>4</td>\n",
       "      <td>6488385057</td>\n",
       "      <td>10/31/17 11:46</td>\n",
       "      <td>10/31/17 11:59</td>\n",
       "      <td>NaN</td>\n",
       "      <td>16 - 20 years old</td>\n",
       "      <td>25 - 34 years old</td>\n",
       "      <td>Female</td>\n",
       "      <td>College graduate</td>\n",
       "      <td>NaN</td>\n",
       "      <td>School or university</td>\n",
       "      <td>Self-taught (i.e. books, online)</td>\n",
       "      <td>NaN</td>\n",
       "      <td>C</td>\n",
       "      <td>Front-end Developer</td>\n",
       "      <td>Technology</td>\n",
       "    </tr>\n",
       "    <tr>\n",
       "      <td>5</td>\n",
       "      <td>6463843138</td>\n",
       "      <td>10/19/17 3:02</td>\n",
       "      <td>10/19/17 3:18</td>\n",
       "      <td>United States</td>\n",
       "      <td>41 - 50 years old</td>\n",
       "      <td>35 - 44 years old</td>\n",
       "      <td>Male</td>\n",
       "      <td>College graduate</td>\n",
       "      <td>Computer Science</td>\n",
       "      <td>School or university</td>\n",
       "      <td>NaN</td>\n",
       "      <td>NaN</td>\n",
       "      <td>C</td>\n",
       "      <td>NaN</td>\n",
       "      <td>Technology</td>\n",
       "    </tr>\n",
       "    <tr>\n",
       "      <td>6</td>\n",
       "      <td>6458326054</td>\n",
       "      <td>10/17/17 3:18</td>\n",
       "      <td>10/17/17 3:33</td>\n",
       "      <td>United States</td>\n",
       "      <td>16 - 20 years old</td>\n",
       "      <td>45 - 54 years old</td>\n",
       "      <td>Male</td>\n",
       "      <td>Post graduate degree (Masters, PhD)</td>\n",
       "      <td>Computer Science</td>\n",
       "      <td>NaN</td>\n",
       "      <td>Self-taught (i.e. books, online)</td>\n",
       "      <td>NaN</td>\n",
       "      <td>C</td>\n",
       "      <td>Unemployed</td>\n",
       "      <td>Financial Services</td>\n",
       "    </tr>\n",
       "    <tr>\n",
       "      <td>7</td>\n",
       "      <td>6467198274</td>\n",
       "      <td>10/21/17 8:55</td>\n",
       "      <td>10/21/17 9:06</td>\n",
       "      <td>United States</td>\n",
       "      <td>16 - 20 years old</td>\n",
       "      <td>18 - 24 years old</td>\n",
       "      <td>Male</td>\n",
       "      <td>College graduate</td>\n",
       "      <td>Other STEM (science, technology, engineering, ...</td>\n",
       "      <td>School or university</td>\n",
       "      <td>NaN</td>\n",
       "      <td>NaN</td>\n",
       "      <td>C</td>\n",
       "      <td>NaN</td>\n",
       "      <td>Education</td>\n",
       "    </tr>\n",
       "    <tr>\n",
       "      <td>8</td>\n",
       "      <td>6477950548</td>\n",
       "      <td>10/26/17 7:03</td>\n",
       "      <td>10/26/17 7:12</td>\n",
       "      <td>Switzerland</td>\n",
       "      <td>16 - 20 years old</td>\n",
       "      <td>18 - 24 years old</td>\n",
       "      <td>Male</td>\n",
       "      <td>Post graduate degree (Masters, PhD)</td>\n",
       "      <td>Other STEM (science, technology, engineering, ...</td>\n",
       "      <td>NaN</td>\n",
       "      <td>Self-taught (i.e. books, online)</td>\n",
       "      <td>NaN</td>\n",
       "      <td>C</td>\n",
       "      <td>NaN</td>\n",
       "      <td>Technology</td>\n",
       "    </tr>\n",
       "    <tr>\n",
       "      <td>9</td>\n",
       "      <td>6477542461</td>\n",
       "      <td>10/26/17 4:23</td>\n",
       "      <td>10/26/17 4:30</td>\n",
       "      <td>Israel</td>\n",
       "      <td>16 - 20 years old</td>\n",
       "      <td>18 - 24 years old</td>\n",
       "      <td>Male</td>\n",
       "      <td>High school graduate</td>\n",
       "      <td>Computer Science</td>\n",
       "      <td>NaN</td>\n",
       "      <td>Self-taught (i.e. books, online)</td>\n",
       "      <td>NaN</td>\n",
       "      <td>C</td>\n",
       "      <td>Student</td>\n",
       "      <td>Security</td>\n",
       "    </tr>\n",
       "  </tbody>\n",
       "</table>\n",
       "</div>"
      ],
      "text/plain": [
       "   RespondentID       StartDate         EndDate        Country  \\\n",
       "0    6464453728  10/19/17 11:51  10/20/17 12:05    South Korea   \n",
       "1    6478031510   10/26/17 6:18   10/26/17 7:49        Ukraine   \n",
       "2    6464392829  10/19/17 10:44  10/19/17 10:56       Malaysia   \n",
       "3    6481629912   10/27/17 1:51   10/27/17 2:05        Curaçao   \n",
       "4    6488385057  10/31/17 11:46  10/31/17 11:59            NaN   \n",
       "5    6463843138   10/19/17 3:02   10/19/17 3:18  United States   \n",
       "6    6458326054   10/17/17 3:18   10/17/17 3:33  United States   \n",
       "7    6467198274   10/21/17 8:55   10/21/17 9:06  United States   \n",
       "8    6477950548   10/26/17 7:03   10/26/17 7:12    Switzerland   \n",
       "9    6477542461   10/26/17 4:23   10/26/17 4:30         Israel   \n",
       "\n",
       "      AgeBeginCoding                Age  Gender  \\\n",
       "0  16 - 20 years old  18 - 24 years old  Female   \n",
       "1  16 - 20 years old  25 - 34 years old    Male   \n",
       "2  11 - 15 years old  12 - 18 years old  Female   \n",
       "3  11 - 15 years old  12 - 18 years old    Male   \n",
       "4  16 - 20 years old  25 - 34 years old  Female   \n",
       "5  41 - 50 years old  35 - 44 years old    Male   \n",
       "6  16 - 20 years old  45 - 54 years old    Male   \n",
       "7  16 - 20 years old  18 - 24 years old    Male   \n",
       "8  16 - 20 years old  18 - 24 years old    Male   \n",
       "9  16 - 20 years old  18 - 24 years old    Male   \n",
       "\n",
       "                             Education  \\\n",
       "0                         Some college   \n",
       "1  Post graduate degree (Masters, PhD)   \n",
       "2                         Some college   \n",
       "3                     College graduate   \n",
       "4                     College graduate   \n",
       "5                     College graduate   \n",
       "6  Post graduate degree (Masters, PhD)   \n",
       "7                     College graduate   \n",
       "8  Post graduate degree (Masters, PhD)   \n",
       "9                 High school graduate   \n",
       "\n",
       "                                         DegreeFocus          LearnCodeUni  \\\n",
       "0                                   Computer Science  School or university   \n",
       "1  Other STEM (science, technology, engineering, ...  School or university   \n",
       "2  Other STEM (science, technology, engineering, ...  School or university   \n",
       "3                                   Computer Science                   NaN   \n",
       "4                                                NaN  School or university   \n",
       "5                                   Computer Science  School or university   \n",
       "6                                   Computer Science                   NaN   \n",
       "7  Other STEM (science, technology, engineering, ...  School or university   \n",
       "8  Other STEM (science, technology, engineering, ...                   NaN   \n",
       "9                                   Computer Science                   NaN   \n",
       "\n",
       "                LearnCodeSelfTaught                   LearnCodeAccelTrain  \\\n",
       "0  Self-taught (i.e. books, online)                                   NaN   \n",
       "1  Self-taught (i.e. books, online)                                   NaN   \n",
       "2                               NaN  Accelerated training (i.e. bootcamp)   \n",
       "3  Self-taught (i.e. books, online)                                   NaN   \n",
       "4  Self-taught (i.e. books, online)                                   NaN   \n",
       "5                               NaN                                   NaN   \n",
       "6  Self-taught (i.e. books, online)                                   NaN   \n",
       "7                               NaN                                   NaN   \n",
       "8  Self-taught (i.e. books, online)                                   NaN   \n",
       "9  Self-taught (i.e. books, online)                                   NaN   \n",
       "\n",
       "  ProgrammingLang             CurrentRole            Industry  \n",
       "0               C                 Student                 NaN  \n",
       "1               C  Software Test Engineer  Financial Services  \n",
       "2               C                 Student           Education  \n",
       "3               C                 Student                 NaN  \n",
       "4               C     Front-end Developer          Technology  \n",
       "5               C                     NaN          Technology  \n",
       "6               C              Unemployed  Financial Services  \n",
       "7               C                     NaN           Education  \n",
       "8               C                     NaN          Technology  \n",
       "9               C                 Student            Security  "
      ]
     },
     "execution_count": 18,
     "metadata": {},
     "output_type": "execute_result"
    }
   ],
   "source": [
    "file_path = \"./Data/CSV/HackerRank-Developer-Survey-2018-Values_short.csv\"\n",
    "df_csv = pd.read_csv(file_path,sep=',',index_col=None,encoding='utf-8')\n",
    "df_csv.head(10)"
   ]
  },
  {
   "cell_type": "markdown",
   "metadata": {},
   "source": [
    "## Read data from XMLs\n",
    "The data corpus can be found at: http://u.cs.biu.ac.il/~koppel/BlogCorpus.htm"
   ]
  },
  {
   "cell_type": "markdown",
   "metadata": {},
   "source": [
    "### Read one XML file:"
   ]
  },
  {
   "cell_type": "code",
   "execution_count": 19,
   "metadata": {
    "ExecuteTime": {
     "end_time": "2018-09-23T16:47:51.328640Z",
     "start_time": "2018-09-23T16:47:50.978583Z"
    },
    "scrolled": true
   },
   "outputs": [
    {
     "data": {
      "text/html": [
       "<div>\n",
       "<style scoped>\n",
       "    .dataframe tbody tr th:only-of-type {\n",
       "        vertical-align: middle;\n",
       "    }\n",
       "\n",
       "    .dataframe tbody tr th {\n",
       "        vertical-align: top;\n",
       "    }\n",
       "\n",
       "    .dataframe thead th {\n",
       "        text-align: right;\n",
       "    }\n",
       "</style>\n",
       "<table border=\"1\" class=\"dataframe\">\n",
       "  <thead>\n",
       "    <tr style=\"text-align: right;\">\n",
       "      <th></th>\n",
       "      <th>filename</th>\n",
       "      <th>date</th>\n",
       "      <th>post</th>\n",
       "    </tr>\n",
       "  </thead>\n",
       "  <tbody>\n",
       "    <tr>\n",
       "      <td>0</td>\n",
       "      <td>100812.female.26.Architecture.Aries</td>\n",
       "      <td>23,July,2003</td>\n",
       "      <td>[\\n\\n\\n\\n\\n       \\n\\n       Friday    My dear...</td>\n",
       "    </tr>\n",
       "    <tr>\n",
       "      <td>1</td>\n",
       "      <td>100812.female.26.Architecture.Aries</td>\n",
       "      <td>14,July,2003</td>\n",
       "      <td>[\\n\\n\\n\\n\\n       \\n\\n      I had lunch with A...</td>\n",
       "    </tr>\n",
       "    <tr>\n",
       "      <td>2</td>\n",
       "      <td>100812.female.26.Architecture.Aries</td>\n",
       "      <td>13,July,2003</td>\n",
       "      <td>[\\n\\n\\n\\n\\n       \\n\\n      To answer Fay's qu...</td>\n",
       "    </tr>\n",
       "    <tr>\n",
       "      <td>3</td>\n",
       "      <td>100812.female.26.Architecture.Aries</td>\n",
       "      <td>11,July,2003</td>\n",
       "      <td>[\\n\\n\\n\\n\\n       \\n\\n      Yesterday night Ma...</td>\n",
       "    </tr>\n",
       "    <tr>\n",
       "      <td>4</td>\n",
       "      <td>100812.female.26.Architecture.Aries</td>\n",
       "      <td>11,July,2003</td>\n",
       "      <td>[\\n\\n\\n\\n\\n       \\n\\n      As mentioned right...</td>\n",
       "    </tr>\n",
       "    <tr>\n",
       "      <td>5</td>\n",
       "      <td>100812.female.26.Architecture.Aries</td>\n",
       "      <td>08,July,2003</td>\n",
       "      <td>[\\n\\n\\n\\n\\n       \\n\\n      Yesterday Uman sho...</td>\n",
       "    </tr>\n",
       "    <tr>\n",
       "      <td>6</td>\n",
       "      <td>100812.female.26.Architecture.Aries</td>\n",
       "      <td>08,July,2003</td>\n",
       "      <td>[\\n\\n\\n\\n\\n       \\n\\n      Rani has been feel...</td>\n",
       "    </tr>\n",
       "    <tr>\n",
       "      <td>7</td>\n",
       "      <td>100812.female.26.Architecture.Aries</td>\n",
       "      <td>07,July,2003</td>\n",
       "      <td>[\\n\\n\\n\\n\\n       \\n\\n      We all received an...</td>\n",
       "    </tr>\n",
       "    <tr>\n",
       "      <td>8</td>\n",
       "      <td>100812.female.26.Architecture.Aries</td>\n",
       "      <td>07,July,2003</td>\n",
       "      <td>[\\n\\n\\n\\n\\n       \\n\\n      masindi tes..\\n\\n ...</td>\n",
       "    </tr>\n",
       "    <tr>\n",
       "      <td>9</td>\n",
       "      <td>100812.female.26.Architecture.Aries</td>\n",
       "      <td>04,August,2003</td>\n",
       "      <td>[\\n\\n\\n\\n\\n       \\n\\n      This all happened ...</td>\n",
       "    </tr>\n",
       "  </tbody>\n",
       "</table>\n",
       "</div>"
      ],
      "text/plain": [
       "                              filename            date  \\\n",
       "0  100812.female.26.Architecture.Aries    23,July,2003   \n",
       "1  100812.female.26.Architecture.Aries    14,July,2003   \n",
       "2  100812.female.26.Architecture.Aries    13,July,2003   \n",
       "3  100812.female.26.Architecture.Aries    11,July,2003   \n",
       "4  100812.female.26.Architecture.Aries    11,July,2003   \n",
       "5  100812.female.26.Architecture.Aries    08,July,2003   \n",
       "6  100812.female.26.Architecture.Aries    08,July,2003   \n",
       "7  100812.female.26.Architecture.Aries    07,July,2003   \n",
       "8  100812.female.26.Architecture.Aries    07,July,2003   \n",
       "9  100812.female.26.Architecture.Aries  04,August,2003   \n",
       "\n",
       "                                                post  \n",
       "0  [\\n\\n\\n\\n\\n       \\n\\n       Friday    My dear...  \n",
       "1  [\\n\\n\\n\\n\\n       \\n\\n      I had lunch with A...  \n",
       "2  [\\n\\n\\n\\n\\n       \\n\\n      To answer Fay's qu...  \n",
       "3  [\\n\\n\\n\\n\\n       \\n\\n      Yesterday night Ma...  \n",
       "4  [\\n\\n\\n\\n\\n       \\n\\n      As mentioned right...  \n",
       "5  [\\n\\n\\n\\n\\n       \\n\\n      Yesterday Uman sho...  \n",
       "6  [\\n\\n\\n\\n\\n       \\n\\n      Rani has been feel...  \n",
       "7  [\\n\\n\\n\\n\\n       \\n\\n      We all received an...  \n",
       "8  [\\n\\n\\n\\n\\n       \\n\\n      masindi tes..\\n\\n ...  \n",
       "9  [\\n\\n\\n\\n\\n       \\n\\n      This all happened ...  "
      ]
     },
     "execution_count": 19,
     "metadata": {},
     "output_type": "execute_result"
    }
   ],
   "source": [
    "from bs4 import BeautifulSoup as bs\n",
    "import os\n",
    "\n",
    "file_path = u\"./data/XML/100812.female.26.Architecture.Aries.xml\"\n",
    "df2 = pd.DataFrame([])\n",
    "\n",
    "with open(file_path,'rb') as fp:\n",
    "    soup = bs(fp,'xml', from_encoding=\"latin\")\n",
    "    # get name\n",
    "    _name = (os.path.basename(fp.name).split('.xml')[0])\n",
    "    l_name = [_name] * len(soup.findAll('date'))\n",
    "#     print(len(l_name))\n",
    "    \n",
    "    # get date\n",
    "    l_date = []\n",
    "    for _date in soup.findAll('date'):\n",
    "        l_date.append(_date.contents[0])\n",
    "#     print(len(l_date))\n",
    "    \n",
    "    # get post\n",
    "    l_post = []\n",
    "    for _post in soup.findAll('post'):\n",
    "        l_post.append(_post.contents)\n",
    "#     print(len(l_post))\n",
    "\n",
    "    ## add to dataframe:\n",
    "    df2['filename'] = l_name\n",
    "    df2['date'] = l_date\n",
    "    df2['post'] = l_post\n",
    "    \n",
    "df2.head(10)"
   ]
  },
  {
   "cell_type": "code",
   "execution_count": 20,
   "metadata": {
    "ExecuteTime": {
     "end_time": "2018-09-23T16:47:51.364130Z",
     "start_time": "2018-09-23T16:47:51.332492Z"
    }
   },
   "outputs": [
    {
     "data": {
      "text/html": [
       "<div>\n",
       "<style scoped>\n",
       "    .dataframe tbody tr th:only-of-type {\n",
       "        vertical-align: middle;\n",
       "    }\n",
       "\n",
       "    .dataframe tbody tr th {\n",
       "        vertical-align: top;\n",
       "    }\n",
       "\n",
       "    .dataframe thead th {\n",
       "        text-align: right;\n",
       "    }\n",
       "</style>\n",
       "<table border=\"1\" class=\"dataframe\">\n",
       "  <thead>\n",
       "    <tr style=\"text-align: right;\">\n",
       "      <th></th>\n",
       "      <th>filename</th>\n",
       "      <th>date</th>\n",
       "      <th>post</th>\n",
       "      <th>id</th>\n",
       "      <th>gender</th>\n",
       "      <th>age</th>\n",
       "      <th>industry</th>\n",
       "      <th>horoscopes</th>\n",
       "    </tr>\n",
       "  </thead>\n",
       "  <tbody>\n",
       "    <tr>\n",
       "      <td>0</td>\n",
       "      <td>100812.female.26.Architecture.Aries</td>\n",
       "      <td>23,July,2003</td>\n",
       "      <td>[\\n\\n\\n\\n\\n       \\n\\n       Friday    My dear...</td>\n",
       "      <td>100812</td>\n",
       "      <td>female</td>\n",
       "      <td>26</td>\n",
       "      <td>Architecture</td>\n",
       "      <td>Aries</td>\n",
       "    </tr>\n",
       "    <tr>\n",
       "      <td>1</td>\n",
       "      <td>100812.female.26.Architecture.Aries</td>\n",
       "      <td>14,July,2003</td>\n",
       "      <td>[\\n\\n\\n\\n\\n       \\n\\n      I had lunch with A...</td>\n",
       "      <td>100812</td>\n",
       "      <td>female</td>\n",
       "      <td>26</td>\n",
       "      <td>Architecture</td>\n",
       "      <td>Aries</td>\n",
       "    </tr>\n",
       "    <tr>\n",
       "      <td>2</td>\n",
       "      <td>100812.female.26.Architecture.Aries</td>\n",
       "      <td>13,July,2003</td>\n",
       "      <td>[\\n\\n\\n\\n\\n       \\n\\n      To answer Fay's qu...</td>\n",
       "      <td>100812</td>\n",
       "      <td>female</td>\n",
       "      <td>26</td>\n",
       "      <td>Architecture</td>\n",
       "      <td>Aries</td>\n",
       "    </tr>\n",
       "    <tr>\n",
       "      <td>3</td>\n",
       "      <td>100812.female.26.Architecture.Aries</td>\n",
       "      <td>11,July,2003</td>\n",
       "      <td>[\\n\\n\\n\\n\\n       \\n\\n      Yesterday night Ma...</td>\n",
       "      <td>100812</td>\n",
       "      <td>female</td>\n",
       "      <td>26</td>\n",
       "      <td>Architecture</td>\n",
       "      <td>Aries</td>\n",
       "    </tr>\n",
       "    <tr>\n",
       "      <td>4</td>\n",
       "      <td>100812.female.26.Architecture.Aries</td>\n",
       "      <td>11,July,2003</td>\n",
       "      <td>[\\n\\n\\n\\n\\n       \\n\\n      As mentioned right...</td>\n",
       "      <td>100812</td>\n",
       "      <td>female</td>\n",
       "      <td>26</td>\n",
       "      <td>Architecture</td>\n",
       "      <td>Aries</td>\n",
       "    </tr>\n",
       "    <tr>\n",
       "      <td>5</td>\n",
       "      <td>100812.female.26.Architecture.Aries</td>\n",
       "      <td>08,July,2003</td>\n",
       "      <td>[\\n\\n\\n\\n\\n       \\n\\n      Yesterday Uman sho...</td>\n",
       "      <td>100812</td>\n",
       "      <td>female</td>\n",
       "      <td>26</td>\n",
       "      <td>Architecture</td>\n",
       "      <td>Aries</td>\n",
       "    </tr>\n",
       "    <tr>\n",
       "      <td>6</td>\n",
       "      <td>100812.female.26.Architecture.Aries</td>\n",
       "      <td>08,July,2003</td>\n",
       "      <td>[\\n\\n\\n\\n\\n       \\n\\n      Rani has been feel...</td>\n",
       "      <td>100812</td>\n",
       "      <td>female</td>\n",
       "      <td>26</td>\n",
       "      <td>Architecture</td>\n",
       "      <td>Aries</td>\n",
       "    </tr>\n",
       "    <tr>\n",
       "      <td>7</td>\n",
       "      <td>100812.female.26.Architecture.Aries</td>\n",
       "      <td>07,July,2003</td>\n",
       "      <td>[\\n\\n\\n\\n\\n       \\n\\n      We all received an...</td>\n",
       "      <td>100812</td>\n",
       "      <td>female</td>\n",
       "      <td>26</td>\n",
       "      <td>Architecture</td>\n",
       "      <td>Aries</td>\n",
       "    </tr>\n",
       "    <tr>\n",
       "      <td>8</td>\n",
       "      <td>100812.female.26.Architecture.Aries</td>\n",
       "      <td>07,July,2003</td>\n",
       "      <td>[\\n\\n\\n\\n\\n       \\n\\n      masindi tes..\\n\\n ...</td>\n",
       "      <td>100812</td>\n",
       "      <td>female</td>\n",
       "      <td>26</td>\n",
       "      <td>Architecture</td>\n",
       "      <td>Aries</td>\n",
       "    </tr>\n",
       "    <tr>\n",
       "      <td>9</td>\n",
       "      <td>100812.female.26.Architecture.Aries</td>\n",
       "      <td>04,August,2003</td>\n",
       "      <td>[\\n\\n\\n\\n\\n       \\n\\n      This all happened ...</td>\n",
       "      <td>100812</td>\n",
       "      <td>female</td>\n",
       "      <td>26</td>\n",
       "      <td>Architecture</td>\n",
       "      <td>Aries</td>\n",
       "    </tr>\n",
       "  </tbody>\n",
       "</table>\n",
       "</div>"
      ],
      "text/plain": [
       "                              filename            date  \\\n",
       "0  100812.female.26.Architecture.Aries    23,July,2003   \n",
       "1  100812.female.26.Architecture.Aries    14,July,2003   \n",
       "2  100812.female.26.Architecture.Aries    13,July,2003   \n",
       "3  100812.female.26.Architecture.Aries    11,July,2003   \n",
       "4  100812.female.26.Architecture.Aries    11,July,2003   \n",
       "5  100812.female.26.Architecture.Aries    08,July,2003   \n",
       "6  100812.female.26.Architecture.Aries    08,July,2003   \n",
       "7  100812.female.26.Architecture.Aries    07,July,2003   \n",
       "8  100812.female.26.Architecture.Aries    07,July,2003   \n",
       "9  100812.female.26.Architecture.Aries  04,August,2003   \n",
       "\n",
       "                                                post      id  gender age  \\\n",
       "0  [\\n\\n\\n\\n\\n       \\n\\n       Friday    My dear...  100812  female  26   \n",
       "1  [\\n\\n\\n\\n\\n       \\n\\n      I had lunch with A...  100812  female  26   \n",
       "2  [\\n\\n\\n\\n\\n       \\n\\n      To answer Fay's qu...  100812  female  26   \n",
       "3  [\\n\\n\\n\\n\\n       \\n\\n      Yesterday night Ma...  100812  female  26   \n",
       "4  [\\n\\n\\n\\n\\n       \\n\\n      As mentioned right...  100812  female  26   \n",
       "5  [\\n\\n\\n\\n\\n       \\n\\n      Yesterday Uman sho...  100812  female  26   \n",
       "6  [\\n\\n\\n\\n\\n       \\n\\n      Rani has been feel...  100812  female  26   \n",
       "7  [\\n\\n\\n\\n\\n       \\n\\n      We all received an...  100812  female  26   \n",
       "8  [\\n\\n\\n\\n\\n       \\n\\n      masindi tes..\\n\\n ...  100812  female  26   \n",
       "9  [\\n\\n\\n\\n\\n       \\n\\n      This all happened ...  100812  female  26   \n",
       "\n",
       "       industry horoscopes  \n",
       "0  Architecture      Aries  \n",
       "1  Architecture      Aries  \n",
       "2  Architecture      Aries  \n",
       "3  Architecture      Aries  \n",
       "4  Architecture      Aries  \n",
       "5  Architecture      Aries  \n",
       "6  Architecture      Aries  \n",
       "7  Architecture      Aries  \n",
       "8  Architecture      Aries  \n",
       "9  Architecture      Aries  "
      ]
     },
     "execution_count": 20,
     "metadata": {},
     "output_type": "execute_result"
    }
   ],
   "source": [
    "## Split name into features\n",
    "df2['id'], df2['gender'], df2['age'],df2['industry'],df2['horoscopes'] = df2['filename'].str.split('.').str\n",
    "df2.head(10)"
   ]
  },
  {
   "cell_type": "code",
   "execution_count": 21,
   "metadata": {
    "ExecuteTime": {
     "end_time": "2018-09-23T16:47:51.735473Z",
     "start_time": "2018-09-23T16:47:51.367586Z"
    }
   },
   "outputs": [
    {
     "data": {
      "text/html": [
       "<div>\n",
       "<style scoped>\n",
       "    .dataframe tbody tr th:only-of-type {\n",
       "        vertical-align: middle;\n",
       "    }\n",
       "\n",
       "    .dataframe tbody tr th {\n",
       "        vertical-align: top;\n",
       "    }\n",
       "\n",
       "    .dataframe thead th {\n",
       "        text-align: right;\n",
       "    }\n",
       "</style>\n",
       "<table border=\"1\" class=\"dataframe\">\n",
       "  <thead>\n",
       "    <tr style=\"text-align: right;\">\n",
       "      <th></th>\n",
       "      <th>filename</th>\n",
       "      <th>date</th>\n",
       "      <th>post</th>\n",
       "      <th>id</th>\n",
       "      <th>gender</th>\n",
       "      <th>age</th>\n",
       "      <th>industry</th>\n",
       "      <th>horoscopes</th>\n",
       "    </tr>\n",
       "  </thead>\n",
       "  <tbody>\n",
       "    <tr>\n",
       "      <td>0</td>\n",
       "      <td>100812.female.26.Architecture.Aries</td>\n",
       "      <td>23,July,2003</td>\n",
       "      <td>[\\n\\n\\n\\n\\n       \\n\\n       Friday    My dear...</td>\n",
       "      <td>100812</td>\n",
       "      <td>female</td>\n",
       "      <td>26</td>\n",
       "      <td>Architecture</td>\n",
       "      <td>Aries</td>\n",
       "    </tr>\n",
       "    <tr>\n",
       "      <td>1</td>\n",
       "      <td>100812.female.26.Architecture.Aries</td>\n",
       "      <td>14,July,2003</td>\n",
       "      <td>[\\n\\n\\n\\n\\n       \\n\\n      I had lunch with A...</td>\n",
       "      <td>100812</td>\n",
       "      <td>female</td>\n",
       "      <td>26</td>\n",
       "      <td>Architecture</td>\n",
       "      <td>Aries</td>\n",
       "    </tr>\n",
       "    <tr>\n",
       "      <td>2</td>\n",
       "      <td>100812.female.26.Architecture.Aries</td>\n",
       "      <td>13,July,2003</td>\n",
       "      <td>[\\n\\n\\n\\n\\n       \\n\\n      To answer Fay's qu...</td>\n",
       "      <td>100812</td>\n",
       "      <td>female</td>\n",
       "      <td>26</td>\n",
       "      <td>Architecture</td>\n",
       "      <td>Aries</td>\n",
       "    </tr>\n",
       "    <tr>\n",
       "      <td>3</td>\n",
       "      <td>100812.female.26.Architecture.Aries</td>\n",
       "      <td>11,July,2003</td>\n",
       "      <td>[\\n\\n\\n\\n\\n       \\n\\n      Yesterday night Ma...</td>\n",
       "      <td>100812</td>\n",
       "      <td>female</td>\n",
       "      <td>26</td>\n",
       "      <td>Architecture</td>\n",
       "      <td>Aries</td>\n",
       "    </tr>\n",
       "    <tr>\n",
       "      <td>4</td>\n",
       "      <td>100812.female.26.Architecture.Aries</td>\n",
       "      <td>11,July,2003</td>\n",
       "      <td>[\\n\\n\\n\\n\\n       \\n\\n      As mentioned right...</td>\n",
       "      <td>100812</td>\n",
       "      <td>female</td>\n",
       "      <td>26</td>\n",
       "      <td>Architecture</td>\n",
       "      <td>Aries</td>\n",
       "    </tr>\n",
       "    <tr>\n",
       "      <td>5</td>\n",
       "      <td>100812.female.26.Architecture.Aries</td>\n",
       "      <td>08,July,2003</td>\n",
       "      <td>[\\n\\n\\n\\n\\n       \\n\\n      Yesterday Uman sho...</td>\n",
       "      <td>100812</td>\n",
       "      <td>female</td>\n",
       "      <td>26</td>\n",
       "      <td>Architecture</td>\n",
       "      <td>Aries</td>\n",
       "    </tr>\n",
       "    <tr>\n",
       "      <td>6</td>\n",
       "      <td>100812.female.26.Architecture.Aries</td>\n",
       "      <td>08,July,2003</td>\n",
       "      <td>[\\n\\n\\n\\n\\n       \\n\\n      Rani has been feel...</td>\n",
       "      <td>100812</td>\n",
       "      <td>female</td>\n",
       "      <td>26</td>\n",
       "      <td>Architecture</td>\n",
       "      <td>Aries</td>\n",
       "    </tr>\n",
       "    <tr>\n",
       "      <td>7</td>\n",
       "      <td>100812.female.26.Architecture.Aries</td>\n",
       "      <td>07,July,2003</td>\n",
       "      <td>[\\n\\n\\n\\n\\n       \\n\\n      We all received an...</td>\n",
       "      <td>100812</td>\n",
       "      <td>female</td>\n",
       "      <td>26</td>\n",
       "      <td>Architecture</td>\n",
       "      <td>Aries</td>\n",
       "    </tr>\n",
       "    <tr>\n",
       "      <td>8</td>\n",
       "      <td>100812.female.26.Architecture.Aries</td>\n",
       "      <td>07,July,2003</td>\n",
       "      <td>[\\n\\n\\n\\n\\n       \\n\\n      masindi tes..\\n\\n ...</td>\n",
       "      <td>100812</td>\n",
       "      <td>female</td>\n",
       "      <td>26</td>\n",
       "      <td>Architecture</td>\n",
       "      <td>Aries</td>\n",
       "    </tr>\n",
       "    <tr>\n",
       "      <td>9</td>\n",
       "      <td>100812.female.26.Architecture.Aries</td>\n",
       "      <td>04,August,2003</td>\n",
       "      <td>[\\n\\n\\n\\n\\n       \\n\\n      This all happened ...</td>\n",
       "      <td>100812</td>\n",
       "      <td>female</td>\n",
       "      <td>26</td>\n",
       "      <td>Architecture</td>\n",
       "      <td>Aries</td>\n",
       "    </tr>\n",
       "  </tbody>\n",
       "</table>\n",
       "</div>"
      ],
      "text/plain": [
       "                              filename            date  \\\n",
       "0  100812.female.26.Architecture.Aries    23,July,2003   \n",
       "1  100812.female.26.Architecture.Aries    14,July,2003   \n",
       "2  100812.female.26.Architecture.Aries    13,July,2003   \n",
       "3  100812.female.26.Architecture.Aries    11,July,2003   \n",
       "4  100812.female.26.Architecture.Aries    11,July,2003   \n",
       "5  100812.female.26.Architecture.Aries    08,July,2003   \n",
       "6  100812.female.26.Architecture.Aries    08,July,2003   \n",
       "7  100812.female.26.Architecture.Aries    07,July,2003   \n",
       "8  100812.female.26.Architecture.Aries    07,July,2003   \n",
       "9  100812.female.26.Architecture.Aries  04,August,2003   \n",
       "\n",
       "                                                post      id  gender age  \\\n",
       "0  [\\n\\n\\n\\n\\n       \\n\\n       Friday    My dear...  100812  female  26   \n",
       "1  [\\n\\n\\n\\n\\n       \\n\\n      I had lunch with A...  100812  female  26   \n",
       "2  [\\n\\n\\n\\n\\n       \\n\\n      To answer Fay's qu...  100812  female  26   \n",
       "3  [\\n\\n\\n\\n\\n       \\n\\n      Yesterday night Ma...  100812  female  26   \n",
       "4  [\\n\\n\\n\\n\\n       \\n\\n      As mentioned right...  100812  female  26   \n",
       "5  [\\n\\n\\n\\n\\n       \\n\\n      Yesterday Uman sho...  100812  female  26   \n",
       "6  [\\n\\n\\n\\n\\n       \\n\\n      Rani has been feel...  100812  female  26   \n",
       "7  [\\n\\n\\n\\n\\n       \\n\\n      We all received an...  100812  female  26   \n",
       "8  [\\n\\n\\n\\n\\n       \\n\\n      masindi tes..\\n\\n ...  100812  female  26   \n",
       "9  [\\n\\n\\n\\n\\n       \\n\\n      This all happened ...  100812  female  26   \n",
       "\n",
       "       industry horoscopes  \n",
       "0  Architecture      Aries  \n",
       "1  Architecture      Aries  \n",
       "2  Architecture      Aries  \n",
       "3  Architecture      Aries  \n",
       "4  Architecture      Aries  \n",
       "5  Architecture      Aries  \n",
       "6  Architecture      Aries  \n",
       "7  Architecture      Aries  \n",
       "8  Architecture      Aries  \n",
       "9  Architecture      Aries  "
      ]
     },
     "execution_count": 21,
     "metadata": {},
     "output_type": "execute_result"
    }
   ],
   "source": [
    "## define function to read one file\n",
    "def readoneXML(file_path):\n",
    "    from bs4 import BeautifulSoup as bs\n",
    "    import os\n",
    "    df = pd.DataFrame([])\n",
    "\n",
    "    with open(file_path,'rb') as fp:\n",
    "        # get name\n",
    "        soup = bs(fp,'xml', from_encoding=\"latin\")\n",
    "        _name = (os.path.basename(fp.name).split('.xml')[0])\n",
    "        l_name = [_name] * len(soup.findAll('date'))\n",
    "        \n",
    "        # get date\n",
    "        l_date = []\n",
    "        for _date in soup.findAll('date'):\n",
    "            l_date.append(_date.contents[0])\n",
    "        \n",
    "        # get post\n",
    "        l_post = []\n",
    "        for _post in soup.findAll('post'):\n",
    "            l_post.append(_post.contents)\n",
    "            \n",
    "        ## add to dataframe:\n",
    "        df['filename'] = l_name\n",
    "        df['date'] = l_date\n",
    "        df['post'] = l_post\n",
    "        \n",
    "        ## Split\n",
    "        df['id'], df['gender'], df['age'],df['industry'],df['horoscopes'] = df['filename'].str.split('.').str\n",
    "        \n",
    "    return df\n",
    "\n",
    "## Check the functions:\n",
    "del df2\n",
    "df_xml = readoneXML(file_path)\n",
    "df_xml.head(10)"
   ]
  },
  {
   "cell_type": "markdown",
   "metadata": {},
   "source": [
    "### Read from folder"
   ]
  },
  {
   "cell_type": "code",
   "execution_count": 22,
   "metadata": {
    "ExecuteTime": {
     "end_time": "2018-09-23T16:49:33.296531Z",
     "start_time": "2018-09-23T16:47:51.738933Z"
    },
    "scrolled": true
   },
   "outputs": [
    {
     "name": "stdout",
     "output_type": "stream",
     "text": [
      "Adding: ./Data/XML/100812.female.26.Architecture.Aries.xml\n",
      "Adding: ./Data/XML/105748.female.26.Student.Scorpio.xml\n",
      "Adding: ./Data/XML/106160.female.27.Student.Sagittarius.xml\n",
      "Adding: ./Data/XML/106651.male.25.indUnk.Leo.xml\n",
      "Adding: ./Data/XML/106738.male.25.Internet.Leo.xml\n",
      "Adding: ./Data/XML/108212.female.27.Student.Taurus.xml\n",
      "Adding: ./Data/XML/108780.female.25.indUnk.Leo.xml\n",
      "Adding: ./Data/XML/109656.male.36.LawEnforcement-Security.Pisces.xml\n",
      "Adding: ./Data/XML/110854.male.25.indUnk.Virgo.xml\n",
      "Adding: ./Data/XML/112265.female.23.indUnk.Taurus.xml\n",
      "Adding: ./Data/XML/11253.male.26.Technology.Aquarius.xml\n",
      "Adding: ./Data/XML/113390.male.24.Museums-Libraries.Gemini.xml\n",
      "Adding: ./Data/XML/114645.male.17.Student.Virgo.xml\n",
      "Adding: ./Data/XML/11762.female.25.Student.Aries.xml\n",
      "Adding: ./Data/XML/118791.male.33.Internet.Virgo.xml\n",
      "Adding: ./Data/XML/122217.male.37.indUnk.Leo.xml\n",
      "Adding: ./Data/XML/123532.male.39.Advertising.Aries.xml\n",
      "Adding: ./Data/XML/129253.female.26.HumanResources.Cancer.xml\n",
      "Adding: ./Data/XML/132808.male.24.Technology.Gemini.xml\n",
      "Adding: ./Data/XML/132894.female.26.indUnk.Aries.xml\n",
      "Adding: ./Data/XML/133604.female.23.indUnk.Capricorn.xml\n",
      "Adding: ./Data/XML/135888.male.23.Banking.Libra.xml\n",
      "Adding: ./Data/XML/137626.male.24.indUnk.Gemini.xml\n",
      "Adding: ./Data/XML/141799.female.25.Advertising.Pisces.xml\n",
      "Adding: ./Data/XML/143781.female.25.Education.Aries.xml\n",
      "Adding: ./Data/XML/148638.male.36.Technology.Sagittarius.xml\n",
      "Adding: ./Data/XML/151025.female.24.HumanResources.Pisces.xml\n",
      "Adding: ./Data/XML/151688.male.27.Communications-Media.Cancer.xml\n",
      "Adding: ./Data/XML/152088.female.25.Communications-Media.Aquarius.xml\n",
      "Adding: ./Data/XML/152151.female.23.Engineering.Libra.xml\n",
      "Adding: ./Data/XML/15365.female.34.indUnk.Cancer.xml\n",
      "Adding: ./Data/XML/154141.male.24.Internet.Aries.xml\n",
      "Adding: ./Data/XML/155710.male.23.indUnk.Cancer.xml\n",
      "Adding: ./Data/XML/167518.male.26.Non-Profit.Scorpio.xml\n",
      "Adding: ./Data/XML/171019.female.23.Education.Leo.xml\n",
      "Adding: ./Data/XML/171591.male.36.Arts.Capricorn.xml\n",
      "Adding: ./Data/XML/172224.male.38.Internet.Scorpio.xml\n",
      "Adding: ./Data/XML/174357.female.23.indUnk.Aquarius.xml\n",
      "Adding: ./Data/XML/17944.female.39.indUnk.Sagittarius.xml\n",
      "Adding: ./Data/XML/180519.female.23.indUnk.Cancer.xml\n",
      "Adding: ./Data/XML/182037.female.23.Internet.Aries.xml\n",
      "Adding: ./Data/XML/182779.female.27.Internet.Sagittarius.xml\n",
      "Adding: ./Data/XML/183163.male.27.Arts.Sagittarius.xml\n",
      "Adding: ./Data/XML/183164.female.27.indUnk.Taurus.xml\n",
      "Adding: ./Data/XML/185962.male.35.Publishing.Sagittarius.xml\n",
      "Adding: ./Data/XML/189575.female.23.indUnk.Libra.xml\n",
      "Adding: ./Data/XML/192591.female.27.Education.Cancer.xml\n",
      "Adding: ./Data/XML/192731.male.24.indUnk.Leo.xml\n",
      "Adding: ./Data/XML/192879.female.26.Arts.Scorpio.xml\n",
      "Adding: ./Data/XML/194219.male.27.Communications-Media.Leo.xml\n",
      "Adding: ./Data/XML/195160.female.36.Non-Profit.Virgo.xml\n",
      "Adding: ./Data/XML/195585.female.25.Sports-Recreation.Scorpio.xml\n",
      "Adding: ./Data/XML/202334.male.17.indUnk.Aquarius.xml\n",
      "Adding: ./Data/XML/206222.male.24.indUnk.Aries.xml\n",
      "Adding: ./Data/XML/206770.male.24.Engineering.Scorpio.xml\n",
      "Adding: ./Data/XML/207255.male.40.indUnk.Virgo.xml\n",
      "Adding: ./Data/XML/207307.male.36.indUnk.Cancer.xml\n",
      "Adding: ./Data/XML/207762.male.44.Internet.Libra.xml\n",
      "Adding: ./Data/XML/207842.male.34.indUnk.Taurus.xml\n",
      "Adding: ./Data/XML/208684.female.23.Publishing.Capricorn.xml\n",
      "Adding: ./Data/XML/21828.male.40.Internet.Cancer.xml\n",
      "Adding: ./Data/XML/23166.female.25.indUnk.Virgo.xml\n",
      "Adding: ./Data/XML/23191.female.23.Advertising.Taurus.xml\n",
      "Adding: ./Data/XML/23676.male.33.Technology.Scorpio.xml\n",
      "Adding: ./Data/XML/24336.male.24.Technology.Leo.xml\n",
      "Adding: ./Data/XML/26357.male.27.indUnk.Leo.xml\n",
      "Adding: ./Data/XML/27603.male.24.Advertising.Sagittarius.xml\n",
      "Adding: ./Data/XML/28417.female.24.Arts.Capricorn.xml\n",
      "Adding: ./Data/XML/28451.male.27.Internet.Aquarius.xml\n",
      "Adding: ./Data/XML/40964.female.23.RealEstate.Leo.xml\n",
      "Adding: ./Data/XML/46465.male.25.Internet.Virgo.xml\n",
      "Adding: ./Data/XML/47519.male.23.Communications-Media.Sagittarius.xml\n",
      "Adding: ./Data/XML/48428.female.34.indUnk.Aquarius.xml\n",
      "Adding: ./Data/XML/48923.female.23.Student.Virgo.xml\n",
      "Adding: ./Data/XML/49663.male.33.indUnk.Taurus.xml\n",
      "Adding: ./Data/XML/5114.male.25.indUnk.Scorpio.xml\n",
      "Adding: ./Data/XML/61176.male.33.Technology.Capricorn.xml\n",
      "Adding: ./Data/XML/63420.male.40.Education.Leo.xml\n",
      "Adding: ./Data/XML/64145.male.36.Military.Taurus.xml\n",
      "Adding: ./Data/XML/66895.female.25.Technology.Virgo.xml\n",
      "Adding: ./Data/XML/67459.male.34.Arts.Capricorn.xml\n",
      "Adding: ./Data/XML/71075.female.24.Student.Sagittarius.xml\n",
      "Adding: ./Data/XML/72355.male.27.indUnk.Leo.xml\n",
      "Adding: ./Data/XML/75671.male.36.Engineering.Aries.xml\n",
      "Adding: ./Data/XML/7596.male.26.Internet.Scorpio.xml\n",
      "Adding: ./Data/XML/76211.female.27.Internet.Gemini.xml\n",
      "Adding: ./Data/XML/78196.female.35.indUnk.Aries.xml\n",
      "Adding: ./Data/XML/8173.male.42.indUnk.Capricorn.xml\n",
      "Adding: ./Data/XML/8349.male.24.Consulting.Cancer.xml\n",
      "Adding: ./Data/XML/85757.male.24.Marketing.Libra.xml\n",
      "Adding: ./Data/XML/90637.female.36.InvestmentBanking.Gemini.xml\n",
      "Adding: ./Data/XML/91374.male.26.indUnk.Taurus.xml\n",
      "Adding: ./Data/XML/91888.male.36.Internet.Scorpio.xml\n",
      "Adding: ./Data/XML/9289.male.23.Marketing.Taurus.xml\n",
      "Adding: ./Data/XML/9470.male.25.Communications-Media.Aries.xml\n",
      "Adding: ./Data/XML/95161.male.39.indUnk.Capricorn.xml\n",
      "Adding: ./Data/XML/96600.female.27.Construction.Virgo.xml\n",
      "Adding: ./Data/XML/97387.male.23.Arts.Sagittarius.xml\n",
      "Adding: ./Data/XML/99290.male.34.Internet.Sagittarius.xml\n",
      "Adding: ./Data/XML/99382.male.25.indUnk.Aquarius.xml\n"
     ]
    }
   ],
   "source": [
    "## Using the function read one xml, we can parse all folder into dataframe as:\n",
    "import os\n",
    "data_path = './Data/XML/'\n",
    "\n",
    "df_xml  = pd.DataFrame([])\n",
    "l_df =[]\n",
    "for root, directory, files in os.walk(data_path):\n",
    "    for file in files:\n",
    "        filepath = os.path.join(root,file)\n",
    "        print(\"Adding: \" + filepath)\n",
    "        _df = readoneXML(filepath)\n",
    "        df_xml = df_xml.append(_df, ignore_index=True)"
   ]
  },
  {
   "cell_type": "code",
   "execution_count": 23,
   "metadata": {
    "ExecuteTime": {
     "end_time": "2018-09-23T16:49:33.308181Z",
     "start_time": "2018-09-23T16:49:33.299126Z"
    }
   },
   "outputs": [
    {
     "data": {
      "text/plain": [
       "'\\n\\n\\n\\n\\n       \\n\\n       Friday    My dear wife was walking on her graduation day! Although the dude did not pronounce her name correctly, she managed to shake the older dude\\'s hand and then raised her arms to show victory to her parents sitting among the crowd! As you know, no other students would even dare to do that. The would only bow to the guests and that\\'s it! Yes, my wife is always full of life and joy. It was the day that marked another beginning of her life: a professional life as an Urban Designer! I recalled the day when she first came to NUS when we were living at the HDB flat. It was a bit hard for her to adjust to life in Singapore as compared to Hawaii, but after we managed to  urlLink get a place for ourselves  her energy skyrocketed. It\\'s amazing how much she has improved in her professionalism. ConGRADUATION to you, dear MicroWife!   PS: The commencement ceremony at NUS did not seem sacred. In fact, it looked very mechanical and different from most ceremonies. Rani\\'s dad was annoyed when he heard Majulah Singapura only played halfway! He said, \"It was a big day for students, why not just play it until it finished, rather than sampling it?\"      Saturday    We took a bus trip to Melaka with  urlLink Hasry Delima Express Bus  from Lavender-Kallang intersection. It costs SGD11 one way per head, relatively cheap knowing that it will take us halfway between Singapore and Kuala Lumpur. We arrived at 13:00 at the Melaka bus terminal and hired a taxi for RM10 to take us to  urlLink Baba House on Tun Tan Cheng Lock Street . Baba House is a historical shop house with 60 rooms inside a 200-year old structure. We managed to get one deluxe room for Rani\\'s parents and one standard room for us lovebirds. I really have so much to say about Melaka so why don\\'t you just  urlLink click here  or  urlLink here  to get a gist of it!    There will always be festival market going on Jalan Hang Jebat on Friday, Saturday and Sunday nights. You could get putu, grilled dried sotong, sugar cane juice, at half the cost you would have to pay in Singapore (while the taste quality will be doubled on every food you eat here!).       Sunday    We woke up around 0800 and ate breakfast at the Baba House hotel, free breakfast if you danced Macarena just before you checked-in. After we checked-out, we took a river boat tour (private boat tour, that is, at RM 50 for one hour!). Oh, you gotta see it to believe it! The government of Melaka has done an excellent job revitalizing the riverfront as well as the preservation of the key landmarks. After boat tour, we hired a taxi to eat at  urlLink Bibik Neo , an original peranakan restaurant with an excellent array of \"asam pedas\". Make sure you come here and order the kangkong belacan as well as three orders to Kerapu Asam Pedas. It ended up only costing us less than RM9 per person for such a friendly service. Oh by the way, we asked the Indian taxi driver to eat with us but he was full already and sat down to watch us eat the delicacies while having a modest lime juice.   We then took Metrobus Ekspres bus to Kuala Lumpur, leaving at 1230 and arriving at Hentian Pudu around 1600 (the last 1/2 kilometer took us about 30 minutes to finish because the parking arrangement inside the basement was awkward, not allowing our 45 seater bus to zip in through quickly!). We then took a taxi for RM20 (what a rip off!) to get to KLCC where Danny and Sisca Tobing had been waiting for us the outdoor terrace of Dome cafe. For your information, Danny and Sisca just got married in May 2003 and now Sisca is 2 month pregnant. I have known Sisca for over 15 years - went to the same middle and high schools). Danny was a charter pilot who took over a business from his father dealing in marine and offshore drilling services. They both just moved to KL from Indonesia/Singapore and have loved every minute of it! Rani and I felt that they made an excellent choice of making a nice home in Ampang, on top a hill overlooking the Petronas tower from about 5 km away. \\n\\n     \\n\\n\\n\\n    \\n'"
      ]
     },
     "execution_count": 23,
     "metadata": {},
     "output_type": "execute_result"
    }
   ],
   "source": [
    "## Check the post for the first row\n",
    "df_xml.iloc[0].post[0]"
   ]
  },
  {
   "cell_type": "code",
   "execution_count": 24,
   "metadata": {
    "ExecuteTime": {
     "end_time": "2018-09-23T16:49:33.340903Z",
     "start_time": "2018-09-23T16:49:33.312603Z"
    }
   },
   "outputs": [
    {
     "data": {
      "text/html": [
       "<div>\n",
       "<style scoped>\n",
       "    .dataframe tbody tr th:only-of-type {\n",
       "        vertical-align: middle;\n",
       "    }\n",
       "\n",
       "    .dataframe tbody tr th {\n",
       "        vertical-align: top;\n",
       "    }\n",
       "\n",
       "    .dataframe thead th {\n",
       "        text-align: right;\n",
       "    }\n",
       "</style>\n",
       "<table border=\"1\" class=\"dataframe\">\n",
       "  <thead>\n",
       "    <tr style=\"text-align: right;\">\n",
       "      <th></th>\n",
       "      <th>filename</th>\n",
       "      <th>date</th>\n",
       "      <th>post</th>\n",
       "      <th>id</th>\n",
       "      <th>gender</th>\n",
       "      <th>age</th>\n",
       "      <th>industry</th>\n",
       "      <th>horoscopes</th>\n",
       "    </tr>\n",
       "  </thead>\n",
       "  <tbody>\n",
       "    <tr>\n",
       "      <td>0</td>\n",
       "      <td>100812.female.26.Architecture.Aries</td>\n",
       "      <td>23,July,2003</td>\n",
       "      <td>[\\n\\n\\n\\n\\n       \\n\\n       Friday    My dear...</td>\n",
       "      <td>100812</td>\n",
       "      <td>female</td>\n",
       "      <td>26</td>\n",
       "      <td>Architecture</td>\n",
       "      <td>Aries</td>\n",
       "    </tr>\n",
       "    <tr>\n",
       "      <td>1</td>\n",
       "      <td>100812.female.26.Architecture.Aries</td>\n",
       "      <td>14,July,2003</td>\n",
       "      <td>[\\n\\n\\n\\n\\n       \\n\\n      I had lunch with A...</td>\n",
       "      <td>100812</td>\n",
       "      <td>female</td>\n",
       "      <td>26</td>\n",
       "      <td>Architecture</td>\n",
       "      <td>Aries</td>\n",
       "    </tr>\n",
       "    <tr>\n",
       "      <td>2</td>\n",
       "      <td>100812.female.26.Architecture.Aries</td>\n",
       "      <td>13,July,2003</td>\n",
       "      <td>[\\n\\n\\n\\n\\n       \\n\\n      To answer Fay's qu...</td>\n",
       "      <td>100812</td>\n",
       "      <td>female</td>\n",
       "      <td>26</td>\n",
       "      <td>Architecture</td>\n",
       "      <td>Aries</td>\n",
       "    </tr>\n",
       "    <tr>\n",
       "      <td>3</td>\n",
       "      <td>100812.female.26.Architecture.Aries</td>\n",
       "      <td>11,July,2003</td>\n",
       "      <td>[\\n\\n\\n\\n\\n       \\n\\n      Yesterday night Ma...</td>\n",
       "      <td>100812</td>\n",
       "      <td>female</td>\n",
       "      <td>26</td>\n",
       "      <td>Architecture</td>\n",
       "      <td>Aries</td>\n",
       "    </tr>\n",
       "    <tr>\n",
       "      <td>4</td>\n",
       "      <td>100812.female.26.Architecture.Aries</td>\n",
       "      <td>11,July,2003</td>\n",
       "      <td>[\\n\\n\\n\\n\\n       \\n\\n      As mentioned right...</td>\n",
       "      <td>100812</td>\n",
       "      <td>female</td>\n",
       "      <td>26</td>\n",
       "      <td>Architecture</td>\n",
       "      <td>Aries</td>\n",
       "    </tr>\n",
       "    <tr>\n",
       "      <td>5</td>\n",
       "      <td>100812.female.26.Architecture.Aries</td>\n",
       "      <td>08,July,2003</td>\n",
       "      <td>[\\n\\n\\n\\n\\n       \\n\\n      Yesterday Uman sho...</td>\n",
       "      <td>100812</td>\n",
       "      <td>female</td>\n",
       "      <td>26</td>\n",
       "      <td>Architecture</td>\n",
       "      <td>Aries</td>\n",
       "    </tr>\n",
       "    <tr>\n",
       "      <td>6</td>\n",
       "      <td>100812.female.26.Architecture.Aries</td>\n",
       "      <td>08,July,2003</td>\n",
       "      <td>[\\n\\n\\n\\n\\n       \\n\\n      Rani has been feel...</td>\n",
       "      <td>100812</td>\n",
       "      <td>female</td>\n",
       "      <td>26</td>\n",
       "      <td>Architecture</td>\n",
       "      <td>Aries</td>\n",
       "    </tr>\n",
       "    <tr>\n",
       "      <td>7</td>\n",
       "      <td>100812.female.26.Architecture.Aries</td>\n",
       "      <td>07,July,2003</td>\n",
       "      <td>[\\n\\n\\n\\n\\n       \\n\\n      We all received an...</td>\n",
       "      <td>100812</td>\n",
       "      <td>female</td>\n",
       "      <td>26</td>\n",
       "      <td>Architecture</td>\n",
       "      <td>Aries</td>\n",
       "    </tr>\n",
       "    <tr>\n",
       "      <td>8</td>\n",
       "      <td>100812.female.26.Architecture.Aries</td>\n",
       "      <td>07,July,2003</td>\n",
       "      <td>[\\n\\n\\n\\n\\n       \\n\\n      masindi tes..\\n\\n ...</td>\n",
       "      <td>100812</td>\n",
       "      <td>female</td>\n",
       "      <td>26</td>\n",
       "      <td>Architecture</td>\n",
       "      <td>Aries</td>\n",
       "    </tr>\n",
       "    <tr>\n",
       "      <td>9</td>\n",
       "      <td>100812.female.26.Architecture.Aries</td>\n",
       "      <td>04,August,2003</td>\n",
       "      <td>[\\n\\n\\n\\n\\n       \\n\\n      This all happened ...</td>\n",
       "      <td>100812</td>\n",
       "      <td>female</td>\n",
       "      <td>26</td>\n",
       "      <td>Architecture</td>\n",
       "      <td>Aries</td>\n",
       "    </tr>\n",
       "  </tbody>\n",
       "</table>\n",
       "</div>"
      ],
      "text/plain": [
       "                              filename            date  \\\n",
       "0  100812.female.26.Architecture.Aries    23,July,2003   \n",
       "1  100812.female.26.Architecture.Aries    14,July,2003   \n",
       "2  100812.female.26.Architecture.Aries    13,July,2003   \n",
       "3  100812.female.26.Architecture.Aries    11,July,2003   \n",
       "4  100812.female.26.Architecture.Aries    11,July,2003   \n",
       "5  100812.female.26.Architecture.Aries    08,July,2003   \n",
       "6  100812.female.26.Architecture.Aries    08,July,2003   \n",
       "7  100812.female.26.Architecture.Aries    07,July,2003   \n",
       "8  100812.female.26.Architecture.Aries    07,July,2003   \n",
       "9  100812.female.26.Architecture.Aries  04,August,2003   \n",
       "\n",
       "                                                post      id  gender age  \\\n",
       "0  [\\n\\n\\n\\n\\n       \\n\\n       Friday    My dear...  100812  female  26   \n",
       "1  [\\n\\n\\n\\n\\n       \\n\\n      I had lunch with A...  100812  female  26   \n",
       "2  [\\n\\n\\n\\n\\n       \\n\\n      To answer Fay's qu...  100812  female  26   \n",
       "3  [\\n\\n\\n\\n\\n       \\n\\n      Yesterday night Ma...  100812  female  26   \n",
       "4  [\\n\\n\\n\\n\\n       \\n\\n      As mentioned right...  100812  female  26   \n",
       "5  [\\n\\n\\n\\n\\n       \\n\\n      Yesterday Uman sho...  100812  female  26   \n",
       "6  [\\n\\n\\n\\n\\n       \\n\\n      Rani has been feel...  100812  female  26   \n",
       "7  [\\n\\n\\n\\n\\n       \\n\\n      We all received an...  100812  female  26   \n",
       "8  [\\n\\n\\n\\n\\n       \\n\\n      masindi tes..\\n\\n ...  100812  female  26   \n",
       "9  [\\n\\n\\n\\n\\n       \\n\\n      This all happened ...  100812  female  26   \n",
       "\n",
       "       industry horoscopes  \n",
       "0  Architecture      Aries  \n",
       "1  Architecture      Aries  \n",
       "2  Architecture      Aries  \n",
       "3  Architecture      Aries  \n",
       "4  Architecture      Aries  \n",
       "5  Architecture      Aries  \n",
       "6  Architecture      Aries  \n",
       "7  Architecture      Aries  \n",
       "8  Architecture      Aries  \n",
       "9  Architecture      Aries  "
      ]
     },
     "execution_count": 24,
     "metadata": {},
     "output_type": "execute_result"
    }
   ],
   "source": [
    "## Check the dataframe\n",
    "df_xml.head(10)"
   ]
  },
  {
   "cell_type": "markdown",
   "metadata": {},
   "source": [
    "## Read data from Text files\n",
    "The data can be found here: http://www.glozman.com/textpages.html\n",
    "\n",
    "For the \"Protecting Confidentiality\", please do not use them outside the class.\n",
    "\n",
    "Thanks!\n"
   ]
  },
  {
   "cell_type": "code",
   "execution_count": 25,
   "metadata": {
    "ExecuteTime": {
     "end_time": "2018-09-23T16:49:33.368463Z",
     "start_time": "2018-09-23T16:49:33.345005Z"
    }
   },
   "outputs": [
    {
     "ename": "FileNotFoundError",
     "evalue": "[Errno 2] No such file or directory: \"./Data/TXT/Harry Potter 1 - Harry Potter and the Philosopher's Stone.txt\"",
     "output_type": "error",
     "traceback": [
      "\u001b[1;31m---------------------------------------------------------------------------\u001b[0m",
      "\u001b[1;31mFileNotFoundError\u001b[0m                         Traceback (most recent call last)",
      "\u001b[1;32m<ipython-input-25-0148a7b43f8d>\u001b[0m in \u001b[0;36m<module>\u001b[1;34m\u001b[0m\n\u001b[0;32m      1\u001b[0m \u001b[1;31m## Read from one text file\u001b[0m\u001b[1;33m\u001b[0m\u001b[1;33m\u001b[0m\u001b[1;33m\u001b[0m\u001b[0m\n\u001b[0;32m      2\u001b[0m \u001b[0mfile_path\u001b[0m \u001b[1;33m=\u001b[0m \u001b[1;34m'./Data/TXT/Harry Potter 1 - Harry Potter and the Philosopher\\'s Stone.txt'\u001b[0m\u001b[1;33m\u001b[0m\u001b[1;33m\u001b[0m\u001b[0m\n\u001b[1;32m----> 3\u001b[1;33m \u001b[1;32mwith\u001b[0m \u001b[0mopen\u001b[0m\u001b[1;33m(\u001b[0m\u001b[0mfile_path\u001b[0m\u001b[1;33m,\u001b[0m\u001b[1;34m\"r\"\u001b[0m\u001b[1;33m,\u001b[0m\u001b[0mencoding\u001b[0m\u001b[1;33m=\u001b[0m\u001b[1;34m'latin-1'\u001b[0m\u001b[1;33m)\u001b[0m  \u001b[1;32mas\u001b[0m \u001b[0mf\u001b[0m\u001b[1;33m:\u001b[0m   \u001b[1;31m# Check with 'utf-8' & 'latin-1' encoding\u001b[0m\u001b[1;33m\u001b[0m\u001b[1;33m\u001b[0m\u001b[0m\n\u001b[0m\u001b[0;32m      4\u001b[0m     \u001b[0mh1_content\u001b[0m \u001b[1;33m=\u001b[0m \u001b[0mf\u001b[0m\u001b[1;33m.\u001b[0m\u001b[0mread\u001b[0m\u001b[1;33m(\u001b[0m\u001b[1;33m)\u001b[0m\u001b[1;33m\u001b[0m\u001b[1;33m\u001b[0m\u001b[0m\n\u001b[0;32m      5\u001b[0m \u001b[0mh1_content\u001b[0m\u001b[1;33m\u001b[0m\u001b[1;33m\u001b[0m\u001b[0m\n",
      "\u001b[1;31mFileNotFoundError\u001b[0m: [Errno 2] No such file or directory: \"./Data/TXT/Harry Potter 1 - Harry Potter and the Philosopher's Stone.txt\""
     ]
    }
   ],
   "source": [
    "## Read from one text file\n",
    "file_path = './Data/TXT/Harry Potter 1 - Harry Potter and the Philosopher\\'s Stone.txt'\n",
    "with open(file_path,\"r\",encoding='latin-1')  as f:   # Check with 'utf-8' & 'latin-1' encoding\n",
    "    h1_content = f.read()\n",
    "h1_content"
   ]
  },
  {
   "cell_type": "code",
   "execution_count": null,
   "metadata": {
    "ExecuteTime": {
     "end_time": "2018-09-23T16:49:33.420564Z",
     "start_time": "2018-09-23T16:49:33.371469Z"
    }
   },
   "outputs": [],
   "source": [
    "data_path = r'./Data/TXT/'\n",
    "df3 = pd.DataFrame([],columns=['Book','Name','Content'])\n",
    "\n",
    "for root, directories, files in os.walk(data_path):\n",
    "    for filename in files:\n",
    "        _name = os.path.splitext(filename)[0]\n",
    "        _book, _name = _name.split(' - ')\n",
    "        \n",
    "        filepath = os.path.join(root, filename)\n",
    "        \n",
    "        f = open(filepath,\"r\",encoding='latin-1') \n",
    "        _content = f.read()\n",
    "\n",
    "        pieces = {'Book': _book, 'Name': _name, 'Content':_content}\n",
    "        df3 = df3.append(pieces,ignore_index=True)\n",
    "df3"
   ]
  },
  {
   "cell_type": "markdown",
   "metadata": {},
   "source": [
    "<h1>Table of Contents<span class=\"tocSkip\"></span></h1>\n",
    "<div class=\"toc\"><ul class=\"toc-item\"><li><span><a href=\"#Getting-Data\" data-toc-modified-id=\"Getting-Data-1\"><span class=\"toc-item-num\">1&nbsp;&nbsp;</span>Getting Data</a></span><ul class=\"toc-item\"><li><span><a href=\"#Drop-duplicated-columns\" data-toc-modified-id=\"Drop-duplicated-columns-1.1\"><span class=\"toc-item-num\">1.1&nbsp;&nbsp;</span>Drop duplicated columns</a></span></li><li><span><a href=\"#First-save-the-dataset\" data-toc-modified-id=\"First-save-the-dataset-1.2\"><span class=\"toc-item-num\">1.2&nbsp;&nbsp;</span>First save the dataset</a></span></li></ul></li><li><span><a href=\"#Data-First-Understanding\" data-toc-modified-id=\"Data-First-Understanding-2\"><span class=\"toc-item-num\">2&nbsp;&nbsp;</span>Data First Understanding</a></span></li><li><span><a href=\"#Data-Understanding:-data-quality-report\" data-toc-modified-id=\"Data-Understanding:-data-quality-report-3\"><span class=\"toc-item-num\">3&nbsp;&nbsp;</span>Data Understanding: data quality report</a></span><ul class=\"toc-item\"><li><span><a href=\"#Table-with-descriptive-statistics-for-all-the-categorical-features\" data-toc-modified-id=\"Table-with-descriptive-statistics-for-all-the-categorical-features-3.1\"><span class=\"toc-item-num\">3.1&nbsp;&nbsp;</span>Table with descriptive statistics for all the categorical features</a></span></li><li><span><a href=\"#Table-with-descriptive-statistics-for-all-the-continuous-features\" data-toc-modified-id=\"Table-with-descriptive-statistics-for-all-the-continuous-features-3.2\"><span class=\"toc-item-num\">3.2&nbsp;&nbsp;</span>Table with descriptive statistics for all the continuous features</a></span></li><li><span><a href=\"#Histograms-for-all-continuous-features\" data-toc-modified-id=\"Histograms-for-all-continuous-features-3.3\"><span class=\"toc-item-num\">3.3&nbsp;&nbsp;</span>Histograms for all continuous features</a></span></li><li><span><a href=\"#Box-plots-for-all-the-continuous-features\" data-toc-modified-id=\"Box-plots-for-all-the-continuous-features-3.4\"><span class=\"toc-item-num\">3.4&nbsp;&nbsp;</span>Box plots for all the continuous features</a></span></li><li><span><a href=\"#Bar-plots-for-all-the-categorical-features\" data-toc-modified-id=\"Bar-plots-for-all-the-categorical-features-3.5\"><span class=\"toc-item-num\">3.5&nbsp;&nbsp;</span>Bar plots for all the categorical features</a></span></li></ul></li><li><span><a href=\"#Data-Understanding:-data-quality-plan\" data-toc-modified-id=\"Data-Understanding:-data-quality-plan-4\"><span class=\"toc-item-num\">4&nbsp;&nbsp;</span>Data Understanding: data quality plan</a></span><ul class=\"toc-item\"><li><span><a href=\"#Irregular-cardinality\" data-toc-modified-id=\"Irregular-cardinality-4.1\"><span class=\"toc-item-num\">4.1&nbsp;&nbsp;</span>Irregular cardinality</a></span></li><li><span><a href=\"#Null-values\" data-toc-modified-id=\"Null-values-4.2\"><span class=\"toc-item-num\">4.2&nbsp;&nbsp;</span>Null values</a></span></li><li><span><a href=\"#Outliers-(It-is-hard!-To-decice-remove-or-not-remove-those-samples)\" data-toc-modified-id=\"Outliers-(It-is-hard!-To-decice-remove-or-not-remove-those-samples)-4.3\"><span class=\"toc-item-num\">4.3&nbsp;&nbsp;</span>Outliers (It is hard! To decice remove or not remove those samples)</a></span></li><li><span><a href=\"#Duplicate-rows\" data-toc-modified-id=\"Duplicate-rows-4.4\"><span class=\"toc-item-num\">4.4&nbsp;&nbsp;</span>Duplicate rows</a></span></li></ul></li><li><span><a href=\"#Solutions\" data-toc-modified-id=\"Solutions-5\"><span class=\"toc-item-num\">5&nbsp;&nbsp;</span>Solutions</a></span><ul class=\"toc-item\"><li><span><a href=\"#Data-Quality-Plan\" data-toc-modified-id=\"Data-Quality-Plan-5.1\"><span class=\"toc-item-num\">5.1&nbsp;&nbsp;</span>Data Quality Plan</a></span></li></ul></li><li><span><a href=\"#Save-the-Clean-data\" data-toc-modified-id=\"Save-the-Clean-data-6\"><span class=\"toc-item-num\">6&nbsp;&nbsp;</span>Save the Clean data</a></span></li></ul></div>"
   ]
  },
  {
   "cell_type": "markdown",
   "metadata": {},
   "source": [
    "# Exercises\n",
    "\n",
    "This Notebook aims to analyse data generated by political candidates during the Irish General Elections 2016.\n",
    "We have a CSV file describing candidates and a json file describing Twitter activity of candidates.\n",
    "The aim is to merge the 2 files into a single CSV file and produce a data quality report and a data quality plan for the merged CSV, as well as some initial interpretation of findings.  The CSV file named  **ge16-results-elected.csv**, contains data describing the candidates, e.g., name, party and constituency, and data on whether they got elected or not. The json file contains data such as the candidate name and the number of tweets issued by their Twitter account, the number of followers the Twitter account has, etc. We aim to understand this data and to look for initial evidence that candidate Twitter account details (e.g., tweets, folowers) is (or not) indicative of getting elected.\n",
    "The Notebook also contains an example solution for the practice exercises.\n",
    "\n",
    "1. Getting Data: Download the data from Moodle. This is an archive named *Lab4-data-archive* \n",
    "    containing a file named **ge16-results-elected.csv** and a json file named: **ge16-twittercounter-candidates.json**\n",
    "\n",
    "    - Merge the 2 files (your CSV file and the json file) into a single CSV file named \n",
    "    **ge16-candidates-twitter-elected.csv**\n",
    "\n",
    "    - Only keep unique columns from each file (e.g., only one column named Party in the merged CSV file). \n",
    "    Show the first 10 rows in your resulting CSV file.\n",
    "\n",
    "2. Data Understanding: Prepare a data quality report for your merged CSV file. \n",
    "    - Prepare a table with descriptive statistics for all the continuous features.\n",
    "    - Prepare a table with descriptive statistics for all the categorical features.\n",
    "    - Plot histograms for all the continuous features.\n",
    "    - Plot box plots for all the continuous features.\n",
    "    - Plot bar plots for all the categorical features.\n",
    "    - Save all the tables and plots into files with self-explanatory names.    \n",
    "\n",
    "3. Data Understanding: Prepare a data quality plan for the merged CSV file.\n",
    "    - Mark down all the features where there are problems.\n",
    "    - Propose solutions to deal with the problems identified.\n",
    "    - Apply your solutions to obtain a new CSV file where data quality issues were addressed.\n",
    "    Explain why did you choose one solution over (potentially many) other.\n",
    "        \n",
    "4. Data Understanding: Exploring relationships between feature pairs:\n",
    "    - Choose a subset of 10 features and plot pairwise feature interaction \n",
    "    (e.g., continuous-continuous feature plot or continuous-categorical plots). Compute correlations for the numeric features.\n",
    "    - Discuss your findings from the plots above. Do you find any features indicative of the candidate getting elected?\n",
    "\n"
   ]
  },
  {
   "cell_type": "code",
   "execution_count": null,
   "metadata": {},
   "outputs": [],
   "source": [
    "# Import pandas, numpy and matplotlib libraries\n",
    "import pandas as pd\n",
    "import numpy as np\n",
    "import matplotlib.pyplot as plt\n",
    "import matplotlib.patches as mpatches\n",
    "import seaborn as sns\n",
    "from matplotlib.backends.backend_pdf import PdfPages\n",
    "%matplotlib inline"
   ]
  },
  {
   "cell_type": "markdown",
   "metadata": {},
   "source": [
    "## Getting Data"
   ]
  },
  {
   "cell_type": "code",
   "execution_count": null,
   "metadata": {
    "ExecuteTime": {
     "end_time": "2018-09-23T16:44:17.653406Z",
     "start_time": "2018-09-23T16:44:17.625470Z"
    }
   },
   "outputs": [],
   "source": [
    "# Convert csv and json files into dataframes\n",
    "df1 = pd.read_csv('ge16-results-elected.csv',keep_default_na=True,sep=',\\s+', delimiter=',', encoding=\"utf-8\", skipinitialspace=True)\n",
    "df1.head(10)"
   ]
  },
  {
   "cell_type": "code",
   "execution_count": null,
   "metadata": {
    "ExecuteTime": {
     "end_time": "2018-09-23T16:44:17.704916Z",
     "start_time": "2018-09-23T16:44:17.657274Z"
    }
   },
   "outputs": [],
   "source": [
    "df2 = pd.read_json('ge16-twittercounter-candidates.json')\n",
    "df2.head(10)"
   ]
  },
  {
   "cell_type": "code",
   "execution_count": null,
   "metadata": {
    "ExecuteTime": {
     "end_time": "2018-09-23T16:44:17.779064Z",
     "start_time": "2018-09-23T16:44:17.708652Z"
    }
   },
   "outputs": [],
   "source": [
    "# Rename columns in df2 to match title of corresponding columns in df1 \n",
    "# Why should we do this step? ==> we want to merge to dataframes with the same column \"Twitter ID\"\n",
    "df2 = df2.rename(columns = {'id':'Twitter ID'})\n",
    "df2"
   ]
  },
  {
   "cell_type": "code",
   "execution_count": null,
   "metadata": {
    "ExecuteTime": {
     "end_time": "2018-09-23T16:44:17.829098Z",
     "start_time": "2018-09-23T16:44:17.782751Z"
    }
   },
   "outputs": [],
   "source": [
    "# Left merge on 'Twitter ID' - keeps all data from df1 and merge with corresponding data in df2\n",
    "# Details of merging can be found here: http://pandas.pydata.org/pandas-docs/stable/merging.html\n",
    "\n",
    "merged_df = pd.merge(df1, df2, how='left', on=['Twitter ID'])\n",
    "merged_df.head(10)"
   ]
  },
  {
   "cell_type": "markdown",
   "metadata": {},
   "source": [
    "### Drop duplicated columns"
   ]
  },
  {
   "cell_type": "code",
   "execution_count": null,
   "metadata": {
    "ExecuteTime": {
     "end_time": "2018-09-23T16:44:17.867186Z",
     "start_time": "2018-09-23T16:44:17.832665Z"
    }
   },
   "outputs": [],
   "source": [
    "# There are 2 columns for party, first name, last name, full name and constituency data in the merged dataframe. \n",
    "# Keep the column that appear in the CSV file so that there are no null values (if a candidate is not on Twitter,\n",
    "# it cannot be matched to any row in the json file and would therefore not be given a value for those columns)\n",
    "merged_df = merged_df.drop('party', 1)\n",
    "merged_df = merged_df.drop('firstname', 1)\n",
    "merged_df = merged_df.drop('lastname', 1)\n",
    "merged_df = merged_df.drop('fullname', 1)\n",
    "merged_df = merged_df.drop('constituency', 1)\n",
    "merged_df.head(10)"
   ]
  },
  {
   "cell_type": "markdown",
   "metadata": {},
   "source": [
    "### First save the dataset"
   ]
  },
  {
   "cell_type": "code",
   "execution_count": null,
   "metadata": {
    "ExecuteTime": {
     "end_time": "2018-09-23T16:44:17.879343Z",
     "start_time": "2018-09-23T16:44:17.870340Z"
    }
   },
   "outputs": [],
   "source": [
    "# Write the merged dataframe to a csv file\n",
    "merged_df.to_csv('data_ge16-candidates-twitter-elected.csv', index=False)"
   ]
  },
  {
   "cell_type": "code",
   "execution_count": null,
   "metadata": {
    "ExecuteTime": {
     "end_time": "2018-09-23T16:44:17.975700Z",
     "start_time": "2018-09-23T16:44:17.882156Z"
    }
   },
   "outputs": [],
   "source": [
    "## Reload for checking\n",
    "# Show the first 10 rows in the resulting CSV file\n",
    "df = pd.read_csv('data_ge16-candidates-twitter-elected.csv')\n",
    "df.head(100)"
   ]
  },
  {
   "cell_type": "markdown",
   "metadata": {},
   "source": [
    "## Data First Understanding"
   ]
  },
  {
   "cell_type": "code",
   "execution_count": null,
   "metadata": {
    "ExecuteTime": {
     "end_time": "2018-09-23T16:44:17.988230Z",
     "start_time": "2018-09-23T16:44:17.978759Z"
    }
   },
   "outputs": [],
   "source": [
    "# Check how many rows and columns this dataframe has\n",
    "df.shape"
   ]
  },
  {
   "cell_type": "code",
   "execution_count": null,
   "metadata": {
    "ExecuteTime": {
     "end_time": "2018-09-23T16:44:18.000993Z",
     "start_time": "2018-09-23T16:44:17.993234Z"
    }
   },
   "outputs": [],
   "source": [
    "#How many rows?\n",
    "df.shape[0]"
   ]
  },
  {
   "cell_type": "code",
   "execution_count": null,
   "metadata": {
    "ExecuteTime": {
     "end_time": "2018-09-23T16:44:18.010970Z",
     "start_time": "2018-09-23T16:44:18.004786Z"
    }
   },
   "outputs": [],
   "source": [
    "#How many columns?\n",
    "df.shape[1]"
   ]
  },
  {
   "cell_type": "code",
   "execution_count": null,
   "metadata": {
    "ExecuteTime": {
     "end_time": "2018-09-23T16:44:18.054217Z",
     "start_time": "2018-09-23T16:44:18.014547Z"
    }
   },
   "outputs": [],
   "source": [
    "# Show first 10 rows of data frame\n",
    "# The rows are indexed starting from 0\n",
    "df.head(10)"
   ]
  },
  {
   "cell_type": "code",
   "execution_count": null,
   "metadata": {
    "ExecuteTime": {
     "end_time": "2018-09-23T16:44:18.065733Z",
     "start_time": "2018-09-23T16:44:18.057284Z"
    }
   },
   "outputs": [],
   "source": [
    "# Show the data types in each column.\n",
    "# int64 and float64 are numeric columns.\n",
    "# The pandas type 'object' stands for Python strings\n",
    "# Columns mixing numbers and characters are automatically converted to type 'object'.\n",
    "# Some of the type 'object' columns may be more appropriate as numeric/continuous or as categorical types.\n",
    "# We first explore the data, then decide which columns should be treated as 'continuous' and which \n",
    "# should be treated as 'categorical'.\n",
    "df.dtypes"
   ]
  },
  {
   "cell_type": "code",
   "execution_count": null,
   "metadata": {
    "ExecuteTime": {
     "end_time": "2018-09-23T16:44:18.090257Z",
     "start_time": "2018-09-23T16:44:18.069582Z"
    }
   },
   "outputs": [],
   "source": [
    "print(\"Feature, UniqueValues\") \n",
    "for column in df.columns:\n",
    "    print(column + \" : \" + str(len(df[column].unique())))\n",
    "\n",
    "## There are 100 candidates and just 81 candidates have TW_ID"
   ]
  },
  {
   "cell_type": "code",
   "execution_count": null,
   "metadata": {
    "ExecuteTime": {
     "end_time": "2018-09-23T16:44:18.106680Z",
     "start_time": "2018-09-23T16:44:18.094361Z"
    }
   },
   "outputs": [],
   "source": [
    "# Turn the feature 'ID' from 'int64' to 'category' type\n",
    "df['Twitter ID'] = df['Twitter ID'].astype('category')\n",
    "df.dtypes"
   ]
  },
  {
   "cell_type": "markdown",
   "metadata": {
    "ExecuteTime": {
     "end_time": "2018-09-23T11:55:48.170820Z",
     "start_time": "2018-09-23T11:55:48.161823Z"
    }
   },
   "source": [
    "## Data Understanding: data quality report"
   ]
  },
  {
   "cell_type": "markdown",
   "metadata": {},
   "source": [
    "### Table with descriptive statistics for all the categorical features"
   ]
  },
  {
   "cell_type": "code",
   "execution_count": null,
   "metadata": {
    "ExecuteTime": {
     "end_time": "2018-09-23T16:44:18.126777Z",
     "start_time": "2018-09-23T16:44:18.110804Z"
    }
   },
   "outputs": [],
   "source": [
    "#Select all columns of type 'object'\n",
    "categorical_columns = list(df.select_dtypes(['object','category']).columns)\n",
    "\n",
    "categorical_columns"
   ]
  },
  {
   "cell_type": "code",
   "execution_count": null,
   "metadata": {
    "ExecuteTime": {
     "end_time": "2018-09-23T16:44:18.152622Z",
     "start_time": "2018-09-23T16:44:18.131080Z"
    }
   },
   "outputs": [],
   "source": [
    "# Convert data type to category for these columns\n",
    "for column in categorical_columns:\n",
    "    df[column] = df[column].astype('category')\n",
    "df.dtypes"
   ]
  },
  {
   "cell_type": "code",
   "execution_count": null,
   "metadata": {
    "ExecuteTime": {
     "end_time": "2018-09-23T16:44:18.262198Z",
     "start_time": "2018-09-23T16:44:18.156784Z"
    }
   },
   "outputs": [],
   "source": [
    "# Save table with descriptive statistics for all the categorical features in CSV file\n",
    "df.select_dtypes(['category']).describe().T.to_csv('tbl_categorical_descriptive_stats.csv')\n",
    "\n",
    "# Print table\n",
    "df.select_dtypes(['category']).describe().T"
   ]
  },
  {
   "cell_type": "markdown",
   "metadata": {},
   "source": [
    "### Table with descriptive statistics for all the continuous features"
   ]
  },
  {
   "cell_type": "code",
   "execution_count": null,
   "metadata": {
    "ExecuteTime": {
     "end_time": "2018-09-23T16:44:18.279250Z",
     "start_time": "2018-09-23T16:44:18.265481Z"
    }
   },
   "outputs": [],
   "source": [
    "#Keep only the numerical features. \"Elected\" and \"OnTwitter\" are binary 'int64' columns\n",
    "continuous_columns = list(df.select_dtypes(['float64']).columns)\n",
    "\n",
    "# Another way: select columns containing continuous data manually.\n",
    "# continuous_columns = df[['day_follower_change','followers','following','overall_follower_change','tweets']].columns\n",
    "\n",
    "continuous_columns\n"
   ]
  },
  {
   "cell_type": "code",
   "execution_count": null,
   "metadata": {
    "ExecuteTime": {
     "end_time": "2018-09-23T16:44:18.289714Z",
     "start_time": "2018-09-23T16:44:18.282723Z"
    }
   },
   "outputs": [],
   "source": [
    "type(continuous_columns)"
   ]
  },
  {
   "cell_type": "code",
   "execution_count": null,
   "metadata": {
    "ExecuteTime": {
     "end_time": "2018-09-23T16:44:18.347588Z",
     "start_time": "2018-09-23T16:44:18.293537Z"
    }
   },
   "outputs": [],
   "source": [
    "# Save table with descriptive statistics for all the continuous features in CSV file\n",
    "df[continuous_columns].describe().T.to_csv('tbl_continuous_descriptive_stats.csv')\n",
    "\n",
    "# Print table\n",
    "df[continuous_columns].describe().T\n"
   ]
  },
  {
   "cell_type": "markdown",
   "metadata": {
    "ExecuteTime": {
     "end_time": "2018-09-23T12:08:02.637233Z",
     "start_time": "2018-09-23T12:08:02.633200Z"
    }
   },
   "source": [
    "### Histograms for all continuous features"
   ]
  },
  {
   "cell_type": "code",
   "execution_count": null,
   "metadata": {
    "ExecuteTime": {
     "end_time": "2018-09-23T16:44:19.492871Z",
     "start_time": "2018-09-23T16:44:18.351303Z"
    }
   },
   "outputs": [],
   "source": [
    "# Plot a histogram of the continuous features and save in a PDF file\n",
    "# Color list can be found at: https://www.webucator.com/blog/2015/03/python-color-constants-module/\n",
    "df[continuous_columns].hist(figsize=(15,15), color='#B22222',\n",
    "                            alpha=0.7, rwidth=0.85)\n",
    "plt.savefig('plt_continuous_histograms.pdf')"
   ]
  },
  {
   "cell_type": "markdown",
   "metadata": {},
   "source": [
    "### Box plots for all the continuous features"
   ]
  },
  {
   "cell_type": "code",
   "execution_count": null,
   "metadata": {
    "ExecuteTime": {
     "end_time": "2018-09-23T16:44:20.285592Z",
     "start_time": "2018-09-23T16:44:19.497486Z"
    }
   },
   "outputs": [],
   "source": [
    "import seaborn as sns\n",
    "# Plot box plots for all the continuous features and save in a PDF file\n",
    "pp = PdfPages('plt_continuous_box_plots.pdf')\n",
    "flierprops = dict(marker='o', markerfacecolor='green', markersize=10,linestyle='none')\n",
    "for col in continuous_columns:\n",
    "    f = df[col].plot(kind='box', figsize=(7,7),showfliers=True,flierprops=flierprops)\n",
    "    pp.savefig(f.get_figure())\n",
    "    plt.show()\n",
    "\n",
    "pp.close()"
   ]
  },
  {
   "cell_type": "markdown",
   "metadata": {},
   "source": [
    "### Bar plots for all the categorical features"
   ]
  },
  {
   "cell_type": "code",
   "execution_count": null,
   "metadata": {
    "ExecuteTime": {
     "end_time": "2018-09-23T16:44:24.670061Z",
     "start_time": "2018-09-23T16:44:20.290415Z"
    }
   },
   "outputs": [],
   "source": [
    "# Plot bar charts for all categorical features and save them in a single PDF file\n",
    "pp = PdfPages('plt_categorical_bar_charts.pdf')\n",
    "\n",
    "## NOTE: here we use the .copy to advoid the changing of \"categorical_columns\"\n",
    "## if not, the \"categorical_columns\" will be changed.\n",
    "\n",
    "printing_list_categorical_columns = categorical_columns.copy()\n",
    "printing_list_categorical_columns.remove('Twitter ID')\n",
    "printing_list_categorical_columns.remove('screen_name')\n",
    "printing_list_categorical_columns.remove('Fullname')\n",
    "\n",
    "for column in printing_list_categorical_columns:\n",
    "    f = df[column].value_counts().plot(kind='bar', title=column, figsize=(12,5))\n",
    "    pp.savefig(f.get_figure())\n",
    "    plt.show()\n",
    "\n",
    "pp.close()"
   ]
  },
  {
   "cell_type": "markdown",
   "metadata": {},
   "source": [
    "## Data Understanding: data quality plan\n",
    "\n",
    "### Irregular cardinality\n",
    "\n",
    "Categorical features can have irregular cardinality if the same value is entered several times with a different spelling for example. In the following cell, I check whether there are any values in the categorical features which are duplicated because \n",
    "of spelling mistakes or different input standards"
   ]
  },
  {
   "cell_type": "code",
   "execution_count": null,
   "metadata": {
    "ExecuteTime": {
     "end_time": "2018-09-23T16:44:24.686478Z",
     "start_time": "2018-09-23T16:44:24.673068Z"
    }
   },
   "outputs": [],
   "source": [
    "# Check for irregular cardinality in categorical features. There could be same values spelled differently\n",
    "print(\"Unique values for:\\n- Gender:\", pd.unique(df.Gender.ravel()))\n",
    "print(\"\\n- Constituency:\", sorted(pd.unique(df.Constituency.ravel())))\n",
    "print(\"\\n- Elected:\", sorted(pd.unique(df.Elected.ravel())))\n",
    "print(\"\\n- OnTwitter:\", sorted(pd.unique(df.OnTwitter.ravel())))\n",
    "print(\"\\n- Party:\", sorted(pd.unique(df.Party.ravel())))\n",
    "print(\"\\n- last_tweet:\", pd.unique(df.last_tweet.ravel()))"
   ]
  },
  {
   "cell_type": "markdown",
   "metadata": {},
   "source": [
    "There are no values in the categorical features that is duplicated. The cardinality of those features is correct."
   ]
  },
  {
   "cell_type": "markdown",
   "metadata": {},
   "source": [
    "### Null values\n",
    "\n",
    "In the following cell, I check for null values in the dataset."
   ]
  },
  {
   "cell_type": "code",
   "execution_count": null,
   "metadata": {
    "ExecuteTime": {
     "end_time": "2018-09-23T16:44:24.703265Z",
     "start_time": "2018-09-23T16:44:24.690480Z"
    }
   },
   "outputs": [],
   "source": [
    "# Check whether there are null values in the data where values would be expected\n",
    "df.isnull().sum()"
   ]
  },
  {
   "cell_type": "markdown",
   "metadata": {},
   "source": [
    "here are null values in the dataset, they correspond to features regarding Twitter account information. 20 candidates do not have a Twitter account and therefore the values for these features are null for those candidates. There are no null values where a value would be expected."
   ]
  },
  {
   "cell_type": "markdown",
   "metadata": {},
   "source": [
    "### Outliers (It is hard! To decice remove or not remove those samples)\n",
    "In the box plots produced above, there are a number of outliers for the followers, tweets, day_follower_change and overall_follower_change features.\n",
    "They could be error in the data or represent correct information. So in the following cells, I check who are the 5 candidates with the most followers, the highest rate of follower change and who tweet the most."
   ]
  },
  {
   "cell_type": "code",
   "execution_count": null,
   "metadata": {
    "ExecuteTime": {
     "end_time": "2018-09-23T16:44:24.748407Z",
     "start_time": "2018-09-23T16:44:24.706048Z"
    }
   },
   "outputs": [],
   "source": [
    "# In the box plot above, we can see that there are a number of outliers in the 'followers' feature. This could be\n",
    "# an error or it could be due to the fact that the outlier is a candidate who is more famous or influential than other candidates.\n",
    "\n",
    "# Find out the 5 candidates with the highest number of followers\n",
    "df.sort_values(by='followers', axis=0, ascending=False, inplace=False, kind='quicksort', na_position='last').head(5)"
   ]
  },
  {
   "cell_type": "markdown",
   "metadata": {},
   "source": [
    "The candidate who has the most followers is Enda Kenny and the top five candidates are very influential. It is expected that they would have more followers than other candidates, therefore the outliers for this features seem to have correct values. \n",
    "==> Not delete"
   ]
  },
  {
   "cell_type": "code",
   "execution_count": null,
   "metadata": {
    "ExecuteTime": {
     "end_time": "2018-09-23T16:44:24.791492Z",
     "start_time": "2018-09-23T16:44:24.752869Z"
    }
   },
   "outputs": [],
   "source": [
    "# Find the 5 candidates with the highest rate of overall follower change\n",
    "df.sort_values(by='overall_follower_change', axis=0, ascending=False, inplace=False, kind='quicksort', na_position='last').head(5)"
   ]
  },
  {
   "cell_type": "code",
   "execution_count": null,
   "metadata": {
    "ExecuteTime": {
     "end_time": "2018-09-23T16:44:24.828404Z",
     "start_time": "2018-09-23T16:44:24.794988Z"
    }
   },
   "outputs": [],
   "source": [
    "# Find the 5 candidates with the highest rate of day follower change\n",
    "df.sort_values(by='day_follower_change', axis=0, ascending=False, inplace=False, kind='quicksort', na_position='last').head(5)"
   ]
  },
  {
   "cell_type": "markdown",
   "metadata": {},
   "source": [
    "The candidates who have the highest rate of overall follower change have a high number of followers (4 of them are in the top 5). They also correspond to candidates with a high daily follower change rate. The data therefore does not seem erroneous. ==> Not delete"
   ]
  },
  {
   "cell_type": "code",
   "execution_count": null,
   "metadata": {
    "ExecuteTime": {
     "end_time": "2018-09-23T16:44:24.861933Z",
     "start_time": "2018-09-23T16:44:24.831358Z"
    }
   },
   "outputs": [],
   "source": [
    "# Find the 5 candidates with the most tweets\n",
    "df.sort_values(by='tweets', axis=0, ascending=False, inplace=False, kind='quicksort', na_position='last').head(5)"
   ]
  },
  {
   "cell_type": "markdown",
   "metadata": {},
   "source": [
    "The 5 candidates with the most tweets tweeted in the last couple of days. It is possible that they have a habit of twitting often. It is not possible to understand whether the data is correct or not. ==> Not delete"
   ]
  },
  {
   "cell_type": "markdown",
   "metadata": {},
   "source": [
    "### Duplicate rows\n",
    "\n",
    "In the following cell, I check for duplicate rows. It is important to eliminate duplicates so as not to skew the result of the analysis, so if one candidate appears in more than one row, it would be necessary to eliminate one of the rows."
   ]
  },
  {
   "cell_type": "code",
   "execution_count": null,
   "metadata": {
    "ExecuteTime": {
     "end_time": "2018-09-23T16:44:24.869944Z",
     "start_time": "2018-09-23T16:44:24.865023Z"
    }
   },
   "outputs": [],
   "source": [
    "def getdup(df,idx):\n",
    "    ids = df[idx]\n",
    "    return df[ids.isin(ids[ids.duplicated()])]"
   ]
  },
  {
   "cell_type": "code",
   "execution_count": null,
   "metadata": {
    "ExecuteTime": {
     "end_time": "2018-09-23T16:44:24.894944Z",
     "start_time": "2018-09-23T16:44:24.874313Z"
    }
   },
   "outputs": [],
   "source": [
    "print(len(getdup(df,'Twitter ID')))\n",
    "print(len(getdup(df,'Fullname')))\n",
    "print(len(getdup(df,'screen_name')))"
   ]
  },
  {
   "cell_type": "code",
   "execution_count": null,
   "metadata": {
    "ExecuteTime": {
     "end_time": "2018-09-23T16:44:24.915188Z",
     "start_time": "2018-09-23T16:44:24.898710Z"
    }
   },
   "outputs": [],
   "source": [
    "print(df[['Twitter ID','Fullname','screen_name']].head(5))\n",
    "print('-'*50)\n",
    "print('Number of duplicated rows:' + str(sum(df[['Twitter ID','Fullname','screen_name']].duplicated())))"
   ]
  },
  {
   "cell_type": "markdown",
   "metadata": {},
   "source": [
    "There are no rows containing the same values for twitter ID, Fullname or screen_name, except for null values in Twitter ID and screen_name, suggesting that there are no duplicated candidates."
   ]
  },
  {
   "cell_type": "markdown",
   "metadata": {},
   "source": [
    "## Solutions\n",
    "\n",
    "### Data Quality Plan\n",
    "\n",
    "| Feature                 | Data Quality Issue   | Handling Strategy            |\n",
    "|-------------------------|----------------------|------------------------------|\n",
    "| day_follower_change     | Missing Values (20%) | Complete-case analysis       |\n",
    "| followers               | Missing Values (20%) | Complete-case analysis       | \n",
    "| following               | Missing Values (20%) | Complete-case analysis       |\n",
    "| last_tweet              | Missing Values (20%) | Complete-case analysis       |\n",
    "| overall_follower_change | Missing Values (20%) | Complete-case analysis       |\n",
    "| screen_name             | Missing Values (20%) | Complete-case analysis       |\n",
    "| tweets                  | Missing Values (20%) | Complete-case analysis       |\n",
    "| followers               | Outliers             | Do nothing                   |\n",
    "| day_follower_change     | Outliers             | Do nothing                   |\n",
    "| overall_follower_change | Outliers             | Do nothing                   |\n",
    "| tweets                  | Outliers             | Do nothing                   |\n",
    "\n",
    "I am **removing all rows containing null values, because they correspond to candidates who do not have a Twitter account.** The tasl for this problem is to 'look for initial evidence that candidate Twitter account details (e.g., tweets, folowers) is (or not) indicative of getting elected'. Therefore data relating to candidates who do not have a Twitter account is not relevant and would skew the result of the analysis. Dropping the features containing null values would affect the analysis because they correspond to the Twitter account details of the candidates. Imputation (replacing missing values with a measure of central tendency) would not be useful either because it would distort the data by putting too much weight on the mean, median or mode depending on which measure was chosen as a replacement.\n",
    "\n",
    "There are outliers in the followers, day_follower_change, overall_follower_change and tweets features. I have decided **not to remove the outliers** by clamping, because as shown above, the outliers for  followers, day_follower_change and overall_follower_change seem to be valid. Removing this data would probably modify the dataset to not reflect reality. It is not possible to verify the validity of the outliers in the tweets feature so I chose to be cautious and to accept them as being valid, and therefore to keep them in the dataset so as not to produce distorted data. \n"
   ]
  },
  {
   "cell_type": "code",
   "execution_count": null,
   "metadata": {
    "ExecuteTime": {
     "end_time": "2018-09-23T16:44:24.951506Z",
     "start_time": "2018-09-23T16:44:24.918055Z"
    }
   },
   "outputs": [],
   "source": [
    "# Remove all rows for candidates who are not on Twitter - therefore all rows with null values\n",
    "clean_df = df[df.OnTwitter == 1]\n",
    "clean_df.head()"
   ]
  },
  {
   "cell_type": "code",
   "execution_count": null,
   "metadata": {
    "ExecuteTime": {
     "end_time": "2018-09-23T16:44:24.964347Z",
     "start_time": "2018-09-23T16:44:24.955544Z"
    }
   },
   "outputs": [],
   "source": [
    "# Check that there are no null values in the dataframe\n",
    "print(clean_df.isnull().sum())\n",
    "\n",
    "# check that only 20 rows have been removed (check that there are now 80 rows)\n",
    "print(\"\\nNumber of rows:\", clean_df.shape[0])"
   ]
  },
  {
   "cell_type": "markdown",
   "metadata": {},
   "source": [
    "Now that rows for candidates who are not on Twitter have been removed, the feature OnTwitter should have a cardinality of 1. If this is the case, it can be removed as it is not useful."
   ]
  },
  {
   "cell_type": "code",
   "execution_count": null,
   "metadata": {
    "ExecuteTime": {
     "end_time": "2018-09-23T16:44:24.976711Z",
     "start_time": "2018-09-23T16:44:24.968274Z"
    }
   },
   "outputs": [],
   "source": [
    "# print unique values in OnTwitter column\n",
    "print(\"\\n- Unique values for OnTwitter:\", pd.unique(clean_df.OnTwitter.ravel()))\n",
    "\n",
    "# Remove OnTwitter column if there are only one unique value in OnTwitter\n",
    "if(len(pd.unique(clean_df.OnTwitter.ravel())) == 1):\n",
    "    clean_df = clean_df.drop('OnTwitter', 1)"
   ]
  },
  {
   "cell_type": "markdown",
   "metadata": {},
   "source": [
    "## Save the Clean data"
   ]
  },
  {
   "cell_type": "code",
   "execution_count": null,
   "metadata": {
    "ExecuteTime": {
     "end_time": "2018-09-23T16:44:25.011883Z",
     "start_time": "2018-09-23T16:44:24.980947Z"
    }
   },
   "outputs": [],
   "source": [
    "# Save cleaned dataframe to new CSV file\n",
    "clean_df.to_csv('data_ge16-candidates-twitter-elected-clean.csv', index=False)\n",
    "\n",
    "clean_df.head(1)"
   ]
  },
  {
   "cell_type": "markdown",
   "metadata": {
    "toc": true
   },
   "source": [
    "<h1>Table of Contents<span class=\"tocSkip\"></span></h1>\n",
    "<div class=\"toc\"><ul class=\"toc-item\"><li><span><a href=\"#Load-data-into-Dataframe\" data-toc-modified-id=\"Load-data-into-Dataframe-1\"><span class=\"toc-item-num\">1&nbsp;&nbsp;</span>Load data into Dataframe</a></span></li><li><span><a href=\"#Search-Information-in-Raw-Text\" data-toc-modified-id=\"Search-Information-in-Raw-Text-2\"><span class=\"toc-item-num\">2&nbsp;&nbsp;</span>Search Information in Raw Text</a></span><ul class=\"toc-item\"><li><span><a href=\"#Index-of-Word\" data-toc-modified-id=\"Index-of-Word-2.1\"><span class=\"toc-item-num\">2.1&nbsp;&nbsp;</span>Index of Word</a></span></li><li><span><a href=\"#Word-Concordance\" data-toc-modified-id=\"Word-Concordance-2.2\"><span class=\"toc-item-num\">2.2&nbsp;&nbsp;</span>Word Concordance</a></span></li><li><span><a href=\"#Counting\" data-toc-modified-id=\"Counting-2.3\"><span class=\"toc-item-num\">2.3&nbsp;&nbsp;</span>Counting</a></span></li><li><span><a href=\"#Findall-using-Regular-Expression\" data-toc-modified-id=\"Findall-using-Regular-Expression-2.4\"><span class=\"toc-item-num\">2.4&nbsp;&nbsp;</span>Findall using Regular Expression</a></span><ul class=\"toc-item\"><li><span><a href=\"#Harry's-best-friend\" data-toc-modified-id=\"Harry's-best-friend-2.4.1\"><span class=\"toc-item-num\">2.4.1&nbsp;&nbsp;</span>Harry's best friend</a></span></li><li><span><a href=\"#Number-of-Professors-in-Harry-Potter-1\" data-toc-modified-id=\"Number-of-Professors-in-Harry-Potter-1-2.4.2\"><span class=\"toc-item-num\">2.4.2&nbsp;&nbsp;</span>Number of Professors in Harry Potter 1</a></span></li></ul></li></ul></li><li><span><a href=\"#Tokenization\" data-toc-modified-id=\"Tokenization-3\"><span class=\"toc-item-num\">3&nbsp;&nbsp;</span>Tokenization</a></span></li><li><span><a href=\"#Decapitalization-(if-necessary)\" data-toc-modified-id=\"Decapitalization-(if-necessary)-4\"><span class=\"toc-item-num\">4&nbsp;&nbsp;</span>Decapitalization (if necessary)</a></span></li><li><span><a href=\"#Remove\" data-toc-modified-id=\"Remove-5\"><span class=\"toc-item-num\">5&nbsp;&nbsp;</span>Remove</a></span><ul class=\"toc-item\"><li><span><a href=\"#Remove-Stop-Words\" data-toc-modified-id=\"Remove-Stop-Words-5.1\"><span class=\"toc-item-num\">5.1&nbsp;&nbsp;</span>Remove Stop Words</a></span></li><li><span><a href=\"#Handle-the-CAPITALIZED-Word\" data-toc-modified-id=\"Handle-the-CAPITALIZED-Word-5.2\"><span class=\"toc-item-num\">5.2&nbsp;&nbsp;</span>Handle the CAPITALIZED Word</a></span></li><li><span><a href=\"#Remove-Salutation\" data-toc-modified-id=\"Remove-Salutation-5.3\"><span class=\"toc-item-num\">5.3&nbsp;&nbsp;</span>Remove Salutation</a></span></li><li><span><a href=\"#Remove-Numbers\" data-toc-modified-id=\"Remove-Numbers-5.4\"><span class=\"toc-item-num\">5.4&nbsp;&nbsp;</span>Remove Numbers</a></span></li></ul></li><li><span><a href=\"#Stemming-and-Lemmatization\" data-toc-modified-id=\"Stemming-and-Lemmatization-6\"><span class=\"toc-item-num\">6&nbsp;&nbsp;</span>Stemming and Lemmatization</a></span><ul class=\"toc-item\"><li><ul class=\"toc-item\"><li><span><a href=\"#Stemming\" data-toc-modified-id=\"Stemming-6.0.1\"><span class=\"toc-item-num\">6.0.1&nbsp;&nbsp;</span>Stemming</a></span></li><li><span><a href=\"#Lemmatization\" data-toc-modified-id=\"Lemmatization-6.0.2\"><span class=\"toc-item-num\">6.0.2&nbsp;&nbsp;</span>Lemmatization</a></span></li></ul></li></ul></li><li><span><a href=\"#Apply-those-techniques-to-the-Series\" data-toc-modified-id=\"Apply-those-techniques-to-the-Series-7\"><span class=\"toc-item-num\">7&nbsp;&nbsp;</span>Apply those techniques to the Series</a></span></li><li><span><a href=\"#Plot-the-Wordcloud\" data-toc-modified-id=\"Plot-the-Wordcloud-8\"><span class=\"toc-item-num\">8&nbsp;&nbsp;</span>Plot the Wordcloud</a></span></li><li><span><a href=\"#Top-10-Most-Common-Words\" data-toc-modified-id=\"Top-10-Most-Common-Words-9\"><span class=\"toc-item-num\">9&nbsp;&nbsp;</span>Top-10 Most Common Words</a></span></li><li><span><a href=\"#Get-Noun-Only-+-Plot-10-Top-Most-Common-Nouns\" data-toc-modified-id=\"Get-Noun-Only-+-Plot-10-Top-Most-Common-Nouns-10\"><span class=\"toc-item-num\">10&nbsp;&nbsp;</span>Get Noun Only + Plot 10-Top Most Common Nouns</a></span></li><li><span><a href=\"#Extra-Tasks:\" data-toc-modified-id=\"Extra-Tasks:-11\"><span class=\"toc-item-num\">11&nbsp;&nbsp;</span>Extra Tasks:</a></span><ul class=\"toc-item\"><li><span><a href=\"#Get-Proper-Nouns\" data-toc-modified-id=\"Get-Proper-Nouns-11.1\"><span class=\"toc-item-num\">11.1&nbsp;&nbsp;</span>Get Proper Nouns</a></span></li><li><span><a href=\"#Check-the-dispersion_plot\" data-toc-modified-id=\"Check-the-dispersion_plot-11.2\"><span class=\"toc-item-num\">11.2&nbsp;&nbsp;</span>Check the dispersion_plot</a></span><ul class=\"toc-item\"><li><span><a href=\"#For-Harry-Potter-1\" data-toc-modified-id=\"For-Harry-Potter-1-11.2.1\"><span class=\"toc-item-num\">11.2.1&nbsp;&nbsp;</span>For Harry Potter 1</a></span></li><li><span><a href=\"#For-All-Books\" data-toc-modified-id=\"For-All-Books-11.2.2\"><span class=\"toc-item-num\">11.2.2&nbsp;&nbsp;</span>For All Books</a></span></li></ul></li></ul></li></ul></div>"
   ]
  },
  {
   "cell_type": "code",
   "execution_count": null,
   "metadata": {
    "ExecuteTime": {
     "end_time": "2018-09-30T15:30:01.032205Z",
     "start_time": "2018-09-30T15:30:01.025889Z"
    }
   },
   "outputs": [],
   "source": [
    "import numpy as np\n",
    "import nltk, io, os\n",
    "import pandas as pd\n",
    "import warnings\n",
    "import matplotlib.pyplot as plt\n",
    "warnings.filterwarnings('ignore')"
   ]
  },
  {
   "cell_type": "markdown",
   "metadata": {},
   "source": [
    "## Load data into Dataframe"
   ]
  },
  {
   "cell_type": "code",
   "execution_count": null,
   "metadata": {
    "ExecuteTime": {
     "end_time": "2018-09-30T15:30:01.039531Z",
     "start_time": "2018-09-30T15:30:01.035947Z"
    }
   },
   "outputs": [],
   "source": [
    "datapath = './Data/'"
   ]
  },
  {
   "cell_type": "code",
   "execution_count": null,
   "metadata": {
    "ExecuteTime": {
     "end_time": "2018-09-30T15:30:01.140389Z",
     "start_time": "2018-09-30T15:30:01.051519Z"
    }
   },
   "outputs": [],
   "source": [
    "df_raw = pd.DataFrame([],columns=['Book','Name','Content'])\n",
    "\n",
    "for root, directories, files in os.walk(datapath):\n",
    "    for filename in files:\n",
    "        _name = os.path.splitext(filename)[0]\n",
    "        _book, _name = _name.split(' - ')\n",
    "        \n",
    "        filepath = os.path.join(root, filename)\n",
    "        \n",
    "        f = open(filepath,\"r\",encoding='latin') \n",
    "        _content = f.read()\n",
    "\n",
    "        pieces = {'Book': _book, 'Name': _name, 'Content':_content}\n",
    "        df_raw = df_raw.append(pieces,ignore_index=True)\n",
    "df_raw"
   ]
  },
  {
   "cell_type": "code",
   "execution_count": null,
   "metadata": {
    "ExecuteTime": {
     "end_time": "2018-09-30T15:30:01.195232Z",
     "start_time": "2018-09-30T15:30:01.143587Z"
    }
   },
   "outputs": [],
   "source": [
    "df_raw = df_raw.sort_values(by='Book', ascending=True, na_position='first')\n",
    "df_raw = df_raw.reset_index(drop=True)\n",
    "df_raw"
   ]
  },
  {
   "cell_type": "code",
   "execution_count": null,
   "metadata": {
    "ExecuteTime": {
     "end_time": "2018-09-30T15:30:01.374434Z",
     "start_time": "2018-09-30T15:30:01.199204Z"
    }
   },
   "outputs": [],
   "source": [
    "## Save data into CSV RAW file\n",
    "df_raw.to_csv('HarryData_raw.csv',sep=',',index=None)\n",
    "del df_raw"
   ]
  },
  {
   "cell_type": "code",
   "execution_count": null,
   "metadata": {
    "ExecuteTime": {
     "end_time": "2018-09-30T15:30:01.494227Z",
     "start_time": "2018-09-30T15:30:01.377607Z"
    }
   },
   "outputs": [],
   "source": [
    "## Check the saved data by re-load again\n",
    "df_raw = pd.read_csv('HarryData_raw.csv',sep=',')\n",
    "df_raw"
   ]
  },
  {
   "cell_type": "markdown",
   "metadata": {},
   "source": [
    "## Search Information in Raw Text"
   ]
  },
  {
   "cell_type": "markdown",
   "metadata": {},
   "source": [
    "- Make the sample_content by using HP1 text"
   ]
  },
  {
   "cell_type": "code",
   "execution_count": null,
   "metadata": {
    "ExecuteTime": {
     "end_time": "2018-09-30T15:30:01.501929Z",
     "start_time": "2018-09-30T15:30:01.497839Z"
    }
   },
   "outputs": [],
   "source": [
    "sample_raw_text = df_raw.iloc[0]['Content']"
   ]
  },
  {
   "cell_type": "markdown",
   "metadata": {},
   "source": [
    "### Index of Word"
   ]
  },
  {
   "cell_type": "code",
   "execution_count": null,
   "metadata": {
    "ExecuteTime": {
     "end_time": "2018-09-30T15:30:01.512603Z",
     "start_time": "2018-09-30T15:30:01.505826Z"
    },
    "scrolled": true
   },
   "outputs": [],
   "source": [
    "## Return the first index of word \"Ron\"\n",
    "sample_raw_text.index(\"Ron\")"
   ]
  },
  {
   "cell_type": "code",
   "execution_count": null,
   "metadata": {
    "ExecuteTime": {
     "end_time": "2018-09-30T15:30:01.522672Z",
     "start_time": "2018-09-30T15:30:01.515326Z"
    }
   },
   "outputs": [],
   "source": [
    "## We can return all index of \"Ron\" by using regular expression library\n",
    "import re\n",
    "list_ron = [m.start() for m in re.finditer('Ron', sample_raw_text)]\n",
    "print(list_ron[0:10])  ## Print 10 first indices of \"Ron\""
   ]
  },
  {
   "cell_type": "markdown",
   "metadata": {},
   "source": [
    "### Word Concordance\n",
    " - A concordance view shows us every occurrence of a given word, together with some context.\n",
    " - Word matching is not case-sensitive."
   ]
  },
  {
   "cell_type": "code",
   "execution_count": null,
   "metadata": {
    "ExecuteTime": {
     "end_time": "2018-09-30T15:30:02.555341Z",
     "start_time": "2018-09-30T15:30:01.526253Z"
    }
   },
   "outputs": [],
   "source": [
    "_tokens = nltk.word_tokenize(sample_raw_text)\n",
    "text = nltk.Text(_tokens)"
   ]
  },
  {
   "cell_type": "code",
   "execution_count": null,
   "metadata": {
    "ExecuteTime": {
     "end_time": "2018-09-30T15:30:02.664649Z",
     "start_time": "2018-09-30T15:30:02.557575Z"
    }
   },
   "outputs": [],
   "source": [
    "text.concordance(\"Ron\",True)"
   ]
  },
  {
   "cell_type": "markdown",
   "metadata": {},
   "source": [
    "### Counting"
   ]
  },
  {
   "cell_type": "code",
   "execution_count": null,
   "metadata": {
    "ExecuteTime": {
     "end_time": "2018-09-30T15:30:02.682935Z",
     "start_time": "2018-09-30T15:30:02.668674Z"
    }
   },
   "outputs": [],
   "source": [
    "text.count('Ron') + text.count('ron')  "
   ]
  },
  {
   "cell_type": "code",
   "execution_count": null,
   "metadata": {
    "ExecuteTime": {
     "end_time": "2018-09-30T15:30:02.762065Z",
     "start_time": "2018-09-30T15:30:02.689018Z"
    }
   },
   "outputs": [],
   "source": [
    "## Another way: using regular expression\n",
    "len(re.findall(r' [Rr]on ',' '.join(text)))"
   ]
  },
  {
   "cell_type": "code",
   "execution_count": null,
   "metadata": {
    "ExecuteTime": {
     "end_time": "2018-09-30T15:30:02.826859Z",
     "start_time": "2018-09-30T15:30:02.765641Z"
    }
   },
   "outputs": [],
   "source": [
    "## However, we can't get the same result here. Why?\n",
    "len(re.findall(r'[Rr]on',' '.join(text)))"
   ]
  },
  {
   "cell_type": "markdown",
   "metadata": {},
   "source": [
    "Because the finding contains many different cases. \n",
    "\n",
    "E.g.: \"f[ron]t\", \"st[ron]g\", \"w[ron]g\", \"[Ron]nie\", \"[Ron]an\" etc."
   ]
  },
  {
   "cell_type": "markdown",
   "metadata": {
    "ExecuteTime": {
     "end_time": "2018-09-30T12:03:43.228002Z",
     "start_time": "2018-09-30T12:03:43.223007Z"
    }
   },
   "source": [
    "### Findall using Regular Expression"
   ]
  },
  {
   "cell_type": "markdown",
   "metadata": {},
   "source": [
    "#### Harry's best friend"
   ]
  },
  {
   "cell_type": "code",
   "execution_count": null,
   "metadata": {
    "ExecuteTime": {
     "end_time": "2018-09-30T15:30:02.915196Z",
     "start_time": "2018-09-30T15:30:02.830302Z"
    }
   },
   "outputs": [],
   "source": [
    "text.findall(r'<Harry> <.*> <Ron>')"
   ]
  },
  {
   "cell_type": "code",
   "execution_count": null,
   "metadata": {
    "ExecuteTime": {
     "end_time": "2018-09-30T15:30:02.929512Z",
     "start_time": "2018-09-30T15:30:02.920143Z"
    }
   },
   "outputs": [],
   "source": [
    "text.findall(r'<Harry> <\\w+> <Ron>')"
   ]
  },
  {
   "cell_type": "code",
   "execution_count": null,
   "metadata": {
    "ExecuteTime": {
     "end_time": "2018-09-30T15:30:02.946362Z",
     "start_time": "2018-09-30T15:30:02.933403Z"
    }
   },
   "outputs": [],
   "source": [
    "no_ron = len(re.findall(r'Harry and Ron',sample_raw_text))\n",
    "no_hermione = len(re.findall(r'Harry and Hermione',sample_raw_text))\n",
    "print('The occurrences of [Harry] and [Ron] together: ' + str(no_ron))\n",
    "print('The occurrences of [Harry] and [Hermione] together: ' + str(no_hermione))\n",
    "print(\" ===> Ron is Harry's best friend!\")"
   ]
  },
  {
   "cell_type": "markdown",
   "metadata": {},
   "source": [
    "#### Number of Professors in Harry Potter 1"
   ]
  },
  {
   "cell_type": "code",
   "execution_count": null,
   "metadata": {
    "ExecuteTime": {
     "end_time": "2018-09-30T15:30:03.006860Z",
     "start_time": "2018-09-30T15:30:02.949905Z"
    }
   },
   "outputs": [],
   "source": [
    "no_prof = len(set(re.findall(r'[Pp]*rofessor [A-Z]\\w+',sample_raw_text)))\n",
    "print('Number of Professor in Harry Potter 1 is: '+ str(no_prof))\n",
    "print('The name of Professors are: ' + str(set(re.findall(r'[Pp]*rofessor [A-Z]\\w+',sample_raw_text))))"
   ]
  },
  {
   "cell_type": "markdown",
   "metadata": {},
   "source": [
    "## Tokenization\n",
    "Split the Raw Text into Tokens by using Regular Expression Filter"
   ]
  },
  {
   "cell_type": "code",
   "execution_count": null,
   "metadata": {
    "ExecuteTime": {
     "end_time": "2018-09-30T15:30:03.065634Z",
     "start_time": "2018-09-30T15:30:03.011196Z"
    }
   },
   "outputs": [],
   "source": [
    "# Tokenization\n",
    "from nltk.tokenize import RegexpTokenizer\n",
    "pattern = r'\\w+'\n",
    "tokenizer = RegexpTokenizer(pattern)\n",
    "token_words = tokenizer.tokenize(sample_raw_text)\n",
    "print('Tokens:' + str(token_words[0:10]))"
   ]
  },
  {
   "cell_type": "markdown",
   "metadata": {},
   "source": [
    "## Decapitalization (if necessary)\n",
    "This step will decapitalize all words in Tokens list. It will help the checking "
   ]
  },
  {
   "cell_type": "code",
   "execution_count": null,
   "metadata": {
    "ExecuteTime": {
     "end_time": "2018-09-30T15:30:03.075020Z",
     "start_time": "2018-09-30T15:30:03.069387Z"
    }
   },
   "outputs": [],
   "source": [
    "# # Decapitalization\n",
    "# token_words = [word.lower() for word in token_words]\n",
    "# print('Decapitalized Tokens:' + str(token_words[0:10]))"
   ]
  },
  {
   "cell_type": "markdown",
   "metadata": {},
   "source": [
    "## Remove"
   ]
  },
  {
   "cell_type": "markdown",
   "metadata": {},
   "source": [
    " ### Remove Stop Words"
   ]
  },
  {
   "cell_type": "code",
   "execution_count": null,
   "metadata": {
    "ExecuteTime": {
     "end_time": "2018-09-30T15:30:03.615911Z",
     "start_time": "2018-09-30T15:30:03.088340Z"
    }
   },
   "outputs": [],
   "source": [
    "# Remove stop words\n",
    "from nltk.corpus import stopwords\n",
    "stopwords_json = {\"af\":[\"'n\",\"aan\",\"af\",\"al\",\"as\",\"baie\",\"by\",\"daar\",\"dag\",\"dat\",\"die\",\"dit\",\"een\",\"ek\",\"en\",\"gaan\",\"gesê\",\"haar\",\"het\",\"hom\",\"hulle\",\"hy\",\"in\",\"is\",\"jou\",\"jy\",\"kan\",\"kom\",\"ma\",\"maar\",\"met\",\"my\",\"na\",\"nie\",\"om\",\"ons\",\"op\",\"saam\",\"sal\",\"se\",\"sien\",\"so\",\"sy\",\"te\",\"toe\",\"uit\",\"van\",\"vir\",\"was\",\"wat\",\"ŉ\"],\"ha\":[\"a\",\"amma\",\"ba\",\"ban\",\"ce\",\"cikin\",\"da\",\"don\",\"ga\",\"in\",\"ina\",\"ita\",\"ji\",\"ka\",\"ko\",\"kuma\",\"lokacin\",\"ma\",\"mai\",\"na\",\"ne\",\"ni\",\"sai\",\"shi\",\"su\",\"suka\",\"sun\",\"ta\",\"tafi\",\"take\",\"tana\",\"wani\",\"wannan\",\"wata\",\"ya\",\"yake\",\"yana\",\"yi\",\"za\"],\"so\":[\"aad\",\"albaabkii\",\"atabo\",\"ay\",\"ayaa\",\"ayee\",\"ayuu\",\"dhan\",\"hadana\",\"in\",\"inuu\",\"isku\",\"jiray\",\"jirtay\",\"ka\",\"kale\",\"kasoo\",\"ku\",\"kuu\",\"lakin\",\"markii\",\"oo\",\"si\",\"soo\",\"uga\",\"ugu\",\"uu\",\"waa\",\"waxa\",\"waxuu\"],\"st\":[\"a\",\"ba\",\"bane\",\"bona\",\"e\",\"ea\",\"eaba\",\"empa\",\"ena\",\"ha\",\"hae\",\"hape\",\"ho\",\"hore\",\"ka\",\"ke\",\"la\",\"le\",\"li\",\"me\",\"mo\",\"moo\",\"ne\",\"o\",\"oa\",\"re\",\"sa\",\"se\",\"tloha\",\"tsa\",\"tse\"],\"sw\":[\"akasema\",\"alikuwa\",\"alisema\",\"baada\",\"basi\",\"bila\",\"cha\",\"chini\",\"hadi\",\"hapo\",\"hata\",\"hivyo\",\"hiyo\",\"huku\",\"huo\",\"ili\",\"ilikuwa\",\"juu\",\"kama\",\"karibu\",\"katika\",\"kila\",\"kima\",\"kisha\",\"kubwa\",\"kutoka\",\"kuwa\",\"kwa\",\"kwamba\",\"kwenda\",\"kwenye\",\"la\",\"lakini\",\"mara\",\"mdogo\",\"mimi\",\"mkubwa\",\"mmoja\",\"moja\",\"muda\",\"mwenye\",\"na\",\"naye\",\"ndani\",\"ng\",\"ni\",\"nini\",\"nonkungu\",\"pamoja\",\"pia\",\"sana\",\"sasa\",\"sauti\",\"tafadhali\",\"tena\",\"tu\",\"vile\",\"wa\",\"wakati\",\"wake\",\"walikuwa\",\"wao\",\"watu\",\"wengine\",\"wote\",\"ya\",\"yake\",\"yangu\",\"yao\",\"yeye\",\"yule\",\"za\",\"zaidi\",\"zake\"],\"yo\":[\"a\",\"an\",\"bá\",\"bí\",\"bẹ̀rẹ̀\",\"fún\",\"fẹ́\",\"gbogbo\",\"inú\",\"jù\",\"jẹ\",\"jẹ́\",\"kan\",\"kì\",\"kí\",\"kò\",\"láti\",\"lè\",\"lọ\",\"mi\",\"mo\",\"máa\",\"mọ̀\",\"ni\",\"náà\",\"ní\",\"nígbà\",\"nítorí\",\"nǹkan\",\"o\",\"padà\",\"pé\",\"púpọ̀\",\"pẹ̀lú\",\"rẹ̀\",\"sì\",\"sí\",\"sínú\",\"ṣ\",\"ti\",\"tí\",\"wà\",\"wá\",\"wọn\",\"wọ́n\",\"yìí\",\"àti\",\"àwọn\",\"é\",\"í\",\"òun\",\"ó\",\"ń\",\"ńlá\",\"ṣe\",\"ṣé\",\"ṣùgbọ́n\",\"ẹmọ́\",\"ọjọ́\",\"ọ̀pọ̀lọpọ̀\"],\"zu\":[\"futhi\",\"kahle\",\"kakhulu\",\"kanye\",\"khona\",\"kodwa\",\"kungani\",\"kusho\",\"la\",\"lakhe\",\"lapho\",\"mina\",\"ngesikhathi\",\"nje\",\"phansi\",\"phezulu\",\"u\",\"ukuba\",\"ukuthi\",\"ukuze\",\"uma\",\"wahamba\",\"wakhe\",\"wami\",\"wase\",\"wathi\",\"yakhe\",\"zakhe\",\"zonke\"],\"da\":[\"af\",\"alle\",\"andet\",\"andre\",\"at\",\"begge\",\"da\",\"de\",\"den\",\"denne\",\"der\",\"deres\",\"det\",\"dette\",\"dig\",\"din\",\"dog\",\"du\",\"ej\",\"eller\",\"en\",\"end\",\"ene\",\"eneste\",\"enhver\",\"et\",\"fem\",\"fire\",\"flere\",\"fleste\",\"for\",\"fordi\",\"forrige\",\"fra\",\"få\",\"før\",\"god\",\"han\",\"hans\",\"har\",\"hendes\",\"her\",\"hun\",\"hvad\",\"hvem\",\"hver\",\"hvilken\",\"hvis\",\"hvor\",\"hvordan\",\"hvorfor\",\"hvornår\",\"i\",\"ikke\",\"ind\",\"ingen\",\"intet\",\"jeg\",\"jeres\",\"kan\",\"kom\",\"kommer\",\"lav\",\"lidt\",\"lille\",\"man\",\"mand\",\"mange\",\"med\",\"meget\",\"men\",\"mens\",\"mere\",\"mig\",\"ned\",\"ni\",\"nogen\",\"noget\",\"ny\",\"nyt\",\"nær\",\"næste\",\"næsten\",\"og\",\"op\",\"otte\",\"over\",\"på\",\"se\",\"seks\",\"ses\",\"som\",\"stor\",\"store\",\"syv\",\"ti\",\"til\",\"to\",\"tre\",\"ud\",\"var\"],\"de\":[\"Ernst\",\"Ordnung\",\"Schluss\",\"a\",\"ab\",\"aber\",\"ach\",\"acht\",\"achte\",\"achten\",\"achter\",\"achtes\",\"ag\",\"alle\",\"allein\",\"allem\",\"allen\",\"aller\",\"allerdings\",\"alles\",\"allgemeinen\",\"als\",\"also\",\"am\",\"an\",\"andere\",\"anderen\",\"andern\",\"anders\",\"au\",\"auch\",\"auf\",\"aus\",\"ausser\",\"ausserdem\",\"außer\",\"außerdem\",\"b\",\"bald\",\"bei\",\"beide\",\"beiden\",\"beim\",\"beispiel\",\"bekannt\",\"bereits\",\"besonders\",\"besser\",\"besten\",\"bin\",\"bis\",\"bisher\",\"bist\",\"c\",\"d\",\"d.h\",\"da\",\"dabei\",\"dadurch\",\"dafür\",\"dagegen\",\"daher\",\"dahin\",\"dahinter\",\"damals\",\"damit\",\"danach\",\"daneben\",\"dank\",\"dann\",\"daran\",\"darauf\",\"daraus\",\"darf\",\"darfst\",\"darin\",\"darum\",\"darunter\",\"darüber\",\"das\",\"dasein\",\"daselbst\",\"dass\",\"dasselbe\",\"davon\",\"davor\",\"dazu\",\"dazwischen\",\"daß\",\"dein\",\"deine\",\"deinem\",\"deiner\",\"dem\",\"dementsprechend\",\"demgegenüber\",\"demgemäss\",\"demgemäß\",\"demselben\",\"demzufolge\",\"den\",\"denen\",\"denn\",\"denselben\",\"der\",\"deren\",\"derjenige\",\"derjenigen\",\"dermassen\",\"dermaßen\",\"derselbe\",\"derselben\",\"des\",\"deshalb\",\"desselben\",\"dessen\",\"deswegen\",\"dich\",\"die\",\"diejenige\",\"diejenigen\",\"dies\",\"diese\",\"dieselbe\",\"dieselben\",\"diesem\",\"diesen\",\"dieser\",\"dieses\",\"dir\",\"doch\",\"dort\",\"drei\",\"drin\",\"dritte\",\"dritten\",\"dritter\",\"drittes\",\"du\",\"durch\",\"durchaus\",\"durfte\",\"durften\",\"dürfen\",\"dürft\",\"e\",\"eben\",\"ebenso\",\"ehrlich\",\"ei\",\"ei,\",\"eigen\",\"eigene\",\"eigenen\",\"eigener\",\"eigenes\",\"ein\",\"einander\",\"eine\",\"einem\",\"einen\",\"einer\",\"eines\",\"einige\",\"einigen\",\"einiger\",\"einiges\",\"einmal\",\"eins\",\"elf\",\"en\",\"ende\",\"endlich\",\"entweder\",\"er\",\"erst\",\"erste\",\"ersten\",\"erster\",\"erstes\",\"es\",\"etwa\",\"etwas\",\"euch\",\"euer\",\"eure\",\"f\",\"folgende\",\"früher\",\"fünf\",\"fünfte\",\"fünften\",\"fünfter\",\"fünftes\",\"für\",\"g\",\"gab\",\"ganz\",\"ganze\",\"ganzen\",\"ganzer\",\"ganzes\",\"gar\",\"gedurft\",\"gegen\",\"gegenüber\",\"gehabt\",\"gehen\",\"geht\",\"gekannt\",\"gekonnt\",\"gemacht\",\"gemocht\",\"gemusst\",\"genug\",\"gerade\",\"gern\",\"gesagt\",\"geschweige\",\"gewesen\",\"gewollt\",\"geworden\",\"gibt\",\"ging\",\"gleich\",\"gott\",\"gross\",\"grosse\",\"grossen\",\"grosser\",\"grosses\",\"groß\",\"große\",\"großen\",\"großer\",\"großes\",\"gut\",\"gute\",\"guter\",\"gutes\",\"h\",\"habe\",\"haben\",\"habt\",\"hast\",\"hat\",\"hatte\",\"hatten\",\"hattest\",\"hattet\",\"heisst\",\"her\",\"heute\",\"hier\",\"hin\",\"hinter\",\"hoch\",\"hätte\",\"hätten\",\"i\",\"ich\",\"ihm\",\"ihn\",\"ihnen\",\"ihr\",\"ihre\",\"ihrem\",\"ihren\",\"ihrer\",\"ihres\",\"im\",\"immer\",\"in\",\"indem\",\"infolgedessen\",\"ins\",\"irgend\",\"ist\",\"j\",\"ja\",\"jahr\",\"jahre\",\"jahren\",\"je\",\"jede\",\"jedem\",\"jeden\",\"jeder\",\"jedermann\",\"jedermanns\",\"jedes\",\"jedoch\",\"jemand\",\"jemandem\",\"jemanden\",\"jene\",\"jenem\",\"jenen\",\"jener\",\"jenes\",\"jetzt\",\"k\",\"kam\",\"kann\",\"kannst\",\"kaum\",\"kein\",\"keine\",\"keinem\",\"keinen\",\"keiner\",\"kleine\",\"kleinen\",\"kleiner\",\"kleines\",\"kommen\",\"kommt\",\"konnte\",\"konnten\",\"kurz\",\"können\",\"könnt\",\"könnte\",\"l\",\"lang\",\"lange\",\"leicht\",\"leide\",\"lieber\",\"los\",\"m\",\"machen\",\"macht\",\"machte\",\"mag\",\"magst\",\"mahn\",\"mal\",\"man\",\"manche\",\"manchem\",\"manchen\",\"mancher\",\"manches\",\"mann\",\"mehr\",\"mein\",\"meine\",\"meinem\",\"meinen\",\"meiner\",\"meines\",\"mensch\",\"menschen\",\"mich\",\"mir\",\"mit\",\"mittel\",\"mochte\",\"mochten\",\"morgen\",\"muss\",\"musst\",\"musste\",\"mussten\",\"muß\",\"mußt\",\"möchte\",\"mögen\",\"möglich\",\"mögt\",\"müssen\",\"müsst\",\"müßt\",\"n\",\"na\",\"nach\",\"nachdem\",\"nahm\",\"natürlich\",\"neben\",\"nein\",\"neue\",\"neuen\",\"neun\",\"neunte\",\"neunten\",\"neunter\",\"neuntes\",\"nicht\",\"nichts\",\"nie\",\"niemand\",\"niemandem\",\"niemanden\",\"noch\",\"nun\",\"nur\",\"o\",\"ob\",\"oben\",\"oder\",\"offen\",\"oft\",\"ohne\",\"p\",\"q\",\"r\",\"recht\",\"rechte\",\"rechten\",\"rechter\",\"rechtes\",\"richtig\",\"rund\",\"s\",\"sa\",\"sache\",\"sagt\",\"sagte\",\"sah\",\"satt\",\"schlecht\",\"schon\",\"sechs\",\"sechste\",\"sechsten\",\"sechster\",\"sechstes\",\"sehr\",\"sei\",\"seid\",\"seien\",\"sein\",\"seine\",\"seinem\",\"seinen\",\"seiner\",\"seines\",\"seit\",\"seitdem\",\"selbst\",\"sich\",\"sie\",\"sieben\",\"siebente\",\"siebenten\",\"siebenter\",\"siebentes\",\"sind\",\"so\",\"solang\",\"solche\",\"solchem\",\"solchen\",\"solcher\",\"solches\",\"soll\",\"sollen\",\"sollst\",\"sollt\",\"sollte\",\"sollten\",\"sondern\",\"sonst\",\"soweit\",\"sowie\",\"später\",\"startseite\",\"statt\",\"steht\",\"suche\",\"t\",\"tag\",\"tage\",\"tagen\",\"tat\",\"teil\",\"tel\",\"tritt\",\"trotzdem\",\"tun\",\"u\",\"uhr\",\"um\",\"und\",\"und?\",\"uns\",\"unser\",\"unsere\",\"unserer\",\"unter\",\"v\",\"vergangenen\",\"viel\",\"viele\",\"vielem\",\"vielen\",\"vielleicht\",\"vier\",\"vierte\",\"vierten\",\"vierter\",\"viertes\",\"vom\",\"von\",\"vor\",\"w\",\"wahr?\",\"wann\",\"war\",\"waren\",\"wart\",\"warum\",\"was\",\"wegen\",\"weil\",\"weit\",\"weiter\",\"weitere\",\"weiteren\",\"weiteres\",\"welche\",\"welchem\",\"welchen\",\"welcher\",\"welches\",\"wem\",\"wen\",\"wenig\",\"wenige\",\"weniger\",\"weniges\",\"wenigstens\",\"wenn\",\"wer\",\"werde\",\"werden\",\"werdet\",\"weshalb\",\"wessen\",\"wie\",\"wieder\",\"wieso\",\"will\",\"willst\",\"wir\",\"wird\",\"wirklich\",\"wirst\",\"wissen\",\"wo\",\"wohl\",\"wollen\",\"wollt\",\"wollte\",\"wollten\",\"worden\",\"wurde\",\"wurden\",\"während\",\"währenddem\",\"währenddessen\",\"wäre\",\"würde\",\"würden\",\"x\",\"y\",\"z\",\"z.b\",\"zehn\",\"zehnte\",\"zehnten\",\"zehnter\",\"zehntes\",\"zeit\",\"zu\",\"zuerst\",\"zugleich\",\"zum\",\"zunächst\",\"zur\",\"zurück\",\"zusammen\",\"zwanzig\",\"zwar\",\"zwei\",\"zweite\",\"zweiten\",\"zweiter\",\"zweites\",\"zwischen\",\"zwölf\",\"über\",\"überhaupt\",\"übrigens\"],\"es\":[\"a\",\"actualmente\",\"acuerdo\",\"adelante\",\"ademas\",\"además\",\"adrede\",\"afirmó\",\"agregó\",\"ahi\",\"ahora\",\"ahí\",\"al\",\"algo\",\"alguna\",\"algunas\",\"alguno\",\"algunos\",\"algún\",\"alli\",\"allí\",\"alrededor\",\"ambos\",\"ampleamos\",\"antano\",\"antaño\",\"ante\",\"anterior\",\"antes\",\"apenas\",\"aproximadamente\",\"aquel\",\"aquella\",\"aquellas\",\"aquello\",\"aquellos\",\"aqui\",\"aquél\",\"aquélla\",\"aquéllas\",\"aquéllos\",\"aquí\",\"arriba\",\"arribaabajo\",\"aseguró\",\"asi\",\"así\",\"atras\",\"aun\",\"aunque\",\"ayer\",\"añadió\",\"aún\",\"b\",\"bajo\",\"bastante\",\"bien\",\"breve\",\"buen\",\"buena\",\"buenas\",\"bueno\",\"buenos\",\"c\",\"cada\",\"casi\",\"cerca\",\"cierta\",\"ciertas\",\"cierto\",\"ciertos\",\"cinco\",\"claro\",\"comentó\",\"como\",\"con\",\"conmigo\",\"conocer\",\"conseguimos\",\"conseguir\",\"considera\",\"consideró\",\"consigo\",\"consigue\",\"consiguen\",\"consigues\",\"contigo\",\"contra\",\"cosas\",\"creo\",\"cual\",\"cuales\",\"cualquier\",\"cuando\",\"cuanta\",\"cuantas\",\"cuanto\",\"cuantos\",\"cuatro\",\"cuenta\",\"cuál\",\"cuáles\",\"cuándo\",\"cuánta\",\"cuántas\",\"cuánto\",\"cuántos\",\"cómo\",\"d\",\"da\",\"dado\",\"dan\",\"dar\",\"de\",\"debajo\",\"debe\",\"deben\",\"debido\",\"decir\",\"dejó\",\"del\",\"delante\",\"demasiado\",\"demás\",\"dentro\",\"deprisa\",\"desde\",\"despacio\",\"despues\",\"después\",\"detras\",\"detrás\",\"dia\",\"dias\",\"dice\",\"dicen\",\"dicho\",\"dieron\",\"diferente\",\"diferentes\",\"dijeron\",\"dijo\",\"dio\",\"donde\",\"dos\",\"durante\",\"día\",\"días\",\"dónde\",\"e\",\"ejemplo\",\"el\",\"ella\",\"ellas\",\"ello\",\"ellos\",\"embargo\",\"empleais\",\"emplean\",\"emplear\",\"empleas\",\"empleo\",\"en\",\"encima\",\"encuentra\",\"enfrente\",\"enseguida\",\"entonces\",\"entre\",\"era\",\"eramos\",\"eran\",\"eras\",\"eres\",\"es\",\"esa\",\"esas\",\"ese\",\"eso\",\"esos\",\"esta\",\"estaba\",\"estaban\",\"estado\",\"estados\",\"estais\",\"estamos\",\"estan\",\"estar\",\"estará\",\"estas\",\"este\",\"esto\",\"estos\",\"estoy\",\"estuvo\",\"está\",\"están\",\"ex\",\"excepto\",\"existe\",\"existen\",\"explicó\",\"expresó\",\"f\",\"fin\",\"final\",\"fue\",\"fuera\",\"fueron\",\"fui\",\"fuimos\",\"g\",\"general\",\"gran\",\"grandes\",\"gueno\",\"h\",\"ha\",\"haber\",\"habia\",\"habla\",\"hablan\",\"habrá\",\"había\",\"habían\",\"hace\",\"haceis\",\"hacemos\",\"hacen\",\"hacer\",\"hacerlo\",\"haces\",\"hacia\",\"haciendo\",\"hago\",\"han\",\"hasta\",\"hay\",\"haya\",\"he\",\"hecho\",\"hemos\",\"hicieron\",\"hizo\",\"horas\",\"hoy\",\"hubo\",\"i\",\"igual\",\"incluso\",\"indicó\",\"informo\",\"informó\",\"intenta\",\"intentais\",\"intentamos\",\"intentan\",\"intentar\",\"intentas\",\"intento\",\"ir\",\"j\",\"junto\",\"k\",\"l\",\"la\",\"lado\",\"largo\",\"las\",\"le\",\"lejos\",\"les\",\"llegó\",\"lleva\",\"llevar\",\"lo\",\"los\",\"luego\",\"lugar\",\"m\",\"mal\",\"manera\",\"manifestó\",\"mas\",\"mayor\",\"me\",\"mediante\",\"medio\",\"mejor\",\"mencionó\",\"menos\",\"menudo\",\"mi\",\"mia\",\"mias\",\"mientras\",\"mio\",\"mios\",\"mis\",\"misma\",\"mismas\",\"mismo\",\"mismos\",\"modo\",\"momento\",\"mucha\",\"muchas\",\"mucho\",\"muchos\",\"muy\",\"más\",\"mí\",\"mía\",\"mías\",\"mío\",\"míos\",\"n\",\"nada\",\"nadie\",\"ni\",\"ninguna\",\"ningunas\",\"ninguno\",\"ningunos\",\"ningún\",\"no\",\"nos\",\"nosotras\",\"nosotros\",\"nuestra\",\"nuestras\",\"nuestro\",\"nuestros\",\"nueva\",\"nuevas\",\"nuevo\",\"nuevos\",\"nunca\",\"o\",\"ocho\",\"os\",\"otra\",\"otras\",\"otro\",\"otros\",\"p\",\"pais\",\"para\",\"parece\",\"parte\",\"partir\",\"pasada\",\"pasado\",\"paìs\",\"peor\",\"pero\",\"pesar\",\"poca\",\"pocas\",\"poco\",\"pocos\",\"podeis\",\"podemos\",\"poder\",\"podria\",\"podriais\",\"podriamos\",\"podrian\",\"podrias\",\"podrá\",\"podrán\",\"podría\",\"podrían\",\"poner\",\"por\",\"porque\",\"posible\",\"primer\",\"primera\",\"primero\",\"primeros\",\"principalmente\",\"pronto\",\"propia\",\"propias\",\"propio\",\"propios\",\"proximo\",\"próximo\",\"próximos\",\"pudo\",\"pueda\",\"puede\",\"pueden\",\"puedo\",\"pues\",\"q\",\"qeu\",\"que\",\"quedó\",\"queremos\",\"quien\",\"quienes\",\"quiere\",\"quiza\",\"quizas\",\"quizá\",\"quizás\",\"quién\",\"quiénes\",\"qué\",\"r\",\"raras\",\"realizado\",\"realizar\",\"realizó\",\"repente\",\"respecto\",\"s\",\"sabe\",\"sabeis\",\"sabemos\",\"saben\",\"saber\",\"sabes\",\"salvo\",\"se\",\"sea\",\"sean\",\"segun\",\"segunda\",\"segundo\",\"según\",\"seis\",\"ser\",\"sera\",\"será\",\"serán\",\"sería\",\"señaló\",\"si\",\"sido\",\"siempre\",\"siendo\",\"siete\",\"sigue\",\"siguiente\",\"sin\",\"sino\",\"sobre\",\"sois\",\"sola\",\"solamente\",\"solas\",\"solo\",\"solos\",\"somos\",\"son\",\"soy\",\"soyos\",\"su\",\"supuesto\",\"sus\",\"suya\",\"suyas\",\"suyo\",\"sé\",\"sí\",\"sólo\",\"t\",\"tal\",\"tambien\",\"también\",\"tampoco\",\"tan\",\"tanto\",\"tarde\",\"te\",\"temprano\",\"tendrá\",\"tendrán\",\"teneis\",\"tenemos\",\"tener\",\"tenga\",\"tengo\",\"tenido\",\"tenía\",\"tercera\",\"ti\",\"tiempo\",\"tiene\",\"tienen\",\"toda\",\"todas\",\"todavia\",\"todavía\",\"todo\",\"todos\",\"total\",\"trabaja\",\"trabajais\",\"trabajamos\",\"trabajan\",\"trabajar\",\"trabajas\",\"trabajo\",\"tras\",\"trata\",\"través\",\"tres\",\"tu\",\"tus\",\"tuvo\",\"tuya\",\"tuyas\",\"tuyo\",\"tuyos\",\"tú\",\"u\",\"ultimo\",\"un\",\"una\",\"unas\",\"uno\",\"unos\",\"usa\",\"usais\",\"usamos\",\"usan\",\"usar\",\"usas\",\"uso\",\"usted\",\"ustedes\",\"v\",\"va\",\"vais\",\"valor\",\"vamos\",\"van\",\"varias\",\"varios\",\"vaya\",\"veces\",\"ver\",\"verdad\",\"verdadera\",\"verdadero\",\"vez\",\"vosotras\",\"vosotros\",\"voy\",\"vuestra\",\"vuestras\",\"vuestro\",\"vuestros\",\"w\",\"x\",\"y\",\"ya\",\"yo\",\"z\",\"él\",\"ésa\",\"ésas\",\"ése\",\"ésos\",\"ésta\",\"éstas\",\"éste\",\"éstos\",\"última\",\"últimas\",\"último\",\"últimos\"],\"et\":[\"aga\",\"ei\",\"et\",\"ja\",\"jah\",\"kas\",\"kui\",\"kõik\",\"ma\",\"me\",\"mida\",\"midagi\",\"mind\",\"minu\",\"mis\",\"mu\",\"mul\",\"mulle\",\"nad\",\"nii\",\"oled\",\"olen\",\"oli\",\"oma\",\"on\",\"pole\",\"sa\",\"seda\",\"see\",\"selle\",\"siin\",\"siis\",\"ta\",\"te\",\"ära\"],\"fi\":[\"aiemmin\",\"aika\",\"aikaa\",\"aikaan\",\"aikaisemmin\",\"aikaisin\",\"aikajen\",\"aikana\",\"aikoina\",\"aikoo\",\"aikovat\",\"aina\",\"ainakaan\",\"ainakin\",\"ainoa\",\"ainoat\",\"aiomme\",\"aion\",\"aiotte\",\"aist\",\"aivan\",\"ajan\",\"alas\",\"alemmas\",\"alkuisin\",\"alkuun\",\"alla\",\"alle\",\"aloitamme\",\"aloitan\",\"aloitat\",\"aloitatte\",\"aloitattivat\",\"aloitettava\",\"aloitettevaksi\",\"aloitettu\",\"aloitimme\",\"aloitin\",\"aloitit\",\"aloititte\",\"aloittaa\",\"aloittamatta\",\"aloitti\",\"aloittivat\",\"alta\",\"aluksi\",\"alussa\",\"alusta\",\"annettavaksi\",\"annetteva\",\"annettu\",\"ansiosta\",\"antaa\",\"antamatta\",\"antoi\",\"aoua\",\"apu\",\"asia\",\"asiaa\",\"asian\",\"asiasta\",\"asiat\",\"asioiden\",\"asioihin\",\"asioita\",\"asti\",\"avuksi\",\"avulla\",\"avun\",\"avutta\",\"edelle\",\"edelleen\",\"edellä\",\"edeltä\",\"edemmäs\",\"edes\",\"edessä\",\"edestä\",\"ehkä\",\"ei\",\"eikä\",\"eilen\",\"eivät\",\"eli\",\"ellei\",\"elleivät\",\"ellemme\",\"ellen\",\"ellet\",\"ellette\",\"emme\",\"en\",\"enemmän\",\"eniten\",\"ennen\",\"ensi\",\"ensimmäinen\",\"ensimmäiseksi\",\"ensimmäisen\",\"ensimmäisenä\",\"ensimmäiset\",\"ensimmäisiksi\",\"ensimmäisinä\",\"ensimmäisiä\",\"ensimmäistä\",\"ensin\",\"entinen\",\"entisen\",\"entisiä\",\"entisten\",\"entistä\",\"enää\",\"eri\",\"erittäin\",\"erityisesti\",\"eräiden\",\"eräs\",\"eräät\",\"esi\",\"esiin\",\"esillä\",\"esimerkiksi\",\"et\",\"eteen\",\"etenkin\",\"etessa\",\"ette\",\"ettei\",\"että\",\"haikki\",\"halua\",\"haluaa\",\"haluamatta\",\"haluamme\",\"haluan\",\"haluat\",\"haluatte\",\"haluavat\",\"halunnut\",\"halusi\",\"halusimme\",\"halusin\",\"halusit\",\"halusitte\",\"halusivat\",\"halutessa\",\"haluton\",\"he\",\"hei\",\"heidän\",\"heihin\",\"heille\",\"heiltä\",\"heissä\",\"heistä\",\"heitä\",\"helposti\",\"heti\",\"hetkellä\",\"hieman\",\"hitaasti\",\"hoikein\",\"huolimatta\",\"huomenna\",\"hyvien\",\"hyviin\",\"hyviksi\",\"hyville\",\"hyviltä\",\"hyvin\",\"hyvinä\",\"hyvissä\",\"hyvistä\",\"hyviä\",\"hyvä\",\"hyvät\",\"hyvää\",\"hän\",\"häneen\",\"hänelle\",\"hänellä\",\"häneltä\",\"hänen\",\"hänessä\",\"hänestä\",\"hänet\",\"ihan\",\"ilman\",\"ilmeisesti\",\"itse\",\"itsensä\",\"itseään\",\"ja\",\"jo\",\"johon\",\"joiden\",\"joihin\",\"joiksi\",\"joilla\",\"joille\",\"joilta\",\"joissa\",\"joista\",\"joita\",\"joka\",\"jokainen\",\"jokin\",\"joko\",\"joku\",\"jolla\",\"jolle\",\"jolloin\",\"jolta\",\"jompikumpi\",\"jonka\",\"jonkin\",\"jonne\",\"joo\",\"jopa\",\"jos\",\"joskus\",\"jossa\",\"josta\",\"jota\",\"jotain\",\"joten\",\"jotenkin\",\"jotenkuten\",\"jotka\",\"jotta\",\"jouduimme\",\"jouduin\",\"jouduit\",\"jouduitte\",\"joudumme\",\"joudun\",\"joudutte\",\"joukkoon\",\"joukossa\",\"joukosta\",\"joutua\",\"joutui\",\"joutuivat\",\"joutumaan\",\"joutuu\",\"joutuvat\",\"juuri\",\"jälkeen\",\"jälleen\",\"jää\",\"kahdeksan\",\"kahdeksannen\",\"kahdella\",\"kahdelle\",\"kahdelta\",\"kahden\",\"kahdessa\",\"kahdesta\",\"kahta\",\"kahteen\",\"kai\",\"kaiken\",\"kaikille\",\"kaikilta\",\"kaikkea\",\"kaikki\",\"kaikkia\",\"kaikkiaan\",\"kaikkialla\",\"kaikkialle\",\"kaikkialta\",\"kaikkien\",\"kaikkin\",\"kaksi\",\"kannalta\",\"kannattaa\",\"kanssa\",\"kanssaan\",\"kanssamme\",\"kanssani\",\"kanssanne\",\"kanssasi\",\"kauan\",\"kauemmas\",\"kaukana\",\"kautta\",\"kehen\",\"keiden\",\"keihin\",\"keiksi\",\"keille\",\"keillä\",\"keiltä\",\"keinä\",\"keissä\",\"keistä\",\"keitten\",\"keittä\",\"keitä\",\"keneen\",\"keneksi\",\"kenelle\",\"kenellä\",\"keneltä\",\"kenen\",\"kenenä\",\"kenessä\",\"kenestä\",\"kenet\",\"kenettä\",\"kennessästä\",\"kenties\",\"kerran\",\"kerta\",\"kertaa\",\"keskellä\",\"kesken\",\"keskimäärin\",\"ketkä\",\"ketä\",\"kiitos\",\"kohti\",\"koko\",\"kokonaan\",\"kolmas\",\"kolme\",\"kolmen\",\"kolmesti\",\"koska\",\"koskaan\",\"kovin\",\"kuin\",\"kuinka\",\"kuinkan\",\"kuitenkaan\",\"kuitenkin\",\"kuka\",\"kukaan\",\"kukin\",\"kukka\",\"kumpainen\",\"kumpainenkaan\",\"kumpi\",\"kumpikaan\",\"kumpikin\",\"kun\",\"kuten\",\"kuuden\",\"kuusi\",\"kuutta\",\"kylliksi\",\"kyllä\",\"kymmenen\",\"kyse\",\"liian\",\"liki\",\"lisäksi\",\"lisää\",\"lla\",\"luo\",\"luona\",\"lähekkäin\",\"lähelle\",\"lähellä\",\"läheltä\",\"lähemmäs\",\"lähes\",\"lähinnä\",\"lähtien\",\"läpi\",\"mahdollisimman\",\"mahdollista\",\"me\",\"meidän\",\"meille\",\"meillä\",\"melkein\",\"melko\",\"menee\",\"meneet\",\"menemme\",\"menen\",\"menet\",\"menette\",\"menevät\",\"meni\",\"menimme\",\"menin\",\"menit\",\"menivät\",\"mennessä\",\"mennyt\",\"menossa\",\"mihin\",\"mikin\",\"miksi\",\"mikä\",\"mikäli\",\"mikään\",\"milloin\",\"milloinkan\",\"minne\",\"minun\",\"minut\",\"minä\",\"missä\",\"mistä\",\"miten\",\"mitä\",\"mitään\",\"moi\",\"molemmat\",\"mones\",\"monesti\",\"monet\",\"moni\",\"moniaalla\",\"moniaalle\",\"moniaalta\",\"monta\",\"muassa\",\"muiden\",\"muita\",\"muka\",\"mukaan\",\"mukaansa\",\"mukana\",\"mutta\",\"muu\",\"muualla\",\"muualle\",\"muualta\",\"muuanne\",\"muulloin\",\"muun\",\"muut\",\"muuta\",\"muutama\",\"muutaman\",\"muuten\",\"myöhemmin\",\"myös\",\"myöskin\",\"myöskään\",\"myötä\",\"ne\",\"neljä\",\"neljän\",\"neljää\",\"niiden\",\"niin\",\"niistä\",\"niitä\",\"noin\",\"nopeammin\",\"nopeasti\",\"nopeiten\",\"nro\",\"nuo\",\"nyt\",\"näiden\",\"näin\",\"näissä\",\"näissähin\",\"näissälle\",\"näissältä\",\"näissästä\",\"näitä\",\"nämä\",\"ohi\",\"oikea\",\"oikealla\",\"oikein\",\"ole\",\"olemme\",\"olen\",\"olet\",\"olette\",\"oleva\",\"olevan\",\"olevat\",\"oli\",\"olimme\",\"olin\",\"olisi\",\"olisimme\",\"olisin\",\"olisit\",\"olisitte\",\"olisivat\",\"olit\",\"olitte\",\"olivat\",\"olla\",\"olleet\",\"olli\",\"ollut\",\"oma\",\"omaa\",\"omaan\",\"omaksi\",\"omalle\",\"omalta\",\"oman\",\"omassa\",\"omat\",\"omia\",\"omien\",\"omiin\",\"omiksi\",\"omille\",\"omilta\",\"omissa\",\"omista\",\"on\",\"onkin\",\"onko\",\"ovat\",\"paikoittain\",\"paitsi\",\"pakosti\",\"paljon\",\"paremmin\",\"parempi\",\"parhaillaan\",\"parhaiten\",\"perusteella\",\"peräti\",\"pian\",\"pieneen\",\"pieneksi\",\"pienelle\",\"pienellä\",\"pieneltä\",\"pienempi\",\"pienestä\",\"pieni\",\"pienin\",\"puolesta\",\"puolestaan\",\"päälle\",\"runsaasti\",\"saakka\",\"sadam\",\"sama\",\"samaa\",\"samaan\",\"samalla\",\"samallalta\",\"samallassa\",\"samallasta\",\"saman\",\"samat\",\"samoin\",\"sata\",\"sataa\",\"satojen\",\"se\",\"seitsemän\",\"sekä\",\"sen\",\"seuraavat\",\"siellä\",\"sieltä\",\"siihen\",\"siinä\",\"siis\",\"siitä\",\"sijaan\",\"siksi\",\"silloin\",\"sillä\",\"silti\",\"sinne\",\"sinua\",\"sinulle\",\"sinulta\",\"sinun\",\"sinussa\",\"sinusta\",\"sinut\",\"sinä\",\"sisäkkäin\",\"sisällä\",\"siten\",\"sitten\",\"sitä\",\"ssa\",\"sta\",\"suoraan\",\"suuntaan\",\"suuren\",\"suuret\",\"suuri\",\"suuria\",\"suurin\",\"suurten\",\"taa\",\"taas\",\"taemmas\",\"tahansa\",\"tai\",\"takaa\",\"takaisin\",\"takana\",\"takia\",\"tapauksessa\",\"tarpeeksi\",\"tavalla\",\"tavoitteena\",\"te\",\"tietysti\",\"todella\",\"toinen\",\"toisaalla\",\"toisaalle\",\"toisaalta\",\"toiseen\",\"toiseksi\",\"toisella\",\"toiselle\",\"toiselta\",\"toisemme\",\"toisen\",\"toisensa\",\"toisessa\",\"toisesta\",\"toista\",\"toistaiseksi\",\"toki\",\"tosin\",\"tuhannen\",\"tuhat\",\"tule\",\"tulee\",\"tulemme\",\"tulen\",\"tulet\",\"tulette\",\"tulevat\",\"tulimme\",\"tulin\",\"tulisi\",\"tulisimme\",\"tulisin\",\"tulisit\",\"tulisitte\",\"tulisivat\",\"tulit\",\"tulitte\",\"tulivat\",\"tulla\",\"tulleet\",\"tullut\",\"tuntuu\",\"tuo\",\"tuolla\",\"tuolloin\",\"tuolta\",\"tuonne\",\"tuskin\",\"tykö\",\"tähän\",\"tällä\",\"tällöin\",\"tämä\",\"tämän\",\"tänne\",\"tänä\",\"tänään\",\"tässä\",\"tästä\",\"täten\",\"tätä\",\"täysin\",\"täytyvät\",\"täytyy\",\"täällä\",\"täältä\",\"ulkopuolella\",\"usea\",\"useasti\",\"useimmiten\",\"usein\",\"useita\",\"uudeksi\",\"uudelleen\",\"uuden\",\"uudet\",\"uusi\",\"uusia\",\"uusien\",\"uusinta\",\"uuteen\",\"uutta\",\"vaan\",\"vahemmän\",\"vai\",\"vaiheessa\",\"vaikea\",\"vaikean\",\"vaikeat\",\"vaikeilla\",\"vaikeille\",\"vaikeilta\",\"vaikeissa\",\"vaikeista\",\"vaikka\",\"vain\",\"varmasti\",\"varsin\",\"varsinkin\",\"varten\",\"vasen\",\"vasenmalla\",\"vasta\",\"vastaan\",\"vastakkain\",\"vastan\",\"verran\",\"vielä\",\"vierekkäin\",\"vieressä\",\"vieri\",\"viiden\",\"viime\",\"viimeinen\",\"viimeisen\",\"viimeksi\",\"viisi\",\"voi\",\"voidaan\",\"voimme\",\"voin\",\"voisi\",\"voit\",\"voitte\",\"voivat\",\"vuoden\",\"vuoksi\",\"vuosi\",\"vuosien\",\"vuosina\",\"vuotta\",\"vähemmän\",\"vähintään\",\"vähiten\",\"vähän\",\"välillä\",\"yhdeksän\",\"yhden\",\"yhdessä\",\"yhteen\",\"yhteensä\",\"yhteydessä\",\"yhteyteen\",\"yhtä\",\"yhtäälle\",\"yhtäällä\",\"yhtäältä\",\"yhtään\",\"yhä\",\"yksi\",\"yksin\",\"yksittäin\",\"yleensä\",\"ylemmäs\",\"yli\",\"ylös\",\"ympäri\",\"älköön\",\"älä\"],\"fr\":[\"a\",\"abord\",\"absolument\",\"afin\",\"ah\",\"ai\",\"aie\",\"ailleurs\",\"ainsi\",\"ait\",\"allaient\",\"allo\",\"allons\",\"allô\",\"alors\",\"anterieur\",\"anterieure\",\"anterieures\",\"apres\",\"après\",\"as\",\"assez\",\"attendu\",\"au\",\"aucun\",\"aucune\",\"aujourd\",\"aujourd'hui\",\"aupres\",\"auquel\",\"aura\",\"auraient\",\"aurait\",\"auront\",\"aussi\",\"autre\",\"autrefois\",\"autrement\",\"autres\",\"autrui\",\"aux\",\"auxquelles\",\"auxquels\",\"avaient\",\"avais\",\"avait\",\"avant\",\"avec\",\"avoir\",\"avons\",\"ayant\",\"b\",\"bah\",\"bas\",\"basee\",\"bat\",\"beau\",\"beaucoup\",\"bien\",\"bigre\",\"boum\",\"bravo\",\"brrr\",\"c\",\"car\",\"ce\",\"ceci\",\"cela\",\"celle\",\"celle-ci\",\"celle-là\",\"celles\",\"celles-ci\",\"celles-là\",\"celui\",\"celui-ci\",\"celui-là\",\"cent\",\"cependant\",\"certain\",\"certaine\",\"certaines\",\"certains\",\"certes\",\"ces\",\"cet\",\"cette\",\"ceux\",\"ceux-ci\",\"ceux-là\",\"chacun\",\"chacune\",\"chaque\",\"cher\",\"chers\",\"chez\",\"chiche\",\"chut\",\"chère\",\"chères\",\"ci\",\"cinq\",\"cinquantaine\",\"cinquante\",\"cinquantième\",\"cinquième\",\"clac\",\"clic\",\"combien\",\"comme\",\"comment\",\"comparable\",\"comparables\",\"compris\",\"concernant\",\"contre\",\"couic\",\"crac\",\"d\",\"da\",\"dans\",\"de\",\"debout\",\"dedans\",\"dehors\",\"deja\",\"delà\",\"depuis\",\"dernier\",\"derniere\",\"derriere\",\"derrière\",\"des\",\"desormais\",\"desquelles\",\"desquels\",\"dessous\",\"dessus\",\"deux\",\"deuxième\",\"deuxièmement\",\"devant\",\"devers\",\"devra\",\"different\",\"differentes\",\"differents\",\"différent\",\"différente\",\"différentes\",\"différents\",\"dire\",\"directe\",\"directement\",\"dit\",\"dite\",\"dits\",\"divers\",\"diverse\",\"diverses\",\"dix\",\"dix-huit\",\"dix-neuf\",\"dix-sept\",\"dixième\",\"doit\",\"doivent\",\"donc\",\"dont\",\"douze\",\"douzième\",\"dring\",\"du\",\"duquel\",\"durant\",\"dès\",\"désormais\",\"e\",\"effet\",\"egale\",\"egalement\",\"egales\",\"eh\",\"elle\",\"elle-même\",\"elles\",\"elles-mêmes\",\"en\",\"encore\",\"enfin\",\"entre\",\"envers\",\"environ\",\"es\",\"est\",\"et\",\"etant\",\"etc\",\"etre\",\"eu\",\"euh\",\"eux\",\"eux-mêmes\",\"exactement\",\"excepté\",\"extenso\",\"exterieur\",\"f\",\"fais\",\"faisaient\",\"faisant\",\"fait\",\"façon\",\"feront\",\"fi\",\"flac\",\"floc\",\"font\",\"g\",\"gens\",\"h\",\"ha\",\"hein\",\"hem\",\"hep\",\"hi\",\"ho\",\"holà\",\"hop\",\"hormis\",\"hors\",\"hou\",\"houp\",\"hue\",\"hui\",\"huit\",\"huitième\",\"hum\",\"hurrah\",\"hé\",\"hélas\",\"i\",\"il\",\"ils\",\"importe\",\"j\",\"je\",\"jusqu\",\"jusque\",\"juste\",\"k\",\"l\",\"la\",\"laisser\",\"laquelle\",\"las\",\"le\",\"lequel\",\"les\",\"lesquelles\",\"lesquels\",\"leur\",\"leurs\",\"longtemps\",\"lors\",\"lorsque\",\"lui\",\"lui-meme\",\"lui-même\",\"là\",\"lès\",\"m\",\"ma\",\"maint\",\"maintenant\",\"mais\",\"malgre\",\"malgré\",\"maximale\",\"me\",\"meme\",\"memes\",\"merci\",\"mes\",\"mien\",\"mienne\",\"miennes\",\"miens\",\"mille\",\"mince\",\"minimale\",\"moi\",\"moi-meme\",\"moi-même\",\"moindres\",\"moins\",\"mon\",\"moyennant\",\"multiple\",\"multiples\",\"même\",\"mêmes\",\"n\",\"na\",\"naturel\",\"naturelle\",\"naturelles\",\"ne\",\"neanmoins\",\"necessaire\",\"necessairement\",\"neuf\",\"neuvième\",\"ni\",\"nombreuses\",\"nombreux\",\"non\",\"nos\",\"notamment\",\"notre\",\"nous\",\"nous-mêmes\",\"nouveau\",\"nul\",\"néanmoins\",\"nôtre\",\"nôtres\",\"o\",\"oh\",\"ohé\",\"ollé\",\"olé\",\"on\",\"ont\",\"onze\",\"onzième\",\"ore\",\"ou\",\"ouf\",\"ouias\",\"oust\",\"ouste\",\"outre\",\"ouvert\",\"ouverte\",\"ouverts\",\"o|\",\"où\",\"p\",\"paf\",\"pan\",\"par\",\"parce\",\"parfois\",\"parle\",\"parlent\",\"parler\",\"parmi\",\"parseme\",\"partant\",\"particulier\",\"particulière\",\"particulièrement\",\"pas\",\"passé\",\"pendant\",\"pense\",\"permet\",\"personne\",\"peu\",\"peut\",\"peuvent\",\"peux\",\"pff\",\"pfft\",\"pfut\",\"pif\",\"pire\",\"plein\",\"plouf\",\"plus\",\"plusieurs\",\"plutôt\",\"possessif\",\"possessifs\",\"possible\",\"possibles\",\"pouah\",\"pour\",\"pourquoi\",\"pourrais\",\"pourrait\",\"pouvait\",\"prealable\",\"precisement\",\"premier\",\"première\",\"premièrement\",\"pres\",\"probable\",\"probante\",\"procedant\",\"proche\",\"près\",\"psitt\",\"pu\",\"puis\",\"puisque\",\"pur\",\"pure\",\"q\",\"qu\",\"quand\",\"quant\",\"quant-à-soi\",\"quanta\",\"quarante\",\"quatorze\",\"quatre\",\"quatre-vingt\",\"quatrième\",\"quatrièmement\",\"que\",\"quel\",\"quelconque\",\"quelle\",\"quelles\",\"quelqu'un\",\"quelque\",\"quelques\",\"quels\",\"qui\",\"quiconque\",\"quinze\",\"quoi\",\"quoique\",\"r\",\"rare\",\"rarement\",\"rares\",\"relative\",\"relativement\",\"remarquable\",\"rend\",\"rendre\",\"restant\",\"reste\",\"restent\",\"restrictif\",\"retour\",\"revoici\",\"revoilà\",\"rien\",\"s\",\"sa\",\"sacrebleu\",\"sait\",\"sans\",\"sapristi\",\"sauf\",\"se\",\"sein\",\"seize\",\"selon\",\"semblable\",\"semblaient\",\"semble\",\"semblent\",\"sent\",\"sept\",\"septième\",\"sera\",\"seraient\",\"serait\",\"seront\",\"ses\",\"seul\",\"seule\",\"seulement\",\"si\",\"sien\",\"sienne\",\"siennes\",\"siens\",\"sinon\",\"six\",\"sixième\",\"soi\",\"soi-même\",\"soit\",\"soixante\",\"son\",\"sont\",\"sous\",\"souvent\",\"specifique\",\"specifiques\",\"speculatif\",\"stop\",\"strictement\",\"subtiles\",\"suffisant\",\"suffisante\",\"suffit\",\"suis\",\"suit\",\"suivant\",\"suivante\",\"suivantes\",\"suivants\",\"suivre\",\"superpose\",\"sur\",\"surtout\",\"t\",\"ta\",\"tac\",\"tant\",\"tardive\",\"te\",\"tel\",\"telle\",\"tellement\",\"telles\",\"tels\",\"tenant\",\"tend\",\"tenir\",\"tente\",\"tes\",\"tic\",\"tien\",\"tienne\",\"tiennes\",\"tiens\",\"toc\",\"toi\",\"toi-même\",\"ton\",\"touchant\",\"toujours\",\"tous\",\"tout\",\"toute\",\"toutefois\",\"toutes\",\"treize\",\"trente\",\"tres\",\"trois\",\"troisième\",\"troisièmement\",\"trop\",\"très\",\"tsoin\",\"tsouin\",\"tu\",\"té\",\"u\",\"un\",\"une\",\"unes\",\"uniformement\",\"unique\",\"uniques\",\"uns\",\"v\",\"va\",\"vais\",\"vas\",\"vers\",\"via\",\"vif\",\"vifs\",\"vingt\",\"vivat\",\"vive\",\"vives\",\"vlan\",\"voici\",\"voilà\",\"vont\",\"vos\",\"votre\",\"vous\",\"vous-mêmes\",\"vu\",\"vé\",\"vôtre\",\"vôtres\",\"w\",\"x\",\"y\",\"z\",\"zut\",\"à\",\"â\",\"ça\",\"ès\",\"étaient\",\"étais\",\"était\",\"étant\",\"été\",\"être\",\"ô\"],\"hr\":[\"a\",\"ako\",\"ali\",\"bi\",\"bih\",\"bila\",\"bili\",\"bilo\",\"bio\",\"bismo\",\"biste\",\"biti\",\"bumo\",\"da\",\"do\",\"duž\",\"ga\",\"hoće\",\"hoćemo\",\"hoćete\",\"hoćeš\",\"hoću\",\"i\",\"iako\",\"ih\",\"ili\",\"iz\",\"ja\",\"je\",\"jedna\",\"jedne\",\"jedno\",\"jer\",\"jesam\",\"jesi\",\"jesmo\",\"jest\",\"jeste\",\"jesu\",\"jim\",\"joj\",\"još\",\"ju\",\"kada\",\"kako\",\"kao\",\"koja\",\"koje\",\"koji\",\"kojima\",\"koju\",\"kroz\",\"li\",\"me\",\"mene\",\"meni\",\"mi\",\"mimo\",\"moj\",\"moja\",\"moje\",\"mu\",\"na\",\"nad\",\"nakon\",\"nam\",\"nama\",\"nas\",\"naš\",\"naša\",\"naše\",\"našeg\",\"ne\",\"nego\",\"neka\",\"neki\",\"nekog\",\"neku\",\"nema\",\"netko\",\"neće\",\"nećemo\",\"nećete\",\"nećeš\",\"neću\",\"nešto\",\"ni\",\"nije\",\"nikoga\",\"nikoje\",\"nikoju\",\"nisam\",\"nisi\",\"nismo\",\"niste\",\"nisu\",\"njega\",\"njegov\",\"njegova\",\"njegovo\",\"njemu\",\"njezin\",\"njezina\",\"njezino\",\"njih\",\"njihov\",\"njihova\",\"njihovo\",\"njim\",\"njima\",\"njoj\",\"nju\",\"no\",\"o\",\"od\",\"odmah\",\"on\",\"ona\",\"oni\",\"ono\",\"ova\",\"pa\",\"pak\",\"po\",\"pod\",\"pored\",\"prije\",\"s\",\"sa\",\"sam\",\"samo\",\"se\",\"sebe\",\"sebi\",\"si\",\"smo\",\"ste\",\"su\",\"sve\",\"svi\",\"svog\",\"svoj\",\"svoja\",\"svoje\",\"svom\",\"ta\",\"tada\",\"taj\",\"tako\",\"te\",\"tebe\",\"tebi\",\"ti\",\"to\",\"toj\",\"tome\",\"tu\",\"tvoj\",\"tvoja\",\"tvoje\",\"u\",\"uz\",\"vam\",\"vama\",\"vas\",\"vaš\",\"vaša\",\"vaše\",\"već\",\"vi\",\"vrlo\",\"za\",\"zar\",\"će\",\"ćemo\",\"ćete\",\"ćeš\",\"ću\",\"što\"],\"hu\":[\"a\",\"abba\",\"abban\",\"abból\",\"addig\",\"ahhoz\",\"ahogy\",\"ahol\",\"aki\",\"akik\",\"akkor\",\"akár\",\"alapján\",\"alatt\",\"alatta\",\"alattad\",\"alattam\",\"alattatok\",\"alattuk\",\"alattunk\",\"alá\",\"alád\",\"alájuk\",\"alám\",\"alánk\",\"alátok\",\"alól\",\"alóla\",\"alólad\",\"alólam\",\"alólatok\",\"alóluk\",\"alólunk\",\"amely\",\"amelybol\",\"amelyek\",\"amelyekben\",\"amelyeket\",\"amelyet\",\"amelyik\",\"amelynek\",\"ami\",\"amikor\",\"amit\",\"amolyan\",\"amott\",\"amíg\",\"annak\",\"annál\",\"arra\",\"arról\",\"attól\",\"az\",\"aznap\",\"azok\",\"azokat\",\"azokba\",\"azokban\",\"azokból\",\"azokhoz\",\"azokig\",\"azokkal\",\"azokká\",\"azoknak\",\"azoknál\",\"azokon\",\"azokra\",\"azokról\",\"azoktól\",\"azokért\",\"azon\",\"azonban\",\"azonnal\",\"azt\",\"aztán\",\"azután\",\"azzal\",\"azzá\",\"azért\",\"bal\",\"balra\",\"ban\",\"be\",\"belé\",\"beléd\",\"beléjük\",\"belém\",\"belénk\",\"belétek\",\"belül\",\"belőle\",\"belőled\",\"belőlem\",\"belőletek\",\"belőlük\",\"belőlünk\",\"ben\",\"benne\",\"benned\",\"bennem\",\"bennetek\",\"bennük\",\"bennünk\",\"bár\",\"bárcsak\",\"bármilyen\",\"búcsú\",\"cikk\",\"cikkek\",\"cikkeket\",\"csak\",\"csakhogy\",\"csupán\",\"de\",\"dehogy\",\"e\",\"ebbe\",\"ebben\",\"ebből\",\"eddig\",\"egy\",\"egyebek\",\"egyebet\",\"egyedül\",\"egyelőre\",\"egyes\",\"egyet\",\"egyetlen\",\"egyik\",\"egymás\",\"egyre\",\"egyszerre\",\"egyéb\",\"együtt\",\"egész\",\"egészen\",\"ehhez\",\"ekkor\",\"el\",\"eleinte\",\"ellen\",\"ellenes\",\"elleni\",\"ellenére\",\"elmondta\",\"első\",\"elsők\",\"elsősorban\",\"elsőt\",\"elé\",\"eléd\",\"elég\",\"eléjük\",\"elém\",\"elénk\",\"elétek\",\"elő\",\"előbb\",\"elől\",\"előle\",\"előled\",\"előlem\",\"előletek\",\"előlük\",\"előlünk\",\"először\",\"előtt\",\"előtte\",\"előtted\",\"előttem\",\"előttetek\",\"előttük\",\"előttünk\",\"előző\",\"emilyen\",\"engem\",\"ennek\",\"ennyi\",\"ennél\",\"enyém\",\"erre\",\"erről\",\"esetben\",\"ettől\",\"ez\",\"ezek\",\"ezekbe\",\"ezekben\",\"ezekből\",\"ezeken\",\"ezeket\",\"ezekhez\",\"ezekig\",\"ezekkel\",\"ezekké\",\"ezeknek\",\"ezeknél\",\"ezekre\",\"ezekről\",\"ezektől\",\"ezekért\",\"ezen\",\"ezentúl\",\"ezer\",\"ezret\",\"ezt\",\"ezután\",\"ezzel\",\"ezzé\",\"ezért\",\"fel\",\"fele\",\"felek\",\"felet\",\"felett\",\"felé\",\"fent\",\"fenti\",\"fél\",\"fölé\",\"gyakran\",\"ha\",\"halló\",\"hamar\",\"hanem\",\"harmadik\",\"harmadikat\",\"harminc\",\"hat\",\"hatodik\",\"hatodikat\",\"hatot\",\"hatvan\",\"helyett\",\"hetedik\",\"hetediket\",\"hetet\",\"hetven\",\"hirtelen\",\"hiszen\",\"hiába\",\"hogy\",\"hogyan\",\"hol\",\"holnap\",\"holnapot\",\"honnan\",\"hova\",\"hozzá\",\"hozzád\",\"hozzájuk\",\"hozzám\",\"hozzánk\",\"hozzátok\",\"hurrá\",\"huszadik\",\"hány\",\"hányszor\",\"hármat\",\"három\",\"hát\",\"hátha\",\"hátulsó\",\"hét\",\"húsz\",\"ide\",\"ide-оda\",\"idén\",\"igazán\",\"igen\",\"ill\",\"illetve\",\"ilyen\",\"ilyenkor\",\"immár\",\"inkább\",\"is\",\"ismét\",\"ison\",\"itt\",\"jelenleg\",\"jobban\",\"jobbra\",\"jó\",\"jól\",\"jólesik\",\"jóval\",\"jövőre\",\"kell\",\"kellene\",\"kellett\",\"kelljen\",\"keressünk\",\"keresztül\",\"ketten\",\"kettő\",\"kettőt\",\"kevés\",\"ki\",\"kiben\",\"kiből\",\"kicsit\",\"kicsoda\",\"kihez\",\"kik\",\"kikbe\",\"kikben\",\"kikből\",\"kiken\",\"kiket\",\"kikhez\",\"kikkel\",\"kikké\",\"kiknek\",\"kiknél\",\"kikre\",\"kikről\",\"kiktől\",\"kikért\",\"kilenc\",\"kilencedik\",\"kilencediket\",\"kilencet\",\"kilencven\",\"kin\",\"kinek\",\"kinél\",\"kire\",\"kiről\",\"kit\",\"kitől\",\"kivel\",\"kivé\",\"kié\",\"kiért\",\"korábban\",\"képest\",\"kérem\",\"kérlek\",\"kész\",\"késő\",\"később\",\"későn\",\"két\",\"kétszer\",\"kívül\",\"körül\",\"köszönhetően\",\"köszönöm\",\"közben\",\"közel\",\"közepesen\",\"közepén\",\"közé\",\"között\",\"közül\",\"külön\",\"különben\",\"különböző\",\"különbözőbb\",\"különbözőek\",\"lassan\",\"le\",\"legalább\",\"legyen\",\"lehet\",\"lehetetlen\",\"lehetett\",\"lehetőleg\",\"lehetőség\",\"lenne\",\"lenni\",\"lennék\",\"lennének\",\"lesz\",\"leszek\",\"lesznek\",\"leszünk\",\"lett\",\"lettek\",\"lettem\",\"lettünk\",\"lévő\",\"ma\",\"maga\",\"magad\",\"magam\",\"magatokat\",\"magukat\",\"magunkat\",\"magát\",\"mai\",\"majd\",\"majdnem\",\"manapság\",\"meg\",\"megcsinál\",\"megcsinálnak\",\"megint\",\"megvan\",\"mellett\",\"mellette\",\"melletted\",\"mellettem\",\"mellettetek\",\"mellettük\",\"mellettünk\",\"mellé\",\"melléd\",\"melléjük\",\"mellém\",\"mellénk\",\"mellétek\",\"mellől\",\"mellőle\",\"mellőled\",\"mellőlem\",\"mellőletek\",\"mellőlük\",\"mellőlünk\",\"mely\",\"melyek\",\"melyik\",\"mennyi\",\"mert\",\"mi\",\"miatt\",\"miatta\",\"miattad\",\"miattam\",\"miattatok\",\"miattuk\",\"miattunk\",\"mibe\",\"miben\",\"miből\",\"mihez\",\"mik\",\"mikbe\",\"mikben\",\"mikből\",\"miken\",\"miket\",\"mikhez\",\"mikkel\",\"mikké\",\"miknek\",\"miknél\",\"mikor\",\"mikre\",\"mikről\",\"miktől\",\"mikért\",\"milyen\",\"min\",\"mind\",\"mindegyik\",\"mindegyiket\",\"minden\",\"mindenesetre\",\"mindenki\",\"mindent\",\"mindenütt\",\"mindig\",\"mindketten\",\"minek\",\"minket\",\"mint\",\"mintha\",\"minél\",\"mire\",\"miről\",\"mit\",\"mitől\",\"mivel\",\"mivé\",\"miért\",\"mondta\",\"most\",\"mostanáig\",\"már\",\"más\",\"másik\",\"másikat\",\"másnap\",\"második\",\"másodszor\",\"mások\",\"másokat\",\"mást\",\"még\",\"mégis\",\"míg\",\"mögé\",\"mögéd\",\"mögéjük\",\"mögém\",\"mögénk\",\"mögétek\",\"mögött\",\"mögötte\",\"mögötted\",\"mögöttem\",\"mögöttetek\",\"mögöttük\",\"mögöttünk\",\"mögül\",\"mögüle\",\"mögüled\",\"mögülem\",\"mögületek\",\"mögülük\",\"mögülünk\",\"múltkor\",\"múlva\",\"na\",\"nagy\",\"nagyobb\",\"nagyon\",\"naponta\",\"napot\",\"ne\",\"negyedik\",\"negyediket\",\"negyven\",\"neked\",\"nekem\",\"neki\",\"nekik\",\"nektek\",\"nekünk\",\"nem\",\"nemcsak\",\"nemrég\",\"nincs\",\"nyolc\",\"nyolcadik\",\"nyolcadikat\",\"nyolcat\",\"nyolcvan\",\"nála\",\"nálad\",\"nálam\",\"nálatok\",\"náluk\",\"nálunk\",\"négy\",\"négyet\",\"néha\",\"néhány\",\"nélkül\",\"o\",\"oda\",\"ok\",\"olyan\",\"onnan\",\"ott\",\"pedig\",\"persze\",\"pár\",\"például\",\"rajta\",\"rajtad\",\"rajtam\",\"rajtatok\",\"rajtuk\",\"rajtunk\",\"rendben\",\"rosszul\",\"rá\",\"rád\",\"rájuk\",\"rám\",\"ránk\",\"rátok\",\"régen\",\"régóta\",\"részére\",\"róla\",\"rólad\",\"rólam\",\"rólatok\",\"róluk\",\"rólunk\",\"rögtön\",\"s\",\"saját\",\"se\",\"sem\",\"semmi\",\"semmilyen\",\"semmiség\",\"senki\",\"soha\",\"sok\",\"sokan\",\"sokat\",\"sokkal\",\"sokszor\",\"sokáig\",\"során\",\"stb.\",\"szemben\",\"szerbusz\",\"szerint\",\"szerinte\",\"szerinted\",\"szerintem\",\"szerintetek\",\"szerintük\",\"szerintünk\",\"szervusz\",\"szinte\",\"számára\",\"száz\",\"századik\",\"százat\",\"szépen\",\"szét\",\"szíves\",\"szívesen\",\"szíveskedjék\",\"sőt\",\"talán\",\"tavaly\",\"te\",\"tegnap\",\"tegnapelőtt\",\"tehát\",\"tele\",\"teljes\",\"tessék\",\"ti\",\"tied\",\"titeket\",\"tizedik\",\"tizediket\",\"tizenegy\",\"tizenegyedik\",\"tizenhat\",\"tizenhárom\",\"tizenhét\",\"tizenkettedik\",\"tizenkettő\",\"tizenkilenc\",\"tizenkét\",\"tizennyolc\",\"tizennégy\",\"tizenöt\",\"tizet\",\"tovább\",\"további\",\"továbbá\",\"távol\",\"téged\",\"tényleg\",\"tíz\",\"több\",\"többi\",\"többször\",\"túl\",\"tőle\",\"tőled\",\"tőlem\",\"tőletek\",\"tőlük\",\"tőlünk\",\"ugyanakkor\",\"ugyanez\",\"ugyanis\",\"ugye\",\"urak\",\"uram\",\"urat\",\"utoljára\",\"utolsó\",\"után\",\"utána\",\"vagy\",\"vagyis\",\"vagyok\",\"vagytok\",\"vagyunk\",\"vajon\",\"valahol\",\"valaki\",\"valakit\",\"valamelyik\",\"valami\",\"valamint\",\"való\",\"van\",\"vannak\",\"vele\",\"veled\",\"velem\",\"veletek\",\"velük\",\"velünk\",\"vissza\",\"viszlát\",\"viszont\",\"viszontlátásra\",\"volna\",\"volnának\",\"volnék\",\"volt\",\"voltak\",\"voltam\",\"voltunk\",\"végre\",\"végén\",\"végül\",\"által\",\"általában\",\"ám\",\"át\",\"éljen\",\"én\",\"éppen\",\"érte\",\"érted\",\"értem\",\"értetek\",\"értük\",\"értünk\",\"és\",\"év\",\"évben\",\"éve\",\"évek\",\"éves\",\"évi\",\"évvel\",\"így\",\"óta\",\"ön\",\"önbe\",\"önben\",\"önből\",\"önhöz\",\"önnek\",\"önnel\",\"önnél\",\"önre\",\"önről\",\"önt\",\"öntől\",\"önért\",\"önök\",\"önökbe\",\"önökben\",\"önökből\",\"önöket\",\"önökhöz\",\"önökkel\",\"önöknek\",\"önöknél\",\"önökre\",\"önökről\",\"önöktől\",\"önökért\",\"önökön\",\"önön\",\"össze\",\"öt\",\"ötven\",\"ötödik\",\"ötödiket\",\"ötöt\",\"úgy\",\"úgyis\",\"úgynevezett\",\"új\",\"újabb\",\"újra\",\"úr\",\"ő\",\"ők\",\"őket\",\"őt\"],\"it\":[\"IE\",\"a\",\"abbastanza\",\"abbia\",\"abbiamo\",\"abbiano\",\"abbiate\",\"accidenti\",\"ad\",\"adesso\",\"affinche\",\"agl\",\"agli\",\"ahime\",\"ahimè\",\"ai\",\"al\",\"alcuna\",\"alcuni\",\"alcuno\",\"all\",\"alla\",\"alle\",\"allo\",\"allora\",\"altri\",\"altrimenti\",\"altro\",\"altrove\",\"altrui\",\"anche\",\"ancora\",\"anni\",\"anno\",\"ansa\",\"anticipo\",\"assai\",\"attesa\",\"attraverso\",\"avanti\",\"avemmo\",\"avendo\",\"avente\",\"aver\",\"avere\",\"averlo\",\"avesse\",\"avessero\",\"avessi\",\"avessimo\",\"aveste\",\"avesti\",\"avete\",\"aveva\",\"avevamo\",\"avevano\",\"avevate\",\"avevi\",\"avevo\",\"avrai\",\"avranno\",\"avrebbe\",\"avrebbero\",\"avrei\",\"avremmo\",\"avremo\",\"avreste\",\"avresti\",\"avrete\",\"avrà\",\"avrò\",\"avuta\",\"avute\",\"avuti\",\"avuto\",\"basta\",\"bene\",\"benissimo\",\"berlusconi\",\"brava\",\"bravo\",\"c\",\"casa\",\"caso\",\"cento\",\"certa\",\"certe\",\"certi\",\"certo\",\"che\",\"chi\",\"chicchessia\",\"chiunque\",\"ci\",\"ciascuna\",\"ciascuno\",\"cima\",\"cio\",\"cioe\",\"cioè\",\"circa\",\"citta\",\"città\",\"ciò\",\"co\",\"codesta\",\"codesti\",\"codesto\",\"cogli\",\"coi\",\"col\",\"colei\",\"coll\",\"coloro\",\"colui\",\"come\",\"cominci\",\"comunque\",\"con\",\"concernente\",\"conciliarsi\",\"conclusione\",\"consiglio\",\"contro\",\"cortesia\",\"cos\",\"cosa\",\"cosi\",\"così\",\"cui\",\"d\",\"da\",\"dagl\",\"dagli\",\"dai\",\"dal\",\"dall\",\"dalla\",\"dalle\",\"dallo\",\"dappertutto\",\"davanti\",\"degl\",\"degli\",\"dei\",\"del\",\"dell\",\"della\",\"delle\",\"dello\",\"dentro\",\"detto\",\"deve\",\"di\",\"dice\",\"dietro\",\"dire\",\"dirimpetto\",\"diventa\",\"diventare\",\"diventato\",\"dopo\",\"dov\",\"dove\",\"dovra\",\"dovrà\",\"dovunque\",\"due\",\"dunque\",\"durante\",\"e\",\"ebbe\",\"ebbero\",\"ebbi\",\"ecc\",\"ecco\",\"ed\",\"effettivamente\",\"egli\",\"ella\",\"entrambi\",\"eppure\",\"era\",\"erano\",\"eravamo\",\"eravate\",\"eri\",\"ero\",\"esempio\",\"esse\",\"essendo\",\"esser\",\"essere\",\"essi\",\"ex\",\"fa\",\"faccia\",\"facciamo\",\"facciano\",\"facciate\",\"faccio\",\"facemmo\",\"facendo\",\"facesse\",\"facessero\",\"facessi\",\"facessimo\",\"faceste\",\"facesti\",\"faceva\",\"facevamo\",\"facevano\",\"facevate\",\"facevi\",\"facevo\",\"fai\",\"fanno\",\"farai\",\"faranno\",\"fare\",\"farebbe\",\"farebbero\",\"farei\",\"faremmo\",\"faremo\",\"fareste\",\"faresti\",\"farete\",\"farà\",\"farò\",\"fatto\",\"favore\",\"fece\",\"fecero\",\"feci\",\"fin\",\"finalmente\",\"finche\",\"fine\",\"fino\",\"forse\",\"forza\",\"fosse\",\"fossero\",\"fossi\",\"fossimo\",\"foste\",\"fosti\",\"fra\",\"frattempo\",\"fu\",\"fui\",\"fummo\",\"fuori\",\"furono\",\"futuro\",\"generale\",\"gia\",\"giacche\",\"giorni\",\"giorno\",\"già\",\"gli\",\"gliela\",\"gliele\",\"glieli\",\"glielo\",\"gliene\",\"governo\",\"grande\",\"grazie\",\"gruppo\",\"ha\",\"haha\",\"hai\",\"hanno\",\"ho\",\"i\",\"ieri\",\"il\",\"improvviso\",\"in\",\"inc\",\"infatti\",\"inoltre\",\"insieme\",\"intanto\",\"intorno\",\"invece\",\"io\",\"l\",\"la\",\"lasciato\",\"lato\",\"lavoro\",\"le\",\"lei\",\"li\",\"lo\",\"lontano\",\"loro\",\"lui\",\"lungo\",\"luogo\",\"là\",\"ma\",\"macche\",\"magari\",\"maggior\",\"mai\",\"male\",\"malgrado\",\"malissimo\",\"mancanza\",\"marche\",\"me\",\"medesimo\",\"mediante\",\"meglio\",\"meno\",\"mentre\",\"mesi\",\"mezzo\",\"mi\",\"mia\",\"mie\",\"miei\",\"mila\",\"miliardi\",\"milioni\",\"minimi\",\"ministro\",\"mio\",\"modo\",\"molti\",\"moltissimo\",\"molto\",\"momento\",\"mondo\",\"mosto\",\"nazionale\",\"ne\",\"negl\",\"negli\",\"nei\",\"nel\",\"nell\",\"nella\",\"nelle\",\"nello\",\"nemmeno\",\"neppure\",\"nessun\",\"nessuna\",\"nessuno\",\"niente\",\"no\",\"noi\",\"non\",\"nondimeno\",\"nonostante\",\"nonsia\",\"nostra\",\"nostre\",\"nostri\",\"nostro\",\"novanta\",\"nove\",\"nulla\",\"nuovo\",\"o\",\"od\",\"oggi\",\"ogni\",\"ognuna\",\"ognuno\",\"oltre\",\"oppure\",\"ora\",\"ore\",\"osi\",\"ossia\",\"ottanta\",\"otto\",\"paese\",\"parecchi\",\"parecchie\",\"parecchio\",\"parte\",\"partendo\",\"peccato\",\"peggio\",\"per\",\"perche\",\"perchè\",\"perché\",\"percio\",\"perciò\",\"perfino\",\"pero\",\"persino\",\"persone\",\"però\",\"piedi\",\"pieno\",\"piglia\",\"piu\",\"piuttosto\",\"più\",\"po\",\"pochissimo\",\"poco\",\"poi\",\"poiche\",\"possa\",\"possedere\",\"posteriore\",\"posto\",\"potrebbe\",\"preferibilmente\",\"presa\",\"press\",\"prima\",\"primo\",\"principalmente\",\"probabilmente\",\"proprio\",\"puo\",\"pure\",\"purtroppo\",\"può\",\"qualche\",\"qualcosa\",\"qualcuna\",\"qualcuno\",\"quale\",\"quali\",\"qualunque\",\"quando\",\"quanta\",\"quante\",\"quanti\",\"quanto\",\"quantunque\",\"quasi\",\"quattro\",\"quel\",\"quella\",\"quelle\",\"quelli\",\"quello\",\"quest\",\"questa\",\"queste\",\"questi\",\"questo\",\"qui\",\"quindi\",\"realmente\",\"recente\",\"recentemente\",\"registrazione\",\"relativo\",\"riecco\",\"salvo\",\"sara\",\"sarai\",\"saranno\",\"sarebbe\",\"sarebbero\",\"sarei\",\"saremmo\",\"saremo\",\"sareste\",\"saresti\",\"sarete\",\"sarà\",\"sarò\",\"scola\",\"scopo\",\"scorso\",\"se\",\"secondo\",\"seguente\",\"seguito\",\"sei\",\"sembra\",\"sembrare\",\"sembrato\",\"sembri\",\"sempre\",\"senza\",\"sette\",\"si\",\"sia\",\"siamo\",\"siano\",\"siate\",\"siete\",\"sig\",\"solito\",\"solo\",\"soltanto\",\"sono\",\"sopra\",\"sotto\",\"spesso\",\"srl\",\"sta\",\"stai\",\"stando\",\"stanno\",\"starai\",\"staranno\",\"starebbe\",\"starebbero\",\"starei\",\"staremmo\",\"staremo\",\"stareste\",\"staresti\",\"starete\",\"starà\",\"starò\",\"stata\",\"state\",\"stati\",\"stato\",\"stava\",\"stavamo\",\"stavano\",\"stavate\",\"stavi\",\"stavo\",\"stemmo\",\"stessa\",\"stesse\",\"stessero\",\"stessi\",\"stessimo\",\"stesso\",\"steste\",\"stesti\",\"stette\",\"stettero\",\"stetti\",\"stia\",\"stiamo\",\"stiano\",\"stiate\",\"sto\",\"su\",\"sua\",\"subito\",\"successivamente\",\"successivo\",\"sue\",\"sugl\",\"sugli\",\"sui\",\"sul\",\"sull\",\"sulla\",\"sulle\",\"sullo\",\"suo\",\"suoi\",\"tale\",\"tali\",\"talvolta\",\"tanto\",\"te\",\"tempo\",\"ti\",\"titolo\",\"torino\",\"tra\",\"tranne\",\"tre\",\"trenta\",\"troppo\",\"trovato\",\"tu\",\"tua\",\"tue\",\"tuo\",\"tuoi\",\"tutta\",\"tuttavia\",\"tutte\",\"tutti\",\"tutto\",\"uguali\",\"ulteriore\",\"ultimo\",\"un\",\"una\",\"uno\",\"uomo\",\"va\",\"vale\",\"vari\",\"varia\",\"varie\",\"vario\",\"verso\",\"vi\",\"via\",\"vicino\",\"visto\",\"vita\",\"voi\",\"volta\",\"volte\",\"vostra\",\"vostre\",\"vostri\",\"vostro\",\"è\"],\"ko\":[\"!\",\"\\\"\",\"$\",\"%\",\"&\",\"'\",\"(\",\")\",\"*\",\"+\",\",\",\"-\",\".\",\"...\",\"0\",\"1\",\"2\",\"3\",\"4\",\"5\",\"6\",\"7\",\"8\",\"9\",\";\",\"<\",\"=\",\">\",\"?\",\"@\",\"\\\\\",\"^\",\"_\",\"`\",\"|\",\"~\",\"·\",\"—\",\"——\",\"‘\",\"’\",\"“\",\"”\",\"…\",\"、\",\"。\",\"〈\",\"〉\",\"《\",\"》\",\"가\",\"가까스로\",\"가령\",\"각\",\"각각\",\"각자\",\"각종\",\"갖고말하자면\",\"같다\",\"같이\",\"개의치않고\",\"거니와\",\"거바\",\"거의\",\"것\",\"것과 같이\",\"것들\",\"게다가\",\"게우다\",\"겨우\",\"견지에서\",\"결과에 이르다\",\"결국\",\"결론을 낼 수 있다\",\"겸사겸사\",\"고려하면\",\"고로\",\"곧\",\"공동으로\",\"과\",\"과연\",\"관계가 있다\",\"관계없이\",\"관련이 있다\",\"관하여\",\"관한\",\"관해서는\",\"구\",\"구체적으로\",\"구토하다\",\"그\",\"그들\",\"그때\",\"그래\",\"그래도\",\"그래서\",\"그러나\",\"그러니\",\"그러니까\",\"그러면\",\"그러므로\",\"그러한즉\",\"그런 까닭에\",\"그런데\",\"그런즉\",\"그럼\",\"그럼에도 불구하고\",\"그렇게 함으로써\",\"그렇지\",\"그렇지 않다면\",\"그렇지 않으면\",\"그렇지만\",\"그렇지않으면\",\"그리고\",\"그리하여\",\"그만이다\",\"그에 따르는\",\"그위에\",\"그저\",\"그중에서\",\"그치지 않다\",\"근거로\",\"근거하여\",\"기대여\",\"기점으로\",\"기준으로\",\"기타\",\"까닭으로\",\"까악\",\"까지\",\"까지 미치다\",\"까지도\",\"꽈당\",\"끙끙\",\"끼익\",\"나\",\"나머지는\",\"남들\",\"남짓\",\"너\",\"너희\",\"너희들\",\"네\",\"넷\",\"년\",\"논하지 않다\",\"놀라다\",\"누가 알겠는가\",\"누구\",\"다른\",\"다른 방면으로\",\"다만\",\"다섯\",\"다소\",\"다수\",\"다시 말하자면\",\"다시말하면\",\"다음\",\"다음에\",\"다음으로\",\"단지\",\"답다\",\"당신\",\"당장\",\"대로 하다\",\"대하면\",\"대하여\",\"대해 말하자면\",\"대해서\",\"댕그\",\"더구나\",\"더군다나\",\"더라도\",\"더불어\",\"더욱더\",\"더욱이는\",\"도달하다\",\"도착하다\",\"동시에\",\"동안\",\"된바에야\",\"된이상\",\"두번째로\",\"둘\",\"둥둥\",\"뒤따라\",\"뒤이어\",\"든간에\",\"들\",\"등\",\"등등\",\"딩동\",\"따라\",\"따라서\",\"따위\",\"따지지 않다\",\"딱\",\"때\",\"때가 되어\",\"때문에\",\"또\",\"또한\",\"뚝뚝\",\"라 해도\",\"령\",\"로\",\"로 인하여\",\"로부터\",\"로써\",\"륙\",\"를\",\"마음대로\",\"마저\",\"마저도\",\"마치\",\"막론하고\",\"만 못하다\",\"만약\",\"만약에\",\"만은 아니다\",\"만이 아니다\",\"만일\",\"만큼\",\"말하자면\",\"말할것도 없고\",\"매\",\"매번\",\"메쓰겁다\",\"몇\",\"모\",\"모두\",\"무렵\",\"무릎쓰고\",\"무슨\",\"무엇\",\"무엇때문에\",\"물론\",\"및\",\"바꾸어말하면\",\"바꾸어말하자면\",\"바꾸어서 말하면\",\"바꾸어서 한다면\",\"바꿔 말하면\",\"바로\",\"바와같이\",\"밖에 안된다\",\"반대로\",\"반대로 말하자면\",\"반드시\",\"버금\",\"보는데서\",\"보다더\",\"보드득\",\"본대로\",\"봐\",\"봐라\",\"부류의 사람들\",\"부터\",\"불구하고\",\"불문하고\",\"붕붕\",\"비걱거리다\",\"비교적\",\"비길수 없다\",\"비로소\",\"비록\",\"비슷하다\",\"비추어 보아\",\"비하면\",\"뿐만 아니라\",\"뿐만아니라\",\"뿐이다\",\"삐걱\",\"삐걱거리다\",\"사\",\"삼\",\"상대적으로 말하자면\",\"생각한대로\",\"설령\",\"설마\",\"설사\",\"셋\",\"소생\",\"소인\",\"솨\",\"쉿\",\"습니까\",\"습니다\",\"시각\",\"시간\",\"시작하여\",\"시초에\",\"시키다\",\"실로\",\"심지어\",\"아\",\"아니\",\"아니나다를가\",\"아니라면\",\"아니면\",\"아니었다면\",\"아래윗\",\"아무거나\",\"아무도\",\"아야\",\"아울러\",\"아이\",\"아이고\",\"아이구\",\"아이야\",\"아이쿠\",\"아하\",\"아홉\",\"안 그러면\",\"않기 위하여\",\"않기 위해서\",\"알 수 있다\",\"알았어\",\"앗\",\"앞에서\",\"앞의것\",\"야\",\"약간\",\"양자\",\"어\",\"어기여차\",\"어느\",\"어느 년도\",\"어느것\",\"어느곳\",\"어느때\",\"어느쪽\",\"어느해\",\"어디\",\"어때\",\"어떠한\",\"어떤\",\"어떤것\",\"어떤것들\",\"어떻게\",\"어떻해\",\"어이\",\"어째서\",\"어쨋든\",\"어쩔수 없다\",\"어찌\",\"어찌됏든\",\"어찌됏어\",\"어찌하든지\",\"어찌하여\",\"언제\",\"언젠가\",\"얼마\",\"얼마 안 되는 것\",\"얼마간\",\"얼마나\",\"얼마든지\",\"얼마만큼\",\"얼마큼\",\"엉엉\",\"에\",\"에 가서\",\"에 달려 있다\",\"에 대해\",\"에 있다\",\"에 한하다\",\"에게\",\"에서\",\"여\",\"여기\",\"여덟\",\"여러분\",\"여보시오\",\"여부\",\"여섯\",\"여전히\",\"여차\",\"연관되다\",\"연이서\",\"영\",\"영차\",\"옆사람\",\"예\",\"예를 들면\",\"예를 들자면\",\"예컨대\",\"예하면\",\"오\",\"오로지\",\"오르다\",\"오자마자\",\"오직\",\"오호\",\"오히려\",\"와\",\"와 같은 사람들\",\"와르르\",\"와아\",\"왜\",\"왜냐하면\",\"외에도\",\"요만큼\",\"요만한 것\",\"요만한걸\",\"요컨대\",\"우르르\",\"우리\",\"우리들\",\"우선\",\"우에 종합한것과같이\",\"운운\",\"월\",\"위에서 서술한바와같이\",\"위하여\",\"위해서\",\"윙윙\",\"육\",\"으로\",\"으로 인하여\",\"으로서\",\"으로써\",\"을\",\"응\",\"응당\",\"의\",\"의거하여\",\"의지하여\",\"의해\",\"의해되다\",\"의해서\",\"이\",\"이 되다\",\"이 때문에\",\"이 밖에\",\"이 외에\",\"이 정도의\",\"이것\",\"이곳\",\"이때\",\"이라면\",\"이래\",\"이러이러하다\",\"이러한\",\"이런\",\"이럴정도로\",\"이렇게 많은 것\",\"이렇게되면\",\"이렇게말하자면\",\"이렇구나\",\"이로 인하여\",\"이르기까지\",\"이리하여\",\"이만큼\",\"이번\",\"이봐\",\"이상\",\"이어서\",\"이었다\",\"이와 같다\",\"이와 같은\",\"이와 반대로\",\"이와같다면\",\"이외에도\",\"이용하여\",\"이유만으로\",\"이젠\",\"이지만\",\"이쪽\",\"이천구\",\"이천육\",\"이천칠\",\"이천팔\",\"인 듯하다\",\"인젠\",\"일\",\"일것이다\",\"일곱\",\"일단\",\"일때\",\"일반적으로\",\"일지라도\",\"임에 틀림없다\",\"입각하여\",\"입장에서\",\"잇따라\",\"있다\",\"자\",\"자기\",\"자기집\",\"자마자\",\"자신\",\"잠깐\",\"잠시\",\"저\",\"저것\",\"저것만큼\",\"저기\",\"저쪽\",\"저희\",\"전부\",\"전자\",\"전후\",\"점에서 보아\",\"정도에 이르다\",\"제\",\"제각기\",\"제외하고\",\"조금\",\"조차\",\"조차도\",\"졸졸\",\"좀\",\"좋아\",\"좍좍\",\"주룩주룩\",\"주저하지 않고\",\"줄은 몰랏다\",\"줄은모른다\",\"중에서\",\"중의하나\",\"즈음하여\",\"즉\",\"즉시\",\"지든지\",\"지만\",\"지말고\",\"진짜로\",\"쪽으로\",\"차라리\",\"참\",\"참나\",\"첫번째로\",\"쳇\",\"총적으로\",\"총적으로 말하면\",\"총적으로 보면\",\"칠\",\"콸콸\",\"쾅쾅\",\"쿵\",\"타다\",\"타인\",\"탕탕\",\"토하다\",\"통하여\",\"툭\",\"퉤\",\"틈타\",\"팍\",\"팔\",\"퍽\",\"펄렁\",\"하\",\"하게될것이다\",\"하게하다\",\"하겠는가\",\"하고 있다\",\"하고있었다\",\"하곤하였다\",\"하구나\",\"하기 때문에\",\"하기 위하여\",\"하기는한데\",\"하기만 하면\",\"하기보다는\",\"하기에\",\"하나\",\"하느니\",\"하는 김에\",\"하는 편이 낫다\",\"하는것도\",\"하는것만 못하다\",\"하는것이 낫다\",\"하는바\",\"하더라도\",\"하도다\",\"하도록시키다\",\"하도록하다\",\"하든지\",\"하려고하다\",\"하마터면\",\"하면 할수록\",\"하면된다\",\"하면서\",\"하물며\",\"하여금\",\"하여야\",\"하자마자\",\"하지 않는다면\",\"하지 않도록\",\"하지마\",\"하지마라\",\"하지만\",\"하하\",\"한 까닭에\",\"한 이유는\",\"한 후\",\"한다면\",\"한다면 몰라도\",\"한데\",\"한마디\",\"한적이있다\",\"한켠으로는\",\"한항목\",\"할 따름이다\",\"할 생각이다\",\"할 줄 안다\",\"할 지경이다\",\"할 힘이 있다\",\"할때\",\"할만하다\",\"할망정\",\"할뿐\",\"할수있다\",\"할수있어\",\"할줄알다\",\"할지라도\",\"할지언정\",\"함께\",\"해도된다\",\"해도좋다\",\"해봐요\",\"해서는 안된다\",\"해야한다\",\"해요\",\"했어요\",\"향하다\",\"향하여\",\"향해서\",\"허\",\"허걱\",\"허허\",\"헉\",\"헉헉\",\"헐떡헐떡\",\"형식으로 쓰여\",\"혹시\",\"혹은\",\"혼자\",\"훨씬\",\"휘익\",\"휴\",\"흐흐\",\"흥\",\"힘입어\",\"︿\",\"！\",\"＃\",\"＄\",\"％\",\"＆\",\"（\",\"）\",\"＊\",\"＋\",\"，\",\"０\",\"１\",\"２\",\"３\",\"４\",\"５\",\"６\",\"７\",\"８\",\"９\",\"：\",\"；\",\"＜\",\"＞\",\"？\",\"＠\",\"［\",\"］\",\"｛\",\"｜\",\"｝\",\"～\",\"￥\"],\"nl\":[\"aan\",\"achte\",\"achter\",\"af\",\"al\",\"alle\",\"alleen\",\"alles\",\"als\",\"ander\",\"anders\",\"beetje\",\"behalve\",\"beide\",\"beiden\",\"ben\",\"beneden\",\"bent\",\"bij\",\"bijna\",\"bijv\",\"blijkbaar\",\"blijken\",\"boven\",\"bv\",\"daar\",\"daardoor\",\"daarin\",\"daarna\",\"daarom\",\"daaruit\",\"dan\",\"dat\",\"de\",\"deden\",\"deed\",\"derde\",\"derhalve\",\"dertig\",\"deze\",\"dhr\",\"die\",\"dit\",\"doe\",\"doen\",\"doet\",\"door\",\"drie\",\"duizend\",\"echter\",\"een\",\"eens\",\"eerst\",\"eerste\",\"eigen\",\"eigenlijk\",\"elk\",\"elke\",\"en\",\"enige\",\"er\",\"erg\",\"ergens\",\"etc\",\"etcetera\",\"even\",\"geen\",\"genoeg\",\"geweest\",\"haar\",\"haarzelf\",\"had\",\"hadden\",\"heb\",\"hebben\",\"hebt\",\"hedden\",\"heeft\",\"heel\",\"hem\",\"hemzelf\",\"hen\",\"het\",\"hetzelfde\",\"hier\",\"hierin\",\"hierna\",\"hierom\",\"hij\",\"hijzelf\",\"hoe\",\"honderd\",\"hun\",\"ieder\",\"iedere\",\"iedereen\",\"iemand\",\"iets\",\"ik\",\"in\",\"inderdaad\",\"intussen\",\"is\",\"ja\",\"je\",\"jij\",\"jijzelf\",\"jou\",\"jouw\",\"jullie\",\"kan\",\"kon\",\"konden\",\"kun\",\"kunnen\",\"kunt\",\"laatst\",\"later\",\"lijken\",\"lijkt\",\"maak\",\"maakt\",\"maakte\",\"maakten\",\"maar\",\"mag\",\"maken\",\"me\",\"meer\",\"meest\",\"meestal\",\"men\",\"met\",\"mevr\",\"mij\",\"mijn\",\"minder\",\"miss\",\"misschien\",\"missen\",\"mits\",\"mocht\",\"mochten\",\"moest\",\"moesten\",\"moet\",\"moeten\",\"mogen\",\"mr\",\"mrs\",\"mw\",\"na\",\"naar\",\"nam\",\"namelijk\",\"nee\",\"neem\",\"negen\",\"nemen\",\"nergens\",\"niemand\",\"niet\",\"niets\",\"niks\",\"noch\",\"nochtans\",\"nog\",\"nooit\",\"nu\",\"nv\",\"of\",\"om\",\"omdat\",\"ondanks\",\"onder\",\"ondertussen\",\"ons\",\"onze\",\"onzeker\",\"ooit\",\"ook\",\"op\",\"over\",\"overal\",\"overige\",\"paar\",\"per\",\"recent\",\"redelijk\",\"samen\",\"sinds\",\"steeds\",\"te\",\"tegen\",\"tegenover\",\"thans\",\"tien\",\"tiende\",\"tijdens\",\"tja\",\"toch\",\"toe\",\"tot\",\"totdat\",\"tussen\",\"twee\",\"tweede\",\"u\",\"uit\",\"uw\",\"vaak\",\"van\",\"vanaf\",\"veel\",\"veertig\",\"verder\",\"verscheidene\",\"verschillende\",\"via\",\"vier\",\"vierde\",\"vijf\",\"vijfde\",\"vijftig\",\"volgend\",\"volgens\",\"voor\",\"voordat\",\"voorts\",\"waar\",\"waarom\",\"waarschijnlijk\",\"wanneer\",\"waren\",\"was\",\"wat\",\"we\",\"wederom\",\"weer\",\"weinig\",\"wel\",\"welk\",\"welke\",\"werd\",\"werden\",\"werder\",\"whatever\",\"wie\",\"wij\",\"wijzelf\",\"wil\",\"wilden\",\"willen\",\"word\",\"worden\",\"wordt\",\"zal\",\"ze\",\"zei\",\"zeker\",\"zelf\",\"zelfde\",\"zes\",\"zeven\",\"zich\",\"zij\",\"zijn\",\"zijzelf\",\"zo\",\"zoals\",\"zodat\",\"zou\",\"zouden\",\"zulk\",\"zullen\"],\"no\":[\"alle\",\"at\",\"av\",\"bare\",\"begge\",\"ble\",\"blei\",\"bli\",\"blir\",\"blitt\",\"både\",\"båe\",\"da\",\"de\",\"deg\",\"dei\",\"deim\",\"deira\",\"deires\",\"dem\",\"den\",\"denne\",\"der\",\"dere\",\"deres\",\"det\",\"dette\",\"di\",\"din\",\"disse\",\"ditt\",\"du\",\"dykk\",\"dykkar\",\"då\",\"eg\",\"ein\",\"eit\",\"eitt\",\"eller\",\"elles\",\"en\",\"enn\",\"er\",\"et\",\"ett\",\"etter\",\"for\",\"fordi\",\"fra\",\"før\",\"ha\",\"hadde\",\"han\",\"hans\",\"har\",\"hennar\",\"henne\",\"hennes\",\"her\",\"hjå\",\"ho\",\"hoe\",\"honom\",\"hoss\",\"hossen\",\"hun\",\"hva\",\"hvem\",\"hver\",\"hvilke\",\"hvilken\",\"hvis\",\"hvor\",\"hvordan\",\"hvorfor\",\"i\",\"ikke\",\"ikkje\",\"ingen\",\"ingi\",\"inkje\",\"inn\",\"inni\",\"ja\",\"jeg\",\"kan\",\"kom\",\"korleis\",\"korso\",\"kun\",\"kunne\",\"kva\",\"kvar\",\"kvarhelst\",\"kven\",\"kvi\",\"kvifor\",\"man\",\"mange\",\"me\",\"med\",\"medan\",\"meg\",\"meget\",\"mellom\",\"men\",\"mi\",\"min\",\"mine\",\"mitt\",\"mot\",\"mykje\",\"ned\",\"no\",\"noe\",\"noen\",\"noka\",\"noko\",\"nokon\",\"nokor\",\"nokre\",\"nå\",\"når\",\"og\",\"også\",\"om\",\"opp\",\"oss\",\"over\",\"på\",\"samme\",\"seg\",\"selv\",\"si\",\"sia\",\"sidan\",\"siden\",\"sin\",\"sine\",\"sitt\",\"sjøl\",\"skal\",\"skulle\",\"slik\",\"so\",\"som\",\"somme\",\"somt\",\"så\",\"sånn\",\"til\",\"um\",\"upp\",\"ut\",\"uten\",\"var\",\"vart\",\"varte\",\"ved\",\"vere\",\"verte\",\"vi\",\"vil\",\"ville\",\"vore\",\"vors\",\"vort\",\"vår\",\"være\",\"vært\",\"å\"],\"pl\":[\"aby\",\"ach\",\"aj\",\"albo\",\"ale\",\"ani\",\"aż\",\"bardzo\",\"bez\",\"bo\",\"bowiem\",\"by\",\"byli\",\"bym\",\"być\",\"był\",\"była\",\"było\",\"były\",\"będzie\",\"będą\",\"chce\",\"choć\",\"ci\",\"ciebie\",\"cię\",\"co\",\"coraz\",\"coś\",\"czy\",\"czyli\",\"często\",\"daleko\",\"dla\",\"dlaczego\",\"dlatego\",\"do\",\"dobrze\",\"dokąd\",\"dość\",\"dr\",\"dużo\",\"dwa\",\"dwaj\",\"dwie\",\"dwoje\",\"dzisiaj\",\"dziś\",\"gdy\",\"gdyby\",\"gdyż\",\"gdzie\",\"go\",\"godz\",\"hab\",\"i\",\"ich\",\"ii\",\"iii\",\"ile\",\"im\",\"inne\",\"inny\",\"inż\",\"iv\",\"ix\",\"iż\",\"ja\",\"jak\",\"jakby\",\"jaki\",\"jakie\",\"jako\",\"je\",\"jeden\",\"jedna\",\"jednak\",\"jedno\",\"jednym\",\"jedynie\",\"jego\",\"jej\",\"jemu\",\"jest\",\"jestem\",\"jeszcze\",\"jeśli\",\"jeżeli\",\"już\",\"ją\",\"każdy\",\"kiedy\",\"kierunku\",\"kilku\",\"kto\",\"która\",\"które\",\"którego\",\"której\",\"który\",\"których\",\"którym\",\"którzy\",\"ku\",\"lat\",\"lecz\",\"lub\",\"ma\",\"mają\",\"mam\",\"mamy\",\"mgr\",\"mi\",\"miał\",\"mimo\",\"mnie\",\"mną\",\"mogą\",\"moi\",\"moja\",\"moje\",\"może\",\"można\",\"mu\",\"musi\",\"my\",\"mój\",\"na\",\"nad\",\"nam\",\"nami\",\"nas\",\"nasi\",\"nasz\",\"nasza\",\"nasze\",\"natychmiast\",\"nawet\",\"nic\",\"nich\",\"nie\",\"niego\",\"niej\",\"niemu\",\"nigdy\",\"nim\",\"nimi\",\"nią\",\"niż\",\"no\",\"nowe\",\"np\",\"nr\",\"o\",\"o.o.\",\"obok\",\"od\",\"ok\",\"około\",\"on\",\"ona\",\"one\",\"oni\",\"ono\",\"oraz\",\"owszem\",\"pan\",\"pl\",\"po\",\"pod\",\"ponad\",\"ponieważ\",\"poza\",\"prof\",\"przed\",\"przede\",\"przedtem\",\"przez\",\"przy\",\"raz\",\"razie\",\"roku\",\"również\",\"sam\",\"sama\",\"się\",\"skąd\",\"sobie\",\"sposób\",\"swoje\",\"są\",\"ta\",\"tak\",\"taki\",\"takich\",\"takie\",\"także\",\"tam\",\"te\",\"tego\",\"tej\",\"tel\",\"temu\",\"ten\",\"teraz\",\"też\",\"to\",\"tobie\",\"tobą\",\"trzeba\",\"tu\",\"tutaj\",\"twoi\",\"twoja\",\"twoje\",\"twój\",\"ty\",\"tych\",\"tylko\",\"tym\",\"tys\",\"tzw\",\"tę\",\"u\",\"ul\",\"vi\",\"vii\",\"viii\",\"vol\",\"w\",\"wam\",\"wami\",\"was\",\"wasi\",\"wasz\",\"wasza\",\"wasze\",\"we\",\"wie\",\"więc\",\"wszystko\",\"wtedy\",\"www\",\"wy\",\"właśnie\",\"wśród\",\"xi\",\"xii\",\"xiii\",\"xiv\",\"xv\",\"z\",\"za\",\"zawsze\",\"zaś\",\"ze\",\"zł\",\"żaden\",\"że\",\"żeby\"],\"pt\":[\"a\",\"acerca\",\"adeus\",\"agora\",\"ainda\",\"algmas\",\"algo\",\"algumas\",\"alguns\",\"ali\",\"além\",\"ambos\",\"ano\",\"anos\",\"antes\",\"ao\",\"aos\",\"apenas\",\"apoio\",\"apontar\",\"após\",\"aquela\",\"aquelas\",\"aquele\",\"aqueles\",\"aqui\",\"aquilo\",\"as\",\"assim\",\"através\",\"atrás\",\"até\",\"aí\",\"baixo\",\"bastante\",\"bem\",\"bom\",\"breve\",\"cada\",\"caminho\",\"catorze\",\"cedo\",\"cento\",\"certamente\",\"certeza\",\"cima\",\"cinco\",\"coisa\",\"com\",\"como\",\"comprido\",\"conhecido\",\"conselho\",\"contra\",\"corrente\",\"custa\",\"cá\",\"da\",\"daquela\",\"daquele\",\"dar\",\"das\",\"de\",\"debaixo\",\"demais\",\"dentro\",\"depois\",\"desde\",\"desligado\",\"dessa\",\"desse\",\"desta\",\"deste\",\"deve\",\"devem\",\"deverá\",\"dez\",\"dezanove\",\"dezasseis\",\"dezassete\",\"dezoito\",\"dia\",\"diante\",\"direita\",\"diz\",\"dizem\",\"dizer\",\"do\",\"dois\",\"dos\",\"doze\",\"duas\",\"dá\",\"dão\",\"dúvida\",\"e\",\"ela\",\"elas\",\"ele\",\"eles\",\"em\",\"embora\",\"enquanto\",\"entre\",\"então\",\"era\",\"essa\",\"essas\",\"esse\",\"esses\",\"esta\",\"estado\",\"estar\",\"estará\",\"estas\",\"estava\",\"este\",\"estes\",\"esteve\",\"estive\",\"estivemos\",\"estiveram\",\"estiveste\",\"estivestes\",\"estou\",\"está\",\"estás\",\"estão\",\"eu\",\"exemplo\",\"falta\",\"fará\",\"favor\",\"faz\",\"fazeis\",\"fazem\",\"fazemos\",\"fazer\",\"fazes\",\"fazia\",\"faço\",\"fez\",\"fim\",\"final\",\"foi\",\"fomos\",\"for\",\"fora\",\"foram\",\"forma\",\"foste\",\"fostes\",\"fui\",\"geral\",\"grande\",\"grandes\",\"grupo\",\"hoje\",\"horas\",\"há\",\"iniciar\",\"inicio\",\"ir\",\"irá\",\"isso\",\"ista\",\"iste\",\"isto\",\"já\",\"lado\",\"ligado\",\"local\",\"logo\",\"longe\",\"lugar\",\"lá\",\"maior\",\"maioria\",\"maiorias\",\"mais\",\"mal\",\"mas\",\"me\",\"meio\",\"menor\",\"menos\",\"meses\",\"mesmo\",\"meu\",\"meus\",\"mil\",\"minha\",\"minhas\",\"momento\",\"muito\",\"muitos\",\"máximo\",\"mês\",\"na\",\"nada\",\"naquela\",\"naquele\",\"nas\",\"nem\",\"nenhuma\",\"nessa\",\"nesse\",\"nesta\",\"neste\",\"no\",\"noite\",\"nome\",\"nos\",\"nossa\",\"nossas\",\"nosso\",\"nossos\",\"nova\",\"nove\",\"novo\",\"novos\",\"num\",\"numa\",\"nunca\",\"não\",\"nível\",\"nós\",\"número\",\"o\",\"obra\",\"obrigada\",\"obrigado\",\"oitava\",\"oitavo\",\"oito\",\"onde\",\"ontem\",\"onze\",\"os\",\"ou\",\"outra\",\"outras\",\"outro\",\"outros\",\"para\",\"parece\",\"parte\",\"partir\",\"pegar\",\"pela\",\"pelas\",\"pelo\",\"pelos\",\"perto\",\"pessoas\",\"pode\",\"podem\",\"poder\",\"poderá\",\"podia\",\"ponto\",\"pontos\",\"por\",\"porque\",\"porquê\",\"posição\",\"possivelmente\",\"posso\",\"possível\",\"pouca\",\"pouco\",\"povo\",\"primeira\",\"primeiro\",\"promeiro\",\"próprio\",\"próximo\",\"puderam\",\"pôde\",\"põe\",\"põem\",\"qual\",\"qualquer\",\"quando\",\"quanto\",\"quarta\",\"quarto\",\"quatro\",\"que\",\"quem\",\"quer\",\"quero\",\"questão\",\"quieto\",\"quinta\",\"quinto\",\"quinze\",\"quê\",\"relação\",\"sabe\",\"saber\",\"se\",\"segunda\",\"segundo\",\"sei\",\"seis\",\"sem\",\"sempre\",\"ser\",\"seria\",\"sete\",\"seu\",\"seus\",\"sexta\",\"sexto\",\"sim\",\"sistema\",\"sob\",\"sobre\",\"sois\",\"somente\",\"somos\",\"sou\",\"sua\",\"suas\",\"são\",\"sétima\",\"sétimo\",\"tal\",\"talvez\",\"também\",\"tanto\",\"tarde\",\"te\",\"tem\",\"temos\",\"tempo\",\"tendes\",\"tenho\",\"tens\",\"tentar\",\"tentaram\",\"tente\",\"tentei\",\"ter\",\"terceira\",\"terceiro\",\"teu\",\"teus\",\"teve\",\"tipo\",\"tive\",\"tivemos\",\"tiveram\",\"tiveste\",\"tivestes\",\"toda\",\"todas\",\"todo\",\"todos\",\"trabalhar\",\"trabalho\",\"treze\",\"três\",\"tu\",\"tua\",\"tuas\",\"tudo\",\"tão\",\"têm\",\"um\",\"uma\",\"umas\",\"uns\",\"usa\",\"usar\",\"vai\",\"vais\",\"valor\",\"veja\",\"vem\",\"vens\",\"ver\",\"verdade\",\"verdadeiro\",\"vez\",\"vezes\",\"viagem\",\"vindo\",\"vinte\",\"você\",\"vocês\",\"vos\",\"vossa\",\"vossas\",\"vosso\",\"vossos\",\"vários\",\"vão\",\"vêm\",\"vós\",\"zero\",\"à\",\"às\",\"área\",\"é\",\"és\",\"último\"],\"ru\":[\"а\",\"алло\",\"без\",\"белый\",\"близко\",\"более\",\"больше\",\"большой\",\"будем\",\"будет\",\"будете\",\"будешь\",\"будто\",\"буду\",\"будут\",\"будь\",\"бы\",\"бывает\",\"бывь\",\"был\",\"была\",\"были\",\"было\",\"быть\",\"в\",\"важная\",\"важное\",\"важные\",\"важный\",\"вам\",\"вами\",\"вас\",\"ваш\",\"ваша\",\"ваше\",\"ваши\",\"вверх\",\"вдали\",\"вдруг\",\"ведь\",\"везде\",\"вернуться\",\"весь\",\"вечер\",\"взгляд\",\"взять\",\"вид\",\"видеть\",\"вместе\",\"вниз\",\"внизу\",\"во\",\"вода\",\"война\",\"вокруг\",\"вон\",\"вообще\",\"вопрос\",\"восемнадцатый\",\"восемнадцать\",\"восемь\",\"восьмой\",\"вот\",\"впрочем\",\"времени\",\"время\",\"все\",\"всегда\",\"всего\",\"всем\",\"всеми\",\"всему\",\"всех\",\"всею\",\"всю\",\"всюду\",\"вся\",\"всё\",\"второй\",\"вы\",\"выйти\",\"г\",\"где\",\"главный\",\"глаз\",\"говорил\",\"говорит\",\"говорить\",\"год\",\"года\",\"году\",\"голова\",\"голос\",\"город\",\"да\",\"давать\",\"давно\",\"даже\",\"далекий\",\"далеко\",\"дальше\",\"даром\",\"дать\",\"два\",\"двадцатый\",\"двадцать\",\"две\",\"двенадцатый\",\"двенадцать\",\"дверь\",\"двух\",\"девятнадцатый\",\"девятнадцать\",\"девятый\",\"девять\",\"действительно\",\"дел\",\"делать\",\"дело\",\"день\",\"деньги\",\"десятый\",\"десять\",\"для\",\"до\",\"довольно\",\"долго\",\"должно\",\"должный\",\"дом\",\"дорога\",\"друг\",\"другая\",\"другие\",\"других\",\"друго\",\"другое\",\"другой\",\"думать\",\"душа\",\"е\",\"его\",\"ее\",\"ей\",\"ему\",\"если\",\"есть\",\"еще\",\"ещё\",\"ею\",\"её\",\"ж\",\"ждать\",\"же\",\"жена\",\"женщина\",\"жизнь\",\"жить\",\"за\",\"занят\",\"занята\",\"занято\",\"заняты\",\"затем\",\"зато\",\"зачем\",\"здесь\",\"земля\",\"знать\",\"значит\",\"значить\",\"и\",\"идти\",\"из\",\"или\",\"им\",\"именно\",\"иметь\",\"ими\",\"имя\",\"иногда\",\"их\",\"к\",\"каждая\",\"каждое\",\"каждые\",\"каждый\",\"кажется\",\"казаться\",\"как\",\"какая\",\"какой\",\"кем\",\"книга\",\"когда\",\"кого\",\"ком\",\"комната\",\"кому\",\"конец\",\"конечно\",\"которая\",\"которого\",\"которой\",\"которые\",\"который\",\"которых\",\"кроме\",\"кругом\",\"кто\",\"куда\",\"лежать\",\"лет\",\"ли\",\"лицо\",\"лишь\",\"лучше\",\"любить\",\"люди\",\"м\",\"маленький\",\"мало\",\"мать\",\"машина\",\"между\",\"меля\",\"менее\",\"меньше\",\"меня\",\"место\",\"миллионов\",\"мимо\",\"минута\",\"мир\",\"мира\",\"мне\",\"много\",\"многочисленная\",\"многочисленное\",\"многочисленные\",\"многочисленный\",\"мной\",\"мною\",\"мог\",\"могут\",\"мож\",\"может\",\"можно\",\"можхо\",\"мои\",\"мой\",\"мор\",\"москва\",\"мочь\",\"моя\",\"моё\",\"мы\",\"на\",\"наверху\",\"над\",\"надо\",\"назад\",\"наиболее\",\"найти\",\"наконец\",\"нам\",\"нами\",\"народ\",\"нас\",\"начала\",\"начать\",\"наш\",\"наша\",\"наше\",\"наши\",\"не\",\"него\",\"недавно\",\"недалеко\",\"нее\",\"ней\",\"некоторый\",\"нельзя\",\"нем\",\"немного\",\"нему\",\"непрерывно\",\"нередко\",\"несколько\",\"нет\",\"нею\",\"неё\",\"ни\",\"нибудь\",\"ниже\",\"низко\",\"никакой\",\"никогда\",\"никто\",\"никуда\",\"ними\",\"них\",\"ничего\",\"ничто\",\"но\",\"новый\",\"нога\",\"ночь\",\"ну\",\"нужно\",\"нужный\",\"нх\",\"о\",\"об\",\"оба\",\"обычно\",\"один\",\"одиннадцатый\",\"одиннадцать\",\"однажды\",\"однако\",\"одного\",\"одной\",\"оказаться\",\"окно\",\"около\",\"он\",\"она\",\"они\",\"оно\",\"опять\",\"особенно\",\"остаться\",\"от\",\"ответить\",\"отец\",\"отовсюду\",\"отсюда\",\"очень\",\"первый\",\"перед\",\"писать\",\"плечо\",\"по\",\"под\",\"подумать\",\"пожалуйста\",\"позже\",\"пойти\",\"пока\",\"пол\",\"получить\",\"помнить\",\"понимать\",\"понять\",\"пор\",\"пора\",\"после\",\"последний\",\"посмотреть\",\"посреди\",\"потом\",\"потому\",\"почему\",\"почти\",\"правда\",\"прекрасно\",\"при\",\"про\",\"просто\",\"против\",\"процентов\",\"пятнадцатый\",\"пятнадцать\",\"пятый\",\"пять\",\"работа\",\"работать\",\"раз\",\"разве\",\"рано\",\"раньше\",\"ребенок\",\"решить\",\"россия\",\"рука\",\"русский\",\"ряд\",\"рядом\",\"с\",\"сам\",\"сама\",\"сами\",\"самим\",\"самими\",\"самих\",\"само\",\"самого\",\"самой\",\"самом\",\"самому\",\"саму\",\"самый\",\"свет\",\"свое\",\"своего\",\"своей\",\"свои\",\"своих\",\"свой\",\"свою\",\"сделать\",\"сеаой\",\"себе\",\"себя\",\"сегодня\",\"седьмой\",\"сейчас\",\"семнадцатый\",\"семнадцать\",\"семь\",\"сидеть\",\"сила\",\"сих\",\"сказал\",\"сказала\",\"сказать\",\"сколько\",\"слишком\",\"слово\",\"случай\",\"смотреть\",\"сначала\",\"снова\",\"со\",\"собой\",\"собою\",\"советский\",\"совсем\",\"спасибо\",\"спросить\",\"сразу\",\"стал\",\"старый\",\"стать\",\"стол\",\"сторона\",\"стоять\",\"страна\",\"суть\",\"считать\",\"т\",\"та\",\"так\",\"такая\",\"также\",\"таки\",\"такие\",\"такое\",\"такой\",\"там\",\"твой\",\"твоя\",\"твоё\",\"те\",\"тебе\",\"тебя\",\"тем\",\"теми\",\"теперь\",\"тех\",\"то\",\"тобой\",\"тобою\",\"товарищ\",\"тогда\",\"того\",\"тоже\",\"только\",\"том\",\"тому\",\"тот\",\"тою\",\"третий\",\"три\",\"тринадцатый\",\"тринадцать\",\"ту\",\"туда\",\"тут\",\"ты\",\"тысяч\",\"у\",\"увидеть\",\"уж\",\"уже\",\"улица\",\"уметь\",\"утро\",\"хороший\",\"хорошо\",\"хотеть\",\"хоть\",\"хотя\",\"хочешь\",\"час\",\"часто\",\"часть\",\"чаще\",\"чего\",\"человек\",\"чем\",\"чему\",\"через\",\"четвертый\",\"четыре\",\"четырнадцатый\",\"четырнадцать\",\"что\",\"чтоб\",\"чтобы\",\"чуть\",\"шестнадцатый\",\"шестнадцать\",\"шестой\",\"шесть\",\"эта\",\"эти\",\"этим\",\"этими\",\"этих\",\"это\",\"этого\",\"этой\",\"этом\",\"этому\",\"этот\",\"эту\",\"я\"],\"sv\":[\"aderton\",\"adertonde\",\"adjö\",\"aldrig\",\"alla\",\"allas\",\"allt\",\"alltid\",\"alltså\",\"andra\",\"andras\",\"annan\",\"annat\",\"artonde\",\"artonn\",\"att\",\"av\",\"bakom\",\"bara\",\"behöva\",\"behövas\",\"behövde\",\"behövt\",\"beslut\",\"beslutat\",\"beslutit\",\"bland\",\"blev\",\"bli\",\"blir\",\"blivit\",\"bort\",\"borta\",\"bra\",\"bäst\",\"bättre\",\"båda\",\"bådas\",\"dag\",\"dagar\",\"dagarna\",\"dagen\",\"de\",\"del\",\"delen\",\"dem\",\"den\",\"denna\",\"deras\",\"dess\",\"dessa\",\"det\",\"detta\",\"dig\",\"din\",\"dina\",\"dit\",\"ditt\",\"dock\",\"du\",\"där\",\"därför\",\"då\",\"efter\",\"eftersom\",\"ej\",\"elfte\",\"eller\",\"elva\",\"en\",\"enkel\",\"enkelt\",\"enkla\",\"enligt\",\"er\",\"era\",\"ert\",\"ett\",\"ettusen\",\"fanns\",\"fem\",\"femte\",\"femtio\",\"femtionde\",\"femton\",\"femtonde\",\"fick\",\"fin\",\"finnas\",\"finns\",\"fjorton\",\"fjortonde\",\"fjärde\",\"fler\",\"flera\",\"flesta\",\"fram\",\"framför\",\"från\",\"fyra\",\"fyrtio\",\"fyrtionde\",\"få\",\"får\",\"fått\",\"följande\",\"för\",\"före\",\"förlåt\",\"förra\",\"första\",\"genast\",\"genom\",\"gick\",\"gjorde\",\"gjort\",\"god\",\"goda\",\"godare\",\"godast\",\"gott\",\"gälla\",\"gäller\",\"gällt\",\"gärna\",\"gå\",\"går\",\"gått\",\"gör\",\"göra\",\"ha\",\"hade\",\"haft\",\"han\",\"hans\",\"har\",\"heller\",\"hellre\",\"helst\",\"helt\",\"henne\",\"hennes\",\"hit\",\"hon\",\"honom\",\"hundra\",\"hundraen\",\"hundraett\",\"hur\",\"här\",\"hög\",\"höger\",\"högre\",\"högst\",\"i\",\"ibland\",\"icke\",\"idag\",\"igen\",\"igår\",\"imorgon\",\"in\",\"inför\",\"inga\",\"ingen\",\"ingenting\",\"inget\",\"innan\",\"inne\",\"inom\",\"inte\",\"inuti\",\"ja\",\"jag\",\"ju\",\"jämfört\",\"kan\",\"kanske\",\"knappast\",\"kom\",\"komma\",\"kommer\",\"kommit\",\"kr\",\"kunde\",\"kunna\",\"kunnat\",\"kvar\",\"legat\",\"ligga\",\"ligger\",\"lika\",\"likställd\",\"likställda\",\"lilla\",\"lite\",\"liten\",\"litet\",\"länge\",\"längre\",\"längst\",\"lätt\",\"lättare\",\"lättast\",\"långsam\",\"långsammare\",\"långsammast\",\"långsamt\",\"långt\",\"man\",\"med\",\"mellan\",\"men\",\"mer\",\"mera\",\"mest\",\"mig\",\"min\",\"mina\",\"mindre\",\"minst\",\"mitt\",\"mittemot\",\"mot\",\"mycket\",\"många\",\"måste\",\"möjlig\",\"möjligen\",\"möjligt\",\"möjligtvis\",\"ned\",\"nederst\",\"nedersta\",\"nedre\",\"nej\",\"ner\",\"ni\",\"nio\",\"nionde\",\"nittio\",\"nittionde\",\"nitton\",\"nittonde\",\"nog\",\"noll\",\"nr\",\"nu\",\"nummer\",\"när\",\"nästa\",\"någon\",\"någonting\",\"något\",\"några\",\"nödvändig\",\"nödvändiga\",\"nödvändigt\",\"nödvändigtvis\",\"och\",\"också\",\"ofta\",\"oftast\",\"olika\",\"olikt\",\"om\",\"oss\",\"på\",\"rakt\",\"redan\",\"rätt\",\"sade\",\"sagt\",\"samma\",\"sedan\",\"senare\",\"senast\",\"sent\",\"sex\",\"sextio\",\"sextionde\",\"sexton\",\"sextonde\",\"sig\",\"sin\",\"sina\",\"sist\",\"sista\",\"siste\",\"sitt\",\"sitta\",\"sju\",\"sjunde\",\"sjuttio\",\"sjuttionde\",\"sjutton\",\"sjuttonde\",\"själv\",\"sjätte\",\"ska\",\"skall\",\"skulle\",\"slutligen\",\"små\",\"smått\",\"snart\",\"som\",\"stor\",\"stora\",\"stort\",\"större\",\"störst\",\"säga\",\"säger\",\"sämre\",\"sämst\",\"så\",\"sådan\",\"sådana\",\"sådant\",\"tack\",\"tidig\",\"tidigare\",\"tidigast\",\"tidigt\",\"till\",\"tills\",\"tillsammans\",\"tio\",\"tionde\",\"tjugo\",\"tjugoen\",\"tjugoett\",\"tjugonde\",\"tjugotre\",\"tjugotvå\",\"tjungo\",\"tolfte\",\"tolv\",\"tre\",\"tredje\",\"trettio\",\"trettionde\",\"tretton\",\"trettonde\",\"två\",\"tvåhundra\",\"under\",\"upp\",\"ur\",\"ursäkt\",\"ut\",\"utan\",\"utanför\",\"ute\",\"vad\",\"var\",\"vara\",\"varför\",\"varifrån\",\"varit\",\"varje\",\"varken\",\"vars\",\"varsågod\",\"vart\",\"vem\",\"vems\",\"verkligen\",\"vi\",\"vid\",\"vidare\",\"viktig\",\"viktigare\",\"viktigast\",\"viktigt\",\"vilka\",\"vilkas\",\"vilken\",\"vilket\",\"vill\",\"vänster\",\"vänstra\",\"värre\",\"vår\",\"våra\",\"vårt\",\"än\",\"ännu\",\"är\",\"även\",\"åt\",\"åtminstone\",\"åtta\",\"åttio\",\"åttionde\",\"åttonde\",\"över\",\"övermorgon\",\"överst\",\"övre\"],\"tr\":[\"acaba\",\"acep\",\"adeta\",\"altmýþ\",\"altmış\",\"altý\",\"altı\",\"ama\",\"ancak\",\"arada\",\"artýk\",\"aslında\",\"aynen\",\"ayrıca\",\"az\",\"bana\",\"bari\",\"bazen\",\"bazý\",\"bazı\",\"baţka\",\"belki\",\"ben\",\"benden\",\"beni\",\"benim\",\"beri\",\"beþ\",\"beş\",\"beţ\",\"bile\",\"bin\",\"bir\",\"biraz\",\"biri\",\"birkaç\",\"birkez\",\"birçok\",\"birþey\",\"birþeyi\",\"birşey\",\"birşeyi\",\"birţey\",\"biz\",\"bizden\",\"bize\",\"bizi\",\"bizim\",\"bu\",\"buna\",\"bunda\",\"bundan\",\"bunlar\",\"bunları\",\"bunların\",\"bunu\",\"bunun\",\"burada\",\"böyle\",\"böylece\",\"bütün\",\"da\",\"daha\",\"dahi\",\"dahil\",\"daima\",\"dair\",\"dayanarak\",\"de\",\"defa\",\"deđil\",\"değil\",\"diye\",\"diđer\",\"diğer\",\"doksan\",\"dokuz\",\"dolayı\",\"dolayısıyla\",\"dört\",\"edecek\",\"eden\",\"ederek\",\"edilecek\",\"ediliyor\",\"edilmesi\",\"ediyor\",\"elli\",\"en\",\"etmesi\",\"etti\",\"ettiği\",\"ettiğini\",\"eđer\",\"eğer\",\"fakat\",\"gibi\",\"göre\",\"halbuki\",\"halen\",\"hangi\",\"hani\",\"hariç\",\"hatta\",\"hele\",\"hem\",\"henüz\",\"hep\",\"hepsi\",\"her\",\"herhangi\",\"herkes\",\"herkesin\",\"hiç\",\"hiçbir\",\"iken\",\"iki\",\"ila\",\"ile\",\"ilgili\",\"ilk\",\"illa\",\"ise\",\"itibaren\",\"itibariyle\",\"iyi\",\"iyice\",\"için\",\"işte\",\"iţte\",\"kadar\",\"kanýmca\",\"karşın\",\"katrilyon\",\"kendi\",\"kendilerine\",\"kendini\",\"kendisi\",\"kendisine\",\"kendisini\",\"kere\",\"kez\",\"keţke\",\"ki\",\"kim\",\"kimden\",\"kime\",\"kimi\",\"kimse\",\"kýrk\",\"kýsaca\",\"kırk\",\"lakin\",\"madem\",\"međer\",\"milyar\",\"milyon\",\"mu\",\"mü\",\"mý\",\"mı\",\"nasýl\",\"nasıl\",\"ne\",\"neden\",\"nedenle\",\"nerde\",\"nere\",\"nerede\",\"nereye\",\"nitekim\",\"niye\",\"niçin\",\"o\",\"olan\",\"olarak\",\"oldu\",\"olduklarını\",\"olduğu\",\"olduğunu\",\"olmadı\",\"olmadığı\",\"olmak\",\"olması\",\"olmayan\",\"olmaz\",\"olsa\",\"olsun\",\"olup\",\"olur\",\"olursa\",\"oluyor\",\"on\",\"ona\",\"ondan\",\"onlar\",\"onlardan\",\"onlari\",\"onlarýn\",\"onları\",\"onların\",\"onu\",\"onun\",\"otuz\",\"oysa\",\"pek\",\"rağmen\",\"sadece\",\"sanki\",\"sekiz\",\"seksen\",\"sen\",\"senden\",\"seni\",\"senin\",\"siz\",\"sizden\",\"sizi\",\"sizin\",\"sonra\",\"tarafından\",\"trilyon\",\"tüm\",\"var\",\"vardı\",\"ve\",\"veya\",\"veyahut\",\"ya\",\"yahut\",\"yani\",\"yapacak\",\"yapmak\",\"yaptı\",\"yaptıkları\",\"yaptığı\",\"yaptığını\",\"yapılan\",\"yapılması\",\"yapıyor\",\"yedi\",\"yerine\",\"yetmiþ\",\"yetmiş\",\"yetmiţ\",\"yine\",\"yirmi\",\"yoksa\",\"yüz\",\"zaten\",\"çok\",\"çünkü\",\"öyle\",\"üzere\",\"üç\",\"þey\",\"þeyden\",\"þeyi\",\"þeyler\",\"þu\",\"þuna\",\"þunda\",\"þundan\",\"þunu\",\"şey\",\"şeyden\",\"şeyi\",\"şeyler\",\"şu\",\"şuna\",\"şunda\",\"şundan\",\"şunları\",\"şunu\",\"şöyle\",\"ţayet\",\"ţimdi\",\"ţu\",\"ţöyle\"],\"zh\":[\"、\",\"。\",\"〈\",\"〉\",\"《\",\"》\",\"一\",\"一切\",\"一则\",\"一方面\",\"一旦\",\"一来\",\"一样\",\"一般\",\"七\",\"万一\",\"三\",\"上下\",\"不仅\",\"不但\",\"不光\",\"不单\",\"不只\",\"不如\",\"不怕\",\"不惟\",\"不成\",\"不拘\",\"不比\",\"不然\",\"不特\",\"不独\",\"不管\",\"不论\",\"不过\",\"不问\",\"与\",\"与其\",\"与否\",\"与此同时\",\"且\",\"两者\",\"个\",\"临\",\"为\",\"为了\",\"为什么\",\"为何\",\"为着\",\"乃\",\"乃至\",\"么\",\"之\",\"之一\",\"之所以\",\"之类\",\"乌乎\",\"乎\",\"乘\",\"九\",\"也\",\"也好\",\"也罢\",\"了\",\"二\",\"于\",\"于是\",\"于是乎\",\"云云\",\"五\",\"人家\",\"什么\",\"什么样\",\"从\",\"从而\",\"他\",\"他人\",\"他们\",\"以\",\"以便\",\"以免\",\"以及\",\"以至\",\"以至于\",\"以致\",\"们\",\"任\",\"任何\",\"任凭\",\"似的\",\"但\",\"但是\",\"何\",\"何况\",\"何处\",\"何时\",\"作为\",\"你\",\"你们\",\"使得\",\"例如\",\"依\",\"依照\",\"俺\",\"俺们\",\"倘\",\"倘使\",\"倘或\",\"倘然\",\"倘若\",\"借\",\"假使\",\"假如\",\"假若\",\"像\",\"八\",\"六\",\"兮\",\"关于\",\"其\",\"其一\",\"其中\",\"其二\",\"其他\",\"其余\",\"其它\",\"其次\",\"具体地说\",\"具体说来\",\"再者\",\"再说\",\"冒\",\"冲\",\"况且\",\"几\",\"几时\",\"凭\",\"凭借\",\"则\",\"别\",\"别的\",\"别说\",\"到\",\"前后\",\"前者\",\"加之\",\"即\",\"即令\",\"即使\",\"即便\",\"即或\",\"即若\",\"又\",\"及\",\"及其\",\"及至\",\"反之\",\"反过来\",\"反过来说\",\"另\",\"另一方面\",\"另外\",\"只是\",\"只有\",\"只要\",\"只限\",\"叫\",\"叮咚\",\"可\",\"可以\",\"可是\",\"可见\",\"各\",\"各个\",\"各位\",\"各种\",\"各自\",\"同\",\"同时\",\"向\",\"向着\",\"吓\",\"吗\",\"否则\",\"吧\",\"吧哒\",\"吱\",\"呀\",\"呃\",\"呕\",\"呗\",\"呜\",\"呜呼\",\"呢\",\"呵\",\"呸\",\"呼哧\",\"咋\",\"和\",\"咚\",\"咦\",\"咱\",\"咱们\",\"咳\",\"哇\",\"哈\",\"哈哈\",\"哉\",\"哎\",\"哎呀\",\"哎哟\",\"哗\",\"哟\",\"哦\",\"哩\",\"哪\",\"哪个\",\"哪些\",\"哪儿\",\"哪天\",\"哪年\",\"哪怕\",\"哪样\",\"哪边\",\"哪里\",\"哼\",\"哼唷\",\"唉\",\"啊\",\"啐\",\"啥\",\"啦\",\"啪达\",\"喂\",\"喏\",\"喔唷\",\"嗡嗡\",\"嗬\",\"嗯\",\"嗳\",\"嘎\",\"嘎登\",\"嘘\",\"嘛\",\"嘻\",\"嘿\",\"四\",\"因\",\"因为\",\"因此\",\"因而\",\"固然\",\"在\",\"在下\",\"地\",\"多\",\"多少\",\"她\",\"她们\",\"如\",\"如上所述\",\"如何\",\"如其\",\"如果\",\"如此\",\"如若\",\"宁\",\"宁可\",\"宁愿\",\"宁肯\",\"它\",\"它们\",\"对\",\"对于\",\"将\",\"尔后\",\"尚且\",\"就\",\"就是\",\"就是说\",\"尽\",\"尽管\",\"岂但\",\"己\",\"并\",\"并且\",\"开外\",\"开始\",\"归\",\"当\",\"当着\",\"彼\",\"彼此\",\"往\",\"待\",\"得\",\"怎\",\"怎么\",\"怎么办\",\"怎么样\",\"怎样\",\"总之\",\"总的来看\",\"总的来说\",\"总的说来\",\"总而言之\",\"恰恰相反\",\"您\",\"慢说\",\"我\",\"我们\",\"或\",\"或是\",\"或者\",\"所\",\"所以\",\"打\",\"把\",\"抑或\",\"拿\",\"按\",\"按照\",\"换句话说\",\"换言之\",\"据\",\"接着\",\"故\",\"故此\",\"旁人\",\"无宁\",\"无论\",\"既\",\"既是\",\"既然\",\"时候\",\"是\",\"是的\",\"替\",\"有\",\"有些\",\"有关\",\"有的\",\"望\",\"朝\",\"朝着\",\"本\",\"本着\",\"来\",\"来着\",\"极了\",\"果然\",\"果真\",\"某\",\"某个\",\"某些\",\"根据\",\"正如\",\"此\",\"此外\",\"此间\",\"毋宁\",\"每\",\"每当\",\"比\",\"比如\",\"比方\",\"沿\",\"沿着\",\"漫说\",\"焉\",\"然则\",\"然后\",\"然而\",\"照\",\"照着\",\"甚么\",\"甚而\",\"甚至\",\"用\",\"由\",\"由于\",\"由此可见\",\"的\",\"的话\",\"相对而言\",\"省得\",\"着\",\"着呢\",\"矣\",\"离\",\"第\",\"等\",\"等等\",\"管\",\"紧接着\",\"纵\",\"纵令\",\"纵使\",\"纵然\",\"经\",\"经过\",\"结果\",\"给\",\"继而\",\"综上所述\",\"罢了\",\"者\",\"而\",\"而且\",\"而况\",\"而外\",\"而已\",\"而是\",\"而言\",\"能\",\"腾\",\"自\",\"自个儿\",\"自从\",\"自各儿\",\"自家\",\"自己\",\"自身\",\"至\",\"至于\",\"若\",\"若是\",\"若非\",\"莫若\",\"虽\",\"虽则\",\"虽然\",\"虽说\",\"被\",\"要\",\"要不\",\"要不是\",\"要不然\",\"要么\",\"要是\",\"让\",\"论\",\"设使\",\"设若\",\"该\",\"诸位\",\"谁\",\"谁知\",\"赶\",\"起\",\"起见\",\"趁\",\"趁着\",\"越是\",\"跟\",\"较\",\"较之\",\"边\",\"过\",\"还是\",\"还有\",\"这\",\"这个\",\"这么\",\"这么些\",\"这么样\",\"这么点儿\",\"这些\",\"这会儿\",\"这儿\",\"这就是说\",\"这时\",\"这样\",\"这边\",\"这里\",\"进而\",\"连\",\"连同\",\"通过\",\"遵照\",\"那\",\"那个\",\"那么\",\"那么些\",\"那么样\",\"那些\",\"那会儿\",\"那儿\",\"那时\",\"那样\",\"那边\",\"那里\",\"鄙人\",\"鉴于\",\"阿\",\"除\",\"除了\",\"除此之外\",\"除非\",\"随\",\"随着\",\"零\",\"非但\",\"非徒\",\"靠\",\"顺\",\"顺着\",\"首先\",\"︿\",\"！\",\"＃\",\"＄\",\"％\",\"＆\",\"（\",\"）\",\"＊\",\"＋\",\"，\",\"０\",\"１\",\"２\",\"３\",\"４\",\"５\",\"６\",\"７\",\"８\",\"９\",\"：\",\"；\",\"＜\",\"＞\",\"？\",\"＠\",\"［\",\"］\",\"｛\",\"｜\",\"｝\",\"～\",\"￥\"],\"eo\":[\"adiaŭ\",\"ajn\",\"al\",\"ankoraŭ\",\"antaŭ\",\"aŭ\",\"bonan\",\"bonvole\",\"bonvolu\",\"bv\",\"ci\",\"cia\",\"cian\",\"cin\",\"d-ro\",\"da\",\"de\",\"dek\",\"deka\",\"do\",\"doktor'\",\"doktoro\",\"du\",\"dua\",\"dum\",\"eble\",\"ekz\",\"ekzemple\",\"en\",\"estas\",\"estis\",\"estos\",\"estu\",\"estus\",\"eĉ\",\"f-no\",\"feliĉan\",\"for\",\"fraŭlino\",\"ha\",\"havas\",\"havis\",\"havos\",\"havu\",\"havus\",\"he\",\"ho\",\"hu\",\"ili\",\"ilia\",\"ilian\",\"ilin\",\"inter\",\"io\",\"ion\",\"iu\",\"iujn\",\"iun\",\"ja\",\"jam\",\"je\",\"jes\",\"k\",\"kaj\",\"ke\",\"kio\",\"kion\",\"kiu\",\"kiujn\",\"kiun\",\"kvankam\",\"kvar\",\"kvara\",\"kvazaŭ\",\"kvin\",\"kvina\",\"la\",\"li\",\"lia\",\"lian\",\"lin\",\"malantaŭ\",\"male\",\"malgraŭ\",\"mem\",\"mi\",\"mia\",\"mian\",\"min\",\"minus\",\"naŭ\",\"naŭa\",\"ne\",\"nek\",\"nenio\",\"nenion\",\"neniu\",\"neniun\",\"nepre\",\"ni\",\"nia\",\"nian\",\"nin\",\"nu\",\"nun\",\"nur\",\"ok\",\"oka\",\"oni\",\"onia\",\"onian\",\"onin\",\"plej\",\"pli\",\"plu\",\"plus\",\"por\",\"post\",\"preter\",\"s-no\",\"s-ro\",\"se\",\"sed\",\"sep\",\"sepa\",\"ses\",\"sesa\",\"si\",\"sia\",\"sian\",\"sin\",\"sinjor'\",\"sinjorino\",\"sinjoro\",\"sub\",\"super\",\"supren\",\"sur\",\"tamen\",\"tio\",\"tion\",\"tiu\",\"tiujn\",\"tiun\",\"tra\",\"tri\",\"tria\",\"tuj\",\"tute\",\"unu\",\"unua\",\"ve\",\"verŝajne\",\"vi\",\"via\",\"vian\",\"vin\",\"ĉi\",\"ĉio\",\"ĉion\",\"ĉiu\",\"ĉiujn\",\"ĉiun\",\"ĉu\",\"ĝi\",\"ĝia\",\"ĝian\",\"ĝin\",\"ĝis\",\"ĵus\",\"ŝi\",\"ŝia\",\"ŝin\"],\"he\":[\"אבל\",\"או\",\"אולי\",\"אותה\",\"אותו\",\"אותי\",\"אותך\",\"אותם\",\"אותן\",\"אותנו\",\"אז\",\"אחר\",\"אחרות\",\"אחרי\",\"אחריכן\",\"אחרים\",\"אחרת\",\"אי\",\"איזה\",\"איך\",\"אין\",\"איפה\",\"איתה\",\"איתו\",\"איתי\",\"איתך\",\"איתכם\",\"איתכן\",\"איתם\",\"איתן\",\"איתנו\",\"אך\",\"אל\",\"אלה\",\"אלו\",\"אם\",\"אנחנו\",\"אני\",\"אס\",\"אף\",\"אצל\",\"אשר\",\"את\",\"אתה\",\"אתכם\",\"אתכן\",\"אתם\",\"אתן\",\"באיזומידה\",\"באמצע\",\"באמצעות\",\"בגלל\",\"בין\",\"בלי\",\"במידה\",\"במקוםשבו\",\"ברם\",\"בשביל\",\"בשעהש\",\"בתוך\",\"גם\",\"דרך\",\"הוא\",\"היא\",\"היה\",\"היכן\",\"היתה\",\"היתי\",\"הם\",\"הן\",\"הנה\",\"הסיבהשבגללה\",\"הרי\",\"ואילו\",\"ואת\",\"זאת\",\"זה\",\"זות\",\"יהיה\",\"יוכל\",\"יוכלו\",\"יותרמדי\",\"יכול\",\"יכולה\",\"יכולות\",\"יכולים\",\"יכל\",\"יכלה\",\"יכלו\",\"יש\",\"כאן\",\"כאשר\",\"כולם\",\"כולן\",\"כזה\",\"כי\",\"כיצד\",\"כך\",\"ככה\",\"כל\",\"כלל\",\"כמו\",\"כן\",\"כפי\",\"כש\",\"לא\",\"לאו\",\"לאיזותכלית\",\"לאן\",\"לבין\",\"לה\",\"להיות\",\"להם\",\"להן\",\"לו\",\"לי\",\"לכם\",\"לכן\",\"למה\",\"למטה\",\"למעלה\",\"למקוםשבו\",\"למרות\",\"לנו\",\"לעבר\",\"לעיכן\",\"לפיכך\",\"לפני\",\"מאד\",\"מאחורי\",\"מאיזוסיבה\",\"מאין\",\"מאיפה\",\"מבלי\",\"מבעד\",\"מדוע\",\"מה\",\"מהיכן\",\"מול\",\"מחוץ\",\"מי\",\"מכאן\",\"מכיוון\",\"מלבד\",\"מן\",\"מנין\",\"מסוגל\",\"מעט\",\"מעטים\",\"מעל\",\"מצד\",\"מקוםבו\",\"מתחת\",\"מתי\",\"נגד\",\"נגר\",\"נו\",\"עד\",\"עז\",\"על\",\"עלי\",\"עליה\",\"עליהם\",\"עליהן\",\"עליו\",\"עליך\",\"עליכם\",\"עלינו\",\"עם\",\"עצמה\",\"עצמהם\",\"עצמהן\",\"עצמו\",\"עצמי\",\"עצמם\",\"עצמן\",\"עצמנו\",\"פה\",\"רק\",\"שוב\",\"של\",\"שלה\",\"שלהם\",\"שלהן\",\"שלו\",\"שלי\",\"שלך\",\"שלכה\",\"שלכם\",\"שלכן\",\"שלנו\",\"שם\",\"תהיה\",\"תחת\"],\"la\":[\"a\",\"ab\",\"ac\",\"ad\",\"at\",\"atque\",\"aut\",\"autem\",\"cum\",\"de\",\"dum\",\"e\",\"erant\",\"erat\",\"est\",\"et\",\"etiam\",\"ex\",\"haec\",\"hic\",\"hoc\",\"in\",\"ita\",\"me\",\"nec\",\"neque\",\"non\",\"per\",\"qua\",\"quae\",\"quam\",\"qui\",\"quibus\",\"quidem\",\"quo\",\"quod\",\"re\",\"rebus\",\"rem\",\"res\",\"sed\",\"si\",\"sic\",\"sunt\",\"tamen\",\"tandem\",\"te\",\"ut\",\"vel\"],\"sk\":[\"a\",\"aby\",\"aj\",\"ako\",\"aký\",\"ale\",\"alebo\",\"ani\",\"avšak\",\"ba\",\"bez\",\"buï\",\"cez\",\"do\",\"ho\",\"hoci\",\"i\",\"ich\",\"im\",\"ja\",\"jeho\",\"jej\",\"jemu\",\"ju\",\"k\",\"kam\",\"kde\",\"kedže\",\"keï\",\"kto\",\"ktorý\",\"ku\",\"lebo\",\"ma\",\"mi\",\"mne\",\"mnou\",\"mu\",\"my\",\"mòa\",\"môj\",\"na\",\"nad\",\"nami\",\"neho\",\"nej\",\"nemu\",\"nich\",\"nielen\",\"nim\",\"no\",\"nám\",\"nás\",\"náš\",\"ním\",\"o\",\"od\",\"on\",\"ona\",\"oni\",\"ono\",\"ony\",\"po\",\"pod\",\"pre\",\"pred\",\"pri\",\"s\",\"sa\",\"seba\",\"sem\",\"so\",\"svoj\",\"taký\",\"tam\",\"teba\",\"tebe\",\"tebou\",\"tej\",\"ten\",\"ti\",\"tie\",\"to\",\"toho\",\"tomu\",\"tou\",\"tvoj\",\"ty\",\"tá\",\"tým\",\"v\",\"vami\",\"veï\",\"vo\",\"vy\",\"vám\",\"vás\",\"váš\",\"však\",\"z\",\"za\",\"zo\",\"a\",\"èi\",\"èo\",\"èí\",\"òom\",\"òou\",\"òu\",\"že\"],\"sl\":[\"a\",\"ali\",\"april\",\"avgust\",\"b\",\"bi\",\"bil\",\"bila\",\"bile\",\"bili\",\"bilo\",\"biti\",\"blizu\",\"bo\",\"bodo\",\"bojo\",\"bolj\",\"bom\",\"bomo\",\"boste\",\"bova\",\"boš\",\"brez\",\"c\",\"cel\",\"cela\",\"celi\",\"celo\",\"d\",\"da\",\"daleč\",\"dan\",\"danes\",\"datum\",\"december\",\"deset\",\"deseta\",\"deseti\",\"deseto\",\"devet\",\"deveta\",\"deveti\",\"deveto\",\"do\",\"dober\",\"dobra\",\"dobri\",\"dobro\",\"dokler\",\"dol\",\"dolg\",\"dolga\",\"dolgi\",\"dovolj\",\"drug\",\"druga\",\"drugi\",\"drugo\",\"dva\",\"dve\",\"e\",\"eden\",\"en\",\"ena\",\"ene\",\"eni\",\"enkrat\",\"eno\",\"etc.\",\"f\",\"februar\",\"g\",\"g.\",\"ga\",\"ga.\",\"gor\",\"gospa\",\"gospod\",\"h\",\"halo\",\"i\",\"idr.\",\"ii\",\"iii\",\"in\",\"iv\",\"ix\",\"iz\",\"j\",\"januar\",\"jaz\",\"je\",\"ji\",\"jih\",\"jim\",\"jo\",\"julij\",\"junij\",\"jutri\",\"k\",\"kadarkoli\",\"kaj\",\"kajti\",\"kako\",\"kakor\",\"kamor\",\"kamorkoli\",\"kar\",\"karkoli\",\"katerikoli\",\"kdaj\",\"kdo\",\"kdorkoli\",\"ker\",\"ki\",\"kje\",\"kjer\",\"kjerkoli\",\"ko\",\"koder\",\"koderkoli\",\"koga\",\"komu\",\"kot\",\"kratek\",\"kratka\",\"kratke\",\"kratki\",\"l\",\"lahka\",\"lahke\",\"lahki\",\"lahko\",\"le\",\"lep\",\"lepa\",\"lepe\",\"lepi\",\"lepo\",\"leto\",\"m\",\"maj\",\"majhen\",\"majhna\",\"majhni\",\"malce\",\"malo\",\"manj\",\"marec\",\"me\",\"med\",\"medtem\",\"mene\",\"mesec\",\"mi\",\"midva\",\"midve\",\"mnogo\",\"moj\",\"moja\",\"moje\",\"mora\",\"morajo\",\"moram\",\"moramo\",\"morate\",\"moraš\",\"morem\",\"mu\",\"n\",\"na\",\"nad\",\"naj\",\"najina\",\"najino\",\"najmanj\",\"naju\",\"največ\",\"nam\",\"narobe\",\"nas\",\"nato\",\"nazaj\",\"naš\",\"naša\",\"naše\",\"ne\",\"nedavno\",\"nedelja\",\"nek\",\"neka\",\"nekaj\",\"nekatere\",\"nekateri\",\"nekatero\",\"nekdo\",\"neke\",\"nekega\",\"neki\",\"nekje\",\"neko\",\"nekoga\",\"nekoč\",\"ni\",\"nikamor\",\"nikdar\",\"nikjer\",\"nikoli\",\"nič\",\"nje\",\"njega\",\"njegov\",\"njegova\",\"njegovo\",\"njej\",\"njemu\",\"njen\",\"njena\",\"njeno\",\"nji\",\"njih\",\"njihov\",\"njihova\",\"njihovo\",\"njiju\",\"njim\",\"njo\",\"njun\",\"njuna\",\"njuno\",\"no\",\"nocoj\",\"november\",\"npr.\",\"o\",\"ob\",\"oba\",\"obe\",\"oboje\",\"od\",\"odprt\",\"odprta\",\"odprti\",\"okoli\",\"oktober\",\"on\",\"onadva\",\"one\",\"oni\",\"onidve\",\"osem\",\"osma\",\"osmi\",\"osmo\",\"oz.\",\"p\",\"pa\",\"pet\",\"peta\",\"petek\",\"peti\",\"peto\",\"po\",\"pod\",\"pogosto\",\"poleg\",\"poln\",\"polna\",\"polni\",\"polno\",\"ponavadi\",\"ponedeljek\",\"ponovno\",\"potem\",\"povsod\",\"pozdravljen\",\"pozdravljeni\",\"prav\",\"prava\",\"prave\",\"pravi\",\"pravo\",\"prazen\",\"prazna\",\"prazno\",\"prbl.\",\"precej\",\"pred\",\"prej\",\"preko\",\"pri\",\"pribl.\",\"približno\",\"primer\",\"pripravljen\",\"pripravljena\",\"pripravljeni\",\"proti\",\"prva\",\"prvi\",\"prvo\",\"r\",\"ravno\",\"redko\",\"res\",\"reč\",\"s\",\"saj\",\"sam\",\"sama\",\"same\",\"sami\",\"samo\",\"se\",\"sebe\",\"sebi\",\"sedaj\",\"sedem\",\"sedma\",\"sedmi\",\"sedmo\",\"sem\",\"september\",\"seveda\",\"si\",\"sicer\",\"skoraj\",\"skozi\",\"slab\",\"smo\",\"so\",\"sobota\",\"spet\",\"sreda\",\"srednja\",\"srednji\",\"sta\",\"ste\",\"stran\",\"stvar\",\"sva\",\"t\",\"ta\",\"tak\",\"taka\",\"take\",\"taki\",\"tako\",\"takoj\",\"tam\",\"te\",\"tebe\",\"tebi\",\"tega\",\"težak\",\"težka\",\"težki\",\"težko\",\"ti\",\"tista\",\"tiste\",\"tisti\",\"tisto\",\"tj.\",\"tja\",\"to\",\"toda\",\"torek\",\"tretja\",\"tretje\",\"tretji\",\"tri\",\"tu\",\"tudi\",\"tukaj\",\"tvoj\",\"tvoja\",\"tvoje\",\"u\",\"v\",\"vaju\",\"vam\",\"vas\",\"vaš\",\"vaša\",\"vaše\",\"ve\",\"vedno\",\"velik\",\"velika\",\"veliki\",\"veliko\",\"vendar\",\"ves\",\"več\",\"vi\",\"vidva\",\"vii\",\"viii\",\"visok\",\"visoka\",\"visoke\",\"visoki\",\"vsa\",\"vsaj\",\"vsak\",\"vsaka\",\"vsakdo\",\"vsake\",\"vsaki\",\"vsakomur\",\"vse\",\"vsega\",\"vsi\",\"vso\",\"včasih\",\"včeraj\",\"x\",\"z\",\"za\",\"zadaj\",\"zadnji\",\"zakaj\",\"zaprta\",\"zaprti\",\"zaprto\",\"zdaj\",\"zelo\",\"zunaj\",\"č\",\"če\",\"često\",\"četrta\",\"četrtek\",\"četrti\",\"četrto\",\"čez\",\"čigav\",\"š\",\"šest\",\"šesta\",\"šesti\",\"šesto\",\"štiri\",\"ž\",\"že\"],\"br\":[\"a\",\"ainda\",\"alem\",\"ambas\",\"ambos\",\"antes\",\"ao\",\"aonde\",\"aos\",\"apos\",\"aquele\",\"aqueles\",\"as\",\"assim\",\"com\",\"como\",\"contra\",\"contudo\",\"cuja\",\"cujas\",\"cujo\",\"cujos\",\"da\",\"das\",\"de\",\"dela\",\"dele\",\"deles\",\"demais\",\"depois\",\"desde\",\"desta\",\"deste\",\"dispoe\",\"dispoem\",\"diversa\",\"diversas\",\"diversos\",\"do\",\"dos\",\"durante\",\"e\",\"ela\",\"elas\",\"ele\",\"eles\",\"em\",\"entao\",\"entre\",\"essa\",\"essas\",\"esse\",\"esses\",\"esta\",\"estas\",\"este\",\"estes\",\"ha\",\"isso\",\"isto\",\"logo\",\"mais\",\"mas\",\"mediante\",\"menos\",\"mesma\",\"mesmas\",\"mesmo\",\"mesmos\",\"na\",\"nao\",\"nas\",\"nem\",\"nesse\",\"neste\",\"nos\",\"o\",\"os\",\"ou\",\"outra\",\"outras\",\"outro\",\"outros\",\"pelas\",\"pelo\",\"pelos\",\"perante\",\"pois\",\"por\",\"porque\",\"portanto\",\"propios\",\"proprio\",\"quais\",\"qual\",\"qualquer\",\"quando\",\"quanto\",\"que\",\"quem\",\"quer\",\"se\",\"seja\",\"sem\",\"sendo\",\"seu\",\"seus\",\"sob\",\"sobre\",\"sua\",\"suas\",\"tal\",\"tambem\",\"teu\",\"teus\",\"toda\",\"todas\",\"todo\",\"todos\",\"tua\",\"tuas\",\"tudo\",\"um\",\"uma\",\"umas\",\"uns\"],\"ca\":[\"a\",\"abans\",\"ací\",\"ah\",\"així\",\"això\",\"al\",\"aleshores\",\"algun\",\"alguna\",\"algunes\",\"alguns\",\"alhora\",\"allà\",\"allí\",\"allò\",\"als\",\"altra\",\"altre\",\"altres\",\"amb\",\"ambdues\",\"ambdós\",\"apa\",\"aquell\",\"aquella\",\"aquelles\",\"aquells\",\"aquest\",\"aquesta\",\"aquestes\",\"aquests\",\"aquí\",\"baix\",\"cada\",\"cadascuna\",\"cadascunes\",\"cadascuns\",\"cadascú\",\"com\",\"contra\",\"d'un\",\"d'una\",\"d'unes\",\"d'uns\",\"dalt\",\"de\",\"del\",\"dels\",\"des\",\"després\",\"dins\",\"dintre\",\"donat\",\"doncs\",\"durant\",\"e\",\"eh\",\"el\",\"els\",\"em\",\"en\",\"encara\",\"ens\",\"entre\",\"eren\",\"es\",\"esta\",\"estaven\",\"esteu\",\"està\",\"estàvem\",\"estàveu\",\"et\",\"etc\",\"ets\",\"fins\",\"fora\",\"gairebé\",\"ha\",\"han\",\"has\",\"havia\",\"he\",\"hem\",\"heu\",\"hi\",\"ho\",\"i\",\"igual\",\"iguals\",\"ja\",\"l'hi\",\"la\",\"les\",\"li\",\"li'n\",\"llavors\",\"m'he\",\"ma\",\"mal\",\"malgrat\",\"mateix\",\"mateixa\",\"mateixes\",\"mateixos\",\"me\",\"mentre\",\"meu\",\"meus\",\"meva\",\"meves\",\"molt\",\"molta\",\"moltes\",\"molts\",\"mon\",\"mons\",\"més\",\"n'he\",\"n'hi\",\"ne\",\"ni\",\"no\",\"nogensmenys\",\"només\",\"nosaltres\",\"nostra\",\"nostre\",\"nostres\",\"o\",\"oh\",\"oi\",\"on\",\"pas\",\"pel\",\"pels\",\"per\",\"perquè\",\"però\",\"poc\",\"poca\",\"pocs\",\"poques\",\"potser\",\"propi\",\"qual\",\"quals\",\"quan\",\"quant\",\"que\",\"quelcom\",\"qui\",\"quin\",\"quina\",\"quines\",\"quins\",\"què\",\"s'ha\",\"s'han\",\"sa\",\"semblant\",\"semblants\",\"ses\",\"seu\",\"seus\",\"seva\",\"seves\",\"si\",\"sobre\",\"sobretot\",\"solament\",\"sols\",\"son\",\"sons\",\"sota\",\"sou\",\"sóc\",\"són\",\"t'ha\",\"t'han\",\"t'he\",\"ta\",\"tal\",\"també\",\"tampoc\",\"tan\",\"tant\",\"tanta\",\"tantes\",\"teu\",\"teus\",\"teva\",\"teves\",\"ton\",\"tons\",\"tot\",\"tota\",\"totes\",\"tots\",\"un\",\"una\",\"unes\",\"uns\",\"us\",\"va\",\"vaig\",\"vam\",\"van\",\"vas\",\"veu\",\"vosaltres\",\"vostra\",\"vostre\",\"vostres\",\"érem\",\"éreu\",\"és\"],\"cs\":[\"a\",\"aby\",\"ahoj\",\"aj\",\"ale\",\"anebo\",\"ani\",\"ano\",\"asi\",\"aspoň\",\"atd\",\"atp\",\"ačkoli\",\"až\",\"bez\",\"beze\",\"blízko\",\"bohužel\",\"brzo\",\"bude\",\"budem\",\"budeme\",\"budete\",\"budeš\",\"budou\",\"budu\",\"by\",\"byl\",\"byla\",\"byli\",\"bylo\",\"byly\",\"bys\",\"být\",\"během\",\"chce\",\"chceme\",\"chcete\",\"chceš\",\"chci\",\"chtít\",\"chtějí\",\"chut'\",\"chuti\",\"co\",\"což\",\"cz\",\"daleko\",\"další\",\"den\",\"deset\",\"devatenáct\",\"devět\",\"dnes\",\"do\",\"dobrý\",\"docela\",\"dva\",\"dvacet\",\"dvanáct\",\"dvě\",\"dál\",\"dále\",\"děkovat\",\"děkujeme\",\"děkuji\",\"ho\",\"hodně\",\"i\",\"jak\",\"jakmile\",\"jako\",\"jakož\",\"jde\",\"je\",\"jeden\",\"jedenáct\",\"jedna\",\"jedno\",\"jednou\",\"jedou\",\"jeho\",\"jehož\",\"jej\",\"jejich\",\"její\",\"jelikož\",\"jemu\",\"jen\",\"jenom\",\"jestli\",\"jestliže\",\"ještě\",\"jež\",\"ji\",\"jich\",\"jimi\",\"jinak\",\"jiné\",\"již\",\"jsem\",\"jseš\",\"jsi\",\"jsme\",\"jsou\",\"jste\",\"já\",\"jí\",\"jím\",\"jíž\",\"k\",\"kam\",\"kde\",\"kdo\",\"kdy\",\"když\",\"ke\",\"kolik\",\"kromě\",\"kterou\",\"která\",\"které\",\"který\",\"kteří\",\"kvůli\",\"mají\",\"mezi\",\"mi\",\"mne\",\"mnou\",\"mně\",\"moc\",\"mohl\",\"mohou\",\"moje\",\"moji\",\"možná\",\"musí\",\"my\",\"má\",\"málo\",\"mám\",\"máme\",\"máte\",\"máš\",\"mé\",\"mí\",\"mít\",\"mě\",\"můj\",\"může\",\"na\",\"nad\",\"nade\",\"napište\",\"naproti\",\"načež\",\"naše\",\"naši\",\"ne\",\"nebo\",\"nebyl\",\"nebyla\",\"nebyli\",\"nebyly\",\"nedělají\",\"nedělá\",\"nedělám\",\"neděláme\",\"neděláte\",\"neděláš\",\"neg\",\"nejsi\",\"nejsou\",\"nemají\",\"nemáme\",\"nemáte\",\"neměl\",\"není\",\"nestačí\",\"nevadí\",\"než\",\"nic\",\"nich\",\"nimi\",\"nové\",\"nový\",\"nula\",\"nám\",\"námi\",\"nás\",\"náš\",\"ním\",\"ně\",\"něco\",\"nějak\",\"někde\",\"někdo\",\"němu\",\"němuž\",\"o\",\"od\",\"ode\",\"on\",\"ona\",\"oni\",\"ono\",\"ony\",\"osm\",\"osmnáct\",\"pak\",\"patnáct\",\"po\",\"pod\",\"podle\",\"pokud\",\"potom\",\"pouze\",\"pozdě\",\"pořád\",\"pravé\",\"pro\",\"prostě\",\"prosím\",\"proti\",\"proto\",\"protože\",\"proč\",\"první\",\"pta\",\"pět\",\"před\",\"přes\",\"přese\",\"při\",\"přičemž\",\"re\",\"rovně\",\"s\",\"se\",\"sedm\",\"sedmnáct\",\"si\",\"skoro\",\"smí\",\"smějí\",\"snad\",\"spolu\",\"sta\",\"sto\",\"strana\",\"sté\",\"své\",\"svých\",\"svým\",\"svými\",\"ta\",\"tady\",\"tak\",\"takhle\",\"taky\",\"také\",\"takže\",\"tam\",\"tamhle\",\"tamhleto\",\"tamto\",\"tato\",\"tebe\",\"tebou\",\"ted'\",\"tedy\",\"ten\",\"tento\",\"teto\",\"ti\",\"tipy\",\"tisíc\",\"tisíce\",\"to\",\"tobě\",\"tohle\",\"toho\",\"tohoto\",\"tom\",\"tomto\",\"tomu\",\"tomuto\",\"toto\",\"trošku\",\"tu\",\"tuto\",\"tvoje\",\"tvá\",\"tvé\",\"tvůj\",\"ty\",\"tyto\",\"téma\",\"tím\",\"tímto\",\"tě\",\"těm\",\"těmu\",\"třeba\",\"tři\",\"třináct\",\"u\",\"určitě\",\"už\",\"v\",\"vaše\",\"vaši\",\"ve\",\"vedle\",\"večer\",\"vlastně\",\"vy\",\"vám\",\"vámi\",\"vás\",\"váš\",\"více\",\"však\",\"všechno\",\"všichni\",\"vůbec\",\"vždy\",\"z\",\"za\",\"zatímco\",\"zač\",\"zda\",\"zde\",\"ze\",\"zprávy\",\"zpět\",\"čau\",\"či\",\"článku\",\"články\",\"čtrnáct\",\"čtyři\",\"šest\",\"šestnáct\",\"že\"],\"el\":[\"αλλα\",\"αν\",\"αντι\",\"απο\",\"αυτα\",\"αυτεσ\",\"αυτη\",\"αυτο\",\"αυτοι\",\"αυτοσ\",\"αυτουσ\",\"αυτων\",\"για\",\"δε\",\"δεν\",\"εαν\",\"ειμαι\",\"ειμαστε\",\"ειναι\",\"εισαι\",\"ειστε\",\"εκεινα\",\"εκεινεσ\",\"εκεινη\",\"εκεινο\",\"εκεινοι\",\"εκεινοσ\",\"εκεινουσ\",\"εκεινων\",\"ενω\",\"επι\",\"η\",\"θα\",\"ισωσ\",\"κ\",\"και\",\"κατα\",\"κι\",\"μα\",\"με\",\"μετα\",\"μη\",\"μην\",\"να\",\"ο\",\"οι\",\"ομωσ\",\"οπωσ\",\"οσο\",\"οτι\",\"παρα\",\"ποια\",\"ποιεσ\",\"ποιο\",\"ποιοι\",\"ποιοσ\",\"ποιουσ\",\"ποιων\",\"που\",\"προσ\",\"πωσ\",\"σε\",\"στη\",\"στην\",\"στο\",\"στον\",\"τα\",\"την\",\"τησ\",\"το\",\"τον\",\"τοτε\",\"του\",\"των\",\"ωσ\"],\"eu\":[\"al\",\"anitz\",\"arabera\",\"asko\",\"baina\",\"bat\",\"batean\",\"batek\",\"bati\",\"batzuei\",\"batzuek\",\"batzuetan\",\"batzuk\",\"bera\",\"beraiek\",\"berau\",\"berauek\",\"bere\",\"berori\",\"beroriek\",\"beste\",\"bezala\",\"da\",\"dago\",\"dira\",\"ditu\",\"du\",\"dute\",\"edo\",\"egin\",\"ere\",\"eta\",\"eurak\",\"ez\",\"gainera\",\"gu\",\"gutxi\",\"guzti\",\"haiei\",\"haiek\",\"haietan\",\"hainbeste\",\"hala\",\"han\",\"handik\",\"hango\",\"hara\",\"hari\",\"hark\",\"hartan\",\"hau\",\"hauei\",\"hauek\",\"hauetan\",\"hemen\",\"hemendik\",\"hemengo\",\"hi\",\"hona\",\"honek\",\"honela\",\"honetan\",\"honi\",\"hor\",\"hori\",\"horiei\",\"horiek\",\"horietan\",\"horko\",\"horra\",\"horrek\",\"horrela\",\"horretan\",\"horri\",\"hortik\",\"hura\",\"izan\",\"ni\",\"noiz\",\"nola\",\"non\",\"nondik\",\"nongo\",\"nor\",\"nora\",\"ze\",\"zein\",\"zen\",\"zenbait\",\"zenbat\",\"zer\",\"zergatik\",\"ziren\",\"zituen\",\"zu\",\"zuek\",\"zuen\",\"zuten\"],\"ga\":[\"a\",\"ach\",\"ag\",\"agus\",\"an\",\"aon\",\"ar\",\"arna\",\"as\",\"b'\",\"ba\",\"beirt\",\"bhúr\",\"caoga\",\"ceathair\",\"ceathrar\",\"chomh\",\"chtó\",\"chuig\",\"chun\",\"cois\",\"céad\",\"cúig\",\"cúigear\",\"d'\",\"daichead\",\"dar\",\"de\",\"deich\",\"deichniúr\",\"den\",\"dhá\",\"do\",\"don\",\"dtí\",\"dá\",\"dár\",\"dó\",\"faoi\",\"faoin\",\"faoina\",\"faoinár\",\"fara\",\"fiche\",\"gach\",\"gan\",\"go\",\"gur\",\"haon\",\"hocht\",\"i\",\"iad\",\"idir\",\"in\",\"ina\",\"ins\",\"inár\",\"is\",\"le\",\"leis\",\"lena\",\"lenár\",\"m'\",\"mar\",\"mo\",\"mé\",\"na\",\"nach\",\"naoi\",\"naonúr\",\"ná\",\"ní\",\"níor\",\"nó\",\"nócha\",\"ocht\",\"ochtar\",\"os\",\"roimh\",\"sa\",\"seacht\",\"seachtar\",\"seachtó\",\"seasca\",\"seisear\",\"siad\",\"sibh\",\"sinn\",\"sna\",\"sé\",\"sí\",\"tar\",\"thar\",\"thú\",\"triúr\",\"trí\",\"trína\",\"trínár\",\"tríocha\",\"tú\",\"um\",\"ár\",\"é\",\"éis\",\"í\",\"ó\",\"ón\",\"óna\",\"ónár\"],\"gl\":[\"a\",\"alí\",\"ao\",\"aos\",\"aquel\",\"aquela\",\"aquelas\",\"aqueles\",\"aquilo\",\"aquí\",\"as\",\"así\",\"aínda\",\"ben\",\"cando\",\"che\",\"co\",\"coa\",\"coas\",\"comigo\",\"con\",\"connosco\",\"contigo\",\"convosco\",\"cos\",\"cun\",\"cunha\",\"cunhas\",\"cuns\",\"da\",\"dalgunha\",\"dalgunhas\",\"dalgún\",\"dalgúns\",\"das\",\"de\",\"del\",\"dela\",\"delas\",\"deles\",\"desde\",\"deste\",\"do\",\"dos\",\"dun\",\"dunha\",\"dunhas\",\"duns\",\"e\",\"el\",\"ela\",\"elas\",\"eles\",\"en\",\"era\",\"eran\",\"esa\",\"esas\",\"ese\",\"eses\",\"esta\",\"estaba\",\"estar\",\"este\",\"estes\",\"estiven\",\"estou\",\"está\",\"están\",\"eu\",\"facer\",\"foi\",\"foron\",\"fun\",\"había\",\"hai\",\"iso\",\"isto\",\"la\",\"las\",\"lle\",\"lles\",\"lo\",\"los\",\"mais\",\"me\",\"meu\",\"meus\",\"min\",\"miña\",\"miñas\",\"moi\",\"na\",\"nas\",\"neste\",\"nin\",\"no\",\"non\",\"nos\",\"nosa\",\"nosas\",\"noso\",\"nosos\",\"nun\",\"nunha\",\"nunhas\",\"nuns\",\"nós\",\"o\",\"os\",\"ou\",\"para\",\"pero\",\"pode\",\"pois\",\"pola\",\"polas\",\"polo\",\"polos\",\"por\",\"que\",\"se\",\"senón\",\"ser\",\"seu\",\"seus\",\"sexa\",\"sido\",\"sobre\",\"súa\",\"súas\",\"tamén\",\"tan\",\"te\",\"ten\",\"ter\",\"teu\",\"teus\",\"teñen\",\"teño\",\"ti\",\"tido\",\"tiven\",\"tiña\",\"túa\",\"túas\",\"un\",\"unha\",\"unhas\",\"uns\",\"vos\",\"vosa\",\"vosas\",\"voso\",\"vosos\",\"vós\",\"á\",\"é\",\"ó\",\"ós\"],\"hy\":[\"այդ\",\"այլ\",\"այն\",\"այս\",\"դու\",\"դուք\",\"եմ\",\"են\",\"ենք\",\"ես\",\"եք\",\"է\",\"էի\",\"էին\",\"էինք\",\"էիր\",\"էիք\",\"էր\",\"ըստ\",\"թ\",\"ի\",\"ին\",\"իսկ\",\"իր\",\"կամ\",\"համար\",\"հետ\",\"հետո\",\"մենք\",\"մեջ\",\"մի\",\"ն\",\"նա\",\"նաև\",\"նրա\",\"նրանք\",\"որ\",\"որը\",\"որոնք\",\"որպես\",\"ու\",\"ում\",\"պիտի\",\"վրա\",\"և\"],\"id\":[\"ada\",\"adalah\",\"adanya\",\"adapun\",\"agak\",\"agaknya\",\"agar\",\"akan\",\"akankah\",\"akhirnya\",\"aku\",\"akulah\",\"amat\",\"amatlah\",\"anda\",\"andalah\",\"antar\",\"antara\",\"antaranya\",\"apa\",\"apaan\",\"apabila\",\"apakah\",\"apalagi\",\"apatah\",\"atau\",\"ataukah\",\"ataupun\",\"bagai\",\"bagaikan\",\"bagaimana\",\"bagaimanakah\",\"bagaimanapun\",\"bagi\",\"bahkan\",\"bahwa\",\"bahwasanya\",\"banyak\",\"beberapa\",\"begini\",\"beginian\",\"beginikah\",\"beginilah\",\"begitu\",\"begitukah\",\"begitulah\",\"begitupun\",\"belum\",\"belumlah\",\"berapa\",\"berapakah\",\"berapalah\",\"berapapun\",\"bermacam\",\"bersama\",\"betulkah\",\"biasa\",\"biasanya\",\"bila\",\"bilakah\",\"bisa\",\"bisakah\",\"boleh\",\"bolehkah\",\"bolehlah\",\"buat\",\"bukan\",\"bukankah\",\"bukanlah\",\"bukannya\",\"cuma\",\"dahulu\",\"dalam\",\"dan\",\"dapat\",\"dari\",\"daripada\",\"dekat\",\"demi\",\"demikian\",\"demikianlah\",\"dengan\",\"depan\",\"di\",\"dia\",\"dialah\",\"diantara\",\"diantaranya\",\"dikarenakan\",\"dini\",\"diri\",\"dirinya\",\"disini\",\"disinilah\",\"dong\",\"dulu\",\"enggak\",\"enggaknya\",\"entah\",\"entahlah\",\"hal\",\"hampir\",\"hanya\",\"hanyalah\",\"harus\",\"haruslah\",\"harusnya\",\"hendak\",\"hendaklah\",\"hendaknya\",\"hingga\",\"ia\",\"ialah\",\"ibarat\",\"ingin\",\"inginkah\",\"inginkan\",\"ini\",\"inikah\",\"inilah\",\"itu\",\"itukah\",\"itulah\",\"jangan\",\"jangankan\",\"janganlah\",\"jika\",\"jikalau\",\"juga\",\"justru\",\"kala\",\"kalau\",\"kalaulah\",\"kalaupun\",\"kalian\",\"kami\",\"kamilah\",\"kamu\",\"kamulah\",\"kan\",\"kapan\",\"kapankah\",\"kapanpun\",\"karena\",\"karenanya\",\"ke\",\"kecil\",\"kemudian\",\"kenapa\",\"kepada\",\"kepadanya\",\"ketika\",\"khususnya\",\"kini\",\"kinilah\",\"kiranya\",\"kita\",\"kitalah\",\"kok\",\"lagi\",\"lagian\",\"lah\",\"lain\",\"lainnya\",\"lalu\",\"lama\",\"lamanya\",\"lebih\",\"macam\",\"maka\",\"makanya\",\"makin\",\"malah\",\"malahan\",\"mampu\",\"mampukah\",\"mana\",\"manakala\",\"manalagi\",\"masih\",\"masihkah\",\"masing\",\"mau\",\"maupun\",\"melainkan\",\"melalui\",\"memang\",\"mengapa\",\"mereka\",\"merekalah\",\"merupakan\",\"meski\",\"meskipun\",\"mungkin\",\"mungkinkah\",\"nah\",\"namun\",\"nanti\",\"nantinya\",\"nyaris\",\"oleh\",\"olehnya\",\"pada\",\"padahal\",\"padanya\",\"paling\",\"pantas\",\"para\",\"pasti\",\"pastilah\",\"per\",\"percuma\",\"pernah\",\"pula\",\"pun\",\"rupanya\",\"saat\",\"saatnya\",\"saja\",\"sajalah\",\"saling\",\"sama\",\"sambil\",\"sampai\",\"sana\",\"sangat\",\"sangatlah\",\"saya\",\"sayalah\",\"se\",\"sebab\",\"sebabnya\",\"sebagai\",\"sebagaimana\",\"sebagainya\",\"sebaliknya\",\"sebanyak\",\"sebegini\",\"sebegitu\",\"sebelum\",\"sebelumnya\",\"sebenarnya\",\"seberapa\",\"sebetulnya\",\"sebisanya\",\"sebuah\",\"sedang\",\"sedangkan\",\"sedemikian\",\"sedikit\",\"sedikitnya\",\"segala\",\"segalanya\",\"segera\",\"seharusnya\",\"sehingga\",\"sejak\",\"sejenak\",\"sekali\",\"sekalian\",\"sekaligus\",\"sekalipun\",\"sekarang\",\"seketika\",\"sekiranya\",\"sekitar\",\"sekitarnya\",\"sela\",\"selagi\",\"selain\",\"selaku\",\"selalu\",\"selama\",\"selamanya\",\"seluruh\",\"seluruhnya\",\"semacam\",\"semakin\",\"semasih\",\"semaunya\",\"sementara\",\"sempat\",\"semua\",\"semuanya\",\"semula\",\"sendiri\",\"sendirinya\",\"seolah\",\"seorang\",\"sepanjang\",\"sepantasnya\",\"sepantasnyalah\",\"seperti\",\"sepertinya\",\"sering\",\"seringnya\",\"serta\",\"serupa\",\"sesaat\",\"sesama\",\"sesegera\",\"sesekali\",\"seseorang\",\"sesuatu\",\"sesuatunya\",\"sesudah\",\"sesudahnya\",\"setelah\",\"seterusnya\",\"setiap\",\"setidaknya\",\"sewaktu\",\"siapa\",\"siapakah\",\"siapapun\",\"sini\",\"sinilah\",\"suatu\",\"sudah\",\"sudahkah\",\"sudahlah\",\"supaya\",\"tadi\",\"tadinya\",\"tak\",\"tanpa\",\"tapi\",\"telah\",\"tentang\",\"tentu\",\"tentulah\",\"tentunya\",\"terdiri\",\"terhadap\",\"terhadapnya\",\"terlalu\",\"terlebih\",\"tersebut\",\"tersebutlah\",\"tertentu\",\"tetapi\",\"tiap\",\"tidak\",\"tidakkah\",\"tidaklah\",\"toh\",\"waduh\",\"wah\",\"wahai\",\"walau\",\"walaupun\",\"wong\",\"yaitu\",\"yakni\",\"yang\"],\"ja\":[\"あっ\",\"あり\",\"ある\",\"い\",\"いう\",\"いる\",\"う\",\"うち\",\"お\",\"および\",\"おり\",\"か\",\"かつて\",\"から\",\"が\",\"き\",\"ここ\",\"こと\",\"この\",\"これ\",\"これら\",\"さ\",\"さらに\",\"し\",\"しかし\",\"する\",\"ず\",\"せ\",\"せる\",\"そして\",\"その\",\"その他\",\"その後\",\"それ\",\"それぞれ\",\"た\",\"ただし\",\"たち\",\"ため\",\"たり\",\"だ\",\"だっ\",\"つ\",\"て\",\"で\",\"でき\",\"できる\",\"です\",\"では\",\"でも\",\"と\",\"という\",\"といった\",\"とき\",\"ところ\",\"として\",\"とともに\",\"とも\",\"と共に\",\"な\",\"ない\",\"なお\",\"なかっ\",\"ながら\",\"なく\",\"なっ\",\"など\",\"なら\",\"なり\",\"なる\",\"に\",\"において\",\"における\",\"について\",\"にて\",\"によって\",\"により\",\"による\",\"に対して\",\"に対する\",\"に関する\",\"の\",\"ので\",\"のみ\",\"は\",\"ば\",\"へ\",\"ほか\",\"ほとんど\",\"ほど\",\"ます\",\"また\",\"または\",\"まで\",\"も\",\"もの\",\"ものの\",\"や\",\"よう\",\"より\",\"ら\",\"られ\",\"られる\",\"れ\",\"れる\",\"を\",\"ん\",\"及び\",\"特に\"],\"lv\":[\"aiz\",\"ap\",\"apakš\",\"apakšpus\",\"ar\",\"arī\",\"augšpus\",\"bet\",\"bez\",\"bija\",\"biji\",\"biju\",\"bijām\",\"bijāt\",\"būs\",\"būsi\",\"būsiet\",\"būsim\",\"būt\",\"būšu\",\"caur\",\"diemžēl\",\"diezin\",\"droši\",\"dēļ\",\"esam\",\"esat\",\"esi\",\"esmu\",\"gan\",\"gar\",\"iekam\",\"iekams\",\"iekām\",\"iekāms\",\"iekš\",\"iekšpus\",\"ik\",\"ir\",\"it\",\"itin\",\"iz\",\"ja\",\"jau\",\"jeb\",\"jebšu\",\"jel\",\"jo\",\"jā\",\"ka\",\"kamēr\",\"kaut\",\"kolīdz\",\"kopš\",\"kā\",\"kļuva\",\"kļuvi\",\"kļuvu\",\"kļuvām\",\"kļuvāt\",\"kļūs\",\"kļūsi\",\"kļūsiet\",\"kļūsim\",\"kļūst\",\"kļūstam\",\"kļūstat\",\"kļūsti\",\"kļūstu\",\"kļūt\",\"kļūšu\",\"labad\",\"lai\",\"lejpus\",\"līdz\",\"līdzko\",\"ne\",\"nebūt\",\"nedz\",\"nekā\",\"nevis\",\"nezin\",\"no\",\"nu\",\"nē\",\"otrpus\",\"pa\",\"par\",\"pat\",\"pie\",\"pirms\",\"pret\",\"priekš\",\"pār\",\"pēc\",\"starp\",\"tad\",\"tak\",\"tapi\",\"taps\",\"tapsi\",\"tapsiet\",\"tapsim\",\"tapt\",\"tapāt\",\"tapšu\",\"taču\",\"te\",\"tiec\",\"tiek\",\"tiekam\",\"tiekat\",\"tieku\",\"tik\",\"tika\",\"tikai\",\"tiki\",\"tikko\",\"tiklab\",\"tiklīdz\",\"tiks\",\"tiksiet\",\"tiksim\",\"tikt\",\"tiku\",\"tikvien\",\"tikām\",\"tikāt\",\"tikšu\",\"tomēr\",\"topat\",\"turpretim\",\"turpretī\",\"tā\",\"tādēļ\",\"tālab\",\"tāpēc\",\"un\",\"uz\",\"vai\",\"var\",\"varat\",\"varēja\",\"varēji\",\"varēju\",\"varējām\",\"varējāt\",\"varēs\",\"varēsi\",\"varēsiet\",\"varēsim\",\"varēt\",\"varēšu\",\"vien\",\"virs\",\"virspus\",\"vis\",\"viņpus\",\"zem\",\"ārpus\",\"šaipus\"],\"th\":[\"กล่าว\",\"กว่า\",\"กัน\",\"กับ\",\"การ\",\"ก็\",\"ก่อน\",\"ขณะ\",\"ขอ\",\"ของ\",\"ขึ้น\",\"คง\",\"ครั้ง\",\"ความ\",\"คือ\",\"จะ\",\"จัด\",\"จาก\",\"จึง\",\"ช่วง\",\"ซึ่ง\",\"ดัง\",\"ด้วย\",\"ด้าน\",\"ตั้ง\",\"ตั้งแต่\",\"ตาม\",\"ต่อ\",\"ต่าง\",\"ต่างๆ\",\"ต้อง\",\"ถึง\",\"ถูก\",\"ถ้า\",\"ทั้ง\",\"ทั้งนี้\",\"ทาง\",\"ที่\",\"ที่สุด\",\"ทุก\",\"ทํา\",\"ทําให้\",\"นอกจาก\",\"นัก\",\"นั้น\",\"นี้\",\"น่า\",\"นํา\",\"บาง\",\"ผล\",\"ผ่าน\",\"พบ\",\"พร้อม\",\"มา\",\"มาก\",\"มี\",\"ยัง\",\"รวม\",\"ระหว่าง\",\"รับ\",\"ราย\",\"ร่วม\",\"ลง\",\"วัน\",\"ว่า\",\"สุด\",\"ส่ง\",\"ส่วน\",\"สําหรับ\",\"หนึ่ง\",\"หรือ\",\"หลัง\",\"หลังจาก\",\"หลาย\",\"หาก\",\"อยาก\",\"อยู่\",\"อย่าง\",\"ออก\",\"อะไร\",\"อาจ\",\"อีก\",\"เขา\",\"เข้า\",\"เคย\",\"เฉพาะ\",\"เช่น\",\"เดียว\",\"เดียวกัน\",\"เนื่องจาก\",\"เปิด\",\"เปิดเผย\",\"เป็น\",\"เป็นการ\",\"เพราะ\",\"เพื่อ\",\"เมื่อ\",\"เรา\",\"เริ่ม\",\"เลย\",\"เห็น\",\"เอง\",\"แต่\",\"แบบ\",\"แรก\",\"และ\",\"แล้ว\",\"แห่ง\",\"โดย\",\"ใน\",\"ให้\",\"ได้\",\"ไป\",\"ไม่\",\"ไว้\"],\"ar\":[\"،\",\"أ\",\"ا\",\"اثر\",\"اجل\",\"احد\",\"اخرى\",\"اذا\",\"اربعة\",\"اطار\",\"اعادة\",\"اعلنت\",\"اف\",\"اكثر\",\"اكد\",\"الا\",\"الاخيرة\",\"الان\",\"الاول\",\"الاولى\",\"التى\",\"التي\",\"الثاني\",\"الثانية\",\"الذاتي\",\"الذى\",\"الذي\",\"الذين\",\"السابق\",\"الف\",\"الماضي\",\"المقبل\",\"الوقت\",\"الى\",\"اليوم\",\"اما\",\"امام\",\"امس\",\"ان\",\"انه\",\"انها\",\"او\",\"اول\",\"اي\",\"ايار\",\"ايام\",\"ايضا\",\"ب\",\"باسم\",\"بان\",\"برس\",\"بسبب\",\"بشكل\",\"بعد\",\"بعض\",\"بن\",\"به\",\"بها\",\"بين\",\"تم\",\"ثلاثة\",\"ثم\",\"جميع\",\"حاليا\",\"حتى\",\"حوالى\",\"حول\",\"حيث\",\"حين\",\"خلال\",\"دون\",\"ذلك\",\"زيارة\",\"سنة\",\"سنوات\",\"شخصا\",\"صباح\",\"صفر\",\"ضد\",\"ضمن\",\"عام\",\"عاما\",\"عدة\",\"عدد\",\"عدم\",\"عشر\",\"عشرة\",\"على\",\"عليه\",\"عليها\",\"عن\",\"عند\",\"عندما\",\"غدا\",\"غير\",\"ـ\",\"ف\",\"فان\",\"فى\",\"في\",\"فيه\",\"فيها\",\"قال\",\"قبل\",\"قد\",\"قوة\",\"كان\",\"كانت\",\"كل\",\"كلم\",\"كما\",\"لا\",\"لدى\",\"لقاء\",\"لكن\",\"للامم\",\"لم\",\"لن\",\"له\",\"لها\",\"لوكالة\",\"ما\",\"مايو\",\"مساء\",\"مع\",\"مقابل\",\"مليار\",\"مليون\",\"من\",\"منذ\",\"منها\",\"نحو\",\"نفسه\",\"نهاية\",\"هذا\",\"هذه\",\"هناك\",\"هو\",\"هي\",\"و\",\"و6\",\"واحد\",\"واضاف\",\"واضافت\",\"واكد\",\"وان\",\"واوضح\",\"وفي\",\"وقال\",\"وقالت\",\"وقد\",\"وقف\",\"وكان\",\"وكانت\",\"ولا\",\"ولم\",\"ومن\",\"وهو\",\"وهي\",\"يكون\",\"يمكن\",\"يوم\"],\"bg\":[\"а\",\"автентичен\",\"аз\",\"ако\",\"ала\",\"бе\",\"без\",\"беше\",\"би\",\"бивш\",\"бивша\",\"бившо\",\"бил\",\"била\",\"били\",\"било\",\"благодаря\",\"близо\",\"бъдат\",\"бъде\",\"бяха\",\"в\",\"вас\",\"ваш\",\"ваша\",\"вероятно\",\"вече\",\"взема\",\"ви\",\"вие\",\"винаги\",\"внимава\",\"време\",\"все\",\"всеки\",\"всички\",\"всичко\",\"всяка\",\"във\",\"въпреки\",\"върху\",\"г\",\"ги\",\"главен\",\"главна\",\"главно\",\"глас\",\"го\",\"година\",\"години\",\"годишен\",\"д\",\"да\",\"дали\",\"два\",\"двама\",\"двамата\",\"две\",\"двете\",\"ден\",\"днес\",\"дни\",\"до\",\"добра\",\"добре\",\"добро\",\"добър\",\"докато\",\"докога\",\"дори\",\"досега\",\"доста\",\"друг\",\"друга\",\"други\",\"е\",\"евтин\",\"едва\",\"един\",\"една\",\"еднаква\",\"еднакви\",\"еднакъв\",\"едно\",\"екип\",\"ето\",\"живот\",\"за\",\"забавям\",\"зад\",\"заедно\",\"заради\",\"засега\",\"заспал\",\"затова\",\"защо\",\"защото\",\"и\",\"из\",\"или\",\"им\",\"има\",\"имат\",\"иска\",\"й\",\"каза\",\"как\",\"каква\",\"какво\",\"както\",\"какъв\",\"като\",\"кога\",\"когато\",\"което\",\"които\",\"кой\",\"който\",\"колко\",\"която\",\"къде\",\"където\",\"към\",\"лесен\",\"лесно\",\"ли\",\"лош\",\"м\",\"май\",\"малко\",\"ме\",\"между\",\"мек\",\"мен\",\"месец\",\"ми\",\"много\",\"мнозина\",\"мога\",\"могат\",\"може\",\"мокър\",\"моля\",\"момента\",\"му\",\"н\",\"на\",\"над\",\"назад\",\"най\",\"направи\",\"напред\",\"например\",\"нас\",\"не\",\"него\",\"нещо\",\"нея\",\"ни\",\"ние\",\"никой\",\"нито\",\"нищо\",\"но\",\"нов\",\"нова\",\"нови\",\"новина\",\"някои\",\"някой\",\"няколко\",\"няма\",\"обаче\",\"около\",\"освен\",\"особено\",\"от\",\"отгоре\",\"отново\",\"още\",\"пак\",\"по\",\"повече\",\"повечето\",\"под\",\"поне\",\"поради\",\"после\",\"почти\",\"прави\",\"пред\",\"преди\",\"през\",\"при\",\"пък\",\"първата\",\"първи\",\"първо\",\"пъти\",\"равен\",\"равна\",\"с\",\"са\",\"сам\",\"само\",\"се\",\"сега\",\"си\",\"син\",\"скоро\",\"след\",\"следващ\",\"сме\",\"смях\",\"според\",\"сред\",\"срещу\",\"сте\",\"съм\",\"със\",\"също\",\"т\",\"т.н.\",\"тази\",\"така\",\"такива\",\"такъв\",\"там\",\"твой\",\"те\",\"тези\",\"ти\",\"то\",\"това\",\"тогава\",\"този\",\"той\",\"толкова\",\"точно\",\"три\",\"трябва\",\"тук\",\"тъй\",\"тя\",\"тях\",\"у\",\"утре\",\"харесва\",\"хиляди\",\"ч\",\"часа\",\"че\",\"често\",\"чрез\",\"ще\",\"щом\",\"юмрук\",\"я\",\"як\"],\"bn\":[\"অনেক\",\"অন্য\",\"অবশ্য\",\"আগে\",\"আছে\",\"আজ\",\"আবার\",\"আমরা\",\"আমাদের\",\"আর\",\"ই\",\"উত্তর\",\"উপর\",\"উপরে\",\"এ\",\"এই\",\"এক্\",\"এখন\",\"এত\",\"এব\",\"এমন\",\"এমনি\",\"এর\",\"এস\",\"এসে\",\"ও\",\"ওই\",\"কমনে\",\"করা\",\"করে\",\"কাছে\",\"কাজ\",\"কাজে\",\"কারণ\",\"কি\",\"কিছু\",\"কে\",\"কেউ\",\"কেখা\",\"কেন\",\"কোটি\",\"কোনো\",\"কয়েক\",\"খুব\",\"গিয়ে\",\"গেল\",\"চার\",\"চালু\",\"চেষ্টা\",\"ছিল\",\"জানা\",\"জ্নজন\",\"টি\",\"তখন\",\"তবে\",\"তা\",\"তাই\",\"তো\",\"থাকা\",\"থেকে\",\"দিন\",\"দু\",\"দুই\",\"দেওয়া\",\"ধামার\",\"নতুন\",\"না\",\"নাগাদ\",\"নিয়ে\",\"নেওয়া\",\"নয়\",\"পর\",\"পরে\",\"পাচ\",\"পি\",\"পেয়্র্\",\"প্রতি\",\"প্রথম\",\"প্রযন্ত\",\"প্রাথমিক\",\"প্রায়\",\"বক্তব্য\",\"বন\",\"বলা\",\"বলে\",\"বলেন\",\"বহু\",\"বা\",\"বি\",\"বিভিন্ন\",\"বেশ\",\"বেশি\",\"মতো\",\"মধ্যে\",\"মনে\",\"যখন\",\"যদি\",\"যা\",\"যাওয়া\",\"যে\",\"র\",\"রকম\",\"লক্ষ\",\"শুধু\",\"শুরু\",\"সঙ্গে\",\"সব\",\"সহ\",\"সাধারণ\",\"সামনে\",\"সি\",\"সে\",\"সেই\",\"হতে\",\"হাজার\",\"হয়\"],\"fa\":[\"آباد\",\"آره\",\"آری\",\"آمد\",\"آمده\",\"آن\",\"آنان\",\"آنجا\",\"آنكه\",\"آنها\",\"آنچه\",\"آورد\",\"آورده\",\"آيد\",\"آیا\",\"اثرِ\",\"از\",\"است\",\"استفاده\",\"اش\",\"اكنون\",\"البته\",\"البتّه\",\"ام\",\"اما\",\"امروز\",\"امسال\",\"اند\",\"انکه\",\"او\",\"اول\",\"اي\",\"ايشان\",\"ايم\",\"اين\",\"اينكه\",\"اگر\",\"با\",\"بار\",\"بارة\",\"باره\",\"باشد\",\"باشند\",\"باشيم\",\"بالا\",\"بالایِ\",\"بايد\",\"بدون\",\"بر\",\"برابرِ\",\"براساس\",\"براي\",\"برایِ\",\"برخوردار\",\"برخي\",\"برداري\",\"بروز\",\"بسيار\",\"بسياري\",\"بعد\",\"بعری\",\"بعضي\",\"بلكه\",\"بله\",\"بلکه\",\"بلی\",\"بنابراين\",\"بندي\",\"به\",\"بهترين\",\"بود\",\"بودن\",\"بودند\",\"بوده\",\"بي\",\"بيست\",\"بيش\",\"بيشتر\",\"بيشتري\",\"بين\",\"بی\",\"بیرونِ\",\"تا\",\"تازه\",\"تاكنون\",\"تان\",\"تحت\",\"تر\",\"ترين\",\"تمام\",\"تمامي\",\"تنها\",\"تواند\",\"توانند\",\"توسط\",\"تولِ\",\"تویِ\",\"جا\",\"جاي\",\"جايي\",\"جدا\",\"جديد\",\"جريان\",\"جز\",\"جلوگيري\",\"جلویِ\",\"حتي\",\"حدودِ\",\"حق\",\"خارجِ\",\"خدمات\",\"خواست\",\"خواهد\",\"خواهند\",\"خواهيم\",\"خود\",\"خويش\",\"خیاه\",\"داد\",\"دادن\",\"دادند\",\"داده\",\"دارد\",\"دارند\",\"داريم\",\"داشت\",\"داشتن\",\"داشتند\",\"داشته\",\"دانست\",\"دانند\",\"در\",\"درباره\",\"دنبالِ\",\"ده\",\"دهد\",\"دهند\",\"دو\",\"دوم\",\"ديده\",\"ديروز\",\"ديگر\",\"ديگران\",\"ديگري\",\"دیگر\",\"را\",\"راه\",\"رفت\",\"رفته\",\"روب\",\"روزهاي\",\"روي\",\"رویِ\",\"ريزي\",\"زياد\",\"زير\",\"زيرا\",\"زیرِ\",\"سابق\",\"ساخته\",\"سازي\",\"سراسر\",\"سریِ\",\"سعي\",\"سمتِ\",\"سوم\",\"سوي\",\"سویِ\",\"سپس\",\"شان\",\"شايد\",\"شد\",\"شدن\",\"شدند\",\"شده\",\"شش\",\"شما\",\"شناسي\",\"شود\",\"شوند\",\"صورت\",\"ضدِّ\",\"ضمن\",\"طبقِ\",\"طريق\",\"طور\",\"طي\",\"عقبِ\",\"علّتِ\",\"عنوانِ\",\"غير\",\"فقط\",\"فكر\",\"فوق\",\"قابل\",\"قبل\",\"قصدِ\",\"كرد\",\"كردم\",\"كردن\",\"كردند\",\"كرده\",\"كسي\",\"كل\",\"كمتر\",\"كند\",\"كنم\",\"كنند\",\"كنيد\",\"كنيم\",\"كه\",\"لطفاً\",\"ما\",\"مان\",\"مانند\",\"مانندِ\",\"مثل\",\"مثلِ\",\"مختلف\",\"مدّتی\",\"مردم\",\"مرسی\",\"مقابل\",\"من\",\"مورد\",\"مي\",\"ميليارد\",\"ميليون\",\"مگر\",\"ناشي\",\"نام\",\"نبايد\",\"نبود\",\"نخست\",\"نخستين\",\"نخواهد\",\"ندارد\",\"ندارند\",\"نداشته\",\"نزديك\",\"نزدِ\",\"نزدیکِ\",\"نشان\",\"نشده\",\"نظير\",\"نكرده\",\"نمايد\",\"نمي\",\"نه\",\"نوعي\",\"نيز\",\"نيست\",\"ها\",\"هاي\",\"هايي\",\"هر\",\"هرگز\",\"هزار\",\"هست\",\"هستند\",\"هستيم\",\"هفت\",\"هم\",\"همان\",\"همه\",\"همواره\",\"همين\",\"همچنان\",\"همچنين\",\"همچون\",\"همین\",\"هنوز\",\"هنگام\",\"هنگامِ\",\"هنگامی\",\"هيچ\",\"هیچ\",\"و\",\"وسطِ\",\"وقتي\",\"وقتیکه\",\"ولی\",\"وي\",\"وگو\",\"يا\",\"يابد\",\"يك\",\"يكديگر\",\"يكي\",\"ّه\",\"پاعینِ\",\"پس\",\"پنج\",\"پيش\",\"پیش\",\"پیشِ\",\"چرا\",\"چطور\",\"چند\",\"چندین\",\"چنين\",\"چه\",\"چهار\",\"چون\",\"چيزي\",\"چگونه\",\"چیز\",\"چیزی\",\"چیست\",\"کجا\",\"کجاست\",\"کدام\",\"کس\",\"کسی\",\"کنارِ\",\"که\",\"کَی\",\"کی\",\"گذاري\",\"گذاشته\",\"گردد\",\"گرفت\",\"گرفته\",\"گروهي\",\"گفت\",\"گفته\",\"گويد\",\"گويند\",\"گيرد\",\"گيري\",\"یا\",\"یک\"],\"hi\":[\"अंदर\",\"अत\",\"अदि\",\"अप\",\"अपना\",\"अपनि\",\"अपनी\",\"अपने\",\"अभि\",\"अभी\",\"आदि\",\"आप\",\"इंहिं\",\"इंहें\",\"इंहों\",\"इतयादि\",\"इत्यादि\",\"इन\",\"इनका\",\"इन्हीं\",\"इन्हें\",\"इन्हों\",\"इस\",\"इसका\",\"इसकि\",\"इसकी\",\"इसके\",\"इसमें\",\"इसि\",\"इसी\",\"इसे\",\"उंहिं\",\"उंहें\",\"उंहों\",\"उन\",\"उनका\",\"उनकि\",\"उनकी\",\"उनके\",\"उनको\",\"उन्हीं\",\"उन्हें\",\"उन्हों\",\"उस\",\"उसके\",\"उसि\",\"उसी\",\"उसे\",\"एक\",\"एवं\",\"एस\",\"एसे\",\"ऐसे\",\"ओर\",\"और\",\"कइ\",\"कई\",\"कर\",\"करता\",\"करते\",\"करना\",\"करने\",\"करें\",\"कहते\",\"कहा\",\"का\",\"काफि\",\"काफ़ी\",\"कि\",\"किंहें\",\"किंहों\",\"कितना\",\"किन्हें\",\"किन्हों\",\"किया\",\"किर\",\"किस\",\"किसि\",\"किसी\",\"किसे\",\"की\",\"कुछ\",\"कुल\",\"के\",\"को\",\"कोइ\",\"कोई\",\"कोन\",\"कोनसा\",\"कौन\",\"कौनसा\",\"गया\",\"घर\",\"जब\",\"जहाँ\",\"जहां\",\"जा\",\"जिंहें\",\"जिंहों\",\"जितना\",\"जिधर\",\"जिन\",\"जिन्हें\",\"जिन्हों\",\"जिस\",\"जिसे\",\"जीधर\",\"जेसा\",\"जेसे\",\"जैसा\",\"जैसे\",\"जो\",\"तक\",\"तब\",\"तरह\",\"तिंहें\",\"तिंहों\",\"तिन\",\"तिन्हें\",\"तिन्हों\",\"तिस\",\"तिसे\",\"तो\",\"था\",\"थि\",\"थी\",\"थे\",\"दबारा\",\"दवारा\",\"दिया\",\"दुसरा\",\"दुसरे\",\"दूसरे\",\"दो\",\"द्वारा\",\"न\",\"नहिं\",\"नहीं\",\"ना\",\"निचे\",\"निहायत\",\"नीचे\",\"ने\",\"पर\",\"पहले\",\"पुरा\",\"पूरा\",\"पे\",\"फिर\",\"बनि\",\"बनी\",\"बहि\",\"बही\",\"बहुत\",\"बाद\",\"बाला\",\"बिलकुल\",\"भि\",\"भितर\",\"भी\",\"भीतर\",\"मगर\",\"मानो\",\"मे\",\"में\",\"यदि\",\"यह\",\"यहाँ\",\"यहां\",\"यहि\",\"यही\",\"या\",\"यिह\",\"ये\",\"रखें\",\"रवासा\",\"रहा\",\"रहे\",\"ऱ्वासा\",\"लिए\",\"लिये\",\"लेकिन\",\"व\",\"वगेरह\",\"वरग\",\"वर्ग\",\"वह\",\"वहाँ\",\"वहां\",\"वहिं\",\"वहीं\",\"वाले\",\"वुह\",\"वे\",\"वग़ैरह\",\"संग\",\"सकता\",\"सकते\",\"सबसे\",\"सभि\",\"सभी\",\"साथ\",\"साबुत\",\"साभ\",\"सारा\",\"से\",\"सो\",\"हि\",\"ही\",\"हुअ\",\"हुआ\",\"हुइ\",\"हुई\",\"हुए\",\"हे\",\"हें\",\"है\",\"हैं\",\"हो\",\"होता\",\"होति\",\"होती\",\"होते\",\"होना\",\"होने\"],\"mr\":[\"अधिक\",\"अनेक\",\"अशी\",\"असलयाचे\",\"असलेल्या\",\"असा\",\"असून\",\"असे\",\"आज\",\"आणि\",\"आता\",\"आपल्या\",\"आला\",\"आली\",\"आले\",\"आहे\",\"आहेत\",\"एक\",\"एका\",\"कमी\",\"करणयात\",\"करून\",\"का\",\"काम\",\"काय\",\"काही\",\"किवा\",\"की\",\"केला\",\"केली\",\"केले\",\"कोटी\",\"गेल्या\",\"घेऊन\",\"जात\",\"झाला\",\"झाली\",\"झाले\",\"झालेल्या\",\"टा\",\"डॉ\",\"तर\",\"तरी\",\"तसेच\",\"ता\",\"ती\",\"तीन\",\"ते\",\"तो\",\"त्या\",\"त्याचा\",\"त्याची\",\"त्याच्या\",\"त्याना\",\"त्यानी\",\"त्यामुळे\",\"त्री\",\"दिली\",\"दोन\",\"न\",\"नाही\",\"निर्ण्य\",\"पण\",\"पम\",\"परयतन\",\"पाटील\",\"म\",\"मात्र\",\"माहिती\",\"मी\",\"मुबी\",\"म्हणजे\",\"म्हणाले\",\"म्हणून\",\"या\",\"याचा\",\"याची\",\"याच्या\",\"याना\",\"यानी\",\"येणार\",\"येत\",\"येथील\",\"येथे\",\"लाख\",\"व\",\"व्यकत\",\"सर्व\",\"सागित्ले\",\"सुरू\",\"हजार\",\"हा\",\"ही\",\"हे\",\"होणार\",\"होत\",\"होता\",\"होती\",\"होते\"],\"ro\":[\"acea\",\"aceasta\",\"această\",\"aceea\",\"acei\",\"aceia\",\"acel\",\"acela\",\"acele\",\"acelea\",\"acest\",\"acesta\",\"aceste\",\"acestea\",\"aceşti\",\"aceştia\",\"acolo\",\"acord\",\"acum\",\"ai\",\"aia\",\"aibă\",\"aici\",\"al\",\"ale\",\"alea\",\"altceva\",\"altcineva\",\"am\",\"ar\",\"are\",\"asemenea\",\"asta\",\"astea\",\"astăzi\",\"asupra\",\"au\",\"avea\",\"avem\",\"aveţi\",\"azi\",\"aş\",\"aşadar\",\"aţi\",\"bine\",\"bucur\",\"bună\",\"ca\",\"care\",\"caut\",\"ce\",\"cel\",\"ceva\",\"chiar\",\"cinci\",\"cine\",\"cineva\",\"contra\",\"cu\",\"cum\",\"cumva\",\"curând\",\"curînd\",\"când\",\"cât\",\"câte\",\"câtva\",\"câţi\",\"cînd\",\"cît\",\"cîte\",\"cîtva\",\"cîţi\",\"că\",\"căci\",\"cărei\",\"căror\",\"cărui\",\"către\",\"da\",\"dacă\",\"dar\",\"datorită\",\"dată\",\"dau\",\"de\",\"deci\",\"deja\",\"deoarece\",\"departe\",\"deşi\",\"din\",\"dinaintea\",\"dintr-\",\"dintre\",\"doi\",\"doilea\",\"două\",\"drept\",\"după\",\"dă\",\"ea\",\"ei\",\"el\",\"ele\",\"eram\",\"este\",\"eu\",\"eşti\",\"face\",\"fata\",\"fi\",\"fie\",\"fiecare\",\"fii\",\"fim\",\"fiu\",\"fiţi\",\"frumos\",\"fără\",\"graţie\",\"halbă\",\"iar\",\"ieri\",\"la\",\"le\",\"li\",\"lor\",\"lui\",\"lângă\",\"lîngă\",\"mai\",\"mea\",\"mei\",\"mele\",\"mereu\",\"meu\",\"mi\",\"mie\",\"mine\",\"mult\",\"multă\",\"mulţi\",\"mulţumesc\",\"mâine\",\"mîine\",\"mă\",\"ne\",\"nevoie\",\"nici\",\"nicăieri\",\"nimeni\",\"nimeri\",\"nimic\",\"nişte\",\"noastre\",\"noastră\",\"noi\",\"noroc\",\"nostru\",\"nouă\",\"noştri\",\"nu\",\"opt\",\"ori\",\"oricare\",\"orice\",\"oricine\",\"oricum\",\"oricând\",\"oricât\",\"oricînd\",\"oricît\",\"oriunde\",\"patra\",\"patru\",\"patrulea\",\"pe\",\"pentru\",\"peste\",\"pic\",\"poate\",\"pot\",\"prea\",\"prima\",\"primul\",\"prin\",\"printr-\",\"puţin\",\"puţina\",\"puţină\",\"până\",\"pînă\",\"rog\",\"sa\",\"sale\",\"sau\",\"se\",\"spate\",\"spre\",\"sub\",\"sunt\",\"suntem\",\"sunteţi\",\"sută\",\"sînt\",\"sîntem\",\"sînteţi\",\"să\",\"săi\",\"său\",\"ta\",\"tale\",\"te\",\"timp\",\"tine\",\"toate\",\"toată\",\"tot\",\"totuşi\",\"toţi\",\"trei\",\"treia\",\"treilea\",\"tu\",\"tăi\",\"tău\",\"un\",\"una\",\"unde\",\"undeva\",\"unei\",\"uneia\",\"unele\",\"uneori\",\"unii\",\"unor\",\"unora\",\"unu\",\"unui\",\"unuia\",\"unul\",\"vi\",\"voastre\",\"voastră\",\"voi\",\"vostru\",\"vouă\",\"voştri\",\"vreme\",\"vreo\",\"vreun\",\"vă\",\"zece\",\"zero\",\"zi\",\"zice\",\"îi\",\"îl\",\"îmi\",\"împotriva\",\"în\",\"înainte\",\"înaintea\",\"încotro\",\"încât\",\"încît\",\"între\",\"întrucât\",\"întrucît\",\"îţi\",\"ăla\",\"ălea\",\"ăsta\",\"ăstea\",\"ăştia\",\"şapte\",\"şase\",\"şi\",\"ştiu\",\"ţi\",\"ţie\"],\"en\":[\"a\",\"a's\",\"able\",\"about\",\"above\",\"according\",\"accordingly\",\"across\",\"actually\",\"after\",\"afterwards\",\"again\",\"against\",\"ain't\",\"all\",\"allow\",\"allows\",\"almost\",\"alone\",\"along\",\"already\",\"also\",\"although\",\"always\",\"am\",\"among\",\"amongst\",\"an\",\"and\",\"another\",\"any\",\"anybody\",\"anyhow\",\"anyone\",\"anything\",\"anyway\",\"anyways\",\"anywhere\",\"apart\",\"appear\",\"appreciate\",\"appropriate\",\"are\",\"aren't\",\"around\",\"as\",\"aside\",\"ask\",\"asking\",\"associated\",\"at\",\"available\",\"away\",\"awfully\",\"b\",\"be\",\"became\",\"because\",\"become\",\"becomes\",\"becoming\",\"been\",\"before\",\"beforehand\",\"behind\",\"being\",\"believe\",\"below\",\"beside\",\"besides\",\"best\",\"better\",\"between\",\"beyond\",\"both\",\"brief\",\"but\",\"by\",\"c\",\"c'mon\",\"c's\",\"came\",\"can\",\"can't\",\"cannot\",\"cant\",\"cause\",\"causes\",\"certain\",\"certainly\",\"changes\",\"clearly\",\"co\",\"com\",\"come\",\"comes\",\"concerning\",\"consequently\",\"consider\",\"considering\",\"contain\",\"containing\",\"contains\",\"corresponding\",\"could\",\"couldn't\",\"course\",\"currently\",\"d\",\"definitely\",\"described\",\"despite\",\"did\",\"didn't\",\"different\",\"do\",\"does\",\"doesn't\",\"doing\",\"don't\",\"done\",\"down\",\"downwards\",\"during\",\"e\",\"each\",\"edu\",\"eg\",\"eight\",\"either\",\"else\",\"elsewhere\",\"enough\",\"entirely\",\"especially\",\"et\",\"etc\",\"even\",\"ever\",\"every\",\"everybody\",\"everyone\",\"everything\",\"everywhere\",\"ex\",\"exactly\",\"example\",\"except\",\"f\",\"far\",\"few\",\"fifth\",\"first\",\"five\",\"followed\",\"following\",\"follows\",\"for\",\"former\",\"formerly\",\"forth\",\"four\",\"from\",\"further\",\"furthermore\",\"g\",\"get\",\"gets\",\"getting\",\"given\",\"gives\",\"go\",\"goes\",\"going\",\"gone\",\"got\",\"gotten\",\"greetings\",\"h\",\"had\",\"hadn't\",\"happens\",\"hardly\",\"has\",\"hasn't\",\"have\",\"haven't\",\"having\",\"he\",\"he's\",\"hello\",\"help\",\"hence\",\"her\",\"here\",\"here's\",\"hereafter\",\"hereby\",\"herein\",\"hereupon\",\"hers\",\"herself\",\"hi\",\"him\",\"himself\",\"his\",\"hither\",\"hopefully\",\"how\",\"howbeit\",\"however\",\"i\",\"i'd\",\"i'll\",\"i'm\",\"i've\",\"ie\",\"if\",\"ignored\",\"immediate\",\"in\",\"inasmuch\",\"inc\",\"indeed\",\"indicate\",\"indicated\",\"indicates\",\"inner\",\"insofar\",\"instead\",\"into\",\"inward\",\"is\",\"isn't\",\"it\",\"it'd\",\"it'll\",\"it's\",\"its\",\"itself\",\"j\",\"just\",\"k\",\"keep\",\"keeps\",\"kept\",\"know\",\"known\",\"knows\",\"l\",\"last\",\"lately\",\"later\",\"latter\",\"latterly\",\"least\",\"less\",\"lest\",\"let\",\"let's\",\"like\",\"liked\",\"likely\",\"little\",\"look\",\"looking\",\"looks\",\"ltd\",\"m\",\"mainly\",\"many\",\"may\",\"maybe\",\"me\",\"mean\",\"meanwhile\",\"merely\",\"might\",\"more\",\"moreover\",\"most\",\"mostly\",\"much\",\"must\",\"my\",\"myself\",\"n\",\"name\",\"namely\",\"nd\",\"near\",\"nearly\",\"necessary\",\"need\",\"needs\",\"neither\",\"never\",\"nevertheless\",\"new\",\"next\",\"nine\",\"no\",\"nobody\",\"non\",\"none\",\"noone\",\"nor\",\"normally\",\"not\",\"nothing\",\"novel\",\"now\",\"nowhere\",\"o\",\"obviously\",\"of\",\"off\",\"often\",\"oh\",\"ok\",\"okay\",\"old\",\"on\",\"once\",\"one\",\"ones\",\"only\",\"onto\",\"or\",\"other\",\"others\",\"otherwise\",\"ought\",\"our\",\"ours\",\"ourselves\",\"out\",\"outside\",\"over\",\"overall\",\"own\",\"p\",\"particular\",\"particularly\",\"per\",\"perhaps\",\"placed\",\"please\",\"plus\",\"possible\",\"presumably\",\"probably\",\"provides\",\"q\",\"que\",\"quite\",\"qv\",\"r\",\"rather\",\"rd\",\"re\",\"really\",\"reasonably\",\"regarding\",\"regardless\",\"regards\",\"relatively\",\"respectively\",\"right\",\"s\",\"said\",\"same\",\"saw\",\"say\",\"saying\",\"says\",\"second\",\"secondly\",\"see\",\"seeing\",\"seem\",\"seemed\",\"seeming\",\"seems\",\"seen\",\"self\",\"selves\",\"sensible\",\"sent\",\"serious\",\"seriously\",\"seven\",\"several\",\"shall\",\"she\",\"should\",\"shouldn't\",\"since\",\"six\",\"so\",\"some\",\"somebody\",\"somehow\",\"someone\",\"something\",\"sometime\",\"sometimes\",\"somewhat\",\"somewhere\",\"soon\",\"sorry\",\"specified\",\"specify\",\"specifying\",\"still\",\"sub\",\"such\",\"sup\",\"sure\",\"t\",\"t's\",\"take\",\"taken\",\"tell\",\"tends\",\"th\",\"than\",\"thank\",\"thanks\",\"thanx\",\"that\",\"that's\",\"thats\",\"the\",\"their\",\"theirs\",\"them\",\"themselves\",\"then\",\"thence\",\"there\",\"there's\",\"thereafter\",\"thereby\",\"therefore\",\"therein\",\"theres\",\"thereupon\",\"these\",\"they\",\"they'd\",\"they'll\",\"they're\",\"they've\",\"think\",\"third\",\"this\",\"thorough\",\"thoroughly\",\"those\",\"though\",\"three\",\"through\",\"throughout\",\"thru\",\"thus\",\"to\",\"together\",\"too\",\"took\",\"toward\",\"towards\",\"tried\",\"tries\",\"truly\",\"try\",\"trying\",\"twice\",\"two\",\"u\",\"un\",\"under\",\"unfortunately\",\"unless\",\"unlikely\",\"until\",\"unto\",\"up\",\"upon\",\"us\",\"use\",\"used\",\"useful\",\"uses\",\"using\",\"usually\",\"uucp\",\"v\",\"value\",\"various\",\"very\",\"via\",\"viz\",\"vs\",\"w\",\"want\",\"wants\",\"was\",\"wasn't\",\"way\",\"we\",\"we'd\",\"we'll\",\"we're\",\"we've\",\"welcome\",\"well\",\"went\",\"were\",\"weren't\",\"what\",\"what's\",\"whatever\",\"when\",\"whence\",\"whenever\",\"where\",\"where's\",\"whereafter\",\"whereas\",\"whereby\",\"wherein\",\"whereupon\",\"wherever\",\"whether\",\"which\",\"while\",\"whither\",\"who\",\"who's\",\"whoever\",\"whole\",\"whom\",\"whose\",\"why\",\"will\",\"willing\",\"wish\",\"with\",\"within\",\"without\",\"won't\",\"wonder\",\"would\",\"wouldn't\",\"x\",\"y\",\"yes\",\"yet\",\"you\",\"you'd\",\"you'll\",\"you're\",\"you've\",\"your\",\"yours\",\"yourself\",\"yourselves\",\"z\",\"zero\"]}\n",
    "stopwords_json_en = set(stopwords_json['en'])\n",
    "stopwords_nltk_en = set(stopwords.words('english'))\n",
    "# Combine the stopwords. Its a lot longer so I'm not printing it out...\n",
    "stoplist_combined = set.union(stopwords_json_en, stopwords_nltk_en)\n",
    "\n",
    "rmsw_token_words = ([word for word in token_words if word.lower() not in stoplist_combined])\n",
    "print('Stopwords removed:' + str(rmsw_token_words[0:20]))"
   ]
  },
  {
   "cell_type": "markdown",
   "metadata": {},
   "source": [
    "### Handle the CAPITALIZED Word"
   ]
  },
  {
   "cell_type": "code",
   "execution_count": null,
   "metadata": {
    "ExecuteTime": {
     "end_time": "2018-09-30T15:30:03.643453Z",
     "start_time": "2018-09-30T15:30:03.620844Z"
    }
   },
   "outputs": [],
   "source": [
    "rmcap_token_words =[]\n",
    "for word in rmsw_token_words:\n",
    "    if word.isupper():\n",
    "        rmcap_token_words.append(word.title())\n",
    "    else:\n",
    "        rmcap_token_words.append(word)\n",
    "print('CAPITALIZED removed: ' + str(rmcap_token_words[0:20]))"
   ]
  },
  {
   "cell_type": "markdown",
   "metadata": {},
   "source": [
    "### Remove Salutation"
   ]
  },
  {
   "cell_type": "code",
   "execution_count": null,
   "metadata": {
    "ExecuteTime": {
     "end_time": "2018-09-30T15:30:03.670375Z",
     "start_time": "2018-09-30T15:30:03.647347Z"
    }
   },
   "outputs": [],
   "source": [
    " ## Remove salutation\n",
    "salutation = ['mr','mrs','mss','dr','phd','prof','rev']\n",
    "rmsalu_token_words = ([word for word in rmcap_token_words if word.lower() not in salutation])\n",
    "print('Salutation removed: ' + str(rmsalu_token_words[0:20]))"
   ]
  },
  {
   "cell_type": "markdown",
   "metadata": {},
   "source": [
    "### Remove Numbers"
   ]
  },
  {
   "cell_type": "code",
   "execution_count": null,
   "metadata": {
    "ExecuteTime": {
     "end_time": "2018-09-30T15:30:03.690061Z",
     "start_time": "2018-09-30T15:30:03.675188Z"
    }
   },
   "outputs": [],
   "source": [
    " ## Remove Numbers\n",
    "rmnb_token_words = ([word for word in rmsalu_token_words if not word.isdigit()])\n",
    "print('Number removed: ' + str(rmnb_token_words[0:20]))"
   ]
  },
  {
   "cell_type": "markdown",
   "metadata": {},
   "source": [
    "## Stemming and Lemmatization"
   ]
  },
  {
   "cell_type": "markdown",
   "metadata": {},
   "source": [
    "#### Stemming"
   ]
  },
  {
   "cell_type": "code",
   "execution_count": null,
   "metadata": {
    "ExecuteTime": {
     "end_time": "2018-09-30T15:30:04.762531Z",
     "start_time": "2018-09-30T15:30:03.694279Z"
    }
   },
   "outputs": [],
   "source": [
    "from nltk.stem import PorterStemmer\n",
    "porter = PorterStemmer()\n",
    "stemmed_words = [porter.stem(word) for word in rmnb_token_words]\n",
    "print('Stems:' + str(stemmed_words[0:10]))"
   ]
  },
  {
   "cell_type": "markdown",
   "metadata": {},
   "source": [
    "#### Lemmatization"
   ]
  },
  {
   "cell_type": "code",
   "execution_count": null,
   "metadata": {
    "ExecuteTime": {
     "end_time": "2018-09-30T15:30:04.790249Z",
     "start_time": "2018-09-30T15:30:04.778572Z"
    }
   },
   "outputs": [],
   "source": [
    "## Function to transfer the tags of POS\n",
    "def transfer_tag(treebank_tag):\n",
    "        if treebank_tag.startswith('j' or 'J'):\n",
    "            return 'a'\n",
    "        elif treebank_tag.startswith('v' or 'V'):\n",
    "            return 'v'\n",
    "        elif treebank_tag.startswith('n' or 'N'):\n",
    "            return 'n'\n",
    "        elif treebank_tag.startswith('r' or 'R'):\n",
    "            return 'r'\n",
    "        else:\n",
    "            # As default pos in lemmatization is Noun\n",
    "            return 'n'"
   ]
  },
  {
   "cell_type": "markdown",
   "metadata": {},
   "source": [
    "Using the information of Part-Of-Speech, we can lemmatize each token as follows:"
   ]
  },
  {
   "cell_type": "code",
   "execution_count": null,
   "metadata": {
    "ExecuteTime": {
     "end_time": "2018-09-30T15:30:07.933939Z",
     "start_time": "2018-09-30T15:30:04.795835Z"
    }
   },
   "outputs": [],
   "source": [
    "from nltk import pos_tag\n",
    "from nltk.stem import WordNetLemmatizer\n",
    "wnl = WordNetLemmatizer()\n",
    "\n",
    "lemma_words = []\n",
    "for word, tag in nltk.pos_tag(rmnb_token_words):\n",
    "    firstletter = tag[0].lower() # -> get the first letter of tag and put them decapitalized form\n",
    "    wtag = transfer_tag(firstletter) # -> extract the word's tag (noun, verb, adverb, adjective)\n",
    "    if not wtag:\n",
    "        lemma_words.extend([word])\n",
    "    else:\n",
    "        lemma_words.extend([wnl.lemmatize(word, wtag)]) # -> get lemma for word with tag\n",
    "\n",
    "print('Lemmas : ' + str(lemma_words[0:10]))"
   ]
  },
  {
   "cell_type": "markdown",
   "metadata": {
    "ExecuteTime": {
     "end_time": "2018-09-30T13:19:37.280346Z",
     "start_time": "2018-09-30T13:19:36.384572Z"
    }
   },
   "source": [
    "Can you see the differences between 'lemma_words' and 'stemmed_words'?"
   ]
  },
  {
   "cell_type": "markdown",
   "metadata": {},
   "source": [
    "## Apply those techniques to the Series"
   ]
  },
  {
   "cell_type": "code",
   "execution_count": null,
   "metadata": {
    "ExecuteTime": {
     "end_time": "2018-09-30T15:30:08.256439Z",
     "start_time": "2018-09-30T15:30:07.946208Z"
    }
   },
   "outputs": [],
   "source": [
    "def convert_tokens(rawtext, verbose):\n",
    "    # First: Tokenization\n",
    "    from nltk.tokenize import RegexpTokenizer\n",
    "    pattern = r'\\w+'\n",
    "    tokenizer = RegexpTokenizer(pattern)\n",
    "    token_words = tokenizer.tokenize(rawtext)\n",
    "    if (verbose):\n",
    "        print('Tokens:' + str(token_words[0:10]))\n",
    "    \n",
    "    # # Second: Decapitalization (if needed)\n",
    "    # decap_token_words = [word.lower() for word in token_words]\n",
    "    # print('Decapitalized Tokens:' + str(decap_token_words[0:10]))\n",
    "    \n",
    "    # Third: Remove stop words\n",
    "    from nltk.corpus import stopwords\n",
    "    stopwords_json = {\"af\":[\"'n\",\"aan\",\"af\",\"al\",\"as\",\"baie\",\"by\",\"daar\",\"dag\",\"dat\",\"die\",\"dit\",\"een\",\"ek\",\"en\",\"gaan\",\"gesê\",\"haar\",\"het\",\"hom\",\"hulle\",\"hy\",\"in\",\"is\",\"jou\",\"jy\",\"kan\",\"kom\",\"ma\",\"maar\",\"met\",\"my\",\"na\",\"nie\",\"om\",\"ons\",\"op\",\"saam\",\"sal\",\"se\",\"sien\",\"so\",\"sy\",\"te\",\"toe\",\"uit\",\"van\",\"vir\",\"was\",\"wat\",\"ŉ\"],\"ha\":[\"a\",\"amma\",\"ba\",\"ban\",\"ce\",\"cikin\",\"da\",\"don\",\"ga\",\"in\",\"ina\",\"ita\",\"ji\",\"ka\",\"ko\",\"kuma\",\"lokacin\",\"ma\",\"mai\",\"na\",\"ne\",\"ni\",\"sai\",\"shi\",\"su\",\"suka\",\"sun\",\"ta\",\"tafi\",\"take\",\"tana\",\"wani\",\"wannan\",\"wata\",\"ya\",\"yake\",\"yana\",\"yi\",\"za\"],\"so\":[\"aad\",\"albaabkii\",\"atabo\",\"ay\",\"ayaa\",\"ayee\",\"ayuu\",\"dhan\",\"hadana\",\"in\",\"inuu\",\"isku\",\"jiray\",\"jirtay\",\"ka\",\"kale\",\"kasoo\",\"ku\",\"kuu\",\"lakin\",\"markii\",\"oo\",\"si\",\"soo\",\"uga\",\"ugu\",\"uu\",\"waa\",\"waxa\",\"waxuu\"],\"st\":[\"a\",\"ba\",\"bane\",\"bona\",\"e\",\"ea\",\"eaba\",\"empa\",\"ena\",\"ha\",\"hae\",\"hape\",\"ho\",\"hore\",\"ka\",\"ke\",\"la\",\"le\",\"li\",\"me\",\"mo\",\"moo\",\"ne\",\"o\",\"oa\",\"re\",\"sa\",\"se\",\"tloha\",\"tsa\",\"tse\"],\"sw\":[\"akasema\",\"alikuwa\",\"alisema\",\"baada\",\"basi\",\"bila\",\"cha\",\"chini\",\"hadi\",\"hapo\",\"hata\",\"hivyo\",\"hiyo\",\"huku\",\"huo\",\"ili\",\"ilikuwa\",\"juu\",\"kama\",\"karibu\",\"katika\",\"kila\",\"kima\",\"kisha\",\"kubwa\",\"kutoka\",\"kuwa\",\"kwa\",\"kwamba\",\"kwenda\",\"kwenye\",\"la\",\"lakini\",\"mara\",\"mdogo\",\"mimi\",\"mkubwa\",\"mmoja\",\"moja\",\"muda\",\"mwenye\",\"na\",\"naye\",\"ndani\",\"ng\",\"ni\",\"nini\",\"nonkungu\",\"pamoja\",\"pia\",\"sana\",\"sasa\",\"sauti\",\"tafadhali\",\"tena\",\"tu\",\"vile\",\"wa\",\"wakati\",\"wake\",\"walikuwa\",\"wao\",\"watu\",\"wengine\",\"wote\",\"ya\",\"yake\",\"yangu\",\"yao\",\"yeye\",\"yule\",\"za\",\"zaidi\",\"zake\"],\"yo\":[\"a\",\"an\",\"bá\",\"bí\",\"bẹ̀rẹ̀\",\"fún\",\"fẹ́\",\"gbogbo\",\"inú\",\"jù\",\"jẹ\",\"jẹ́\",\"kan\",\"kì\",\"kí\",\"kò\",\"láti\",\"lè\",\"lọ\",\"mi\",\"mo\",\"máa\",\"mọ̀\",\"ni\",\"náà\",\"ní\",\"nígbà\",\"nítorí\",\"nǹkan\",\"o\",\"padà\",\"pé\",\"púpọ̀\",\"pẹ̀lú\",\"rẹ̀\",\"sì\",\"sí\",\"sínú\",\"ṣ\",\"ti\",\"tí\",\"wà\",\"wá\",\"wọn\",\"wọ́n\",\"yìí\",\"àti\",\"àwọn\",\"é\",\"í\",\"òun\",\"ó\",\"ń\",\"ńlá\",\"ṣe\",\"ṣé\",\"ṣùgbọ́n\",\"ẹmọ́\",\"ọjọ́\",\"ọ̀pọ̀lọpọ̀\"],\"zu\":[\"futhi\",\"kahle\",\"kakhulu\",\"kanye\",\"khona\",\"kodwa\",\"kungani\",\"kusho\",\"la\",\"lakhe\",\"lapho\",\"mina\",\"ngesikhathi\",\"nje\",\"phansi\",\"phezulu\",\"u\",\"ukuba\",\"ukuthi\",\"ukuze\",\"uma\",\"wahamba\",\"wakhe\",\"wami\",\"wase\",\"wathi\",\"yakhe\",\"zakhe\",\"zonke\"],\"da\":[\"af\",\"alle\",\"andet\",\"andre\",\"at\",\"begge\",\"da\",\"de\",\"den\",\"denne\",\"der\",\"deres\",\"det\",\"dette\",\"dig\",\"din\",\"dog\",\"du\",\"ej\",\"eller\",\"en\",\"end\",\"ene\",\"eneste\",\"enhver\",\"et\",\"fem\",\"fire\",\"flere\",\"fleste\",\"for\",\"fordi\",\"forrige\",\"fra\",\"få\",\"før\",\"god\",\"han\",\"hans\",\"har\",\"hendes\",\"her\",\"hun\",\"hvad\",\"hvem\",\"hver\",\"hvilken\",\"hvis\",\"hvor\",\"hvordan\",\"hvorfor\",\"hvornår\",\"i\",\"ikke\",\"ind\",\"ingen\",\"intet\",\"jeg\",\"jeres\",\"kan\",\"kom\",\"kommer\",\"lav\",\"lidt\",\"lille\",\"man\",\"mand\",\"mange\",\"med\",\"meget\",\"men\",\"mens\",\"mere\",\"mig\",\"ned\",\"ni\",\"nogen\",\"noget\",\"ny\",\"nyt\",\"nær\",\"næste\",\"næsten\",\"og\",\"op\",\"otte\",\"over\",\"på\",\"se\",\"seks\",\"ses\",\"som\",\"stor\",\"store\",\"syv\",\"ti\",\"til\",\"to\",\"tre\",\"ud\",\"var\"],\"de\":[\"Ernst\",\"Ordnung\",\"Schluss\",\"a\",\"ab\",\"aber\",\"ach\",\"acht\",\"achte\",\"achten\",\"achter\",\"achtes\",\"ag\",\"alle\",\"allein\",\"allem\",\"allen\",\"aller\",\"allerdings\",\"alles\",\"allgemeinen\",\"als\",\"also\",\"am\",\"an\",\"andere\",\"anderen\",\"andern\",\"anders\",\"au\",\"auch\",\"auf\",\"aus\",\"ausser\",\"ausserdem\",\"außer\",\"außerdem\",\"b\",\"bald\",\"bei\",\"beide\",\"beiden\",\"beim\",\"beispiel\",\"bekannt\",\"bereits\",\"besonders\",\"besser\",\"besten\",\"bin\",\"bis\",\"bisher\",\"bist\",\"c\",\"d\",\"d.h\",\"da\",\"dabei\",\"dadurch\",\"dafür\",\"dagegen\",\"daher\",\"dahin\",\"dahinter\",\"damals\",\"damit\",\"danach\",\"daneben\",\"dank\",\"dann\",\"daran\",\"darauf\",\"daraus\",\"darf\",\"darfst\",\"darin\",\"darum\",\"darunter\",\"darüber\",\"das\",\"dasein\",\"daselbst\",\"dass\",\"dasselbe\",\"davon\",\"davor\",\"dazu\",\"dazwischen\",\"daß\",\"dein\",\"deine\",\"deinem\",\"deiner\",\"dem\",\"dementsprechend\",\"demgegenüber\",\"demgemäss\",\"demgemäß\",\"demselben\",\"demzufolge\",\"den\",\"denen\",\"denn\",\"denselben\",\"der\",\"deren\",\"derjenige\",\"derjenigen\",\"dermassen\",\"dermaßen\",\"derselbe\",\"derselben\",\"des\",\"deshalb\",\"desselben\",\"dessen\",\"deswegen\",\"dich\",\"die\",\"diejenige\",\"diejenigen\",\"dies\",\"diese\",\"dieselbe\",\"dieselben\",\"diesem\",\"diesen\",\"dieser\",\"dieses\",\"dir\",\"doch\",\"dort\",\"drei\",\"drin\",\"dritte\",\"dritten\",\"dritter\",\"drittes\",\"du\",\"durch\",\"durchaus\",\"durfte\",\"durften\",\"dürfen\",\"dürft\",\"e\",\"eben\",\"ebenso\",\"ehrlich\",\"ei\",\"ei,\",\"eigen\",\"eigene\",\"eigenen\",\"eigener\",\"eigenes\",\"ein\",\"einander\",\"eine\",\"einem\",\"einen\",\"einer\",\"eines\",\"einige\",\"einigen\",\"einiger\",\"einiges\",\"einmal\",\"eins\",\"elf\",\"en\",\"ende\",\"endlich\",\"entweder\",\"er\",\"erst\",\"erste\",\"ersten\",\"erster\",\"erstes\",\"es\",\"etwa\",\"etwas\",\"euch\",\"euer\",\"eure\",\"f\",\"folgende\",\"früher\",\"fünf\",\"fünfte\",\"fünften\",\"fünfter\",\"fünftes\",\"für\",\"g\",\"gab\",\"ganz\",\"ganze\",\"ganzen\",\"ganzer\",\"ganzes\",\"gar\",\"gedurft\",\"gegen\",\"gegenüber\",\"gehabt\",\"gehen\",\"geht\",\"gekannt\",\"gekonnt\",\"gemacht\",\"gemocht\",\"gemusst\",\"genug\",\"gerade\",\"gern\",\"gesagt\",\"geschweige\",\"gewesen\",\"gewollt\",\"geworden\",\"gibt\",\"ging\",\"gleich\",\"gott\",\"gross\",\"grosse\",\"grossen\",\"grosser\",\"grosses\",\"groß\",\"große\",\"großen\",\"großer\",\"großes\",\"gut\",\"gute\",\"guter\",\"gutes\",\"h\",\"habe\",\"haben\",\"habt\",\"hast\",\"hat\",\"hatte\",\"hatten\",\"hattest\",\"hattet\",\"heisst\",\"her\",\"heute\",\"hier\",\"hin\",\"hinter\",\"hoch\",\"hätte\",\"hätten\",\"i\",\"ich\",\"ihm\",\"ihn\",\"ihnen\",\"ihr\",\"ihre\",\"ihrem\",\"ihren\",\"ihrer\",\"ihres\",\"im\",\"immer\",\"in\",\"indem\",\"infolgedessen\",\"ins\",\"irgend\",\"ist\",\"j\",\"ja\",\"jahr\",\"jahre\",\"jahren\",\"je\",\"jede\",\"jedem\",\"jeden\",\"jeder\",\"jedermann\",\"jedermanns\",\"jedes\",\"jedoch\",\"jemand\",\"jemandem\",\"jemanden\",\"jene\",\"jenem\",\"jenen\",\"jener\",\"jenes\",\"jetzt\",\"k\",\"kam\",\"kann\",\"kannst\",\"kaum\",\"kein\",\"keine\",\"keinem\",\"keinen\",\"keiner\",\"kleine\",\"kleinen\",\"kleiner\",\"kleines\",\"kommen\",\"kommt\",\"konnte\",\"konnten\",\"kurz\",\"können\",\"könnt\",\"könnte\",\"l\",\"lang\",\"lange\",\"leicht\",\"leide\",\"lieber\",\"los\",\"m\",\"machen\",\"macht\",\"machte\",\"mag\",\"magst\",\"mahn\",\"mal\",\"man\",\"manche\",\"manchem\",\"manchen\",\"mancher\",\"manches\",\"mann\",\"mehr\",\"mein\",\"meine\",\"meinem\",\"meinen\",\"meiner\",\"meines\",\"mensch\",\"menschen\",\"mich\",\"mir\",\"mit\",\"mittel\",\"mochte\",\"mochten\",\"morgen\",\"muss\",\"musst\",\"musste\",\"mussten\",\"muß\",\"mußt\",\"möchte\",\"mögen\",\"möglich\",\"mögt\",\"müssen\",\"müsst\",\"müßt\",\"n\",\"na\",\"nach\",\"nachdem\",\"nahm\",\"natürlich\",\"neben\",\"nein\",\"neue\",\"neuen\",\"neun\",\"neunte\",\"neunten\",\"neunter\",\"neuntes\",\"nicht\",\"nichts\",\"nie\",\"niemand\",\"niemandem\",\"niemanden\",\"noch\",\"nun\",\"nur\",\"o\",\"ob\",\"oben\",\"oder\",\"offen\",\"oft\",\"ohne\",\"p\",\"q\",\"r\",\"recht\",\"rechte\",\"rechten\",\"rechter\",\"rechtes\",\"richtig\",\"rund\",\"s\",\"sa\",\"sache\",\"sagt\",\"sagte\",\"sah\",\"satt\",\"schlecht\",\"schon\",\"sechs\",\"sechste\",\"sechsten\",\"sechster\",\"sechstes\",\"sehr\",\"sei\",\"seid\",\"seien\",\"sein\",\"seine\",\"seinem\",\"seinen\",\"seiner\",\"seines\",\"seit\",\"seitdem\",\"selbst\",\"sich\",\"sie\",\"sieben\",\"siebente\",\"siebenten\",\"siebenter\",\"siebentes\",\"sind\",\"so\",\"solang\",\"solche\",\"solchem\",\"solchen\",\"solcher\",\"solches\",\"soll\",\"sollen\",\"sollst\",\"sollt\",\"sollte\",\"sollten\",\"sondern\",\"sonst\",\"soweit\",\"sowie\",\"später\",\"startseite\",\"statt\",\"steht\",\"suche\",\"t\",\"tag\",\"tage\",\"tagen\",\"tat\",\"teil\",\"tel\",\"tritt\",\"trotzdem\",\"tun\",\"u\",\"uhr\",\"um\",\"und\",\"und?\",\"uns\",\"unser\",\"unsere\",\"unserer\",\"unter\",\"v\",\"vergangenen\",\"viel\",\"viele\",\"vielem\",\"vielen\",\"vielleicht\",\"vier\",\"vierte\",\"vierten\",\"vierter\",\"viertes\",\"vom\",\"von\",\"vor\",\"w\",\"wahr?\",\"wann\",\"war\",\"waren\",\"wart\",\"warum\",\"was\",\"wegen\",\"weil\",\"weit\",\"weiter\",\"weitere\",\"weiteren\",\"weiteres\",\"welche\",\"welchem\",\"welchen\",\"welcher\",\"welches\",\"wem\",\"wen\",\"wenig\",\"wenige\",\"weniger\",\"weniges\",\"wenigstens\",\"wenn\",\"wer\",\"werde\",\"werden\",\"werdet\",\"weshalb\",\"wessen\",\"wie\",\"wieder\",\"wieso\",\"will\",\"willst\",\"wir\",\"wird\",\"wirklich\",\"wirst\",\"wissen\",\"wo\",\"wohl\",\"wollen\",\"wollt\",\"wollte\",\"wollten\",\"worden\",\"wurde\",\"wurden\",\"während\",\"währenddem\",\"währenddessen\",\"wäre\",\"würde\",\"würden\",\"x\",\"y\",\"z\",\"z.b\",\"zehn\",\"zehnte\",\"zehnten\",\"zehnter\",\"zehntes\",\"zeit\",\"zu\",\"zuerst\",\"zugleich\",\"zum\",\"zunächst\",\"zur\",\"zurück\",\"zusammen\",\"zwanzig\",\"zwar\",\"zwei\",\"zweite\",\"zweiten\",\"zweiter\",\"zweites\",\"zwischen\",\"zwölf\",\"über\",\"überhaupt\",\"übrigens\"],\"es\":[\"a\",\"actualmente\",\"acuerdo\",\"adelante\",\"ademas\",\"además\",\"adrede\",\"afirmó\",\"agregó\",\"ahi\",\"ahora\",\"ahí\",\"al\",\"algo\",\"alguna\",\"algunas\",\"alguno\",\"algunos\",\"algún\",\"alli\",\"allí\",\"alrededor\",\"ambos\",\"ampleamos\",\"antano\",\"antaño\",\"ante\",\"anterior\",\"antes\",\"apenas\",\"aproximadamente\",\"aquel\",\"aquella\",\"aquellas\",\"aquello\",\"aquellos\",\"aqui\",\"aquél\",\"aquélla\",\"aquéllas\",\"aquéllos\",\"aquí\",\"arriba\",\"arribaabajo\",\"aseguró\",\"asi\",\"así\",\"atras\",\"aun\",\"aunque\",\"ayer\",\"añadió\",\"aún\",\"b\",\"bajo\",\"bastante\",\"bien\",\"breve\",\"buen\",\"buena\",\"buenas\",\"bueno\",\"buenos\",\"c\",\"cada\",\"casi\",\"cerca\",\"cierta\",\"ciertas\",\"cierto\",\"ciertos\",\"cinco\",\"claro\",\"comentó\",\"como\",\"con\",\"conmigo\",\"conocer\",\"conseguimos\",\"conseguir\",\"considera\",\"consideró\",\"consigo\",\"consigue\",\"consiguen\",\"consigues\",\"contigo\",\"contra\",\"cosas\",\"creo\",\"cual\",\"cuales\",\"cualquier\",\"cuando\",\"cuanta\",\"cuantas\",\"cuanto\",\"cuantos\",\"cuatro\",\"cuenta\",\"cuál\",\"cuáles\",\"cuándo\",\"cuánta\",\"cuántas\",\"cuánto\",\"cuántos\",\"cómo\",\"d\",\"da\",\"dado\",\"dan\",\"dar\",\"de\",\"debajo\",\"debe\",\"deben\",\"debido\",\"decir\",\"dejó\",\"del\",\"delante\",\"demasiado\",\"demás\",\"dentro\",\"deprisa\",\"desde\",\"despacio\",\"despues\",\"después\",\"detras\",\"detrás\",\"dia\",\"dias\",\"dice\",\"dicen\",\"dicho\",\"dieron\",\"diferente\",\"diferentes\",\"dijeron\",\"dijo\",\"dio\",\"donde\",\"dos\",\"durante\",\"día\",\"días\",\"dónde\",\"e\",\"ejemplo\",\"el\",\"ella\",\"ellas\",\"ello\",\"ellos\",\"embargo\",\"empleais\",\"emplean\",\"emplear\",\"empleas\",\"empleo\",\"en\",\"encima\",\"encuentra\",\"enfrente\",\"enseguida\",\"entonces\",\"entre\",\"era\",\"eramos\",\"eran\",\"eras\",\"eres\",\"es\",\"esa\",\"esas\",\"ese\",\"eso\",\"esos\",\"esta\",\"estaba\",\"estaban\",\"estado\",\"estados\",\"estais\",\"estamos\",\"estan\",\"estar\",\"estará\",\"estas\",\"este\",\"esto\",\"estos\",\"estoy\",\"estuvo\",\"está\",\"están\",\"ex\",\"excepto\",\"existe\",\"existen\",\"explicó\",\"expresó\",\"f\",\"fin\",\"final\",\"fue\",\"fuera\",\"fueron\",\"fui\",\"fuimos\",\"g\",\"general\",\"gran\",\"grandes\",\"gueno\",\"h\",\"ha\",\"haber\",\"habia\",\"habla\",\"hablan\",\"habrá\",\"había\",\"habían\",\"hace\",\"haceis\",\"hacemos\",\"hacen\",\"hacer\",\"hacerlo\",\"haces\",\"hacia\",\"haciendo\",\"hago\",\"han\",\"hasta\",\"hay\",\"haya\",\"he\",\"hecho\",\"hemos\",\"hicieron\",\"hizo\",\"horas\",\"hoy\",\"hubo\",\"i\",\"igual\",\"incluso\",\"indicó\",\"informo\",\"informó\",\"intenta\",\"intentais\",\"intentamos\",\"intentan\",\"intentar\",\"intentas\",\"intento\",\"ir\",\"j\",\"junto\",\"k\",\"l\",\"la\",\"lado\",\"largo\",\"las\",\"le\",\"lejos\",\"les\",\"llegó\",\"lleva\",\"llevar\",\"lo\",\"los\",\"luego\",\"lugar\",\"m\",\"mal\",\"manera\",\"manifestó\",\"mas\",\"mayor\",\"me\",\"mediante\",\"medio\",\"mejor\",\"mencionó\",\"menos\",\"menudo\",\"mi\",\"mia\",\"mias\",\"mientras\",\"mio\",\"mios\",\"mis\",\"misma\",\"mismas\",\"mismo\",\"mismos\",\"modo\",\"momento\",\"mucha\",\"muchas\",\"mucho\",\"muchos\",\"muy\",\"más\",\"mí\",\"mía\",\"mías\",\"mío\",\"míos\",\"n\",\"nada\",\"nadie\",\"ni\",\"ninguna\",\"ningunas\",\"ninguno\",\"ningunos\",\"ningún\",\"no\",\"nos\",\"nosotras\",\"nosotros\",\"nuestra\",\"nuestras\",\"nuestro\",\"nuestros\",\"nueva\",\"nuevas\",\"nuevo\",\"nuevos\",\"nunca\",\"o\",\"ocho\",\"os\",\"otra\",\"otras\",\"otro\",\"otros\",\"p\",\"pais\",\"para\",\"parece\",\"parte\",\"partir\",\"pasada\",\"pasado\",\"paìs\",\"peor\",\"pero\",\"pesar\",\"poca\",\"pocas\",\"poco\",\"pocos\",\"podeis\",\"podemos\",\"poder\",\"podria\",\"podriais\",\"podriamos\",\"podrian\",\"podrias\",\"podrá\",\"podrán\",\"podría\",\"podrían\",\"poner\",\"por\",\"porque\",\"posible\",\"primer\",\"primera\",\"primero\",\"primeros\",\"principalmente\",\"pronto\",\"propia\",\"propias\",\"propio\",\"propios\",\"proximo\",\"próximo\",\"próximos\",\"pudo\",\"pueda\",\"puede\",\"pueden\",\"puedo\",\"pues\",\"q\",\"qeu\",\"que\",\"quedó\",\"queremos\",\"quien\",\"quienes\",\"quiere\",\"quiza\",\"quizas\",\"quizá\",\"quizás\",\"quién\",\"quiénes\",\"qué\",\"r\",\"raras\",\"realizado\",\"realizar\",\"realizó\",\"repente\",\"respecto\",\"s\",\"sabe\",\"sabeis\",\"sabemos\",\"saben\",\"saber\",\"sabes\",\"salvo\",\"se\",\"sea\",\"sean\",\"segun\",\"segunda\",\"segundo\",\"según\",\"seis\",\"ser\",\"sera\",\"será\",\"serán\",\"sería\",\"señaló\",\"si\",\"sido\",\"siempre\",\"siendo\",\"siete\",\"sigue\",\"siguiente\",\"sin\",\"sino\",\"sobre\",\"sois\",\"sola\",\"solamente\",\"solas\",\"solo\",\"solos\",\"somos\",\"son\",\"soy\",\"soyos\",\"su\",\"supuesto\",\"sus\",\"suya\",\"suyas\",\"suyo\",\"sé\",\"sí\",\"sólo\",\"t\",\"tal\",\"tambien\",\"también\",\"tampoco\",\"tan\",\"tanto\",\"tarde\",\"te\",\"temprano\",\"tendrá\",\"tendrán\",\"teneis\",\"tenemos\",\"tener\",\"tenga\",\"tengo\",\"tenido\",\"tenía\",\"tercera\",\"ti\",\"tiempo\",\"tiene\",\"tienen\",\"toda\",\"todas\",\"todavia\",\"todavía\",\"todo\",\"todos\",\"total\",\"trabaja\",\"trabajais\",\"trabajamos\",\"trabajan\",\"trabajar\",\"trabajas\",\"trabajo\",\"tras\",\"trata\",\"través\",\"tres\",\"tu\",\"tus\",\"tuvo\",\"tuya\",\"tuyas\",\"tuyo\",\"tuyos\",\"tú\",\"u\",\"ultimo\",\"un\",\"una\",\"unas\",\"uno\",\"unos\",\"usa\",\"usais\",\"usamos\",\"usan\",\"usar\",\"usas\",\"uso\",\"usted\",\"ustedes\",\"v\",\"va\",\"vais\",\"valor\",\"vamos\",\"van\",\"varias\",\"varios\",\"vaya\",\"veces\",\"ver\",\"verdad\",\"verdadera\",\"verdadero\",\"vez\",\"vosotras\",\"vosotros\",\"voy\",\"vuestra\",\"vuestras\",\"vuestro\",\"vuestros\",\"w\",\"x\",\"y\",\"ya\",\"yo\",\"z\",\"él\",\"ésa\",\"ésas\",\"ése\",\"ésos\",\"ésta\",\"éstas\",\"éste\",\"éstos\",\"última\",\"últimas\",\"último\",\"últimos\"],\"et\":[\"aga\",\"ei\",\"et\",\"ja\",\"jah\",\"kas\",\"kui\",\"kõik\",\"ma\",\"me\",\"mida\",\"midagi\",\"mind\",\"minu\",\"mis\",\"mu\",\"mul\",\"mulle\",\"nad\",\"nii\",\"oled\",\"olen\",\"oli\",\"oma\",\"on\",\"pole\",\"sa\",\"seda\",\"see\",\"selle\",\"siin\",\"siis\",\"ta\",\"te\",\"ära\"],\"fi\":[\"aiemmin\",\"aika\",\"aikaa\",\"aikaan\",\"aikaisemmin\",\"aikaisin\",\"aikajen\",\"aikana\",\"aikoina\",\"aikoo\",\"aikovat\",\"aina\",\"ainakaan\",\"ainakin\",\"ainoa\",\"ainoat\",\"aiomme\",\"aion\",\"aiotte\",\"aist\",\"aivan\",\"ajan\",\"alas\",\"alemmas\",\"alkuisin\",\"alkuun\",\"alla\",\"alle\",\"aloitamme\",\"aloitan\",\"aloitat\",\"aloitatte\",\"aloitattivat\",\"aloitettava\",\"aloitettevaksi\",\"aloitettu\",\"aloitimme\",\"aloitin\",\"aloitit\",\"aloititte\",\"aloittaa\",\"aloittamatta\",\"aloitti\",\"aloittivat\",\"alta\",\"aluksi\",\"alussa\",\"alusta\",\"annettavaksi\",\"annetteva\",\"annettu\",\"ansiosta\",\"antaa\",\"antamatta\",\"antoi\",\"aoua\",\"apu\",\"asia\",\"asiaa\",\"asian\",\"asiasta\",\"asiat\",\"asioiden\",\"asioihin\",\"asioita\",\"asti\",\"avuksi\",\"avulla\",\"avun\",\"avutta\",\"edelle\",\"edelleen\",\"edellä\",\"edeltä\",\"edemmäs\",\"edes\",\"edessä\",\"edestä\",\"ehkä\",\"ei\",\"eikä\",\"eilen\",\"eivät\",\"eli\",\"ellei\",\"elleivät\",\"ellemme\",\"ellen\",\"ellet\",\"ellette\",\"emme\",\"en\",\"enemmän\",\"eniten\",\"ennen\",\"ensi\",\"ensimmäinen\",\"ensimmäiseksi\",\"ensimmäisen\",\"ensimmäisenä\",\"ensimmäiset\",\"ensimmäisiksi\",\"ensimmäisinä\",\"ensimmäisiä\",\"ensimmäistä\",\"ensin\",\"entinen\",\"entisen\",\"entisiä\",\"entisten\",\"entistä\",\"enää\",\"eri\",\"erittäin\",\"erityisesti\",\"eräiden\",\"eräs\",\"eräät\",\"esi\",\"esiin\",\"esillä\",\"esimerkiksi\",\"et\",\"eteen\",\"etenkin\",\"etessa\",\"ette\",\"ettei\",\"että\",\"haikki\",\"halua\",\"haluaa\",\"haluamatta\",\"haluamme\",\"haluan\",\"haluat\",\"haluatte\",\"haluavat\",\"halunnut\",\"halusi\",\"halusimme\",\"halusin\",\"halusit\",\"halusitte\",\"halusivat\",\"halutessa\",\"haluton\",\"he\",\"hei\",\"heidän\",\"heihin\",\"heille\",\"heiltä\",\"heissä\",\"heistä\",\"heitä\",\"helposti\",\"heti\",\"hetkellä\",\"hieman\",\"hitaasti\",\"hoikein\",\"huolimatta\",\"huomenna\",\"hyvien\",\"hyviin\",\"hyviksi\",\"hyville\",\"hyviltä\",\"hyvin\",\"hyvinä\",\"hyvissä\",\"hyvistä\",\"hyviä\",\"hyvä\",\"hyvät\",\"hyvää\",\"hän\",\"häneen\",\"hänelle\",\"hänellä\",\"häneltä\",\"hänen\",\"hänessä\",\"hänestä\",\"hänet\",\"ihan\",\"ilman\",\"ilmeisesti\",\"itse\",\"itsensä\",\"itseään\",\"ja\",\"jo\",\"johon\",\"joiden\",\"joihin\",\"joiksi\",\"joilla\",\"joille\",\"joilta\",\"joissa\",\"joista\",\"joita\",\"joka\",\"jokainen\",\"jokin\",\"joko\",\"joku\",\"jolla\",\"jolle\",\"jolloin\",\"jolta\",\"jompikumpi\",\"jonka\",\"jonkin\",\"jonne\",\"joo\",\"jopa\",\"jos\",\"joskus\",\"jossa\",\"josta\",\"jota\",\"jotain\",\"joten\",\"jotenkin\",\"jotenkuten\",\"jotka\",\"jotta\",\"jouduimme\",\"jouduin\",\"jouduit\",\"jouduitte\",\"joudumme\",\"joudun\",\"joudutte\",\"joukkoon\",\"joukossa\",\"joukosta\",\"joutua\",\"joutui\",\"joutuivat\",\"joutumaan\",\"joutuu\",\"joutuvat\",\"juuri\",\"jälkeen\",\"jälleen\",\"jää\",\"kahdeksan\",\"kahdeksannen\",\"kahdella\",\"kahdelle\",\"kahdelta\",\"kahden\",\"kahdessa\",\"kahdesta\",\"kahta\",\"kahteen\",\"kai\",\"kaiken\",\"kaikille\",\"kaikilta\",\"kaikkea\",\"kaikki\",\"kaikkia\",\"kaikkiaan\",\"kaikkialla\",\"kaikkialle\",\"kaikkialta\",\"kaikkien\",\"kaikkin\",\"kaksi\",\"kannalta\",\"kannattaa\",\"kanssa\",\"kanssaan\",\"kanssamme\",\"kanssani\",\"kanssanne\",\"kanssasi\",\"kauan\",\"kauemmas\",\"kaukana\",\"kautta\",\"kehen\",\"keiden\",\"keihin\",\"keiksi\",\"keille\",\"keillä\",\"keiltä\",\"keinä\",\"keissä\",\"keistä\",\"keitten\",\"keittä\",\"keitä\",\"keneen\",\"keneksi\",\"kenelle\",\"kenellä\",\"keneltä\",\"kenen\",\"kenenä\",\"kenessä\",\"kenestä\",\"kenet\",\"kenettä\",\"kennessästä\",\"kenties\",\"kerran\",\"kerta\",\"kertaa\",\"keskellä\",\"kesken\",\"keskimäärin\",\"ketkä\",\"ketä\",\"kiitos\",\"kohti\",\"koko\",\"kokonaan\",\"kolmas\",\"kolme\",\"kolmen\",\"kolmesti\",\"koska\",\"koskaan\",\"kovin\",\"kuin\",\"kuinka\",\"kuinkan\",\"kuitenkaan\",\"kuitenkin\",\"kuka\",\"kukaan\",\"kukin\",\"kukka\",\"kumpainen\",\"kumpainenkaan\",\"kumpi\",\"kumpikaan\",\"kumpikin\",\"kun\",\"kuten\",\"kuuden\",\"kuusi\",\"kuutta\",\"kylliksi\",\"kyllä\",\"kymmenen\",\"kyse\",\"liian\",\"liki\",\"lisäksi\",\"lisää\",\"lla\",\"luo\",\"luona\",\"lähekkäin\",\"lähelle\",\"lähellä\",\"läheltä\",\"lähemmäs\",\"lähes\",\"lähinnä\",\"lähtien\",\"läpi\",\"mahdollisimman\",\"mahdollista\",\"me\",\"meidän\",\"meille\",\"meillä\",\"melkein\",\"melko\",\"menee\",\"meneet\",\"menemme\",\"menen\",\"menet\",\"menette\",\"menevät\",\"meni\",\"menimme\",\"menin\",\"menit\",\"menivät\",\"mennessä\",\"mennyt\",\"menossa\",\"mihin\",\"mikin\",\"miksi\",\"mikä\",\"mikäli\",\"mikään\",\"milloin\",\"milloinkan\",\"minne\",\"minun\",\"minut\",\"minä\",\"missä\",\"mistä\",\"miten\",\"mitä\",\"mitään\",\"moi\",\"molemmat\",\"mones\",\"monesti\",\"monet\",\"moni\",\"moniaalla\",\"moniaalle\",\"moniaalta\",\"monta\",\"muassa\",\"muiden\",\"muita\",\"muka\",\"mukaan\",\"mukaansa\",\"mukana\",\"mutta\",\"muu\",\"muualla\",\"muualle\",\"muualta\",\"muuanne\",\"muulloin\",\"muun\",\"muut\",\"muuta\",\"muutama\",\"muutaman\",\"muuten\",\"myöhemmin\",\"myös\",\"myöskin\",\"myöskään\",\"myötä\",\"ne\",\"neljä\",\"neljän\",\"neljää\",\"niiden\",\"niin\",\"niistä\",\"niitä\",\"noin\",\"nopeammin\",\"nopeasti\",\"nopeiten\",\"nro\",\"nuo\",\"nyt\",\"näiden\",\"näin\",\"näissä\",\"näissähin\",\"näissälle\",\"näissältä\",\"näissästä\",\"näitä\",\"nämä\",\"ohi\",\"oikea\",\"oikealla\",\"oikein\",\"ole\",\"olemme\",\"olen\",\"olet\",\"olette\",\"oleva\",\"olevan\",\"olevat\",\"oli\",\"olimme\",\"olin\",\"olisi\",\"olisimme\",\"olisin\",\"olisit\",\"olisitte\",\"olisivat\",\"olit\",\"olitte\",\"olivat\",\"olla\",\"olleet\",\"olli\",\"ollut\",\"oma\",\"omaa\",\"omaan\",\"omaksi\",\"omalle\",\"omalta\",\"oman\",\"omassa\",\"omat\",\"omia\",\"omien\",\"omiin\",\"omiksi\",\"omille\",\"omilta\",\"omissa\",\"omista\",\"on\",\"onkin\",\"onko\",\"ovat\",\"paikoittain\",\"paitsi\",\"pakosti\",\"paljon\",\"paremmin\",\"parempi\",\"parhaillaan\",\"parhaiten\",\"perusteella\",\"peräti\",\"pian\",\"pieneen\",\"pieneksi\",\"pienelle\",\"pienellä\",\"pieneltä\",\"pienempi\",\"pienestä\",\"pieni\",\"pienin\",\"puolesta\",\"puolestaan\",\"päälle\",\"runsaasti\",\"saakka\",\"sadam\",\"sama\",\"samaa\",\"samaan\",\"samalla\",\"samallalta\",\"samallassa\",\"samallasta\",\"saman\",\"samat\",\"samoin\",\"sata\",\"sataa\",\"satojen\",\"se\",\"seitsemän\",\"sekä\",\"sen\",\"seuraavat\",\"siellä\",\"sieltä\",\"siihen\",\"siinä\",\"siis\",\"siitä\",\"sijaan\",\"siksi\",\"silloin\",\"sillä\",\"silti\",\"sinne\",\"sinua\",\"sinulle\",\"sinulta\",\"sinun\",\"sinussa\",\"sinusta\",\"sinut\",\"sinä\",\"sisäkkäin\",\"sisällä\",\"siten\",\"sitten\",\"sitä\",\"ssa\",\"sta\",\"suoraan\",\"suuntaan\",\"suuren\",\"suuret\",\"suuri\",\"suuria\",\"suurin\",\"suurten\",\"taa\",\"taas\",\"taemmas\",\"tahansa\",\"tai\",\"takaa\",\"takaisin\",\"takana\",\"takia\",\"tapauksessa\",\"tarpeeksi\",\"tavalla\",\"tavoitteena\",\"te\",\"tietysti\",\"todella\",\"toinen\",\"toisaalla\",\"toisaalle\",\"toisaalta\",\"toiseen\",\"toiseksi\",\"toisella\",\"toiselle\",\"toiselta\",\"toisemme\",\"toisen\",\"toisensa\",\"toisessa\",\"toisesta\",\"toista\",\"toistaiseksi\",\"toki\",\"tosin\",\"tuhannen\",\"tuhat\",\"tule\",\"tulee\",\"tulemme\",\"tulen\",\"tulet\",\"tulette\",\"tulevat\",\"tulimme\",\"tulin\",\"tulisi\",\"tulisimme\",\"tulisin\",\"tulisit\",\"tulisitte\",\"tulisivat\",\"tulit\",\"tulitte\",\"tulivat\",\"tulla\",\"tulleet\",\"tullut\",\"tuntuu\",\"tuo\",\"tuolla\",\"tuolloin\",\"tuolta\",\"tuonne\",\"tuskin\",\"tykö\",\"tähän\",\"tällä\",\"tällöin\",\"tämä\",\"tämän\",\"tänne\",\"tänä\",\"tänään\",\"tässä\",\"tästä\",\"täten\",\"tätä\",\"täysin\",\"täytyvät\",\"täytyy\",\"täällä\",\"täältä\",\"ulkopuolella\",\"usea\",\"useasti\",\"useimmiten\",\"usein\",\"useita\",\"uudeksi\",\"uudelleen\",\"uuden\",\"uudet\",\"uusi\",\"uusia\",\"uusien\",\"uusinta\",\"uuteen\",\"uutta\",\"vaan\",\"vahemmän\",\"vai\",\"vaiheessa\",\"vaikea\",\"vaikean\",\"vaikeat\",\"vaikeilla\",\"vaikeille\",\"vaikeilta\",\"vaikeissa\",\"vaikeista\",\"vaikka\",\"vain\",\"varmasti\",\"varsin\",\"varsinkin\",\"varten\",\"vasen\",\"vasenmalla\",\"vasta\",\"vastaan\",\"vastakkain\",\"vastan\",\"verran\",\"vielä\",\"vierekkäin\",\"vieressä\",\"vieri\",\"viiden\",\"viime\",\"viimeinen\",\"viimeisen\",\"viimeksi\",\"viisi\",\"voi\",\"voidaan\",\"voimme\",\"voin\",\"voisi\",\"voit\",\"voitte\",\"voivat\",\"vuoden\",\"vuoksi\",\"vuosi\",\"vuosien\",\"vuosina\",\"vuotta\",\"vähemmän\",\"vähintään\",\"vähiten\",\"vähän\",\"välillä\",\"yhdeksän\",\"yhden\",\"yhdessä\",\"yhteen\",\"yhteensä\",\"yhteydessä\",\"yhteyteen\",\"yhtä\",\"yhtäälle\",\"yhtäällä\",\"yhtäältä\",\"yhtään\",\"yhä\",\"yksi\",\"yksin\",\"yksittäin\",\"yleensä\",\"ylemmäs\",\"yli\",\"ylös\",\"ympäri\",\"älköön\",\"älä\"],\"fr\":[\"a\",\"abord\",\"absolument\",\"afin\",\"ah\",\"ai\",\"aie\",\"ailleurs\",\"ainsi\",\"ait\",\"allaient\",\"allo\",\"allons\",\"allô\",\"alors\",\"anterieur\",\"anterieure\",\"anterieures\",\"apres\",\"après\",\"as\",\"assez\",\"attendu\",\"au\",\"aucun\",\"aucune\",\"aujourd\",\"aujourd'hui\",\"aupres\",\"auquel\",\"aura\",\"auraient\",\"aurait\",\"auront\",\"aussi\",\"autre\",\"autrefois\",\"autrement\",\"autres\",\"autrui\",\"aux\",\"auxquelles\",\"auxquels\",\"avaient\",\"avais\",\"avait\",\"avant\",\"avec\",\"avoir\",\"avons\",\"ayant\",\"b\",\"bah\",\"bas\",\"basee\",\"bat\",\"beau\",\"beaucoup\",\"bien\",\"bigre\",\"boum\",\"bravo\",\"brrr\",\"c\",\"car\",\"ce\",\"ceci\",\"cela\",\"celle\",\"celle-ci\",\"celle-là\",\"celles\",\"celles-ci\",\"celles-là\",\"celui\",\"celui-ci\",\"celui-là\",\"cent\",\"cependant\",\"certain\",\"certaine\",\"certaines\",\"certains\",\"certes\",\"ces\",\"cet\",\"cette\",\"ceux\",\"ceux-ci\",\"ceux-là\",\"chacun\",\"chacune\",\"chaque\",\"cher\",\"chers\",\"chez\",\"chiche\",\"chut\",\"chère\",\"chères\",\"ci\",\"cinq\",\"cinquantaine\",\"cinquante\",\"cinquantième\",\"cinquième\",\"clac\",\"clic\",\"combien\",\"comme\",\"comment\",\"comparable\",\"comparables\",\"compris\",\"concernant\",\"contre\",\"couic\",\"crac\",\"d\",\"da\",\"dans\",\"de\",\"debout\",\"dedans\",\"dehors\",\"deja\",\"delà\",\"depuis\",\"dernier\",\"derniere\",\"derriere\",\"derrière\",\"des\",\"desormais\",\"desquelles\",\"desquels\",\"dessous\",\"dessus\",\"deux\",\"deuxième\",\"deuxièmement\",\"devant\",\"devers\",\"devra\",\"different\",\"differentes\",\"differents\",\"différent\",\"différente\",\"différentes\",\"différents\",\"dire\",\"directe\",\"directement\",\"dit\",\"dite\",\"dits\",\"divers\",\"diverse\",\"diverses\",\"dix\",\"dix-huit\",\"dix-neuf\",\"dix-sept\",\"dixième\",\"doit\",\"doivent\",\"donc\",\"dont\",\"douze\",\"douzième\",\"dring\",\"du\",\"duquel\",\"durant\",\"dès\",\"désormais\",\"e\",\"effet\",\"egale\",\"egalement\",\"egales\",\"eh\",\"elle\",\"elle-même\",\"elles\",\"elles-mêmes\",\"en\",\"encore\",\"enfin\",\"entre\",\"envers\",\"environ\",\"es\",\"est\",\"et\",\"etant\",\"etc\",\"etre\",\"eu\",\"euh\",\"eux\",\"eux-mêmes\",\"exactement\",\"excepté\",\"extenso\",\"exterieur\",\"f\",\"fais\",\"faisaient\",\"faisant\",\"fait\",\"façon\",\"feront\",\"fi\",\"flac\",\"floc\",\"font\",\"g\",\"gens\",\"h\",\"ha\",\"hein\",\"hem\",\"hep\",\"hi\",\"ho\",\"holà\",\"hop\",\"hormis\",\"hors\",\"hou\",\"houp\",\"hue\",\"hui\",\"huit\",\"huitième\",\"hum\",\"hurrah\",\"hé\",\"hélas\",\"i\",\"il\",\"ils\",\"importe\",\"j\",\"je\",\"jusqu\",\"jusque\",\"juste\",\"k\",\"l\",\"la\",\"laisser\",\"laquelle\",\"las\",\"le\",\"lequel\",\"les\",\"lesquelles\",\"lesquels\",\"leur\",\"leurs\",\"longtemps\",\"lors\",\"lorsque\",\"lui\",\"lui-meme\",\"lui-même\",\"là\",\"lès\",\"m\",\"ma\",\"maint\",\"maintenant\",\"mais\",\"malgre\",\"malgré\",\"maximale\",\"me\",\"meme\",\"memes\",\"merci\",\"mes\",\"mien\",\"mienne\",\"miennes\",\"miens\",\"mille\",\"mince\",\"minimale\",\"moi\",\"moi-meme\",\"moi-même\",\"moindres\",\"moins\",\"mon\",\"moyennant\",\"multiple\",\"multiples\",\"même\",\"mêmes\",\"n\",\"na\",\"naturel\",\"naturelle\",\"naturelles\",\"ne\",\"neanmoins\",\"necessaire\",\"necessairement\",\"neuf\",\"neuvième\",\"ni\",\"nombreuses\",\"nombreux\",\"non\",\"nos\",\"notamment\",\"notre\",\"nous\",\"nous-mêmes\",\"nouveau\",\"nul\",\"néanmoins\",\"nôtre\",\"nôtres\",\"o\",\"oh\",\"ohé\",\"ollé\",\"olé\",\"on\",\"ont\",\"onze\",\"onzième\",\"ore\",\"ou\",\"ouf\",\"ouias\",\"oust\",\"ouste\",\"outre\",\"ouvert\",\"ouverte\",\"ouverts\",\"o|\",\"où\",\"p\",\"paf\",\"pan\",\"par\",\"parce\",\"parfois\",\"parle\",\"parlent\",\"parler\",\"parmi\",\"parseme\",\"partant\",\"particulier\",\"particulière\",\"particulièrement\",\"pas\",\"passé\",\"pendant\",\"pense\",\"permet\",\"personne\",\"peu\",\"peut\",\"peuvent\",\"peux\",\"pff\",\"pfft\",\"pfut\",\"pif\",\"pire\",\"plein\",\"plouf\",\"plus\",\"plusieurs\",\"plutôt\",\"possessif\",\"possessifs\",\"possible\",\"possibles\",\"pouah\",\"pour\",\"pourquoi\",\"pourrais\",\"pourrait\",\"pouvait\",\"prealable\",\"precisement\",\"premier\",\"première\",\"premièrement\",\"pres\",\"probable\",\"probante\",\"procedant\",\"proche\",\"près\",\"psitt\",\"pu\",\"puis\",\"puisque\",\"pur\",\"pure\",\"q\",\"qu\",\"quand\",\"quant\",\"quant-à-soi\",\"quanta\",\"quarante\",\"quatorze\",\"quatre\",\"quatre-vingt\",\"quatrième\",\"quatrièmement\",\"que\",\"quel\",\"quelconque\",\"quelle\",\"quelles\",\"quelqu'un\",\"quelque\",\"quelques\",\"quels\",\"qui\",\"quiconque\",\"quinze\",\"quoi\",\"quoique\",\"r\",\"rare\",\"rarement\",\"rares\",\"relative\",\"relativement\",\"remarquable\",\"rend\",\"rendre\",\"restant\",\"reste\",\"restent\",\"restrictif\",\"retour\",\"revoici\",\"revoilà\",\"rien\",\"s\",\"sa\",\"sacrebleu\",\"sait\",\"sans\",\"sapristi\",\"sauf\",\"se\",\"sein\",\"seize\",\"selon\",\"semblable\",\"semblaient\",\"semble\",\"semblent\",\"sent\",\"sept\",\"septième\",\"sera\",\"seraient\",\"serait\",\"seront\",\"ses\",\"seul\",\"seule\",\"seulement\",\"si\",\"sien\",\"sienne\",\"siennes\",\"siens\",\"sinon\",\"six\",\"sixième\",\"soi\",\"soi-même\",\"soit\",\"soixante\",\"son\",\"sont\",\"sous\",\"souvent\",\"specifique\",\"specifiques\",\"speculatif\",\"stop\",\"strictement\",\"subtiles\",\"suffisant\",\"suffisante\",\"suffit\",\"suis\",\"suit\",\"suivant\",\"suivante\",\"suivantes\",\"suivants\",\"suivre\",\"superpose\",\"sur\",\"surtout\",\"t\",\"ta\",\"tac\",\"tant\",\"tardive\",\"te\",\"tel\",\"telle\",\"tellement\",\"telles\",\"tels\",\"tenant\",\"tend\",\"tenir\",\"tente\",\"tes\",\"tic\",\"tien\",\"tienne\",\"tiennes\",\"tiens\",\"toc\",\"toi\",\"toi-même\",\"ton\",\"touchant\",\"toujours\",\"tous\",\"tout\",\"toute\",\"toutefois\",\"toutes\",\"treize\",\"trente\",\"tres\",\"trois\",\"troisième\",\"troisièmement\",\"trop\",\"très\",\"tsoin\",\"tsouin\",\"tu\",\"té\",\"u\",\"un\",\"une\",\"unes\",\"uniformement\",\"unique\",\"uniques\",\"uns\",\"v\",\"va\",\"vais\",\"vas\",\"vers\",\"via\",\"vif\",\"vifs\",\"vingt\",\"vivat\",\"vive\",\"vives\",\"vlan\",\"voici\",\"voilà\",\"vont\",\"vos\",\"votre\",\"vous\",\"vous-mêmes\",\"vu\",\"vé\",\"vôtre\",\"vôtres\",\"w\",\"x\",\"y\",\"z\",\"zut\",\"à\",\"â\",\"ça\",\"ès\",\"étaient\",\"étais\",\"était\",\"étant\",\"été\",\"être\",\"ô\"],\"hr\":[\"a\",\"ako\",\"ali\",\"bi\",\"bih\",\"bila\",\"bili\",\"bilo\",\"bio\",\"bismo\",\"biste\",\"biti\",\"bumo\",\"da\",\"do\",\"duž\",\"ga\",\"hoće\",\"hoćemo\",\"hoćete\",\"hoćeš\",\"hoću\",\"i\",\"iako\",\"ih\",\"ili\",\"iz\",\"ja\",\"je\",\"jedna\",\"jedne\",\"jedno\",\"jer\",\"jesam\",\"jesi\",\"jesmo\",\"jest\",\"jeste\",\"jesu\",\"jim\",\"joj\",\"još\",\"ju\",\"kada\",\"kako\",\"kao\",\"koja\",\"koje\",\"koji\",\"kojima\",\"koju\",\"kroz\",\"li\",\"me\",\"mene\",\"meni\",\"mi\",\"mimo\",\"moj\",\"moja\",\"moje\",\"mu\",\"na\",\"nad\",\"nakon\",\"nam\",\"nama\",\"nas\",\"naš\",\"naša\",\"naše\",\"našeg\",\"ne\",\"nego\",\"neka\",\"neki\",\"nekog\",\"neku\",\"nema\",\"netko\",\"neće\",\"nećemo\",\"nećete\",\"nećeš\",\"neću\",\"nešto\",\"ni\",\"nije\",\"nikoga\",\"nikoje\",\"nikoju\",\"nisam\",\"nisi\",\"nismo\",\"niste\",\"nisu\",\"njega\",\"njegov\",\"njegova\",\"njegovo\",\"njemu\",\"njezin\",\"njezina\",\"njezino\",\"njih\",\"njihov\",\"njihova\",\"njihovo\",\"njim\",\"njima\",\"njoj\",\"nju\",\"no\",\"o\",\"od\",\"odmah\",\"on\",\"ona\",\"oni\",\"ono\",\"ova\",\"pa\",\"pak\",\"po\",\"pod\",\"pored\",\"prije\",\"s\",\"sa\",\"sam\",\"samo\",\"se\",\"sebe\",\"sebi\",\"si\",\"smo\",\"ste\",\"su\",\"sve\",\"svi\",\"svog\",\"svoj\",\"svoja\",\"svoje\",\"svom\",\"ta\",\"tada\",\"taj\",\"tako\",\"te\",\"tebe\",\"tebi\",\"ti\",\"to\",\"toj\",\"tome\",\"tu\",\"tvoj\",\"tvoja\",\"tvoje\",\"u\",\"uz\",\"vam\",\"vama\",\"vas\",\"vaš\",\"vaša\",\"vaše\",\"već\",\"vi\",\"vrlo\",\"za\",\"zar\",\"će\",\"ćemo\",\"ćete\",\"ćeš\",\"ću\",\"što\"],\"hu\":[\"a\",\"abba\",\"abban\",\"abból\",\"addig\",\"ahhoz\",\"ahogy\",\"ahol\",\"aki\",\"akik\",\"akkor\",\"akár\",\"alapján\",\"alatt\",\"alatta\",\"alattad\",\"alattam\",\"alattatok\",\"alattuk\",\"alattunk\",\"alá\",\"alád\",\"alájuk\",\"alám\",\"alánk\",\"alátok\",\"alól\",\"alóla\",\"alólad\",\"alólam\",\"alólatok\",\"alóluk\",\"alólunk\",\"amely\",\"amelybol\",\"amelyek\",\"amelyekben\",\"amelyeket\",\"amelyet\",\"amelyik\",\"amelynek\",\"ami\",\"amikor\",\"amit\",\"amolyan\",\"amott\",\"amíg\",\"annak\",\"annál\",\"arra\",\"arról\",\"attól\",\"az\",\"aznap\",\"azok\",\"azokat\",\"azokba\",\"azokban\",\"azokból\",\"azokhoz\",\"azokig\",\"azokkal\",\"azokká\",\"azoknak\",\"azoknál\",\"azokon\",\"azokra\",\"azokról\",\"azoktól\",\"azokért\",\"azon\",\"azonban\",\"azonnal\",\"azt\",\"aztán\",\"azután\",\"azzal\",\"azzá\",\"azért\",\"bal\",\"balra\",\"ban\",\"be\",\"belé\",\"beléd\",\"beléjük\",\"belém\",\"belénk\",\"belétek\",\"belül\",\"belőle\",\"belőled\",\"belőlem\",\"belőletek\",\"belőlük\",\"belőlünk\",\"ben\",\"benne\",\"benned\",\"bennem\",\"bennetek\",\"bennük\",\"bennünk\",\"bár\",\"bárcsak\",\"bármilyen\",\"búcsú\",\"cikk\",\"cikkek\",\"cikkeket\",\"csak\",\"csakhogy\",\"csupán\",\"de\",\"dehogy\",\"e\",\"ebbe\",\"ebben\",\"ebből\",\"eddig\",\"egy\",\"egyebek\",\"egyebet\",\"egyedül\",\"egyelőre\",\"egyes\",\"egyet\",\"egyetlen\",\"egyik\",\"egymás\",\"egyre\",\"egyszerre\",\"egyéb\",\"együtt\",\"egész\",\"egészen\",\"ehhez\",\"ekkor\",\"el\",\"eleinte\",\"ellen\",\"ellenes\",\"elleni\",\"ellenére\",\"elmondta\",\"első\",\"elsők\",\"elsősorban\",\"elsőt\",\"elé\",\"eléd\",\"elég\",\"eléjük\",\"elém\",\"elénk\",\"elétek\",\"elő\",\"előbb\",\"elől\",\"előle\",\"előled\",\"előlem\",\"előletek\",\"előlük\",\"előlünk\",\"először\",\"előtt\",\"előtte\",\"előtted\",\"előttem\",\"előttetek\",\"előttük\",\"előttünk\",\"előző\",\"emilyen\",\"engem\",\"ennek\",\"ennyi\",\"ennél\",\"enyém\",\"erre\",\"erről\",\"esetben\",\"ettől\",\"ez\",\"ezek\",\"ezekbe\",\"ezekben\",\"ezekből\",\"ezeken\",\"ezeket\",\"ezekhez\",\"ezekig\",\"ezekkel\",\"ezekké\",\"ezeknek\",\"ezeknél\",\"ezekre\",\"ezekről\",\"ezektől\",\"ezekért\",\"ezen\",\"ezentúl\",\"ezer\",\"ezret\",\"ezt\",\"ezután\",\"ezzel\",\"ezzé\",\"ezért\",\"fel\",\"fele\",\"felek\",\"felet\",\"felett\",\"felé\",\"fent\",\"fenti\",\"fél\",\"fölé\",\"gyakran\",\"ha\",\"halló\",\"hamar\",\"hanem\",\"harmadik\",\"harmadikat\",\"harminc\",\"hat\",\"hatodik\",\"hatodikat\",\"hatot\",\"hatvan\",\"helyett\",\"hetedik\",\"hetediket\",\"hetet\",\"hetven\",\"hirtelen\",\"hiszen\",\"hiába\",\"hogy\",\"hogyan\",\"hol\",\"holnap\",\"holnapot\",\"honnan\",\"hova\",\"hozzá\",\"hozzád\",\"hozzájuk\",\"hozzám\",\"hozzánk\",\"hozzátok\",\"hurrá\",\"huszadik\",\"hány\",\"hányszor\",\"hármat\",\"három\",\"hát\",\"hátha\",\"hátulsó\",\"hét\",\"húsz\",\"ide\",\"ide-оda\",\"idén\",\"igazán\",\"igen\",\"ill\",\"illetve\",\"ilyen\",\"ilyenkor\",\"immár\",\"inkább\",\"is\",\"ismét\",\"ison\",\"itt\",\"jelenleg\",\"jobban\",\"jobbra\",\"jó\",\"jól\",\"jólesik\",\"jóval\",\"jövőre\",\"kell\",\"kellene\",\"kellett\",\"kelljen\",\"keressünk\",\"keresztül\",\"ketten\",\"kettő\",\"kettőt\",\"kevés\",\"ki\",\"kiben\",\"kiből\",\"kicsit\",\"kicsoda\",\"kihez\",\"kik\",\"kikbe\",\"kikben\",\"kikből\",\"kiken\",\"kiket\",\"kikhez\",\"kikkel\",\"kikké\",\"kiknek\",\"kiknél\",\"kikre\",\"kikről\",\"kiktől\",\"kikért\",\"kilenc\",\"kilencedik\",\"kilencediket\",\"kilencet\",\"kilencven\",\"kin\",\"kinek\",\"kinél\",\"kire\",\"kiről\",\"kit\",\"kitől\",\"kivel\",\"kivé\",\"kié\",\"kiért\",\"korábban\",\"képest\",\"kérem\",\"kérlek\",\"kész\",\"késő\",\"később\",\"későn\",\"két\",\"kétszer\",\"kívül\",\"körül\",\"köszönhetően\",\"köszönöm\",\"közben\",\"közel\",\"közepesen\",\"közepén\",\"közé\",\"között\",\"közül\",\"külön\",\"különben\",\"különböző\",\"különbözőbb\",\"különbözőek\",\"lassan\",\"le\",\"legalább\",\"legyen\",\"lehet\",\"lehetetlen\",\"lehetett\",\"lehetőleg\",\"lehetőség\",\"lenne\",\"lenni\",\"lennék\",\"lennének\",\"lesz\",\"leszek\",\"lesznek\",\"leszünk\",\"lett\",\"lettek\",\"lettem\",\"lettünk\",\"lévő\",\"ma\",\"maga\",\"magad\",\"magam\",\"magatokat\",\"magukat\",\"magunkat\",\"magát\",\"mai\",\"majd\",\"majdnem\",\"manapság\",\"meg\",\"megcsinál\",\"megcsinálnak\",\"megint\",\"megvan\",\"mellett\",\"mellette\",\"melletted\",\"mellettem\",\"mellettetek\",\"mellettük\",\"mellettünk\",\"mellé\",\"melléd\",\"melléjük\",\"mellém\",\"mellénk\",\"mellétek\",\"mellől\",\"mellőle\",\"mellőled\",\"mellőlem\",\"mellőletek\",\"mellőlük\",\"mellőlünk\",\"mely\",\"melyek\",\"melyik\",\"mennyi\",\"mert\",\"mi\",\"miatt\",\"miatta\",\"miattad\",\"miattam\",\"miattatok\",\"miattuk\",\"miattunk\",\"mibe\",\"miben\",\"miből\",\"mihez\",\"mik\",\"mikbe\",\"mikben\",\"mikből\",\"miken\",\"miket\",\"mikhez\",\"mikkel\",\"mikké\",\"miknek\",\"miknél\",\"mikor\",\"mikre\",\"mikről\",\"miktől\",\"mikért\",\"milyen\",\"min\",\"mind\",\"mindegyik\",\"mindegyiket\",\"minden\",\"mindenesetre\",\"mindenki\",\"mindent\",\"mindenütt\",\"mindig\",\"mindketten\",\"minek\",\"minket\",\"mint\",\"mintha\",\"minél\",\"mire\",\"miről\",\"mit\",\"mitől\",\"mivel\",\"mivé\",\"miért\",\"mondta\",\"most\",\"mostanáig\",\"már\",\"más\",\"másik\",\"másikat\",\"másnap\",\"második\",\"másodszor\",\"mások\",\"másokat\",\"mást\",\"még\",\"mégis\",\"míg\",\"mögé\",\"mögéd\",\"mögéjük\",\"mögém\",\"mögénk\",\"mögétek\",\"mögött\",\"mögötte\",\"mögötted\",\"mögöttem\",\"mögöttetek\",\"mögöttük\",\"mögöttünk\",\"mögül\",\"mögüle\",\"mögüled\",\"mögülem\",\"mögületek\",\"mögülük\",\"mögülünk\",\"múltkor\",\"múlva\",\"na\",\"nagy\",\"nagyobb\",\"nagyon\",\"naponta\",\"napot\",\"ne\",\"negyedik\",\"negyediket\",\"negyven\",\"neked\",\"nekem\",\"neki\",\"nekik\",\"nektek\",\"nekünk\",\"nem\",\"nemcsak\",\"nemrég\",\"nincs\",\"nyolc\",\"nyolcadik\",\"nyolcadikat\",\"nyolcat\",\"nyolcvan\",\"nála\",\"nálad\",\"nálam\",\"nálatok\",\"náluk\",\"nálunk\",\"négy\",\"négyet\",\"néha\",\"néhány\",\"nélkül\",\"o\",\"oda\",\"ok\",\"olyan\",\"onnan\",\"ott\",\"pedig\",\"persze\",\"pár\",\"például\",\"rajta\",\"rajtad\",\"rajtam\",\"rajtatok\",\"rajtuk\",\"rajtunk\",\"rendben\",\"rosszul\",\"rá\",\"rád\",\"rájuk\",\"rám\",\"ránk\",\"rátok\",\"régen\",\"régóta\",\"részére\",\"róla\",\"rólad\",\"rólam\",\"rólatok\",\"róluk\",\"rólunk\",\"rögtön\",\"s\",\"saját\",\"se\",\"sem\",\"semmi\",\"semmilyen\",\"semmiség\",\"senki\",\"soha\",\"sok\",\"sokan\",\"sokat\",\"sokkal\",\"sokszor\",\"sokáig\",\"során\",\"stb.\",\"szemben\",\"szerbusz\",\"szerint\",\"szerinte\",\"szerinted\",\"szerintem\",\"szerintetek\",\"szerintük\",\"szerintünk\",\"szervusz\",\"szinte\",\"számára\",\"száz\",\"századik\",\"százat\",\"szépen\",\"szét\",\"szíves\",\"szívesen\",\"szíveskedjék\",\"sőt\",\"talán\",\"tavaly\",\"te\",\"tegnap\",\"tegnapelőtt\",\"tehát\",\"tele\",\"teljes\",\"tessék\",\"ti\",\"tied\",\"titeket\",\"tizedik\",\"tizediket\",\"tizenegy\",\"tizenegyedik\",\"tizenhat\",\"tizenhárom\",\"tizenhét\",\"tizenkettedik\",\"tizenkettő\",\"tizenkilenc\",\"tizenkét\",\"tizennyolc\",\"tizennégy\",\"tizenöt\",\"tizet\",\"tovább\",\"további\",\"továbbá\",\"távol\",\"téged\",\"tényleg\",\"tíz\",\"több\",\"többi\",\"többször\",\"túl\",\"tőle\",\"tőled\",\"tőlem\",\"tőletek\",\"tőlük\",\"tőlünk\",\"ugyanakkor\",\"ugyanez\",\"ugyanis\",\"ugye\",\"urak\",\"uram\",\"urat\",\"utoljára\",\"utolsó\",\"után\",\"utána\",\"vagy\",\"vagyis\",\"vagyok\",\"vagytok\",\"vagyunk\",\"vajon\",\"valahol\",\"valaki\",\"valakit\",\"valamelyik\",\"valami\",\"valamint\",\"való\",\"van\",\"vannak\",\"vele\",\"veled\",\"velem\",\"veletek\",\"velük\",\"velünk\",\"vissza\",\"viszlát\",\"viszont\",\"viszontlátásra\",\"volna\",\"volnának\",\"volnék\",\"volt\",\"voltak\",\"voltam\",\"voltunk\",\"végre\",\"végén\",\"végül\",\"által\",\"általában\",\"ám\",\"át\",\"éljen\",\"én\",\"éppen\",\"érte\",\"érted\",\"értem\",\"értetek\",\"értük\",\"értünk\",\"és\",\"év\",\"évben\",\"éve\",\"évek\",\"éves\",\"évi\",\"évvel\",\"így\",\"óta\",\"ön\",\"önbe\",\"önben\",\"önből\",\"önhöz\",\"önnek\",\"önnel\",\"önnél\",\"önre\",\"önről\",\"önt\",\"öntől\",\"önért\",\"önök\",\"önökbe\",\"önökben\",\"önökből\",\"önöket\",\"önökhöz\",\"önökkel\",\"önöknek\",\"önöknél\",\"önökre\",\"önökről\",\"önöktől\",\"önökért\",\"önökön\",\"önön\",\"össze\",\"öt\",\"ötven\",\"ötödik\",\"ötödiket\",\"ötöt\",\"úgy\",\"úgyis\",\"úgynevezett\",\"új\",\"újabb\",\"újra\",\"úr\",\"ő\",\"ők\",\"őket\",\"őt\"],\"it\":[\"IE\",\"a\",\"abbastanza\",\"abbia\",\"abbiamo\",\"abbiano\",\"abbiate\",\"accidenti\",\"ad\",\"adesso\",\"affinche\",\"agl\",\"agli\",\"ahime\",\"ahimè\",\"ai\",\"al\",\"alcuna\",\"alcuni\",\"alcuno\",\"all\",\"alla\",\"alle\",\"allo\",\"allora\",\"altri\",\"altrimenti\",\"altro\",\"altrove\",\"altrui\",\"anche\",\"ancora\",\"anni\",\"anno\",\"ansa\",\"anticipo\",\"assai\",\"attesa\",\"attraverso\",\"avanti\",\"avemmo\",\"avendo\",\"avente\",\"aver\",\"avere\",\"averlo\",\"avesse\",\"avessero\",\"avessi\",\"avessimo\",\"aveste\",\"avesti\",\"avete\",\"aveva\",\"avevamo\",\"avevano\",\"avevate\",\"avevi\",\"avevo\",\"avrai\",\"avranno\",\"avrebbe\",\"avrebbero\",\"avrei\",\"avremmo\",\"avremo\",\"avreste\",\"avresti\",\"avrete\",\"avrà\",\"avrò\",\"avuta\",\"avute\",\"avuti\",\"avuto\",\"basta\",\"bene\",\"benissimo\",\"berlusconi\",\"brava\",\"bravo\",\"c\",\"casa\",\"caso\",\"cento\",\"certa\",\"certe\",\"certi\",\"certo\",\"che\",\"chi\",\"chicchessia\",\"chiunque\",\"ci\",\"ciascuna\",\"ciascuno\",\"cima\",\"cio\",\"cioe\",\"cioè\",\"circa\",\"citta\",\"città\",\"ciò\",\"co\",\"codesta\",\"codesti\",\"codesto\",\"cogli\",\"coi\",\"col\",\"colei\",\"coll\",\"coloro\",\"colui\",\"come\",\"cominci\",\"comunque\",\"con\",\"concernente\",\"conciliarsi\",\"conclusione\",\"consiglio\",\"contro\",\"cortesia\",\"cos\",\"cosa\",\"cosi\",\"così\",\"cui\",\"d\",\"da\",\"dagl\",\"dagli\",\"dai\",\"dal\",\"dall\",\"dalla\",\"dalle\",\"dallo\",\"dappertutto\",\"davanti\",\"degl\",\"degli\",\"dei\",\"del\",\"dell\",\"della\",\"delle\",\"dello\",\"dentro\",\"detto\",\"deve\",\"di\",\"dice\",\"dietro\",\"dire\",\"dirimpetto\",\"diventa\",\"diventare\",\"diventato\",\"dopo\",\"dov\",\"dove\",\"dovra\",\"dovrà\",\"dovunque\",\"due\",\"dunque\",\"durante\",\"e\",\"ebbe\",\"ebbero\",\"ebbi\",\"ecc\",\"ecco\",\"ed\",\"effettivamente\",\"egli\",\"ella\",\"entrambi\",\"eppure\",\"era\",\"erano\",\"eravamo\",\"eravate\",\"eri\",\"ero\",\"esempio\",\"esse\",\"essendo\",\"esser\",\"essere\",\"essi\",\"ex\",\"fa\",\"faccia\",\"facciamo\",\"facciano\",\"facciate\",\"faccio\",\"facemmo\",\"facendo\",\"facesse\",\"facessero\",\"facessi\",\"facessimo\",\"faceste\",\"facesti\",\"faceva\",\"facevamo\",\"facevano\",\"facevate\",\"facevi\",\"facevo\",\"fai\",\"fanno\",\"farai\",\"faranno\",\"fare\",\"farebbe\",\"farebbero\",\"farei\",\"faremmo\",\"faremo\",\"fareste\",\"faresti\",\"farete\",\"farà\",\"farò\",\"fatto\",\"favore\",\"fece\",\"fecero\",\"feci\",\"fin\",\"finalmente\",\"finche\",\"fine\",\"fino\",\"forse\",\"forza\",\"fosse\",\"fossero\",\"fossi\",\"fossimo\",\"foste\",\"fosti\",\"fra\",\"frattempo\",\"fu\",\"fui\",\"fummo\",\"fuori\",\"furono\",\"futuro\",\"generale\",\"gia\",\"giacche\",\"giorni\",\"giorno\",\"già\",\"gli\",\"gliela\",\"gliele\",\"glieli\",\"glielo\",\"gliene\",\"governo\",\"grande\",\"grazie\",\"gruppo\",\"ha\",\"haha\",\"hai\",\"hanno\",\"ho\",\"i\",\"ieri\",\"il\",\"improvviso\",\"in\",\"inc\",\"infatti\",\"inoltre\",\"insieme\",\"intanto\",\"intorno\",\"invece\",\"io\",\"l\",\"la\",\"lasciato\",\"lato\",\"lavoro\",\"le\",\"lei\",\"li\",\"lo\",\"lontano\",\"loro\",\"lui\",\"lungo\",\"luogo\",\"là\",\"ma\",\"macche\",\"magari\",\"maggior\",\"mai\",\"male\",\"malgrado\",\"malissimo\",\"mancanza\",\"marche\",\"me\",\"medesimo\",\"mediante\",\"meglio\",\"meno\",\"mentre\",\"mesi\",\"mezzo\",\"mi\",\"mia\",\"mie\",\"miei\",\"mila\",\"miliardi\",\"milioni\",\"minimi\",\"ministro\",\"mio\",\"modo\",\"molti\",\"moltissimo\",\"molto\",\"momento\",\"mondo\",\"mosto\",\"nazionale\",\"ne\",\"negl\",\"negli\",\"nei\",\"nel\",\"nell\",\"nella\",\"nelle\",\"nello\",\"nemmeno\",\"neppure\",\"nessun\",\"nessuna\",\"nessuno\",\"niente\",\"no\",\"noi\",\"non\",\"nondimeno\",\"nonostante\",\"nonsia\",\"nostra\",\"nostre\",\"nostri\",\"nostro\",\"novanta\",\"nove\",\"nulla\",\"nuovo\",\"o\",\"od\",\"oggi\",\"ogni\",\"ognuna\",\"ognuno\",\"oltre\",\"oppure\",\"ora\",\"ore\",\"osi\",\"ossia\",\"ottanta\",\"otto\",\"paese\",\"parecchi\",\"parecchie\",\"parecchio\",\"parte\",\"partendo\",\"peccato\",\"peggio\",\"per\",\"perche\",\"perchè\",\"perché\",\"percio\",\"perciò\",\"perfino\",\"pero\",\"persino\",\"persone\",\"però\",\"piedi\",\"pieno\",\"piglia\",\"piu\",\"piuttosto\",\"più\",\"po\",\"pochissimo\",\"poco\",\"poi\",\"poiche\",\"possa\",\"possedere\",\"posteriore\",\"posto\",\"potrebbe\",\"preferibilmente\",\"presa\",\"press\",\"prima\",\"primo\",\"principalmente\",\"probabilmente\",\"proprio\",\"puo\",\"pure\",\"purtroppo\",\"può\",\"qualche\",\"qualcosa\",\"qualcuna\",\"qualcuno\",\"quale\",\"quali\",\"qualunque\",\"quando\",\"quanta\",\"quante\",\"quanti\",\"quanto\",\"quantunque\",\"quasi\",\"quattro\",\"quel\",\"quella\",\"quelle\",\"quelli\",\"quello\",\"quest\",\"questa\",\"queste\",\"questi\",\"questo\",\"qui\",\"quindi\",\"realmente\",\"recente\",\"recentemente\",\"registrazione\",\"relativo\",\"riecco\",\"salvo\",\"sara\",\"sarai\",\"saranno\",\"sarebbe\",\"sarebbero\",\"sarei\",\"saremmo\",\"saremo\",\"sareste\",\"saresti\",\"sarete\",\"sarà\",\"sarò\",\"scola\",\"scopo\",\"scorso\",\"se\",\"secondo\",\"seguente\",\"seguito\",\"sei\",\"sembra\",\"sembrare\",\"sembrato\",\"sembri\",\"sempre\",\"senza\",\"sette\",\"si\",\"sia\",\"siamo\",\"siano\",\"siate\",\"siete\",\"sig\",\"solito\",\"solo\",\"soltanto\",\"sono\",\"sopra\",\"sotto\",\"spesso\",\"srl\",\"sta\",\"stai\",\"stando\",\"stanno\",\"starai\",\"staranno\",\"starebbe\",\"starebbero\",\"starei\",\"staremmo\",\"staremo\",\"stareste\",\"staresti\",\"starete\",\"starà\",\"starò\",\"stata\",\"state\",\"stati\",\"stato\",\"stava\",\"stavamo\",\"stavano\",\"stavate\",\"stavi\",\"stavo\",\"stemmo\",\"stessa\",\"stesse\",\"stessero\",\"stessi\",\"stessimo\",\"stesso\",\"steste\",\"stesti\",\"stette\",\"stettero\",\"stetti\",\"stia\",\"stiamo\",\"stiano\",\"stiate\",\"sto\",\"su\",\"sua\",\"subito\",\"successivamente\",\"successivo\",\"sue\",\"sugl\",\"sugli\",\"sui\",\"sul\",\"sull\",\"sulla\",\"sulle\",\"sullo\",\"suo\",\"suoi\",\"tale\",\"tali\",\"talvolta\",\"tanto\",\"te\",\"tempo\",\"ti\",\"titolo\",\"torino\",\"tra\",\"tranne\",\"tre\",\"trenta\",\"troppo\",\"trovato\",\"tu\",\"tua\",\"tue\",\"tuo\",\"tuoi\",\"tutta\",\"tuttavia\",\"tutte\",\"tutti\",\"tutto\",\"uguali\",\"ulteriore\",\"ultimo\",\"un\",\"una\",\"uno\",\"uomo\",\"va\",\"vale\",\"vari\",\"varia\",\"varie\",\"vario\",\"verso\",\"vi\",\"via\",\"vicino\",\"visto\",\"vita\",\"voi\",\"volta\",\"volte\",\"vostra\",\"vostre\",\"vostri\",\"vostro\",\"è\"],\"ko\":[\"!\",\"\\\"\",\"$\",\"%\",\"&\",\"'\",\"(\",\")\",\"*\",\"+\",\",\",\"-\",\".\",\"...\",\"0\",\"1\",\"2\",\"3\",\"4\",\"5\",\"6\",\"7\",\"8\",\"9\",\";\",\"<\",\"=\",\">\",\"?\",\"@\",\"\\\\\",\"^\",\"_\",\"`\",\"|\",\"~\",\"·\",\"—\",\"——\",\"‘\",\"’\",\"“\",\"”\",\"…\",\"、\",\"。\",\"〈\",\"〉\",\"《\",\"》\",\"가\",\"가까스로\",\"가령\",\"각\",\"각각\",\"각자\",\"각종\",\"갖고말하자면\",\"같다\",\"같이\",\"개의치않고\",\"거니와\",\"거바\",\"거의\",\"것\",\"것과 같이\",\"것들\",\"게다가\",\"게우다\",\"겨우\",\"견지에서\",\"결과에 이르다\",\"결국\",\"결론을 낼 수 있다\",\"겸사겸사\",\"고려하면\",\"고로\",\"곧\",\"공동으로\",\"과\",\"과연\",\"관계가 있다\",\"관계없이\",\"관련이 있다\",\"관하여\",\"관한\",\"관해서는\",\"구\",\"구체적으로\",\"구토하다\",\"그\",\"그들\",\"그때\",\"그래\",\"그래도\",\"그래서\",\"그러나\",\"그러니\",\"그러니까\",\"그러면\",\"그러므로\",\"그러한즉\",\"그런 까닭에\",\"그런데\",\"그런즉\",\"그럼\",\"그럼에도 불구하고\",\"그렇게 함으로써\",\"그렇지\",\"그렇지 않다면\",\"그렇지 않으면\",\"그렇지만\",\"그렇지않으면\",\"그리고\",\"그리하여\",\"그만이다\",\"그에 따르는\",\"그위에\",\"그저\",\"그중에서\",\"그치지 않다\",\"근거로\",\"근거하여\",\"기대여\",\"기점으로\",\"기준으로\",\"기타\",\"까닭으로\",\"까악\",\"까지\",\"까지 미치다\",\"까지도\",\"꽈당\",\"끙끙\",\"끼익\",\"나\",\"나머지는\",\"남들\",\"남짓\",\"너\",\"너희\",\"너희들\",\"네\",\"넷\",\"년\",\"논하지 않다\",\"놀라다\",\"누가 알겠는가\",\"누구\",\"다른\",\"다른 방면으로\",\"다만\",\"다섯\",\"다소\",\"다수\",\"다시 말하자면\",\"다시말하면\",\"다음\",\"다음에\",\"다음으로\",\"단지\",\"답다\",\"당신\",\"당장\",\"대로 하다\",\"대하면\",\"대하여\",\"대해 말하자면\",\"대해서\",\"댕그\",\"더구나\",\"더군다나\",\"더라도\",\"더불어\",\"더욱더\",\"더욱이는\",\"도달하다\",\"도착하다\",\"동시에\",\"동안\",\"된바에야\",\"된이상\",\"두번째로\",\"둘\",\"둥둥\",\"뒤따라\",\"뒤이어\",\"든간에\",\"들\",\"등\",\"등등\",\"딩동\",\"따라\",\"따라서\",\"따위\",\"따지지 않다\",\"딱\",\"때\",\"때가 되어\",\"때문에\",\"또\",\"또한\",\"뚝뚝\",\"라 해도\",\"령\",\"로\",\"로 인하여\",\"로부터\",\"로써\",\"륙\",\"를\",\"마음대로\",\"마저\",\"마저도\",\"마치\",\"막론하고\",\"만 못하다\",\"만약\",\"만약에\",\"만은 아니다\",\"만이 아니다\",\"만일\",\"만큼\",\"말하자면\",\"말할것도 없고\",\"매\",\"매번\",\"메쓰겁다\",\"몇\",\"모\",\"모두\",\"무렵\",\"무릎쓰고\",\"무슨\",\"무엇\",\"무엇때문에\",\"물론\",\"및\",\"바꾸어말하면\",\"바꾸어말하자면\",\"바꾸어서 말하면\",\"바꾸어서 한다면\",\"바꿔 말하면\",\"바로\",\"바와같이\",\"밖에 안된다\",\"반대로\",\"반대로 말하자면\",\"반드시\",\"버금\",\"보는데서\",\"보다더\",\"보드득\",\"본대로\",\"봐\",\"봐라\",\"부류의 사람들\",\"부터\",\"불구하고\",\"불문하고\",\"붕붕\",\"비걱거리다\",\"비교적\",\"비길수 없다\",\"비로소\",\"비록\",\"비슷하다\",\"비추어 보아\",\"비하면\",\"뿐만 아니라\",\"뿐만아니라\",\"뿐이다\",\"삐걱\",\"삐걱거리다\",\"사\",\"삼\",\"상대적으로 말하자면\",\"생각한대로\",\"설령\",\"설마\",\"설사\",\"셋\",\"소생\",\"소인\",\"솨\",\"쉿\",\"습니까\",\"습니다\",\"시각\",\"시간\",\"시작하여\",\"시초에\",\"시키다\",\"실로\",\"심지어\",\"아\",\"아니\",\"아니나다를가\",\"아니라면\",\"아니면\",\"아니었다면\",\"아래윗\",\"아무거나\",\"아무도\",\"아야\",\"아울러\",\"아이\",\"아이고\",\"아이구\",\"아이야\",\"아이쿠\",\"아하\",\"아홉\",\"안 그러면\",\"않기 위하여\",\"않기 위해서\",\"알 수 있다\",\"알았어\",\"앗\",\"앞에서\",\"앞의것\",\"야\",\"약간\",\"양자\",\"어\",\"어기여차\",\"어느\",\"어느 년도\",\"어느것\",\"어느곳\",\"어느때\",\"어느쪽\",\"어느해\",\"어디\",\"어때\",\"어떠한\",\"어떤\",\"어떤것\",\"어떤것들\",\"어떻게\",\"어떻해\",\"어이\",\"어째서\",\"어쨋든\",\"어쩔수 없다\",\"어찌\",\"어찌됏든\",\"어찌됏어\",\"어찌하든지\",\"어찌하여\",\"언제\",\"언젠가\",\"얼마\",\"얼마 안 되는 것\",\"얼마간\",\"얼마나\",\"얼마든지\",\"얼마만큼\",\"얼마큼\",\"엉엉\",\"에\",\"에 가서\",\"에 달려 있다\",\"에 대해\",\"에 있다\",\"에 한하다\",\"에게\",\"에서\",\"여\",\"여기\",\"여덟\",\"여러분\",\"여보시오\",\"여부\",\"여섯\",\"여전히\",\"여차\",\"연관되다\",\"연이서\",\"영\",\"영차\",\"옆사람\",\"예\",\"예를 들면\",\"예를 들자면\",\"예컨대\",\"예하면\",\"오\",\"오로지\",\"오르다\",\"오자마자\",\"오직\",\"오호\",\"오히려\",\"와\",\"와 같은 사람들\",\"와르르\",\"와아\",\"왜\",\"왜냐하면\",\"외에도\",\"요만큼\",\"요만한 것\",\"요만한걸\",\"요컨대\",\"우르르\",\"우리\",\"우리들\",\"우선\",\"우에 종합한것과같이\",\"운운\",\"월\",\"위에서 서술한바와같이\",\"위하여\",\"위해서\",\"윙윙\",\"육\",\"으로\",\"으로 인하여\",\"으로서\",\"으로써\",\"을\",\"응\",\"응당\",\"의\",\"의거하여\",\"의지하여\",\"의해\",\"의해되다\",\"의해서\",\"이\",\"이 되다\",\"이 때문에\",\"이 밖에\",\"이 외에\",\"이 정도의\",\"이것\",\"이곳\",\"이때\",\"이라면\",\"이래\",\"이러이러하다\",\"이러한\",\"이런\",\"이럴정도로\",\"이렇게 많은 것\",\"이렇게되면\",\"이렇게말하자면\",\"이렇구나\",\"이로 인하여\",\"이르기까지\",\"이리하여\",\"이만큼\",\"이번\",\"이봐\",\"이상\",\"이어서\",\"이었다\",\"이와 같다\",\"이와 같은\",\"이와 반대로\",\"이와같다면\",\"이외에도\",\"이용하여\",\"이유만으로\",\"이젠\",\"이지만\",\"이쪽\",\"이천구\",\"이천육\",\"이천칠\",\"이천팔\",\"인 듯하다\",\"인젠\",\"일\",\"일것이다\",\"일곱\",\"일단\",\"일때\",\"일반적으로\",\"일지라도\",\"임에 틀림없다\",\"입각하여\",\"입장에서\",\"잇따라\",\"있다\",\"자\",\"자기\",\"자기집\",\"자마자\",\"자신\",\"잠깐\",\"잠시\",\"저\",\"저것\",\"저것만큼\",\"저기\",\"저쪽\",\"저희\",\"전부\",\"전자\",\"전후\",\"점에서 보아\",\"정도에 이르다\",\"제\",\"제각기\",\"제외하고\",\"조금\",\"조차\",\"조차도\",\"졸졸\",\"좀\",\"좋아\",\"좍좍\",\"주룩주룩\",\"주저하지 않고\",\"줄은 몰랏다\",\"줄은모른다\",\"중에서\",\"중의하나\",\"즈음하여\",\"즉\",\"즉시\",\"지든지\",\"지만\",\"지말고\",\"진짜로\",\"쪽으로\",\"차라리\",\"참\",\"참나\",\"첫번째로\",\"쳇\",\"총적으로\",\"총적으로 말하면\",\"총적으로 보면\",\"칠\",\"콸콸\",\"쾅쾅\",\"쿵\",\"타다\",\"타인\",\"탕탕\",\"토하다\",\"통하여\",\"툭\",\"퉤\",\"틈타\",\"팍\",\"팔\",\"퍽\",\"펄렁\",\"하\",\"하게될것이다\",\"하게하다\",\"하겠는가\",\"하고 있다\",\"하고있었다\",\"하곤하였다\",\"하구나\",\"하기 때문에\",\"하기 위하여\",\"하기는한데\",\"하기만 하면\",\"하기보다는\",\"하기에\",\"하나\",\"하느니\",\"하는 김에\",\"하는 편이 낫다\",\"하는것도\",\"하는것만 못하다\",\"하는것이 낫다\",\"하는바\",\"하더라도\",\"하도다\",\"하도록시키다\",\"하도록하다\",\"하든지\",\"하려고하다\",\"하마터면\",\"하면 할수록\",\"하면된다\",\"하면서\",\"하물며\",\"하여금\",\"하여야\",\"하자마자\",\"하지 않는다면\",\"하지 않도록\",\"하지마\",\"하지마라\",\"하지만\",\"하하\",\"한 까닭에\",\"한 이유는\",\"한 후\",\"한다면\",\"한다면 몰라도\",\"한데\",\"한마디\",\"한적이있다\",\"한켠으로는\",\"한항목\",\"할 따름이다\",\"할 생각이다\",\"할 줄 안다\",\"할 지경이다\",\"할 힘이 있다\",\"할때\",\"할만하다\",\"할망정\",\"할뿐\",\"할수있다\",\"할수있어\",\"할줄알다\",\"할지라도\",\"할지언정\",\"함께\",\"해도된다\",\"해도좋다\",\"해봐요\",\"해서는 안된다\",\"해야한다\",\"해요\",\"했어요\",\"향하다\",\"향하여\",\"향해서\",\"허\",\"허걱\",\"허허\",\"헉\",\"헉헉\",\"헐떡헐떡\",\"형식으로 쓰여\",\"혹시\",\"혹은\",\"혼자\",\"훨씬\",\"휘익\",\"휴\",\"흐흐\",\"흥\",\"힘입어\",\"︿\",\"！\",\"＃\",\"＄\",\"％\",\"＆\",\"（\",\"）\",\"＊\",\"＋\",\"，\",\"０\",\"１\",\"２\",\"３\",\"４\",\"５\",\"６\",\"７\",\"８\",\"９\",\"：\",\"；\",\"＜\",\"＞\",\"？\",\"＠\",\"［\",\"］\",\"｛\",\"｜\",\"｝\",\"～\",\"￥\"],\"nl\":[\"aan\",\"achte\",\"achter\",\"af\",\"al\",\"alle\",\"alleen\",\"alles\",\"als\",\"ander\",\"anders\",\"beetje\",\"behalve\",\"beide\",\"beiden\",\"ben\",\"beneden\",\"bent\",\"bij\",\"bijna\",\"bijv\",\"blijkbaar\",\"blijken\",\"boven\",\"bv\",\"daar\",\"daardoor\",\"daarin\",\"daarna\",\"daarom\",\"daaruit\",\"dan\",\"dat\",\"de\",\"deden\",\"deed\",\"derde\",\"derhalve\",\"dertig\",\"deze\",\"dhr\",\"die\",\"dit\",\"doe\",\"doen\",\"doet\",\"door\",\"drie\",\"duizend\",\"echter\",\"een\",\"eens\",\"eerst\",\"eerste\",\"eigen\",\"eigenlijk\",\"elk\",\"elke\",\"en\",\"enige\",\"er\",\"erg\",\"ergens\",\"etc\",\"etcetera\",\"even\",\"geen\",\"genoeg\",\"geweest\",\"haar\",\"haarzelf\",\"had\",\"hadden\",\"heb\",\"hebben\",\"hebt\",\"hedden\",\"heeft\",\"heel\",\"hem\",\"hemzelf\",\"hen\",\"het\",\"hetzelfde\",\"hier\",\"hierin\",\"hierna\",\"hierom\",\"hij\",\"hijzelf\",\"hoe\",\"honderd\",\"hun\",\"ieder\",\"iedere\",\"iedereen\",\"iemand\",\"iets\",\"ik\",\"in\",\"inderdaad\",\"intussen\",\"is\",\"ja\",\"je\",\"jij\",\"jijzelf\",\"jou\",\"jouw\",\"jullie\",\"kan\",\"kon\",\"konden\",\"kun\",\"kunnen\",\"kunt\",\"laatst\",\"later\",\"lijken\",\"lijkt\",\"maak\",\"maakt\",\"maakte\",\"maakten\",\"maar\",\"mag\",\"maken\",\"me\",\"meer\",\"meest\",\"meestal\",\"men\",\"met\",\"mevr\",\"mij\",\"mijn\",\"minder\",\"miss\",\"misschien\",\"missen\",\"mits\",\"mocht\",\"mochten\",\"moest\",\"moesten\",\"moet\",\"moeten\",\"mogen\",\"mr\",\"mrs\",\"mw\",\"na\",\"naar\",\"nam\",\"namelijk\",\"nee\",\"neem\",\"negen\",\"nemen\",\"nergens\",\"niemand\",\"niet\",\"niets\",\"niks\",\"noch\",\"nochtans\",\"nog\",\"nooit\",\"nu\",\"nv\",\"of\",\"om\",\"omdat\",\"ondanks\",\"onder\",\"ondertussen\",\"ons\",\"onze\",\"onzeker\",\"ooit\",\"ook\",\"op\",\"over\",\"overal\",\"overige\",\"paar\",\"per\",\"recent\",\"redelijk\",\"samen\",\"sinds\",\"steeds\",\"te\",\"tegen\",\"tegenover\",\"thans\",\"tien\",\"tiende\",\"tijdens\",\"tja\",\"toch\",\"toe\",\"tot\",\"totdat\",\"tussen\",\"twee\",\"tweede\",\"u\",\"uit\",\"uw\",\"vaak\",\"van\",\"vanaf\",\"veel\",\"veertig\",\"verder\",\"verscheidene\",\"verschillende\",\"via\",\"vier\",\"vierde\",\"vijf\",\"vijfde\",\"vijftig\",\"volgend\",\"volgens\",\"voor\",\"voordat\",\"voorts\",\"waar\",\"waarom\",\"waarschijnlijk\",\"wanneer\",\"waren\",\"was\",\"wat\",\"we\",\"wederom\",\"weer\",\"weinig\",\"wel\",\"welk\",\"welke\",\"werd\",\"werden\",\"werder\",\"whatever\",\"wie\",\"wij\",\"wijzelf\",\"wil\",\"wilden\",\"willen\",\"word\",\"worden\",\"wordt\",\"zal\",\"ze\",\"zei\",\"zeker\",\"zelf\",\"zelfde\",\"zes\",\"zeven\",\"zich\",\"zij\",\"zijn\",\"zijzelf\",\"zo\",\"zoals\",\"zodat\",\"zou\",\"zouden\",\"zulk\",\"zullen\"],\"no\":[\"alle\",\"at\",\"av\",\"bare\",\"begge\",\"ble\",\"blei\",\"bli\",\"blir\",\"blitt\",\"både\",\"båe\",\"da\",\"de\",\"deg\",\"dei\",\"deim\",\"deira\",\"deires\",\"dem\",\"den\",\"denne\",\"der\",\"dere\",\"deres\",\"det\",\"dette\",\"di\",\"din\",\"disse\",\"ditt\",\"du\",\"dykk\",\"dykkar\",\"då\",\"eg\",\"ein\",\"eit\",\"eitt\",\"eller\",\"elles\",\"en\",\"enn\",\"er\",\"et\",\"ett\",\"etter\",\"for\",\"fordi\",\"fra\",\"før\",\"ha\",\"hadde\",\"han\",\"hans\",\"har\",\"hennar\",\"henne\",\"hennes\",\"her\",\"hjå\",\"ho\",\"hoe\",\"honom\",\"hoss\",\"hossen\",\"hun\",\"hva\",\"hvem\",\"hver\",\"hvilke\",\"hvilken\",\"hvis\",\"hvor\",\"hvordan\",\"hvorfor\",\"i\",\"ikke\",\"ikkje\",\"ingen\",\"ingi\",\"inkje\",\"inn\",\"inni\",\"ja\",\"jeg\",\"kan\",\"kom\",\"korleis\",\"korso\",\"kun\",\"kunne\",\"kva\",\"kvar\",\"kvarhelst\",\"kven\",\"kvi\",\"kvifor\",\"man\",\"mange\",\"me\",\"med\",\"medan\",\"meg\",\"meget\",\"mellom\",\"men\",\"mi\",\"min\",\"mine\",\"mitt\",\"mot\",\"mykje\",\"ned\",\"no\",\"noe\",\"noen\",\"noka\",\"noko\",\"nokon\",\"nokor\",\"nokre\",\"nå\",\"når\",\"og\",\"også\",\"om\",\"opp\",\"oss\",\"over\",\"på\",\"samme\",\"seg\",\"selv\",\"si\",\"sia\",\"sidan\",\"siden\",\"sin\",\"sine\",\"sitt\",\"sjøl\",\"skal\",\"skulle\",\"slik\",\"so\",\"som\",\"somme\",\"somt\",\"så\",\"sånn\",\"til\",\"um\",\"upp\",\"ut\",\"uten\",\"var\",\"vart\",\"varte\",\"ved\",\"vere\",\"verte\",\"vi\",\"vil\",\"ville\",\"vore\",\"vors\",\"vort\",\"vår\",\"være\",\"vært\",\"å\"],\"pl\":[\"aby\",\"ach\",\"aj\",\"albo\",\"ale\",\"ani\",\"aż\",\"bardzo\",\"bez\",\"bo\",\"bowiem\",\"by\",\"byli\",\"bym\",\"być\",\"był\",\"była\",\"było\",\"były\",\"będzie\",\"będą\",\"chce\",\"choć\",\"ci\",\"ciebie\",\"cię\",\"co\",\"coraz\",\"coś\",\"czy\",\"czyli\",\"często\",\"daleko\",\"dla\",\"dlaczego\",\"dlatego\",\"do\",\"dobrze\",\"dokąd\",\"dość\",\"dr\",\"dużo\",\"dwa\",\"dwaj\",\"dwie\",\"dwoje\",\"dzisiaj\",\"dziś\",\"gdy\",\"gdyby\",\"gdyż\",\"gdzie\",\"go\",\"godz\",\"hab\",\"i\",\"ich\",\"ii\",\"iii\",\"ile\",\"im\",\"inne\",\"inny\",\"inż\",\"iv\",\"ix\",\"iż\",\"ja\",\"jak\",\"jakby\",\"jaki\",\"jakie\",\"jako\",\"je\",\"jeden\",\"jedna\",\"jednak\",\"jedno\",\"jednym\",\"jedynie\",\"jego\",\"jej\",\"jemu\",\"jest\",\"jestem\",\"jeszcze\",\"jeśli\",\"jeżeli\",\"już\",\"ją\",\"każdy\",\"kiedy\",\"kierunku\",\"kilku\",\"kto\",\"która\",\"które\",\"którego\",\"której\",\"który\",\"których\",\"którym\",\"którzy\",\"ku\",\"lat\",\"lecz\",\"lub\",\"ma\",\"mają\",\"mam\",\"mamy\",\"mgr\",\"mi\",\"miał\",\"mimo\",\"mnie\",\"mną\",\"mogą\",\"moi\",\"moja\",\"moje\",\"może\",\"można\",\"mu\",\"musi\",\"my\",\"mój\",\"na\",\"nad\",\"nam\",\"nami\",\"nas\",\"nasi\",\"nasz\",\"nasza\",\"nasze\",\"natychmiast\",\"nawet\",\"nic\",\"nich\",\"nie\",\"niego\",\"niej\",\"niemu\",\"nigdy\",\"nim\",\"nimi\",\"nią\",\"niż\",\"no\",\"nowe\",\"np\",\"nr\",\"o\",\"o.o.\",\"obok\",\"od\",\"ok\",\"około\",\"on\",\"ona\",\"one\",\"oni\",\"ono\",\"oraz\",\"owszem\",\"pan\",\"pl\",\"po\",\"pod\",\"ponad\",\"ponieważ\",\"poza\",\"prof\",\"przed\",\"przede\",\"przedtem\",\"przez\",\"przy\",\"raz\",\"razie\",\"roku\",\"również\",\"sam\",\"sama\",\"się\",\"skąd\",\"sobie\",\"sposób\",\"swoje\",\"są\",\"ta\",\"tak\",\"taki\",\"takich\",\"takie\",\"także\",\"tam\",\"te\",\"tego\",\"tej\",\"tel\",\"temu\",\"ten\",\"teraz\",\"też\",\"to\",\"tobie\",\"tobą\",\"trzeba\",\"tu\",\"tutaj\",\"twoi\",\"twoja\",\"twoje\",\"twój\",\"ty\",\"tych\",\"tylko\",\"tym\",\"tys\",\"tzw\",\"tę\",\"u\",\"ul\",\"vi\",\"vii\",\"viii\",\"vol\",\"w\",\"wam\",\"wami\",\"was\",\"wasi\",\"wasz\",\"wasza\",\"wasze\",\"we\",\"wie\",\"więc\",\"wszystko\",\"wtedy\",\"www\",\"wy\",\"właśnie\",\"wśród\",\"xi\",\"xii\",\"xiii\",\"xiv\",\"xv\",\"z\",\"za\",\"zawsze\",\"zaś\",\"ze\",\"zł\",\"żaden\",\"że\",\"żeby\"],\"pt\":[\"a\",\"acerca\",\"adeus\",\"agora\",\"ainda\",\"algmas\",\"algo\",\"algumas\",\"alguns\",\"ali\",\"além\",\"ambos\",\"ano\",\"anos\",\"antes\",\"ao\",\"aos\",\"apenas\",\"apoio\",\"apontar\",\"após\",\"aquela\",\"aquelas\",\"aquele\",\"aqueles\",\"aqui\",\"aquilo\",\"as\",\"assim\",\"através\",\"atrás\",\"até\",\"aí\",\"baixo\",\"bastante\",\"bem\",\"bom\",\"breve\",\"cada\",\"caminho\",\"catorze\",\"cedo\",\"cento\",\"certamente\",\"certeza\",\"cima\",\"cinco\",\"coisa\",\"com\",\"como\",\"comprido\",\"conhecido\",\"conselho\",\"contra\",\"corrente\",\"custa\",\"cá\",\"da\",\"daquela\",\"daquele\",\"dar\",\"das\",\"de\",\"debaixo\",\"demais\",\"dentro\",\"depois\",\"desde\",\"desligado\",\"dessa\",\"desse\",\"desta\",\"deste\",\"deve\",\"devem\",\"deverá\",\"dez\",\"dezanove\",\"dezasseis\",\"dezassete\",\"dezoito\",\"dia\",\"diante\",\"direita\",\"diz\",\"dizem\",\"dizer\",\"do\",\"dois\",\"dos\",\"doze\",\"duas\",\"dá\",\"dão\",\"dúvida\",\"e\",\"ela\",\"elas\",\"ele\",\"eles\",\"em\",\"embora\",\"enquanto\",\"entre\",\"então\",\"era\",\"essa\",\"essas\",\"esse\",\"esses\",\"esta\",\"estado\",\"estar\",\"estará\",\"estas\",\"estava\",\"este\",\"estes\",\"esteve\",\"estive\",\"estivemos\",\"estiveram\",\"estiveste\",\"estivestes\",\"estou\",\"está\",\"estás\",\"estão\",\"eu\",\"exemplo\",\"falta\",\"fará\",\"favor\",\"faz\",\"fazeis\",\"fazem\",\"fazemos\",\"fazer\",\"fazes\",\"fazia\",\"faço\",\"fez\",\"fim\",\"final\",\"foi\",\"fomos\",\"for\",\"fora\",\"foram\",\"forma\",\"foste\",\"fostes\",\"fui\",\"geral\",\"grande\",\"grandes\",\"grupo\",\"hoje\",\"horas\",\"há\",\"iniciar\",\"inicio\",\"ir\",\"irá\",\"isso\",\"ista\",\"iste\",\"isto\",\"já\",\"lado\",\"ligado\",\"local\",\"logo\",\"longe\",\"lugar\",\"lá\",\"maior\",\"maioria\",\"maiorias\",\"mais\",\"mal\",\"mas\",\"me\",\"meio\",\"menor\",\"menos\",\"meses\",\"mesmo\",\"meu\",\"meus\",\"mil\",\"minha\",\"minhas\",\"momento\",\"muito\",\"muitos\",\"máximo\",\"mês\",\"na\",\"nada\",\"naquela\",\"naquele\",\"nas\",\"nem\",\"nenhuma\",\"nessa\",\"nesse\",\"nesta\",\"neste\",\"no\",\"noite\",\"nome\",\"nos\",\"nossa\",\"nossas\",\"nosso\",\"nossos\",\"nova\",\"nove\",\"novo\",\"novos\",\"num\",\"numa\",\"nunca\",\"não\",\"nível\",\"nós\",\"número\",\"o\",\"obra\",\"obrigada\",\"obrigado\",\"oitava\",\"oitavo\",\"oito\",\"onde\",\"ontem\",\"onze\",\"os\",\"ou\",\"outra\",\"outras\",\"outro\",\"outros\",\"para\",\"parece\",\"parte\",\"partir\",\"pegar\",\"pela\",\"pelas\",\"pelo\",\"pelos\",\"perto\",\"pessoas\",\"pode\",\"podem\",\"poder\",\"poderá\",\"podia\",\"ponto\",\"pontos\",\"por\",\"porque\",\"porquê\",\"posição\",\"possivelmente\",\"posso\",\"possível\",\"pouca\",\"pouco\",\"povo\",\"primeira\",\"primeiro\",\"promeiro\",\"próprio\",\"próximo\",\"puderam\",\"pôde\",\"põe\",\"põem\",\"qual\",\"qualquer\",\"quando\",\"quanto\",\"quarta\",\"quarto\",\"quatro\",\"que\",\"quem\",\"quer\",\"quero\",\"questão\",\"quieto\",\"quinta\",\"quinto\",\"quinze\",\"quê\",\"relação\",\"sabe\",\"saber\",\"se\",\"segunda\",\"segundo\",\"sei\",\"seis\",\"sem\",\"sempre\",\"ser\",\"seria\",\"sete\",\"seu\",\"seus\",\"sexta\",\"sexto\",\"sim\",\"sistema\",\"sob\",\"sobre\",\"sois\",\"somente\",\"somos\",\"sou\",\"sua\",\"suas\",\"são\",\"sétima\",\"sétimo\",\"tal\",\"talvez\",\"também\",\"tanto\",\"tarde\",\"te\",\"tem\",\"temos\",\"tempo\",\"tendes\",\"tenho\",\"tens\",\"tentar\",\"tentaram\",\"tente\",\"tentei\",\"ter\",\"terceira\",\"terceiro\",\"teu\",\"teus\",\"teve\",\"tipo\",\"tive\",\"tivemos\",\"tiveram\",\"tiveste\",\"tivestes\",\"toda\",\"todas\",\"todo\",\"todos\",\"trabalhar\",\"trabalho\",\"treze\",\"três\",\"tu\",\"tua\",\"tuas\",\"tudo\",\"tão\",\"têm\",\"um\",\"uma\",\"umas\",\"uns\",\"usa\",\"usar\",\"vai\",\"vais\",\"valor\",\"veja\",\"vem\",\"vens\",\"ver\",\"verdade\",\"verdadeiro\",\"vez\",\"vezes\",\"viagem\",\"vindo\",\"vinte\",\"você\",\"vocês\",\"vos\",\"vossa\",\"vossas\",\"vosso\",\"vossos\",\"vários\",\"vão\",\"vêm\",\"vós\",\"zero\",\"à\",\"às\",\"área\",\"é\",\"és\",\"último\"],\"ru\":[\"а\",\"алло\",\"без\",\"белый\",\"близко\",\"более\",\"больше\",\"большой\",\"будем\",\"будет\",\"будете\",\"будешь\",\"будто\",\"буду\",\"будут\",\"будь\",\"бы\",\"бывает\",\"бывь\",\"был\",\"была\",\"были\",\"было\",\"быть\",\"в\",\"важная\",\"важное\",\"важные\",\"важный\",\"вам\",\"вами\",\"вас\",\"ваш\",\"ваша\",\"ваше\",\"ваши\",\"вверх\",\"вдали\",\"вдруг\",\"ведь\",\"везде\",\"вернуться\",\"весь\",\"вечер\",\"взгляд\",\"взять\",\"вид\",\"видеть\",\"вместе\",\"вниз\",\"внизу\",\"во\",\"вода\",\"война\",\"вокруг\",\"вон\",\"вообще\",\"вопрос\",\"восемнадцатый\",\"восемнадцать\",\"восемь\",\"восьмой\",\"вот\",\"впрочем\",\"времени\",\"время\",\"все\",\"всегда\",\"всего\",\"всем\",\"всеми\",\"всему\",\"всех\",\"всею\",\"всю\",\"всюду\",\"вся\",\"всё\",\"второй\",\"вы\",\"выйти\",\"г\",\"где\",\"главный\",\"глаз\",\"говорил\",\"говорит\",\"говорить\",\"год\",\"года\",\"году\",\"голова\",\"голос\",\"город\",\"да\",\"давать\",\"давно\",\"даже\",\"далекий\",\"далеко\",\"дальше\",\"даром\",\"дать\",\"два\",\"двадцатый\",\"двадцать\",\"две\",\"двенадцатый\",\"двенадцать\",\"дверь\",\"двух\",\"девятнадцатый\",\"девятнадцать\",\"девятый\",\"девять\",\"действительно\",\"дел\",\"делать\",\"дело\",\"день\",\"деньги\",\"десятый\",\"десять\",\"для\",\"до\",\"довольно\",\"долго\",\"должно\",\"должный\",\"дом\",\"дорога\",\"друг\",\"другая\",\"другие\",\"других\",\"друго\",\"другое\",\"другой\",\"думать\",\"душа\",\"е\",\"его\",\"ее\",\"ей\",\"ему\",\"если\",\"есть\",\"еще\",\"ещё\",\"ею\",\"её\",\"ж\",\"ждать\",\"же\",\"жена\",\"женщина\",\"жизнь\",\"жить\",\"за\",\"занят\",\"занята\",\"занято\",\"заняты\",\"затем\",\"зато\",\"зачем\",\"здесь\",\"земля\",\"знать\",\"значит\",\"значить\",\"и\",\"идти\",\"из\",\"или\",\"им\",\"именно\",\"иметь\",\"ими\",\"имя\",\"иногда\",\"их\",\"к\",\"каждая\",\"каждое\",\"каждые\",\"каждый\",\"кажется\",\"казаться\",\"как\",\"какая\",\"какой\",\"кем\",\"книга\",\"когда\",\"кого\",\"ком\",\"комната\",\"кому\",\"конец\",\"конечно\",\"которая\",\"которого\",\"которой\",\"которые\",\"который\",\"которых\",\"кроме\",\"кругом\",\"кто\",\"куда\",\"лежать\",\"лет\",\"ли\",\"лицо\",\"лишь\",\"лучше\",\"любить\",\"люди\",\"м\",\"маленький\",\"мало\",\"мать\",\"машина\",\"между\",\"меля\",\"менее\",\"меньше\",\"меня\",\"место\",\"миллионов\",\"мимо\",\"минута\",\"мир\",\"мира\",\"мне\",\"много\",\"многочисленная\",\"многочисленное\",\"многочисленные\",\"многочисленный\",\"мной\",\"мною\",\"мог\",\"могут\",\"мож\",\"может\",\"можно\",\"можхо\",\"мои\",\"мой\",\"мор\",\"москва\",\"мочь\",\"моя\",\"моё\",\"мы\",\"на\",\"наверху\",\"над\",\"надо\",\"назад\",\"наиболее\",\"найти\",\"наконец\",\"нам\",\"нами\",\"народ\",\"нас\",\"начала\",\"начать\",\"наш\",\"наша\",\"наше\",\"наши\",\"не\",\"него\",\"недавно\",\"недалеко\",\"нее\",\"ней\",\"некоторый\",\"нельзя\",\"нем\",\"немного\",\"нему\",\"непрерывно\",\"нередко\",\"несколько\",\"нет\",\"нею\",\"неё\",\"ни\",\"нибудь\",\"ниже\",\"низко\",\"никакой\",\"никогда\",\"никто\",\"никуда\",\"ними\",\"них\",\"ничего\",\"ничто\",\"но\",\"новый\",\"нога\",\"ночь\",\"ну\",\"нужно\",\"нужный\",\"нх\",\"о\",\"об\",\"оба\",\"обычно\",\"один\",\"одиннадцатый\",\"одиннадцать\",\"однажды\",\"однако\",\"одного\",\"одной\",\"оказаться\",\"окно\",\"около\",\"он\",\"она\",\"они\",\"оно\",\"опять\",\"особенно\",\"остаться\",\"от\",\"ответить\",\"отец\",\"отовсюду\",\"отсюда\",\"очень\",\"первый\",\"перед\",\"писать\",\"плечо\",\"по\",\"под\",\"подумать\",\"пожалуйста\",\"позже\",\"пойти\",\"пока\",\"пол\",\"получить\",\"помнить\",\"понимать\",\"понять\",\"пор\",\"пора\",\"после\",\"последний\",\"посмотреть\",\"посреди\",\"потом\",\"потому\",\"почему\",\"почти\",\"правда\",\"прекрасно\",\"при\",\"про\",\"просто\",\"против\",\"процентов\",\"пятнадцатый\",\"пятнадцать\",\"пятый\",\"пять\",\"работа\",\"работать\",\"раз\",\"разве\",\"рано\",\"раньше\",\"ребенок\",\"решить\",\"россия\",\"рука\",\"русский\",\"ряд\",\"рядом\",\"с\",\"сам\",\"сама\",\"сами\",\"самим\",\"самими\",\"самих\",\"само\",\"самого\",\"самой\",\"самом\",\"самому\",\"саму\",\"самый\",\"свет\",\"свое\",\"своего\",\"своей\",\"свои\",\"своих\",\"свой\",\"свою\",\"сделать\",\"сеаой\",\"себе\",\"себя\",\"сегодня\",\"седьмой\",\"сейчас\",\"семнадцатый\",\"семнадцать\",\"семь\",\"сидеть\",\"сила\",\"сих\",\"сказал\",\"сказала\",\"сказать\",\"сколько\",\"слишком\",\"слово\",\"случай\",\"смотреть\",\"сначала\",\"снова\",\"со\",\"собой\",\"собою\",\"советский\",\"совсем\",\"спасибо\",\"спросить\",\"сразу\",\"стал\",\"старый\",\"стать\",\"стол\",\"сторона\",\"стоять\",\"страна\",\"суть\",\"считать\",\"т\",\"та\",\"так\",\"такая\",\"также\",\"таки\",\"такие\",\"такое\",\"такой\",\"там\",\"твой\",\"твоя\",\"твоё\",\"те\",\"тебе\",\"тебя\",\"тем\",\"теми\",\"теперь\",\"тех\",\"то\",\"тобой\",\"тобою\",\"товарищ\",\"тогда\",\"того\",\"тоже\",\"только\",\"том\",\"тому\",\"тот\",\"тою\",\"третий\",\"три\",\"тринадцатый\",\"тринадцать\",\"ту\",\"туда\",\"тут\",\"ты\",\"тысяч\",\"у\",\"увидеть\",\"уж\",\"уже\",\"улица\",\"уметь\",\"утро\",\"хороший\",\"хорошо\",\"хотеть\",\"хоть\",\"хотя\",\"хочешь\",\"час\",\"часто\",\"часть\",\"чаще\",\"чего\",\"человек\",\"чем\",\"чему\",\"через\",\"четвертый\",\"четыре\",\"четырнадцатый\",\"четырнадцать\",\"что\",\"чтоб\",\"чтобы\",\"чуть\",\"шестнадцатый\",\"шестнадцать\",\"шестой\",\"шесть\",\"эта\",\"эти\",\"этим\",\"этими\",\"этих\",\"это\",\"этого\",\"этой\",\"этом\",\"этому\",\"этот\",\"эту\",\"я\"],\"sv\":[\"aderton\",\"adertonde\",\"adjö\",\"aldrig\",\"alla\",\"allas\",\"allt\",\"alltid\",\"alltså\",\"andra\",\"andras\",\"annan\",\"annat\",\"artonde\",\"artonn\",\"att\",\"av\",\"bakom\",\"bara\",\"behöva\",\"behövas\",\"behövde\",\"behövt\",\"beslut\",\"beslutat\",\"beslutit\",\"bland\",\"blev\",\"bli\",\"blir\",\"blivit\",\"bort\",\"borta\",\"bra\",\"bäst\",\"bättre\",\"båda\",\"bådas\",\"dag\",\"dagar\",\"dagarna\",\"dagen\",\"de\",\"del\",\"delen\",\"dem\",\"den\",\"denna\",\"deras\",\"dess\",\"dessa\",\"det\",\"detta\",\"dig\",\"din\",\"dina\",\"dit\",\"ditt\",\"dock\",\"du\",\"där\",\"därför\",\"då\",\"efter\",\"eftersom\",\"ej\",\"elfte\",\"eller\",\"elva\",\"en\",\"enkel\",\"enkelt\",\"enkla\",\"enligt\",\"er\",\"era\",\"ert\",\"ett\",\"ettusen\",\"fanns\",\"fem\",\"femte\",\"femtio\",\"femtionde\",\"femton\",\"femtonde\",\"fick\",\"fin\",\"finnas\",\"finns\",\"fjorton\",\"fjortonde\",\"fjärde\",\"fler\",\"flera\",\"flesta\",\"fram\",\"framför\",\"från\",\"fyra\",\"fyrtio\",\"fyrtionde\",\"få\",\"får\",\"fått\",\"följande\",\"för\",\"före\",\"förlåt\",\"förra\",\"första\",\"genast\",\"genom\",\"gick\",\"gjorde\",\"gjort\",\"god\",\"goda\",\"godare\",\"godast\",\"gott\",\"gälla\",\"gäller\",\"gällt\",\"gärna\",\"gå\",\"går\",\"gått\",\"gör\",\"göra\",\"ha\",\"hade\",\"haft\",\"han\",\"hans\",\"har\",\"heller\",\"hellre\",\"helst\",\"helt\",\"henne\",\"hennes\",\"hit\",\"hon\",\"honom\",\"hundra\",\"hundraen\",\"hundraett\",\"hur\",\"här\",\"hög\",\"höger\",\"högre\",\"högst\",\"i\",\"ibland\",\"icke\",\"idag\",\"igen\",\"igår\",\"imorgon\",\"in\",\"inför\",\"inga\",\"ingen\",\"ingenting\",\"inget\",\"innan\",\"inne\",\"inom\",\"inte\",\"inuti\",\"ja\",\"jag\",\"ju\",\"jämfört\",\"kan\",\"kanske\",\"knappast\",\"kom\",\"komma\",\"kommer\",\"kommit\",\"kr\",\"kunde\",\"kunna\",\"kunnat\",\"kvar\",\"legat\",\"ligga\",\"ligger\",\"lika\",\"likställd\",\"likställda\",\"lilla\",\"lite\",\"liten\",\"litet\",\"länge\",\"längre\",\"längst\",\"lätt\",\"lättare\",\"lättast\",\"långsam\",\"långsammare\",\"långsammast\",\"långsamt\",\"långt\",\"man\",\"med\",\"mellan\",\"men\",\"mer\",\"mera\",\"mest\",\"mig\",\"min\",\"mina\",\"mindre\",\"minst\",\"mitt\",\"mittemot\",\"mot\",\"mycket\",\"många\",\"måste\",\"möjlig\",\"möjligen\",\"möjligt\",\"möjligtvis\",\"ned\",\"nederst\",\"nedersta\",\"nedre\",\"nej\",\"ner\",\"ni\",\"nio\",\"nionde\",\"nittio\",\"nittionde\",\"nitton\",\"nittonde\",\"nog\",\"noll\",\"nr\",\"nu\",\"nummer\",\"när\",\"nästa\",\"någon\",\"någonting\",\"något\",\"några\",\"nödvändig\",\"nödvändiga\",\"nödvändigt\",\"nödvändigtvis\",\"och\",\"också\",\"ofta\",\"oftast\",\"olika\",\"olikt\",\"om\",\"oss\",\"på\",\"rakt\",\"redan\",\"rätt\",\"sade\",\"sagt\",\"samma\",\"sedan\",\"senare\",\"senast\",\"sent\",\"sex\",\"sextio\",\"sextionde\",\"sexton\",\"sextonde\",\"sig\",\"sin\",\"sina\",\"sist\",\"sista\",\"siste\",\"sitt\",\"sitta\",\"sju\",\"sjunde\",\"sjuttio\",\"sjuttionde\",\"sjutton\",\"sjuttonde\",\"själv\",\"sjätte\",\"ska\",\"skall\",\"skulle\",\"slutligen\",\"små\",\"smått\",\"snart\",\"som\",\"stor\",\"stora\",\"stort\",\"större\",\"störst\",\"säga\",\"säger\",\"sämre\",\"sämst\",\"så\",\"sådan\",\"sådana\",\"sådant\",\"tack\",\"tidig\",\"tidigare\",\"tidigast\",\"tidigt\",\"till\",\"tills\",\"tillsammans\",\"tio\",\"tionde\",\"tjugo\",\"tjugoen\",\"tjugoett\",\"tjugonde\",\"tjugotre\",\"tjugotvå\",\"tjungo\",\"tolfte\",\"tolv\",\"tre\",\"tredje\",\"trettio\",\"trettionde\",\"tretton\",\"trettonde\",\"två\",\"tvåhundra\",\"under\",\"upp\",\"ur\",\"ursäkt\",\"ut\",\"utan\",\"utanför\",\"ute\",\"vad\",\"var\",\"vara\",\"varför\",\"varifrån\",\"varit\",\"varje\",\"varken\",\"vars\",\"varsågod\",\"vart\",\"vem\",\"vems\",\"verkligen\",\"vi\",\"vid\",\"vidare\",\"viktig\",\"viktigare\",\"viktigast\",\"viktigt\",\"vilka\",\"vilkas\",\"vilken\",\"vilket\",\"vill\",\"vänster\",\"vänstra\",\"värre\",\"vår\",\"våra\",\"vårt\",\"än\",\"ännu\",\"är\",\"även\",\"åt\",\"åtminstone\",\"åtta\",\"åttio\",\"åttionde\",\"åttonde\",\"över\",\"övermorgon\",\"överst\",\"övre\"],\"tr\":[\"acaba\",\"acep\",\"adeta\",\"altmýþ\",\"altmış\",\"altý\",\"altı\",\"ama\",\"ancak\",\"arada\",\"artýk\",\"aslında\",\"aynen\",\"ayrıca\",\"az\",\"bana\",\"bari\",\"bazen\",\"bazý\",\"bazı\",\"baţka\",\"belki\",\"ben\",\"benden\",\"beni\",\"benim\",\"beri\",\"beþ\",\"beş\",\"beţ\",\"bile\",\"bin\",\"bir\",\"biraz\",\"biri\",\"birkaç\",\"birkez\",\"birçok\",\"birþey\",\"birþeyi\",\"birşey\",\"birşeyi\",\"birţey\",\"biz\",\"bizden\",\"bize\",\"bizi\",\"bizim\",\"bu\",\"buna\",\"bunda\",\"bundan\",\"bunlar\",\"bunları\",\"bunların\",\"bunu\",\"bunun\",\"burada\",\"böyle\",\"böylece\",\"bütün\",\"da\",\"daha\",\"dahi\",\"dahil\",\"daima\",\"dair\",\"dayanarak\",\"de\",\"defa\",\"deđil\",\"değil\",\"diye\",\"diđer\",\"diğer\",\"doksan\",\"dokuz\",\"dolayı\",\"dolayısıyla\",\"dört\",\"edecek\",\"eden\",\"ederek\",\"edilecek\",\"ediliyor\",\"edilmesi\",\"ediyor\",\"elli\",\"en\",\"etmesi\",\"etti\",\"ettiği\",\"ettiğini\",\"eđer\",\"eğer\",\"fakat\",\"gibi\",\"göre\",\"halbuki\",\"halen\",\"hangi\",\"hani\",\"hariç\",\"hatta\",\"hele\",\"hem\",\"henüz\",\"hep\",\"hepsi\",\"her\",\"herhangi\",\"herkes\",\"herkesin\",\"hiç\",\"hiçbir\",\"iken\",\"iki\",\"ila\",\"ile\",\"ilgili\",\"ilk\",\"illa\",\"ise\",\"itibaren\",\"itibariyle\",\"iyi\",\"iyice\",\"için\",\"işte\",\"iţte\",\"kadar\",\"kanýmca\",\"karşın\",\"katrilyon\",\"kendi\",\"kendilerine\",\"kendini\",\"kendisi\",\"kendisine\",\"kendisini\",\"kere\",\"kez\",\"keţke\",\"ki\",\"kim\",\"kimden\",\"kime\",\"kimi\",\"kimse\",\"kýrk\",\"kýsaca\",\"kırk\",\"lakin\",\"madem\",\"međer\",\"milyar\",\"milyon\",\"mu\",\"mü\",\"mý\",\"mı\",\"nasýl\",\"nasıl\",\"ne\",\"neden\",\"nedenle\",\"nerde\",\"nere\",\"nerede\",\"nereye\",\"nitekim\",\"niye\",\"niçin\",\"o\",\"olan\",\"olarak\",\"oldu\",\"olduklarını\",\"olduğu\",\"olduğunu\",\"olmadı\",\"olmadığı\",\"olmak\",\"olması\",\"olmayan\",\"olmaz\",\"olsa\",\"olsun\",\"olup\",\"olur\",\"olursa\",\"oluyor\",\"on\",\"ona\",\"ondan\",\"onlar\",\"onlardan\",\"onlari\",\"onlarýn\",\"onları\",\"onların\",\"onu\",\"onun\",\"otuz\",\"oysa\",\"pek\",\"rağmen\",\"sadece\",\"sanki\",\"sekiz\",\"seksen\",\"sen\",\"senden\",\"seni\",\"senin\",\"siz\",\"sizden\",\"sizi\",\"sizin\",\"sonra\",\"tarafından\",\"trilyon\",\"tüm\",\"var\",\"vardı\",\"ve\",\"veya\",\"veyahut\",\"ya\",\"yahut\",\"yani\",\"yapacak\",\"yapmak\",\"yaptı\",\"yaptıkları\",\"yaptığı\",\"yaptığını\",\"yapılan\",\"yapılması\",\"yapıyor\",\"yedi\",\"yerine\",\"yetmiþ\",\"yetmiş\",\"yetmiţ\",\"yine\",\"yirmi\",\"yoksa\",\"yüz\",\"zaten\",\"çok\",\"çünkü\",\"öyle\",\"üzere\",\"üç\",\"þey\",\"þeyden\",\"þeyi\",\"þeyler\",\"þu\",\"þuna\",\"þunda\",\"þundan\",\"þunu\",\"şey\",\"şeyden\",\"şeyi\",\"şeyler\",\"şu\",\"şuna\",\"şunda\",\"şundan\",\"şunları\",\"şunu\",\"şöyle\",\"ţayet\",\"ţimdi\",\"ţu\",\"ţöyle\"],\"zh\":[\"、\",\"。\",\"〈\",\"〉\",\"《\",\"》\",\"一\",\"一切\",\"一则\",\"一方面\",\"一旦\",\"一来\",\"一样\",\"一般\",\"七\",\"万一\",\"三\",\"上下\",\"不仅\",\"不但\",\"不光\",\"不单\",\"不只\",\"不如\",\"不怕\",\"不惟\",\"不成\",\"不拘\",\"不比\",\"不然\",\"不特\",\"不独\",\"不管\",\"不论\",\"不过\",\"不问\",\"与\",\"与其\",\"与否\",\"与此同时\",\"且\",\"两者\",\"个\",\"临\",\"为\",\"为了\",\"为什么\",\"为何\",\"为着\",\"乃\",\"乃至\",\"么\",\"之\",\"之一\",\"之所以\",\"之类\",\"乌乎\",\"乎\",\"乘\",\"九\",\"也\",\"也好\",\"也罢\",\"了\",\"二\",\"于\",\"于是\",\"于是乎\",\"云云\",\"五\",\"人家\",\"什么\",\"什么样\",\"从\",\"从而\",\"他\",\"他人\",\"他们\",\"以\",\"以便\",\"以免\",\"以及\",\"以至\",\"以至于\",\"以致\",\"们\",\"任\",\"任何\",\"任凭\",\"似的\",\"但\",\"但是\",\"何\",\"何况\",\"何处\",\"何时\",\"作为\",\"你\",\"你们\",\"使得\",\"例如\",\"依\",\"依照\",\"俺\",\"俺们\",\"倘\",\"倘使\",\"倘或\",\"倘然\",\"倘若\",\"借\",\"假使\",\"假如\",\"假若\",\"像\",\"八\",\"六\",\"兮\",\"关于\",\"其\",\"其一\",\"其中\",\"其二\",\"其他\",\"其余\",\"其它\",\"其次\",\"具体地说\",\"具体说来\",\"再者\",\"再说\",\"冒\",\"冲\",\"况且\",\"几\",\"几时\",\"凭\",\"凭借\",\"则\",\"别\",\"别的\",\"别说\",\"到\",\"前后\",\"前者\",\"加之\",\"即\",\"即令\",\"即使\",\"即便\",\"即或\",\"即若\",\"又\",\"及\",\"及其\",\"及至\",\"反之\",\"反过来\",\"反过来说\",\"另\",\"另一方面\",\"另外\",\"只是\",\"只有\",\"只要\",\"只限\",\"叫\",\"叮咚\",\"可\",\"可以\",\"可是\",\"可见\",\"各\",\"各个\",\"各位\",\"各种\",\"各自\",\"同\",\"同时\",\"向\",\"向着\",\"吓\",\"吗\",\"否则\",\"吧\",\"吧哒\",\"吱\",\"呀\",\"呃\",\"呕\",\"呗\",\"呜\",\"呜呼\",\"呢\",\"呵\",\"呸\",\"呼哧\",\"咋\",\"和\",\"咚\",\"咦\",\"咱\",\"咱们\",\"咳\",\"哇\",\"哈\",\"哈哈\",\"哉\",\"哎\",\"哎呀\",\"哎哟\",\"哗\",\"哟\",\"哦\",\"哩\",\"哪\",\"哪个\",\"哪些\",\"哪儿\",\"哪天\",\"哪年\",\"哪怕\",\"哪样\",\"哪边\",\"哪里\",\"哼\",\"哼唷\",\"唉\",\"啊\",\"啐\",\"啥\",\"啦\",\"啪达\",\"喂\",\"喏\",\"喔唷\",\"嗡嗡\",\"嗬\",\"嗯\",\"嗳\",\"嘎\",\"嘎登\",\"嘘\",\"嘛\",\"嘻\",\"嘿\",\"四\",\"因\",\"因为\",\"因此\",\"因而\",\"固然\",\"在\",\"在下\",\"地\",\"多\",\"多少\",\"她\",\"她们\",\"如\",\"如上所述\",\"如何\",\"如其\",\"如果\",\"如此\",\"如若\",\"宁\",\"宁可\",\"宁愿\",\"宁肯\",\"它\",\"它们\",\"对\",\"对于\",\"将\",\"尔后\",\"尚且\",\"就\",\"就是\",\"就是说\",\"尽\",\"尽管\",\"岂但\",\"己\",\"并\",\"并且\",\"开外\",\"开始\",\"归\",\"当\",\"当着\",\"彼\",\"彼此\",\"往\",\"待\",\"得\",\"怎\",\"怎么\",\"怎么办\",\"怎么样\",\"怎样\",\"总之\",\"总的来看\",\"总的来说\",\"总的说来\",\"总而言之\",\"恰恰相反\",\"您\",\"慢说\",\"我\",\"我们\",\"或\",\"或是\",\"或者\",\"所\",\"所以\",\"打\",\"把\",\"抑或\",\"拿\",\"按\",\"按照\",\"换句话说\",\"换言之\",\"据\",\"接着\",\"故\",\"故此\",\"旁人\",\"无宁\",\"无论\",\"既\",\"既是\",\"既然\",\"时候\",\"是\",\"是的\",\"替\",\"有\",\"有些\",\"有关\",\"有的\",\"望\",\"朝\",\"朝着\",\"本\",\"本着\",\"来\",\"来着\",\"极了\",\"果然\",\"果真\",\"某\",\"某个\",\"某些\",\"根据\",\"正如\",\"此\",\"此外\",\"此间\",\"毋宁\",\"每\",\"每当\",\"比\",\"比如\",\"比方\",\"沿\",\"沿着\",\"漫说\",\"焉\",\"然则\",\"然后\",\"然而\",\"照\",\"照着\",\"甚么\",\"甚而\",\"甚至\",\"用\",\"由\",\"由于\",\"由此可见\",\"的\",\"的话\",\"相对而言\",\"省得\",\"着\",\"着呢\",\"矣\",\"离\",\"第\",\"等\",\"等等\",\"管\",\"紧接着\",\"纵\",\"纵令\",\"纵使\",\"纵然\",\"经\",\"经过\",\"结果\",\"给\",\"继而\",\"综上所述\",\"罢了\",\"者\",\"而\",\"而且\",\"而况\",\"而外\",\"而已\",\"而是\",\"而言\",\"能\",\"腾\",\"自\",\"自个儿\",\"自从\",\"自各儿\",\"自家\",\"自己\",\"自身\",\"至\",\"至于\",\"若\",\"若是\",\"若非\",\"莫若\",\"虽\",\"虽则\",\"虽然\",\"虽说\",\"被\",\"要\",\"要不\",\"要不是\",\"要不然\",\"要么\",\"要是\",\"让\",\"论\",\"设使\",\"设若\",\"该\",\"诸位\",\"谁\",\"谁知\",\"赶\",\"起\",\"起见\",\"趁\",\"趁着\",\"越是\",\"跟\",\"较\",\"较之\",\"边\",\"过\",\"还是\",\"还有\",\"这\",\"这个\",\"这么\",\"这么些\",\"这么样\",\"这么点儿\",\"这些\",\"这会儿\",\"这儿\",\"这就是说\",\"这时\",\"这样\",\"这边\",\"这里\",\"进而\",\"连\",\"连同\",\"通过\",\"遵照\",\"那\",\"那个\",\"那么\",\"那么些\",\"那么样\",\"那些\",\"那会儿\",\"那儿\",\"那时\",\"那样\",\"那边\",\"那里\",\"鄙人\",\"鉴于\",\"阿\",\"除\",\"除了\",\"除此之外\",\"除非\",\"随\",\"随着\",\"零\",\"非但\",\"非徒\",\"靠\",\"顺\",\"顺着\",\"首先\",\"︿\",\"！\",\"＃\",\"＄\",\"％\",\"＆\",\"（\",\"）\",\"＊\",\"＋\",\"，\",\"０\",\"１\",\"２\",\"３\",\"４\",\"５\",\"６\",\"７\",\"８\",\"９\",\"：\",\"；\",\"＜\",\"＞\",\"？\",\"＠\",\"［\",\"］\",\"｛\",\"｜\",\"｝\",\"～\",\"￥\"],\"eo\":[\"adiaŭ\",\"ajn\",\"al\",\"ankoraŭ\",\"antaŭ\",\"aŭ\",\"bonan\",\"bonvole\",\"bonvolu\",\"bv\",\"ci\",\"cia\",\"cian\",\"cin\",\"d-ro\",\"da\",\"de\",\"dek\",\"deka\",\"do\",\"doktor'\",\"doktoro\",\"du\",\"dua\",\"dum\",\"eble\",\"ekz\",\"ekzemple\",\"en\",\"estas\",\"estis\",\"estos\",\"estu\",\"estus\",\"eĉ\",\"f-no\",\"feliĉan\",\"for\",\"fraŭlino\",\"ha\",\"havas\",\"havis\",\"havos\",\"havu\",\"havus\",\"he\",\"ho\",\"hu\",\"ili\",\"ilia\",\"ilian\",\"ilin\",\"inter\",\"io\",\"ion\",\"iu\",\"iujn\",\"iun\",\"ja\",\"jam\",\"je\",\"jes\",\"k\",\"kaj\",\"ke\",\"kio\",\"kion\",\"kiu\",\"kiujn\",\"kiun\",\"kvankam\",\"kvar\",\"kvara\",\"kvazaŭ\",\"kvin\",\"kvina\",\"la\",\"li\",\"lia\",\"lian\",\"lin\",\"malantaŭ\",\"male\",\"malgraŭ\",\"mem\",\"mi\",\"mia\",\"mian\",\"min\",\"minus\",\"naŭ\",\"naŭa\",\"ne\",\"nek\",\"nenio\",\"nenion\",\"neniu\",\"neniun\",\"nepre\",\"ni\",\"nia\",\"nian\",\"nin\",\"nu\",\"nun\",\"nur\",\"ok\",\"oka\",\"oni\",\"onia\",\"onian\",\"onin\",\"plej\",\"pli\",\"plu\",\"plus\",\"por\",\"post\",\"preter\",\"s-no\",\"s-ro\",\"se\",\"sed\",\"sep\",\"sepa\",\"ses\",\"sesa\",\"si\",\"sia\",\"sian\",\"sin\",\"sinjor'\",\"sinjorino\",\"sinjoro\",\"sub\",\"super\",\"supren\",\"sur\",\"tamen\",\"tio\",\"tion\",\"tiu\",\"tiujn\",\"tiun\",\"tra\",\"tri\",\"tria\",\"tuj\",\"tute\",\"unu\",\"unua\",\"ve\",\"verŝajne\",\"vi\",\"via\",\"vian\",\"vin\",\"ĉi\",\"ĉio\",\"ĉion\",\"ĉiu\",\"ĉiujn\",\"ĉiun\",\"ĉu\",\"ĝi\",\"ĝia\",\"ĝian\",\"ĝin\",\"ĝis\",\"ĵus\",\"ŝi\",\"ŝia\",\"ŝin\"],\"he\":[\"אבל\",\"או\",\"אולי\",\"אותה\",\"אותו\",\"אותי\",\"אותך\",\"אותם\",\"אותן\",\"אותנו\",\"אז\",\"אחר\",\"אחרות\",\"אחרי\",\"אחריכן\",\"אחרים\",\"אחרת\",\"אי\",\"איזה\",\"איך\",\"אין\",\"איפה\",\"איתה\",\"איתו\",\"איתי\",\"איתך\",\"איתכם\",\"איתכן\",\"איתם\",\"איתן\",\"איתנו\",\"אך\",\"אל\",\"אלה\",\"אלו\",\"אם\",\"אנחנו\",\"אני\",\"אס\",\"אף\",\"אצל\",\"אשר\",\"את\",\"אתה\",\"אתכם\",\"אתכן\",\"אתם\",\"אתן\",\"באיזומידה\",\"באמצע\",\"באמצעות\",\"בגלל\",\"בין\",\"בלי\",\"במידה\",\"במקוםשבו\",\"ברם\",\"בשביל\",\"בשעהש\",\"בתוך\",\"גם\",\"דרך\",\"הוא\",\"היא\",\"היה\",\"היכן\",\"היתה\",\"היתי\",\"הם\",\"הן\",\"הנה\",\"הסיבהשבגללה\",\"הרי\",\"ואילו\",\"ואת\",\"זאת\",\"זה\",\"זות\",\"יהיה\",\"יוכל\",\"יוכלו\",\"יותרמדי\",\"יכול\",\"יכולה\",\"יכולות\",\"יכולים\",\"יכל\",\"יכלה\",\"יכלו\",\"יש\",\"כאן\",\"כאשר\",\"כולם\",\"כולן\",\"כזה\",\"כי\",\"כיצד\",\"כך\",\"ככה\",\"כל\",\"כלל\",\"כמו\",\"כן\",\"כפי\",\"כש\",\"לא\",\"לאו\",\"לאיזותכלית\",\"לאן\",\"לבין\",\"לה\",\"להיות\",\"להם\",\"להן\",\"לו\",\"לי\",\"לכם\",\"לכן\",\"למה\",\"למטה\",\"למעלה\",\"למקוםשבו\",\"למרות\",\"לנו\",\"לעבר\",\"לעיכן\",\"לפיכך\",\"לפני\",\"מאד\",\"מאחורי\",\"מאיזוסיבה\",\"מאין\",\"מאיפה\",\"מבלי\",\"מבעד\",\"מדוע\",\"מה\",\"מהיכן\",\"מול\",\"מחוץ\",\"מי\",\"מכאן\",\"מכיוון\",\"מלבד\",\"מן\",\"מנין\",\"מסוגל\",\"מעט\",\"מעטים\",\"מעל\",\"מצד\",\"מקוםבו\",\"מתחת\",\"מתי\",\"נגד\",\"נגר\",\"נו\",\"עד\",\"עז\",\"על\",\"עלי\",\"עליה\",\"עליהם\",\"עליהן\",\"עליו\",\"עליך\",\"עליכם\",\"עלינו\",\"עם\",\"עצמה\",\"עצמהם\",\"עצמהן\",\"עצמו\",\"עצמי\",\"עצמם\",\"עצמן\",\"עצמנו\",\"פה\",\"רק\",\"שוב\",\"של\",\"שלה\",\"שלהם\",\"שלהן\",\"שלו\",\"שלי\",\"שלך\",\"שלכה\",\"שלכם\",\"שלכן\",\"שלנו\",\"שם\",\"תהיה\",\"תחת\"],\"la\":[\"a\",\"ab\",\"ac\",\"ad\",\"at\",\"atque\",\"aut\",\"autem\",\"cum\",\"de\",\"dum\",\"e\",\"erant\",\"erat\",\"est\",\"et\",\"etiam\",\"ex\",\"haec\",\"hic\",\"hoc\",\"in\",\"ita\",\"me\",\"nec\",\"neque\",\"non\",\"per\",\"qua\",\"quae\",\"quam\",\"qui\",\"quibus\",\"quidem\",\"quo\",\"quod\",\"re\",\"rebus\",\"rem\",\"res\",\"sed\",\"si\",\"sic\",\"sunt\",\"tamen\",\"tandem\",\"te\",\"ut\",\"vel\"],\"sk\":[\"a\",\"aby\",\"aj\",\"ako\",\"aký\",\"ale\",\"alebo\",\"ani\",\"avšak\",\"ba\",\"bez\",\"buï\",\"cez\",\"do\",\"ho\",\"hoci\",\"i\",\"ich\",\"im\",\"ja\",\"jeho\",\"jej\",\"jemu\",\"ju\",\"k\",\"kam\",\"kde\",\"kedže\",\"keï\",\"kto\",\"ktorý\",\"ku\",\"lebo\",\"ma\",\"mi\",\"mne\",\"mnou\",\"mu\",\"my\",\"mòa\",\"môj\",\"na\",\"nad\",\"nami\",\"neho\",\"nej\",\"nemu\",\"nich\",\"nielen\",\"nim\",\"no\",\"nám\",\"nás\",\"náš\",\"ním\",\"o\",\"od\",\"on\",\"ona\",\"oni\",\"ono\",\"ony\",\"po\",\"pod\",\"pre\",\"pred\",\"pri\",\"s\",\"sa\",\"seba\",\"sem\",\"so\",\"svoj\",\"taký\",\"tam\",\"teba\",\"tebe\",\"tebou\",\"tej\",\"ten\",\"ti\",\"tie\",\"to\",\"toho\",\"tomu\",\"tou\",\"tvoj\",\"ty\",\"tá\",\"tým\",\"v\",\"vami\",\"veï\",\"vo\",\"vy\",\"vám\",\"vás\",\"váš\",\"však\",\"z\",\"za\",\"zo\",\"a\",\"èi\",\"èo\",\"èí\",\"òom\",\"òou\",\"òu\",\"že\"],\"sl\":[\"a\",\"ali\",\"april\",\"avgust\",\"b\",\"bi\",\"bil\",\"bila\",\"bile\",\"bili\",\"bilo\",\"biti\",\"blizu\",\"bo\",\"bodo\",\"bojo\",\"bolj\",\"bom\",\"bomo\",\"boste\",\"bova\",\"boš\",\"brez\",\"c\",\"cel\",\"cela\",\"celi\",\"celo\",\"d\",\"da\",\"daleč\",\"dan\",\"danes\",\"datum\",\"december\",\"deset\",\"deseta\",\"deseti\",\"deseto\",\"devet\",\"deveta\",\"deveti\",\"deveto\",\"do\",\"dober\",\"dobra\",\"dobri\",\"dobro\",\"dokler\",\"dol\",\"dolg\",\"dolga\",\"dolgi\",\"dovolj\",\"drug\",\"druga\",\"drugi\",\"drugo\",\"dva\",\"dve\",\"e\",\"eden\",\"en\",\"ena\",\"ene\",\"eni\",\"enkrat\",\"eno\",\"etc.\",\"f\",\"februar\",\"g\",\"g.\",\"ga\",\"ga.\",\"gor\",\"gospa\",\"gospod\",\"h\",\"halo\",\"i\",\"idr.\",\"ii\",\"iii\",\"in\",\"iv\",\"ix\",\"iz\",\"j\",\"januar\",\"jaz\",\"je\",\"ji\",\"jih\",\"jim\",\"jo\",\"julij\",\"junij\",\"jutri\",\"k\",\"kadarkoli\",\"kaj\",\"kajti\",\"kako\",\"kakor\",\"kamor\",\"kamorkoli\",\"kar\",\"karkoli\",\"katerikoli\",\"kdaj\",\"kdo\",\"kdorkoli\",\"ker\",\"ki\",\"kje\",\"kjer\",\"kjerkoli\",\"ko\",\"koder\",\"koderkoli\",\"koga\",\"komu\",\"kot\",\"kratek\",\"kratka\",\"kratke\",\"kratki\",\"l\",\"lahka\",\"lahke\",\"lahki\",\"lahko\",\"le\",\"lep\",\"lepa\",\"lepe\",\"lepi\",\"lepo\",\"leto\",\"m\",\"maj\",\"majhen\",\"majhna\",\"majhni\",\"malce\",\"malo\",\"manj\",\"marec\",\"me\",\"med\",\"medtem\",\"mene\",\"mesec\",\"mi\",\"midva\",\"midve\",\"mnogo\",\"moj\",\"moja\",\"moje\",\"mora\",\"morajo\",\"moram\",\"moramo\",\"morate\",\"moraš\",\"morem\",\"mu\",\"n\",\"na\",\"nad\",\"naj\",\"najina\",\"najino\",\"najmanj\",\"naju\",\"največ\",\"nam\",\"narobe\",\"nas\",\"nato\",\"nazaj\",\"naš\",\"naša\",\"naše\",\"ne\",\"nedavno\",\"nedelja\",\"nek\",\"neka\",\"nekaj\",\"nekatere\",\"nekateri\",\"nekatero\",\"nekdo\",\"neke\",\"nekega\",\"neki\",\"nekje\",\"neko\",\"nekoga\",\"nekoč\",\"ni\",\"nikamor\",\"nikdar\",\"nikjer\",\"nikoli\",\"nič\",\"nje\",\"njega\",\"njegov\",\"njegova\",\"njegovo\",\"njej\",\"njemu\",\"njen\",\"njena\",\"njeno\",\"nji\",\"njih\",\"njihov\",\"njihova\",\"njihovo\",\"njiju\",\"njim\",\"njo\",\"njun\",\"njuna\",\"njuno\",\"no\",\"nocoj\",\"november\",\"npr.\",\"o\",\"ob\",\"oba\",\"obe\",\"oboje\",\"od\",\"odprt\",\"odprta\",\"odprti\",\"okoli\",\"oktober\",\"on\",\"onadva\",\"one\",\"oni\",\"onidve\",\"osem\",\"osma\",\"osmi\",\"osmo\",\"oz.\",\"p\",\"pa\",\"pet\",\"peta\",\"petek\",\"peti\",\"peto\",\"po\",\"pod\",\"pogosto\",\"poleg\",\"poln\",\"polna\",\"polni\",\"polno\",\"ponavadi\",\"ponedeljek\",\"ponovno\",\"potem\",\"povsod\",\"pozdravljen\",\"pozdravljeni\",\"prav\",\"prava\",\"prave\",\"pravi\",\"pravo\",\"prazen\",\"prazna\",\"prazno\",\"prbl.\",\"precej\",\"pred\",\"prej\",\"preko\",\"pri\",\"pribl.\",\"približno\",\"primer\",\"pripravljen\",\"pripravljena\",\"pripravljeni\",\"proti\",\"prva\",\"prvi\",\"prvo\",\"r\",\"ravno\",\"redko\",\"res\",\"reč\",\"s\",\"saj\",\"sam\",\"sama\",\"same\",\"sami\",\"samo\",\"se\",\"sebe\",\"sebi\",\"sedaj\",\"sedem\",\"sedma\",\"sedmi\",\"sedmo\",\"sem\",\"september\",\"seveda\",\"si\",\"sicer\",\"skoraj\",\"skozi\",\"slab\",\"smo\",\"so\",\"sobota\",\"spet\",\"sreda\",\"srednja\",\"srednji\",\"sta\",\"ste\",\"stran\",\"stvar\",\"sva\",\"t\",\"ta\",\"tak\",\"taka\",\"take\",\"taki\",\"tako\",\"takoj\",\"tam\",\"te\",\"tebe\",\"tebi\",\"tega\",\"težak\",\"težka\",\"težki\",\"težko\",\"ti\",\"tista\",\"tiste\",\"tisti\",\"tisto\",\"tj.\",\"tja\",\"to\",\"toda\",\"torek\",\"tretja\",\"tretje\",\"tretji\",\"tri\",\"tu\",\"tudi\",\"tukaj\",\"tvoj\",\"tvoja\",\"tvoje\",\"u\",\"v\",\"vaju\",\"vam\",\"vas\",\"vaš\",\"vaša\",\"vaše\",\"ve\",\"vedno\",\"velik\",\"velika\",\"veliki\",\"veliko\",\"vendar\",\"ves\",\"več\",\"vi\",\"vidva\",\"vii\",\"viii\",\"visok\",\"visoka\",\"visoke\",\"visoki\",\"vsa\",\"vsaj\",\"vsak\",\"vsaka\",\"vsakdo\",\"vsake\",\"vsaki\",\"vsakomur\",\"vse\",\"vsega\",\"vsi\",\"vso\",\"včasih\",\"včeraj\",\"x\",\"z\",\"za\",\"zadaj\",\"zadnji\",\"zakaj\",\"zaprta\",\"zaprti\",\"zaprto\",\"zdaj\",\"zelo\",\"zunaj\",\"č\",\"če\",\"često\",\"četrta\",\"četrtek\",\"četrti\",\"četrto\",\"čez\",\"čigav\",\"š\",\"šest\",\"šesta\",\"šesti\",\"šesto\",\"štiri\",\"ž\",\"že\"],\"br\":[\"a\",\"ainda\",\"alem\",\"ambas\",\"ambos\",\"antes\",\"ao\",\"aonde\",\"aos\",\"apos\",\"aquele\",\"aqueles\",\"as\",\"assim\",\"com\",\"como\",\"contra\",\"contudo\",\"cuja\",\"cujas\",\"cujo\",\"cujos\",\"da\",\"das\",\"de\",\"dela\",\"dele\",\"deles\",\"demais\",\"depois\",\"desde\",\"desta\",\"deste\",\"dispoe\",\"dispoem\",\"diversa\",\"diversas\",\"diversos\",\"do\",\"dos\",\"durante\",\"e\",\"ela\",\"elas\",\"ele\",\"eles\",\"em\",\"entao\",\"entre\",\"essa\",\"essas\",\"esse\",\"esses\",\"esta\",\"estas\",\"este\",\"estes\",\"ha\",\"isso\",\"isto\",\"logo\",\"mais\",\"mas\",\"mediante\",\"menos\",\"mesma\",\"mesmas\",\"mesmo\",\"mesmos\",\"na\",\"nao\",\"nas\",\"nem\",\"nesse\",\"neste\",\"nos\",\"o\",\"os\",\"ou\",\"outra\",\"outras\",\"outro\",\"outros\",\"pelas\",\"pelo\",\"pelos\",\"perante\",\"pois\",\"por\",\"porque\",\"portanto\",\"propios\",\"proprio\",\"quais\",\"qual\",\"qualquer\",\"quando\",\"quanto\",\"que\",\"quem\",\"quer\",\"se\",\"seja\",\"sem\",\"sendo\",\"seu\",\"seus\",\"sob\",\"sobre\",\"sua\",\"suas\",\"tal\",\"tambem\",\"teu\",\"teus\",\"toda\",\"todas\",\"todo\",\"todos\",\"tua\",\"tuas\",\"tudo\",\"um\",\"uma\",\"umas\",\"uns\"],\"ca\":[\"a\",\"abans\",\"ací\",\"ah\",\"així\",\"això\",\"al\",\"aleshores\",\"algun\",\"alguna\",\"algunes\",\"alguns\",\"alhora\",\"allà\",\"allí\",\"allò\",\"als\",\"altra\",\"altre\",\"altres\",\"amb\",\"ambdues\",\"ambdós\",\"apa\",\"aquell\",\"aquella\",\"aquelles\",\"aquells\",\"aquest\",\"aquesta\",\"aquestes\",\"aquests\",\"aquí\",\"baix\",\"cada\",\"cadascuna\",\"cadascunes\",\"cadascuns\",\"cadascú\",\"com\",\"contra\",\"d'un\",\"d'una\",\"d'unes\",\"d'uns\",\"dalt\",\"de\",\"del\",\"dels\",\"des\",\"després\",\"dins\",\"dintre\",\"donat\",\"doncs\",\"durant\",\"e\",\"eh\",\"el\",\"els\",\"em\",\"en\",\"encara\",\"ens\",\"entre\",\"eren\",\"es\",\"esta\",\"estaven\",\"esteu\",\"està\",\"estàvem\",\"estàveu\",\"et\",\"etc\",\"ets\",\"fins\",\"fora\",\"gairebé\",\"ha\",\"han\",\"has\",\"havia\",\"he\",\"hem\",\"heu\",\"hi\",\"ho\",\"i\",\"igual\",\"iguals\",\"ja\",\"l'hi\",\"la\",\"les\",\"li\",\"li'n\",\"llavors\",\"m'he\",\"ma\",\"mal\",\"malgrat\",\"mateix\",\"mateixa\",\"mateixes\",\"mateixos\",\"me\",\"mentre\",\"meu\",\"meus\",\"meva\",\"meves\",\"molt\",\"molta\",\"moltes\",\"molts\",\"mon\",\"mons\",\"més\",\"n'he\",\"n'hi\",\"ne\",\"ni\",\"no\",\"nogensmenys\",\"només\",\"nosaltres\",\"nostra\",\"nostre\",\"nostres\",\"o\",\"oh\",\"oi\",\"on\",\"pas\",\"pel\",\"pels\",\"per\",\"perquè\",\"però\",\"poc\",\"poca\",\"pocs\",\"poques\",\"potser\",\"propi\",\"qual\",\"quals\",\"quan\",\"quant\",\"que\",\"quelcom\",\"qui\",\"quin\",\"quina\",\"quines\",\"quins\",\"què\",\"s'ha\",\"s'han\",\"sa\",\"semblant\",\"semblants\",\"ses\",\"seu\",\"seus\",\"seva\",\"seves\",\"si\",\"sobre\",\"sobretot\",\"solament\",\"sols\",\"son\",\"sons\",\"sota\",\"sou\",\"sóc\",\"són\",\"t'ha\",\"t'han\",\"t'he\",\"ta\",\"tal\",\"també\",\"tampoc\",\"tan\",\"tant\",\"tanta\",\"tantes\",\"teu\",\"teus\",\"teva\",\"teves\",\"ton\",\"tons\",\"tot\",\"tota\",\"totes\",\"tots\",\"un\",\"una\",\"unes\",\"uns\",\"us\",\"va\",\"vaig\",\"vam\",\"van\",\"vas\",\"veu\",\"vosaltres\",\"vostra\",\"vostre\",\"vostres\",\"érem\",\"éreu\",\"és\"],\"cs\":[\"a\",\"aby\",\"ahoj\",\"aj\",\"ale\",\"anebo\",\"ani\",\"ano\",\"asi\",\"aspoň\",\"atd\",\"atp\",\"ačkoli\",\"až\",\"bez\",\"beze\",\"blízko\",\"bohužel\",\"brzo\",\"bude\",\"budem\",\"budeme\",\"budete\",\"budeš\",\"budou\",\"budu\",\"by\",\"byl\",\"byla\",\"byli\",\"bylo\",\"byly\",\"bys\",\"být\",\"během\",\"chce\",\"chceme\",\"chcete\",\"chceš\",\"chci\",\"chtít\",\"chtějí\",\"chut'\",\"chuti\",\"co\",\"což\",\"cz\",\"daleko\",\"další\",\"den\",\"deset\",\"devatenáct\",\"devět\",\"dnes\",\"do\",\"dobrý\",\"docela\",\"dva\",\"dvacet\",\"dvanáct\",\"dvě\",\"dál\",\"dále\",\"děkovat\",\"děkujeme\",\"děkuji\",\"ho\",\"hodně\",\"i\",\"jak\",\"jakmile\",\"jako\",\"jakož\",\"jde\",\"je\",\"jeden\",\"jedenáct\",\"jedna\",\"jedno\",\"jednou\",\"jedou\",\"jeho\",\"jehož\",\"jej\",\"jejich\",\"její\",\"jelikož\",\"jemu\",\"jen\",\"jenom\",\"jestli\",\"jestliže\",\"ještě\",\"jež\",\"ji\",\"jich\",\"jimi\",\"jinak\",\"jiné\",\"již\",\"jsem\",\"jseš\",\"jsi\",\"jsme\",\"jsou\",\"jste\",\"já\",\"jí\",\"jím\",\"jíž\",\"k\",\"kam\",\"kde\",\"kdo\",\"kdy\",\"když\",\"ke\",\"kolik\",\"kromě\",\"kterou\",\"která\",\"které\",\"který\",\"kteří\",\"kvůli\",\"mají\",\"mezi\",\"mi\",\"mne\",\"mnou\",\"mně\",\"moc\",\"mohl\",\"mohou\",\"moje\",\"moji\",\"možná\",\"musí\",\"my\",\"má\",\"málo\",\"mám\",\"máme\",\"máte\",\"máš\",\"mé\",\"mí\",\"mít\",\"mě\",\"můj\",\"může\",\"na\",\"nad\",\"nade\",\"napište\",\"naproti\",\"načež\",\"naše\",\"naši\",\"ne\",\"nebo\",\"nebyl\",\"nebyla\",\"nebyli\",\"nebyly\",\"nedělají\",\"nedělá\",\"nedělám\",\"neděláme\",\"neděláte\",\"neděláš\",\"neg\",\"nejsi\",\"nejsou\",\"nemají\",\"nemáme\",\"nemáte\",\"neměl\",\"není\",\"nestačí\",\"nevadí\",\"než\",\"nic\",\"nich\",\"nimi\",\"nové\",\"nový\",\"nula\",\"nám\",\"námi\",\"nás\",\"náš\",\"ním\",\"ně\",\"něco\",\"nějak\",\"někde\",\"někdo\",\"němu\",\"němuž\",\"o\",\"od\",\"ode\",\"on\",\"ona\",\"oni\",\"ono\",\"ony\",\"osm\",\"osmnáct\",\"pak\",\"patnáct\",\"po\",\"pod\",\"podle\",\"pokud\",\"potom\",\"pouze\",\"pozdě\",\"pořád\",\"pravé\",\"pro\",\"prostě\",\"prosím\",\"proti\",\"proto\",\"protože\",\"proč\",\"první\",\"pta\",\"pět\",\"před\",\"přes\",\"přese\",\"při\",\"přičemž\",\"re\",\"rovně\",\"s\",\"se\",\"sedm\",\"sedmnáct\",\"si\",\"skoro\",\"smí\",\"smějí\",\"snad\",\"spolu\",\"sta\",\"sto\",\"strana\",\"sté\",\"své\",\"svých\",\"svým\",\"svými\",\"ta\",\"tady\",\"tak\",\"takhle\",\"taky\",\"také\",\"takže\",\"tam\",\"tamhle\",\"tamhleto\",\"tamto\",\"tato\",\"tebe\",\"tebou\",\"ted'\",\"tedy\",\"ten\",\"tento\",\"teto\",\"ti\",\"tipy\",\"tisíc\",\"tisíce\",\"to\",\"tobě\",\"tohle\",\"toho\",\"tohoto\",\"tom\",\"tomto\",\"tomu\",\"tomuto\",\"toto\",\"trošku\",\"tu\",\"tuto\",\"tvoje\",\"tvá\",\"tvé\",\"tvůj\",\"ty\",\"tyto\",\"téma\",\"tím\",\"tímto\",\"tě\",\"těm\",\"těmu\",\"třeba\",\"tři\",\"třináct\",\"u\",\"určitě\",\"už\",\"v\",\"vaše\",\"vaši\",\"ve\",\"vedle\",\"večer\",\"vlastně\",\"vy\",\"vám\",\"vámi\",\"vás\",\"váš\",\"více\",\"však\",\"všechno\",\"všichni\",\"vůbec\",\"vždy\",\"z\",\"za\",\"zatímco\",\"zač\",\"zda\",\"zde\",\"ze\",\"zprávy\",\"zpět\",\"čau\",\"či\",\"článku\",\"články\",\"čtrnáct\",\"čtyři\",\"šest\",\"šestnáct\",\"že\"],\"el\":[\"αλλα\",\"αν\",\"αντι\",\"απο\",\"αυτα\",\"αυτεσ\",\"αυτη\",\"αυτο\",\"αυτοι\",\"αυτοσ\",\"αυτουσ\",\"αυτων\",\"για\",\"δε\",\"δεν\",\"εαν\",\"ειμαι\",\"ειμαστε\",\"ειναι\",\"εισαι\",\"ειστε\",\"εκεινα\",\"εκεινεσ\",\"εκεινη\",\"εκεινο\",\"εκεινοι\",\"εκεινοσ\",\"εκεινουσ\",\"εκεινων\",\"ενω\",\"επι\",\"η\",\"θα\",\"ισωσ\",\"κ\",\"και\",\"κατα\",\"κι\",\"μα\",\"με\",\"μετα\",\"μη\",\"μην\",\"να\",\"ο\",\"οι\",\"ομωσ\",\"οπωσ\",\"οσο\",\"οτι\",\"παρα\",\"ποια\",\"ποιεσ\",\"ποιο\",\"ποιοι\",\"ποιοσ\",\"ποιουσ\",\"ποιων\",\"που\",\"προσ\",\"πωσ\",\"σε\",\"στη\",\"στην\",\"στο\",\"στον\",\"τα\",\"την\",\"τησ\",\"το\",\"τον\",\"τοτε\",\"του\",\"των\",\"ωσ\"],\"eu\":[\"al\",\"anitz\",\"arabera\",\"asko\",\"baina\",\"bat\",\"batean\",\"batek\",\"bati\",\"batzuei\",\"batzuek\",\"batzuetan\",\"batzuk\",\"bera\",\"beraiek\",\"berau\",\"berauek\",\"bere\",\"berori\",\"beroriek\",\"beste\",\"bezala\",\"da\",\"dago\",\"dira\",\"ditu\",\"du\",\"dute\",\"edo\",\"egin\",\"ere\",\"eta\",\"eurak\",\"ez\",\"gainera\",\"gu\",\"gutxi\",\"guzti\",\"haiei\",\"haiek\",\"haietan\",\"hainbeste\",\"hala\",\"han\",\"handik\",\"hango\",\"hara\",\"hari\",\"hark\",\"hartan\",\"hau\",\"hauei\",\"hauek\",\"hauetan\",\"hemen\",\"hemendik\",\"hemengo\",\"hi\",\"hona\",\"honek\",\"honela\",\"honetan\",\"honi\",\"hor\",\"hori\",\"horiei\",\"horiek\",\"horietan\",\"horko\",\"horra\",\"horrek\",\"horrela\",\"horretan\",\"horri\",\"hortik\",\"hura\",\"izan\",\"ni\",\"noiz\",\"nola\",\"non\",\"nondik\",\"nongo\",\"nor\",\"nora\",\"ze\",\"zein\",\"zen\",\"zenbait\",\"zenbat\",\"zer\",\"zergatik\",\"ziren\",\"zituen\",\"zu\",\"zuek\",\"zuen\",\"zuten\"],\"ga\":[\"a\",\"ach\",\"ag\",\"agus\",\"an\",\"aon\",\"ar\",\"arna\",\"as\",\"b'\",\"ba\",\"beirt\",\"bhúr\",\"caoga\",\"ceathair\",\"ceathrar\",\"chomh\",\"chtó\",\"chuig\",\"chun\",\"cois\",\"céad\",\"cúig\",\"cúigear\",\"d'\",\"daichead\",\"dar\",\"de\",\"deich\",\"deichniúr\",\"den\",\"dhá\",\"do\",\"don\",\"dtí\",\"dá\",\"dár\",\"dó\",\"faoi\",\"faoin\",\"faoina\",\"faoinár\",\"fara\",\"fiche\",\"gach\",\"gan\",\"go\",\"gur\",\"haon\",\"hocht\",\"i\",\"iad\",\"idir\",\"in\",\"ina\",\"ins\",\"inár\",\"is\",\"le\",\"leis\",\"lena\",\"lenár\",\"m'\",\"mar\",\"mo\",\"mé\",\"na\",\"nach\",\"naoi\",\"naonúr\",\"ná\",\"ní\",\"níor\",\"nó\",\"nócha\",\"ocht\",\"ochtar\",\"os\",\"roimh\",\"sa\",\"seacht\",\"seachtar\",\"seachtó\",\"seasca\",\"seisear\",\"siad\",\"sibh\",\"sinn\",\"sna\",\"sé\",\"sí\",\"tar\",\"thar\",\"thú\",\"triúr\",\"trí\",\"trína\",\"trínár\",\"tríocha\",\"tú\",\"um\",\"ár\",\"é\",\"éis\",\"í\",\"ó\",\"ón\",\"óna\",\"ónár\"],\"gl\":[\"a\",\"alí\",\"ao\",\"aos\",\"aquel\",\"aquela\",\"aquelas\",\"aqueles\",\"aquilo\",\"aquí\",\"as\",\"así\",\"aínda\",\"ben\",\"cando\",\"che\",\"co\",\"coa\",\"coas\",\"comigo\",\"con\",\"connosco\",\"contigo\",\"convosco\",\"cos\",\"cun\",\"cunha\",\"cunhas\",\"cuns\",\"da\",\"dalgunha\",\"dalgunhas\",\"dalgún\",\"dalgúns\",\"das\",\"de\",\"del\",\"dela\",\"delas\",\"deles\",\"desde\",\"deste\",\"do\",\"dos\",\"dun\",\"dunha\",\"dunhas\",\"duns\",\"e\",\"el\",\"ela\",\"elas\",\"eles\",\"en\",\"era\",\"eran\",\"esa\",\"esas\",\"ese\",\"eses\",\"esta\",\"estaba\",\"estar\",\"este\",\"estes\",\"estiven\",\"estou\",\"está\",\"están\",\"eu\",\"facer\",\"foi\",\"foron\",\"fun\",\"había\",\"hai\",\"iso\",\"isto\",\"la\",\"las\",\"lle\",\"lles\",\"lo\",\"los\",\"mais\",\"me\",\"meu\",\"meus\",\"min\",\"miña\",\"miñas\",\"moi\",\"na\",\"nas\",\"neste\",\"nin\",\"no\",\"non\",\"nos\",\"nosa\",\"nosas\",\"noso\",\"nosos\",\"nun\",\"nunha\",\"nunhas\",\"nuns\",\"nós\",\"o\",\"os\",\"ou\",\"para\",\"pero\",\"pode\",\"pois\",\"pola\",\"polas\",\"polo\",\"polos\",\"por\",\"que\",\"se\",\"senón\",\"ser\",\"seu\",\"seus\",\"sexa\",\"sido\",\"sobre\",\"súa\",\"súas\",\"tamén\",\"tan\",\"te\",\"ten\",\"ter\",\"teu\",\"teus\",\"teñen\",\"teño\",\"ti\",\"tido\",\"tiven\",\"tiña\",\"túa\",\"túas\",\"un\",\"unha\",\"unhas\",\"uns\",\"vos\",\"vosa\",\"vosas\",\"voso\",\"vosos\",\"vós\",\"á\",\"é\",\"ó\",\"ós\"],\"hy\":[\"այդ\",\"այլ\",\"այն\",\"այս\",\"դու\",\"դուք\",\"եմ\",\"են\",\"ենք\",\"ես\",\"եք\",\"է\",\"էի\",\"էին\",\"էինք\",\"էիր\",\"էիք\",\"էր\",\"ըստ\",\"թ\",\"ի\",\"ին\",\"իսկ\",\"իր\",\"կամ\",\"համար\",\"հետ\",\"հետո\",\"մենք\",\"մեջ\",\"մի\",\"ն\",\"նա\",\"նաև\",\"նրա\",\"նրանք\",\"որ\",\"որը\",\"որոնք\",\"որպես\",\"ու\",\"ում\",\"պիտի\",\"վրա\",\"և\"],\"id\":[\"ada\",\"adalah\",\"adanya\",\"adapun\",\"agak\",\"agaknya\",\"agar\",\"akan\",\"akankah\",\"akhirnya\",\"aku\",\"akulah\",\"amat\",\"amatlah\",\"anda\",\"andalah\",\"antar\",\"antara\",\"antaranya\",\"apa\",\"apaan\",\"apabila\",\"apakah\",\"apalagi\",\"apatah\",\"atau\",\"ataukah\",\"ataupun\",\"bagai\",\"bagaikan\",\"bagaimana\",\"bagaimanakah\",\"bagaimanapun\",\"bagi\",\"bahkan\",\"bahwa\",\"bahwasanya\",\"banyak\",\"beberapa\",\"begini\",\"beginian\",\"beginikah\",\"beginilah\",\"begitu\",\"begitukah\",\"begitulah\",\"begitupun\",\"belum\",\"belumlah\",\"berapa\",\"berapakah\",\"berapalah\",\"berapapun\",\"bermacam\",\"bersama\",\"betulkah\",\"biasa\",\"biasanya\",\"bila\",\"bilakah\",\"bisa\",\"bisakah\",\"boleh\",\"bolehkah\",\"bolehlah\",\"buat\",\"bukan\",\"bukankah\",\"bukanlah\",\"bukannya\",\"cuma\",\"dahulu\",\"dalam\",\"dan\",\"dapat\",\"dari\",\"daripada\",\"dekat\",\"demi\",\"demikian\",\"demikianlah\",\"dengan\",\"depan\",\"di\",\"dia\",\"dialah\",\"diantara\",\"diantaranya\",\"dikarenakan\",\"dini\",\"diri\",\"dirinya\",\"disini\",\"disinilah\",\"dong\",\"dulu\",\"enggak\",\"enggaknya\",\"entah\",\"entahlah\",\"hal\",\"hampir\",\"hanya\",\"hanyalah\",\"harus\",\"haruslah\",\"harusnya\",\"hendak\",\"hendaklah\",\"hendaknya\",\"hingga\",\"ia\",\"ialah\",\"ibarat\",\"ingin\",\"inginkah\",\"inginkan\",\"ini\",\"inikah\",\"inilah\",\"itu\",\"itukah\",\"itulah\",\"jangan\",\"jangankan\",\"janganlah\",\"jika\",\"jikalau\",\"juga\",\"justru\",\"kala\",\"kalau\",\"kalaulah\",\"kalaupun\",\"kalian\",\"kami\",\"kamilah\",\"kamu\",\"kamulah\",\"kan\",\"kapan\",\"kapankah\",\"kapanpun\",\"karena\",\"karenanya\",\"ke\",\"kecil\",\"kemudian\",\"kenapa\",\"kepada\",\"kepadanya\",\"ketika\",\"khususnya\",\"kini\",\"kinilah\",\"kiranya\",\"kita\",\"kitalah\",\"kok\",\"lagi\",\"lagian\",\"lah\",\"lain\",\"lainnya\",\"lalu\",\"lama\",\"lamanya\",\"lebih\",\"macam\",\"maka\",\"makanya\",\"makin\",\"malah\",\"malahan\",\"mampu\",\"mampukah\",\"mana\",\"manakala\",\"manalagi\",\"masih\",\"masihkah\",\"masing\",\"mau\",\"maupun\",\"melainkan\",\"melalui\",\"memang\",\"mengapa\",\"mereka\",\"merekalah\",\"merupakan\",\"meski\",\"meskipun\",\"mungkin\",\"mungkinkah\",\"nah\",\"namun\",\"nanti\",\"nantinya\",\"nyaris\",\"oleh\",\"olehnya\",\"pada\",\"padahal\",\"padanya\",\"paling\",\"pantas\",\"para\",\"pasti\",\"pastilah\",\"per\",\"percuma\",\"pernah\",\"pula\",\"pun\",\"rupanya\",\"saat\",\"saatnya\",\"saja\",\"sajalah\",\"saling\",\"sama\",\"sambil\",\"sampai\",\"sana\",\"sangat\",\"sangatlah\",\"saya\",\"sayalah\",\"se\",\"sebab\",\"sebabnya\",\"sebagai\",\"sebagaimana\",\"sebagainya\",\"sebaliknya\",\"sebanyak\",\"sebegini\",\"sebegitu\",\"sebelum\",\"sebelumnya\",\"sebenarnya\",\"seberapa\",\"sebetulnya\",\"sebisanya\",\"sebuah\",\"sedang\",\"sedangkan\",\"sedemikian\",\"sedikit\",\"sedikitnya\",\"segala\",\"segalanya\",\"segera\",\"seharusnya\",\"sehingga\",\"sejak\",\"sejenak\",\"sekali\",\"sekalian\",\"sekaligus\",\"sekalipun\",\"sekarang\",\"seketika\",\"sekiranya\",\"sekitar\",\"sekitarnya\",\"sela\",\"selagi\",\"selain\",\"selaku\",\"selalu\",\"selama\",\"selamanya\",\"seluruh\",\"seluruhnya\",\"semacam\",\"semakin\",\"semasih\",\"semaunya\",\"sementara\",\"sempat\",\"semua\",\"semuanya\",\"semula\",\"sendiri\",\"sendirinya\",\"seolah\",\"seorang\",\"sepanjang\",\"sepantasnya\",\"sepantasnyalah\",\"seperti\",\"sepertinya\",\"sering\",\"seringnya\",\"serta\",\"serupa\",\"sesaat\",\"sesama\",\"sesegera\",\"sesekali\",\"seseorang\",\"sesuatu\",\"sesuatunya\",\"sesudah\",\"sesudahnya\",\"setelah\",\"seterusnya\",\"setiap\",\"setidaknya\",\"sewaktu\",\"siapa\",\"siapakah\",\"siapapun\",\"sini\",\"sinilah\",\"suatu\",\"sudah\",\"sudahkah\",\"sudahlah\",\"supaya\",\"tadi\",\"tadinya\",\"tak\",\"tanpa\",\"tapi\",\"telah\",\"tentang\",\"tentu\",\"tentulah\",\"tentunya\",\"terdiri\",\"terhadap\",\"terhadapnya\",\"terlalu\",\"terlebih\",\"tersebut\",\"tersebutlah\",\"tertentu\",\"tetapi\",\"tiap\",\"tidak\",\"tidakkah\",\"tidaklah\",\"toh\",\"waduh\",\"wah\",\"wahai\",\"walau\",\"walaupun\",\"wong\",\"yaitu\",\"yakni\",\"yang\"],\"ja\":[\"あっ\",\"あり\",\"ある\",\"い\",\"いう\",\"いる\",\"う\",\"うち\",\"お\",\"および\",\"おり\",\"か\",\"かつて\",\"から\",\"が\",\"き\",\"ここ\",\"こと\",\"この\",\"これ\",\"これら\",\"さ\",\"さらに\",\"し\",\"しかし\",\"する\",\"ず\",\"せ\",\"せる\",\"そして\",\"その\",\"その他\",\"その後\",\"それ\",\"それぞれ\",\"た\",\"ただし\",\"たち\",\"ため\",\"たり\",\"だ\",\"だっ\",\"つ\",\"て\",\"で\",\"でき\",\"できる\",\"です\",\"では\",\"でも\",\"と\",\"という\",\"といった\",\"とき\",\"ところ\",\"として\",\"とともに\",\"とも\",\"と共に\",\"な\",\"ない\",\"なお\",\"なかっ\",\"ながら\",\"なく\",\"なっ\",\"など\",\"なら\",\"なり\",\"なる\",\"に\",\"において\",\"における\",\"について\",\"にて\",\"によって\",\"により\",\"による\",\"に対して\",\"に対する\",\"に関する\",\"の\",\"ので\",\"のみ\",\"は\",\"ば\",\"へ\",\"ほか\",\"ほとんど\",\"ほど\",\"ます\",\"また\",\"または\",\"まで\",\"も\",\"もの\",\"ものの\",\"や\",\"よう\",\"より\",\"ら\",\"られ\",\"られる\",\"れ\",\"れる\",\"を\",\"ん\",\"及び\",\"特に\"],\"lv\":[\"aiz\",\"ap\",\"apakš\",\"apakšpus\",\"ar\",\"arī\",\"augšpus\",\"bet\",\"bez\",\"bija\",\"biji\",\"biju\",\"bijām\",\"bijāt\",\"būs\",\"būsi\",\"būsiet\",\"būsim\",\"būt\",\"būšu\",\"caur\",\"diemžēl\",\"diezin\",\"droši\",\"dēļ\",\"esam\",\"esat\",\"esi\",\"esmu\",\"gan\",\"gar\",\"iekam\",\"iekams\",\"iekām\",\"iekāms\",\"iekš\",\"iekšpus\",\"ik\",\"ir\",\"it\",\"itin\",\"iz\",\"ja\",\"jau\",\"jeb\",\"jebšu\",\"jel\",\"jo\",\"jā\",\"ka\",\"kamēr\",\"kaut\",\"kolīdz\",\"kopš\",\"kā\",\"kļuva\",\"kļuvi\",\"kļuvu\",\"kļuvām\",\"kļuvāt\",\"kļūs\",\"kļūsi\",\"kļūsiet\",\"kļūsim\",\"kļūst\",\"kļūstam\",\"kļūstat\",\"kļūsti\",\"kļūstu\",\"kļūt\",\"kļūšu\",\"labad\",\"lai\",\"lejpus\",\"līdz\",\"līdzko\",\"ne\",\"nebūt\",\"nedz\",\"nekā\",\"nevis\",\"nezin\",\"no\",\"nu\",\"nē\",\"otrpus\",\"pa\",\"par\",\"pat\",\"pie\",\"pirms\",\"pret\",\"priekš\",\"pār\",\"pēc\",\"starp\",\"tad\",\"tak\",\"tapi\",\"taps\",\"tapsi\",\"tapsiet\",\"tapsim\",\"tapt\",\"tapāt\",\"tapšu\",\"taču\",\"te\",\"tiec\",\"tiek\",\"tiekam\",\"tiekat\",\"tieku\",\"tik\",\"tika\",\"tikai\",\"tiki\",\"tikko\",\"tiklab\",\"tiklīdz\",\"tiks\",\"tiksiet\",\"tiksim\",\"tikt\",\"tiku\",\"tikvien\",\"tikām\",\"tikāt\",\"tikšu\",\"tomēr\",\"topat\",\"turpretim\",\"turpretī\",\"tā\",\"tādēļ\",\"tālab\",\"tāpēc\",\"un\",\"uz\",\"vai\",\"var\",\"varat\",\"varēja\",\"varēji\",\"varēju\",\"varējām\",\"varējāt\",\"varēs\",\"varēsi\",\"varēsiet\",\"varēsim\",\"varēt\",\"varēšu\",\"vien\",\"virs\",\"virspus\",\"vis\",\"viņpus\",\"zem\",\"ārpus\",\"šaipus\"],\"th\":[\"กล่าว\",\"กว่า\",\"กัน\",\"กับ\",\"การ\",\"ก็\",\"ก่อน\",\"ขณะ\",\"ขอ\",\"ของ\",\"ขึ้น\",\"คง\",\"ครั้ง\",\"ความ\",\"คือ\",\"จะ\",\"จัด\",\"จาก\",\"จึง\",\"ช่วง\",\"ซึ่ง\",\"ดัง\",\"ด้วย\",\"ด้าน\",\"ตั้ง\",\"ตั้งแต่\",\"ตาม\",\"ต่อ\",\"ต่าง\",\"ต่างๆ\",\"ต้อง\",\"ถึง\",\"ถูก\",\"ถ้า\",\"ทั้ง\",\"ทั้งนี้\",\"ทาง\",\"ที่\",\"ที่สุด\",\"ทุก\",\"ทํา\",\"ทําให้\",\"นอกจาก\",\"นัก\",\"นั้น\",\"นี้\",\"น่า\",\"นํา\",\"บาง\",\"ผล\",\"ผ่าน\",\"พบ\",\"พร้อม\",\"มา\",\"มาก\",\"มี\",\"ยัง\",\"รวม\",\"ระหว่าง\",\"รับ\",\"ราย\",\"ร่วม\",\"ลง\",\"วัน\",\"ว่า\",\"สุด\",\"ส่ง\",\"ส่วน\",\"สําหรับ\",\"หนึ่ง\",\"หรือ\",\"หลัง\",\"หลังจาก\",\"หลาย\",\"หาก\",\"อยาก\",\"อยู่\",\"อย่าง\",\"ออก\",\"อะไร\",\"อาจ\",\"อีก\",\"เขา\",\"เข้า\",\"เคย\",\"เฉพาะ\",\"เช่น\",\"เดียว\",\"เดียวกัน\",\"เนื่องจาก\",\"เปิด\",\"เปิดเผย\",\"เป็น\",\"เป็นการ\",\"เพราะ\",\"เพื่อ\",\"เมื่อ\",\"เรา\",\"เริ่ม\",\"เลย\",\"เห็น\",\"เอง\",\"แต่\",\"แบบ\",\"แรก\",\"และ\",\"แล้ว\",\"แห่ง\",\"โดย\",\"ใน\",\"ให้\",\"ได้\",\"ไป\",\"ไม่\",\"ไว้\"],\"ar\":[\"،\",\"أ\",\"ا\",\"اثر\",\"اجل\",\"احد\",\"اخرى\",\"اذا\",\"اربعة\",\"اطار\",\"اعادة\",\"اعلنت\",\"اف\",\"اكثر\",\"اكد\",\"الا\",\"الاخيرة\",\"الان\",\"الاول\",\"الاولى\",\"التى\",\"التي\",\"الثاني\",\"الثانية\",\"الذاتي\",\"الذى\",\"الذي\",\"الذين\",\"السابق\",\"الف\",\"الماضي\",\"المقبل\",\"الوقت\",\"الى\",\"اليوم\",\"اما\",\"امام\",\"امس\",\"ان\",\"انه\",\"انها\",\"او\",\"اول\",\"اي\",\"ايار\",\"ايام\",\"ايضا\",\"ب\",\"باسم\",\"بان\",\"برس\",\"بسبب\",\"بشكل\",\"بعد\",\"بعض\",\"بن\",\"به\",\"بها\",\"بين\",\"تم\",\"ثلاثة\",\"ثم\",\"جميع\",\"حاليا\",\"حتى\",\"حوالى\",\"حول\",\"حيث\",\"حين\",\"خلال\",\"دون\",\"ذلك\",\"زيارة\",\"سنة\",\"سنوات\",\"شخصا\",\"صباح\",\"صفر\",\"ضد\",\"ضمن\",\"عام\",\"عاما\",\"عدة\",\"عدد\",\"عدم\",\"عشر\",\"عشرة\",\"على\",\"عليه\",\"عليها\",\"عن\",\"عند\",\"عندما\",\"غدا\",\"غير\",\"ـ\",\"ف\",\"فان\",\"فى\",\"في\",\"فيه\",\"فيها\",\"قال\",\"قبل\",\"قد\",\"قوة\",\"كان\",\"كانت\",\"كل\",\"كلم\",\"كما\",\"لا\",\"لدى\",\"لقاء\",\"لكن\",\"للامم\",\"لم\",\"لن\",\"له\",\"لها\",\"لوكالة\",\"ما\",\"مايو\",\"مساء\",\"مع\",\"مقابل\",\"مليار\",\"مليون\",\"من\",\"منذ\",\"منها\",\"نحو\",\"نفسه\",\"نهاية\",\"هذا\",\"هذه\",\"هناك\",\"هو\",\"هي\",\"و\",\"و6\",\"واحد\",\"واضاف\",\"واضافت\",\"واكد\",\"وان\",\"واوضح\",\"وفي\",\"وقال\",\"وقالت\",\"وقد\",\"وقف\",\"وكان\",\"وكانت\",\"ولا\",\"ولم\",\"ومن\",\"وهو\",\"وهي\",\"يكون\",\"يمكن\",\"يوم\"],\"bg\":[\"а\",\"автентичен\",\"аз\",\"ако\",\"ала\",\"бе\",\"без\",\"беше\",\"би\",\"бивш\",\"бивша\",\"бившо\",\"бил\",\"била\",\"били\",\"било\",\"благодаря\",\"близо\",\"бъдат\",\"бъде\",\"бяха\",\"в\",\"вас\",\"ваш\",\"ваша\",\"вероятно\",\"вече\",\"взема\",\"ви\",\"вие\",\"винаги\",\"внимава\",\"време\",\"все\",\"всеки\",\"всички\",\"всичко\",\"всяка\",\"във\",\"въпреки\",\"върху\",\"г\",\"ги\",\"главен\",\"главна\",\"главно\",\"глас\",\"го\",\"година\",\"години\",\"годишен\",\"д\",\"да\",\"дали\",\"два\",\"двама\",\"двамата\",\"две\",\"двете\",\"ден\",\"днес\",\"дни\",\"до\",\"добра\",\"добре\",\"добро\",\"добър\",\"докато\",\"докога\",\"дори\",\"досега\",\"доста\",\"друг\",\"друга\",\"други\",\"е\",\"евтин\",\"едва\",\"един\",\"една\",\"еднаква\",\"еднакви\",\"еднакъв\",\"едно\",\"екип\",\"ето\",\"живот\",\"за\",\"забавям\",\"зад\",\"заедно\",\"заради\",\"засега\",\"заспал\",\"затова\",\"защо\",\"защото\",\"и\",\"из\",\"или\",\"им\",\"има\",\"имат\",\"иска\",\"й\",\"каза\",\"как\",\"каква\",\"какво\",\"както\",\"какъв\",\"като\",\"кога\",\"когато\",\"което\",\"които\",\"кой\",\"който\",\"колко\",\"която\",\"къде\",\"където\",\"към\",\"лесен\",\"лесно\",\"ли\",\"лош\",\"м\",\"май\",\"малко\",\"ме\",\"между\",\"мек\",\"мен\",\"месец\",\"ми\",\"много\",\"мнозина\",\"мога\",\"могат\",\"може\",\"мокър\",\"моля\",\"момента\",\"му\",\"н\",\"на\",\"над\",\"назад\",\"най\",\"направи\",\"напред\",\"например\",\"нас\",\"не\",\"него\",\"нещо\",\"нея\",\"ни\",\"ние\",\"никой\",\"нито\",\"нищо\",\"но\",\"нов\",\"нова\",\"нови\",\"новина\",\"някои\",\"някой\",\"няколко\",\"няма\",\"обаче\",\"около\",\"освен\",\"особено\",\"от\",\"отгоре\",\"отново\",\"още\",\"пак\",\"по\",\"повече\",\"повечето\",\"под\",\"поне\",\"поради\",\"после\",\"почти\",\"прави\",\"пред\",\"преди\",\"през\",\"при\",\"пък\",\"първата\",\"първи\",\"първо\",\"пъти\",\"равен\",\"равна\",\"с\",\"са\",\"сам\",\"само\",\"се\",\"сега\",\"си\",\"син\",\"скоро\",\"след\",\"следващ\",\"сме\",\"смях\",\"според\",\"сред\",\"срещу\",\"сте\",\"съм\",\"със\",\"също\",\"т\",\"т.н.\",\"тази\",\"така\",\"такива\",\"такъв\",\"там\",\"твой\",\"те\",\"тези\",\"ти\",\"то\",\"това\",\"тогава\",\"този\",\"той\",\"толкова\",\"точно\",\"три\",\"трябва\",\"тук\",\"тъй\",\"тя\",\"тях\",\"у\",\"утре\",\"харесва\",\"хиляди\",\"ч\",\"часа\",\"че\",\"често\",\"чрез\",\"ще\",\"щом\",\"юмрук\",\"я\",\"як\"],\"bn\":[\"অনেক\",\"অন্য\",\"অবশ্য\",\"আগে\",\"আছে\",\"আজ\",\"আবার\",\"আমরা\",\"আমাদের\",\"আর\",\"ই\",\"উত্তর\",\"উপর\",\"উপরে\",\"এ\",\"এই\",\"এক্\",\"এখন\",\"এত\",\"এব\",\"এমন\",\"এমনি\",\"এর\",\"এস\",\"এসে\",\"ও\",\"ওই\",\"কমনে\",\"করা\",\"করে\",\"কাছে\",\"কাজ\",\"কাজে\",\"কারণ\",\"কি\",\"কিছু\",\"কে\",\"কেউ\",\"কেখা\",\"কেন\",\"কোটি\",\"কোনো\",\"কয়েক\",\"খুব\",\"গিয়ে\",\"গেল\",\"চার\",\"চালু\",\"চেষ্টা\",\"ছিল\",\"জানা\",\"জ্নজন\",\"টি\",\"তখন\",\"তবে\",\"তা\",\"তাই\",\"তো\",\"থাকা\",\"থেকে\",\"দিন\",\"দু\",\"দুই\",\"দেওয়া\",\"ধামার\",\"নতুন\",\"না\",\"নাগাদ\",\"নিয়ে\",\"নেওয়া\",\"নয়\",\"পর\",\"পরে\",\"পাচ\",\"পি\",\"পেয়্র্\",\"প্রতি\",\"প্রথম\",\"প্রযন্ত\",\"প্রাথমিক\",\"প্রায়\",\"বক্তব্য\",\"বন\",\"বলা\",\"বলে\",\"বলেন\",\"বহু\",\"বা\",\"বি\",\"বিভিন্ন\",\"বেশ\",\"বেশি\",\"মতো\",\"মধ্যে\",\"মনে\",\"যখন\",\"যদি\",\"যা\",\"যাওয়া\",\"যে\",\"র\",\"রকম\",\"লক্ষ\",\"শুধু\",\"শুরু\",\"সঙ্গে\",\"সব\",\"সহ\",\"সাধারণ\",\"সামনে\",\"সি\",\"সে\",\"সেই\",\"হতে\",\"হাজার\",\"হয়\"],\"fa\":[\"آباد\",\"آره\",\"آری\",\"آمد\",\"آمده\",\"آن\",\"آنان\",\"آنجا\",\"آنكه\",\"آنها\",\"آنچه\",\"آورد\",\"آورده\",\"آيد\",\"آیا\",\"اثرِ\",\"از\",\"است\",\"استفاده\",\"اش\",\"اكنون\",\"البته\",\"البتّه\",\"ام\",\"اما\",\"امروز\",\"امسال\",\"اند\",\"انکه\",\"او\",\"اول\",\"اي\",\"ايشان\",\"ايم\",\"اين\",\"اينكه\",\"اگر\",\"با\",\"بار\",\"بارة\",\"باره\",\"باشد\",\"باشند\",\"باشيم\",\"بالا\",\"بالایِ\",\"بايد\",\"بدون\",\"بر\",\"برابرِ\",\"براساس\",\"براي\",\"برایِ\",\"برخوردار\",\"برخي\",\"برداري\",\"بروز\",\"بسيار\",\"بسياري\",\"بعد\",\"بعری\",\"بعضي\",\"بلكه\",\"بله\",\"بلکه\",\"بلی\",\"بنابراين\",\"بندي\",\"به\",\"بهترين\",\"بود\",\"بودن\",\"بودند\",\"بوده\",\"بي\",\"بيست\",\"بيش\",\"بيشتر\",\"بيشتري\",\"بين\",\"بی\",\"بیرونِ\",\"تا\",\"تازه\",\"تاكنون\",\"تان\",\"تحت\",\"تر\",\"ترين\",\"تمام\",\"تمامي\",\"تنها\",\"تواند\",\"توانند\",\"توسط\",\"تولِ\",\"تویِ\",\"جا\",\"جاي\",\"جايي\",\"جدا\",\"جديد\",\"جريان\",\"جز\",\"جلوگيري\",\"جلویِ\",\"حتي\",\"حدودِ\",\"حق\",\"خارجِ\",\"خدمات\",\"خواست\",\"خواهد\",\"خواهند\",\"خواهيم\",\"خود\",\"خويش\",\"خیاه\",\"داد\",\"دادن\",\"دادند\",\"داده\",\"دارد\",\"دارند\",\"داريم\",\"داشت\",\"داشتن\",\"داشتند\",\"داشته\",\"دانست\",\"دانند\",\"در\",\"درباره\",\"دنبالِ\",\"ده\",\"دهد\",\"دهند\",\"دو\",\"دوم\",\"ديده\",\"ديروز\",\"ديگر\",\"ديگران\",\"ديگري\",\"دیگر\",\"را\",\"راه\",\"رفت\",\"رفته\",\"روب\",\"روزهاي\",\"روي\",\"رویِ\",\"ريزي\",\"زياد\",\"زير\",\"زيرا\",\"زیرِ\",\"سابق\",\"ساخته\",\"سازي\",\"سراسر\",\"سریِ\",\"سعي\",\"سمتِ\",\"سوم\",\"سوي\",\"سویِ\",\"سپس\",\"شان\",\"شايد\",\"شد\",\"شدن\",\"شدند\",\"شده\",\"شش\",\"شما\",\"شناسي\",\"شود\",\"شوند\",\"صورت\",\"ضدِّ\",\"ضمن\",\"طبقِ\",\"طريق\",\"طور\",\"طي\",\"عقبِ\",\"علّتِ\",\"عنوانِ\",\"غير\",\"فقط\",\"فكر\",\"فوق\",\"قابل\",\"قبل\",\"قصدِ\",\"كرد\",\"كردم\",\"كردن\",\"كردند\",\"كرده\",\"كسي\",\"كل\",\"كمتر\",\"كند\",\"كنم\",\"كنند\",\"كنيد\",\"كنيم\",\"كه\",\"لطفاً\",\"ما\",\"مان\",\"مانند\",\"مانندِ\",\"مثل\",\"مثلِ\",\"مختلف\",\"مدّتی\",\"مردم\",\"مرسی\",\"مقابل\",\"من\",\"مورد\",\"مي\",\"ميليارد\",\"ميليون\",\"مگر\",\"ناشي\",\"نام\",\"نبايد\",\"نبود\",\"نخست\",\"نخستين\",\"نخواهد\",\"ندارد\",\"ندارند\",\"نداشته\",\"نزديك\",\"نزدِ\",\"نزدیکِ\",\"نشان\",\"نشده\",\"نظير\",\"نكرده\",\"نمايد\",\"نمي\",\"نه\",\"نوعي\",\"نيز\",\"نيست\",\"ها\",\"هاي\",\"هايي\",\"هر\",\"هرگز\",\"هزار\",\"هست\",\"هستند\",\"هستيم\",\"هفت\",\"هم\",\"همان\",\"همه\",\"همواره\",\"همين\",\"همچنان\",\"همچنين\",\"همچون\",\"همین\",\"هنوز\",\"هنگام\",\"هنگامِ\",\"هنگامی\",\"هيچ\",\"هیچ\",\"و\",\"وسطِ\",\"وقتي\",\"وقتیکه\",\"ولی\",\"وي\",\"وگو\",\"يا\",\"يابد\",\"يك\",\"يكديگر\",\"يكي\",\"ّه\",\"پاعینِ\",\"پس\",\"پنج\",\"پيش\",\"پیش\",\"پیشِ\",\"چرا\",\"چطور\",\"چند\",\"چندین\",\"چنين\",\"چه\",\"چهار\",\"چون\",\"چيزي\",\"چگونه\",\"چیز\",\"چیزی\",\"چیست\",\"کجا\",\"کجاست\",\"کدام\",\"کس\",\"کسی\",\"کنارِ\",\"که\",\"کَی\",\"کی\",\"گذاري\",\"گذاشته\",\"گردد\",\"گرفت\",\"گرفته\",\"گروهي\",\"گفت\",\"گفته\",\"گويد\",\"گويند\",\"گيرد\",\"گيري\",\"یا\",\"یک\"],\"hi\":[\"अंदर\",\"अत\",\"अदि\",\"अप\",\"अपना\",\"अपनि\",\"अपनी\",\"अपने\",\"अभि\",\"अभी\",\"आदि\",\"आप\",\"इंहिं\",\"इंहें\",\"इंहों\",\"इतयादि\",\"इत्यादि\",\"इन\",\"इनका\",\"इन्हीं\",\"इन्हें\",\"इन्हों\",\"इस\",\"इसका\",\"इसकि\",\"इसकी\",\"इसके\",\"इसमें\",\"इसि\",\"इसी\",\"इसे\",\"उंहिं\",\"उंहें\",\"उंहों\",\"उन\",\"उनका\",\"उनकि\",\"उनकी\",\"उनके\",\"उनको\",\"उन्हीं\",\"उन्हें\",\"उन्हों\",\"उस\",\"उसके\",\"उसि\",\"उसी\",\"उसे\",\"एक\",\"एवं\",\"एस\",\"एसे\",\"ऐसे\",\"ओर\",\"और\",\"कइ\",\"कई\",\"कर\",\"करता\",\"करते\",\"करना\",\"करने\",\"करें\",\"कहते\",\"कहा\",\"का\",\"काफि\",\"काफ़ी\",\"कि\",\"किंहें\",\"किंहों\",\"कितना\",\"किन्हें\",\"किन्हों\",\"किया\",\"किर\",\"किस\",\"किसि\",\"किसी\",\"किसे\",\"की\",\"कुछ\",\"कुल\",\"के\",\"को\",\"कोइ\",\"कोई\",\"कोन\",\"कोनसा\",\"कौन\",\"कौनसा\",\"गया\",\"घर\",\"जब\",\"जहाँ\",\"जहां\",\"जा\",\"जिंहें\",\"जिंहों\",\"जितना\",\"जिधर\",\"जिन\",\"जिन्हें\",\"जिन्हों\",\"जिस\",\"जिसे\",\"जीधर\",\"जेसा\",\"जेसे\",\"जैसा\",\"जैसे\",\"जो\",\"तक\",\"तब\",\"तरह\",\"तिंहें\",\"तिंहों\",\"तिन\",\"तिन्हें\",\"तिन्हों\",\"तिस\",\"तिसे\",\"तो\",\"था\",\"थि\",\"थी\",\"थे\",\"दबारा\",\"दवारा\",\"दिया\",\"दुसरा\",\"दुसरे\",\"दूसरे\",\"दो\",\"द्वारा\",\"न\",\"नहिं\",\"नहीं\",\"ना\",\"निचे\",\"निहायत\",\"नीचे\",\"ने\",\"पर\",\"पहले\",\"पुरा\",\"पूरा\",\"पे\",\"फिर\",\"बनि\",\"बनी\",\"बहि\",\"बही\",\"बहुत\",\"बाद\",\"बाला\",\"बिलकुल\",\"भि\",\"भितर\",\"भी\",\"भीतर\",\"मगर\",\"मानो\",\"मे\",\"में\",\"यदि\",\"यह\",\"यहाँ\",\"यहां\",\"यहि\",\"यही\",\"या\",\"यिह\",\"ये\",\"रखें\",\"रवासा\",\"रहा\",\"रहे\",\"ऱ्वासा\",\"लिए\",\"लिये\",\"लेकिन\",\"व\",\"वगेरह\",\"वरग\",\"वर्ग\",\"वह\",\"वहाँ\",\"वहां\",\"वहिं\",\"वहीं\",\"वाले\",\"वुह\",\"वे\",\"वग़ैरह\",\"संग\",\"सकता\",\"सकते\",\"सबसे\",\"सभि\",\"सभी\",\"साथ\",\"साबुत\",\"साभ\",\"सारा\",\"से\",\"सो\",\"हि\",\"ही\",\"हुअ\",\"हुआ\",\"हुइ\",\"हुई\",\"हुए\",\"हे\",\"हें\",\"है\",\"हैं\",\"हो\",\"होता\",\"होति\",\"होती\",\"होते\",\"होना\",\"होने\"],\"mr\":[\"अधिक\",\"अनेक\",\"अशी\",\"असलयाचे\",\"असलेल्या\",\"असा\",\"असून\",\"असे\",\"आज\",\"आणि\",\"आता\",\"आपल्या\",\"आला\",\"आली\",\"आले\",\"आहे\",\"आहेत\",\"एक\",\"एका\",\"कमी\",\"करणयात\",\"करून\",\"का\",\"काम\",\"काय\",\"काही\",\"किवा\",\"की\",\"केला\",\"केली\",\"केले\",\"कोटी\",\"गेल्या\",\"घेऊन\",\"जात\",\"झाला\",\"झाली\",\"झाले\",\"झालेल्या\",\"टा\",\"डॉ\",\"तर\",\"तरी\",\"तसेच\",\"ता\",\"ती\",\"तीन\",\"ते\",\"तो\",\"त्या\",\"त्याचा\",\"त्याची\",\"त्याच्या\",\"त्याना\",\"त्यानी\",\"त्यामुळे\",\"त्री\",\"दिली\",\"दोन\",\"न\",\"नाही\",\"निर्ण्य\",\"पण\",\"पम\",\"परयतन\",\"पाटील\",\"म\",\"मात्र\",\"माहिती\",\"मी\",\"मुबी\",\"म्हणजे\",\"म्हणाले\",\"म्हणून\",\"या\",\"याचा\",\"याची\",\"याच्या\",\"याना\",\"यानी\",\"येणार\",\"येत\",\"येथील\",\"येथे\",\"लाख\",\"व\",\"व्यकत\",\"सर्व\",\"सागित्ले\",\"सुरू\",\"हजार\",\"हा\",\"ही\",\"हे\",\"होणार\",\"होत\",\"होता\",\"होती\",\"होते\"],\"ro\":[\"acea\",\"aceasta\",\"această\",\"aceea\",\"acei\",\"aceia\",\"acel\",\"acela\",\"acele\",\"acelea\",\"acest\",\"acesta\",\"aceste\",\"acestea\",\"aceşti\",\"aceştia\",\"acolo\",\"acord\",\"acum\",\"ai\",\"aia\",\"aibă\",\"aici\",\"al\",\"ale\",\"alea\",\"altceva\",\"altcineva\",\"am\",\"ar\",\"are\",\"asemenea\",\"asta\",\"astea\",\"astăzi\",\"asupra\",\"au\",\"avea\",\"avem\",\"aveţi\",\"azi\",\"aş\",\"aşadar\",\"aţi\",\"bine\",\"bucur\",\"bună\",\"ca\",\"care\",\"caut\",\"ce\",\"cel\",\"ceva\",\"chiar\",\"cinci\",\"cine\",\"cineva\",\"contra\",\"cu\",\"cum\",\"cumva\",\"curând\",\"curînd\",\"când\",\"cât\",\"câte\",\"câtva\",\"câţi\",\"cînd\",\"cît\",\"cîte\",\"cîtva\",\"cîţi\",\"că\",\"căci\",\"cărei\",\"căror\",\"cărui\",\"către\",\"da\",\"dacă\",\"dar\",\"datorită\",\"dată\",\"dau\",\"de\",\"deci\",\"deja\",\"deoarece\",\"departe\",\"deşi\",\"din\",\"dinaintea\",\"dintr-\",\"dintre\",\"doi\",\"doilea\",\"două\",\"drept\",\"după\",\"dă\",\"ea\",\"ei\",\"el\",\"ele\",\"eram\",\"este\",\"eu\",\"eşti\",\"face\",\"fata\",\"fi\",\"fie\",\"fiecare\",\"fii\",\"fim\",\"fiu\",\"fiţi\",\"frumos\",\"fără\",\"graţie\",\"halbă\",\"iar\",\"ieri\",\"la\",\"le\",\"li\",\"lor\",\"lui\",\"lângă\",\"lîngă\",\"mai\",\"mea\",\"mei\",\"mele\",\"mereu\",\"meu\",\"mi\",\"mie\",\"mine\",\"mult\",\"multă\",\"mulţi\",\"mulţumesc\",\"mâine\",\"mîine\",\"mă\",\"ne\",\"nevoie\",\"nici\",\"nicăieri\",\"nimeni\",\"nimeri\",\"nimic\",\"nişte\",\"noastre\",\"noastră\",\"noi\",\"noroc\",\"nostru\",\"nouă\",\"noştri\",\"nu\",\"opt\",\"ori\",\"oricare\",\"orice\",\"oricine\",\"oricum\",\"oricând\",\"oricât\",\"oricînd\",\"oricît\",\"oriunde\",\"patra\",\"patru\",\"patrulea\",\"pe\",\"pentru\",\"peste\",\"pic\",\"poate\",\"pot\",\"prea\",\"prima\",\"primul\",\"prin\",\"printr-\",\"puţin\",\"puţina\",\"puţină\",\"până\",\"pînă\",\"rog\",\"sa\",\"sale\",\"sau\",\"se\",\"spate\",\"spre\",\"sub\",\"sunt\",\"suntem\",\"sunteţi\",\"sută\",\"sînt\",\"sîntem\",\"sînteţi\",\"să\",\"săi\",\"său\",\"ta\",\"tale\",\"te\",\"timp\",\"tine\",\"toate\",\"toată\",\"tot\",\"totuşi\",\"toţi\",\"trei\",\"treia\",\"treilea\",\"tu\",\"tăi\",\"tău\",\"un\",\"una\",\"unde\",\"undeva\",\"unei\",\"uneia\",\"unele\",\"uneori\",\"unii\",\"unor\",\"unora\",\"unu\",\"unui\",\"unuia\",\"unul\",\"vi\",\"voastre\",\"voastră\",\"voi\",\"vostru\",\"vouă\",\"voştri\",\"vreme\",\"vreo\",\"vreun\",\"vă\",\"zece\",\"zero\",\"zi\",\"zice\",\"îi\",\"îl\",\"îmi\",\"împotriva\",\"în\",\"înainte\",\"înaintea\",\"încotro\",\"încât\",\"încît\",\"între\",\"întrucât\",\"întrucît\",\"îţi\",\"ăla\",\"ălea\",\"ăsta\",\"ăstea\",\"ăştia\",\"şapte\",\"şase\",\"şi\",\"ştiu\",\"ţi\",\"ţie\"],\"en\":[\"a\",\"a's\",\"able\",\"about\",\"above\",\"according\",\"accordingly\",\"across\",\"actually\",\"after\",\"afterwards\",\"again\",\"against\",\"ain't\",\"all\",\"allow\",\"allows\",\"almost\",\"alone\",\"along\",\"already\",\"also\",\"although\",\"always\",\"am\",\"among\",\"amongst\",\"an\",\"and\",\"another\",\"any\",\"anybody\",\"anyhow\",\"anyone\",\"anything\",\"anyway\",\"anyways\",\"anywhere\",\"apart\",\"appear\",\"appreciate\",\"appropriate\",\"are\",\"aren't\",\"around\",\"as\",\"aside\",\"ask\",\"asking\",\"associated\",\"at\",\"available\",\"away\",\"awfully\",\"b\",\"be\",\"became\",\"because\",\"become\",\"becomes\",\"becoming\",\"been\",\"before\",\"beforehand\",\"behind\",\"being\",\"believe\",\"below\",\"beside\",\"besides\",\"best\",\"better\",\"between\",\"beyond\",\"both\",\"brief\",\"but\",\"by\",\"c\",\"c'mon\",\"c's\",\"came\",\"can\",\"can't\",\"cannot\",\"cant\",\"cause\",\"causes\",\"certain\",\"certainly\",\"changes\",\"clearly\",\"co\",\"com\",\"come\",\"comes\",\"concerning\",\"consequently\",\"consider\",\"considering\",\"contain\",\"containing\",\"contains\",\"corresponding\",\"could\",\"couldn't\",\"course\",\"currently\",\"d\",\"definitely\",\"described\",\"despite\",\"did\",\"didn't\",\"different\",\"do\",\"does\",\"doesn't\",\"doing\",\"don't\",\"done\",\"down\",\"downwards\",\"during\",\"e\",\"each\",\"edu\",\"eg\",\"eight\",\"either\",\"else\",\"elsewhere\",\"enough\",\"entirely\",\"especially\",\"et\",\"etc\",\"even\",\"ever\",\"every\",\"everybody\",\"everyone\",\"everything\",\"everywhere\",\"ex\",\"exactly\",\"example\",\"except\",\"f\",\"far\",\"few\",\"fifth\",\"first\",\"five\",\"followed\",\"following\",\"follows\",\"for\",\"former\",\"formerly\",\"forth\",\"four\",\"from\",\"further\",\"furthermore\",\"g\",\"get\",\"gets\",\"getting\",\"given\",\"gives\",\"go\",\"goes\",\"going\",\"gone\",\"got\",\"gotten\",\"greetings\",\"h\",\"had\",\"hadn't\",\"happens\",\"hardly\",\"has\",\"hasn't\",\"have\",\"haven't\",\"having\",\"he\",\"he's\",\"hello\",\"help\",\"hence\",\"her\",\"here\",\"here's\",\"hereafter\",\"hereby\",\"herein\",\"hereupon\",\"hers\",\"herself\",\"hi\",\"him\",\"himself\",\"his\",\"hither\",\"hopefully\",\"how\",\"howbeit\",\"however\",\"i\",\"i'd\",\"i'll\",\"i'm\",\"i've\",\"ie\",\"if\",\"ignored\",\"immediate\",\"in\",\"inasmuch\",\"inc\",\"indeed\",\"indicate\",\"indicated\",\"indicates\",\"inner\",\"insofar\",\"instead\",\"into\",\"inward\",\"is\",\"isn't\",\"it\",\"it'd\",\"it'll\",\"it's\",\"its\",\"itself\",\"j\",\"just\",\"k\",\"keep\",\"keeps\",\"kept\",\"know\",\"known\",\"knows\",\"l\",\"last\",\"lately\",\"later\",\"latter\",\"latterly\",\"least\",\"less\",\"lest\",\"let\",\"let's\",\"like\",\"liked\",\"likely\",\"little\",\"look\",\"looking\",\"looks\",\"ltd\",\"m\",\"mainly\",\"many\",\"may\",\"maybe\",\"me\",\"mean\",\"meanwhile\",\"merely\",\"might\",\"more\",\"moreover\",\"most\",\"mostly\",\"much\",\"must\",\"my\",\"myself\",\"n\",\"name\",\"namely\",\"nd\",\"near\",\"nearly\",\"necessary\",\"need\",\"needs\",\"neither\",\"never\",\"nevertheless\",\"new\",\"next\",\"nine\",\"no\",\"nobody\",\"non\",\"none\",\"noone\",\"nor\",\"normally\",\"not\",\"nothing\",\"novel\",\"now\",\"nowhere\",\"o\",\"obviously\",\"of\",\"off\",\"often\",\"oh\",\"ok\",\"okay\",\"old\",\"on\",\"once\",\"one\",\"ones\",\"only\",\"onto\",\"or\",\"other\",\"others\",\"otherwise\",\"ought\",\"our\",\"ours\",\"ourselves\",\"out\",\"outside\",\"over\",\"overall\",\"own\",\"p\",\"particular\",\"particularly\",\"per\",\"perhaps\",\"placed\",\"please\",\"plus\",\"possible\",\"presumably\",\"probably\",\"provides\",\"q\",\"que\",\"quite\",\"qv\",\"r\",\"rather\",\"rd\",\"re\",\"really\",\"reasonably\",\"regarding\",\"regardless\",\"regards\",\"relatively\",\"respectively\",\"right\",\"s\",\"said\",\"same\",\"saw\",\"say\",\"saying\",\"says\",\"second\",\"secondly\",\"see\",\"seeing\",\"seem\",\"seemed\",\"seeming\",\"seems\",\"seen\",\"self\",\"selves\",\"sensible\",\"sent\",\"serious\",\"seriously\",\"seven\",\"several\",\"shall\",\"she\",\"should\",\"shouldn't\",\"since\",\"six\",\"so\",\"some\",\"somebody\",\"somehow\",\"someone\",\"something\",\"sometime\",\"sometimes\",\"somewhat\",\"somewhere\",\"soon\",\"sorry\",\"specified\",\"specify\",\"specifying\",\"still\",\"sub\",\"such\",\"sup\",\"sure\",\"t\",\"t's\",\"take\",\"taken\",\"tell\",\"tends\",\"th\",\"than\",\"thank\",\"thanks\",\"thanx\",\"that\",\"that's\",\"thats\",\"the\",\"their\",\"theirs\",\"them\",\"themselves\",\"then\",\"thence\",\"there\",\"there's\",\"thereafter\",\"thereby\",\"therefore\",\"therein\",\"theres\",\"thereupon\",\"these\",\"they\",\"they'd\",\"they'll\",\"they're\",\"they've\",\"think\",\"third\",\"this\",\"thorough\",\"thoroughly\",\"those\",\"though\",\"three\",\"through\",\"throughout\",\"thru\",\"thus\",\"to\",\"together\",\"too\",\"took\",\"toward\",\"towards\",\"tried\",\"tries\",\"truly\",\"try\",\"trying\",\"twice\",\"two\",\"u\",\"un\",\"under\",\"unfortunately\",\"unless\",\"unlikely\",\"until\",\"unto\",\"up\",\"upon\",\"us\",\"use\",\"used\",\"useful\",\"uses\",\"using\",\"usually\",\"uucp\",\"v\",\"value\",\"various\",\"very\",\"via\",\"viz\",\"vs\",\"w\",\"want\",\"wants\",\"was\",\"wasn't\",\"way\",\"we\",\"we'd\",\"we'll\",\"we're\",\"we've\",\"welcome\",\"well\",\"went\",\"were\",\"weren't\",\"what\",\"what's\",\"whatever\",\"when\",\"whence\",\"whenever\",\"where\",\"where's\",\"whereafter\",\"whereas\",\"whereby\",\"wherein\",\"whereupon\",\"wherever\",\"whether\",\"which\",\"while\",\"whither\",\"who\",\"who's\",\"whoever\",\"whole\",\"whom\",\"whose\",\"why\",\"will\",\"willing\",\"wish\",\"with\",\"within\",\"without\",\"won't\",\"wonder\",\"would\",\"wouldn't\",\"x\",\"y\",\"yes\",\"yet\",\"you\",\"you'd\",\"you'll\",\"you're\",\"you've\",\"your\",\"yours\",\"yourself\",\"yourselves\",\"z\",\"zero\"]}\n",
    "    stopwords_json_en = set(stopwords_json['en'])\n",
    "    stopwords_nltk_en = set(stopwords.words('english'))\n",
    "    # Combine the stopwords. Its a lot longer so I'm not printing it out...\n",
    "    stoplist_combined = set.union(stopwords_json_en, stopwords_nltk_en)\n",
    "\n",
    "    rmsw_token_words = ([word for word in token_words if word.lower() not in stoplist_combined])\n",
    "    if (verbose):\n",
    "        print('Stopwords removed:' + str(rmsw_token_words[0:20]))\n",
    "    \n",
    "    ## Fouth: remove CAP words\n",
    "    rmcap_token_words =[]\n",
    "    for word in rmsw_token_words:\n",
    "        if word.isupper():\n",
    "            rmcap_token_words.append(word.title())\n",
    "        else:\n",
    "            rmcap_token_words.append(word)\n",
    "    if (verbose):\n",
    "        print('CAPITALIZED removed:' + str(rmcap_token_words[0:20]))\n",
    "        \n",
    "     ## Fifth : Remove salutation\n",
    "    salutation = ['mr','mrs','mss','dr','phd','prof','rev', 'professor']\n",
    "    rmsalu_token_words = ([word for word in rmcap_token_words if word.lower() not in salutation])\n",
    "    if (verbose):\n",
    "        print('Salutation removed:' + str(rmsalu_token_words[0:20]))\n",
    "        \n",
    "     ## Sixth: Remove Numbers\n",
    "    rmnb_token_words = ([word for word in rmsalu_token_words if not word.isdigit()])\n",
    "    if (verbose):\n",
    "        print('Number removed: ' + str(rmnb_token_words[0:20]))\n",
    "        \n",
    "    ## define transfer tag function:\n",
    "    def transfer_tag(treebank_tag):\n",
    "        if treebank_tag.startswith('j' or 'J'):\n",
    "            return 'a'\n",
    "        elif treebank_tag.startswith('v' or 'V'):\n",
    "            return 'v'\n",
    "        elif treebank_tag.startswith('n' or 'N'):\n",
    "            return 'n'\n",
    "        elif treebank_tag.startswith('r' or 'R'):\n",
    "            return 'r'\n",
    "        else:\n",
    "            # As default pos in lemmatization is Noun\n",
    "            return 'n'\n",
    "    \n",
    "    ## Seventh: Lemmatization\n",
    "    from nltk import pos_tag\n",
    "    from nltk.stem import WordNetLemmatizer\n",
    "    wnl = WordNetLemmatizer()\n",
    "\n",
    "    lemma_words = []\n",
    "    for word, tag in nltk.pos_tag(rmnb_token_words):\n",
    "        firstletter = tag[0].lower() # -> get the first letter of tag and put them decapitalized form\n",
    "        wtag = transfer_tag(firstletter) # -> extract the word's tag (noun, verb, adverb, adjective)\n",
    "        if not wtag:\n",
    "            lemma_words.extend([word])\n",
    "        else:\n",
    "            lemma_words.extend([wnl.lemmatize(word, wtag)]) # -> get lemma for word with tag\n",
    "    if (verbose):\n",
    "        print('Lemmas : ' + str(lemma_words[0:10]))\n",
    "        \n",
    "    \n",
    "    ## RETURN\n",
    "    return lemma_words"
   ]
  },
  {
   "cell_type": "code",
   "execution_count": null,
   "metadata": {
    "ExecuteTime": {
     "end_time": "2018-09-30T15:30:50.152046Z",
     "start_time": "2018-09-30T15:30:08.259149Z"
    }
   },
   "outputs": [],
   "source": [
    "df_handle = df_raw.copy()\n",
    "[n,d] = df_handle.shape\n",
    "df_handle['Tokens'] = ['']*n\n",
    "\n",
    "for index, row in df_handle.iterrows():\n",
    "    df_handle['Tokens'].iloc[index] = convert_tokens(row['Content'],0)\n",
    "    \n",
    "df_handle.head(10)"
   ]
  },
  {
   "cell_type": "markdown",
   "metadata": {},
   "source": [
    "## Plot the Wordcloud"
   ]
  },
  {
   "cell_type": "code",
   "execution_count": null,
   "metadata": {
    "ExecuteTime": {
     "end_time": "2018-09-30T15:30:50.160652Z",
     "start_time": "2018-09-30T15:30:50.154827Z"
    }
   },
   "outputs": [],
   "source": [
    "## Wordcloud function\n",
    "def wordcloudplot(tokens):\n",
    "    # visualization by wordcloud\n",
    "    from wordcloud import WordCloud\n",
    "    import matplotlib.pyplot as plt\n",
    "\n",
    "    text2 = ' '.join(tokens)\n",
    "\n",
    "    wordcloud = WordCloud(width=1600, height=800).generate(text2)\n",
    "    plt.figure( figsize=(20,10), facecolor='k')\n",
    "    plt.imshow(wordcloud)\n",
    "    plt.axis(\"off\")\n",
    "    plt.tight_layout(pad=0)\n",
    "    plt.show()"
   ]
  },
  {
   "cell_type": "code",
   "execution_count": null,
   "metadata": {
    "ExecuteTime": {
     "end_time": "2018-09-30T15:30:53.851945Z",
     "start_time": "2018-09-30T15:30:50.164682Z"
    }
   },
   "outputs": [],
   "source": [
    "## Plot the wordcloud for HP1 Tokens\n",
    "wordcloudplot(df_handle.iloc[0]['Tokens'])"
   ]
  },
  {
   "cell_type": "markdown",
   "metadata": {},
   "source": [
    "## Top-10 Most Common Words"
   ]
  },
  {
   "cell_type": "code",
   "execution_count": null,
   "metadata": {
    "ExecuteTime": {
     "end_time": "2018-09-30T15:30:54.100343Z",
     "start_time": "2018-09-30T15:30:53.854378Z"
    }
   },
   "outputs": [],
   "source": [
    "## Find and plot 10-most common words for Harry Potter 1\n",
    "tokens = df_handle.iloc[0]['Tokens']\n",
    "word_frequency = nltk.FreqDist(tokens)\n",
    "#What are the top-10 most frequent words\n",
    "print(\"\\nMost frequent top-10 words: \", word_frequency.most_common(10))\n",
    "word_frequency.plot(10, title='top10 most common words')"
   ]
  },
  {
   "cell_type": "code",
   "execution_count": null,
   "metadata": {
    "ExecuteTime": {
     "end_time": "2018-09-30T15:30:56.086875Z",
     "start_time": "2018-09-30T15:30:54.105705Z"
    }
   },
   "outputs": [],
   "source": [
    "## Plot the wordcloud of 10-most common words\n",
    "word_frequency =  nltk.FreqDist(tokens)\n",
    "topw = [w[0]+':' + str(w[1]) for w in word_frequency.most_common(10)]\n",
    "wordcloudplot(topw)"
   ]
  },
  {
   "cell_type": "markdown",
   "metadata": {},
   "source": [
    "## Get Noun Only + Plot 10-Top Most Common Nouns"
   ]
  },
  {
   "cell_type": "code",
   "execution_count": null,
   "metadata": {
    "ExecuteTime": {
     "end_time": "2018-09-30T15:30:59.086209Z",
     "start_time": "2018-09-30T15:30:56.092727Z"
    }
   },
   "outputs": [],
   "source": [
    "# get noun for Harry Potter 1\n",
    "tokens = df_handle.iloc[0]['Tokens']\n",
    "is_noun = lambda pos: pos[:2] == 'NN'\n",
    "nouns = [word for (word, pos) in nltk.pos_tag(tokens) if is_noun(pos)] "
   ]
  },
  {
   "cell_type": "code",
   "execution_count": null,
   "metadata": {
    "ExecuteTime": {
     "end_time": "2018-09-30T15:31:00.823775Z",
     "start_time": "2018-09-30T15:30:59.089031Z"
    }
   },
   "outputs": [],
   "source": [
    "## Plot top-10 nouns\n",
    "word_frequency =  nltk.FreqDist(nouns)\n",
    "topw = [w[0]+':' + str(w[1]) for w in word_frequency.most_common(10)]\n",
    "wordcloudplot(topw)"
   ]
  },
  {
   "cell_type": "markdown",
   "metadata": {},
   "source": [
    "## Extra Tasks:"
   ]
  },
  {
   "cell_type": "markdown",
   "metadata": {},
   "source": [
    "### Get Proper Nouns"
   ]
  },
  {
   "cell_type": "code",
   "execution_count": null,
   "metadata": {
    "ExecuteTime": {
     "end_time": "2018-09-30T15:31:00.857204Z",
     "start_time": "2018-09-30T15:31:00.828007Z"
    }
   },
   "outputs": [],
   "source": [
    "import nltk\n",
    "from nameparser.parser import HumanName\n",
    "from nltk.corpus import wordnet\n",
    "\n",
    "def extract_name(text):\n",
    "    listname = []\n",
    "    for sent in nltk.sent_tokenize(text):\n",
    "        for chunk in nltk.ne_chunk(nltk.pos_tag(nltk.word_tokenize(sent))):\n",
    "            if hasattr(chunk, 'label'):\n",
    "                if(chunk.label() == 'PERSON'):\n",
    "                    listname.append(' '.join(c[0] for c in chunk.leaves()))\n",
    "                    \n",
    "    return listname"
   ]
  },
  {
   "cell_type": "code",
   "execution_count": null,
   "metadata": {
    "ExecuteTime": {
     "end_time": "2018-09-30T15:31:12.952996Z",
     "start_time": "2018-09-30T15:31:00.862243Z"
    }
   },
   "outputs": [],
   "source": [
    "## Get Names from HP books\n",
    "text = ' '.join(df_handle.iloc[0]['Tokens'])\n",
    "listname = extract_name(text)\n",
    "listname = set(list(listname))\n",
    "listname\n",
    "\n",
    "## Filter \n",
    "words = set(nltk.corpus.words.words('en'))\n",
    "\n",
    "# def isname(string):\n",
    "#     return any([w not in words for w in string.lower().split()])\n",
    "\n",
    "def isname(string):\n",
    "    return all([w not in words for w in string.lower().split()])\n",
    "\n",
    "person_names =[]\n",
    "for x in listname:\n",
    "    if (isname(x) == True):\n",
    "        person_names.append(x)\n",
    "        \n",
    "## Remove salutaion words\n",
    "salutation = ['mr.','mrs.','mss.','dr.','phd.','prof.','rev.', 'professor', 'sir', 'madam']\n",
    "person_names = ([word for word in person_names if word.lower() not in salutation])\n",
    "\n",
    "## Remove emotion words\n",
    "emotion_words = ['oooooooh','aargh','urgh','shhh','hmm','yeh','nah','dunno']\n",
    "person_names = ([word for word in person_names if word.lower() not in emotion_words])\n",
    "\n",
    "## Re-check name in content\n",
    "raw_content = df_handle.iloc[0]['Content']\n",
    "person_names = set([word for word in person_names if len(re.findall(word,raw_content))>=1])\n"
   ]
  },
  {
   "cell_type": "code",
   "execution_count": null,
   "metadata": {
    "ExecuteTime": {
     "end_time": "2018-09-30T15:31:12.963087Z",
     "start_time": "2018-09-30T15:31:12.956536Z"
    }
   },
   "outputs": [],
   "source": [
    "print(person_names)"
   ]
  },
  {
   "cell_type": "markdown",
   "metadata": {},
   "source": [
    "### Check the dispersion_plot"
   ]
  },
  {
   "cell_type": "markdown",
   "metadata": {},
   "source": [
    "#### For Harry Potter 1"
   ]
  },
  {
   "cell_type": "code",
   "execution_count": null,
   "metadata": {
    "ExecuteTime": {
     "end_time": "2018-09-30T15:31:13.230091Z",
     "start_time": "2018-09-30T15:31:12.966553Z"
    }
   },
   "outputs": [],
   "source": [
    "from nltk.draw.dispersion import dispersion_plot\n",
    "\n",
    "Tokens = df_handle.iloc[0]['Tokens']\n",
    "Content = df_handle.iloc[0]['Content']\n",
    "\n",
    "word_frequency =  nltk.FreqDist(Tokens)\n",
    "topw = [w[0]+':' + str(w[1]) for w in word_frequency.most_common(5)]\n",
    "\n",
    "plan = [w for w in Tokens]   \n",
    "issue = ['Harry','Ron','Hermione','Dumbledore','McGonagall','Snape','Voldemort']\n",
    "dispersion_plot(plan, issue, title='Lexical Dispersion Plot')"
   ]
  },
  {
   "cell_type": "markdown",
   "metadata": {},
   "source": [
    "#### For All Books"
   ]
  },
  {
   "cell_type": "code",
   "execution_count": null,
   "metadata": {
    "ExecuteTime": {
     "end_time": "2018-09-30T15:31:15.609395Z",
     "start_time": "2018-09-30T15:31:13.234779Z"
    }
   },
   "outputs": [],
   "source": [
    "from nltk.draw.dispersion import dispersion_plot\n",
    "\n",
    "list_Tokens =  list(([item for items in df_handle.Tokens.tolist() for item in items]))\n",
    "list_Content =  list(([item for items in df_handle.Content.tolist() for item in items]))\n",
    "\n",
    "\n",
    "word_frequency =  nltk.FreqDist(list_Tokens)\n",
    "topw = [w[0]+':' + str(w[1]) for w in word_frequency.most_common(5)]\n",
    "\n",
    "plan = [w for w in list_Tokens]   \n",
    "issue = ['Harry','Ron','Hermione','Dumbledore','McGonagall','Snape','Voldemort','Sirius','Umbridge']\n",
    "dispersion_plot(plan, issue, title='Lexical Dispersion Plot')"
   ]
  },
  {
   "cell_type": "markdown",
   "metadata": {},
   "source": [
    "From here, we can see that Voldermort is named more often in last books. So, the people are no longer frightened by his name. \n",
    "\n",
    "Finally, you can get several interesting analysis on HP series by : https://medium.com/zareen-farooqui/harry-potter-text-analysis-4d89ffe59d5b"
   ]
  },
  {
   "cell_type": "markdown",
   "metadata": {
    "toc": true
   },
   "source": [
    "<h1>Table of Contents<span class=\"tocSkip\"></span></h1>\n",
    "<div class=\"toc\"><ul class=\"toc-item\"><li><span><a href=\"#LOAD-DATA-(Harry-Potter-Series)\" data-toc-modified-id=\"LOAD-DATA-(Harry-Potter-Series)-1\"><span class=\"toc-item-num\">1&nbsp;&nbsp;</span>LOAD DATA (Harry Potter Series)</a></span><ul class=\"toc-item\"><li><span><a href=\"#Transfer-the-contractions-samples-(e.g.-n't---&gt;-not)\" data-toc-modified-id=\"Transfer-the-contractions-samples-(e.g.-n't--->-not)-1.1\"><span class=\"toc-item-num\">1.1&nbsp;&nbsp;</span>Transfer the contractions samples (e.g. n't --&gt; not)</a></span></li></ul></li><li><span><a href=\"#Convert-data-from-RAW-to-Tokens\" data-toc-modified-id=\"Convert-data-from-RAW-to-Tokens-2\"><span class=\"toc-item-num\">2&nbsp;&nbsp;</span>Convert data from RAW to Tokens</a></span></li><li><span><a href=\"#Get-the-noun_tokens\" data-toc-modified-id=\"Get-the-noun_tokens-3\"><span class=\"toc-item-num\">3&nbsp;&nbsp;</span>Get the noun_tokens</a></span></li><li><span><a href=\"#Get-the-sample-for-Tokens,-noun_tokens,-and-text-(using-the-HP1)\" data-toc-modified-id=\"Get-the-sample-for-Tokens,-noun_tokens,-and-text-(using-the-HP1)-4\"><span class=\"toc-item-num\">4&nbsp;&nbsp;</span>Get the sample for Tokens, noun_tokens, and text (using the HP1)</a></span></li><li><span><a href=\"#N-GRAM-Analysis\" data-toc-modified-id=\"N-GRAM-Analysis-5\"><span class=\"toc-item-num\">5&nbsp;&nbsp;</span>N-GRAM Analysis</a></span><ul class=\"toc-item\"><li><span><a href=\"#N-Grams-extraction\" data-toc-modified-id=\"N-Grams-extraction-5.1\"><span class=\"toc-item-num\">5.1&nbsp;&nbsp;</span>N-Grams extraction</a></span></li><li><span><a href=\"#Frequency-of-n-gram\" data-toc-modified-id=\"Frequency-of-n-gram-5.2\"><span class=\"toc-item-num\">5.2&nbsp;&nbsp;</span>Frequency of n-gram</a></span></li><li><span><a href=\"#Extract-the-noun-grams-from-bigrams\" data-toc-modified-id=\"Extract-the-noun-grams-from-bigrams-5.3\"><span class=\"toc-item-num\">5.3&nbsp;&nbsp;</span>Extract the noun-grams from bigrams</a></span></li><li><span><a href=\"#Checking-if-that-bigram-is-in-Text\" data-toc-modified-id=\"Checking-if-that-bigram-is-in-Text-5.4\"><span class=\"toc-item-num\">5.4&nbsp;&nbsp;</span>Checking if that bigram is in Text</a></span></li><li><span><a href=\"#Tri-Gram\" data-toc-modified-id=\"Tri-Gram-5.5\"><span class=\"toc-item-num\">5.5&nbsp;&nbsp;</span>Tri-Gram</a></span></li><li><span><a href=\"#More-than-Tri-Gram\" data-toc-modified-id=\"More-than-Tri-Gram-5.6\"><span class=\"toc-item-num\">5.6&nbsp;&nbsp;</span>More than Tri-Gram</a></span></li></ul></li><li><span><a href=\"#Apply-the-function-to-HP-series\" data-toc-modified-id=\"Apply-the-function-to-HP-series-6\"><span class=\"toc-item-num\">6&nbsp;&nbsp;</span>Apply the function to HP series</a></span></li></ul></div>"
   ]
  },
  {
   "cell_type": "code",
   "execution_count": null,
   "metadata": {
    "ExecuteTime": {
     "end_time": "2018-10-08T13:39:31.617983Z",
     "start_time": "2018-10-08T13:39:25.855982Z"
    }
   },
   "outputs": [],
   "source": [
    "import pandas as pd\n",
    "import nltk\n",
    "import os, io\n",
    "import numpy as np\n",
    "import matplotlib.pyplot as plt\n",
    "import re\n",
    "import warnings\n",
    "warnings.filterwarnings('ignore')\n",
    "%matplotlib inline  "
   ]
  },
  {
   "cell_type": "markdown",
   "metadata": {},
   "source": [
    "## LOAD DATA (Harry Potter Series)"
   ]
  },
  {
   "cell_type": "code",
   "execution_count": null,
   "metadata": {
    "ExecuteTime": {
     "end_time": "2018-10-08T15:59:27.659332Z",
     "start_time": "2018-10-08T15:59:27.531355Z"
    }
   },
   "outputs": [],
   "source": [
    "## READ DATA\n",
    "df_raw = pd.read_csv('HarryData_raw.csv',sep='@')\n",
    "df_raw.head(10)"
   ]
  },
  {
   "cell_type": "markdown",
   "metadata": {},
   "source": [
    "### Transfer the contractions samples (e.g. n't --> not)"
   ]
  },
  {
   "cell_type": "code",
   "execution_count": null,
   "metadata": {
    "ExecuteTime": {
     "end_time": "2018-10-08T13:40:04.689287Z",
     "start_time": "2018-10-08T13:40:04.579259Z"
    },
    "code_folding": []
   },
   "outputs": [],
   "source": [
    "def transfer_contractions(Sample_text):\n",
    "    contractions = { \n",
    "    \"ain't\": \"am not / are not / is not / has not / have not\",\n",
    "    \"aren't\": \"are not / am not\",\n",
    "    \"can't\": \"cannot\",\n",
    "    \"can't've\": \"cannot have\",\n",
    "    \"'cause\": \"because\",\n",
    "    \"could've\": \"could have\",\n",
    "    \"couldn't\": \"could not\",\n",
    "    \"couldn't've\": \"could not have\",\n",
    "    \"didn't\": \"did not\",\n",
    "    \"doesn't\": \"does not\",\n",
    "    \"don't\": \"do not\",\n",
    "    \"hadn't\": \"had not\",\n",
    "    \"hadn't've\": \"had not have\",\n",
    "    \"hasn't\": \"has not\",\n",
    "    \"haven't\": \"have not\",\n",
    "    \"he'd\": \"he had / he would\",\n",
    "    \"he'd've\": \"he would have\",\n",
    "    \"he'll\": \"he shall / he will\",\n",
    "    \"he'll've\": \"he shall have / he will have\",\n",
    "    \"he's\": \"he has / he is\",\n",
    "    \"how'd\": \"how did\",\n",
    "    \"how'd'y\": \"how do you\",\n",
    "    \"how'll\": \"how will\",\n",
    "    \"how's\": \"how has / how is / how does\",\n",
    "    \"I'd\": \"I had / I would\",\n",
    "    \"I'd've\": \"I would have\",\n",
    "    \"I'll\": \"I shall / I will\",\n",
    "    \"I'll've\": \"I shall have / I will have\",\n",
    "    \"I'm\": \"I am\",\n",
    "    \"I've\": \"I have\",\n",
    "    \"isn't\": \"is not\",\n",
    "    \"it'd\": \"it had / it would\",\n",
    "    \"it'd've\": \"it would have\",\n",
    "    \"it'll\": \"it shall / it will\",\n",
    "    \"it'll've\": \"it shall have / it will have\",\n",
    "    \"it's\": \"it has / it is\",\n",
    "    \"let's\": \"let us\",\n",
    "    \"ma'am\": \"madam\",\n",
    "    \"mayn't\": \"may not\",\n",
    "    \"might've\": \"might have\",\n",
    "    \"mightn't\": \"might not\",\n",
    "    \"mightn't've\": \"might not have\",\n",
    "    \"must've\": \"must have\",\n",
    "    \"mustn't\": \"must not\",\n",
    "    \"mustn't've\": \"must not have\",\n",
    "    \"needn't\": \"need not\",\n",
    "    \"needn't've\": \"need not have\",\n",
    "    \"o'clock\": \"of the clock\",\n",
    "    \"oughtn't\": \"ought not\",\n",
    "    \"oughtn't've\": \"ought not have\",\n",
    "    \"shan't\": \"shall not\",\n",
    "    \"sha'n't\": \"shall not\",\n",
    "    \"shan't've\": \"shall not have\",\n",
    "    \"she'd\": \"she had / she would\",\n",
    "    \"she'd've\": \"she would have\",\n",
    "    \"she'll\": \"she shall / she will\",\n",
    "    \"she'll've\": \"she shall have / she will have\",\n",
    "    \"she's\": \"she has / she is\",\n",
    "    \"should've\": \"should have\",\n",
    "    \"shouldn't\": \"should not\",\n",
    "    \"shouldn't've\": \"should not have\",\n",
    "    \"so've\": \"so have\",\n",
    "    \"so's\": \"so as / so is\",\n",
    "    \"that'd\": \"that would / that had\",\n",
    "    \"that'd've\": \"that would have\",\n",
    "    \"that's\": \"that has / that is\",\n",
    "    \"there'd\": \"there had / there would\",\n",
    "    \"there'd've\": \"there would have\",\n",
    "    \"there's\": \"there has / there is\",\n",
    "    \"they'd\": \"they had / they would\",\n",
    "    \"they'd've\": \"they would have\",\n",
    "    \"they'll\": \"they shall / they will\",\n",
    "    \"they'll've\": \"they shall have / they will have\",\n",
    "    \"they're\": \"they are\",\n",
    "    \"they've\": \"they have\",\n",
    "    \"to've\": \"to have\",\n",
    "    \"wasn't\": \"was not\",\n",
    "    \"we'd\": \"we had / we would\",\n",
    "    \"we'd've\": \"we would have\",\n",
    "    \"we'll\": \"we will\",\n",
    "    \"we'll've\": \"we will have\",\n",
    "    \"we're\": \"we are\",\n",
    "    \"we've\": \"we have\",\n",
    "    \"weren't\": \"were not\",\n",
    "    \"what'll\": \"what shall / what will\",\n",
    "    \"what'll've\": \"what shall have / what will have\",\n",
    "    \"what're\": \"what are\",\n",
    "    \"what's\": \"what has / what is\",\n",
    "    \"what've\": \"what have\",\n",
    "    \"when's\": \"when has / when is\",\n",
    "    \"when've\": \"when have\",\n",
    "    \"where'd\": \"where did\",\n",
    "    \"where's\": \"where has / where is\",\n",
    "    \"where've\": \"where have\",\n",
    "    \"who'll\": \"who shall / who will\",\n",
    "    \"who'll've\": \"who shall have / who will have\",\n",
    "    \"who's\": \"who has / who is\",\n",
    "    \"who've\": \"who have\",\n",
    "    \"why's\": \"why has / why is\",\n",
    "    \"why've\": \"why have\",\n",
    "    \"will've\": \"will have\",\n",
    "    \"won't\": \"will not\",\n",
    "    \"won't've\": \"will not have\",\n",
    "    \"would've\": \"would have\",\n",
    "    \"wouldn't\": \"would not\",\n",
    "    \"wouldn't've\": \"would not have\",\n",
    "    \"y'all\": \"you all\",\n",
    "    \"y'all'd\": \"you all would\",\n",
    "    \"y'all'd've\": \"you all would have\",\n",
    "    \"y'all're\": \"you all are\",\n",
    "    \"y'all've\": \"you all have\",\n",
    "    \"you'd\": \"you had / you would\",\n",
    "    \"you'd've\": \"you would have\",\n",
    "    \"you'll\": \"you shall / you will\",\n",
    "    \"you'll've\": \"you shall have / you will have\",\n",
    "    \"you're\": \"you are\",\n",
    "    \"you've\": \"you have\",\n",
    "    \"-\" : \" \"\n",
    "    }\n",
    "    for word in Sample_text.split():\n",
    "        if word.lower() in contractions:\n",
    "            Sample_text = Sample_text.replace(word, contractions[word.lower()])\n",
    "    return (Sample_text)"
   ]
  },
  {
   "cell_type": "code",
   "execution_count": null,
   "metadata": {
    "ExecuteTime": {
     "end_time": "2018-10-08T13:40:12.372391Z",
     "start_time": "2018-10-08T13:40:06.144390Z"
    }
   },
   "outputs": [],
   "source": [
    "for index, row in df_raw.iterrows():\n",
    "    df_raw['Content'].iloc[index] = transfer_contractions(row.Content)\n",
    "df_raw"
   ]
  },
  {
   "cell_type": "markdown",
   "metadata": {},
   "source": [
    "## Convert data from RAW to Tokens"
   ]
  },
  {
   "cell_type": "code",
   "execution_count": null,
   "metadata": {
    "ExecuteTime": {
     "end_time": "2018-10-08T13:40:39.632393Z",
     "start_time": "2018-10-08T13:40:29.845414Z"
    },
    "code_folding": [
     1
    ]
   },
   "outputs": [],
   "source": [
    "## Define the Function to convert raw text to tokens\n",
    "def convert_tokens(rawtext, verbose):\n",
    "    # First: Tokenization\n",
    "    from nltk.tokenize import RegexpTokenizer\n",
    "    pattern = r'\\w+'\n",
    "    tokenizer = RegexpTokenizer(pattern)\n",
    "    token_words = tokenizer.tokenize(rawtext)\n",
    "    if (verbose):\n",
    "        print('Tokens:' + str(token_words[0:10]))\n",
    "    \n",
    "    # # Second: Decapitalization (if needed)\n",
    "    # decap_token_words = [word.lower() for word in token_words]\n",
    "    # print('Decapitalized Tokens:' + str(decap_token_words[0:10]))\n",
    "    \n",
    "    # Third: Remove stop words\n",
    "    from nltk.corpus import stopwords\n",
    "    stopwords_json = {\"af\":[\"'n\",\"aan\",\"af\",\"al\",\"as\",\"baie\",\"by\",\"daar\",\"dag\",\"dat\",\"die\",\"dit\",\"een\",\"ek\",\"en\",\"gaan\",\"gesê\",\"haar\",\"het\",\"hom\",\"hulle\",\"hy\",\"in\",\"is\",\"jou\",\"jy\",\"kan\",\"kom\",\"ma\",\"maar\",\"met\",\"my\",\"na\",\"nie\",\"om\",\"ons\",\"op\",\"saam\",\"sal\",\"se\",\"sien\",\"so\",\"sy\",\"te\",\"toe\",\"uit\",\"van\",\"vir\",\"was\",\"wat\",\"ŉ\"],\"ha\":[\"a\",\"amma\",\"ba\",\"ban\",\"ce\",\"cikin\",\"da\",\"don\",\"ga\",\"in\",\"ina\",\"ita\",\"ji\",\"ka\",\"ko\",\"kuma\",\"lokacin\",\"ma\",\"mai\",\"na\",\"ne\",\"ni\",\"sai\",\"shi\",\"su\",\"suka\",\"sun\",\"ta\",\"tafi\",\"take\",\"tana\",\"wani\",\"wannan\",\"wata\",\"ya\",\"yake\",\"yana\",\"yi\",\"za\"],\"so\":[\"aad\",\"albaabkii\",\"atabo\",\"ay\",\"ayaa\",\"ayee\",\"ayuu\",\"dhan\",\"hadana\",\"in\",\"inuu\",\"isku\",\"jiray\",\"jirtay\",\"ka\",\"kale\",\"kasoo\",\"ku\",\"kuu\",\"lakin\",\"markii\",\"oo\",\"si\",\"soo\",\"uga\",\"ugu\",\"uu\",\"waa\",\"waxa\",\"waxuu\"],\"st\":[\"a\",\"ba\",\"bane\",\"bona\",\"e\",\"ea\",\"eaba\",\"empa\",\"ena\",\"ha\",\"hae\",\"hape\",\"ho\",\"hore\",\"ka\",\"ke\",\"la\",\"le\",\"li\",\"me\",\"mo\",\"moo\",\"ne\",\"o\",\"oa\",\"re\",\"sa\",\"se\",\"tloha\",\"tsa\",\"tse\"],\"sw\":[\"akasema\",\"alikuwa\",\"alisema\",\"baada\",\"basi\",\"bila\",\"cha\",\"chini\",\"hadi\",\"hapo\",\"hata\",\"hivyo\",\"hiyo\",\"huku\",\"huo\",\"ili\",\"ilikuwa\",\"juu\",\"kama\",\"karibu\",\"katika\",\"kila\",\"kima\",\"kisha\",\"kubwa\",\"kutoka\",\"kuwa\",\"kwa\",\"kwamba\",\"kwenda\",\"kwenye\",\"la\",\"lakini\",\"mara\",\"mdogo\",\"mimi\",\"mkubwa\",\"mmoja\",\"moja\",\"muda\",\"mwenye\",\"na\",\"naye\",\"ndani\",\"ng\",\"ni\",\"nini\",\"nonkungu\",\"pamoja\",\"pia\",\"sana\",\"sasa\",\"sauti\",\"tafadhali\",\"tena\",\"tu\",\"vile\",\"wa\",\"wakati\",\"wake\",\"walikuwa\",\"wao\",\"watu\",\"wengine\",\"wote\",\"ya\",\"yake\",\"yangu\",\"yao\",\"yeye\",\"yule\",\"za\",\"zaidi\",\"zake\"],\"yo\":[\"a\",\"an\",\"bá\",\"bí\",\"bẹ̀rẹ̀\",\"fún\",\"fẹ́\",\"gbogbo\",\"inú\",\"jù\",\"jẹ\",\"jẹ́\",\"kan\",\"kì\",\"kí\",\"kò\",\"láti\",\"lè\",\"lọ\",\"mi\",\"mo\",\"máa\",\"mọ̀\",\"ni\",\"náà\",\"ní\",\"nígbà\",\"nítorí\",\"nǹkan\",\"o\",\"padà\",\"pé\",\"púpọ̀\",\"pẹ̀lú\",\"rẹ̀\",\"sì\",\"sí\",\"sínú\",\"ṣ\",\"ti\",\"tí\",\"wà\",\"wá\",\"wọn\",\"wọ́n\",\"yìí\",\"àti\",\"àwọn\",\"é\",\"í\",\"òun\",\"ó\",\"ń\",\"ńlá\",\"ṣe\",\"ṣé\",\"ṣùgbọ́n\",\"ẹmọ́\",\"ọjọ́\",\"ọ̀pọ̀lọpọ̀\"],\"zu\":[\"futhi\",\"kahle\",\"kakhulu\",\"kanye\",\"khona\",\"kodwa\",\"kungani\",\"kusho\",\"la\",\"lakhe\",\"lapho\",\"mina\",\"ngesikhathi\",\"nje\",\"phansi\",\"phezulu\",\"u\",\"ukuba\",\"ukuthi\",\"ukuze\",\"uma\",\"wahamba\",\"wakhe\",\"wami\",\"wase\",\"wathi\",\"yakhe\",\"zakhe\",\"zonke\"],\"da\":[\"af\",\"alle\",\"andet\",\"andre\",\"at\",\"begge\",\"da\",\"de\",\"den\",\"denne\",\"der\",\"deres\",\"det\",\"dette\",\"dig\",\"din\",\"dog\",\"du\",\"ej\",\"eller\",\"en\",\"end\",\"ene\",\"eneste\",\"enhver\",\"et\",\"fem\",\"fire\",\"flere\",\"fleste\",\"for\",\"fordi\",\"forrige\",\"fra\",\"få\",\"før\",\"god\",\"han\",\"hans\",\"har\",\"hendes\",\"her\",\"hun\",\"hvad\",\"hvem\",\"hver\",\"hvilken\",\"hvis\",\"hvor\",\"hvordan\",\"hvorfor\",\"hvornår\",\"i\",\"ikke\",\"ind\",\"ingen\",\"intet\",\"jeg\",\"jeres\",\"kan\",\"kom\",\"kommer\",\"lav\",\"lidt\",\"lille\",\"man\",\"mand\",\"mange\",\"med\",\"meget\",\"men\",\"mens\",\"mere\",\"mig\",\"ned\",\"ni\",\"nogen\",\"noget\",\"ny\",\"nyt\",\"nær\",\"næste\",\"næsten\",\"og\",\"op\",\"otte\",\"over\",\"på\",\"se\",\"seks\",\"ses\",\"som\",\"stor\",\"store\",\"syv\",\"ti\",\"til\",\"to\",\"tre\",\"ud\",\"var\"],\"de\":[\"Ernst\",\"Ordnung\",\"Schluss\",\"a\",\"ab\",\"aber\",\"ach\",\"acht\",\"achte\",\"achten\",\"achter\",\"achtes\",\"ag\",\"alle\",\"allein\",\"allem\",\"allen\",\"aller\",\"allerdings\",\"alles\",\"allgemeinen\",\"als\",\"also\",\"am\",\"an\",\"andere\",\"anderen\",\"andern\",\"anders\",\"au\",\"auch\",\"auf\",\"aus\",\"ausser\",\"ausserdem\",\"außer\",\"außerdem\",\"b\",\"bald\",\"bei\",\"beide\",\"beiden\",\"beim\",\"beispiel\",\"bekannt\",\"bereits\",\"besonders\",\"besser\",\"besten\",\"bin\",\"bis\",\"bisher\",\"bist\",\"c\",\"d\",\"d.h\",\"da\",\"dabei\",\"dadurch\",\"dafür\",\"dagegen\",\"daher\",\"dahin\",\"dahinter\",\"damals\",\"damit\",\"danach\",\"daneben\",\"dank\",\"dann\",\"daran\",\"darauf\",\"daraus\",\"darf\",\"darfst\",\"darin\",\"darum\",\"darunter\",\"darüber\",\"das\",\"dasein\",\"daselbst\",\"dass\",\"dasselbe\",\"davon\",\"davor\",\"dazu\",\"dazwischen\",\"daß\",\"dein\",\"deine\",\"deinem\",\"deiner\",\"dem\",\"dementsprechend\",\"demgegenüber\",\"demgemäss\",\"demgemäß\",\"demselben\",\"demzufolge\",\"den\",\"denen\",\"denn\",\"denselben\",\"der\",\"deren\",\"derjenige\",\"derjenigen\",\"dermassen\",\"dermaßen\",\"derselbe\",\"derselben\",\"des\",\"deshalb\",\"desselben\",\"dessen\",\"deswegen\",\"dich\",\"die\",\"diejenige\",\"diejenigen\",\"dies\",\"diese\",\"dieselbe\",\"dieselben\",\"diesem\",\"diesen\",\"dieser\",\"dieses\",\"dir\",\"doch\",\"dort\",\"drei\",\"drin\",\"dritte\",\"dritten\",\"dritter\",\"drittes\",\"du\",\"durch\",\"durchaus\",\"durfte\",\"durften\",\"dürfen\",\"dürft\",\"e\",\"eben\",\"ebenso\",\"ehrlich\",\"ei\",\"ei,\",\"eigen\",\"eigene\",\"eigenen\",\"eigener\",\"eigenes\",\"ein\",\"einander\",\"eine\",\"einem\",\"einen\",\"einer\",\"eines\",\"einige\",\"einigen\",\"einiger\",\"einiges\",\"einmal\",\"eins\",\"elf\",\"en\",\"ende\",\"endlich\",\"entweder\",\"er\",\"erst\",\"erste\",\"ersten\",\"erster\",\"erstes\",\"es\",\"etwa\",\"etwas\",\"euch\",\"euer\",\"eure\",\"f\",\"folgende\",\"früher\",\"fünf\",\"fünfte\",\"fünften\",\"fünfter\",\"fünftes\",\"für\",\"g\",\"gab\",\"ganz\",\"ganze\",\"ganzen\",\"ganzer\",\"ganzes\",\"gar\",\"gedurft\",\"gegen\",\"gegenüber\",\"gehabt\",\"gehen\",\"geht\",\"gekannt\",\"gekonnt\",\"gemacht\",\"gemocht\",\"gemusst\",\"genug\",\"gerade\",\"gern\",\"gesagt\",\"geschweige\",\"gewesen\",\"gewollt\",\"geworden\",\"gibt\",\"ging\",\"gleich\",\"gott\",\"gross\",\"grosse\",\"grossen\",\"grosser\",\"grosses\",\"groß\",\"große\",\"großen\",\"großer\",\"großes\",\"gut\",\"gute\",\"guter\",\"gutes\",\"h\",\"habe\",\"haben\",\"habt\",\"hast\",\"hat\",\"hatte\",\"hatten\",\"hattest\",\"hattet\",\"heisst\",\"her\",\"heute\",\"hier\",\"hin\",\"hinter\",\"hoch\",\"hätte\",\"hätten\",\"i\",\"ich\",\"ihm\",\"ihn\",\"ihnen\",\"ihr\",\"ihre\",\"ihrem\",\"ihren\",\"ihrer\",\"ihres\",\"im\",\"immer\",\"in\",\"indem\",\"infolgedessen\",\"ins\",\"irgend\",\"ist\",\"j\",\"ja\",\"jahr\",\"jahre\",\"jahren\",\"je\",\"jede\",\"jedem\",\"jeden\",\"jeder\",\"jedermann\",\"jedermanns\",\"jedes\",\"jedoch\",\"jemand\",\"jemandem\",\"jemanden\",\"jene\",\"jenem\",\"jenen\",\"jener\",\"jenes\",\"jetzt\",\"k\",\"kam\",\"kann\",\"kannst\",\"kaum\",\"kein\",\"keine\",\"keinem\",\"keinen\",\"keiner\",\"kleine\",\"kleinen\",\"kleiner\",\"kleines\",\"kommen\",\"kommt\",\"konnte\",\"konnten\",\"kurz\",\"können\",\"könnt\",\"könnte\",\"l\",\"lang\",\"lange\",\"leicht\",\"leide\",\"lieber\",\"los\",\"m\",\"machen\",\"macht\",\"machte\",\"mag\",\"magst\",\"mahn\",\"mal\",\"man\",\"manche\",\"manchem\",\"manchen\",\"mancher\",\"manches\",\"mann\",\"mehr\",\"mein\",\"meine\",\"meinem\",\"meinen\",\"meiner\",\"meines\",\"mensch\",\"menschen\",\"mich\",\"mir\",\"mit\",\"mittel\",\"mochte\",\"mochten\",\"morgen\",\"muss\",\"musst\",\"musste\",\"mussten\",\"muß\",\"mußt\",\"möchte\",\"mögen\",\"möglich\",\"mögt\",\"müssen\",\"müsst\",\"müßt\",\"n\",\"na\",\"nach\",\"nachdem\",\"nahm\",\"natürlich\",\"neben\",\"nein\",\"neue\",\"neuen\",\"neun\",\"neunte\",\"neunten\",\"neunter\",\"neuntes\",\"nicht\",\"nichts\",\"nie\",\"niemand\",\"niemandem\",\"niemanden\",\"noch\",\"nun\",\"nur\",\"o\",\"ob\",\"oben\",\"oder\",\"offen\",\"oft\",\"ohne\",\"p\",\"q\",\"r\",\"recht\",\"rechte\",\"rechten\",\"rechter\",\"rechtes\",\"richtig\",\"rund\",\"s\",\"sa\",\"sache\",\"sagt\",\"sagte\",\"sah\",\"satt\",\"schlecht\",\"schon\",\"sechs\",\"sechste\",\"sechsten\",\"sechster\",\"sechstes\",\"sehr\",\"sei\",\"seid\",\"seien\",\"sein\",\"seine\",\"seinem\",\"seinen\",\"seiner\",\"seines\",\"seit\",\"seitdem\",\"selbst\",\"sich\",\"sie\",\"sieben\",\"siebente\",\"siebenten\",\"siebenter\",\"siebentes\",\"sind\",\"so\",\"solang\",\"solche\",\"solchem\",\"solchen\",\"solcher\",\"solches\",\"soll\",\"sollen\",\"sollst\",\"sollt\",\"sollte\",\"sollten\",\"sondern\",\"sonst\",\"soweit\",\"sowie\",\"später\",\"startseite\",\"statt\",\"steht\",\"suche\",\"t\",\"tag\",\"tage\",\"tagen\",\"tat\",\"teil\",\"tel\",\"tritt\",\"trotzdem\",\"tun\",\"u\",\"uhr\",\"um\",\"und\",\"und?\",\"uns\",\"unser\",\"unsere\",\"unserer\",\"unter\",\"v\",\"vergangenen\",\"viel\",\"viele\",\"vielem\",\"vielen\",\"vielleicht\",\"vier\",\"vierte\",\"vierten\",\"vierter\",\"viertes\",\"vom\",\"von\",\"vor\",\"w\",\"wahr?\",\"wann\",\"war\",\"waren\",\"wart\",\"warum\",\"was\",\"wegen\",\"weil\",\"weit\",\"weiter\",\"weitere\",\"weiteren\",\"weiteres\",\"welche\",\"welchem\",\"welchen\",\"welcher\",\"welches\",\"wem\",\"wen\",\"wenig\",\"wenige\",\"weniger\",\"weniges\",\"wenigstens\",\"wenn\",\"wer\",\"werde\",\"werden\",\"werdet\",\"weshalb\",\"wessen\",\"wie\",\"wieder\",\"wieso\",\"will\",\"willst\",\"wir\",\"wird\",\"wirklich\",\"wirst\",\"wissen\",\"wo\",\"wohl\",\"wollen\",\"wollt\",\"wollte\",\"wollten\",\"worden\",\"wurde\",\"wurden\",\"während\",\"währenddem\",\"währenddessen\",\"wäre\",\"würde\",\"würden\",\"x\",\"y\",\"z\",\"z.b\",\"zehn\",\"zehnte\",\"zehnten\",\"zehnter\",\"zehntes\",\"zeit\",\"zu\",\"zuerst\",\"zugleich\",\"zum\",\"zunächst\",\"zur\",\"zurück\",\"zusammen\",\"zwanzig\",\"zwar\",\"zwei\",\"zweite\",\"zweiten\",\"zweiter\",\"zweites\",\"zwischen\",\"zwölf\",\"über\",\"überhaupt\",\"übrigens\"],\"es\":[\"a\",\"actualmente\",\"acuerdo\",\"adelante\",\"ademas\",\"además\",\"adrede\",\"afirmó\",\"agregó\",\"ahi\",\"ahora\",\"ahí\",\"al\",\"algo\",\"alguna\",\"algunas\",\"alguno\",\"algunos\",\"algún\",\"alli\",\"allí\",\"alrededor\",\"ambos\",\"ampleamos\",\"antano\",\"antaño\",\"ante\",\"anterior\",\"antes\",\"apenas\",\"aproximadamente\",\"aquel\",\"aquella\",\"aquellas\",\"aquello\",\"aquellos\",\"aqui\",\"aquél\",\"aquélla\",\"aquéllas\",\"aquéllos\",\"aquí\",\"arriba\",\"arribaabajo\",\"aseguró\",\"asi\",\"así\",\"atras\",\"aun\",\"aunque\",\"ayer\",\"añadió\",\"aún\",\"b\",\"bajo\",\"bastante\",\"bien\",\"breve\",\"buen\",\"buena\",\"buenas\",\"bueno\",\"buenos\",\"c\",\"cada\",\"casi\",\"cerca\",\"cierta\",\"ciertas\",\"cierto\",\"ciertos\",\"cinco\",\"claro\",\"comentó\",\"como\",\"con\",\"conmigo\",\"conocer\",\"conseguimos\",\"conseguir\",\"considera\",\"consideró\",\"consigo\",\"consigue\",\"consiguen\",\"consigues\",\"contigo\",\"contra\",\"cosas\",\"creo\",\"cual\",\"cuales\",\"cualquier\",\"cuando\",\"cuanta\",\"cuantas\",\"cuanto\",\"cuantos\",\"cuatro\",\"cuenta\",\"cuál\",\"cuáles\",\"cuándo\",\"cuánta\",\"cuántas\",\"cuánto\",\"cuántos\",\"cómo\",\"d\",\"da\",\"dado\",\"dan\",\"dar\",\"de\",\"debajo\",\"debe\",\"deben\",\"debido\",\"decir\",\"dejó\",\"del\",\"delante\",\"demasiado\",\"demás\",\"dentro\",\"deprisa\",\"desde\",\"despacio\",\"despues\",\"después\",\"detras\",\"detrás\",\"dia\",\"dias\",\"dice\",\"dicen\",\"dicho\",\"dieron\",\"diferente\",\"diferentes\",\"dijeron\",\"dijo\",\"dio\",\"donde\",\"dos\",\"durante\",\"día\",\"días\",\"dónde\",\"e\",\"ejemplo\",\"el\",\"ella\",\"ellas\",\"ello\",\"ellos\",\"embargo\",\"empleais\",\"emplean\",\"emplear\",\"empleas\",\"empleo\",\"en\",\"encima\",\"encuentra\",\"enfrente\",\"enseguida\",\"entonces\",\"entre\",\"era\",\"eramos\",\"eran\",\"eras\",\"eres\",\"es\",\"esa\",\"esas\",\"ese\",\"eso\",\"esos\",\"esta\",\"estaba\",\"estaban\",\"estado\",\"estados\",\"estais\",\"estamos\",\"estan\",\"estar\",\"estará\",\"estas\",\"este\",\"esto\",\"estos\",\"estoy\",\"estuvo\",\"está\",\"están\",\"ex\",\"excepto\",\"existe\",\"existen\",\"explicó\",\"expresó\",\"f\",\"fin\",\"final\",\"fue\",\"fuera\",\"fueron\",\"fui\",\"fuimos\",\"g\",\"general\",\"gran\",\"grandes\",\"gueno\",\"h\",\"ha\",\"haber\",\"habia\",\"habla\",\"hablan\",\"habrá\",\"había\",\"habían\",\"hace\",\"haceis\",\"hacemos\",\"hacen\",\"hacer\",\"hacerlo\",\"haces\",\"hacia\",\"haciendo\",\"hago\",\"han\",\"hasta\",\"hay\",\"haya\",\"he\",\"hecho\",\"hemos\",\"hicieron\",\"hizo\",\"horas\",\"hoy\",\"hubo\",\"i\",\"igual\",\"incluso\",\"indicó\",\"informo\",\"informó\",\"intenta\",\"intentais\",\"intentamos\",\"intentan\",\"intentar\",\"intentas\",\"intento\",\"ir\",\"j\",\"junto\",\"k\",\"l\",\"la\",\"lado\",\"largo\",\"las\",\"le\",\"lejos\",\"les\",\"llegó\",\"lleva\",\"llevar\",\"lo\",\"los\",\"luego\",\"lugar\",\"m\",\"mal\",\"manera\",\"manifestó\",\"mas\",\"mayor\",\"me\",\"mediante\",\"medio\",\"mejor\",\"mencionó\",\"menos\",\"menudo\",\"mi\",\"mia\",\"mias\",\"mientras\",\"mio\",\"mios\",\"mis\",\"misma\",\"mismas\",\"mismo\",\"mismos\",\"modo\",\"momento\",\"mucha\",\"muchas\",\"mucho\",\"muchos\",\"muy\",\"más\",\"mí\",\"mía\",\"mías\",\"mío\",\"míos\",\"n\",\"nada\",\"nadie\",\"ni\",\"ninguna\",\"ningunas\",\"ninguno\",\"ningunos\",\"ningún\",\"no\",\"nos\",\"nosotras\",\"nosotros\",\"nuestra\",\"nuestras\",\"nuestro\",\"nuestros\",\"nueva\",\"nuevas\",\"nuevo\",\"nuevos\",\"nunca\",\"o\",\"ocho\",\"os\",\"otra\",\"otras\",\"otro\",\"otros\",\"p\",\"pais\",\"para\",\"parece\",\"parte\",\"partir\",\"pasada\",\"pasado\",\"paìs\",\"peor\",\"pero\",\"pesar\",\"poca\",\"pocas\",\"poco\",\"pocos\",\"podeis\",\"podemos\",\"poder\",\"podria\",\"podriais\",\"podriamos\",\"podrian\",\"podrias\",\"podrá\",\"podrán\",\"podría\",\"podrían\",\"poner\",\"por\",\"porque\",\"posible\",\"primer\",\"primera\",\"primero\",\"primeros\",\"principalmente\",\"pronto\",\"propia\",\"propias\",\"propio\",\"propios\",\"proximo\",\"próximo\",\"próximos\",\"pudo\",\"pueda\",\"puede\",\"pueden\",\"puedo\",\"pues\",\"q\",\"qeu\",\"que\",\"quedó\",\"queremos\",\"quien\",\"quienes\",\"quiere\",\"quiza\",\"quizas\",\"quizá\",\"quizás\",\"quién\",\"quiénes\",\"qué\",\"r\",\"raras\",\"realizado\",\"realizar\",\"realizó\",\"repente\",\"respecto\",\"s\",\"sabe\",\"sabeis\",\"sabemos\",\"saben\",\"saber\",\"sabes\",\"salvo\",\"se\",\"sea\",\"sean\",\"segun\",\"segunda\",\"segundo\",\"según\",\"seis\",\"ser\",\"sera\",\"será\",\"serán\",\"sería\",\"señaló\",\"si\",\"sido\",\"siempre\",\"siendo\",\"siete\",\"sigue\",\"siguiente\",\"sin\",\"sino\",\"sobre\",\"sois\",\"sola\",\"solamente\",\"solas\",\"solo\",\"solos\",\"somos\",\"son\",\"soy\",\"soyos\",\"su\",\"supuesto\",\"sus\",\"suya\",\"suyas\",\"suyo\",\"sé\",\"sí\",\"sólo\",\"t\",\"tal\",\"tambien\",\"también\",\"tampoco\",\"tan\",\"tanto\",\"tarde\",\"te\",\"temprano\",\"tendrá\",\"tendrán\",\"teneis\",\"tenemos\",\"tener\",\"tenga\",\"tengo\",\"tenido\",\"tenía\",\"tercera\",\"ti\",\"tiempo\",\"tiene\",\"tienen\",\"toda\",\"todas\",\"todavia\",\"todavía\",\"todo\",\"todos\",\"total\",\"trabaja\",\"trabajais\",\"trabajamos\",\"trabajan\",\"trabajar\",\"trabajas\",\"trabajo\",\"tras\",\"trata\",\"través\",\"tres\",\"tu\",\"tus\",\"tuvo\",\"tuya\",\"tuyas\",\"tuyo\",\"tuyos\",\"tú\",\"u\",\"ultimo\",\"un\",\"una\",\"unas\",\"uno\",\"unos\",\"usa\",\"usais\",\"usamos\",\"usan\",\"usar\",\"usas\",\"uso\",\"usted\",\"ustedes\",\"v\",\"va\",\"vais\",\"valor\",\"vamos\",\"van\",\"varias\",\"varios\",\"vaya\",\"veces\",\"ver\",\"verdad\",\"verdadera\",\"verdadero\",\"vez\",\"vosotras\",\"vosotros\",\"voy\",\"vuestra\",\"vuestras\",\"vuestro\",\"vuestros\",\"w\",\"x\",\"y\",\"ya\",\"yo\",\"z\",\"él\",\"ésa\",\"ésas\",\"ése\",\"ésos\",\"ésta\",\"éstas\",\"éste\",\"éstos\",\"última\",\"últimas\",\"último\",\"últimos\"],\"et\":[\"aga\",\"ei\",\"et\",\"ja\",\"jah\",\"kas\",\"kui\",\"kõik\",\"ma\",\"me\",\"mida\",\"midagi\",\"mind\",\"minu\",\"mis\",\"mu\",\"mul\",\"mulle\",\"nad\",\"nii\",\"oled\",\"olen\",\"oli\",\"oma\",\"on\",\"pole\",\"sa\",\"seda\",\"see\",\"selle\",\"siin\",\"siis\",\"ta\",\"te\",\"ära\"],\"fi\":[\"aiemmin\",\"aika\",\"aikaa\",\"aikaan\",\"aikaisemmin\",\"aikaisin\",\"aikajen\",\"aikana\",\"aikoina\",\"aikoo\",\"aikovat\",\"aina\",\"ainakaan\",\"ainakin\",\"ainoa\",\"ainoat\",\"aiomme\",\"aion\",\"aiotte\",\"aist\",\"aivan\",\"ajan\",\"alas\",\"alemmas\",\"alkuisin\",\"alkuun\",\"alla\",\"alle\",\"aloitamme\",\"aloitan\",\"aloitat\",\"aloitatte\",\"aloitattivat\",\"aloitettava\",\"aloitettevaksi\",\"aloitettu\",\"aloitimme\",\"aloitin\",\"aloitit\",\"aloititte\",\"aloittaa\",\"aloittamatta\",\"aloitti\",\"aloittivat\",\"alta\",\"aluksi\",\"alussa\",\"alusta\",\"annettavaksi\",\"annetteva\",\"annettu\",\"ansiosta\",\"antaa\",\"antamatta\",\"antoi\",\"aoua\",\"apu\",\"asia\",\"asiaa\",\"asian\",\"asiasta\",\"asiat\",\"asioiden\",\"asioihin\",\"asioita\",\"asti\",\"avuksi\",\"avulla\",\"avun\",\"avutta\",\"edelle\",\"edelleen\",\"edellä\",\"edeltä\",\"edemmäs\",\"edes\",\"edessä\",\"edestä\",\"ehkä\",\"ei\",\"eikä\",\"eilen\",\"eivät\",\"eli\",\"ellei\",\"elleivät\",\"ellemme\",\"ellen\",\"ellet\",\"ellette\",\"emme\",\"en\",\"enemmän\",\"eniten\",\"ennen\",\"ensi\",\"ensimmäinen\",\"ensimmäiseksi\",\"ensimmäisen\",\"ensimmäisenä\",\"ensimmäiset\",\"ensimmäisiksi\",\"ensimmäisinä\",\"ensimmäisiä\",\"ensimmäistä\",\"ensin\",\"entinen\",\"entisen\",\"entisiä\",\"entisten\",\"entistä\",\"enää\",\"eri\",\"erittäin\",\"erityisesti\",\"eräiden\",\"eräs\",\"eräät\",\"esi\",\"esiin\",\"esillä\",\"esimerkiksi\",\"et\",\"eteen\",\"etenkin\",\"etessa\",\"ette\",\"ettei\",\"että\",\"haikki\",\"halua\",\"haluaa\",\"haluamatta\",\"haluamme\",\"haluan\",\"haluat\",\"haluatte\",\"haluavat\",\"halunnut\",\"halusi\",\"halusimme\",\"halusin\",\"halusit\",\"halusitte\",\"halusivat\",\"halutessa\",\"haluton\",\"he\",\"hei\",\"heidän\",\"heihin\",\"heille\",\"heiltä\",\"heissä\",\"heistä\",\"heitä\",\"helposti\",\"heti\",\"hetkellä\",\"hieman\",\"hitaasti\",\"hoikein\",\"huolimatta\",\"huomenna\",\"hyvien\",\"hyviin\",\"hyviksi\",\"hyville\",\"hyviltä\",\"hyvin\",\"hyvinä\",\"hyvissä\",\"hyvistä\",\"hyviä\",\"hyvä\",\"hyvät\",\"hyvää\",\"hän\",\"häneen\",\"hänelle\",\"hänellä\",\"häneltä\",\"hänen\",\"hänessä\",\"hänestä\",\"hänet\",\"ihan\",\"ilman\",\"ilmeisesti\",\"itse\",\"itsensä\",\"itseään\",\"ja\",\"jo\",\"johon\",\"joiden\",\"joihin\",\"joiksi\",\"joilla\",\"joille\",\"joilta\",\"joissa\",\"joista\",\"joita\",\"joka\",\"jokainen\",\"jokin\",\"joko\",\"joku\",\"jolla\",\"jolle\",\"jolloin\",\"jolta\",\"jompikumpi\",\"jonka\",\"jonkin\",\"jonne\",\"joo\",\"jopa\",\"jos\",\"joskus\",\"jossa\",\"josta\",\"jota\",\"jotain\",\"joten\",\"jotenkin\",\"jotenkuten\",\"jotka\",\"jotta\",\"jouduimme\",\"jouduin\",\"jouduit\",\"jouduitte\",\"joudumme\",\"joudun\",\"joudutte\",\"joukkoon\",\"joukossa\",\"joukosta\",\"joutua\",\"joutui\",\"joutuivat\",\"joutumaan\",\"joutuu\",\"joutuvat\",\"juuri\",\"jälkeen\",\"jälleen\",\"jää\",\"kahdeksan\",\"kahdeksannen\",\"kahdella\",\"kahdelle\",\"kahdelta\",\"kahden\",\"kahdessa\",\"kahdesta\",\"kahta\",\"kahteen\",\"kai\",\"kaiken\",\"kaikille\",\"kaikilta\",\"kaikkea\",\"kaikki\",\"kaikkia\",\"kaikkiaan\",\"kaikkialla\",\"kaikkialle\",\"kaikkialta\",\"kaikkien\",\"kaikkin\",\"kaksi\",\"kannalta\",\"kannattaa\",\"kanssa\",\"kanssaan\",\"kanssamme\",\"kanssani\",\"kanssanne\",\"kanssasi\",\"kauan\",\"kauemmas\",\"kaukana\",\"kautta\",\"kehen\",\"keiden\",\"keihin\",\"keiksi\",\"keille\",\"keillä\",\"keiltä\",\"keinä\",\"keissä\",\"keistä\",\"keitten\",\"keittä\",\"keitä\",\"keneen\",\"keneksi\",\"kenelle\",\"kenellä\",\"keneltä\",\"kenen\",\"kenenä\",\"kenessä\",\"kenestä\",\"kenet\",\"kenettä\",\"kennessästä\",\"kenties\",\"kerran\",\"kerta\",\"kertaa\",\"keskellä\",\"kesken\",\"keskimäärin\",\"ketkä\",\"ketä\",\"kiitos\",\"kohti\",\"koko\",\"kokonaan\",\"kolmas\",\"kolme\",\"kolmen\",\"kolmesti\",\"koska\",\"koskaan\",\"kovin\",\"kuin\",\"kuinka\",\"kuinkan\",\"kuitenkaan\",\"kuitenkin\",\"kuka\",\"kukaan\",\"kukin\",\"kukka\",\"kumpainen\",\"kumpainenkaan\",\"kumpi\",\"kumpikaan\",\"kumpikin\",\"kun\",\"kuten\",\"kuuden\",\"kuusi\",\"kuutta\",\"kylliksi\",\"kyllä\",\"kymmenen\",\"kyse\",\"liian\",\"liki\",\"lisäksi\",\"lisää\",\"lla\",\"luo\",\"luona\",\"lähekkäin\",\"lähelle\",\"lähellä\",\"läheltä\",\"lähemmäs\",\"lähes\",\"lähinnä\",\"lähtien\",\"läpi\",\"mahdollisimman\",\"mahdollista\",\"me\",\"meidän\",\"meille\",\"meillä\",\"melkein\",\"melko\",\"menee\",\"meneet\",\"menemme\",\"menen\",\"menet\",\"menette\",\"menevät\",\"meni\",\"menimme\",\"menin\",\"menit\",\"menivät\",\"mennessä\",\"mennyt\",\"menossa\",\"mihin\",\"mikin\",\"miksi\",\"mikä\",\"mikäli\",\"mikään\",\"milloin\",\"milloinkan\",\"minne\",\"minun\",\"minut\",\"minä\",\"missä\",\"mistä\",\"miten\",\"mitä\",\"mitään\",\"moi\",\"molemmat\",\"mones\",\"monesti\",\"monet\",\"moni\",\"moniaalla\",\"moniaalle\",\"moniaalta\",\"monta\",\"muassa\",\"muiden\",\"muita\",\"muka\",\"mukaan\",\"mukaansa\",\"mukana\",\"mutta\",\"muu\",\"muualla\",\"muualle\",\"muualta\",\"muuanne\",\"muulloin\",\"muun\",\"muut\",\"muuta\",\"muutama\",\"muutaman\",\"muuten\",\"myöhemmin\",\"myös\",\"myöskin\",\"myöskään\",\"myötä\",\"ne\",\"neljä\",\"neljän\",\"neljää\",\"niiden\",\"niin\",\"niistä\",\"niitä\",\"noin\",\"nopeammin\",\"nopeasti\",\"nopeiten\",\"nro\",\"nuo\",\"nyt\",\"näiden\",\"näin\",\"näissä\",\"näissähin\",\"näissälle\",\"näissältä\",\"näissästä\",\"näitä\",\"nämä\",\"ohi\",\"oikea\",\"oikealla\",\"oikein\",\"ole\",\"olemme\",\"olen\",\"olet\",\"olette\",\"oleva\",\"olevan\",\"olevat\",\"oli\",\"olimme\",\"olin\",\"olisi\",\"olisimme\",\"olisin\",\"olisit\",\"olisitte\",\"olisivat\",\"olit\",\"olitte\",\"olivat\",\"olla\",\"olleet\",\"olli\",\"ollut\",\"oma\",\"omaa\",\"omaan\",\"omaksi\",\"omalle\",\"omalta\",\"oman\",\"omassa\",\"omat\",\"omia\",\"omien\",\"omiin\",\"omiksi\",\"omille\",\"omilta\",\"omissa\",\"omista\",\"on\",\"onkin\",\"onko\",\"ovat\",\"paikoittain\",\"paitsi\",\"pakosti\",\"paljon\",\"paremmin\",\"parempi\",\"parhaillaan\",\"parhaiten\",\"perusteella\",\"peräti\",\"pian\",\"pieneen\",\"pieneksi\",\"pienelle\",\"pienellä\",\"pieneltä\",\"pienempi\",\"pienestä\",\"pieni\",\"pienin\",\"puolesta\",\"puolestaan\",\"päälle\",\"runsaasti\",\"saakka\",\"sadam\",\"sama\",\"samaa\",\"samaan\",\"samalla\",\"samallalta\",\"samallassa\",\"samallasta\",\"saman\",\"samat\",\"samoin\",\"sata\",\"sataa\",\"satojen\",\"se\",\"seitsemän\",\"sekä\",\"sen\",\"seuraavat\",\"siellä\",\"sieltä\",\"siihen\",\"siinä\",\"siis\",\"siitä\",\"sijaan\",\"siksi\",\"silloin\",\"sillä\",\"silti\",\"sinne\",\"sinua\",\"sinulle\",\"sinulta\",\"sinun\",\"sinussa\",\"sinusta\",\"sinut\",\"sinä\",\"sisäkkäin\",\"sisällä\",\"siten\",\"sitten\",\"sitä\",\"ssa\",\"sta\",\"suoraan\",\"suuntaan\",\"suuren\",\"suuret\",\"suuri\",\"suuria\",\"suurin\",\"suurten\",\"taa\",\"taas\",\"taemmas\",\"tahansa\",\"tai\",\"takaa\",\"takaisin\",\"takana\",\"takia\",\"tapauksessa\",\"tarpeeksi\",\"tavalla\",\"tavoitteena\",\"te\",\"tietysti\",\"todella\",\"toinen\",\"toisaalla\",\"toisaalle\",\"toisaalta\",\"toiseen\",\"toiseksi\",\"toisella\",\"toiselle\",\"toiselta\",\"toisemme\",\"toisen\",\"toisensa\",\"toisessa\",\"toisesta\",\"toista\",\"toistaiseksi\",\"toki\",\"tosin\",\"tuhannen\",\"tuhat\",\"tule\",\"tulee\",\"tulemme\",\"tulen\",\"tulet\",\"tulette\",\"tulevat\",\"tulimme\",\"tulin\",\"tulisi\",\"tulisimme\",\"tulisin\",\"tulisit\",\"tulisitte\",\"tulisivat\",\"tulit\",\"tulitte\",\"tulivat\",\"tulla\",\"tulleet\",\"tullut\",\"tuntuu\",\"tuo\",\"tuolla\",\"tuolloin\",\"tuolta\",\"tuonne\",\"tuskin\",\"tykö\",\"tähän\",\"tällä\",\"tällöin\",\"tämä\",\"tämän\",\"tänne\",\"tänä\",\"tänään\",\"tässä\",\"tästä\",\"täten\",\"tätä\",\"täysin\",\"täytyvät\",\"täytyy\",\"täällä\",\"täältä\",\"ulkopuolella\",\"usea\",\"useasti\",\"useimmiten\",\"usein\",\"useita\",\"uudeksi\",\"uudelleen\",\"uuden\",\"uudet\",\"uusi\",\"uusia\",\"uusien\",\"uusinta\",\"uuteen\",\"uutta\",\"vaan\",\"vahemmän\",\"vai\",\"vaiheessa\",\"vaikea\",\"vaikean\",\"vaikeat\",\"vaikeilla\",\"vaikeille\",\"vaikeilta\",\"vaikeissa\",\"vaikeista\",\"vaikka\",\"vain\",\"varmasti\",\"varsin\",\"varsinkin\",\"varten\",\"vasen\",\"vasenmalla\",\"vasta\",\"vastaan\",\"vastakkain\",\"vastan\",\"verran\",\"vielä\",\"vierekkäin\",\"vieressä\",\"vieri\",\"viiden\",\"viime\",\"viimeinen\",\"viimeisen\",\"viimeksi\",\"viisi\",\"voi\",\"voidaan\",\"voimme\",\"voin\",\"voisi\",\"voit\",\"voitte\",\"voivat\",\"vuoden\",\"vuoksi\",\"vuosi\",\"vuosien\",\"vuosina\",\"vuotta\",\"vähemmän\",\"vähintään\",\"vähiten\",\"vähän\",\"välillä\",\"yhdeksän\",\"yhden\",\"yhdessä\",\"yhteen\",\"yhteensä\",\"yhteydessä\",\"yhteyteen\",\"yhtä\",\"yhtäälle\",\"yhtäällä\",\"yhtäältä\",\"yhtään\",\"yhä\",\"yksi\",\"yksin\",\"yksittäin\",\"yleensä\",\"ylemmäs\",\"yli\",\"ylös\",\"ympäri\",\"älköön\",\"älä\"],\"fr\":[\"a\",\"abord\",\"absolument\",\"afin\",\"ah\",\"ai\",\"aie\",\"ailleurs\",\"ainsi\",\"ait\",\"allaient\",\"allo\",\"allons\",\"allô\",\"alors\",\"anterieur\",\"anterieure\",\"anterieures\",\"apres\",\"après\",\"as\",\"assez\",\"attendu\",\"au\",\"aucun\",\"aucune\",\"aujourd\",\"aujourd'hui\",\"aupres\",\"auquel\",\"aura\",\"auraient\",\"aurait\",\"auront\",\"aussi\",\"autre\",\"autrefois\",\"autrement\",\"autres\",\"autrui\",\"aux\",\"auxquelles\",\"auxquels\",\"avaient\",\"avais\",\"avait\",\"avant\",\"avec\",\"avoir\",\"avons\",\"ayant\",\"b\",\"bah\",\"bas\",\"basee\",\"bat\",\"beau\",\"beaucoup\",\"bien\",\"bigre\",\"boum\",\"bravo\",\"brrr\",\"c\",\"car\",\"ce\",\"ceci\",\"cela\",\"celle\",\"celle-ci\",\"celle-là\",\"celles\",\"celles-ci\",\"celles-là\",\"celui\",\"celui-ci\",\"celui-là\",\"cent\",\"cependant\",\"certain\",\"certaine\",\"certaines\",\"certains\",\"certes\",\"ces\",\"cet\",\"cette\",\"ceux\",\"ceux-ci\",\"ceux-là\",\"chacun\",\"chacune\",\"chaque\",\"cher\",\"chers\",\"chez\",\"chiche\",\"chut\",\"chère\",\"chères\",\"ci\",\"cinq\",\"cinquantaine\",\"cinquante\",\"cinquantième\",\"cinquième\",\"clac\",\"clic\",\"combien\",\"comme\",\"comment\",\"comparable\",\"comparables\",\"compris\",\"concernant\",\"contre\",\"couic\",\"crac\",\"d\",\"da\",\"dans\",\"de\",\"debout\",\"dedans\",\"dehors\",\"deja\",\"delà\",\"depuis\",\"dernier\",\"derniere\",\"derriere\",\"derrière\",\"des\",\"desormais\",\"desquelles\",\"desquels\",\"dessous\",\"dessus\",\"deux\",\"deuxième\",\"deuxièmement\",\"devant\",\"devers\",\"devra\",\"different\",\"differentes\",\"differents\",\"différent\",\"différente\",\"différentes\",\"différents\",\"dire\",\"directe\",\"directement\",\"dit\",\"dite\",\"dits\",\"divers\",\"diverse\",\"diverses\",\"dix\",\"dix-huit\",\"dix-neuf\",\"dix-sept\",\"dixième\",\"doit\",\"doivent\",\"donc\",\"dont\",\"douze\",\"douzième\",\"dring\",\"du\",\"duquel\",\"durant\",\"dès\",\"désormais\",\"e\",\"effet\",\"egale\",\"egalement\",\"egales\",\"eh\",\"elle\",\"elle-même\",\"elles\",\"elles-mêmes\",\"en\",\"encore\",\"enfin\",\"entre\",\"envers\",\"environ\",\"es\",\"est\",\"et\",\"etant\",\"etc\",\"etre\",\"eu\",\"euh\",\"eux\",\"eux-mêmes\",\"exactement\",\"excepté\",\"extenso\",\"exterieur\",\"f\",\"fais\",\"faisaient\",\"faisant\",\"fait\",\"façon\",\"feront\",\"fi\",\"flac\",\"floc\",\"font\",\"g\",\"gens\",\"h\",\"ha\",\"hein\",\"hem\",\"hep\",\"hi\",\"ho\",\"holà\",\"hop\",\"hormis\",\"hors\",\"hou\",\"houp\",\"hue\",\"hui\",\"huit\",\"huitième\",\"hum\",\"hurrah\",\"hé\",\"hélas\",\"i\",\"il\",\"ils\",\"importe\",\"j\",\"je\",\"jusqu\",\"jusque\",\"juste\",\"k\",\"l\",\"la\",\"laisser\",\"laquelle\",\"las\",\"le\",\"lequel\",\"les\",\"lesquelles\",\"lesquels\",\"leur\",\"leurs\",\"longtemps\",\"lors\",\"lorsque\",\"lui\",\"lui-meme\",\"lui-même\",\"là\",\"lès\",\"m\",\"ma\",\"maint\",\"maintenant\",\"mais\",\"malgre\",\"malgré\",\"maximale\",\"me\",\"meme\",\"memes\",\"merci\",\"mes\",\"mien\",\"mienne\",\"miennes\",\"miens\",\"mille\",\"mince\",\"minimale\",\"moi\",\"moi-meme\",\"moi-même\",\"moindres\",\"moins\",\"mon\",\"moyennant\",\"multiple\",\"multiples\",\"même\",\"mêmes\",\"n\",\"na\",\"naturel\",\"naturelle\",\"naturelles\",\"ne\",\"neanmoins\",\"necessaire\",\"necessairement\",\"neuf\",\"neuvième\",\"ni\",\"nombreuses\",\"nombreux\",\"non\",\"nos\",\"notamment\",\"notre\",\"nous\",\"nous-mêmes\",\"nouveau\",\"nul\",\"néanmoins\",\"nôtre\",\"nôtres\",\"o\",\"oh\",\"ohé\",\"ollé\",\"olé\",\"on\",\"ont\",\"onze\",\"onzième\",\"ore\",\"ou\",\"ouf\",\"ouias\",\"oust\",\"ouste\",\"outre\",\"ouvert\",\"ouverte\",\"ouverts\",\"o|\",\"où\",\"p\",\"paf\",\"pan\",\"par\",\"parce\",\"parfois\",\"parle\",\"parlent\",\"parler\",\"parmi\",\"parseme\",\"partant\",\"particulier\",\"particulière\",\"particulièrement\",\"pas\",\"passé\",\"pendant\",\"pense\",\"permet\",\"personne\",\"peu\",\"peut\",\"peuvent\",\"peux\",\"pff\",\"pfft\",\"pfut\",\"pif\",\"pire\",\"plein\",\"plouf\",\"plus\",\"plusieurs\",\"plutôt\",\"possessif\",\"possessifs\",\"possible\",\"possibles\",\"pouah\",\"pour\",\"pourquoi\",\"pourrais\",\"pourrait\",\"pouvait\",\"prealable\",\"precisement\",\"premier\",\"première\",\"premièrement\",\"pres\",\"probable\",\"probante\",\"procedant\",\"proche\",\"près\",\"psitt\",\"pu\",\"puis\",\"puisque\",\"pur\",\"pure\",\"q\",\"qu\",\"quand\",\"quant\",\"quant-à-soi\",\"quanta\",\"quarante\",\"quatorze\",\"quatre\",\"quatre-vingt\",\"quatrième\",\"quatrièmement\",\"que\",\"quel\",\"quelconque\",\"quelle\",\"quelles\",\"quelqu'un\",\"quelque\",\"quelques\",\"quels\",\"qui\",\"quiconque\",\"quinze\",\"quoi\",\"quoique\",\"r\",\"rare\",\"rarement\",\"rares\",\"relative\",\"relativement\",\"remarquable\",\"rend\",\"rendre\",\"restant\",\"reste\",\"restent\",\"restrictif\",\"retour\",\"revoici\",\"revoilà\",\"rien\",\"s\",\"sa\",\"sacrebleu\",\"sait\",\"sans\",\"sapristi\",\"sauf\",\"se\",\"sein\",\"seize\",\"selon\",\"semblable\",\"semblaient\",\"semble\",\"semblent\",\"sent\",\"sept\",\"septième\",\"sera\",\"seraient\",\"serait\",\"seront\",\"ses\",\"seul\",\"seule\",\"seulement\",\"si\",\"sien\",\"sienne\",\"siennes\",\"siens\",\"sinon\",\"six\",\"sixième\",\"soi\",\"soi-même\",\"soit\",\"soixante\",\"son\",\"sont\",\"sous\",\"souvent\",\"specifique\",\"specifiques\",\"speculatif\",\"stop\",\"strictement\",\"subtiles\",\"suffisant\",\"suffisante\",\"suffit\",\"suis\",\"suit\",\"suivant\",\"suivante\",\"suivantes\",\"suivants\",\"suivre\",\"superpose\",\"sur\",\"surtout\",\"t\",\"ta\",\"tac\",\"tant\",\"tardive\",\"te\",\"tel\",\"telle\",\"tellement\",\"telles\",\"tels\",\"tenant\",\"tend\",\"tenir\",\"tente\",\"tes\",\"tic\",\"tien\",\"tienne\",\"tiennes\",\"tiens\",\"toc\",\"toi\",\"toi-même\",\"ton\",\"touchant\",\"toujours\",\"tous\",\"tout\",\"toute\",\"toutefois\",\"toutes\",\"treize\",\"trente\",\"tres\",\"trois\",\"troisième\",\"troisièmement\",\"trop\",\"très\",\"tsoin\",\"tsouin\",\"tu\",\"té\",\"u\",\"un\",\"une\",\"unes\",\"uniformement\",\"unique\",\"uniques\",\"uns\",\"v\",\"va\",\"vais\",\"vas\",\"vers\",\"via\",\"vif\",\"vifs\",\"vingt\",\"vivat\",\"vive\",\"vives\",\"vlan\",\"voici\",\"voilà\",\"vont\",\"vos\",\"votre\",\"vous\",\"vous-mêmes\",\"vu\",\"vé\",\"vôtre\",\"vôtres\",\"w\",\"x\",\"y\",\"z\",\"zut\",\"à\",\"â\",\"ça\",\"ès\",\"étaient\",\"étais\",\"était\",\"étant\",\"été\",\"être\",\"ô\"],\"hr\":[\"a\",\"ako\",\"ali\",\"bi\",\"bih\",\"bila\",\"bili\",\"bilo\",\"bio\",\"bismo\",\"biste\",\"biti\",\"bumo\",\"da\",\"do\",\"duž\",\"ga\",\"hoće\",\"hoćemo\",\"hoćete\",\"hoćeš\",\"hoću\",\"i\",\"iako\",\"ih\",\"ili\",\"iz\",\"ja\",\"je\",\"jedna\",\"jedne\",\"jedno\",\"jer\",\"jesam\",\"jesi\",\"jesmo\",\"jest\",\"jeste\",\"jesu\",\"jim\",\"joj\",\"još\",\"ju\",\"kada\",\"kako\",\"kao\",\"koja\",\"koje\",\"koji\",\"kojima\",\"koju\",\"kroz\",\"li\",\"me\",\"mene\",\"meni\",\"mi\",\"mimo\",\"moj\",\"moja\",\"moje\",\"mu\",\"na\",\"nad\",\"nakon\",\"nam\",\"nama\",\"nas\",\"naš\",\"naša\",\"naše\",\"našeg\",\"ne\",\"nego\",\"neka\",\"neki\",\"nekog\",\"neku\",\"nema\",\"netko\",\"neće\",\"nećemo\",\"nećete\",\"nećeš\",\"neću\",\"nešto\",\"ni\",\"nije\",\"nikoga\",\"nikoje\",\"nikoju\",\"nisam\",\"nisi\",\"nismo\",\"niste\",\"nisu\",\"njega\",\"njegov\",\"njegova\",\"njegovo\",\"njemu\",\"njezin\",\"njezina\",\"njezino\",\"njih\",\"njihov\",\"njihova\",\"njihovo\",\"njim\",\"njima\",\"njoj\",\"nju\",\"no\",\"o\",\"od\",\"odmah\",\"on\",\"ona\",\"oni\",\"ono\",\"ova\",\"pa\",\"pak\",\"po\",\"pod\",\"pored\",\"prije\",\"s\",\"sa\",\"sam\",\"samo\",\"se\",\"sebe\",\"sebi\",\"si\",\"smo\",\"ste\",\"su\",\"sve\",\"svi\",\"svog\",\"svoj\",\"svoja\",\"svoje\",\"svom\",\"ta\",\"tada\",\"taj\",\"tako\",\"te\",\"tebe\",\"tebi\",\"ti\",\"to\",\"toj\",\"tome\",\"tu\",\"tvoj\",\"tvoja\",\"tvoje\",\"u\",\"uz\",\"vam\",\"vama\",\"vas\",\"vaš\",\"vaša\",\"vaše\",\"već\",\"vi\",\"vrlo\",\"za\",\"zar\",\"će\",\"ćemo\",\"ćete\",\"ćeš\",\"ću\",\"što\"],\"hu\":[\"a\",\"abba\",\"abban\",\"abból\",\"addig\",\"ahhoz\",\"ahogy\",\"ahol\",\"aki\",\"akik\",\"akkor\",\"akár\",\"alapján\",\"alatt\",\"alatta\",\"alattad\",\"alattam\",\"alattatok\",\"alattuk\",\"alattunk\",\"alá\",\"alád\",\"alájuk\",\"alám\",\"alánk\",\"alátok\",\"alól\",\"alóla\",\"alólad\",\"alólam\",\"alólatok\",\"alóluk\",\"alólunk\",\"amely\",\"amelybol\",\"amelyek\",\"amelyekben\",\"amelyeket\",\"amelyet\",\"amelyik\",\"amelynek\",\"ami\",\"amikor\",\"amit\",\"amolyan\",\"amott\",\"amíg\",\"annak\",\"annál\",\"arra\",\"arról\",\"attól\",\"az\",\"aznap\",\"azok\",\"azokat\",\"azokba\",\"azokban\",\"azokból\",\"azokhoz\",\"azokig\",\"azokkal\",\"azokká\",\"azoknak\",\"azoknál\",\"azokon\",\"azokra\",\"azokról\",\"azoktól\",\"azokért\",\"azon\",\"azonban\",\"azonnal\",\"azt\",\"aztán\",\"azután\",\"azzal\",\"azzá\",\"azért\",\"bal\",\"balra\",\"ban\",\"be\",\"belé\",\"beléd\",\"beléjük\",\"belém\",\"belénk\",\"belétek\",\"belül\",\"belőle\",\"belőled\",\"belőlem\",\"belőletek\",\"belőlük\",\"belőlünk\",\"ben\",\"benne\",\"benned\",\"bennem\",\"bennetek\",\"bennük\",\"bennünk\",\"bár\",\"bárcsak\",\"bármilyen\",\"búcsú\",\"cikk\",\"cikkek\",\"cikkeket\",\"csak\",\"csakhogy\",\"csupán\",\"de\",\"dehogy\",\"e\",\"ebbe\",\"ebben\",\"ebből\",\"eddig\",\"egy\",\"egyebek\",\"egyebet\",\"egyedül\",\"egyelőre\",\"egyes\",\"egyet\",\"egyetlen\",\"egyik\",\"egymás\",\"egyre\",\"egyszerre\",\"egyéb\",\"együtt\",\"egész\",\"egészen\",\"ehhez\",\"ekkor\",\"el\",\"eleinte\",\"ellen\",\"ellenes\",\"elleni\",\"ellenére\",\"elmondta\",\"első\",\"elsők\",\"elsősorban\",\"elsőt\",\"elé\",\"eléd\",\"elég\",\"eléjük\",\"elém\",\"elénk\",\"elétek\",\"elő\",\"előbb\",\"elől\",\"előle\",\"előled\",\"előlem\",\"előletek\",\"előlük\",\"előlünk\",\"először\",\"előtt\",\"előtte\",\"előtted\",\"előttem\",\"előttetek\",\"előttük\",\"előttünk\",\"előző\",\"emilyen\",\"engem\",\"ennek\",\"ennyi\",\"ennél\",\"enyém\",\"erre\",\"erről\",\"esetben\",\"ettől\",\"ez\",\"ezek\",\"ezekbe\",\"ezekben\",\"ezekből\",\"ezeken\",\"ezeket\",\"ezekhez\",\"ezekig\",\"ezekkel\",\"ezekké\",\"ezeknek\",\"ezeknél\",\"ezekre\",\"ezekről\",\"ezektől\",\"ezekért\",\"ezen\",\"ezentúl\",\"ezer\",\"ezret\",\"ezt\",\"ezután\",\"ezzel\",\"ezzé\",\"ezért\",\"fel\",\"fele\",\"felek\",\"felet\",\"felett\",\"felé\",\"fent\",\"fenti\",\"fél\",\"fölé\",\"gyakran\",\"ha\",\"halló\",\"hamar\",\"hanem\",\"harmadik\",\"harmadikat\",\"harminc\",\"hat\",\"hatodik\",\"hatodikat\",\"hatot\",\"hatvan\",\"helyett\",\"hetedik\",\"hetediket\",\"hetet\",\"hetven\",\"hirtelen\",\"hiszen\",\"hiába\",\"hogy\",\"hogyan\",\"hol\",\"holnap\",\"holnapot\",\"honnan\",\"hova\",\"hozzá\",\"hozzád\",\"hozzájuk\",\"hozzám\",\"hozzánk\",\"hozzátok\",\"hurrá\",\"huszadik\",\"hány\",\"hányszor\",\"hármat\",\"három\",\"hát\",\"hátha\",\"hátulsó\",\"hét\",\"húsz\",\"ide\",\"ide-оda\",\"idén\",\"igazán\",\"igen\",\"ill\",\"illetve\",\"ilyen\",\"ilyenkor\",\"immár\",\"inkább\",\"is\",\"ismét\",\"ison\",\"itt\",\"jelenleg\",\"jobban\",\"jobbra\",\"jó\",\"jól\",\"jólesik\",\"jóval\",\"jövőre\",\"kell\",\"kellene\",\"kellett\",\"kelljen\",\"keressünk\",\"keresztül\",\"ketten\",\"kettő\",\"kettőt\",\"kevés\",\"ki\",\"kiben\",\"kiből\",\"kicsit\",\"kicsoda\",\"kihez\",\"kik\",\"kikbe\",\"kikben\",\"kikből\",\"kiken\",\"kiket\",\"kikhez\",\"kikkel\",\"kikké\",\"kiknek\",\"kiknél\",\"kikre\",\"kikről\",\"kiktől\",\"kikért\",\"kilenc\",\"kilencedik\",\"kilencediket\",\"kilencet\",\"kilencven\",\"kin\",\"kinek\",\"kinél\",\"kire\",\"kiről\",\"kit\",\"kitől\",\"kivel\",\"kivé\",\"kié\",\"kiért\",\"korábban\",\"képest\",\"kérem\",\"kérlek\",\"kész\",\"késő\",\"később\",\"későn\",\"két\",\"kétszer\",\"kívül\",\"körül\",\"köszönhetően\",\"köszönöm\",\"közben\",\"közel\",\"közepesen\",\"közepén\",\"közé\",\"között\",\"közül\",\"külön\",\"különben\",\"különböző\",\"különbözőbb\",\"különbözőek\",\"lassan\",\"le\",\"legalább\",\"legyen\",\"lehet\",\"lehetetlen\",\"lehetett\",\"lehetőleg\",\"lehetőség\",\"lenne\",\"lenni\",\"lennék\",\"lennének\",\"lesz\",\"leszek\",\"lesznek\",\"leszünk\",\"lett\",\"lettek\",\"lettem\",\"lettünk\",\"lévő\",\"ma\",\"maga\",\"magad\",\"magam\",\"magatokat\",\"magukat\",\"magunkat\",\"magát\",\"mai\",\"majd\",\"majdnem\",\"manapság\",\"meg\",\"megcsinál\",\"megcsinálnak\",\"megint\",\"megvan\",\"mellett\",\"mellette\",\"melletted\",\"mellettem\",\"mellettetek\",\"mellettük\",\"mellettünk\",\"mellé\",\"melléd\",\"melléjük\",\"mellém\",\"mellénk\",\"mellétek\",\"mellől\",\"mellőle\",\"mellőled\",\"mellőlem\",\"mellőletek\",\"mellőlük\",\"mellőlünk\",\"mely\",\"melyek\",\"melyik\",\"mennyi\",\"mert\",\"mi\",\"miatt\",\"miatta\",\"miattad\",\"miattam\",\"miattatok\",\"miattuk\",\"miattunk\",\"mibe\",\"miben\",\"miből\",\"mihez\",\"mik\",\"mikbe\",\"mikben\",\"mikből\",\"miken\",\"miket\",\"mikhez\",\"mikkel\",\"mikké\",\"miknek\",\"miknél\",\"mikor\",\"mikre\",\"mikről\",\"miktől\",\"mikért\",\"milyen\",\"min\",\"mind\",\"mindegyik\",\"mindegyiket\",\"minden\",\"mindenesetre\",\"mindenki\",\"mindent\",\"mindenütt\",\"mindig\",\"mindketten\",\"minek\",\"minket\",\"mint\",\"mintha\",\"minél\",\"mire\",\"miről\",\"mit\",\"mitől\",\"mivel\",\"mivé\",\"miért\",\"mondta\",\"most\",\"mostanáig\",\"már\",\"más\",\"másik\",\"másikat\",\"másnap\",\"második\",\"másodszor\",\"mások\",\"másokat\",\"mást\",\"még\",\"mégis\",\"míg\",\"mögé\",\"mögéd\",\"mögéjük\",\"mögém\",\"mögénk\",\"mögétek\",\"mögött\",\"mögötte\",\"mögötted\",\"mögöttem\",\"mögöttetek\",\"mögöttük\",\"mögöttünk\",\"mögül\",\"mögüle\",\"mögüled\",\"mögülem\",\"mögületek\",\"mögülük\",\"mögülünk\",\"múltkor\",\"múlva\",\"na\",\"nagy\",\"nagyobb\",\"nagyon\",\"naponta\",\"napot\",\"ne\",\"negyedik\",\"negyediket\",\"negyven\",\"neked\",\"nekem\",\"neki\",\"nekik\",\"nektek\",\"nekünk\",\"nem\",\"nemcsak\",\"nemrég\",\"nincs\",\"nyolc\",\"nyolcadik\",\"nyolcadikat\",\"nyolcat\",\"nyolcvan\",\"nála\",\"nálad\",\"nálam\",\"nálatok\",\"náluk\",\"nálunk\",\"négy\",\"négyet\",\"néha\",\"néhány\",\"nélkül\",\"o\",\"oda\",\"ok\",\"olyan\",\"onnan\",\"ott\",\"pedig\",\"persze\",\"pár\",\"például\",\"rajta\",\"rajtad\",\"rajtam\",\"rajtatok\",\"rajtuk\",\"rajtunk\",\"rendben\",\"rosszul\",\"rá\",\"rád\",\"rájuk\",\"rám\",\"ránk\",\"rátok\",\"régen\",\"régóta\",\"részére\",\"róla\",\"rólad\",\"rólam\",\"rólatok\",\"róluk\",\"rólunk\",\"rögtön\",\"s\",\"saját\",\"se\",\"sem\",\"semmi\",\"semmilyen\",\"semmiség\",\"senki\",\"soha\",\"sok\",\"sokan\",\"sokat\",\"sokkal\",\"sokszor\",\"sokáig\",\"során\",\"stb.\",\"szemben\",\"szerbusz\",\"szerint\",\"szerinte\",\"szerinted\",\"szerintem\",\"szerintetek\",\"szerintük\",\"szerintünk\",\"szervusz\",\"szinte\",\"számára\",\"száz\",\"századik\",\"százat\",\"szépen\",\"szét\",\"szíves\",\"szívesen\",\"szíveskedjék\",\"sőt\",\"talán\",\"tavaly\",\"te\",\"tegnap\",\"tegnapelőtt\",\"tehát\",\"tele\",\"teljes\",\"tessék\",\"ti\",\"tied\",\"titeket\",\"tizedik\",\"tizediket\",\"tizenegy\",\"tizenegyedik\",\"tizenhat\",\"tizenhárom\",\"tizenhét\",\"tizenkettedik\",\"tizenkettő\",\"tizenkilenc\",\"tizenkét\",\"tizennyolc\",\"tizennégy\",\"tizenöt\",\"tizet\",\"tovább\",\"további\",\"továbbá\",\"távol\",\"téged\",\"tényleg\",\"tíz\",\"több\",\"többi\",\"többször\",\"túl\",\"tőle\",\"tőled\",\"tőlem\",\"tőletek\",\"tőlük\",\"tőlünk\",\"ugyanakkor\",\"ugyanez\",\"ugyanis\",\"ugye\",\"urak\",\"uram\",\"urat\",\"utoljára\",\"utolsó\",\"után\",\"utána\",\"vagy\",\"vagyis\",\"vagyok\",\"vagytok\",\"vagyunk\",\"vajon\",\"valahol\",\"valaki\",\"valakit\",\"valamelyik\",\"valami\",\"valamint\",\"való\",\"van\",\"vannak\",\"vele\",\"veled\",\"velem\",\"veletek\",\"velük\",\"velünk\",\"vissza\",\"viszlát\",\"viszont\",\"viszontlátásra\",\"volna\",\"volnának\",\"volnék\",\"volt\",\"voltak\",\"voltam\",\"voltunk\",\"végre\",\"végén\",\"végül\",\"által\",\"általában\",\"ám\",\"át\",\"éljen\",\"én\",\"éppen\",\"érte\",\"érted\",\"értem\",\"értetek\",\"értük\",\"értünk\",\"és\",\"év\",\"évben\",\"éve\",\"évek\",\"éves\",\"évi\",\"évvel\",\"így\",\"óta\",\"ön\",\"önbe\",\"önben\",\"önből\",\"önhöz\",\"önnek\",\"önnel\",\"önnél\",\"önre\",\"önről\",\"önt\",\"öntől\",\"önért\",\"önök\",\"önökbe\",\"önökben\",\"önökből\",\"önöket\",\"önökhöz\",\"önökkel\",\"önöknek\",\"önöknél\",\"önökre\",\"önökről\",\"önöktől\",\"önökért\",\"önökön\",\"önön\",\"össze\",\"öt\",\"ötven\",\"ötödik\",\"ötödiket\",\"ötöt\",\"úgy\",\"úgyis\",\"úgynevezett\",\"új\",\"újabb\",\"újra\",\"úr\",\"ő\",\"ők\",\"őket\",\"őt\"],\"it\":[\"IE\",\"a\",\"abbastanza\",\"abbia\",\"abbiamo\",\"abbiano\",\"abbiate\",\"accidenti\",\"ad\",\"adesso\",\"affinche\",\"agl\",\"agli\",\"ahime\",\"ahimè\",\"ai\",\"al\",\"alcuna\",\"alcuni\",\"alcuno\",\"all\",\"alla\",\"alle\",\"allo\",\"allora\",\"altri\",\"altrimenti\",\"altro\",\"altrove\",\"altrui\",\"anche\",\"ancora\",\"anni\",\"anno\",\"ansa\",\"anticipo\",\"assai\",\"attesa\",\"attraverso\",\"avanti\",\"avemmo\",\"avendo\",\"avente\",\"aver\",\"avere\",\"averlo\",\"avesse\",\"avessero\",\"avessi\",\"avessimo\",\"aveste\",\"avesti\",\"avete\",\"aveva\",\"avevamo\",\"avevano\",\"avevate\",\"avevi\",\"avevo\",\"avrai\",\"avranno\",\"avrebbe\",\"avrebbero\",\"avrei\",\"avremmo\",\"avremo\",\"avreste\",\"avresti\",\"avrete\",\"avrà\",\"avrò\",\"avuta\",\"avute\",\"avuti\",\"avuto\",\"basta\",\"bene\",\"benissimo\",\"berlusconi\",\"brava\",\"bravo\",\"c\",\"casa\",\"caso\",\"cento\",\"certa\",\"certe\",\"certi\",\"certo\",\"che\",\"chi\",\"chicchessia\",\"chiunque\",\"ci\",\"ciascuna\",\"ciascuno\",\"cima\",\"cio\",\"cioe\",\"cioè\",\"circa\",\"citta\",\"città\",\"ciò\",\"co\",\"codesta\",\"codesti\",\"codesto\",\"cogli\",\"coi\",\"col\",\"colei\",\"coll\",\"coloro\",\"colui\",\"come\",\"cominci\",\"comunque\",\"con\",\"concernente\",\"conciliarsi\",\"conclusione\",\"consiglio\",\"contro\",\"cortesia\",\"cos\",\"cosa\",\"cosi\",\"così\",\"cui\",\"d\",\"da\",\"dagl\",\"dagli\",\"dai\",\"dal\",\"dall\",\"dalla\",\"dalle\",\"dallo\",\"dappertutto\",\"davanti\",\"degl\",\"degli\",\"dei\",\"del\",\"dell\",\"della\",\"delle\",\"dello\",\"dentro\",\"detto\",\"deve\",\"di\",\"dice\",\"dietro\",\"dire\",\"dirimpetto\",\"diventa\",\"diventare\",\"diventato\",\"dopo\",\"dov\",\"dove\",\"dovra\",\"dovrà\",\"dovunque\",\"due\",\"dunque\",\"durante\",\"e\",\"ebbe\",\"ebbero\",\"ebbi\",\"ecc\",\"ecco\",\"ed\",\"effettivamente\",\"egli\",\"ella\",\"entrambi\",\"eppure\",\"era\",\"erano\",\"eravamo\",\"eravate\",\"eri\",\"ero\",\"esempio\",\"esse\",\"essendo\",\"esser\",\"essere\",\"essi\",\"ex\",\"fa\",\"faccia\",\"facciamo\",\"facciano\",\"facciate\",\"faccio\",\"facemmo\",\"facendo\",\"facesse\",\"facessero\",\"facessi\",\"facessimo\",\"faceste\",\"facesti\",\"faceva\",\"facevamo\",\"facevano\",\"facevate\",\"facevi\",\"facevo\",\"fai\",\"fanno\",\"farai\",\"faranno\",\"fare\",\"farebbe\",\"farebbero\",\"farei\",\"faremmo\",\"faremo\",\"fareste\",\"faresti\",\"farete\",\"farà\",\"farò\",\"fatto\",\"favore\",\"fece\",\"fecero\",\"feci\",\"fin\",\"finalmente\",\"finche\",\"fine\",\"fino\",\"forse\",\"forza\",\"fosse\",\"fossero\",\"fossi\",\"fossimo\",\"foste\",\"fosti\",\"fra\",\"frattempo\",\"fu\",\"fui\",\"fummo\",\"fuori\",\"furono\",\"futuro\",\"generale\",\"gia\",\"giacche\",\"giorni\",\"giorno\",\"già\",\"gli\",\"gliela\",\"gliele\",\"glieli\",\"glielo\",\"gliene\",\"governo\",\"grande\",\"grazie\",\"gruppo\",\"ha\",\"haha\",\"hai\",\"hanno\",\"ho\",\"i\",\"ieri\",\"il\",\"improvviso\",\"in\",\"inc\",\"infatti\",\"inoltre\",\"insieme\",\"intanto\",\"intorno\",\"invece\",\"io\",\"l\",\"la\",\"lasciato\",\"lato\",\"lavoro\",\"le\",\"lei\",\"li\",\"lo\",\"lontano\",\"loro\",\"lui\",\"lungo\",\"luogo\",\"là\",\"ma\",\"macche\",\"magari\",\"maggior\",\"mai\",\"male\",\"malgrado\",\"malissimo\",\"mancanza\",\"marche\",\"me\",\"medesimo\",\"mediante\",\"meglio\",\"meno\",\"mentre\",\"mesi\",\"mezzo\",\"mi\",\"mia\",\"mie\",\"miei\",\"mila\",\"miliardi\",\"milioni\",\"minimi\",\"ministro\",\"mio\",\"modo\",\"molti\",\"moltissimo\",\"molto\",\"momento\",\"mondo\",\"mosto\",\"nazionale\",\"ne\",\"negl\",\"negli\",\"nei\",\"nel\",\"nell\",\"nella\",\"nelle\",\"nello\",\"nemmeno\",\"neppure\",\"nessun\",\"nessuna\",\"nessuno\",\"niente\",\"no\",\"noi\",\"non\",\"nondimeno\",\"nonostante\",\"nonsia\",\"nostra\",\"nostre\",\"nostri\",\"nostro\",\"novanta\",\"nove\",\"nulla\",\"nuovo\",\"o\",\"od\",\"oggi\",\"ogni\",\"ognuna\",\"ognuno\",\"oltre\",\"oppure\",\"ora\",\"ore\",\"osi\",\"ossia\",\"ottanta\",\"otto\",\"paese\",\"parecchi\",\"parecchie\",\"parecchio\",\"parte\",\"partendo\",\"peccato\",\"peggio\",\"per\",\"perche\",\"perchè\",\"perché\",\"percio\",\"perciò\",\"perfino\",\"pero\",\"persino\",\"persone\",\"però\",\"piedi\",\"pieno\",\"piglia\",\"piu\",\"piuttosto\",\"più\",\"po\",\"pochissimo\",\"poco\",\"poi\",\"poiche\",\"possa\",\"possedere\",\"posteriore\",\"posto\",\"potrebbe\",\"preferibilmente\",\"presa\",\"press\",\"prima\",\"primo\",\"principalmente\",\"probabilmente\",\"proprio\",\"puo\",\"pure\",\"purtroppo\",\"può\",\"qualche\",\"qualcosa\",\"qualcuna\",\"qualcuno\",\"quale\",\"quali\",\"qualunque\",\"quando\",\"quanta\",\"quante\",\"quanti\",\"quanto\",\"quantunque\",\"quasi\",\"quattro\",\"quel\",\"quella\",\"quelle\",\"quelli\",\"quello\",\"quest\",\"questa\",\"queste\",\"questi\",\"questo\",\"qui\",\"quindi\",\"realmente\",\"recente\",\"recentemente\",\"registrazione\",\"relativo\",\"riecco\",\"salvo\",\"sara\",\"sarai\",\"saranno\",\"sarebbe\",\"sarebbero\",\"sarei\",\"saremmo\",\"saremo\",\"sareste\",\"saresti\",\"sarete\",\"sarà\",\"sarò\",\"scola\",\"scopo\",\"scorso\",\"se\",\"secondo\",\"seguente\",\"seguito\",\"sei\",\"sembra\",\"sembrare\",\"sembrato\",\"sembri\",\"sempre\",\"senza\",\"sette\",\"si\",\"sia\",\"siamo\",\"siano\",\"siate\",\"siete\",\"sig\",\"solito\",\"solo\",\"soltanto\",\"sono\",\"sopra\",\"sotto\",\"spesso\",\"srl\",\"sta\",\"stai\",\"stando\",\"stanno\",\"starai\",\"staranno\",\"starebbe\",\"starebbero\",\"starei\",\"staremmo\",\"staremo\",\"stareste\",\"staresti\",\"starete\",\"starà\",\"starò\",\"stata\",\"state\",\"stati\",\"stato\",\"stava\",\"stavamo\",\"stavano\",\"stavate\",\"stavi\",\"stavo\",\"stemmo\",\"stessa\",\"stesse\",\"stessero\",\"stessi\",\"stessimo\",\"stesso\",\"steste\",\"stesti\",\"stette\",\"stettero\",\"stetti\",\"stia\",\"stiamo\",\"stiano\",\"stiate\",\"sto\",\"su\",\"sua\",\"subito\",\"successivamente\",\"successivo\",\"sue\",\"sugl\",\"sugli\",\"sui\",\"sul\",\"sull\",\"sulla\",\"sulle\",\"sullo\",\"suo\",\"suoi\",\"tale\",\"tali\",\"talvolta\",\"tanto\",\"te\",\"tempo\",\"ti\",\"titolo\",\"torino\",\"tra\",\"tranne\",\"tre\",\"trenta\",\"troppo\",\"trovato\",\"tu\",\"tua\",\"tue\",\"tuo\",\"tuoi\",\"tutta\",\"tuttavia\",\"tutte\",\"tutti\",\"tutto\",\"uguali\",\"ulteriore\",\"ultimo\",\"un\",\"una\",\"uno\",\"uomo\",\"va\",\"vale\",\"vari\",\"varia\",\"varie\",\"vario\",\"verso\",\"vi\",\"via\",\"vicino\",\"visto\",\"vita\",\"voi\",\"volta\",\"volte\",\"vostra\",\"vostre\",\"vostri\",\"vostro\",\"è\"],\"ko\":[\"!\",\"\\\"\",\"$\",\"%\",\"&\",\"'\",\"(\",\")\",\"*\",\"+\",\",\",\"-\",\".\",\"...\",\"0\",\"1\",\"2\",\"3\",\"4\",\"5\",\"6\",\"7\",\"8\",\"9\",\";\",\"<\",\"=\",\">\",\"?\",\"@\",\"\\\\\",\"^\",\"_\",\"`\",\"|\",\"~\",\"·\",\"—\",\"——\",\"‘\",\"’\",\"“\",\"”\",\"…\",\"、\",\"。\",\"〈\",\"〉\",\"《\",\"》\",\"가\",\"가까스로\",\"가령\",\"각\",\"각각\",\"각자\",\"각종\",\"갖고말하자면\",\"같다\",\"같이\",\"개의치않고\",\"거니와\",\"거바\",\"거의\",\"것\",\"것과 같이\",\"것들\",\"게다가\",\"게우다\",\"겨우\",\"견지에서\",\"결과에 이르다\",\"결국\",\"결론을 낼 수 있다\",\"겸사겸사\",\"고려하면\",\"고로\",\"곧\",\"공동으로\",\"과\",\"과연\",\"관계가 있다\",\"관계없이\",\"관련이 있다\",\"관하여\",\"관한\",\"관해서는\",\"구\",\"구체적으로\",\"구토하다\",\"그\",\"그들\",\"그때\",\"그래\",\"그래도\",\"그래서\",\"그러나\",\"그러니\",\"그러니까\",\"그러면\",\"그러므로\",\"그러한즉\",\"그런 까닭에\",\"그런데\",\"그런즉\",\"그럼\",\"그럼에도 불구하고\",\"그렇게 함으로써\",\"그렇지\",\"그렇지 않다면\",\"그렇지 않으면\",\"그렇지만\",\"그렇지않으면\",\"그리고\",\"그리하여\",\"그만이다\",\"그에 따르는\",\"그위에\",\"그저\",\"그중에서\",\"그치지 않다\",\"근거로\",\"근거하여\",\"기대여\",\"기점으로\",\"기준으로\",\"기타\",\"까닭으로\",\"까악\",\"까지\",\"까지 미치다\",\"까지도\",\"꽈당\",\"끙끙\",\"끼익\",\"나\",\"나머지는\",\"남들\",\"남짓\",\"너\",\"너희\",\"너희들\",\"네\",\"넷\",\"년\",\"논하지 않다\",\"놀라다\",\"누가 알겠는가\",\"누구\",\"다른\",\"다른 방면으로\",\"다만\",\"다섯\",\"다소\",\"다수\",\"다시 말하자면\",\"다시말하면\",\"다음\",\"다음에\",\"다음으로\",\"단지\",\"답다\",\"당신\",\"당장\",\"대로 하다\",\"대하면\",\"대하여\",\"대해 말하자면\",\"대해서\",\"댕그\",\"더구나\",\"더군다나\",\"더라도\",\"더불어\",\"더욱더\",\"더욱이는\",\"도달하다\",\"도착하다\",\"동시에\",\"동안\",\"된바에야\",\"된이상\",\"두번째로\",\"둘\",\"둥둥\",\"뒤따라\",\"뒤이어\",\"든간에\",\"들\",\"등\",\"등등\",\"딩동\",\"따라\",\"따라서\",\"따위\",\"따지지 않다\",\"딱\",\"때\",\"때가 되어\",\"때문에\",\"또\",\"또한\",\"뚝뚝\",\"라 해도\",\"령\",\"로\",\"로 인하여\",\"로부터\",\"로써\",\"륙\",\"를\",\"마음대로\",\"마저\",\"마저도\",\"마치\",\"막론하고\",\"만 못하다\",\"만약\",\"만약에\",\"만은 아니다\",\"만이 아니다\",\"만일\",\"만큼\",\"말하자면\",\"말할것도 없고\",\"매\",\"매번\",\"메쓰겁다\",\"몇\",\"모\",\"모두\",\"무렵\",\"무릎쓰고\",\"무슨\",\"무엇\",\"무엇때문에\",\"물론\",\"및\",\"바꾸어말하면\",\"바꾸어말하자면\",\"바꾸어서 말하면\",\"바꾸어서 한다면\",\"바꿔 말하면\",\"바로\",\"바와같이\",\"밖에 안된다\",\"반대로\",\"반대로 말하자면\",\"반드시\",\"버금\",\"보는데서\",\"보다더\",\"보드득\",\"본대로\",\"봐\",\"봐라\",\"부류의 사람들\",\"부터\",\"불구하고\",\"불문하고\",\"붕붕\",\"비걱거리다\",\"비교적\",\"비길수 없다\",\"비로소\",\"비록\",\"비슷하다\",\"비추어 보아\",\"비하면\",\"뿐만 아니라\",\"뿐만아니라\",\"뿐이다\",\"삐걱\",\"삐걱거리다\",\"사\",\"삼\",\"상대적으로 말하자면\",\"생각한대로\",\"설령\",\"설마\",\"설사\",\"셋\",\"소생\",\"소인\",\"솨\",\"쉿\",\"습니까\",\"습니다\",\"시각\",\"시간\",\"시작하여\",\"시초에\",\"시키다\",\"실로\",\"심지어\",\"아\",\"아니\",\"아니나다를가\",\"아니라면\",\"아니면\",\"아니었다면\",\"아래윗\",\"아무거나\",\"아무도\",\"아야\",\"아울러\",\"아이\",\"아이고\",\"아이구\",\"아이야\",\"아이쿠\",\"아하\",\"아홉\",\"안 그러면\",\"않기 위하여\",\"않기 위해서\",\"알 수 있다\",\"알았어\",\"앗\",\"앞에서\",\"앞의것\",\"야\",\"약간\",\"양자\",\"어\",\"어기여차\",\"어느\",\"어느 년도\",\"어느것\",\"어느곳\",\"어느때\",\"어느쪽\",\"어느해\",\"어디\",\"어때\",\"어떠한\",\"어떤\",\"어떤것\",\"어떤것들\",\"어떻게\",\"어떻해\",\"어이\",\"어째서\",\"어쨋든\",\"어쩔수 없다\",\"어찌\",\"어찌됏든\",\"어찌됏어\",\"어찌하든지\",\"어찌하여\",\"언제\",\"언젠가\",\"얼마\",\"얼마 안 되는 것\",\"얼마간\",\"얼마나\",\"얼마든지\",\"얼마만큼\",\"얼마큼\",\"엉엉\",\"에\",\"에 가서\",\"에 달려 있다\",\"에 대해\",\"에 있다\",\"에 한하다\",\"에게\",\"에서\",\"여\",\"여기\",\"여덟\",\"여러분\",\"여보시오\",\"여부\",\"여섯\",\"여전히\",\"여차\",\"연관되다\",\"연이서\",\"영\",\"영차\",\"옆사람\",\"예\",\"예를 들면\",\"예를 들자면\",\"예컨대\",\"예하면\",\"오\",\"오로지\",\"오르다\",\"오자마자\",\"오직\",\"오호\",\"오히려\",\"와\",\"와 같은 사람들\",\"와르르\",\"와아\",\"왜\",\"왜냐하면\",\"외에도\",\"요만큼\",\"요만한 것\",\"요만한걸\",\"요컨대\",\"우르르\",\"우리\",\"우리들\",\"우선\",\"우에 종합한것과같이\",\"운운\",\"월\",\"위에서 서술한바와같이\",\"위하여\",\"위해서\",\"윙윙\",\"육\",\"으로\",\"으로 인하여\",\"으로서\",\"으로써\",\"을\",\"응\",\"응당\",\"의\",\"의거하여\",\"의지하여\",\"의해\",\"의해되다\",\"의해서\",\"이\",\"이 되다\",\"이 때문에\",\"이 밖에\",\"이 외에\",\"이 정도의\",\"이것\",\"이곳\",\"이때\",\"이라면\",\"이래\",\"이러이러하다\",\"이러한\",\"이런\",\"이럴정도로\",\"이렇게 많은 것\",\"이렇게되면\",\"이렇게말하자면\",\"이렇구나\",\"이로 인하여\",\"이르기까지\",\"이리하여\",\"이만큼\",\"이번\",\"이봐\",\"이상\",\"이어서\",\"이었다\",\"이와 같다\",\"이와 같은\",\"이와 반대로\",\"이와같다면\",\"이외에도\",\"이용하여\",\"이유만으로\",\"이젠\",\"이지만\",\"이쪽\",\"이천구\",\"이천육\",\"이천칠\",\"이천팔\",\"인 듯하다\",\"인젠\",\"일\",\"일것이다\",\"일곱\",\"일단\",\"일때\",\"일반적으로\",\"일지라도\",\"임에 틀림없다\",\"입각하여\",\"입장에서\",\"잇따라\",\"있다\",\"자\",\"자기\",\"자기집\",\"자마자\",\"자신\",\"잠깐\",\"잠시\",\"저\",\"저것\",\"저것만큼\",\"저기\",\"저쪽\",\"저희\",\"전부\",\"전자\",\"전후\",\"점에서 보아\",\"정도에 이르다\",\"제\",\"제각기\",\"제외하고\",\"조금\",\"조차\",\"조차도\",\"졸졸\",\"좀\",\"좋아\",\"좍좍\",\"주룩주룩\",\"주저하지 않고\",\"줄은 몰랏다\",\"줄은모른다\",\"중에서\",\"중의하나\",\"즈음하여\",\"즉\",\"즉시\",\"지든지\",\"지만\",\"지말고\",\"진짜로\",\"쪽으로\",\"차라리\",\"참\",\"참나\",\"첫번째로\",\"쳇\",\"총적으로\",\"총적으로 말하면\",\"총적으로 보면\",\"칠\",\"콸콸\",\"쾅쾅\",\"쿵\",\"타다\",\"타인\",\"탕탕\",\"토하다\",\"통하여\",\"툭\",\"퉤\",\"틈타\",\"팍\",\"팔\",\"퍽\",\"펄렁\",\"하\",\"하게될것이다\",\"하게하다\",\"하겠는가\",\"하고 있다\",\"하고있었다\",\"하곤하였다\",\"하구나\",\"하기 때문에\",\"하기 위하여\",\"하기는한데\",\"하기만 하면\",\"하기보다는\",\"하기에\",\"하나\",\"하느니\",\"하는 김에\",\"하는 편이 낫다\",\"하는것도\",\"하는것만 못하다\",\"하는것이 낫다\",\"하는바\",\"하더라도\",\"하도다\",\"하도록시키다\",\"하도록하다\",\"하든지\",\"하려고하다\",\"하마터면\",\"하면 할수록\",\"하면된다\",\"하면서\",\"하물며\",\"하여금\",\"하여야\",\"하자마자\",\"하지 않는다면\",\"하지 않도록\",\"하지마\",\"하지마라\",\"하지만\",\"하하\",\"한 까닭에\",\"한 이유는\",\"한 후\",\"한다면\",\"한다면 몰라도\",\"한데\",\"한마디\",\"한적이있다\",\"한켠으로는\",\"한항목\",\"할 따름이다\",\"할 생각이다\",\"할 줄 안다\",\"할 지경이다\",\"할 힘이 있다\",\"할때\",\"할만하다\",\"할망정\",\"할뿐\",\"할수있다\",\"할수있어\",\"할줄알다\",\"할지라도\",\"할지언정\",\"함께\",\"해도된다\",\"해도좋다\",\"해봐요\",\"해서는 안된다\",\"해야한다\",\"해요\",\"했어요\",\"향하다\",\"향하여\",\"향해서\",\"허\",\"허걱\",\"허허\",\"헉\",\"헉헉\",\"헐떡헐떡\",\"형식으로 쓰여\",\"혹시\",\"혹은\",\"혼자\",\"훨씬\",\"휘익\",\"휴\",\"흐흐\",\"흥\",\"힘입어\",\"︿\",\"！\",\"＃\",\"＄\",\"％\",\"＆\",\"（\",\"）\",\"＊\",\"＋\",\"，\",\"０\",\"１\",\"２\",\"３\",\"４\",\"５\",\"６\",\"７\",\"８\",\"９\",\"：\",\"；\",\"＜\",\"＞\",\"？\",\"＠\",\"［\",\"］\",\"｛\",\"｜\",\"｝\",\"～\",\"￥\"],\"nl\":[\"aan\",\"achte\",\"achter\",\"af\",\"al\",\"alle\",\"alleen\",\"alles\",\"als\",\"ander\",\"anders\",\"beetje\",\"behalve\",\"beide\",\"beiden\",\"ben\",\"beneden\",\"bent\",\"bij\",\"bijna\",\"bijv\",\"blijkbaar\",\"blijken\",\"boven\",\"bv\",\"daar\",\"daardoor\",\"daarin\",\"daarna\",\"daarom\",\"daaruit\",\"dan\",\"dat\",\"de\",\"deden\",\"deed\",\"derde\",\"derhalve\",\"dertig\",\"deze\",\"dhr\",\"die\",\"dit\",\"doe\",\"doen\",\"doet\",\"door\",\"drie\",\"duizend\",\"echter\",\"een\",\"eens\",\"eerst\",\"eerste\",\"eigen\",\"eigenlijk\",\"elk\",\"elke\",\"en\",\"enige\",\"er\",\"erg\",\"ergens\",\"etc\",\"etcetera\",\"even\",\"geen\",\"genoeg\",\"geweest\",\"haar\",\"haarzelf\",\"had\",\"hadden\",\"heb\",\"hebben\",\"hebt\",\"hedden\",\"heeft\",\"heel\",\"hem\",\"hemzelf\",\"hen\",\"het\",\"hetzelfde\",\"hier\",\"hierin\",\"hierna\",\"hierom\",\"hij\",\"hijzelf\",\"hoe\",\"honderd\",\"hun\",\"ieder\",\"iedere\",\"iedereen\",\"iemand\",\"iets\",\"ik\",\"in\",\"inderdaad\",\"intussen\",\"is\",\"ja\",\"je\",\"jij\",\"jijzelf\",\"jou\",\"jouw\",\"jullie\",\"kan\",\"kon\",\"konden\",\"kun\",\"kunnen\",\"kunt\",\"laatst\",\"later\",\"lijken\",\"lijkt\",\"maak\",\"maakt\",\"maakte\",\"maakten\",\"maar\",\"mag\",\"maken\",\"me\",\"meer\",\"meest\",\"meestal\",\"men\",\"met\",\"mevr\",\"mij\",\"mijn\",\"minder\",\"miss\",\"misschien\",\"missen\",\"mits\",\"mocht\",\"mochten\",\"moest\",\"moesten\",\"moet\",\"moeten\",\"mogen\",\"mr\",\"mrs\",\"mw\",\"na\",\"naar\",\"nam\",\"namelijk\",\"nee\",\"neem\",\"negen\",\"nemen\",\"nergens\",\"niemand\",\"niet\",\"niets\",\"niks\",\"noch\",\"nochtans\",\"nog\",\"nooit\",\"nu\",\"nv\",\"of\",\"om\",\"omdat\",\"ondanks\",\"onder\",\"ondertussen\",\"ons\",\"onze\",\"onzeker\",\"ooit\",\"ook\",\"op\",\"over\",\"overal\",\"overige\",\"paar\",\"per\",\"recent\",\"redelijk\",\"samen\",\"sinds\",\"steeds\",\"te\",\"tegen\",\"tegenover\",\"thans\",\"tien\",\"tiende\",\"tijdens\",\"tja\",\"toch\",\"toe\",\"tot\",\"totdat\",\"tussen\",\"twee\",\"tweede\",\"u\",\"uit\",\"uw\",\"vaak\",\"van\",\"vanaf\",\"veel\",\"veertig\",\"verder\",\"verscheidene\",\"verschillende\",\"via\",\"vier\",\"vierde\",\"vijf\",\"vijfde\",\"vijftig\",\"volgend\",\"volgens\",\"voor\",\"voordat\",\"voorts\",\"waar\",\"waarom\",\"waarschijnlijk\",\"wanneer\",\"waren\",\"was\",\"wat\",\"we\",\"wederom\",\"weer\",\"weinig\",\"wel\",\"welk\",\"welke\",\"werd\",\"werden\",\"werder\",\"whatever\",\"wie\",\"wij\",\"wijzelf\",\"wil\",\"wilden\",\"willen\",\"word\",\"worden\",\"wordt\",\"zal\",\"ze\",\"zei\",\"zeker\",\"zelf\",\"zelfde\",\"zes\",\"zeven\",\"zich\",\"zij\",\"zijn\",\"zijzelf\",\"zo\",\"zoals\",\"zodat\",\"zou\",\"zouden\",\"zulk\",\"zullen\"],\"no\":[\"alle\",\"at\",\"av\",\"bare\",\"begge\",\"ble\",\"blei\",\"bli\",\"blir\",\"blitt\",\"både\",\"båe\",\"da\",\"de\",\"deg\",\"dei\",\"deim\",\"deira\",\"deires\",\"dem\",\"den\",\"denne\",\"der\",\"dere\",\"deres\",\"det\",\"dette\",\"di\",\"din\",\"disse\",\"ditt\",\"du\",\"dykk\",\"dykkar\",\"då\",\"eg\",\"ein\",\"eit\",\"eitt\",\"eller\",\"elles\",\"en\",\"enn\",\"er\",\"et\",\"ett\",\"etter\",\"for\",\"fordi\",\"fra\",\"før\",\"ha\",\"hadde\",\"han\",\"hans\",\"har\",\"hennar\",\"henne\",\"hennes\",\"her\",\"hjå\",\"ho\",\"hoe\",\"honom\",\"hoss\",\"hossen\",\"hun\",\"hva\",\"hvem\",\"hver\",\"hvilke\",\"hvilken\",\"hvis\",\"hvor\",\"hvordan\",\"hvorfor\",\"i\",\"ikke\",\"ikkje\",\"ingen\",\"ingi\",\"inkje\",\"inn\",\"inni\",\"ja\",\"jeg\",\"kan\",\"kom\",\"korleis\",\"korso\",\"kun\",\"kunne\",\"kva\",\"kvar\",\"kvarhelst\",\"kven\",\"kvi\",\"kvifor\",\"man\",\"mange\",\"me\",\"med\",\"medan\",\"meg\",\"meget\",\"mellom\",\"men\",\"mi\",\"min\",\"mine\",\"mitt\",\"mot\",\"mykje\",\"ned\",\"no\",\"noe\",\"noen\",\"noka\",\"noko\",\"nokon\",\"nokor\",\"nokre\",\"nå\",\"når\",\"og\",\"også\",\"om\",\"opp\",\"oss\",\"over\",\"på\",\"samme\",\"seg\",\"selv\",\"si\",\"sia\",\"sidan\",\"siden\",\"sin\",\"sine\",\"sitt\",\"sjøl\",\"skal\",\"skulle\",\"slik\",\"so\",\"som\",\"somme\",\"somt\",\"så\",\"sånn\",\"til\",\"um\",\"upp\",\"ut\",\"uten\",\"var\",\"vart\",\"varte\",\"ved\",\"vere\",\"verte\",\"vi\",\"vil\",\"ville\",\"vore\",\"vors\",\"vort\",\"vår\",\"være\",\"vært\",\"å\"],\"pl\":[\"aby\",\"ach\",\"aj\",\"albo\",\"ale\",\"ani\",\"aż\",\"bardzo\",\"bez\",\"bo\",\"bowiem\",\"by\",\"byli\",\"bym\",\"być\",\"był\",\"była\",\"było\",\"były\",\"będzie\",\"będą\",\"chce\",\"choć\",\"ci\",\"ciebie\",\"cię\",\"co\",\"coraz\",\"coś\",\"czy\",\"czyli\",\"często\",\"daleko\",\"dla\",\"dlaczego\",\"dlatego\",\"do\",\"dobrze\",\"dokąd\",\"dość\",\"dr\",\"dużo\",\"dwa\",\"dwaj\",\"dwie\",\"dwoje\",\"dzisiaj\",\"dziś\",\"gdy\",\"gdyby\",\"gdyż\",\"gdzie\",\"go\",\"godz\",\"hab\",\"i\",\"ich\",\"ii\",\"iii\",\"ile\",\"im\",\"inne\",\"inny\",\"inż\",\"iv\",\"ix\",\"iż\",\"ja\",\"jak\",\"jakby\",\"jaki\",\"jakie\",\"jako\",\"je\",\"jeden\",\"jedna\",\"jednak\",\"jedno\",\"jednym\",\"jedynie\",\"jego\",\"jej\",\"jemu\",\"jest\",\"jestem\",\"jeszcze\",\"jeśli\",\"jeżeli\",\"już\",\"ją\",\"każdy\",\"kiedy\",\"kierunku\",\"kilku\",\"kto\",\"która\",\"które\",\"którego\",\"której\",\"który\",\"których\",\"którym\",\"którzy\",\"ku\",\"lat\",\"lecz\",\"lub\",\"ma\",\"mają\",\"mam\",\"mamy\",\"mgr\",\"mi\",\"miał\",\"mimo\",\"mnie\",\"mną\",\"mogą\",\"moi\",\"moja\",\"moje\",\"może\",\"można\",\"mu\",\"musi\",\"my\",\"mój\",\"na\",\"nad\",\"nam\",\"nami\",\"nas\",\"nasi\",\"nasz\",\"nasza\",\"nasze\",\"natychmiast\",\"nawet\",\"nic\",\"nich\",\"nie\",\"niego\",\"niej\",\"niemu\",\"nigdy\",\"nim\",\"nimi\",\"nią\",\"niż\",\"no\",\"nowe\",\"np\",\"nr\",\"o\",\"o.o.\",\"obok\",\"od\",\"ok\",\"około\",\"on\",\"ona\",\"one\",\"oni\",\"ono\",\"oraz\",\"owszem\",\"pan\",\"pl\",\"po\",\"pod\",\"ponad\",\"ponieważ\",\"poza\",\"prof\",\"przed\",\"przede\",\"przedtem\",\"przez\",\"przy\",\"raz\",\"razie\",\"roku\",\"również\",\"sam\",\"sama\",\"się\",\"skąd\",\"sobie\",\"sposób\",\"swoje\",\"są\",\"ta\",\"tak\",\"taki\",\"takich\",\"takie\",\"także\",\"tam\",\"te\",\"tego\",\"tej\",\"tel\",\"temu\",\"ten\",\"teraz\",\"też\",\"to\",\"tobie\",\"tobą\",\"trzeba\",\"tu\",\"tutaj\",\"twoi\",\"twoja\",\"twoje\",\"twój\",\"ty\",\"tych\",\"tylko\",\"tym\",\"tys\",\"tzw\",\"tę\",\"u\",\"ul\",\"vi\",\"vii\",\"viii\",\"vol\",\"w\",\"wam\",\"wami\",\"was\",\"wasi\",\"wasz\",\"wasza\",\"wasze\",\"we\",\"wie\",\"więc\",\"wszystko\",\"wtedy\",\"www\",\"wy\",\"właśnie\",\"wśród\",\"xi\",\"xii\",\"xiii\",\"xiv\",\"xv\",\"z\",\"za\",\"zawsze\",\"zaś\",\"ze\",\"zł\",\"żaden\",\"że\",\"żeby\"],\"pt\":[\"a\",\"acerca\",\"adeus\",\"agora\",\"ainda\",\"algmas\",\"algo\",\"algumas\",\"alguns\",\"ali\",\"além\",\"ambos\",\"ano\",\"anos\",\"antes\",\"ao\",\"aos\",\"apenas\",\"apoio\",\"apontar\",\"após\",\"aquela\",\"aquelas\",\"aquele\",\"aqueles\",\"aqui\",\"aquilo\",\"as\",\"assim\",\"através\",\"atrás\",\"até\",\"aí\",\"baixo\",\"bastante\",\"bem\",\"bom\",\"breve\",\"cada\",\"caminho\",\"catorze\",\"cedo\",\"cento\",\"certamente\",\"certeza\",\"cima\",\"cinco\",\"coisa\",\"com\",\"como\",\"comprido\",\"conhecido\",\"conselho\",\"contra\",\"corrente\",\"custa\",\"cá\",\"da\",\"daquela\",\"daquele\",\"dar\",\"das\",\"de\",\"debaixo\",\"demais\",\"dentro\",\"depois\",\"desde\",\"desligado\",\"dessa\",\"desse\",\"desta\",\"deste\",\"deve\",\"devem\",\"deverá\",\"dez\",\"dezanove\",\"dezasseis\",\"dezassete\",\"dezoito\",\"dia\",\"diante\",\"direita\",\"diz\",\"dizem\",\"dizer\",\"do\",\"dois\",\"dos\",\"doze\",\"duas\",\"dá\",\"dão\",\"dúvida\",\"e\",\"ela\",\"elas\",\"ele\",\"eles\",\"em\",\"embora\",\"enquanto\",\"entre\",\"então\",\"era\",\"essa\",\"essas\",\"esse\",\"esses\",\"esta\",\"estado\",\"estar\",\"estará\",\"estas\",\"estava\",\"este\",\"estes\",\"esteve\",\"estive\",\"estivemos\",\"estiveram\",\"estiveste\",\"estivestes\",\"estou\",\"está\",\"estás\",\"estão\",\"eu\",\"exemplo\",\"falta\",\"fará\",\"favor\",\"faz\",\"fazeis\",\"fazem\",\"fazemos\",\"fazer\",\"fazes\",\"fazia\",\"faço\",\"fez\",\"fim\",\"final\",\"foi\",\"fomos\",\"for\",\"fora\",\"foram\",\"forma\",\"foste\",\"fostes\",\"fui\",\"geral\",\"grande\",\"grandes\",\"grupo\",\"hoje\",\"horas\",\"há\",\"iniciar\",\"inicio\",\"ir\",\"irá\",\"isso\",\"ista\",\"iste\",\"isto\",\"já\",\"lado\",\"ligado\",\"local\",\"logo\",\"longe\",\"lugar\",\"lá\",\"maior\",\"maioria\",\"maiorias\",\"mais\",\"mal\",\"mas\",\"me\",\"meio\",\"menor\",\"menos\",\"meses\",\"mesmo\",\"meu\",\"meus\",\"mil\",\"minha\",\"minhas\",\"momento\",\"muito\",\"muitos\",\"máximo\",\"mês\",\"na\",\"nada\",\"naquela\",\"naquele\",\"nas\",\"nem\",\"nenhuma\",\"nessa\",\"nesse\",\"nesta\",\"neste\",\"no\",\"noite\",\"nome\",\"nos\",\"nossa\",\"nossas\",\"nosso\",\"nossos\",\"nova\",\"nove\",\"novo\",\"novos\",\"num\",\"numa\",\"nunca\",\"não\",\"nível\",\"nós\",\"número\",\"o\",\"obra\",\"obrigada\",\"obrigado\",\"oitava\",\"oitavo\",\"oito\",\"onde\",\"ontem\",\"onze\",\"os\",\"ou\",\"outra\",\"outras\",\"outro\",\"outros\",\"para\",\"parece\",\"parte\",\"partir\",\"pegar\",\"pela\",\"pelas\",\"pelo\",\"pelos\",\"perto\",\"pessoas\",\"pode\",\"podem\",\"poder\",\"poderá\",\"podia\",\"ponto\",\"pontos\",\"por\",\"porque\",\"porquê\",\"posição\",\"possivelmente\",\"posso\",\"possível\",\"pouca\",\"pouco\",\"povo\",\"primeira\",\"primeiro\",\"promeiro\",\"próprio\",\"próximo\",\"puderam\",\"pôde\",\"põe\",\"põem\",\"qual\",\"qualquer\",\"quando\",\"quanto\",\"quarta\",\"quarto\",\"quatro\",\"que\",\"quem\",\"quer\",\"quero\",\"questão\",\"quieto\",\"quinta\",\"quinto\",\"quinze\",\"quê\",\"relação\",\"sabe\",\"saber\",\"se\",\"segunda\",\"segundo\",\"sei\",\"seis\",\"sem\",\"sempre\",\"ser\",\"seria\",\"sete\",\"seu\",\"seus\",\"sexta\",\"sexto\",\"sim\",\"sistema\",\"sob\",\"sobre\",\"sois\",\"somente\",\"somos\",\"sou\",\"sua\",\"suas\",\"são\",\"sétima\",\"sétimo\",\"tal\",\"talvez\",\"também\",\"tanto\",\"tarde\",\"te\",\"tem\",\"temos\",\"tempo\",\"tendes\",\"tenho\",\"tens\",\"tentar\",\"tentaram\",\"tente\",\"tentei\",\"ter\",\"terceira\",\"terceiro\",\"teu\",\"teus\",\"teve\",\"tipo\",\"tive\",\"tivemos\",\"tiveram\",\"tiveste\",\"tivestes\",\"toda\",\"todas\",\"todo\",\"todos\",\"trabalhar\",\"trabalho\",\"treze\",\"três\",\"tu\",\"tua\",\"tuas\",\"tudo\",\"tão\",\"têm\",\"um\",\"uma\",\"umas\",\"uns\",\"usa\",\"usar\",\"vai\",\"vais\",\"valor\",\"veja\",\"vem\",\"vens\",\"ver\",\"verdade\",\"verdadeiro\",\"vez\",\"vezes\",\"viagem\",\"vindo\",\"vinte\",\"você\",\"vocês\",\"vos\",\"vossa\",\"vossas\",\"vosso\",\"vossos\",\"vários\",\"vão\",\"vêm\",\"vós\",\"zero\",\"à\",\"às\",\"área\",\"é\",\"és\",\"último\"],\"ru\":[\"а\",\"алло\",\"без\",\"белый\",\"близко\",\"более\",\"больше\",\"большой\",\"будем\",\"будет\",\"будете\",\"будешь\",\"будто\",\"буду\",\"будут\",\"будь\",\"бы\",\"бывает\",\"бывь\",\"был\",\"была\",\"были\",\"было\",\"быть\",\"в\",\"важная\",\"важное\",\"важные\",\"важный\",\"вам\",\"вами\",\"вас\",\"ваш\",\"ваша\",\"ваше\",\"ваши\",\"вверх\",\"вдали\",\"вдруг\",\"ведь\",\"везде\",\"вернуться\",\"весь\",\"вечер\",\"взгляд\",\"взять\",\"вид\",\"видеть\",\"вместе\",\"вниз\",\"внизу\",\"во\",\"вода\",\"война\",\"вокруг\",\"вон\",\"вообще\",\"вопрос\",\"восемнадцатый\",\"восемнадцать\",\"восемь\",\"восьмой\",\"вот\",\"впрочем\",\"времени\",\"время\",\"все\",\"всегда\",\"всего\",\"всем\",\"всеми\",\"всему\",\"всех\",\"всею\",\"всю\",\"всюду\",\"вся\",\"всё\",\"второй\",\"вы\",\"выйти\",\"г\",\"где\",\"главный\",\"глаз\",\"говорил\",\"говорит\",\"говорить\",\"год\",\"года\",\"году\",\"голова\",\"голос\",\"город\",\"да\",\"давать\",\"давно\",\"даже\",\"далекий\",\"далеко\",\"дальше\",\"даром\",\"дать\",\"два\",\"двадцатый\",\"двадцать\",\"две\",\"двенадцатый\",\"двенадцать\",\"дверь\",\"двух\",\"девятнадцатый\",\"девятнадцать\",\"девятый\",\"девять\",\"действительно\",\"дел\",\"делать\",\"дело\",\"день\",\"деньги\",\"десятый\",\"десять\",\"для\",\"до\",\"довольно\",\"долго\",\"должно\",\"должный\",\"дом\",\"дорога\",\"друг\",\"другая\",\"другие\",\"других\",\"друго\",\"другое\",\"другой\",\"думать\",\"душа\",\"е\",\"его\",\"ее\",\"ей\",\"ему\",\"если\",\"есть\",\"еще\",\"ещё\",\"ею\",\"её\",\"ж\",\"ждать\",\"же\",\"жена\",\"женщина\",\"жизнь\",\"жить\",\"за\",\"занят\",\"занята\",\"занято\",\"заняты\",\"затем\",\"зато\",\"зачем\",\"здесь\",\"земля\",\"знать\",\"значит\",\"значить\",\"и\",\"идти\",\"из\",\"или\",\"им\",\"именно\",\"иметь\",\"ими\",\"имя\",\"иногда\",\"их\",\"к\",\"каждая\",\"каждое\",\"каждые\",\"каждый\",\"кажется\",\"казаться\",\"как\",\"какая\",\"какой\",\"кем\",\"книга\",\"когда\",\"кого\",\"ком\",\"комната\",\"кому\",\"конец\",\"конечно\",\"которая\",\"которого\",\"которой\",\"которые\",\"который\",\"которых\",\"кроме\",\"кругом\",\"кто\",\"куда\",\"лежать\",\"лет\",\"ли\",\"лицо\",\"лишь\",\"лучше\",\"любить\",\"люди\",\"м\",\"маленький\",\"мало\",\"мать\",\"машина\",\"между\",\"меля\",\"менее\",\"меньше\",\"меня\",\"место\",\"миллионов\",\"мимо\",\"минута\",\"мир\",\"мира\",\"мне\",\"много\",\"многочисленная\",\"многочисленное\",\"многочисленные\",\"многочисленный\",\"мной\",\"мною\",\"мог\",\"могут\",\"мож\",\"может\",\"можно\",\"можхо\",\"мои\",\"мой\",\"мор\",\"москва\",\"мочь\",\"моя\",\"моё\",\"мы\",\"на\",\"наверху\",\"над\",\"надо\",\"назад\",\"наиболее\",\"найти\",\"наконец\",\"нам\",\"нами\",\"народ\",\"нас\",\"начала\",\"начать\",\"наш\",\"наша\",\"наше\",\"наши\",\"не\",\"него\",\"недавно\",\"недалеко\",\"нее\",\"ней\",\"некоторый\",\"нельзя\",\"нем\",\"немного\",\"нему\",\"непрерывно\",\"нередко\",\"несколько\",\"нет\",\"нею\",\"неё\",\"ни\",\"нибудь\",\"ниже\",\"низко\",\"никакой\",\"никогда\",\"никто\",\"никуда\",\"ними\",\"них\",\"ничего\",\"ничто\",\"но\",\"новый\",\"нога\",\"ночь\",\"ну\",\"нужно\",\"нужный\",\"нх\",\"о\",\"об\",\"оба\",\"обычно\",\"один\",\"одиннадцатый\",\"одиннадцать\",\"однажды\",\"однако\",\"одного\",\"одной\",\"оказаться\",\"окно\",\"около\",\"он\",\"она\",\"они\",\"оно\",\"опять\",\"особенно\",\"остаться\",\"от\",\"ответить\",\"отец\",\"отовсюду\",\"отсюда\",\"очень\",\"первый\",\"перед\",\"писать\",\"плечо\",\"по\",\"под\",\"подумать\",\"пожалуйста\",\"позже\",\"пойти\",\"пока\",\"пол\",\"получить\",\"помнить\",\"понимать\",\"понять\",\"пор\",\"пора\",\"после\",\"последний\",\"посмотреть\",\"посреди\",\"потом\",\"потому\",\"почему\",\"почти\",\"правда\",\"прекрасно\",\"при\",\"про\",\"просто\",\"против\",\"процентов\",\"пятнадцатый\",\"пятнадцать\",\"пятый\",\"пять\",\"работа\",\"работать\",\"раз\",\"разве\",\"рано\",\"раньше\",\"ребенок\",\"решить\",\"россия\",\"рука\",\"русский\",\"ряд\",\"рядом\",\"с\",\"сам\",\"сама\",\"сами\",\"самим\",\"самими\",\"самих\",\"само\",\"самого\",\"самой\",\"самом\",\"самому\",\"саму\",\"самый\",\"свет\",\"свое\",\"своего\",\"своей\",\"свои\",\"своих\",\"свой\",\"свою\",\"сделать\",\"сеаой\",\"себе\",\"себя\",\"сегодня\",\"седьмой\",\"сейчас\",\"семнадцатый\",\"семнадцать\",\"семь\",\"сидеть\",\"сила\",\"сих\",\"сказал\",\"сказала\",\"сказать\",\"сколько\",\"слишком\",\"слово\",\"случай\",\"смотреть\",\"сначала\",\"снова\",\"со\",\"собой\",\"собою\",\"советский\",\"совсем\",\"спасибо\",\"спросить\",\"сразу\",\"стал\",\"старый\",\"стать\",\"стол\",\"сторона\",\"стоять\",\"страна\",\"суть\",\"считать\",\"т\",\"та\",\"так\",\"такая\",\"также\",\"таки\",\"такие\",\"такое\",\"такой\",\"там\",\"твой\",\"твоя\",\"твоё\",\"те\",\"тебе\",\"тебя\",\"тем\",\"теми\",\"теперь\",\"тех\",\"то\",\"тобой\",\"тобою\",\"товарищ\",\"тогда\",\"того\",\"тоже\",\"только\",\"том\",\"тому\",\"тот\",\"тою\",\"третий\",\"три\",\"тринадцатый\",\"тринадцать\",\"ту\",\"туда\",\"тут\",\"ты\",\"тысяч\",\"у\",\"увидеть\",\"уж\",\"уже\",\"улица\",\"уметь\",\"утро\",\"хороший\",\"хорошо\",\"хотеть\",\"хоть\",\"хотя\",\"хочешь\",\"час\",\"часто\",\"часть\",\"чаще\",\"чего\",\"человек\",\"чем\",\"чему\",\"через\",\"четвертый\",\"четыре\",\"четырнадцатый\",\"четырнадцать\",\"что\",\"чтоб\",\"чтобы\",\"чуть\",\"шестнадцатый\",\"шестнадцать\",\"шестой\",\"шесть\",\"эта\",\"эти\",\"этим\",\"этими\",\"этих\",\"это\",\"этого\",\"этой\",\"этом\",\"этому\",\"этот\",\"эту\",\"я\"],\"sv\":[\"aderton\",\"adertonde\",\"adjö\",\"aldrig\",\"alla\",\"allas\",\"allt\",\"alltid\",\"alltså\",\"andra\",\"andras\",\"annan\",\"annat\",\"artonde\",\"artonn\",\"att\",\"av\",\"bakom\",\"bara\",\"behöva\",\"behövas\",\"behövde\",\"behövt\",\"beslut\",\"beslutat\",\"beslutit\",\"bland\",\"blev\",\"bli\",\"blir\",\"blivit\",\"bort\",\"borta\",\"bra\",\"bäst\",\"bättre\",\"båda\",\"bådas\",\"dag\",\"dagar\",\"dagarna\",\"dagen\",\"de\",\"del\",\"delen\",\"dem\",\"den\",\"denna\",\"deras\",\"dess\",\"dessa\",\"det\",\"detta\",\"dig\",\"din\",\"dina\",\"dit\",\"ditt\",\"dock\",\"du\",\"där\",\"därför\",\"då\",\"efter\",\"eftersom\",\"ej\",\"elfte\",\"eller\",\"elva\",\"en\",\"enkel\",\"enkelt\",\"enkla\",\"enligt\",\"er\",\"era\",\"ert\",\"ett\",\"ettusen\",\"fanns\",\"fem\",\"femte\",\"femtio\",\"femtionde\",\"femton\",\"femtonde\",\"fick\",\"fin\",\"finnas\",\"finns\",\"fjorton\",\"fjortonde\",\"fjärde\",\"fler\",\"flera\",\"flesta\",\"fram\",\"framför\",\"från\",\"fyra\",\"fyrtio\",\"fyrtionde\",\"få\",\"får\",\"fått\",\"följande\",\"för\",\"före\",\"förlåt\",\"förra\",\"första\",\"genast\",\"genom\",\"gick\",\"gjorde\",\"gjort\",\"god\",\"goda\",\"godare\",\"godast\",\"gott\",\"gälla\",\"gäller\",\"gällt\",\"gärna\",\"gå\",\"går\",\"gått\",\"gör\",\"göra\",\"ha\",\"hade\",\"haft\",\"han\",\"hans\",\"har\",\"heller\",\"hellre\",\"helst\",\"helt\",\"henne\",\"hennes\",\"hit\",\"hon\",\"honom\",\"hundra\",\"hundraen\",\"hundraett\",\"hur\",\"här\",\"hög\",\"höger\",\"högre\",\"högst\",\"i\",\"ibland\",\"icke\",\"idag\",\"igen\",\"igår\",\"imorgon\",\"in\",\"inför\",\"inga\",\"ingen\",\"ingenting\",\"inget\",\"innan\",\"inne\",\"inom\",\"inte\",\"inuti\",\"ja\",\"jag\",\"ju\",\"jämfört\",\"kan\",\"kanske\",\"knappast\",\"kom\",\"komma\",\"kommer\",\"kommit\",\"kr\",\"kunde\",\"kunna\",\"kunnat\",\"kvar\",\"legat\",\"ligga\",\"ligger\",\"lika\",\"likställd\",\"likställda\",\"lilla\",\"lite\",\"liten\",\"litet\",\"länge\",\"längre\",\"längst\",\"lätt\",\"lättare\",\"lättast\",\"långsam\",\"långsammare\",\"långsammast\",\"långsamt\",\"långt\",\"man\",\"med\",\"mellan\",\"men\",\"mer\",\"mera\",\"mest\",\"mig\",\"min\",\"mina\",\"mindre\",\"minst\",\"mitt\",\"mittemot\",\"mot\",\"mycket\",\"många\",\"måste\",\"möjlig\",\"möjligen\",\"möjligt\",\"möjligtvis\",\"ned\",\"nederst\",\"nedersta\",\"nedre\",\"nej\",\"ner\",\"ni\",\"nio\",\"nionde\",\"nittio\",\"nittionde\",\"nitton\",\"nittonde\",\"nog\",\"noll\",\"nr\",\"nu\",\"nummer\",\"när\",\"nästa\",\"någon\",\"någonting\",\"något\",\"några\",\"nödvändig\",\"nödvändiga\",\"nödvändigt\",\"nödvändigtvis\",\"och\",\"också\",\"ofta\",\"oftast\",\"olika\",\"olikt\",\"om\",\"oss\",\"på\",\"rakt\",\"redan\",\"rätt\",\"sade\",\"sagt\",\"samma\",\"sedan\",\"senare\",\"senast\",\"sent\",\"sex\",\"sextio\",\"sextionde\",\"sexton\",\"sextonde\",\"sig\",\"sin\",\"sina\",\"sist\",\"sista\",\"siste\",\"sitt\",\"sitta\",\"sju\",\"sjunde\",\"sjuttio\",\"sjuttionde\",\"sjutton\",\"sjuttonde\",\"själv\",\"sjätte\",\"ska\",\"skall\",\"skulle\",\"slutligen\",\"små\",\"smått\",\"snart\",\"som\",\"stor\",\"stora\",\"stort\",\"större\",\"störst\",\"säga\",\"säger\",\"sämre\",\"sämst\",\"så\",\"sådan\",\"sådana\",\"sådant\",\"tack\",\"tidig\",\"tidigare\",\"tidigast\",\"tidigt\",\"till\",\"tills\",\"tillsammans\",\"tio\",\"tionde\",\"tjugo\",\"tjugoen\",\"tjugoett\",\"tjugonde\",\"tjugotre\",\"tjugotvå\",\"tjungo\",\"tolfte\",\"tolv\",\"tre\",\"tredje\",\"trettio\",\"trettionde\",\"tretton\",\"trettonde\",\"två\",\"tvåhundra\",\"under\",\"upp\",\"ur\",\"ursäkt\",\"ut\",\"utan\",\"utanför\",\"ute\",\"vad\",\"var\",\"vara\",\"varför\",\"varifrån\",\"varit\",\"varje\",\"varken\",\"vars\",\"varsågod\",\"vart\",\"vem\",\"vems\",\"verkligen\",\"vi\",\"vid\",\"vidare\",\"viktig\",\"viktigare\",\"viktigast\",\"viktigt\",\"vilka\",\"vilkas\",\"vilken\",\"vilket\",\"vill\",\"vänster\",\"vänstra\",\"värre\",\"vår\",\"våra\",\"vårt\",\"än\",\"ännu\",\"är\",\"även\",\"åt\",\"åtminstone\",\"åtta\",\"åttio\",\"åttionde\",\"åttonde\",\"över\",\"övermorgon\",\"överst\",\"övre\"],\"tr\":[\"acaba\",\"acep\",\"adeta\",\"altmýþ\",\"altmış\",\"altý\",\"altı\",\"ama\",\"ancak\",\"arada\",\"artýk\",\"aslında\",\"aynen\",\"ayrıca\",\"az\",\"bana\",\"bari\",\"bazen\",\"bazý\",\"bazı\",\"baţka\",\"belki\",\"ben\",\"benden\",\"beni\",\"benim\",\"beri\",\"beþ\",\"beş\",\"beţ\",\"bile\",\"bin\",\"bir\",\"biraz\",\"biri\",\"birkaç\",\"birkez\",\"birçok\",\"birþey\",\"birþeyi\",\"birşey\",\"birşeyi\",\"birţey\",\"biz\",\"bizden\",\"bize\",\"bizi\",\"bizim\",\"bu\",\"buna\",\"bunda\",\"bundan\",\"bunlar\",\"bunları\",\"bunların\",\"bunu\",\"bunun\",\"burada\",\"böyle\",\"böylece\",\"bütün\",\"da\",\"daha\",\"dahi\",\"dahil\",\"daima\",\"dair\",\"dayanarak\",\"de\",\"defa\",\"deđil\",\"değil\",\"diye\",\"diđer\",\"diğer\",\"doksan\",\"dokuz\",\"dolayı\",\"dolayısıyla\",\"dört\",\"edecek\",\"eden\",\"ederek\",\"edilecek\",\"ediliyor\",\"edilmesi\",\"ediyor\",\"elli\",\"en\",\"etmesi\",\"etti\",\"ettiği\",\"ettiğini\",\"eđer\",\"eğer\",\"fakat\",\"gibi\",\"göre\",\"halbuki\",\"halen\",\"hangi\",\"hani\",\"hariç\",\"hatta\",\"hele\",\"hem\",\"henüz\",\"hep\",\"hepsi\",\"her\",\"herhangi\",\"herkes\",\"herkesin\",\"hiç\",\"hiçbir\",\"iken\",\"iki\",\"ila\",\"ile\",\"ilgili\",\"ilk\",\"illa\",\"ise\",\"itibaren\",\"itibariyle\",\"iyi\",\"iyice\",\"için\",\"işte\",\"iţte\",\"kadar\",\"kanýmca\",\"karşın\",\"katrilyon\",\"kendi\",\"kendilerine\",\"kendini\",\"kendisi\",\"kendisine\",\"kendisini\",\"kere\",\"kez\",\"keţke\",\"ki\",\"kim\",\"kimden\",\"kime\",\"kimi\",\"kimse\",\"kýrk\",\"kýsaca\",\"kırk\",\"lakin\",\"madem\",\"međer\",\"milyar\",\"milyon\",\"mu\",\"mü\",\"mý\",\"mı\",\"nasýl\",\"nasıl\",\"ne\",\"neden\",\"nedenle\",\"nerde\",\"nere\",\"nerede\",\"nereye\",\"nitekim\",\"niye\",\"niçin\",\"o\",\"olan\",\"olarak\",\"oldu\",\"olduklarını\",\"olduğu\",\"olduğunu\",\"olmadı\",\"olmadığı\",\"olmak\",\"olması\",\"olmayan\",\"olmaz\",\"olsa\",\"olsun\",\"olup\",\"olur\",\"olursa\",\"oluyor\",\"on\",\"ona\",\"ondan\",\"onlar\",\"onlardan\",\"onlari\",\"onlarýn\",\"onları\",\"onların\",\"onu\",\"onun\",\"otuz\",\"oysa\",\"pek\",\"rağmen\",\"sadece\",\"sanki\",\"sekiz\",\"seksen\",\"sen\",\"senden\",\"seni\",\"senin\",\"siz\",\"sizden\",\"sizi\",\"sizin\",\"sonra\",\"tarafından\",\"trilyon\",\"tüm\",\"var\",\"vardı\",\"ve\",\"veya\",\"veyahut\",\"ya\",\"yahut\",\"yani\",\"yapacak\",\"yapmak\",\"yaptı\",\"yaptıkları\",\"yaptığı\",\"yaptığını\",\"yapılan\",\"yapılması\",\"yapıyor\",\"yedi\",\"yerine\",\"yetmiþ\",\"yetmiş\",\"yetmiţ\",\"yine\",\"yirmi\",\"yoksa\",\"yüz\",\"zaten\",\"çok\",\"çünkü\",\"öyle\",\"üzere\",\"üç\",\"þey\",\"þeyden\",\"þeyi\",\"þeyler\",\"þu\",\"þuna\",\"þunda\",\"þundan\",\"þunu\",\"şey\",\"şeyden\",\"şeyi\",\"şeyler\",\"şu\",\"şuna\",\"şunda\",\"şundan\",\"şunları\",\"şunu\",\"şöyle\",\"ţayet\",\"ţimdi\",\"ţu\",\"ţöyle\"],\"zh\":[\"、\",\"。\",\"〈\",\"〉\",\"《\",\"》\",\"一\",\"一切\",\"一则\",\"一方面\",\"一旦\",\"一来\",\"一样\",\"一般\",\"七\",\"万一\",\"三\",\"上下\",\"不仅\",\"不但\",\"不光\",\"不单\",\"不只\",\"不如\",\"不怕\",\"不惟\",\"不成\",\"不拘\",\"不比\",\"不然\",\"不特\",\"不独\",\"不管\",\"不论\",\"不过\",\"不问\",\"与\",\"与其\",\"与否\",\"与此同时\",\"且\",\"两者\",\"个\",\"临\",\"为\",\"为了\",\"为什么\",\"为何\",\"为着\",\"乃\",\"乃至\",\"么\",\"之\",\"之一\",\"之所以\",\"之类\",\"乌乎\",\"乎\",\"乘\",\"九\",\"也\",\"也好\",\"也罢\",\"了\",\"二\",\"于\",\"于是\",\"于是乎\",\"云云\",\"五\",\"人家\",\"什么\",\"什么样\",\"从\",\"从而\",\"他\",\"他人\",\"他们\",\"以\",\"以便\",\"以免\",\"以及\",\"以至\",\"以至于\",\"以致\",\"们\",\"任\",\"任何\",\"任凭\",\"似的\",\"但\",\"但是\",\"何\",\"何况\",\"何处\",\"何时\",\"作为\",\"你\",\"你们\",\"使得\",\"例如\",\"依\",\"依照\",\"俺\",\"俺们\",\"倘\",\"倘使\",\"倘或\",\"倘然\",\"倘若\",\"借\",\"假使\",\"假如\",\"假若\",\"像\",\"八\",\"六\",\"兮\",\"关于\",\"其\",\"其一\",\"其中\",\"其二\",\"其他\",\"其余\",\"其它\",\"其次\",\"具体地说\",\"具体说来\",\"再者\",\"再说\",\"冒\",\"冲\",\"况且\",\"几\",\"几时\",\"凭\",\"凭借\",\"则\",\"别\",\"别的\",\"别说\",\"到\",\"前后\",\"前者\",\"加之\",\"即\",\"即令\",\"即使\",\"即便\",\"即或\",\"即若\",\"又\",\"及\",\"及其\",\"及至\",\"反之\",\"反过来\",\"反过来说\",\"另\",\"另一方面\",\"另外\",\"只是\",\"只有\",\"只要\",\"只限\",\"叫\",\"叮咚\",\"可\",\"可以\",\"可是\",\"可见\",\"各\",\"各个\",\"各位\",\"各种\",\"各自\",\"同\",\"同时\",\"向\",\"向着\",\"吓\",\"吗\",\"否则\",\"吧\",\"吧哒\",\"吱\",\"呀\",\"呃\",\"呕\",\"呗\",\"呜\",\"呜呼\",\"呢\",\"呵\",\"呸\",\"呼哧\",\"咋\",\"和\",\"咚\",\"咦\",\"咱\",\"咱们\",\"咳\",\"哇\",\"哈\",\"哈哈\",\"哉\",\"哎\",\"哎呀\",\"哎哟\",\"哗\",\"哟\",\"哦\",\"哩\",\"哪\",\"哪个\",\"哪些\",\"哪儿\",\"哪天\",\"哪年\",\"哪怕\",\"哪样\",\"哪边\",\"哪里\",\"哼\",\"哼唷\",\"唉\",\"啊\",\"啐\",\"啥\",\"啦\",\"啪达\",\"喂\",\"喏\",\"喔唷\",\"嗡嗡\",\"嗬\",\"嗯\",\"嗳\",\"嘎\",\"嘎登\",\"嘘\",\"嘛\",\"嘻\",\"嘿\",\"四\",\"因\",\"因为\",\"因此\",\"因而\",\"固然\",\"在\",\"在下\",\"地\",\"多\",\"多少\",\"她\",\"她们\",\"如\",\"如上所述\",\"如何\",\"如其\",\"如果\",\"如此\",\"如若\",\"宁\",\"宁可\",\"宁愿\",\"宁肯\",\"它\",\"它们\",\"对\",\"对于\",\"将\",\"尔后\",\"尚且\",\"就\",\"就是\",\"就是说\",\"尽\",\"尽管\",\"岂但\",\"己\",\"并\",\"并且\",\"开外\",\"开始\",\"归\",\"当\",\"当着\",\"彼\",\"彼此\",\"往\",\"待\",\"得\",\"怎\",\"怎么\",\"怎么办\",\"怎么样\",\"怎样\",\"总之\",\"总的来看\",\"总的来说\",\"总的说来\",\"总而言之\",\"恰恰相反\",\"您\",\"慢说\",\"我\",\"我们\",\"或\",\"或是\",\"或者\",\"所\",\"所以\",\"打\",\"把\",\"抑或\",\"拿\",\"按\",\"按照\",\"换句话说\",\"换言之\",\"据\",\"接着\",\"故\",\"故此\",\"旁人\",\"无宁\",\"无论\",\"既\",\"既是\",\"既然\",\"时候\",\"是\",\"是的\",\"替\",\"有\",\"有些\",\"有关\",\"有的\",\"望\",\"朝\",\"朝着\",\"本\",\"本着\",\"来\",\"来着\",\"极了\",\"果然\",\"果真\",\"某\",\"某个\",\"某些\",\"根据\",\"正如\",\"此\",\"此外\",\"此间\",\"毋宁\",\"每\",\"每当\",\"比\",\"比如\",\"比方\",\"沿\",\"沿着\",\"漫说\",\"焉\",\"然则\",\"然后\",\"然而\",\"照\",\"照着\",\"甚么\",\"甚而\",\"甚至\",\"用\",\"由\",\"由于\",\"由此可见\",\"的\",\"的话\",\"相对而言\",\"省得\",\"着\",\"着呢\",\"矣\",\"离\",\"第\",\"等\",\"等等\",\"管\",\"紧接着\",\"纵\",\"纵令\",\"纵使\",\"纵然\",\"经\",\"经过\",\"结果\",\"给\",\"继而\",\"综上所述\",\"罢了\",\"者\",\"而\",\"而且\",\"而况\",\"而外\",\"而已\",\"而是\",\"而言\",\"能\",\"腾\",\"自\",\"自个儿\",\"自从\",\"自各儿\",\"自家\",\"自己\",\"自身\",\"至\",\"至于\",\"若\",\"若是\",\"若非\",\"莫若\",\"虽\",\"虽则\",\"虽然\",\"虽说\",\"被\",\"要\",\"要不\",\"要不是\",\"要不然\",\"要么\",\"要是\",\"让\",\"论\",\"设使\",\"设若\",\"该\",\"诸位\",\"谁\",\"谁知\",\"赶\",\"起\",\"起见\",\"趁\",\"趁着\",\"越是\",\"跟\",\"较\",\"较之\",\"边\",\"过\",\"还是\",\"还有\",\"这\",\"这个\",\"这么\",\"这么些\",\"这么样\",\"这么点儿\",\"这些\",\"这会儿\",\"这儿\",\"这就是说\",\"这时\",\"这样\",\"这边\",\"这里\",\"进而\",\"连\",\"连同\",\"通过\",\"遵照\",\"那\",\"那个\",\"那么\",\"那么些\",\"那么样\",\"那些\",\"那会儿\",\"那儿\",\"那时\",\"那样\",\"那边\",\"那里\",\"鄙人\",\"鉴于\",\"阿\",\"除\",\"除了\",\"除此之外\",\"除非\",\"随\",\"随着\",\"零\",\"非但\",\"非徒\",\"靠\",\"顺\",\"顺着\",\"首先\",\"︿\",\"！\",\"＃\",\"＄\",\"％\",\"＆\",\"（\",\"）\",\"＊\",\"＋\",\"，\",\"０\",\"１\",\"２\",\"３\",\"４\",\"５\",\"６\",\"７\",\"８\",\"９\",\"：\",\"；\",\"＜\",\"＞\",\"？\",\"＠\",\"［\",\"］\",\"｛\",\"｜\",\"｝\",\"～\",\"￥\"],\"eo\":[\"adiaŭ\",\"ajn\",\"al\",\"ankoraŭ\",\"antaŭ\",\"aŭ\",\"bonan\",\"bonvole\",\"bonvolu\",\"bv\",\"ci\",\"cia\",\"cian\",\"cin\",\"d-ro\",\"da\",\"de\",\"dek\",\"deka\",\"do\",\"doktor'\",\"doktoro\",\"du\",\"dua\",\"dum\",\"eble\",\"ekz\",\"ekzemple\",\"en\",\"estas\",\"estis\",\"estos\",\"estu\",\"estus\",\"eĉ\",\"f-no\",\"feliĉan\",\"for\",\"fraŭlino\",\"ha\",\"havas\",\"havis\",\"havos\",\"havu\",\"havus\",\"he\",\"ho\",\"hu\",\"ili\",\"ilia\",\"ilian\",\"ilin\",\"inter\",\"io\",\"ion\",\"iu\",\"iujn\",\"iun\",\"ja\",\"jam\",\"je\",\"jes\",\"k\",\"kaj\",\"ke\",\"kio\",\"kion\",\"kiu\",\"kiujn\",\"kiun\",\"kvankam\",\"kvar\",\"kvara\",\"kvazaŭ\",\"kvin\",\"kvina\",\"la\",\"li\",\"lia\",\"lian\",\"lin\",\"malantaŭ\",\"male\",\"malgraŭ\",\"mem\",\"mi\",\"mia\",\"mian\",\"min\",\"minus\",\"naŭ\",\"naŭa\",\"ne\",\"nek\",\"nenio\",\"nenion\",\"neniu\",\"neniun\",\"nepre\",\"ni\",\"nia\",\"nian\",\"nin\",\"nu\",\"nun\",\"nur\",\"ok\",\"oka\",\"oni\",\"onia\",\"onian\",\"onin\",\"plej\",\"pli\",\"plu\",\"plus\",\"por\",\"post\",\"preter\",\"s-no\",\"s-ro\",\"se\",\"sed\",\"sep\",\"sepa\",\"ses\",\"sesa\",\"si\",\"sia\",\"sian\",\"sin\",\"sinjor'\",\"sinjorino\",\"sinjoro\",\"sub\",\"super\",\"supren\",\"sur\",\"tamen\",\"tio\",\"tion\",\"tiu\",\"tiujn\",\"tiun\",\"tra\",\"tri\",\"tria\",\"tuj\",\"tute\",\"unu\",\"unua\",\"ve\",\"verŝajne\",\"vi\",\"via\",\"vian\",\"vin\",\"ĉi\",\"ĉio\",\"ĉion\",\"ĉiu\",\"ĉiujn\",\"ĉiun\",\"ĉu\",\"ĝi\",\"ĝia\",\"ĝian\",\"ĝin\",\"ĝis\",\"ĵus\",\"ŝi\",\"ŝia\",\"ŝin\"],\"he\":[\"אבל\",\"או\",\"אולי\",\"אותה\",\"אותו\",\"אותי\",\"אותך\",\"אותם\",\"אותן\",\"אותנו\",\"אז\",\"אחר\",\"אחרות\",\"אחרי\",\"אחריכן\",\"אחרים\",\"אחרת\",\"אי\",\"איזה\",\"איך\",\"אין\",\"איפה\",\"איתה\",\"איתו\",\"איתי\",\"איתך\",\"איתכם\",\"איתכן\",\"איתם\",\"איתן\",\"איתנו\",\"אך\",\"אל\",\"אלה\",\"אלו\",\"אם\",\"אנחנו\",\"אני\",\"אס\",\"אף\",\"אצל\",\"אשר\",\"את\",\"אתה\",\"אתכם\",\"אתכן\",\"אתם\",\"אתן\",\"באיזומידה\",\"באמצע\",\"באמצעות\",\"בגלל\",\"בין\",\"בלי\",\"במידה\",\"במקוםשבו\",\"ברם\",\"בשביל\",\"בשעהש\",\"בתוך\",\"גם\",\"דרך\",\"הוא\",\"היא\",\"היה\",\"היכן\",\"היתה\",\"היתי\",\"הם\",\"הן\",\"הנה\",\"הסיבהשבגללה\",\"הרי\",\"ואילו\",\"ואת\",\"זאת\",\"זה\",\"זות\",\"יהיה\",\"יוכל\",\"יוכלו\",\"יותרמדי\",\"יכול\",\"יכולה\",\"יכולות\",\"יכולים\",\"יכל\",\"יכלה\",\"יכלו\",\"יש\",\"כאן\",\"כאשר\",\"כולם\",\"כולן\",\"כזה\",\"כי\",\"כיצד\",\"כך\",\"ככה\",\"כל\",\"כלל\",\"כמו\",\"כן\",\"כפי\",\"כש\",\"לא\",\"לאו\",\"לאיזותכלית\",\"לאן\",\"לבין\",\"לה\",\"להיות\",\"להם\",\"להן\",\"לו\",\"לי\",\"לכם\",\"לכן\",\"למה\",\"למטה\",\"למעלה\",\"למקוםשבו\",\"למרות\",\"לנו\",\"לעבר\",\"לעיכן\",\"לפיכך\",\"לפני\",\"מאד\",\"מאחורי\",\"מאיזוסיבה\",\"מאין\",\"מאיפה\",\"מבלי\",\"מבעד\",\"מדוע\",\"מה\",\"מהיכן\",\"מול\",\"מחוץ\",\"מי\",\"מכאן\",\"מכיוון\",\"מלבד\",\"מן\",\"מנין\",\"מסוגל\",\"מעט\",\"מעטים\",\"מעל\",\"מצד\",\"מקוםבו\",\"מתחת\",\"מתי\",\"נגד\",\"נגר\",\"נו\",\"עד\",\"עז\",\"על\",\"עלי\",\"עליה\",\"עליהם\",\"עליהן\",\"עליו\",\"עליך\",\"עליכם\",\"עלינו\",\"עם\",\"עצמה\",\"עצמהם\",\"עצמהן\",\"עצמו\",\"עצמי\",\"עצמם\",\"עצמן\",\"עצמנו\",\"פה\",\"רק\",\"שוב\",\"של\",\"שלה\",\"שלהם\",\"שלהן\",\"שלו\",\"שלי\",\"שלך\",\"שלכה\",\"שלכם\",\"שלכן\",\"שלנו\",\"שם\",\"תהיה\",\"תחת\"],\"la\":[\"a\",\"ab\",\"ac\",\"ad\",\"at\",\"atque\",\"aut\",\"autem\",\"cum\",\"de\",\"dum\",\"e\",\"erant\",\"erat\",\"est\",\"et\",\"etiam\",\"ex\",\"haec\",\"hic\",\"hoc\",\"in\",\"ita\",\"me\",\"nec\",\"neque\",\"non\",\"per\",\"qua\",\"quae\",\"quam\",\"qui\",\"quibus\",\"quidem\",\"quo\",\"quod\",\"re\",\"rebus\",\"rem\",\"res\",\"sed\",\"si\",\"sic\",\"sunt\",\"tamen\",\"tandem\",\"te\",\"ut\",\"vel\"],\"sk\":[\"a\",\"aby\",\"aj\",\"ako\",\"aký\",\"ale\",\"alebo\",\"ani\",\"avšak\",\"ba\",\"bez\",\"buï\",\"cez\",\"do\",\"ho\",\"hoci\",\"i\",\"ich\",\"im\",\"ja\",\"jeho\",\"jej\",\"jemu\",\"ju\",\"k\",\"kam\",\"kde\",\"kedže\",\"keï\",\"kto\",\"ktorý\",\"ku\",\"lebo\",\"ma\",\"mi\",\"mne\",\"mnou\",\"mu\",\"my\",\"mòa\",\"môj\",\"na\",\"nad\",\"nami\",\"neho\",\"nej\",\"nemu\",\"nich\",\"nielen\",\"nim\",\"no\",\"nám\",\"nás\",\"náš\",\"ním\",\"o\",\"od\",\"on\",\"ona\",\"oni\",\"ono\",\"ony\",\"po\",\"pod\",\"pre\",\"pred\",\"pri\",\"s\",\"sa\",\"seba\",\"sem\",\"so\",\"svoj\",\"taký\",\"tam\",\"teba\",\"tebe\",\"tebou\",\"tej\",\"ten\",\"ti\",\"tie\",\"to\",\"toho\",\"tomu\",\"tou\",\"tvoj\",\"ty\",\"tá\",\"tým\",\"v\",\"vami\",\"veï\",\"vo\",\"vy\",\"vám\",\"vás\",\"váš\",\"však\",\"z\",\"za\",\"zo\",\"a\",\"èi\",\"èo\",\"èí\",\"òom\",\"òou\",\"òu\",\"že\"],\"sl\":[\"a\",\"ali\",\"april\",\"avgust\",\"b\",\"bi\",\"bil\",\"bila\",\"bile\",\"bili\",\"bilo\",\"biti\",\"blizu\",\"bo\",\"bodo\",\"bojo\",\"bolj\",\"bom\",\"bomo\",\"boste\",\"bova\",\"boš\",\"brez\",\"c\",\"cel\",\"cela\",\"celi\",\"celo\",\"d\",\"da\",\"daleč\",\"dan\",\"danes\",\"datum\",\"december\",\"deset\",\"deseta\",\"deseti\",\"deseto\",\"devet\",\"deveta\",\"deveti\",\"deveto\",\"do\",\"dober\",\"dobra\",\"dobri\",\"dobro\",\"dokler\",\"dol\",\"dolg\",\"dolga\",\"dolgi\",\"dovolj\",\"drug\",\"druga\",\"drugi\",\"drugo\",\"dva\",\"dve\",\"e\",\"eden\",\"en\",\"ena\",\"ene\",\"eni\",\"enkrat\",\"eno\",\"etc.\",\"f\",\"februar\",\"g\",\"g.\",\"ga\",\"ga.\",\"gor\",\"gospa\",\"gospod\",\"h\",\"halo\",\"i\",\"idr.\",\"ii\",\"iii\",\"in\",\"iv\",\"ix\",\"iz\",\"j\",\"januar\",\"jaz\",\"je\",\"ji\",\"jih\",\"jim\",\"jo\",\"julij\",\"junij\",\"jutri\",\"k\",\"kadarkoli\",\"kaj\",\"kajti\",\"kako\",\"kakor\",\"kamor\",\"kamorkoli\",\"kar\",\"karkoli\",\"katerikoli\",\"kdaj\",\"kdo\",\"kdorkoli\",\"ker\",\"ki\",\"kje\",\"kjer\",\"kjerkoli\",\"ko\",\"koder\",\"koderkoli\",\"koga\",\"komu\",\"kot\",\"kratek\",\"kratka\",\"kratke\",\"kratki\",\"l\",\"lahka\",\"lahke\",\"lahki\",\"lahko\",\"le\",\"lep\",\"lepa\",\"lepe\",\"lepi\",\"lepo\",\"leto\",\"m\",\"maj\",\"majhen\",\"majhna\",\"majhni\",\"malce\",\"malo\",\"manj\",\"marec\",\"me\",\"med\",\"medtem\",\"mene\",\"mesec\",\"mi\",\"midva\",\"midve\",\"mnogo\",\"moj\",\"moja\",\"moje\",\"mora\",\"morajo\",\"moram\",\"moramo\",\"morate\",\"moraš\",\"morem\",\"mu\",\"n\",\"na\",\"nad\",\"naj\",\"najina\",\"najino\",\"najmanj\",\"naju\",\"največ\",\"nam\",\"narobe\",\"nas\",\"nato\",\"nazaj\",\"naš\",\"naša\",\"naše\",\"ne\",\"nedavno\",\"nedelja\",\"nek\",\"neka\",\"nekaj\",\"nekatere\",\"nekateri\",\"nekatero\",\"nekdo\",\"neke\",\"nekega\",\"neki\",\"nekje\",\"neko\",\"nekoga\",\"nekoč\",\"ni\",\"nikamor\",\"nikdar\",\"nikjer\",\"nikoli\",\"nič\",\"nje\",\"njega\",\"njegov\",\"njegova\",\"njegovo\",\"njej\",\"njemu\",\"njen\",\"njena\",\"njeno\",\"nji\",\"njih\",\"njihov\",\"njihova\",\"njihovo\",\"njiju\",\"njim\",\"njo\",\"njun\",\"njuna\",\"njuno\",\"no\",\"nocoj\",\"november\",\"npr.\",\"o\",\"ob\",\"oba\",\"obe\",\"oboje\",\"od\",\"odprt\",\"odprta\",\"odprti\",\"okoli\",\"oktober\",\"on\",\"onadva\",\"one\",\"oni\",\"onidve\",\"osem\",\"osma\",\"osmi\",\"osmo\",\"oz.\",\"p\",\"pa\",\"pet\",\"peta\",\"petek\",\"peti\",\"peto\",\"po\",\"pod\",\"pogosto\",\"poleg\",\"poln\",\"polna\",\"polni\",\"polno\",\"ponavadi\",\"ponedeljek\",\"ponovno\",\"potem\",\"povsod\",\"pozdravljen\",\"pozdravljeni\",\"prav\",\"prava\",\"prave\",\"pravi\",\"pravo\",\"prazen\",\"prazna\",\"prazno\",\"prbl.\",\"precej\",\"pred\",\"prej\",\"preko\",\"pri\",\"pribl.\",\"približno\",\"primer\",\"pripravljen\",\"pripravljena\",\"pripravljeni\",\"proti\",\"prva\",\"prvi\",\"prvo\",\"r\",\"ravno\",\"redko\",\"res\",\"reč\",\"s\",\"saj\",\"sam\",\"sama\",\"same\",\"sami\",\"samo\",\"se\",\"sebe\",\"sebi\",\"sedaj\",\"sedem\",\"sedma\",\"sedmi\",\"sedmo\",\"sem\",\"september\",\"seveda\",\"si\",\"sicer\",\"skoraj\",\"skozi\",\"slab\",\"smo\",\"so\",\"sobota\",\"spet\",\"sreda\",\"srednja\",\"srednji\",\"sta\",\"ste\",\"stran\",\"stvar\",\"sva\",\"t\",\"ta\",\"tak\",\"taka\",\"take\",\"taki\",\"tako\",\"takoj\",\"tam\",\"te\",\"tebe\",\"tebi\",\"tega\",\"težak\",\"težka\",\"težki\",\"težko\",\"ti\",\"tista\",\"tiste\",\"tisti\",\"tisto\",\"tj.\",\"tja\",\"to\",\"toda\",\"torek\",\"tretja\",\"tretje\",\"tretji\",\"tri\",\"tu\",\"tudi\",\"tukaj\",\"tvoj\",\"tvoja\",\"tvoje\",\"u\",\"v\",\"vaju\",\"vam\",\"vas\",\"vaš\",\"vaša\",\"vaše\",\"ve\",\"vedno\",\"velik\",\"velika\",\"veliki\",\"veliko\",\"vendar\",\"ves\",\"več\",\"vi\",\"vidva\",\"vii\",\"viii\",\"visok\",\"visoka\",\"visoke\",\"visoki\",\"vsa\",\"vsaj\",\"vsak\",\"vsaka\",\"vsakdo\",\"vsake\",\"vsaki\",\"vsakomur\",\"vse\",\"vsega\",\"vsi\",\"vso\",\"včasih\",\"včeraj\",\"x\",\"z\",\"za\",\"zadaj\",\"zadnji\",\"zakaj\",\"zaprta\",\"zaprti\",\"zaprto\",\"zdaj\",\"zelo\",\"zunaj\",\"č\",\"če\",\"često\",\"četrta\",\"četrtek\",\"četrti\",\"četrto\",\"čez\",\"čigav\",\"š\",\"šest\",\"šesta\",\"šesti\",\"šesto\",\"štiri\",\"ž\",\"že\"],\"br\":[\"a\",\"ainda\",\"alem\",\"ambas\",\"ambos\",\"antes\",\"ao\",\"aonde\",\"aos\",\"apos\",\"aquele\",\"aqueles\",\"as\",\"assim\",\"com\",\"como\",\"contra\",\"contudo\",\"cuja\",\"cujas\",\"cujo\",\"cujos\",\"da\",\"das\",\"de\",\"dela\",\"dele\",\"deles\",\"demais\",\"depois\",\"desde\",\"desta\",\"deste\",\"dispoe\",\"dispoem\",\"diversa\",\"diversas\",\"diversos\",\"do\",\"dos\",\"durante\",\"e\",\"ela\",\"elas\",\"ele\",\"eles\",\"em\",\"entao\",\"entre\",\"essa\",\"essas\",\"esse\",\"esses\",\"esta\",\"estas\",\"este\",\"estes\",\"ha\",\"isso\",\"isto\",\"logo\",\"mais\",\"mas\",\"mediante\",\"menos\",\"mesma\",\"mesmas\",\"mesmo\",\"mesmos\",\"na\",\"nao\",\"nas\",\"nem\",\"nesse\",\"neste\",\"nos\",\"o\",\"os\",\"ou\",\"outra\",\"outras\",\"outro\",\"outros\",\"pelas\",\"pelo\",\"pelos\",\"perante\",\"pois\",\"por\",\"porque\",\"portanto\",\"propios\",\"proprio\",\"quais\",\"qual\",\"qualquer\",\"quando\",\"quanto\",\"que\",\"quem\",\"quer\",\"se\",\"seja\",\"sem\",\"sendo\",\"seu\",\"seus\",\"sob\",\"sobre\",\"sua\",\"suas\",\"tal\",\"tambem\",\"teu\",\"teus\",\"toda\",\"todas\",\"todo\",\"todos\",\"tua\",\"tuas\",\"tudo\",\"um\",\"uma\",\"umas\",\"uns\"],\"ca\":[\"a\",\"abans\",\"ací\",\"ah\",\"així\",\"això\",\"al\",\"aleshores\",\"algun\",\"alguna\",\"algunes\",\"alguns\",\"alhora\",\"allà\",\"allí\",\"allò\",\"als\",\"altra\",\"altre\",\"altres\",\"amb\",\"ambdues\",\"ambdós\",\"apa\",\"aquell\",\"aquella\",\"aquelles\",\"aquells\",\"aquest\",\"aquesta\",\"aquestes\",\"aquests\",\"aquí\",\"baix\",\"cada\",\"cadascuna\",\"cadascunes\",\"cadascuns\",\"cadascú\",\"com\",\"contra\",\"d'un\",\"d'una\",\"d'unes\",\"d'uns\",\"dalt\",\"de\",\"del\",\"dels\",\"des\",\"després\",\"dins\",\"dintre\",\"donat\",\"doncs\",\"durant\",\"e\",\"eh\",\"el\",\"els\",\"em\",\"en\",\"encara\",\"ens\",\"entre\",\"eren\",\"es\",\"esta\",\"estaven\",\"esteu\",\"està\",\"estàvem\",\"estàveu\",\"et\",\"etc\",\"ets\",\"fins\",\"fora\",\"gairebé\",\"ha\",\"han\",\"has\",\"havia\",\"he\",\"hem\",\"heu\",\"hi\",\"ho\",\"i\",\"igual\",\"iguals\",\"ja\",\"l'hi\",\"la\",\"les\",\"li\",\"li'n\",\"llavors\",\"m'he\",\"ma\",\"mal\",\"malgrat\",\"mateix\",\"mateixa\",\"mateixes\",\"mateixos\",\"me\",\"mentre\",\"meu\",\"meus\",\"meva\",\"meves\",\"molt\",\"molta\",\"moltes\",\"molts\",\"mon\",\"mons\",\"més\",\"n'he\",\"n'hi\",\"ne\",\"ni\",\"no\",\"nogensmenys\",\"només\",\"nosaltres\",\"nostra\",\"nostre\",\"nostres\",\"o\",\"oh\",\"oi\",\"on\",\"pas\",\"pel\",\"pels\",\"per\",\"perquè\",\"però\",\"poc\",\"poca\",\"pocs\",\"poques\",\"potser\",\"propi\",\"qual\",\"quals\",\"quan\",\"quant\",\"que\",\"quelcom\",\"qui\",\"quin\",\"quina\",\"quines\",\"quins\",\"què\",\"s'ha\",\"s'han\",\"sa\",\"semblant\",\"semblants\",\"ses\",\"seu\",\"seus\",\"seva\",\"seves\",\"si\",\"sobre\",\"sobretot\",\"solament\",\"sols\",\"son\",\"sons\",\"sota\",\"sou\",\"sóc\",\"són\",\"t'ha\",\"t'han\",\"t'he\",\"ta\",\"tal\",\"també\",\"tampoc\",\"tan\",\"tant\",\"tanta\",\"tantes\",\"teu\",\"teus\",\"teva\",\"teves\",\"ton\",\"tons\",\"tot\",\"tota\",\"totes\",\"tots\",\"un\",\"una\",\"unes\",\"uns\",\"us\",\"va\",\"vaig\",\"vam\",\"van\",\"vas\",\"veu\",\"vosaltres\",\"vostra\",\"vostre\",\"vostres\",\"érem\",\"éreu\",\"és\"],\"cs\":[\"a\",\"aby\",\"ahoj\",\"aj\",\"ale\",\"anebo\",\"ani\",\"ano\",\"asi\",\"aspoň\",\"atd\",\"atp\",\"ačkoli\",\"až\",\"bez\",\"beze\",\"blízko\",\"bohužel\",\"brzo\",\"bude\",\"budem\",\"budeme\",\"budete\",\"budeš\",\"budou\",\"budu\",\"by\",\"byl\",\"byla\",\"byli\",\"bylo\",\"byly\",\"bys\",\"být\",\"během\",\"chce\",\"chceme\",\"chcete\",\"chceš\",\"chci\",\"chtít\",\"chtějí\",\"chut'\",\"chuti\",\"co\",\"což\",\"cz\",\"daleko\",\"další\",\"den\",\"deset\",\"devatenáct\",\"devět\",\"dnes\",\"do\",\"dobrý\",\"docela\",\"dva\",\"dvacet\",\"dvanáct\",\"dvě\",\"dál\",\"dále\",\"děkovat\",\"děkujeme\",\"děkuji\",\"ho\",\"hodně\",\"i\",\"jak\",\"jakmile\",\"jako\",\"jakož\",\"jde\",\"je\",\"jeden\",\"jedenáct\",\"jedna\",\"jedno\",\"jednou\",\"jedou\",\"jeho\",\"jehož\",\"jej\",\"jejich\",\"její\",\"jelikož\",\"jemu\",\"jen\",\"jenom\",\"jestli\",\"jestliže\",\"ještě\",\"jež\",\"ji\",\"jich\",\"jimi\",\"jinak\",\"jiné\",\"již\",\"jsem\",\"jseš\",\"jsi\",\"jsme\",\"jsou\",\"jste\",\"já\",\"jí\",\"jím\",\"jíž\",\"k\",\"kam\",\"kde\",\"kdo\",\"kdy\",\"když\",\"ke\",\"kolik\",\"kromě\",\"kterou\",\"která\",\"které\",\"který\",\"kteří\",\"kvůli\",\"mají\",\"mezi\",\"mi\",\"mne\",\"mnou\",\"mně\",\"moc\",\"mohl\",\"mohou\",\"moje\",\"moji\",\"možná\",\"musí\",\"my\",\"má\",\"málo\",\"mám\",\"máme\",\"máte\",\"máš\",\"mé\",\"mí\",\"mít\",\"mě\",\"můj\",\"může\",\"na\",\"nad\",\"nade\",\"napište\",\"naproti\",\"načež\",\"naše\",\"naši\",\"ne\",\"nebo\",\"nebyl\",\"nebyla\",\"nebyli\",\"nebyly\",\"nedělají\",\"nedělá\",\"nedělám\",\"neděláme\",\"neděláte\",\"neděláš\",\"neg\",\"nejsi\",\"nejsou\",\"nemají\",\"nemáme\",\"nemáte\",\"neměl\",\"není\",\"nestačí\",\"nevadí\",\"než\",\"nic\",\"nich\",\"nimi\",\"nové\",\"nový\",\"nula\",\"nám\",\"námi\",\"nás\",\"náš\",\"ním\",\"ně\",\"něco\",\"nějak\",\"někde\",\"někdo\",\"němu\",\"němuž\",\"o\",\"od\",\"ode\",\"on\",\"ona\",\"oni\",\"ono\",\"ony\",\"osm\",\"osmnáct\",\"pak\",\"patnáct\",\"po\",\"pod\",\"podle\",\"pokud\",\"potom\",\"pouze\",\"pozdě\",\"pořád\",\"pravé\",\"pro\",\"prostě\",\"prosím\",\"proti\",\"proto\",\"protože\",\"proč\",\"první\",\"pta\",\"pět\",\"před\",\"přes\",\"přese\",\"při\",\"přičemž\",\"re\",\"rovně\",\"s\",\"se\",\"sedm\",\"sedmnáct\",\"si\",\"skoro\",\"smí\",\"smějí\",\"snad\",\"spolu\",\"sta\",\"sto\",\"strana\",\"sté\",\"své\",\"svých\",\"svým\",\"svými\",\"ta\",\"tady\",\"tak\",\"takhle\",\"taky\",\"také\",\"takže\",\"tam\",\"tamhle\",\"tamhleto\",\"tamto\",\"tato\",\"tebe\",\"tebou\",\"ted'\",\"tedy\",\"ten\",\"tento\",\"teto\",\"ti\",\"tipy\",\"tisíc\",\"tisíce\",\"to\",\"tobě\",\"tohle\",\"toho\",\"tohoto\",\"tom\",\"tomto\",\"tomu\",\"tomuto\",\"toto\",\"trošku\",\"tu\",\"tuto\",\"tvoje\",\"tvá\",\"tvé\",\"tvůj\",\"ty\",\"tyto\",\"téma\",\"tím\",\"tímto\",\"tě\",\"těm\",\"těmu\",\"třeba\",\"tři\",\"třináct\",\"u\",\"určitě\",\"už\",\"v\",\"vaše\",\"vaši\",\"ve\",\"vedle\",\"večer\",\"vlastně\",\"vy\",\"vám\",\"vámi\",\"vás\",\"váš\",\"více\",\"však\",\"všechno\",\"všichni\",\"vůbec\",\"vždy\",\"z\",\"za\",\"zatímco\",\"zač\",\"zda\",\"zde\",\"ze\",\"zprávy\",\"zpět\",\"čau\",\"či\",\"článku\",\"články\",\"čtrnáct\",\"čtyři\",\"šest\",\"šestnáct\",\"že\"],\"el\":[\"αλλα\",\"αν\",\"αντι\",\"απο\",\"αυτα\",\"αυτεσ\",\"αυτη\",\"αυτο\",\"αυτοι\",\"αυτοσ\",\"αυτουσ\",\"αυτων\",\"για\",\"δε\",\"δεν\",\"εαν\",\"ειμαι\",\"ειμαστε\",\"ειναι\",\"εισαι\",\"ειστε\",\"εκεινα\",\"εκεινεσ\",\"εκεινη\",\"εκεινο\",\"εκεινοι\",\"εκεινοσ\",\"εκεινουσ\",\"εκεινων\",\"ενω\",\"επι\",\"η\",\"θα\",\"ισωσ\",\"κ\",\"και\",\"κατα\",\"κι\",\"μα\",\"με\",\"μετα\",\"μη\",\"μην\",\"να\",\"ο\",\"οι\",\"ομωσ\",\"οπωσ\",\"οσο\",\"οτι\",\"παρα\",\"ποια\",\"ποιεσ\",\"ποιο\",\"ποιοι\",\"ποιοσ\",\"ποιουσ\",\"ποιων\",\"που\",\"προσ\",\"πωσ\",\"σε\",\"στη\",\"στην\",\"στο\",\"στον\",\"τα\",\"την\",\"τησ\",\"το\",\"τον\",\"τοτε\",\"του\",\"των\",\"ωσ\"],\"eu\":[\"al\",\"anitz\",\"arabera\",\"asko\",\"baina\",\"bat\",\"batean\",\"batek\",\"bati\",\"batzuei\",\"batzuek\",\"batzuetan\",\"batzuk\",\"bera\",\"beraiek\",\"berau\",\"berauek\",\"bere\",\"berori\",\"beroriek\",\"beste\",\"bezala\",\"da\",\"dago\",\"dira\",\"ditu\",\"du\",\"dute\",\"edo\",\"egin\",\"ere\",\"eta\",\"eurak\",\"ez\",\"gainera\",\"gu\",\"gutxi\",\"guzti\",\"haiei\",\"haiek\",\"haietan\",\"hainbeste\",\"hala\",\"han\",\"handik\",\"hango\",\"hara\",\"hari\",\"hark\",\"hartan\",\"hau\",\"hauei\",\"hauek\",\"hauetan\",\"hemen\",\"hemendik\",\"hemengo\",\"hi\",\"hona\",\"honek\",\"honela\",\"honetan\",\"honi\",\"hor\",\"hori\",\"horiei\",\"horiek\",\"horietan\",\"horko\",\"horra\",\"horrek\",\"horrela\",\"horretan\",\"horri\",\"hortik\",\"hura\",\"izan\",\"ni\",\"noiz\",\"nola\",\"non\",\"nondik\",\"nongo\",\"nor\",\"nora\",\"ze\",\"zein\",\"zen\",\"zenbait\",\"zenbat\",\"zer\",\"zergatik\",\"ziren\",\"zituen\",\"zu\",\"zuek\",\"zuen\",\"zuten\"],\"ga\":[\"a\",\"ach\",\"ag\",\"agus\",\"an\",\"aon\",\"ar\",\"arna\",\"as\",\"b'\",\"ba\",\"beirt\",\"bhúr\",\"caoga\",\"ceathair\",\"ceathrar\",\"chomh\",\"chtó\",\"chuig\",\"chun\",\"cois\",\"céad\",\"cúig\",\"cúigear\",\"d'\",\"daichead\",\"dar\",\"de\",\"deich\",\"deichniúr\",\"den\",\"dhá\",\"do\",\"don\",\"dtí\",\"dá\",\"dár\",\"dó\",\"faoi\",\"faoin\",\"faoina\",\"faoinár\",\"fara\",\"fiche\",\"gach\",\"gan\",\"go\",\"gur\",\"haon\",\"hocht\",\"i\",\"iad\",\"idir\",\"in\",\"ina\",\"ins\",\"inár\",\"is\",\"le\",\"leis\",\"lena\",\"lenár\",\"m'\",\"mar\",\"mo\",\"mé\",\"na\",\"nach\",\"naoi\",\"naonúr\",\"ná\",\"ní\",\"níor\",\"nó\",\"nócha\",\"ocht\",\"ochtar\",\"os\",\"roimh\",\"sa\",\"seacht\",\"seachtar\",\"seachtó\",\"seasca\",\"seisear\",\"siad\",\"sibh\",\"sinn\",\"sna\",\"sé\",\"sí\",\"tar\",\"thar\",\"thú\",\"triúr\",\"trí\",\"trína\",\"trínár\",\"tríocha\",\"tú\",\"um\",\"ár\",\"é\",\"éis\",\"í\",\"ó\",\"ón\",\"óna\",\"ónár\"],\"gl\":[\"a\",\"alí\",\"ao\",\"aos\",\"aquel\",\"aquela\",\"aquelas\",\"aqueles\",\"aquilo\",\"aquí\",\"as\",\"así\",\"aínda\",\"ben\",\"cando\",\"che\",\"co\",\"coa\",\"coas\",\"comigo\",\"con\",\"connosco\",\"contigo\",\"convosco\",\"cos\",\"cun\",\"cunha\",\"cunhas\",\"cuns\",\"da\",\"dalgunha\",\"dalgunhas\",\"dalgún\",\"dalgúns\",\"das\",\"de\",\"del\",\"dela\",\"delas\",\"deles\",\"desde\",\"deste\",\"do\",\"dos\",\"dun\",\"dunha\",\"dunhas\",\"duns\",\"e\",\"el\",\"ela\",\"elas\",\"eles\",\"en\",\"era\",\"eran\",\"esa\",\"esas\",\"ese\",\"eses\",\"esta\",\"estaba\",\"estar\",\"este\",\"estes\",\"estiven\",\"estou\",\"está\",\"están\",\"eu\",\"facer\",\"foi\",\"foron\",\"fun\",\"había\",\"hai\",\"iso\",\"isto\",\"la\",\"las\",\"lle\",\"lles\",\"lo\",\"los\",\"mais\",\"me\",\"meu\",\"meus\",\"min\",\"miña\",\"miñas\",\"moi\",\"na\",\"nas\",\"neste\",\"nin\",\"no\",\"non\",\"nos\",\"nosa\",\"nosas\",\"noso\",\"nosos\",\"nun\",\"nunha\",\"nunhas\",\"nuns\",\"nós\",\"o\",\"os\",\"ou\",\"para\",\"pero\",\"pode\",\"pois\",\"pola\",\"polas\",\"polo\",\"polos\",\"por\",\"que\",\"se\",\"senón\",\"ser\",\"seu\",\"seus\",\"sexa\",\"sido\",\"sobre\",\"súa\",\"súas\",\"tamén\",\"tan\",\"te\",\"ten\",\"ter\",\"teu\",\"teus\",\"teñen\",\"teño\",\"ti\",\"tido\",\"tiven\",\"tiña\",\"túa\",\"túas\",\"un\",\"unha\",\"unhas\",\"uns\",\"vos\",\"vosa\",\"vosas\",\"voso\",\"vosos\",\"vós\",\"á\",\"é\",\"ó\",\"ós\"],\"hy\":[\"այդ\",\"այլ\",\"այն\",\"այս\",\"դու\",\"դուք\",\"եմ\",\"են\",\"ենք\",\"ես\",\"եք\",\"է\",\"էի\",\"էին\",\"էինք\",\"էիր\",\"էիք\",\"էր\",\"ըստ\",\"թ\",\"ի\",\"ին\",\"իսկ\",\"իր\",\"կամ\",\"համար\",\"հետ\",\"հետո\",\"մենք\",\"մեջ\",\"մի\",\"ն\",\"նա\",\"նաև\",\"նրա\",\"նրանք\",\"որ\",\"որը\",\"որոնք\",\"որպես\",\"ու\",\"ում\",\"պիտի\",\"վրա\",\"և\"],\"id\":[\"ada\",\"adalah\",\"adanya\",\"adapun\",\"agak\",\"agaknya\",\"agar\",\"akan\",\"akankah\",\"akhirnya\",\"aku\",\"akulah\",\"amat\",\"amatlah\",\"anda\",\"andalah\",\"antar\",\"antara\",\"antaranya\",\"apa\",\"apaan\",\"apabila\",\"apakah\",\"apalagi\",\"apatah\",\"atau\",\"ataukah\",\"ataupun\",\"bagai\",\"bagaikan\",\"bagaimana\",\"bagaimanakah\",\"bagaimanapun\",\"bagi\",\"bahkan\",\"bahwa\",\"bahwasanya\",\"banyak\",\"beberapa\",\"begini\",\"beginian\",\"beginikah\",\"beginilah\",\"begitu\",\"begitukah\",\"begitulah\",\"begitupun\",\"belum\",\"belumlah\",\"berapa\",\"berapakah\",\"berapalah\",\"berapapun\",\"bermacam\",\"bersama\",\"betulkah\",\"biasa\",\"biasanya\",\"bila\",\"bilakah\",\"bisa\",\"bisakah\",\"boleh\",\"bolehkah\",\"bolehlah\",\"buat\",\"bukan\",\"bukankah\",\"bukanlah\",\"bukannya\",\"cuma\",\"dahulu\",\"dalam\",\"dan\",\"dapat\",\"dari\",\"daripada\",\"dekat\",\"demi\",\"demikian\",\"demikianlah\",\"dengan\",\"depan\",\"di\",\"dia\",\"dialah\",\"diantara\",\"diantaranya\",\"dikarenakan\",\"dini\",\"diri\",\"dirinya\",\"disini\",\"disinilah\",\"dong\",\"dulu\",\"enggak\",\"enggaknya\",\"entah\",\"entahlah\",\"hal\",\"hampir\",\"hanya\",\"hanyalah\",\"harus\",\"haruslah\",\"harusnya\",\"hendak\",\"hendaklah\",\"hendaknya\",\"hingga\",\"ia\",\"ialah\",\"ibarat\",\"ingin\",\"inginkah\",\"inginkan\",\"ini\",\"inikah\",\"inilah\",\"itu\",\"itukah\",\"itulah\",\"jangan\",\"jangankan\",\"janganlah\",\"jika\",\"jikalau\",\"juga\",\"justru\",\"kala\",\"kalau\",\"kalaulah\",\"kalaupun\",\"kalian\",\"kami\",\"kamilah\",\"kamu\",\"kamulah\",\"kan\",\"kapan\",\"kapankah\",\"kapanpun\",\"karena\",\"karenanya\",\"ke\",\"kecil\",\"kemudian\",\"kenapa\",\"kepada\",\"kepadanya\",\"ketika\",\"khususnya\",\"kini\",\"kinilah\",\"kiranya\",\"kita\",\"kitalah\",\"kok\",\"lagi\",\"lagian\",\"lah\",\"lain\",\"lainnya\",\"lalu\",\"lama\",\"lamanya\",\"lebih\",\"macam\",\"maka\",\"makanya\",\"makin\",\"malah\",\"malahan\",\"mampu\",\"mampukah\",\"mana\",\"manakala\",\"manalagi\",\"masih\",\"masihkah\",\"masing\",\"mau\",\"maupun\",\"melainkan\",\"melalui\",\"memang\",\"mengapa\",\"mereka\",\"merekalah\",\"merupakan\",\"meski\",\"meskipun\",\"mungkin\",\"mungkinkah\",\"nah\",\"namun\",\"nanti\",\"nantinya\",\"nyaris\",\"oleh\",\"olehnya\",\"pada\",\"padahal\",\"padanya\",\"paling\",\"pantas\",\"para\",\"pasti\",\"pastilah\",\"per\",\"percuma\",\"pernah\",\"pula\",\"pun\",\"rupanya\",\"saat\",\"saatnya\",\"saja\",\"sajalah\",\"saling\",\"sama\",\"sambil\",\"sampai\",\"sana\",\"sangat\",\"sangatlah\",\"saya\",\"sayalah\",\"se\",\"sebab\",\"sebabnya\",\"sebagai\",\"sebagaimana\",\"sebagainya\",\"sebaliknya\",\"sebanyak\",\"sebegini\",\"sebegitu\",\"sebelum\",\"sebelumnya\",\"sebenarnya\",\"seberapa\",\"sebetulnya\",\"sebisanya\",\"sebuah\",\"sedang\",\"sedangkan\",\"sedemikian\",\"sedikit\",\"sedikitnya\",\"segala\",\"segalanya\",\"segera\",\"seharusnya\",\"sehingga\",\"sejak\",\"sejenak\",\"sekali\",\"sekalian\",\"sekaligus\",\"sekalipun\",\"sekarang\",\"seketika\",\"sekiranya\",\"sekitar\",\"sekitarnya\",\"sela\",\"selagi\",\"selain\",\"selaku\",\"selalu\",\"selama\",\"selamanya\",\"seluruh\",\"seluruhnya\",\"semacam\",\"semakin\",\"semasih\",\"semaunya\",\"sementara\",\"sempat\",\"semua\",\"semuanya\",\"semula\",\"sendiri\",\"sendirinya\",\"seolah\",\"seorang\",\"sepanjang\",\"sepantasnya\",\"sepantasnyalah\",\"seperti\",\"sepertinya\",\"sering\",\"seringnya\",\"serta\",\"serupa\",\"sesaat\",\"sesama\",\"sesegera\",\"sesekali\",\"seseorang\",\"sesuatu\",\"sesuatunya\",\"sesudah\",\"sesudahnya\",\"setelah\",\"seterusnya\",\"setiap\",\"setidaknya\",\"sewaktu\",\"siapa\",\"siapakah\",\"siapapun\",\"sini\",\"sinilah\",\"suatu\",\"sudah\",\"sudahkah\",\"sudahlah\",\"supaya\",\"tadi\",\"tadinya\",\"tak\",\"tanpa\",\"tapi\",\"telah\",\"tentang\",\"tentu\",\"tentulah\",\"tentunya\",\"terdiri\",\"terhadap\",\"terhadapnya\",\"terlalu\",\"terlebih\",\"tersebut\",\"tersebutlah\",\"tertentu\",\"tetapi\",\"tiap\",\"tidak\",\"tidakkah\",\"tidaklah\",\"toh\",\"waduh\",\"wah\",\"wahai\",\"walau\",\"walaupun\",\"wong\",\"yaitu\",\"yakni\",\"yang\"],\"ja\":[\"あっ\",\"あり\",\"ある\",\"い\",\"いう\",\"いる\",\"う\",\"うち\",\"お\",\"および\",\"おり\",\"か\",\"かつて\",\"から\",\"が\",\"き\",\"ここ\",\"こと\",\"この\",\"これ\",\"これら\",\"さ\",\"さらに\",\"し\",\"しかし\",\"する\",\"ず\",\"せ\",\"せる\",\"そして\",\"その\",\"その他\",\"その後\",\"それ\",\"それぞれ\",\"た\",\"ただし\",\"たち\",\"ため\",\"たり\",\"だ\",\"だっ\",\"つ\",\"て\",\"で\",\"でき\",\"できる\",\"です\",\"では\",\"でも\",\"と\",\"という\",\"といった\",\"とき\",\"ところ\",\"として\",\"とともに\",\"とも\",\"と共に\",\"な\",\"ない\",\"なお\",\"なかっ\",\"ながら\",\"なく\",\"なっ\",\"など\",\"なら\",\"なり\",\"なる\",\"に\",\"において\",\"における\",\"について\",\"にて\",\"によって\",\"により\",\"による\",\"に対して\",\"に対する\",\"に関する\",\"の\",\"ので\",\"のみ\",\"は\",\"ば\",\"へ\",\"ほか\",\"ほとんど\",\"ほど\",\"ます\",\"また\",\"または\",\"まで\",\"も\",\"もの\",\"ものの\",\"や\",\"よう\",\"より\",\"ら\",\"られ\",\"られる\",\"れ\",\"れる\",\"を\",\"ん\",\"及び\",\"特に\"],\"lv\":[\"aiz\",\"ap\",\"apakš\",\"apakšpus\",\"ar\",\"arī\",\"augšpus\",\"bet\",\"bez\",\"bija\",\"biji\",\"biju\",\"bijām\",\"bijāt\",\"būs\",\"būsi\",\"būsiet\",\"būsim\",\"būt\",\"būšu\",\"caur\",\"diemžēl\",\"diezin\",\"droši\",\"dēļ\",\"esam\",\"esat\",\"esi\",\"esmu\",\"gan\",\"gar\",\"iekam\",\"iekams\",\"iekām\",\"iekāms\",\"iekš\",\"iekšpus\",\"ik\",\"ir\",\"it\",\"itin\",\"iz\",\"ja\",\"jau\",\"jeb\",\"jebšu\",\"jel\",\"jo\",\"jā\",\"ka\",\"kamēr\",\"kaut\",\"kolīdz\",\"kopš\",\"kā\",\"kļuva\",\"kļuvi\",\"kļuvu\",\"kļuvām\",\"kļuvāt\",\"kļūs\",\"kļūsi\",\"kļūsiet\",\"kļūsim\",\"kļūst\",\"kļūstam\",\"kļūstat\",\"kļūsti\",\"kļūstu\",\"kļūt\",\"kļūšu\",\"labad\",\"lai\",\"lejpus\",\"līdz\",\"līdzko\",\"ne\",\"nebūt\",\"nedz\",\"nekā\",\"nevis\",\"nezin\",\"no\",\"nu\",\"nē\",\"otrpus\",\"pa\",\"par\",\"pat\",\"pie\",\"pirms\",\"pret\",\"priekš\",\"pār\",\"pēc\",\"starp\",\"tad\",\"tak\",\"tapi\",\"taps\",\"tapsi\",\"tapsiet\",\"tapsim\",\"tapt\",\"tapāt\",\"tapšu\",\"taču\",\"te\",\"tiec\",\"tiek\",\"tiekam\",\"tiekat\",\"tieku\",\"tik\",\"tika\",\"tikai\",\"tiki\",\"tikko\",\"tiklab\",\"tiklīdz\",\"tiks\",\"tiksiet\",\"tiksim\",\"tikt\",\"tiku\",\"tikvien\",\"tikām\",\"tikāt\",\"tikšu\",\"tomēr\",\"topat\",\"turpretim\",\"turpretī\",\"tā\",\"tādēļ\",\"tālab\",\"tāpēc\",\"un\",\"uz\",\"vai\",\"var\",\"varat\",\"varēja\",\"varēji\",\"varēju\",\"varējām\",\"varējāt\",\"varēs\",\"varēsi\",\"varēsiet\",\"varēsim\",\"varēt\",\"varēšu\",\"vien\",\"virs\",\"virspus\",\"vis\",\"viņpus\",\"zem\",\"ārpus\",\"šaipus\"],\"th\":[\"กล่าว\",\"กว่า\",\"กัน\",\"กับ\",\"การ\",\"ก็\",\"ก่อน\",\"ขณะ\",\"ขอ\",\"ของ\",\"ขึ้น\",\"คง\",\"ครั้ง\",\"ความ\",\"คือ\",\"จะ\",\"จัด\",\"จาก\",\"จึง\",\"ช่วง\",\"ซึ่ง\",\"ดัง\",\"ด้วย\",\"ด้าน\",\"ตั้ง\",\"ตั้งแต่\",\"ตาม\",\"ต่อ\",\"ต่าง\",\"ต่างๆ\",\"ต้อง\",\"ถึง\",\"ถูก\",\"ถ้า\",\"ทั้ง\",\"ทั้งนี้\",\"ทาง\",\"ที่\",\"ที่สุด\",\"ทุก\",\"ทํา\",\"ทําให้\",\"นอกจาก\",\"นัก\",\"นั้น\",\"นี้\",\"น่า\",\"นํา\",\"บาง\",\"ผล\",\"ผ่าน\",\"พบ\",\"พร้อม\",\"มา\",\"มาก\",\"มี\",\"ยัง\",\"รวม\",\"ระหว่าง\",\"รับ\",\"ราย\",\"ร่วม\",\"ลง\",\"วัน\",\"ว่า\",\"สุด\",\"ส่ง\",\"ส่วน\",\"สําหรับ\",\"หนึ่ง\",\"หรือ\",\"หลัง\",\"หลังจาก\",\"หลาย\",\"หาก\",\"อยาก\",\"อยู่\",\"อย่าง\",\"ออก\",\"อะไร\",\"อาจ\",\"อีก\",\"เขา\",\"เข้า\",\"เคย\",\"เฉพาะ\",\"เช่น\",\"เดียว\",\"เดียวกัน\",\"เนื่องจาก\",\"เปิด\",\"เปิดเผย\",\"เป็น\",\"เป็นการ\",\"เพราะ\",\"เพื่อ\",\"เมื่อ\",\"เรา\",\"เริ่ม\",\"เลย\",\"เห็น\",\"เอง\",\"แต่\",\"แบบ\",\"แรก\",\"และ\",\"แล้ว\",\"แห่ง\",\"โดย\",\"ใน\",\"ให้\",\"ได้\",\"ไป\",\"ไม่\",\"ไว้\"],\"ar\":[\"،\",\"أ\",\"ا\",\"اثر\",\"اجل\",\"احد\",\"اخرى\",\"اذا\",\"اربعة\",\"اطار\",\"اعادة\",\"اعلنت\",\"اف\",\"اكثر\",\"اكد\",\"الا\",\"الاخيرة\",\"الان\",\"الاول\",\"الاولى\",\"التى\",\"التي\",\"الثاني\",\"الثانية\",\"الذاتي\",\"الذى\",\"الذي\",\"الذين\",\"السابق\",\"الف\",\"الماضي\",\"المقبل\",\"الوقت\",\"الى\",\"اليوم\",\"اما\",\"امام\",\"امس\",\"ان\",\"انه\",\"انها\",\"او\",\"اول\",\"اي\",\"ايار\",\"ايام\",\"ايضا\",\"ب\",\"باسم\",\"بان\",\"برس\",\"بسبب\",\"بشكل\",\"بعد\",\"بعض\",\"بن\",\"به\",\"بها\",\"بين\",\"تم\",\"ثلاثة\",\"ثم\",\"جميع\",\"حاليا\",\"حتى\",\"حوالى\",\"حول\",\"حيث\",\"حين\",\"خلال\",\"دون\",\"ذلك\",\"زيارة\",\"سنة\",\"سنوات\",\"شخصا\",\"صباح\",\"صفر\",\"ضد\",\"ضمن\",\"عام\",\"عاما\",\"عدة\",\"عدد\",\"عدم\",\"عشر\",\"عشرة\",\"على\",\"عليه\",\"عليها\",\"عن\",\"عند\",\"عندما\",\"غدا\",\"غير\",\"ـ\",\"ف\",\"فان\",\"فى\",\"في\",\"فيه\",\"فيها\",\"قال\",\"قبل\",\"قد\",\"قوة\",\"كان\",\"كانت\",\"كل\",\"كلم\",\"كما\",\"لا\",\"لدى\",\"لقاء\",\"لكن\",\"للامم\",\"لم\",\"لن\",\"له\",\"لها\",\"لوكالة\",\"ما\",\"مايو\",\"مساء\",\"مع\",\"مقابل\",\"مليار\",\"مليون\",\"من\",\"منذ\",\"منها\",\"نحو\",\"نفسه\",\"نهاية\",\"هذا\",\"هذه\",\"هناك\",\"هو\",\"هي\",\"و\",\"و6\",\"واحد\",\"واضاف\",\"واضافت\",\"واكد\",\"وان\",\"واوضح\",\"وفي\",\"وقال\",\"وقالت\",\"وقد\",\"وقف\",\"وكان\",\"وكانت\",\"ولا\",\"ولم\",\"ومن\",\"وهو\",\"وهي\",\"يكون\",\"يمكن\",\"يوم\"],\"bg\":[\"а\",\"автентичен\",\"аз\",\"ако\",\"ала\",\"бе\",\"без\",\"беше\",\"би\",\"бивш\",\"бивша\",\"бившо\",\"бил\",\"била\",\"били\",\"било\",\"благодаря\",\"близо\",\"бъдат\",\"бъде\",\"бяха\",\"в\",\"вас\",\"ваш\",\"ваша\",\"вероятно\",\"вече\",\"взема\",\"ви\",\"вие\",\"винаги\",\"внимава\",\"време\",\"все\",\"всеки\",\"всички\",\"всичко\",\"всяка\",\"във\",\"въпреки\",\"върху\",\"г\",\"ги\",\"главен\",\"главна\",\"главно\",\"глас\",\"го\",\"година\",\"години\",\"годишен\",\"д\",\"да\",\"дали\",\"два\",\"двама\",\"двамата\",\"две\",\"двете\",\"ден\",\"днес\",\"дни\",\"до\",\"добра\",\"добре\",\"добро\",\"добър\",\"докато\",\"докога\",\"дори\",\"досега\",\"доста\",\"друг\",\"друга\",\"други\",\"е\",\"евтин\",\"едва\",\"един\",\"една\",\"еднаква\",\"еднакви\",\"еднакъв\",\"едно\",\"екип\",\"ето\",\"живот\",\"за\",\"забавям\",\"зад\",\"заедно\",\"заради\",\"засега\",\"заспал\",\"затова\",\"защо\",\"защото\",\"и\",\"из\",\"или\",\"им\",\"има\",\"имат\",\"иска\",\"й\",\"каза\",\"как\",\"каква\",\"какво\",\"както\",\"какъв\",\"като\",\"кога\",\"когато\",\"което\",\"които\",\"кой\",\"който\",\"колко\",\"която\",\"къде\",\"където\",\"към\",\"лесен\",\"лесно\",\"ли\",\"лош\",\"м\",\"май\",\"малко\",\"ме\",\"между\",\"мек\",\"мен\",\"месец\",\"ми\",\"много\",\"мнозина\",\"мога\",\"могат\",\"може\",\"мокър\",\"моля\",\"момента\",\"му\",\"н\",\"на\",\"над\",\"назад\",\"най\",\"направи\",\"напред\",\"например\",\"нас\",\"не\",\"него\",\"нещо\",\"нея\",\"ни\",\"ние\",\"никой\",\"нито\",\"нищо\",\"но\",\"нов\",\"нова\",\"нови\",\"новина\",\"някои\",\"някой\",\"няколко\",\"няма\",\"обаче\",\"около\",\"освен\",\"особено\",\"от\",\"отгоре\",\"отново\",\"още\",\"пак\",\"по\",\"повече\",\"повечето\",\"под\",\"поне\",\"поради\",\"после\",\"почти\",\"прави\",\"пред\",\"преди\",\"през\",\"при\",\"пък\",\"първата\",\"първи\",\"първо\",\"пъти\",\"равен\",\"равна\",\"с\",\"са\",\"сам\",\"само\",\"се\",\"сега\",\"си\",\"син\",\"скоро\",\"след\",\"следващ\",\"сме\",\"смях\",\"според\",\"сред\",\"срещу\",\"сте\",\"съм\",\"със\",\"също\",\"т\",\"т.н.\",\"тази\",\"така\",\"такива\",\"такъв\",\"там\",\"твой\",\"те\",\"тези\",\"ти\",\"то\",\"това\",\"тогава\",\"този\",\"той\",\"толкова\",\"точно\",\"три\",\"трябва\",\"тук\",\"тъй\",\"тя\",\"тях\",\"у\",\"утре\",\"харесва\",\"хиляди\",\"ч\",\"часа\",\"че\",\"често\",\"чрез\",\"ще\",\"щом\",\"юмрук\",\"я\",\"як\"],\"bn\":[\"অনেক\",\"অন্য\",\"অবশ্য\",\"আগে\",\"আছে\",\"আজ\",\"আবার\",\"আমরা\",\"আমাদের\",\"আর\",\"ই\",\"উত্তর\",\"উপর\",\"উপরে\",\"এ\",\"এই\",\"এক্\",\"এখন\",\"এত\",\"এব\",\"এমন\",\"এমনি\",\"এর\",\"এস\",\"এসে\",\"ও\",\"ওই\",\"কমনে\",\"করা\",\"করে\",\"কাছে\",\"কাজ\",\"কাজে\",\"কারণ\",\"কি\",\"কিছু\",\"কে\",\"কেউ\",\"কেখা\",\"কেন\",\"কোটি\",\"কোনো\",\"কয়েক\",\"খুব\",\"গিয়ে\",\"গেল\",\"চার\",\"চালু\",\"চেষ্টা\",\"ছিল\",\"জানা\",\"জ্নজন\",\"টি\",\"তখন\",\"তবে\",\"তা\",\"তাই\",\"তো\",\"থাকা\",\"থেকে\",\"দিন\",\"দু\",\"দুই\",\"দেওয়া\",\"ধামার\",\"নতুন\",\"না\",\"নাগাদ\",\"নিয়ে\",\"নেওয়া\",\"নয়\",\"পর\",\"পরে\",\"পাচ\",\"পি\",\"পেয়্র্\",\"প্রতি\",\"প্রথম\",\"প্রযন্ত\",\"প্রাথমিক\",\"প্রায়\",\"বক্তব্য\",\"বন\",\"বলা\",\"বলে\",\"বলেন\",\"বহু\",\"বা\",\"বি\",\"বিভিন্ন\",\"বেশ\",\"বেশি\",\"মতো\",\"মধ্যে\",\"মনে\",\"যখন\",\"যদি\",\"যা\",\"যাওয়া\",\"যে\",\"র\",\"রকম\",\"লক্ষ\",\"শুধু\",\"শুরু\",\"সঙ্গে\",\"সব\",\"সহ\",\"সাধারণ\",\"সামনে\",\"সি\",\"সে\",\"সেই\",\"হতে\",\"হাজার\",\"হয়\"],\"fa\":[\"آباد\",\"آره\",\"آری\",\"آمد\",\"آمده\",\"آن\",\"آنان\",\"آنجا\",\"آنكه\",\"آنها\",\"آنچه\",\"آورد\",\"آورده\",\"آيد\",\"آیا\",\"اثرِ\",\"از\",\"است\",\"استفاده\",\"اش\",\"اكنون\",\"البته\",\"البتّه\",\"ام\",\"اما\",\"امروز\",\"امسال\",\"اند\",\"انکه\",\"او\",\"اول\",\"اي\",\"ايشان\",\"ايم\",\"اين\",\"اينكه\",\"اگر\",\"با\",\"بار\",\"بارة\",\"باره\",\"باشد\",\"باشند\",\"باشيم\",\"بالا\",\"بالایِ\",\"بايد\",\"بدون\",\"بر\",\"برابرِ\",\"براساس\",\"براي\",\"برایِ\",\"برخوردار\",\"برخي\",\"برداري\",\"بروز\",\"بسيار\",\"بسياري\",\"بعد\",\"بعری\",\"بعضي\",\"بلكه\",\"بله\",\"بلکه\",\"بلی\",\"بنابراين\",\"بندي\",\"به\",\"بهترين\",\"بود\",\"بودن\",\"بودند\",\"بوده\",\"بي\",\"بيست\",\"بيش\",\"بيشتر\",\"بيشتري\",\"بين\",\"بی\",\"بیرونِ\",\"تا\",\"تازه\",\"تاكنون\",\"تان\",\"تحت\",\"تر\",\"ترين\",\"تمام\",\"تمامي\",\"تنها\",\"تواند\",\"توانند\",\"توسط\",\"تولِ\",\"تویِ\",\"جا\",\"جاي\",\"جايي\",\"جدا\",\"جديد\",\"جريان\",\"جز\",\"جلوگيري\",\"جلویِ\",\"حتي\",\"حدودِ\",\"حق\",\"خارجِ\",\"خدمات\",\"خواست\",\"خواهد\",\"خواهند\",\"خواهيم\",\"خود\",\"خويش\",\"خیاه\",\"داد\",\"دادن\",\"دادند\",\"داده\",\"دارد\",\"دارند\",\"داريم\",\"داشت\",\"داشتن\",\"داشتند\",\"داشته\",\"دانست\",\"دانند\",\"در\",\"درباره\",\"دنبالِ\",\"ده\",\"دهد\",\"دهند\",\"دو\",\"دوم\",\"ديده\",\"ديروز\",\"ديگر\",\"ديگران\",\"ديگري\",\"دیگر\",\"را\",\"راه\",\"رفت\",\"رفته\",\"روب\",\"روزهاي\",\"روي\",\"رویِ\",\"ريزي\",\"زياد\",\"زير\",\"زيرا\",\"زیرِ\",\"سابق\",\"ساخته\",\"سازي\",\"سراسر\",\"سریِ\",\"سعي\",\"سمتِ\",\"سوم\",\"سوي\",\"سویِ\",\"سپس\",\"شان\",\"شايد\",\"شد\",\"شدن\",\"شدند\",\"شده\",\"شش\",\"شما\",\"شناسي\",\"شود\",\"شوند\",\"صورت\",\"ضدِّ\",\"ضمن\",\"طبقِ\",\"طريق\",\"طور\",\"طي\",\"عقبِ\",\"علّتِ\",\"عنوانِ\",\"غير\",\"فقط\",\"فكر\",\"فوق\",\"قابل\",\"قبل\",\"قصدِ\",\"كرد\",\"كردم\",\"كردن\",\"كردند\",\"كرده\",\"كسي\",\"كل\",\"كمتر\",\"كند\",\"كنم\",\"كنند\",\"كنيد\",\"كنيم\",\"كه\",\"لطفاً\",\"ما\",\"مان\",\"مانند\",\"مانندِ\",\"مثل\",\"مثلِ\",\"مختلف\",\"مدّتی\",\"مردم\",\"مرسی\",\"مقابل\",\"من\",\"مورد\",\"مي\",\"ميليارد\",\"ميليون\",\"مگر\",\"ناشي\",\"نام\",\"نبايد\",\"نبود\",\"نخست\",\"نخستين\",\"نخواهد\",\"ندارد\",\"ندارند\",\"نداشته\",\"نزديك\",\"نزدِ\",\"نزدیکِ\",\"نشان\",\"نشده\",\"نظير\",\"نكرده\",\"نمايد\",\"نمي\",\"نه\",\"نوعي\",\"نيز\",\"نيست\",\"ها\",\"هاي\",\"هايي\",\"هر\",\"هرگز\",\"هزار\",\"هست\",\"هستند\",\"هستيم\",\"هفت\",\"هم\",\"همان\",\"همه\",\"همواره\",\"همين\",\"همچنان\",\"همچنين\",\"همچون\",\"همین\",\"هنوز\",\"هنگام\",\"هنگامِ\",\"هنگامی\",\"هيچ\",\"هیچ\",\"و\",\"وسطِ\",\"وقتي\",\"وقتیکه\",\"ولی\",\"وي\",\"وگو\",\"يا\",\"يابد\",\"يك\",\"يكديگر\",\"يكي\",\"ّه\",\"پاعینِ\",\"پس\",\"پنج\",\"پيش\",\"پیش\",\"پیشِ\",\"چرا\",\"چطور\",\"چند\",\"چندین\",\"چنين\",\"چه\",\"چهار\",\"چون\",\"چيزي\",\"چگونه\",\"چیز\",\"چیزی\",\"چیست\",\"کجا\",\"کجاست\",\"کدام\",\"کس\",\"کسی\",\"کنارِ\",\"که\",\"کَی\",\"کی\",\"گذاري\",\"گذاشته\",\"گردد\",\"گرفت\",\"گرفته\",\"گروهي\",\"گفت\",\"گفته\",\"گويد\",\"گويند\",\"گيرد\",\"گيري\",\"یا\",\"یک\"],\"hi\":[\"अंदर\",\"अत\",\"अदि\",\"अप\",\"अपना\",\"अपनि\",\"अपनी\",\"अपने\",\"अभि\",\"अभी\",\"आदि\",\"आप\",\"इंहिं\",\"इंहें\",\"इंहों\",\"इतयादि\",\"इत्यादि\",\"इन\",\"इनका\",\"इन्हीं\",\"इन्हें\",\"इन्हों\",\"इस\",\"इसका\",\"इसकि\",\"इसकी\",\"इसके\",\"इसमें\",\"इसि\",\"इसी\",\"इसे\",\"उंहिं\",\"उंहें\",\"उंहों\",\"उन\",\"उनका\",\"उनकि\",\"उनकी\",\"उनके\",\"उनको\",\"उन्हीं\",\"उन्हें\",\"उन्हों\",\"उस\",\"उसके\",\"उसि\",\"उसी\",\"उसे\",\"एक\",\"एवं\",\"एस\",\"एसे\",\"ऐसे\",\"ओर\",\"और\",\"कइ\",\"कई\",\"कर\",\"करता\",\"करते\",\"करना\",\"करने\",\"करें\",\"कहते\",\"कहा\",\"का\",\"काफि\",\"काफ़ी\",\"कि\",\"किंहें\",\"किंहों\",\"कितना\",\"किन्हें\",\"किन्हों\",\"किया\",\"किर\",\"किस\",\"किसि\",\"किसी\",\"किसे\",\"की\",\"कुछ\",\"कुल\",\"के\",\"को\",\"कोइ\",\"कोई\",\"कोन\",\"कोनसा\",\"कौन\",\"कौनसा\",\"गया\",\"घर\",\"जब\",\"जहाँ\",\"जहां\",\"जा\",\"जिंहें\",\"जिंहों\",\"जितना\",\"जिधर\",\"जिन\",\"जिन्हें\",\"जिन्हों\",\"जिस\",\"जिसे\",\"जीधर\",\"जेसा\",\"जेसे\",\"जैसा\",\"जैसे\",\"जो\",\"तक\",\"तब\",\"तरह\",\"तिंहें\",\"तिंहों\",\"तिन\",\"तिन्हें\",\"तिन्हों\",\"तिस\",\"तिसे\",\"तो\",\"था\",\"थि\",\"थी\",\"थे\",\"दबारा\",\"दवारा\",\"दिया\",\"दुसरा\",\"दुसरे\",\"दूसरे\",\"दो\",\"द्वारा\",\"न\",\"नहिं\",\"नहीं\",\"ना\",\"निचे\",\"निहायत\",\"नीचे\",\"ने\",\"पर\",\"पहले\",\"पुरा\",\"पूरा\",\"पे\",\"फिर\",\"बनि\",\"बनी\",\"बहि\",\"बही\",\"बहुत\",\"बाद\",\"बाला\",\"बिलकुल\",\"भि\",\"भितर\",\"भी\",\"भीतर\",\"मगर\",\"मानो\",\"मे\",\"में\",\"यदि\",\"यह\",\"यहाँ\",\"यहां\",\"यहि\",\"यही\",\"या\",\"यिह\",\"ये\",\"रखें\",\"रवासा\",\"रहा\",\"रहे\",\"ऱ्वासा\",\"लिए\",\"लिये\",\"लेकिन\",\"व\",\"वगेरह\",\"वरग\",\"वर्ग\",\"वह\",\"वहाँ\",\"वहां\",\"वहिं\",\"वहीं\",\"वाले\",\"वुह\",\"वे\",\"वग़ैरह\",\"संग\",\"सकता\",\"सकते\",\"सबसे\",\"सभि\",\"सभी\",\"साथ\",\"साबुत\",\"साभ\",\"सारा\",\"से\",\"सो\",\"हि\",\"ही\",\"हुअ\",\"हुआ\",\"हुइ\",\"हुई\",\"हुए\",\"हे\",\"हें\",\"है\",\"हैं\",\"हो\",\"होता\",\"होति\",\"होती\",\"होते\",\"होना\",\"होने\"],\"mr\":[\"अधिक\",\"अनेक\",\"अशी\",\"असलयाचे\",\"असलेल्या\",\"असा\",\"असून\",\"असे\",\"आज\",\"आणि\",\"आता\",\"आपल्या\",\"आला\",\"आली\",\"आले\",\"आहे\",\"आहेत\",\"एक\",\"एका\",\"कमी\",\"करणयात\",\"करून\",\"का\",\"काम\",\"काय\",\"काही\",\"किवा\",\"की\",\"केला\",\"केली\",\"केले\",\"कोटी\",\"गेल्या\",\"घेऊन\",\"जात\",\"झाला\",\"झाली\",\"झाले\",\"झालेल्या\",\"टा\",\"डॉ\",\"तर\",\"तरी\",\"तसेच\",\"ता\",\"ती\",\"तीन\",\"ते\",\"तो\",\"त्या\",\"त्याचा\",\"त्याची\",\"त्याच्या\",\"त्याना\",\"त्यानी\",\"त्यामुळे\",\"त्री\",\"दिली\",\"दोन\",\"न\",\"नाही\",\"निर्ण्य\",\"पण\",\"पम\",\"परयतन\",\"पाटील\",\"म\",\"मात्र\",\"माहिती\",\"मी\",\"मुबी\",\"म्हणजे\",\"म्हणाले\",\"म्हणून\",\"या\",\"याचा\",\"याची\",\"याच्या\",\"याना\",\"यानी\",\"येणार\",\"येत\",\"येथील\",\"येथे\",\"लाख\",\"व\",\"व्यकत\",\"सर्व\",\"सागित्ले\",\"सुरू\",\"हजार\",\"हा\",\"ही\",\"हे\",\"होणार\",\"होत\",\"होता\",\"होती\",\"होते\"],\"ro\":[\"acea\",\"aceasta\",\"această\",\"aceea\",\"acei\",\"aceia\",\"acel\",\"acela\",\"acele\",\"acelea\",\"acest\",\"acesta\",\"aceste\",\"acestea\",\"aceşti\",\"aceştia\",\"acolo\",\"acord\",\"acum\",\"ai\",\"aia\",\"aibă\",\"aici\",\"al\",\"ale\",\"alea\",\"altceva\",\"altcineva\",\"am\",\"ar\",\"are\",\"asemenea\",\"asta\",\"astea\",\"astăzi\",\"asupra\",\"au\",\"avea\",\"avem\",\"aveţi\",\"azi\",\"aş\",\"aşadar\",\"aţi\",\"bine\",\"bucur\",\"bună\",\"ca\",\"care\",\"caut\",\"ce\",\"cel\",\"ceva\",\"chiar\",\"cinci\",\"cine\",\"cineva\",\"contra\",\"cu\",\"cum\",\"cumva\",\"curând\",\"curînd\",\"când\",\"cât\",\"câte\",\"câtva\",\"câţi\",\"cînd\",\"cît\",\"cîte\",\"cîtva\",\"cîţi\",\"că\",\"căci\",\"cărei\",\"căror\",\"cărui\",\"către\",\"da\",\"dacă\",\"dar\",\"datorită\",\"dată\",\"dau\",\"de\",\"deci\",\"deja\",\"deoarece\",\"departe\",\"deşi\",\"din\",\"dinaintea\",\"dintr-\",\"dintre\",\"doi\",\"doilea\",\"două\",\"drept\",\"după\",\"dă\",\"ea\",\"ei\",\"el\",\"ele\",\"eram\",\"este\",\"eu\",\"eşti\",\"face\",\"fata\",\"fi\",\"fie\",\"fiecare\",\"fii\",\"fim\",\"fiu\",\"fiţi\",\"frumos\",\"fără\",\"graţie\",\"halbă\",\"iar\",\"ieri\",\"la\",\"le\",\"li\",\"lor\",\"lui\",\"lângă\",\"lîngă\",\"mai\",\"mea\",\"mei\",\"mele\",\"mereu\",\"meu\",\"mi\",\"mie\",\"mine\",\"mult\",\"multă\",\"mulţi\",\"mulţumesc\",\"mâine\",\"mîine\",\"mă\",\"ne\",\"nevoie\",\"nici\",\"nicăieri\",\"nimeni\",\"nimeri\",\"nimic\",\"nişte\",\"noastre\",\"noastră\",\"noi\",\"noroc\",\"nostru\",\"nouă\",\"noştri\",\"nu\",\"opt\",\"ori\",\"oricare\",\"orice\",\"oricine\",\"oricum\",\"oricând\",\"oricât\",\"oricînd\",\"oricît\",\"oriunde\",\"patra\",\"patru\",\"patrulea\",\"pe\",\"pentru\",\"peste\",\"pic\",\"poate\",\"pot\",\"prea\",\"prima\",\"primul\",\"prin\",\"printr-\",\"puţin\",\"puţina\",\"puţină\",\"până\",\"pînă\",\"rog\",\"sa\",\"sale\",\"sau\",\"se\",\"spate\",\"spre\",\"sub\",\"sunt\",\"suntem\",\"sunteţi\",\"sută\",\"sînt\",\"sîntem\",\"sînteţi\",\"să\",\"săi\",\"său\",\"ta\",\"tale\",\"te\",\"timp\",\"tine\",\"toate\",\"toată\",\"tot\",\"totuşi\",\"toţi\",\"trei\",\"treia\",\"treilea\",\"tu\",\"tăi\",\"tău\",\"un\",\"una\",\"unde\",\"undeva\",\"unei\",\"uneia\",\"unele\",\"uneori\",\"unii\",\"unor\",\"unora\",\"unu\",\"unui\",\"unuia\",\"unul\",\"vi\",\"voastre\",\"voastră\",\"voi\",\"vostru\",\"vouă\",\"voştri\",\"vreme\",\"vreo\",\"vreun\",\"vă\",\"zece\",\"zero\",\"zi\",\"zice\",\"îi\",\"îl\",\"îmi\",\"împotriva\",\"în\",\"înainte\",\"înaintea\",\"încotro\",\"încât\",\"încît\",\"între\",\"întrucât\",\"întrucît\",\"îţi\",\"ăla\",\"ălea\",\"ăsta\",\"ăstea\",\"ăştia\",\"şapte\",\"şase\",\"şi\",\"ştiu\",\"ţi\",\"ţie\"],\"en\":[\"a\",\"a's\",\"able\",\"about\",\"above\",\"according\",\"accordingly\",\"across\",\"actually\",\"after\",\"afterwards\",\"again\",\"against\",\"ain't\",\"all\",\"allow\",\"allows\",\"almost\",\"alone\",\"along\",\"already\",\"also\",\"although\",\"always\",\"am\",\"among\",\"amongst\",\"an\",\"and\",\"another\",\"any\",\"anybody\",\"anyhow\",\"anyone\",\"anything\",\"anyway\",\"anyways\",\"anywhere\",\"apart\",\"appear\",\"appreciate\",\"appropriate\",\"are\",\"aren't\",\"around\",\"as\",\"aside\",\"ask\",\"asking\",\"associated\",\"at\",\"available\",\"away\",\"awfully\",\"b\",\"be\",\"became\",\"because\",\"become\",\"becomes\",\"becoming\",\"been\",\"before\",\"beforehand\",\"behind\",\"being\",\"believe\",\"below\",\"beside\",\"besides\",\"best\",\"better\",\"between\",\"beyond\",\"both\",\"brief\",\"but\",\"by\",\"c\",\"c'mon\",\"c's\",\"came\",\"can\",\"can't\",\"cannot\",\"cant\",\"cause\",\"causes\",\"certain\",\"certainly\",\"changes\",\"clearly\",\"co\",\"com\",\"come\",\"comes\",\"concerning\",\"consequently\",\"consider\",\"considering\",\"contain\",\"containing\",\"contains\",\"corresponding\",\"could\",\"couldn't\",\"course\",\"currently\",\"d\",\"definitely\",\"described\",\"despite\",\"did\",\"didn't\",\"different\",\"do\",\"does\",\"doesn't\",\"doing\",\"don't\",\"done\",\"down\",\"downwards\",\"during\",\"e\",\"each\",\"edu\",\"eg\",\"eight\",\"either\",\"else\",\"elsewhere\",\"enough\",\"entirely\",\"especially\",\"et\",\"etc\",\"even\",\"ever\",\"every\",\"everybody\",\"everyone\",\"everything\",\"everywhere\",\"ex\",\"exactly\",\"example\",\"except\",\"f\",\"far\",\"few\",\"fifth\",\"first\",\"five\",\"followed\",\"following\",\"follows\",\"for\",\"former\",\"formerly\",\"forth\",\"four\",\"from\",\"further\",\"furthermore\",\"g\",\"get\",\"gets\",\"getting\",\"given\",\"gives\",\"go\",\"goes\",\"going\",\"gone\",\"got\",\"gotten\",\"greetings\",\"h\",\"had\",\"hadn't\",\"happens\",\"hardly\",\"has\",\"hasn't\",\"have\",\"haven't\",\"having\",\"he\",\"he's\",\"hello\",\"help\",\"hence\",\"her\",\"here\",\"here's\",\"hereafter\",\"hereby\",\"herein\",\"hereupon\",\"hers\",\"herself\",\"hi\",\"him\",\"himself\",\"his\",\"hither\",\"hopefully\",\"how\",\"howbeit\",\"however\",\"i\",\"i'd\",\"i'll\",\"i'm\",\"i've\",\"ie\",\"if\",\"ignored\",\"immediate\",\"in\",\"inasmuch\",\"inc\",\"indeed\",\"indicate\",\"indicated\",\"indicates\",\"inner\",\"insofar\",\"instead\",\"into\",\"inward\",\"is\",\"isn't\",\"it\",\"it'd\",\"it'll\",\"it's\",\"its\",\"itself\",\"j\",\"just\",\"k\",\"keep\",\"keeps\",\"kept\",\"know\",\"known\",\"knows\",\"l\",\"last\",\"lately\",\"later\",\"latter\",\"latterly\",\"least\",\"less\",\"lest\",\"let\",\"let's\",\"like\",\"liked\",\"likely\",\"little\",\"look\",\"looking\",\"looks\",\"ltd\",\"m\",\"mainly\",\"many\",\"may\",\"maybe\",\"me\",\"mean\",\"meanwhile\",\"merely\",\"might\",\"more\",\"moreover\",\"most\",\"mostly\",\"much\",\"must\",\"my\",\"myself\",\"n\",\"name\",\"namely\",\"nd\",\"near\",\"nearly\",\"necessary\",\"need\",\"needs\",\"neither\",\"never\",\"nevertheless\",\"new\",\"next\",\"nine\",\"no\",\"nobody\",\"non\",\"none\",\"noone\",\"nor\",\"normally\",\"not\",\"nothing\",\"novel\",\"now\",\"nowhere\",\"o\",\"obviously\",\"of\",\"off\",\"often\",\"oh\",\"ok\",\"okay\",\"old\",\"on\",\"once\",\"one\",\"ones\",\"only\",\"onto\",\"or\",\"other\",\"others\",\"otherwise\",\"ought\",\"our\",\"ours\",\"ourselves\",\"out\",\"outside\",\"over\",\"overall\",\"own\",\"p\",\"particular\",\"particularly\",\"per\",\"perhaps\",\"placed\",\"please\",\"plus\",\"possible\",\"presumably\",\"probably\",\"provides\",\"q\",\"que\",\"quite\",\"qv\",\"r\",\"rather\",\"rd\",\"re\",\"really\",\"reasonably\",\"regarding\",\"regardless\",\"regards\",\"relatively\",\"respectively\",\"right\",\"s\",\"said\",\"same\",\"saw\",\"say\",\"saying\",\"says\",\"second\",\"secondly\",\"see\",\"seeing\",\"seem\",\"seemed\",\"seeming\",\"seems\",\"seen\",\"self\",\"selves\",\"sensible\",\"sent\",\"serious\",\"seriously\",\"seven\",\"several\",\"shall\",\"she\",\"should\",\"shouldn't\",\"since\",\"six\",\"so\",\"some\",\"somebody\",\"somehow\",\"someone\",\"something\",\"sometime\",\"sometimes\",\"somewhat\",\"somewhere\",\"soon\",\"sorry\",\"specified\",\"specify\",\"specifying\",\"still\",\"sub\",\"such\",\"sup\",\"sure\",\"t\",\"t's\",\"take\",\"taken\",\"tell\",\"tends\",\"th\",\"than\",\"thank\",\"thanks\",\"thanx\",\"that\",\"that's\",\"thats\",\"the\",\"their\",\"theirs\",\"them\",\"themselves\",\"then\",\"thence\",\"there\",\"there's\",\"thereafter\",\"thereby\",\"therefore\",\"therein\",\"theres\",\"thereupon\",\"these\",\"they\",\"they'd\",\"they'll\",\"they're\",\"they've\",\"think\",\"third\",\"this\",\"thorough\",\"thoroughly\",\"those\",\"though\",\"three\",\"through\",\"throughout\",\"thru\",\"thus\",\"to\",\"together\",\"too\",\"took\",\"toward\",\"towards\",\"tried\",\"tries\",\"truly\",\"try\",\"trying\",\"twice\",\"two\",\"u\",\"un\",\"under\",\"unfortunately\",\"unless\",\"unlikely\",\"until\",\"unto\",\"up\",\"upon\",\"us\",\"use\",\"used\",\"useful\",\"uses\",\"using\",\"usually\",\"uucp\",\"v\",\"value\",\"various\",\"very\",\"via\",\"viz\",\"vs\",\"w\",\"want\",\"wants\",\"was\",\"wasn't\",\"way\",\"we\",\"we'd\",\"we'll\",\"we're\",\"we've\",\"welcome\",\"well\",\"went\",\"were\",\"weren't\",\"what\",\"what's\",\"whatever\",\"when\",\"whence\",\"whenever\",\"where\",\"where's\",\"whereafter\",\"whereas\",\"whereby\",\"wherein\",\"whereupon\",\"wherever\",\"whether\",\"which\",\"while\",\"whither\",\"who\",\"who's\",\"whoever\",\"whole\",\"whom\",\"whose\",\"why\",\"will\",\"willing\",\"wish\",\"with\",\"within\",\"without\",\"won't\",\"wonder\",\"would\",\"wouldn't\",\"x\",\"y\",\"yes\",\"yet\",\"you\",\"you'd\",\"you'll\",\"you're\",\"you've\",\"your\",\"yours\",\"yourself\",\"yourselves\",\"z\",\"zero\"]}\n",
    "    stopwords_json_en = set(stopwords_json['en'])\n",
    "    stopwords_nltk_en = set(stopwords.words('english'))\n",
    "    # Combine the stopwords. Its a lot longer so I'm not printing it out...\n",
    "    stoplist_combined = set.union(stopwords_json_en, stopwords_nltk_en)\n",
    "\n",
    "    rmsw_token_words = ([word for word in token_words if word.lower() not in stoplist_combined])\n",
    "    if (verbose):\n",
    "        print('Stopwords removed:' + str(rmsw_token_words[0:20]))\n",
    "    \n",
    "    ## Fouth: remove CAP words\n",
    "    rmcap_token_words =[]\n",
    "    for word in rmsw_token_words:\n",
    "        if word.isupper():\n",
    "            rmcap_token_words.append(word.title())\n",
    "        else:\n",
    "            rmcap_token_words.append(word)\n",
    "    if (verbose):\n",
    "        print('CAPITALIZED removed:' + str(rmcap_token_words[0:20]))\n",
    "        \n",
    "     ## Fifth : Remove salutation\n",
    "    salutation = ['mr','mrs','mss','dr','phd','prof','rev', 'professor']\n",
    "    rmsalu_token_words = ([word for word in rmcap_token_words if word.lower() not in salutation])\n",
    "    if (verbose):\n",
    "        print('Salutation removed:' + str(rmsalu_token_words[0:20]))\n",
    "        \n",
    "     ## Sixth: Remove Numbers\n",
    "    rmnb_token_words = ([word for word in rmsalu_token_words if not word.isdigit()])\n",
    "    if (verbose):\n",
    "        print('Number removed: ' + str(rmnb_token_words[0:20]))\n",
    "        \n",
    "    ## define transfer tag function:\n",
    "    def transfer_tag(treebank_tag):\n",
    "        if treebank_tag.startswith('j' or 'J'):\n",
    "            return 'a'\n",
    "        elif treebank_tag.startswith('v' or 'V'):\n",
    "            return 'v'\n",
    "        elif treebank_tag.startswith('n' or 'N'):\n",
    "            return 'n'\n",
    "        elif treebank_tag.startswith('r' or 'R'):\n",
    "            return 'r'\n",
    "        else:\n",
    "            # As default pos in lemmatization is Noun\n",
    "            return 'n'\n",
    "    \n",
    "    ## Seventh: Lemmatization\n",
    "    from nltk import pos_tag\n",
    "    from nltk.stem import WordNetLemmatizer\n",
    "    wnl = WordNetLemmatizer()\n",
    "\n",
    "    lemma_words = []\n",
    "    for word, tag in nltk.pos_tag(rmnb_token_words):\n",
    "        firstletter = tag[0].lower() # -> get the first letter of tag and put them decapitalized form\n",
    "        wtag = transfer_tag(firstletter) # -> extract the word's tag (noun, verb, adverb, adjective)\n",
    "        if not wtag:\n",
    "            lemma_words.extend([word])\n",
    "        else:\n",
    "            lemma_words.extend([wnl.lemmatize(word, wtag)]) # -> get lemma for word with tag\n",
    "    if (verbose):\n",
    "        print('Lemmas : ' + str(lemma_words[0:10]))\n",
    "        \n",
    "    \n",
    "    ## RETURN\n",
    "    return lemma_words"
   ]
  },
  {
   "cell_type": "code",
   "execution_count": null,
   "metadata": {
    "ExecuteTime": {
     "end_time": "2018-10-08T13:41:05.803391Z",
     "start_time": "2018-10-08T13:40:39.778392Z"
    }
   },
   "outputs": [],
   "source": [
    "df_handle = df_raw.copy()\n",
    "[n,d] = df_handle.shape\n",
    "df_handle['Tokens'] = ['']*n\n",
    "\n",
    "for index, row in df_handle.iterrows():\n",
    "    df_handle['Tokens'].iloc[index] = convert_tokens(row['Content'],0)\n",
    "    \n",
    "df_handle.head(10)"
   ]
  },
  {
   "cell_type": "markdown",
   "metadata": {},
   "source": [
    "## Get the noun_tokens"
   ]
  },
  {
   "cell_type": "code",
   "execution_count": null,
   "metadata": {
    "ExecuteTime": {
     "end_time": "2018-10-08T13:41:15.670416Z",
     "start_time": "2018-10-08T13:41:15.664392Z"
    },
    "code_folding": []
   },
   "outputs": [],
   "source": [
    "def extract_noun(text):\n",
    "    import nltk\n",
    "    lines = text\n",
    "    # function to test if something is a noun\n",
    "    is_noun = lambda pos: pos[:2] == 'NN'\n",
    "    # do the nlp stuff\n",
    "    tokenized = nltk.word_tokenize(lines)\n",
    "    nouns = [word for (word, pos) in nltk.pos_tag(tokenized) if is_noun(pos)] \n",
    "    return nouns"
   ]
  },
  {
   "cell_type": "code",
   "execution_count": null,
   "metadata": {
    "ExecuteTime": {
     "end_time": "2018-10-08T13:41:40.880391Z",
     "start_time": "2018-10-08T13:41:17.768391Z"
    }
   },
   "outputs": [],
   "source": [
    "import nltk\n",
    "[n,d] = df_handle.shape\n",
    "df_handle['noun_Tokens'] = ['']*n\n",
    "\n",
    "for index, row in df_handle.iterrows():\n",
    "    df_handle['noun_Tokens'].iloc[index] = extract_noun(\" \".join(row['Tokens']))\n",
    "\n",
    "df_handle.head(10)"
   ]
  },
  {
   "cell_type": "markdown",
   "metadata": {},
   "source": [
    "## Get the sample for Tokens, noun_tokens, and text (using the HP1)"
   ]
  },
  {
   "cell_type": "code",
   "execution_count": null,
   "metadata": {
    "ExecuteTime": {
     "end_time": "2018-10-08T13:41:41.158391Z",
     "start_time": "2018-10-08T13:41:41.153392Z"
    }
   },
   "outputs": [],
   "source": [
    "Sample_tokens = df_handle['Tokens'].iloc[0]\n",
    "Sample_noun_tokens =  df_handle['noun_Tokens'].iloc[0]\n",
    "Sample_text = df_handle['Content'].iloc[0]"
   ]
  },
  {
   "cell_type": "markdown",
   "metadata": {
    "solution": "hidden"
   },
   "source": [
    "## N-GRAM Analysis"
   ]
  },
  {
   "cell_type": "markdown",
   "metadata": {},
   "source": [
    "### N-Grams extraction"
   ]
  },
  {
   "cell_type": "markdown",
   "metadata": {},
   "source": [
    "Please take a note that the ngrams provided by nltk is a generator object. We have to transform into list if we want to print the grams."
   ]
  },
  {
   "cell_type": "code",
   "execution_count": null,
   "metadata": {
    "ExecuteTime": {
     "end_time": "2018-10-08T13:41:57.296393Z",
     "start_time": "2018-10-08T13:41:57.280393Z"
    }
   },
   "outputs": [],
   "source": [
    "from nltk import ngrams\n",
    "n = 2\n",
    "\n",
    "token_words = Sample_text.split()\n",
    "\n",
    "H1_bigram = ngrams(token_words,n)  ## Generator object\n",
    "H1_bigram_to_list = list(next(H1_bigram) for _ in range(10))  ## get the list of 10 first grams\n",
    "for gram in H1_bigram_to_list:\n",
    "    print(gram)"
   ]
  },
  {
   "cell_type": "markdown",
   "metadata": {},
   "source": [
    "In here we used the  basic space splitting. However, we should use the word tokenizer to avoid the strange thing (cause by special characters) in grams. With the knowledge of HP serries, we know that the word splitting will work with this type of content. In case we have to handle the complex text, e.g. tweet, comments, etc, the extra analysis should be provided to clean the data before applying the ngram extraction."
   ]
  },
  {
   "cell_type": "markdown",
   "metadata": {},
   "source": [
    "### Frequency of n-gram"
   ]
  },
  {
   "cell_type": "code",
   "execution_count": null,
   "metadata": {
    "ExecuteTime": {
     "end_time": "2018-10-08T13:42:00.617390Z",
     "start_time": "2018-10-08T13:42:00.471396Z"
    }
   },
   "outputs": [],
   "source": [
    "## Get Frequency\n",
    "from nltk.tokenize import RegexpTokenizer\n",
    "\n",
    "from nltk import ngrams\n",
    "n = 2  ## Bigram\n",
    "\n",
    "# Get token of raw text\n",
    "from nltk.tokenize import RegexpTokenizer\n",
    "pattern = r'\\w+'\n",
    "tokenizer = RegexpTokenizer(pattern)\n",
    "\n",
    "H1_bigram = ngrams(token_words,n)  ## Generator object\n",
    "\n",
    "## Get freqs\n",
    "H1_frequencies = nltk.FreqDist(H1_bigram)\n",
    "\n",
    "## Can use another way to compute frequencies: counter\n",
    "# from collections import Counter\n",
    "# H1_frequencies = Counter(H_bigram)\n",
    "\n",
    "## to dataframe\n",
    "dict_items =list(dict(H1_frequencies).items())\n",
    "df_bigramFreq = pd.DataFrame(dict_items,columns=['bigram','freq']).sort_values(by='freq', ascending=False)\n",
    "df_bigramFreq = df_bigramFreq.reset_index(drop=True)\n",
    "print(\"***** Bigrams sorted by the highest Frequency *****\")\n",
    "df_bigramFreq.head(5)"
   ]
  },
  {
   "cell_type": "markdown",
   "metadata": {},
   "source": [
    "### Extract the noun-grams from bigrams"
   ]
  },
  {
   "cell_type": "code",
   "execution_count": null,
   "metadata": {
    "ExecuteTime": {
     "end_time": "2018-10-08T13:42:03.415402Z",
     "start_time": "2018-10-08T13:42:03.407395Z"
    }
   },
   "outputs": [],
   "source": [
    "## Function to check the gram is noun gram or not\n",
    "def IsNounGram(ngram):\n",
    "    if ('-pron-' in ngram) or ('t' in ngram):\n",
    "        return False\n",
    "    \n",
    "    first_type = ('JJ','JJR','JJS','NN','NNS','NNP','NNPS')\n",
    "    second_type = ('NN','NNS','NNP','NNPS')\n",
    "    tags = nltk.pos_tag(ngram,lang='eng')\n",
    "#     print(tags)\n",
    "    if (tags[0][1] in first_type) and (tags[1][1] in second_type):\n",
    "        return True\n",
    "    else:\n",
    "        return False"
   ]
  },
  {
   "cell_type": "code",
   "execution_count": null,
   "metadata": {
    "ExecuteTime": {
     "end_time": "2018-10-08T13:42:23.575392Z",
     "start_time": "2018-10-08T13:42:04.376392Z"
    }
   },
   "outputs": [],
   "source": [
    "## Get Frequency\n",
    "import nltk\n",
    "from nltk.tokenize import RegexpTokenizer\n",
    "\n",
    "from nltk import ngrams\n",
    "n = 2 ## Bigram\n",
    "\n",
    "# Get token of raw text\n",
    "from nltk.tokenize import RegexpTokenizer\n",
    "pattern = r'\\w+'\n",
    "tokenizer = RegexpTokenizer(pattern)\n",
    "token_words = tokenizer.tokenize(Sample_text)\n",
    "\n",
    "\n",
    "H1_bigram = ngrams(token_words,n)  ## Generator object\n",
    "H1_frequencies = nltk.FreqDist(H1_bigram) ## Get freqs\n",
    "\n",
    "## to dataframe\n",
    "dict_items =list(dict(H1_frequencies).items())\n",
    "df_bigramFreq = pd.DataFrame(dict_items,columns=['bigram','freq']).sort_values(by='freq', ascending=False)\n",
    "\n",
    "## put the fillter to the ngrams \n",
    "df_bigramFreq_fillter = df_bigramFreq[df_bigramFreq.bigram.map(lambda x : IsNounGram(x))]\n",
    "df_bigramFreq_fillter = df_bigramFreq_fillter.reset_index(drop=True)\n",
    "\n",
    "print(\"***** Bigrams sorted by the highest Frequency *****\")\n",
    "df_bigramFreq_fillter.head(10)"
   ]
  },
  {
   "cell_type": "markdown",
   "metadata": {},
   "source": [
    "### Checking if that bigram is in Text"
   ]
  },
  {
   "cell_type": "markdown",
   "metadata": {},
   "source": [
    "The question here is: Why we should check the bigram in text?\n",
    "\n",
    "The answer is: with the checking the appearance of bigram in text, we guarantee that the gram is actually exist in text. There are some cases the bigram not actual have any meaning in content.\n",
    "\n",
    "E.g. [Harry s] --> [Harry's]\n",
    "\n",
    "So, we use the threshold to determine if that gram appear in k times of text, it will be the bigram."
   ]
  },
  {
   "cell_type": "code",
   "execution_count": null,
   "metadata": {
    "ExecuteTime": {
     "end_time": "2018-10-08T13:43:06.061394Z",
     "start_time": "2018-10-08T13:43:06.056392Z"
    }
   },
   "outputs": [],
   "source": [
    "def CheckWordInText(word, Text):\n",
    "    import re\n",
    "    results = re.findall(word,Text)\n",
    "    if(len(results) <= 5):\n",
    "        return False\n",
    "    else:\n",
    "        return True"
   ]
  },
  {
   "cell_type": "code",
   "execution_count": null,
   "metadata": {
    "ExecuteTime": {
     "end_time": "2018-10-08T13:43:13.814394Z",
     "start_time": "2018-10-08T13:43:07.624391Z"
    }
   },
   "outputs": [],
   "source": [
    "df_bigram_intext = df_bigramFreq_fillter.copy()\n",
    "\n",
    "exits_list = []\n",
    "for index, row in df_bigramFreq_fillter.iterrows():\n",
    "    gram = row['bigram']\n",
    "    word = \" \"+' '.join(gram)+ \" \"  ## the split of gram in text\n",
    "    exits_list.append(CheckWordInText(word, Sample_text))\n",
    "    \n",
    "df_bigram_intext['exist'] = exits_list\n",
    "df_bigram_intext = df_bigram_intext.loc[df_bigram_intext.exist==True]\n",
    "df_bigram_intext = df_bigram_intext.reset_index(drop=True)\n",
    "\n",
    "print(\"***** Bigrams sorted by the highest Frequency *****\")\n",
    "df_bigram_intext"
   ]
  },
  {
   "cell_type": "markdown",
   "metadata": {},
   "source": [
    "<span class=\"mark\"> We should bound the text of ngram by using space. If not, we will get the unappropriated grams, and the frequencies will be wrong.</span> \n",
    "\n",
    "The question here is why?"
   ]
  },
  {
   "cell_type": "markdown",
   "metadata": {},
   "source": [
    "<span class=\"mark\">Answer</span>: Because there are some bigrams as \"a[round Harry]\" or \"[Harry shook]ed\". So, we can find more appearances in text than in tokens. And the grams are probably not correct. We can check the example as follows."
   ]
  },
  {
   "cell_type": "code",
   "execution_count": null,
   "metadata": {
    "ExecuteTime": {
     "end_time": "2018-10-08T13:43:46.325393Z",
     "start_time": "2018-10-08T13:43:46.313391Z"
    }
   },
   "outputs": [],
   "source": [
    "text__ = 'aa bb aaacbbb a b aaaa b'\n",
    "tokens__ = ['aa','bb','aaacbbb','a','b','aaaaa' ,'b']\n",
    "import re\n",
    "results = re.findall('a b',text__)\n",
    "print('How many times in text: ' + str(len(results)))\n",
    "\n",
    "## Bigrams\n",
    "_bigram = ngrams(tokens__,2)  \n",
    "_frequencies = nltk.FreqDist(_bigram)\n",
    "dict_freq__ =list(dict(_frequencies).items())\n",
    "(dict_freq__)  ### (('a', 'b'), 1)"
   ]
  },
  {
   "cell_type": "markdown",
   "metadata": {},
   "source": [
    "Another question is: <span class=\"mark\">why the space?</span>\n",
    "\n",
    "<span class=\"mark\">Answer</span>: Yes, we can use another ways to clarify that gram actually existed. For example, we can use Regular Expression to set up the [whitespace], or [not the character], or [not the character, but can accept period or comma], etc. \n",
    "\n",
    "In here, I just simply use the space for that checking.\n",
    "\n",
    "<span class=\"girk\">The point is:</span> if you could understand the content of dataset, you can decide that [checking] by yourself."
   ]
  },
  {
   "cell_type": "markdown",
   "metadata": {},
   "source": [
    "    The cell below illustrates that without the [checking before and after of grams], the grams can be meaningless."
   ]
  },
  {
   "cell_type": "code",
   "execution_count": null,
   "metadata": {
    "ExecuteTime": {
     "end_time": "2018-10-08T13:43:56.207392Z",
     "start_time": "2018-10-08T13:43:53.848404Z"
    }
   },
   "outputs": [],
   "source": [
    "### Not correct bigram.\n",
    "df_bigram_intext = df_bigramFreq_fillter.copy()\n",
    "\n",
    "exits_list = []\n",
    "for index, row in df_bigramFreq_fillter.iterrows():\n",
    "    gram = row['bigram']\n",
    "    word = ' '.join(gram)\n",
    "#     word = \" \"+' '.join(gram)+ \" \"\n",
    "    exits_list.append(CheckWordInText(word, Sample_text))\n",
    "    \n",
    "df_bigram_intext['exist'] = exits_list\n",
    "df_bigram_intext = df_bigram_intext.loc[df_bigram_intext.exist==True]\n",
    "df_bigram_intext = df_bigram_intext.reset_index(drop=True)\n",
    "\n",
    "print(\"***** Bigrams sorted by the highest Frequency *****\")\n",
    "df_bigram_intext.tail(20)"
   ]
  },
  {
   "cell_type": "markdown",
   "metadata": {},
   "source": [
    "### Tri-Gram"
   ]
  },
  {
   "cell_type": "code",
   "execution_count": null,
   "metadata": {
    "ExecuteTime": {
     "end_time": "2018-10-08T14:45:35.073275Z",
     "start_time": "2018-10-08T14:45:34.906274Z"
    }
   },
   "outputs": [],
   "source": [
    "### Tri-grams\n",
    "from nltk.tokenize import RegexpTokenizer\n",
    "\n",
    "from nltk import ngrams\n",
    "n = 3\n",
    "from nltk.tokenize import RegexpTokenizer\n",
    "pattern = r'\\w+'\n",
    "tokenizer = RegexpTokenizer(pattern)\n",
    "token_words = tokenizer.tokenize(Sample_text)\n",
    "\n",
    "H1_trigram = ngrams(token_words,n)\n",
    "\n",
    "# ## Get freqs|\n",
    "H1_trigram_frequencies = nltk.FreqDist(H1_trigram)\n",
    "\n",
    "## to dataframe\n",
    "dict_items =list(dict(H1_trigram_frequencies).items())\n",
    "df_trigramFreq = pd.DataFrame(dict_items,columns=['trigram','freq']).sort_values(by='freq', ascending=False)\n",
    "\n",
    "print(\"***** Trigrams sorted by the highest Frequency *****\")\n",
    "print('Size: '+ str(len(df_trigramFreq)))\n",
    "df_trigramFreq.head(20)"
   ]
  },
  {
   "cell_type": "markdown",
   "metadata": {},
   "source": [
    "Now, we upgrade the checking of noun grams as:"
   ]
  },
  {
   "cell_type": "code",
   "execution_count": null,
   "metadata": {
    "ExecuteTime": {
     "end_time": "2018-10-08T14:43:47.730978Z",
     "start_time": "2018-10-08T14:43:47.712981Z"
    }
   },
   "outputs": [],
   "source": [
    "## Upgrad function of checking noun grams for n-grams\n",
    "def IsNounEnding(ngram):  \n",
    "        if n==2:\n",
    "            if ('-pron-' in ngram) or ('t' in ngram):\n",
    "                return False\n",
    "            first_type = ('JJ','JJR','JJS','NN','NNS','NNP','NNPS')\n",
    "            second_type = ('NN','NNS','NNP','NNPS')\n",
    "            tags = nltk.pos_tag(ngram,lang='eng')\n",
    "        #     print(tags)\n",
    "            if (tags[0][1] in first_type) and (tags[1][1] in second_type):\n",
    "                return True\n",
    "            else:\n",
    "                return False\n",
    "        else:\n",
    "            if ('-pron-' in ngram) or ('t' in ngram):\n",
    "                return False\n",
    "            types = ('NN','NNS','NNP','NNPS')\n",
    "            tags = nltk.pos_tag(ngram,lang='eng')\n",
    "        #     print(tags)\n",
    "            if (tags[-1][1] in types):\n",
    "                return True\n",
    "            else:\n",
    "                return False"
   ]
  },
  {
   "cell_type": "code",
   "execution_count": null,
   "metadata": {
    "ExecuteTime": {
     "end_time": "2018-10-08T14:46:22.785276Z",
     "start_time": "2018-10-08T14:45:49.604274Z"
    }
   },
   "outputs": [],
   "source": [
    "## put the fillter to the ngrams \n",
    "df_trigramFreq = df_trigramFreq[df_trigramFreq.trigram.map(lambda x : IsNounEnding(x))]\n",
    "df_trigramFreq = df_trigramFreq.reset_index(drop=True)\n",
    "\n",
    "print(\"***** Trigrams sorted by the highest Frequency *****\")\n",
    "print('Size: '+ str(len(df_trigramFreq)))\n",
    "df_trigramFreq.head(20)"
   ]
  },
  {
   "cell_type": "markdown",
   "metadata": {},
   "source": [
    "    Please note that we should apply the fillter before checking the grams in Text. Because we can reduce the size of gram-list after applying the fillter. The checking word in Text will take very long time."
   ]
  },
  {
   "cell_type": "code",
   "execution_count": null,
   "metadata": {
    "ExecuteTime": {
     "end_time": "2018-10-08T14:47:34.759274Z",
     "start_time": "2018-10-08T14:47:34.754275Z"
    }
   },
   "outputs": [],
   "source": [
    "def CheckWordInText(word, Text):\n",
    "    import re\n",
    "\n",
    "    results = sum(1 for _ in re.finditer(r'\\b%s\\W' % re.escape(word), Text))\n",
    "\n",
    "    if(results <= 5):\n",
    "        return False\n",
    "    else:\n",
    "        return True"
   ]
  },
  {
   "cell_type": "markdown",
   "metadata": {},
   "source": [
    "    Here I upgrade the CheckWordInText function by checking before and after the word (n-gram) is not the characters and numbers. This will cover the cases of the begining-word and the ending-word of sentences. \n",
    "    \n",
    ">  <span class=\"mark\">\\b</span> : bound the word only <- So, this will determine that in front of that gram is a whitespace (\\t, or \\n, or space)\n",
    "  \n",
    ">  <span class=\"mark\">\\W</span> : anything except character <- This will allow the end of grams with period \".\", comma \",\" or (?,!,!!!, ...)\n",
    "       \n",
    "    Let take a look on the example."
   ]
  },
  {
   "cell_type": "code",
   "execution_count": null,
   "metadata": {
    "ExecuteTime": {
     "end_time": "2018-10-08T14:47:36.704278Z",
     "start_time": "2018-10-08T14:47:36.697274Z"
    }
   },
   "outputs": [],
   "source": [
    "import re\n",
    "\n",
    "string1 = \"pizza wao\"\n",
    "string2 = \"pizza wao who knows what a \\npizza wao,  apizza wao. pizza wao, and \\tpizza wao????\"\n",
    "\n",
    "search_result = re.findall(r'\\b' + string1 + '\\W', string2)\n",
    "\n",
    "print(len(search_result))  ## <- should be 4"
   ]
  },
  {
   "cell_type": "code",
   "execution_count": null,
   "metadata": {
    "ExecuteTime": {
     "end_time": "2018-10-08T15:54:44.301947Z",
     "start_time": "2018-10-08T15:51:50.060626Z"
    }
   },
   "outputs": [],
   "source": [
    "## Get the real tri-gram words exist in text\n",
    "df_trigram_intext = df_trigramFreq.copy()\n",
    "\n",
    "exits_list = []\n",
    "for index, row in df_trigramFreq.iterrows():\n",
    "    gram = row['trigram']\n",
    "    word = (' '.join(gram))  ## I upgrade the checking word in text function above\n",
    "    \n",
    "    exits_list.append(CheckWordInText(word, Sample_text))\n",
    "    \n",
    "df_trigram_intext['exist'] = exits_list\n",
    "df_trigram_intext = df_trigram_intext.loc[df_trigram_intext.exist==True]\n",
    "df_trigram_intext = df_trigram_intext.reset_index(drop=True)\n",
    "print(\"***** Trigrams sorted by the highest Frequency *****\")\n",
    "print('Size: '+ str(len(df_trigram_intext)))\n",
    "df_trigram_intext"
   ]
  },
  {
   "cell_type": "markdown",
   "metadata": {},
   "source": [
    "    Observation from the above table, we can see that we can capture several good trigram, e.g. [the invisibility cloak], [the common room], [Gryffindor common room], [the house cup], etc. \n",
    "\n",
    "    So, we can use that trigram for futher analysis."
   ]
  },
  {
   "cell_type": "markdown",
   "metadata": {},
   "source": [
    "### More than Tri-Gram"
   ]
  },
  {
   "cell_type": "code",
   "execution_count": null,
   "metadata": {
    "ExecuteTime": {
     "end_time": "2018-10-08T15:10:52.993425Z",
     "start_time": "2018-10-08T15:10:52.858454Z"
    },
    "code_folding": []
   },
   "outputs": [],
   "source": [
    "def ngramExtraction(Sample_text,n=2,threshold=3,checknoun=False):\n",
    "    from nltk import ngrams\n",
    "    from nltk.tokenize import RegexpTokenizer\n",
    "    pattern = r'\\w+'\n",
    "    tokenizer = RegexpTokenizer(pattern)\n",
    "    token_words = tokenizer.tokenize(Sample_text)\n",
    "\n",
    "    _ngram = ngrams(token_words,n)\n",
    "\n",
    "    # ## Get freqs\n",
    "    _ngram_frequencies = nltk.FreqDist(_ngram)\n",
    "\n",
    "    ## to dataframe\n",
    "    dict_items =list(dict(_ngram_frequencies).items())\n",
    "    df_ngramFreq = pd.DataFrame(dict_items,columns=['ngram','freq']).sort_values(by='freq', ascending=False)\n",
    "    \n",
    "    ## Function to check the gram is noun gram or not\n",
    "    def IsNounEnding(ngram):  \n",
    "        if n==2:\n",
    "            if ('-pron-' in ngram) or ('t' in ngram):\n",
    "                return False\n",
    "            first_type = ('JJ','JJR','JJS','NN','NNS','NNP','NNPS')\n",
    "            second_type = ('NN','NNS','NNP','NNPS')\n",
    "            tags = nltk.pos_tag(ngram,lang='eng')\n",
    "        #     print(tags)\n",
    "            if (tags[0][1] in first_type) and (tags[1][1] in second_type):\n",
    "                return True\n",
    "            else:\n",
    "                return False\n",
    "        else:\n",
    "            if ('-pron-' in ngram) or ('t' in ngram):\n",
    "                return False\n",
    "            types = ('NN','NNS','NNP','NNPS')\n",
    "            tags = nltk.pos_tag(ngram,lang='eng')\n",
    "        #     print(tags)\n",
    "            if (tags[-1][1] in types):\n",
    "                return True\n",
    "            else:\n",
    "                return False\n",
    "    \n",
    "    if checknoun == True:\n",
    "        ## put the fillter to the ngrams \n",
    "        df_ngramFreq = df_ngramFreq[df_ngramFreq.ngram.map(lambda x : IsNounEnding(x))]\n",
    "        df_ngramFreq = df_ngramFreq.reset_index(drop=True)\n",
    "        \n",
    "    ## CHECK GRAMS IN TEXT\n",
    "    def CheckWordInText(word, Text,threshold):\n",
    "        import re\n",
    "\n",
    "        results = sum(1 for _ in re.finditer(r'\\b%s\\W' % re.escape(word), Text))\n",
    "\n",
    "        if(results <= threshold):\n",
    "            return False\n",
    "        else:\n",
    "            return True\n",
    "\n",
    "    ## Get the existed gram\n",
    "    df_ngram_intext = df_ngramFreq.copy()\n",
    "    del df_ngramFreq\n",
    "    \n",
    "    exits_list = []\n",
    "    for index, row in df_ngram_intext.iterrows():\n",
    "        gram = row['ngram']\n",
    "        word = ' '.join(gram)\n",
    "        exits_list.append(CheckWordInText(word, Sample_text,threshold))\n",
    "\n",
    "    df_ngram_intext['exist'] = exits_list\n",
    "    df_ngram_intext = df_ngram_intext.loc[df_ngram_intext.exist==True]\n",
    "    df_ngram_intext = df_ngram_intext.reset_index(drop=True)\n",
    "    \n",
    "    \n",
    "    return list(df_ngram_intext.ngram)"
   ]
  },
  {
   "cell_type": "markdown",
   "metadata": {},
   "source": [
    "    Several testing of function before applying to the dataset:"
   ]
  },
  {
   "cell_type": "code",
   "execution_count": null,
   "metadata": {
    "ExecuteTime": {
     "end_time": "2018-10-08T15:14:40.385448Z",
     "start_time": "2018-10-08T15:10:54.561429Z"
    }
   },
   "outputs": [],
   "source": [
    "ngramExtraction(Sample_text,4,threshold=3,checknoun=True)"
   ]
  },
  {
   "cell_type": "code",
   "execution_count": null,
   "metadata": {
    "ExecuteTime": {
     "end_time": "2018-10-08T15:18:29.504778Z",
     "start_time": "2018-10-08T15:14:41.067778Z"
    }
   },
   "outputs": [],
   "source": [
    "ngramExtraction(Sample_text,5,threshold=1,checknoun=True)"
   ]
  },
  {
   "cell_type": "markdown",
   "metadata": {},
   "source": [
    "## Apply the function to HP series"
   ]
  },
  {
   "cell_type": "markdown",
   "metadata": {},
   "source": [
    "The running time is long. Please be patient!"
   ]
  },
  {
   "cell_type": "code",
   "execution_count": null,
   "metadata": {
    "ExecuteTime": {
     "end_time": "2018-10-08T15:46:07.325656Z",
     "start_time": "2018-10-08T15:18:30.155787Z"
    }
   },
   "outputs": [],
   "source": [
    "[n,d] = df_handle.shape\n",
    "df_handle['bigram'] = ['']*n\n",
    "\n",
    "for index, row in df_handle.iterrows():\n",
    "    df_handle['bigram'].iloc[index] = (ngramExtraction(row.Content,2,threshold=7,checknoun=True))\n",
    "    \n",
    "df_handle.head(10)"
   ]
  },
  {
   "cell_type": "markdown",
   "metadata": {},
   "source": [
    "    Here we use the threshold of frequency to cut the n-grams. However, we can cut the n-gram list by the threshold of k most common n-gram (sort by freq, take top k n-grams).\n",
    "\n",
    "    Check by yourself and decide which way is better for your problem."
   ]
  },
  {
   "cell_type": "markdown",
   "metadata": {},
   "source": [
    "<span class=\"mark\">I hope that you can execute the notebook. More than that, I hope you can understand clearly the content of n-grams and can apply n-grams to your problems.</span> "
   ]
  },
  {
   "cell_type": "markdown",
   "metadata": {
    "toc": true
   },
   "source": [
    "<h1>Table of Contents<span class=\"tocSkip\"></span></h1>\n",
    "<div class=\"toc\"><ul class=\"toc-item\"><li><span><a href=\"#Understand-Distance-and-Similarity\" data-toc-modified-id=\"Understand-Distance-and-Similarity-1\"><span class=\"toc-item-num\">1&nbsp;&nbsp;</span>Understand Distance and Similarity</a></span><ul class=\"toc-item\"><li><span><a href=\"#Euclidean-Distance\" data-toc-modified-id=\"Euclidean-Distance-1.1\"><span class=\"toc-item-num\">1.1&nbsp;&nbsp;</span>Euclidean Distance</a></span></li><li><span><a href=\"#Manhattan-Distance\" data-toc-modified-id=\"Manhattan-Distance-1.2\"><span class=\"toc-item-num\">1.2&nbsp;&nbsp;</span>Manhattan Distance</a></span></li><li><span><a href=\"#Minkowski-Distance\" data-toc-modified-id=\"Minkowski-Distance-1.3\"><span class=\"toc-item-num\">1.3&nbsp;&nbsp;</span>Minkowski Distance</a></span></li><li><span><a href=\"#Cosine-Similarity\" data-toc-modified-id=\"Cosine-Similarity-1.4\"><span class=\"toc-item-num\">1.4&nbsp;&nbsp;</span>Cosine Similarity</a></span></li><li><span><a href=\"#Jaccard-Similarity\" data-toc-modified-id=\"Jaccard-Similarity-1.5\"><span class=\"toc-item-num\">1.5&nbsp;&nbsp;</span>Jaccard Similarity</a></span></li><li><span><a href=\"#Combine-into-One-Package\" data-toc-modified-id=\"Combine-into-One-Package-1.6\"><span class=\"toc-item-num\">1.6&nbsp;&nbsp;</span>Combine into One Package</a></span></li><li><span><a href=\"#Compare-to-Some-Libraries\" data-toc-modified-id=\"Compare-to-Some-Libraries-1.7\"><span class=\"toc-item-num\">1.7&nbsp;&nbsp;</span>Compare to Some Libraries</a></span><ul class=\"toc-item\"><li><span><a href=\"#SKLEARN\" data-toc-modified-id=\"SKLEARN-1.7.1\"><span class=\"toc-item-num\">1.7.1&nbsp;&nbsp;</span>SKLEARN</a></span></li><li><span><a href=\"#SCIPY\" data-toc-modified-id=\"SCIPY-1.7.2\"><span class=\"toc-item-num\">1.7.2&nbsp;&nbsp;</span>SCIPY</a></span></li></ul></li></ul></li><li><span><a href=\"#Apply-Similarity-Measurement-to-Text-Analytics\" data-toc-modified-id=\"Apply-Similarity-Measurement-to-Text-Analytics-2\"><span class=\"toc-item-num\">2&nbsp;&nbsp;</span>Apply Similarity Measurement to Text Analytics</a></span><ul class=\"toc-item\"><li><span><a href=\"#WORDNET---Distance-from-Word-to-Word\" data-toc-modified-id=\"WORDNET---Distance-from-Word-to-Word-2.1\"><span class=\"toc-item-num\">2.1&nbsp;&nbsp;</span>WORDNET - Distance from Word to Word</a></span></li><li><span><a href=\"#Find-the-Best-Similarity-for-Wordnet-Synsets\" data-toc-modified-id=\"Find-the-Best-Similarity-for-Wordnet-Synsets-2.2\"><span class=\"toc-item-num\">2.2&nbsp;&nbsp;</span>Find the Best Similarity for Wordnet Synsets</a></span></li><li><span><a href=\"#Deletions,-Insertions,-or-Substitutions:-The-Levenshtein-Distance\" data-toc-modified-id=\"Deletions,-Insertions,-or-Substitutions:-The-Levenshtein-Distance-2.3\"><span class=\"toc-item-num\">2.3&nbsp;&nbsp;</span>Deletions, Insertions, or Substitutions: The Levenshtein Distance</a></span></li><li><span><a href=\"#Distance-from-Vector-to-Vector\" data-toc-modified-id=\"Distance-from-Vector-to-Vector-2.4\"><span class=\"toc-item-num\">2.4&nbsp;&nbsp;</span>Distance from Vector to Vector</a></span><ul class=\"toc-item\"><li><span><a href=\"#Examples-with-4-Sentences\" data-toc-modified-id=\"Examples-with-4-Sentences-2.4.1\"><span class=\"toc-item-num\">2.4.1&nbsp;&nbsp;</span>Examples with 4 Sentences</a></span></li><li><span><a href=\"#Use-Our-Distance-Package\" data-toc-modified-id=\"Use-Our-Distance-Package-2.4.2\"><span class=\"toc-item-num\">2.4.2&nbsp;&nbsp;</span>Use Our Distance Package</a></span></li><li><span><a href=\"#Use-the-Sklearn-Package\" data-toc-modified-id=\"Use-the-Sklearn-Package-2.4.3\"><span class=\"toc-item-num\">2.4.3&nbsp;&nbsp;</span>Use the Sklearn Package</a></span></li></ul></li></ul></li><li><span><a href=\"#Working-with-Real-Data\" data-toc-modified-id=\"Working-with-Real-Data-3\"><span class=\"toc-item-num\">3&nbsp;&nbsp;</span>Working with Real Data</a></span><ul class=\"toc-item\"><li><span><a href=\"#LOAD-DATA\" data-toc-modified-id=\"LOAD-DATA-3.1\"><span class=\"toc-item-num\">3.1&nbsp;&nbsp;</span>LOAD DATA</a></span></li><li><span><a href=\"#Convert-data-from-RAW-to-Tokens\" data-toc-modified-id=\"Convert-data-from-RAW-to-Tokens-3.2\"><span class=\"toc-item-num\">3.2&nbsp;&nbsp;</span>Convert data from RAW to Tokens</a></span></li><li><span><a href=\"#Calculate-TF-IDF\" data-toc-modified-id=\"Calculate-TF-IDF-3.3\"><span class=\"toc-item-num\">3.3&nbsp;&nbsp;</span>Calculate TF-IDF</a></span></li><li><span><a href=\"#Cosine-Similarity-Matrix\" data-toc-modified-id=\"Cosine-Similarity-Matrix-3.4\"><span class=\"toc-item-num\">3.4&nbsp;&nbsp;</span>Cosine Similarity Matrix</a></span></li><li><span><a href=\"#Scatter-TF-IDF-Points-after-Using-Dimensional-Reduction-Techinques\" data-toc-modified-id=\"Scatter-TF-IDF-Points-after-Using-Dimensional-Reduction-Techinques-3.5\"><span class=\"toc-item-num\">3.5&nbsp;&nbsp;</span>Scatter TF-IDF Points after Using Dimensional Reduction Techinques</a></span></li></ul></li></ul></div>"
   ]
  },
  {
   "cell_type": "markdown",
   "metadata": {},
   "source": [
    "## Understand Distance and Similarity "
   ]
  },
  {
   "cell_type": "markdown",
   "metadata": {},
   "source": [
    "### Euclidean Distance"
   ]
  },
  {
   "cell_type": "markdown",
   "metadata": {},
   "source": [
    "In Cartesian coordinates, if p = (p1, p2,..., pn) and q = (q1, q2,..., qn) are two points in Euclidean n-space, then the distance (d) from p to q, or from q to p is given by the Pythagorean formula:\n",
    "\n",
    "<img src=\"Euclidean.svg\">"
   ]
  },
  {
   "cell_type": "code",
   "execution_count": null,
   "metadata": {
    "ExecuteTime": {
     "end_time": "2018-10-13T11:13:57.317611Z",
     "start_time": "2018-10-13T11:13:57.309401Z"
    },
    "code_folding": []
   },
   "outputs": [],
   "source": [
    "from math import *\n",
    "def euclidean_distance(x,y):\n",
    "    return sqrt(sum(pow(a-b,2) for a, b in zip(x, y)))"
   ]
  },
  {
   "cell_type": "code",
   "execution_count": null,
   "metadata": {
    "ExecuteTime": {
     "end_time": "2018-10-13T11:13:57.344437Z",
     "start_time": "2018-10-13T11:13:57.324682Z"
    }
   },
   "outputs": [],
   "source": [
    "V1 = [1,5,0,0,5]\n",
    "V2 = [3,6,1,0,1]\n",
    "\n",
    "euclidean_distance(V1,V2)"
   ]
  },
  {
   "cell_type": "markdown",
   "metadata": {},
   "source": [
    "### Manhattan Distance"
   ]
  },
  {
   "cell_type": "markdown",
   "metadata": {},
   "source": [
    "The distance between two points measured along axes at right angles. In a plane with $p = (p_1, p_2)$ and $q = (q_1, q_2)$, it is $|p_1 - q_1| + |p_1 - q_2|$.\n",
    "\n",
    "<img src=\"Manhattan.svg\">"
   ]
  },
  {
   "cell_type": "code",
   "execution_count": null,
   "metadata": {
    "ExecuteTime": {
     "end_time": "2018-10-13T11:13:57.738019Z",
     "start_time": "2018-10-13T11:13:57.724824Z"
    }
   },
   "outputs": [],
   "source": [
    "from math import*\n",
    " \n",
    "def manhattan_distance(x,y):\n",
    "    return sum(abs(a-b) for a,b in zip(x,y))"
   ]
  },
  {
   "cell_type": "code",
   "execution_count": null,
   "metadata": {
    "ExecuteTime": {
     "end_time": "2018-10-13T11:13:57.768023Z",
     "start_time": "2018-10-13T11:13:57.747098Z"
    }
   },
   "outputs": [],
   "source": [
    "manhattan_distance(V1,V2)"
   ]
  },
  {
   "cell_type": "markdown",
   "metadata": {},
   "source": [
    "### Minkowski Distance\n",
    "\n",
    "The Minkowski distance is a metric in a normed vector space which can be considered as a generalization of both the Euclidean distance and the Manhattan distance.\n",
    "\n",
    "The Minkowski distance of order $p$ between two points $X= (x_1,x_2,...,x_n)$ and $Y = (y_1,y_2,..., y_n)$ $\\in R^n$ is defined as:\n",
    "\n",
    "<img src=\"Minkowski.svg\">\n",
    "\n",
    "If $p=1$ : Manhattan distance\n",
    "\n",
    "If $p=2$ : Euclidean distance\n",
    "\n",
    "If $p \\to Inf$: Chebyshev distance"
   ]
  },
  {
   "cell_type": "code",
   "execution_count": null,
   "metadata": {
    "ExecuteTime": {
     "end_time": "2018-10-13T11:13:57.788143Z",
     "start_time": "2018-10-13T11:13:57.772364Z"
    }
   },
   "outputs": [],
   "source": [
    "from math import *\n",
    "from decimal import Decimal\n",
    " \n",
    "def nth_root(value, n_root):\n",
    "    root_value = 1/float(n_root)\n",
    "    return round (Decimal(value) ** Decimal(root_value),3)\n",
    " \n",
    "def minkowski_distance(x,y,p_value):\n",
    "    return nth_root(sum(pow(abs(a-b),p_value) for a,b in zip(x, y)),p_value)\n"
   ]
  },
  {
   "cell_type": "code",
   "execution_count": null,
   "metadata": {
    "ExecuteTime": {
     "end_time": "2018-10-13T11:13:57.817480Z",
     "start_time": "2018-10-13T11:13:57.801764Z"
    }
   },
   "outputs": [],
   "source": [
    "print(minkowski_distance(V1,V2,1))  # Manhattan\n",
    "print(minkowski_distance(V1,V2,2))  # Euclidean\n",
    "print(minkowski_distance(V1,V2,3))  # "
   ]
  },
  {
   "cell_type": "markdown",
   "metadata": {},
   "source": [
    "### Cosine Similarity\n",
    "\n",
    "Cosine similarity is a measure of similarity between two non-zero vectors of an inner product space that measures the cosine of the angle between them.\n",
    "\n",
    "<img src=\"Cosine.svg\">"
   ]
  },
  {
   "cell_type": "code",
   "execution_count": null,
   "metadata": {
    "ExecuteTime": {
     "end_time": "2018-10-13T11:13:57.834431Z",
     "start_time": "2018-10-13T11:13:57.822702Z"
    }
   },
   "outputs": [],
   "source": [
    "from math import *\n",
    " \n",
    "def square_rooted(x):\n",
    "    return round(sqrt(sum([a*a for a in x])),3)\n",
    " \n",
    "def cosine_similarity(x,y):\n",
    "    numerator = sum(a*b for a,b in zip(x,y))\n",
    "    denominator = square_rooted(x)*square_rooted(y)\n",
    "    return round(numerator/float(denominator),3)\n",
    " "
   ]
  },
  {
   "cell_type": "code",
   "execution_count": null,
   "metadata": {
    "ExecuteTime": {
     "end_time": "2018-10-13T11:13:57.853946Z",
     "start_time": "2018-10-13T11:13:57.841000Z"
    }
   },
   "outputs": [],
   "source": [
    "cosine_similarity(V1,V2)"
   ]
  },
  {
   "cell_type": "markdown",
   "metadata": {},
   "source": [
    "### Jaccard Similarity\n",
    "\n",
    "The Jaccard index, also known as Intersection over Union and the Jaccard similarity coefficient (originally coined coefficient de communauté by Paul Jaccard), is a statistic used for comparing the similarity and diversity of sample sets. The Jaccard coefficient measures similarity between finite sample sets, and is defined as the size of the intersection divided by the size of the union of the sample sets:\n",
    "\n",
    "<img src=\"Jaccard.svg\">\n",
    "\n",
    "<img src=https://upload.wikimedia.org/wikipedia/commons/1/1f/Intersection_of_sets_A_and_B.svg>\n",
    "<img src=https://upload.wikimedia.org/wikipedia/commons/e/ee/Union_of_sets_A_and_B.svg>"
   ]
  },
  {
   "cell_type": "code",
   "execution_count": null,
   "metadata": {
    "ExecuteTime": {
     "end_time": "2018-10-13T11:13:57.872782Z",
     "start_time": "2018-10-13T11:13:57.859611Z"
    }
   },
   "outputs": [],
   "source": [
    "from math import *\n",
    " \n",
    "def jaccard_similarity(x,y): \n",
    "    intersection_cardinality = len(set.intersection(*[set(x), set(y)]))\n",
    "    union_cardinality = len(set.union(*[set(x), set(y)]))\n",
    "    return intersection_cardinality/float(union_cardinality)\n"
   ]
  },
  {
   "cell_type": "code",
   "execution_count": null,
   "metadata": {
    "ExecuteTime": {
     "end_time": "2018-10-13T11:13:57.896532Z",
     "start_time": "2018-10-13T11:13:57.880870Z"
    }
   },
   "outputs": [],
   "source": [
    "jaccard_similarity(V1,V2)"
   ]
  },
  {
   "cell_type": "markdown",
   "metadata": {},
   "source": [
    "### Combine into One Package"
   ]
  },
  {
   "cell_type": "code",
   "execution_count": null,
   "metadata": {
    "ExecuteTime": {
     "end_time": "2018-10-13T11:13:57.936102Z",
     "start_time": "2018-10-13T11:13:57.904008Z"
    }
   },
   "outputs": [],
   "source": [
    "from math import*\n",
    "from decimal import Decimal\n",
    " \n",
    "class Similarity():\n",
    "    \"\"\" Five similarity measures function \"\"\"\n",
    "    def euclidean_distance(self,x,y):\n",
    "        \"\"\" return euclidean distance between two lists \"\"\"\n",
    "        return sqrt(sum(pow(a-b,2) for a, b in zip(x, y)))\n",
    "    def manhattan_distance(self,x,y):\n",
    "        \"\"\" return manhattan distance between two lists \"\"\"\n",
    "        return sum(abs(a-b) for a,b in zip(x,y))\n",
    " \n",
    "    def minkowski_distance(self,x,y,p_value):\n",
    "        \"\"\" return minkowski distance between two lists \"\"\"\n",
    "        return self.nth_root(sum(pow(abs(a-b),p_value) for a,b in zip(x, y)),\n",
    "           p_value)\n",
    " \n",
    "    def nth_root(self,value, n_root):\n",
    "        \"\"\" returns the n_root of an value \"\"\"\n",
    "        root_value = 1/float(n_root)\n",
    "        return round (Decimal(value) ** Decimal(root_value),3)\n",
    " \n",
    "    def cosine_similarity(self,x,y):\n",
    "        \"\"\" return cosine similarity between two lists \"\"\"\n",
    "        numerator = sum(a*b for a,b in zip(x,y))\n",
    "        denominator = self.square_rooted(x)*self.square_rooted(y)\n",
    "        return round(numerator/float(denominator),3)\n",
    " \n",
    "    def square_rooted(self,x):\n",
    "        \"\"\" return 3 rounded square rooted value \"\"\"\n",
    "        return round(sqrt(sum([a*a for a in x])),3)\n",
    " \n",
    "    def jaccard_similarity(self,x,y):\n",
    "        \"\"\" returns the jaccard similarity between two lists \"\"\"\n",
    "        intersection_cardinality = len(set.intersection(*[set(x), set(y)]))\n",
    "        union_cardinality = len(set.union(*[set(x), set(y)]))\n",
    "        return intersection_cardinality/float(union_cardinality)"
   ]
  },
  {
   "cell_type": "code",
   "execution_count": null,
   "metadata": {
    "ExecuteTime": {
     "end_time": "2018-10-13T11:13:57.959684Z",
     "start_time": "2018-10-13T11:13:57.941377Z"
    }
   },
   "outputs": [],
   "source": [
    "measures = Similarity()\n",
    "\n",
    "print('Euclidean distance = ' + str(measures.euclidean_distance(V1,V2)))\n",
    "print('Cosine similarity = ' + str(measures.cosine_similarity(V1,V2)))\n",
    " "
   ]
  },
  {
   "cell_type": "markdown",
   "metadata": {},
   "source": [
    "### Compare to Some Libraries"
   ]
  },
  {
   "cell_type": "markdown",
   "metadata": {},
   "source": [
    "#### SKLEARN"
   ]
  },
  {
   "cell_type": "code",
   "execution_count": null,
   "metadata": {},
   "outputs": [],
   "source": [
    "from sklearn.metrics.pairwise import cosine_distances, euclidean_distances\n",
    "cos_dist =  cosine_distances([V1],[V2])\n",
    "print('Cosine Distance:' + str(float(cos_dist)))\n",
    "cos_sim = 1 - float(cos_dist)\n",
    "print('Cosine Similarity= ' + str(cos_sim))\n",
    "\n",
    "## OR\n",
    "from sklearn.metrics.pairwise import cosine_similarity, euclidean_distances\n",
    "cos_sim =  cosine_similarity([V1,V2])\n",
    "print('Cosine Similarity MATRIX:')\n",
    "print(cos_sim)"
   ]
  },
  {
   "cell_type": "markdown",
   "metadata": {},
   "source": [
    "#### SCIPY"
   ]
  },
  {
   "cell_type": "code",
   "execution_count": null,
   "metadata": {},
   "outputs": [],
   "source": [
    "from scipy.spatial import distance\n",
    "print('Cosine Distance:' + str(distance.cosine(V1,V2)))\n",
    "print('Cosine Similarity:' + str(1 - distance.cosine(V1,V2)))"
   ]
  },
  {
   "cell_type": "markdown",
   "metadata": {},
   "source": [
    "## Apply Similarity Measurement to Text Analytics"
   ]
  },
  {
   "cell_type": "markdown",
   "metadata": {},
   "source": [
    "### WORDNET - Distance from Word to Word "
   ]
  },
  {
   "cell_type": "markdown",
   "metadata": {},
   "source": [
    "As of November 2012 WordNet's latest Online-version is 3.1. The database contains 155,327 words organized in 175,979 synsets for a total of 207,016 word-sense pairs; in compressed form, it is about 12 megabytes in size.\n",
    "\n",
    "WordNet® is a large lexical database of English. Nouns, verbs, adjectives and adverbs are grouped into sets of cognitive synonyms (synsets), each expressing a distinct concept. Synsets are interlinked by means of conceptual-semantic and lexical relations."
   ]
  },
  {
   "cell_type": "code",
   "execution_count": null,
   "metadata": {},
   "outputs": [],
   "source": [
    "from nltk.corpus import wordnet as wn\n",
    "Dog = wn.synset('Dog.n.1')\n",
    "Cat = wn.synset('Cat.n.1')\n",
    "Puppy = wn.synset('Puppy.n.1')\n",
    "Kitty = wn.synset('Kitty.n.1')\n",
    "\n",
    "print('Dog vs Cat  : '+ str(Dog.path_similarity(cat)))\n",
    "print('Dog vs Puppy: ' + str(Dog.path_similarity(Puppy)))\n",
    "print('Cat vs Puppy: '+ str(Cat.path_similarity(Puppy)))\n",
    "print('Cat vs Kitty: '+ str(Cat.path_similarity(Kitty)))"
   ]
  },
  {
   "cell_type": "markdown",
   "metadata": {},
   "source": [
    "> Question: Why \"Kitty\" and \"Cat\" is the lowest similarity?\n",
    "\n",
    "We can check the tree of word in wordnet by using: http://wordnetweb.princeton.edu/perl/webwn\n",
    "\n",
    "Let's look at the 'cat' synset tree. Here, for POS = noun, NN=1, then 'cat' is"
   ]
  },
  {
   "cell_type": "code",
   "execution_count": null,
   "metadata": {},
   "outputs": [],
   "source": [
    "print(wn.synset('Cat.n.01').definition())"
   ]
  },
  {
   "cell_type": "markdown",
   "metadata": {},
   "source": [
    "<img src=\"cat_wordnet.png\">"
   ]
  },
  {
   "cell_type": "markdown",
   "metadata": {},
   "source": [
    "But the 'Kitty' for POS=noun, NN=1, the definition is different."
   ]
  },
  {
   "cell_type": "code",
   "execution_count": null,
   "metadata": {},
   "outputs": [],
   "source": [
    "print(wn.synset('Kitty.n.01').definition())"
   ]
  },
  {
   "cell_type": "markdown",
   "metadata": {},
   "source": [
    "<img src=\"kitty_wordnet.png\">"
   ]
  },
  {
   "cell_type": "markdown",
   "metadata": {},
   "source": [
    "So, for that case, we need to change the 'kitty' to 'kitty.n.4'"
   ]
  },
  {
   "cell_type": "code",
   "execution_count": null,
   "metadata": {},
   "outputs": [],
   "source": [
    "from nltk.corpus import wordnet as wn\n",
    "Dog = wn.synset('Dog.n.1')\n",
    "Cat = wn.synset('Cat.n.1')\n",
    "Puppy = wn.synset('Puppy.n.1')\n",
    "\n",
    "print('Dog vs Cat  : '+ str(Dog.path_similarity(cat)))\n",
    "print('Dog vs Puppy: ' + str(Dog.path_similarity(Puppy)))\n",
    "print('Cat vs Puppy: '+ str(Cat.path_similarity(Puppy)))\n",
    "\n",
    "Kitty = wn.synset('Kitty.n.4')\n",
    "print('Cat vs Kitty: '+ str(Cat.path_similarity(Kitty)))"
   ]
  },
  {
   "cell_type": "markdown",
   "metadata": {},
   "source": [
    "### Find the Best Similarity for Wordnet Synsets"
   ]
  },
  {
   "cell_type": "code",
   "execution_count": null,
   "metadata": {},
   "outputs": [],
   "source": [
    "def find_distance_wordnet(word1,word2):\n",
    "    from nltk.corpus import wordnet as wn\n",
    "    _similarity = 0\n",
    "    for eachsyn in wn.synsets(word1):\n",
    "        for eachsyn2 in wn.synsets(word2):\n",
    "            path_simi = (wn.path_similarity(eachsyn,eachsyn2))\n",
    "            if (path_simi != None):\n",
    "                if (_similarity < path_simi):\n",
    "                    _similarity = path_simi\n",
    "    return _similarity   "
   ]
  },
  {
   "cell_type": "code",
   "execution_count": null,
   "metadata": {},
   "outputs": [],
   "source": [
    "print('Dog vs Cat  : '+ str(find_distance_wordnet('Dog','Cat')))\n",
    "print('Dog vs Puppy: ' + str(find_distance_wordnet('Dog','Puppy')))\n",
    "print('Cat vs Puppy: '+ str(find_distance_wordnet('Cat','Puppy')))\n",
    "print('Cat vs Kitty: '+ str(find_distance_wordnet('Cat','Kitty')))"
   ]
  },
  {
   "cell_type": "markdown",
   "metadata": {},
   "source": [
    "### Deletions, Insertions, or Substitutions: The Levenshtein Distance\n",
    "\n",
    "I will not cover this. "
   ]
  },
  {
   "cell_type": "code",
   "execution_count": null,
   "metadata": {},
   "outputs": [],
   "source": [
    "import numpy as np\n",
    "\n",
    "def levenshtein(seq1, seq2):  \n",
    "    size_x = len(seq1) + 1\n",
    "    size_y = len(seq2) + 1\n",
    "    matrix = np.zeros ((size_x, size_y))\n",
    "    for x in range(size_x):\n",
    "        matrix [x, 0] = x\n",
    "    for y in range(size_y):\n",
    "        matrix [0, y] = y\n",
    "\n",
    "    for x in range(1, size_x):\n",
    "        for y in range(1, size_y):\n",
    "            if seq1[x-1] == seq2[y-1]:\n",
    "                matrix [x,y] = min(\n",
    "                    matrix[x-1, y] + 1,\n",
    "                    matrix[x-1, y-1],\n",
    "                    matrix[x, y-1] + 1\n",
    "                )\n",
    "            else:\n",
    "                matrix [x,y] = min(\n",
    "                    matrix[x-1,y] + 1,\n",
    "                    matrix[x-1,y-1] + 1,\n",
    "                    matrix[x,y-1] + 1\n",
    "                )\n",
    "#     print (matrix)\n",
    "    return (matrix[size_x - 1, size_y - 1])"
   ]
  },
  {
   "cell_type": "code",
   "execution_count": null,
   "metadata": {},
   "outputs": [],
   "source": [
    "print('Use our function: ' + str(levenshtein('Hello', 'Goodbye')))\n",
    "\n",
    "import nltk\n",
    "print('Use nltk: '+ str(nltk.edit_distance('Hello', 'Goodbye')))"
   ]
  },
  {
   "cell_type": "markdown",
   "metadata": {},
   "source": [
    "### Distance from Vector to Vector"
   ]
  },
  {
   "cell_type": "markdown",
   "metadata": {},
   "source": [
    "For vectors, we should use the tf-idf to transfer 'Tokens' list to numerical vector. Then, we can compute the cosine distance (or similarity) from vector to vector."
   ]
  },
  {
   "cell_type": "markdown",
   "metadata": {},
   "source": [
    "#### Examples with 4 Sentences"
   ]
  },
  {
   "cell_type": "code",
   "execution_count": null,
   "metadata": {},
   "outputs": [],
   "source": [
    "Sent1 = 'Our coffee is too hot'\n",
    "Sent2 = 'The sun is bright today'\n",
    "Sent3 = 'The sun in the sky is bright'\n",
    "Sent4 = 'We can enjoy the coffee now'"
   ]
  },
  {
   "cell_type": "code",
   "execution_count": null,
   "metadata": {},
   "outputs": [],
   "source": [
    "from sklearn.feature_extraction.text import TfidfVectorizer\n",
    "tfidf_vectorizer = TfidfVectorizer(norm=None)  \n",
    "# tfidf_vectorizer = TfidfVectorizer(ngram_range=[1,2])  ## use unigram and bigram\n",
    "tfidf_matrix = tfidf_vectorizer.fit_transform([Sent1,Sent2,Sent3,Sent4])\n",
    "df_tfidf = pd.DataFrame(tfidf_matrix.toarray(),columns=[tfidf_vectorizer.get_feature_names()],index=['s1','s2','s3','s4'])\n",
    "df_tfidf"
   ]
  },
  {
   "cell_type": "code",
   "execution_count": null,
   "metadata": {},
   "outputs": [],
   "source": [
    "from sklearn.feature_extraction.text import TfidfVectorizer\n",
    "tfidf_vectorizer = TfidfVectorizer(norm='l2')  ## Normalize the legth of document\n",
    "# tfidf_vectorizer = TfidfVectorizer(ngram_range=[1,2])  ## use unigram and bigram\n",
    "tfidf_matrix = tfidf_vectorizer.fit_transform([Sent1,Sent2,Sent3,Sent4])\n",
    "df_tfidf = pd.DataFrame(tfidf_matrix.toarray(),columns=[tfidf_vectorizer.get_feature_names()],index=['s1','s2','s3','s4'])\n",
    "df_tfidf"
   ]
  },
  {
   "cell_type": "code",
   "execution_count": null,
   "metadata": {
    "ExecuteTime": {
     "end_time": "2018-10-13T11:13:57.365153Z",
     "start_time": "2018-10-13T11:13:57.349911Z"
    }
   },
   "outputs": [],
   "source": [
    "def plotlabel(ax,n,v):\n",
    "    ax.axhline(linewidth=4, color='k')\n",
    "    ax.axvline(linewidth=4, color='k')\n",
    "    for label, x, y in zip(n, v[:,0], v[:, 1]):\n",
    "        plt.annotate(\n",
    "            label,\n",
    "            xy=(x, y), xytext=(-20, 10),\n",
    "            textcoords='offset points', ha='right', va='bottom',\n",
    "            bbox=dict(boxstyle='round,pad=0.5', fc='yellow', alpha=1),\n",
    "            arrowprops=dict(arrowstyle = '->', connectionstyle='arc3,rad=0'))"
   ]
  },
  {
   "cell_type": "code",
   "execution_count": null,
   "metadata": {
    "ExecuteTime": {
     "end_time": "2018-10-13T11:13:57.720438Z",
     "start_time": "2018-10-13T11:13:57.384978Z"
    }
   },
   "outputs": [],
   "source": [
    "from sklearn.decomposition import PCA\n",
    "pca = PCA(n_components=2)\n",
    "\n",
    "V1 = df_tfidf.iloc[0].values\n",
    "V2 = df_tfidf.iloc[1].values\n",
    "V3 = df_tfidf.iloc[2].values\n",
    "V4 = df_tfidf.iloc[3].values\n",
    "\n",
    "X = np.array([V1,V2,V3,V4])\n",
    "X_ = pca.fit_transform(X)  ## 2D points\n",
    "n = ['V1','V2','V3','V4']\n",
    "import matplotlib.pyplot as plt\n",
    "fig, ax = plt.subplots()\n",
    "ax.scatter(X_[:,0],X_[:,1])\n",
    "\n",
    "plotlabel(ax,n,X_)\n",
    "# set axes range\n",
    "plt.grid()\n",
    "plt.show()"
   ]
  },
  {
   "cell_type": "markdown",
   "metadata": {},
   "source": [
    "#### Use Our Distance Package"
   ]
  },
  {
   "cell_type": "code",
   "execution_count": null,
   "metadata": {},
   "outputs": [],
   "source": [
    "V1 = df_tfidf.iloc[0].values\n",
    "V2 = df_tfidf.iloc[1].values\n",
    "V3 = df_tfidf.iloc[2].values\n",
    "V4 = df_tfidf.iloc[3].values\n",
    "\n",
    "print('*** Euclidean ***')\n",
    "print('Euclidean distance v1,v2 = ' + str(measures.euclidean_distance(V1,V2)))\n",
    "print('Euclidean distance v1,v3 = ' + str(measures.euclidean_distance(V1,V3)))\n",
    "print('Euclidean distance v2,v3 = ' + str(measures.euclidean_distance(V2,V3)))\n",
    "print('Euclidean distance v2,v4 = ' + str(measures.euclidean_distance(V2,V4)))\n",
    "print('Euclidean distance v3,v4 = ' + str(measures.euclidean_distance(V3,V4)))\n",
    "\n",
    "print('*** Jaccard ***')\n",
    "print('Jaccard similarity v1,v2 = ' + str(measures.jaccard_similarity(V1,V2)))\n",
    "print('Jaccard similarity v1,v3 = ' + str(measures.jaccard_similarity(V1,V3)))\n",
    "print('Jaccard similarity v2,v3 = ' + str(measures.jaccard_similarity(V2,V3)))\n",
    "print('Jaccard similarity v2,v4 = ' + str(measures.jaccard_similarity(V2,V4)))\n",
    "print('Jaccard similarity v3,v4 = ' + str(measures.jaccard_similarity(V3,V4)))\n",
    "\n",
    "print('*** Cosine ***')\n",
    "print('Cosine similarity v1,v2 = ' + str(measures.cosine_similarity(V1,V2)))\n",
    "print('Cosine similarity v1,v3 = ' + str(measures.cosine_similarity(V1,V3)))\n",
    "print('Cosine similarity v2,v3 = ' + str(measures.cosine_similarity(V2,V3)))\n",
    "print('Cosine similarity v2,v4 = ' + str(measures.cosine_similarity(V2,V4)))\n",
    "print('Cosine similarity v3,v4 = ' + str(measures.cosine_similarity(V3,V4)))"
   ]
  },
  {
   "cell_type": "markdown",
   "metadata": {},
   "source": [
    "#### Use the Sklearn Package"
   ]
  },
  {
   "cell_type": "code",
   "execution_count": null,
   "metadata": {},
   "outputs": [],
   "source": [
    "from sklearn.metrics.pairwise import cosine_similarity, euclidean_distances\n",
    "cosine_matrix =  cosine_similarity(df_tfidf)\n",
    "df_cosine = pd.DataFrame(cosine_matrix,index=range(4),columns=range(4))\n",
    "df_cosine"
   ]
  },
  {
   "cell_type": "markdown",
   "metadata": {},
   "source": [
    "## Working with Real Data"
   ]
  },
  {
   "cell_type": "code",
   "execution_count": null,
   "metadata": {
    "ExecuteTime": {
     "end_time": "2018-10-13T11:13:32.926844Z",
     "start_time": "2018-10-13T11:13:30.183737Z"
    }
   },
   "outputs": [],
   "source": [
    "import pandas as pd\n",
    "import nltk\n",
    "import os, io\n",
    "import numpy as np\n",
    "import matplotlib.pyplot as plt\n",
    "import re\n",
    "import warnings\n",
    "warnings.filterwarnings('ignore')\n",
    "%matplotlib inline  "
   ]
  },
  {
   "cell_type": "markdown",
   "metadata": {},
   "source": [
    "### LOAD DATA"
   ]
  },
  {
   "cell_type": "code",
   "execution_count": null,
   "metadata": {
    "ExecuteTime": {
     "end_time": "2018-10-13T11:13:33.370201Z",
     "start_time": "2018-10-13T11:13:32.930192Z"
    }
   },
   "outputs": [],
   "source": [
    "data_path = r'./Data/'\n",
    "df_raw = pd.DataFrame([],columns=['Filename','Content','Category'])\n",
    "\n",
    "for root, directories, files in os.walk(data_path):\n",
    "    for filename in files:\n",
    "        classname = (os.path.basename(root))\n",
    "        if (classname in ['Neg', 'Pos']):\n",
    "            _name = os.path.splitext(filename)[0]\n",
    "            filepath = os.path.join(root, filename)\n",
    "            f = open(filepath,\"r\",encoding='latin-1') \n",
    "            content = f.read()\n",
    "            content = \" \".join(str(content).split())\n",
    "#             content = str(content).replace(\"\\n\",\" \")\n",
    "            pieces = {'Filename': _name, 'Content': (content), 'Category':classname}\n",
    "            df_raw = df_raw.append(pieces,ignore_index=True)\n",
    "df_raw.head(10)"
   ]
  },
  {
   "cell_type": "markdown",
   "metadata": {
    "ExecuteTime": {
     "end_time": "2018-10-12T09:07:29.042817Z",
     "start_time": "2018-10-12T09:07:29.039815Z"
    }
   },
   "source": [
    "### Convert data from RAW to Tokens"
   ]
  },
  {
   "cell_type": "code",
   "execution_count": null,
   "metadata": {
    "ExecuteTime": {
     "end_time": "2018-10-13T11:13:33.799950Z",
     "start_time": "2018-10-13T11:13:33.380747Z"
    }
   },
   "outputs": [],
   "source": [
    "## Define the Function to convert raw text to tokens\n",
    "def convert_tokens(rawtext, verbose):\n",
    "    # First: Tokenization\n",
    "    from nltk.tokenize import RegexpTokenizer\n",
    "    pattern = r'\\w+'\n",
    "    tokenizer = RegexpTokenizer(pattern)\n",
    "    token_words = tokenizer.tokenize(rawtext)\n",
    "    if (verbose):\n",
    "        print('Tokens:' + str(token_words[0:10]))\n",
    "    \n",
    "#     # Second: Decapitalization (if needed)\n",
    "#     decap_token_words = [word.lower() for word in token_words]\n",
    "#     if (verbose):\n",
    "#         print('Decapitalized Tokens:' + str(decap_token_words[0:10]))\n",
    "    \n",
    "    # Third: Remove stop words\n",
    "    from nltk.corpus import stopwords\n",
    "    stopwords_json = {\"af\":[\"'n\",\"aan\",\"af\",\"al\",\"as\",\"baie\",\"by\",\"daar\",\"dag\",\"dat\",\"die\",\"dit\",\"een\",\"ek\",\"en\",\"gaan\",\"gesê\",\"haar\",\"het\",\"hom\",\"hulle\",\"hy\",\"in\",\"is\",\"jou\",\"jy\",\"kan\",\"kom\",\"ma\",\"maar\",\"met\",\"my\",\"na\",\"nie\",\"om\",\"ons\",\"op\",\"saam\",\"sal\",\"se\",\"sien\",\"so\",\"sy\",\"te\",\"toe\",\"uit\",\"van\",\"vir\",\"was\",\"wat\",\"ŉ\"],\"ha\":[\"a\",\"amma\",\"ba\",\"ban\",\"ce\",\"cikin\",\"da\",\"don\",\"ga\",\"in\",\"ina\",\"ita\",\"ji\",\"ka\",\"ko\",\"kuma\",\"lokacin\",\"ma\",\"mai\",\"na\",\"ne\",\"ni\",\"sai\",\"shi\",\"su\",\"suka\",\"sun\",\"ta\",\"tafi\",\"take\",\"tana\",\"wani\",\"wannan\",\"wata\",\"ya\",\"yake\",\"yana\",\"yi\",\"za\"],\"so\":[\"aad\",\"albaabkii\",\"atabo\",\"ay\",\"ayaa\",\"ayee\",\"ayuu\",\"dhan\",\"hadana\",\"in\",\"inuu\",\"isku\",\"jiray\",\"jirtay\",\"ka\",\"kale\",\"kasoo\",\"ku\",\"kuu\",\"lakin\",\"markii\",\"oo\",\"si\",\"soo\",\"uga\",\"ugu\",\"uu\",\"waa\",\"waxa\",\"waxuu\"],\"st\":[\"a\",\"ba\",\"bane\",\"bona\",\"e\",\"ea\",\"eaba\",\"empa\",\"ena\",\"ha\",\"hae\",\"hape\",\"ho\",\"hore\",\"ka\",\"ke\",\"la\",\"le\",\"li\",\"me\",\"mo\",\"moo\",\"ne\",\"o\",\"oa\",\"re\",\"sa\",\"se\",\"tloha\",\"tsa\",\"tse\"],\"sw\":[\"akasema\",\"alikuwa\",\"alisema\",\"baada\",\"basi\",\"bila\",\"cha\",\"chini\",\"hadi\",\"hapo\",\"hata\",\"hivyo\",\"hiyo\",\"huku\",\"huo\",\"ili\",\"ilikuwa\",\"juu\",\"kama\",\"karibu\",\"katika\",\"kila\",\"kima\",\"kisha\",\"kubwa\",\"kutoka\",\"kuwa\",\"kwa\",\"kwamba\",\"kwenda\",\"kwenye\",\"la\",\"lakini\",\"mara\",\"mdogo\",\"mimi\",\"mkubwa\",\"mmoja\",\"moja\",\"muda\",\"mwenye\",\"na\",\"naye\",\"ndani\",\"ng\",\"ni\",\"nini\",\"nonkungu\",\"pamoja\",\"pia\",\"sana\",\"sasa\",\"sauti\",\"tafadhali\",\"tena\",\"tu\",\"vile\",\"wa\",\"wakati\",\"wake\",\"walikuwa\",\"wao\",\"watu\",\"wengine\",\"wote\",\"ya\",\"yake\",\"yangu\",\"yao\",\"yeye\",\"yule\",\"za\",\"zaidi\",\"zake\"],\"yo\":[\"a\",\"an\",\"bá\",\"bí\",\"bẹ̀rẹ̀\",\"fún\",\"fẹ́\",\"gbogbo\",\"inú\",\"jù\",\"jẹ\",\"jẹ́\",\"kan\",\"kì\",\"kí\",\"kò\",\"láti\",\"lè\",\"lọ\",\"mi\",\"mo\",\"máa\",\"mọ̀\",\"ni\",\"náà\",\"ní\",\"nígbà\",\"nítorí\",\"nǹkan\",\"o\",\"padà\",\"pé\",\"púpọ̀\",\"pẹ̀lú\",\"rẹ̀\",\"sì\",\"sí\",\"sínú\",\"ṣ\",\"ti\",\"tí\",\"wà\",\"wá\",\"wọn\",\"wọ́n\",\"yìí\",\"àti\",\"àwọn\",\"é\",\"í\",\"òun\",\"ó\",\"ń\",\"ńlá\",\"ṣe\",\"ṣé\",\"ṣùgbọ́n\",\"ẹmọ́\",\"ọjọ́\",\"ọ̀pọ̀lọpọ̀\"],\"zu\":[\"futhi\",\"kahle\",\"kakhulu\",\"kanye\",\"khona\",\"kodwa\",\"kungani\",\"kusho\",\"la\",\"lakhe\",\"lapho\",\"mina\",\"ngesikhathi\",\"nje\",\"phansi\",\"phezulu\",\"u\",\"ukuba\",\"ukuthi\",\"ukuze\",\"uma\",\"wahamba\",\"wakhe\",\"wami\",\"wase\",\"wathi\",\"yakhe\",\"zakhe\",\"zonke\"],\"da\":[\"af\",\"alle\",\"andet\",\"andre\",\"at\",\"begge\",\"da\",\"de\",\"den\",\"denne\",\"der\",\"deres\",\"det\",\"dette\",\"dig\",\"din\",\"dog\",\"du\",\"ej\",\"eller\",\"en\",\"end\",\"ene\",\"eneste\",\"enhver\",\"et\",\"fem\",\"fire\",\"flere\",\"fleste\",\"for\",\"fordi\",\"forrige\",\"fra\",\"få\",\"før\",\"god\",\"han\",\"hans\",\"har\",\"hendes\",\"her\",\"hun\",\"hvad\",\"hvem\",\"hver\",\"hvilken\",\"hvis\",\"hvor\",\"hvordan\",\"hvorfor\",\"hvornår\",\"i\",\"ikke\",\"ind\",\"ingen\",\"intet\",\"jeg\",\"jeres\",\"kan\",\"kom\",\"kommer\",\"lav\",\"lidt\",\"lille\",\"man\",\"mand\",\"mange\",\"med\",\"meget\",\"men\",\"mens\",\"mere\",\"mig\",\"ned\",\"ni\",\"nogen\",\"noget\",\"ny\",\"nyt\",\"nær\",\"næste\",\"næsten\",\"og\",\"op\",\"otte\",\"over\",\"på\",\"se\",\"seks\",\"ses\",\"som\",\"stor\",\"store\",\"syv\",\"ti\",\"til\",\"to\",\"tre\",\"ud\",\"var\"],\"de\":[\"Ernst\",\"Ordnung\",\"Schluss\",\"a\",\"ab\",\"aber\",\"ach\",\"acht\",\"achte\",\"achten\",\"achter\",\"achtes\",\"ag\",\"alle\",\"allein\",\"allem\",\"allen\",\"aller\",\"allerdings\",\"alles\",\"allgemeinen\",\"als\",\"also\",\"am\",\"an\",\"andere\",\"anderen\",\"andern\",\"anders\",\"au\",\"auch\",\"auf\",\"aus\",\"ausser\",\"ausserdem\",\"außer\",\"außerdem\",\"b\",\"bald\",\"bei\",\"beide\",\"beiden\",\"beim\",\"beispiel\",\"bekannt\",\"bereits\",\"besonders\",\"besser\",\"besten\",\"bin\",\"bis\",\"bisher\",\"bist\",\"c\",\"d\",\"d.h\",\"da\",\"dabei\",\"dadurch\",\"dafür\",\"dagegen\",\"daher\",\"dahin\",\"dahinter\",\"damals\",\"damit\",\"danach\",\"daneben\",\"dank\",\"dann\",\"daran\",\"darauf\",\"daraus\",\"darf\",\"darfst\",\"darin\",\"darum\",\"darunter\",\"darüber\",\"das\",\"dasein\",\"daselbst\",\"dass\",\"dasselbe\",\"davon\",\"davor\",\"dazu\",\"dazwischen\",\"daß\",\"dein\",\"deine\",\"deinem\",\"deiner\",\"dem\",\"dementsprechend\",\"demgegenüber\",\"demgemäss\",\"demgemäß\",\"demselben\",\"demzufolge\",\"den\",\"denen\",\"denn\",\"denselben\",\"der\",\"deren\",\"derjenige\",\"derjenigen\",\"dermassen\",\"dermaßen\",\"derselbe\",\"derselben\",\"des\",\"deshalb\",\"desselben\",\"dessen\",\"deswegen\",\"dich\",\"die\",\"diejenige\",\"diejenigen\",\"dies\",\"diese\",\"dieselbe\",\"dieselben\",\"diesem\",\"diesen\",\"dieser\",\"dieses\",\"dir\",\"doch\",\"dort\",\"drei\",\"drin\",\"dritte\",\"dritten\",\"dritter\",\"drittes\",\"du\",\"durch\",\"durchaus\",\"durfte\",\"durften\",\"dürfen\",\"dürft\",\"e\",\"eben\",\"ebenso\",\"ehrlich\",\"ei\",\"ei,\",\"eigen\",\"eigene\",\"eigenen\",\"eigener\",\"eigenes\",\"ein\",\"einander\",\"eine\",\"einem\",\"einen\",\"einer\",\"eines\",\"einige\",\"einigen\",\"einiger\",\"einiges\",\"einmal\",\"eins\",\"elf\",\"en\",\"ende\",\"endlich\",\"entweder\",\"er\",\"erst\",\"erste\",\"ersten\",\"erster\",\"erstes\",\"es\",\"etwa\",\"etwas\",\"euch\",\"euer\",\"eure\",\"f\",\"folgende\",\"früher\",\"fünf\",\"fünfte\",\"fünften\",\"fünfter\",\"fünftes\",\"für\",\"g\",\"gab\",\"ganz\",\"ganze\",\"ganzen\",\"ganzer\",\"ganzes\",\"gar\",\"gedurft\",\"gegen\",\"gegenüber\",\"gehabt\",\"gehen\",\"geht\",\"gekannt\",\"gekonnt\",\"gemacht\",\"gemocht\",\"gemusst\",\"genug\",\"gerade\",\"gern\",\"gesagt\",\"geschweige\",\"gewesen\",\"gewollt\",\"geworden\",\"gibt\",\"ging\",\"gleich\",\"gott\",\"gross\",\"grosse\",\"grossen\",\"grosser\",\"grosses\",\"groß\",\"große\",\"großen\",\"großer\",\"großes\",\"gut\",\"gute\",\"guter\",\"gutes\",\"h\",\"habe\",\"haben\",\"habt\",\"hast\",\"hat\",\"hatte\",\"hatten\",\"hattest\",\"hattet\",\"heisst\",\"her\",\"heute\",\"hier\",\"hin\",\"hinter\",\"hoch\",\"hätte\",\"hätten\",\"i\",\"ich\",\"ihm\",\"ihn\",\"ihnen\",\"ihr\",\"ihre\",\"ihrem\",\"ihren\",\"ihrer\",\"ihres\",\"im\",\"immer\",\"in\",\"indem\",\"infolgedessen\",\"ins\",\"irgend\",\"ist\",\"j\",\"ja\",\"jahr\",\"jahre\",\"jahren\",\"je\",\"jede\",\"jedem\",\"jeden\",\"jeder\",\"jedermann\",\"jedermanns\",\"jedes\",\"jedoch\",\"jemand\",\"jemandem\",\"jemanden\",\"jene\",\"jenem\",\"jenen\",\"jener\",\"jenes\",\"jetzt\",\"k\",\"kam\",\"kann\",\"kannst\",\"kaum\",\"kein\",\"keine\",\"keinem\",\"keinen\",\"keiner\",\"kleine\",\"kleinen\",\"kleiner\",\"kleines\",\"kommen\",\"kommt\",\"konnte\",\"konnten\",\"kurz\",\"können\",\"könnt\",\"könnte\",\"l\",\"lang\",\"lange\",\"leicht\",\"leide\",\"lieber\",\"los\",\"m\",\"machen\",\"macht\",\"machte\",\"mag\",\"magst\",\"mahn\",\"mal\",\"man\",\"manche\",\"manchem\",\"manchen\",\"mancher\",\"manches\",\"mann\",\"mehr\",\"mein\",\"meine\",\"meinem\",\"meinen\",\"meiner\",\"meines\",\"mensch\",\"menschen\",\"mich\",\"mir\",\"mit\",\"mittel\",\"mochte\",\"mochten\",\"morgen\",\"muss\",\"musst\",\"musste\",\"mussten\",\"muß\",\"mußt\",\"möchte\",\"mögen\",\"möglich\",\"mögt\",\"müssen\",\"müsst\",\"müßt\",\"n\",\"na\",\"nach\",\"nachdem\",\"nahm\",\"natürlich\",\"neben\",\"nein\",\"neue\",\"neuen\",\"neun\",\"neunte\",\"neunten\",\"neunter\",\"neuntes\",\"nicht\",\"nichts\",\"nie\",\"niemand\",\"niemandem\",\"niemanden\",\"noch\",\"nun\",\"nur\",\"o\",\"ob\",\"oben\",\"oder\",\"offen\",\"oft\",\"ohne\",\"p\",\"q\",\"r\",\"recht\",\"rechte\",\"rechten\",\"rechter\",\"rechtes\",\"richtig\",\"rund\",\"s\",\"sa\",\"sache\",\"sagt\",\"sagte\",\"sah\",\"satt\",\"schlecht\",\"schon\",\"sechs\",\"sechste\",\"sechsten\",\"sechster\",\"sechstes\",\"sehr\",\"sei\",\"seid\",\"seien\",\"sein\",\"seine\",\"seinem\",\"seinen\",\"seiner\",\"seines\",\"seit\",\"seitdem\",\"selbst\",\"sich\",\"sie\",\"sieben\",\"siebente\",\"siebenten\",\"siebenter\",\"siebentes\",\"sind\",\"so\",\"solang\",\"solche\",\"solchem\",\"solchen\",\"solcher\",\"solches\",\"soll\",\"sollen\",\"sollst\",\"sollt\",\"sollte\",\"sollten\",\"sondern\",\"sonst\",\"soweit\",\"sowie\",\"später\",\"startseite\",\"statt\",\"steht\",\"suche\",\"t\",\"tag\",\"tage\",\"tagen\",\"tat\",\"teil\",\"tel\",\"tritt\",\"trotzdem\",\"tun\",\"u\",\"uhr\",\"um\",\"und\",\"und?\",\"uns\",\"unser\",\"unsere\",\"unserer\",\"unter\",\"v\",\"vergangenen\",\"viel\",\"viele\",\"vielem\",\"vielen\",\"vielleicht\",\"vier\",\"vierte\",\"vierten\",\"vierter\",\"viertes\",\"vom\",\"von\",\"vor\",\"w\",\"wahr?\",\"wann\",\"war\",\"waren\",\"wart\",\"warum\",\"was\",\"wegen\",\"weil\",\"weit\",\"weiter\",\"weitere\",\"weiteren\",\"weiteres\",\"welche\",\"welchem\",\"welchen\",\"welcher\",\"welches\",\"wem\",\"wen\",\"wenig\",\"wenige\",\"weniger\",\"weniges\",\"wenigstens\",\"wenn\",\"wer\",\"werde\",\"werden\",\"werdet\",\"weshalb\",\"wessen\",\"wie\",\"wieder\",\"wieso\",\"will\",\"willst\",\"wir\",\"wird\",\"wirklich\",\"wirst\",\"wissen\",\"wo\",\"wohl\",\"wollen\",\"wollt\",\"wollte\",\"wollten\",\"worden\",\"wurde\",\"wurden\",\"während\",\"währenddem\",\"währenddessen\",\"wäre\",\"würde\",\"würden\",\"x\",\"y\",\"z\",\"z.b\",\"zehn\",\"zehnte\",\"zehnten\",\"zehnter\",\"zehntes\",\"zeit\",\"zu\",\"zuerst\",\"zugleich\",\"zum\",\"zunächst\",\"zur\",\"zurück\",\"zusammen\",\"zwanzig\",\"zwar\",\"zwei\",\"zweite\",\"zweiten\",\"zweiter\",\"zweites\",\"zwischen\",\"zwölf\",\"über\",\"überhaupt\",\"übrigens\"],\"es\":[\"a\",\"actualmente\",\"acuerdo\",\"adelante\",\"ademas\",\"además\",\"adrede\",\"afirmó\",\"agregó\",\"ahi\",\"ahora\",\"ahí\",\"al\",\"algo\",\"alguna\",\"algunas\",\"alguno\",\"algunos\",\"algún\",\"alli\",\"allí\",\"alrededor\",\"ambos\",\"ampleamos\",\"antano\",\"antaño\",\"ante\",\"anterior\",\"antes\",\"apenas\",\"aproximadamente\",\"aquel\",\"aquella\",\"aquellas\",\"aquello\",\"aquellos\",\"aqui\",\"aquél\",\"aquélla\",\"aquéllas\",\"aquéllos\",\"aquí\",\"arriba\",\"arribaabajo\",\"aseguró\",\"asi\",\"así\",\"atras\",\"aun\",\"aunque\",\"ayer\",\"añadió\",\"aún\",\"b\",\"bajo\",\"bastante\",\"bien\",\"breve\",\"buen\",\"buena\",\"buenas\",\"bueno\",\"buenos\",\"c\",\"cada\",\"casi\",\"cerca\",\"cierta\",\"ciertas\",\"cierto\",\"ciertos\",\"cinco\",\"claro\",\"comentó\",\"como\",\"con\",\"conmigo\",\"conocer\",\"conseguimos\",\"conseguir\",\"considera\",\"consideró\",\"consigo\",\"consigue\",\"consiguen\",\"consigues\",\"contigo\",\"contra\",\"cosas\",\"creo\",\"cual\",\"cuales\",\"cualquier\",\"cuando\",\"cuanta\",\"cuantas\",\"cuanto\",\"cuantos\",\"cuatro\",\"cuenta\",\"cuál\",\"cuáles\",\"cuándo\",\"cuánta\",\"cuántas\",\"cuánto\",\"cuántos\",\"cómo\",\"d\",\"da\",\"dado\",\"dan\",\"dar\",\"de\",\"debajo\",\"debe\",\"deben\",\"debido\",\"decir\",\"dejó\",\"del\",\"delante\",\"demasiado\",\"demás\",\"dentro\",\"deprisa\",\"desde\",\"despacio\",\"despues\",\"después\",\"detras\",\"detrás\",\"dia\",\"dias\",\"dice\",\"dicen\",\"dicho\",\"dieron\",\"diferente\",\"diferentes\",\"dijeron\",\"dijo\",\"dio\",\"donde\",\"dos\",\"durante\",\"día\",\"días\",\"dónde\",\"e\",\"ejemplo\",\"el\",\"ella\",\"ellas\",\"ello\",\"ellos\",\"embargo\",\"empleais\",\"emplean\",\"emplear\",\"empleas\",\"empleo\",\"en\",\"encima\",\"encuentra\",\"enfrente\",\"enseguida\",\"entonces\",\"entre\",\"era\",\"eramos\",\"eran\",\"eras\",\"eres\",\"es\",\"esa\",\"esas\",\"ese\",\"eso\",\"esos\",\"esta\",\"estaba\",\"estaban\",\"estado\",\"estados\",\"estais\",\"estamos\",\"estan\",\"estar\",\"estará\",\"estas\",\"este\",\"esto\",\"estos\",\"estoy\",\"estuvo\",\"está\",\"están\",\"ex\",\"excepto\",\"existe\",\"existen\",\"explicó\",\"expresó\",\"f\",\"fin\",\"final\",\"fue\",\"fuera\",\"fueron\",\"fui\",\"fuimos\",\"g\",\"general\",\"gran\",\"grandes\",\"gueno\",\"h\",\"ha\",\"haber\",\"habia\",\"habla\",\"hablan\",\"habrá\",\"había\",\"habían\",\"hace\",\"haceis\",\"hacemos\",\"hacen\",\"hacer\",\"hacerlo\",\"haces\",\"hacia\",\"haciendo\",\"hago\",\"han\",\"hasta\",\"hay\",\"haya\",\"he\",\"hecho\",\"hemos\",\"hicieron\",\"hizo\",\"horas\",\"hoy\",\"hubo\",\"i\",\"igual\",\"incluso\",\"indicó\",\"informo\",\"informó\",\"intenta\",\"intentais\",\"intentamos\",\"intentan\",\"intentar\",\"intentas\",\"intento\",\"ir\",\"j\",\"junto\",\"k\",\"l\",\"la\",\"lado\",\"largo\",\"las\",\"le\",\"lejos\",\"les\",\"llegó\",\"lleva\",\"llevar\",\"lo\",\"los\",\"luego\",\"lugar\",\"m\",\"mal\",\"manera\",\"manifestó\",\"mas\",\"mayor\",\"me\",\"mediante\",\"medio\",\"mejor\",\"mencionó\",\"menos\",\"menudo\",\"mi\",\"mia\",\"mias\",\"mientras\",\"mio\",\"mios\",\"mis\",\"misma\",\"mismas\",\"mismo\",\"mismos\",\"modo\",\"momento\",\"mucha\",\"muchas\",\"mucho\",\"muchos\",\"muy\",\"más\",\"mí\",\"mía\",\"mías\",\"mío\",\"míos\",\"n\",\"nada\",\"nadie\",\"ni\",\"ninguna\",\"ningunas\",\"ninguno\",\"ningunos\",\"ningún\",\"no\",\"nos\",\"nosotras\",\"nosotros\",\"nuestra\",\"nuestras\",\"nuestro\",\"nuestros\",\"nueva\",\"nuevas\",\"nuevo\",\"nuevos\",\"nunca\",\"o\",\"ocho\",\"os\",\"otra\",\"otras\",\"otro\",\"otros\",\"p\",\"pais\",\"para\",\"parece\",\"parte\",\"partir\",\"pasada\",\"pasado\",\"paìs\",\"peor\",\"pero\",\"pesar\",\"poca\",\"pocas\",\"poco\",\"pocos\",\"podeis\",\"podemos\",\"poder\",\"podria\",\"podriais\",\"podriamos\",\"podrian\",\"podrias\",\"podrá\",\"podrán\",\"podría\",\"podrían\",\"poner\",\"por\",\"porque\",\"posible\",\"primer\",\"primera\",\"primero\",\"primeros\",\"principalmente\",\"pronto\",\"propia\",\"propias\",\"propio\",\"propios\",\"proximo\",\"próximo\",\"próximos\",\"pudo\",\"pueda\",\"puede\",\"pueden\",\"puedo\",\"pues\",\"q\",\"qeu\",\"que\",\"quedó\",\"queremos\",\"quien\",\"quienes\",\"quiere\",\"quiza\",\"quizas\",\"quizá\",\"quizás\",\"quién\",\"quiénes\",\"qué\",\"r\",\"raras\",\"realizado\",\"realizar\",\"realizó\",\"repente\",\"respecto\",\"s\",\"sabe\",\"sabeis\",\"sabemos\",\"saben\",\"saber\",\"sabes\",\"salvo\",\"se\",\"sea\",\"sean\",\"segun\",\"segunda\",\"segundo\",\"según\",\"seis\",\"ser\",\"sera\",\"será\",\"serán\",\"sería\",\"señaló\",\"si\",\"sido\",\"siempre\",\"siendo\",\"siete\",\"sigue\",\"siguiente\",\"sin\",\"sino\",\"sobre\",\"sois\",\"sola\",\"solamente\",\"solas\",\"solo\",\"solos\",\"somos\",\"son\",\"soy\",\"soyos\",\"su\",\"supuesto\",\"sus\",\"suya\",\"suyas\",\"suyo\",\"sé\",\"sí\",\"sólo\",\"t\",\"tal\",\"tambien\",\"también\",\"tampoco\",\"tan\",\"tanto\",\"tarde\",\"te\",\"temprano\",\"tendrá\",\"tendrán\",\"teneis\",\"tenemos\",\"tener\",\"tenga\",\"tengo\",\"tenido\",\"tenía\",\"tercera\",\"ti\",\"tiempo\",\"tiene\",\"tienen\",\"toda\",\"todas\",\"todavia\",\"todavía\",\"todo\",\"todos\",\"total\",\"trabaja\",\"trabajais\",\"trabajamos\",\"trabajan\",\"trabajar\",\"trabajas\",\"trabajo\",\"tras\",\"trata\",\"través\",\"tres\",\"tu\",\"tus\",\"tuvo\",\"tuya\",\"tuyas\",\"tuyo\",\"tuyos\",\"tú\",\"u\",\"ultimo\",\"un\",\"una\",\"unas\",\"uno\",\"unos\",\"usa\",\"usais\",\"usamos\",\"usan\",\"usar\",\"usas\",\"uso\",\"usted\",\"ustedes\",\"v\",\"va\",\"vais\",\"valor\",\"vamos\",\"van\",\"varias\",\"varios\",\"vaya\",\"veces\",\"ver\",\"verdad\",\"verdadera\",\"verdadero\",\"vez\",\"vosotras\",\"vosotros\",\"voy\",\"vuestra\",\"vuestras\",\"vuestro\",\"vuestros\",\"w\",\"x\",\"y\",\"ya\",\"yo\",\"z\",\"él\",\"ésa\",\"ésas\",\"ése\",\"ésos\",\"ésta\",\"éstas\",\"éste\",\"éstos\",\"última\",\"últimas\",\"último\",\"últimos\"],\"et\":[\"aga\",\"ei\",\"et\",\"ja\",\"jah\",\"kas\",\"kui\",\"kõik\",\"ma\",\"me\",\"mida\",\"midagi\",\"mind\",\"minu\",\"mis\",\"mu\",\"mul\",\"mulle\",\"nad\",\"nii\",\"oled\",\"olen\",\"oli\",\"oma\",\"on\",\"pole\",\"sa\",\"seda\",\"see\",\"selle\",\"siin\",\"siis\",\"ta\",\"te\",\"ära\"],\"fi\":[\"aiemmin\",\"aika\",\"aikaa\",\"aikaan\",\"aikaisemmin\",\"aikaisin\",\"aikajen\",\"aikana\",\"aikoina\",\"aikoo\",\"aikovat\",\"aina\",\"ainakaan\",\"ainakin\",\"ainoa\",\"ainoat\",\"aiomme\",\"aion\",\"aiotte\",\"aist\",\"aivan\",\"ajan\",\"alas\",\"alemmas\",\"alkuisin\",\"alkuun\",\"alla\",\"alle\",\"aloitamme\",\"aloitan\",\"aloitat\",\"aloitatte\",\"aloitattivat\",\"aloitettava\",\"aloitettevaksi\",\"aloitettu\",\"aloitimme\",\"aloitin\",\"aloitit\",\"aloititte\",\"aloittaa\",\"aloittamatta\",\"aloitti\",\"aloittivat\",\"alta\",\"aluksi\",\"alussa\",\"alusta\",\"annettavaksi\",\"annetteva\",\"annettu\",\"ansiosta\",\"antaa\",\"antamatta\",\"antoi\",\"aoua\",\"apu\",\"asia\",\"asiaa\",\"asian\",\"asiasta\",\"asiat\",\"asioiden\",\"asioihin\",\"asioita\",\"asti\",\"avuksi\",\"avulla\",\"avun\",\"avutta\",\"edelle\",\"edelleen\",\"edellä\",\"edeltä\",\"edemmäs\",\"edes\",\"edessä\",\"edestä\",\"ehkä\",\"ei\",\"eikä\",\"eilen\",\"eivät\",\"eli\",\"ellei\",\"elleivät\",\"ellemme\",\"ellen\",\"ellet\",\"ellette\",\"emme\",\"en\",\"enemmän\",\"eniten\",\"ennen\",\"ensi\",\"ensimmäinen\",\"ensimmäiseksi\",\"ensimmäisen\",\"ensimmäisenä\",\"ensimmäiset\",\"ensimmäisiksi\",\"ensimmäisinä\",\"ensimmäisiä\",\"ensimmäistä\",\"ensin\",\"entinen\",\"entisen\",\"entisiä\",\"entisten\",\"entistä\",\"enää\",\"eri\",\"erittäin\",\"erityisesti\",\"eräiden\",\"eräs\",\"eräät\",\"esi\",\"esiin\",\"esillä\",\"esimerkiksi\",\"et\",\"eteen\",\"etenkin\",\"etessa\",\"ette\",\"ettei\",\"että\",\"haikki\",\"halua\",\"haluaa\",\"haluamatta\",\"haluamme\",\"haluan\",\"haluat\",\"haluatte\",\"haluavat\",\"halunnut\",\"halusi\",\"halusimme\",\"halusin\",\"halusit\",\"halusitte\",\"halusivat\",\"halutessa\",\"haluton\",\"he\",\"hei\",\"heidän\",\"heihin\",\"heille\",\"heiltä\",\"heissä\",\"heistä\",\"heitä\",\"helposti\",\"heti\",\"hetkellä\",\"hieman\",\"hitaasti\",\"hoikein\",\"huolimatta\",\"huomenna\",\"hyvien\",\"hyviin\",\"hyviksi\",\"hyville\",\"hyviltä\",\"hyvin\",\"hyvinä\",\"hyvissä\",\"hyvistä\",\"hyviä\",\"hyvä\",\"hyvät\",\"hyvää\",\"hän\",\"häneen\",\"hänelle\",\"hänellä\",\"häneltä\",\"hänen\",\"hänessä\",\"hänestä\",\"hänet\",\"ihan\",\"ilman\",\"ilmeisesti\",\"itse\",\"itsensä\",\"itseään\",\"ja\",\"jo\",\"johon\",\"joiden\",\"joihin\",\"joiksi\",\"joilla\",\"joille\",\"joilta\",\"joissa\",\"joista\",\"joita\",\"joka\",\"jokainen\",\"jokin\",\"joko\",\"joku\",\"jolla\",\"jolle\",\"jolloin\",\"jolta\",\"jompikumpi\",\"jonka\",\"jonkin\",\"jonne\",\"joo\",\"jopa\",\"jos\",\"joskus\",\"jossa\",\"josta\",\"jota\",\"jotain\",\"joten\",\"jotenkin\",\"jotenkuten\",\"jotka\",\"jotta\",\"jouduimme\",\"jouduin\",\"jouduit\",\"jouduitte\",\"joudumme\",\"joudun\",\"joudutte\",\"joukkoon\",\"joukossa\",\"joukosta\",\"joutua\",\"joutui\",\"joutuivat\",\"joutumaan\",\"joutuu\",\"joutuvat\",\"juuri\",\"jälkeen\",\"jälleen\",\"jää\",\"kahdeksan\",\"kahdeksannen\",\"kahdella\",\"kahdelle\",\"kahdelta\",\"kahden\",\"kahdessa\",\"kahdesta\",\"kahta\",\"kahteen\",\"kai\",\"kaiken\",\"kaikille\",\"kaikilta\",\"kaikkea\",\"kaikki\",\"kaikkia\",\"kaikkiaan\",\"kaikkialla\",\"kaikkialle\",\"kaikkialta\",\"kaikkien\",\"kaikkin\",\"kaksi\",\"kannalta\",\"kannattaa\",\"kanssa\",\"kanssaan\",\"kanssamme\",\"kanssani\",\"kanssanne\",\"kanssasi\",\"kauan\",\"kauemmas\",\"kaukana\",\"kautta\",\"kehen\",\"keiden\",\"keihin\",\"keiksi\",\"keille\",\"keillä\",\"keiltä\",\"keinä\",\"keissä\",\"keistä\",\"keitten\",\"keittä\",\"keitä\",\"keneen\",\"keneksi\",\"kenelle\",\"kenellä\",\"keneltä\",\"kenen\",\"kenenä\",\"kenessä\",\"kenestä\",\"kenet\",\"kenettä\",\"kennessästä\",\"kenties\",\"kerran\",\"kerta\",\"kertaa\",\"keskellä\",\"kesken\",\"keskimäärin\",\"ketkä\",\"ketä\",\"kiitos\",\"kohti\",\"koko\",\"kokonaan\",\"kolmas\",\"kolme\",\"kolmen\",\"kolmesti\",\"koska\",\"koskaan\",\"kovin\",\"kuin\",\"kuinka\",\"kuinkan\",\"kuitenkaan\",\"kuitenkin\",\"kuka\",\"kukaan\",\"kukin\",\"kukka\",\"kumpainen\",\"kumpainenkaan\",\"kumpi\",\"kumpikaan\",\"kumpikin\",\"kun\",\"kuten\",\"kuuden\",\"kuusi\",\"kuutta\",\"kylliksi\",\"kyllä\",\"kymmenen\",\"kyse\",\"liian\",\"liki\",\"lisäksi\",\"lisää\",\"lla\",\"luo\",\"luona\",\"lähekkäin\",\"lähelle\",\"lähellä\",\"läheltä\",\"lähemmäs\",\"lähes\",\"lähinnä\",\"lähtien\",\"läpi\",\"mahdollisimman\",\"mahdollista\",\"me\",\"meidän\",\"meille\",\"meillä\",\"melkein\",\"melko\",\"menee\",\"meneet\",\"menemme\",\"menen\",\"menet\",\"menette\",\"menevät\",\"meni\",\"menimme\",\"menin\",\"menit\",\"menivät\",\"mennessä\",\"mennyt\",\"menossa\",\"mihin\",\"mikin\",\"miksi\",\"mikä\",\"mikäli\",\"mikään\",\"milloin\",\"milloinkan\",\"minne\",\"minun\",\"minut\",\"minä\",\"missä\",\"mistä\",\"miten\",\"mitä\",\"mitään\",\"moi\",\"molemmat\",\"mones\",\"monesti\",\"monet\",\"moni\",\"moniaalla\",\"moniaalle\",\"moniaalta\",\"monta\",\"muassa\",\"muiden\",\"muita\",\"muka\",\"mukaan\",\"mukaansa\",\"mukana\",\"mutta\",\"muu\",\"muualla\",\"muualle\",\"muualta\",\"muuanne\",\"muulloin\",\"muun\",\"muut\",\"muuta\",\"muutama\",\"muutaman\",\"muuten\",\"myöhemmin\",\"myös\",\"myöskin\",\"myöskään\",\"myötä\",\"ne\",\"neljä\",\"neljän\",\"neljää\",\"niiden\",\"niin\",\"niistä\",\"niitä\",\"noin\",\"nopeammin\",\"nopeasti\",\"nopeiten\",\"nro\",\"nuo\",\"nyt\",\"näiden\",\"näin\",\"näissä\",\"näissähin\",\"näissälle\",\"näissältä\",\"näissästä\",\"näitä\",\"nämä\",\"ohi\",\"oikea\",\"oikealla\",\"oikein\",\"ole\",\"olemme\",\"olen\",\"olet\",\"olette\",\"oleva\",\"olevan\",\"olevat\",\"oli\",\"olimme\",\"olin\",\"olisi\",\"olisimme\",\"olisin\",\"olisit\",\"olisitte\",\"olisivat\",\"olit\",\"olitte\",\"olivat\",\"olla\",\"olleet\",\"olli\",\"ollut\",\"oma\",\"omaa\",\"omaan\",\"omaksi\",\"omalle\",\"omalta\",\"oman\",\"omassa\",\"omat\",\"omia\",\"omien\",\"omiin\",\"omiksi\",\"omille\",\"omilta\",\"omissa\",\"omista\",\"on\",\"onkin\",\"onko\",\"ovat\",\"paikoittain\",\"paitsi\",\"pakosti\",\"paljon\",\"paremmin\",\"parempi\",\"parhaillaan\",\"parhaiten\",\"perusteella\",\"peräti\",\"pian\",\"pieneen\",\"pieneksi\",\"pienelle\",\"pienellä\",\"pieneltä\",\"pienempi\",\"pienestä\",\"pieni\",\"pienin\",\"puolesta\",\"puolestaan\",\"päälle\",\"runsaasti\",\"saakka\",\"sadam\",\"sama\",\"samaa\",\"samaan\",\"samalla\",\"samallalta\",\"samallassa\",\"samallasta\",\"saman\",\"samat\",\"samoin\",\"sata\",\"sataa\",\"satojen\",\"se\",\"seitsemän\",\"sekä\",\"sen\",\"seuraavat\",\"siellä\",\"sieltä\",\"siihen\",\"siinä\",\"siis\",\"siitä\",\"sijaan\",\"siksi\",\"silloin\",\"sillä\",\"silti\",\"sinne\",\"sinua\",\"sinulle\",\"sinulta\",\"sinun\",\"sinussa\",\"sinusta\",\"sinut\",\"sinä\",\"sisäkkäin\",\"sisällä\",\"siten\",\"sitten\",\"sitä\",\"ssa\",\"sta\",\"suoraan\",\"suuntaan\",\"suuren\",\"suuret\",\"suuri\",\"suuria\",\"suurin\",\"suurten\",\"taa\",\"taas\",\"taemmas\",\"tahansa\",\"tai\",\"takaa\",\"takaisin\",\"takana\",\"takia\",\"tapauksessa\",\"tarpeeksi\",\"tavalla\",\"tavoitteena\",\"te\",\"tietysti\",\"todella\",\"toinen\",\"toisaalla\",\"toisaalle\",\"toisaalta\",\"toiseen\",\"toiseksi\",\"toisella\",\"toiselle\",\"toiselta\",\"toisemme\",\"toisen\",\"toisensa\",\"toisessa\",\"toisesta\",\"toista\",\"toistaiseksi\",\"toki\",\"tosin\",\"tuhannen\",\"tuhat\",\"tule\",\"tulee\",\"tulemme\",\"tulen\",\"tulet\",\"tulette\",\"tulevat\",\"tulimme\",\"tulin\",\"tulisi\",\"tulisimme\",\"tulisin\",\"tulisit\",\"tulisitte\",\"tulisivat\",\"tulit\",\"tulitte\",\"tulivat\",\"tulla\",\"tulleet\",\"tullut\",\"tuntuu\",\"tuo\",\"tuolla\",\"tuolloin\",\"tuolta\",\"tuonne\",\"tuskin\",\"tykö\",\"tähän\",\"tällä\",\"tällöin\",\"tämä\",\"tämän\",\"tänne\",\"tänä\",\"tänään\",\"tässä\",\"tästä\",\"täten\",\"tätä\",\"täysin\",\"täytyvät\",\"täytyy\",\"täällä\",\"täältä\",\"ulkopuolella\",\"usea\",\"useasti\",\"useimmiten\",\"usein\",\"useita\",\"uudeksi\",\"uudelleen\",\"uuden\",\"uudet\",\"uusi\",\"uusia\",\"uusien\",\"uusinta\",\"uuteen\",\"uutta\",\"vaan\",\"vahemmän\",\"vai\",\"vaiheessa\",\"vaikea\",\"vaikean\",\"vaikeat\",\"vaikeilla\",\"vaikeille\",\"vaikeilta\",\"vaikeissa\",\"vaikeista\",\"vaikka\",\"vain\",\"varmasti\",\"varsin\",\"varsinkin\",\"varten\",\"vasen\",\"vasenmalla\",\"vasta\",\"vastaan\",\"vastakkain\",\"vastan\",\"verran\",\"vielä\",\"vierekkäin\",\"vieressä\",\"vieri\",\"viiden\",\"viime\",\"viimeinen\",\"viimeisen\",\"viimeksi\",\"viisi\",\"voi\",\"voidaan\",\"voimme\",\"voin\",\"voisi\",\"voit\",\"voitte\",\"voivat\",\"vuoden\",\"vuoksi\",\"vuosi\",\"vuosien\",\"vuosina\",\"vuotta\",\"vähemmän\",\"vähintään\",\"vähiten\",\"vähän\",\"välillä\",\"yhdeksän\",\"yhden\",\"yhdessä\",\"yhteen\",\"yhteensä\",\"yhteydessä\",\"yhteyteen\",\"yhtä\",\"yhtäälle\",\"yhtäällä\",\"yhtäältä\",\"yhtään\",\"yhä\",\"yksi\",\"yksin\",\"yksittäin\",\"yleensä\",\"ylemmäs\",\"yli\",\"ylös\",\"ympäri\",\"älköön\",\"älä\"],\"fr\":[\"a\",\"abord\",\"absolument\",\"afin\",\"ah\",\"ai\",\"aie\",\"ailleurs\",\"ainsi\",\"ait\",\"allaient\",\"allo\",\"allons\",\"allô\",\"alors\",\"anterieur\",\"anterieure\",\"anterieures\",\"apres\",\"après\",\"as\",\"assez\",\"attendu\",\"au\",\"aucun\",\"aucune\",\"aujourd\",\"aujourd'hui\",\"aupres\",\"auquel\",\"aura\",\"auraient\",\"aurait\",\"auront\",\"aussi\",\"autre\",\"autrefois\",\"autrement\",\"autres\",\"autrui\",\"aux\",\"auxquelles\",\"auxquels\",\"avaient\",\"avais\",\"avait\",\"avant\",\"avec\",\"avoir\",\"avons\",\"ayant\",\"b\",\"bah\",\"bas\",\"basee\",\"bat\",\"beau\",\"beaucoup\",\"bien\",\"bigre\",\"boum\",\"bravo\",\"brrr\",\"c\",\"car\",\"ce\",\"ceci\",\"cela\",\"celle\",\"celle-ci\",\"celle-là\",\"celles\",\"celles-ci\",\"celles-là\",\"celui\",\"celui-ci\",\"celui-là\",\"cent\",\"cependant\",\"certain\",\"certaine\",\"certaines\",\"certains\",\"certes\",\"ces\",\"cet\",\"cette\",\"ceux\",\"ceux-ci\",\"ceux-là\",\"chacun\",\"chacune\",\"chaque\",\"cher\",\"chers\",\"chez\",\"chiche\",\"chut\",\"chère\",\"chères\",\"ci\",\"cinq\",\"cinquantaine\",\"cinquante\",\"cinquantième\",\"cinquième\",\"clac\",\"clic\",\"combien\",\"comme\",\"comment\",\"comparable\",\"comparables\",\"compris\",\"concernant\",\"contre\",\"couic\",\"crac\",\"d\",\"da\",\"dans\",\"de\",\"debout\",\"dedans\",\"dehors\",\"deja\",\"delà\",\"depuis\",\"dernier\",\"derniere\",\"derriere\",\"derrière\",\"des\",\"desormais\",\"desquelles\",\"desquels\",\"dessous\",\"dessus\",\"deux\",\"deuxième\",\"deuxièmement\",\"devant\",\"devers\",\"devra\",\"different\",\"differentes\",\"differents\",\"différent\",\"différente\",\"différentes\",\"différents\",\"dire\",\"directe\",\"directement\",\"dit\",\"dite\",\"dits\",\"divers\",\"diverse\",\"diverses\",\"dix\",\"dix-huit\",\"dix-neuf\",\"dix-sept\",\"dixième\",\"doit\",\"doivent\",\"donc\",\"dont\",\"douze\",\"douzième\",\"dring\",\"du\",\"duquel\",\"durant\",\"dès\",\"désormais\",\"e\",\"effet\",\"egale\",\"egalement\",\"egales\",\"eh\",\"elle\",\"elle-même\",\"elles\",\"elles-mêmes\",\"en\",\"encore\",\"enfin\",\"entre\",\"envers\",\"environ\",\"es\",\"est\",\"et\",\"etant\",\"etc\",\"etre\",\"eu\",\"euh\",\"eux\",\"eux-mêmes\",\"exactement\",\"excepté\",\"extenso\",\"exterieur\",\"f\",\"fais\",\"faisaient\",\"faisant\",\"fait\",\"façon\",\"feront\",\"fi\",\"flac\",\"floc\",\"font\",\"g\",\"gens\",\"h\",\"ha\",\"hein\",\"hem\",\"hep\",\"hi\",\"ho\",\"holà\",\"hop\",\"hormis\",\"hors\",\"hou\",\"houp\",\"hue\",\"hui\",\"huit\",\"huitième\",\"hum\",\"hurrah\",\"hé\",\"hélas\",\"i\",\"il\",\"ils\",\"importe\",\"j\",\"je\",\"jusqu\",\"jusque\",\"juste\",\"k\",\"l\",\"la\",\"laisser\",\"laquelle\",\"las\",\"le\",\"lequel\",\"les\",\"lesquelles\",\"lesquels\",\"leur\",\"leurs\",\"longtemps\",\"lors\",\"lorsque\",\"lui\",\"lui-meme\",\"lui-même\",\"là\",\"lès\",\"m\",\"ma\",\"maint\",\"maintenant\",\"mais\",\"malgre\",\"malgré\",\"maximale\",\"me\",\"meme\",\"memes\",\"merci\",\"mes\",\"mien\",\"mienne\",\"miennes\",\"miens\",\"mille\",\"mince\",\"minimale\",\"moi\",\"moi-meme\",\"moi-même\",\"moindres\",\"moins\",\"mon\",\"moyennant\",\"multiple\",\"multiples\",\"même\",\"mêmes\",\"n\",\"na\",\"naturel\",\"naturelle\",\"naturelles\",\"ne\",\"neanmoins\",\"necessaire\",\"necessairement\",\"neuf\",\"neuvième\",\"ni\",\"nombreuses\",\"nombreux\",\"non\",\"nos\",\"notamment\",\"notre\",\"nous\",\"nous-mêmes\",\"nouveau\",\"nul\",\"néanmoins\",\"nôtre\",\"nôtres\",\"o\",\"oh\",\"ohé\",\"ollé\",\"olé\",\"on\",\"ont\",\"onze\",\"onzième\",\"ore\",\"ou\",\"ouf\",\"ouias\",\"oust\",\"ouste\",\"outre\",\"ouvert\",\"ouverte\",\"ouverts\",\"o|\",\"où\",\"p\",\"paf\",\"pan\",\"par\",\"parce\",\"parfois\",\"parle\",\"parlent\",\"parler\",\"parmi\",\"parseme\",\"partant\",\"particulier\",\"particulière\",\"particulièrement\",\"pas\",\"passé\",\"pendant\",\"pense\",\"permet\",\"personne\",\"peu\",\"peut\",\"peuvent\",\"peux\",\"pff\",\"pfft\",\"pfut\",\"pif\",\"pire\",\"plein\",\"plouf\",\"plus\",\"plusieurs\",\"plutôt\",\"possessif\",\"possessifs\",\"possible\",\"possibles\",\"pouah\",\"pour\",\"pourquoi\",\"pourrais\",\"pourrait\",\"pouvait\",\"prealable\",\"precisement\",\"premier\",\"première\",\"premièrement\",\"pres\",\"probable\",\"probante\",\"procedant\",\"proche\",\"près\",\"psitt\",\"pu\",\"puis\",\"puisque\",\"pur\",\"pure\",\"q\",\"qu\",\"quand\",\"quant\",\"quant-à-soi\",\"quanta\",\"quarante\",\"quatorze\",\"quatre\",\"quatre-vingt\",\"quatrième\",\"quatrièmement\",\"que\",\"quel\",\"quelconque\",\"quelle\",\"quelles\",\"quelqu'un\",\"quelque\",\"quelques\",\"quels\",\"qui\",\"quiconque\",\"quinze\",\"quoi\",\"quoique\",\"r\",\"rare\",\"rarement\",\"rares\",\"relative\",\"relativement\",\"remarquable\",\"rend\",\"rendre\",\"restant\",\"reste\",\"restent\",\"restrictif\",\"retour\",\"revoici\",\"revoilà\",\"rien\",\"s\",\"sa\",\"sacrebleu\",\"sait\",\"sans\",\"sapristi\",\"sauf\",\"se\",\"sein\",\"seize\",\"selon\",\"semblable\",\"semblaient\",\"semble\",\"semblent\",\"sent\",\"sept\",\"septième\",\"sera\",\"seraient\",\"serait\",\"seront\",\"ses\",\"seul\",\"seule\",\"seulement\",\"si\",\"sien\",\"sienne\",\"siennes\",\"siens\",\"sinon\",\"six\",\"sixième\",\"soi\",\"soi-même\",\"soit\",\"soixante\",\"son\",\"sont\",\"sous\",\"souvent\",\"specifique\",\"specifiques\",\"speculatif\",\"stop\",\"strictement\",\"subtiles\",\"suffisant\",\"suffisante\",\"suffit\",\"suis\",\"suit\",\"suivant\",\"suivante\",\"suivantes\",\"suivants\",\"suivre\",\"superpose\",\"sur\",\"surtout\",\"t\",\"ta\",\"tac\",\"tant\",\"tardive\",\"te\",\"tel\",\"telle\",\"tellement\",\"telles\",\"tels\",\"tenant\",\"tend\",\"tenir\",\"tente\",\"tes\",\"tic\",\"tien\",\"tienne\",\"tiennes\",\"tiens\",\"toc\",\"toi\",\"toi-même\",\"ton\",\"touchant\",\"toujours\",\"tous\",\"tout\",\"toute\",\"toutefois\",\"toutes\",\"treize\",\"trente\",\"tres\",\"trois\",\"troisième\",\"troisièmement\",\"trop\",\"très\",\"tsoin\",\"tsouin\",\"tu\",\"té\",\"u\",\"un\",\"une\",\"unes\",\"uniformement\",\"unique\",\"uniques\",\"uns\",\"v\",\"va\",\"vais\",\"vas\",\"vers\",\"via\",\"vif\",\"vifs\",\"vingt\",\"vivat\",\"vive\",\"vives\",\"vlan\",\"voici\",\"voilà\",\"vont\",\"vos\",\"votre\",\"vous\",\"vous-mêmes\",\"vu\",\"vé\",\"vôtre\",\"vôtres\",\"w\",\"x\",\"y\",\"z\",\"zut\",\"à\",\"â\",\"ça\",\"ès\",\"étaient\",\"étais\",\"était\",\"étant\",\"été\",\"être\",\"ô\"],\"hr\":[\"a\",\"ako\",\"ali\",\"bi\",\"bih\",\"bila\",\"bili\",\"bilo\",\"bio\",\"bismo\",\"biste\",\"biti\",\"bumo\",\"da\",\"do\",\"duž\",\"ga\",\"hoće\",\"hoćemo\",\"hoćete\",\"hoćeš\",\"hoću\",\"i\",\"iako\",\"ih\",\"ili\",\"iz\",\"ja\",\"je\",\"jedna\",\"jedne\",\"jedno\",\"jer\",\"jesam\",\"jesi\",\"jesmo\",\"jest\",\"jeste\",\"jesu\",\"jim\",\"joj\",\"još\",\"ju\",\"kada\",\"kako\",\"kao\",\"koja\",\"koje\",\"koji\",\"kojima\",\"koju\",\"kroz\",\"li\",\"me\",\"mene\",\"meni\",\"mi\",\"mimo\",\"moj\",\"moja\",\"moje\",\"mu\",\"na\",\"nad\",\"nakon\",\"nam\",\"nama\",\"nas\",\"naš\",\"naša\",\"naše\",\"našeg\",\"ne\",\"nego\",\"neka\",\"neki\",\"nekog\",\"neku\",\"nema\",\"netko\",\"neće\",\"nećemo\",\"nećete\",\"nećeš\",\"neću\",\"nešto\",\"ni\",\"nije\",\"nikoga\",\"nikoje\",\"nikoju\",\"nisam\",\"nisi\",\"nismo\",\"niste\",\"nisu\",\"njega\",\"njegov\",\"njegova\",\"njegovo\",\"njemu\",\"njezin\",\"njezina\",\"njezino\",\"njih\",\"njihov\",\"njihova\",\"njihovo\",\"njim\",\"njima\",\"njoj\",\"nju\",\"no\",\"o\",\"od\",\"odmah\",\"on\",\"ona\",\"oni\",\"ono\",\"ova\",\"pa\",\"pak\",\"po\",\"pod\",\"pored\",\"prije\",\"s\",\"sa\",\"sam\",\"samo\",\"se\",\"sebe\",\"sebi\",\"si\",\"smo\",\"ste\",\"su\",\"sve\",\"svi\",\"svog\",\"svoj\",\"svoja\",\"svoje\",\"svom\",\"ta\",\"tada\",\"taj\",\"tako\",\"te\",\"tebe\",\"tebi\",\"ti\",\"to\",\"toj\",\"tome\",\"tu\",\"tvoj\",\"tvoja\",\"tvoje\",\"u\",\"uz\",\"vam\",\"vama\",\"vas\",\"vaš\",\"vaša\",\"vaše\",\"već\",\"vi\",\"vrlo\",\"za\",\"zar\",\"će\",\"ćemo\",\"ćete\",\"ćeš\",\"ću\",\"što\"],\"hu\":[\"a\",\"abba\",\"abban\",\"abból\",\"addig\",\"ahhoz\",\"ahogy\",\"ahol\",\"aki\",\"akik\",\"akkor\",\"akár\",\"alapján\",\"alatt\",\"alatta\",\"alattad\",\"alattam\",\"alattatok\",\"alattuk\",\"alattunk\",\"alá\",\"alád\",\"alájuk\",\"alám\",\"alánk\",\"alátok\",\"alól\",\"alóla\",\"alólad\",\"alólam\",\"alólatok\",\"alóluk\",\"alólunk\",\"amely\",\"amelybol\",\"amelyek\",\"amelyekben\",\"amelyeket\",\"amelyet\",\"amelyik\",\"amelynek\",\"ami\",\"amikor\",\"amit\",\"amolyan\",\"amott\",\"amíg\",\"annak\",\"annál\",\"arra\",\"arról\",\"attól\",\"az\",\"aznap\",\"azok\",\"azokat\",\"azokba\",\"azokban\",\"azokból\",\"azokhoz\",\"azokig\",\"azokkal\",\"azokká\",\"azoknak\",\"azoknál\",\"azokon\",\"azokra\",\"azokról\",\"azoktól\",\"azokért\",\"azon\",\"azonban\",\"azonnal\",\"azt\",\"aztán\",\"azután\",\"azzal\",\"azzá\",\"azért\",\"bal\",\"balra\",\"ban\",\"be\",\"belé\",\"beléd\",\"beléjük\",\"belém\",\"belénk\",\"belétek\",\"belül\",\"belőle\",\"belőled\",\"belőlem\",\"belőletek\",\"belőlük\",\"belőlünk\",\"ben\",\"benne\",\"benned\",\"bennem\",\"bennetek\",\"bennük\",\"bennünk\",\"bár\",\"bárcsak\",\"bármilyen\",\"búcsú\",\"cikk\",\"cikkek\",\"cikkeket\",\"csak\",\"csakhogy\",\"csupán\",\"de\",\"dehogy\",\"e\",\"ebbe\",\"ebben\",\"ebből\",\"eddig\",\"egy\",\"egyebek\",\"egyebet\",\"egyedül\",\"egyelőre\",\"egyes\",\"egyet\",\"egyetlen\",\"egyik\",\"egymás\",\"egyre\",\"egyszerre\",\"egyéb\",\"együtt\",\"egész\",\"egészen\",\"ehhez\",\"ekkor\",\"el\",\"eleinte\",\"ellen\",\"ellenes\",\"elleni\",\"ellenére\",\"elmondta\",\"első\",\"elsők\",\"elsősorban\",\"elsőt\",\"elé\",\"eléd\",\"elég\",\"eléjük\",\"elém\",\"elénk\",\"elétek\",\"elő\",\"előbb\",\"elől\",\"előle\",\"előled\",\"előlem\",\"előletek\",\"előlük\",\"előlünk\",\"először\",\"előtt\",\"előtte\",\"előtted\",\"előttem\",\"előttetek\",\"előttük\",\"előttünk\",\"előző\",\"emilyen\",\"engem\",\"ennek\",\"ennyi\",\"ennél\",\"enyém\",\"erre\",\"erről\",\"esetben\",\"ettől\",\"ez\",\"ezek\",\"ezekbe\",\"ezekben\",\"ezekből\",\"ezeken\",\"ezeket\",\"ezekhez\",\"ezekig\",\"ezekkel\",\"ezekké\",\"ezeknek\",\"ezeknél\",\"ezekre\",\"ezekről\",\"ezektől\",\"ezekért\",\"ezen\",\"ezentúl\",\"ezer\",\"ezret\",\"ezt\",\"ezután\",\"ezzel\",\"ezzé\",\"ezért\",\"fel\",\"fele\",\"felek\",\"felet\",\"felett\",\"felé\",\"fent\",\"fenti\",\"fél\",\"fölé\",\"gyakran\",\"ha\",\"halló\",\"hamar\",\"hanem\",\"harmadik\",\"harmadikat\",\"harminc\",\"hat\",\"hatodik\",\"hatodikat\",\"hatot\",\"hatvan\",\"helyett\",\"hetedik\",\"hetediket\",\"hetet\",\"hetven\",\"hirtelen\",\"hiszen\",\"hiába\",\"hogy\",\"hogyan\",\"hol\",\"holnap\",\"holnapot\",\"honnan\",\"hova\",\"hozzá\",\"hozzád\",\"hozzájuk\",\"hozzám\",\"hozzánk\",\"hozzátok\",\"hurrá\",\"huszadik\",\"hány\",\"hányszor\",\"hármat\",\"három\",\"hát\",\"hátha\",\"hátulsó\",\"hét\",\"húsz\",\"ide\",\"ide-оda\",\"idén\",\"igazán\",\"igen\",\"ill\",\"illetve\",\"ilyen\",\"ilyenkor\",\"immár\",\"inkább\",\"is\",\"ismét\",\"ison\",\"itt\",\"jelenleg\",\"jobban\",\"jobbra\",\"jó\",\"jól\",\"jólesik\",\"jóval\",\"jövőre\",\"kell\",\"kellene\",\"kellett\",\"kelljen\",\"keressünk\",\"keresztül\",\"ketten\",\"kettő\",\"kettőt\",\"kevés\",\"ki\",\"kiben\",\"kiből\",\"kicsit\",\"kicsoda\",\"kihez\",\"kik\",\"kikbe\",\"kikben\",\"kikből\",\"kiken\",\"kiket\",\"kikhez\",\"kikkel\",\"kikké\",\"kiknek\",\"kiknél\",\"kikre\",\"kikről\",\"kiktől\",\"kikért\",\"kilenc\",\"kilencedik\",\"kilencediket\",\"kilencet\",\"kilencven\",\"kin\",\"kinek\",\"kinél\",\"kire\",\"kiről\",\"kit\",\"kitől\",\"kivel\",\"kivé\",\"kié\",\"kiért\",\"korábban\",\"képest\",\"kérem\",\"kérlek\",\"kész\",\"késő\",\"később\",\"későn\",\"két\",\"kétszer\",\"kívül\",\"körül\",\"köszönhetően\",\"köszönöm\",\"közben\",\"közel\",\"közepesen\",\"közepén\",\"közé\",\"között\",\"közül\",\"külön\",\"különben\",\"különböző\",\"különbözőbb\",\"különbözőek\",\"lassan\",\"le\",\"legalább\",\"legyen\",\"lehet\",\"lehetetlen\",\"lehetett\",\"lehetőleg\",\"lehetőség\",\"lenne\",\"lenni\",\"lennék\",\"lennének\",\"lesz\",\"leszek\",\"lesznek\",\"leszünk\",\"lett\",\"lettek\",\"lettem\",\"lettünk\",\"lévő\",\"ma\",\"maga\",\"magad\",\"magam\",\"magatokat\",\"magukat\",\"magunkat\",\"magát\",\"mai\",\"majd\",\"majdnem\",\"manapság\",\"meg\",\"megcsinál\",\"megcsinálnak\",\"megint\",\"megvan\",\"mellett\",\"mellette\",\"melletted\",\"mellettem\",\"mellettetek\",\"mellettük\",\"mellettünk\",\"mellé\",\"melléd\",\"melléjük\",\"mellém\",\"mellénk\",\"mellétek\",\"mellől\",\"mellőle\",\"mellőled\",\"mellőlem\",\"mellőletek\",\"mellőlük\",\"mellőlünk\",\"mely\",\"melyek\",\"melyik\",\"mennyi\",\"mert\",\"mi\",\"miatt\",\"miatta\",\"miattad\",\"miattam\",\"miattatok\",\"miattuk\",\"miattunk\",\"mibe\",\"miben\",\"miből\",\"mihez\",\"mik\",\"mikbe\",\"mikben\",\"mikből\",\"miken\",\"miket\",\"mikhez\",\"mikkel\",\"mikké\",\"miknek\",\"miknél\",\"mikor\",\"mikre\",\"mikről\",\"miktől\",\"mikért\",\"milyen\",\"min\",\"mind\",\"mindegyik\",\"mindegyiket\",\"minden\",\"mindenesetre\",\"mindenki\",\"mindent\",\"mindenütt\",\"mindig\",\"mindketten\",\"minek\",\"minket\",\"mint\",\"mintha\",\"minél\",\"mire\",\"miről\",\"mit\",\"mitől\",\"mivel\",\"mivé\",\"miért\",\"mondta\",\"most\",\"mostanáig\",\"már\",\"más\",\"másik\",\"másikat\",\"másnap\",\"második\",\"másodszor\",\"mások\",\"másokat\",\"mást\",\"még\",\"mégis\",\"míg\",\"mögé\",\"mögéd\",\"mögéjük\",\"mögém\",\"mögénk\",\"mögétek\",\"mögött\",\"mögötte\",\"mögötted\",\"mögöttem\",\"mögöttetek\",\"mögöttük\",\"mögöttünk\",\"mögül\",\"mögüle\",\"mögüled\",\"mögülem\",\"mögületek\",\"mögülük\",\"mögülünk\",\"múltkor\",\"múlva\",\"na\",\"nagy\",\"nagyobb\",\"nagyon\",\"naponta\",\"napot\",\"ne\",\"negyedik\",\"negyediket\",\"negyven\",\"neked\",\"nekem\",\"neki\",\"nekik\",\"nektek\",\"nekünk\",\"nem\",\"nemcsak\",\"nemrég\",\"nincs\",\"nyolc\",\"nyolcadik\",\"nyolcadikat\",\"nyolcat\",\"nyolcvan\",\"nála\",\"nálad\",\"nálam\",\"nálatok\",\"náluk\",\"nálunk\",\"négy\",\"négyet\",\"néha\",\"néhány\",\"nélkül\",\"o\",\"oda\",\"ok\",\"olyan\",\"onnan\",\"ott\",\"pedig\",\"persze\",\"pár\",\"például\",\"rajta\",\"rajtad\",\"rajtam\",\"rajtatok\",\"rajtuk\",\"rajtunk\",\"rendben\",\"rosszul\",\"rá\",\"rád\",\"rájuk\",\"rám\",\"ránk\",\"rátok\",\"régen\",\"régóta\",\"részére\",\"róla\",\"rólad\",\"rólam\",\"rólatok\",\"róluk\",\"rólunk\",\"rögtön\",\"s\",\"saját\",\"se\",\"sem\",\"semmi\",\"semmilyen\",\"semmiség\",\"senki\",\"soha\",\"sok\",\"sokan\",\"sokat\",\"sokkal\",\"sokszor\",\"sokáig\",\"során\",\"stb.\",\"szemben\",\"szerbusz\",\"szerint\",\"szerinte\",\"szerinted\",\"szerintem\",\"szerintetek\",\"szerintük\",\"szerintünk\",\"szervusz\",\"szinte\",\"számára\",\"száz\",\"századik\",\"százat\",\"szépen\",\"szét\",\"szíves\",\"szívesen\",\"szíveskedjék\",\"sőt\",\"talán\",\"tavaly\",\"te\",\"tegnap\",\"tegnapelőtt\",\"tehát\",\"tele\",\"teljes\",\"tessék\",\"ti\",\"tied\",\"titeket\",\"tizedik\",\"tizediket\",\"tizenegy\",\"tizenegyedik\",\"tizenhat\",\"tizenhárom\",\"tizenhét\",\"tizenkettedik\",\"tizenkettő\",\"tizenkilenc\",\"tizenkét\",\"tizennyolc\",\"tizennégy\",\"tizenöt\",\"tizet\",\"tovább\",\"további\",\"továbbá\",\"távol\",\"téged\",\"tényleg\",\"tíz\",\"több\",\"többi\",\"többször\",\"túl\",\"tőle\",\"tőled\",\"tőlem\",\"tőletek\",\"tőlük\",\"tőlünk\",\"ugyanakkor\",\"ugyanez\",\"ugyanis\",\"ugye\",\"urak\",\"uram\",\"urat\",\"utoljára\",\"utolsó\",\"után\",\"utána\",\"vagy\",\"vagyis\",\"vagyok\",\"vagytok\",\"vagyunk\",\"vajon\",\"valahol\",\"valaki\",\"valakit\",\"valamelyik\",\"valami\",\"valamint\",\"való\",\"van\",\"vannak\",\"vele\",\"veled\",\"velem\",\"veletek\",\"velük\",\"velünk\",\"vissza\",\"viszlát\",\"viszont\",\"viszontlátásra\",\"volna\",\"volnának\",\"volnék\",\"volt\",\"voltak\",\"voltam\",\"voltunk\",\"végre\",\"végén\",\"végül\",\"által\",\"általában\",\"ám\",\"át\",\"éljen\",\"én\",\"éppen\",\"érte\",\"érted\",\"értem\",\"értetek\",\"értük\",\"értünk\",\"és\",\"év\",\"évben\",\"éve\",\"évek\",\"éves\",\"évi\",\"évvel\",\"így\",\"óta\",\"ön\",\"önbe\",\"önben\",\"önből\",\"önhöz\",\"önnek\",\"önnel\",\"önnél\",\"önre\",\"önről\",\"önt\",\"öntől\",\"önért\",\"önök\",\"önökbe\",\"önökben\",\"önökből\",\"önöket\",\"önökhöz\",\"önökkel\",\"önöknek\",\"önöknél\",\"önökre\",\"önökről\",\"önöktől\",\"önökért\",\"önökön\",\"önön\",\"össze\",\"öt\",\"ötven\",\"ötödik\",\"ötödiket\",\"ötöt\",\"úgy\",\"úgyis\",\"úgynevezett\",\"új\",\"újabb\",\"újra\",\"úr\",\"ő\",\"ők\",\"őket\",\"őt\"],\"it\":[\"IE\",\"a\",\"abbastanza\",\"abbia\",\"abbiamo\",\"abbiano\",\"abbiate\",\"accidenti\",\"ad\",\"adesso\",\"affinche\",\"agl\",\"agli\",\"ahime\",\"ahimè\",\"ai\",\"al\",\"alcuna\",\"alcuni\",\"alcuno\",\"all\",\"alla\",\"alle\",\"allo\",\"allora\",\"altri\",\"altrimenti\",\"altro\",\"altrove\",\"altrui\",\"anche\",\"ancora\",\"anni\",\"anno\",\"ansa\",\"anticipo\",\"assai\",\"attesa\",\"attraverso\",\"avanti\",\"avemmo\",\"avendo\",\"avente\",\"aver\",\"avere\",\"averlo\",\"avesse\",\"avessero\",\"avessi\",\"avessimo\",\"aveste\",\"avesti\",\"avete\",\"aveva\",\"avevamo\",\"avevano\",\"avevate\",\"avevi\",\"avevo\",\"avrai\",\"avranno\",\"avrebbe\",\"avrebbero\",\"avrei\",\"avremmo\",\"avremo\",\"avreste\",\"avresti\",\"avrete\",\"avrà\",\"avrò\",\"avuta\",\"avute\",\"avuti\",\"avuto\",\"basta\",\"bene\",\"benissimo\",\"berlusconi\",\"brava\",\"bravo\",\"c\",\"casa\",\"caso\",\"cento\",\"certa\",\"certe\",\"certi\",\"certo\",\"che\",\"chi\",\"chicchessia\",\"chiunque\",\"ci\",\"ciascuna\",\"ciascuno\",\"cima\",\"cio\",\"cioe\",\"cioè\",\"circa\",\"citta\",\"città\",\"ciò\",\"co\",\"codesta\",\"codesti\",\"codesto\",\"cogli\",\"coi\",\"col\",\"colei\",\"coll\",\"coloro\",\"colui\",\"come\",\"cominci\",\"comunque\",\"con\",\"concernente\",\"conciliarsi\",\"conclusione\",\"consiglio\",\"contro\",\"cortesia\",\"cos\",\"cosa\",\"cosi\",\"così\",\"cui\",\"d\",\"da\",\"dagl\",\"dagli\",\"dai\",\"dal\",\"dall\",\"dalla\",\"dalle\",\"dallo\",\"dappertutto\",\"davanti\",\"degl\",\"degli\",\"dei\",\"del\",\"dell\",\"della\",\"delle\",\"dello\",\"dentro\",\"detto\",\"deve\",\"di\",\"dice\",\"dietro\",\"dire\",\"dirimpetto\",\"diventa\",\"diventare\",\"diventato\",\"dopo\",\"dov\",\"dove\",\"dovra\",\"dovrà\",\"dovunque\",\"due\",\"dunque\",\"durante\",\"e\",\"ebbe\",\"ebbero\",\"ebbi\",\"ecc\",\"ecco\",\"ed\",\"effettivamente\",\"egli\",\"ella\",\"entrambi\",\"eppure\",\"era\",\"erano\",\"eravamo\",\"eravate\",\"eri\",\"ero\",\"esempio\",\"esse\",\"essendo\",\"esser\",\"essere\",\"essi\",\"ex\",\"fa\",\"faccia\",\"facciamo\",\"facciano\",\"facciate\",\"faccio\",\"facemmo\",\"facendo\",\"facesse\",\"facessero\",\"facessi\",\"facessimo\",\"faceste\",\"facesti\",\"faceva\",\"facevamo\",\"facevano\",\"facevate\",\"facevi\",\"facevo\",\"fai\",\"fanno\",\"farai\",\"faranno\",\"fare\",\"farebbe\",\"farebbero\",\"farei\",\"faremmo\",\"faremo\",\"fareste\",\"faresti\",\"farete\",\"farà\",\"farò\",\"fatto\",\"favore\",\"fece\",\"fecero\",\"feci\",\"fin\",\"finalmente\",\"finche\",\"fine\",\"fino\",\"forse\",\"forza\",\"fosse\",\"fossero\",\"fossi\",\"fossimo\",\"foste\",\"fosti\",\"fra\",\"frattempo\",\"fu\",\"fui\",\"fummo\",\"fuori\",\"furono\",\"futuro\",\"generale\",\"gia\",\"giacche\",\"giorni\",\"giorno\",\"già\",\"gli\",\"gliela\",\"gliele\",\"glieli\",\"glielo\",\"gliene\",\"governo\",\"grande\",\"grazie\",\"gruppo\",\"ha\",\"haha\",\"hai\",\"hanno\",\"ho\",\"i\",\"ieri\",\"il\",\"improvviso\",\"in\",\"inc\",\"infatti\",\"inoltre\",\"insieme\",\"intanto\",\"intorno\",\"invece\",\"io\",\"l\",\"la\",\"lasciato\",\"lato\",\"lavoro\",\"le\",\"lei\",\"li\",\"lo\",\"lontano\",\"loro\",\"lui\",\"lungo\",\"luogo\",\"là\",\"ma\",\"macche\",\"magari\",\"maggior\",\"mai\",\"male\",\"malgrado\",\"malissimo\",\"mancanza\",\"marche\",\"me\",\"medesimo\",\"mediante\",\"meglio\",\"meno\",\"mentre\",\"mesi\",\"mezzo\",\"mi\",\"mia\",\"mie\",\"miei\",\"mila\",\"miliardi\",\"milioni\",\"minimi\",\"ministro\",\"mio\",\"modo\",\"molti\",\"moltissimo\",\"molto\",\"momento\",\"mondo\",\"mosto\",\"nazionale\",\"ne\",\"negl\",\"negli\",\"nei\",\"nel\",\"nell\",\"nella\",\"nelle\",\"nello\",\"nemmeno\",\"neppure\",\"nessun\",\"nessuna\",\"nessuno\",\"niente\",\"no\",\"noi\",\"non\",\"nondimeno\",\"nonostante\",\"nonsia\",\"nostra\",\"nostre\",\"nostri\",\"nostro\",\"novanta\",\"nove\",\"nulla\",\"nuovo\",\"o\",\"od\",\"oggi\",\"ogni\",\"ognuna\",\"ognuno\",\"oltre\",\"oppure\",\"ora\",\"ore\",\"osi\",\"ossia\",\"ottanta\",\"otto\",\"paese\",\"parecchi\",\"parecchie\",\"parecchio\",\"parte\",\"partendo\",\"peccato\",\"peggio\",\"per\",\"perche\",\"perchè\",\"perché\",\"percio\",\"perciò\",\"perfino\",\"pero\",\"persino\",\"persone\",\"però\",\"piedi\",\"pieno\",\"piglia\",\"piu\",\"piuttosto\",\"più\",\"po\",\"pochissimo\",\"poco\",\"poi\",\"poiche\",\"possa\",\"possedere\",\"posteriore\",\"posto\",\"potrebbe\",\"preferibilmente\",\"presa\",\"press\",\"prima\",\"primo\",\"principalmente\",\"probabilmente\",\"proprio\",\"puo\",\"pure\",\"purtroppo\",\"può\",\"qualche\",\"qualcosa\",\"qualcuna\",\"qualcuno\",\"quale\",\"quali\",\"qualunque\",\"quando\",\"quanta\",\"quante\",\"quanti\",\"quanto\",\"quantunque\",\"quasi\",\"quattro\",\"quel\",\"quella\",\"quelle\",\"quelli\",\"quello\",\"quest\",\"questa\",\"queste\",\"questi\",\"questo\",\"qui\",\"quindi\",\"realmente\",\"recente\",\"recentemente\",\"registrazione\",\"relativo\",\"riecco\",\"salvo\",\"sara\",\"sarai\",\"saranno\",\"sarebbe\",\"sarebbero\",\"sarei\",\"saremmo\",\"saremo\",\"sareste\",\"saresti\",\"sarete\",\"sarà\",\"sarò\",\"scola\",\"scopo\",\"scorso\",\"se\",\"secondo\",\"seguente\",\"seguito\",\"sei\",\"sembra\",\"sembrare\",\"sembrato\",\"sembri\",\"sempre\",\"senza\",\"sette\",\"si\",\"sia\",\"siamo\",\"siano\",\"siate\",\"siete\",\"sig\",\"solito\",\"solo\",\"soltanto\",\"sono\",\"sopra\",\"sotto\",\"spesso\",\"srl\",\"sta\",\"stai\",\"stando\",\"stanno\",\"starai\",\"staranno\",\"starebbe\",\"starebbero\",\"starei\",\"staremmo\",\"staremo\",\"stareste\",\"staresti\",\"starete\",\"starà\",\"starò\",\"stata\",\"state\",\"stati\",\"stato\",\"stava\",\"stavamo\",\"stavano\",\"stavate\",\"stavi\",\"stavo\",\"stemmo\",\"stessa\",\"stesse\",\"stessero\",\"stessi\",\"stessimo\",\"stesso\",\"steste\",\"stesti\",\"stette\",\"stettero\",\"stetti\",\"stia\",\"stiamo\",\"stiano\",\"stiate\",\"sto\",\"su\",\"sua\",\"subito\",\"successivamente\",\"successivo\",\"sue\",\"sugl\",\"sugli\",\"sui\",\"sul\",\"sull\",\"sulla\",\"sulle\",\"sullo\",\"suo\",\"suoi\",\"tale\",\"tali\",\"talvolta\",\"tanto\",\"te\",\"tempo\",\"ti\",\"titolo\",\"torino\",\"tra\",\"tranne\",\"tre\",\"trenta\",\"troppo\",\"trovato\",\"tu\",\"tua\",\"tue\",\"tuo\",\"tuoi\",\"tutta\",\"tuttavia\",\"tutte\",\"tutti\",\"tutto\",\"uguali\",\"ulteriore\",\"ultimo\",\"un\",\"una\",\"uno\",\"uomo\",\"va\",\"vale\",\"vari\",\"varia\",\"varie\",\"vario\",\"verso\",\"vi\",\"via\",\"vicino\",\"visto\",\"vita\",\"voi\",\"volta\",\"volte\",\"vostra\",\"vostre\",\"vostri\",\"vostro\",\"è\"],\"ko\":[\"!\",\"\\\"\",\"$\",\"%\",\"&\",\"'\",\"(\",\")\",\"*\",\"+\",\",\",\"-\",\".\",\"...\",\"0\",\"1\",\"2\",\"3\",\"4\",\"5\",\"6\",\"7\",\"8\",\"9\",\";\",\"<\",\"=\",\">\",\"?\",\"@\",\"\\\\\",\"^\",\"_\",\"`\",\"|\",\"~\",\"·\",\"—\",\"——\",\"‘\",\"’\",\"“\",\"”\",\"…\",\"、\",\"。\",\"〈\",\"〉\",\"《\",\"》\",\"가\",\"가까스로\",\"가령\",\"각\",\"각각\",\"각자\",\"각종\",\"갖고말하자면\",\"같다\",\"같이\",\"개의치않고\",\"거니와\",\"거바\",\"거의\",\"것\",\"것과 같이\",\"것들\",\"게다가\",\"게우다\",\"겨우\",\"견지에서\",\"결과에 이르다\",\"결국\",\"결론을 낼 수 있다\",\"겸사겸사\",\"고려하면\",\"고로\",\"곧\",\"공동으로\",\"과\",\"과연\",\"관계가 있다\",\"관계없이\",\"관련이 있다\",\"관하여\",\"관한\",\"관해서는\",\"구\",\"구체적으로\",\"구토하다\",\"그\",\"그들\",\"그때\",\"그래\",\"그래도\",\"그래서\",\"그러나\",\"그러니\",\"그러니까\",\"그러면\",\"그러므로\",\"그러한즉\",\"그런 까닭에\",\"그런데\",\"그런즉\",\"그럼\",\"그럼에도 불구하고\",\"그렇게 함으로써\",\"그렇지\",\"그렇지 않다면\",\"그렇지 않으면\",\"그렇지만\",\"그렇지않으면\",\"그리고\",\"그리하여\",\"그만이다\",\"그에 따르는\",\"그위에\",\"그저\",\"그중에서\",\"그치지 않다\",\"근거로\",\"근거하여\",\"기대여\",\"기점으로\",\"기준으로\",\"기타\",\"까닭으로\",\"까악\",\"까지\",\"까지 미치다\",\"까지도\",\"꽈당\",\"끙끙\",\"끼익\",\"나\",\"나머지는\",\"남들\",\"남짓\",\"너\",\"너희\",\"너희들\",\"네\",\"넷\",\"년\",\"논하지 않다\",\"놀라다\",\"누가 알겠는가\",\"누구\",\"다른\",\"다른 방면으로\",\"다만\",\"다섯\",\"다소\",\"다수\",\"다시 말하자면\",\"다시말하면\",\"다음\",\"다음에\",\"다음으로\",\"단지\",\"답다\",\"당신\",\"당장\",\"대로 하다\",\"대하면\",\"대하여\",\"대해 말하자면\",\"대해서\",\"댕그\",\"더구나\",\"더군다나\",\"더라도\",\"더불어\",\"더욱더\",\"더욱이는\",\"도달하다\",\"도착하다\",\"동시에\",\"동안\",\"된바에야\",\"된이상\",\"두번째로\",\"둘\",\"둥둥\",\"뒤따라\",\"뒤이어\",\"든간에\",\"들\",\"등\",\"등등\",\"딩동\",\"따라\",\"따라서\",\"따위\",\"따지지 않다\",\"딱\",\"때\",\"때가 되어\",\"때문에\",\"또\",\"또한\",\"뚝뚝\",\"라 해도\",\"령\",\"로\",\"로 인하여\",\"로부터\",\"로써\",\"륙\",\"를\",\"마음대로\",\"마저\",\"마저도\",\"마치\",\"막론하고\",\"만 못하다\",\"만약\",\"만약에\",\"만은 아니다\",\"만이 아니다\",\"만일\",\"만큼\",\"말하자면\",\"말할것도 없고\",\"매\",\"매번\",\"메쓰겁다\",\"몇\",\"모\",\"모두\",\"무렵\",\"무릎쓰고\",\"무슨\",\"무엇\",\"무엇때문에\",\"물론\",\"및\",\"바꾸어말하면\",\"바꾸어말하자면\",\"바꾸어서 말하면\",\"바꾸어서 한다면\",\"바꿔 말하면\",\"바로\",\"바와같이\",\"밖에 안된다\",\"반대로\",\"반대로 말하자면\",\"반드시\",\"버금\",\"보는데서\",\"보다더\",\"보드득\",\"본대로\",\"봐\",\"봐라\",\"부류의 사람들\",\"부터\",\"불구하고\",\"불문하고\",\"붕붕\",\"비걱거리다\",\"비교적\",\"비길수 없다\",\"비로소\",\"비록\",\"비슷하다\",\"비추어 보아\",\"비하면\",\"뿐만 아니라\",\"뿐만아니라\",\"뿐이다\",\"삐걱\",\"삐걱거리다\",\"사\",\"삼\",\"상대적으로 말하자면\",\"생각한대로\",\"설령\",\"설마\",\"설사\",\"셋\",\"소생\",\"소인\",\"솨\",\"쉿\",\"습니까\",\"습니다\",\"시각\",\"시간\",\"시작하여\",\"시초에\",\"시키다\",\"실로\",\"심지어\",\"아\",\"아니\",\"아니나다를가\",\"아니라면\",\"아니면\",\"아니었다면\",\"아래윗\",\"아무거나\",\"아무도\",\"아야\",\"아울러\",\"아이\",\"아이고\",\"아이구\",\"아이야\",\"아이쿠\",\"아하\",\"아홉\",\"안 그러면\",\"않기 위하여\",\"않기 위해서\",\"알 수 있다\",\"알았어\",\"앗\",\"앞에서\",\"앞의것\",\"야\",\"약간\",\"양자\",\"어\",\"어기여차\",\"어느\",\"어느 년도\",\"어느것\",\"어느곳\",\"어느때\",\"어느쪽\",\"어느해\",\"어디\",\"어때\",\"어떠한\",\"어떤\",\"어떤것\",\"어떤것들\",\"어떻게\",\"어떻해\",\"어이\",\"어째서\",\"어쨋든\",\"어쩔수 없다\",\"어찌\",\"어찌됏든\",\"어찌됏어\",\"어찌하든지\",\"어찌하여\",\"언제\",\"언젠가\",\"얼마\",\"얼마 안 되는 것\",\"얼마간\",\"얼마나\",\"얼마든지\",\"얼마만큼\",\"얼마큼\",\"엉엉\",\"에\",\"에 가서\",\"에 달려 있다\",\"에 대해\",\"에 있다\",\"에 한하다\",\"에게\",\"에서\",\"여\",\"여기\",\"여덟\",\"여러분\",\"여보시오\",\"여부\",\"여섯\",\"여전히\",\"여차\",\"연관되다\",\"연이서\",\"영\",\"영차\",\"옆사람\",\"예\",\"예를 들면\",\"예를 들자면\",\"예컨대\",\"예하면\",\"오\",\"오로지\",\"오르다\",\"오자마자\",\"오직\",\"오호\",\"오히려\",\"와\",\"와 같은 사람들\",\"와르르\",\"와아\",\"왜\",\"왜냐하면\",\"외에도\",\"요만큼\",\"요만한 것\",\"요만한걸\",\"요컨대\",\"우르르\",\"우리\",\"우리들\",\"우선\",\"우에 종합한것과같이\",\"운운\",\"월\",\"위에서 서술한바와같이\",\"위하여\",\"위해서\",\"윙윙\",\"육\",\"으로\",\"으로 인하여\",\"으로서\",\"으로써\",\"을\",\"응\",\"응당\",\"의\",\"의거하여\",\"의지하여\",\"의해\",\"의해되다\",\"의해서\",\"이\",\"이 되다\",\"이 때문에\",\"이 밖에\",\"이 외에\",\"이 정도의\",\"이것\",\"이곳\",\"이때\",\"이라면\",\"이래\",\"이러이러하다\",\"이러한\",\"이런\",\"이럴정도로\",\"이렇게 많은 것\",\"이렇게되면\",\"이렇게말하자면\",\"이렇구나\",\"이로 인하여\",\"이르기까지\",\"이리하여\",\"이만큼\",\"이번\",\"이봐\",\"이상\",\"이어서\",\"이었다\",\"이와 같다\",\"이와 같은\",\"이와 반대로\",\"이와같다면\",\"이외에도\",\"이용하여\",\"이유만으로\",\"이젠\",\"이지만\",\"이쪽\",\"이천구\",\"이천육\",\"이천칠\",\"이천팔\",\"인 듯하다\",\"인젠\",\"일\",\"일것이다\",\"일곱\",\"일단\",\"일때\",\"일반적으로\",\"일지라도\",\"임에 틀림없다\",\"입각하여\",\"입장에서\",\"잇따라\",\"있다\",\"자\",\"자기\",\"자기집\",\"자마자\",\"자신\",\"잠깐\",\"잠시\",\"저\",\"저것\",\"저것만큼\",\"저기\",\"저쪽\",\"저희\",\"전부\",\"전자\",\"전후\",\"점에서 보아\",\"정도에 이르다\",\"제\",\"제각기\",\"제외하고\",\"조금\",\"조차\",\"조차도\",\"졸졸\",\"좀\",\"좋아\",\"좍좍\",\"주룩주룩\",\"주저하지 않고\",\"줄은 몰랏다\",\"줄은모른다\",\"중에서\",\"중의하나\",\"즈음하여\",\"즉\",\"즉시\",\"지든지\",\"지만\",\"지말고\",\"진짜로\",\"쪽으로\",\"차라리\",\"참\",\"참나\",\"첫번째로\",\"쳇\",\"총적으로\",\"총적으로 말하면\",\"총적으로 보면\",\"칠\",\"콸콸\",\"쾅쾅\",\"쿵\",\"타다\",\"타인\",\"탕탕\",\"토하다\",\"통하여\",\"툭\",\"퉤\",\"틈타\",\"팍\",\"팔\",\"퍽\",\"펄렁\",\"하\",\"하게될것이다\",\"하게하다\",\"하겠는가\",\"하고 있다\",\"하고있었다\",\"하곤하였다\",\"하구나\",\"하기 때문에\",\"하기 위하여\",\"하기는한데\",\"하기만 하면\",\"하기보다는\",\"하기에\",\"하나\",\"하느니\",\"하는 김에\",\"하는 편이 낫다\",\"하는것도\",\"하는것만 못하다\",\"하는것이 낫다\",\"하는바\",\"하더라도\",\"하도다\",\"하도록시키다\",\"하도록하다\",\"하든지\",\"하려고하다\",\"하마터면\",\"하면 할수록\",\"하면된다\",\"하면서\",\"하물며\",\"하여금\",\"하여야\",\"하자마자\",\"하지 않는다면\",\"하지 않도록\",\"하지마\",\"하지마라\",\"하지만\",\"하하\",\"한 까닭에\",\"한 이유는\",\"한 후\",\"한다면\",\"한다면 몰라도\",\"한데\",\"한마디\",\"한적이있다\",\"한켠으로는\",\"한항목\",\"할 따름이다\",\"할 생각이다\",\"할 줄 안다\",\"할 지경이다\",\"할 힘이 있다\",\"할때\",\"할만하다\",\"할망정\",\"할뿐\",\"할수있다\",\"할수있어\",\"할줄알다\",\"할지라도\",\"할지언정\",\"함께\",\"해도된다\",\"해도좋다\",\"해봐요\",\"해서는 안된다\",\"해야한다\",\"해요\",\"했어요\",\"향하다\",\"향하여\",\"향해서\",\"허\",\"허걱\",\"허허\",\"헉\",\"헉헉\",\"헐떡헐떡\",\"형식으로 쓰여\",\"혹시\",\"혹은\",\"혼자\",\"훨씬\",\"휘익\",\"휴\",\"흐흐\",\"흥\",\"힘입어\",\"︿\",\"！\",\"＃\",\"＄\",\"％\",\"＆\",\"（\",\"）\",\"＊\",\"＋\",\"，\",\"０\",\"１\",\"２\",\"３\",\"４\",\"５\",\"６\",\"７\",\"８\",\"９\",\"：\",\"；\",\"＜\",\"＞\",\"？\",\"＠\",\"［\",\"］\",\"｛\",\"｜\",\"｝\",\"～\",\"￥\"],\"nl\":[\"aan\",\"achte\",\"achter\",\"af\",\"al\",\"alle\",\"alleen\",\"alles\",\"als\",\"ander\",\"anders\",\"beetje\",\"behalve\",\"beide\",\"beiden\",\"ben\",\"beneden\",\"bent\",\"bij\",\"bijna\",\"bijv\",\"blijkbaar\",\"blijken\",\"boven\",\"bv\",\"daar\",\"daardoor\",\"daarin\",\"daarna\",\"daarom\",\"daaruit\",\"dan\",\"dat\",\"de\",\"deden\",\"deed\",\"derde\",\"derhalve\",\"dertig\",\"deze\",\"dhr\",\"die\",\"dit\",\"doe\",\"doen\",\"doet\",\"door\",\"drie\",\"duizend\",\"echter\",\"een\",\"eens\",\"eerst\",\"eerste\",\"eigen\",\"eigenlijk\",\"elk\",\"elke\",\"en\",\"enige\",\"er\",\"erg\",\"ergens\",\"etc\",\"etcetera\",\"even\",\"geen\",\"genoeg\",\"geweest\",\"haar\",\"haarzelf\",\"had\",\"hadden\",\"heb\",\"hebben\",\"hebt\",\"hedden\",\"heeft\",\"heel\",\"hem\",\"hemzelf\",\"hen\",\"het\",\"hetzelfde\",\"hier\",\"hierin\",\"hierna\",\"hierom\",\"hij\",\"hijzelf\",\"hoe\",\"honderd\",\"hun\",\"ieder\",\"iedere\",\"iedereen\",\"iemand\",\"iets\",\"ik\",\"in\",\"inderdaad\",\"intussen\",\"is\",\"ja\",\"je\",\"jij\",\"jijzelf\",\"jou\",\"jouw\",\"jullie\",\"kan\",\"kon\",\"konden\",\"kun\",\"kunnen\",\"kunt\",\"laatst\",\"later\",\"lijken\",\"lijkt\",\"maak\",\"maakt\",\"maakte\",\"maakten\",\"maar\",\"mag\",\"maken\",\"me\",\"meer\",\"meest\",\"meestal\",\"men\",\"met\",\"mevr\",\"mij\",\"mijn\",\"minder\",\"miss\",\"misschien\",\"missen\",\"mits\",\"mocht\",\"mochten\",\"moest\",\"moesten\",\"moet\",\"moeten\",\"mogen\",\"mr\",\"mrs\",\"mw\",\"na\",\"naar\",\"nam\",\"namelijk\",\"nee\",\"neem\",\"negen\",\"nemen\",\"nergens\",\"niemand\",\"niet\",\"niets\",\"niks\",\"noch\",\"nochtans\",\"nog\",\"nooit\",\"nu\",\"nv\",\"of\",\"om\",\"omdat\",\"ondanks\",\"onder\",\"ondertussen\",\"ons\",\"onze\",\"onzeker\",\"ooit\",\"ook\",\"op\",\"over\",\"overal\",\"overige\",\"paar\",\"per\",\"recent\",\"redelijk\",\"samen\",\"sinds\",\"steeds\",\"te\",\"tegen\",\"tegenover\",\"thans\",\"tien\",\"tiende\",\"tijdens\",\"tja\",\"toch\",\"toe\",\"tot\",\"totdat\",\"tussen\",\"twee\",\"tweede\",\"u\",\"uit\",\"uw\",\"vaak\",\"van\",\"vanaf\",\"veel\",\"veertig\",\"verder\",\"verscheidene\",\"verschillende\",\"via\",\"vier\",\"vierde\",\"vijf\",\"vijfde\",\"vijftig\",\"volgend\",\"volgens\",\"voor\",\"voordat\",\"voorts\",\"waar\",\"waarom\",\"waarschijnlijk\",\"wanneer\",\"waren\",\"was\",\"wat\",\"we\",\"wederom\",\"weer\",\"weinig\",\"wel\",\"welk\",\"welke\",\"werd\",\"werden\",\"werder\",\"whatever\",\"wie\",\"wij\",\"wijzelf\",\"wil\",\"wilden\",\"willen\",\"word\",\"worden\",\"wordt\",\"zal\",\"ze\",\"zei\",\"zeker\",\"zelf\",\"zelfde\",\"zes\",\"zeven\",\"zich\",\"zij\",\"zijn\",\"zijzelf\",\"zo\",\"zoals\",\"zodat\",\"zou\",\"zouden\",\"zulk\",\"zullen\"],\"no\":[\"alle\",\"at\",\"av\",\"bare\",\"begge\",\"ble\",\"blei\",\"bli\",\"blir\",\"blitt\",\"både\",\"båe\",\"da\",\"de\",\"deg\",\"dei\",\"deim\",\"deira\",\"deires\",\"dem\",\"den\",\"denne\",\"der\",\"dere\",\"deres\",\"det\",\"dette\",\"di\",\"din\",\"disse\",\"ditt\",\"du\",\"dykk\",\"dykkar\",\"då\",\"eg\",\"ein\",\"eit\",\"eitt\",\"eller\",\"elles\",\"en\",\"enn\",\"er\",\"et\",\"ett\",\"etter\",\"for\",\"fordi\",\"fra\",\"før\",\"ha\",\"hadde\",\"han\",\"hans\",\"har\",\"hennar\",\"henne\",\"hennes\",\"her\",\"hjå\",\"ho\",\"hoe\",\"honom\",\"hoss\",\"hossen\",\"hun\",\"hva\",\"hvem\",\"hver\",\"hvilke\",\"hvilken\",\"hvis\",\"hvor\",\"hvordan\",\"hvorfor\",\"i\",\"ikke\",\"ikkje\",\"ingen\",\"ingi\",\"inkje\",\"inn\",\"inni\",\"ja\",\"jeg\",\"kan\",\"kom\",\"korleis\",\"korso\",\"kun\",\"kunne\",\"kva\",\"kvar\",\"kvarhelst\",\"kven\",\"kvi\",\"kvifor\",\"man\",\"mange\",\"me\",\"med\",\"medan\",\"meg\",\"meget\",\"mellom\",\"men\",\"mi\",\"min\",\"mine\",\"mitt\",\"mot\",\"mykje\",\"ned\",\"no\",\"noe\",\"noen\",\"noka\",\"noko\",\"nokon\",\"nokor\",\"nokre\",\"nå\",\"når\",\"og\",\"også\",\"om\",\"opp\",\"oss\",\"over\",\"på\",\"samme\",\"seg\",\"selv\",\"si\",\"sia\",\"sidan\",\"siden\",\"sin\",\"sine\",\"sitt\",\"sjøl\",\"skal\",\"skulle\",\"slik\",\"so\",\"som\",\"somme\",\"somt\",\"så\",\"sånn\",\"til\",\"um\",\"upp\",\"ut\",\"uten\",\"var\",\"vart\",\"varte\",\"ved\",\"vere\",\"verte\",\"vi\",\"vil\",\"ville\",\"vore\",\"vors\",\"vort\",\"vår\",\"være\",\"vært\",\"å\"],\"pl\":[\"aby\",\"ach\",\"aj\",\"albo\",\"ale\",\"ani\",\"aż\",\"bardzo\",\"bez\",\"bo\",\"bowiem\",\"by\",\"byli\",\"bym\",\"być\",\"był\",\"była\",\"było\",\"były\",\"będzie\",\"będą\",\"chce\",\"choć\",\"ci\",\"ciebie\",\"cię\",\"co\",\"coraz\",\"coś\",\"czy\",\"czyli\",\"często\",\"daleko\",\"dla\",\"dlaczego\",\"dlatego\",\"do\",\"dobrze\",\"dokąd\",\"dość\",\"dr\",\"dużo\",\"dwa\",\"dwaj\",\"dwie\",\"dwoje\",\"dzisiaj\",\"dziś\",\"gdy\",\"gdyby\",\"gdyż\",\"gdzie\",\"go\",\"godz\",\"hab\",\"i\",\"ich\",\"ii\",\"iii\",\"ile\",\"im\",\"inne\",\"inny\",\"inż\",\"iv\",\"ix\",\"iż\",\"ja\",\"jak\",\"jakby\",\"jaki\",\"jakie\",\"jako\",\"je\",\"jeden\",\"jedna\",\"jednak\",\"jedno\",\"jednym\",\"jedynie\",\"jego\",\"jej\",\"jemu\",\"jest\",\"jestem\",\"jeszcze\",\"jeśli\",\"jeżeli\",\"już\",\"ją\",\"każdy\",\"kiedy\",\"kierunku\",\"kilku\",\"kto\",\"która\",\"które\",\"którego\",\"której\",\"który\",\"których\",\"którym\",\"którzy\",\"ku\",\"lat\",\"lecz\",\"lub\",\"ma\",\"mają\",\"mam\",\"mamy\",\"mgr\",\"mi\",\"miał\",\"mimo\",\"mnie\",\"mną\",\"mogą\",\"moi\",\"moja\",\"moje\",\"może\",\"można\",\"mu\",\"musi\",\"my\",\"mój\",\"na\",\"nad\",\"nam\",\"nami\",\"nas\",\"nasi\",\"nasz\",\"nasza\",\"nasze\",\"natychmiast\",\"nawet\",\"nic\",\"nich\",\"nie\",\"niego\",\"niej\",\"niemu\",\"nigdy\",\"nim\",\"nimi\",\"nią\",\"niż\",\"no\",\"nowe\",\"np\",\"nr\",\"o\",\"o.o.\",\"obok\",\"od\",\"ok\",\"około\",\"on\",\"ona\",\"one\",\"oni\",\"ono\",\"oraz\",\"owszem\",\"pan\",\"pl\",\"po\",\"pod\",\"ponad\",\"ponieważ\",\"poza\",\"prof\",\"przed\",\"przede\",\"przedtem\",\"przez\",\"przy\",\"raz\",\"razie\",\"roku\",\"również\",\"sam\",\"sama\",\"się\",\"skąd\",\"sobie\",\"sposób\",\"swoje\",\"są\",\"ta\",\"tak\",\"taki\",\"takich\",\"takie\",\"także\",\"tam\",\"te\",\"tego\",\"tej\",\"tel\",\"temu\",\"ten\",\"teraz\",\"też\",\"to\",\"tobie\",\"tobą\",\"trzeba\",\"tu\",\"tutaj\",\"twoi\",\"twoja\",\"twoje\",\"twój\",\"ty\",\"tych\",\"tylko\",\"tym\",\"tys\",\"tzw\",\"tę\",\"u\",\"ul\",\"vi\",\"vii\",\"viii\",\"vol\",\"w\",\"wam\",\"wami\",\"was\",\"wasi\",\"wasz\",\"wasza\",\"wasze\",\"we\",\"wie\",\"więc\",\"wszystko\",\"wtedy\",\"www\",\"wy\",\"właśnie\",\"wśród\",\"xi\",\"xii\",\"xiii\",\"xiv\",\"xv\",\"z\",\"za\",\"zawsze\",\"zaś\",\"ze\",\"zł\",\"żaden\",\"że\",\"żeby\"],\"pt\":[\"a\",\"acerca\",\"adeus\",\"agora\",\"ainda\",\"algmas\",\"algo\",\"algumas\",\"alguns\",\"ali\",\"além\",\"ambos\",\"ano\",\"anos\",\"antes\",\"ao\",\"aos\",\"apenas\",\"apoio\",\"apontar\",\"após\",\"aquela\",\"aquelas\",\"aquele\",\"aqueles\",\"aqui\",\"aquilo\",\"as\",\"assim\",\"através\",\"atrás\",\"até\",\"aí\",\"baixo\",\"bastante\",\"bem\",\"bom\",\"breve\",\"cada\",\"caminho\",\"catorze\",\"cedo\",\"cento\",\"certamente\",\"certeza\",\"cima\",\"cinco\",\"coisa\",\"com\",\"como\",\"comprido\",\"conhecido\",\"conselho\",\"contra\",\"corrente\",\"custa\",\"cá\",\"da\",\"daquela\",\"daquele\",\"dar\",\"das\",\"de\",\"debaixo\",\"demais\",\"dentro\",\"depois\",\"desde\",\"desligado\",\"dessa\",\"desse\",\"desta\",\"deste\",\"deve\",\"devem\",\"deverá\",\"dez\",\"dezanove\",\"dezasseis\",\"dezassete\",\"dezoito\",\"dia\",\"diante\",\"direita\",\"diz\",\"dizem\",\"dizer\",\"do\",\"dois\",\"dos\",\"doze\",\"duas\",\"dá\",\"dão\",\"dúvida\",\"e\",\"ela\",\"elas\",\"ele\",\"eles\",\"em\",\"embora\",\"enquanto\",\"entre\",\"então\",\"era\",\"essa\",\"essas\",\"esse\",\"esses\",\"esta\",\"estado\",\"estar\",\"estará\",\"estas\",\"estava\",\"este\",\"estes\",\"esteve\",\"estive\",\"estivemos\",\"estiveram\",\"estiveste\",\"estivestes\",\"estou\",\"está\",\"estás\",\"estão\",\"eu\",\"exemplo\",\"falta\",\"fará\",\"favor\",\"faz\",\"fazeis\",\"fazem\",\"fazemos\",\"fazer\",\"fazes\",\"fazia\",\"faço\",\"fez\",\"fim\",\"final\",\"foi\",\"fomos\",\"for\",\"fora\",\"foram\",\"forma\",\"foste\",\"fostes\",\"fui\",\"geral\",\"grande\",\"grandes\",\"grupo\",\"hoje\",\"horas\",\"há\",\"iniciar\",\"inicio\",\"ir\",\"irá\",\"isso\",\"ista\",\"iste\",\"isto\",\"já\",\"lado\",\"ligado\",\"local\",\"logo\",\"longe\",\"lugar\",\"lá\",\"maior\",\"maioria\",\"maiorias\",\"mais\",\"mal\",\"mas\",\"me\",\"meio\",\"menor\",\"menos\",\"meses\",\"mesmo\",\"meu\",\"meus\",\"mil\",\"minha\",\"minhas\",\"momento\",\"muito\",\"muitos\",\"máximo\",\"mês\",\"na\",\"nada\",\"naquela\",\"naquele\",\"nas\",\"nem\",\"nenhuma\",\"nessa\",\"nesse\",\"nesta\",\"neste\",\"no\",\"noite\",\"nome\",\"nos\",\"nossa\",\"nossas\",\"nosso\",\"nossos\",\"nova\",\"nove\",\"novo\",\"novos\",\"num\",\"numa\",\"nunca\",\"não\",\"nível\",\"nós\",\"número\",\"o\",\"obra\",\"obrigada\",\"obrigado\",\"oitava\",\"oitavo\",\"oito\",\"onde\",\"ontem\",\"onze\",\"os\",\"ou\",\"outra\",\"outras\",\"outro\",\"outros\",\"para\",\"parece\",\"parte\",\"partir\",\"pegar\",\"pela\",\"pelas\",\"pelo\",\"pelos\",\"perto\",\"pessoas\",\"pode\",\"podem\",\"poder\",\"poderá\",\"podia\",\"ponto\",\"pontos\",\"por\",\"porque\",\"porquê\",\"posição\",\"possivelmente\",\"posso\",\"possível\",\"pouca\",\"pouco\",\"povo\",\"primeira\",\"primeiro\",\"promeiro\",\"próprio\",\"próximo\",\"puderam\",\"pôde\",\"põe\",\"põem\",\"qual\",\"qualquer\",\"quando\",\"quanto\",\"quarta\",\"quarto\",\"quatro\",\"que\",\"quem\",\"quer\",\"quero\",\"questão\",\"quieto\",\"quinta\",\"quinto\",\"quinze\",\"quê\",\"relação\",\"sabe\",\"saber\",\"se\",\"segunda\",\"segundo\",\"sei\",\"seis\",\"sem\",\"sempre\",\"ser\",\"seria\",\"sete\",\"seu\",\"seus\",\"sexta\",\"sexto\",\"sim\",\"sistema\",\"sob\",\"sobre\",\"sois\",\"somente\",\"somos\",\"sou\",\"sua\",\"suas\",\"são\",\"sétima\",\"sétimo\",\"tal\",\"talvez\",\"também\",\"tanto\",\"tarde\",\"te\",\"tem\",\"temos\",\"tempo\",\"tendes\",\"tenho\",\"tens\",\"tentar\",\"tentaram\",\"tente\",\"tentei\",\"ter\",\"terceira\",\"terceiro\",\"teu\",\"teus\",\"teve\",\"tipo\",\"tive\",\"tivemos\",\"tiveram\",\"tiveste\",\"tivestes\",\"toda\",\"todas\",\"todo\",\"todos\",\"trabalhar\",\"trabalho\",\"treze\",\"três\",\"tu\",\"tua\",\"tuas\",\"tudo\",\"tão\",\"têm\",\"um\",\"uma\",\"umas\",\"uns\",\"usa\",\"usar\",\"vai\",\"vais\",\"valor\",\"veja\",\"vem\",\"vens\",\"ver\",\"verdade\",\"verdadeiro\",\"vez\",\"vezes\",\"viagem\",\"vindo\",\"vinte\",\"você\",\"vocês\",\"vos\",\"vossa\",\"vossas\",\"vosso\",\"vossos\",\"vários\",\"vão\",\"vêm\",\"vós\",\"zero\",\"à\",\"às\",\"área\",\"é\",\"és\",\"último\"],\"ru\":[\"а\",\"алло\",\"без\",\"белый\",\"близко\",\"более\",\"больше\",\"большой\",\"будем\",\"будет\",\"будете\",\"будешь\",\"будто\",\"буду\",\"будут\",\"будь\",\"бы\",\"бывает\",\"бывь\",\"был\",\"была\",\"были\",\"было\",\"быть\",\"в\",\"важная\",\"важное\",\"важные\",\"важный\",\"вам\",\"вами\",\"вас\",\"ваш\",\"ваша\",\"ваше\",\"ваши\",\"вверх\",\"вдали\",\"вдруг\",\"ведь\",\"везде\",\"вернуться\",\"весь\",\"вечер\",\"взгляд\",\"взять\",\"вид\",\"видеть\",\"вместе\",\"вниз\",\"внизу\",\"во\",\"вода\",\"война\",\"вокруг\",\"вон\",\"вообще\",\"вопрос\",\"восемнадцатый\",\"восемнадцать\",\"восемь\",\"восьмой\",\"вот\",\"впрочем\",\"времени\",\"время\",\"все\",\"всегда\",\"всего\",\"всем\",\"всеми\",\"всему\",\"всех\",\"всею\",\"всю\",\"всюду\",\"вся\",\"всё\",\"второй\",\"вы\",\"выйти\",\"г\",\"где\",\"главный\",\"глаз\",\"говорил\",\"говорит\",\"говорить\",\"год\",\"года\",\"году\",\"голова\",\"голос\",\"город\",\"да\",\"давать\",\"давно\",\"даже\",\"далекий\",\"далеко\",\"дальше\",\"даром\",\"дать\",\"два\",\"двадцатый\",\"двадцать\",\"две\",\"двенадцатый\",\"двенадцать\",\"дверь\",\"двух\",\"девятнадцатый\",\"девятнадцать\",\"девятый\",\"девять\",\"действительно\",\"дел\",\"делать\",\"дело\",\"день\",\"деньги\",\"десятый\",\"десять\",\"для\",\"до\",\"довольно\",\"долго\",\"должно\",\"должный\",\"дом\",\"дорога\",\"друг\",\"другая\",\"другие\",\"других\",\"друго\",\"другое\",\"другой\",\"думать\",\"душа\",\"е\",\"его\",\"ее\",\"ей\",\"ему\",\"если\",\"есть\",\"еще\",\"ещё\",\"ею\",\"её\",\"ж\",\"ждать\",\"же\",\"жена\",\"женщина\",\"жизнь\",\"жить\",\"за\",\"занят\",\"занята\",\"занято\",\"заняты\",\"затем\",\"зато\",\"зачем\",\"здесь\",\"земля\",\"знать\",\"значит\",\"значить\",\"и\",\"идти\",\"из\",\"или\",\"им\",\"именно\",\"иметь\",\"ими\",\"имя\",\"иногда\",\"их\",\"к\",\"каждая\",\"каждое\",\"каждые\",\"каждый\",\"кажется\",\"казаться\",\"как\",\"какая\",\"какой\",\"кем\",\"книга\",\"когда\",\"кого\",\"ком\",\"комната\",\"кому\",\"конец\",\"конечно\",\"которая\",\"которого\",\"которой\",\"которые\",\"который\",\"которых\",\"кроме\",\"кругом\",\"кто\",\"куда\",\"лежать\",\"лет\",\"ли\",\"лицо\",\"лишь\",\"лучше\",\"любить\",\"люди\",\"м\",\"маленький\",\"мало\",\"мать\",\"машина\",\"между\",\"меля\",\"менее\",\"меньше\",\"меня\",\"место\",\"миллионов\",\"мимо\",\"минута\",\"мир\",\"мира\",\"мне\",\"много\",\"многочисленная\",\"многочисленное\",\"многочисленные\",\"многочисленный\",\"мной\",\"мною\",\"мог\",\"могут\",\"мож\",\"может\",\"можно\",\"можхо\",\"мои\",\"мой\",\"мор\",\"москва\",\"мочь\",\"моя\",\"моё\",\"мы\",\"на\",\"наверху\",\"над\",\"надо\",\"назад\",\"наиболее\",\"найти\",\"наконец\",\"нам\",\"нами\",\"народ\",\"нас\",\"начала\",\"начать\",\"наш\",\"наша\",\"наше\",\"наши\",\"не\",\"него\",\"недавно\",\"недалеко\",\"нее\",\"ней\",\"некоторый\",\"нельзя\",\"нем\",\"немного\",\"нему\",\"непрерывно\",\"нередко\",\"несколько\",\"нет\",\"нею\",\"неё\",\"ни\",\"нибудь\",\"ниже\",\"низко\",\"никакой\",\"никогда\",\"никто\",\"никуда\",\"ними\",\"них\",\"ничего\",\"ничто\",\"но\",\"новый\",\"нога\",\"ночь\",\"ну\",\"нужно\",\"нужный\",\"нх\",\"о\",\"об\",\"оба\",\"обычно\",\"один\",\"одиннадцатый\",\"одиннадцать\",\"однажды\",\"однако\",\"одного\",\"одной\",\"оказаться\",\"окно\",\"около\",\"он\",\"она\",\"они\",\"оно\",\"опять\",\"особенно\",\"остаться\",\"от\",\"ответить\",\"отец\",\"отовсюду\",\"отсюда\",\"очень\",\"первый\",\"перед\",\"писать\",\"плечо\",\"по\",\"под\",\"подумать\",\"пожалуйста\",\"позже\",\"пойти\",\"пока\",\"пол\",\"получить\",\"помнить\",\"понимать\",\"понять\",\"пор\",\"пора\",\"после\",\"последний\",\"посмотреть\",\"посреди\",\"потом\",\"потому\",\"почему\",\"почти\",\"правда\",\"прекрасно\",\"при\",\"про\",\"просто\",\"против\",\"процентов\",\"пятнадцатый\",\"пятнадцать\",\"пятый\",\"пять\",\"работа\",\"работать\",\"раз\",\"разве\",\"рано\",\"раньше\",\"ребенок\",\"решить\",\"россия\",\"рука\",\"русский\",\"ряд\",\"рядом\",\"с\",\"сам\",\"сама\",\"сами\",\"самим\",\"самими\",\"самих\",\"само\",\"самого\",\"самой\",\"самом\",\"самому\",\"саму\",\"самый\",\"свет\",\"свое\",\"своего\",\"своей\",\"свои\",\"своих\",\"свой\",\"свою\",\"сделать\",\"сеаой\",\"себе\",\"себя\",\"сегодня\",\"седьмой\",\"сейчас\",\"семнадцатый\",\"семнадцать\",\"семь\",\"сидеть\",\"сила\",\"сих\",\"сказал\",\"сказала\",\"сказать\",\"сколько\",\"слишком\",\"слово\",\"случай\",\"смотреть\",\"сначала\",\"снова\",\"со\",\"собой\",\"собою\",\"советский\",\"совсем\",\"спасибо\",\"спросить\",\"сразу\",\"стал\",\"старый\",\"стать\",\"стол\",\"сторона\",\"стоять\",\"страна\",\"суть\",\"считать\",\"т\",\"та\",\"так\",\"такая\",\"также\",\"таки\",\"такие\",\"такое\",\"такой\",\"там\",\"твой\",\"твоя\",\"твоё\",\"те\",\"тебе\",\"тебя\",\"тем\",\"теми\",\"теперь\",\"тех\",\"то\",\"тобой\",\"тобою\",\"товарищ\",\"тогда\",\"того\",\"тоже\",\"только\",\"том\",\"тому\",\"тот\",\"тою\",\"третий\",\"три\",\"тринадцатый\",\"тринадцать\",\"ту\",\"туда\",\"тут\",\"ты\",\"тысяч\",\"у\",\"увидеть\",\"уж\",\"уже\",\"улица\",\"уметь\",\"утро\",\"хороший\",\"хорошо\",\"хотеть\",\"хоть\",\"хотя\",\"хочешь\",\"час\",\"часто\",\"часть\",\"чаще\",\"чего\",\"человек\",\"чем\",\"чему\",\"через\",\"четвертый\",\"четыре\",\"четырнадцатый\",\"четырнадцать\",\"что\",\"чтоб\",\"чтобы\",\"чуть\",\"шестнадцатый\",\"шестнадцать\",\"шестой\",\"шесть\",\"эта\",\"эти\",\"этим\",\"этими\",\"этих\",\"это\",\"этого\",\"этой\",\"этом\",\"этому\",\"этот\",\"эту\",\"я\"],\"sv\":[\"aderton\",\"adertonde\",\"adjö\",\"aldrig\",\"alla\",\"allas\",\"allt\",\"alltid\",\"alltså\",\"andra\",\"andras\",\"annan\",\"annat\",\"artonde\",\"artonn\",\"att\",\"av\",\"bakom\",\"bara\",\"behöva\",\"behövas\",\"behövde\",\"behövt\",\"beslut\",\"beslutat\",\"beslutit\",\"bland\",\"blev\",\"bli\",\"blir\",\"blivit\",\"bort\",\"borta\",\"bra\",\"bäst\",\"bättre\",\"båda\",\"bådas\",\"dag\",\"dagar\",\"dagarna\",\"dagen\",\"de\",\"del\",\"delen\",\"dem\",\"den\",\"denna\",\"deras\",\"dess\",\"dessa\",\"det\",\"detta\",\"dig\",\"din\",\"dina\",\"dit\",\"ditt\",\"dock\",\"du\",\"där\",\"därför\",\"då\",\"efter\",\"eftersom\",\"ej\",\"elfte\",\"eller\",\"elva\",\"en\",\"enkel\",\"enkelt\",\"enkla\",\"enligt\",\"er\",\"era\",\"ert\",\"ett\",\"ettusen\",\"fanns\",\"fem\",\"femte\",\"femtio\",\"femtionde\",\"femton\",\"femtonde\",\"fick\",\"fin\",\"finnas\",\"finns\",\"fjorton\",\"fjortonde\",\"fjärde\",\"fler\",\"flera\",\"flesta\",\"fram\",\"framför\",\"från\",\"fyra\",\"fyrtio\",\"fyrtionde\",\"få\",\"får\",\"fått\",\"följande\",\"för\",\"före\",\"förlåt\",\"förra\",\"första\",\"genast\",\"genom\",\"gick\",\"gjorde\",\"gjort\",\"god\",\"goda\",\"godare\",\"godast\",\"gott\",\"gälla\",\"gäller\",\"gällt\",\"gärna\",\"gå\",\"går\",\"gått\",\"gör\",\"göra\",\"ha\",\"hade\",\"haft\",\"han\",\"hans\",\"har\",\"heller\",\"hellre\",\"helst\",\"helt\",\"henne\",\"hennes\",\"hit\",\"hon\",\"honom\",\"hundra\",\"hundraen\",\"hundraett\",\"hur\",\"här\",\"hög\",\"höger\",\"högre\",\"högst\",\"i\",\"ibland\",\"icke\",\"idag\",\"igen\",\"igår\",\"imorgon\",\"in\",\"inför\",\"inga\",\"ingen\",\"ingenting\",\"inget\",\"innan\",\"inne\",\"inom\",\"inte\",\"inuti\",\"ja\",\"jag\",\"ju\",\"jämfört\",\"kan\",\"kanske\",\"knappast\",\"kom\",\"komma\",\"kommer\",\"kommit\",\"kr\",\"kunde\",\"kunna\",\"kunnat\",\"kvar\",\"legat\",\"ligga\",\"ligger\",\"lika\",\"likställd\",\"likställda\",\"lilla\",\"lite\",\"liten\",\"litet\",\"länge\",\"längre\",\"längst\",\"lätt\",\"lättare\",\"lättast\",\"långsam\",\"långsammare\",\"långsammast\",\"långsamt\",\"långt\",\"man\",\"med\",\"mellan\",\"men\",\"mer\",\"mera\",\"mest\",\"mig\",\"min\",\"mina\",\"mindre\",\"minst\",\"mitt\",\"mittemot\",\"mot\",\"mycket\",\"många\",\"måste\",\"möjlig\",\"möjligen\",\"möjligt\",\"möjligtvis\",\"ned\",\"nederst\",\"nedersta\",\"nedre\",\"nej\",\"ner\",\"ni\",\"nio\",\"nionde\",\"nittio\",\"nittionde\",\"nitton\",\"nittonde\",\"nog\",\"noll\",\"nr\",\"nu\",\"nummer\",\"när\",\"nästa\",\"någon\",\"någonting\",\"något\",\"några\",\"nödvändig\",\"nödvändiga\",\"nödvändigt\",\"nödvändigtvis\",\"och\",\"också\",\"ofta\",\"oftast\",\"olika\",\"olikt\",\"om\",\"oss\",\"på\",\"rakt\",\"redan\",\"rätt\",\"sade\",\"sagt\",\"samma\",\"sedan\",\"senare\",\"senast\",\"sent\",\"sex\",\"sextio\",\"sextionde\",\"sexton\",\"sextonde\",\"sig\",\"sin\",\"sina\",\"sist\",\"sista\",\"siste\",\"sitt\",\"sitta\",\"sju\",\"sjunde\",\"sjuttio\",\"sjuttionde\",\"sjutton\",\"sjuttonde\",\"själv\",\"sjätte\",\"ska\",\"skall\",\"skulle\",\"slutligen\",\"små\",\"smått\",\"snart\",\"som\",\"stor\",\"stora\",\"stort\",\"större\",\"störst\",\"säga\",\"säger\",\"sämre\",\"sämst\",\"så\",\"sådan\",\"sådana\",\"sådant\",\"tack\",\"tidig\",\"tidigare\",\"tidigast\",\"tidigt\",\"till\",\"tills\",\"tillsammans\",\"tio\",\"tionde\",\"tjugo\",\"tjugoen\",\"tjugoett\",\"tjugonde\",\"tjugotre\",\"tjugotvå\",\"tjungo\",\"tolfte\",\"tolv\",\"tre\",\"tredje\",\"trettio\",\"trettionde\",\"tretton\",\"trettonde\",\"två\",\"tvåhundra\",\"under\",\"upp\",\"ur\",\"ursäkt\",\"ut\",\"utan\",\"utanför\",\"ute\",\"vad\",\"var\",\"vara\",\"varför\",\"varifrån\",\"varit\",\"varje\",\"varken\",\"vars\",\"varsågod\",\"vart\",\"vem\",\"vems\",\"verkligen\",\"vi\",\"vid\",\"vidare\",\"viktig\",\"viktigare\",\"viktigast\",\"viktigt\",\"vilka\",\"vilkas\",\"vilken\",\"vilket\",\"vill\",\"vänster\",\"vänstra\",\"värre\",\"vår\",\"våra\",\"vårt\",\"än\",\"ännu\",\"är\",\"även\",\"åt\",\"åtminstone\",\"åtta\",\"åttio\",\"åttionde\",\"åttonde\",\"över\",\"övermorgon\",\"överst\",\"övre\"],\"tr\":[\"acaba\",\"acep\",\"adeta\",\"altmýþ\",\"altmış\",\"altý\",\"altı\",\"ama\",\"ancak\",\"arada\",\"artýk\",\"aslında\",\"aynen\",\"ayrıca\",\"az\",\"bana\",\"bari\",\"bazen\",\"bazý\",\"bazı\",\"baţka\",\"belki\",\"ben\",\"benden\",\"beni\",\"benim\",\"beri\",\"beþ\",\"beş\",\"beţ\",\"bile\",\"bin\",\"bir\",\"biraz\",\"biri\",\"birkaç\",\"birkez\",\"birçok\",\"birþey\",\"birþeyi\",\"birşey\",\"birşeyi\",\"birţey\",\"biz\",\"bizden\",\"bize\",\"bizi\",\"bizim\",\"bu\",\"buna\",\"bunda\",\"bundan\",\"bunlar\",\"bunları\",\"bunların\",\"bunu\",\"bunun\",\"burada\",\"böyle\",\"böylece\",\"bütün\",\"da\",\"daha\",\"dahi\",\"dahil\",\"daima\",\"dair\",\"dayanarak\",\"de\",\"defa\",\"deđil\",\"değil\",\"diye\",\"diđer\",\"diğer\",\"doksan\",\"dokuz\",\"dolayı\",\"dolayısıyla\",\"dört\",\"edecek\",\"eden\",\"ederek\",\"edilecek\",\"ediliyor\",\"edilmesi\",\"ediyor\",\"elli\",\"en\",\"etmesi\",\"etti\",\"ettiği\",\"ettiğini\",\"eđer\",\"eğer\",\"fakat\",\"gibi\",\"göre\",\"halbuki\",\"halen\",\"hangi\",\"hani\",\"hariç\",\"hatta\",\"hele\",\"hem\",\"henüz\",\"hep\",\"hepsi\",\"her\",\"herhangi\",\"herkes\",\"herkesin\",\"hiç\",\"hiçbir\",\"iken\",\"iki\",\"ila\",\"ile\",\"ilgili\",\"ilk\",\"illa\",\"ise\",\"itibaren\",\"itibariyle\",\"iyi\",\"iyice\",\"için\",\"işte\",\"iţte\",\"kadar\",\"kanýmca\",\"karşın\",\"katrilyon\",\"kendi\",\"kendilerine\",\"kendini\",\"kendisi\",\"kendisine\",\"kendisini\",\"kere\",\"kez\",\"keţke\",\"ki\",\"kim\",\"kimden\",\"kime\",\"kimi\",\"kimse\",\"kýrk\",\"kýsaca\",\"kırk\",\"lakin\",\"madem\",\"međer\",\"milyar\",\"milyon\",\"mu\",\"mü\",\"mý\",\"mı\",\"nasýl\",\"nasıl\",\"ne\",\"neden\",\"nedenle\",\"nerde\",\"nere\",\"nerede\",\"nereye\",\"nitekim\",\"niye\",\"niçin\",\"o\",\"olan\",\"olarak\",\"oldu\",\"olduklarını\",\"olduğu\",\"olduğunu\",\"olmadı\",\"olmadığı\",\"olmak\",\"olması\",\"olmayan\",\"olmaz\",\"olsa\",\"olsun\",\"olup\",\"olur\",\"olursa\",\"oluyor\",\"on\",\"ona\",\"ondan\",\"onlar\",\"onlardan\",\"onlari\",\"onlarýn\",\"onları\",\"onların\",\"onu\",\"onun\",\"otuz\",\"oysa\",\"pek\",\"rağmen\",\"sadece\",\"sanki\",\"sekiz\",\"seksen\",\"sen\",\"senden\",\"seni\",\"senin\",\"siz\",\"sizden\",\"sizi\",\"sizin\",\"sonra\",\"tarafından\",\"trilyon\",\"tüm\",\"var\",\"vardı\",\"ve\",\"veya\",\"veyahut\",\"ya\",\"yahut\",\"yani\",\"yapacak\",\"yapmak\",\"yaptı\",\"yaptıkları\",\"yaptığı\",\"yaptığını\",\"yapılan\",\"yapılması\",\"yapıyor\",\"yedi\",\"yerine\",\"yetmiþ\",\"yetmiş\",\"yetmiţ\",\"yine\",\"yirmi\",\"yoksa\",\"yüz\",\"zaten\",\"çok\",\"çünkü\",\"öyle\",\"üzere\",\"üç\",\"þey\",\"þeyden\",\"þeyi\",\"þeyler\",\"þu\",\"þuna\",\"þunda\",\"þundan\",\"þunu\",\"şey\",\"şeyden\",\"şeyi\",\"şeyler\",\"şu\",\"şuna\",\"şunda\",\"şundan\",\"şunları\",\"şunu\",\"şöyle\",\"ţayet\",\"ţimdi\",\"ţu\",\"ţöyle\"],\"zh\":[\"、\",\"。\",\"〈\",\"〉\",\"《\",\"》\",\"一\",\"一切\",\"一则\",\"一方面\",\"一旦\",\"一来\",\"一样\",\"一般\",\"七\",\"万一\",\"三\",\"上下\",\"不仅\",\"不但\",\"不光\",\"不单\",\"不只\",\"不如\",\"不怕\",\"不惟\",\"不成\",\"不拘\",\"不比\",\"不然\",\"不特\",\"不独\",\"不管\",\"不论\",\"不过\",\"不问\",\"与\",\"与其\",\"与否\",\"与此同时\",\"且\",\"两者\",\"个\",\"临\",\"为\",\"为了\",\"为什么\",\"为何\",\"为着\",\"乃\",\"乃至\",\"么\",\"之\",\"之一\",\"之所以\",\"之类\",\"乌乎\",\"乎\",\"乘\",\"九\",\"也\",\"也好\",\"也罢\",\"了\",\"二\",\"于\",\"于是\",\"于是乎\",\"云云\",\"五\",\"人家\",\"什么\",\"什么样\",\"从\",\"从而\",\"他\",\"他人\",\"他们\",\"以\",\"以便\",\"以免\",\"以及\",\"以至\",\"以至于\",\"以致\",\"们\",\"任\",\"任何\",\"任凭\",\"似的\",\"但\",\"但是\",\"何\",\"何况\",\"何处\",\"何时\",\"作为\",\"你\",\"你们\",\"使得\",\"例如\",\"依\",\"依照\",\"俺\",\"俺们\",\"倘\",\"倘使\",\"倘或\",\"倘然\",\"倘若\",\"借\",\"假使\",\"假如\",\"假若\",\"像\",\"八\",\"六\",\"兮\",\"关于\",\"其\",\"其一\",\"其中\",\"其二\",\"其他\",\"其余\",\"其它\",\"其次\",\"具体地说\",\"具体说来\",\"再者\",\"再说\",\"冒\",\"冲\",\"况且\",\"几\",\"几时\",\"凭\",\"凭借\",\"则\",\"别\",\"别的\",\"别说\",\"到\",\"前后\",\"前者\",\"加之\",\"即\",\"即令\",\"即使\",\"即便\",\"即或\",\"即若\",\"又\",\"及\",\"及其\",\"及至\",\"反之\",\"反过来\",\"反过来说\",\"另\",\"另一方面\",\"另外\",\"只是\",\"只有\",\"只要\",\"只限\",\"叫\",\"叮咚\",\"可\",\"可以\",\"可是\",\"可见\",\"各\",\"各个\",\"各位\",\"各种\",\"各自\",\"同\",\"同时\",\"向\",\"向着\",\"吓\",\"吗\",\"否则\",\"吧\",\"吧哒\",\"吱\",\"呀\",\"呃\",\"呕\",\"呗\",\"呜\",\"呜呼\",\"呢\",\"呵\",\"呸\",\"呼哧\",\"咋\",\"和\",\"咚\",\"咦\",\"咱\",\"咱们\",\"咳\",\"哇\",\"哈\",\"哈哈\",\"哉\",\"哎\",\"哎呀\",\"哎哟\",\"哗\",\"哟\",\"哦\",\"哩\",\"哪\",\"哪个\",\"哪些\",\"哪儿\",\"哪天\",\"哪年\",\"哪怕\",\"哪样\",\"哪边\",\"哪里\",\"哼\",\"哼唷\",\"唉\",\"啊\",\"啐\",\"啥\",\"啦\",\"啪达\",\"喂\",\"喏\",\"喔唷\",\"嗡嗡\",\"嗬\",\"嗯\",\"嗳\",\"嘎\",\"嘎登\",\"嘘\",\"嘛\",\"嘻\",\"嘿\",\"四\",\"因\",\"因为\",\"因此\",\"因而\",\"固然\",\"在\",\"在下\",\"地\",\"多\",\"多少\",\"她\",\"她们\",\"如\",\"如上所述\",\"如何\",\"如其\",\"如果\",\"如此\",\"如若\",\"宁\",\"宁可\",\"宁愿\",\"宁肯\",\"它\",\"它们\",\"对\",\"对于\",\"将\",\"尔后\",\"尚且\",\"就\",\"就是\",\"就是说\",\"尽\",\"尽管\",\"岂但\",\"己\",\"并\",\"并且\",\"开外\",\"开始\",\"归\",\"当\",\"当着\",\"彼\",\"彼此\",\"往\",\"待\",\"得\",\"怎\",\"怎么\",\"怎么办\",\"怎么样\",\"怎样\",\"总之\",\"总的来看\",\"总的来说\",\"总的说来\",\"总而言之\",\"恰恰相反\",\"您\",\"慢说\",\"我\",\"我们\",\"或\",\"或是\",\"或者\",\"所\",\"所以\",\"打\",\"把\",\"抑或\",\"拿\",\"按\",\"按照\",\"换句话说\",\"换言之\",\"据\",\"接着\",\"故\",\"故此\",\"旁人\",\"无宁\",\"无论\",\"既\",\"既是\",\"既然\",\"时候\",\"是\",\"是的\",\"替\",\"有\",\"有些\",\"有关\",\"有的\",\"望\",\"朝\",\"朝着\",\"本\",\"本着\",\"来\",\"来着\",\"极了\",\"果然\",\"果真\",\"某\",\"某个\",\"某些\",\"根据\",\"正如\",\"此\",\"此外\",\"此间\",\"毋宁\",\"每\",\"每当\",\"比\",\"比如\",\"比方\",\"沿\",\"沿着\",\"漫说\",\"焉\",\"然则\",\"然后\",\"然而\",\"照\",\"照着\",\"甚么\",\"甚而\",\"甚至\",\"用\",\"由\",\"由于\",\"由此可见\",\"的\",\"的话\",\"相对而言\",\"省得\",\"着\",\"着呢\",\"矣\",\"离\",\"第\",\"等\",\"等等\",\"管\",\"紧接着\",\"纵\",\"纵令\",\"纵使\",\"纵然\",\"经\",\"经过\",\"结果\",\"给\",\"继而\",\"综上所述\",\"罢了\",\"者\",\"而\",\"而且\",\"而况\",\"而外\",\"而已\",\"而是\",\"而言\",\"能\",\"腾\",\"自\",\"自个儿\",\"自从\",\"自各儿\",\"自家\",\"自己\",\"自身\",\"至\",\"至于\",\"若\",\"若是\",\"若非\",\"莫若\",\"虽\",\"虽则\",\"虽然\",\"虽说\",\"被\",\"要\",\"要不\",\"要不是\",\"要不然\",\"要么\",\"要是\",\"让\",\"论\",\"设使\",\"设若\",\"该\",\"诸位\",\"谁\",\"谁知\",\"赶\",\"起\",\"起见\",\"趁\",\"趁着\",\"越是\",\"跟\",\"较\",\"较之\",\"边\",\"过\",\"还是\",\"还有\",\"这\",\"这个\",\"这么\",\"这么些\",\"这么样\",\"这么点儿\",\"这些\",\"这会儿\",\"这儿\",\"这就是说\",\"这时\",\"这样\",\"这边\",\"这里\",\"进而\",\"连\",\"连同\",\"通过\",\"遵照\",\"那\",\"那个\",\"那么\",\"那么些\",\"那么样\",\"那些\",\"那会儿\",\"那儿\",\"那时\",\"那样\",\"那边\",\"那里\",\"鄙人\",\"鉴于\",\"阿\",\"除\",\"除了\",\"除此之外\",\"除非\",\"随\",\"随着\",\"零\",\"非但\",\"非徒\",\"靠\",\"顺\",\"顺着\",\"首先\",\"︿\",\"！\",\"＃\",\"＄\",\"％\",\"＆\",\"（\",\"）\",\"＊\",\"＋\",\"，\",\"０\",\"１\",\"２\",\"３\",\"４\",\"５\",\"６\",\"７\",\"８\",\"９\",\"：\",\"；\",\"＜\",\"＞\",\"？\",\"＠\",\"［\",\"］\",\"｛\",\"｜\",\"｝\",\"～\",\"￥\"],\"eo\":[\"adiaŭ\",\"ajn\",\"al\",\"ankoraŭ\",\"antaŭ\",\"aŭ\",\"bonan\",\"bonvole\",\"bonvolu\",\"bv\",\"ci\",\"cia\",\"cian\",\"cin\",\"d-ro\",\"da\",\"de\",\"dek\",\"deka\",\"do\",\"doktor'\",\"doktoro\",\"du\",\"dua\",\"dum\",\"eble\",\"ekz\",\"ekzemple\",\"en\",\"estas\",\"estis\",\"estos\",\"estu\",\"estus\",\"eĉ\",\"f-no\",\"feliĉan\",\"for\",\"fraŭlino\",\"ha\",\"havas\",\"havis\",\"havos\",\"havu\",\"havus\",\"he\",\"ho\",\"hu\",\"ili\",\"ilia\",\"ilian\",\"ilin\",\"inter\",\"io\",\"ion\",\"iu\",\"iujn\",\"iun\",\"ja\",\"jam\",\"je\",\"jes\",\"k\",\"kaj\",\"ke\",\"kio\",\"kion\",\"kiu\",\"kiujn\",\"kiun\",\"kvankam\",\"kvar\",\"kvara\",\"kvazaŭ\",\"kvin\",\"kvina\",\"la\",\"li\",\"lia\",\"lian\",\"lin\",\"malantaŭ\",\"male\",\"malgraŭ\",\"mem\",\"mi\",\"mia\",\"mian\",\"min\",\"minus\",\"naŭ\",\"naŭa\",\"ne\",\"nek\",\"nenio\",\"nenion\",\"neniu\",\"neniun\",\"nepre\",\"ni\",\"nia\",\"nian\",\"nin\",\"nu\",\"nun\",\"nur\",\"ok\",\"oka\",\"oni\",\"onia\",\"onian\",\"onin\",\"plej\",\"pli\",\"plu\",\"plus\",\"por\",\"post\",\"preter\",\"s-no\",\"s-ro\",\"se\",\"sed\",\"sep\",\"sepa\",\"ses\",\"sesa\",\"si\",\"sia\",\"sian\",\"sin\",\"sinjor'\",\"sinjorino\",\"sinjoro\",\"sub\",\"super\",\"supren\",\"sur\",\"tamen\",\"tio\",\"tion\",\"tiu\",\"tiujn\",\"tiun\",\"tra\",\"tri\",\"tria\",\"tuj\",\"tute\",\"unu\",\"unua\",\"ve\",\"verŝajne\",\"vi\",\"via\",\"vian\",\"vin\",\"ĉi\",\"ĉio\",\"ĉion\",\"ĉiu\",\"ĉiujn\",\"ĉiun\",\"ĉu\",\"ĝi\",\"ĝia\",\"ĝian\",\"ĝin\",\"ĝis\",\"ĵus\",\"ŝi\",\"ŝia\",\"ŝin\"],\"he\":[\"אבל\",\"או\",\"אולי\",\"אותה\",\"אותו\",\"אותי\",\"אותך\",\"אותם\",\"אותן\",\"אותנו\",\"אז\",\"אחר\",\"אחרות\",\"אחרי\",\"אחריכן\",\"אחרים\",\"אחרת\",\"אי\",\"איזה\",\"איך\",\"אין\",\"איפה\",\"איתה\",\"איתו\",\"איתי\",\"איתך\",\"איתכם\",\"איתכן\",\"איתם\",\"איתן\",\"איתנו\",\"אך\",\"אל\",\"אלה\",\"אלו\",\"אם\",\"אנחנו\",\"אני\",\"אס\",\"אף\",\"אצל\",\"אשר\",\"את\",\"אתה\",\"אתכם\",\"אתכן\",\"אתם\",\"אתן\",\"באיזומידה\",\"באמצע\",\"באמצעות\",\"בגלל\",\"בין\",\"בלי\",\"במידה\",\"במקוםשבו\",\"ברם\",\"בשביל\",\"בשעהש\",\"בתוך\",\"גם\",\"דרך\",\"הוא\",\"היא\",\"היה\",\"היכן\",\"היתה\",\"היתי\",\"הם\",\"הן\",\"הנה\",\"הסיבהשבגללה\",\"הרי\",\"ואילו\",\"ואת\",\"זאת\",\"זה\",\"זות\",\"יהיה\",\"יוכל\",\"יוכלו\",\"יותרמדי\",\"יכול\",\"יכולה\",\"יכולות\",\"יכולים\",\"יכל\",\"יכלה\",\"יכלו\",\"יש\",\"כאן\",\"כאשר\",\"כולם\",\"כולן\",\"כזה\",\"כי\",\"כיצד\",\"כך\",\"ככה\",\"כל\",\"כלל\",\"כמו\",\"כן\",\"כפי\",\"כש\",\"לא\",\"לאו\",\"לאיזותכלית\",\"לאן\",\"לבין\",\"לה\",\"להיות\",\"להם\",\"להן\",\"לו\",\"לי\",\"לכם\",\"לכן\",\"למה\",\"למטה\",\"למעלה\",\"למקוםשבו\",\"למרות\",\"לנו\",\"לעבר\",\"לעיכן\",\"לפיכך\",\"לפני\",\"מאד\",\"מאחורי\",\"מאיזוסיבה\",\"מאין\",\"מאיפה\",\"מבלי\",\"מבעד\",\"מדוע\",\"מה\",\"מהיכן\",\"מול\",\"מחוץ\",\"מי\",\"מכאן\",\"מכיוון\",\"מלבד\",\"מן\",\"מנין\",\"מסוגל\",\"מעט\",\"מעטים\",\"מעל\",\"מצד\",\"מקוםבו\",\"מתחת\",\"מתי\",\"נגד\",\"נגר\",\"נו\",\"עד\",\"עז\",\"על\",\"עלי\",\"עליה\",\"עליהם\",\"עליהן\",\"עליו\",\"עליך\",\"עליכם\",\"עלינו\",\"עם\",\"עצמה\",\"עצמהם\",\"עצמהן\",\"עצמו\",\"עצמי\",\"עצמם\",\"עצמן\",\"עצמנו\",\"פה\",\"רק\",\"שוב\",\"של\",\"שלה\",\"שלהם\",\"שלהן\",\"שלו\",\"שלי\",\"שלך\",\"שלכה\",\"שלכם\",\"שלכן\",\"שלנו\",\"שם\",\"תהיה\",\"תחת\"],\"la\":[\"a\",\"ab\",\"ac\",\"ad\",\"at\",\"atque\",\"aut\",\"autem\",\"cum\",\"de\",\"dum\",\"e\",\"erant\",\"erat\",\"est\",\"et\",\"etiam\",\"ex\",\"haec\",\"hic\",\"hoc\",\"in\",\"ita\",\"me\",\"nec\",\"neque\",\"non\",\"per\",\"qua\",\"quae\",\"quam\",\"qui\",\"quibus\",\"quidem\",\"quo\",\"quod\",\"re\",\"rebus\",\"rem\",\"res\",\"sed\",\"si\",\"sic\",\"sunt\",\"tamen\",\"tandem\",\"te\",\"ut\",\"vel\"],\"sk\":[\"a\",\"aby\",\"aj\",\"ako\",\"aký\",\"ale\",\"alebo\",\"ani\",\"avšak\",\"ba\",\"bez\",\"buï\",\"cez\",\"do\",\"ho\",\"hoci\",\"i\",\"ich\",\"im\",\"ja\",\"jeho\",\"jej\",\"jemu\",\"ju\",\"k\",\"kam\",\"kde\",\"kedže\",\"keï\",\"kto\",\"ktorý\",\"ku\",\"lebo\",\"ma\",\"mi\",\"mne\",\"mnou\",\"mu\",\"my\",\"mòa\",\"môj\",\"na\",\"nad\",\"nami\",\"neho\",\"nej\",\"nemu\",\"nich\",\"nielen\",\"nim\",\"no\",\"nám\",\"nás\",\"náš\",\"ním\",\"o\",\"od\",\"on\",\"ona\",\"oni\",\"ono\",\"ony\",\"po\",\"pod\",\"pre\",\"pred\",\"pri\",\"s\",\"sa\",\"seba\",\"sem\",\"so\",\"svoj\",\"taký\",\"tam\",\"teba\",\"tebe\",\"tebou\",\"tej\",\"ten\",\"ti\",\"tie\",\"to\",\"toho\",\"tomu\",\"tou\",\"tvoj\",\"ty\",\"tá\",\"tým\",\"v\",\"vami\",\"veï\",\"vo\",\"vy\",\"vám\",\"vás\",\"váš\",\"však\",\"z\",\"za\",\"zo\",\"a\",\"èi\",\"èo\",\"èí\",\"òom\",\"òou\",\"òu\",\"že\"],\"sl\":[\"a\",\"ali\",\"april\",\"avgust\",\"b\",\"bi\",\"bil\",\"bila\",\"bile\",\"bili\",\"bilo\",\"biti\",\"blizu\",\"bo\",\"bodo\",\"bojo\",\"bolj\",\"bom\",\"bomo\",\"boste\",\"bova\",\"boš\",\"brez\",\"c\",\"cel\",\"cela\",\"celi\",\"celo\",\"d\",\"da\",\"daleč\",\"dan\",\"danes\",\"datum\",\"december\",\"deset\",\"deseta\",\"deseti\",\"deseto\",\"devet\",\"deveta\",\"deveti\",\"deveto\",\"do\",\"dober\",\"dobra\",\"dobri\",\"dobro\",\"dokler\",\"dol\",\"dolg\",\"dolga\",\"dolgi\",\"dovolj\",\"drug\",\"druga\",\"drugi\",\"drugo\",\"dva\",\"dve\",\"e\",\"eden\",\"en\",\"ena\",\"ene\",\"eni\",\"enkrat\",\"eno\",\"etc.\",\"f\",\"februar\",\"g\",\"g.\",\"ga\",\"ga.\",\"gor\",\"gospa\",\"gospod\",\"h\",\"halo\",\"i\",\"idr.\",\"ii\",\"iii\",\"in\",\"iv\",\"ix\",\"iz\",\"j\",\"januar\",\"jaz\",\"je\",\"ji\",\"jih\",\"jim\",\"jo\",\"julij\",\"junij\",\"jutri\",\"k\",\"kadarkoli\",\"kaj\",\"kajti\",\"kako\",\"kakor\",\"kamor\",\"kamorkoli\",\"kar\",\"karkoli\",\"katerikoli\",\"kdaj\",\"kdo\",\"kdorkoli\",\"ker\",\"ki\",\"kje\",\"kjer\",\"kjerkoli\",\"ko\",\"koder\",\"koderkoli\",\"koga\",\"komu\",\"kot\",\"kratek\",\"kratka\",\"kratke\",\"kratki\",\"l\",\"lahka\",\"lahke\",\"lahki\",\"lahko\",\"le\",\"lep\",\"lepa\",\"lepe\",\"lepi\",\"lepo\",\"leto\",\"m\",\"maj\",\"majhen\",\"majhna\",\"majhni\",\"malce\",\"malo\",\"manj\",\"marec\",\"me\",\"med\",\"medtem\",\"mene\",\"mesec\",\"mi\",\"midva\",\"midve\",\"mnogo\",\"moj\",\"moja\",\"moje\",\"mora\",\"morajo\",\"moram\",\"moramo\",\"morate\",\"moraš\",\"morem\",\"mu\",\"n\",\"na\",\"nad\",\"naj\",\"najina\",\"najino\",\"najmanj\",\"naju\",\"največ\",\"nam\",\"narobe\",\"nas\",\"nato\",\"nazaj\",\"naš\",\"naša\",\"naše\",\"ne\",\"nedavno\",\"nedelja\",\"nek\",\"neka\",\"nekaj\",\"nekatere\",\"nekateri\",\"nekatero\",\"nekdo\",\"neke\",\"nekega\",\"neki\",\"nekje\",\"neko\",\"nekoga\",\"nekoč\",\"ni\",\"nikamor\",\"nikdar\",\"nikjer\",\"nikoli\",\"nič\",\"nje\",\"njega\",\"njegov\",\"njegova\",\"njegovo\",\"njej\",\"njemu\",\"njen\",\"njena\",\"njeno\",\"nji\",\"njih\",\"njihov\",\"njihova\",\"njihovo\",\"njiju\",\"njim\",\"njo\",\"njun\",\"njuna\",\"njuno\",\"no\",\"nocoj\",\"november\",\"npr.\",\"o\",\"ob\",\"oba\",\"obe\",\"oboje\",\"od\",\"odprt\",\"odprta\",\"odprti\",\"okoli\",\"oktober\",\"on\",\"onadva\",\"one\",\"oni\",\"onidve\",\"osem\",\"osma\",\"osmi\",\"osmo\",\"oz.\",\"p\",\"pa\",\"pet\",\"peta\",\"petek\",\"peti\",\"peto\",\"po\",\"pod\",\"pogosto\",\"poleg\",\"poln\",\"polna\",\"polni\",\"polno\",\"ponavadi\",\"ponedeljek\",\"ponovno\",\"potem\",\"povsod\",\"pozdravljen\",\"pozdravljeni\",\"prav\",\"prava\",\"prave\",\"pravi\",\"pravo\",\"prazen\",\"prazna\",\"prazno\",\"prbl.\",\"precej\",\"pred\",\"prej\",\"preko\",\"pri\",\"pribl.\",\"približno\",\"primer\",\"pripravljen\",\"pripravljena\",\"pripravljeni\",\"proti\",\"prva\",\"prvi\",\"prvo\",\"r\",\"ravno\",\"redko\",\"res\",\"reč\",\"s\",\"saj\",\"sam\",\"sama\",\"same\",\"sami\",\"samo\",\"se\",\"sebe\",\"sebi\",\"sedaj\",\"sedem\",\"sedma\",\"sedmi\",\"sedmo\",\"sem\",\"september\",\"seveda\",\"si\",\"sicer\",\"skoraj\",\"skozi\",\"slab\",\"smo\",\"so\",\"sobota\",\"spet\",\"sreda\",\"srednja\",\"srednji\",\"sta\",\"ste\",\"stran\",\"stvar\",\"sva\",\"t\",\"ta\",\"tak\",\"taka\",\"take\",\"taki\",\"tako\",\"takoj\",\"tam\",\"te\",\"tebe\",\"tebi\",\"tega\",\"težak\",\"težka\",\"težki\",\"težko\",\"ti\",\"tista\",\"tiste\",\"tisti\",\"tisto\",\"tj.\",\"tja\",\"to\",\"toda\",\"torek\",\"tretja\",\"tretje\",\"tretji\",\"tri\",\"tu\",\"tudi\",\"tukaj\",\"tvoj\",\"tvoja\",\"tvoje\",\"u\",\"v\",\"vaju\",\"vam\",\"vas\",\"vaš\",\"vaša\",\"vaše\",\"ve\",\"vedno\",\"velik\",\"velika\",\"veliki\",\"veliko\",\"vendar\",\"ves\",\"več\",\"vi\",\"vidva\",\"vii\",\"viii\",\"visok\",\"visoka\",\"visoke\",\"visoki\",\"vsa\",\"vsaj\",\"vsak\",\"vsaka\",\"vsakdo\",\"vsake\",\"vsaki\",\"vsakomur\",\"vse\",\"vsega\",\"vsi\",\"vso\",\"včasih\",\"včeraj\",\"x\",\"z\",\"za\",\"zadaj\",\"zadnji\",\"zakaj\",\"zaprta\",\"zaprti\",\"zaprto\",\"zdaj\",\"zelo\",\"zunaj\",\"č\",\"če\",\"često\",\"četrta\",\"četrtek\",\"četrti\",\"četrto\",\"čez\",\"čigav\",\"š\",\"šest\",\"šesta\",\"šesti\",\"šesto\",\"štiri\",\"ž\",\"že\"],\"br\":[\"a\",\"ainda\",\"alem\",\"ambas\",\"ambos\",\"antes\",\"ao\",\"aonde\",\"aos\",\"apos\",\"aquele\",\"aqueles\",\"as\",\"assim\",\"com\",\"como\",\"contra\",\"contudo\",\"cuja\",\"cujas\",\"cujo\",\"cujos\",\"da\",\"das\",\"de\",\"dela\",\"dele\",\"deles\",\"demais\",\"depois\",\"desde\",\"desta\",\"deste\",\"dispoe\",\"dispoem\",\"diversa\",\"diversas\",\"diversos\",\"do\",\"dos\",\"durante\",\"e\",\"ela\",\"elas\",\"ele\",\"eles\",\"em\",\"entao\",\"entre\",\"essa\",\"essas\",\"esse\",\"esses\",\"esta\",\"estas\",\"este\",\"estes\",\"ha\",\"isso\",\"isto\",\"logo\",\"mais\",\"mas\",\"mediante\",\"menos\",\"mesma\",\"mesmas\",\"mesmo\",\"mesmos\",\"na\",\"nao\",\"nas\",\"nem\",\"nesse\",\"neste\",\"nos\",\"o\",\"os\",\"ou\",\"outra\",\"outras\",\"outro\",\"outros\",\"pelas\",\"pelo\",\"pelos\",\"perante\",\"pois\",\"por\",\"porque\",\"portanto\",\"propios\",\"proprio\",\"quais\",\"qual\",\"qualquer\",\"quando\",\"quanto\",\"que\",\"quem\",\"quer\",\"se\",\"seja\",\"sem\",\"sendo\",\"seu\",\"seus\",\"sob\",\"sobre\",\"sua\",\"suas\",\"tal\",\"tambem\",\"teu\",\"teus\",\"toda\",\"todas\",\"todo\",\"todos\",\"tua\",\"tuas\",\"tudo\",\"um\",\"uma\",\"umas\",\"uns\"],\"ca\":[\"a\",\"abans\",\"ací\",\"ah\",\"així\",\"això\",\"al\",\"aleshores\",\"algun\",\"alguna\",\"algunes\",\"alguns\",\"alhora\",\"allà\",\"allí\",\"allò\",\"als\",\"altra\",\"altre\",\"altres\",\"amb\",\"ambdues\",\"ambdós\",\"apa\",\"aquell\",\"aquella\",\"aquelles\",\"aquells\",\"aquest\",\"aquesta\",\"aquestes\",\"aquests\",\"aquí\",\"baix\",\"cada\",\"cadascuna\",\"cadascunes\",\"cadascuns\",\"cadascú\",\"com\",\"contra\",\"d'un\",\"d'una\",\"d'unes\",\"d'uns\",\"dalt\",\"de\",\"del\",\"dels\",\"des\",\"després\",\"dins\",\"dintre\",\"donat\",\"doncs\",\"durant\",\"e\",\"eh\",\"el\",\"els\",\"em\",\"en\",\"encara\",\"ens\",\"entre\",\"eren\",\"es\",\"esta\",\"estaven\",\"esteu\",\"està\",\"estàvem\",\"estàveu\",\"et\",\"etc\",\"ets\",\"fins\",\"fora\",\"gairebé\",\"ha\",\"han\",\"has\",\"havia\",\"he\",\"hem\",\"heu\",\"hi\",\"ho\",\"i\",\"igual\",\"iguals\",\"ja\",\"l'hi\",\"la\",\"les\",\"li\",\"li'n\",\"llavors\",\"m'he\",\"ma\",\"mal\",\"malgrat\",\"mateix\",\"mateixa\",\"mateixes\",\"mateixos\",\"me\",\"mentre\",\"meu\",\"meus\",\"meva\",\"meves\",\"molt\",\"molta\",\"moltes\",\"molts\",\"mon\",\"mons\",\"més\",\"n'he\",\"n'hi\",\"ne\",\"ni\",\"no\",\"nogensmenys\",\"només\",\"nosaltres\",\"nostra\",\"nostre\",\"nostres\",\"o\",\"oh\",\"oi\",\"on\",\"pas\",\"pel\",\"pels\",\"per\",\"perquè\",\"però\",\"poc\",\"poca\",\"pocs\",\"poques\",\"potser\",\"propi\",\"qual\",\"quals\",\"quan\",\"quant\",\"que\",\"quelcom\",\"qui\",\"quin\",\"quina\",\"quines\",\"quins\",\"què\",\"s'ha\",\"s'han\",\"sa\",\"semblant\",\"semblants\",\"ses\",\"seu\",\"seus\",\"seva\",\"seves\",\"si\",\"sobre\",\"sobretot\",\"solament\",\"sols\",\"son\",\"sons\",\"sota\",\"sou\",\"sóc\",\"són\",\"t'ha\",\"t'han\",\"t'he\",\"ta\",\"tal\",\"també\",\"tampoc\",\"tan\",\"tant\",\"tanta\",\"tantes\",\"teu\",\"teus\",\"teva\",\"teves\",\"ton\",\"tons\",\"tot\",\"tota\",\"totes\",\"tots\",\"un\",\"una\",\"unes\",\"uns\",\"us\",\"va\",\"vaig\",\"vam\",\"van\",\"vas\",\"veu\",\"vosaltres\",\"vostra\",\"vostre\",\"vostres\",\"érem\",\"éreu\",\"és\"],\"cs\":[\"a\",\"aby\",\"ahoj\",\"aj\",\"ale\",\"anebo\",\"ani\",\"ano\",\"asi\",\"aspoň\",\"atd\",\"atp\",\"ačkoli\",\"až\",\"bez\",\"beze\",\"blízko\",\"bohužel\",\"brzo\",\"bude\",\"budem\",\"budeme\",\"budete\",\"budeš\",\"budou\",\"budu\",\"by\",\"byl\",\"byla\",\"byli\",\"bylo\",\"byly\",\"bys\",\"být\",\"během\",\"chce\",\"chceme\",\"chcete\",\"chceš\",\"chci\",\"chtít\",\"chtějí\",\"chut'\",\"chuti\",\"co\",\"což\",\"cz\",\"daleko\",\"další\",\"den\",\"deset\",\"devatenáct\",\"devět\",\"dnes\",\"do\",\"dobrý\",\"docela\",\"dva\",\"dvacet\",\"dvanáct\",\"dvě\",\"dál\",\"dále\",\"děkovat\",\"děkujeme\",\"děkuji\",\"ho\",\"hodně\",\"i\",\"jak\",\"jakmile\",\"jako\",\"jakož\",\"jde\",\"je\",\"jeden\",\"jedenáct\",\"jedna\",\"jedno\",\"jednou\",\"jedou\",\"jeho\",\"jehož\",\"jej\",\"jejich\",\"její\",\"jelikož\",\"jemu\",\"jen\",\"jenom\",\"jestli\",\"jestliže\",\"ještě\",\"jež\",\"ji\",\"jich\",\"jimi\",\"jinak\",\"jiné\",\"již\",\"jsem\",\"jseš\",\"jsi\",\"jsme\",\"jsou\",\"jste\",\"já\",\"jí\",\"jím\",\"jíž\",\"k\",\"kam\",\"kde\",\"kdo\",\"kdy\",\"když\",\"ke\",\"kolik\",\"kromě\",\"kterou\",\"která\",\"které\",\"který\",\"kteří\",\"kvůli\",\"mají\",\"mezi\",\"mi\",\"mne\",\"mnou\",\"mně\",\"moc\",\"mohl\",\"mohou\",\"moje\",\"moji\",\"možná\",\"musí\",\"my\",\"má\",\"málo\",\"mám\",\"máme\",\"máte\",\"máš\",\"mé\",\"mí\",\"mít\",\"mě\",\"můj\",\"může\",\"na\",\"nad\",\"nade\",\"napište\",\"naproti\",\"načež\",\"naše\",\"naši\",\"ne\",\"nebo\",\"nebyl\",\"nebyla\",\"nebyli\",\"nebyly\",\"nedělají\",\"nedělá\",\"nedělám\",\"neděláme\",\"neděláte\",\"neděláš\",\"neg\",\"nejsi\",\"nejsou\",\"nemají\",\"nemáme\",\"nemáte\",\"neměl\",\"není\",\"nestačí\",\"nevadí\",\"než\",\"nic\",\"nich\",\"nimi\",\"nové\",\"nový\",\"nula\",\"nám\",\"námi\",\"nás\",\"náš\",\"ním\",\"ně\",\"něco\",\"nějak\",\"někde\",\"někdo\",\"němu\",\"němuž\",\"o\",\"od\",\"ode\",\"on\",\"ona\",\"oni\",\"ono\",\"ony\",\"osm\",\"osmnáct\",\"pak\",\"patnáct\",\"po\",\"pod\",\"podle\",\"pokud\",\"potom\",\"pouze\",\"pozdě\",\"pořád\",\"pravé\",\"pro\",\"prostě\",\"prosím\",\"proti\",\"proto\",\"protože\",\"proč\",\"první\",\"pta\",\"pět\",\"před\",\"přes\",\"přese\",\"při\",\"přičemž\",\"re\",\"rovně\",\"s\",\"se\",\"sedm\",\"sedmnáct\",\"si\",\"skoro\",\"smí\",\"smějí\",\"snad\",\"spolu\",\"sta\",\"sto\",\"strana\",\"sté\",\"své\",\"svých\",\"svým\",\"svými\",\"ta\",\"tady\",\"tak\",\"takhle\",\"taky\",\"také\",\"takže\",\"tam\",\"tamhle\",\"tamhleto\",\"tamto\",\"tato\",\"tebe\",\"tebou\",\"ted'\",\"tedy\",\"ten\",\"tento\",\"teto\",\"ti\",\"tipy\",\"tisíc\",\"tisíce\",\"to\",\"tobě\",\"tohle\",\"toho\",\"tohoto\",\"tom\",\"tomto\",\"tomu\",\"tomuto\",\"toto\",\"trošku\",\"tu\",\"tuto\",\"tvoje\",\"tvá\",\"tvé\",\"tvůj\",\"ty\",\"tyto\",\"téma\",\"tím\",\"tímto\",\"tě\",\"těm\",\"těmu\",\"třeba\",\"tři\",\"třináct\",\"u\",\"určitě\",\"už\",\"v\",\"vaše\",\"vaši\",\"ve\",\"vedle\",\"večer\",\"vlastně\",\"vy\",\"vám\",\"vámi\",\"vás\",\"váš\",\"více\",\"však\",\"všechno\",\"všichni\",\"vůbec\",\"vždy\",\"z\",\"za\",\"zatímco\",\"zač\",\"zda\",\"zde\",\"ze\",\"zprávy\",\"zpět\",\"čau\",\"či\",\"článku\",\"články\",\"čtrnáct\",\"čtyři\",\"šest\",\"šestnáct\",\"že\"],\"el\":[\"αλλα\",\"αν\",\"αντι\",\"απο\",\"αυτα\",\"αυτεσ\",\"αυτη\",\"αυτο\",\"αυτοι\",\"αυτοσ\",\"αυτουσ\",\"αυτων\",\"για\",\"δε\",\"δεν\",\"εαν\",\"ειμαι\",\"ειμαστε\",\"ειναι\",\"εισαι\",\"ειστε\",\"εκεινα\",\"εκεινεσ\",\"εκεινη\",\"εκεινο\",\"εκεινοι\",\"εκεινοσ\",\"εκεινουσ\",\"εκεινων\",\"ενω\",\"επι\",\"η\",\"θα\",\"ισωσ\",\"κ\",\"και\",\"κατα\",\"κι\",\"μα\",\"με\",\"μετα\",\"μη\",\"μην\",\"να\",\"ο\",\"οι\",\"ομωσ\",\"οπωσ\",\"οσο\",\"οτι\",\"παρα\",\"ποια\",\"ποιεσ\",\"ποιο\",\"ποιοι\",\"ποιοσ\",\"ποιουσ\",\"ποιων\",\"που\",\"προσ\",\"πωσ\",\"σε\",\"στη\",\"στην\",\"στο\",\"στον\",\"τα\",\"την\",\"τησ\",\"το\",\"τον\",\"τοτε\",\"του\",\"των\",\"ωσ\"],\"eu\":[\"al\",\"anitz\",\"arabera\",\"asko\",\"baina\",\"bat\",\"batean\",\"batek\",\"bati\",\"batzuei\",\"batzuek\",\"batzuetan\",\"batzuk\",\"bera\",\"beraiek\",\"berau\",\"berauek\",\"bere\",\"berori\",\"beroriek\",\"beste\",\"bezala\",\"da\",\"dago\",\"dira\",\"ditu\",\"du\",\"dute\",\"edo\",\"egin\",\"ere\",\"eta\",\"eurak\",\"ez\",\"gainera\",\"gu\",\"gutxi\",\"guzti\",\"haiei\",\"haiek\",\"haietan\",\"hainbeste\",\"hala\",\"han\",\"handik\",\"hango\",\"hara\",\"hari\",\"hark\",\"hartan\",\"hau\",\"hauei\",\"hauek\",\"hauetan\",\"hemen\",\"hemendik\",\"hemengo\",\"hi\",\"hona\",\"honek\",\"honela\",\"honetan\",\"honi\",\"hor\",\"hori\",\"horiei\",\"horiek\",\"horietan\",\"horko\",\"horra\",\"horrek\",\"horrela\",\"horretan\",\"horri\",\"hortik\",\"hura\",\"izan\",\"ni\",\"noiz\",\"nola\",\"non\",\"nondik\",\"nongo\",\"nor\",\"nora\",\"ze\",\"zein\",\"zen\",\"zenbait\",\"zenbat\",\"zer\",\"zergatik\",\"ziren\",\"zituen\",\"zu\",\"zuek\",\"zuen\",\"zuten\"],\"ga\":[\"a\",\"ach\",\"ag\",\"agus\",\"an\",\"aon\",\"ar\",\"arna\",\"as\",\"b'\",\"ba\",\"beirt\",\"bhúr\",\"caoga\",\"ceathair\",\"ceathrar\",\"chomh\",\"chtó\",\"chuig\",\"chun\",\"cois\",\"céad\",\"cúig\",\"cúigear\",\"d'\",\"daichead\",\"dar\",\"de\",\"deich\",\"deichniúr\",\"den\",\"dhá\",\"do\",\"don\",\"dtí\",\"dá\",\"dár\",\"dó\",\"faoi\",\"faoin\",\"faoina\",\"faoinár\",\"fara\",\"fiche\",\"gach\",\"gan\",\"go\",\"gur\",\"haon\",\"hocht\",\"i\",\"iad\",\"idir\",\"in\",\"ina\",\"ins\",\"inár\",\"is\",\"le\",\"leis\",\"lena\",\"lenár\",\"m'\",\"mar\",\"mo\",\"mé\",\"na\",\"nach\",\"naoi\",\"naonúr\",\"ná\",\"ní\",\"níor\",\"nó\",\"nócha\",\"ocht\",\"ochtar\",\"os\",\"roimh\",\"sa\",\"seacht\",\"seachtar\",\"seachtó\",\"seasca\",\"seisear\",\"siad\",\"sibh\",\"sinn\",\"sna\",\"sé\",\"sí\",\"tar\",\"thar\",\"thú\",\"triúr\",\"trí\",\"trína\",\"trínár\",\"tríocha\",\"tú\",\"um\",\"ár\",\"é\",\"éis\",\"í\",\"ó\",\"ón\",\"óna\",\"ónár\"],\"gl\":[\"a\",\"alí\",\"ao\",\"aos\",\"aquel\",\"aquela\",\"aquelas\",\"aqueles\",\"aquilo\",\"aquí\",\"as\",\"así\",\"aínda\",\"ben\",\"cando\",\"che\",\"co\",\"coa\",\"coas\",\"comigo\",\"con\",\"connosco\",\"contigo\",\"convosco\",\"cos\",\"cun\",\"cunha\",\"cunhas\",\"cuns\",\"da\",\"dalgunha\",\"dalgunhas\",\"dalgún\",\"dalgúns\",\"das\",\"de\",\"del\",\"dela\",\"delas\",\"deles\",\"desde\",\"deste\",\"do\",\"dos\",\"dun\",\"dunha\",\"dunhas\",\"duns\",\"e\",\"el\",\"ela\",\"elas\",\"eles\",\"en\",\"era\",\"eran\",\"esa\",\"esas\",\"ese\",\"eses\",\"esta\",\"estaba\",\"estar\",\"este\",\"estes\",\"estiven\",\"estou\",\"está\",\"están\",\"eu\",\"facer\",\"foi\",\"foron\",\"fun\",\"había\",\"hai\",\"iso\",\"isto\",\"la\",\"las\",\"lle\",\"lles\",\"lo\",\"los\",\"mais\",\"me\",\"meu\",\"meus\",\"min\",\"miña\",\"miñas\",\"moi\",\"na\",\"nas\",\"neste\",\"nin\",\"no\",\"non\",\"nos\",\"nosa\",\"nosas\",\"noso\",\"nosos\",\"nun\",\"nunha\",\"nunhas\",\"nuns\",\"nós\",\"o\",\"os\",\"ou\",\"para\",\"pero\",\"pode\",\"pois\",\"pola\",\"polas\",\"polo\",\"polos\",\"por\",\"que\",\"se\",\"senón\",\"ser\",\"seu\",\"seus\",\"sexa\",\"sido\",\"sobre\",\"súa\",\"súas\",\"tamén\",\"tan\",\"te\",\"ten\",\"ter\",\"teu\",\"teus\",\"teñen\",\"teño\",\"ti\",\"tido\",\"tiven\",\"tiña\",\"túa\",\"túas\",\"un\",\"unha\",\"unhas\",\"uns\",\"vos\",\"vosa\",\"vosas\",\"voso\",\"vosos\",\"vós\",\"á\",\"é\",\"ó\",\"ós\"],\"hy\":[\"այդ\",\"այլ\",\"այն\",\"այս\",\"դու\",\"դուք\",\"եմ\",\"են\",\"ենք\",\"ես\",\"եք\",\"է\",\"էի\",\"էին\",\"էինք\",\"էիր\",\"էիք\",\"էր\",\"ըստ\",\"թ\",\"ի\",\"ին\",\"իսկ\",\"իր\",\"կամ\",\"համար\",\"հետ\",\"հետո\",\"մենք\",\"մեջ\",\"մի\",\"ն\",\"նա\",\"նաև\",\"նրա\",\"նրանք\",\"որ\",\"որը\",\"որոնք\",\"որպես\",\"ու\",\"ում\",\"պիտի\",\"վրա\",\"և\"],\"id\":[\"ada\",\"adalah\",\"adanya\",\"adapun\",\"agak\",\"agaknya\",\"agar\",\"akan\",\"akankah\",\"akhirnya\",\"aku\",\"akulah\",\"amat\",\"amatlah\",\"anda\",\"andalah\",\"antar\",\"antara\",\"antaranya\",\"apa\",\"apaan\",\"apabila\",\"apakah\",\"apalagi\",\"apatah\",\"atau\",\"ataukah\",\"ataupun\",\"bagai\",\"bagaikan\",\"bagaimana\",\"bagaimanakah\",\"bagaimanapun\",\"bagi\",\"bahkan\",\"bahwa\",\"bahwasanya\",\"banyak\",\"beberapa\",\"begini\",\"beginian\",\"beginikah\",\"beginilah\",\"begitu\",\"begitukah\",\"begitulah\",\"begitupun\",\"belum\",\"belumlah\",\"berapa\",\"berapakah\",\"berapalah\",\"berapapun\",\"bermacam\",\"bersama\",\"betulkah\",\"biasa\",\"biasanya\",\"bila\",\"bilakah\",\"bisa\",\"bisakah\",\"boleh\",\"bolehkah\",\"bolehlah\",\"buat\",\"bukan\",\"bukankah\",\"bukanlah\",\"bukannya\",\"cuma\",\"dahulu\",\"dalam\",\"dan\",\"dapat\",\"dari\",\"daripada\",\"dekat\",\"demi\",\"demikian\",\"demikianlah\",\"dengan\",\"depan\",\"di\",\"dia\",\"dialah\",\"diantara\",\"diantaranya\",\"dikarenakan\",\"dini\",\"diri\",\"dirinya\",\"disini\",\"disinilah\",\"dong\",\"dulu\",\"enggak\",\"enggaknya\",\"entah\",\"entahlah\",\"hal\",\"hampir\",\"hanya\",\"hanyalah\",\"harus\",\"haruslah\",\"harusnya\",\"hendak\",\"hendaklah\",\"hendaknya\",\"hingga\",\"ia\",\"ialah\",\"ibarat\",\"ingin\",\"inginkah\",\"inginkan\",\"ini\",\"inikah\",\"inilah\",\"itu\",\"itukah\",\"itulah\",\"jangan\",\"jangankan\",\"janganlah\",\"jika\",\"jikalau\",\"juga\",\"justru\",\"kala\",\"kalau\",\"kalaulah\",\"kalaupun\",\"kalian\",\"kami\",\"kamilah\",\"kamu\",\"kamulah\",\"kan\",\"kapan\",\"kapankah\",\"kapanpun\",\"karena\",\"karenanya\",\"ke\",\"kecil\",\"kemudian\",\"kenapa\",\"kepada\",\"kepadanya\",\"ketika\",\"khususnya\",\"kini\",\"kinilah\",\"kiranya\",\"kita\",\"kitalah\",\"kok\",\"lagi\",\"lagian\",\"lah\",\"lain\",\"lainnya\",\"lalu\",\"lama\",\"lamanya\",\"lebih\",\"macam\",\"maka\",\"makanya\",\"makin\",\"malah\",\"malahan\",\"mampu\",\"mampukah\",\"mana\",\"manakala\",\"manalagi\",\"masih\",\"masihkah\",\"masing\",\"mau\",\"maupun\",\"melainkan\",\"melalui\",\"memang\",\"mengapa\",\"mereka\",\"merekalah\",\"merupakan\",\"meski\",\"meskipun\",\"mungkin\",\"mungkinkah\",\"nah\",\"namun\",\"nanti\",\"nantinya\",\"nyaris\",\"oleh\",\"olehnya\",\"pada\",\"padahal\",\"padanya\",\"paling\",\"pantas\",\"para\",\"pasti\",\"pastilah\",\"per\",\"percuma\",\"pernah\",\"pula\",\"pun\",\"rupanya\",\"saat\",\"saatnya\",\"saja\",\"sajalah\",\"saling\",\"sama\",\"sambil\",\"sampai\",\"sana\",\"sangat\",\"sangatlah\",\"saya\",\"sayalah\",\"se\",\"sebab\",\"sebabnya\",\"sebagai\",\"sebagaimana\",\"sebagainya\",\"sebaliknya\",\"sebanyak\",\"sebegini\",\"sebegitu\",\"sebelum\",\"sebelumnya\",\"sebenarnya\",\"seberapa\",\"sebetulnya\",\"sebisanya\",\"sebuah\",\"sedang\",\"sedangkan\",\"sedemikian\",\"sedikit\",\"sedikitnya\",\"segala\",\"segalanya\",\"segera\",\"seharusnya\",\"sehingga\",\"sejak\",\"sejenak\",\"sekali\",\"sekalian\",\"sekaligus\",\"sekalipun\",\"sekarang\",\"seketika\",\"sekiranya\",\"sekitar\",\"sekitarnya\",\"sela\",\"selagi\",\"selain\",\"selaku\",\"selalu\",\"selama\",\"selamanya\",\"seluruh\",\"seluruhnya\",\"semacam\",\"semakin\",\"semasih\",\"semaunya\",\"sementara\",\"sempat\",\"semua\",\"semuanya\",\"semula\",\"sendiri\",\"sendirinya\",\"seolah\",\"seorang\",\"sepanjang\",\"sepantasnya\",\"sepantasnyalah\",\"seperti\",\"sepertinya\",\"sering\",\"seringnya\",\"serta\",\"serupa\",\"sesaat\",\"sesama\",\"sesegera\",\"sesekali\",\"seseorang\",\"sesuatu\",\"sesuatunya\",\"sesudah\",\"sesudahnya\",\"setelah\",\"seterusnya\",\"setiap\",\"setidaknya\",\"sewaktu\",\"siapa\",\"siapakah\",\"siapapun\",\"sini\",\"sinilah\",\"suatu\",\"sudah\",\"sudahkah\",\"sudahlah\",\"supaya\",\"tadi\",\"tadinya\",\"tak\",\"tanpa\",\"tapi\",\"telah\",\"tentang\",\"tentu\",\"tentulah\",\"tentunya\",\"terdiri\",\"terhadap\",\"terhadapnya\",\"terlalu\",\"terlebih\",\"tersebut\",\"tersebutlah\",\"tertentu\",\"tetapi\",\"tiap\",\"tidak\",\"tidakkah\",\"tidaklah\",\"toh\",\"waduh\",\"wah\",\"wahai\",\"walau\",\"walaupun\",\"wong\",\"yaitu\",\"yakni\",\"yang\"],\"ja\":[\"あっ\",\"あり\",\"ある\",\"い\",\"いう\",\"いる\",\"う\",\"うち\",\"お\",\"および\",\"おり\",\"か\",\"かつて\",\"から\",\"が\",\"き\",\"ここ\",\"こと\",\"この\",\"これ\",\"これら\",\"さ\",\"さらに\",\"し\",\"しかし\",\"する\",\"ず\",\"せ\",\"せる\",\"そして\",\"その\",\"その他\",\"その後\",\"それ\",\"それぞれ\",\"た\",\"ただし\",\"たち\",\"ため\",\"たり\",\"だ\",\"だっ\",\"つ\",\"て\",\"で\",\"でき\",\"できる\",\"です\",\"では\",\"でも\",\"と\",\"という\",\"といった\",\"とき\",\"ところ\",\"として\",\"とともに\",\"とも\",\"と共に\",\"な\",\"ない\",\"なお\",\"なかっ\",\"ながら\",\"なく\",\"なっ\",\"など\",\"なら\",\"なり\",\"なる\",\"に\",\"において\",\"における\",\"について\",\"にて\",\"によって\",\"により\",\"による\",\"に対して\",\"に対する\",\"に関する\",\"の\",\"ので\",\"のみ\",\"は\",\"ば\",\"へ\",\"ほか\",\"ほとんど\",\"ほど\",\"ます\",\"また\",\"または\",\"まで\",\"も\",\"もの\",\"ものの\",\"や\",\"よう\",\"より\",\"ら\",\"られ\",\"られる\",\"れ\",\"れる\",\"を\",\"ん\",\"及び\",\"特に\"],\"lv\":[\"aiz\",\"ap\",\"apakš\",\"apakšpus\",\"ar\",\"arī\",\"augšpus\",\"bet\",\"bez\",\"bija\",\"biji\",\"biju\",\"bijām\",\"bijāt\",\"būs\",\"būsi\",\"būsiet\",\"būsim\",\"būt\",\"būšu\",\"caur\",\"diemžēl\",\"diezin\",\"droši\",\"dēļ\",\"esam\",\"esat\",\"esi\",\"esmu\",\"gan\",\"gar\",\"iekam\",\"iekams\",\"iekām\",\"iekāms\",\"iekš\",\"iekšpus\",\"ik\",\"ir\",\"it\",\"itin\",\"iz\",\"ja\",\"jau\",\"jeb\",\"jebšu\",\"jel\",\"jo\",\"jā\",\"ka\",\"kamēr\",\"kaut\",\"kolīdz\",\"kopš\",\"kā\",\"kļuva\",\"kļuvi\",\"kļuvu\",\"kļuvām\",\"kļuvāt\",\"kļūs\",\"kļūsi\",\"kļūsiet\",\"kļūsim\",\"kļūst\",\"kļūstam\",\"kļūstat\",\"kļūsti\",\"kļūstu\",\"kļūt\",\"kļūšu\",\"labad\",\"lai\",\"lejpus\",\"līdz\",\"līdzko\",\"ne\",\"nebūt\",\"nedz\",\"nekā\",\"nevis\",\"nezin\",\"no\",\"nu\",\"nē\",\"otrpus\",\"pa\",\"par\",\"pat\",\"pie\",\"pirms\",\"pret\",\"priekš\",\"pār\",\"pēc\",\"starp\",\"tad\",\"tak\",\"tapi\",\"taps\",\"tapsi\",\"tapsiet\",\"tapsim\",\"tapt\",\"tapāt\",\"tapšu\",\"taču\",\"te\",\"tiec\",\"tiek\",\"tiekam\",\"tiekat\",\"tieku\",\"tik\",\"tika\",\"tikai\",\"tiki\",\"tikko\",\"tiklab\",\"tiklīdz\",\"tiks\",\"tiksiet\",\"tiksim\",\"tikt\",\"tiku\",\"tikvien\",\"tikām\",\"tikāt\",\"tikšu\",\"tomēr\",\"topat\",\"turpretim\",\"turpretī\",\"tā\",\"tādēļ\",\"tālab\",\"tāpēc\",\"un\",\"uz\",\"vai\",\"var\",\"varat\",\"varēja\",\"varēji\",\"varēju\",\"varējām\",\"varējāt\",\"varēs\",\"varēsi\",\"varēsiet\",\"varēsim\",\"varēt\",\"varēšu\",\"vien\",\"virs\",\"virspus\",\"vis\",\"viņpus\",\"zem\",\"ārpus\",\"šaipus\"],\"th\":[\"กล่าว\",\"กว่า\",\"กัน\",\"กับ\",\"การ\",\"ก็\",\"ก่อน\",\"ขณะ\",\"ขอ\",\"ของ\",\"ขึ้น\",\"คง\",\"ครั้ง\",\"ความ\",\"คือ\",\"จะ\",\"จัด\",\"จาก\",\"จึง\",\"ช่วง\",\"ซึ่ง\",\"ดัง\",\"ด้วย\",\"ด้าน\",\"ตั้ง\",\"ตั้งแต่\",\"ตาม\",\"ต่อ\",\"ต่าง\",\"ต่างๆ\",\"ต้อง\",\"ถึง\",\"ถูก\",\"ถ้า\",\"ทั้ง\",\"ทั้งนี้\",\"ทาง\",\"ที่\",\"ที่สุด\",\"ทุก\",\"ทํา\",\"ทําให้\",\"นอกจาก\",\"นัก\",\"นั้น\",\"นี้\",\"น่า\",\"นํา\",\"บาง\",\"ผล\",\"ผ่าน\",\"พบ\",\"พร้อม\",\"มา\",\"มาก\",\"มี\",\"ยัง\",\"รวม\",\"ระหว่าง\",\"รับ\",\"ราย\",\"ร่วม\",\"ลง\",\"วัน\",\"ว่า\",\"สุด\",\"ส่ง\",\"ส่วน\",\"สําหรับ\",\"หนึ่ง\",\"หรือ\",\"หลัง\",\"หลังจาก\",\"หลาย\",\"หาก\",\"อยาก\",\"อยู่\",\"อย่าง\",\"ออก\",\"อะไร\",\"อาจ\",\"อีก\",\"เขา\",\"เข้า\",\"เคย\",\"เฉพาะ\",\"เช่น\",\"เดียว\",\"เดียวกัน\",\"เนื่องจาก\",\"เปิด\",\"เปิดเผย\",\"เป็น\",\"เป็นการ\",\"เพราะ\",\"เพื่อ\",\"เมื่อ\",\"เรา\",\"เริ่ม\",\"เลย\",\"เห็น\",\"เอง\",\"แต่\",\"แบบ\",\"แรก\",\"และ\",\"แล้ว\",\"แห่ง\",\"โดย\",\"ใน\",\"ให้\",\"ได้\",\"ไป\",\"ไม่\",\"ไว้\"],\"ar\":[\"،\",\"أ\",\"ا\",\"اثر\",\"اجل\",\"احد\",\"اخرى\",\"اذا\",\"اربعة\",\"اطار\",\"اعادة\",\"اعلنت\",\"اف\",\"اكثر\",\"اكد\",\"الا\",\"الاخيرة\",\"الان\",\"الاول\",\"الاولى\",\"التى\",\"التي\",\"الثاني\",\"الثانية\",\"الذاتي\",\"الذى\",\"الذي\",\"الذين\",\"السابق\",\"الف\",\"الماضي\",\"المقبل\",\"الوقت\",\"الى\",\"اليوم\",\"اما\",\"امام\",\"امس\",\"ان\",\"انه\",\"انها\",\"او\",\"اول\",\"اي\",\"ايار\",\"ايام\",\"ايضا\",\"ب\",\"باسم\",\"بان\",\"برس\",\"بسبب\",\"بشكل\",\"بعد\",\"بعض\",\"بن\",\"به\",\"بها\",\"بين\",\"تم\",\"ثلاثة\",\"ثم\",\"جميع\",\"حاليا\",\"حتى\",\"حوالى\",\"حول\",\"حيث\",\"حين\",\"خلال\",\"دون\",\"ذلك\",\"زيارة\",\"سنة\",\"سنوات\",\"شخصا\",\"صباح\",\"صفر\",\"ضد\",\"ضمن\",\"عام\",\"عاما\",\"عدة\",\"عدد\",\"عدم\",\"عشر\",\"عشرة\",\"على\",\"عليه\",\"عليها\",\"عن\",\"عند\",\"عندما\",\"غدا\",\"غير\",\"ـ\",\"ف\",\"فان\",\"فى\",\"في\",\"فيه\",\"فيها\",\"قال\",\"قبل\",\"قد\",\"قوة\",\"كان\",\"كانت\",\"كل\",\"كلم\",\"كما\",\"لا\",\"لدى\",\"لقاء\",\"لكن\",\"للامم\",\"لم\",\"لن\",\"له\",\"لها\",\"لوكالة\",\"ما\",\"مايو\",\"مساء\",\"مع\",\"مقابل\",\"مليار\",\"مليون\",\"من\",\"منذ\",\"منها\",\"نحو\",\"نفسه\",\"نهاية\",\"هذا\",\"هذه\",\"هناك\",\"هو\",\"هي\",\"و\",\"و6\",\"واحد\",\"واضاف\",\"واضافت\",\"واكد\",\"وان\",\"واوضح\",\"وفي\",\"وقال\",\"وقالت\",\"وقد\",\"وقف\",\"وكان\",\"وكانت\",\"ولا\",\"ولم\",\"ومن\",\"وهو\",\"وهي\",\"يكون\",\"يمكن\",\"يوم\"],\"bg\":[\"а\",\"автентичен\",\"аз\",\"ако\",\"ала\",\"бе\",\"без\",\"беше\",\"би\",\"бивш\",\"бивша\",\"бившо\",\"бил\",\"била\",\"били\",\"било\",\"благодаря\",\"близо\",\"бъдат\",\"бъде\",\"бяха\",\"в\",\"вас\",\"ваш\",\"ваша\",\"вероятно\",\"вече\",\"взема\",\"ви\",\"вие\",\"винаги\",\"внимава\",\"време\",\"все\",\"всеки\",\"всички\",\"всичко\",\"всяка\",\"във\",\"въпреки\",\"върху\",\"г\",\"ги\",\"главен\",\"главна\",\"главно\",\"глас\",\"го\",\"година\",\"години\",\"годишен\",\"д\",\"да\",\"дали\",\"два\",\"двама\",\"двамата\",\"две\",\"двете\",\"ден\",\"днес\",\"дни\",\"до\",\"добра\",\"добре\",\"добро\",\"добър\",\"докато\",\"докога\",\"дори\",\"досега\",\"доста\",\"друг\",\"друга\",\"други\",\"е\",\"евтин\",\"едва\",\"един\",\"една\",\"еднаква\",\"еднакви\",\"еднакъв\",\"едно\",\"екип\",\"ето\",\"живот\",\"за\",\"забавям\",\"зад\",\"заедно\",\"заради\",\"засега\",\"заспал\",\"затова\",\"защо\",\"защото\",\"и\",\"из\",\"или\",\"им\",\"има\",\"имат\",\"иска\",\"й\",\"каза\",\"как\",\"каква\",\"какво\",\"както\",\"какъв\",\"като\",\"кога\",\"когато\",\"което\",\"които\",\"кой\",\"който\",\"колко\",\"която\",\"къде\",\"където\",\"към\",\"лесен\",\"лесно\",\"ли\",\"лош\",\"м\",\"май\",\"малко\",\"ме\",\"между\",\"мек\",\"мен\",\"месец\",\"ми\",\"много\",\"мнозина\",\"мога\",\"могат\",\"може\",\"мокър\",\"моля\",\"момента\",\"му\",\"н\",\"на\",\"над\",\"назад\",\"най\",\"направи\",\"напред\",\"например\",\"нас\",\"не\",\"него\",\"нещо\",\"нея\",\"ни\",\"ние\",\"никой\",\"нито\",\"нищо\",\"но\",\"нов\",\"нова\",\"нови\",\"новина\",\"някои\",\"някой\",\"няколко\",\"няма\",\"обаче\",\"около\",\"освен\",\"особено\",\"от\",\"отгоре\",\"отново\",\"още\",\"пак\",\"по\",\"повече\",\"повечето\",\"под\",\"поне\",\"поради\",\"после\",\"почти\",\"прави\",\"пред\",\"преди\",\"през\",\"при\",\"пък\",\"първата\",\"първи\",\"първо\",\"пъти\",\"равен\",\"равна\",\"с\",\"са\",\"сам\",\"само\",\"се\",\"сега\",\"си\",\"син\",\"скоро\",\"след\",\"следващ\",\"сме\",\"смях\",\"според\",\"сред\",\"срещу\",\"сте\",\"съм\",\"със\",\"също\",\"т\",\"т.н.\",\"тази\",\"така\",\"такива\",\"такъв\",\"там\",\"твой\",\"те\",\"тези\",\"ти\",\"то\",\"това\",\"тогава\",\"този\",\"той\",\"толкова\",\"точно\",\"три\",\"трябва\",\"тук\",\"тъй\",\"тя\",\"тях\",\"у\",\"утре\",\"харесва\",\"хиляди\",\"ч\",\"часа\",\"че\",\"често\",\"чрез\",\"ще\",\"щом\",\"юмрук\",\"я\",\"як\"],\"bn\":[\"অনেক\",\"অন্য\",\"অবশ্য\",\"আগে\",\"আছে\",\"আজ\",\"আবার\",\"আমরা\",\"আমাদের\",\"আর\",\"ই\",\"উত্তর\",\"উপর\",\"উপরে\",\"এ\",\"এই\",\"এক্\",\"এখন\",\"এত\",\"এব\",\"এমন\",\"এমনি\",\"এর\",\"এস\",\"এসে\",\"ও\",\"ওই\",\"কমনে\",\"করা\",\"করে\",\"কাছে\",\"কাজ\",\"কাজে\",\"কারণ\",\"কি\",\"কিছু\",\"কে\",\"কেউ\",\"কেখা\",\"কেন\",\"কোটি\",\"কোনো\",\"কয়েক\",\"খুব\",\"গিয়ে\",\"গেল\",\"চার\",\"চালু\",\"চেষ্টা\",\"ছিল\",\"জানা\",\"জ্নজন\",\"টি\",\"তখন\",\"তবে\",\"তা\",\"তাই\",\"তো\",\"থাকা\",\"থেকে\",\"দিন\",\"দু\",\"দুই\",\"দেওয়া\",\"ধামার\",\"নতুন\",\"না\",\"নাগাদ\",\"নিয়ে\",\"নেওয়া\",\"নয়\",\"পর\",\"পরে\",\"পাচ\",\"পি\",\"পেয়্র্\",\"প্রতি\",\"প্রথম\",\"প্রযন্ত\",\"প্রাথমিক\",\"প্রায়\",\"বক্তব্য\",\"বন\",\"বলা\",\"বলে\",\"বলেন\",\"বহু\",\"বা\",\"বি\",\"বিভিন্ন\",\"বেশ\",\"বেশি\",\"মতো\",\"মধ্যে\",\"মনে\",\"যখন\",\"যদি\",\"যা\",\"যাওয়া\",\"যে\",\"র\",\"রকম\",\"লক্ষ\",\"শুধু\",\"শুরু\",\"সঙ্গে\",\"সব\",\"সহ\",\"সাধারণ\",\"সামনে\",\"সি\",\"সে\",\"সেই\",\"হতে\",\"হাজার\",\"হয়\"],\"fa\":[\"آباد\",\"آره\",\"آری\",\"آمد\",\"آمده\",\"آن\",\"آنان\",\"آنجا\",\"آنكه\",\"آنها\",\"آنچه\",\"آورد\",\"آورده\",\"آيد\",\"آیا\",\"اثرِ\",\"از\",\"است\",\"استفاده\",\"اش\",\"اكنون\",\"البته\",\"البتّه\",\"ام\",\"اما\",\"امروز\",\"امسال\",\"اند\",\"انکه\",\"او\",\"اول\",\"اي\",\"ايشان\",\"ايم\",\"اين\",\"اينكه\",\"اگر\",\"با\",\"بار\",\"بارة\",\"باره\",\"باشد\",\"باشند\",\"باشيم\",\"بالا\",\"بالایِ\",\"بايد\",\"بدون\",\"بر\",\"برابرِ\",\"براساس\",\"براي\",\"برایِ\",\"برخوردار\",\"برخي\",\"برداري\",\"بروز\",\"بسيار\",\"بسياري\",\"بعد\",\"بعری\",\"بعضي\",\"بلكه\",\"بله\",\"بلکه\",\"بلی\",\"بنابراين\",\"بندي\",\"به\",\"بهترين\",\"بود\",\"بودن\",\"بودند\",\"بوده\",\"بي\",\"بيست\",\"بيش\",\"بيشتر\",\"بيشتري\",\"بين\",\"بی\",\"بیرونِ\",\"تا\",\"تازه\",\"تاكنون\",\"تان\",\"تحت\",\"تر\",\"ترين\",\"تمام\",\"تمامي\",\"تنها\",\"تواند\",\"توانند\",\"توسط\",\"تولِ\",\"تویِ\",\"جا\",\"جاي\",\"جايي\",\"جدا\",\"جديد\",\"جريان\",\"جز\",\"جلوگيري\",\"جلویِ\",\"حتي\",\"حدودِ\",\"حق\",\"خارجِ\",\"خدمات\",\"خواست\",\"خواهد\",\"خواهند\",\"خواهيم\",\"خود\",\"خويش\",\"خیاه\",\"داد\",\"دادن\",\"دادند\",\"داده\",\"دارد\",\"دارند\",\"داريم\",\"داشت\",\"داشتن\",\"داشتند\",\"داشته\",\"دانست\",\"دانند\",\"در\",\"درباره\",\"دنبالِ\",\"ده\",\"دهد\",\"دهند\",\"دو\",\"دوم\",\"ديده\",\"ديروز\",\"ديگر\",\"ديگران\",\"ديگري\",\"دیگر\",\"را\",\"راه\",\"رفت\",\"رفته\",\"روب\",\"روزهاي\",\"روي\",\"رویِ\",\"ريزي\",\"زياد\",\"زير\",\"زيرا\",\"زیرِ\",\"سابق\",\"ساخته\",\"سازي\",\"سراسر\",\"سریِ\",\"سعي\",\"سمتِ\",\"سوم\",\"سوي\",\"سویِ\",\"سپس\",\"شان\",\"شايد\",\"شد\",\"شدن\",\"شدند\",\"شده\",\"شش\",\"شما\",\"شناسي\",\"شود\",\"شوند\",\"صورت\",\"ضدِّ\",\"ضمن\",\"طبقِ\",\"طريق\",\"طور\",\"طي\",\"عقبِ\",\"علّتِ\",\"عنوانِ\",\"غير\",\"فقط\",\"فكر\",\"فوق\",\"قابل\",\"قبل\",\"قصدِ\",\"كرد\",\"كردم\",\"كردن\",\"كردند\",\"كرده\",\"كسي\",\"كل\",\"كمتر\",\"كند\",\"كنم\",\"كنند\",\"كنيد\",\"كنيم\",\"كه\",\"لطفاً\",\"ما\",\"مان\",\"مانند\",\"مانندِ\",\"مثل\",\"مثلِ\",\"مختلف\",\"مدّتی\",\"مردم\",\"مرسی\",\"مقابل\",\"من\",\"مورد\",\"مي\",\"ميليارد\",\"ميليون\",\"مگر\",\"ناشي\",\"نام\",\"نبايد\",\"نبود\",\"نخست\",\"نخستين\",\"نخواهد\",\"ندارد\",\"ندارند\",\"نداشته\",\"نزديك\",\"نزدِ\",\"نزدیکِ\",\"نشان\",\"نشده\",\"نظير\",\"نكرده\",\"نمايد\",\"نمي\",\"نه\",\"نوعي\",\"نيز\",\"نيست\",\"ها\",\"هاي\",\"هايي\",\"هر\",\"هرگز\",\"هزار\",\"هست\",\"هستند\",\"هستيم\",\"هفت\",\"هم\",\"همان\",\"همه\",\"همواره\",\"همين\",\"همچنان\",\"همچنين\",\"همچون\",\"همین\",\"هنوز\",\"هنگام\",\"هنگامِ\",\"هنگامی\",\"هيچ\",\"هیچ\",\"و\",\"وسطِ\",\"وقتي\",\"وقتیکه\",\"ولی\",\"وي\",\"وگو\",\"يا\",\"يابد\",\"يك\",\"يكديگر\",\"يكي\",\"ّه\",\"پاعینِ\",\"پس\",\"پنج\",\"پيش\",\"پیش\",\"پیشِ\",\"چرا\",\"چطور\",\"چند\",\"چندین\",\"چنين\",\"چه\",\"چهار\",\"چون\",\"چيزي\",\"چگونه\",\"چیز\",\"چیزی\",\"چیست\",\"کجا\",\"کجاست\",\"کدام\",\"کس\",\"کسی\",\"کنارِ\",\"که\",\"کَی\",\"کی\",\"گذاري\",\"گذاشته\",\"گردد\",\"گرفت\",\"گرفته\",\"گروهي\",\"گفت\",\"گفته\",\"گويد\",\"گويند\",\"گيرد\",\"گيري\",\"یا\",\"یک\"],\"hi\":[\"अंदर\",\"अत\",\"अदि\",\"अप\",\"अपना\",\"अपनि\",\"अपनी\",\"अपने\",\"अभि\",\"अभी\",\"आदि\",\"आप\",\"इंहिं\",\"इंहें\",\"इंहों\",\"इतयादि\",\"इत्यादि\",\"इन\",\"इनका\",\"इन्हीं\",\"इन्हें\",\"इन्हों\",\"इस\",\"इसका\",\"इसकि\",\"इसकी\",\"इसके\",\"इसमें\",\"इसि\",\"इसी\",\"इसे\",\"उंहिं\",\"उंहें\",\"उंहों\",\"उन\",\"उनका\",\"उनकि\",\"उनकी\",\"उनके\",\"उनको\",\"उन्हीं\",\"उन्हें\",\"उन्हों\",\"उस\",\"उसके\",\"उसि\",\"उसी\",\"उसे\",\"एक\",\"एवं\",\"एस\",\"एसे\",\"ऐसे\",\"ओर\",\"और\",\"कइ\",\"कई\",\"कर\",\"करता\",\"करते\",\"करना\",\"करने\",\"करें\",\"कहते\",\"कहा\",\"का\",\"काफि\",\"काफ़ी\",\"कि\",\"किंहें\",\"किंहों\",\"कितना\",\"किन्हें\",\"किन्हों\",\"किया\",\"किर\",\"किस\",\"किसि\",\"किसी\",\"किसे\",\"की\",\"कुछ\",\"कुल\",\"के\",\"को\",\"कोइ\",\"कोई\",\"कोन\",\"कोनसा\",\"कौन\",\"कौनसा\",\"गया\",\"घर\",\"जब\",\"जहाँ\",\"जहां\",\"जा\",\"जिंहें\",\"जिंहों\",\"जितना\",\"जिधर\",\"जिन\",\"जिन्हें\",\"जिन्हों\",\"जिस\",\"जिसे\",\"जीधर\",\"जेसा\",\"जेसे\",\"जैसा\",\"जैसे\",\"जो\",\"तक\",\"तब\",\"तरह\",\"तिंहें\",\"तिंहों\",\"तिन\",\"तिन्हें\",\"तिन्हों\",\"तिस\",\"तिसे\",\"तो\",\"था\",\"थि\",\"थी\",\"थे\",\"दबारा\",\"दवारा\",\"दिया\",\"दुसरा\",\"दुसरे\",\"दूसरे\",\"दो\",\"द्वारा\",\"न\",\"नहिं\",\"नहीं\",\"ना\",\"निचे\",\"निहायत\",\"नीचे\",\"ने\",\"पर\",\"पहले\",\"पुरा\",\"पूरा\",\"पे\",\"फिर\",\"बनि\",\"बनी\",\"बहि\",\"बही\",\"बहुत\",\"बाद\",\"बाला\",\"बिलकुल\",\"भि\",\"भितर\",\"भी\",\"भीतर\",\"मगर\",\"मानो\",\"मे\",\"में\",\"यदि\",\"यह\",\"यहाँ\",\"यहां\",\"यहि\",\"यही\",\"या\",\"यिह\",\"ये\",\"रखें\",\"रवासा\",\"रहा\",\"रहे\",\"ऱ्वासा\",\"लिए\",\"लिये\",\"लेकिन\",\"व\",\"वगेरह\",\"वरग\",\"वर्ग\",\"वह\",\"वहाँ\",\"वहां\",\"वहिं\",\"वहीं\",\"वाले\",\"वुह\",\"वे\",\"वग़ैरह\",\"संग\",\"सकता\",\"सकते\",\"सबसे\",\"सभि\",\"सभी\",\"साथ\",\"साबुत\",\"साभ\",\"सारा\",\"से\",\"सो\",\"हि\",\"ही\",\"हुअ\",\"हुआ\",\"हुइ\",\"हुई\",\"हुए\",\"हे\",\"हें\",\"है\",\"हैं\",\"हो\",\"होता\",\"होति\",\"होती\",\"होते\",\"होना\",\"होने\"],\"mr\":[\"अधिक\",\"अनेक\",\"अशी\",\"असलयाचे\",\"असलेल्या\",\"असा\",\"असून\",\"असे\",\"आज\",\"आणि\",\"आता\",\"आपल्या\",\"आला\",\"आली\",\"आले\",\"आहे\",\"आहेत\",\"एक\",\"एका\",\"कमी\",\"करणयात\",\"करून\",\"का\",\"काम\",\"काय\",\"काही\",\"किवा\",\"की\",\"केला\",\"केली\",\"केले\",\"कोटी\",\"गेल्या\",\"घेऊन\",\"जात\",\"झाला\",\"झाली\",\"झाले\",\"झालेल्या\",\"टा\",\"डॉ\",\"तर\",\"तरी\",\"तसेच\",\"ता\",\"ती\",\"तीन\",\"ते\",\"तो\",\"त्या\",\"त्याचा\",\"त्याची\",\"त्याच्या\",\"त्याना\",\"त्यानी\",\"त्यामुळे\",\"त्री\",\"दिली\",\"दोन\",\"न\",\"नाही\",\"निर्ण्य\",\"पण\",\"पम\",\"परयतन\",\"पाटील\",\"म\",\"मात्र\",\"माहिती\",\"मी\",\"मुबी\",\"म्हणजे\",\"म्हणाले\",\"म्हणून\",\"या\",\"याचा\",\"याची\",\"याच्या\",\"याना\",\"यानी\",\"येणार\",\"येत\",\"येथील\",\"येथे\",\"लाख\",\"व\",\"व्यकत\",\"सर्व\",\"सागित्ले\",\"सुरू\",\"हजार\",\"हा\",\"ही\",\"हे\",\"होणार\",\"होत\",\"होता\",\"होती\",\"होते\"],\"ro\":[\"acea\",\"aceasta\",\"această\",\"aceea\",\"acei\",\"aceia\",\"acel\",\"acela\",\"acele\",\"acelea\",\"acest\",\"acesta\",\"aceste\",\"acestea\",\"aceşti\",\"aceştia\",\"acolo\",\"acord\",\"acum\",\"ai\",\"aia\",\"aibă\",\"aici\",\"al\",\"ale\",\"alea\",\"altceva\",\"altcineva\",\"am\",\"ar\",\"are\",\"asemenea\",\"asta\",\"astea\",\"astăzi\",\"asupra\",\"au\",\"avea\",\"avem\",\"aveţi\",\"azi\",\"aş\",\"aşadar\",\"aţi\",\"bine\",\"bucur\",\"bună\",\"ca\",\"care\",\"caut\",\"ce\",\"cel\",\"ceva\",\"chiar\",\"cinci\",\"cine\",\"cineva\",\"contra\",\"cu\",\"cum\",\"cumva\",\"curând\",\"curînd\",\"când\",\"cât\",\"câte\",\"câtva\",\"câţi\",\"cînd\",\"cît\",\"cîte\",\"cîtva\",\"cîţi\",\"că\",\"căci\",\"cărei\",\"căror\",\"cărui\",\"către\",\"da\",\"dacă\",\"dar\",\"datorită\",\"dată\",\"dau\",\"de\",\"deci\",\"deja\",\"deoarece\",\"departe\",\"deşi\",\"din\",\"dinaintea\",\"dintr-\",\"dintre\",\"doi\",\"doilea\",\"două\",\"drept\",\"după\",\"dă\",\"ea\",\"ei\",\"el\",\"ele\",\"eram\",\"este\",\"eu\",\"eşti\",\"face\",\"fata\",\"fi\",\"fie\",\"fiecare\",\"fii\",\"fim\",\"fiu\",\"fiţi\",\"frumos\",\"fără\",\"graţie\",\"halbă\",\"iar\",\"ieri\",\"la\",\"le\",\"li\",\"lor\",\"lui\",\"lângă\",\"lîngă\",\"mai\",\"mea\",\"mei\",\"mele\",\"mereu\",\"meu\",\"mi\",\"mie\",\"mine\",\"mult\",\"multă\",\"mulţi\",\"mulţumesc\",\"mâine\",\"mîine\",\"mă\",\"ne\",\"nevoie\",\"nici\",\"nicăieri\",\"nimeni\",\"nimeri\",\"nimic\",\"nişte\",\"noastre\",\"noastră\",\"noi\",\"noroc\",\"nostru\",\"nouă\",\"noştri\",\"nu\",\"opt\",\"ori\",\"oricare\",\"orice\",\"oricine\",\"oricum\",\"oricând\",\"oricât\",\"oricînd\",\"oricît\",\"oriunde\",\"patra\",\"patru\",\"patrulea\",\"pe\",\"pentru\",\"peste\",\"pic\",\"poate\",\"pot\",\"prea\",\"prima\",\"primul\",\"prin\",\"printr-\",\"puţin\",\"puţina\",\"puţină\",\"până\",\"pînă\",\"rog\",\"sa\",\"sale\",\"sau\",\"se\",\"spate\",\"spre\",\"sub\",\"sunt\",\"suntem\",\"sunteţi\",\"sută\",\"sînt\",\"sîntem\",\"sînteţi\",\"să\",\"săi\",\"său\",\"ta\",\"tale\",\"te\",\"timp\",\"tine\",\"toate\",\"toată\",\"tot\",\"totuşi\",\"toţi\",\"trei\",\"treia\",\"treilea\",\"tu\",\"tăi\",\"tău\",\"un\",\"una\",\"unde\",\"undeva\",\"unei\",\"uneia\",\"unele\",\"uneori\",\"unii\",\"unor\",\"unora\",\"unu\",\"unui\",\"unuia\",\"unul\",\"vi\",\"voastre\",\"voastră\",\"voi\",\"vostru\",\"vouă\",\"voştri\",\"vreme\",\"vreo\",\"vreun\",\"vă\",\"zece\",\"zero\",\"zi\",\"zice\",\"îi\",\"îl\",\"îmi\",\"împotriva\",\"în\",\"înainte\",\"înaintea\",\"încotro\",\"încât\",\"încît\",\"între\",\"întrucât\",\"întrucît\",\"îţi\",\"ăla\",\"ălea\",\"ăsta\",\"ăstea\",\"ăştia\",\"şapte\",\"şase\",\"şi\",\"ştiu\",\"ţi\",\"ţie\"],\"en\":[\"a\",\"a's\",\"able\",\"about\",\"above\",\"according\",\"accordingly\",\"across\",\"actually\",\"after\",\"afterwards\",\"again\",\"against\",\"ain't\",\"all\",\"allow\",\"allows\",\"almost\",\"alone\",\"along\",\"already\",\"also\",\"although\",\"always\",\"am\",\"among\",\"amongst\",\"an\",\"and\",\"another\",\"any\",\"anybody\",\"anyhow\",\"anyone\",\"anything\",\"anyway\",\"anyways\",\"anywhere\",\"apart\",\"appear\",\"appreciate\",\"appropriate\",\"are\",\"aren't\",\"around\",\"as\",\"aside\",\"ask\",\"asking\",\"associated\",\"at\",\"available\",\"away\",\"awfully\",\"b\",\"be\",\"became\",\"because\",\"become\",\"becomes\",\"becoming\",\"been\",\"before\",\"beforehand\",\"behind\",\"being\",\"believe\",\"below\",\"beside\",\"besides\",\"best\",\"better\",\"between\",\"beyond\",\"both\",\"brief\",\"but\",\"by\",\"c\",\"c'mon\",\"c's\",\"came\",\"can\",\"can't\",\"cannot\",\"cant\",\"cause\",\"causes\",\"certain\",\"certainly\",\"changes\",\"clearly\",\"co\",\"com\",\"come\",\"comes\",\"concerning\",\"consequently\",\"consider\",\"considering\",\"contain\",\"containing\",\"contains\",\"corresponding\",\"could\",\"couldn't\",\"course\",\"currently\",\"d\",\"definitely\",\"described\",\"despite\",\"did\",\"didn't\",\"different\",\"do\",\"does\",\"doesn't\",\"doing\",\"don't\",\"done\",\"down\",\"downwards\",\"during\",\"e\",\"each\",\"edu\",\"eg\",\"eight\",\"either\",\"else\",\"elsewhere\",\"enough\",\"entirely\",\"especially\",\"et\",\"etc\",\"even\",\"ever\",\"every\",\"everybody\",\"everyone\",\"everything\",\"everywhere\",\"ex\",\"exactly\",\"example\",\"except\",\"f\",\"far\",\"few\",\"fifth\",\"first\",\"five\",\"followed\",\"following\",\"follows\",\"for\",\"former\",\"formerly\",\"forth\",\"four\",\"from\",\"further\",\"furthermore\",\"g\",\"get\",\"gets\",\"getting\",\"given\",\"gives\",\"go\",\"goes\",\"going\",\"gone\",\"got\",\"gotten\",\"greetings\",\"h\",\"had\",\"hadn't\",\"happens\",\"hardly\",\"has\",\"hasn't\",\"have\",\"haven't\",\"having\",\"he\",\"he's\",\"hello\",\"help\",\"hence\",\"her\",\"here\",\"here's\",\"hereafter\",\"hereby\",\"herein\",\"hereupon\",\"hers\",\"herself\",\"hi\",\"him\",\"himself\",\"his\",\"hither\",\"hopefully\",\"how\",\"howbeit\",\"however\",\"i\",\"i'd\",\"i'll\",\"i'm\",\"i've\",\"ie\",\"if\",\"ignored\",\"immediate\",\"in\",\"inasmuch\",\"inc\",\"indeed\",\"indicate\",\"indicated\",\"indicates\",\"inner\",\"insofar\",\"instead\",\"into\",\"inward\",\"is\",\"isn't\",\"it\",\"it'd\",\"it'll\",\"it's\",\"its\",\"itself\",\"j\",\"just\",\"k\",\"keep\",\"keeps\",\"kept\",\"know\",\"known\",\"knows\",\"l\",\"last\",\"lately\",\"later\",\"latter\",\"latterly\",\"least\",\"less\",\"lest\",\"let\",\"let's\",\"like\",\"liked\",\"likely\",\"little\",\"look\",\"looking\",\"looks\",\"ltd\",\"m\",\"mainly\",\"many\",\"may\",\"maybe\",\"me\",\"mean\",\"meanwhile\",\"merely\",\"might\",\"more\",\"moreover\",\"most\",\"mostly\",\"much\",\"must\",\"my\",\"myself\",\"n\",\"name\",\"namely\",\"nd\",\"near\",\"nearly\",\"necessary\",\"need\",\"needs\",\"neither\",\"never\",\"nevertheless\",\"new\",\"next\",\"nine\",\"no\",\"nobody\",\"non\",\"none\",\"noone\",\"nor\",\"normally\",\"not\",\"nothing\",\"novel\",\"now\",\"nowhere\",\"o\",\"obviously\",\"of\",\"off\",\"often\",\"oh\",\"ok\",\"okay\",\"old\",\"on\",\"once\",\"one\",\"ones\",\"only\",\"onto\",\"or\",\"other\",\"others\",\"otherwise\",\"ought\",\"our\",\"ours\",\"ourselves\",\"out\",\"outside\",\"over\",\"overall\",\"own\",\"p\",\"particular\",\"particularly\",\"per\",\"perhaps\",\"placed\",\"please\",\"plus\",\"possible\",\"presumably\",\"probably\",\"provides\",\"q\",\"que\",\"quite\",\"qv\",\"r\",\"rather\",\"rd\",\"re\",\"really\",\"reasonably\",\"regarding\",\"regardless\",\"regards\",\"relatively\",\"respectively\",\"right\",\"s\",\"said\",\"same\",\"saw\",\"say\",\"saying\",\"says\",\"second\",\"secondly\",\"see\",\"seeing\",\"seem\",\"seemed\",\"seeming\",\"seems\",\"seen\",\"self\",\"selves\",\"sensible\",\"sent\",\"serious\",\"seriously\",\"seven\",\"several\",\"shall\",\"she\",\"should\",\"shouldn't\",\"since\",\"six\",\"so\",\"some\",\"somebody\",\"somehow\",\"someone\",\"something\",\"sometime\",\"sometimes\",\"somewhat\",\"somewhere\",\"soon\",\"sorry\",\"specified\",\"specify\",\"specifying\",\"still\",\"sub\",\"such\",\"sup\",\"sure\",\"t\",\"t's\",\"take\",\"taken\",\"tell\",\"tends\",\"th\",\"than\",\"thank\",\"thanks\",\"thanx\",\"that\",\"that's\",\"thats\",\"the\",\"their\",\"theirs\",\"them\",\"themselves\",\"then\",\"thence\",\"there\",\"there's\",\"thereafter\",\"thereby\",\"therefore\",\"therein\",\"theres\",\"thereupon\",\"these\",\"they\",\"they'd\",\"they'll\",\"they're\",\"they've\",\"think\",\"third\",\"this\",\"thorough\",\"thoroughly\",\"those\",\"though\",\"three\",\"through\",\"throughout\",\"thru\",\"thus\",\"to\",\"together\",\"too\",\"took\",\"toward\",\"towards\",\"tried\",\"tries\",\"truly\",\"try\",\"trying\",\"twice\",\"two\",\"u\",\"un\",\"under\",\"unfortunately\",\"unless\",\"unlikely\",\"until\",\"unto\",\"up\",\"upon\",\"us\",\"use\",\"used\",\"useful\",\"uses\",\"using\",\"usually\",\"uucp\",\"v\",\"value\",\"various\",\"very\",\"via\",\"viz\",\"vs\",\"w\",\"want\",\"wants\",\"was\",\"wasn't\",\"way\",\"we\",\"we'd\",\"we'll\",\"we're\",\"we've\",\"welcome\",\"well\",\"went\",\"were\",\"weren't\",\"what\",\"what's\",\"whatever\",\"when\",\"whence\",\"whenever\",\"where\",\"where's\",\"whereafter\",\"whereas\",\"whereby\",\"wherein\",\"whereupon\",\"wherever\",\"whether\",\"which\",\"while\",\"whither\",\"who\",\"who's\",\"whoever\",\"whole\",\"whom\",\"whose\",\"why\",\"will\",\"willing\",\"wish\",\"with\",\"within\",\"without\",\"won't\",\"wonder\",\"would\",\"wouldn't\",\"x\",\"y\",\"yes\",\"yet\",\"you\",\"you'd\",\"you'll\",\"you're\",\"you've\",\"your\",\"yours\",\"yourself\",\"yourselves\",\"z\",\"zero\"]}\n",
    "    stopwords_json_en = set(stopwords_json['en'])\n",
    "    stopwords_nltk_en = set(stopwords.words('english'))\n",
    "    # Combine the stopwords. Its a lot longer so I'm not printing it out...\n",
    "    stoplist_combined = set.union(stopwords_json_en, stopwords_nltk_en)\n",
    "\n",
    "    rmsw_token_words = ([word for word in token_words if word.lower() not in stoplist_combined])\n",
    "    if (verbose):\n",
    "        print('Stopwords removed:' + str(rmsw_token_words[0:20]))\n",
    "    \n",
    "    ## Fouth: remove CAP words\n",
    "#     rmcap_token_words =[]\n",
    "#     for word in rmsw_token_words:\n",
    "#         if word.isupper():\n",
    "#             rmcap_token_words.append(word.title())\n",
    "#         else:\n",
    "#             rmcap_token_words.append(word)\n",
    "#     if (verbose):\n",
    "#         print('CAPITALIZED removed:' + str(rmcap_token_words[0:20]))\n",
    "        \n",
    "     ## Fifth : Remove salutation\n",
    "    salutation = ['mr','mrs','mss','dr','phd','prof','rev']\n",
    "    rmsalu_token_words = ([word for word in rmsw_token_words if word.lower() not in salutation])\n",
    "    if (verbose):\n",
    "        print('Salutation removed:' + str(rmsalu_token_words[0:20]))\n",
    "        \n",
    "\n",
    "    ## define transfer tag function:\n",
    "    def transfer_tag(treebank_tag):\n",
    "        if treebank_tag.startswith('j' or 'J'):\n",
    "            return 'a'\n",
    "        elif treebank_tag.startswith('v' or 'V'):\n",
    "            return 'v'\n",
    "        elif treebank_tag.startswith('n' or 'N'):\n",
    "            return 'n'\n",
    "        elif treebank_tag.startswith('r' or 'R'):\n",
    "            return 'r'\n",
    "        else:\n",
    "            # As default pos in lemmatization is Noun\n",
    "            return 'n'\n",
    "    \n",
    "    ## Seventh: Lemmatization\n",
    "    from nltk import pos_tag\n",
    "    from nltk.stem import WordNetLemmatizer\n",
    "    wnl = WordNetLemmatizer()\n",
    "\n",
    "    lemma_words = []\n",
    "    for word, tag in nltk.pos_tag(rmsalu_token_words):\n",
    "        firstletter = tag[0].lower() # -> get the first letter of tag and put them decapitalized form\n",
    "        wtag = transfer_tag(firstletter) # -> extract the word's tag (noun, verb, adverb, adjective)\n",
    "        if not wtag:\n",
    "            lemma_words.extend([word])\n",
    "        else:\n",
    "            lemma_words.extend([wnl.lemmatize(word, wtag)]) # -> get lemma for word with tag\n",
    "    if (verbose):\n",
    "        print('Lemmas : ' + str(lemma_words[0:10]))\n",
    "        \n",
    "    \n",
    "    ## Eigth: English words\n",
    "    from nltk.corpus import wordnet as wn\n",
    "    eng_words = [word for word in lemma_words if len(wn.synsets(word.lower())) > 1]\n",
    "    \n",
    "    ## Sixth: Remove Numbers\n",
    "    rmnb_token_words = ([word for word in eng_words if not word.isdigit()])\n",
    "    if (verbose):\n",
    "        print('Number removed: ' + str(rmnb_token_words[0:20]))\n",
    "        \n",
    "    \n",
    "    ## RETURN\n",
    "    return rmnb_token_words"
   ]
  },
  {
   "cell_type": "code",
   "execution_count": null,
   "metadata": {
    "ExecuteTime": {
     "end_time": "2018-10-13T11:13:44.818185Z",
     "start_time": "2018-10-13T11:13:33.803820Z"
    },
    "scrolled": true
   },
   "outputs": [],
   "source": [
    "df_handle = df_raw.copy()\n",
    "[n,d] = df_handle.shape\n",
    "df_handle['Tokens'] = ['']*n\n",
    "\n",
    "for index, row in df_handle.iterrows():\n",
    "    df_handle['Tokens'].iloc[index] = convert_tokens(row['Content'],0)\n",
    "    \n",
    "df_handle.head(10)"
   ]
  },
  {
   "cell_type": "code",
   "execution_count": null,
   "metadata": {},
   "outputs": [],
   "source": [
    "df_handle.Content.iloc[0]"
   ]
  },
  {
   "cell_type": "code",
   "execution_count": null,
   "metadata": {},
   "outputs": [],
   "source": [
    "print(df_handle.Tokens.iloc[0])"
   ]
  },
  {
   "cell_type": "markdown",
   "metadata": {},
   "source": [
    "### Calculate TF-IDF"
   ]
  },
  {
   "cell_type": "code",
   "execution_count": null,
   "metadata": {},
   "outputs": [],
   "source": [
    "from sklearn.feature_extraction.text import TfidfVectorizer\n",
    "tfidf_vectorizer = TfidfVectorizer(norm=None)  \n",
    "list_contents =[]\n",
    "for index, row in df_handle.iterrows():\n",
    "    list_contents.append(' '.join(row.Tokens))\n",
    "    \n",
    "# list_contents = df_handle.Content.values\n",
    "\n",
    "tfidf_matrix = tfidf_vectorizer.fit_transform(list_contents)\n",
    "df_tfidf = pd.DataFrame(tfidf_matrix.toarray(),columns=[tfidf_vectorizer.get_feature_names()])\n",
    "df_tfidf.head(10)"
   ]
  },
  {
   "cell_type": "markdown",
   "metadata": {},
   "source": [
    "### Cosine Similarity Matrix"
   ]
  },
  {
   "cell_type": "code",
   "execution_count": null,
   "metadata": {
    "ExecuteTime": {
     "end_time": "2018-10-13T11:13:56.301680Z",
     "start_time": "2018-10-13T11:13:45.895505Z"
    },
    "scrolled": true
   },
   "outputs": [],
   "source": [
    "from sklearn.metrics.pairwise import cosine_similarity, euclidean_distances\n",
    "cosine_matrix =  cosine_similarity(df_tfidf.values)\n",
    "df_cosine = pd.DataFrame(cosine_matrix,index=range(100),columns=range(100))\n",
    "df_cosine.head(10)"
   ]
  },
  {
   "cell_type": "code",
   "execution_count": null,
   "metadata": {},
   "outputs": [],
   "source": [
    "### Plot the heatmap of cosine matrix\n",
    "import seaborn as sns\n",
    "%matplotlib inline\n",
    "plt.figure(figsize=(15,15))\n",
    "sns.heatmap(df_cosine, annot=False,robust=True, fmt=\"f\", cmap='RdBu_r')\n",
    "plt.show()"
   ]
  },
  {
   "cell_type": "markdown",
   "metadata": {},
   "source": [
    "### Scatter TF-IDF Points after Using Dimensional Reduction Techinques"
   ]
  },
  {
   "cell_type": "code",
   "execution_count": null,
   "metadata": {
    "ExecuteTime": {
     "end_time": "2018-10-13T11:13:57.301489Z",
     "start_time": "2018-10-13T11:13:56.307510Z"
    }
   },
   "outputs": [],
   "source": [
    "######################################\n",
    "print(\"Using PCA\")\n",
    "from sklearn.decomposition import PCA\n",
    "pca = PCA(n_components=2)\n",
    "X = np.array(df_tfidf.iloc[0:50].values)\n",
    "v1 = pca.fit_transform(X)\n",
    "import matplotlib.pyplot as plt\n",
    "fig = plt.figure(figsize=(10, 10))\n",
    "ax = fig.add_subplot(111)\n",
    "\n",
    "ax.scatter(v1[:,0],v1[:,1],marker='^', c='r')\n",
    "\n",
    "\n",
    "X = np.array(df_tfidf.iloc[50:].values)\n",
    "v2 = pca.fit_transform(X)\n",
    "import matplotlib.pyplot as plt\n",
    "ax.scatter(v2[:,0],v2[:,1],marker='o', c='b')\n",
    "\n",
    "# plotlabel(ax,n,v)\n",
    "# set axes range\n",
    "plt.grid()\n",
    "plt.show()"
   ]
  },
  {
   "cell_type": "code",
   "execution_count": null,
   "metadata": {},
   "outputs": [],
   "source": [
    "######################################\n",
    "print(\"Using MiniBatchSparsePCA\")\n",
    "\n",
    "from sklearn.decomposition import MiniBatchSparsePCA\n",
    "spca = MiniBatchSparsePCA(n_components=2)\n",
    "X = np.array(df_tfidf.iloc[0:50].values)\n",
    "v1 = spca.fit_transform(X)\n",
    "import matplotlib.pyplot as plt\n",
    "fig = plt.figure(figsize=(10, 10))\n",
    "ax = fig.add_subplot(111)\n",
    "\n",
    "ax.scatter(v1[:,0],v1[:,1],marker='^', c='r')\n",
    "\n",
    "\n",
    "X = np.array(df_tfidf.iloc[50:].values)\n",
    "v2 = spca.fit_transform(X)\n",
    "import matplotlib.pyplot as plt\n",
    "ax.scatter(v2[:,0],v2[:,1],marker='o', c='b')\n",
    "\n",
    "# plotlabel(ax,n,v)\n",
    "# set axes range\n",
    "plt.grid()\n",
    "plt.show()"
   ]
  },
  {
   "cell_type": "markdown",
   "metadata": {
    "toc": true
   },
   "source": [
    "<h1>Table of Contents<span class=\"tocSkip\"></span></h1>\n",
    "<div class=\"toc\"><ul class=\"toc-item\"><li><span><a href=\"#Load-Data\" data-toc-modified-id=\"Load-Data-1\"><span class=\"toc-item-num\">1&nbsp;&nbsp;</span>Load Data</a></span></li><li><span><a href=\"#From-Raw-to-Representation-Vectors\" data-toc-modified-id=\"From-Raw-to-Representation-Vectors-2\"><span class=\"toc-item-num\">2&nbsp;&nbsp;</span>From Raw to Representation Vectors</a></span></li><li><span><a href=\"#Split-Raw-data-into-Train-and-Test-set\" data-toc-modified-id=\"Split-Raw-data-into-Train-and-Test-set-3\"><span class=\"toc-item-num\">3&nbsp;&nbsp;</span>Split Raw data into Train and Test set</a></span></li><li><span><a href=\"#Tokens-Vectors-to-TF-IDF-Vectors\" data-toc-modified-id=\"Tokens-Vectors-to-TF-IDF-Vectors-4\"><span class=\"toc-item-num\">4&nbsp;&nbsp;</span>Tokens Vectors to TF-IDF Vectors</a></span></li><li><span><a href=\"#Model-Learning\" data-toc-modified-id=\"Model-Learning-5\"><span class=\"toc-item-num\">5&nbsp;&nbsp;</span>Model Learning</a></span><ul class=\"toc-item\"><li><span><a href=\"#BAYES-classifier\" data-toc-modified-id=\"BAYES-classifier-5.1\"><span class=\"toc-item-num\">5.1&nbsp;&nbsp;</span>BAYES classifier</a></span></li><li><span><a href=\"#KNN-classifier\" data-toc-modified-id=\"KNN-classifier-5.2\"><span class=\"toc-item-num\">5.2&nbsp;&nbsp;</span>KNN classifier</a></span></li></ul></li><li><span><a href=\"#Applying-Models-to-Test-Data\" data-toc-modified-id=\"Applying-Models-to-Test-Data-6\"><span class=\"toc-item-num\">6&nbsp;&nbsp;</span>Applying Models to Test Data</a></span></li><li><span><a href=\"#Evaluation-Metrics\" data-toc-modified-id=\"Evaluation-Metrics-7\"><span class=\"toc-item-num\">7&nbsp;&nbsp;</span>Evaluation Metrics</a></span><ul class=\"toc-item\"><li><span><a href=\"#Accuracy-and-Error-Rate\" data-toc-modified-id=\"Accuracy-and-Error-Rate-7.1\"><span class=\"toc-item-num\">7.1&nbsp;&nbsp;</span>Accuracy and Error Rate</a></span></li><li><span><a href=\"#Confusion-Matrix\" data-toc-modified-id=\"Confusion-Matrix-7.2\"><span class=\"toc-item-num\">7.2&nbsp;&nbsp;</span>Confusion Matrix</a></span><ul class=\"toc-item\"><li><span><a href=\"#Print-Confusion-Matrix-(Using-Sklearn)\" data-toc-modified-id=\"Print-Confusion-Matrix-(Using-Sklearn)-7.2.1\"><span class=\"toc-item-num\">7.2.1&nbsp;&nbsp;</span>Print Confusion Matrix (Using Sklearn)</a></span></li><li><span><a href=\"#Print-Confusion-Matrix-(Using-pandas_ml)\" data-toc-modified-id=\"Print-Confusion-Matrix-(Using-pandas_ml)-7.2.2\"><span class=\"toc-item-num\">7.2.2&nbsp;&nbsp;</span>Print Confusion Matrix (Using pandas_ml)</a></span></li><li><span><a href=\"#Plot-the-Confusion-Matrix\" data-toc-modified-id=\"Plot-the-Confusion-Matrix-7.2.3\"><span class=\"toc-item-num\">7.2.3&nbsp;&nbsp;</span>Plot the Confusion Matrix</a></span></li></ul></li><li><span><a href=\"#Precision---Recall---F1\" data-toc-modified-id=\"Precision---Recall---F1-7.3\"><span class=\"toc-item-num\">7.3&nbsp;&nbsp;</span>Precision - Recall - F1</a></span><ul class=\"toc-item\"><li><span><a href=\"#Precision\" data-toc-modified-id=\"Precision-7.3.1\"><span class=\"toc-item-num\">7.3.1&nbsp;&nbsp;</span>Precision</a></span></li><li><span><a href=\"#Recall\" data-toc-modified-id=\"Recall-7.3.2\"><span class=\"toc-item-num\">7.3.2&nbsp;&nbsp;</span>Recall</a></span></li></ul></li><li><span><a href=\"#F1-Score\" data-toc-modified-id=\"F1-Score-7.4\"><span class=\"toc-item-num\">7.4&nbsp;&nbsp;</span>F1 Score</a></span></li><li><span><a href=\"#Area-Under-the-Curve\" data-toc-modified-id=\"Area-Under-the-Curve-7.5\"><span class=\"toc-item-num\">7.5&nbsp;&nbsp;</span>Area Under the Curve</a></span><ul class=\"toc-item\"><li><span><a href=\"#ROC-curve\" data-toc-modified-id=\"ROC-curve-7.5.1\"><span class=\"toc-item-num\">7.5.1&nbsp;&nbsp;</span>ROC curve</a></span></li><li><span><a href=\"#AUC---Area-Under-the-Curve\" data-toc-modified-id=\"AUC---Area-Under-the-Curve-7.5.2\"><span class=\"toc-item-num\">7.5.2&nbsp;&nbsp;</span>AUC - Area Under the Curve</a></span></li><li><span><a href=\"#Plot-Individually-Plot\" data-toc-modified-id=\"Plot-Individually-Plot-7.5.3\"><span class=\"toc-item-num\">7.5.3&nbsp;&nbsp;</span>Plot Individually Plot</a></span></li><li><span><a href=\"#Plot-2-ROC-in-one-Figure\" data-toc-modified-id=\"Plot-2-ROC-in-one-Figure-7.5.4\"><span class=\"toc-item-num\">7.5.4&nbsp;&nbsp;</span>Plot 2 ROC in one Figure</a></span></li></ul></li></ul></li></ul></div>"
   ]
  },
  {
   "cell_type": "code",
   "execution_count": null,
   "metadata": {
    "ExecuteTime": {
     "end_time": "2018-11-10T08:28:35.269779Z",
     "start_time": "2018-11-10T08:28:32.042560Z"
    }
   },
   "outputs": [],
   "source": [
    "# Importing libraries\n",
    "import numpy as np\n",
    "import pandas as pd\n",
    "import sklearn\n",
    "import os, io, nltk\n",
    "from sklearn.feature_extraction.text import TfidfVectorizer\n",
    "from nltk.corpus import stopwords \n",
    "import collections\n",
    "from nltk.corpus import stopwords \n",
    "from nltk.stem.wordnet import WordNetLemmatizer\n",
    "import string\n",
    "import re\n",
    "from collections import Counter\n",
    "\n",
    "from sklearn.neighbors import KNeighborsClassifier\n",
    "from sklearn.naive_bayes import MultinomialNB\n",
    "\n",
    "\n",
    "from wordcloud import WordCloud,STOPWORDS\n",
    "import matplotlib.pyplot as plt\n",
    "\n",
    "import warnings\n",
    "warnings.filterwarnings('ignore')"
   ]
  },
  {
   "cell_type": "markdown",
   "metadata": {},
   "source": [
    "## Load Data"
   ]
  },
  {
   "cell_type": "code",
   "execution_count": null,
   "metadata": {
    "ExecuteTime": {
     "end_time": "2018-11-10T09:05:24.093402Z",
     "start_time": "2018-11-10T09:05:24.079209Z"
    }
   },
   "outputs": [],
   "source": [
    "# def readdata(data_path):\n",
    "#     df_raw = pd.DataFrame([],columns=['Filename','Content','Class'])\n",
    "\n",
    "#     for root, directories, files in os.walk(data_path):\n",
    "#         for filename in files:\n",
    "#             if not filename.startswith('.'):\n",
    "#                 classname = (os.path.basename(root))\n",
    "#                 if (classname in ['neg', 'pos']):\n",
    "#                     _name = os.path.splitext(filename)[0]\n",
    "#                     filepath = os.path.join(root, filename)\n",
    "#                     f = open(filepath,\"r\",encoding='utf8') \n",
    "#                     content = f.read()\n",
    "#                     content = \" \".join(str(content).split())\n",
    "#                     pieces = {'Filename': _name, 'Content': (content), 'Class':classname}\n",
    "#                     df_raw = df_raw.append(pieces,ignore_index=True)\n",
    "#     return df_raw"
   ]
  },
  {
   "cell_type": "code",
   "execution_count": null,
   "metadata": {
    "ExecuteTime": {
     "end_time": "2018-11-10T09:07:25.948130Z",
     "start_time": "2018-11-10T09:05:25.581148Z"
    },
    "scrolled": true
   },
   "outputs": [],
   "source": [
    "# df_raw = readdata('./data_6/')\n",
    "# df_raw"
   ]
  },
  {
   "cell_type": "code",
   "execution_count": null,
   "metadata": {},
   "outputs": [],
   "source": [
    "# df_raw.to_csv('./data/raw_data.csv',sep=',',index=False)"
   ]
  },
  {
   "cell_type": "code",
   "execution_count": null,
   "metadata": {},
   "outputs": [],
   "source": [
    "# del df_raw\n",
    "df_raw = pd.read_csv('./data/raw_data.csv',sep=',')\n",
    "df_raw.head(10)"
   ]
  },
  {
   "cell_type": "code",
   "execution_count": null,
   "metadata": {
    "ExecuteTime": {
     "end_time": "2018-11-10T09:28:28.452774Z",
     "start_time": "2018-11-10T09:28:28.438644Z"
    }
   },
   "outputs": [],
   "source": [
    "data = df_raw.iloc[:,:2]\n",
    "data.head(5)"
   ]
  },
  {
   "cell_type": "code",
   "execution_count": null,
   "metadata": {
    "ExecuteTime": {
     "end_time": "2018-11-10T09:28:49.391179Z",
     "start_time": "2018-11-10T09:28:49.377856Z"
    }
   },
   "outputs": [],
   "source": [
    "labels = df_raw['Class']"
   ]
  },
  {
   "cell_type": "code",
   "execution_count": null,
   "metadata": {},
   "outputs": [],
   "source": [
    "import matplotlib.pyplot as plt\n",
    "\n",
    "unique, counts = np.unique(labels, return_counts=True)\n",
    "\n",
    "plt.bar(unique,counts)\n",
    "plt.title('Class Frequency')\n",
    "plt.xlabel('Class')\n",
    "plt.ylabel('Frequency')\n",
    "plt.show()"
   ]
  },
  {
   "cell_type": "markdown",
   "metadata": {},
   "source": [
    "From this plot, we can see that this data is a balance dataset."
   ]
  },
  {
   "cell_type": "markdown",
   "metadata": {},
   "source": [
    "## From Raw to Representation Vectors"
   ]
  },
  {
   "cell_type": "markdown",
   "metadata": {},
   "source": [
    "RAW --> Tokenizer --> Remove Stopwords -->  Remove Punctuation --> Lemmatization --> Remove Number"
   ]
  },
  {
   "cell_type": "code",
   "execution_count": null,
   "metadata": {
    "ExecuteTime": {
     "end_time": "2018-11-10T09:40:39.970144Z",
     "start_time": "2018-11-10T09:40:39.960556Z"
    }
   },
   "outputs": [],
   "source": [
    "stop = set(stopwords.words('english'))\n",
    "exclude = set(string.punctuation) \n",
    "lemma = WordNetLemmatizer()\n",
    "\n",
    "# Cleaning the text sentences so that punctuation marks, stop words & digits are removed  \n",
    "# Raw --> tokens --> remove stopwords --> remove punctuation --> Lemmatization --> remove number\n",
    "def clean(doc):\n",
    "    stop_free = \" \".join([i for i in doc.lower().split() if i not in stop])\n",
    "    punc_free = ''.join(ch for ch in stop_free if ch not in exclude)\n",
    "    normalized = \" \".join(lemma.lemmatize(word) for word in punc_free.split())\n",
    "    processed = re.sub(r\"\\d+\",\"\",normalized)\n",
    "    cleaned_data = processed.split()\n",
    "    return cleaned_data"
   ]
  },
  {
   "cell_type": "code",
   "execution_count": null,
   "metadata": {
    "ExecuteTime": {
     "end_time": "2018-11-10T09:50:24.305096Z",
     "start_time": "2018-11-10T09:49:08.662429Z"
    }
   },
   "outputs": [],
   "source": [
    "print(\"We make the transformation of Data into Tokens\")\n",
    "[n,d] = data.shape\n",
    "data['Tokens'] = ['']*n\n",
    "\n",
    "for index, row in data.iterrows():\n",
    "    data['Tokens'].iloc[index] = clean(row['Content'])\n",
    "data.head(10)"
   ]
  },
  {
   "cell_type": "code",
   "execution_count": null,
   "metadata": {},
   "outputs": [],
   "source": [
    "def extract_adj(text):\n",
    "    import nltk\n",
    "    lines = text\n",
    "    # function to test if something is a noun\n",
    "    is_noun = lambda pos: pos[:1] == 'J'\n",
    "    # do the nlp stuff\n",
    "    tokenized = nltk.word_tokenize(lines)\n",
    "    nouns = [word for (word, pos) in nltk.pos_tag(tokenized) if is_noun(pos)] \n",
    "    return nouns"
   ]
  },
  {
   "cell_type": "code",
   "execution_count": null,
   "metadata": {},
   "outputs": [],
   "source": [
    "[n,d] = data.shape\n",
    "data['ADJ_Tokens'] = ['']*n\n",
    "\n",
    "for index, row in data.iterrows():\n",
    "    data['ADJ_Tokens'].iloc[index] = extract_adj(\" \".join(row['Tokens']))\n",
    "data.head(10)"
   ]
  },
  {
   "cell_type": "markdown",
   "metadata": {},
   "source": [
    "## Split Raw data into Train and Test set"
   ]
  },
  {
   "cell_type": "markdown",
   "metadata": {},
   "source": [
    "We split the raw data with labels into training set and testing set with the ratio: Train|Test = 70|30"
   ]
  },
  {
   "cell_type": "code",
   "execution_count": null,
   "metadata": {
    "ExecuteTime": {
     "end_time": "2018-11-10T09:50:39.657026Z",
     "start_time": "2018-11-10T09:50:39.637964Z"
    }
   },
   "outputs": [],
   "source": [
    "from sklearn.model_selection import train_test_split\n",
    "X_train, X_test, y_train, y_test = train_test_split(data, labels, test_size=0.3)"
   ]
  },
  {
   "cell_type": "code",
   "execution_count": null,
   "metadata": {
    "ExecuteTime": {
     "end_time": "2018-11-10T09:50:40.613654Z",
     "start_time": "2018-11-10T09:50:40.608267Z"
    }
   },
   "outputs": [],
   "source": [
    "print('The size of train and test sets are:', [len(X_train),len(X_test)])"
   ]
  },
  {
   "cell_type": "code",
   "execution_count": null,
   "metadata": {},
   "outputs": [],
   "source": [
    "print('The training data is:')\n",
    "X_train.head(5)"
   ]
  },
  {
   "cell_type": "code",
   "execution_count": null,
   "metadata": {},
   "outputs": [],
   "source": [
    "print('The testing data is:')\n",
    "X_test.head(5)"
   ]
  },
  {
   "cell_type": "code",
   "execution_count": null,
   "metadata": {},
   "outputs": [],
   "source": [
    "def getAllTokens(df):\n",
    "    \"\"\"\n",
    "    Convert the tokens column in a dataframe into a list of strings of every \n",
    "    token in the tokens column.\n",
    "    \"\"\"\n",
    "    return [token for tokens in df for token in tokens]\n",
    "\n",
    "## Wordcloud function\n",
    "def wordcloudplot(tokens):\n",
    "    # visualization by wordcloud\n",
    "    from wordcloud import WordCloud\n",
    "    import matplotlib.pyplot as plt\n",
    "\n",
    "    text2 = ' '.join(tokens)\n",
    "\n",
    "    wordcloud = WordCloud(width=1600, height=800).generate(text2)\n",
    "    plt.figure( figsize=(20,10), facecolor='k')\n",
    "    plt.imshow(wordcloud)\n",
    "    plt.axis(\"off\")\n",
    "    plt.tight_layout(pad=0)\n",
    "    plt.show()\n",
    "    \n",
    "\n",
    "train_pos = X_train[ y_train == 'pos']\n",
    "train_pos = getAllTokens(train_pos['ADJ_Tokens'])\n",
    "\n",
    "train_neg = X_train[ y_train == 'neg']\n",
    "train_neg = getAllTokens(train_neg['ADJ_Tokens'])\n",
    "\n",
    "\n",
    "print(\"Positive ADJ words\")\n",
    "wordcloudplot(train_pos)\n",
    "print(\"Negative ADJ words\")\n",
    "wordcloudplot(train_neg)"
   ]
  },
  {
   "cell_type": "markdown",
   "metadata": {},
   "source": [
    "Here, we can see several things should do to improve the quality of clean-data:\n",
    "- Handle the negation words: \"no\", \"not\", \"but, ...\n",
    "- Handle the combination of: \"not good\", \"not great\", ...\n",
    "- Handle \"much\", \"many\", \"little\", ...\n",
    "- Handle the \"comparative adjective\" and \"superlative adjective\"\n",
    "- Handle the words related to nation: \"british\", \"japanese\", ...\n",
    "+ Extract something in grammar: ADJ + N, and \"to be\" + ADJ\n",
    "\n",
    "However, I will not try to solve those things in this LAB."
   ]
  },
  {
   "cell_type": "markdown",
   "metadata": {},
   "source": [
    "## Tokens Vectors to TF-IDF Vectors"
   ]
  },
  {
   "cell_type": "code",
   "execution_count": null,
   "metadata": {},
   "outputs": [],
   "source": [
    "from sklearn.feature_extraction.text import TfidfVectorizer\n",
    "tfidf_vectorizer = TfidfVectorizer(norm='l1',stop_words='english')  \n",
    "list_contents =[]\n",
    "for index, row in X_train.iterrows():\n",
    "    list_contents.append(' '.join(row.Tokens))\n",
    "    \n",
    "# list_contents = df_handle.Content.values\n",
    "\n",
    "tfidf_matrix = tfidf_vectorizer.fit_transform(list_contents)\n",
    "df_tfidf_train = pd.DataFrame(tfidf_matrix.toarray(),columns=[tfidf_vectorizer.get_feature_names()])\n",
    "print(len(df_tfidf_train))\n",
    "df_tfidf_train.head(5)\n"
   ]
  },
  {
   "cell_type": "code",
   "execution_count": null,
   "metadata": {},
   "outputs": [],
   "source": [
    "## Perform the same preprocessing for test data\n",
    "test_clean_data = []\n",
    "for test in X_test.Tokens:\n",
    "    cleaned_test = test\n",
    "    cleaned = ' '.join(cleaned_test)\n",
    "    cleaned = re.sub(r\"\\d+\",\"\",cleaned)\n",
    "    test_clean_data.append(cleaned)"
   ]
  },
  {
   "cell_type": "code",
   "execution_count": null,
   "metadata": {},
   "outputs": [],
   "source": [
    "## Also perform the tf-idf with the same vectorizer\n",
    "tfidf_test = tfidf_vectorizer.transform(test_clean_data)\n",
    "## For printing that tf-idf matrix, we convert it into dataframe\n",
    "df_tfidf_test = pd.DataFrame(tfidf_test.toarray(),columns=[tfidf_vectorizer.get_feature_names()])\n",
    "print(len(df_tfidf_test))\n",
    "df_tfidf_test.head(5)"
   ]
  },
  {
   "cell_type": "markdown",
   "metadata": {},
   "source": [
    "## Model Learning"
   ]
  },
  {
   "cell_type": "markdown",
   "metadata": {},
   "source": [
    "Here, for fast check in class, I used the default alpha=1 for Bayes, and K=3 for KNN.\n",
    "When you want to learn the model, please remember to have a <span class=\"mark\">hyperparameter tuning</span> for model. "
   ]
  },
  {
   "cell_type": "markdown",
   "metadata": {},
   "source": [
    "### BAYES classifier"
   ]
  },
  {
   "cell_type": "code",
   "execution_count": null,
   "metadata": {},
   "outputs": [],
   "source": [
    "# Classifying the document with BAYES classifier\n",
    "modelbayes = MultinomialNB()\n",
    "modelbayes.fit(df_tfidf_train,y_train)"
   ]
  },
  {
   "cell_type": "markdown",
   "metadata": {},
   "source": [
    "### KNN classifier\n"
   ]
  },
  {
   "cell_type": "code",
   "execution_count": null,
   "metadata": {},
   "outputs": [],
   "source": [
    "# Classifying the document with KNN classifier, k=3\n",
    "modelknn = KNeighborsClassifier(n_neighbors=3,metric= 'cosine')\n",
    "modelknn.fit(df_tfidf_train,y_train)"
   ]
  },
  {
   "cell_type": "markdown",
   "metadata": {},
   "source": [
    "## Applying Models to Test Data"
   ]
  },
  {
   "cell_type": "code",
   "execution_count": null,
   "metadata": {},
   "outputs": [],
   "source": [
    "## Applying the model to the test_data\n",
    "predicted_labels_bayes = modelbayes.predict(df_tfidf_test)\n",
    "predicted_probas_bayes = modelbayes.predict_proba(df_tfidf_test)\n"
   ]
  },
  {
   "cell_type": "code",
   "execution_count": null,
   "metadata": {},
   "outputs": [],
   "source": [
    "## Applying the model to the test_data - very long execution time\n",
    "predicted_labels_knn = modelknn.predict(df_tfidf_test)\n",
    "predicted_probas_knn = modelknn.predict_proba(df_tfidf_test)"
   ]
  },
  {
   "cell_type": "markdown",
   "metadata": {},
   "source": [
    "## Evaluation Metrics"
   ]
  },
  {
   "cell_type": "markdown",
   "metadata": {},
   "source": [
    "### Accuracy and Error Rate"
   ]
  },
  {
   "cell_type": "markdown",
   "metadata": {},
   "source": [
    "Classification accuracy is the number of correct predictions made as a ratio of all predictions made.\n",
    "\n",
    "    classification accuracy = correct predictions / total predictions\n",
    "\n",
    "    classification error = wrong predictions / total predictions = 1 - classification accuracy"
   ]
  },
  {
   "cell_type": "code",
   "execution_count": null,
   "metadata": {},
   "outputs": [],
   "source": [
    "from sklearn.metrics import accuracy_score\n",
    "Acc_bayes = accuracy_score(y_test, predicted_labels_bayes)\n",
    "Acc_knn   = accuracy_score(y_test, predicted_labels_knn)\n",
    "print('Accuracy rate for NB model: {:0.2f}%'.format(Acc_bayes*100))\n",
    "print('Accuracy rate for KNN model: {:0.2f}%'.format(Acc_knn*100))"
   ]
  },
  {
   "cell_type": "code",
   "execution_count": null,
   "metadata": {},
   "outputs": [],
   "source": [
    "Err_bayes = 1 - Acc_bayes\n",
    "Err_knn   = 1 - Acc_knn\n",
    "print('Error rate for NB model: {:0.2f}%'.format(Err_bayes*100))\n",
    "print('Error rate for KNN model: {:0.2f}%'.format(Err_knn*100))"
   ]
  },
  {
   "cell_type": "markdown",
   "metadata": {},
   "source": [
    "<span class=\"burk\">Limitations of Accuracy:</span>\n",
    "\n",
    "- When you are data has more than 2 classes.\n",
    "\n",
    "> With 3 or more classes you may get a classification accuracy of 80%, but you don’t know if that is because all classes are being predicted equally well or whether one or two classes are being neglected by the model.\n",
    "\n",
    "- When your data is not a balance data.\n",
    "\n",
    "> You may achieve accuracy of 90% or more, but this is not a good score if 90 records for every 100 belong to one class and you can achieve this score by always predicting the most common class value."
   ]
  },
  {
   "cell_type": "markdown",
   "metadata": {},
   "source": [
    "### Confusion Matrix"
   ]
  },
  {
   "cell_type": "markdown",
   "metadata": {},
   "source": [
    "<span class=\"mark\">**What is Confusion Matrix?**</span>\n",
    "\n",
    "A confusion matrix is a summary of prediction results on a classification problem.\n",
    "\n",
    "It is a performance measurement for machine learning classification problem where output can be two or more classes. In case binary classification, it is a table with 4 different combinations of predicted and actual values: TP: True Positives; FP: False Positives; TN: True Negatives; and FN: False Negatives.\n",
    "\n",
    "<img src='./img/CFM.jpg'>\n",
    "\n",
    "\n",
    "- **True Positives (TP)**: These are cases in which we predicted YES, and the groundtruth is YES.\n",
    "\n",
    "- **True Negatives (TN)**: We predicted NO, and the groundtruth is NO.\n",
    "\n",
    "- **False Positives (FP)**: We predicted YES, but the groundtruth is NO. (Also known as a \"Type I error.\")\n",
    "\n",
    "- **False Negatives (FN)**: We predicted NO, but and the groundtruth is YES. (Also known as a \"Type II error.\")\n",
    "\n",
    "Let’s understand TP, FP, FN, TN in terms of pregnancy analogy.\n",
    "\n",
    "<img src='./img/CFM_example.png'>\n",
    "\n",
    "\n",
    "<span class=\"mark\">**Why is Confusion Matrix important?**</span>\n",
    "\n",
    "Because, from Confusion Matrix, we can calculate many Evaluation Metric for classification model.\n",
    "Below, are the list of few but important metrics that are computed from a Confusion Matrix for a binary classifier. In simple words, these metrics determine how well the model performs.\n",
    "\n",
    "- Accuracy\n",
    "\n",
    "- Precision\n",
    "\n",
    "- Recall\n",
    "\n",
    "- F1 Score\n",
    "\n",
    "- ROC Curve"
   ]
  },
  {
   "cell_type": "markdown",
   "metadata": {},
   "source": [
    "#### Print Confusion Matrix (Using Sklearn)"
   ]
  },
  {
   "cell_type": "code",
   "execution_count": null,
   "metadata": {},
   "outputs": [],
   "source": [
    "from sklearn.metrics import confusion_matrix\n",
    "\n",
    "def cm2df(cm, labels):\n",
    "    df = pd.DataFrame()\n",
    "    # rows\n",
    "    for i, row_label in enumerate(labels):\n",
    "        rowdata={}\n",
    "        # columns\n",
    "        for j, col_label in enumerate(labels): \n",
    "            rowdata[col_label]=cm[i,j]\n",
    "        df = df.append(pd.DataFrame.from_dict({row_label:rowdata}, orient='index'))\n",
    "    return df[labels]"
   ]
  },
  {
   "cell_type": "code",
   "execution_count": null,
   "metadata": {},
   "outputs": [],
   "source": [
    "cm_bayes = confusion_matrix(y_test, predicted_labels_bayes)\n",
    "cm_as_df_bayes=cm2df(cm_bayes,['neg','pos'])\n",
    "# then print it in a pretty way\n",
    "(cm_as_df_bayes)"
   ]
  },
  {
   "cell_type": "code",
   "execution_count": null,
   "metadata": {},
   "outputs": [],
   "source": [
    "cm_knn = confusion_matrix(y_test, predicted_labels_knn)\n",
    "cm_as_df_knn=cm2df(cm_knn,['neg','pos'])\n",
    "# then print it in a pretty way\n",
    "(cm_as_df_knn)"
   ]
  },
  {
   "cell_type": "markdown",
   "metadata": {},
   "source": [
    "#### Print Confusion Matrix (Using pandas_ml)"
   ]
  },
  {
   "cell_type": "markdown",
   "metadata": {},
   "source": [
    "Or you can use the package **pandas_ml** (pip install pandas_ml) to print Confusion Matrix more beautiful."
   ]
  },
  {
   "cell_type": "code",
   "execution_count": null,
   "metadata": {},
   "outputs": [],
   "source": [
    "import sys\n",
    "!{sys.executable} -m pip install pandas_ml"
   ]
  },
  {
   "cell_type": "code",
   "execution_count": null,
   "metadata": {},
   "outputs": [],
   "source": [
    "from pandas_ml import ConfusionMatrix\n",
    "\n",
    "y_actu = np.where(y_test == 'pos', True, False)\n",
    "y_pred_bayes = np.where(predicted_labels_bayes == 'pos', True, False)\n",
    "\n",
    "cm_bayes2 = ConfusionMatrix(y_actu, y_pred_bayes)\n",
    "cm_bayes2"
   ]
  },
  {
   "cell_type": "code",
   "execution_count": null,
   "metadata": {},
   "outputs": [],
   "source": [
    "from pandas_ml import ConfusionMatrix\n",
    "\n",
    "y_actu = np.where(y_test == 'pos', True, False)\n",
    "y_pred_knn = np.where(predicted_labels_knn == 'pos', True, False)\n",
    "\n",
    "cm_knn2 = ConfusionMatrix(y_actu, y_pred_knn)\n",
    "cm_knn2"
   ]
  },
  {
   "cell_type": "markdown",
   "metadata": {},
   "source": [
    "#### Plot the Confusion Matrix\n",
    "\n",
    "We also can use sklearn to print the confusion matrix."
   ]
  },
  {
   "cell_type": "code",
   "execution_count": null,
   "metadata": {},
   "outputs": [],
   "source": [
    "def plot_confusion_matrix(cm, target_names, title='Confusion matrix', cmap=plt.cm.Blues):\n",
    "    plt.imshow(cm, interpolation='nearest', cmap=cmap)\n",
    "    plt.title(title)\n",
    "    plt.colorbar()\n",
    "    tick_marks = np.arange(len(target_names))\n",
    "    plt.xticks(tick_marks, target_names, rotation=45)\n",
    "    plt.yticks(tick_marks, target_names)\n",
    "    plt.tight_layout()\n",
    "    width, height = cm.shape\n",
    "    for x in range(width):\n",
    "        for y in range(height):\n",
    "            plt.annotate(str(cm[x][y]), xy=(y, x), \n",
    "                        horizontalalignment='center',\n",
    "                        verticalalignment='center')\n",
    "    plt.ylabel('True label')\n",
    "    plt.xlabel('Predicted label')\n",
    "    plt.show()"
   ]
  },
  {
   "cell_type": "code",
   "execution_count": null,
   "metadata": {},
   "outputs": [],
   "source": [
    "from sklearn.metrics import confusion_matrix\n",
    "print('Confusion Matrix for Naive Bayes Classifier')\n",
    "plot_confusion_matrix(cm_bayes, ['NEG', 'POS'])"
   ]
  },
  {
   "cell_type": "code",
   "execution_count": null,
   "metadata": {},
   "outputs": [],
   "source": [
    "print('Confusion Matrix for KNN Classifier')\n",
    "plot_confusion_matrix(cm_knn, ['NEG', 'POS'])"
   ]
  },
  {
   "cell_type": "markdown",
   "metadata": {},
   "source": [
    "### Precision - Recall - F1"
   ]
  },
  {
   "cell_type": "markdown",
   "metadata": {},
   "source": [
    "#### Precision\n",
    "\n",
    "Let's look at Precision first.\n",
    "\n",
    "<img src='./img/precision2.png'>\n",
    "\n",
    "The denominator is actually the Total Predicted Positive!\n",
    "\n",
    "<img src='./img/cm_precision.png'>\n",
    "\n",
    "From the formula, we can see that: Precision is *high* when False Positive is *small*.\n",
    "\n",
    "> Q: Why we should to link **False Positive** to **Precision**? \n",
    "\n",
    "\n",
    "For example, email spam detection. In email spam detection, a False Positive means that an email that is non-spam (actual negative) has been identified as spam (predicted spam) \n",
    "\n",
    "=> dangerous case. \n",
    "\n",
    "<img src='./img/spamdetection.png'>\n",
    "So, we want to minimize the FP in this case \n",
    "==> maximize the Precision.\n",
    "\n",
    "**Conclude**: The email user might lose important emails if the Precision is not HIGH for the spam detection model."
   ]
  },
  {
   "cell_type": "markdown",
   "metadata": {},
   "source": [
    "#### Recall\n",
    "\n",
    "Now, let's look at Recall.\n",
    "\n",
    "<img src='./img/recall.png'>\n",
    "\n",
    "The denominator is actually the Total Actual Positive!\n",
    "\n",
    "<img src='./img/cm_recall.jpg'>\n",
    "\n",
    "From the formula, we can see that: Recall is *high* when False Negative is *small*.\n",
    "\n",
    "> Q: Why we should to link **False Negative** to **Recall**? \n",
    "\n",
    "For example, sick patient detection. If a sick patient (Actual Positive) goes through the test and predicted as not sick (Predicted Negative) ==> False Negative case.\n",
    "\n",
    "=> dangerous case. \n",
    "\n",
    "<img src='./img/recallexample.jpg'>\n",
    "\n",
    "So, we want to minimize the False Negative in predict model.\n",
    "==> maximize the Recall.\n",
    "\n",
    "**Conclude**: The cost associated with False Negative will be **extremely high** if the sickness is **contagious**. "
   ]
  },
  {
   "cell_type": "markdown",
   "metadata": {},
   "source": [
    "### F1 Score\n",
    "\n",
    "The formula of F1 score is\n",
    "\n",
    "<img src='./img/f1.png'>\n",
    "\n",
    "F1 Score is needed when you want to seek a balance between Precision and Recall.\n",
    "\n",
    "So what is the difference between F1 Score and Accuracy then? \n",
    "- <span class=\"mark\">F1 is usually more useful than accuracy, especially if you have an uneven class distribution</span>\n",
    "\n",
    "Let's get an example of one confusion matrix as follows\n",
    "\n",
    "| ... | Predicted positive | Predicted negative |\n",
    "| --- | --- | --- |\n",
    "| Positive class | 1 (TP) | 25 (FN) |\n",
    "| Negative class | 2 (FP) | 125 (TN)|\n",
    "\n",
    "So, Accuracy will be \n",
    "\n",
    "        Accuracy = (1 + 125)/(1 + 125 + 2 + 25) = 82.3%\n",
    "\n",
    "This looks crazy. Our model is a completely wrong one, with no predictive power, and we got an increase in accuracy.\n",
    "\n",
    "Now, we check the F1:\n",
    "\n",
    "    Precision = TP / (TP + FP) = 1 / (1 + 2) = 0.33\n",
    "    Recall = TP /(TP + FN) = 1 / (1 + 25) = 0.04\n",
    "    \n",
    "    F1 = 2*(Recall * Precision) / (Recall + Precision) = 2*0.33*0.04 / (0.33+0.04) = 0.071 = 7.1%\n",
    "    \n",
    "The F1 score will show you this predicted model is not really good."
   ]
  },
  {
   "cell_type": "markdown",
   "metadata": {},
   "source": [
    "**Note from StackExchange**\n",
    "<https://stats.stackexchange.com/questions/49226/how-to-interpret-f-measure-values>\n",
    "\n",
    "The importance of the F1 score is different based on the scenario. Lets assume the target variable is a binary label.\n",
    "\n",
    "- **Balanced class**: In this situation, the F1 score can effectively be ignored, the mis-classification rate is key.\n",
    "- **Unbalanced class**, but **both classes are important**: If the class distribution is highly skewed (such as 80:20 or 90:10), then a classifier can get a low mis-classification rate simply by choosing the majority class. In such a situation, I would choose the classifier that gets high F1 scores on both classes, as well as low mis-classification rate. A classifier that gets low F1-scores should be overlooked.\n",
    "- **Unbalanced class**, but **one class if more important that the other**. For e.g. in Fraud detection, it is more important to correctly label an instance as fraudulent, as opposed to labeling the non-fraudulent one. In this case, I would pick the classifier that has a good F1 score only on the important class. Recall that the F1-score is available per class.\n"
   ]
  },
  {
   "cell_type": "code",
   "execution_count": null,
   "metadata": {},
   "outputs": [],
   "source": [
    "from sklearn.metrics import classification_report\n",
    "print('Statistic Report for Naive Bayes classifier')\n",
    "print(classification_report(y_test, predicted_labels_bayes))"
   ]
  },
  {
   "cell_type": "code",
   "execution_count": null,
   "metadata": {},
   "outputs": [],
   "source": [
    "print('Statistic Report for KNN classifier')\n",
    "print(classification_report(y_test, predicted_labels_knn))"
   ]
  },
  {
   "cell_type": "markdown",
   "metadata": {},
   "source": [
    "### Area Under the Curve\n",
    "\n",
    "- Accuracy can let you know that you got the class label right or you didn’t. \n",
    "\n",
    "- Many classifiers can provide you more information than the predicted labels. They can give you the probability values. In that case, in order to compute the accuracy from probabilities you need a threshold to decide where the separated line of two classes. The most natural threshold is of course 0.5.\n",
    "\n",
    "- Let’s suppose you have one classifier, which is able to get all the answers right, but its output scores are 0.7 for negative examples and 0.9 for positive examples. Clearly, a threshold of 0.5 won’t get you a good cut. But 0.8 would be just perfect.\n",
    "\n",
    "- That’s the whole point of using AUC - it considers all possible thresholds."
   ]
  },
  {
   "cell_type": "markdown",
   "metadata": {},
   "source": [
    "#### ROC curve\n",
    "\n",
    "An ROC curve (receiver operating characteristic curve) is a graph showing the performance of a classification model at all classification thresholds. This curve plots two parameters:\n",
    "- True Positive\n",
    "- False Positive\n",
    "\n",
    "How to get the ROC curve?\n",
    "\n",
    "Example1: http://www.navan.name/roc/\n",
    "\n",
    "Example2: https://kennis-research.shinyapps.io/ROC-Curves/\n",
    "\n",
    "\n",
    "How to know the good ROC?\n",
    "\n",
    "<img src = './img/ROC_space.png'>\n",
    "\n",
    "<img src = './img/roccomp.png'>\n",
    "\n",
    "\n",
    "#### AUC - Area Under the Curve\n",
    "\n",
    "Just remember that: if <span class=\"girk\">AUC -> high</span>, then <span class=\"girk\">your model -> good</span>\n",
    "\n",
    "<img src = './img/AUC.png'>"
   ]
  },
  {
   "cell_type": "markdown",
   "metadata": {},
   "source": [
    "#### Plot Individually Plot"
   ]
  },
  {
   "cell_type": "code",
   "execution_count": null,
   "metadata": {},
   "outputs": [],
   "source": [
    "import sys\n",
    "!{sys.executable} -m pip install scikit-plot"
   ]
  },
  {
   "cell_type": "code",
   "execution_count": null,
   "metadata": {},
   "outputs": [],
   "source": [
    "import scikitplot as skplt\n",
    "import matplotlib.pyplot as plt\n",
    "\n",
    "skplt.metrics.plot_roc(y_test, predicted_probas_bayes,plot_micro=False,plot_macro=False, \n",
    "                       title='ROC for Naive Bayes',figsize=(8,8))\n",
    "plt.show()"
   ]
  },
  {
   "cell_type": "code",
   "execution_count": null,
   "metadata": {},
   "outputs": [],
   "source": [
    "skplt.metrics.plot_roc(y_test, predicted_probas_knn,plot_micro=False,plot_macro=False, \n",
    "                       title='ROC for 3-NN',figsize=(8,8))\n",
    "plt.show()"
   ]
  },
  {
   "cell_type": "markdown",
   "metadata": {},
   "source": [
    "#### Plot 2 ROC in one Figure"
   ]
  },
  {
   "cell_type": "code",
   "execution_count": null,
   "metadata": {},
   "outputs": [],
   "source": [
    "from sklearn.preprocessing import label_binarize\n",
    "b_y_actual = label_binarize(y_test, classes=['neg','pos'])\n",
    "b_y_predict_bayes = label_binarize(predicted_labels_bayes, classes=['neg','pos'])\n",
    "b_y_predict_knn = label_binarize(predicted_labels_knn, classes=['neg','pos'])"
   ]
  },
  {
   "cell_type": "code",
   "execution_count": null,
   "metadata": {},
   "outputs": [],
   "source": [
    "def plotROC(prediction_prob,label,legend):\n",
    "    from sklearn import metrics\n",
    "    import matplotlib.pyplot as plt\n",
    "    import numpy as np\n",
    "    fpr, tpr, thresh = metrics.roc_curve(label, prediction_prob)\n",
    "    auc = np.round(metrics.roc_auc_score(label, prediction_prob),2)\n",
    "    plt.plot(fpr,tpr,label=legend+ \" ,AUC=\"+str(auc))"
   ]
  },
  {
   "cell_type": "code",
   "execution_count": null,
   "metadata": {},
   "outputs": [],
   "source": [
    "plt.figure(figsize=(10,8)).clf()\n",
    "\n",
    "plotROC(predicted_probas_bayes[:,1],b_y_actual,'Naive Bayes')\n",
    "plotROC(predicted_probas_knn[:,1],b_y_actual,'3-NN')\n",
    "\n",
    "plt.legend(loc=4,prop={'size': 15})\n",
    "plt.show()"
   ]
  },
  {
   "cell_type": "markdown",
   "metadata": {},
   "source": [
    "Read more for ROC with cross-validation at: https://scikit-learn.org/stable/auto_examples/model_selection/plot_roc_crossval.html#sphx-glr-auto-examples-model-selection-plot-roc-crossval-py"
   ]
  },
  {
   "cell_type": "markdown",
   "metadata": {
    "toc": true
   },
   "source": [
    "<h1>Table of Contents<span class=\"tocSkip\"></span></h1>\n",
    "<div class=\"toc\"><ul class=\"toc-item\"><li><span><a href=\"#Synthetic-dataset\" data-toc-modified-id=\"Synthetic-dataset-1\"><span class=\"toc-item-num\">1&nbsp;&nbsp;</span>Synthetic dataset</a></span><ul class=\"toc-item\"><li><span><a href=\"#Data-Preprocessing\" data-toc-modified-id=\"Data-Preprocessing-1.1\"><span class=\"toc-item-num\">1.1&nbsp;&nbsp;</span>Data Preprocessing</a></span><ul class=\"toc-item\"><li><span><a href=\"#RAW-data:\" data-toc-modified-id=\"RAW-data:-1.1.1\"><span class=\"toc-item-num\">1.1.1&nbsp;&nbsp;</span>RAW data:</a></span></li><li><span><a href=\"#Raw---&gt;-Clean-Tokens\" data-toc-modified-id=\"Raw--->-Clean-Tokens-1.1.2\"><span class=\"toc-item-num\">1.1.2&nbsp;&nbsp;</span>Raw --&gt; Clean Tokens</a></span></li><li><span><a href=\"#Tokens---&gt;-TFIDF\" data-toc-modified-id=\"Tokens--->-TFIDF-1.1.3\"><span class=\"toc-item-num\">1.1.3&nbsp;&nbsp;</span>Tokens --&gt; TFIDF</a></span></li></ul></li><li><span><a href=\"#Data-Modeling\" data-toc-modified-id=\"Data-Modeling-1.2\"><span class=\"toc-item-num\">1.2&nbsp;&nbsp;</span>Data Modeling</a></span></li><li><span><a href=\"#Data-Applying\" data-toc-modified-id=\"Data-Applying-1.3\"><span class=\"toc-item-num\">1.3&nbsp;&nbsp;</span>Data Applying</a></span></li></ul></li><li><span><a href=\"#Real-Dataset:-20-Newsgoup\" data-toc-modified-id=\"Real-Dataset:-20-Newsgoup-2\"><span class=\"toc-item-num\">2&nbsp;&nbsp;</span>Real Dataset: 20 Newsgoup</a></span><ul class=\"toc-item\"><li><span><a href=\"#Step-1:-Loading-the-data-set-in-jupyter.\" data-toc-modified-id=\"Step-1:-Loading-the-data-set-in-jupyter.-2.1\"><span class=\"toc-item-num\">2.1&nbsp;&nbsp;</span>Step 1: Loading the data set in jupyter.</a></span></li><li><span><a href=\"#Step-2:-Extracting-features-from-text-files.\" data-toc-modified-id=\"Step-2:-Extracting-features-from-text-files.-2.2\"><span class=\"toc-item-num\">2.2&nbsp;&nbsp;</span>Step 2: Extracting features from text files.</a></span></li><li><span><a href=\"#Step-3.-Running-ML-algorithms\" data-toc-modified-id=\"Step-3.-Running-ML-algorithms-2.3\"><span class=\"toc-item-num\">2.3&nbsp;&nbsp;</span>Step 3. Running ML algorithms</a></span></li></ul></li><li><span><a href=\"#Hyperparameter-Optimization\" data-toc-modified-id=\"Hyperparameter-Optimization-3\"><span class=\"toc-item-num\">3&nbsp;&nbsp;</span><span class=\"mark\">Hyperparameter Optimization</span></a></span><ul class=\"toc-item\"><li><span><a href=\"#For-Bayes-Classifier\" data-toc-modified-id=\"For-Bayes-Classifier-3.1\"><span class=\"toc-item-num\">3.1&nbsp;&nbsp;</span>For Bayes Classifier</a></span></li><li><span><a href=\"#For-KNN-Classifier\" data-toc-modified-id=\"For-KNN-Classifier-3.2\"><span class=\"toc-item-num\">3.2&nbsp;&nbsp;</span>For KNN Classifier</a></span></li></ul></li><li><span><a href=\"#Final-Learning\" data-toc-modified-id=\"Final-Learning-4\"><span class=\"toc-item-num\">4&nbsp;&nbsp;</span>Final Learning</a></span><ul class=\"toc-item\"><li><span><a href=\"#Recheck-with-other-parameter's-setup\" data-toc-modified-id=\"Recheck-with-other-parameter's-setup-4.1\"><span class=\"toc-item-num\">4.1&nbsp;&nbsp;</span>Recheck with other parameter's setup</a></span></li></ul></li></ul></div>"
   ]
  },
  {
   "cell_type": "code",
   "execution_count": null,
   "metadata": {
    "ExecuteTime": {
     "end_time": "2018-11-04T18:59:34.505707Z",
     "start_time": "2018-11-04T18:59:32.523056Z"
    }
   },
   "outputs": [],
   "source": [
    "# Importing libraries\n",
    "import numpy as np\n",
    "import pandas as pd\n",
    "import sklearn\n",
    "import os, io, nltk\n",
    "from sklearn.feature_extraction.text import TfidfVectorizer\n",
    "from nltk.corpus import stopwords \n",
    "import collections\n",
    "from nltk.corpus import stopwords \n",
    "from nltk.stem.wordnet import WordNetLemmatizer\n",
    "import string\n",
    "import re\n",
    "from collections import Counter\n",
    "\n",
    "from sklearn.neighbors import KNeighborsClassifier\n",
    "from sklearn.naive_bayes import MultinomialNB\n",
    "\n",
    "import warnings\n",
    "warnings.filterwarnings('ignore')"
   ]
  },
  {
   "cell_type": "markdown",
   "metadata": {},
   "source": [
    "## Synthetic dataset"
   ]
  },
  {
   "cell_type": "markdown",
   "metadata": {},
   "source": [
    "### Data Preprocessing"
   ]
  },
  {
   "cell_type": "markdown",
   "metadata": {},
   "source": [
    "#### RAW data:"
   ]
  },
  {
   "cell_type": "code",
   "execution_count": null,
   "metadata": {
    "ExecuteTime": {
     "end_time": "2018-11-04T18:59:34.523700Z",
     "start_time": "2018-11-04T18:59:34.509337Z"
    }
   },
   "outputs": [],
   "source": [
    "train_raw = ['Cricket is a bat and ball game played between two teams of eleven players each on a cricket field.',\n",
    "'Each phase of play is called an innings during which one team bats, attempting to score as many runs as possible.',\n",
    "'The teams have one or two innings apiece and, when the first innings ends, the teams swap roles for the next innings',\n",
    "'Before a match begins, the two team captains meet on the pitch for the toss of a coin to determine which team will bat first.',\n",
    "'Two batsmen and eleven fielders then enter the field and play begins when a member of the fielding team, known as the bowler, delivers the ball.',\n",
    "'The most common dismissal in cricket match are bowled, when the bowler hits the stumps directly with the ball and dislodges the bails. Batsman gets out.',\n",
    "'Runs are scored by two main methods: either by hitting the ball hard enough for it to cross the boundary, or by the two batsmen swapping ends.',\n",
    "'The main objective of each team is to score more runs than their opponents.',\n",
    "'If the team batting last is all out having scored fewer runs than their opponents, they are said to have \"lost by n runs\".',\n",
    "' The role of striker batsman is to prevent the ball from hitting the stumps by using his bat and, simultaneously, to strike it well enough to score runs',\n",
    "' Artificial intelligence is intelligence exhibited by machines, rather than humans or other animals. ',\n",
    "' the field of AI research defines itself as the study of \"intelligent agents\": any device that perceives its environment and takes actions that maximize its chance of success at some goal',\n",
    "' The overall research goal of artificial intelligence is to create technology that allows computers and machines to function in an intelligent manner.',\n",
    "' Natural language processing[77] gives machines the ability to read and understand human language and extract intelligence from it.',\n",
    "' AI researchers developed sophisticated mathematical tools to solve specific subproblems. These tools are truly scientific, in the sense that their results are both measurable and verifiable.',\n",
    "' An intelligent agent is a system that perceives its environment and takes actions which maximize its chances of success.',\n",
    "' AI techniques have become an essential part of the technology industry, helping to solve many challenging problems in computer science.',\n",
    "' Recent advancements in AI, and specifically in machine learning, have contributed to the growth of Autonomous Things such as drones and self-driving cars.',\n",
    "' AI research was revived by the commercial success of expert systems,[28] a form of AI program that simulated the knowledge and analytical skills of human experts.',\n",
    "' Advanced statistical techniques (loosely known as deep learning), access to large amounts of data and faster computers enabled advances in machine learning and perception.',\n",
    "' A compound is a pure chemical substance composed of more than one element and the properties of a compound bear little similarity to those of its elements.',\n",
    "' Since the properties of an element are mostly determined by its electron configuration, the properties of the elements likewise show recurring patterns or periodic behaviour.',\n",
    "' The property of inertness of noble gases makes them very suitable in chemicals where reactions are not wanted.',\n",
    "' The atom is also the smallest entity that can be envisaged to retain the chemical properties of the element, such as electronegativity, ionization potential and preferred oxidation state.',\n",
    "' The nucleus is made up of positively charged protons and uncharged neutrons (together called nucleons), while the electron cloud consists of negatively charged electrons which orbit the nucleus',\n",
    "' The atom is the basic unit of chemistry. It consists of a dense core called the atomic nucleus surrounded by a space called the electron cloud.',\n",
    "' A chemical reaction is a transformation of some substances into one or more different substances.',\n",
    "' Chemistry is sometimes called the central science because it bridges other natural sciences, including physics, geology and biology.',\n",
    "' Chemistry includes topics such as the properties of individual atoms and how atoms form chemical bonds to create chemical compounds.',\n",
    "' Chemistry is a branch of physical science that studies the composition, structure of atoms, properties and change of matter.']\n",
    "\n",
    "# Creating true labels for 30 training sentences: {0:Cricket ; 1:AI ; 2:Chemistry}\n",
    "train_label = np.zeros(30)\n",
    "train_label[10:20] = 1\n",
    "train_label[20:30] = 2\n",
    "\n",
    "\n",
    "# Test data\n",
    "test_raw = [\"Chemical compunds are used for preparing bombs based on some reactions\",\\\n",
    "                  \"Cricket is a boring game where the batsman only enjoys the game\",\\\n",
    "                  \"Machine learning is a area of Artificial intelligence\"]"
   ]
  },
  {
   "cell_type": "markdown",
   "metadata": {},
   "source": [
    "#### Raw --> Clean Tokens"
   ]
  },
  {
   "cell_type": "code",
   "execution_count": null,
   "metadata": {
    "ExecuteTime": {
     "end_time": "2018-11-04T18:59:34.538469Z",
     "start_time": "2018-11-04T18:59:34.527266Z"
    }
   },
   "outputs": [],
   "source": [
    "stop = set(stopwords.words('english'))\n",
    "exclude = set(string.punctuation) \n",
    "lemma = WordNetLemmatizer()\n",
    "\n",
    "# Cleaning the text sentences so that punctuation marks, stop words & digits are removed  \n",
    "# Raw --> tokens --> remove stopwords --> remove punctuation --> Lemmatization --> remove number\n",
    "def clean(doc):\n",
    "    stop_free = \" \".join([i for i in doc.lower().split() if i not in stop])\n",
    "    punc_free = ''.join(ch for ch in stop_free if ch not in exclude)\n",
    "    normalized = \" \".join(lemma.lemmatize(word) for word in punc_free.split())\n",
    "    processed = re.sub(r\"\\d+\",\"\",normalized)\n",
    "    cleaned_data = processed.split()\n",
    "    return cleaned_data"
   ]
  },
  {
   "cell_type": "code",
   "execution_count": null,
   "metadata": {
    "ExecuteTime": {
     "end_time": "2018-11-04T18:59:36.825641Z",
     "start_time": "2018-11-04T18:59:34.541443Z"
    }
   },
   "outputs": [],
   "source": [
    "print(\"There are 30 sentences along with 3 classes : \\n1. Cricket \\n2. Artificial Intelligence \\n3. Chemistry\")\n",
    "train_clean_data = []\n",
    "\n",
    "for line in train_raw:\n",
    "    line = line.strip()\n",
    "    cleaned = clean(line)\n",
    "    cleaned = ' '.join(cleaned)\n",
    "    train_clean_data.append(cleaned)\n",
    "print('----- Cleaning Done! -----')\n"
   ]
  },
  {
   "cell_type": "markdown",
   "metadata": {},
   "source": [
    "#### Tokens --> TFIDF"
   ]
  },
  {
   "cell_type": "code",
   "execution_count": null,
   "metadata": {
    "ExecuteTime": {
     "end_time": "2018-11-04T18:59:36.850080Z",
     "start_time": "2018-11-04T18:59:36.828803Z"
    }
   },
   "outputs": [],
   "source": [
    "tfidf_vectorizer = TfidfVectorizer(stop_words='english')\n",
    "train_data = tfidf_vectorizer.fit_transform(train_clean_data)\n",
    "train_data"
   ]
  },
  {
   "cell_type": "code",
   "execution_count": null,
   "metadata": {
    "ExecuteTime": {
     "end_time": "2018-11-04T18:59:36.920281Z",
     "start_time": "2018-11-04T18:59:36.853147Z"
    }
   },
   "outputs": [],
   "source": [
    "## For printing that tf-idf matrix, we convert it into dataframe\n",
    "df_tfidf = pd.DataFrame(train_data.toarray(),columns=[tfidf_vectorizer.get_feature_names()])\n",
    "df_tfidf.head(10)"
   ]
  },
  {
   "cell_type": "markdown",
   "metadata": {},
   "source": [
    "### Data Modeling"
   ]
  },
  {
   "cell_type": "markdown",
   "metadata": {},
   "source": [
    "Before learning the model from training data, please make sure to look back again on previous steps. Was there any overfitting steps performed? Overfitting happens when a model has information of test data. So, please make sure the train and the test dataset should be kept as follows:  \n",
    "\n",
    "<img src=\"https://elitedatascience.com/wp-content/uploads/2017/06/Train-Test-Split-Diagram.jpg\" width=\"500\"> \n",
    "    \n",
    "If yes, please modify the codes and run them again before going further."
   ]
  },
  {
   "cell_type": "code",
   "execution_count": null,
   "metadata": {
    "ExecuteTime": {
     "end_time": "2018-11-04T18:59:36.933470Z",
     "start_time": "2018-11-04T18:59:36.923564Z"
    }
   },
   "outputs": [],
   "source": [
    "# Classifying the document with BAYES classifier\n",
    "modelbayes = MultinomialNB()\n",
    "modelbayes.fit(train_data,train_label)"
   ]
  },
  {
   "cell_type": "code",
   "execution_count": null,
   "metadata": {
    "ExecuteTime": {
     "end_time": "2018-11-04T18:59:36.945802Z",
     "start_time": "2018-11-04T18:59:36.937316Z"
    }
   },
   "outputs": [],
   "source": [
    "# Classifying the document with KNN classifier, k=5\n",
    "modelknn = KNeighborsClassifier(n_neighbors=5)\n",
    "modelknn.fit(train_data,train_label)"
   ]
  },
  {
   "cell_type": "markdown",
   "metadata": {},
   "source": [
    "### Data Applying"
   ]
  },
  {
   "cell_type": "code",
   "execution_count": null,
   "metadata": {
    "ExecuteTime": {
     "end_time": "2018-11-04T18:59:36.955091Z",
     "start_time": "2018-11-04T18:59:36.949073Z"
    }
   },
   "outputs": [],
   "source": [
    "## Perform the same preprocessing for test data\n",
    "test_clean_data = []\n",
    "for test in test_raw:\n",
    "    cleaned_test = clean(test)\n",
    "    cleaned = ' '.join(cleaned_test)\n",
    "    cleaned = re.sub(r\"\\d+\",\"\",cleaned)\n",
    "    test_clean_data.append(cleaned)"
   ]
  },
  {
   "cell_type": "code",
   "execution_count": null,
   "metadata": {
    "ExecuteTime": {
     "end_time": "2018-11-04T18:59:36.963591Z",
     "start_time": "2018-11-04T18:59:36.958900Z"
    }
   },
   "outputs": [],
   "source": [
    "## Also perform the tf-idf with the same vectorizer\n",
    "test_data = tfidf_vectorizer.transform(test_clean_data) "
   ]
  },
  {
   "cell_type": "code",
   "execution_count": null,
   "metadata": {
    "ExecuteTime": {
     "end_time": "2018-11-04T18:59:37.005023Z",
     "start_time": "2018-11-04T18:59:36.967541Z"
    }
   },
   "outputs": [],
   "source": [
    "## For printing that tf-idf matrix, we convert it into dataframe\n",
    "df_tfidf_test = pd.DataFrame(test_data.toarray(),columns=[tfidf_vectorizer.get_feature_names()])\n",
    "df_tfidf_test"
   ]
  },
  {
   "cell_type": "code",
   "execution_count": null,
   "metadata": {
    "ExecuteTime": {
     "end_time": "2018-11-04T18:59:37.013820Z",
     "start_time": "2018-11-04T18:59:37.008686Z"
    }
   },
   "outputs": [],
   "source": [
    "## Applying the model to the test_data\n",
    "predicted_labels_knn = modelknn.predict(test_data)"
   ]
  },
  {
   "cell_type": "code",
   "execution_count": null,
   "metadata": {
    "ExecuteTime": {
     "end_time": "2018-11-04T18:59:37.022340Z",
     "start_time": "2018-11-04T18:59:37.017290Z"
    }
   },
   "outputs": [],
   "source": [
    "## Applying the model to the test_data\n",
    "predicted_labels_bayes = modelbayes.predict(test_data)"
   ]
  },
  {
   "cell_type": "code",
   "execution_count": null,
   "metadata": {
    "ExecuteTime": {
     "end_time": "2018-11-04T18:59:37.034403Z",
     "start_time": "2018-11-04T18:59:37.025281Z"
    }
   },
   "outputs": [],
   "source": [
    "_labels = ['Cricket','AI','Chemistry']  ## This is for printing\n",
    "\n",
    "print(\"\\nBelow 3 test samples will be predicted with KNN :\\n1. \",\\\n",
    "      test_raw[0],\"\\n2. \",test_raw[1],\"\\n3. \",test_raw[2])\n",
    "\n",
    "print(\"\\n-------PREDICTIONS BY KNN----------\")\n",
    "print(\"\\n\",test_raw[0],\":\",_labels[np.int(predicted_labels_knn[0])],\\\n",
    "       \"\\n\",test_raw[1],\":\",_labels[np.int(predicted_labels_knn[1])],\\\n",
    "       \"\\n\",test_raw[2],\":\",_labels[np.int(predicted_labels_knn[2])])\n",
    "\n",
    "\n",
    "print(\"\\n-------PREDICTIONS BY BAYES CLASSIFIER----------\")\n",
    "print(\"\\n\",test_raw[0],\":\",_labels[np.int(predicted_labels_bayes[0])],\\\n",
    "       \"\\n\",test_raw[1],\":\",_labels[np.int(predicted_labels_bayes[1])],\\\n",
    "       \"\\n\",test_raw[2],\":\",_labels[np.int(predicted_labels_bayes[2])])"
   ]
  },
  {
   "cell_type": "markdown",
   "metadata": {},
   "source": [
    "## Real Dataset: 20 Newsgoup \n",
    "\n",
    "The 20 Newsgroups data set is a collection of approximately 20,000 newsgroup documents, partitioned (nearly) evenly across 20 different newsgroups. \n",
    "\n",
    "It can be found at: http://qwone.com/~jason/20Newsgroups/. In SKLEARN, it also was included for research purposes.\n",
    "\n",
    "The dataset in Sklearn is smaller than the original one: it comprises around 18000 newsgroups posts on 20 topics split in two subsets: one for training (or development) and the other one for testing (or for performance evaluation).\n",
    "    \n",
    "You can find another link for downloading 20Newsgroup dataset in UCI Archive (very good place for standard datasets for researching): https://archive.ics.uci.edu/ml/datasets/Twenty+Newsgroups\n",
    "\n",
    "The 20 newsgroups collection has become a popular data set for experiments in text applications of machine learning techniques, such as text classification and text clustering."
   ]
  },
  {
   "cell_type": "markdown",
   "metadata": {},
   "source": [
    "### Step 1: Loading the data set in jupyter."
   ]
  },
  {
   "cell_type": "code",
   "execution_count": null,
   "metadata": {
    "ExecuteTime": {
     "end_time": "2018-11-04T18:59:37.671165Z",
     "start_time": "2018-11-04T18:59:37.038098Z"
    }
   },
   "outputs": [],
   "source": [
    "from sklearn.datasets import fetch_20newsgroups\n",
    "twenty_train = fetch_20newsgroups(subset='train', shuffle=True)\n",
    "twenty_test = fetch_20newsgroups(subset='test', shuffle=True)"
   ]
  },
  {
   "cell_type": "markdown",
   "metadata": {},
   "source": [
    "### Step 2: Extracting features from text files."
   ]
  },
  {
   "cell_type": "code",
   "execution_count": null,
   "metadata": {
    "ExecuteTime": {
     "end_time": "2018-11-04T18:59:37.679887Z",
     "start_time": "2018-11-04T18:59:37.673942Z"
    }
   },
   "outputs": [],
   "source": [
    "twenty_train.target_names #prints all the categories\n",
    "print(\"\\n\".join(twenty_train.data[0].split(\"\\n\")[:3])) #prints first line of the first data file"
   ]
  },
  {
   "cell_type": "code",
   "execution_count": null,
   "metadata": {
    "ExecuteTime": {
     "end_time": "2018-11-04T18:59:41.900929Z",
     "start_time": "2018-11-04T18:59:37.683491Z"
    }
   },
   "outputs": [],
   "source": [
    "from sklearn.feature_extraction.text import CountVectorizer\n",
    "count_vect = CountVectorizer()\n",
    "X_train_counts = count_vect.fit_transform(twenty_train.data)\n",
    "print('Size of train data (count): ' + str(X_train_counts.shape))"
   ]
  },
  {
   "cell_type": "code",
   "execution_count": null,
   "metadata": {
    "ExecuteTime": {
     "end_time": "2018-11-04T18:59:46.236170Z",
     "start_time": "2018-11-04T18:59:41.907365Z"
    }
   },
   "outputs": [],
   "source": [
    "from sklearn.feature_extraction.text import TfidfVectorizer\n",
    "tfidf_transformer = TfidfVectorizer()\n",
    "X_train_tfidf = tfidf_transformer.fit_transform(twenty_train.data)\n",
    "print('Size of train data (tfidf): ' + str(X_train_tfidf.shape))"
   ]
  },
  {
   "cell_type": "code",
   "execution_count": null,
   "metadata": {
    "ExecuteTime": {
     "end_time": "2018-11-04T18:59:46.245845Z",
     "start_time": "2018-11-04T18:59:46.239870Z"
    }
   },
   "outputs": [],
   "source": [
    "y_train = twenty_train.target\n",
    "print('Size of labels: ' + str(len(y_train)))"
   ]
  },
  {
   "cell_type": "code",
   "execution_count": null,
   "metadata": {
    "ExecuteTime": {
     "end_time": "2018-11-04T18:59:50.632677Z",
     "start_time": "2018-11-04T18:59:46.251782Z"
    }
   },
   "outputs": [],
   "source": [
    "X_test_counts = count_vect.transform(twenty_test.data)\n",
    "print('Size of test data (count): ' + str(X_test_counts.shape))\n",
    "X_test_tfidf = tfidf_transformer.transform(twenty_test.data)\n",
    "print('Size of test data (tfidf): ' + str(X_test_tfidf.shape))\n",
    "y_test = twenty_test.target"
   ]
  },
  {
   "cell_type": "markdown",
   "metadata": {},
   "source": [
    "### Step 3. Running ML algorithms"
   ]
  },
  {
   "cell_type": "code",
   "execution_count": null,
   "metadata": {
    "ExecuteTime": {
     "end_time": "2018-11-04T19:15:22.264608Z",
     "start_time": "2018-11-04T19:15:20.574455Z"
    }
   },
   "outputs": [],
   "source": [
    "## Cross-validation for checking the accuracy of training steps\n",
    "from sklearn.cross_validation import cross_val_score\n",
    "print('--- 10-fold Cross Validation for Bayes with alpha = 1.0 ----')\n",
    "print(cross_val_score(MultinomialNB(alpha=1.0), X_train_tfidf, y_train, cv=10))"
   ]
  },
  {
   "cell_type": "code",
   "execution_count": null,
   "metadata": {
    "ExecuteTime": {
     "end_time": "2018-11-04T19:14:53.647535Z",
     "start_time": "2018-11-04T19:14:37.788898Z"
    }
   },
   "outputs": [],
   "source": [
    "## Cross-validation for checking the accuracy of training steps\n",
    "from sklearn.cross_validation import cross_val_score\n",
    "print('--- 10-fold Cross Validation for KNN with k = 5 ----')\n",
    "print(cross_val_score(KNeighborsClassifier(n_neighbors=5), X_train_tfidf, y_train, cv=10))"
   ]
  },
  {
   "cell_type": "markdown",
   "metadata": {},
   "source": [
    "<span class=\"burk\">What is k-fold Cross-Validation?</span>\n",
    "\n",
    "K -fold Cross-Validation is a technique to evaluate predictive models by partitioning the original sample into a training set to train the model, and a validation set to evaluate it. \n",
    "\n",
    "The below figure show how the 10-folds cross validation works. \n",
    "\n",
    "![\"10-folds Cross Validation\"](https://www.researchgate.net/profile/Juan_Buhagiar2/publication/322509110/figure/fig1/AS:583173118664704@1516050714606/An-example-of-a-10-fold-cross-validation-cro17.png)\n",
    "\n",
    "<span class=\"burk\">When using Cross-Validation?</span>\n",
    "\n",
    "    1) No or lacking of test set.\n",
    "\n",
    "When we have very little data, splitting it into training and test set might leave us with a very small test set. Say we have only 100 examples, if we do a simple 80–20 split, we’ll get 20 examples in our test set. It is not enough. We can get almost any performance on this set only due to chance. The problem is even worse when we have a multi-class problem. If we have 10 classes and only 20 examples, It leaves us with only 2 examples for each class on average. Testing anything on only 2 examples can’t lead to any real conclusion.\n",
    "\n",
    "If we use cross-validation in this case, we build K different models, so we are able to make predictions on all of our data. After we evaluated our learning algorithm we are now can train our model on all our data.\n",
    "\n",
    "    2) Get More Metrics\n",
    "    \n",
    "When we create ten different models using our learning algorithm and test it on ten different test sets, we can be more confident in our algorithm performance. When we do a single evaluation on our test set, we get only one result. This result may be because of chance or a biased test set for some reason. By training five (or ten) different models we can understand better what’s going on. The results also point out how consistent our model can be. So we can be confident that by training it on all the data set and deploy it in production will lead to similar performance.\n",
    "\n",
    "However, there also can have a slightly different scenario, say 91.0, **44.0**, 91.5, 90.5 and 90.8. It looks like one of our folds is from a different distribution. Thus, we have to go back and make sure that our data is what we think it is. The re-check steps here are really important for data analytics to have a clearly understanding to the data. It will make the successful in learning steps.\n",
    "\n",
    "    3)  Parameters Fine-Tuning\n",
    "   \n",
    "This is one of the most common and obvious reasons to do cross validation. Most of the learning algorithms require some parameters tuning.\n",
    "\n",
    "There are many methods to do the tuning optimization. It could be a manual search, a grid search or some more sophisticated optimization. However, for checking the performance of each changing of parameter, in all those cases we can not do it on whole of our training test and definitely not on our test set. We have to use a third set, a validation set.\n",
    "\n",
    "Read more in: http://scikit-learn.org/stable/modules/cross_validation.html"
   ]
  },
  {
   "cell_type": "markdown",
   "metadata": {},
   "source": [
    "## <span class=\"mark\">Hyperparameter Optimization</span>\n",
    "\n",
    "In machine learning, hyperparameter optimization or tuning is the problem of <span class=\"mark\">choosing a set of optimal hyperparameters</span> for a learning algorithm. Scikit gives an extremely useful tool ‘GridSearchCV’."
   ]
  },
  {
   "cell_type": "markdown",
   "metadata": {},
   "source": [
    "### For Bayes Classifier"
   ]
  },
  {
   "cell_type": "code",
   "execution_count": null,
   "metadata": {
    "ExecuteTime": {
     "end_time": "2018-11-04T19:21:32.293944Z",
     "start_time": "2018-11-04T19:21:32.289919Z"
    }
   },
   "outputs": [],
   "source": [
    "from sklearn.model_selection import GridSearchCV"
   ]
  },
  {
   "cell_type": "code",
   "execution_count": null,
   "metadata": {
    "ExecuteTime": {
     "end_time": "2018-11-04T19:21:33.206999Z",
     "start_time": "2018-11-04T19:21:33.201341Z"
    }
   },
   "outputs": [],
   "source": [
    "print('The searching range is: ' + str(np.linspace(0,1,11)))\n",
    "clf_val = MultinomialNB()\n",
    "parameters = {'alpha': (np.linspace(0,1,11))}"
   ]
  },
  {
   "cell_type": "code",
   "execution_count": null,
   "metadata": {
    "ExecuteTime": {
     "end_time": "2018-11-04T19:22:00.181503Z",
     "start_time": "2018-11-04T19:21:34.062393Z"
    }
   },
   "outputs": [],
   "source": [
    "gs_clf = GridSearchCV(clf_val, parameters, cv=10,scoring='accuracy')\n",
    "gs_clf = gs_clf.fit(X_train_tfidf, y_train)\n",
    "NB_parameters = gs_clf.best_params_\n",
    "print('The best parameter is: ',NB_parameters['alpha'])"
   ]
  },
  {
   "cell_type": "markdown",
   "metadata": {},
   "source": [
    "Let's look back to the validation to obtain the good \"alpha\" for Bayes classifier. The below results show how the mean accuracy (plus/minus std) of 10 CV for each dot of alpha in search range. Please note here, the accuracies here are not related to accuracy using testset."
   ]
  },
  {
   "cell_type": "code",
   "execution_count": null,
   "metadata": {
    "ExecuteTime": {
     "end_time": "2018-11-04T19:22:01.017486Z",
     "start_time": "2018-11-04T19:22:01.009902Z"
    }
   },
   "outputs": [],
   "source": [
    "gs_clf.grid_scores_"
   ]
  },
  {
   "cell_type": "code",
   "execution_count": null,
   "metadata": {
    "ExecuteTime": {
     "end_time": "2018-11-04T19:31:53.471109Z",
     "start_time": "2018-11-04T19:31:51.442676Z"
    }
   },
   "outputs": [],
   "source": [
    "## Cross-validation for checking the accuracy of training steps\n",
    "from sklearn.cross_validation import cross_val_score\n",
    "print('--- 10-fold Cross Validation for Bayes with alpha = 0.1 ----')\n",
    "print(cross_val_score(MultinomialNB(alpha=NB_parameters['alpha']), X_train_tfidf, y_train, cv=10))"
   ]
  },
  {
   "cell_type": "markdown",
   "metadata": {},
   "source": [
    "### For KNN Classifier"
   ]
  },
  {
   "cell_type": "code",
   "execution_count": null,
   "metadata": {
    "ExecuteTime": {
     "end_time": "2018-11-04T19:43:25.809712Z",
     "start_time": "2018-11-04T19:43:25.802823Z"
    }
   },
   "outputs": [],
   "source": [
    "print('The searching range is: ' + str(np.arange(1,10,2)))\n",
    "clf_val = KNeighborsClassifier()\n",
    "parameters = {'n_neighbors': (np.arange(1,10,2))}"
   ]
  },
  {
   "cell_type": "code",
   "execution_count": null,
   "metadata": {
    "ExecuteTime": {
     "end_time": "2018-11-04T19:55:55.938525Z",
     "start_time": "2018-11-04T19:43:27.484624Z"
    }
   },
   "outputs": [],
   "source": [
    "gs_clf = GridSearchCV(clf_val, parameters, cv=10,scoring='accuracy')\n",
    "gs_clf = gs_clf.fit(X_train_tfidf, y_train)\n",
    "KNN_parameters = gs_clf.best_params_\n",
    "print('The best parameter is: ',KNN_parameters['n_neighbors'])"
   ]
  },
  {
   "cell_type": "code",
   "execution_count": null,
   "metadata": {
    "ExecuteTime": {
     "end_time": "2018-11-04T19:57:45.954494Z",
     "start_time": "2018-11-04T19:57:45.944891Z"
    }
   },
   "outputs": [],
   "source": [
    "gs_clf.grid_scores_"
   ]
  },
  {
   "cell_type": "code",
   "execution_count": null,
   "metadata": {
    "ExecuteTime": {
     "end_time": "2018-11-04T19:58:18.362721Z",
     "start_time": "2018-11-04T19:58:05.232607Z"
    }
   },
   "outputs": [],
   "source": [
    "## Cross-validation for checking the accuracy of training steps\n",
    "from sklearn.cross_validation import cross_val_score\n",
    "print('--- 10-fold Cross Validation for KNN with k = 1 ----')\n",
    "print(cross_val_score(KNeighborsClassifier(n_neighbors=KNN_parameters['n_neighbors']), X_train_tfidf, y_train, cv=10))"
   ]
  },
  {
   "cell_type": "markdown",
   "metadata": {},
   "source": [
    "## Final Learning"
   ]
  },
  {
   "cell_type": "code",
   "execution_count": null,
   "metadata": {
    "ExecuteTime": {
     "end_time": "2018-11-04T20:09:01.444474Z",
     "start_time": "2018-11-04T20:09:01.276241Z"
    }
   },
   "outputs": [],
   "source": [
    "## Training steps:\n",
    "clf_NB = MultinomialNB(alpha=NB_parameters['alpha']).fit(X_train_tfidf, y_train)\n",
    "clf_KNN = KNeighborsClassifier(n_neighbors=KNN_parameters['n_neighbors']).fit(X_train_tfidf, y_train)"
   ]
  },
  {
   "cell_type": "code",
   "execution_count": null,
   "metadata": {
    "ExecuteTime": {
     "end_time": "2018-11-04T20:09:13.924352Z",
     "start_time": "2018-11-04T20:09:02.941962Z"
    }
   },
   "outputs": [],
   "source": [
    "## Applying steps:\n",
    "predicted_NB = clf_NB.predict(X_test_tfidf)\n",
    "print('Accuracy for model Naive Bayes (alpha =0.1): '+ str(np.mean(predicted_NB == y_test) ))\n",
    "\n",
    "predicted_KNN = clf_KNN.predict(X_test_tfidf)\n",
    "print('Accuracy for model KNN (k=1): '+ str(np.mean(predicted_KNN == y_test) ))"
   ]
  },
  {
   "cell_type": "markdown",
   "metadata": {},
   "source": [
    "### Recheck with other parameter's setup"
   ]
  },
  {
   "cell_type": "code",
   "execution_count": null,
   "metadata": {
    "ExecuteTime": {
     "end_time": "2018-11-04T20:09:47.545351Z",
     "start_time": "2018-11-04T20:09:36.824341Z"
    }
   },
   "outputs": [],
   "source": [
    "predicted_NB2 = MultinomialNB(alpha=1.0).fit(X_train_tfidf, y_train).predict(X_test_tfidf)\n",
    "print('Accuracy for model Naive Bayes (alpha =1.0): '+ str(np.mean(predicted_NB2 == y_test) ))\n",
    "\n",
    "predicted_KNN2 = KNeighborsClassifier(n_neighbors=5).fit(X_train_tfidf, y_train).predict(X_test_tfidf)\n",
    "print('Accuracy for model KNN (k=5): '+ str(np.mean(predicted_KNN2 == y_test) ))"
   ]
  }
 ],
 "metadata": {
  "kernelspec": {
   "display_name": "Python 3",
   "language": "python",
   "name": "python3"
  },
  "language_info": {
   "name": ""
  }
 },
 "nbformat": 4,
 "nbformat_minor": 4
}
