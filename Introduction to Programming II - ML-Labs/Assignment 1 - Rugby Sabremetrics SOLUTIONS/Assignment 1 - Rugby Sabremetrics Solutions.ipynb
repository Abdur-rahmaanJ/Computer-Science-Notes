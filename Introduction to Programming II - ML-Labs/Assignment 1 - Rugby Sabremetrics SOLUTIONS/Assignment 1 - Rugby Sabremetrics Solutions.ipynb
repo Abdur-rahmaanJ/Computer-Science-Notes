{
 "cells": [
  {
   "cell_type": "markdown",
   "metadata": {},
   "source": [
    "# COMP 10020 Introduction to Programming 2 \n",
    "## Assignment 1 - Rugby Sabremetrics\n",
    "## SOLUTIONS"
   ]
  },
  {
   "cell_type": "markdown",
   "metadata": {},
   "source": [
    "In this lab you will be tasked with exercising your key Python programming skills. The **Pick & Go Test Match Results Database** (http://www.lassen.co.nz/pickandgo.php) contains the results of every international rugby match played since 1875. The following code block reads data from a data file (*'RugbyResultsData.csv'*) scraped from Pick & Go and stores  this in a list of dictionary objects, each of which contains the details of a match. The details stored about each match are stored in a dictionary object with the following keys:\n",
    "\n",
    "* **Date**: The date on which the match was played \n",
    "* **Day**: The day of the week on which the match was played \n",
    "* **Year**: The year in which the match was played\n",
    "* **Team_1**: The home team (three letter country code, e.g. IRL = Ireland, NZL = New Zealand)\n",
    "* **Team_2**: The away team (three letter country code, e.g. IRL = Ireland, NZL = New Zealand)\n",
    "* **Team_1_Score**: The score achieved by the home team.\t\n",
    "* **Team_2_Score**: The score achieved by the away team.\t\n",
    "* **Team_1_Tries**: The number of tries scored by the home team.\n",
    "* **Team_2_Tries**: The number of tries scored by the away team.\n",
    "* **Neutral**: Was the match played at a neutral venue?"
   ]
  },
  {
   "cell_type": "code",
   "execution_count": null,
   "metadata": {},
   "outputs": [],
   "source": [
    "matches = list()\n",
    "count = 0\n",
    "with open('RugbyResultsData.csv') as f:\n",
    "    for line in f:\n",
    "        words = line.split(',')\n",
    "        match = {\"Date\":words[0],\"Day\":words[1],\"Year\":int(words[2]),\"Team_1\":words[3],\"Team_2\":words[4],\"Team_1_Score\":int(words[5]),\"Team_2_Score\":int(words[6]),\"Team_1_Tries\":int(words[7]),\"Team_2_Tries\":int(words[8]),\"Neutral\":words[9][0]}\n",
    "        matches.append(match)\n",
    "        count = count + 1\n",
    "    \n",
    "print(str(count) + \" matches loaded\")"
   ]
  },
  {
   "cell_type": "markdown",
   "metadata": {},
   "source": [
    "The details of a specific match are accessed by first selecting an element from the **matches** list and then accessing specific pieces of data about that match from the dictionary. For example, the year and teams involved in the third match in the list could be accessed as follows:"
   ]
  },
  {
   "cell_type": "code",
   "execution_count": null,
   "metadata": {},
   "outputs": [],
   "source": [
    "matches[2][\"Year\"]"
   ]
  },
  {
   "cell_type": "code",
   "execution_count": null,
   "metadata": {},
   "outputs": [],
   "source": [
    "matches[2][\"Team_1\"]"
   ]
  },
  {
   "cell_type": "code",
   "execution_count": null,
   "metadata": {
    "scrolled": true
   },
   "outputs": [],
   "source": [
    "matches[2][\"Team_2\"]"
   ]
  },
  {
   "cell_type": "markdown",
   "metadata": {},
   "source": [
    "The task in this lab is to answer the question below using simple Python code. **DO NOT** use advanced packages (e.g. pandas or numpy) for these tasks, write all code yourself."
   ]
  },
  {
   "cell_type": "markdown",
   "metadata": {},
   "source": [
    "### Question 1"
   ]
  },
  {
   "cell_type": "markdown",
   "metadata": {},
   "source": [
    "What is the highest score that any team has achieved in a single match?"
   ]
  },
  {
   "cell_type": "code",
   "execution_count": null,
   "metadata": {},
   "outputs": [],
   "source": [
    "# Write code to determine and print the answer here.\n",
    "\n",
    "high_score = 0\n",
    "high_score_match = None\n",
    "\n",
    "for match in matches:\n",
    "    if(match[\"Team_1_Score\"] > high_score):\n",
    "        high_score = match[\"Team_1_Score\"]\n",
    "        high_score_match = match\n",
    "    \n",
    "    if(match[\"Team_2_Score\"] > high_score):\n",
    "        high_score = match[\"Team_2_Score\"]\n",
    "        high_score_match = match\n",
    "\n",
    "print(\"high score:\" + str(high_score))\n",
    "print(high_score_match)"
   ]
  },
  {
   "cell_type": "markdown",
   "metadata": {},
   "source": [
    "### Question 2"
   ]
  },
  {
   "cell_type": "markdown",
   "metadata": {},
   "source": [
    "What is the highest number of tries that have been scored in a single match?"
   ]
  },
  {
   "cell_type": "code",
   "execution_count": null,
   "metadata": {},
   "outputs": [],
   "source": [
    "# Write code to determine and print the answer here.\n",
    "high_tries = 0\n",
    "high_tries_match = None\n",
    "\n",
    "for match in matches:\n",
    "    if((match[\"Team_1_Tries\"] + match[\"Team_2_Tries\"]) > high_tries):\n",
    "        high_tries = match[\"Team_1_Tries\"] + match[\"Team_2_Tries\"]\n",
    "        high_tries_match = match\n",
    "\n",
    "print(\"high tries:\" + str(high_tries))\n",
    "print(high_tries_match)"
   ]
  },
  {
   "cell_type": "markdown",
   "metadata": {},
   "source": [
    "### Question 3"
   ]
  },
  {
   "cell_type": "markdown",
   "metadata": {},
   "source": [
    "What is the biggest points difference ever seen in a match? Who was playing?"
   ]
  },
  {
   "cell_type": "code",
   "execution_count": null,
   "metadata": {},
   "outputs": [],
   "source": [
    "# Write code to determine and print the answer here.\n",
    "high_points_diff = 0\n",
    "high_points_diff_match = None\n",
    "\n",
    "for match in matches:\n",
    "    points_diff = abs(match[\"Team_1_Score\"] - match[\"Team_2_Score\"])\n",
    "    \n",
    "    if(points_diff > high_points_diff):\n",
    "        high_points_diff = points_diff\n",
    "        high_points_diff_match = match\n",
    "\n",
    "print(\"high points diff:\" + str(high_points_diff))\n",
    "print(high_points_diff_match)"
   ]
  },
  {
   "cell_type": "markdown",
   "metadata": {},
   "source": [
    "### Question 4"
   ]
  },
  {
   "cell_type": "markdown",
   "metadata": {},
   "source": [
    "How many matches have Scotland played since records began?"
   ]
  },
  {
   "cell_type": "code",
   "execution_count": null,
   "metadata": {},
   "outputs": [],
   "source": [
    "# Write code to determine and print the answer here.\n",
    "sco_games = 0\n",
    "\n",
    "for match in matches:\n",
    "    \n",
    "    if(match[\"Team_1\"] == \"SCO\" or match[\"Team_2\"] == \"SCO\"):\n",
    "        sco_games = sco_games + 1\n",
    "\n",
    "print(\"Scotland games:\" + str(sco_games))"
   ]
  },
  {
   "cell_type": "markdown",
   "metadata": {},
   "source": [
    "### Question 5"
   ]
  },
  {
   "cell_type": "markdown",
   "metadata": {},
   "source": [
    "How many times have Ireland played France since records began?"
   ]
  },
  {
   "cell_type": "code",
   "execution_count": null,
   "metadata": {},
   "outputs": [],
   "source": [
    "# Write code to determine and print the answer here.\n",
    "ire_fra_games = 0\n",
    "\n",
    "for match in matches:\n",
    "    \n",
    "    if((match[\"Team_1\"] == \"IRE\" and match[\"Team_2\"] == \"FRA\") or (match[\"Team_2\"] == \"IRE\" and match[\"Team_1\"] == \"FRA\")):\n",
    "        ire_fra_games = ire_fra_games + 1\n",
    "\n",
    "print(\"Ireland-France games:\" + str(ire_fra_games))"
   ]
  },
  {
   "cell_type": "markdown",
   "metadata": {},
   "source": [
    "### Question 6"
   ]
  },
  {
   "cell_type": "markdown",
   "metadata": {},
   "source": [
    "Which team have played the most matches since records began?"
   ]
  },
  {
   "cell_type": "code",
   "execution_count": null,
   "metadata": {},
   "outputs": [],
   "source": [
    "# Write code to determine and print the answer here.\n",
    "games_played_map = dict()\n",
    "\n",
    "# Count the number of matches played by each team\n",
    "for match in matches:\n",
    "    if(match[\"Team_1\"] in games_played_map):\n",
    "        games_played_map[match[\"Team_1\"]] += 1\n",
    "    else:\n",
    "        games_played_map[match[\"Team_1\"]] = 1\n",
    "        \n",
    "    if(match[\"Team_2\"] in games_played_map):\n",
    "        games_played_map[match[\"Team_2\"]] += 1\n",
    "    else:\n",
    "        games_played_map[match[\"Team_2\"]] = 1\n",
    "\n",
    "print(games_played_map)\n",
    "\n",
    "# Determine the team that has played the most matches\n",
    "most_played = 0\n",
    "most_played_team = None\n",
    "\n",
    "for team in games_played_map:\n",
    "    if(games_played_map[team] > most_played):\n",
    "        most_played = games_played_map[team] \n",
    "        most_played_team = team\n",
    "\n",
    "print(most_played_team)\n",
    "print(most_played)"
   ]
  },
  {
   "cell_type": "markdown",
   "metadata": {},
   "source": [
    "### Question 7"
   ]
  },
  {
   "cell_type": "markdown",
   "metadata": {},
   "source": [
    "Which team is the “*losingest*” (i.e. has been kept to zero points in a game in which they lost in most matches since records began)?"
   ]
  },
  {
   "cell_type": "code",
   "execution_count": null,
   "metadata": {},
   "outputs": [],
   "source": [
    "# Write code to determine and print the answer here.\n",
    "zero_score_map = dict()\n",
    "\n",
    "# Count the number of wins for each team\n",
    "for match in matches:\n",
    "    if(match[\"Team_1_Score\"] == 0 and match[\"Team_1_Score\"] < match[\"Team_2_Score\"]):\n",
    "        if(match[\"Team_1\"] in zero_score_map):\n",
    "            zero_score_map[match[\"Team_1\"]] += 1\n",
    "        else:\n",
    "            zero_score_map[match[\"Team_1\"]] = 1\n",
    "\n",
    "    elif(match[\"Team_2_Score\"] == 0  and match[\"Team_2_Score\"] < match[\"Team_1_Score\"]):\n",
    "        if(match[\"Team_2\"] in zero_score_map):\n",
    "            zero_score_map[match[\"Team_2\"]] += 1\n",
    "        else:\n",
    "            zero_score_map[match[\"Team_2\"]] = 1\n",
    "\n",
    "print(zero_score_map)\n",
    "\n",
    "# Determine the team that has won the most matches\n",
    "most_lost = 0\n",
    "most_lost_team = None\n",
    "\n",
    "for team in zero_score_map:\n",
    "    if(zero_score_map[team] > most_lost):\n",
    "        most_lost = zero_score_map[team] \n",
    "        most_lost_team = team\n",
    "\n",
    "print(most_lost_team)\n",
    "print(most_lost)\n"
   ]
  },
  {
   "cell_type": "markdown",
   "metadata": {},
   "source": [
    "### Question 8"
   ]
  },
  {
   "cell_type": "markdown",
   "metadata": {},
   "source": [
    "Is there really a home advantage – i.e. does the home team win more often than the away team? Justify your answer."
   ]
  },
  {
   "cell_type": "code",
   "execution_count": null,
   "metadata": {},
   "outputs": [],
   "source": [
    "# Write code to determine and print the answer here.\n",
    "home_wins = 0\n",
    "away_wins = 0\n",
    "\n",
    "# Count the number of wins for each team\n",
    "for match in matches:\n",
    "    if(match[\"Neutral\"] == \"N\"):\n",
    "        if(match[\"Team_1_Score\"] > match[\"Team_2_Score\"]):\n",
    "            home_wins += 1\n",
    "        elif(match[\"Team_2_Score\"] > match[\"Team_1_Score\"]):\n",
    "            away_wins += 1\n",
    "            \n",
    "print(home_wins)\n",
    "print(away_wins)\n",
    "\n",
    "if(home_wins > away_wins):\n",
    "    print(\"Home advantage is real\")\n",
    "elif(away_wins > home_wins):\n",
    "    print(\"Home advantage is fake news\")"
   ]
  },
  {
   "cell_type": "markdown",
   "metadata": {
    "collapsed": true
   },
   "source": [
    "### Question 9"
   ]
  },
  {
   "cell_type": "markdown",
   "metadata": {},
   "source": [
    "In what year did Ireland play the highest number of games?"
   ]
  },
  {
   "cell_type": "code",
   "execution_count": null,
   "metadata": {},
   "outputs": [],
   "source": [
    "# Write code to determine and print the answer here.\n",
    "games_played_per_year_map = dict()\n",
    "\n",
    "# Count the number of matches played each year by Ireland\n",
    "for match in matches:\n",
    "    if(match[\"Team_1\"] == \"IRE\" or match[\"Team_2\"] == \"IRE\"):\n",
    "\n",
    "        if(match[\"Year\"] in games_played_per_year_map):\n",
    "            games_played_per_year_map[match[\"Year\"]] += 1\n",
    "        else:\n",
    "            games_played_per_year_map[match[\"Year\"]] = 1\n",
    "\n",
    "print(games_played_per_year_map)\n",
    "\n",
    "# Determine the year in which Ireland played the most matches\n",
    "most_played = 0\n",
    "most_played_year = None\n",
    "\n",
    "for year in games_played_per_year_map:\n",
    "    if(games_played_per_year_map[year] > most_played):\n",
    "        most_played = games_played_per_year_map[year] \n",
    "        most_played_year = year\n",
    "\n",
    "print(most_played_year)\n",
    "print(most_played)"
   ]
  },
  {
   "cell_type": "markdown",
   "metadata": {},
   "source": [
    "### Question 10"
   ]
  },
  {
   "cell_type": "markdown",
   "metadata": {},
   "source": [
    "Write a function that will work out the record (number of wins, losses, and draws) of any one team against another team."
   ]
  },
  {
   "cell_type": "code",
   "execution_count": null,
   "metadata": {
    "collapsed": true
   },
   "outputs": [],
   "source": [
    "def get_team_record(team1, team2):\n",
    "    \n",
    "    # Write code to determine and print the answer here.\n",
    "    wins = 0\n",
    "    losses = 0\n",
    "    draws = 0\n",
    "\n",
    "    # Count the number of matches played each year by Ireland\n",
    "    for match in matches:\n",
    "        if(match[\"Team_1\"] == team1 and match[\"Team_2\"] == team2):\n",
    "\n",
    "            if(match[\"Team_1_Score\"] > match[\"Team_2_Score\"]):\n",
    "                wins += 1\n",
    "\n",
    "            elif(match[\"Team_1_Score\"] < match[\"Team_2_Score\"]):\n",
    "                losses += 1\n",
    "\n",
    "            elif(match[\"Team_1_Score\"] == match[\"Team_2_Score\"]):\n",
    "                draws += 1\n",
    "\n",
    "        if(match[\"Team_2\"] == team1 and match[\"Team_1\"] == team2):\n",
    "\n",
    "            if(match[\"Team_2_Score\"] > match[\"Team_1_Score\"]):\n",
    "                wins += 1\n",
    "\n",
    "            elif(match[\"Team_2_Score\"] < match[\"Team_1_Score\"]):\n",
    "                losses += 1\n",
    "\n",
    "            elif(match[\"Team_2_Score\"] == match[\"Team_1_Score\"]):\n",
    "                draws += 1\n",
    "\n",
    "    return wins, losses, draws\n"
   ]
  },
  {
   "cell_type": "markdown",
   "metadata": {},
   "source": [
    "Use this function to print the records of the following teams against selected opponents:\n",
    "* Ireland's (IRE) record against Italy (ITA)\n",
    "* Italy's (ITA) record against Ireland (IRE)\n",
    "* Ireland's (IRE) record against New Zealand (NZL)\n",
    "* Ireland's (IRE) record against England (ITA)\n",
    "* Scotland's (SCO) record against France (FRA)"
   ]
  },
  {
   "cell_type": "code",
   "execution_count": null,
   "metadata": {},
   "outputs": [],
   "source": [
    "print(get_team_record(\"IRE\", \"ITA\"))"
   ]
  },
  {
   "cell_type": "code",
   "execution_count": null,
   "metadata": {},
   "outputs": [],
   "source": [
    "print(get_team_record(\"ITA\", \"IRE\"))"
   ]
  },
  {
   "cell_type": "code",
   "execution_count": null,
   "metadata": {},
   "outputs": [],
   "source": [
    "print(get_team_record(\"IRE\", \"NZL\"))"
   ]
  },
  {
   "cell_type": "code",
   "execution_count": null,
   "metadata": {},
   "outputs": [],
   "source": [
    "print(get_team_record(\"SCO\", \"FRA\"))"
   ]
  },
  {
   "cell_type": "code",
   "execution_count": null,
   "metadata": {},
   "outputs": [],
   "source": [
    "print(get_team_record(\"IRE\", \"ENG\"))"
   ]
  },
  {
   "cell_type": "code",
   "execution_count": null,
   "metadata": {
    "collapsed": true
   },
   "outputs": [],
   "source": []
  }
 ],
 "metadata": {
  "anaconda-cloud": {},
  "kernelspec": {
   "display_name": "Python 3",
   "language": "python",
   "name": "python3"
  },
  "language_info": {
   "codemirror_mode": {
    "name": "ipython",
    "version": 3
   },
   "file_extension": ".py",
   "mimetype": "text/x-python",
   "name": "python",
   "nbconvert_exporter": "python",
   "pygments_lexer": "ipython3",
   "version": "3.6.0"
  }
 },
 "nbformat": 4,
 "nbformat_minor": 1
}
