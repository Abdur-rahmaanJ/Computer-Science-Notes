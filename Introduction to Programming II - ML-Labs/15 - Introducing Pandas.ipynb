{
 "cells": [
  {
   "cell_type": "markdown",
   "metadata": {},
   "source": [
    "# Data Manipulation & Analysis With Pandas"
   ]
  },
  {
   "cell_type": "markdown",
   "metadata": {},
   "source": [
    "## Introduction"
   ]
  },
  {
   "cell_type": "markdown",
   "metadata": {},
   "source": [
    "**pandas** is a Python library that provides high-performance, easy-to-use data structures and data analysis tools. In many ways pandas provides a Python equivilent of the data analysis and manipulation tools avialble in the R programming language. Full details of pandas are available at [pandas.pydata.org](http://pandas.pydata.org/)\n",
    "\n",
    "pandas fits very nicely as part of the iPython Notebook environment along with librarires such as numpy, scikit learn, and matplotlib."
   ]
  },
  {
   "cell_type": "markdown",
   "metadata": {},
   "source": [
    "The pandas website describes the highlights of the pandas library as:\n",
    "\n",
    "* A fast and efficient DataFrame object for data manipulation with integrated indexing;\n",
    "* Tools for reading and writing data between in-memory data structures and different formats: CSV and text files, Microsoft Excel, SQL databases, and the fast HDF5 format;\n",
    "* Intelligent data alignment and integrated handling of missing data: gain automatic label-based alignment in computations and easily manipulate messy data into an orderly form;\n",
    "* Flexible reshaping and pivoting of data sets;\n",
    "* Intelligent label-based slicing, fancy indexing, and subsetting of large data sets;\n",
    "* Columns can be inserted and deleted from data structures for size mutability;\n",
    "* Aggregating or transforming data with a powerful group by engine allowing split-apply-combine operations on data sets;\n",
    "* High performance merging and joining of data sets;\n",
    "* Hierarchical axis indexing provides an intuitive way of working with high-dimensional data in a lower-dimensional data structure;\n",
    "* Time series-functionality: date range generation and frequency conversion, moving window statistics, moving window linear regressions, date shifting and lagging. Even create domain-specific time offsets and join time series without losing data;\n",
    "* Highly optimized for performance, with critical code paths written in Cython or C.\n",
    "* Python with pandas is in use in a wide variety of academic and commercial domains, including Finance, Neuroscience, Economics, Statistics, Advertising, Web Analytics, and more.\n",
    "\n",
    "\n"
   ]
  },
  {
   "cell_type": "markdown",
   "metadata": {},
   "source": [
    "## Pandas Data Structures"
   ]
  },
  {
   "cell_type": "markdown",
   "metadata": {},
   "source": [
    "To get started we import the **pandas** library (and the **numpy** library as much of pandas is based on this)."
   ]
  },
  {
   "cell_type": "code",
   "execution_count": null,
   "metadata": {},
   "outputs": [],
   "source": [
    "from IPython.display import display, HTML\n",
    "import pandas as pd\n",
    "import numpy as np"
   ]
  },
  {
   "cell_type": "markdown",
   "metadata": {},
   "source": [
    "Pandas offers two key data structures that are optimised for data analysis and manipulation: **Series** and **DataFrame**. the key distinction of these data structures over basic Python data structures is that they make it easy to associate labels with data - for example row and column names. "
   ]
  },
  {
   "cell_type": "markdown",
   "metadata": {},
   "source": [
    "### Series"
   ]
  },
  {
   "cell_type": "markdown",
   "metadata": {},
   "source": [
    "In pandas a Series is a one-dimensional array capable of holding any data type (integers, strings, floating point numbers, Python objects, etc.).  the difference between this and a basic Python list or tuple is that the elements in the array can have a custom label, or **index** - that is they are not limited to a simple nueric index like the basic Python data structures."
   ]
  },
  {
   "cell_type": "markdown",
   "metadata": {},
   "source": [
    "#### Creation"
   ]
  },
  {
   "cell_type": "markdown",
   "metadata": {},
   "source": [
    "To create a pandas Series we use the **Series** method. The simplest way to create a pandas Series is to pass it a list of values and use a simple numeric index (a not very exictiing way to use a pandas Series!)."
   ]
  },
  {
   "cell_type": "code",
   "execution_count": null,
   "metadata": {},
   "outputs": [],
   "source": [
    "my_series = pd.Series([45, 232, 45, 67, 1, 88, 99, 65])\n",
    "print(my_series)"
   ]
  },
  {
   "cell_type": "markdown",
   "metadata": {},
   "source": [
    "We can also explictily pass a list of index values to the Series method so as to use a more intersting index. For example:"
   ]
  },
  {
   "cell_type": "code",
   "execution_count": null,
   "metadata": {},
   "outputs": [],
   "source": [
    "populations = pd.Series([1357000000, 1252000000, 321068000, 249900000, 200400000, 191854000], \n",
    "                        [\"China\", \"India\", \"United States\", \"Indonesia\", \"Brazil\", \"Pakistan\"])\n",
    "print(populations)"
   ]
  },
  {
   "cell_type": "markdown",
   "metadata": {},
   "source": [
    "This is very similar to a Python dictionary. In fact we can create a pandas series directly from a Python dictionary:"
   ]
  },
  {
   "cell_type": "code",
   "execution_count": null,
   "metadata": {},
   "outputs": [],
   "source": [
    "populations = pd.Series({\"China\":1357000000, \"India\":1252000000, \"United States\":321068000, \"Indonesia\":249900000, \"Brazil\":200400000, \"Pakistan\":191854000})\n",
    "print(populations)"
   ]
  },
  {
   "cell_type": "markdown",
   "metadata": {},
   "source": [
    "#### Operations"
   ]
  },
  {
   "cell_type": "markdown",
   "metadata": {},
   "source": [
    "The pandas Series object, however, supports interesting data analysis functionality. For example, we can perform a range of simple analysis tasks on this Series object:"
   ]
  },
  {
   "cell_type": "code",
   "execution_count": null,
   "metadata": {},
   "outputs": [],
   "source": [
    "populations.min()"
   ]
  },
  {
   "cell_type": "code",
   "execution_count": null,
   "metadata": {},
   "outputs": [],
   "source": [
    "populations.max()"
   ]
  },
  {
   "cell_type": "code",
   "execution_count": null,
   "metadata": {},
   "outputs": [],
   "source": [
    "populations.median()"
   ]
  },
  {
   "cell_type": "code",
   "execution_count": null,
   "metadata": {},
   "outputs": [],
   "source": [
    "populations.mean()"
   ]
  },
  {
   "cell_type": "code",
   "execution_count": null,
   "metadata": {
    "scrolled": true
   },
   "outputs": [],
   "source": [
    "populations.std()"
   ]
  },
  {
   "cell_type": "markdown",
   "metadata": {},
   "source": [
    "The **describe** method generates a nice summary set of descriptive statistics:"
   ]
  },
  {
   "cell_type": "code",
   "execution_count": null,
   "metadata": {},
   "outputs": [],
   "source": [
    "populations.describe()"
   ]
  },
  {
   "cell_type": "markdown",
   "metadata": {},
   "source": [
    "#### Access & Manipulation"
   ]
  },
  {
   "cell_type": "markdown",
   "metadata": {},
   "source": [
    "A pandas Series offers a number of choices for accessing elements. We can use simple index numbers:"
   ]
  },
  {
   "cell_type": "code",
   "execution_count": null,
   "metadata": {},
   "outputs": [],
   "source": [
    "populations[0]"
   ]
  },
  {
   "cell_type": "code",
   "execution_count": null,
   "metadata": {},
   "outputs": [],
   "source": [
    "populations[5]"
   ]
  },
  {
   "cell_type": "markdown",
   "metadata": {},
   "source": [
    "We can use slicing through the **:** operator (remenber that **start:end** includes the elements from index start up to but not including index end): "
   ]
  },
  {
   "cell_type": "code",
   "execution_count": null,
   "metadata": {},
   "outputs": [],
   "source": [
    "populations[2:5]"
   ]
  },
  {
   "cell_type": "code",
   "execution_count": null,
   "metadata": {},
   "outputs": [],
   "source": [
    "populations[:5]"
   ]
  },
  {
   "cell_type": "code",
   "execution_count": null,
   "metadata": {},
   "outputs": [],
   "source": [
    "populations[2:]"
   ]
  },
  {
   "cell_type": "markdown",
   "metadata": {},
   "source": [
    "We can also provide Boolean expressions for conditional data acess. For example, to generate a list of countries with populations greater than 1 billion we use:"
   ]
  },
  {
   "cell_type": "code",
   "execution_count": null,
   "metadata": {},
   "outputs": [],
   "source": [
    "populations[populations > 1000000000]"
   ]
  },
  {
   "cell_type": "markdown",
   "metadata": {},
   "source": [
    "We can also access elements using the index defined at creation (like we would with a dictionary):"
   ]
  },
  {
   "cell_type": "code",
   "execution_count": null,
   "metadata": {},
   "outputs": [],
   "source": [
    "populations"
   ]
  },
  {
   "cell_type": "code",
   "execution_count": null,
   "metadata": {},
   "outputs": [],
   "source": [
    "populations[\"Brazil\"]"
   ]
  },
  {
   "cell_type": "markdown",
   "metadata": {},
   "source": [
    "Using the index is also the easiest way to change elements in a pandas Series:"
   ]
  },
  {
   "cell_type": "code",
   "execution_count": null,
   "metadata": {
    "scrolled": true
   },
   "outputs": [],
   "source": [
    "populations[\"China\"] = 1374730000\n",
    "print(populations)"
   ]
  },
  {
   "cell_type": "markdown",
   "metadata": {},
   "source": [
    "Although changes can always also be made using numeric indices:"
   ]
  },
  {
   "cell_type": "code",
   "execution_count": null,
   "metadata": {},
   "outputs": [],
   "source": [
    "populations[2] = 1236344631\n",
    "print(populations)"
   ]
  },
  {
   "cell_type": "markdown",
   "metadata": {},
   "source": [
    "### DataFrame"
   ]
  },
  {
   "cell_type": "markdown",
   "metadata": {},
   "source": [
    "A pandas **DataFrame** is a 2-dimensional labeled data structure with columns of data that can be of different types. The DataFrame is essentially equivilent to a spreadsheet, and SQL table, and R data frame, or a SAS dataset. The DataFrame is the most commonly used pandas object and usually why we use pandas. Rows and columns in a DataFrame can be labelled, which allows for easy data access.\n"
   ]
  },
  {
   "cell_type": "code",
   "execution_count": 1,
   "metadata": {},
   "outputs": [],
   "source": [
    "from IPython.display import display, HTML\n",
    "import pandas as pd\n",
    "import numpy as np"
   ]
  },
  {
   "cell_type": "markdown",
   "metadata": {},
   "source": [
    "#### Creation"
   ]
  },
  {
   "cell_type": "markdown",
   "metadata": {},
   "source": [
    "The easiest way to create a pandas DataFrame is to pass the **DataFrame** method a dictionary of lists (each list will be a **column** in the DataFrame):"
   ]
  },
  {
   "cell_type": "code",
   "execution_count": 4,
   "metadata": {},
   "outputs": [
    {
     "data": {
      "text/html": [
       "<div>\n",
       "<style scoped>\n",
       "    .dataframe tbody tr th:only-of-type {\n",
       "        vertical-align: middle;\n",
       "    }\n",
       "\n",
       "    .dataframe tbody tr th {\n",
       "        vertical-align: top;\n",
       "    }\n",
       "\n",
       "    .dataframe thead th {\n",
       "        text-align: right;\n",
       "    }\n",
       "</style>\n",
       "<table border=\"1\" class=\"dataframe\">\n",
       "  <thead>\n",
       "    <tr style=\"text-align: right;\">\n",
       "      <th></th>\n",
       "      <th>Country</th>\n",
       "      <th>GDP</th>\n",
       "      <th>Life Expectancy</th>\n",
       "      <th>Population</th>\n",
       "    </tr>\n",
       "  </thead>\n",
       "  <tbody>\n",
       "    <tr>\n",
       "      <th>0</th>\n",
       "      <td>China</td>\n",
       "      <td>11384760</td>\n",
       "      <td>75.41</td>\n",
       "      <td>1357000000</td>\n",
       "    </tr>\n",
       "    <tr>\n",
       "      <th>1</th>\n",
       "      <td>India</td>\n",
       "      <td>2182580</td>\n",
       "      <td>68.13</td>\n",
       "      <td>1252000000</td>\n",
       "    </tr>\n",
       "    <tr>\n",
       "      <th>2</th>\n",
       "      <td>United States</td>\n",
       "      <td>17968200</td>\n",
       "      <td>79.68</td>\n",
       "      <td>321068000</td>\n",
       "    </tr>\n",
       "    <tr>\n",
       "      <th>3</th>\n",
       "      <td>Indonesia</td>\n",
       "      <td>888648</td>\n",
       "      <td>72.45</td>\n",
       "      <td>249900000</td>\n",
       "    </tr>\n",
       "    <tr>\n",
       "      <th>4</th>\n",
       "      <td>Brazil</td>\n",
       "      <td>1799610</td>\n",
       "      <td>73.53</td>\n",
       "      <td>200400000</td>\n",
       "    </tr>\n",
       "    <tr>\n",
       "      <th>5</th>\n",
       "      <td>Pakistan</td>\n",
       "      <td>246849</td>\n",
       "      <td>67.39</td>\n",
       "      <td>191854000</td>\n",
       "    </tr>\n",
       "  </tbody>\n",
       "</table>\n",
       "</div>"
      ],
      "text/plain": [
       "         Country       GDP  Life Expectancy  Population\n",
       "0          China  11384760            75.41  1357000000\n",
       "1          India   2182580            68.13  1252000000\n",
       "2  United States  17968200            79.68   321068000\n",
       "3      Indonesia    888648            72.45   249900000\n",
       "4         Brazil   1799610            73.53   200400000\n",
       "5       Pakistan    246849            67.39   191854000"
      ]
     },
     "metadata": {},
     "output_type": "display_data"
    }
   ],
   "source": [
    "countries = pd.DataFrame({\"Country\":[\"China\", \"India\", \"United States\", \"Indonesia\", \"Brazil\", \"Pakistan\"],\n",
    "                          \"Population\":[1357000000, 1252000000, 321068000, 249900000, 200400000, 191854000],\n",
    "                          \"GDP\":[11384760, 2182580, 17968200, 888648, 1799610, 246849],\n",
    "                          \"Life Expectancy\":[75.41, 68.13, 79.68, 72.45, 73.53, 67.39]})\n",
    "display(countries)"
   ]
  },
  {
   "cell_type": "markdown",
   "metadata": {},
   "source": [
    "Data frames can also be created easily using a list of dictionary objects each of which defines data using the same data format:"
   ]
  },
  {
   "cell_type": "code",
   "execution_count": null,
   "metadata": {},
   "outputs": [],
   "source": [
    "countries = pd.DataFrame([{\"Country\":\"China\", \"Population\":1357000000, \"GDP\":11384760, \"Life Expectancy\":75.41},\n",
    "                         {\"Country\":\"India\", \"Population\":1252000000, \"GDP\":2182580, \"Life Expectancy\":68.13},\n",
    "                         {\"Country\":\"United States\", \"Population\":321068000, \"GDP\":17968200, \"Life Expectancy\":79.68},\n",
    "                         {\"Country\":\"Indonesia\", \"Population\":249900000, \"GDP\":888648, \"Life Expectancy\":72.45},\n",
    "                         {\"Country\":\"Brazil\", \"Population\":200400000, \"Life Expectancy\":73.53},\n",
    "                         {\"Country\":\"Pakistan\", \"Population\":191854000, \"GDP\":246849, \"Life Expectancy\":67.39}])\n",
    "display(countries)"
   ]
  },
  {
   "cell_type": "markdown",
   "metadata": {},
   "source": [
    "Note that the DataFrame is able to gracefully handle the missing GDP value for Brazil. This is one of the advantages of a pandas DataFrame."
   ]
  },
  {
   "cell_type": "markdown",
   "metadata": {},
   "source": [
    "Another nice thing about pandas is that we can load a DataFrame directly from a .csv file using the **read_csv** method. In this example we read data about a longer list of countries:"
   ]
  },
  {
   "cell_type": "code",
   "execution_count": 37,
   "metadata": {},
   "outputs": [
    {
     "data": {
      "text/html": [
       "<div>\n",
       "<style scoped>\n",
       "    .dataframe tbody tr th:only-of-type {\n",
       "        vertical-align: middle;\n",
       "    }\n",
       "\n",
       "    .dataframe tbody tr th {\n",
       "        vertical-align: top;\n",
       "    }\n",
       "\n",
       "    .dataframe thead th {\n",
       "        text-align: right;\n",
       "    }\n",
       "</style>\n",
       "<table border=\"1\" class=\"dataframe\">\n",
       "  <thead>\n",
       "    <tr style=\"text-align: right;\">\n",
       "      <th></th>\n",
       "      <th>Country ID</th>\n",
       "      <th>Life Exp.</th>\n",
       "      <th>Top-10 Income</th>\n",
       "      <th>Infant Mort.</th>\n",
       "      <th>Mil. Spend</th>\n",
       "      <th>School Years</th>\n",
       "      <th>CPI</th>\n",
       "    </tr>\n",
       "  </thead>\n",
       "  <tbody>\n",
       "    <tr>\n",
       "      <th>0</th>\n",
       "      <td>Afghanistan</td>\n",
       "      <td>59.61</td>\n",
       "      <td>23.21</td>\n",
       "      <td>74.3</td>\n",
       "      <td>4.44</td>\n",
       "      <td>0.4</td>\n",
       "      <td>1.5171</td>\n",
       "    </tr>\n",
       "    <tr>\n",
       "      <th>1</th>\n",
       "      <td>Haiti</td>\n",
       "      <td>45.00</td>\n",
       "      <td>47.67</td>\n",
       "      <td>73.1</td>\n",
       "      <td>0.09</td>\n",
       "      <td>3.4</td>\n",
       "      <td>1.7999</td>\n",
       "    </tr>\n",
       "    <tr>\n",
       "      <th>2</th>\n",
       "      <td>Nigeria</td>\n",
       "      <td>51.30</td>\n",
       "      <td>38.23</td>\n",
       "      <td>82.6</td>\n",
       "      <td>1.07</td>\n",
       "      <td>4.1</td>\n",
       "      <td>2.4493</td>\n",
       "    </tr>\n",
       "    <tr>\n",
       "      <th>3</th>\n",
       "      <td>Egypt</td>\n",
       "      <td>70.48</td>\n",
       "      <td>26.58</td>\n",
       "      <td>19.6</td>\n",
       "      <td>1.86</td>\n",
       "      <td>5.3</td>\n",
       "      <td>2.8622</td>\n",
       "    </tr>\n",
       "    <tr>\n",
       "      <th>4</th>\n",
       "      <td>Argentina</td>\n",
       "      <td>75.77</td>\n",
       "      <td>32.30</td>\n",
       "      <td>13.3</td>\n",
       "      <td>0.76</td>\n",
       "      <td>10.1</td>\n",
       "      <td>2.9961</td>\n",
       "    </tr>\n",
       "    <tr>\n",
       "      <th>5</th>\n",
       "      <td>China</td>\n",
       "      <td>74.87</td>\n",
       "      <td>29.98</td>\n",
       "      <td>13.7</td>\n",
       "      <td>1.95</td>\n",
       "      <td>6.4</td>\n",
       "      <td>3.6356</td>\n",
       "    </tr>\n",
       "    <tr>\n",
       "      <th>6</th>\n",
       "      <td>Brazil</td>\n",
       "      <td>73.12</td>\n",
       "      <td>42.93</td>\n",
       "      <td>14.5</td>\n",
       "      <td>1.43</td>\n",
       "      <td>7.2</td>\n",
       "      <td>3.7741</td>\n",
       "    </tr>\n",
       "    <tr>\n",
       "      <th>7</th>\n",
       "      <td>Israel</td>\n",
       "      <td>81.30</td>\n",
       "      <td>28.80</td>\n",
       "      <td>3.6</td>\n",
       "      <td>6.77</td>\n",
       "      <td>12.5</td>\n",
       "      <td>5.8069</td>\n",
       "    </tr>\n",
       "    <tr>\n",
       "      <th>8</th>\n",
       "      <td>U.S.A</td>\n",
       "      <td>78.51</td>\n",
       "      <td>29.85</td>\n",
       "      <td>6.3</td>\n",
       "      <td>4.72</td>\n",
       "      <td>13.7</td>\n",
       "      <td>7.1357</td>\n",
       "    </tr>\n",
       "    <tr>\n",
       "      <th>9</th>\n",
       "      <td>Ireland</td>\n",
       "      <td>80.15</td>\n",
       "      <td>27.23</td>\n",
       "      <td>3.5</td>\n",
       "      <td>0.60</td>\n",
       "      <td>11.5</td>\n",
       "      <td>7.5360</td>\n",
       "    </tr>\n",
       "    <tr>\n",
       "      <th>10</th>\n",
       "      <td>U.K.</td>\n",
       "      <td>80.09</td>\n",
       "      <td>28.49</td>\n",
       "      <td>4.4</td>\n",
       "      <td>2.59</td>\n",
       "      <td>13.0</td>\n",
       "      <td>7.7751</td>\n",
       "    </tr>\n",
       "    <tr>\n",
       "      <th>11</th>\n",
       "      <td>Germany</td>\n",
       "      <td>80.24</td>\n",
       "      <td>22.07</td>\n",
       "      <td>3.5</td>\n",
       "      <td>1.31</td>\n",
       "      <td>12.0</td>\n",
       "      <td>8.0461</td>\n",
       "    </tr>\n",
       "    <tr>\n",
       "      <th>12</th>\n",
       "      <td>Canada</td>\n",
       "      <td>80.99</td>\n",
       "      <td>24.79</td>\n",
       "      <td>4.9</td>\n",
       "      <td>1.42</td>\n",
       "      <td>14.2</td>\n",
       "      <td>8.6725</td>\n",
       "    </tr>\n",
       "    <tr>\n",
       "      <th>13</th>\n",
       "      <td>Australia</td>\n",
       "      <td>82.09</td>\n",
       "      <td>25.40</td>\n",
       "      <td>4.2</td>\n",
       "      <td>1.86</td>\n",
       "      <td>11.5</td>\n",
       "      <td>8.8442</td>\n",
       "    </tr>\n",
       "    <tr>\n",
       "      <th>14</th>\n",
       "      <td>Sweden</td>\n",
       "      <td>81.43</td>\n",
       "      <td>22.18</td>\n",
       "      <td>2.4</td>\n",
       "      <td>1.27</td>\n",
       "      <td>12.8</td>\n",
       "      <td>9.2985</td>\n",
       "    </tr>\n",
       "    <tr>\n",
       "      <th>15</th>\n",
       "      <td>New Zealand</td>\n",
       "      <td>80.67</td>\n",
       "      <td>27.81</td>\n",
       "      <td>4.9</td>\n",
       "      <td>1.13</td>\n",
       "      <td>12.3</td>\n",
       "      <td>9.4627</td>\n",
       "    </tr>\n",
       "  </tbody>\n",
       "</table>\n",
       "</div>"
      ],
      "text/plain": [
       "     Country ID  Life Exp.  Top-10 Income  Infant Mort.  Mil. Spend  \\\n",
       "0   Afghanistan      59.61          23.21          74.3        4.44   \n",
       "1         Haiti      45.00          47.67          73.1        0.09   \n",
       "2       Nigeria      51.30          38.23          82.6        1.07   \n",
       "3         Egypt      70.48          26.58          19.6        1.86   \n",
       "4     Argentina      75.77          32.30          13.3        0.76   \n",
       "5         China      74.87          29.98          13.7        1.95   \n",
       "6        Brazil      73.12          42.93          14.5        1.43   \n",
       "7        Israel      81.30          28.80           3.6        6.77   \n",
       "8         U.S.A      78.51          29.85           6.3        4.72   \n",
       "9       Ireland      80.15          27.23           3.5        0.60   \n",
       "10         U.K.      80.09          28.49           4.4        2.59   \n",
       "11      Germany      80.24          22.07           3.5        1.31   \n",
       "12       Canada      80.99          24.79           4.9        1.42   \n",
       "13    Australia      82.09          25.40           4.2        1.86   \n",
       "14       Sweden      81.43          22.18           2.4        1.27   \n",
       "15  New Zealand      80.67          27.81           4.9        1.13   \n",
       "\n",
       "    School Years     CPI  \n",
       "0            0.4  1.5171  \n",
       "1            3.4  1.7999  \n",
       "2            4.1  2.4493  \n",
       "3            5.3  2.8622  \n",
       "4           10.1  2.9961  \n",
       "5            6.4  3.6356  \n",
       "6            7.2  3.7741  \n",
       "7           12.5  5.8069  \n",
       "8           13.7  7.1357  \n",
       "9           11.5  7.5360  \n",
       "10          13.0  7.7751  \n",
       "11          12.0  8.0461  \n",
       "12          14.2  8.6725  \n",
       "13          11.5  8.8442  \n",
       "14          12.8  9.2985  \n",
       "15          12.3  9.4627  "
      ]
     },
     "metadata": {},
     "output_type": "display_data"
    }
   ],
   "source": [
    "extended_countries = pd.read_csv('FMLPDA_Table_5_ex_3.csv')\n",
    "display(extended_countries)"
   ]
  },
  {
   "cell_type": "markdown",
   "metadata": {},
   "source": [
    "The **head** and **tail** methods can be used to show the first or last few lines of a DataFrame:"
   ]
  },
  {
   "cell_type": "code",
   "execution_count": 8,
   "metadata": {},
   "outputs": [
    {
     "data": {
      "text/html": [
       "<div>\n",
       "<style scoped>\n",
       "    .dataframe tbody tr th:only-of-type {\n",
       "        vertical-align: middle;\n",
       "    }\n",
       "\n",
       "    .dataframe tbody tr th {\n",
       "        vertical-align: top;\n",
       "    }\n",
       "\n",
       "    .dataframe thead th {\n",
       "        text-align: right;\n",
       "    }\n",
       "</style>\n",
       "<table border=\"1\" class=\"dataframe\">\n",
       "  <thead>\n",
       "    <tr style=\"text-align: right;\">\n",
       "      <th></th>\n",
       "      <th>Country ID</th>\n",
       "      <th>Life Exp.</th>\n",
       "      <th>Top-10 Income</th>\n",
       "      <th>Infant Mort.</th>\n",
       "      <th>Mil. Spend</th>\n",
       "      <th>School Years</th>\n",
       "      <th>CPI</th>\n",
       "    </tr>\n",
       "  </thead>\n",
       "  <tbody>\n",
       "    <tr>\n",
       "      <th>0</th>\n",
       "      <td>Afghanistan</td>\n",
       "      <td>59.61</td>\n",
       "      <td>23.21</td>\n",
       "      <td>74.3</td>\n",
       "      <td>4.44</td>\n",
       "      <td>0.4</td>\n",
       "      <td>1.5171</td>\n",
       "    </tr>\n",
       "    <tr>\n",
       "      <th>1</th>\n",
       "      <td>Haiti</td>\n",
       "      <td>45.00</td>\n",
       "      <td>47.67</td>\n",
       "      <td>73.1</td>\n",
       "      <td>0.09</td>\n",
       "      <td>3.4</td>\n",
       "      <td>1.7999</td>\n",
       "    </tr>\n",
       "    <tr>\n",
       "      <th>2</th>\n",
       "      <td>Nigeria</td>\n",
       "      <td>51.30</td>\n",
       "      <td>38.23</td>\n",
       "      <td>82.6</td>\n",
       "      <td>1.07</td>\n",
       "      <td>4.1</td>\n",
       "      <td>2.4493</td>\n",
       "    </tr>\n",
       "    <tr>\n",
       "      <th>3</th>\n",
       "      <td>Egypt</td>\n",
       "      <td>70.48</td>\n",
       "      <td>26.58</td>\n",
       "      <td>19.6</td>\n",
       "      <td>1.86</td>\n",
       "      <td>5.3</td>\n",
       "      <td>2.8622</td>\n",
       "    </tr>\n",
       "    <tr>\n",
       "      <th>4</th>\n",
       "      <td>Argentina</td>\n",
       "      <td>75.77</td>\n",
       "      <td>32.30</td>\n",
       "      <td>13.3</td>\n",
       "      <td>0.76</td>\n",
       "      <td>10.1</td>\n",
       "      <td>2.9961</td>\n",
       "    </tr>\n",
       "  </tbody>\n",
       "</table>\n",
       "</div>"
      ],
      "text/plain": [
       "    Country ID  Life Exp.  Top-10 Income  Infant Mort.  Mil. Spend  \\\n",
       "0  Afghanistan      59.61          23.21          74.3        4.44   \n",
       "1        Haiti      45.00          47.67          73.1        0.09   \n",
       "2      Nigeria      51.30          38.23          82.6        1.07   \n",
       "3        Egypt      70.48          26.58          19.6        1.86   \n",
       "4    Argentina      75.77          32.30          13.3        0.76   \n",
       "\n",
       "   School Years     CPI  \n",
       "0           0.4  1.5171  \n",
       "1           3.4  1.7999  \n",
       "2           4.1  2.4493  \n",
       "3           5.3  2.8622  \n",
       "4          10.1  2.9961  "
      ]
     },
     "execution_count": 8,
     "metadata": {},
     "output_type": "execute_result"
    }
   ],
   "source": [
    "extended_countries.head()"
   ]
  },
  {
   "cell_type": "code",
   "execution_count": 10,
   "metadata": {},
   "outputs": [
    {
     "data": {
      "text/html": [
       "<div>\n",
       "<style scoped>\n",
       "    .dataframe tbody tr th:only-of-type {\n",
       "        vertical-align: middle;\n",
       "    }\n",
       "\n",
       "    .dataframe tbody tr th {\n",
       "        vertical-align: top;\n",
       "    }\n",
       "\n",
       "    .dataframe thead th {\n",
       "        text-align: right;\n",
       "    }\n",
       "</style>\n",
       "<table border=\"1\" class=\"dataframe\">\n",
       "  <thead>\n",
       "    <tr style=\"text-align: right;\">\n",
       "      <th></th>\n",
       "      <th>Country ID</th>\n",
       "      <th>Life Exp.</th>\n",
       "      <th>Top-10 Income</th>\n",
       "      <th>Infant Mort.</th>\n",
       "      <th>Mil. Spend</th>\n",
       "      <th>School Years</th>\n",
       "      <th>CPI</th>\n",
       "    </tr>\n",
       "  </thead>\n",
       "  <tbody>\n",
       "    <tr>\n",
       "      <th>8</th>\n",
       "      <td>U.S.A</td>\n",
       "      <td>78.51</td>\n",
       "      <td>29.85</td>\n",
       "      <td>6.3</td>\n",
       "      <td>4.72</td>\n",
       "      <td>13.7</td>\n",
       "      <td>7.1357</td>\n",
       "    </tr>\n",
       "    <tr>\n",
       "      <th>9</th>\n",
       "      <td>Ireland</td>\n",
       "      <td>80.15</td>\n",
       "      <td>27.23</td>\n",
       "      <td>3.5</td>\n",
       "      <td>0.60</td>\n",
       "      <td>11.5</td>\n",
       "      <td>7.5360</td>\n",
       "    </tr>\n",
       "    <tr>\n",
       "      <th>10</th>\n",
       "      <td>U.K.</td>\n",
       "      <td>80.09</td>\n",
       "      <td>28.49</td>\n",
       "      <td>4.4</td>\n",
       "      <td>2.59</td>\n",
       "      <td>13.0</td>\n",
       "      <td>7.7751</td>\n",
       "    </tr>\n",
       "    <tr>\n",
       "      <th>11</th>\n",
       "      <td>Germany</td>\n",
       "      <td>80.24</td>\n",
       "      <td>22.07</td>\n",
       "      <td>3.5</td>\n",
       "      <td>1.31</td>\n",
       "      <td>12.0</td>\n",
       "      <td>8.0461</td>\n",
       "    </tr>\n",
       "    <tr>\n",
       "      <th>12</th>\n",
       "      <td>Canada</td>\n",
       "      <td>80.99</td>\n",
       "      <td>24.79</td>\n",
       "      <td>4.9</td>\n",
       "      <td>1.42</td>\n",
       "      <td>14.2</td>\n",
       "      <td>8.6725</td>\n",
       "    </tr>\n",
       "    <tr>\n",
       "      <th>13</th>\n",
       "      <td>Australia</td>\n",
       "      <td>82.09</td>\n",
       "      <td>25.40</td>\n",
       "      <td>4.2</td>\n",
       "      <td>1.86</td>\n",
       "      <td>11.5</td>\n",
       "      <td>8.8442</td>\n",
       "    </tr>\n",
       "    <tr>\n",
       "      <th>14</th>\n",
       "      <td>Sweden</td>\n",
       "      <td>81.43</td>\n",
       "      <td>22.18</td>\n",
       "      <td>2.4</td>\n",
       "      <td>1.27</td>\n",
       "      <td>12.8</td>\n",
       "      <td>9.2985</td>\n",
       "    </tr>\n",
       "    <tr>\n",
       "      <th>15</th>\n",
       "      <td>New Zealand</td>\n",
       "      <td>80.67</td>\n",
       "      <td>27.81</td>\n",
       "      <td>4.9</td>\n",
       "      <td>1.13</td>\n",
       "      <td>12.3</td>\n",
       "      <td>9.4627</td>\n",
       "    </tr>\n",
       "  </tbody>\n",
       "</table>\n",
       "</div>"
      ],
      "text/plain": [
       "     Country ID  Life Exp.  Top-10 Income  Infant Mort.  Mil. Spend  \\\n",
       "8         U.S.A      78.51          29.85           6.3        4.72   \n",
       "9       Ireland      80.15          27.23           3.5        0.60   \n",
       "10         U.K.      80.09          28.49           4.4        2.59   \n",
       "11      Germany      80.24          22.07           3.5        1.31   \n",
       "12       Canada      80.99          24.79           4.9        1.42   \n",
       "13    Australia      82.09          25.40           4.2        1.86   \n",
       "14       Sweden      81.43          22.18           2.4        1.27   \n",
       "15  New Zealand      80.67          27.81           4.9        1.13   \n",
       "\n",
       "    School Years     CPI  \n",
       "8           13.7  7.1357  \n",
       "9           11.5  7.5360  \n",
       "10          13.0  7.7751  \n",
       "11          12.0  8.0461  \n",
       "12          14.2  8.6725  \n",
       "13          11.5  8.8442  \n",
       "14          12.8  9.2985  \n",
       "15          12.3  9.4627  "
      ]
     },
     "execution_count": 10,
     "metadata": {},
     "output_type": "execute_result"
    }
   ],
   "source": [
    "extended_countries.tail(8)"
   ]
  },
  {
   "cell_type": "markdown",
   "metadata": {},
   "source": [
    "#### Operations"
   ]
  },
  {
   "cell_type": "markdown",
   "metadata": {},
   "source": [
    "pandas offers a range of easy to use analysis operations for DataFrames. For example the basic statistics operators return a value for each column in the DataFrame:"
   ]
  },
  {
   "cell_type": "code",
   "execution_count": 11,
   "metadata": {},
   "outputs": [
    {
     "data": {
      "text/plain": [
       "Life Exp.        73.476250\n",
       "Top-10 Income    29.845000\n",
       "Infant Mort.     20.550000\n",
       "Mil. Spend        2.079375\n",
       "School Years      9.400000\n",
       "CPI               5.725750\n",
       "dtype: float64"
      ]
     },
     "execution_count": 11,
     "metadata": {},
     "output_type": "execute_result"
    }
   ],
   "source": [
    "extended_countries.mean()"
   ]
  },
  {
   "cell_type": "code",
   "execution_count": 12,
   "metadata": {},
   "outputs": [
    {
     "data": {
      "text/plain": [
       "Life Exp.        79.3000\n",
       "Top-10 Income    28.1500\n",
       "Infant Mort.      5.6000\n",
       "Mil. Spend        1.4250\n",
       "School Years     11.5000\n",
       "CPI               6.4713\n",
       "dtype: float64"
      ]
     },
     "execution_count": 12,
     "metadata": {},
     "output_type": "execute_result"
    }
   ],
   "source": [
    "extended_countries.median()"
   ]
  },
  {
   "cell_type": "code",
   "execution_count": 17,
   "metadata": {
    "scrolled": true
   },
   "outputs": [
    {
     "data": {
      "text/plain": [
       "Country ID        U.S.A\n",
       "Life Exp.         82.09\n",
       "Top-10 Income     47.67\n",
       "Infant Mort.       82.6\n",
       "Mil. Spend         6.77\n",
       "School Years       14.2\n",
       "CPI              9.4627\n",
       "dtype: object"
      ]
     },
     "execution_count": 17,
     "metadata": {},
     "output_type": "execute_result"
    }
   ],
   "source": [
    "extended_countries.max()"
   ]
  },
  {
   "cell_type": "code",
   "execution_count": 18,
   "metadata": {},
   "outputs": [
    {
     "data": {
      "text/html": [
       "<div>\n",
       "<style scoped>\n",
       "    .dataframe tbody tr th:only-of-type {\n",
       "        vertical-align: middle;\n",
       "    }\n",
       "\n",
       "    .dataframe tbody tr th {\n",
       "        vertical-align: top;\n",
       "    }\n",
       "\n",
       "    .dataframe thead th {\n",
       "        text-align: right;\n",
       "    }\n",
       "</style>\n",
       "<table border=\"1\" class=\"dataframe\">\n",
       "  <thead>\n",
       "    <tr style=\"text-align: right;\">\n",
       "      <th></th>\n",
       "      <th>Life Exp.</th>\n",
       "      <th>Top-10 Income</th>\n",
       "      <th>Infant Mort.</th>\n",
       "      <th>Mil. Spend</th>\n",
       "      <th>School Years</th>\n",
       "      <th>CPI</th>\n",
       "    </tr>\n",
       "  </thead>\n",
       "  <tbody>\n",
       "    <tr>\n",
       "      <th>count</th>\n",
       "      <td>16.000000</td>\n",
       "      <td>16.000000</td>\n",
       "      <td>16.000000</td>\n",
       "      <td>16.000000</td>\n",
       "      <td>16.00000</td>\n",
       "      <td>16.000000</td>\n",
       "    </tr>\n",
       "    <tr>\n",
       "      <th>mean</th>\n",
       "      <td>73.476250</td>\n",
       "      <td>29.845000</td>\n",
       "      <td>20.550000</td>\n",
       "      <td>2.079375</td>\n",
       "      <td>9.40000</td>\n",
       "      <td>5.725750</td>\n",
       "    </tr>\n",
       "    <tr>\n",
       "      <th>std</th>\n",
       "      <td>11.481893</td>\n",
       "      <td>7.295689</td>\n",
       "      <td>28.351296</td>\n",
       "      <td>1.766950</td>\n",
       "      <td>4.28859</td>\n",
       "      <td>2.917551</td>\n",
       "    </tr>\n",
       "    <tr>\n",
       "      <th>min</th>\n",
       "      <td>45.000000</td>\n",
       "      <td>22.070000</td>\n",
       "      <td>2.400000</td>\n",
       "      <td>0.090000</td>\n",
       "      <td>0.40000</td>\n",
       "      <td>1.517100</td>\n",
       "    </tr>\n",
       "    <tr>\n",
       "      <th>25%</th>\n",
       "      <td>72.460000</td>\n",
       "      <td>25.247500</td>\n",
       "      <td>4.050000</td>\n",
       "      <td>1.115000</td>\n",
       "      <td>6.12500</td>\n",
       "      <td>2.962625</td>\n",
       "    </tr>\n",
       "    <tr>\n",
       "      <th>50%</th>\n",
       "      <td>79.300000</td>\n",
       "      <td>28.150000</td>\n",
       "      <td>5.600000</td>\n",
       "      <td>1.425000</td>\n",
       "      <td>11.50000</td>\n",
       "      <td>6.471300</td>\n",
       "    </tr>\n",
       "    <tr>\n",
       "      <th>75%</th>\n",
       "      <td>80.750000</td>\n",
       "      <td>30.560000</td>\n",
       "      <td>15.775000</td>\n",
       "      <td>2.110000</td>\n",
       "      <td>12.57500</td>\n",
       "      <td>8.202700</td>\n",
       "    </tr>\n",
       "    <tr>\n",
       "      <th>max</th>\n",
       "      <td>82.090000</td>\n",
       "      <td>47.670000</td>\n",
       "      <td>82.600000</td>\n",
       "      <td>6.770000</td>\n",
       "      <td>14.20000</td>\n",
       "      <td>9.462700</td>\n",
       "    </tr>\n",
       "  </tbody>\n",
       "</table>\n",
       "</div>"
      ],
      "text/plain": [
       "       Life Exp.  Top-10 Income  Infant Mort.  Mil. Spend  School Years  \\\n",
       "count  16.000000      16.000000     16.000000   16.000000      16.00000   \n",
       "mean   73.476250      29.845000     20.550000    2.079375       9.40000   \n",
       "std    11.481893       7.295689     28.351296    1.766950       4.28859   \n",
       "min    45.000000      22.070000      2.400000    0.090000       0.40000   \n",
       "25%    72.460000      25.247500      4.050000    1.115000       6.12500   \n",
       "50%    79.300000      28.150000      5.600000    1.425000      11.50000   \n",
       "75%    80.750000      30.560000     15.775000    2.110000      12.57500   \n",
       "max    82.090000      47.670000     82.600000    6.770000      14.20000   \n",
       "\n",
       "             CPI  \n",
       "count  16.000000  \n",
       "mean    5.725750  \n",
       "std     2.917551  \n",
       "min     1.517100  \n",
       "25%     2.962625  \n",
       "50%     6.471300  \n",
       "75%     8.202700  \n",
       "max     9.462700  "
      ]
     },
     "execution_count": 18,
     "metadata": {},
     "output_type": "execute_result"
    }
   ],
   "source": [
    "extended_countries.describe()"
   ]
  },
  {
   "cell_type": "markdown",
   "metadata": {},
   "source": [
    "#### Filtering Columns"
   ]
  },
  {
   "cell_type": "markdown",
   "metadata": {},
   "source": [
    "Accessing *columns* in a DataFrame is simply a matter of using the name of the column (similar to dictionary selection) to give a single column Series:"
   ]
  },
  {
   "cell_type": "code",
   "execution_count": 19,
   "metadata": {
    "scrolled": true
   },
   "outputs": [
    {
     "data": {
      "text/plain": [
       "0      0.4\n",
       "1      3.4\n",
       "2      4.1\n",
       "3      5.3\n",
       "4     10.1\n",
       "5      6.4\n",
       "6      7.2\n",
       "7     12.5\n",
       "8     13.7\n",
       "9     11.5\n",
       "10    13.0\n",
       "11    12.0\n",
       "12    14.2\n",
       "13    11.5\n",
       "14    12.8\n",
       "15    12.3\n",
       "Name: School Years, dtype: float64"
      ]
     },
     "execution_count": 19,
     "metadata": {},
     "output_type": "execute_result"
    }
   ],
   "source": [
    "extended_countries[\"School Years\"]"
   ]
  },
  {
   "cell_type": "code",
   "execution_count": 23,
   "metadata": {},
   "outputs": [
    {
     "data": {
      "text/plain": [
       "Index(['Country ID', 'Life Exp.', 'Top-10 Income', 'Infant Mort.',\n",
       "       'Mil. Spend', 'School Years', 'CPI'],\n",
       "      dtype='object')"
      ]
     },
     "execution_count": 23,
     "metadata": {},
     "output_type": "execute_result"
    }
   ],
   "source": [
    "extended_countries.columns"
   ]
  },
  {
   "cell_type": "markdown",
   "metadata": {},
   "source": [
    "We can easily select multiple columns by passing a list of column names:"
   ]
  },
  {
   "cell_type": "code",
   "execution_count": 26,
   "metadata": {
    "scrolled": true
   },
   "outputs": [
    {
     "data": {
      "text/html": [
       "<div>\n",
       "<style scoped>\n",
       "    .dataframe tbody tr th:only-of-type {\n",
       "        vertical-align: middle;\n",
       "    }\n",
       "\n",
       "    .dataframe tbody tr th {\n",
       "        vertical-align: top;\n",
       "    }\n",
       "\n",
       "    .dataframe thead th {\n",
       "        text-align: right;\n",
       "    }\n",
       "</style>\n",
       "<table border=\"1\" class=\"dataframe\">\n",
       "  <thead>\n",
       "    <tr style=\"text-align: right;\">\n",
       "      <th></th>\n",
       "      <th>Country ID</th>\n",
       "      <th>Life Exp.</th>\n",
       "      <th>School Years</th>\n",
       "    </tr>\n",
       "  </thead>\n",
       "  <tbody>\n",
       "    <tr>\n",
       "      <th>0</th>\n",
       "      <td>Afghanistan</td>\n",
       "      <td>59.61</td>\n",
       "      <td>0.4</td>\n",
       "    </tr>\n",
       "    <tr>\n",
       "      <th>1</th>\n",
       "      <td>Haiti</td>\n",
       "      <td>45.00</td>\n",
       "      <td>3.4</td>\n",
       "    </tr>\n",
       "    <tr>\n",
       "      <th>2</th>\n",
       "      <td>Nigeria</td>\n",
       "      <td>51.30</td>\n",
       "      <td>4.1</td>\n",
       "    </tr>\n",
       "    <tr>\n",
       "      <th>3</th>\n",
       "      <td>Egypt</td>\n",
       "      <td>70.48</td>\n",
       "      <td>5.3</td>\n",
       "    </tr>\n",
       "    <tr>\n",
       "      <th>4</th>\n",
       "      <td>Argentina</td>\n",
       "      <td>75.77</td>\n",
       "      <td>10.1</td>\n",
       "    </tr>\n",
       "    <tr>\n",
       "      <th>5</th>\n",
       "      <td>China</td>\n",
       "      <td>74.87</td>\n",
       "      <td>6.4</td>\n",
       "    </tr>\n",
       "    <tr>\n",
       "      <th>6</th>\n",
       "      <td>Brazil</td>\n",
       "      <td>73.12</td>\n",
       "      <td>7.2</td>\n",
       "    </tr>\n",
       "    <tr>\n",
       "      <th>7</th>\n",
       "      <td>Israel</td>\n",
       "      <td>81.30</td>\n",
       "      <td>12.5</td>\n",
       "    </tr>\n",
       "    <tr>\n",
       "      <th>8</th>\n",
       "      <td>U.S.A</td>\n",
       "      <td>78.51</td>\n",
       "      <td>13.7</td>\n",
       "    </tr>\n",
       "    <tr>\n",
       "      <th>9</th>\n",
       "      <td>Ireland</td>\n",
       "      <td>80.15</td>\n",
       "      <td>11.5</td>\n",
       "    </tr>\n",
       "    <tr>\n",
       "      <th>10</th>\n",
       "      <td>U.K.</td>\n",
       "      <td>80.09</td>\n",
       "      <td>13.0</td>\n",
       "    </tr>\n",
       "    <tr>\n",
       "      <th>11</th>\n",
       "      <td>Germany</td>\n",
       "      <td>80.24</td>\n",
       "      <td>12.0</td>\n",
       "    </tr>\n",
       "    <tr>\n",
       "      <th>12</th>\n",
       "      <td>Canada</td>\n",
       "      <td>80.99</td>\n",
       "      <td>14.2</td>\n",
       "    </tr>\n",
       "    <tr>\n",
       "      <th>13</th>\n",
       "      <td>Australia</td>\n",
       "      <td>82.09</td>\n",
       "      <td>11.5</td>\n",
       "    </tr>\n",
       "    <tr>\n",
       "      <th>14</th>\n",
       "      <td>Sweden</td>\n",
       "      <td>81.43</td>\n",
       "      <td>12.8</td>\n",
       "    </tr>\n",
       "    <tr>\n",
       "      <th>15</th>\n",
       "      <td>New Zealand</td>\n",
       "      <td>80.67</td>\n",
       "      <td>12.3</td>\n",
       "    </tr>\n",
       "  </tbody>\n",
       "</table>\n",
       "</div>"
      ],
      "text/plain": [
       "     Country ID  Life Exp.  School Years\n",
       "0   Afghanistan      59.61           0.4\n",
       "1         Haiti      45.00           3.4\n",
       "2       Nigeria      51.30           4.1\n",
       "3         Egypt      70.48           5.3\n",
       "4     Argentina      75.77          10.1\n",
       "5         China      74.87           6.4\n",
       "6        Brazil      73.12           7.2\n",
       "7        Israel      81.30          12.5\n",
       "8         U.S.A      78.51          13.7\n",
       "9       Ireland      80.15          11.5\n",
       "10         U.K.      80.09          13.0\n",
       "11      Germany      80.24          12.0\n",
       "12       Canada      80.99          14.2\n",
       "13    Australia      82.09          11.5\n",
       "14       Sweden      81.43          12.8\n",
       "15  New Zealand      80.67          12.3"
      ]
     },
     "execution_count": 26,
     "metadata": {},
     "output_type": "execute_result"
    }
   ],
   "source": [
    "school_details = extended_countries[[\"Country ID\",\"Life Exp.\", \"School Years\"]]"
   ]
  },
  {
   "cell_type": "code",
   "execution_count": 27,
   "metadata": {},
   "outputs": [
    {
     "data": {
      "text/html": [
       "<div>\n",
       "<style scoped>\n",
       "    .dataframe tbody tr th:only-of-type {\n",
       "        vertical-align: middle;\n",
       "    }\n",
       "\n",
       "    .dataframe tbody tr th {\n",
       "        vertical-align: top;\n",
       "    }\n",
       "\n",
       "    .dataframe thead th {\n",
       "        text-align: right;\n",
       "    }\n",
       "</style>\n",
       "<table border=\"1\" class=\"dataframe\">\n",
       "  <thead>\n",
       "    <tr style=\"text-align: right;\">\n",
       "      <th></th>\n",
       "      <th>Country ID</th>\n",
       "      <th>Life Exp.</th>\n",
       "      <th>Top-10 Income</th>\n",
       "      <th>Infant Mort.</th>\n",
       "      <th>Mil. Spend</th>\n",
       "      <th>School Years</th>\n",
       "    </tr>\n",
       "  </thead>\n",
       "  <tbody>\n",
       "    <tr>\n",
       "      <th>0</th>\n",
       "      <td>Afghanistan</td>\n",
       "      <td>59.61</td>\n",
       "      <td>23.21</td>\n",
       "      <td>74.3</td>\n",
       "      <td>4.44</td>\n",
       "      <td>0.4</td>\n",
       "    </tr>\n",
       "    <tr>\n",
       "      <th>1</th>\n",
       "      <td>Haiti</td>\n",
       "      <td>45.00</td>\n",
       "      <td>47.67</td>\n",
       "      <td>73.1</td>\n",
       "      <td>0.09</td>\n",
       "      <td>3.4</td>\n",
       "    </tr>\n",
       "    <tr>\n",
       "      <th>2</th>\n",
       "      <td>Nigeria</td>\n",
       "      <td>51.30</td>\n",
       "      <td>38.23</td>\n",
       "      <td>82.6</td>\n",
       "      <td>1.07</td>\n",
       "      <td>4.1</td>\n",
       "    </tr>\n",
       "    <tr>\n",
       "      <th>3</th>\n",
       "      <td>Egypt</td>\n",
       "      <td>70.48</td>\n",
       "      <td>26.58</td>\n",
       "      <td>19.6</td>\n",
       "      <td>1.86</td>\n",
       "      <td>5.3</td>\n",
       "    </tr>\n",
       "    <tr>\n",
       "      <th>4</th>\n",
       "      <td>Argentina</td>\n",
       "      <td>75.77</td>\n",
       "      <td>32.30</td>\n",
       "      <td>13.3</td>\n",
       "      <td>0.76</td>\n",
       "      <td>10.1</td>\n",
       "    </tr>\n",
       "    <tr>\n",
       "      <th>5</th>\n",
       "      <td>China</td>\n",
       "      <td>74.87</td>\n",
       "      <td>29.98</td>\n",
       "      <td>13.7</td>\n",
       "      <td>1.95</td>\n",
       "      <td>6.4</td>\n",
       "    </tr>\n",
       "    <tr>\n",
       "      <th>6</th>\n",
       "      <td>Brazil</td>\n",
       "      <td>73.12</td>\n",
       "      <td>42.93</td>\n",
       "      <td>14.5</td>\n",
       "      <td>1.43</td>\n",
       "      <td>7.2</td>\n",
       "    </tr>\n",
       "    <tr>\n",
       "      <th>7</th>\n",
       "      <td>Israel</td>\n",
       "      <td>81.30</td>\n",
       "      <td>28.80</td>\n",
       "      <td>3.6</td>\n",
       "      <td>6.77</td>\n",
       "      <td>12.5</td>\n",
       "    </tr>\n",
       "    <tr>\n",
       "      <th>8</th>\n",
       "      <td>U.S.A</td>\n",
       "      <td>78.51</td>\n",
       "      <td>29.85</td>\n",
       "      <td>6.3</td>\n",
       "      <td>4.72</td>\n",
       "      <td>13.7</td>\n",
       "    </tr>\n",
       "    <tr>\n",
       "      <th>9</th>\n",
       "      <td>Ireland</td>\n",
       "      <td>80.15</td>\n",
       "      <td>27.23</td>\n",
       "      <td>3.5</td>\n",
       "      <td>0.60</td>\n",
       "      <td>11.5</td>\n",
       "    </tr>\n",
       "    <tr>\n",
       "      <th>10</th>\n",
       "      <td>U.K.</td>\n",
       "      <td>80.09</td>\n",
       "      <td>28.49</td>\n",
       "      <td>4.4</td>\n",
       "      <td>2.59</td>\n",
       "      <td>13.0</td>\n",
       "    </tr>\n",
       "    <tr>\n",
       "      <th>11</th>\n",
       "      <td>Germany</td>\n",
       "      <td>80.24</td>\n",
       "      <td>22.07</td>\n",
       "      <td>3.5</td>\n",
       "      <td>1.31</td>\n",
       "      <td>12.0</td>\n",
       "    </tr>\n",
       "    <tr>\n",
       "      <th>12</th>\n",
       "      <td>Canada</td>\n",
       "      <td>80.99</td>\n",
       "      <td>24.79</td>\n",
       "      <td>4.9</td>\n",
       "      <td>1.42</td>\n",
       "      <td>14.2</td>\n",
       "    </tr>\n",
       "    <tr>\n",
       "      <th>13</th>\n",
       "      <td>Australia</td>\n",
       "      <td>82.09</td>\n",
       "      <td>25.40</td>\n",
       "      <td>4.2</td>\n",
       "      <td>1.86</td>\n",
       "      <td>11.5</td>\n",
       "    </tr>\n",
       "    <tr>\n",
       "      <th>14</th>\n",
       "      <td>Sweden</td>\n",
       "      <td>81.43</td>\n",
       "      <td>22.18</td>\n",
       "      <td>2.4</td>\n",
       "      <td>1.27</td>\n",
       "      <td>12.8</td>\n",
       "    </tr>\n",
       "    <tr>\n",
       "      <th>15</th>\n",
       "      <td>New Zealand</td>\n",
       "      <td>80.67</td>\n",
       "      <td>27.81</td>\n",
       "      <td>4.9</td>\n",
       "      <td>1.13</td>\n",
       "      <td>12.3</td>\n",
       "    </tr>\n",
       "  </tbody>\n",
       "</table>\n",
       "</div>"
      ],
      "text/plain": [
       "     Country ID  Life Exp.  Top-10 Income  Infant Mort.  Mil. Spend  \\\n",
       "0   Afghanistan      59.61          23.21          74.3        4.44   \n",
       "1         Haiti      45.00          47.67          73.1        0.09   \n",
       "2       Nigeria      51.30          38.23          82.6        1.07   \n",
       "3         Egypt      70.48          26.58          19.6        1.86   \n",
       "4     Argentina      75.77          32.30          13.3        0.76   \n",
       "5         China      74.87          29.98          13.7        1.95   \n",
       "6        Brazil      73.12          42.93          14.5        1.43   \n",
       "7        Israel      81.30          28.80           3.6        6.77   \n",
       "8         U.S.A      78.51          29.85           6.3        4.72   \n",
       "9       Ireland      80.15          27.23           3.5        0.60   \n",
       "10         U.K.      80.09          28.49           4.4        2.59   \n",
       "11      Germany      80.24          22.07           3.5        1.31   \n",
       "12       Canada      80.99          24.79           4.9        1.42   \n",
       "13    Australia      82.09          25.40           4.2        1.86   \n",
       "14       Sweden      81.43          22.18           2.4        1.27   \n",
       "15  New Zealand      80.67          27.81           4.9        1.13   \n",
       "\n",
       "    School Years  \n",
       "0            0.4  \n",
       "1            3.4  \n",
       "2            4.1  \n",
       "3            5.3  \n",
       "4           10.1  \n",
       "5            6.4  \n",
       "6            7.2  \n",
       "7           12.5  \n",
       "8           13.7  \n",
       "9           11.5  \n",
       "10          13.0  \n",
       "11          12.0  \n",
       "12          14.2  \n",
       "13          11.5  \n",
       "14          12.8  \n",
       "15          12.3  "
      ]
     },
     "metadata": {},
     "output_type": "display_data"
    }
   ],
   "source": [
    "display(extended_countries)"
   ]
  },
  {
   "cell_type": "markdown",
   "metadata": {},
   "source": [
    "We can access rows either using row labels or row indices using the **loc** or **iloc** methods which both return a series (although in our example these will give the same result):"
   ]
  },
  {
   "cell_type": "code",
   "execution_count": null,
   "metadata": {},
   "outputs": [],
   "source": [
    "extended_countries.loc[1]"
   ]
  },
  {
   "cell_type": "code",
   "execution_count": null,
   "metadata": {},
   "outputs": [],
   "source": [
    "extended_countries.iloc[1]"
   ]
  },
  {
   "cell_type": "markdown",
   "metadata": {},
   "source": [
    "Columns in a DataFrame are easily removed using the **del** operator:"
   ]
  },
  {
   "cell_type": "code",
   "execution_count": 25,
   "metadata": {},
   "outputs": [
    {
     "data": {
      "text/html": [
       "<div>\n",
       "<style scoped>\n",
       "    .dataframe tbody tr th:only-of-type {\n",
       "        vertical-align: middle;\n",
       "    }\n",
       "\n",
       "    .dataframe tbody tr th {\n",
       "        vertical-align: top;\n",
       "    }\n",
       "\n",
       "    .dataframe thead th {\n",
       "        text-align: right;\n",
       "    }\n",
       "</style>\n",
       "<table border=\"1\" class=\"dataframe\">\n",
       "  <thead>\n",
       "    <tr style=\"text-align: right;\">\n",
       "      <th></th>\n",
       "      <th>Country ID</th>\n",
       "      <th>Life Exp.</th>\n",
       "      <th>Top-10 Income</th>\n",
       "      <th>Infant Mort.</th>\n",
       "      <th>Mil. Spend</th>\n",
       "      <th>School Years</th>\n",
       "      <th>CPI</th>\n",
       "    </tr>\n",
       "  </thead>\n",
       "  <tbody>\n",
       "    <tr>\n",
       "      <th>0</th>\n",
       "      <td>Afghanistan</td>\n",
       "      <td>59.61</td>\n",
       "      <td>23.21</td>\n",
       "      <td>74.3</td>\n",
       "      <td>4.44</td>\n",
       "      <td>0.4</td>\n",
       "      <td>1.5171</td>\n",
       "    </tr>\n",
       "    <tr>\n",
       "      <th>1</th>\n",
       "      <td>Haiti</td>\n",
       "      <td>45.00</td>\n",
       "      <td>47.67</td>\n",
       "      <td>73.1</td>\n",
       "      <td>0.09</td>\n",
       "      <td>3.4</td>\n",
       "      <td>1.7999</td>\n",
       "    </tr>\n",
       "    <tr>\n",
       "      <th>2</th>\n",
       "      <td>Nigeria</td>\n",
       "      <td>51.30</td>\n",
       "      <td>38.23</td>\n",
       "      <td>82.6</td>\n",
       "      <td>1.07</td>\n",
       "      <td>4.1</td>\n",
       "      <td>2.4493</td>\n",
       "    </tr>\n",
       "    <tr>\n",
       "      <th>3</th>\n",
       "      <td>Egypt</td>\n",
       "      <td>70.48</td>\n",
       "      <td>26.58</td>\n",
       "      <td>19.6</td>\n",
       "      <td>1.86</td>\n",
       "      <td>5.3</td>\n",
       "      <td>2.8622</td>\n",
       "    </tr>\n",
       "    <tr>\n",
       "      <th>4</th>\n",
       "      <td>Argentina</td>\n",
       "      <td>75.77</td>\n",
       "      <td>32.30</td>\n",
       "      <td>13.3</td>\n",
       "      <td>0.76</td>\n",
       "      <td>10.1</td>\n",
       "      <td>2.9961</td>\n",
       "    </tr>\n",
       "  </tbody>\n",
       "</table>\n",
       "</div>"
      ],
      "text/plain": [
       "    Country ID  Life Exp.  Top-10 Income  Infant Mort.  Mil. Spend  \\\n",
       "0  Afghanistan      59.61          23.21          74.3        4.44   \n",
       "1        Haiti      45.00          47.67          73.1        0.09   \n",
       "2      Nigeria      51.30          38.23          82.6        1.07   \n",
       "3        Egypt      70.48          26.58          19.6        1.86   \n",
       "4    Argentina      75.77          32.30          13.3        0.76   \n",
       "\n",
       "   School Years     CPI  \n",
       "0           0.4  1.5171  \n",
       "1           3.4  1.7999  \n",
       "2           4.1  2.4493  \n",
       "3           5.3  2.8622  \n",
       "4          10.1  2.9961  "
      ]
     },
     "metadata": {},
     "output_type": "display_data"
    },
    {
     "data": {
      "text/html": [
       "<div>\n",
       "<style scoped>\n",
       "    .dataframe tbody tr th:only-of-type {\n",
       "        vertical-align: middle;\n",
       "    }\n",
       "\n",
       "    .dataframe tbody tr th {\n",
       "        vertical-align: top;\n",
       "    }\n",
       "\n",
       "    .dataframe thead th {\n",
       "        text-align: right;\n",
       "    }\n",
       "</style>\n",
       "<table border=\"1\" class=\"dataframe\">\n",
       "  <thead>\n",
       "    <tr style=\"text-align: right;\">\n",
       "      <th></th>\n",
       "      <th>Country ID</th>\n",
       "      <th>Life Exp.</th>\n",
       "      <th>Top-10 Income</th>\n",
       "      <th>Infant Mort.</th>\n",
       "      <th>Mil. Spend</th>\n",
       "      <th>School Years</th>\n",
       "    </tr>\n",
       "  </thead>\n",
       "  <tbody>\n",
       "    <tr>\n",
       "      <th>0</th>\n",
       "      <td>Afghanistan</td>\n",
       "      <td>59.61</td>\n",
       "      <td>23.21</td>\n",
       "      <td>74.3</td>\n",
       "      <td>4.44</td>\n",
       "      <td>0.4</td>\n",
       "    </tr>\n",
       "    <tr>\n",
       "      <th>1</th>\n",
       "      <td>Haiti</td>\n",
       "      <td>45.00</td>\n",
       "      <td>47.67</td>\n",
       "      <td>73.1</td>\n",
       "      <td>0.09</td>\n",
       "      <td>3.4</td>\n",
       "    </tr>\n",
       "    <tr>\n",
       "      <th>2</th>\n",
       "      <td>Nigeria</td>\n",
       "      <td>51.30</td>\n",
       "      <td>38.23</td>\n",
       "      <td>82.6</td>\n",
       "      <td>1.07</td>\n",
       "      <td>4.1</td>\n",
       "    </tr>\n",
       "    <tr>\n",
       "      <th>3</th>\n",
       "      <td>Egypt</td>\n",
       "      <td>70.48</td>\n",
       "      <td>26.58</td>\n",
       "      <td>19.6</td>\n",
       "      <td>1.86</td>\n",
       "      <td>5.3</td>\n",
       "    </tr>\n",
       "    <tr>\n",
       "      <th>4</th>\n",
       "      <td>Argentina</td>\n",
       "      <td>75.77</td>\n",
       "      <td>32.30</td>\n",
       "      <td>13.3</td>\n",
       "      <td>0.76</td>\n",
       "      <td>10.1</td>\n",
       "    </tr>\n",
       "  </tbody>\n",
       "</table>\n",
       "</div>"
      ],
      "text/plain": [
       "    Country ID  Life Exp.  Top-10 Income  Infant Mort.  Mil. Spend  \\\n",
       "0  Afghanistan      59.61          23.21          74.3        4.44   \n",
       "1        Haiti      45.00          47.67          73.1        0.09   \n",
       "2      Nigeria      51.30          38.23          82.6        1.07   \n",
       "3        Egypt      70.48          26.58          19.6        1.86   \n",
       "4    Argentina      75.77          32.30          13.3        0.76   \n",
       "\n",
       "   School Years  \n",
       "0           0.4  \n",
       "1           3.4  \n",
       "2           4.1  \n",
       "3           5.3  \n",
       "4          10.1  "
      ]
     },
     "metadata": {},
     "output_type": "display_data"
    }
   ],
   "source": [
    "display(extended_countries.head())\n",
    "del extended_countries[\"CPI\"]\n",
    "display(extended_countries.head())"
   ]
  },
  {
   "cell_type": "markdown",
   "metadata": {},
   "source": [
    "#### Filtering Rows"
   ]
  },
  {
   "cell_type": "markdown",
   "metadata": {},
   "source": [
    "We can also easily slice by rows to get an extract from a DataFrame:"
   ]
  },
  {
   "cell_type": "code",
   "execution_count": 28,
   "metadata": {
    "scrolled": true
   },
   "outputs": [
    {
     "data": {
      "text/html": [
       "<div>\n",
       "<style scoped>\n",
       "    .dataframe tbody tr th:only-of-type {\n",
       "        vertical-align: middle;\n",
       "    }\n",
       "\n",
       "    .dataframe tbody tr th {\n",
       "        vertical-align: top;\n",
       "    }\n",
       "\n",
       "    .dataframe thead th {\n",
       "        text-align: right;\n",
       "    }\n",
       "</style>\n",
       "<table border=\"1\" class=\"dataframe\">\n",
       "  <thead>\n",
       "    <tr style=\"text-align: right;\">\n",
       "      <th></th>\n",
       "      <th>Country ID</th>\n",
       "      <th>Life Exp.</th>\n",
       "      <th>Top-10 Income</th>\n",
       "      <th>Infant Mort.</th>\n",
       "      <th>Mil. Spend</th>\n",
       "      <th>School Years</th>\n",
       "    </tr>\n",
       "  </thead>\n",
       "  <tbody>\n",
       "    <tr>\n",
       "      <th>4</th>\n",
       "      <td>Argentina</td>\n",
       "      <td>75.77</td>\n",
       "      <td>32.30</td>\n",
       "      <td>13.3</td>\n",
       "      <td>0.76</td>\n",
       "      <td>10.1</td>\n",
       "    </tr>\n",
       "    <tr>\n",
       "      <th>5</th>\n",
       "      <td>China</td>\n",
       "      <td>74.87</td>\n",
       "      <td>29.98</td>\n",
       "      <td>13.7</td>\n",
       "      <td>1.95</td>\n",
       "      <td>6.4</td>\n",
       "    </tr>\n",
       "    <tr>\n",
       "      <th>6</th>\n",
       "      <td>Brazil</td>\n",
       "      <td>73.12</td>\n",
       "      <td>42.93</td>\n",
       "      <td>14.5</td>\n",
       "      <td>1.43</td>\n",
       "      <td>7.2</td>\n",
       "    </tr>\n",
       "    <tr>\n",
       "      <th>7</th>\n",
       "      <td>Israel</td>\n",
       "      <td>81.30</td>\n",
       "      <td>28.80</td>\n",
       "      <td>3.6</td>\n",
       "      <td>6.77</td>\n",
       "      <td>12.5</td>\n",
       "    </tr>\n",
       "    <tr>\n",
       "      <th>8</th>\n",
       "      <td>U.S.A</td>\n",
       "      <td>78.51</td>\n",
       "      <td>29.85</td>\n",
       "      <td>6.3</td>\n",
       "      <td>4.72</td>\n",
       "      <td>13.7</td>\n",
       "    </tr>\n",
       "  </tbody>\n",
       "</table>\n",
       "</div>"
      ],
      "text/plain": [
       "  Country ID  Life Exp.  Top-10 Income  Infant Mort.  Mil. Spend  School Years\n",
       "4  Argentina      75.77          32.30          13.3        0.76          10.1\n",
       "5      China      74.87          29.98          13.7        1.95           6.4\n",
       "6     Brazil      73.12          42.93          14.5        1.43           7.2\n",
       "7     Israel      81.30          28.80           3.6        6.77          12.5\n",
       "8      U.S.A      78.51          29.85           6.3        4.72          13.7"
      ]
     },
     "execution_count": 28,
     "metadata": {},
     "output_type": "execute_result"
    }
   ],
   "source": [
    "extended_countries[4:9]"
   ]
  },
  {
   "cell_type": "markdown",
   "metadata": {},
   "source": [
    "One very useful way to slice a DataFrame is using a condition. We can pass a list of Bollean values to a DataFrame indicating which rows should be retained (True) and which should be filtered (False). A suitable list is easily generated using a simple Boolean expression on a column from the DataFrame:"
   ]
  },
  {
   "cell_type": "code",
   "execution_count": 41,
   "metadata": {
    "scrolled": true
   },
   "outputs": [
    {
     "data": {
      "text/html": [
       "<div>\n",
       "<style scoped>\n",
       "    .dataframe tbody tr th:only-of-type {\n",
       "        vertical-align: middle;\n",
       "    }\n",
       "\n",
       "    .dataframe tbody tr th {\n",
       "        vertical-align: top;\n",
       "    }\n",
       "\n",
       "    .dataframe thead th {\n",
       "        text-align: right;\n",
       "    }\n",
       "</style>\n",
       "<table border=\"1\" class=\"dataframe\">\n",
       "  <thead>\n",
       "    <tr style=\"text-align: right;\">\n",
       "      <th></th>\n",
       "      <th>Country ID</th>\n",
       "      <th>Life Exp.</th>\n",
       "      <th>Top-10 Income</th>\n",
       "      <th>Infant Mort.</th>\n",
       "      <th>Mil. Spend</th>\n",
       "      <th>School Years</th>\n",
       "      <th>CPI</th>\n",
       "    </tr>\n",
       "  </thead>\n",
       "  <tbody>\n",
       "    <tr>\n",
       "      <th>0</th>\n",
       "      <td>Afghanistan</td>\n",
       "      <td>59.61</td>\n",
       "      <td>23.21</td>\n",
       "      <td>74.3</td>\n",
       "      <td>4.44</td>\n",
       "      <td>0.4</td>\n",
       "      <td>1.5171</td>\n",
       "    </tr>\n",
       "    <tr>\n",
       "      <th>1</th>\n",
       "      <td>Haiti</td>\n",
       "      <td>45.00</td>\n",
       "      <td>47.67</td>\n",
       "      <td>73.1</td>\n",
       "      <td>0.09</td>\n",
       "      <td>3.4</td>\n",
       "      <td>1.7999</td>\n",
       "    </tr>\n",
       "    <tr>\n",
       "      <th>2</th>\n",
       "      <td>Nigeria</td>\n",
       "      <td>51.30</td>\n",
       "      <td>38.23</td>\n",
       "      <td>82.6</td>\n",
       "      <td>1.07</td>\n",
       "      <td>4.1</td>\n",
       "      <td>2.4493</td>\n",
       "    </tr>\n",
       "    <tr>\n",
       "      <th>3</th>\n",
       "      <td>Egypt</td>\n",
       "      <td>70.48</td>\n",
       "      <td>26.58</td>\n",
       "      <td>19.6</td>\n",
       "      <td>1.86</td>\n",
       "      <td>5.3</td>\n",
       "      <td>2.8622</td>\n",
       "    </tr>\n",
       "    <tr>\n",
       "      <th>4</th>\n",
       "      <td>Argentina</td>\n",
       "      <td>75.77</td>\n",
       "      <td>32.30</td>\n",
       "      <td>13.3</td>\n",
       "      <td>0.76</td>\n",
       "      <td>10.1</td>\n",
       "      <td>2.9961</td>\n",
       "    </tr>\n",
       "    <tr>\n",
       "      <th>5</th>\n",
       "      <td>China</td>\n",
       "      <td>74.87</td>\n",
       "      <td>29.98</td>\n",
       "      <td>13.7</td>\n",
       "      <td>1.95</td>\n",
       "      <td>6.4</td>\n",
       "      <td>3.6356</td>\n",
       "    </tr>\n",
       "    <tr>\n",
       "      <th>6</th>\n",
       "      <td>Brazil</td>\n",
       "      <td>73.12</td>\n",
       "      <td>42.93</td>\n",
       "      <td>14.5</td>\n",
       "      <td>1.43</td>\n",
       "      <td>7.2</td>\n",
       "      <td>3.7741</td>\n",
       "    </tr>\n",
       "  </tbody>\n",
       "</table>\n",
       "</div>"
      ],
      "text/plain": [
       "    Country ID  Life Exp.  Top-10 Income  Infant Mort.  Mil. Spend  \\\n",
       "0  Afghanistan      59.61          23.21          74.3        4.44   \n",
       "1        Haiti      45.00          47.67          73.1        0.09   \n",
       "2      Nigeria      51.30          38.23          82.6        1.07   \n",
       "3        Egypt      70.48          26.58          19.6        1.86   \n",
       "4    Argentina      75.77          32.30          13.3        0.76   \n",
       "5        China      74.87          29.98          13.7        1.95   \n",
       "6       Brazil      73.12          42.93          14.5        1.43   \n",
       "\n",
       "   School Years     CPI  \n",
       "0           0.4  1.5171  \n",
       "1           3.4  1.7999  \n",
       "2           4.1  2.4493  \n",
       "3           5.3  2.8622  \n",
       "4          10.1  2.9961  \n",
       "5           6.4  3.6356  \n",
       "6           7.2  3.7741  "
      ]
     },
     "execution_count": 41,
     "metadata": {},
     "output_type": "execute_result"
    }
   ],
   "source": [
    "mean_CPI = extended_countries[\"CPI\"].mean()\n",
    "extended_countries[extended_countries[\"CPI\"] < mean_CPI]"
   ]
  },
  {
   "cell_type": "markdown",
   "metadata": {},
   "source": [
    "This list can be passed directly to the DataFrame to perform a filtering:"
   ]
  },
  {
   "cell_type": "code",
   "execution_count": null,
   "metadata": {
    "scrolled": false
   },
   "outputs": [],
   "source": [
    "military_countries = extended_countries[extended_countries[\"Mil. Spend\"] > 2]\n",
    "display(military_countries)"
   ]
  },
  {
   "cell_type": "code",
   "execution_count": 53,
   "metadata": {},
   "outputs": [
    {
     "data": {
      "text/html": [
       "<div>\n",
       "<style scoped>\n",
       "    .dataframe tbody tr th:only-of-type {\n",
       "        vertical-align: middle;\n",
       "    }\n",
       "\n",
       "    .dataframe tbody tr th {\n",
       "        vertical-align: top;\n",
       "    }\n",
       "\n",
       "    .dataframe thead th {\n",
       "        text-align: right;\n",
       "    }\n",
       "</style>\n",
       "<table border=\"1\" class=\"dataframe\">\n",
       "  <thead>\n",
       "    <tr style=\"text-align: right;\">\n",
       "      <th></th>\n",
       "      <th>Country ID</th>\n",
       "      <th>Life Exp.</th>\n",
       "      <th>Top-10 Income</th>\n",
       "      <th>Infant Mort.</th>\n",
       "      <th>Mil. Spend</th>\n",
       "      <th>School Years</th>\n",
       "      <th>CPI</th>\n",
       "    </tr>\n",
       "  </thead>\n",
       "  <tbody>\n",
       "    <tr>\n",
       "      <th>7</th>\n",
       "      <td>Israel</td>\n",
       "      <td>81.30</td>\n",
       "      <td>28.80</td>\n",
       "      <td>3.6</td>\n",
       "      <td>6.77</td>\n",
       "      <td>12.5</td>\n",
       "      <td>5.8069</td>\n",
       "    </tr>\n",
       "    <tr>\n",
       "      <th>8</th>\n",
       "      <td>U.S.A</td>\n",
       "      <td>78.51</td>\n",
       "      <td>29.85</td>\n",
       "      <td>6.3</td>\n",
       "      <td>4.72</td>\n",
       "      <td>13.7</td>\n",
       "      <td>7.1357</td>\n",
       "    </tr>\n",
       "    <tr>\n",
       "      <th>10</th>\n",
       "      <td>U.K.</td>\n",
       "      <td>80.09</td>\n",
       "      <td>28.49</td>\n",
       "      <td>4.4</td>\n",
       "      <td>2.59</td>\n",
       "      <td>13.0</td>\n",
       "      <td>7.7751</td>\n",
       "    </tr>\n",
       "  </tbody>\n",
       "</table>\n",
       "</div>"
      ],
      "text/plain": [
       "   Country ID  Life Exp.  Top-10 Income  Infant Mort.  Mil. Spend  \\\n",
       "7      Israel      81.30          28.80           3.6        6.77   \n",
       "8       U.S.A      78.51          29.85           6.3        4.72   \n",
       "10       U.K.      80.09          28.49           4.4        2.59   \n",
       "\n",
       "    School Years     CPI  \n",
       "7           12.5  5.8069  \n",
       "8           13.7  7.1357  \n",
       "10          13.0  7.7751  "
      ]
     },
     "metadata": {},
     "output_type": "display_data"
    },
    {
     "data": {
      "text/html": [
       "<div>\n",
       "<style scoped>\n",
       "    .dataframe tbody tr th:only-of-type {\n",
       "        vertical-align: middle;\n",
       "    }\n",
       "\n",
       "    .dataframe tbody tr th {\n",
       "        vertical-align: top;\n",
       "    }\n",
       "\n",
       "    .dataframe thead th {\n",
       "        text-align: right;\n",
       "    }\n",
       "</style>\n",
       "<table border=\"1\" class=\"dataframe\">\n",
       "  <thead>\n",
       "    <tr style=\"text-align: right;\">\n",
       "      <th></th>\n",
       "      <th>Life Exp.</th>\n",
       "      <th>Top-10 Income</th>\n",
       "      <th>Infant Mort.</th>\n",
       "      <th>Mil. Spend</th>\n",
       "      <th>School Years</th>\n",
       "      <th>CPI</th>\n",
       "    </tr>\n",
       "  </thead>\n",
       "  <tbody>\n",
       "    <tr>\n",
       "      <th>count</th>\n",
       "      <td>3.000000</td>\n",
       "      <td>3.000000</td>\n",
       "      <td>3.000000</td>\n",
       "      <td>3.000000</td>\n",
       "      <td>3.000000</td>\n",
       "      <td>3.000000</td>\n",
       "    </tr>\n",
       "    <tr>\n",
       "      <th>mean</th>\n",
       "      <td>79.966667</td>\n",
       "      <td>29.046667</td>\n",
       "      <td>4.766667</td>\n",
       "      <td>4.693333</td>\n",
       "      <td>13.066667</td>\n",
       "      <td>6.905900</td>\n",
       "    </tr>\n",
       "    <tr>\n",
       "      <th>std</th>\n",
       "      <td>1.399083</td>\n",
       "      <td>0.712765</td>\n",
       "      <td>1.386843</td>\n",
       "      <td>2.090128</td>\n",
       "      <td>0.602771</td>\n",
       "      <td>1.004021</td>\n",
       "    </tr>\n",
       "    <tr>\n",
       "      <th>min</th>\n",
       "      <td>78.510000</td>\n",
       "      <td>28.490000</td>\n",
       "      <td>3.600000</td>\n",
       "      <td>2.590000</td>\n",
       "      <td>12.500000</td>\n",
       "      <td>5.806900</td>\n",
       "    </tr>\n",
       "    <tr>\n",
       "      <th>25%</th>\n",
       "      <td>79.300000</td>\n",
       "      <td>28.645000</td>\n",
       "      <td>4.000000</td>\n",
       "      <td>3.655000</td>\n",
       "      <td>12.750000</td>\n",
       "      <td>6.471300</td>\n",
       "    </tr>\n",
       "    <tr>\n",
       "      <th>50%</th>\n",
       "      <td>80.090000</td>\n",
       "      <td>28.800000</td>\n",
       "      <td>4.400000</td>\n",
       "      <td>4.720000</td>\n",
       "      <td>13.000000</td>\n",
       "      <td>7.135700</td>\n",
       "    </tr>\n",
       "    <tr>\n",
       "      <th>75%</th>\n",
       "      <td>80.695000</td>\n",
       "      <td>29.325000</td>\n",
       "      <td>5.350000</td>\n",
       "      <td>5.745000</td>\n",
       "      <td>13.350000</td>\n",
       "      <td>7.455400</td>\n",
       "    </tr>\n",
       "    <tr>\n",
       "      <th>max</th>\n",
       "      <td>81.300000</td>\n",
       "      <td>29.850000</td>\n",
       "      <td>6.300000</td>\n",
       "      <td>6.770000</td>\n",
       "      <td>13.700000</td>\n",
       "      <td>7.775100</td>\n",
       "    </tr>\n",
       "  </tbody>\n",
       "</table>\n",
       "</div>"
      ],
      "text/plain": [
       "       Life Exp.  Top-10 Income  Infant Mort.  Mil. Spend  School Years  \\\n",
       "count   3.000000       3.000000      3.000000    3.000000      3.000000   \n",
       "mean   79.966667      29.046667      4.766667    4.693333     13.066667   \n",
       "std     1.399083       0.712765      1.386843    2.090128      0.602771   \n",
       "min    78.510000      28.490000      3.600000    2.590000     12.500000   \n",
       "25%    79.300000      28.645000      4.000000    3.655000     12.750000   \n",
       "50%    80.090000      28.800000      4.400000    4.720000     13.000000   \n",
       "75%    80.695000      29.325000      5.350000    5.745000     13.350000   \n",
       "max    81.300000      29.850000      6.300000    6.770000     13.700000   \n",
       "\n",
       "            CPI  \n",
       "count  3.000000  \n",
       "mean   6.905900  \n",
       "std    1.004021  \n",
       "min    5.806900  \n",
       "25%    6.471300  \n",
       "50%    7.135700  \n",
       "75%    7.455400  \n",
       "max    7.775100  "
      ]
     },
     "execution_count": 53,
     "metadata": {},
     "output_type": "execute_result"
    }
   ],
   "source": [
    "condition = (extended_countries[\"School Years\"] > 10) & (extended_countries[\"Mil. Spend\"] > 2)\n",
    "s_and_s = extended_countries[condition]\n",
    "display(s_and_s)\n",
    "s_and_s.describe()"
   ]
  },
  {
   "cell_type": "markdown",
   "metadata": {},
   "source": [
    "We can also delete rows using the **drop** function."
   ]
  },
  {
   "cell_type": "code",
   "execution_count": 50,
   "metadata": {},
   "outputs": [
    {
     "data": {
      "text/html": [
       "<div>\n",
       "<style scoped>\n",
       "    .dataframe tbody tr th:only-of-type {\n",
       "        vertical-align: middle;\n",
       "    }\n",
       "\n",
       "    .dataframe tbody tr th {\n",
       "        vertical-align: top;\n",
       "    }\n",
       "\n",
       "    .dataframe thead th {\n",
       "        text-align: right;\n",
       "    }\n",
       "</style>\n",
       "<table border=\"1\" class=\"dataframe\">\n",
       "  <thead>\n",
       "    <tr style=\"text-align: right;\">\n",
       "      <th></th>\n",
       "      <th>Country ID</th>\n",
       "      <th>Life Exp.</th>\n",
       "      <th>Top-10 Income</th>\n",
       "      <th>Infant Mort.</th>\n",
       "      <th>Mil. Spend</th>\n",
       "      <th>School Years</th>\n",
       "      <th>CPI</th>\n",
       "    </tr>\n",
       "  </thead>\n",
       "  <tbody>\n",
       "    <tr>\n",
       "      <th>0</th>\n",
       "      <td>Afghanistan</td>\n",
       "      <td>59.61</td>\n",
       "      <td>23.21</td>\n",
       "      <td>74.3</td>\n",
       "      <td>4.44</td>\n",
       "      <td>0.4</td>\n",
       "      <td>1.5171</td>\n",
       "    </tr>\n",
       "    <tr>\n",
       "      <th>1</th>\n",
       "      <td>Haiti</td>\n",
       "      <td>45.00</td>\n",
       "      <td>47.67</td>\n",
       "      <td>73.1</td>\n",
       "      <td>0.09</td>\n",
       "      <td>3.4</td>\n",
       "      <td>1.7999</td>\n",
       "    </tr>\n",
       "    <tr>\n",
       "      <th>2</th>\n",
       "      <td>Nigeria</td>\n",
       "      <td>51.30</td>\n",
       "      <td>38.23</td>\n",
       "      <td>82.6</td>\n",
       "      <td>1.07</td>\n",
       "      <td>4.1</td>\n",
       "      <td>2.4493</td>\n",
       "    </tr>\n",
       "    <tr>\n",
       "      <th>3</th>\n",
       "      <td>Egypt</td>\n",
       "      <td>70.48</td>\n",
       "      <td>26.58</td>\n",
       "      <td>19.6</td>\n",
       "      <td>1.86</td>\n",
       "      <td>5.3</td>\n",
       "      <td>2.8622</td>\n",
       "    </tr>\n",
       "    <tr>\n",
       "      <th>4</th>\n",
       "      <td>Argentina</td>\n",
       "      <td>75.77</td>\n",
       "      <td>32.30</td>\n",
       "      <td>13.3</td>\n",
       "      <td>0.76</td>\n",
       "      <td>10.1</td>\n",
       "      <td>2.9961</td>\n",
       "    </tr>\n",
       "    <tr>\n",
       "      <th>5</th>\n",
       "      <td>China</td>\n",
       "      <td>74.87</td>\n",
       "      <td>29.98</td>\n",
       "      <td>13.7</td>\n",
       "      <td>1.95</td>\n",
       "      <td>6.4</td>\n",
       "      <td>3.6356</td>\n",
       "    </tr>\n",
       "    <tr>\n",
       "      <th>6</th>\n",
       "      <td>Brazil</td>\n",
       "      <td>73.12</td>\n",
       "      <td>42.93</td>\n",
       "      <td>14.5</td>\n",
       "      <td>1.43</td>\n",
       "      <td>7.2</td>\n",
       "      <td>3.7741</td>\n",
       "    </tr>\n",
       "    <tr>\n",
       "      <th>7</th>\n",
       "      <td>Israel</td>\n",
       "      <td>81.30</td>\n",
       "      <td>28.80</td>\n",
       "      <td>3.6</td>\n",
       "      <td>6.77</td>\n",
       "      <td>12.5</td>\n",
       "      <td>5.8069</td>\n",
       "    </tr>\n",
       "    <tr>\n",
       "      <th>8</th>\n",
       "      <td>U.S.A</td>\n",
       "      <td>78.51</td>\n",
       "      <td>29.85</td>\n",
       "      <td>6.3</td>\n",
       "      <td>4.72</td>\n",
       "      <td>13.7</td>\n",
       "      <td>7.1357</td>\n",
       "    </tr>\n",
       "    <tr>\n",
       "      <th>9</th>\n",
       "      <td>Ireland</td>\n",
       "      <td>80.15</td>\n",
       "      <td>27.23</td>\n",
       "      <td>3.5</td>\n",
       "      <td>0.60</td>\n",
       "      <td>11.5</td>\n",
       "      <td>7.5360</td>\n",
       "    </tr>\n",
       "    <tr>\n",
       "      <th>10</th>\n",
       "      <td>U.K.</td>\n",
       "      <td>80.09</td>\n",
       "      <td>28.49</td>\n",
       "      <td>4.4</td>\n",
       "      <td>2.59</td>\n",
       "      <td>13.0</td>\n",
       "      <td>7.7751</td>\n",
       "    </tr>\n",
       "    <tr>\n",
       "      <th>11</th>\n",
       "      <td>Germany</td>\n",
       "      <td>80.24</td>\n",
       "      <td>22.07</td>\n",
       "      <td>3.5</td>\n",
       "      <td>1.31</td>\n",
       "      <td>12.0</td>\n",
       "      <td>8.0461</td>\n",
       "    </tr>\n",
       "    <tr>\n",
       "      <th>12</th>\n",
       "      <td>Canada</td>\n",
       "      <td>80.99</td>\n",
       "      <td>24.79</td>\n",
       "      <td>4.9</td>\n",
       "      <td>1.42</td>\n",
       "      <td>14.2</td>\n",
       "      <td>8.6725</td>\n",
       "    </tr>\n",
       "    <tr>\n",
       "      <th>13</th>\n",
       "      <td>Australia</td>\n",
       "      <td>82.09</td>\n",
       "      <td>25.40</td>\n",
       "      <td>4.2</td>\n",
       "      <td>1.86</td>\n",
       "      <td>11.5</td>\n",
       "      <td>8.8442</td>\n",
       "    </tr>\n",
       "    <tr>\n",
       "      <th>14</th>\n",
       "      <td>Sweden</td>\n",
       "      <td>81.43</td>\n",
       "      <td>22.18</td>\n",
       "      <td>2.4</td>\n",
       "      <td>1.27</td>\n",
       "      <td>12.8</td>\n",
       "      <td>9.2985</td>\n",
       "    </tr>\n",
       "    <tr>\n",
       "      <th>15</th>\n",
       "      <td>New Zealand</td>\n",
       "      <td>80.67</td>\n",
       "      <td>27.81</td>\n",
       "      <td>4.9</td>\n",
       "      <td>1.13</td>\n",
       "      <td>12.3</td>\n",
       "      <td>9.4627</td>\n",
       "    </tr>\n",
       "  </tbody>\n",
       "</table>\n",
       "</div>"
      ],
      "text/plain": [
       "     Country ID  Life Exp.  Top-10 Income  Infant Mort.  Mil. Spend  \\\n",
       "0   Afghanistan      59.61          23.21          74.3        4.44   \n",
       "1         Haiti      45.00          47.67          73.1        0.09   \n",
       "2       Nigeria      51.30          38.23          82.6        1.07   \n",
       "3         Egypt      70.48          26.58          19.6        1.86   \n",
       "4     Argentina      75.77          32.30          13.3        0.76   \n",
       "5         China      74.87          29.98          13.7        1.95   \n",
       "6        Brazil      73.12          42.93          14.5        1.43   \n",
       "7        Israel      81.30          28.80           3.6        6.77   \n",
       "8         U.S.A      78.51          29.85           6.3        4.72   \n",
       "9       Ireland      80.15          27.23           3.5        0.60   \n",
       "10         U.K.      80.09          28.49           4.4        2.59   \n",
       "11      Germany      80.24          22.07           3.5        1.31   \n",
       "12       Canada      80.99          24.79           4.9        1.42   \n",
       "13    Australia      82.09          25.40           4.2        1.86   \n",
       "14       Sweden      81.43          22.18           2.4        1.27   \n",
       "15  New Zealand      80.67          27.81           4.9        1.13   \n",
       "\n",
       "    School Years     CPI  \n",
       "0            0.4  1.5171  \n",
       "1            3.4  1.7999  \n",
       "2            4.1  2.4493  \n",
       "3            5.3  2.8622  \n",
       "4           10.1  2.9961  \n",
       "5            6.4  3.6356  \n",
       "6            7.2  3.7741  \n",
       "7           12.5  5.8069  \n",
       "8           13.7  7.1357  \n",
       "9           11.5  7.5360  \n",
       "10          13.0  7.7751  \n",
       "11          12.0  8.0461  \n",
       "12          14.2  8.6725  \n",
       "13          11.5  8.8442  \n",
       "14          12.8  9.2985  \n",
       "15          12.3  9.4627  "
      ]
     },
     "metadata": {},
     "output_type": "display_data"
    }
   ],
   "source": [
    "display(extended_countries)"
   ]
  },
  {
   "cell_type": "code",
   "execution_count": null,
   "metadata": {},
   "outputs": [],
   "source": [
    "extended_countries = extended_countries.drop(extended_countries.index[[6, 12]])\n",
    "display(extended_countries)"
   ]
  },
  {
   "cell_type": "markdown",
   "metadata": {},
   "source": [
    "#### Filtering Columns & Rows"
   ]
  },
  {
   "cell_type": "markdown",
   "metadata": {},
   "source": [
    "We can combine row selection and column selection using the **loc** method. We pass it the row slice first, followed by a list of column headings. For example:"
   ]
  },
  {
   "cell_type": "code",
   "execution_count": null,
   "metadata": {},
   "outputs": [],
   "source": [
    "extended_countries.loc[1:5, [\"Country ID\", \"Top-10 Income\"]]"
   ]
  },
  {
   "cell_type": "markdown",
   "metadata": {},
   "source": [
    "We can do the same thing using numeric indices for columns and rows rather than labels using the **iloc** method:"
   ]
  },
  {
   "cell_type": "code",
   "execution_count": null,
   "metadata": {},
   "outputs": [],
   "source": [
    "extended_countries.iloc[1:5, 2:4]"
   ]
  },
  {
   "cell_type": "markdown",
   "metadata": {},
   "source": [
    "#### Deriving New Fields"
   ]
  },
  {
   "cell_type": "markdown",
   "metadata": {},
   "source": [
    "We can easily add new columns to a DataFrame by simply referring to the new column name in an expression. For example:"
   ]
  },
  {
   "cell_type": "code",
   "execution_count": null,
   "metadata": {},
   "outputs": [],
   "source": [
    "display(extended_countries)"
   ]
  },
  {
   "cell_type": "code",
   "execution_count": null,
   "metadata": {},
   "outputs": [],
   "source": [
    "extended_countries[\"High Education\"] = True\n",
    "extended_countries.head()"
   ]
  },
  {
   "cell_type": "markdown",
   "metadata": {},
   "source": [
    "Or more interestingly using other columns in the DataFrame:"
   ]
  },
  {
   "cell_type": "code",
   "execution_count": null,
   "metadata": {
    "scrolled": true
   },
   "outputs": [],
   "source": [
    "extended_countries[\"High Education\"] \\\n",
    "    = extended_countries[\"School Years\"] > 10\n",
    "extended_countries.head()"
   ]
  },
  {
   "cell_type": "code",
   "execution_count": null,
   "metadata": {},
   "outputs": [],
   "source": [
    "extended_countries[\"Mil School Ratio\"] = \\\n",
    "    extended_countries[\"Mil. Spend\"] / extended_countries[\"School Years\"]\n",
    "extended_countries.head()"
   ]
  },
  {
   "cell_type": "markdown",
   "metadata": {},
   "source": [
    "Adding new rows to a DataFrame is easy using the **append** method. For example to append the first 5 rows of the DataFrame again at the end:"
   ]
  },
  {
   "cell_type": "code",
   "execution_count": null,
   "metadata": {
    "scrolled": true
   },
   "outputs": [],
   "source": [
    "extra_rows = extended_countries[0:6]\n",
    "extended_countries.append(extra_rows, ignore_index=True) # ignore_index tells pandas not to repat row indices"
   ]
  },
  {
   "cell_type": "markdown",
   "metadata": {},
   "source": [
    "The **describe** method gives a nice set of summary descriptive statistics for each column:"
   ]
  },
  {
   "cell_type": "code",
   "execution_count": null,
   "metadata": {},
   "outputs": [],
   "source": [
    "extended_countries.describe()"
   ]
  },
  {
   "cell_type": "markdown",
   "metadata": {},
   "source": [
    "#### Merging DataFrames"
   ]
  },
  {
   "cell_type": "markdown",
   "metadata": {},
   "source": [
    "We can also *merge* together DataFrames in SQL style join operations using the **merge** method. For example"
   ]
  },
  {
   "cell_type": "code",
   "execution_count": null,
   "metadata": {
    "scrolled": true
   },
   "outputs": [],
   "source": [
    "country_populations = pd.read_csv('FMLPDA_Table_5_ex_3a.csv')\n"
   ]
  },
  {
   "cell_type": "code",
   "execution_count": null,
   "metadata": {},
   "outputs": [],
   "source": [
    "display(country_populations)"
   ]
  },
  {
   "cell_type": "code",
   "execution_count": null,
   "metadata": {},
   "outputs": [],
   "source": [
    "display(extended_countries)"
   ]
  },
  {
   "cell_type": "code",
   "execution_count": null,
   "metadata": {},
   "outputs": [],
   "source": [
    "extended_countries_with_pop = \\\n",
    "    pd.merge(extended_countries, country_populations, \n",
    "             on=\"Country ID\")\n",
    "display(extended_countries_with_pop)"
   ]
  },
  {
   "cell_type": "code",
   "execution_count": null,
   "metadata": {},
   "outputs": [],
   "source": [
    "extended_countries_with_pop.shape"
   ]
  },
  {
   "cell_type": "markdown",
   "metadata": {},
   "source": [
    "The **how** parameter to the merge method determines the type of join that is performed - the options are 'left', 'right', 'outer', 'inner' (the default is 'inner')"
   ]
  },
  {
   "cell_type": "code",
   "execution_count": null,
   "metadata": {
    "scrolled": true
   },
   "outputs": [],
   "source": [
    "extended_countries_with_pop = \\\n",
    "pd.merge(extended_countries, country_populations, \n",
    "         on=\"Country ID\", how = 'outer')\n",
    "display(extended_countries_with_pop)"
   ]
  },
  {
   "cell_type": "code",
   "execution_count": null,
   "metadata": {},
   "outputs": [],
   "source": [
    "print(extended_countries.shape)\n",
    "print(country_populations.shape)\n",
    "print(extended_countries_with_pop.shape)\n"
   ]
  },
  {
   "cell_type": "code",
   "execution_count": null,
   "metadata": {},
   "outputs": [],
   "source": [
    "extended_countries_with_pop = pd.merge(extended_countries, country_populations, on=\"Country ID\", how = 'left')\n",
    "display(extended_countries_with_pop)"
   ]
  },
  {
   "cell_type": "code",
   "execution_count": null,
   "metadata": {},
   "outputs": [],
   "source": [
    "extended_countries_with_pop = pd.merge(extended_countries, country_populations, on=\"Country ID\", how = 'right')\n",
    "display(extended_countries_with_pop)"
   ]
  },
  {
   "cell_type": "markdown",
   "metadata": {},
   "source": [
    "#### Aggregating DataFrames"
   ]
  },
  {
   "cell_type": "markdown",
   "metadata": {},
   "source": [
    "If there are a categoricial variables in a dataset we can use them to define groups. Once groups are defined it is possible to perform analysis based on these groups."
   ]
  },
  {
   "cell_type": "markdown",
   "metadata": {},
   "source": [
    "Read in a dataset that contains the continet to which each country belongs and add that to the country details dataset."
   ]
  },
  {
   "cell_type": "code",
   "execution_count": null,
   "metadata": {
    "scrolled": false
   },
   "outputs": [],
   "source": [
    "country_continents = pd.read_csv('FMLPDA_Table_5_ex_3b.csv')\n",
    "display(country_continents.head())"
   ]
  },
  {
   "cell_type": "code",
   "execution_count": null,
   "metadata": {
    "scrolled": true
   },
   "outputs": [],
   "source": [
    "display(extended_countries.head())"
   ]
  },
  {
   "cell_type": "code",
   "execution_count": null,
   "metadata": {},
   "outputs": [],
   "source": [
    "extended_countries_with_contnts = pd.merge(extended_countries, country_continents, on=\"Country ID\", how = 'inner')\n",
    "display(extended_countries_with_contnts)"
   ]
  },
  {
   "cell_type": "markdown",
   "metadata": {},
   "source": [
    "To define groups within a dataframe we use the **groupby** function, passing it the name of the column we would like to group by. Using the grouped data then we can then perform grouped analysis."
   ]
  },
  {
   "cell_type": "code",
   "execution_count": null,
   "metadata": {
    "scrolled": true
   },
   "outputs": [],
   "source": [
    "extended_countries_with_contnts.groupby('Continent').sum()"
   ]
  },
  {
   "cell_type": "markdown",
   "metadata": {},
   "source": [
    "We can save the grouping object if we want to perform multiple analyses."
   ]
  },
  {
   "cell_type": "code",
   "execution_count": null,
   "metadata": {
    "scrolled": false
   },
   "outputs": [],
   "source": [
    "grouped_data = extended_countries_with_contnts\\\n",
    "                            .groupby('Continent')\n",
    "display(grouped_data.mean())"
   ]
  },
  {
   "cell_type": "code",
   "execution_count": null,
   "metadata": {},
   "outputs": [],
   "source": [
    "display(grouped_data.max())\n",
    "display(grouped_data.min())"
   ]
  },
  {
   "cell_type": "markdown",
   "metadata": {},
   "source": [
    "We can use column selection on the grouped data object to only see details of certain columns. "
   ]
  },
  {
   "cell_type": "code",
   "execution_count": null,
   "metadata": {
    "scrolled": true
   },
   "outputs": [],
   "source": [
    "display(grouped_data['Life Exp.'].describe())"
   ]
  },
  {
   "cell_type": "markdown",
   "metadata": {},
   "source": [
    "Or to look at multiple columns:"
   ]
  },
  {
   "cell_type": "code",
   "execution_count": null,
   "metadata": {},
   "outputs": [],
   "source": [
    "display(grouped_data[['Life Exp.', 'Infant Mort.']].describe())"
   ]
  },
  {
   "cell_type": "markdown",
   "metadata": {},
   "source": [
    "Using groups we can also perform **data aggregation** jobs - rolling up muptiple rows of data into a single row that aggregates them. To do this we use the **agg** function in conection with grouped data. For example to create a dataset containing the mean life expectancy of each continent we could use:"
   ]
  },
  {
   "cell_type": "code",
   "execution_count": null,
   "metadata": {},
   "outputs": [],
   "source": [
    "grouped_data['Life Exp.'].agg([np.mean])"
   ]
  },
  {
   "cell_type": "markdown",
   "metadata": {},
   "source": [
    "We can add multiple measurs to this aggregation - for example including max and min as well as mean:"
   ]
  },
  {
   "cell_type": "code",
   "execution_count": null,
   "metadata": {},
   "outputs": [],
   "source": [
    "grouped_data['Life Exp.'].agg([np.mean, np.min, np.max])"
   ]
  },
  {
   "cell_type": "markdown",
   "metadata": {},
   "source": [
    "We can do this for multiple columns from the original dataset to be even more expressive."
   ]
  },
  {
   "cell_type": "code",
   "execution_count": null,
   "metadata": {},
   "outputs": [],
   "source": [
    "grouped_data[['Life Exp.', 'Infant Mort.']].agg([np.mean, np.min, np.max])"
   ]
  },
  {
   "cell_type": "code",
   "execution_count": null,
   "metadata": {},
   "outputs": [],
   "source": [
    "grouped_data.agg([np.mean])"
   ]
  },
  {
   "cell_type": "markdown",
   "metadata": {
    "collapsed": true
   },
   "source": [
    "### Simple Analysis"
   ]
  },
  {
   "cell_type": "markdown",
   "metadata": {},
   "source": [
    "Remember we can use simple analysis functions to start analysing data. The most interesting are **describe**, and **value_counts**."
   ]
  },
  {
   "cell_type": "code",
   "execution_count": null,
   "metadata": {},
   "outputs": [],
   "source": [
    "extended_countries_with_pop[\"School Years\"].describe()"
   ]
  },
  {
   "cell_type": "code",
   "execution_count": null,
   "metadata": {},
   "outputs": [],
   "source": [
    "extended_countries_with_contnts[\"Continent\"].describe()"
   ]
  },
  {
   "cell_type": "code",
   "execution_count": null,
   "metadata": {},
   "outputs": [],
   "source": [
    "extended_countries_with_contnts[\"Continent\"].value_counts()"
   ]
  },
  {
   "cell_type": "markdown",
   "metadata": {},
   "source": [
    "## An Example"
   ]
  },
  {
   "cell_type": "code",
   "execution_count": null,
   "metadata": {},
   "outputs": [],
   "source": [
    "motorInsurance = pd.read_csv('MotorInsuranceFraudClaimABTFull.csv')\n",
    "display(motorInsurance)"
   ]
  },
  {
   "cell_type": "code",
   "execution_count": null,
   "metadata": {},
   "outputs": [],
   "source": [
    "motorInsurance[\"Marital Status\"].value_counts()"
   ]
  },
  {
   "cell_type": "code",
   "execution_count": null,
   "metadata": {},
   "outputs": [],
   "source": []
  }
 ],
 "metadata": {
  "anaconda-cloud": {},
  "kernelspec": {
   "display_name": "Python 3",
   "language": "python",
   "name": "python3"
  },
  "language_info": {
   "codemirror_mode": {
    "name": "ipython",
    "version": 3
   },
   "file_extension": ".py",
   "mimetype": "text/x-python",
   "name": "python",
   "nbconvert_exporter": "python",
   "pygments_lexer": "ipython3",
   "version": "3.5.4"
  }
 },
 "nbformat": 4,
 "nbformat_minor": 1
}
