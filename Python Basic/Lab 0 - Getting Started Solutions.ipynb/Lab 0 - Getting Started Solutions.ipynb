{
 "cells": [
  {
   "cell_type": "markdown",
   "metadata": {},
   "source": [
    "# COMP 10020 Introduction to Programming 2 \n",
    "## Lab 0 - Getting Started"
   ]
  },
  {
   "cell_type": "markdown",
   "metadata": {},
   "source": [
    "### Question 1"
   ]
  },
  {
   "cell_type": "markdown",
   "metadata": {},
   "source": [
    "Write a program which asks the user to type in a whole number, and tells the user whether that number is odd or even."
   ]
  },
  {
   "cell_type": "markdown",
   "metadata": {},
   "source": [
    "**Hint:** The *input* function reads input from the user. For example:\n",
    "\n",
    "```python\n",
    "num = input('Please enter a number:')\n",
    "```\n",
    "\n",
    "After you read input from a user you should convert it to an integer using the *int* function. For example:\n",
    "\n",
    "```python\n",
    "num = int(num)\n",
    "```"
   ]
  },
  {
   "cell_type": "code",
   "execution_count": 24,
   "metadata": {},
   "outputs": [
    {
     "name": "stdout",
     "output_type": "stream",
     "text": [
      "Please enter a number:45\n",
      "Your number is odd\n"
     ]
    }
   ],
   "source": [
    "num = input('Please enter a number:')\n",
    "num = int(num)\n",
    "if(num % 2 == 0 ):\n",
    "    print(\"Your number is even\")\n",
    "else:\n",
    "    print(\"Your number is odd\")"
   ]
  },
  {
   "cell_type": "markdown",
   "metadata": {},
   "source": [
    "### Question 2"
   ]
  },
  {
   "cell_type": "markdown",
   "metadata": {},
   "source": [
    "Write a program which prints out all numbers between 100 and 1204 (both included) that are divisible by 7 but are not a multiple of 5."
   ]
  },
  {
   "cell_type": "code",
   "execution_count": 25,
   "metadata": {
    "scrolled": true
   },
   "outputs": [
    {
     "name": "stdout",
     "output_type": "stream",
     "text": [
      "112\n",
      "119\n",
      "126\n",
      "133\n",
      "147\n",
      "154\n",
      "161\n",
      "168\n",
      "182\n",
      "189\n",
      "196\n",
      "203\n",
      "217\n",
      "224\n",
      "231\n",
      "238\n",
      "252\n",
      "259\n",
      "266\n",
      "273\n",
      "287\n",
      "294\n",
      "301\n",
      "308\n",
      "322\n",
      "329\n",
      "336\n",
      "343\n",
      "357\n",
      "364\n",
      "371\n",
      "378\n",
      "392\n",
      "399\n",
      "406\n",
      "413\n",
      "427\n",
      "434\n",
      "441\n",
      "448\n",
      "462\n",
      "469\n",
      "476\n",
      "483\n",
      "497\n",
      "504\n",
      "511\n",
      "518\n",
      "532\n",
      "539\n",
      "546\n",
      "553\n",
      "567\n",
      "574\n",
      "581\n",
      "588\n",
      "602\n",
      "609\n",
      "616\n",
      "623\n",
      "637\n",
      "644\n",
      "651\n",
      "658\n",
      "672\n",
      "679\n",
      "686\n",
      "693\n",
      "707\n",
      "714\n",
      "721\n",
      "728\n",
      "742\n",
      "749\n",
      "756\n",
      "763\n",
      "777\n",
      "784\n",
      "791\n",
      "798\n",
      "812\n",
      "819\n",
      "826\n",
      "833\n",
      "847\n",
      "854\n",
      "861\n",
      "868\n",
      "882\n",
      "889\n",
      "896\n",
      "903\n",
      "917\n",
      "924\n",
      "931\n",
      "938\n",
      "952\n",
      "959\n",
      "966\n",
      "973\n",
      "987\n",
      "994\n",
      "1001\n",
      "1008\n",
      "1022\n",
      "1029\n",
      "1036\n",
      "1043\n",
      "1057\n",
      "1064\n",
      "1071\n",
      "1078\n",
      "1092\n",
      "1099\n",
      "1106\n",
      "1113\n",
      "1127\n",
      "1134\n",
      "1141\n",
      "1148\n",
      "1162\n",
      "1169\n",
      "1176\n",
      "1183\n",
      "1197\n",
      "1204\n"
     ]
    }
   ],
   "source": [
    "for i in range(100, 1205):\n",
    "    if (i%7 == 0) and (i%5 != 0):\n",
    "        print(i)"
   ]
  },
  {
   "cell_type": "markdown",
   "metadata": {
    "collapsed": true
   },
   "source": [
    "### Question 3"
   ]
  },
  {
   "cell_type": "markdown",
   "metadata": {},
   "source": [
    "Write a function to convert an exam mark into a grade using the following conversation table\n",
    "* A: 85 - 100 \n",
    "* B: 70 - 85\n",
    "* C: 55 - 70\n",
    "* D: 40 - 55\n",
    "* F: 0 - 40"
   ]
  },
  {
   "cell_type": "code",
   "execution_count": 26,
   "metadata": {
    "collapsed": true
   },
   "outputs": [],
   "source": [
    "# Write code here!\n",
    "def mark_to_grade(mark):\n",
    "    grade = \"\"\n",
    "    if mark >= 85:\n",
    "        grade = \"A\"\n",
    "    elif mark >= 70:\n",
    "        grade = \"B\"\n",
    "    elif mark >= 55:\n",
    "        grade = \"C\"\n",
    "    elif mark >= 40:\n",
    "        grade = \"D\"\n",
    "    else:\n",
    "        grade = \"F\"\n",
    "        \n",
    "    return grade"
   ]
  },
  {
   "cell_type": "markdown",
   "metadata": {},
   "source": [
    "Read a mark from the user and convert it into a grade using the function defined."
   ]
  },
  {
   "cell_type": "code",
   "execution_count": 27,
   "metadata": {},
   "outputs": [
    {
     "name": "stdout",
     "output_type": "stream",
     "text": [
      "Enter your mark: 67\n",
      "C\n"
     ]
    }
   ],
   "source": [
    "# Write code here!\n",
    "mark = input(\"Enter your mark: \")\n",
    "mark = int(mark)\n",
    "\n",
    "if(mark < 0 or mark > 100):\n",
    "    print(\"Sorry marks must be between 0 and 100\")\n",
    "else:\n",
    "    grade = mark_to_grade(mark)\n",
    "    print(grade)"
   ]
  },
  {
   "cell_type": "markdown",
   "metadata": {},
   "source": [
    "### Question 4"
   ]
  },
  {
   "cell_type": "markdown",
   "metadata": {},
   "source": [
    "The following code snippet generates a list of 20 unique random numbers between 0 and 50 (inclusive)."
   ]
  },
  {
   "cell_type": "code",
   "execution_count": 28,
   "metadata": {},
   "outputs": [
    {
     "name": "stdout",
     "output_type": "stream",
     "text": [
      "[36, 14, 38, 48, 39, 0, 33, 23, 10, 8, 19, 28, 4, 27, 18, 40, 45, 50, 9, 26]\n"
     ]
    }
   ],
   "source": [
    "import random\n",
    "l = random.sample(range(0, 51), 20)\n",
    "print(l)"
   ]
  },
  {
   "cell_type": "markdown",
   "metadata": {},
   "source": [
    "Write a piece of python code that generates a new list that contains the elements from the list that are **less than 25**"
   ]
  },
  {
   "cell_type": "code",
   "execution_count": 29,
   "metadata": {},
   "outputs": [
    {
     "name": "stdout",
     "output_type": "stream",
     "text": [
      "[14, 0, 23, 10, 8, 19, 4, 18, 9]\n"
     ]
    }
   ],
   "source": [
    "# Write code here!\n",
    "new_list = []\n",
    "\n",
    "for i in l:\n",
    "    if i < 25:\n",
    "        new_list.append(i)\n",
    "\n",
    "print(new_list)"
   ]
  },
  {
   "cell_type": "markdown",
   "metadata": {},
   "source": [
    "### Question 5"
   ]
  },
  {
   "cell_type": "markdown",
   "metadata": {},
   "source": [
    "The file names.txt contains a list of names (one name per line). Write a program that reads all of the names from the file and stores them in a list. Then print out all of the unique names in the list (i.e. instead of printing the list print each name in the list just once). \n",
    "\n",
    "**Hint:** The following line will iterate through the lines in a file: \n",
    "```python\n",
    "for line in open(\"names.txt\"):\n",
    "```\n",
    "\n",
    "**Hint:** Can you convert a list to a data structure that does not allow duplicates?"
   ]
  },
  {
   "cell_type": "code",
   "execution_count": 30,
   "metadata": {},
   "outputs": [
    {
     "name": "stdout",
     "output_type": "stream",
     "text": [
      "['Barbara', 'Mary', 'George', 'Daniel', 'Elizabeth', 'Abigail', 'Mary', 'Dorothy', 'Mary', 'Mary', 'George', 'George', 'Daniel', 'George', 'James', 'Mary', 'Mary', 'Mary', 'Patricia', 'James', 'James', 'George', 'Charles', 'Barbara', 'Elizabeth', 'James', 'James', 'Dorothy', 'Patricia', 'Patricia', 'James', 'Barbara', 'Mary', 'Mary', 'Daniel', 'George', 'Barbara', 'Charles', 'Barbara', 'Barbara', 'Elizabeth', 'Elizabeth', 'Abigail', 'Barbara', 'Daniel', 'George', 'Ringo', 'Patricia', 'Daniel', 'Daniel']\n",
      "{'Dorothy', 'Ringo', 'Abigail', 'Daniel', 'Elizabeth', 'Mary', 'George', 'Barbara', 'James', 'Patricia', 'Charles'}\n",
      "['Abigail', 'Barbara', 'Charles', 'Daniel', 'Dorothy', 'Elizabeth', 'George', 'James', 'Mary', 'Patricia', 'Ringo']\n"
     ]
    }
   ],
   "source": [
    "# Write code here!\n",
    "\n",
    "# Make an empty list for names\n",
    "names = list()\n",
    "\n",
    "# Iterate through each line in the file\n",
    "for line in open(\"names.txt\"):\n",
    "    # Strip whitespace (removes carriage return character)\n",
    "    line = line.strip()\n",
    "    \n",
    "    # Add each word to the list\n",
    "    names.append(line)\n",
    "\n",
    "# Print the names list\n",
    "print(names)\n",
    "\n",
    "# Convert the names list to a set to access the unique names\n",
    "unique_names = set(names)\n",
    "print(unique_names)\n",
    "\n",
    "sorted_names = list(unique_names)\n",
    "sorted_names.sort()\n",
    "print(sorted_names)\n"
   ]
  },
  {
   "cell_type": "markdown",
   "metadata": {},
   "source": [
    "### Question 6"
   ]
  },
  {
   "cell_type": "markdown",
   "metadata": {},
   "source": [
    "The file names.txt contains a list of names (one name per line). Write a program that reads all of the names from the file and uses a dictionary to count the occurrence of each name. Print out the number of times each name appears."
   ]
  },
  {
   "cell_type": "code",
   "execution_count": 31,
   "metadata": {},
   "outputs": [
    {
     "name": "stdout",
     "output_type": "stream",
     "text": [
      "{'Barbara': 7, 'Mary': 9, 'George': 7, 'Daniel': 6, 'Elizabeth': 4, 'Abigail': 2, 'Dorothy': 2, 'James': 6, 'Patricia': 4, 'Charles': 2, 'Ringo': 1}\n",
      "Abigail 2\n",
      "Barbara 7\n",
      "Charles 2\n",
      "Daniel 6\n",
      "Dorothy 2\n",
      "Elizabeth 4\n",
      "George 7\n",
      "James 6\n",
      "Mary 9\n",
      "Patricia 4\n",
      "Ringo 1\n"
     ]
    }
   ],
   "source": [
    "# Write code here!\n",
    "\n",
    "# Make an empty dictionary for names\n",
    "names = dict()\n",
    "\n",
    "# Iterate through each line in the file\n",
    "for line in open(\"names.txt\"):\n",
    "    # Split each line into words (removes carriage return character)\n",
    "    word = line.strip()\n",
    "    # Check if the current name is already in the dictionary\n",
    "    if(word not in names):\n",
    "        # If the current name isn't al\n",
    "        names[word] = 1\n",
    "    else:\n",
    "        names[word] = names[word] + 1\n",
    "\n",
    "# Print the names list\n",
    "print(names)\n",
    "keys = list(names.keys())\n",
    "keys.sort()\n",
    "for k in keys:\n",
    "    print(k + \" \" + str(names[k]))"
   ]
  }
 ],
 "metadata": {
  "kernelspec": {
   "display_name": "Python 3",
   "language": "python",
   "name": "python3"
  },
  "language_info": {
   "codemirror_mode": {
    "name": "ipython",
    "version": 3
   },
   "file_extension": ".py",
   "mimetype": "text/x-python",
   "name": "python",
   "nbconvert_exporter": "python",
   "pygments_lexer": "ipython3",
   "version": "3.6.0"
  }
 },
 "nbformat": 4,
 "nbformat_minor": 1
}
