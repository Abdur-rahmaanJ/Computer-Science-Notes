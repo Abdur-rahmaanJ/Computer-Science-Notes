{
 "cells": [
  {
   "cell_type": "markdown",
   "metadata": {},
   "source": [
    "# Object Oriented Programming in Python\n",
    "\n",
    "Using just basic Python data strcutures, it is hard to keep track of sophisticaed data structures. "
   ]
  },
  {
   "cell_type": "markdown",
   "metadata": {},
   "source": [
    "## Problems With Cards\n",
    "For example, think about how to store a deck of cards - we probably need to store the numbers and suits seperately."
   ]
  },
  {
   "cell_type": "code",
   "execution_count": null,
   "metadata": {},
   "outputs": [],
   "source": [
    "card_deck_nums = ['A', '2', '3', '4', '5', '6', '7', '8', '9', '10', 'J', 'Q', 'K',\n",
    "                 'A', '2', '3', '4', '5', '6', '7', '8', '9', '10', 'J', 'Q', 'K',\n",
    "                 'A', '2', '3', '4', '5', '6', '7', '8', '9', '10', 'J', 'Q', 'K',\n",
    "                 'A', '2', '3', '4', '5', '6', '7', '8', '9', '10', 'J', 'Q', 'K']\n",
    "\n",
    "card_deck_suits = ['Hearts', 'Hearts', 'Hearts', 'Hearts', 'Hearts', 'Hearts', 'Hearts', 'Hearts', 'Hearts', 'Hearts', 'Hearts', 'Hearts', 'Hearts',\n",
    "                   'Spades', 'Spades', 'Spades', 'Spades', 'Spades', 'Spades', 'Spades', 'Spades', 'Spades', 'Spades', 'Spades', 'Spades', 'Spades',\n",
    "                   'Diamonds', 'Diamonds', 'Diamonds', 'Diamonds', 'Diamonds', 'Diamonds', 'Diamonds', 'Diamonds', 'Diamonds', 'Diamonds', 'Diamonds', 'Diamonds', 'Diamonds',\n",
    "                   'Clubs', 'Clubs', 'Clubs', 'Clubs', 'Clubs', 'Clubs', 'Clubs', 'Clubs', 'Clubs', 'Clubs', 'Clubs', 'Clubs', 'Clubs']\n",
    "print(card_deck_nums)\n",
    "print(card_deck_suits)"
   ]
  },
  {
   "cell_type": "code",
   "execution_count": null,
   "metadata": {},
   "outputs": [],
   "source": [
    "for i in range(0, len(card_deck_nums)):\n",
    "    print(card_deck_nums[i] + \" of \" + card_deck_suits[i])"
   ]
  },
  {
   "cell_type": "code",
   "execution_count": null,
   "metadata": {},
   "outputs": [],
   "source": [
    "card = input(\"Pick a card: \")\n",
    "print(\"Your card is \" + card_deck_nums[int(card)] + \" of \" + card_deck_suits[int(card)])"
   ]
  },
  {
   "cell_type": "markdown",
   "metadata": {},
   "source": [
    "Manipulating the cards is going to be very tricky as we need to keep the two lists aligned."
   ]
  },
  {
   "cell_type": "code",
   "execution_count": null,
   "metadata": {
    "scrolled": true
   },
   "outputs": [],
   "source": [
    "card_deck_nums.reverse()\n",
    "card_deck_suits.reverse()\n",
    "for i in range(0, len(card_deck_nums)):\n",
    "    print(card_deck_nums[i] + \" of \" + card_deck_suits[i])"
   ]
  },
  {
   "cell_type": "code",
   "execution_count": null,
   "metadata": {},
   "outputs": [],
   "source": [
    "card = input(\"Pick a card: \")\n",
    "print(\"Your card is \" + card_deck_nums[int(card)] + \" of \" + card_deck_suits[int(card)])"
   ]
  },
  {
   "cell_type": "code",
   "execution_count": null,
   "metadata": {},
   "outputs": [],
   "source": [
    "import random\n",
    "\n",
    "random.shuffle(card_deck_nums)\n",
    "random.shuffle(card_deck_suits)\n",
    "\n",
    "for i in range(0, len(card_deck_nums)):\n",
    "    print(card_deck_nums[i] + \" of \" + card_deck_suits[i])\n"
   ]
  },
  {
   "cell_type": "markdown",
   "metadata": {},
   "source": [
    "This would get even worse if we have student records with names, numbers, GPAs and dates of birth!"
   ]
  },
  {
   "cell_type": "code",
   "execution_count": null,
   "metadata": {},
   "outputs": [],
   "source": [
    "import datetime\n",
    "names = [\"Mary\", \"Peter\", \"Paul\", \"Mark\", \"Sarah\"]\n",
    "numbers = [2345, 8768, 9920, 34345, 63520]\n",
    "gpas = [4.2, 3.76, 4.0, 2.5, 3.1]\n",
    "dobs = [datetime.date(1995, 6, 24), datetime.date(1998, 11, 2), datetime.date(1983, 9, 7), datetime.date(1998, 1, 1), datetime.date(1978, 11, 9)]"
   ]
  },
  {
   "cell_type": "code",
   "execution_count": null,
   "metadata": {
    "scrolled": false
   },
   "outputs": [],
   "source": [
    "for i in range(0, len(names)):\n",
    "    print(names[i] + \" [\" + str(numbers[i]) + \"] \" + str(gpas[i]) + \" (\" + str(dobs[i]) +\")\")"
   ]
  },
  {
   "cell_type": "code",
   "execution_count": null,
   "metadata": {},
   "outputs": [],
   "source": [
    "random.shuffle(names)\n",
    "random.shuffle(numbers)\n",
    "random.shuffle(gpas)\n",
    "random.shuffle(dobs)\n",
    "\n",
    "for i in range(0, len(names)):\n",
    "    print(names[i] + \" [\" + str(numbers[i]) + \"] \" + str(gpas[i]) + \" (\" + str(dobs[i]) +\")\")"
   ]
  },
  {
   "cell_type": "markdown",
   "metadata": {},
   "source": [
    "\n",
    "## Python String Objects\n",
    "Simple types in Python are already defined as objects."
   ]
  },
  {
   "cell_type": "code",
   "execution_count": null,
   "metadata": {},
   "outputs": [],
   "source": [
    "allLetters = \"The quick brown fox jumped over the lazy dog\"\n",
    "print(allLetters.isalpha())\n",
    "print(allLetters.isdigit())\n",
    "\n",
    "words = allLetters.split()\n",
    "print(words)"
   ]
  },
  {
   "cell_type": "code",
   "execution_count": null,
   "metadata": {},
   "outputs": [],
   "source": [
    "allLetters.find(\"brown\")\n",
    "allLetters.endswith(\"lazy\")"
   ]
  },
  {
   "cell_type": "markdown",
   "metadata": {},
   "source": [
    "## Object Oriented Cows\n",
    "Defining a cow object to represent cows"
   ]
  },
  {
   "cell_type": "code",
   "execution_count": null,
   "metadata": {},
   "outputs": [],
   "source": [
    "class Cow:\n",
    "\n",
    "    def __init__(self, name, breed):\n",
    "        self.name = name\n",
    "        self.breed = breed\n",
    "\n",
    "    def moo(self, message):\n",
    "        print( self.name +  \" says \" + message)\n"
   ]
  },
  {
   "cell_type": "markdown",
   "metadata": {},
   "source": [
    "Now we can **instantiate** some cows"
   ]
  },
  {
   "cell_type": "code",
   "execution_count": null,
   "metadata": {},
   "outputs": [],
   "source": [
    "myFirstCow = Cow(\"Daisy\", \"Friesan\")\n",
    "mySecondCow = Cow(\"Buttercup\", \"Belgian Blue\")"
   ]
  },
  {
   "cell_type": "code",
   "execution_count": null,
   "metadata": {},
   "outputs": [],
   "source": [
    "mySecondCow.moo(\"Moooooooo!\")\n",
    "myFirstCow.moo(\"Hello\")"
   ]
  },
  {
   "cell_type": "markdown",
   "metadata": {},
   "source": [
    "## The Object Oriented Solution for Cards\n",
    "We define a card class, where a card is composed of **attributes** containing face value and a suit. The card class also has a **method** for printing (or showing) the card."
   ]
  },
  {
   "cell_type": "code",
   "execution_count": null,
   "metadata": {},
   "outputs": [],
   "source": [
    "# The card class\n",
    "class Card:\n",
    "\n",
    "        # A constructor called when an object of the class is instantiated.\n",
    "        def __init__(self, suit, face):\n",
    "            self.suit = suit \n",
    "            self.face = face\n",
    "\n",
    "        # A class method that prints a card\n",
    "        def show(self):\n",
    "            print(self.face + \" of \" + self.suit)\n"
   ]
  },
  {
   "cell_type": "markdown",
   "metadata": {},
   "source": [
    "Then we can create card objects, and call their methods."
   ]
  },
  {
   "cell_type": "code",
   "execution_count": null,
   "metadata": {},
   "outputs": [],
   "source": [
    "myCard1 = Card('Hearts','A')\n",
    "myCard1.show()\n",
    "myCard2 = Card('Diamonds','K')\n",
    "myCard2.show()"
   ]
  },
  {
   "cell_type": "markdown",
   "metadata": {},
   "source": [
    "We can make a deck of cards by creating a list object and adding cards to it."
   ]
  },
  {
   "cell_type": "code",
   "execution_count": null,
   "metadata": {
    "collapsed": true
   },
   "outputs": [],
   "source": [
    "cards = list() \n",
    "for suit in ['Hearts', 'Diamonds', 'Spades', 'Clubs']:\n",
    "    for face in ['A', '2', '3', '4', '5', '6', '7', '8', '9', '10', 'J', 'Q', 'K']:\n",
    "        cards.append(Card(suit, face))"
   ]
  },
  {
   "cell_type": "code",
   "execution_count": null,
   "metadata": {
    "scrolled": true
   },
   "outputs": [],
   "source": [
    "for c in cards:\n",
    "    c.show()"
   ]
  },
  {
   "cell_type": "code",
   "execution_count": null,
   "metadata": {},
   "outputs": [],
   "source": [
    "card = input(\"Pick a card!\")\n",
    "cards[int(card)].show()"
   ]
  },
  {
   "cell_type": "code",
   "execution_count": null,
   "metadata": {},
   "outputs": [],
   "source": [
    "random.shuffle(cards)\n",
    "for c in cards:\n",
    "    c.show()"
   ]
  },
  {
   "cell_type": "markdown",
   "metadata": {},
   "source": [
    "Even better though we can define a deck object and fill this with cards - this is known as **composition**."
   ]
  },
  {
   "cell_type": "code",
   "execution_count": null,
   "metadata": {},
   "outputs": [],
   "source": [
    "# The card class\n",
    "class Deck:\n",
    "\n",
    "        # A constructor called when an object of the class is instantiated.\n",
    "        def __init__(self):\n",
    "            self.cards = list() \n",
    "            for suit in ['Hearts', 'Diamonds', 'Spades', 'Clubs']:\n",
    "                for face in ['A', '1', '2', '3', '4', '5', '6', '7', '8', '9', '10', 'J', 'Q', 'K']:\n",
    "                    self.cards.append(Card(suit, face))\n",
    "            \n",
    "        # A class method that prints the deck\n",
    "        def show(self):\n",
    "            for c in self.cards:\n",
    "                c.show()"
   ]
  },
  {
   "cell_type": "code",
   "execution_count": null,
   "metadata": {
    "scrolled": true
   },
   "outputs": [],
   "source": [
    "myDeck = Deck()\n",
    "myDeck.show()"
   ]
  },
  {
   "cell_type": "markdown",
   "metadata": {},
   "source": [
    "We could also add a shuffle method to the Deck class"
   ]
  },
  {
   "cell_type": "code",
   "execution_count": null,
   "metadata": {
    "collapsed": true
   },
   "outputs": [],
   "source": [
    "# The card class\n",
    "class Deck:\n",
    "\n",
    "        # A constructor called when an object of the class is instantiated.\n",
    "        def __init__(self):\n",
    "            self.cards = list() \n",
    "            for suit in ['Hearts', 'Diamonds', 'Spades', 'Clubs']:\n",
    "                for face in ['A', '1', '2', '3', '4', '5', '6', '7', '8', '9', '10', 'J', 'Q', 'K']:\n",
    "                    self.cards.append(Card(suit, face))\n",
    "            \n",
    "        # A class method that prints the deck\n",
    "        def show(self):\n",
    "            for c in self.cards:\n",
    "                c.show()\n",
    "                \n",
    "        # A class method that shuffles the deck\n",
    "        def shuffle(self):\n",
    "            random.shuffle(self.cards)"
   ]
  },
  {
   "cell_type": "code",
   "execution_count": null,
   "metadata": {},
   "outputs": [],
   "source": [
    "myDeck = Deck()\n",
    "myDeck.shuffle()\n",
    "myDeck.show()"
   ]
  },
  {
   "cell_type": "markdown",
   "metadata": {
    "collapsed": true
   },
   "source": [
    "We could also add methods to deal cards from the deck"
   ]
  },
  {
   "cell_type": "code",
   "execution_count": null,
   "metadata": {
    "collapsed": true
   },
   "outputs": [],
   "source": [
    "# The card class\n",
    "class Deck:\n",
    "\n",
    "        # A constructor called when an object of the class is instantiated.\n",
    "        def __init__(self):\n",
    "            self.cards = list() \n",
    "            for suit in ['Hearts', 'Diamonds', 'Spades', 'Clubs']:\n",
    "                for face in ['A', '2', '3', '4', '5', '6', '7', '8', '9', '10', 'J', 'Q', 'K']:\n",
    "                    self.cards.append(Card(suit, face))\n",
    "            \n",
    "        # A class method that prints the deck\n",
    "        def show(self):\n",
    "            for c in self.cards:\n",
    "                c.show()\n",
    "                \n",
    "        # A class method that shuffles the deck\n",
    "        def shuffle(self):\n",
    "            random.shuffle(self.cards)\n",
    "            \n",
    "        # A class method that deals a card from the deck\n",
    "        def deal(self):\n",
    "            return self.cards.pop()"
   ]
  },
  {
   "cell_type": "code",
   "execution_count": null,
   "metadata": {},
   "outputs": [],
   "source": [
    "myDeck = Deck()\n",
    "myDeck.shuffle()\n",
    "card = myDeck.deal()\n",
    "card.show()\n",
    "card = myDeck.deal()\n",
    "card.show()\n",
    "card = myDeck.deal()\n",
    "card.show()\n",
    "card = myDeck.deal()\n",
    "card.show()\n",
    "card = myDeck.deal()\n",
    "card.show()\n",
    "card = myDeck.deal()\n",
    "card.show()\n",
    "card = myDeck.deal()\n",
    "card.show()\n",
    "card = myDeck.deal()\n",
    "card.show()\n",
    "card = myDeck.deal()\n",
    "card.show()\n",
    "card = myDeck.deal()\n",
    "card.show()\n",
    "card = myDeck.deal()\n",
    "card.show()\n",
    "card = myDeck.deal()\n",
    "card.show()\n",
    "card = myDeck.deal()\n",
    "card.show()\n",
    "card = myDeck.deal()\n",
    "card.show()\n",
    "card = myDeck.deal()\n",
    "card.show()\n",
    "card = myDeck.deal()\n",
    "card.show()\n",
    "card = myDeck.deal()\n",
    "card.show()\n",
    "card = myDeck.deal()\n",
    "card.show()"
   ]
  },
  {
   "cell_type": "code",
   "execution_count": null,
   "metadata": {},
   "outputs": [],
   "source": [
    "myDeck.show()"
   ]
  },
  {
   "cell_type": "code",
   "execution_count": null,
   "metadata": {
    "collapsed": true
   },
   "outputs": [],
   "source": []
  }
 ],
 "metadata": {
  "anaconda-cloud": {},
  "kernelspec": {
   "display_name": "Python 3",
   "language": "python",
   "name": "python3"
  },
  "language_info": {
   "codemirror_mode": {
    "name": "ipython",
    "version": 3
   },
   "file_extension": ".py",
   "mimetype": "text/x-python",
   "name": "python",
   "nbconvert_exporter": "python",
   "pygments_lexer": "ipython3",
   "version": "3.6.0"
  }
 },
 "nbformat": 4,
 "nbformat_minor": 1
}
