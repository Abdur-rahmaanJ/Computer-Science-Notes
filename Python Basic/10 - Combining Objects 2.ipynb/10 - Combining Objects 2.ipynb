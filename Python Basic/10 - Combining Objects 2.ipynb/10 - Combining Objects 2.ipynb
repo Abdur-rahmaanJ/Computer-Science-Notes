{
 "cells": [
  {
   "cell_type": "markdown",
   "metadata": {},
   "source": [
    "# Combining Objects in Python 2\n",
    "\n",
    "We can build more sophisticaed ibjects inPOythoin by combining simpler ones in two jkey ways - **composition** and **inheritance**."
   ]
  },
  {
   "cell_type": "markdown",
   "metadata": {
    "collapsed": true
   },
   "source": [
    "## Modelling The University"
   ]
  },
  {
   "cell_type": "markdown",
   "metadata": {},
   "source": [
    "We might want to write a Python program that modesl the university. What type of objects might be important?"
   ]
  },
  {
   "cell_type": "code",
   "execution_count": null,
   "metadata": {},
   "outputs": [],
   "source": [
    "class Lecturer: \n",
    "\n",
    "    # Represents a lecturer\n",
    "    def __init__(self, name, age, number, office): \n",
    "        self.name = name \n",
    "        self.age = age \n",
    "        self.number = number\n",
    "        self.courses = list() \n",
    "        self.office = office\n",
    "        \n",
    "    # Prints all details\n",
    "    def show(self): \n",
    "        print(\"Name: \" + self.name + \" Age: \" + str(self.age) + \" Number: \" + str(self.number))\n",
    "        print(self.office)\n",
    "        for c in self.courses:\n",
    "            print(c)\n",
    "\n",
    "    # Adds a course to the lecturers course list\n",
    "    def addCourse(self, course):\n",
    "        if(not course in self.courses):\n",
    "            self.courses.append(course)\n",
    "        \n",
    "    # Removes a course from the lecturers course list    \n",
    "    def removeCourse(self, course):\n",
    "        self.course.remove(course)\n",
    "    \n",
    "    # Changes the lecturer's office\n",
    "    def moveOffice(self, newOffice):\n",
    "        self.office = newOffice\n"
   ]
  },
  {
   "cell_type": "code",
   "execution_count": null,
   "metadata": {
    "collapsed": true
   },
   "outputs": [],
   "source": [
    "class UGStudent: \n",
    "\n",
    "    # Represents an undergrad student\n",
    "    def __init__(self, name, age, number, stage, programme): \n",
    "        self.name = name \n",
    "        self.age = age \n",
    "        self.number = number\n",
    "\n",
    "        self.stage = stage\n",
    "        self.programme = programme\n",
    "        self.pathway = \"\"\n",
    "\n",
    "    # Prints all details\n",
    "    def show(self): \n",
    "        print(\"Name: \" + self.name + \" Age: \" + str(self.age) + \" Number: \" + str(self.number))\n",
    "        print(str(self.stage) + \" - \" + self.programme + \" - \" + self.pathway)\n",
    "        \n",
    "    # Moves the student on by a year\n",
    "    def progress(self):\n",
    "        self.stage += 1\n",
    "\n",
    "    # Chooses the pathway for the student\n",
    "    def choosePath(self, pathway):\n",
    "        if(self.stage < 3):\n",
    "            self.pathway = pathway\n",
    "    \n",
    "    # Chooses the pathway for the student\n",
    "    def changeProg(self, programme):\n",
    "        self.programme = programme\n",
    "        self.pathway = \"\""
   ]
  },
  {
   "cell_type": "code",
   "execution_count": null,
   "metadata": {
    "collapsed": true
   },
   "outputs": [],
   "source": [
    "class PhDStudent: \n",
    "\n",
    "    # Represents a PhD student\n",
    "    def __init__(self, name, age, number, stage, title): \n",
    "        self.name = name \n",
    "        self.age = age \n",
    "        self.number = number\n",
    "\n",
    "        self.stage = stage\n",
    "        self.title = title\n",
    "        \n",
    "    # Prints all details\n",
    "    def show(self): \n",
    "        print(\"Name: \" + self.name + \" Age: \" + str(self.age) + \" Number: \" + str(self.number))\n",
    "        print(str(self.stage) + \" - \" + self.title)\n",
    "\n",
    "    # Moves the student on by a year\n",
    "    def progress(self):\n",
    "        self.stage += 1\n",
    "        \n",
    "    # Changes the PhD student's thesis title\n",
    "    def changeTitle(self, newTitle):\n",
    "        self.title = newTitle\n"
   ]
  },
  {
   "cell_type": "markdown",
   "metadata": {},
   "source": [
    "Now make some people to fill up our university!"
   ]
  },
  {
   "cell_type": "code",
   "execution_count": null,
   "metadata": {},
   "outputs": [],
   "source": [
    "lec1 = Lecturer(\"Albert\", 40, 450312, \"K023\")\n",
    "lec2 = Lecturer(\"Sarah\", 56, 451234, \"D024\")\n",
    "\n",
    "stu1 = UGStudent(\"Mary\", 22, 321005, 3, \"Science\")\n",
    "stu2 = UGStudent(\"Simon\", 18, 321005, 1, \"Arts\")\n",
    "\n",
    "phd1 = PhDStudent(\"Niels\", 32, 400120, 7, \"Deliberations on the Economy\")\n",
    "phd2 = PhDStudent(\"Jane\", 23, 400323, 1, \"Big Idea\")"
   ]
  },
  {
   "cell_type": "markdown",
   "metadata": {},
   "source": [
    "Print their details"
   ]
  },
  {
   "cell_type": "code",
   "execution_count": null,
   "metadata": {},
   "outputs": [],
   "source": [
    "lec1.show()\n",
    "print(\"------\")\n",
    "lec2.show()\n",
    "print(\"------\")\n",
    "stu1.show()\n",
    "print(\"------\")\n",
    "stu2.show()\n",
    "print(\"------\")\n",
    "phd1.show()\n",
    "print(\"------\")\n",
    "phd2.show()\n",
    "print(\"------\")"
   ]
  },
  {
   "cell_type": "markdown",
   "metadata": {},
   "source": [
    "Make a few changes"
   ]
  },
  {
   "cell_type": "code",
   "execution_count": null,
   "metadata": {},
   "outputs": [],
   "source": [
    "lec2.moveOffice(\"D003\")\n",
    "lec2.addCourse(\"Introduction to Programming 2\")\n",
    "stu1.progress()\n",
    "stu2.progress()\n",
    "\n",
    "lec2.show()\n",
    "print(\"------\")\n",
    "stu1.show()\n",
    "print(\"------\")\n",
    "stu2.show()"
   ]
  },
  {
   "cell_type": "markdown",
   "metadata": {},
   "source": [
    "## A Inheritance-based Version"
   ]
  },
  {
   "cell_type": "markdown",
   "metadata": {},
   "source": [
    "The parent class which represents a university member"
   ]
  },
  {
   "cell_type": "code",
   "execution_count": null,
   "metadata": {
    "collapsed": true
   },
   "outputs": [],
   "source": [
    "class UniMember: \n",
    "   \n",
    "    # Represents a member of the university\n",
    "    def __init__(self, name, age, number): \n",
    "        self.name = name \n",
    "        self.age = age \n",
    "        self.number = number\n",
    "        \n",
    "    # Prints all details\n",
    "    def show(self): \n",
    "        print(\"***** Name: \" + self.name + \" Age: \" + str(self.age) + \" Number: \" + str(self.number) + \"****\")"
   ]
  },
  {
   "cell_type": "markdown",
   "metadata": {},
   "source": [
    "Child classes that represent each of the different yypes of univeristy members"
   ]
  },
  {
   "cell_type": "code",
   "execution_count": null,
   "metadata": {
    "collapsed": true
   },
   "outputs": [],
   "source": [
    "class Lecturer(UniMember): \n",
    "\n",
    "    # Represents a lecturer\n",
    "    def __init__(self, name, age, number, office): \n",
    "\n",
    "        # Call the constructor for the parent class\n",
    "        UniMember.__init__(self, name, age, number) \n",
    "\n",
    "        # Create the Lecturer instance attributes\n",
    "        self.courses = list() \n",
    "        self.office = office\n",
    "        \n",
    "    # Prints all details\n",
    "    def show(self): \n",
    "        print(\"Name: \" + self.name + \" Age: \" + str(self.age) + \" Number: \" + str(self.number))\n",
    "        print(self.office)\n",
    "        for c in self.courses:\n",
    "            print(c)\n",
    "\n",
    "    # Adds a course to the lecturers course list\n",
    "    def addCourse(self, course):\n",
    "        self.courses.append(course)\n",
    "        \n",
    "    # Removes a course from the lecturers course list    \n",
    "    def removeCourse(self, course):\n",
    "        self.course.remove(course)\n",
    "    \n",
    "    # Changes the lecturer's office\n",
    "    def moveOffice(self, newOffice):\n",
    "        self.office = newOffice\n"
   ]
  },
  {
   "cell_type": "code",
   "execution_count": null,
   "metadata": {},
   "outputs": [],
   "source": [
    "class UGStudent(UniMember): \n",
    "\n",
    "    # Represents an undergrad student\n",
    "    def __init__(self, name, age, number, stage, programme): \n",
    "\n",
    "        # Call the constructor for the parent class\n",
    "        UniMember.__init__(self, name, age, number) \n",
    "\n",
    "        # Create the UGStudent instance attributes\n",
    "        self.stage = stage\n",
    "        self.programme = programme\n",
    "        self.pathway = \"\"\n",
    "\n",
    "    # Prints all details\n",
    "    def show(self): \n",
    "        print(\"Name: \" + self.name + \" Age: \" + str(self.age) + \" Number: \" + str(self.number))\n",
    "        print(str(self.stage) + \" - \" + self.programme + \" - \" + self.pathway)\n",
    "        \n",
    "    # Moves the student on by a year\n",
    "    def progress(self):\n",
    "        self.stage += 1\n",
    "\n",
    "    # Chooses the pathway for the student\n",
    "    def choosePath(self, pathway):\n",
    "        self.pathway = pathway\n",
    "    \n",
    "    # Chooses the pathway for the student\n",
    "    def changeProg(self, programme):\n",
    "        self.programme = programme\n",
    "        self.pathway = \"\""
   ]
  },
  {
   "cell_type": "code",
   "execution_count": null,
   "metadata": {
    "collapsed": true
   },
   "outputs": [],
   "source": [
    "class PhDStudent(UniMember): \n",
    "\n",
    "    # Represents a PhD student\n",
    "    def __init__(self, name, age, number, stage, title): \n",
    "\n",
    "        # Call the constructor for the parent class\n",
    "        UniMember.__init__(self, name, age, number) \n",
    "\n",
    "        # Create the PhDStudent instance attributes\n",
    "        self.stage = stage\n",
    "        self.title = title\n",
    "        \n",
    "    # Prints all details\n",
    "    def show(self): \n",
    "        print(\"Name: \" + self.name + \" Age: \" + str(self.age) + \" Number: \" + str(self.number))\n",
    "        print(str(self.stage) + \" - \" + self.title)\n",
    "\n",
    "    # Moves the student on by a year\n",
    "    def progress(self):\n",
    "        self.stage += 1\n",
    "        \n",
    "    # Changes the PhD student's thesis title\n",
    "    def changeTitle(self, newTitle):\n",
    "        self.title = newTitle\n"
   ]
  },
  {
   "cell_type": "markdown",
   "metadata": {},
   "source": [
    "Create some objects and print their details"
   ]
  },
  {
   "cell_type": "code",
   "execution_count": null,
   "metadata": {},
   "outputs": [],
   "source": [
    "lec1 = Lecturer(\"Albert\", 40, 450312, \"K023\")\n",
    "lec2 = Lecturer(\"Sarah\", 56, 451234, \"D024\")\n",
    "\n",
    "stu1 = UGStudent(\"Mary\", 22, 321005, 3, \"Science\")\n",
    "stu2 = UGStudent(\"Simon\", 18, 321005, 1, \"Arts\")\n",
    "\n",
    "phd1 = PhDStudent(\"Niels\", 32, 400120, 7, \"Deliberations on the Economy\")\n",
    "phd2 = PhDStudent(\"Jane\", 23, 400323, 1, \"Big Idea\")"
   ]
  },
  {
   "cell_type": "code",
   "execution_count": null,
   "metadata": {
    "scrolled": true
   },
   "outputs": [],
   "source": [
    "lec1.show()\n",
    "print(\"------\")\n",
    "lec2.show()\n",
    "print(\"------\")\n",
    "stu1.show()\n",
    "print(\"------\")\n",
    "stu2.show()\n",
    "print(\"------\")\n",
    "phd1.show()\n",
    "print(\"------\")\n",
    "phd2.show()\n",
    "print(\"------\")"
   ]
  },
  {
   "cell_type": "markdown",
   "metadata": {},
   "source": [
    "Its great that we can put all members in a list and jst call their show method. This is referred to as **polymorphism**"
   ]
  },
  {
   "cell_type": "code",
   "execution_count": null,
   "metadata": {
    "scrolled": true
   },
   "outputs": [],
   "source": [
    "members = [stu1, stu2, phd1, phd2, lec1, lec2]\n",
    "for m in members:\n",
    "    m.show()    \n",
    "    print(\"------\")"
   ]
  },
  {
   "cell_type": "markdown",
   "metadata": {},
   "source": [
    "## More Use Of Inheritance"
   ]
  },
  {
   "cell_type": "markdown",
   "metadata": {},
   "source": [
    "Break out the student classes into an inheritance tree"
   ]
  },
  {
   "cell_type": "code",
   "execution_count": null,
   "metadata": {
    "collapsed": true
   },
   "outputs": [],
   "source": [
    "class Student(UniMember): \n",
    "\n",
    "    # Represents a student\n",
    "    def __init__(self, name, age, number, stage): \n",
    "\n",
    "        # Call the constructor for the parent class\n",
    "        UniMember.__init__(self, name, age, number) \n",
    "\n",
    "        # Create the Student instance attributes\n",
    "        self.stage = stage\n",
    "\n",
    "    # Prints all details\n",
    "    def show(self): \n",
    "        print(\"Name: \" + self.name + \" Age: \" + str(self.age) + \" Number: \" + str(self.number))\n",
    "        print(str(self.stage))\n",
    "        \n",
    "    # Moves the student on by a year\n",
    "    def progress(self):\n",
    "        self.stage += 1\n"
   ]
  },
  {
   "cell_type": "code",
   "execution_count": null,
   "metadata": {
    "collapsed": true
   },
   "outputs": [],
   "source": [
    "class UGStudent(Student): \n",
    "\n",
    "    # Represents an undergrad student\n",
    "    def __init__(self, name, age, number, stage, programme): \n",
    "\n",
    "        # Call the constructor for the parent class\n",
    "        Student.__init__(self, name, age, number, stage) \n",
    "\n",
    "        # Create the UGStudent instance attributes\n",
    "        self.programme = programme\n",
    "        self.pathway = \"\"\n",
    "\n",
    "    # Prints all details\n",
    "    def show(self): \n",
    "        print(\"Name: \" + self.name + \" Age: \" + str(self.age) + \" Number: \" + str(self.number))\n",
    "        print(str(self.stage) + \" - \" + self.programme + \" - \" + self.pathway)\n",
    "\n",
    "    # Chooses the pathway for the student\n",
    "    def choosePath(self, pathway):\n",
    "        self.pathway = pathway\n",
    "    \n",
    "    # Chooses the pathway for the student\n",
    "    def changeProg(self, programme):\n",
    "        self.programme = programme\n",
    "        self.pathway = \"\""
   ]
  },
  {
   "cell_type": "code",
   "execution_count": null,
   "metadata": {
    "collapsed": true
   },
   "outputs": [],
   "source": [
    "class PhDStudent(Student): \n",
    "\n",
    "    # Represents a PhD student\n",
    "    def __init__(self, name, age, number, stage, title): \n",
    "\n",
    "        # Call the constructor for the parent class\n",
    "        Student.__init__(self, name, age, number, stage) \n",
    "\n",
    "        # Create the PhDStudent instance attributes\n",
    "        self.title = title\n",
    "        \n",
    "    # Prints all details\n",
    "    def show(self): \n",
    "        print(\"Name: \" + self.name + \" Age: \" + str(self.age) + \" Number: \" + str(self.number))\n",
    "        print(str(self.stage) + \" - \" + self.title)\n",
    "        \n",
    "    # Changes the PhD student's thesis title\n",
    "    def changeTitle(self, newTitle):\n",
    "        self.title = newTitle\n"
   ]
  },
  {
   "cell_type": "markdown",
   "metadata": {},
   "source": [
    "Make some students"
   ]
  },
  {
   "cell_type": "code",
   "execution_count": null,
   "metadata": {},
   "outputs": [],
   "source": [
    "stu1 = UGStudent(\"Mary\", 22, 321005, 3, \"Science\")\n",
    "stu2 = UGStudent(\"Simon\", 18, 321005, 1, \"Arts\")\n",
    "phd1 = PhDStudent(\"Niels\", 32, 400120, 7, \"Deliberations on the Economy\")\n",
    "phd2 = PhDStudent(\"Jane\", 23, 400323, 1, \"Big Idea\")\n",
    "\n",
    "students = [stu1, stu2, phd1, phd2]\n",
    "for s in students:\n",
    "    s.progress()\n",
    "    s.show()"
   ]
  },
  {
   "cell_type": "markdown",
   "metadata": {},
   "source": [
    "## Once Last Step"
   ]
  },
  {
   "cell_type": "markdown",
   "metadata": {},
   "source": [
    "We can use the parent version of show to avoid code repetition."
   ]
  },
  {
   "cell_type": "code",
   "execution_count": null,
   "metadata": {
    "collapsed": true
   },
   "outputs": [],
   "source": [
    "class Lecturer(UniMember): \n",
    "\n",
    "    # Represents a lecturer\n",
    "    def __init__(self, name, age, number, office): \n",
    "\n",
    "        # Call the constructor for the parent class\n",
    "        UniMember.__init__(self, name, age, number) \n",
    "\n",
    "        # Create the Lecturer instance attributes\n",
    "        self.courses = list() \n",
    "        self.office = office\n",
    "        \n",
    "    # Prints all details\n",
    "    def show(self): \n",
    "        UniMember.show(self)\n",
    "        print(self.office)\n",
    "        for c in self.courses:\n",
    "            print(c)\n",
    "\n",
    "    # Adds a course to the lecturers course list\n",
    "    def addCourse(self, course):\n",
    "        self.courses.append(course)\n",
    "        \n",
    "    # Removes a course from the lecturers course list    \n",
    "    def removeCourse(self, course):\n",
    "        self.course.remove(course)\n",
    "    \n",
    "    # Changes the lecturer's office\n",
    "    def moveOffice(self, newOffice):\n",
    "        self.office = newOffice"
   ]
  },
  {
   "cell_type": "code",
   "execution_count": null,
   "metadata": {},
   "outputs": [],
   "source": [
    "lec1 = Lecturer(\"Albert\", 40, 450312, \"K023\")\n",
    "lec2 = Lecturer(\"Sarah\", 56, 451234, \"D024\")\n",
    "\n",
    "lec1.show()\n",
    "lec2.show()"
   ]
  },
  {
   "cell_type": "code",
   "execution_count": null,
   "metadata": {
    "collapsed": true
   },
   "outputs": [],
   "source": [
    "lec1 = Lecturer(\"Albert\", 40, 450312, \"K023\")\n",
    "lec2 = Lecturer(\"Sarah\", 56, 451234, \"D024\")"
   ]
  },
  {
   "cell_type": "code",
   "execution_count": null,
   "metadata": {
    "collapsed": true
   },
   "outputs": [],
   "source": []
  }
 ],
 "metadata": {
  "anaconda-cloud": {},
  "kernelspec": {
   "display_name": "Python 3",
   "language": "python",
   "name": "python3"
  },
  "language_info": {
   "codemirror_mode": {
    "name": "ipython",
    "version": 3
   },
   "file_extension": ".py",
   "mimetype": "text/x-python",
   "name": "python",
   "nbconvert_exporter": "python",
   "pygments_lexer": "ipython3",
   "version": "3.6.0"
  }
 },
 "nbformat": 4,
 "nbformat_minor": 1
}
