{
 "cells": [
  {
   "cell_type": "markdown",
   "metadata": {},
   "source": [
    "# COMP 10020 Introduction to Programming 2\n",
    "## Lab 4 (10th April, 2017)\n",
    "## New York Philharmonic Data Analysis"
   ]
  },
  {
   "cell_type": "markdown",
   "metadata": {},
   "source": [
    "The rise of popularrity of **data science** has led to data science techniques being applied in some unexpected places, and to the release of some very interesting datasets. There are very few areas in which data science techiques are not making a difference.\n",
    "\n",
    "One organisation that has released some very interesting datasets is the **New York Philharmonic Orchestra**. The Open Data at the New York Philharmonic project (http://archives.nyphil.org/index.php/open-data) makes data abour performances and subscriptions at the New York Philharmonic stretching all the way back to its first performance in 1842. \n",
    "\n",
    "The goal of this assignment is to use data from the Philharmonic to answer questions about it's performances from 2011 to 2016. \n",
    "\n",
    "<img src = \"files/NYPhil.jpg\" width = \"500\">"
   ]
  },
  {
   "cell_type": "markdown",
   "metadata": {},
   "source": [
    "### Question 1: Load Datasets"
   ]
  },
  {
   "cell_type": "markdown",
   "metadata": {},
   "source": [
    "Details of the performances by the New York Philharmonic orchestra are contained in the files **concerts.csv**, **works.csv**, and **soloists.csv**. Each row within **concerts.csv** describes a performance, using the followiung fields:\n",
    "\n",
    "* **ID**: The ID of the performance\n",
    "* **Event_Type**: The type of the performance\n",
    "* **Location**: The location of the performance\n",
    "* **Venue**: The venue of the performance\n",
    "* **Date**: The date of the performance, given as dd/mm/yyyy (e.g. 24/07/2014, 02/03/2012)\n",
    "* **Start_Time**: The time that the performance started given as hh:mm (e.g. 17:30, 11:00)\n",
    "* **End_Time**: The time that the performance ended given as hh:mm (e.g. 17:30, 11:00)\n",
    "* **Duration**: The duration of the concert\n",
    "\n",
    "Each row within **works.csv** contains details of the works performed in a particular performance, using the following fields:\n",
    "\n",
    "* **ID**: The ID of the performance (links to the data in the concerts.csv file)\n",
    "* **Orchestra**: The name of the orchestra that performed\n",
    "* **ComposerName**: The name of the composer(s) whose work was performed\n",
    "* **ConductorName**: The name of the conductor\n",
    "\n",
    "Each row within **soloists.csv** contains details of the soloist(s) that performed in a particular performance, using the following fields:\n",
    "\n",
    "* **ID**: The ID of the performance (links to the data in the concerts.csv file)\n",
    "* **Soloist_Rank**: The rank of the solist within in the perfomrance (e.g. 1st, 2nd, 3rd, ...)\n",
    "* **Soloist_Name**: The name of the soloist\n",
    "* **Soloist_Instrument**: The instrument the soloist played\n",
    "\n",
    "Load the three datasets (**concerts.csv**, **works.csv**, and **soloists.csv**) into pandas data frames: **concerts**, **works**, and **soloists**. Display the first five rows from each."
   ]
  },
  {
   "cell_type": "code",
   "execution_count": 1,
   "metadata": {},
   "outputs": [],
   "source": [
    "# Import useful packages for data science\n",
    "from IPython.display import display, HTML\n",
    "import pandas as pd\n",
    "import numpy as np\n",
    "import scipy\n",
    "import matplotlib.pyplot as plt\n",
    "%matplotlib inline  "
   ]
  },
  {
   "cell_type": "code",
   "execution_count": 2,
   "metadata": {},
   "outputs": [
    {
     "data": {
      "text/html": [
       "<div>\n",
       "<style scoped>\n",
       "    .dataframe tbody tr th:only-of-type {\n",
       "        vertical-align: middle;\n",
       "    }\n",
       "\n",
       "    .dataframe tbody tr th {\n",
       "        vertical-align: top;\n",
       "    }\n",
       "\n",
       "    .dataframe thead th {\n",
       "        text-align: right;\n",
       "    }\n",
       "</style>\n",
       "<table border=\"1\" class=\"dataframe\">\n",
       "  <thead>\n",
       "    <tr style=\"text-align: right;\">\n",
       "      <th></th>\n",
       "      <th>ID</th>\n",
       "      <th>Event_Type</th>\n",
       "      <th>Location</th>\n",
       "      <th>Venue</th>\n",
       "      <th>Date</th>\n",
       "      <th>Start_Time</th>\n",
       "      <th>End_Time</th>\n",
       "      <th>Duration</th>\n",
       "    </tr>\n",
       "  </thead>\n",
       "  <tbody>\n",
       "    <tr>\n",
       "      <th>0</th>\n",
       "      <td>356</td>\n",
       "      <td>Very Young People's Concert</td>\n",
       "      <td>Manhattan, NY</td>\n",
       "      <td>Merkin Concert Hall</td>\n",
       "      <td>18/03/13</td>\n",
       "      <td>22:30</td>\n",
       "      <td>23:19</td>\n",
       "      <td>49</td>\n",
       "    </tr>\n",
       "    <tr>\n",
       "      <th>1</th>\n",
       "      <td>626</td>\n",
       "      <td>NY Phil Biennial</td>\n",
       "      <td>Manhattan, NY</td>\n",
       "      <td>Museum of Modern Art, The</td>\n",
       "      <td>29/05/14</td>\n",
       "      <td>22:00</td>\n",
       "      <td>23:50</td>\n",
       "      <td>110</td>\n",
       "    </tr>\n",
       "    <tr>\n",
       "      <th>2</th>\n",
       "      <td>641</td>\n",
       "      <td>NY Phil Biennial</td>\n",
       "      <td>Manhattan, NY</td>\n",
       "      <td>The Stanley H. Kaplan Penthouse</td>\n",
       "      <td>04/06/14</td>\n",
       "      <td>21:30</td>\n",
       "      <td>22:31</td>\n",
       "      <td>61</td>\n",
       "    </tr>\n",
       "    <tr>\n",
       "      <th>3</th>\n",
       "      <td>627</td>\n",
       "      <td>NY Phil Biennial</td>\n",
       "      <td>Manhattan, NY</td>\n",
       "      <td>Museum of Modern Art, The</td>\n",
       "      <td>31/05/14</td>\n",
       "      <td>22:00</td>\n",
       "      <td>23:10</td>\n",
       "      <td>70</td>\n",
       "    </tr>\n",
       "    <tr>\n",
       "      <th>4</th>\n",
       "      <td>451</td>\n",
       "      <td>Tour - Chamber</td>\n",
       "      <td>Sao Paulo, BRAZIL</td>\n",
       "      <td>Teatro Cultura Artistica</td>\n",
       "      <td>05/09/13</td>\n",
       "      <td>21:10</td>\n",
       "      <td>23:27</td>\n",
       "      <td>137</td>\n",
       "    </tr>\n",
       "  </tbody>\n",
       "</table>\n",
       "</div>"
      ],
      "text/plain": [
       "    ID                   Event_Type           Location  \\\n",
       "0  356  Very Young People's Concert      Manhattan, NY   \n",
       "1  626             NY Phil Biennial      Manhattan, NY   \n",
       "2  641             NY Phil Biennial      Manhattan, NY   \n",
       "3  627             NY Phil Biennial      Manhattan, NY   \n",
       "4  451               Tour - Chamber  Sao Paulo, BRAZIL   \n",
       "\n",
       "                             Venue      Date Start_Time End_Time  Duration  \n",
       "0              Merkin Concert Hall  18/03/13      22:30    23:19        49  \n",
       "1        Museum of Modern Art, The  29/05/14      22:00    23:50       110  \n",
       "2  The Stanley H. Kaplan Penthouse  04/06/14      21:30    22:31        61  \n",
       "3        Museum of Modern Art, The  31/05/14      22:00    23:10        70  \n",
       "4         Teatro Cultura Artistica  05/09/13      21:10    23:27       137  "
      ]
     },
     "execution_count": 2,
     "metadata": {},
     "output_type": "execute_result"
    }
   ],
   "source": [
    "# Load concerts.csv\n",
    "concerts = pd.read_csv('concerts.csv')\n",
    "concerts.head()"
   ]
  },
  {
   "cell_type": "code",
   "execution_count": 4,
   "metadata": {},
   "outputs": [
    {
     "data": {
      "text/html": [
       "<div>\n",
       "<style scoped>\n",
       "    .dataframe tbody tr th:only-of-type {\n",
       "        vertical-align: middle;\n",
       "    }\n",
       "\n",
       "    .dataframe tbody tr th {\n",
       "        vertical-align: top;\n",
       "    }\n",
       "\n",
       "    .dataframe thead th {\n",
       "        text-align: right;\n",
       "    }\n",
       "</style>\n",
       "<table border=\"1\" class=\"dataframe\">\n",
       "  <thead>\n",
       "    <tr style=\"text-align: right;\">\n",
       "      <th></th>\n",
       "      <th>ID</th>\n",
       "      <th>Orchestra</th>\n",
       "      <th>ComposerName</th>\n",
       "      <th>ConductorName</th>\n",
       "    </tr>\n",
       "  </thead>\n",
       "  <tbody>\n",
       "    <tr>\n",
       "      <th>0</th>\n",
       "      <td>396</td>\n",
       "      <td>New York Philharmonic</td>\n",
       "      <td>Salonen, Esa-Pekka</td>\n",
       "      <td>Gilbert, Alan</td>\n",
       "    </tr>\n",
       "    <tr>\n",
       "      <th>1</th>\n",
       "      <td>295</td>\n",
       "      <td>New York Philharmonic</td>\n",
       "      <td>Sibelius, Jean</td>\n",
       "      <td>Gersen, Joshua</td>\n",
       "    </tr>\n",
       "    <tr>\n",
       "      <th>2</th>\n",
       "      <td>122</td>\n",
       "      <td>New York Philharmonic</td>\n",
       "      <td>Brahms, Johannes</td>\n",
       "      <td>Dohnanyi, Christoph von</td>\n",
       "    </tr>\n",
       "    <tr>\n",
       "      <th>3</th>\n",
       "      <td>874</td>\n",
       "      <td>New York Philharmonic</td>\n",
       "      <td>Debussy, Claude</td>\n",
       "      <td>Gilbert, Alan</td>\n",
       "    </tr>\n",
       "    <tr>\n",
       "      <th>4</th>\n",
       "      <td>755</td>\n",
       "      <td>New York Philharmonic</td>\n",
       "      <td>Ravel, Maurice</td>\n",
       "      <td>Gilbert, Alan</td>\n",
       "    </tr>\n",
       "  </tbody>\n",
       "</table>\n",
       "</div>"
      ],
      "text/plain": [
       "    ID              Orchestra        ComposerName            ConductorName\n",
       "0  396  New York Philharmonic  Salonen, Esa-Pekka            Gilbert, Alan\n",
       "1  295  New York Philharmonic      Sibelius, Jean           Gersen, Joshua\n",
       "2  122  New York Philharmonic    Brahms, Johannes  Dohnanyi, Christoph von\n",
       "3  874  New York Philharmonic     Debussy, Claude            Gilbert, Alan\n",
       "4  755  New York Philharmonic      Ravel, Maurice            Gilbert, Alan"
      ]
     },
     "execution_count": 4,
     "metadata": {},
     "output_type": "execute_result"
    }
   ],
   "source": [
    "# Load works.csv\n",
    "works = pd.read_csv('works.csv')\n",
    "works.head()"
   ]
  },
  {
   "cell_type": "code",
   "execution_count": 5,
   "metadata": {
    "scrolled": true
   },
   "outputs": [
    {
     "data": {
      "text/html": [
       "<div>\n",
       "<style scoped>\n",
       "    .dataframe tbody tr th:only-of-type {\n",
       "        vertical-align: middle;\n",
       "    }\n",
       "\n",
       "    .dataframe tbody tr th {\n",
       "        vertical-align: top;\n",
       "    }\n",
       "\n",
       "    .dataframe thead th {\n",
       "        text-align: right;\n",
       "    }\n",
       "</style>\n",
       "<table border=\"1\" class=\"dataframe\">\n",
       "  <thead>\n",
       "    <tr style=\"text-align: right;\">\n",
       "      <th></th>\n",
       "      <th>ID</th>\n",
       "      <th>Soloist_Rank</th>\n",
       "      <th>Soloist_Name</th>\n",
       "      <th>Soloist_Instrument</th>\n",
       "    </tr>\n",
       "  </thead>\n",
       "  <tbody>\n",
       "    <tr>\n",
       "      <th>0</th>\n",
       "      <td>921</td>\n",
       "      <td>2</td>\n",
       "      <td>Ward-Bergeman, Michael</td>\n",
       "      <td>Accordion</td>\n",
       "    </tr>\n",
       "    <tr>\n",
       "      <th>1</th>\n",
       "      <td>461</td>\n",
       "      <td>3</td>\n",
       "      <td>Jennings, John</td>\n",
       "      <td>Accoustic Bass</td>\n",
       "    </tr>\n",
       "    <tr>\n",
       "      <th>2</th>\n",
       "      <td>479</td>\n",
       "      <td>3</td>\n",
       "      <td>Jennings, John</td>\n",
       "      <td>Accoustic Bass</td>\n",
       "    </tr>\n",
       "    <tr>\n",
       "      <th>3</th>\n",
       "      <td>496</td>\n",
       "      <td>3</td>\n",
       "      <td>Jennings, John</td>\n",
       "      <td>Accoustic Bass</td>\n",
       "    </tr>\n",
       "    <tr>\n",
       "      <th>4</th>\n",
       "      <td>517</td>\n",
       "      <td>3</td>\n",
       "      <td>Jennings, John</td>\n",
       "      <td>Accoustic Bass</td>\n",
       "    </tr>\n",
       "  </tbody>\n",
       "</table>\n",
       "</div>"
      ],
      "text/plain": [
       "    ID  Soloist_Rank            Soloist_Name Soloist_Instrument\n",
       "0  921             2  Ward-Bergeman, Michael          Accordion\n",
       "1  461             3          Jennings, John     Accoustic Bass\n",
       "2  479             3          Jennings, John     Accoustic Bass\n",
       "3  496             3          Jennings, John     Accoustic Bass\n",
       "4  517             3          Jennings, John     Accoustic Bass"
      ]
     },
     "execution_count": 5,
     "metadata": {},
     "output_type": "execute_result"
    }
   ],
   "source": [
    "# Load soloists.csv\n",
    "soloists = pd.read_csv('soloists.csv')\n",
    "soloists.head()"
   ]
  },
  {
   "cell_type": "markdown",
   "metadata": {},
   "source": [
    "### Question 2: Simple Analysis\n",
    "\n",
    "Use simple data analysis to answer the following questions. "
   ]
  },
  {
   "cell_type": "markdown",
   "metadata": {},
   "source": [
    "**a)** Generate and print a table showing many times have works been performed by each composer in the dataset?"
   ]
  },
  {
   "cell_type": "code",
   "execution_count": 7,
   "metadata": {},
   "outputs": [
    {
     "data": {
      "text/plain": [
       "Tchaikovsky, Pyotr Ilyich                    57\n",
       "Beethoven, Ludwig van                        46\n",
       "Mozart, Wolfgang Amadeus                     42\n",
       "Prokofiev, Sergei                            41\n",
       "Ravel, Maurice                               36\n",
       "Bernstein, Leonard                           36\n",
       "Strauss, Richard                             33\n",
       "Sibelius, Jean                               25\n",
       "Dvorak, AntonÌ_n                             24\n",
       "Stravinsky, Igor                             23\n",
       "Gershwin, George                             21\n",
       "Berlioz, Hector                              19\n",
       "Respighi, Ottorino                           19\n",
       "Brahms, Johannes                             18\n",
       "Anthem,                                      15\n",
       "Nielsen, Carl                                14\n",
       "Bartok [BartÌ_k], BÌ©la                      14\n",
       "Mahler, Gustav                               13\n",
       "Sousa, John Philip                           13\n",
       "Hamlisch, Marvin                             12\n",
       "Shostakovich, Dmitri                         11\n",
       "Lindberg, Magnus                             11\n",
       "Copland, Aaron                               11\n",
       "Barber, Samuel                               11\n",
       "Musorgsky, Modest                            11\n",
       "Saint-Saens [Saint-SaÌÇns], Camille          11\n",
       "Debussy, Claude                              11\n",
       "Salonen, Esa-Pekka                           11\n",
       "Rota, Nino                                   11\n",
       "Schubert, Franz                              10\n",
       "                                             ..\n",
       "Arlen, Harold                                 1\n",
       "Walton, William                               1\n",
       "Simons, Moises                                1\n",
       "Haggart, Bob                                  1\n",
       "Keillor/Dworsky/Stein, Garrison/Rich/Andy     1\n",
       "Jones, Jesse                                  1\n",
       "Ortolani, Riziero Riz\"\"                       1\n",
       "Coleman, Cy                                   1\n",
       "Igudesman & Joo, Aleksey & Huyng-ki           1\n",
       "LeFrak, Karen                                 1\n",
       "Bruch, Max                                    1\n",
       "Hanson, Graydon                               1\n",
       "Norman, Andrew                                1\n",
       "Brock, Timothy                                1\n",
       "Golijov, Osvaldo                              1\n",
       "Mercer, Johnny                                1\n",
       "Bloom, Rube                                   1\n",
       "Felsenfeld, Daniel                            1\n",
       "Schoenberg, Arnold                            1\n",
       "Lyadov, Anatoli                               1\n",
       "Schuman, William                              1\n",
       "Schumann, Robert                              1\n",
       "Speaks, Oley                                  1\n",
       "Adams, John                                   1\n",
       "Escaich, Thierry                              1\n",
       "Donatoni, Franco                              1\n",
       "Silvers, Dolores Vicki                        1\n",
       "Mingus, Charles                               1\n",
       "Norman, Monty                                 1\n",
       "Torch, Sidney                                 1\n",
       "Name: ComposerName, Length: 204, dtype: int64"
      ]
     },
     "execution_count": 7,
     "metadata": {},
     "output_type": "execute_result"
    }
   ],
   "source": [
    "works[\"ComposerName\"].value_counts()"
   ]
  },
  {
   "cell_type": "markdown",
   "metadata": {},
   "source": [
    "**b)** In how many different locations have there been concerts?"
   ]
  },
  {
   "cell_type": "code",
   "execution_count": 12,
   "metadata": {},
   "outputs": [
    {
     "data": {
      "text/plain": [
       "47"
      ]
     },
     "execution_count": 12,
     "metadata": {},
     "output_type": "execute_result"
    }
   ],
   "source": [
    "# Count the number of times each location has appeared in the concerts dataset, and print the number of locations\n",
    "len(set(concerts[\"Location\"]))\n"
   ]
  },
  {
   "cell_type": "markdown",
   "metadata": {},
   "source": [
    "**c)** How many times has there been a concert in Cologne in Germany?"
   ]
  },
  {
   "cell_type": "code",
   "execution_count": 16,
   "metadata": {
    "scrolled": true
   },
   "outputs": [
    {
     "data": {
      "text/plain": [
       "4"
      ]
     },
     "execution_count": 16,
     "metadata": {},
     "output_type": "execute_result"
    }
   ],
   "source": [
    "# Count the number of times each location has appeared in the concerts dataset, and print the number of times Cologne, GERMANY has appeared\n",
    "set(concerts[\"Location\"])\n",
    "len(concerts[concerts[\"Location\"]=='Cologne, GERMANY'])"
   ]
  },
  {
   "cell_type": "markdown",
   "metadata": {},
   "source": [
    "**d)** How many times has the Bassoon been a soloist instrument?"
   ]
  },
  {
   "cell_type": "code",
   "execution_count": 20,
   "metadata": {},
   "outputs": [
    {
     "data": {
      "text/html": [
       "<div>\n",
       "<style scoped>\n",
       "    .dataframe tbody tr th:only-of-type {\n",
       "        vertical-align: middle;\n",
       "    }\n",
       "\n",
       "    .dataframe tbody tr th {\n",
       "        vertical-align: top;\n",
       "    }\n",
       "\n",
       "    .dataframe thead th {\n",
       "        text-align: right;\n",
       "    }\n",
       "</style>\n",
       "<table border=\"1\" class=\"dataframe\">\n",
       "  <thead>\n",
       "    <tr style=\"text-align: right;\">\n",
       "      <th></th>\n",
       "      <th>ID</th>\n",
       "      <th>Soloist_Rank</th>\n",
       "      <th>Soloist_Name</th>\n",
       "      <th>Soloist_Instrument</th>\n",
       "    </tr>\n",
       "  </thead>\n",
       "  <tbody>\n",
       "    <tr>\n",
       "      <th>116</th>\n",
       "      <td>17</td>\n",
       "      <td>3</td>\n",
       "      <td>LeClair, Judith</td>\n",
       "      <td>Bassoon</td>\n",
       "    </tr>\n",
       "    <tr>\n",
       "      <th>117</th>\n",
       "      <td>18</td>\n",
       "      <td>2</td>\n",
       "      <td>Laskowski, Kim</td>\n",
       "      <td>Bassoon</td>\n",
       "    </tr>\n",
       "    <tr>\n",
       "      <th>118</th>\n",
       "      <td>19</td>\n",
       "      <td>2</td>\n",
       "      <td>Fast, Arlen</td>\n",
       "      <td>Bassoon</td>\n",
       "    </tr>\n",
       "    <tr>\n",
       "      <th>119</th>\n",
       "      <td>166</td>\n",
       "      <td>1</td>\n",
       "      <td>Laskowski, Kim</td>\n",
       "      <td>Bassoon</td>\n",
       "    </tr>\n",
       "    <tr>\n",
       "      <th>120</th>\n",
       "      <td>230</td>\n",
       "      <td>4</td>\n",
       "      <td>Foster, Brent</td>\n",
       "      <td>Bassoon</td>\n",
       "    </tr>\n",
       "    <tr>\n",
       "      <th>121</th>\n",
       "      <td>238</td>\n",
       "      <td>2</td>\n",
       "      <td>Fast, Arlen</td>\n",
       "      <td>Bassoon</td>\n",
       "    </tr>\n",
       "    <tr>\n",
       "      <th>122</th>\n",
       "      <td>250</td>\n",
       "      <td>4</td>\n",
       "      <td>Foster, Brent</td>\n",
       "      <td>Bassoon</td>\n",
       "    </tr>\n",
       "    <tr>\n",
       "      <th>123</th>\n",
       "      <td>280</td>\n",
       "      <td>2</td>\n",
       "      <td>Nye, Roger</td>\n",
       "      <td>Bassoon</td>\n",
       "    </tr>\n",
       "    <tr>\n",
       "      <th>124</th>\n",
       "      <td>285</td>\n",
       "      <td>2</td>\n",
       "      <td>Nye, Roger</td>\n",
       "      <td>Bassoon</td>\n",
       "    </tr>\n",
       "    <tr>\n",
       "      <th>125</th>\n",
       "      <td>291</td>\n",
       "      <td>2</td>\n",
       "      <td>Nye, Roger</td>\n",
       "      <td>Bassoon</td>\n",
       "    </tr>\n",
       "    <tr>\n",
       "      <th>126</th>\n",
       "      <td>309</td>\n",
       "      <td>1</td>\n",
       "      <td>Laskowski, Kim</td>\n",
       "      <td>Bassoon</td>\n",
       "    </tr>\n",
       "    <tr>\n",
       "      <th>127</th>\n",
       "      <td>314</td>\n",
       "      <td>2</td>\n",
       "      <td>LeClair, Judith</td>\n",
       "      <td>Bassoon</td>\n",
       "    </tr>\n",
       "    <tr>\n",
       "      <th>128</th>\n",
       "      <td>384</td>\n",
       "      <td>3</td>\n",
       "      <td>LeClair, Judith</td>\n",
       "      <td>Bassoon</td>\n",
       "    </tr>\n",
       "    <tr>\n",
       "      <th>129</th>\n",
       "      <td>393</td>\n",
       "      <td>3</td>\n",
       "      <td>LeClair, Judith</td>\n",
       "      <td>Bassoon</td>\n",
       "    </tr>\n",
       "    <tr>\n",
       "      <th>130</th>\n",
       "      <td>429</td>\n",
       "      <td>1</td>\n",
       "      <td>Laskowski, Kim</td>\n",
       "      <td>Bassoon</td>\n",
       "    </tr>\n",
       "    <tr>\n",
       "      <th>131</th>\n",
       "      <td>434</td>\n",
       "      <td>1</td>\n",
       "      <td>Laskowski, Kim</td>\n",
       "      <td>Bassoon</td>\n",
       "    </tr>\n",
       "    <tr>\n",
       "      <th>132</th>\n",
       "      <td>441</td>\n",
       "      <td>1</td>\n",
       "      <td>Laskowski, Kim</td>\n",
       "      <td>Bassoon</td>\n",
       "    </tr>\n",
       "    <tr>\n",
       "      <th>133</th>\n",
       "      <td>441</td>\n",
       "      <td>2</td>\n",
       "      <td>Laskowski, Kim</td>\n",
       "      <td>Bassoon</td>\n",
       "    </tr>\n",
       "    <tr>\n",
       "      <th>134</th>\n",
       "      <td>448</td>\n",
       "      <td>1</td>\n",
       "      <td>Laskowski, Kim</td>\n",
       "      <td>Bassoon</td>\n",
       "    </tr>\n",
       "    <tr>\n",
       "      <th>135</th>\n",
       "      <td>484</td>\n",
       "      <td>4</td>\n",
       "      <td>LeClair, Judith</td>\n",
       "      <td>Bassoon</td>\n",
       "    </tr>\n",
       "    <tr>\n",
       "      <th>136</th>\n",
       "      <td>531</td>\n",
       "      <td>2</td>\n",
       "      <td>Laskowski, Kim</td>\n",
       "      <td>Bassoon</td>\n",
       "    </tr>\n",
       "    <tr>\n",
       "      <th>137</th>\n",
       "      <td>535</td>\n",
       "      <td>2</td>\n",
       "      <td>Laskowski, Kim</td>\n",
       "      <td>Bassoon</td>\n",
       "    </tr>\n",
       "    <tr>\n",
       "      <th>138</th>\n",
       "      <td>538</td>\n",
       "      <td>2</td>\n",
       "      <td>Laskowski, Kim</td>\n",
       "      <td>Bassoon</td>\n",
       "    </tr>\n",
       "    <tr>\n",
       "      <th>139</th>\n",
       "      <td>559</td>\n",
       "      <td>4</td>\n",
       "      <td>LeClair, Judith</td>\n",
       "      <td>Bassoon</td>\n",
       "    </tr>\n",
       "    <tr>\n",
       "      <th>140</th>\n",
       "      <td>560</td>\n",
       "      <td>4</td>\n",
       "      <td>Laskowski, Kim</td>\n",
       "      <td>Bassoon</td>\n",
       "    </tr>\n",
       "    <tr>\n",
       "      <th>141</th>\n",
       "      <td>561</td>\n",
       "      <td>4</td>\n",
       "      <td>Nye, Roger</td>\n",
       "      <td>Bassoon</td>\n",
       "    </tr>\n",
       "    <tr>\n",
       "      <th>142</th>\n",
       "      <td>563</td>\n",
       "      <td>4</td>\n",
       "      <td>LeClair, Judith</td>\n",
       "      <td>Bassoon</td>\n",
       "    </tr>\n",
       "    <tr>\n",
       "      <th>143</th>\n",
       "      <td>570</td>\n",
       "      <td>1</td>\n",
       "      <td>LeClair, Judith</td>\n",
       "      <td>Bassoon</td>\n",
       "    </tr>\n",
       "    <tr>\n",
       "      <th>144</th>\n",
       "      <td>571</td>\n",
       "      <td>4</td>\n",
       "      <td>LeClair, Judith</td>\n",
       "      <td>Bassoon</td>\n",
       "    </tr>\n",
       "    <tr>\n",
       "      <th>145</th>\n",
       "      <td>573</td>\n",
       "      <td>4</td>\n",
       "      <td>Nye, Roger</td>\n",
       "      <td>Bassoon</td>\n",
       "    </tr>\n",
       "    <tr>\n",
       "      <th>146</th>\n",
       "      <td>575</td>\n",
       "      <td>4</td>\n",
       "      <td>LeClair, Judith</td>\n",
       "      <td>Bassoon</td>\n",
       "    </tr>\n",
       "    <tr>\n",
       "      <th>147</th>\n",
       "      <td>577</td>\n",
       "      <td>4</td>\n",
       "      <td>Nye, Roger</td>\n",
       "      <td>Bassoon</td>\n",
       "    </tr>\n",
       "    <tr>\n",
       "      <th>148</th>\n",
       "      <td>579</td>\n",
       "      <td>4</td>\n",
       "      <td>LeClair, Judith</td>\n",
       "      <td>Bassoon</td>\n",
       "    </tr>\n",
       "    <tr>\n",
       "      <th>149</th>\n",
       "      <td>580</td>\n",
       "      <td>4</td>\n",
       "      <td>Laskowski, Kim</td>\n",
       "      <td>Bassoon</td>\n",
       "    </tr>\n",
       "    <tr>\n",
       "      <th>150</th>\n",
       "      <td>581</td>\n",
       "      <td>4</td>\n",
       "      <td>Nye, Roger</td>\n",
       "      <td>Bassoon</td>\n",
       "    </tr>\n",
       "    <tr>\n",
       "      <th>151</th>\n",
       "      <td>583</td>\n",
       "      <td>4</td>\n",
       "      <td>LeClair, Judith</td>\n",
       "      <td>Bassoon</td>\n",
       "    </tr>\n",
       "    <tr>\n",
       "      <th>152</th>\n",
       "      <td>584</td>\n",
       "      <td>4</td>\n",
       "      <td>Laskowski, Kim</td>\n",
       "      <td>Bassoon</td>\n",
       "    </tr>\n",
       "    <tr>\n",
       "      <th>153</th>\n",
       "      <td>585</td>\n",
       "      <td>4</td>\n",
       "      <td>Nye, Roger</td>\n",
       "      <td>Bassoon</td>\n",
       "    </tr>\n",
       "    <tr>\n",
       "      <th>154</th>\n",
       "      <td>587</td>\n",
       "      <td>4</td>\n",
       "      <td>LeClair, Judith</td>\n",
       "      <td>Bassoon</td>\n",
       "    </tr>\n",
       "    <tr>\n",
       "      <th>155</th>\n",
       "      <td>589</td>\n",
       "      <td>4</td>\n",
       "      <td>Nye, Roger</td>\n",
       "      <td>Bassoon</td>\n",
       "    </tr>\n",
       "    <tr>\n",
       "      <th>156</th>\n",
       "      <td>591</td>\n",
       "      <td>4</td>\n",
       "      <td>LeClair, Judith</td>\n",
       "      <td>Bassoon</td>\n",
       "    </tr>\n",
       "    <tr>\n",
       "      <th>157</th>\n",
       "      <td>762</td>\n",
       "      <td>4</td>\n",
       "      <td>Laskowski, Kim</td>\n",
       "      <td>Bassoon</td>\n",
       "    </tr>\n",
       "    <tr>\n",
       "      <th>158</th>\n",
       "      <td>767</td>\n",
       "      <td>4</td>\n",
       "      <td>Laskowski, Kim</td>\n",
       "      <td>Bassoon</td>\n",
       "    </tr>\n",
       "    <tr>\n",
       "      <th>159</th>\n",
       "      <td>771</td>\n",
       "      <td>4</td>\n",
       "      <td>Laskowski, Kim</td>\n",
       "      <td>Bassoon</td>\n",
       "    </tr>\n",
       "    <tr>\n",
       "      <th>160</th>\n",
       "      <td>867</td>\n",
       "      <td>2</td>\n",
       "      <td>Nye, Roger</td>\n",
       "      <td>Bassoon</td>\n",
       "    </tr>\n",
       "    <tr>\n",
       "      <th>161</th>\n",
       "      <td>871</td>\n",
       "      <td>2</td>\n",
       "      <td>Nye, Roger</td>\n",
       "      <td>Bassoon</td>\n",
       "    </tr>\n",
       "    <tr>\n",
       "      <th>162</th>\n",
       "      <td>893</td>\n",
       "      <td>1</td>\n",
       "      <td>Nye, Roger</td>\n",
       "      <td>Bassoon</td>\n",
       "    </tr>\n",
       "    <tr>\n",
       "      <th>163</th>\n",
       "      <td>900</td>\n",
       "      <td>2</td>\n",
       "      <td>Nye, Roger</td>\n",
       "      <td>Bassoon</td>\n",
       "    </tr>\n",
       "    <tr>\n",
       "      <th>164</th>\n",
       "      <td>912</td>\n",
       "      <td>1</td>\n",
       "      <td>Laskowski, Kim</td>\n",
       "      <td>Bassoon</td>\n",
       "    </tr>\n",
       "    <tr>\n",
       "      <th>165</th>\n",
       "      <td>966</td>\n",
       "      <td>2</td>\n",
       "      <td>Laskowski, Kim</td>\n",
       "      <td>Bassoon</td>\n",
       "    </tr>\n",
       "    <tr>\n",
       "      <th>166</th>\n",
       "      <td>975</td>\n",
       "      <td>4</td>\n",
       "      <td>Laskowski, Kim</td>\n",
       "      <td>Bassoon</td>\n",
       "    </tr>\n",
       "    <tr>\n",
       "      <th>167</th>\n",
       "      <td>994</td>\n",
       "      <td>2</td>\n",
       "      <td>Laskowski, Kim</td>\n",
       "      <td>Bassoon</td>\n",
       "    </tr>\n",
       "    <tr>\n",
       "      <th>168</th>\n",
       "      <td>999</td>\n",
       "      <td>2</td>\n",
       "      <td>Laskowski, Kim</td>\n",
       "      <td>Bassoon</td>\n",
       "    </tr>\n",
       "    <tr>\n",
       "      <th>169</th>\n",
       "      <td>1006</td>\n",
       "      <td>1</td>\n",
       "      <td>LeClair, Judith</td>\n",
       "      <td>Bassoon</td>\n",
       "    </tr>\n",
       "  </tbody>\n",
       "</table>\n",
       "</div>"
      ],
      "text/plain": [
       "       ID  Soloist_Rank     Soloist_Name Soloist_Instrument\n",
       "116    17             3  LeClair, Judith            Bassoon\n",
       "117    18             2   Laskowski, Kim            Bassoon\n",
       "118    19             2      Fast, Arlen            Bassoon\n",
       "119   166             1   Laskowski, Kim            Bassoon\n",
       "120   230             4    Foster, Brent            Bassoon\n",
       "121   238             2      Fast, Arlen            Bassoon\n",
       "122   250             4    Foster, Brent            Bassoon\n",
       "123   280             2       Nye, Roger            Bassoon\n",
       "124   285             2       Nye, Roger            Bassoon\n",
       "125   291             2       Nye, Roger            Bassoon\n",
       "126   309             1   Laskowski, Kim            Bassoon\n",
       "127   314             2  LeClair, Judith            Bassoon\n",
       "128   384             3  LeClair, Judith            Bassoon\n",
       "129   393             3  LeClair, Judith            Bassoon\n",
       "130   429             1   Laskowski, Kim            Bassoon\n",
       "131   434             1   Laskowski, Kim            Bassoon\n",
       "132   441             1   Laskowski, Kim            Bassoon\n",
       "133   441             2   Laskowski, Kim            Bassoon\n",
       "134   448             1   Laskowski, Kim            Bassoon\n",
       "135   484             4  LeClair, Judith            Bassoon\n",
       "136   531             2   Laskowski, Kim            Bassoon\n",
       "137   535             2   Laskowski, Kim            Bassoon\n",
       "138   538             2   Laskowski, Kim            Bassoon\n",
       "139   559             4  LeClair, Judith            Bassoon\n",
       "140   560             4   Laskowski, Kim            Bassoon\n",
       "141   561             4       Nye, Roger            Bassoon\n",
       "142   563             4  LeClair, Judith            Bassoon\n",
       "143   570             1  LeClair, Judith            Bassoon\n",
       "144   571             4  LeClair, Judith            Bassoon\n",
       "145   573             4       Nye, Roger            Bassoon\n",
       "146   575             4  LeClair, Judith            Bassoon\n",
       "147   577             4       Nye, Roger            Bassoon\n",
       "148   579             4  LeClair, Judith            Bassoon\n",
       "149   580             4   Laskowski, Kim            Bassoon\n",
       "150   581             4       Nye, Roger            Bassoon\n",
       "151   583             4  LeClair, Judith            Bassoon\n",
       "152   584             4   Laskowski, Kim            Bassoon\n",
       "153   585             4       Nye, Roger            Bassoon\n",
       "154   587             4  LeClair, Judith            Bassoon\n",
       "155   589             4       Nye, Roger            Bassoon\n",
       "156   591             4  LeClair, Judith            Bassoon\n",
       "157   762             4   Laskowski, Kim            Bassoon\n",
       "158   767             4   Laskowski, Kim            Bassoon\n",
       "159   771             4   Laskowski, Kim            Bassoon\n",
       "160   867             2       Nye, Roger            Bassoon\n",
       "161   871             2       Nye, Roger            Bassoon\n",
       "162   893             1       Nye, Roger            Bassoon\n",
       "163   900             2       Nye, Roger            Bassoon\n",
       "164   912             1   Laskowski, Kim            Bassoon\n",
       "165   966             2   Laskowski, Kim            Bassoon\n",
       "166   975             4   Laskowski, Kim            Bassoon\n",
       "167   994             2   Laskowski, Kim            Bassoon\n",
       "168   999             2   Laskowski, Kim            Bassoon\n",
       "169  1006             1  LeClair, Judith            Bassoon"
      ]
     },
     "execution_count": 20,
     "metadata": {},
     "output_type": "execute_result"
    }
   ],
   "source": [
    "# Count the number of times each instrument has appeared in the soloists dataset, and print the number of times Bassoon appeared\n",
    "set(soloists[\"Soloist_Instrument\"])\n",
    "soloists[soloists[\"Soloist_Instrument\"]=='Bassoon']"
   ]
  },
  {
   "cell_type": "markdown",
   "metadata": {},
   "source": [
    "**e)** What is the most popular soloist instrument?"
   ]
  },
  {
   "cell_type": "code",
   "execution_count": 22,
   "metadata": {
    "scrolled": true
   },
   "outputs": [
    {
     "data": {
      "text/plain": [
       "Violin                   456\n",
       "Piano                    372\n",
       "Cello                    237\n",
       "Trumpet                  213\n",
       "Viola                    169\n",
       "Vocalist                 168\n",
       "French Horn              147\n",
       "Singer                   108\n",
       "Percussion               106\n",
       "Trombone                 104\n",
       "Contrabass                96\n",
       "Soprano                   74\n",
       "Clarinet                  62\n",
       "Flute                     59\n",
       "Tuba                      56\n",
       "Bassoon                   54\n",
       "Chorus                    54\n",
       "Tenor                     43\n",
       "Ensemble                  37\n",
       "Oboe                      35\n",
       "Jazz Trio                 35\n",
       "Mezzo-Soprano             34\n",
       "Guitar                    31\n",
       "Band                      30\n",
       "Brass Quintet             28\n",
       "Drum Set                  21\n",
       "Orchestra                 20\n",
       "Baritone                  18\n",
       "Narrator                  17\n",
       "Jazz Bass                 16\n",
       "                        ... \n",
       "Producer                   1\n",
       "Trap Set                   1\n",
       "Contralto                  1\n",
       "Marimba                    1\n",
       "Dizi [Bamboo flute]        1\n",
       "Sheng                      1\n",
       "Accordion                  1\n",
       "Guitar Quartet             1\n",
       "Electronics                1\n",
       "Scenic Design              1\n",
       "Director and Producer      1\n",
       "Boy Soprano                1\n",
       "Chamber Orchestra          1\n",
       "Guest Speaker              1\n",
       "Actor                      1\n",
       "Electric Bass              1\n",
       "Guest Orchestra            1\n",
       "Lighting Designer          1\n",
       "Director and Designer      1\n",
       "Virginal                   1\n",
       "Ensemble, Featured         1\n",
       "Illustrator                1\n",
       "Amplified Violin           1\n",
       "Flamenco Dancer            1\n",
       "Hyper-Accordion            1\n",
       "Ghijak                     1\n",
       "Production Supervisor      1\n",
       "Flute/Alto Flute           1\n",
       "Flamenco Guitar            1\n",
       "Boys Choir                 1\n",
       "Name: Soloist_Instrument, Length: 112, dtype: int64"
      ]
     },
     "metadata": {},
     "output_type": "display_data"
    },
    {
     "name": "stdout",
     "output_type": "stream",
     "text": [
      "Most popular solist instrument: Violin\n"
     ]
    }
   ],
   "source": [
    "# Count the number of times each instrument has appeared in the soloists dataset, and print the most popular instrument\n",
    "soloists_instrument_count = soloists[\"Soloist_Instrument\"].value_counts()\n",
    "display(soloists_instrument_count)\n",
    "print(\"Most popular solist instrument: \" + soloists_instrument_count.keys()[0])"
   ]
  },
  {
   "cell_type": "markdown",
   "metadata": {},
   "source": [
    "**f)** Who are the three most popular conductors?\n",
    "\n",
    "**Bonus:** Print conductors names as first name followed by last name."
   ]
  },
  {
   "cell_type": "code",
   "execution_count": null,
   "metadata": {},
   "outputs": [],
   "source": [
    "# Count the number of times each composer has appeared in the works dataset\n",
    "concert_conductor_counts = works[\"ConductorName\"].value_counts()\n",
    "\n",
    "# Iterate through the top three composers\n",
    "print(\"Top three conductors: \")\n",
    "for i in range(0, 3):\n",
    "    # Isolate the parts of the composers name and rearrange it\n",
    "    conductor = concert_conductor_counts.keys()[i]\n",
    "    conductorLast = conductor.split(\",\")[0]\n",
    "    conductorFirst = conductor.split(\",\")[1]\n",
    "    print(conductorFirst, conductorLast)\n"
   ]
  },
  {
   "cell_type": "markdown",
   "metadata": {
    "collapsed": true
   },
   "source": [
    "### Question 3: Deeper Analysis\n",
    "\n",
    "Use slightly more advanced data analysis to answer the following questions."
   ]
  },
  {
   "cell_type": "markdown",
   "metadata": {},
   "source": [
    "**a)** Draw an appropriate data visualsiation that shows the number of concerts played in each location outside of Manahattan in New York?"
   ]
  },
  {
   "cell_type": "code",
   "execution_count": 23,
   "metadata": {},
   "outputs": [
    {
     "data": {
      "text/plain": [
       "<matplotlib.axes._subplots.AxesSubplot at 0x10ed0dcc0>"
      ]
     },
     "execution_count": 23,
     "metadata": {},
     "output_type": "execute_result"
    },
    {
     "data": {
      "image/png": "[encoded data removed]",
      "text/plain": [
       "<matplotlib.figure.Figure at 0x10ed0d6a0>"
      ]
     },
     "metadata": {},
     "output_type": "display_data"
    }
   ],
   "source": [
    "# Make a  histogram of durations\n",
    "foreign_concerts = concerts[concerts[\"Location\"] != \"Manhattan, NY\"]\n",
    "concert_loc_counts = foreign_concerts[\"Location\"].value_counts()\n",
    "concert_loc_counts.plot(kind = \"barh\", figsize = (10,20))"
   ]
  },
  {
   "cell_type": "markdown",
   "metadata": {},
   "source": [
    "**b)** How many times has there been a concert anywhere in Germany?\n",
    "\n",
    "**Hint:** Experiment with the *str.contains* method from *pandas.Series*."
   ]
  },
  {
   "cell_type": "code",
   "execution_count": null,
   "metadata": {},
   "outputs": [],
   "source": [
    "german_concerts = concerts[concerts[\"Location\"].str.contains(\"GERMANY\")]\n",
    "print(\"Number of concerts in Germany:\", len(german_concerts))"
   ]
  },
  {
   "cell_type": "markdown",
   "metadata": {},
   "source": [
    "**c)** What is the average duration of a concert (in minutes)?"
   ]
  },
  {
   "cell_type": "code",
   "execution_count": null,
   "metadata": {},
   "outputs": [],
   "source": [
    "# Calculate the difference between the start and end times\n",
    "print(\"Average concert duration \" + str(concerts[\"Duration\"].mean()) + \" minutes\")"
   ]
  },
  {
   "cell_type": "markdown",
   "metadata": {},
   "source": [
    "**d)** Draw an appropriate data visualisation to show the distribution of concert durations."
   ]
  },
  {
   "cell_type": "code",
   "execution_count": null,
   "metadata": {
    "scrolled": true
   },
   "outputs": [],
   "source": [
    "# Make a  histogram of durations\n",
    "concerts[\"Duration\"].plot(kind=\"hist\", bins=50, title = \"Concert Durations\")\n",
    "plt.xlabel(\"Duration (minutes)\")"
   ]
  },
  {
   "cell_type": "markdown",
   "metadata": {},
   "source": [
    "**e)** Are performances of works by Tchaikovsky of longer duration, on average, than performances of works by Beethoven? \n",
    "\n",
    "**Bonus:** Can you plot a data visualisation to support this conclusion?"
   ]
  },
  {
   "cell_type": "code",
   "execution_count": 24,
   "metadata": {},
   "outputs": [
    {
     "data": {
      "text/html": [
       "<div>\n",
       "<style scoped>\n",
       "    .dataframe tbody tr th:only-of-type {\n",
       "        vertical-align: middle;\n",
       "    }\n",
       "\n",
       "    .dataframe tbody tr th {\n",
       "        vertical-align: top;\n",
       "    }\n",
       "\n",
       "    .dataframe thead th {\n",
       "        text-align: right;\n",
       "    }\n",
       "</style>\n",
       "<table border=\"1\" class=\"dataframe\">\n",
       "  <thead>\n",
       "    <tr style=\"text-align: right;\">\n",
       "      <th></th>\n",
       "      <th>ID</th>\n",
       "      <th>Event_Type</th>\n",
       "      <th>Location</th>\n",
       "      <th>Venue</th>\n",
       "      <th>Date</th>\n",
       "      <th>Start_Time</th>\n",
       "      <th>End_Time</th>\n",
       "      <th>Duration</th>\n",
       "      <th>Orchestra</th>\n",
       "      <th>ComposerName</th>\n",
       "      <th>ConductorName</th>\n",
       "    </tr>\n",
       "  </thead>\n",
       "  <tbody>\n",
       "    <tr>\n",
       "      <th>0</th>\n",
       "      <td>356</td>\n",
       "      <td>Very Young People's Concert</td>\n",
       "      <td>Manhattan, NY</td>\n",
       "      <td>Merkin Concert Hall</td>\n",
       "      <td>18/03/13</td>\n",
       "      <td>22:30</td>\n",
       "      <td>23:19</td>\n",
       "      <td>49</td>\n",
       "      <td>New York Philharmonic</td>\n",
       "      <td>Grafe, Max</td>\n",
       "      <td>Gilbert, Alan</td>\n",
       "    </tr>\n",
       "    <tr>\n",
       "      <th>1</th>\n",
       "      <td>626</td>\n",
       "      <td>NY Phil Biennial</td>\n",
       "      <td>Manhattan, NY</td>\n",
       "      <td>Museum of Modern Art, The</td>\n",
       "      <td>29/05/14</td>\n",
       "      <td>22:00</td>\n",
       "      <td>23:50</td>\n",
       "      <td>110</td>\n",
       "      <td>New York Philharmonic</td>\n",
       "      <td>Tchaikovsky, Pyotr Ilyich</td>\n",
       "      <td>Gilbert, Alan</td>\n",
       "    </tr>\n",
       "    <tr>\n",
       "      <th>2</th>\n",
       "      <td>641</td>\n",
       "      <td>NY Phil Biennial</td>\n",
       "      <td>Manhattan, NY</td>\n",
       "      <td>The Stanley H. Kaplan Penthouse</td>\n",
       "      <td>04/06/14</td>\n",
       "      <td>21:30</td>\n",
       "      <td>22:31</td>\n",
       "      <td>61</td>\n",
       "      <td>New York Philharmonic</td>\n",
       "      <td>Tchaikovsky, Pyotr Ilyich</td>\n",
       "      <td>Gilbert, Alan</td>\n",
       "    </tr>\n",
       "    <tr>\n",
       "      <th>3</th>\n",
       "      <td>627</td>\n",
       "      <td>NY Phil Biennial</td>\n",
       "      <td>Manhattan, NY</td>\n",
       "      <td>Museum of Modern Art, The</td>\n",
       "      <td>31/05/14</td>\n",
       "      <td>22:00</td>\n",
       "      <td>23:10</td>\n",
       "      <td>70</td>\n",
       "      <td>NY Philharmonic Ensembles</td>\n",
       "      <td>Tchaikovsky, Pyotr Ilyich</td>\n",
       "      <td>Gilbert, Alan</td>\n",
       "    </tr>\n",
       "    <tr>\n",
       "      <th>4</th>\n",
       "      <td>451</td>\n",
       "      <td>Tour - Chamber</td>\n",
       "      <td>Sao Paulo, BRAZIL</td>\n",
       "      <td>Teatro Cultura Artistica</td>\n",
       "      <td>05/09/13</td>\n",
       "      <td>21:10</td>\n",
       "      <td>23:27</td>\n",
       "      <td>137</td>\n",
       "      <td>New York Philharmonic</td>\n",
       "      <td>Strauss, Richard</td>\n",
       "      <td>Gilbert, Alan</td>\n",
       "    </tr>\n",
       "  </tbody>\n",
       "</table>\n",
       "</div>"
      ],
      "text/plain": [
       "    ID                   Event_Type           Location  \\\n",
       "0  356  Very Young People's Concert      Manhattan, NY   \n",
       "1  626             NY Phil Biennial      Manhattan, NY   \n",
       "2  641             NY Phil Biennial      Manhattan, NY   \n",
       "3  627             NY Phil Biennial      Manhattan, NY   \n",
       "4  451               Tour - Chamber  Sao Paulo, BRAZIL   \n",
       "\n",
       "                             Venue      Date Start_Time End_Time  Duration  \\\n",
       "0              Merkin Concert Hall  18/03/13      22:30    23:19        49   \n",
       "1        Museum of Modern Art, The  29/05/14      22:00    23:50       110   \n",
       "2  The Stanley H. Kaplan Penthouse  04/06/14      21:30    22:31        61   \n",
       "3        Museum of Modern Art, The  31/05/14      22:00    23:10        70   \n",
       "4         Teatro Cultura Artistica  05/09/13      21:10    23:27       137   \n",
       "\n",
       "                   Orchestra               ComposerName  ConductorName  \n",
       "0      New York Philharmonic                 Grafe, Max  Gilbert, Alan  \n",
       "1      New York Philharmonic  Tchaikovsky, Pyotr Ilyich  Gilbert, Alan  \n",
       "2      New York Philharmonic  Tchaikovsky, Pyotr Ilyich  Gilbert, Alan  \n",
       "3  NY Philharmonic Ensembles  Tchaikovsky, Pyotr Ilyich  Gilbert, Alan  \n",
       "4      New York Philharmonic           Strauss, Richard  Gilbert, Alan  "
      ]
     },
     "execution_count": 24,
     "metadata": {},
     "output_type": "execute_result"
    }
   ],
   "source": [
    "import pandas as pd\n",
    "\n",
    "# Join the works and concerts tables\n",
    "concerts_with_works = pd.merge(concerts, works, on=\"ID\", how = 'outer')\n",
    "concerts_with_works.head()"
   ]
  },
  {
   "cell_type": "code",
   "execution_count": 26,
   "metadata": {},
   "outputs": [
    {
     "name": "stdout",
     "output_type": "stream",
     "text": [
      "Tchaikovsky average duration:  166.3684210526316\n"
     ]
    }
   ],
   "source": [
    "# Extract concerts by Tchaikovsky and calculate their mean duration\n",
    "concerts_with_works_tchaikovsky = concerts_with_works[concerts_with_works[\"ComposerName\"] == \"Tchaikovsky, Pyotr Ilyich\"]\n",
    "print(\"Tchaikovsky average duration: \", concerts_with_works_tchaikovsky[\"Duration\"].mean())\n"
   ]
  },
  {
   "cell_type": "code",
   "execution_count": 27,
   "metadata": {},
   "outputs": [
    {
     "name": "stdout",
     "output_type": "stream",
     "text": [
      "Beethoven average duration:  172.8695652173913\n"
     ]
    }
   ],
   "source": [
    "# Extract concerts by Beethoven and calculate their mean duration\n",
    "concerts_with_works_beethoven = concerts_with_works[concerts_with_works[\"ComposerName\"] == \"Beethoven, Ludwig van\"]\n",
    "print(\"Beethoven average duration: \", concerts_with_works_beethoven[\"Duration\"].mean())"
   ]
  },
  {
   "cell_type": "code",
   "execution_count": 28,
   "metadata": {},
   "outputs": [
    {
     "data": {
      "image/png": "[encoded data removed]",
      "text/plain": [
       "<matplotlib.figure.Figure at 0x11518fe80>"
      ]
     },
     "metadata": {},
     "output_type": "display_data"
    },
    {
     "data": {
      "image/png": "[encoded data removed]",
      "text/plain": [
       "<matplotlib.figure.Figure at 0x114e41320>"
      ]
     },
     "metadata": {},
     "output_type": "display_data"
    },
    {
     "name": "stdout",
     "output_type": "stream",
     "text": [
      "T-test p value:  0.41220547125874807\n"
     ]
    }
   ],
   "source": [
    "# Draw histrograms of Tchaikovsky and Beethoven performance durations\n",
    "concerts_with_works_tchaikovsky[\"Duration\"].plot(kind=\"hist\", xlim = (0, 300), ylim = (0, 15), title=\"Tchaikovsky Performance Durations\")\n",
    "plt.xlabel(\"Duration (minutes)\")\n",
    "plt.show()\n",
    "concerts_with_works_beethoven[\"Duration\"].plot(kind=\"hist\", xlim = (0, 300), ylim = (0, 15), title=\"Beethoven Performance Durations\")\n",
    "plt.xlabel(\"Duration (minutes)\")\n",
    "plt.show()\n",
    "\n",
    "# Perform a t-test\n",
    "import scipy.stats\n",
    "t, p = scipy.stats.ttest_ind(concerts_with_works_tchaikovsky[\"Duration\"], concerts_with_works_beethoven[\"Duration\"], equal_var=False)\n",
    "print(\"T-test p value: \", p)"
   ]
  },
  {
   "cell_type": "markdown",
   "metadata": {},
   "source": [
    "**f)** What is the most popular first soloist instrument when works by George Gershwin are performed?"
   ]
  },
  {
   "cell_type": "code",
   "execution_count": 29,
   "metadata": {},
   "outputs": [
    {
     "name": "stdout",
     "output_type": "stream",
     "text": [
      "Most popular 1st soloist instrument for Gershwin: Trombone\n"
     ]
    }
   ],
   "source": [
    "# Join the soloists and concerts tables\n",
    "concerts_with_soloists = pd.merge(concerts, soloists, on=\"ID\", how = 'outer')\n",
    "concerts_with_soloists.head()\n",
    "\n",
    "concerts_with_soloists_and_works = pd.merge(concerts_with_soloists, works, on=\"ID\", how = 'outer')\n",
    "concerts_with_soloists_and_works.head(15)\n",
    "\n",
    "counts = concerts_with_soloists_and_works.loc[(concerts_with_soloists_and_works[\"ComposerName\"] == \"Gershwin, George\") & (concerts_with_soloists_and_works[\"Soloist_Rank\"] == 1), \"Soloist_Instrument\"].value_counts()\n",
    "print(\"Most popular 1st soloist instrument for Gershwin:\", counts.keys()[0])\n"
   ]
  },
  {
   "cell_type": "markdown",
   "metadata": {
    "collapsed": true
   },
   "source": [
    "**g)** Which soloist has played for the longest total duration?"
   ]
  },
  {
   "cell_type": "code",
   "execution_count": 31,
   "metadata": {},
   "outputs": [
    {
     "data": {
      "text/plain": [
       "Soloist_Name\n",
       "Staples, Sheryl    10001\n",
       "Alessi, Joseph      9230\n",
       "Wall, Howard        8817\n",
       "Baer, Alan          8674\n",
       "Bensdorf, Ethan     7964\n",
       "Name: Duration, dtype: int64"
      ]
     },
     "metadata": {},
     "output_type": "display_data"
    },
    {
     "name": "stdout",
     "output_type": "stream",
     "text": [
      "Most prolific soloist: Staples, Sheryl\n"
     ]
    }
   ],
   "source": [
    "# Join the soloists and concerts tables\n",
    "concerts_with_soloists = pd.merge(concerts, soloists, on=\"ID\", how = 'outer')\n",
    "concerts_with_soloists.head()\n",
    "\n",
    "# Group the data frame by soloist name\n",
    "concerts_with_soloists_grp = concerts_with_soloists.groupby(\"Soloist_Name\")\n",
    "# Aggregate performances by soloists (sum durations)\n",
    "concerts_with_soloists_grp = concerts_with_soloists_grp[\"Duration\"].sum()\n",
    "# Sort aggreegated data frame in descending order\n",
    "concerts_with_soloists_grp.sort_values(ascending=False, inplace = True)\n",
    "# Print the top of the data frame\n",
    "display(concerts_with_soloists_grp.head())\n",
    "# Print the name of the most prolific soloist\n",
    "print(\"Most prolific soloist: \" + concerts_with_soloists_grp.index[0])"
   ]
  },
  {
   "cell_type": "code",
   "execution_count": null,
   "metadata": {},
   "outputs": [],
   "source": []
  }
 ],
 "metadata": {
  "kernelspec": {
   "display_name": "Python 3",
   "language": "python",
   "name": "python3"
  },
  "language_info": {
   "codemirror_mode": {
    "name": "ipython",
    "version": 3
   },
   "file_extension": ".py",
   "mimetype": "text/x-python",
   "name": "python",
   "nbconvert_exporter": "python",
   "pygments_lexer": "ipython3",
   "version": "3.6.4"
  }
 },
 "nbformat": 4,
 "nbformat_minor": 1
}
