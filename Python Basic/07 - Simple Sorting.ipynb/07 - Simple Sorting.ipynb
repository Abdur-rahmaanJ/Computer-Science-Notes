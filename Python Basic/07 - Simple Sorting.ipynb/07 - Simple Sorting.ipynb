{
 "cells": [
  {
   "cell_type": "markdown",
   "metadata": {},
   "source": [
    "# Sorting"
   ]
  },
  {
   "cell_type": "markdown",
   "metadata": {},
   "source": [
    "Sorting a list of values as efficiantly as possible is one of the classic problems in computer science. There are a range of well known algortihms for doing this - for example, *insertion sort*, *bubble sort*, and *quick sort*. Fast, efficient sorting is key to many other computer sceince algorithms.\n",
    "\n",
    "The website [www.sorting-algorithms.com](http://www.sorting-algorithms.com/) gives a very nice overview of how different sorting algorithms work, and animations that show them in action. \n",
    "\n",
    "![alt text](SortingScreenshot.png)\n"
   ]
  },
  {
   "cell_type": "markdown",
   "metadata": {},
   "source": [
    "## Bubble Sort"
   ]
  },
  {
   "cell_type": "markdown",
   "metadata": {},
   "source": [
    "*Bubble sort* is probably the most straight forward sort algorithm. Repeatedly iterate through the values in the list performing a swap each time a pair of values out of sequence are found."
   ]
  },
  {
   "cell_type": "markdown",
   "metadata": {},
   "source": [
    "Define a simple list for sorting:"
   ]
  },
  {
   "cell_type": "code",
   "execution_count": 62,
   "metadata": {},
   "outputs": [
    {
     "name": "stdout",
     "output_type": "stream",
     "text": [
      "[54, 26, 93, 17, 77, 31, 44, 55, 20]\n"
     ]
    }
   ],
   "source": [
    "myList = [54,26,93,17,77,31,44,55,20]\n",
    "#myList = [54, 26, 93, 17, 77]\n",
    "print(myList)"
   ]
  },
  {
   "cell_type": "markdown",
   "metadata": {},
   "source": [
    "The following bubble sort code is based on the code from [Problem Solving with Algorithms and Data Structures in Python](http://interactivepython.org/runestone/static/pythonds/SortSearch/TheBubbleSort.html)."
   ]
  },
  {
   "cell_type": "code",
   "execution_count": 63,
   "metadata": {},
   "outputs": [
    {
     "name": "stdout",
     "output_type": "stream",
     "text": [
      "****\n",
      "[26, 54, 17, 77, 31, 44, 55, 93, 20]\n",
      "****\n",
      "[26, 17, 54, 31, 44, 55, 77, 93, 20]\n",
      "****\n",
      "[17, 26, 31, 44, 54, 55, 77, 93, 20]\n",
      "****\n",
      "[17, 26, 31, 44, 54, 55, 77, 93, 20]\n",
      "####\n",
      "[17, 26, 31, 44, 54, 55, 77, 93, 20]\n",
      "comparison_count:  28\n",
      "swap_count:  13\n"
     ]
    }
   ],
   "source": [
    "# Intialise counters for evaluating efficiency\n",
    "comparison_count = 0\n",
    "swap_count = 0\n",
    "\n",
    "swapped = True\n",
    "# As long as something was change don the last pass\n",
    "while swapped == True:\n",
    "\n",
    "    # Note that we haven;t ade a swap yet\n",
    "    swapped = False\n",
    "\n",
    "    # Loop from the start of the list to the end\n",
    "    for i in range(1, len(myList)- 1):\n",
    "    \n",
    "        # compare the current pair of values (and count the comparison)\n",
    "        comparison_count = comparison_count + 1\n",
    "        if myList[i - 1] > myList[i]:\n",
    "                \n",
    "            # Perform a swap\n",
    "            temp = myList[i]\n",
    "            myList[i] = myList[i - 1]\n",
    "            myList[i - 1] = temp\n",
    "                \n",
    "            # Note the swap\n",
    "            swapped = True\n",
    "            swap_count = swap_count + 1\n",
    "            \n",
    "    print(\"****\")\n",
    "    print(myList)\n",
    "\n",
    "# Print the sorted list\n",
    "print(\"####\")\n",
    "print(myList)\n",
    "print(\"comparison_count: \", comparison_count)\n",
    "print(\"swap_count: \", swap_count)\n"
   ]
  },
  {
   "cell_type": "markdown",
   "metadata": {},
   "source": [
    "We can easily improve bubble sort by early stopping passes as the end of the list will always be sorted"
   ]
  },
  {
   "cell_type": "code",
   "execution_count": 60,
   "metadata": {},
   "outputs": [
    {
     "name": "stdout",
     "output_type": "stream",
     "text": [
      "[54, 26, 93, 17, 77, 31, 44, 55, 20]\n"
     ]
    }
   ],
   "source": [
    "myList = [54,26,93,17,77,31,44,55,20]\n",
    "#myList = [54, 26, 93, 17, 77]\n",
    "print(myList)"
   ]
  },
  {
   "cell_type": "code",
   "execution_count": 61,
   "metadata": {},
   "outputs": [
    {
     "name": "stdout",
     "output_type": "stream",
     "text": [
      "****\n",
      "[26, 54, 17, 77, 31, 44, 55, 93, 20]\n",
      "****\n",
      "[26, 17, 54, 31, 44, 55, 77, 93, 20]\n",
      "****\n",
      "[17, 26, 31, 44, 54, 55, 77, 93, 20]\n",
      "****\n",
      "[17, 26, 31, 44, 54, 55, 77, 93, 20]\n",
      "####\n",
      "[17, 26, 31, 44, 54, 55, 77, 93, 20]\n",
      "comparison_count:  22\n",
      "swap_count:  13\n"
     ]
    }
   ],
   "source": [
    "# Intialise counters for evaluating efficiency\n",
    "comparison_count = 0\n",
    "swap_count = 0\n",
    "\n",
    "swapped = True\n",
    "# Use a varaible to early stop passes through the list\n",
    "j = len(myList)- 1\n",
    "\n",
    "# As long as something was change don the last pass\n",
    "while swapped == True:\n",
    "\n",
    "    # Note that we haven;t ade a swap yet\n",
    "    swapped = False\n",
    "\n",
    "    # Loop from the start of the list to the end\n",
    "    for i in range(1, j):\n",
    "    \n",
    "        # compare the current pair of values (and count the comparison)\n",
    "        comparison_count = comparison_count + 1\n",
    "        if myList[i - 1] > myList[i]:\n",
    "                \n",
    "            # Perform a swap\n",
    "            temp = myList[i]\n",
    "            myList[i] = myList[i - 1]\n",
    "            myList[i - 1] = temp\n",
    "                \n",
    "            # Note the swap\n",
    "            swapped = True\n",
    "            swap_count = swap_count + 1\n",
    "    \n",
    "    # Move the eearly stopping location back 1\n",
    "    j = j - 1\n",
    "    \n",
    "    print(\"****\")\n",
    "    print(myList)\n",
    "\n",
    "# Print the sorted list\n",
    "print(\"####\")\n",
    "print(myList)\n",
    "print(\"comparison_count: \", comparison_count)\n",
    "print(\"swap_count: \", swap_count)\n"
   ]
  },
  {
   "cell_type": "markdown",
   "metadata": {},
   "source": [
    "## Insertion Sort"
   ]
  },
  {
   "cell_type": "markdown",
   "metadata": {},
   "source": [
    "Insertion sort is a simple approach to sorting that is easy to follow and reasonably efficient. "
   ]
  },
  {
   "cell_type": "markdown",
   "metadata": {},
   "source": [
    "Define a simple list for sorting:"
   ]
  },
  {
   "cell_type": "code",
   "execution_count": 20,
   "metadata": {},
   "outputs": [
    {
     "name": "stdout",
     "output_type": "stream",
     "text": [
      "[54, 26, 93, 17, 77, 31, 44, 55, 20]\n"
     ]
    }
   ],
   "source": [
    "myList = [54,26,93,17,77,31,44,55,20]\n",
    "print(myList)"
   ]
  },
  {
   "cell_type": "markdown",
   "metadata": {},
   "source": [
    "The Python code for sorting this list is very easy. The following Insertion sort code is based on the code from [Problem Solving with Algorithms and Data Structures in Python](http://interactivepython.org/runestone/static/pythonds/SortSearch/TheInsertionSort.html)."
   ]
  },
  {
   "cell_type": "code",
   "execution_count": 21,
   "metadata": {
    "scrolled": true
   },
   "outputs": [
    {
     "name": "stdout",
     "output_type": "stream",
     "text": [
      "****\n",
      "[26, 54, 93, 17, 77, 31, 44, 55, 20]\n",
      "****\n",
      "[26, 54, 93, 17, 77, 31, 44, 55, 20]\n",
      "****\n",
      "[17, 26, 54, 93, 77, 31, 44, 55, 20]\n",
      "****\n",
      "[17, 26, 54, 77, 93, 31, 44, 55, 20]\n",
      "****\n",
      "[17, 26, 31, 54, 77, 93, 44, 55, 20]\n",
      "****\n",
      "[17, 26, 31, 44, 54, 77, 93, 55, 20]\n",
      "****\n",
      "[17, 26, 31, 44, 54, 55, 77, 93, 20]\n",
      "****\n",
      "[17, 20, 26, 31, 44, 54, 55, 77, 93]\n",
      "####\n",
      "[17, 20, 26, 31, 44, 54, 55, 77, 93]\n",
      "comparison_count:  28\n",
      "swap_count:  20\n"
     ]
    }
   ],
   "source": [
    "# Intialise counters for evaluating efficiency\n",
    "comparison_count = 0\n",
    "swap_count = 0\n",
    "\n",
    "# Loop through the list from start to finish\n",
    "for index in range(1,len(myList)):\n",
    "\n",
    "    # Note the value at the current position\n",
    "    currentValue = myList[index]\n",
    "    position = index\n",
    "\n",
    "    # Loop back through the list to find the appropraite position for the current value\n",
    "    while (position > 0) and (myList[position - 1] > currentValue):\n",
    "        # Make a swap\n",
    "        comparison_count = comparison_count + 1\n",
    "        myList[position] = myList[position - 1]\n",
    "        position = position - 1\n",
    "        swap_count = swap_count + 1\n",
    "\n",
    "    comparison_count = comparison_count + 1\n",
    "\n",
    "    # Move onto the next value\n",
    "    myList[position] = currentValue\n",
    "\n",
    "    print(\"****\")\n",
    "    print(myList)\n",
    "    \n",
    "# Print the sorted list\n",
    "print(\"####\")\n",
    "print(myList)\n",
    "print(\"comparison_count: \", comparison_count)\n",
    "print(\"swap_count: \", swap_count)"
   ]
  },
  {
   "cell_type": "markdown",
   "metadata": {},
   "source": [
    "## Comparing Sorting Algorithms"
   ]
  },
  {
   "cell_type": "markdown",
   "metadata": {},
   "source": [
    "Implement a function to perfrom insertion sort"
   ]
  },
  {
   "cell_type": "code",
   "execution_count": 64,
   "metadata": {
    "collapsed": true
   },
   "outputs": [],
   "source": [
    "def insert_sort(A, inplace = False):\n",
    "\n",
    "    # If perfomring an inplace sort use the input list directly, otherwise make a copy\n",
    "    if inplace:\n",
    "        myList = A\n",
    "    else:\n",
    "        myList = A.copy()\n",
    "\n",
    "    # Loop through the list from start to finish\n",
    "    for index in range(1,len(myList)):\n",
    "\n",
    "        # Note the value at the current position\n",
    "        currentValue = myList[index]\n",
    "        position = index\n",
    "\n",
    "        # Loop back through the list to find the appropraite position for the current value\n",
    "        while (position > 0) and (myList[position - 1] > currentValue):\n",
    "            # Make a swap\n",
    "            myList[position] = myList[position - 1]\n",
    "            position = position - 1\n",
    "\n",
    "        # Move onto the next value\n",
    "        myList[position] = currentValue\n",
    "\n",
    "    return myList"
   ]
  },
  {
   "cell_type": "markdown",
   "metadata": {},
   "source": [
    "Implement a function to perform bubble sort"
   ]
  },
  {
   "cell_type": "code",
   "execution_count": 65,
   "metadata": {
    "collapsed": true
   },
   "outputs": [],
   "source": [
    "def bubble_sort(A, inplace = False):\n",
    "\n",
    "    # If perfomring an inplace sort use the input list directly, otherwise make a copy\n",
    "    if inplace:\n",
    "        myList = A\n",
    "    else:\n",
    "        myList = A.copy()\n",
    "\n",
    "    swapped = True\n",
    "    \n",
    "    # As long as something was change don the last pass\n",
    "    while swapped == True:\n",
    "\n",
    "        # Note that we haven;t ade a swap yet\n",
    "        swapped = False\n",
    "\n",
    "        # Loop from the start of the list to the end\n",
    "        for i in range(1, len(myList)- 1):\n",
    "\n",
    "            # compare the current pair of values (and count the comparison)\n",
    "            if myList[i - 1] > myList[i]:\n",
    "\n",
    "                # Perform a swap\n",
    "                temp = myList[i]\n",
    "                myList[i] = myList[i - 1]\n",
    "                myList[i - 1] = temp\n",
    "\n",
    "                # Note the swap\n",
    "                swapped = True"
   ]
  },
  {
   "cell_type": "markdown",
   "metadata": {},
   "source": [
    "Implement a function to perform the improved bubble sort"
   ]
  },
  {
   "cell_type": "code",
   "execution_count": 66,
   "metadata": {
    "collapsed": true
   },
   "outputs": [],
   "source": [
    "def bubble_sort_better(A, inplace = False):\n",
    "\n",
    "    # If perfomring an inplace sort use the input list directly, otherwise make a copy\n",
    "    if inplace:\n",
    "        myList = A\n",
    "    else:\n",
    "        myList = A.copy()\n",
    "\n",
    "    # Use a variable to check if we have made a swap or not\n",
    "    swapped = True\n",
    "    \n",
    "    # Use a varaible to early stop passes through the list\n",
    "    j = len(myList)- 1\n",
    "    \n",
    "    # As long as something was change don the last pass\n",
    "    while swapped == True:\n",
    "\n",
    "        # Note that we haven;t ade a swap yet\n",
    "        swapped = False\n",
    "\n",
    "        # Loop from the start of the list to the end\n",
    "        for i in range(1, j):\n",
    "\n",
    "            # compare the current pair of values (and count the comparison)\n",
    "            if myList[i - 1] > myList[i]:\n",
    "\n",
    "                # Perform a swap\n",
    "                temp = myList[i]\n",
    "                myList[i] = myList[i - 1]\n",
    "                myList[i - 1] = temp\n",
    "\n",
    "                # Note the swap\n",
    "                swapped = True\n",
    "\n",
    "        j = j - 1"
   ]
  },
  {
   "cell_type": "markdown",
   "metadata": {},
   "source": [
    "Generate n random lists of m elements each and sort them with bubble sort and insert sort noting time taken"
   ]
  },
  {
   "cell_type": "code",
   "execution_count": 81,
   "metadata": {
    "collapsed": true
   },
   "outputs": [],
   "source": [
    "# Import required utility packages\n",
    "import numpy as np\n",
    "import time\n",
    "\n",
    "# Set up parameters\n",
    "num_trials = 1000\n",
    "list_length = 100\n",
    "low = 0\n",
    "high = 1000\n",
    "\n",
    "# Initialise empty lists for storing the time taken to sort each list\n",
    "bubble_sort_times = list()\n",
    "bubble_sort_better_times = list()\n",
    "insert_sort_times = list()\n",
    "\n",
    "# Perfrom num_trials trails. In each generate a random list and sort \n",
    "# it using bubble sort and insert sort noting time taken\n",
    "for trial in range(0, num_trials):\n",
    "    \n",
    "    # Genrate a random list\n",
    "    my_list = np.random.randint(low, high, size=list_length)\n",
    "    \n",
    "    # Perfrom bubble sort noting time taken\n",
    "    tic = time.time()\n",
    "    bubble_sorted_list = bubble_sort(my_list)\n",
    "    toc = time.time()\n",
    "    bubble_sort_times.append(toc - tic)\n",
    "    \n",
    "    # Perfrom better bubble sort noting time taken\n",
    "    tic = time.time()\n",
    "    bubble_sorted_list = bubble_sort_better(my_list)\n",
    "    toc = time.time()\n",
    "    bubble_sort_better_times.append(toc - tic)\n",
    "    \n",
    "    # Perfrom insert sort noting time taken\n",
    "    tic = time.time()\n",
    "    insert_sorted_list = insert_sort(my_list)\n",
    "    toc = time.time()\n",
    "    insert_sort_times.append(toc - tic)"
   ]
  },
  {
   "cell_type": "markdown",
   "metadata": {},
   "source": [
    "Analyse the experiment results"
   ]
  },
  {
   "cell_type": "code",
   "execution_count": 82,
   "metadata": {},
   "outputs": [
    {
     "name": "stdout",
     "output_type": "stream",
     "text": [
      "mean bubble_sort_times:  0.00319079613686\n",
      "mean bubble_sort_better_times:  0.00219201469421\n",
      "mean insert_sort_times:  0.00100180649757\n"
     ]
    }
   ],
   "source": [
    "print(\"mean bubble_sort_times: \", np.mean(bubble_sort_times))\n",
    "print(\"mean bubble_sort_better_times: \", np.mean(bubble_sort_better_times))\n",
    "print(\"mean insert_sort_times: \", np.mean(insert_sort_times))"
   ]
  },
  {
   "cell_type": "code",
   "execution_count": 83,
   "metadata": {},
   "outputs": [
    {
     "data": {
      "image/png": "[encoded data removed]",
      "text/plain": [
       "<matplotlib.figure.Figure at 0x10cd645c0>"
      ]
     },
     "metadata": {},
     "output_type": "display_data"
    }
   ],
   "source": [
    "# Insert packages required to draw a histogram\n",
    "from matplotlib import pyplot as plt\n",
    "%matplotlib inline \n",
    "\n",
    "plt.figure()\n",
    "# Set up some properties to make a nice looking histogram\n",
    "xlim = (0, max(bubble_sort_times + insert_sort_times + bubble_sort_better_times))\n",
    "bins = np.arange(xlim[0], xlim[1], (xlim[1] - xlim[0])/20) # fixed bin size\n",
    "plt.xlim(xlim)\n",
    "\n",
    "# Draw the histogram bars for the bubble sort and insert sort times\n",
    "_ = plt.hist(bubble_sort_times, bins = bins, label = \"Bubble Sort\", alpha = 0.65)\n",
    "_ = plt.hist(bubble_sort_better_times, bins = bins, label = \"Bubble Sort Better\", alpha = 0.65)\n",
    "_ = plt.hist(insert_sort_times, bins = bins, label = \"Insert Sort\", alpha = 0.65)\n",
    "\n",
    "# Add a legend\n",
    "plt.legend()\n",
    "plt.show()"
   ]
  },
  {
   "cell_type": "code",
   "execution_count": null,
   "metadata": {
    "collapsed": true
   },
   "outputs": [],
   "source": []
  }
 ],
 "metadata": {
  "kernelspec": {
   "display_name": "Python 3",
   "language": "python",
   "name": "python3"
  },
  "language_info": {
   "codemirror_mode": {
    "name": "ipython",
    "version": 3
   },
   "file_extension": ".py",
   "mimetype": "text/x-python",
   "name": "python",
   "nbconvert_exporter": "python",
   "pygments_lexer": "ipython3",
   "version": "3.6.0"
  }
 },
 "nbformat": 4,
 "nbformat_minor": 1
}
