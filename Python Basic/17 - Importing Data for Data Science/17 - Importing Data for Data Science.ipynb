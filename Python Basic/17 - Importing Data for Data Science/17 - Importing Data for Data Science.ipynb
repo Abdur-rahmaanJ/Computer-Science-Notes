{
 "cells": [
  {
   "cell_type": "markdown",
   "metadata": {
    "deletable": true,
    "editable": true
   },
   "source": [
    "# Importing Data for Data Science"
   ]
  },
  {
   "cell_type": "markdown",
   "metadata": {
    "deletable": true,
    "editable": true
   },
   "source": [
    "## Accessing Data From Text Files"
   ]
  },
  {
   "cell_type": "markdown",
   "metadata": {
    "deletable": true,
    "editable": true
   },
   "source": [
    "Accessing data from a text file is straightforward. "
   ]
  },
  {
   "cell_type": "code",
   "execution_count": 15,
   "metadata": {
    "collapsed": false,
    "deletable": true,
    "editable": true
   },
   "outputs": [
    {
     "name": "stdout",
     "output_type": "stream",
     "text": [
      "**** This is a simple text file that we will use to demonstrate file hadnling in Python. We will also use it to show off how the NLTK tonkenisers can be used. We'll see that tokenisers are very useful. This is one last sentence for extra interest!! \n",
      "\n",
      "**** This is another paragraph that really doesn't say anything. \n",
      "\n",
      "**** This was written by Dr. Brian Mac Namee.\n"
     ]
    }
   ],
   "source": [
    "# Load a simple text file into a string variable\n",
    "f = open(\"test_text.txt\", \"r\")\n",
    "lines = f.readlines()\n",
    "f.close()\n",
    "\n",
    "# Iterate through each line in the file and print it out\n",
    "for line in lines:\n",
    "    print(\"****\", line)"
   ]
  },
  {
   "cell_type": "code",
   "execution_count": 16,
   "metadata": {
    "collapsed": false,
    "deletable": true,
    "editable": true,
    "scrolled": false
   },
   "outputs": [
    {
     "name": "stdout",
     "output_type": "stream",
     "text": [
      "****\n",
      "This\n",
      "is\n",
      "a\n",
      "simple\n",
      "text\n",
      "file\n",
      "that\n",
      "we\n",
      "will\n",
      "use\n",
      "to\n",
      "demonstrate\n",
      "file\n",
      "hadnling\n",
      "in\n",
      "Python.\n",
      "We\n",
      "will\n",
      "also\n",
      "use\n",
      "it\n",
      "to\n",
      "show\n",
      "off\n",
      "how\n",
      "the\n",
      "NLTK\n",
      "tonkenisers\n",
      "can\n",
      "be\n",
      "used.\n",
      "We'll\n",
      "see\n",
      "that\n",
      "tokenisers\n",
      "are\n",
      "very\n",
      "useful.\n",
      "This\n",
      "is\n",
      "one\n",
      "last\n",
      "sentence\n",
      "for\n",
      "extra\n",
      "interest!!\n",
      "\n",
      "\n",
      "****\n",
      "This\n",
      "is\n",
      "another\n",
      "paragraph\n",
      "that\n",
      "really\n",
      "doesn't\n",
      "say\n",
      "anything.\n",
      "\n",
      "\n",
      "****\n",
      "This\n",
      "was\n",
      "written\n",
      "by\n",
      "Dr.\n",
      "Brian\n",
      "Mac\n",
      "Namee.\n"
     ]
    }
   ],
   "source": [
    "for line in lines:\n",
    "    print(\"****\")\n",
    "    words = line.split(\" \")\n",
    "    for word in words:\n",
    "        print(word)"
   ]
  },
  {
   "cell_type": "markdown",
   "metadata": {
    "deletable": true,
    "editable": true
   },
   "source": [
    "We can even load a text file across the Internet by using **requests.get** from the **requests** package instead of simply **open**. We use [the Guttenberg Press](http://www.gutenberg.org) in this example."
   ]
  },
  {
   "cell_type": "code",
   "execution_count": 1,
   "metadata": {
    "collapsed": false,
    "deletable": true,
    "editable": true,
    "scrolled": true
   },
   "outputs": [
    {
     "name": "stdout",
     "output_type": "stream",
     "text": [
      "﻿Project Gutenberg's Alice's Adventures in Wonderland, by Lewis Carroll\r\n",
      "\r\n",
      "This eBook is for the use of anyone anywhere at no cost and with\r\n",
      "almost no restrictions whatsoever.  You may copy it, give it away or\r\n",
      "re-use it under the terms of the Project Gutenberg License included\r\n",
      "with this eBook or online at www.gutenberg.org\r\n",
      "\r\n",
      "\r\n",
      "Title: Alice's Adventures in Wonderland\r\n",
      "\r\n",
      "Author: Lewis Carroll\r\n",
      "\r\n",
      "Posting Date: June 25, 2008 [EBook #11]\r\n",
      "Release Date: March, 1994\r\n",
      "[Last updated: December 20, 2011]\r\n",
      "\r\n",
      "Language: English\r\n",
      "\r\n",
      "\r\n",
      "*** START OF THIS PROJECT GUTENBERG EBOOK ALICE'S ADVENTURES IN WONDERLAND ***\r\n",
      "\r\n",
      "\r\n",
      "\r\n",
      "\r\n",
      "\r\n",
      "\r\n",
      "\r\n",
      "\r\n",
      "\r\n",
      "\r\n",
      "ALICE'S ADVENTURES IN WONDERLAND\r\n",
      "\r\n",
      "Lewis Carroll\r\n",
      "\r\n",
      "THE MILLENNIUM FULCRUM EDITION 3.0\r\n",
      "\r\n",
      "\r\n",
      "\r\n",
      "\r\n",
      "CHAPTER I. Down the Rabbit-Hole\r\n",
      "\r\n",
      "Alice was beginning to get very tired of sitting by her sister on the\r\n",
      "bank, and of having nothing to do: once or twice she had peeped into the\r\n",
      "book her sister was reading, but it had no pictures or conversations in\r\n",
      "it, 'and what is the u\n"
     ]
    }
   ],
   "source": [
    "# Import the requests package\n",
    "import requests\n",
    "\n",
    "# Define a URL to Alice in Wonderland on the Guttenberg Press (www.gutenberg.org)\n",
    "url='http://www.gutenberg.org/cache/epub/11/pg11.txt'\n",
    "\n",
    "# Read the text from the URL\n",
    "text_page = requests.get(url).text\n",
    "\n",
    "# Print the first 500 characters of the book\n",
    "print(text_page[:1000])"
   ]
  },
  {
   "cell_type": "markdown",
   "metadata": {
    "deletable": true,
    "editable": true
   },
   "source": [
    "We can even connnect to a HTML file, but this starts to get really hard."
   ]
  },
  {
   "cell_type": "code",
   "execution_count": 2,
   "metadata": {
    "collapsed": false,
    "deletable": true,
    "editable": true,
    "scrolled": true
   },
   "outputs": [
    {
     "name": "stdout",
     "output_type": "stream",
     "text": [
      "<!DOCTYPE html>\n",
      "<html lang=\"en\" xmlns:og=\"http://opengraphprotocol.org/schema/\" xmlns:fb=\"http://www.facebook.com/2008/fbml\">\n",
      "<!-- generated by inm-prod-presentation-engine-spot-174.inm.lan 2017-04-12T20:47:17.472 -->\n",
      "<head>\n",
      "<script type='text/javascript'>var _sf_startpt=(new Date()).getTime()</script>\n",
      "<meta http-equiv=\"X-UA-Compatible\" content=\"IE=edge\" />\n",
      "<meta http-equiv=\"Content-Type\" content=\"text/html; charset=UTF-8\"/>\n",
      "<link rel=\"canonical\" href=\"http://www.independent.ie/sport/soccer/international-soccer/neil-taylor-facing-longer-ban-for-seamus-coleman-horror-tackle-as-fifa-step-in-35578919.html\" >\n",
      "<link rel=\"alternate\" media=\"only screen and (max-width: 640px)\" href=\"http://m.independent.ie/sport/soccer/international-soccer/neil-taylor-facing-longer-ban-for-seamus-coleman-horror-tackle-as-fifa-step-in-35578919.html\" >\n",
      "<script type=\"text/javascript\">\n",
      "window.lightbox = { displayAdsCount :3 };\n",
      "</script>\n",
      "<link rel=\"shortcut icon\" href=\"http://www.independent.ie/img/favicon-independ\n"
     ]
    }
   ],
   "source": [
    "# Connect to a URL and extract the HTML text\n",
    "url = \"http://www.independent.ie/sport/soccer/international-soccer/neil-taylor-facing-longer-ban-for-seamus-coleman-horror-tackle-as-fifa-step-in-35578919.html\"\n",
    "text = requests.get(url).text\n",
    "print(text[:1000])"
   ]
  },
  {
   "cell_type": "markdown",
   "metadata": {
    "deletable": true,
    "editable": true
   },
   "source": [
    "## Parsing HTML Files"
   ]
  },
  {
   "cell_type": "markdown",
   "metadata": {
    "deletable": true,
    "editable": true
   },
   "source": [
    "Accessing data from web pages is straightforward. The tricky bit is extracting the useful information from the webpage. We can use the **BeautifulSoup4** (http://www.crummy.com/software/BeautifulSoup) packages to make this easier."
   ]
  },
  {
   "cell_type": "code",
   "execution_count": 3,
   "metadata": {
    "collapsed": false,
    "deletable": true,
    "editable": true,
    "scrolled": true
   },
   "outputs": [
    {
     "name": "stdout",
     "output_type": "stream",
     "text": [
      "Neil Taylor facing longer ban for Seamus Coleman horror tackle as FIFA step in\n",
      "\n",
      "FIFA has opened proceedings against Neil Taylor following the Wales defender's challenge on Republic of Ireland defender Seamus Coleman.\n",
      "\n",
      "\n",
      "Everton defender Coleman needed surgery on a broken tibia and fibula after being injured in the 69th minute of Friday's World Cup qualifying match at the Aviva Stadium, which finished in a goalless draw.\n",
      "\n",
      "Coleman faces months on the sidelines and Taylor, who will definitely miss Wales' next qualifier away to Serbia in June, faces the prospect of having his automatic one-match ban extended.The Football Association of Wales has been informed of FIFA opening proceedings against Taylor and will review the incident.\n",
      "\n",
      "The hearing is likely to be held within the next fortnight and Taylor's ban could be increased to three games once FIFA studies the report of match referee Nicola Rizzoli.If Taylor does receive a three-match ban that would also rule the Aston Villa defender out of Wales' September World Cup double-header against Austria and Moldova.\n",
      "\n",
      "Coleman left hospital on Wednesday and Republic manager Martin O'Neill said that the 28-year-old full-back was in good spirits after visiting him the previous day.\"It's as much to do with he's still got the family around - his brother, his wife, his mother and the youngster all keeping him pretty busy,\" O'Neill said.\n",
      "\n",
      "\"I think he's doing much better now. It's not something you're going to get over in 24 hours, 36 hours. He's in much better spirits.\"It's encouraging to see. He's very positive, which I knew he would be. It's a tough injury.\n",
      "\n",
      "\"Could he get over it? If anybody can quickly, then Seamus can do that.\"O'Neill described Taylor's challenge as \"very, very poor\", but the Welshman was defended by his manager Chris Coleman.\n",
      "\n",
      "\"Neil Taylor is not that type of player. He's had a serious injury himself. He's a great boy, he's a cracking lad,\" Coleman said after the game.\"Yes, it looks like he (Taylor) has got that one wrong on our part.\n",
      "\n",
      "\"Of course, Neil is devastated himself.\"The Wales manager revealed that Taylor had gone in to the home dressing room after the game to see Coleman.\n",
      "\n",
      "But it is understood the Republic captain had already been taken to hospital.On Wednesday, Sky Sports quoted Taylor's agent Jamie Moralee as saying that his client had contacted Coleman to send his good wishes and express his sympathy for the tackle.Read more here: \n",
      "\n",
      " Referee not to blame for Coleman injury - O'Neill\n",
      " Koeman hits out at O'Neill and McCarthy\n",
      " More lows than highs from defining period for Martin O'Neill and Ireland\n",
      " \n",
      "\n"
     ]
    }
   ],
   "source": [
    "# Import the BeautifulSoup package\n",
    "from bs4 import BeautifulSoup \n",
    "\n",
    "# Read the HTML file\n",
    "url = \"http://www.independent.ie/sport/soccer/international-soccer/neil-taylor-facing-longer-ban-for-seamus-coleman-horror-tackle-as-fifa-step-in-35578919.html\"\n",
    "html = requests.get(url).text\n",
    "\n",
    "# Create a beautiful soup object from the text file so that we get at the article text\n",
    "article_soup = BeautifulSoup(html, \"lxml\")\n",
    "\n",
    "# Extract the actual article text  - this relies on the fact that I know what the HTML looks like, not completely robust!\n",
    "article = article_soup.find('article')\n",
    "headline = article.find('h1')\n",
    "article_content = article.find_all('div', class_='ctx_content')\n",
    "\n",
    "# Start the article text by adding the headline\n",
    "article_text = headline.get_text()\n",
    "\n",
    "# Construct the article by adding togehter the paragraph pieces\n",
    "for tag in article_content:\n",
    "    article_text += tag.get_text()\n",
    "    \n",
    "# Print the article content\n",
    "print(article_text)"
   ]
  },
  {
   "cell_type": "markdown",
   "metadata": {
    "deletable": true,
    "editable": true
   },
   "source": [
    "A wordcloud is a fun way to visualise text"
   ]
  },
  {
   "cell_type": "code",
   "execution_count": 4,
   "metadata": {
    "collapsed": false,
    "deletable": true,
    "editable": true
   },
   "outputs": [
    {
     "data": {
      "image/png": "[encoded data removed]",
      "text/plain": [
       "<matplotlib.figure.Figure at 0x109bae908>"
      ]
     },
     "metadata": {},
     "output_type": "display_data"
    }
   ],
   "source": [
    "# Import matplotlib\n",
    "import matplotlib \n",
    "import matplotlib.pyplot as plt\n",
    "\n",
    "# Import package for drawing word clouds this needs to be installed from binstar using ./conda install -c https://conda.binstar.org/derickl wordcloud\n",
    "from wordcloud import WordCloud, STOPWORDS \n",
    "\n",
    "# Create a word cloud\n",
    "wordcloud = WordCloud(font_path='/Library/Fonts/Comic Sans MS.ttf',\n",
    "                     stopwords=STOPWORDS,\n",
    "                      background_color='white',\n",
    "                      width=2400,\n",
    "                      height=2400\n",
    "                     ).generate(article_text)\n",
    "plt.imshow(wordcloud)\n",
    "plt.axis('off')\n",
    "plt.show()"
   ]
  },
  {
   "cell_type": "markdown",
   "metadata": {
    "deletable": true,
    "editable": true
   },
   "source": [
    "## Accessing RSS Feeds "
   ]
  },
  {
   "cell_type": "markdown",
   "metadata": {
    "deletable": true,
    "editable": true
   },
   "source": [
    "One way to access lots of news articles is to use an RSS feed. We can access RSS feeds easily in Python using the **feedparser** package."
   ]
  },
  {
   "cell_type": "code",
   "execution_count": 19,
   "metadata": {
    "collapsed": false,
    "deletable": true,
    "editable": true,
    "scrolled": true
   },
   "outputs": [
    {
     "name": "stdout",
     "output_type": "stream",
     "text": [
      "Woman alleges  sexual assault at Cathal Brugha army barracks\n",
      "http://www.irishtimes.com/news/crime-and-law/woman-alleges-sexual-assault-at-cathal-brugha-army-barracks-1.3046800\n",
      "Inquest into man’s fatal  brain haemorrhage criticised by partner\n",
      "http://www.irishtimes.com/news/crime-and-law/courts/coroner-s-court/inquest-into-man-s-fatal-brain-haemorrhage-criticised-by-partner-1.3046759\n",
      "Gardaí release suspect in investigation into Real IRA murder\n",
      "http://www.irishtimes.com/news/crime-and-law/garda%C3%AD-release-suspect-in-investigation-into-real-ira-murder-1.3046748\n",
      "Childcare subsidies for 9,000 families delayed over IT issues\n",
      "http://www.irishtimes.com/news/social-affairs/childcare-subsidies-for-9-000-families-delayed-over-it-issues-1.3046461\n",
      "Customs officers seize 107 litres of wine at Rosslare\n",
      "http://www.irishtimes.com/news/crime-and-law/customs-officers-seize-107-litres-of-wine-at-rosslare-1.3046742\n",
      "Cystic fibrosis patients hopeful further  drugs may be developed\n",
      "http://www.irishtimes.com/news/health/cystic-fibrosis-patients-hopeful-further-drugs-may-be-developed-1.3046731\n",
      "New Bill seeks to remove ‘Baptism barrier’ from education system\n",
      "http://www.irishtimes.com/news/education/new-bill-seeks-to-remove-baptism-barrier-from-education-system-1.3046701\n",
      "Gardaí cite examples of people recording them with ‘nefarious intent’\n",
      "http://www.irishtimes.com/news/crime-and-law/garda%C3%AD-cite-examples-of-people-recording-them-with-nefarious-intent-1.3046651\n",
      "Irish charity says one of its dogs died in Stockholm attack\n",
      "http://www.irishtimes.com/news/ireland/irish-news/irish-charity-says-one-of-its-dogs-died-in-stockholm-attack-1.3046550\n",
      "Labour Court to issue Bus Eireann recommendation by tomorrow\n",
      "http://www.irishtimes.com/news/ireland/irish-news/labour-court-to-issue-bus-eireann-recommendation-by-tomorrow-1.3046539\n",
      "‘Now the world can see why Anna was so terrified of him’\n",
      "http://www.irishtimes.com/news/crime-and-law/courts/criminal-court/now-the-world-can-see-why-anna-was-so-terrified-of-him-1.3046534\n",
      "Farmer’s family urges greater awareness of dangers handling bulls\n",
      "http://www.irishtimes.com/news/crime-and-law/courts/coroner-s-court/farmer-s-family-urges-greater-awareness-of-dangers-handling-bulls-1.3046502\n",
      "Watch: Police break up rave on London Underground\n",
      "http://www.irishtimes.com/news/offbeat/watch-police-break-up-rave-on-london-underground-1.3046421\n",
      "Gardaí say cyclists must change attitude and wear safety gear\n",
      "http://www.irishtimes.com/news/crime-and-law/garda%C3%AD-say-cyclists-must-change-attitude-and-wear-safety-gear-1.3046390\n",
      "Garda training and development budget cut by one-third\n",
      "http://www.irishtimes.com/news/crime-and-law/garda-training-and-development-budget-cut-by-one-third-1.3046345\n",
      "Fad diet ‘nonsense’ may cause osteoporosis in young people\n",
      "http://www.irishtimes.com/news/health/fad-diet-nonsense-may-cause-osteoporosis-in-young-people-1.3046311\n",
      "Danish farmers  take the piss by turning urine into beer\n",
      "http://www.irishtimes.com/news/offbeat/danish-farmers-take-the-piss-by-turning-urine-into-beer-1.3046295\n",
      "Vesel Jahiri found guilty of 2012 murder of Anna Finnegan\n",
      "http://www.irishtimes.com/news/crime-and-law/courts/criminal-court/vesel-jahiri-found-guilty-of-2012-murder-of-anna-finnegan-1.3046290\n",
      "Trial over family kidnap and €600,000 robbery collapses\n",
      "http://www.irishtimes.com/news/crime-and-law/courts/criminal-court/trial-over-family-kidnap-and-600-000-robbery-collapses-1.3046284\n",
      "Ross urges public not to drive on drugs as new tests introduced\n",
      "http://www.irishtimes.com/news/crime-and-law/ross-urges-public-not-to-drive-on-drugs-as-new-tests-introduced-1.3046265\n"
     ]
    }
   ],
   "source": [
    "# For reading RSS feeds - imstnall using ./conda install feedparser\n",
    "import feedparser \n",
    "\n",
    "# Read from the Irish Times RSS feed\n",
    "RSS_url = \"https://www.irishtimes.com/cmlink/news-1.1319192\"\n",
    "it_feed = feedparser.parse(RSS_url)\n",
    "len(it_feed.entries)\n",
    "\n",
    "# Iterate through the entries from the feed and print the title of each article and the URL for the articl\n",
    "for article_entry in it_feed.entries:\n",
    "    article_title = article_entry['title']\n",
    "    article_url = article_entry['links'][0]['href']\n",
    "    print(article_title)\n",
    "    print(article_url)"
   ]
  },
  {
   "cell_type": "markdown",
   "metadata": {
    "deletable": true,
    "editable": true
   },
   "source": [
    "## Accessing Data From Twitter"
   ]
  },
  {
   "cell_type": "markdown",
   "metadata": {
    "deletable": true,
    "editable": true
   },
   "source": [
    "Twitter is obviously a fun service to get text from. We can use the **Tweepy** package to access the Twitter API. Before using Tweepy you must have Twitter **OAuth credentials** available from https://apps.twitter.com/. Create a new applciation (using your own Twitter credentials) and the generate access tokens."
   ]
  },
  {
   "cell_type": "code",
   "execution_count": 13,
   "metadata": {
    "collapsed": false,
    "deletable": true,
    "editable": true
   },
   "outputs": [
    {
     "name": "stdout",
     "output_type": "stream",
     "text": [
      "@ireland | Ireland / Harold\n",
      "The bottle is shook to make sure the sample is even. A test tube is half filled and the yield written on the top of… https://t.co/PrHsVUPxxd\n",
      "\n",
      "@DublinInquirer | Dublin Inquirer\n",
      "When kids' stones smash windows on the 40 route, Dublin Bus suspends it for the day. Locals says that's unfair.… https://t.co/HdDylcm5S1\n",
      "\n",
      "@UlyssesReader | Ulysses Reader\n",
      "Down went Tom Rochford anyhow, booky's vest and all, with the rope round him.\n",
      "\n",
      "@TIME | TIME\n",
      "Meet the man who trolled Sean Spicer, Pepsi and United Airlines in one meme https://t.co/DY7PWZoamd\n",
      "\n",
      "@ThisHeadStuff | HeadStuff\n",
      "The Real Reason We Need Trigger Warnings\n",
      "\n",
      "Don't just roll your eyes at them.\n",
      "\n",
      "#Triggered #Science #Psychology… https://t.co/rUJxqnuDnT\n",
      "\n",
      "@ForecasterEnten | (((Harry Enten)))\n",
      "Why I think Brownback may have played a role in last night's results, but I think the national environment did too.… https://t.co/5n5T02kqI4\n",
      "\n",
      "@PhotosOfDublin | Photos of Dublin\n",
      "RT @TazMoMedia: Dublin you are... a colourful canvas...\n",
      "\n",
      "#SunnyDays #Archives \n",
      "@PhotosOfDublin @ireland @PictureIreland @OldDublinTown @bar…\n",
      "\n",
      "@FiveThirtyEight | FiveThirtyEight\n",
      "Does infighting on team Trump matter? https://t.co/xtAXcRDkL4\n",
      "\n",
      "@ireland | Ireland / Harold\n",
      "As 710 is milking her yield is measured by an electronic meter and displayed on a screen in KGs, &amp; a % of her milk… https://t.co/H4HzEFeLiu\n",
      "\n",
      "@BBCRadio4 | BBC Radio 4\n",
      "From the electronic music revolution through to the birth of the CD...\n",
      "10 retro BBC clips about music technology… https://t.co/KMimnkn12w\n",
      "\n",
      "@TIME | TIME\n",
      "President Trump says the U.S. dollar is \"too strong\" https://t.co/IDySxKKqEq\n",
      "\n",
      "@albertocairo | Alberto Cairo\n",
      "If you need data for class exercises, this post by @JeffLumpkin_BI is great. Maps are very neat, too #dataviz… https://t.co/PHAxx5nZFk\n",
      "\n",
      "@sciam | Scientific American\n",
      "RT @Laelaps: Camarasaurus was a gummy dinosaur. @sciam @sciamblogs https://t.co/T0WstRVDUz\n",
      "\n",
      "@AntiMedia | Anti-Media\n",
      "3 Reasons Why Trump’s Syria Strike Makes the World Less Safe https://t.co/xZYGPa12Qp https://t.co/Qm5sCcH1eE\n",
      "\n",
      "@jaltucher | James Altucher\n",
      "RT @CNBC: This self-made millionaire says you don't have to go to college to get rich https://t.co/PPKmuGBKMg\n",
      "\n",
      "@WIRED | WIRED\n",
      "Now you can even get delivery food without dealing with another human https://t.co/b2GjZeloKg\n",
      "\n",
      "@ireland | Ireland / Harold\n",
      "The cluster of the milking machine is attached by a vacuum to each of the four teats on her udder https://t.co/XDTavXNaiy\n",
      "\n",
      "@jaltucher | James Altucher\n",
      "RT @Scottsteindorff: Ep. 223: Scott Steindorff - Addicted to Life - Altucher Confidential https://t.co/J0unBs0JE5 via @jaltucher\n",
      "\n",
      "@hrw | Human Rights Watch\n",
      "RT @joycebukuru: While in Doha, artist &amp; activist Ai Weiwei calls on Gulf states to do more to help #Syrian refugees https://t.co/k31jGqRFfY\n",
      "\n",
      "@BBCRadio4 | BBC Radio 4\n",
      "What was @kevinbacon's initial reaction to the Six Degrees of Kevin Bacon game? https://t.co/el9qvqva3G\n",
      "\n",
      "@UlyssesReader | Ulysses Reader\n",
      "One of those manholes like a bloody gaspipe and there was the poor devil stuck down in it, half choked with sewer gas.\n",
      "\n",
      "@TIME | TIME\n",
      "This hedge fund just accused General Motors of misrepresenting its stock plans https://t.co/9T1NOSImQE\n",
      "\n",
      "@hrw | Human Rights Watch\n",
      "RT @JMVivancoHRW: In 2015 @hrw reported links of Colombia army head w/ killings. Gov dismissed him but quietly found him a gig in DC https:…\n",
      "\n",
      "@IrishTimes | The Irish Times\n",
      "Labour Court to issue Bus Eireann recommendation by tomorrow https://t.co/Emra3vGUsK\n",
      "\n",
      "@choiceIrregular | Laurie\n",
      "Completely forgot that Season 2 of Attack on Titan is out! https://t.co/XNlV1JuLnu\n",
      "\n"
     ]
    }
   ],
   "source": [
    "# Import tweepy \n",
    "import tweepy\n",
    "\n",
    "# OAuth access details for getting at the Twitter API - having these in my code is pretty insecure!!\n",
    "consumer_key = \"ENTER YOUR KEY HERE\"\n",
    "consumer_secret = \"ENTER YOUR SECRET HERE\"\n",
    "access_token = \"ENTER YOUR TOKEN HERE\"\n",
    "access_token_secret = \"ENTER YOUR TOKEN HERE\" \n",
    "\n",
    "# Connect to the Twitter API using authentication\n",
    "auth = tweepy.OAuthHandler(consumer_key, consumer_secret)\n",
    "auth.set_access_token(access_token, access_token_secret)\n",
    "api = tweepy.API(auth)\n",
    "\n",
    "# Access the tweets appearing in my timeline\n",
    "coord_list = list()\n",
    "public_tweets = api.home_timeline(count=25)\n",
    "for tweet in public_tweets:\n",
    "    print(\"@\" + tweet.author.screen_name, \"|\", tweet.author.name)\n",
    "    print(tweet.text)\n",
    "    print() \n",
    "    "
   ]
  },
  {
   "cell_type": "code",
   "execution_count": 17,
   "metadata": {
    "collapsed": false,
    "deletable": true,
    "editable": true,
    "scrolled": false
   },
   "outputs": [
    {
     "name": "stdout",
     "output_type": "stream",
     "text": [
      "@McAuliffeJA | Julieanne McAuliffe\n",
      "https://t.co/zhpLbhGHme\n",
      "\n",
      "@hill473_susan | Susan Hill\n",
      "#dublin #pechos android #girl cdmx #nerddating #ebony unused https://t.co/qOTuOKVbb9\n",
      "\n",
      "@84stephenfox | Stephen Fox\n",
      "@wolfetones How's it going lads, planning any gigs in Dublin?? U's were brilliant in the barrow lands a few months ago 👌🏼☘️🇮🇪\n",
      "\n",
      "@Fin_Dublin | Fin~Dublin\n",
      "@betsy_klein @POTUS Trump contradicting himself and talking inane babble. Hardly worth pointing that out at this stage.\n",
      "\n",
      "@dommyolivia | Dominique Yong\n",
      "Dublin business women - interested in joining a new networking group?#iwib #LMBDW #irishbizparty #irishtechparty #tweetursis #womeninspire\n",
      "\n",
      "@Lottieeeeee1992 | Char ☺️\n",
      "Last working day tomorrow before a nice little four days off!  Cinema tomorrow evening then Dublin for the weekend 🍻☘️✈️ #adventure #happy 😊\n",
      "\n",
      "@CNewday | Gordon Cassidy\n",
      "In fact since no one cares how about we make ,City West Digital Park, Naas Road Dublin 24. obliterate MOLACH right outside EIR. AN 6PM News\n",
      "\n",
      "@ronanmooney | Ronan Mooney\n",
      "These are my brothers @ Kehoes Dublin https://t.co/Cik7mQeAe7\n",
      "\n",
      "@LisaK73 | LisaK\n",
      "If you were going to (family) holiday in Ireland, where would you go? Cycling, quiet, beautiful etc....not pissing it up in Dublin....\n",
      "\n",
      "@thomas_lennon | thomas lennon\n",
      "@ianwilliamcraig Looking forward to dublin show\n",
      "\n"
     ]
    }
   ],
   "source": [
    "#Search for recent tweets containing a specific keyword\n",
    "results = api.search(q=\"Dublin\", count=10)\n",
    "for tweet in results:\n",
    "    print(\"@\" + tweet.author.screen_name, \"|\", tweet.author.name)\n",
    "    print(tweet.text)\n",
    "    print() "
   ]
  },
  {
   "cell_type": "markdown",
   "metadata": {
    "deletable": true,
    "editable": true
   },
   "source": [
    "## An Introduction To NLTK"
   ]
  },
  {
   "cell_type": "markdown",
   "metadata": {
    "deletable": true,
    "editable": true
   },
   "source": [
    "The **Natural Language Toolkit**, **NLTK** (http://www.nltk.org/), is a well written, widely used, and well respected toolkit for perofmring natural langueg processing in Python. It offers a wide range of useful functionality and data structres that make text natural langueg processing, and so text analytics, much easier. Features included in the NLTK include corpus management, document classification, colocation discoverym, part of speech tagging, parsing, and chunking. The best reference for the NLTK is the **NLTK Book**, Natural Language Processing with Python – Analyzing Text with the Natural Language Toolkit by Steven Bird, Ewan Klein, and Edward Loper, which is freely avialble online at http://www.nltk.org/book/ or for sale at http://www.amazon.co.uk/Natural-Language-Processing-Python-Steven/dp/0596516495. Many of the examples in this tutorial are taken from this book."
   ]
  },
  {
   "cell_type": "markdown",
   "metadata": {
    "deletable": true,
    "editable": true
   },
   "source": [
    "### Import Packages"
   ]
  },
  {
   "cell_type": "markdown",
   "metadata": {
    "deletable": true,
    "editable": true
   },
   "source": [
    "Import a set of packages that we will use in order to perform text analysis. These are very commonly used Python packages."
   ]
  },
  {
   "cell_type": "code",
   "execution_count": 33,
   "metadata": {
    "collapsed": false,
    "deletable": true,
    "editable": true
   },
   "outputs": [],
   "source": [
    "import nltk # The best known Python natural language processing toolkit\n",
    "from nltk import FreqDist # Explicitlty import the FreqDist function from NLTK\n",
    "import numpy # Package for scientific computing\n",
    "import matplotlib # Python plotting library\n",
    "import matplotlib.pyplot as plt # Easy syntax access to pyplot\n",
    "import re # functions fior dealing with regular expressions\n",
    "from wordcloud import WordCloud, STOPWORDS # package for drawing word clouds this needs to be installed from binstar using ./conda install -c https://conda.binstar.org/derickl wordcloud\n",
    "from urllib.request import urlopen # for accessing URLs\n",
    "from bs4 import BeautifulSoup # For parsing HTML documents\n",
    "\n",
    "# Tells iPython notebook to draw graphic sinline in the webpage\n",
    "%matplotlib inline "
   ]
  },
  {
   "cell_type": "code",
   "execution_count": 4,
   "metadata": {
    "collapsed": false,
    "deletable": true,
    "editable": true
   },
   "outputs": [],
   "source": [
    "# Uncomment this in order to launch the NLTK downloader to access corpora, packages etc\n",
    "# nltk.download()"
   ]
  },
  {
   "cell_type": "markdown",
   "metadata": {
    "deletable": true,
    "editable": true
   },
   "source": [
    "### Load An NLTK Built-In Corpus"
   ]
  },
  {
   "cell_type": "code",
   "execution_count": 34,
   "metadata": {
    "collapsed": false,
    "deletable": true,
    "editable": true
   },
   "outputs": [
    {
     "data": {
      "text/plain": [
       "['austen-emma.txt',\n",
       " 'austen-persuasion.txt',\n",
       " 'austen-sense.txt',\n",
       " 'bible-kjv.txt',\n",
       " 'blake-poems.txt',\n",
       " 'bryant-stories.txt',\n",
       " 'burgess-busterbrown.txt',\n",
       " 'carroll-alice.txt',\n",
       " 'chesterton-ball.txt',\n",
       " 'chesterton-brown.txt',\n",
       " 'chesterton-thursday.txt',\n",
       " 'edgeworth-parents.txt',\n",
       " 'melville-moby_dick.txt',\n",
       " 'milton-paradise.txt',\n",
       " 'shakespeare-caesar.txt',\n",
       " 'shakespeare-hamlet.txt',\n",
       " 'shakespeare-macbeth.txt',\n",
       " 'whitman-leaves.txt']"
      ]
     },
     "execution_count": 34,
     "metadata": {},
     "output_type": "execute_result"
    }
   ],
   "source": [
    "nltk.corpus.gutenberg.fileids()"
   ]
  },
  {
   "cell_type": "markdown",
   "metadata": {
    "deletable": true,
    "editable": true
   },
   "source": [
    "### Find Text Within a Corpus"
   ]
  },
  {
   "cell_type": "markdown",
   "metadata": {
    "deletable": true,
    "editable": true
   },
   "source": [
    "A concordance returns a set of sentences that include a search term or terms. We first create an NLTK text object that we can manipulate."
   ]
  },
  {
   "cell_type": "code",
   "execution_count": 36,
   "metadata": {
    "collapsed": false,
    "deletable": true,
    "editable": true
   },
   "outputs": [
    {
     "name": "stdout",
     "output_type": "stream",
     "text": [
      "<Text: The Tragedie of Hamlet by William Shakespeare 1599>\n"
     ]
    }
   ],
   "source": [
    "hamlet = nltk.Text(nltk.corpus.gutenberg.words('shakespeare-hamlet.txt'))\n",
    "print(hamlet)"
   ]
  },
  {
   "cell_type": "markdown",
   "metadata": {
    "deletable": true,
    "editable": true
   },
   "source": [
    "Using the NLTK **concordance** function we can generate a set of setences containing a chose word."
   ]
  },
  {
   "cell_type": "code",
   "execution_count": 37,
   "metadata": {
    "collapsed": false,
    "deletable": true,
    "editable": true
   },
   "outputs": [
    {
     "name": "stdout",
     "output_type": "stream",
     "text": [
      "Displaying 25 of 28 matches:\n",
      "Polonius , Laertes , and his Sister Ophelia , Lords Attendant . King . Though y\n",
      "er . Scena Tertia Enter Laertes and Ophelia . Laer . My necessaries are imbark \n",
      "is vnmastred importunity . Feare it Ophelia , feare it my deare Sister , And ke\n",
      " your seruants tend Laer . Farewell Ophelia , and remember well What I haue sai\n",
      "well . Exit Laer . Polon . What ist Ophelia he hath said to you ? Ophe . So ple\n",
      " , Then may be giuen you . In few , Ophelia , Doe not beleeue his vowes ; for t\n",
      "ol . Well , my Lord . Enter . Enter Ophelia . Polon . Farewell : How now Opheli\n",
      "phelia . Polon . Farewell : How now Ophelia , what ' s the matter ? Ophe . Alas\n",
      "y Soules Idoll , the most beautifed Ophelia . That ' s an ill Phrase , a vilde \n",
      " But neuer Doubt , I loue . O deere Ophelia , I am ill at these Numbers : I hau\n",
      "it Enter King , Queene , Polonius , Ophelia , Rosincrance , Guildenstern , and \n",
      "ere by accident , may there Affront Ophelia . Her Father , and my selfe ( lawfu\n",
      " shall obey you , And for your part Ophelia , I do wish That your good Beauties\n",
      " Ophe . Madam , I wish it may Pol . Ophelia , walke you heere . Gracious so ple\n",
      "f Action . Soft you now , The faire Ophelia ? Nimph , in thy Orizons Be all my \n",
      "prung from neglected loue . How now Ophelia ? You neede not tell vs , what Lord\n",
      " . Enter King , Queene , Polonius , Ophelia , Rosincrance , Guildensterne , and\n",
      "fe , in fearing to be spilt . Enter Ophelia distracted . Ophe . Where is the be\n",
      "ous Maiesty of Denmark Qu . How now Ophelia ? Ophe . How should I your true lou\n",
      "a stone . Enter King . Qu . Nay but Ophelia Ophe . Pray you marke . White his S\n",
      ", neuer departed more King . Pretty Ophelia Ophe . Indeed la ? without an oath \n",
      "ugger mugger to interre him . Poore Ophelia Diuided from her selfe , and her fa\n",
      "se within . Let her come in . Enter Ophelia . Laer . How now ? what noise is th\n",
      ", Deere Maid , kinde Sister , sweet Ophelia : Oh Heauens , is ' t possible , a \n",
      " I pray God . God buy ye . Exeunt . Ophelia Laer . Do you see this , you Gods ?\n"
     ]
    }
   ],
   "source": [
    "hamlet.concordance(\"ophelia\")"
   ]
  },
  {
   "cell_type": "markdown",
   "metadata": {
    "deletable": true,
    "editable": true
   },
   "source": [
    "We can generate a text object containing all of the texts in our corpus and generate a concordance from this."
   ]
  },
  {
   "cell_type": "code",
   "execution_count": 38,
   "metadata": {
    "collapsed": false,
    "deletable": true,
    "editable": true,
    "scrolled": true
   },
   "outputs": [
    {
     "name": "stdout",
     "output_type": "stream",
     "text": [
      "Displaying 4 of 4 matches:\n",
      "ck , a large Colt ' s revolver , a sandwich case , and a formidable flask of b\n",
      "re I came up ; or more proper , MY SANDWICH , I should say , for the fashion '\n",
      "ucket ship in the harbor of Oahu , Sandwich Islands . Conversation turning upo\n",
      "some honest mariners of Dover , or Sandwich , or some one of the Cinque Ports \n"
     ]
    }
   ],
   "source": [
    "allText = nltk.Text(nltk.corpus.gutenberg.words())\n",
    "allText.concordance('sandwich')"
   ]
  },
  {
   "cell_type": "markdown",
   "metadata": {
    "deletable": true,
    "editable": true
   },
   "source": [
    "**EXERCISE:** Genrate a concordance of the occurences of the word *whale* in *Moby Dick* and the word *computer* in the overall gutenburg corpus. "
   ]
  },
  {
   "cell_type": "markdown",
   "metadata": {
    "deletable": true,
    "editable": true
   },
   "source": [
    "A **dispersion plot** is a fun data visualsiation supported by NLTK that shows us where in a text words appear. It is generated using the **dispersion_plot** function."
   ]
  },
  {
   "cell_type": "code",
   "execution_count": 41,
   "metadata": {
    "collapsed": false,
    "deletable": true,
    "editable": true
   },
   "outputs": [
    {
     "data": {
      "image/png": "[encoded data removed]",
      "text/plain": [
       "<matplotlib.figure.Figure at 0x1101ebcc0>"
      ]
     },
     "metadata": {},
     "output_type": "display_data"
    }
   ],
   "source": [
    "hamlet.dispersion_plot([\"Hamlet\", \"Horatio\", \"Ophelia\", \"Fortinbras\", \"Yorick\", \"death\", \"skull\", \"dagger\"])"
   ]
  },
  {
   "cell_type": "markdown",
   "metadata": {
    "deletable": true,
    "editable": true
   },
   "source": [
    "A more powerful way that we can find text within a corpus is to use **regular expressions**. Regular expressions are a powerful way to define textual patterns that allow us find interesting things within a document. First just find all words ending in \"ings\"."
   ]
  },
  {
   "cell_type": "code",
   "execution_count": 10,
   "metadata": {
    "collapsed": false,
    "deletable": true,
    "editable": true,
    "scrolled": false
   },
   "outputs": [
    {
     "data": {
      "text/plain": [
       "['pratlings',\n",
       " 'things',\n",
       " 'Groundlings',\n",
       " 'Trappings',\n",
       " 'Vndertakings',\n",
       " 'Greetings',\n",
       " 'Kings',\n",
       " 'Slings',\n",
       " 'springs',\n",
       " 'Mornings',\n",
       " 'commings',\n",
       " 'concernings',\n",
       " 'stockings',\n",
       " 'Sings',\n",
       " 'sings',\n",
       " 'strings',\n",
       " 'droppings',\n",
       " 'Things',\n",
       " 'wings',\n",
       " 'nothings']"
      ]
     },
     "execution_count": 10,
     "metadata": {},
     "output_type": "execute_result"
    }
   ],
   "source": [
    "list(set([w for w in hamlet if re.search('ings$', w)]))"
   ]
  },
  {
   "cell_type": "markdown",
   "metadata": {
    "deletable": true,
    "editable": true
   },
   "source": [
    "This is some nice Python code to iterate through all the words in our hamlet list, and to add those that match our regular expression to a new list. Python is great for this type of stuff!"
   ]
  },
  {
   "cell_type": "markdown",
   "metadata": {
    "deletable": true,
    "editable": true
   },
   "source": [
    "In the next example we consider a Hamlet-based crossword puzzle in which we we need to find a word that matches this pattern: \\_ \\_ m \\_ \\_ t "
   ]
  },
  {
   "cell_type": "code",
   "execution_count": 11,
   "metadata": {
    "collapsed": false,
    "deletable": true,
    "editable": true
   },
   "outputs": [
    {
     "data": {
      "text/plain": [
       "['almost',\n",
       " 'Hamlet',\n",
       " 'Almost',\n",
       " 'lament',\n",
       " 'Vnmixt',\n",
       " 'inmost',\n",
       " 'Somnet',\n",
       " 'moment',\n",
       " 'sement']"
      ]
     },
     "execution_count": 11,
     "metadata": {},
     "output_type": "execute_result"
    }
   ],
   "source": [
    " list(set([w for w in hamlet if re.search('^..m..t$', w)]))"
   ]
  },
  {
   "cell_type": "markdown",
   "metadata": {
    "deletable": true,
    "editable": true
   },
   "source": [
    "There is tonnes that you can do with regular expressions - find dates, find phone numbers, find matches for types of words, find pattrerns across multiple words .... The basic operators for definining regular expressions are as follows.\n",
    "\n",
    "Operator | Behavior\n",
    "----------|------------\n",
    ". |\tWildcard, matches any character\n",
    "^abc |\tMatches some pattern abc at the start of a string\n",
    "abc\\$ |\tMatches some pattern abc at the end of a string\n",
    "[abc] |\tMatches one of a set of characters\n",
    "[A-Z0-9] |\tMatches one of a range of characters\n",
    "ed $\\mid$ ing $\\mid$ s |\tMatches one of the specified strings (disjunction)\n",
    "* |\tZero or more of previous item, e.g. a*, [a-z]* (also known as Kleene Closure)\n",
    "+ |\tOne or more of previous item, e.g. a+, [a-z]+\n",
    "? |\tZero or one of the previous item (i.e. optional), e.g. a?, [a-z]?\n",
    "{n} |\tExactly n repeats where n is a non-negative integer\n",
    "{n,} |\tAt least n repeats\n",
    "{,n} |\tNo more than n repeats\n",
    "{m,n} |\tAt least m and no more than n repeats\n",
    "a(b $\\mid$ c)+ |\tParentheses that indicate the scope of the operators"
   ]
  },
  {
   "cell_type": "markdown",
   "metadata": {
    "deletable": true,
    "editable": true
   },
   "source": [
    "**EXERCISE:** Load the corpus of American presedential inaugural addresses, nltk.corpus.inaugural, and find all mentions of *America*, *freedom*, and *war*."
   ]
  },
  {
   "cell_type": "markdown",
   "metadata": {
    "deletable": true,
    "editable": true
   },
   "source": [
    "### Counting Vocabulary"
   ]
  },
  {
   "cell_type": "markdown",
   "metadata": {
    "deletable": true,
    "editable": true
   },
   "source": [
    "Counting vocabulary is a really important thing to do in text, and we can do it easily in Python with NLTK. First, let's get the number of words in Hamlet."
   ]
  },
  {
   "cell_type": "code",
   "execution_count": 12,
   "metadata": {
    "collapsed": false,
    "deletable": true,
    "editable": true
   },
   "outputs": [
    {
     "data": {
      "text/plain": [
       "37360"
      ]
     },
     "execution_count": 12,
     "metadata": {},
     "output_type": "execute_result"
    }
   ],
   "source": [
    "len(hamlet)"
   ]
  },
  {
   "cell_type": "markdown",
   "metadata": {
    "deletable": true,
    "editable": true
   },
   "source": [
    "Let's extract the number of unique words - converting from a Python **list** to a Python **set** does this!"
   ]
  },
  {
   "cell_type": "code",
   "execution_count": 42,
   "metadata": {
    "collapsed": false,
    "deletable": true,
    "editable": true,
    "scrolled": true
   },
   "outputs": [
    {
     "data": {
      "text/plain": [
       "5447"
      ]
     },
     "execution_count": 42,
     "metadata": {},
     "output_type": "execute_result"
    }
   ],
   "source": [
    "len(set(hamlet))"
   ]
  },
  {
   "cell_type": "markdown",
   "metadata": {
    "deletable": true,
    "editable": true
   },
   "source": [
    "**Lexical diversity** is a technique used to measure how complicated a text is. It is just the ratio of unique words to total words. Higher values indicate more complicated texts."
   ]
  },
  {
   "cell_type": "code",
   "execution_count": 14,
   "metadata": {
    "collapsed": false,
    "deletable": true,
    "editable": true,
    "scrolled": true
   },
   "outputs": [
    {
     "data": {
      "text/plain": [
       "0.14579764453961455"
      ]
     },
     "execution_count": 14,
     "metadata": {},
     "output_type": "execute_result"
    }
   ],
   "source": [
    "len(set(hamlet))/len(hamlet)"
   ]
  },
  {
   "cell_type": "markdown",
   "metadata": {
    "deletable": true,
    "editable": true
   },
   "source": [
    "**EXERCISE:** Calculate the lexical diversity of *Moby Dick* and *Alice In Wonderland*."
   ]
  },
  {
   "cell_type": "markdown",
   "metadata": {
    "deletable": true,
    "editable": true
   },
   "source": [
    "We can easily define a lexical diversity function"
   ]
  },
  {
   "cell_type": "code",
   "execution_count": 15,
   "metadata": {
    "collapsed": false,
    "deletable": true,
    "editable": true
   },
   "outputs": [
    {
     "data": {
      "text/plain": [
       "0.14579764453961455"
      ]
     },
     "execution_count": 15,
     "metadata": {},
     "output_type": "execute_result"
    }
   ],
   "source": [
    "# Define function to calcualte lexical diversity\n",
    "def lexical_diversity(text):\n",
    "    return len(set(text)) / len(text)\n",
    "\n",
    "# Use the newly defined function to claculate the lexical diversity of hamlet\n",
    "lexical_diversity(hamlet)"
   ]
  },
  {
   "cell_type": "markdown",
   "metadata": {
    "deletable": true,
    "editable": true
   },
   "source": [
    "Counting the **most frequently occuring words** in a text is one of the most common ways to analyse the meaning of a text. The NLTK makes this job very easy for us by allowing us to quickly generate a **frequency distribution** using the **FreqDist** function."
   ]
  },
  {
   "cell_type": "code",
   "execution_count": 43,
   "metadata": {
    "collapsed": false,
    "deletable": true,
    "editable": true
   },
   "outputs": [
    {
     "name": "stdout",
     "output_type": "stream",
     "text": [
      "<FreqDist with 4598 samples and 16225 outcomes>\n"
     ]
    }
   ],
   "source": [
    "# convert all words to lower case\n",
    "hamlet = [w.lower() for w in hamlet]\n",
    "\n",
    "# Remove all punctuation from word lists - note the use of regular expressions!\n",
    "hamlet = [w for w in hamlet if not (re.match(r'^\\W+$', w) != None)]\n",
    "\n",
    "# Remove all stop words from word lists\n",
    "hamlet = [w for w in hamlet if not w in nltk.corpus.stopwords.words('english')]\n",
    "\n",
    "#print hamlet\n",
    "\n",
    "# Print revised lexical diversity\n",
    "#print '{}{}'.format('Lexical diversity: ', lexical_diversity(hamlet))\n",
    "\n",
    "# Generate the frquency distribution for hamlet\n",
    "hamlet_freq_dist = nltk.FreqDist(hamlet)\n",
    "print(hamlet_freq_dist)\n"
   ]
  },
  {
   "cell_type": "code",
   "execution_count": 44,
   "metadata": {
    "collapsed": false,
    "deletable": true,
    "editable": true
   },
   "outputs": [
    {
     "name": "stdout",
     "output_type": "stream",
     "text": [
      "100\n",
      "Frequency Hamlet: 100\n",
      "tragedie: 4\n",
      "hamlet: 100\n",
      "william: 1\n",
      "shakespeare: 1\n",
      "1599: 1\n",
      "actus: 2\n",
      "primus: 1\n",
      "scoena: 1\n",
      "prima: 1\n",
      "enter: 85\n",
      "barnardo: 8\n",
      "francisco: 2\n",
      "two: 22\n",
      "centinels: 1\n",
      "fran: 8\n",
      "nay: 26\n",
      "answer: 9\n",
      "stand: 15\n",
      "vnfold: 3\n",
      "selfe: 68\n",
      "bar: 7\n"
     ]
    },
    {
     "data": {
      "image/png": "[encoded data removed]",
      "text/plain": [
       "<matplotlib.figure.Figure at 0x11f613dd8>"
      ]
     },
     "metadata": {},
     "output_type": "display_data"
    }
   ],
   "source": [
    "# Print the number of occurences of the word hamlet\n",
    "print(hamlet_freq_dist['hamlet'])\n",
    "print('{}{}'.format('Frequency Hamlet: ', hamlet_freq_dist['hamlet']))\n",
    "\n",
    "# Print the top X words\n",
    "numWords = 0\n",
    "wordLimit = 20\n",
    "for w in hamlet_freq_dist.keys():\n",
    "    print('{}{}{}'.format(w, ': ', hamlet_freq_dist[w]))\n",
    "    numWords = numWords + 1\n",
    "    if numWords > wordLimit:\n",
    "        break\n",
    "\n",
    "# Plot a nice graph of word frequencies\n",
    "hamlet_freq_dist.plot(wordLimit)\n"
   ]
  },
  {
   "cell_type": "markdown",
   "metadata": {
    "deletable": true,
    "editable": true
   },
   "source": [
    "We can also plot a word cloud from this frequency distribution (watch out for the path to the font used)."
   ]
  },
  {
   "cell_type": "code",
   "execution_count": 45,
   "metadata": {
    "collapsed": false,
    "deletable": true,
    "editable": true
   },
   "outputs": [
    {
     "data": {
      "image/png": "[encoded data removed]",
      "text/plain": [
       "<matplotlib.figure.Figure at 0x1243f9f60>"
      ]
     },
     "metadata": {},
     "output_type": "display_data"
    }
   ],
   "source": [
    "wordcloud = WordCloud(font_path='/Library/Fonts/Comic Sans MS.ttf',\n",
    "                     stopwords=STOPWORDS,\n",
    "                      background_color='black',\n",
    "                      width=1800,\n",
    "                      height=1400\n",
    "                     ).generate(str(hamlet))\n",
    "\n",
    "\n",
    "plt.imshow(wordcloud)\n",
    "plt.axis('off')\n",
    "#matplotlib.savefig('./my_twitter_wordcloud_1.png', dpi=300)\n",
    "plt.show()"
   ]
  },
  {
   "cell_type": "markdown",
   "metadata": {
    "deletable": true,
    "editable": true
   },
   "source": [
    "Nice webpage explaining how to make word clouds from your Twitter feed: http://spartanideas.msu.edu/2014/11/28/turn-your-twitter-timeline-into-a-word-cloud-using-python/#A.-Downloading-Your-Twitter-Timeline-Tweets"
   ]
  }
 ],
 "metadata": {
  "kernelspec": {
   "display_name": "Python 3",
   "language": "python",
   "name": "python3"
  },
  "language_info": {
   "codemirror_mode": {
    "name": "ipython",
    "version": 3
   },
   "file_extension": ".py",
   "mimetype": "text/x-python",
   "name": "python",
   "nbconvert_exporter": "python",
   "pygments_lexer": "ipython3",
   "version": "3.6.0"
  }
 },
 "nbformat": 4,
 "nbformat_minor": 0
}
