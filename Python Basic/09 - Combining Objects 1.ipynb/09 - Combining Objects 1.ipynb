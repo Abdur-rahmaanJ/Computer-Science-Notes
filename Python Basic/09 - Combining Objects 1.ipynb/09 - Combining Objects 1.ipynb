{
 "cells": [
  {
   "cell_type": "markdown",
   "metadata": {},
   "source": [
    "# Combining Objects in Python 1\n",
    "\n",
    "We can build more sophisticaed ibjects inPOythoin by combining simpler ones in two jkey ways - **composition** and **inheritance**."
   ]
  },
  {
   "cell_type": "markdown",
   "metadata": {},
   "source": [
    "## The Object Oriented Solution for Cards\n",
    "We define a card class, where a card is composed of **attributes** containing face value and a suit. The card class also has a **method** for printing (or showing) the card."
   ]
  },
  {
   "cell_type": "code",
   "execution_count": null,
   "metadata": {},
   "outputs": [],
   "source": [
    "# The card class\n",
    "class Card:\n",
    "\n",
    "        # A constructor called when an object of the class is instantiated.\n",
    "        def __init__(self, suit, face):\n",
    "            self.suit = suit \n",
    "            self.face = face\n",
    "\n",
    "        # A class method that prints a card\n",
    "        def show(self):\n",
    "            print(self.face + \" of \" + self.suit)\n"
   ]
  },
  {
   "cell_type": "markdown",
   "metadata": {},
   "source": [
    "Then we can create card objects, and call their methods."
   ]
  },
  {
   "cell_type": "code",
   "execution_count": null,
   "metadata": {},
   "outputs": [],
   "source": [
    "myCard1 = Card('Hearts','A')\n",
    "myCard1.show()\n",
    "myCard2 = Card('Diamonds','K')\n",
    "myCard2.show()"
   ]
  },
  {
   "cell_type": "markdown",
   "metadata": {},
   "source": [
    "We can make a deck of cards by creating a list object and adding cards to it."
   ]
  },
  {
   "cell_type": "code",
   "execution_count": null,
   "metadata": {},
   "outputs": [],
   "source": [
    "cards = list() \n",
    "for suit in ['Hearts', 'Diamonds', 'Spades', 'Clubs']:\n",
    "    for face in ['2', '3', '4', '5', '6', '7', '8', '9', '10', 'J', 'Q', 'K', 'A']:\n",
    "        cards.append(Card(suit, face))"
   ]
  },
  {
   "cell_type": "code",
   "execution_count": null,
   "metadata": {
    "scrolled": false
   },
   "outputs": [],
   "source": [
    "for c in cards:\n",
    "    c.show()"
   ]
  },
  {
   "cell_type": "markdown",
   "metadata": {},
   "source": [
    "## Composition - Combining Objcts"
   ]
  },
  {
   "cell_type": "markdown",
   "metadata": {},
   "source": [
    "Even better though we can define a deck object and fill this with cards - this is known as **composition**."
   ]
  },
  {
   "cell_type": "code",
   "execution_count": null,
   "metadata": {},
   "outputs": [],
   "source": [
    "import random \n",
    "\n",
    "# The card class\n",
    "class Deck:\n",
    "\n",
    "        # A constructor called when an object of the class is instantiated.\n",
    "        def __init__(self):\n",
    "            self.cards = list() \n",
    "            for suit in ['Hearts', 'Diamonds', 'Spades', 'Clubs']:\n",
    "                for face in ['2', '3', '4', '5', '6', '7', '8', '9', '10', 'J', 'Q', 'K', 'A']:\n",
    "                    self.cards.append(Card(suit, face))\n",
    "            \n",
    "        # A class method that prints the deck\n",
    "        def show(self):\n",
    "            for c in self.cards:\n",
    "                c.show()\n",
    "                \n",
    "        # A class method that shuffles the deck\n",
    "        def shuffle(self):\n",
    "            random.shuffle(self.cards)\n",
    "            \n",
    "        # A class method that deals a card from the deck\n",
    "        def deal(self, numCards):\n",
    "            cList = list()\n",
    "            for i in range(0, numCards):\n",
    "                \n",
    "                # Handle error conditio of empty deck\n",
    "                if(len(self.cards) == 0):\n",
    "                    break\n",
    "                \n",
    "                c = self.cards.pop()\n",
    "                cList.append(c)\n",
    "        \n",
    "            return cList\n",
    "        "
   ]
  },
  {
   "cell_type": "code",
   "execution_count": null,
   "metadata": {
    "scrolled": false
   },
   "outputs": [],
   "source": [
    "myDeck = Deck()\n",
    "myDeck.show()\n",
    "c = myDeck.deal(5)\n",
    "c.show()"
   ]
  },
  {
   "cell_type": "code",
   "execution_count": null,
   "metadata": {
    "scrolled": true
   },
   "outputs": [],
   "source": [
    "myDeck.shuffle()\n",
    "myDeck.show()"
   ]
  },
  {
   "cell_type": "code",
   "execution_count": null,
   "metadata": {},
   "outputs": [],
   "source": [
    "c = myDeck.deal()\n",
    "c.show()"
   ]
  },
  {
   "cell_type": "code",
   "execution_count": null,
   "metadata": {
    "scrolled": true
   },
   "outputs": [],
   "source": [
    "myDeck.show()"
   ]
  },
  {
   "cell_type": "code",
   "execution_count": null,
   "metadata": {},
   "outputs": [],
   "source": [
    "c = myDeck.deal()\n",
    "c.show()"
   ]
  },
  {
   "cell_type": "code",
   "execution_count": null,
   "metadata": {},
   "outputs": [],
   "source": [
    "myDeck.show()"
   ]
  },
  {
   "cell_type": "code",
   "execution_count": null,
   "metadata": {},
   "outputs": [],
   "source": [
    "myDeck.shuffle()\n",
    "\n",
    "for i in range(0, 10):\n",
    "    card = myDeck.deal()\n",
    "    card.show()"
   ]
  },
  {
   "cell_type": "code",
   "execution_count": null,
   "metadata": {},
   "outputs": [],
   "source": [
    "for i in range(0, 30):\n",
    "    myDeck.deal()\n",
    "    \n",
    "myDeck.show()"
   ]
  },
  {
   "cell_type": "code",
   "execution_count": null,
   "metadata": {
    "collapsed": true
   },
   "outputs": [],
   "source": []
  }
 ],
 "metadata": {
  "anaconda-cloud": {},
  "kernelspec": {
   "display_name": "Python 3",
   "language": "python",
   "name": "python3"
  },
  "language_info": {
   "codemirror_mode": {
    "name": "ipython",
    "version": 3
   },
   "file_extension": ".py",
   "mimetype": "text/x-python",
   "name": "python",
   "nbconvert_exporter": "python",
   "pygments_lexer": "ipython3",
   "version": "3.6.0"
  }
 },
 "nbformat": 4,
 "nbformat_minor": 1
}
