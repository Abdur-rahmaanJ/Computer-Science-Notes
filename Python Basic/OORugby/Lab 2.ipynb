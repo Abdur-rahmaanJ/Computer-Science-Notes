{
 "cells": [
  {
   "cell_type": "markdown",
   "metadata": {},
   "source": [
    "# COMP 10020 Introduction to Programming 2 \n",
    "## Lab 2 - OO Rugby Tournaments"
   ]
  },
  {
   "cell_type": "markdown",
   "metadata": {},
   "source": [
    "In this lab you will be tasked with exercising your key Python programming skills. The **Pick & Go Test Match Results Database** (http://www.lassen.co.nz/pickandgo.php) contains the results of every international rugby match played since 1875. The following code block reads data from a data file (*'RugbyResultsData.csv'*) scraped from Pick & Go and stores  this in a list of dictionary objects, each of which contains the detaisl of a match. The details stored about each match are stored in a dictionary object with the following keys:\n",
    "\n",
    "* **Date**: The date on which the match was played \n",
    "* **Day**: The day of the week on which the match was played \n",
    "* **Year**: The year in which the match was played\n",
    "* **Team_1**: The home team (three letter country code, e.g. IRL = Ireland, NZL = New Zealand)\n",
    "* **Team_2**: The away team (three letter country code, e.g. IRL = Ireland, NZL = New Zealand)\n",
    "* **Team_1_Score**: The score achieved by the home team.\t\n",
    "* **Team_2_Score**: The score achieved by the away team.\t\n",
    "* **Team_1_Tries**: The number of tries scored by the home team.\n",
    "* **Team_2_Tries**: The number of tries scored by the away team.\n",
    "* **Neutral**: Was the match played at a neutral venue?"
   ]
  },
  {
   "cell_type": "markdown",
   "metadata": {},
   "source": [
    "### Question 1"
   ]
  },
  {
   "cell_type": "markdown",
   "metadata": {},
   "source": [
    "Can you write a Python class, called **Match**, to store the details of a rugby game? "
   ]
  },
  {
   "cell_type": "code",
   "execution_count": 1,
   "metadata": {
    "collapsed": true
   },
   "outputs": [],
   "source": [
    "# Write code here\n"
   ]
  },
  {
   "cell_type": "markdown",
   "metadata": {},
   "source": [
    "### Question 2"
   ]
  },
  {
   "cell_type": "markdown",
   "metadata": {},
   "source": [
    "Can you adjust the code written in the last lab to read the data from *'RugbyResultsData.csv'* into a list of **Match** objects?"
   ]
  },
  {
   "cell_type": "code",
   "execution_count": 3,
   "metadata": {},
   "outputs": [
    {
     "name": "stdout",
     "output_type": "stream",
     "text": [
      "3234 matches loaded\n"
     ]
    }
   ],
   "source": [
    "# Adjust this code to create a list of Match objects\n",
    "\n",
    "matches = list()\n",
    "count = 0\n",
    "with open('RugbyResultsData.csv') as f:\n",
    "    for line in f:\n",
    "        words = line.split(',')\n",
    "        \n",
    "        match = # Adjust this line to create a new Match object\n",
    "        \n",
    "        matches.append(match)\n",
    "        count = count + 1\n",
    "    \n",
    "print(str(count) + \" matches loaded\")"
   ]
  },
  {
   "cell_type": "markdown",
   "metadata": {},
   "source": [
    "### Question 3"
   ]
  },
  {
   "cell_type": "markdown",
   "metadata": {},
   "source": [
    "Add a *print* method to your **Match** class to print the details of a match (make it look nice!). Iterate through the list of matchs and print the details of each."
   ]
  },
  {
   "cell_type": "code",
   "execution_count": 2,
   "metadata": {},
   "outputs": [],
   "source": [
    "# Write to iterate through the list of match objects and print the details of each\n",
    "\n"
   ]
  },
  {
   "cell_type": "markdown",
   "metadata": {},
   "source": [
    "### Question 4"
   ]
  },
  {
   "cell_type": "markdown",
   "metadata": {},
   "source": [
    "Can you write a **Tournament** class to represent the 6 nations rugby tournament. This class should be able to do three things:\n",
    "\n",
    "* Store the details of all the matchs in the tournament\n",
    "* Add a match to the tournament\n",
    "* Calculate the points achieved by each team in the tournament\n",
    "* Print a table showing the standings for each team after the games in the tournament. To calculate the points each team receives 2 points for a win, 1 point for a draw, and no points for a loss."
   ]
  },
  {
   "cell_type": "code",
   "execution_count": 3,
   "metadata": {},
   "outputs": [],
   "source": [
    "# Write code here\n"
   ]
  },
  {
   "cell_type": "markdown",
   "metadata": {},
   "source": [
    "### Question 5"
   ]
  },
  {
   "cell_type": "markdown",
   "metadata": {},
   "source": [
    "The file *2016_6Nations_Results.csv* contains the results of each match from the 2016 Rugby 6 Nations tournament. Load the data from this file, create a **Tournament** object that stores all of the matches. "
   ]
  },
  {
   "cell_type": "code",
   "execution_count": 4,
   "metadata": {},
   "outputs": [],
   "source": [
    "# Write code here\n"
   ]
  },
  {
   "cell_type": "markdown",
   "metadata": {},
   "source": [
    "### Question 6"
   ]
  },
  {
   "cell_type": "markdown",
   "metadata": {},
   "source": [
    "Print the final standings table for the tournament."
   ]
  },
  {
   "cell_type": "code",
   "execution_count": 5,
   "metadata": {},
   "outputs": [],
   "source": [
    "# Write code here\n"
   ]
  },
  {
   "cell_type": "code",
   "execution_count": null,
   "metadata": {
    "collapsed": true
   },
   "outputs": [],
   "source": []
  }
 ],
 "metadata": {
  "anaconda-cloud": {},
  "kernelspec": {
   "display_name": "Python 3",
   "language": "python",
   "name": "python3"
  },
  "language_info": {
   "codemirror_mode": {
    "name": "ipython",
    "version": 3
   },
   "file_extension": ".py",
   "mimetype": "text/x-python",
   "name": "python",
   "nbconvert_exporter": "python",
   "pygments_lexer": "ipython3",
   "version": "3.6.0"
  }
 },
 "nbformat": 4,
 "nbformat_minor": 1
}
